{
 "cells": [
  {
   "cell_type": "markdown",
   "metadata": {},
   "source": [
    " ## A/B test -  Analysis\n",
    " As an analyst at a big online store ,  a list of hypotheses that may help boost revenue has been compiled  \n",
    " together with the marketing department .We need to prioritize these hypotheses, launch an A/B test,  \n",
    " and analyze the results.\n"
   ]
  },
  {
   "cell_type": "markdown",
   "metadata": {},
   "source": [
    "### Steps:\n",
    "1.Prioritizing Hypotheses  \n",
    "2.A/B test analysis"
   ]
  },
  {
   "cell_type": "code",
   "execution_count": 76,
   "metadata": {},
   "outputs": [],
   "source": [
    "#Import all the necessary packages\n",
    "import pandas as pd\n",
    "from matplotlib import pyplot  as plt\n",
    "import numpy as np\n",
    "from scipy import stats  as st\n",
    "import datetime as dt\n",
    "import sys"
   ]
  },
  {
   "cell_type": "code",
   "execution_count": 77,
   "metadata": {},
   "outputs": [],
   "source": [
    "#Hypothesis dataset\n",
    "hypothesis_df = pd.read_csv('hypothesis_us.csv')"
   ]
  },
  {
   "cell_type": "code",
   "execution_count": 78,
   "metadata": {},
   "outputs": [],
   "source": [
    "#orders dataset\n",
    "orders_df=pd.read_csv('orders_us.csv')"
   ]
  },
  {
   "cell_type": "code",
   "execution_count": 79,
   "metadata": {},
   "outputs": [],
   "source": [
    "#visits dataset\n",
    "visits_df=pd.read_csv('visits_us.csv')"
   ]
  },
  {
   "cell_type": "code",
   "execution_count": 80,
   "metadata": {},
   "outputs": [
    {
     "name": "stdout",
     "output_type": "stream",
     "text": [
      "<class 'pandas.core.frame.DataFrame'>\n",
      "RangeIndex: 9 entries, 0 to 8\n",
      "Data columns (total 6 columns):\n",
      " #   Column      Non-Null Count  Dtype \n",
      "---  ------      --------------  ----- \n",
      " 0   Unnamed: 0  9 non-null      int64 \n",
      " 1   Hypothesis  9 non-null      object\n",
      " 2   Reach       9 non-null      int64 \n",
      " 3   Impact      9 non-null      int64 \n",
      " 4   Confidence  9 non-null      int64 \n",
      " 5   Effort      9 non-null      int64 \n",
      "dtypes: int64(5), object(1)\n",
      "memory usage: 560.0+ bytes\n"
     ]
    }
   ],
   "source": [
    "hypothesis_df.info()"
   ]
  },
  {
   "cell_type": "markdown",
   "metadata": {},
   "source": [
    "***Data Preprocessing***"
   ]
  },
  {
   "cell_type": "code",
   "execution_count": 81,
   "metadata": {},
   "outputs": [],
   "source": [
    "#renaming columns for uniformity\n",
    "hypothesis_df=hypothesis_df.rename(columns={'Hypothesis':'hypothesis',\n",
    "                                             'Reach':'reach',\n",
    "                                             'Impact':'impact',\n",
    "                                             'Confidence':'confidence',\n",
    "                                             'Effort':'effort'})"
   ]
  },
  {
   "cell_type": "code",
   "execution_count": 82,
   "metadata": {},
   "outputs": [
    {
     "data": {
      "text/plain": [
       "Unnamed: 0                                                                              0\n",
       "hypothesis    Add two new channels for attracting traffic. This will bring 30% more users\n",
       "reach                                                                                   3\n",
       "impact                                                                                 10\n",
       "confidence                                                                              8\n",
       "effort                                                                                  6\n",
       "Name: 0, dtype: object"
      ]
     },
     "execution_count": 82,
     "metadata": {},
     "output_type": "execute_result"
    }
   ],
   "source": [
    "hypothesis_df.iloc[0]\n"
   ]
  },
  {
   "cell_type": "code",
   "execution_count": 83,
   "metadata": {},
   "outputs": [
    {
     "data": {
      "text/plain": [
       "200"
      ]
     },
     "execution_count": 83,
     "metadata": {},
     "output_type": "execute_result"
    }
   ],
   "source": [
    "pd.options.display.max_colwidth"
   ]
  },
  {
   "cell_type": "code",
   "execution_count": 84,
   "metadata": {},
   "outputs": [],
   "source": [
    "pd.options.display.max_colwidth=200"
   ]
  },
  {
   "cell_type": "code",
   "execution_count": 85,
   "metadata": {
    "scrolled": true
   },
   "outputs": [
    {
     "data": {
      "text/html": [
       "<div>\n",
       "<style scoped>\n",
       "    .dataframe tbody tr th:only-of-type {\n",
       "        vertical-align: middle;\n",
       "    }\n",
       "\n",
       "    .dataframe tbody tr th {\n",
       "        vertical-align: top;\n",
       "    }\n",
       "\n",
       "    .dataframe thead th {\n",
       "        text-align: right;\n",
       "    }\n",
       "</style>\n",
       "<table border=\"1\" class=\"dataframe\">\n",
       "  <thead>\n",
       "    <tr style=\"text-align: right;\">\n",
       "      <th></th>\n",
       "      <th>Unnamed: 0</th>\n",
       "      <th>hypothesis</th>\n",
       "      <th>reach</th>\n",
       "      <th>impact</th>\n",
       "      <th>confidence</th>\n",
       "      <th>effort</th>\n",
       "    </tr>\n",
       "  </thead>\n",
       "  <tbody>\n",
       "    <tr>\n",
       "      <th>0</th>\n",
       "      <td>0</td>\n",
       "      <td>Add two new channels for attracting traffic. This will bring 30% more users</td>\n",
       "      <td>3</td>\n",
       "      <td>10</td>\n",
       "      <td>8</td>\n",
       "      <td>6</td>\n",
       "    </tr>\n",
       "    <tr>\n",
       "      <th>1</th>\n",
       "      <td>1</td>\n",
       "      <td>Launch your own delivery service. This will shorten delivery time</td>\n",
       "      <td>2</td>\n",
       "      <td>5</td>\n",
       "      <td>4</td>\n",
       "      <td>10</td>\n",
       "    </tr>\n",
       "    <tr>\n",
       "      <th>2</th>\n",
       "      <td>2</td>\n",
       "      <td>Add product recommendation blocks to the store's site. This will increase conversion and average purchase size</td>\n",
       "      <td>8</td>\n",
       "      <td>3</td>\n",
       "      <td>7</td>\n",
       "      <td>3</td>\n",
       "    </tr>\n",
       "    <tr>\n",
       "      <th>3</th>\n",
       "      <td>3</td>\n",
       "      <td>Change the category structure. This will increase conversion since users will find the products they want more quickly</td>\n",
       "      <td>8</td>\n",
       "      <td>3</td>\n",
       "      <td>3</td>\n",
       "      <td>8</td>\n",
       "    </tr>\n",
       "    <tr>\n",
       "      <th>4</th>\n",
       "      <td>4</td>\n",
       "      <td>Change the background color on the main page. This will increase user engagement</td>\n",
       "      <td>3</td>\n",
       "      <td>1</td>\n",
       "      <td>1</td>\n",
       "      <td>1</td>\n",
       "    </tr>\n",
       "    <tr>\n",
       "      <th>5</th>\n",
       "      <td>5</td>\n",
       "      <td>Add a customer review page. This will increase the number of orders</td>\n",
       "      <td>3</td>\n",
       "      <td>2</td>\n",
       "      <td>2</td>\n",
       "      <td>3</td>\n",
       "    </tr>\n",
       "    <tr>\n",
       "      <th>6</th>\n",
       "      <td>6</td>\n",
       "      <td>Show banners with current offers and sales on the main page. This will boost conversion</td>\n",
       "      <td>5</td>\n",
       "      <td>3</td>\n",
       "      <td>8</td>\n",
       "      <td>3</td>\n",
       "    </tr>\n",
       "    <tr>\n",
       "      <th>7</th>\n",
       "      <td>7</td>\n",
       "      <td>Add a subscription form to all the main pages. This will help you compile a mailing list</td>\n",
       "      <td>10</td>\n",
       "      <td>7</td>\n",
       "      <td>8</td>\n",
       "      <td>5</td>\n",
       "    </tr>\n",
       "    <tr>\n",
       "      <th>8</th>\n",
       "      <td>8</td>\n",
       "      <td>Launch a promotion that gives users discounts on their birthdays</td>\n",
       "      <td>1</td>\n",
       "      <td>9</td>\n",
       "      <td>9</td>\n",
       "      <td>5</td>\n",
       "    </tr>\n",
       "  </tbody>\n",
       "</table>\n",
       "</div>"
      ],
      "text/plain": [
       "   Unnamed: 0  \\\n",
       "0           0   \n",
       "1           1   \n",
       "2           2   \n",
       "3           3   \n",
       "4           4   \n",
       "5           5   \n",
       "6           6   \n",
       "7           7   \n",
       "8           8   \n",
       "\n",
       "                                                                                                               hypothesis  \\\n",
       "0                                             Add two new channels for attracting traffic. This will bring 30% more users   \n",
       "1                                                       Launch your own delivery service. This will shorten delivery time   \n",
       "2          Add product recommendation blocks to the store's site. This will increase conversion and average purchase size   \n",
       "3  Change the category structure. This will increase conversion since users will find the products they want more quickly   \n",
       "4                                        Change the background color on the main page. This will increase user engagement   \n",
       "5                                                     Add a customer review page. This will increase the number of orders   \n",
       "6                                 Show banners with current offers and sales on the main page. This will boost conversion   \n",
       "7                                Add a subscription form to all the main pages. This will help you compile a mailing list   \n",
       "8                                                        Launch a promotion that gives users discounts on their birthdays   \n",
       "\n",
       "   reach  impact  confidence  effort  \n",
       "0      3      10           8       6  \n",
       "1      2       5           4      10  \n",
       "2      8       3           7       3  \n",
       "3      8       3           3       8  \n",
       "4      3       1           1       1  \n",
       "5      3       2           2       3  \n",
       "6      5       3           8       3  \n",
       "7     10       7           8       5  \n",
       "8      1       9           9       5  "
      ]
     },
     "execution_count": 85,
     "metadata": {},
     "output_type": "execute_result"
    }
   ],
   "source": [
    "hypothesis_df"
   ]
  },
  {
   "cell_type": "code",
   "execution_count": 86,
   "metadata": {},
   "outputs": [
    {
     "name": "stdout",
     "output_type": "stream",
     "text": [
      "<class 'pandas.core.frame.DataFrame'>\n",
      "RangeIndex: 1197 entries, 0 to 1196\n",
      "Data columns (total 6 columns):\n",
      " #   Column         Non-Null Count  Dtype  \n",
      "---  ------         --------------  -----  \n",
      " 0   Unnamed: 0     1197 non-null   int64  \n",
      " 1   transactionId  1197 non-null   int64  \n",
      " 2   visitorId      1197 non-null   int64  \n",
      " 3   date           1197 non-null   object \n",
      " 4   revenue        1197 non-null   float64\n",
      " 5   group          1197 non-null   object \n",
      "dtypes: float64(1), int64(3), object(2)\n",
      "memory usage: 56.2+ KB\n"
     ]
    }
   ],
   "source": [
    "orders_df.info()"
   ]
  },
  {
   "cell_type": "markdown",
   "metadata": {},
   "source": [
    "We see from info that there is no missing values in orders_df."
   ]
  },
  {
   "cell_type": "code",
   "execution_count": 87,
   "metadata": {},
   "outputs": [
    {
     "data": {
      "text/html": [
       "<div>\n",
       "<style scoped>\n",
       "    .dataframe tbody tr th:only-of-type {\n",
       "        vertical-align: middle;\n",
       "    }\n",
       "\n",
       "    .dataframe tbody tr th {\n",
       "        vertical-align: top;\n",
       "    }\n",
       "\n",
       "    .dataframe thead th {\n",
       "        text-align: right;\n",
       "    }\n",
       "</style>\n",
       "<table border=\"1\" class=\"dataframe\">\n",
       "  <thead>\n",
       "    <tr style=\"text-align: right;\">\n",
       "      <th></th>\n",
       "      <th>Unnamed: 0</th>\n",
       "      <th>transactionId</th>\n",
       "      <th>visitorId</th>\n",
       "      <th>date</th>\n",
       "      <th>revenue</th>\n",
       "      <th>group</th>\n",
       "    </tr>\n",
       "  </thead>\n",
       "  <tbody>\n",
       "    <tr>\n",
       "      <th>0</th>\n",
       "      <td>0</td>\n",
       "      <td>3667963787</td>\n",
       "      <td>3312258926</td>\n",
       "      <td>2019-08-15</td>\n",
       "      <td>30.4</td>\n",
       "      <td>B</td>\n",
       "    </tr>\n",
       "    <tr>\n",
       "      <th>1</th>\n",
       "      <td>1</td>\n",
       "      <td>2804400009</td>\n",
       "      <td>3642806036</td>\n",
       "      <td>2019-08-15</td>\n",
       "      <td>15.2</td>\n",
       "      <td>B</td>\n",
       "    </tr>\n",
       "    <tr>\n",
       "      <th>2</th>\n",
       "      <td>2</td>\n",
       "      <td>2961555356</td>\n",
       "      <td>4069496402</td>\n",
       "      <td>2019-08-15</td>\n",
       "      <td>10.2</td>\n",
       "      <td>A</td>\n",
       "    </tr>\n",
       "    <tr>\n",
       "      <th>3</th>\n",
       "      <td>3</td>\n",
       "      <td>3797467345</td>\n",
       "      <td>1196621759</td>\n",
       "      <td>2019-08-15</td>\n",
       "      <td>155.1</td>\n",
       "      <td>B</td>\n",
       "    </tr>\n",
       "    <tr>\n",
       "      <th>4</th>\n",
       "      <td>4</td>\n",
       "      <td>2282983706</td>\n",
       "      <td>2322279887</td>\n",
       "      <td>2019-08-15</td>\n",
       "      <td>40.5</td>\n",
       "      <td>B</td>\n",
       "    </tr>\n",
       "    <tr>\n",
       "      <th>5</th>\n",
       "      <td>5</td>\n",
       "      <td>182168103</td>\n",
       "      <td>935554773</td>\n",
       "      <td>2019-08-15</td>\n",
       "      <td>35.0</td>\n",
       "      <td>B</td>\n",
       "    </tr>\n",
       "    <tr>\n",
       "      <th>6</th>\n",
       "      <td>6</td>\n",
       "      <td>398296753</td>\n",
       "      <td>2900797465</td>\n",
       "      <td>2019-08-15</td>\n",
       "      <td>30.6</td>\n",
       "      <td>B</td>\n",
       "    </tr>\n",
       "    <tr>\n",
       "      <th>7</th>\n",
       "      <td>7</td>\n",
       "      <td>2626614568</td>\n",
       "      <td>78758296</td>\n",
       "      <td>2019-08-15</td>\n",
       "      <td>20.1</td>\n",
       "      <td>A</td>\n",
       "    </tr>\n",
       "    <tr>\n",
       "      <th>8</th>\n",
       "      <td>8</td>\n",
       "      <td>1576988021</td>\n",
       "      <td>295230930</td>\n",
       "      <td>2019-08-15</td>\n",
       "      <td>215.9</td>\n",
       "      <td>A</td>\n",
       "    </tr>\n",
       "    <tr>\n",
       "      <th>9</th>\n",
       "      <td>9</td>\n",
       "      <td>1506739906</td>\n",
       "      <td>1882260405</td>\n",
       "      <td>2019-08-15</td>\n",
       "      <td>30.5</td>\n",
       "      <td>B</td>\n",
       "    </tr>\n",
       "  </tbody>\n",
       "</table>\n",
       "</div>"
      ],
      "text/plain": [
       "   Unnamed: 0  transactionId   visitorId        date  revenue group\n",
       "0           0     3667963787  3312258926  2019-08-15     30.4     B\n",
       "1           1     2804400009  3642806036  2019-08-15     15.2     B\n",
       "2           2     2961555356  4069496402  2019-08-15     10.2     A\n",
       "3           3     3797467345  1196621759  2019-08-15    155.1     B\n",
       "4           4     2282983706  2322279887  2019-08-15     40.5     B\n",
       "5           5      182168103   935554773  2019-08-15     35.0     B\n",
       "6           6      398296753  2900797465  2019-08-15     30.6     B\n",
       "7           7     2626614568    78758296  2019-08-15     20.1     A\n",
       "8           8     1576988021   295230930  2019-08-15    215.9     A\n",
       "9           9     1506739906  1882260405  2019-08-15     30.5     B"
      ]
     },
     "execution_count": 87,
     "metadata": {},
     "output_type": "execute_result"
    }
   ],
   "source": [
    "orders_df.head(10)"
   ]
  },
  {
   "cell_type": "code",
   "execution_count": 88,
   "metadata": {},
   "outputs": [],
   "source": [
    "#group is typed to category\n",
    "orders_df['group']=orders_df['group'].astype('category')"
   ]
  },
  {
   "cell_type": "code",
   "execution_count": 89,
   "metadata": {},
   "outputs": [],
   "source": [
    "#date is typed to datetime\n",
    "orders_df['date'] = orders_df['date'].map(\n",
    "    lambda x: dt.datetime.strptime(x, '%Y-%m-%d'))"
   ]
  },
  {
   "cell_type": "code",
   "execution_count": 90,
   "metadata": {},
   "outputs": [
    {
     "data": {
      "text/html": [
       "<div>\n",
       "<style scoped>\n",
       "    .dataframe tbody tr th:only-of-type {\n",
       "        vertical-align: middle;\n",
       "    }\n",
       "\n",
       "    .dataframe tbody tr th {\n",
       "        vertical-align: top;\n",
       "    }\n",
       "\n",
       "    .dataframe thead th {\n",
       "        text-align: right;\n",
       "    }\n",
       "</style>\n",
       "<table border=\"1\" class=\"dataframe\">\n",
       "  <thead>\n",
       "    <tr style=\"text-align: right;\">\n",
       "      <th></th>\n",
       "      <th>Unnamed: 0</th>\n",
       "      <th>transactionId</th>\n",
       "      <th>visitorId</th>\n",
       "      <th>date</th>\n",
       "      <th>revenue</th>\n",
       "      <th>group</th>\n",
       "    </tr>\n",
       "  </thead>\n",
       "  <tbody>\n",
       "    <tr>\n",
       "      <th>0</th>\n",
       "      <td>0</td>\n",
       "      <td>3667963787</td>\n",
       "      <td>3312258926</td>\n",
       "      <td>2019-08-15</td>\n",
       "      <td>30.4</td>\n",
       "      <td>B</td>\n",
       "    </tr>\n",
       "    <tr>\n",
       "      <th>1</th>\n",
       "      <td>1</td>\n",
       "      <td>2804400009</td>\n",
       "      <td>3642806036</td>\n",
       "      <td>2019-08-15</td>\n",
       "      <td>15.2</td>\n",
       "      <td>B</td>\n",
       "    </tr>\n",
       "    <tr>\n",
       "      <th>2</th>\n",
       "      <td>2</td>\n",
       "      <td>2961555356</td>\n",
       "      <td>4069496402</td>\n",
       "      <td>2019-08-15</td>\n",
       "      <td>10.2</td>\n",
       "      <td>A</td>\n",
       "    </tr>\n",
       "    <tr>\n",
       "      <th>3</th>\n",
       "      <td>3</td>\n",
       "      <td>3797467345</td>\n",
       "      <td>1196621759</td>\n",
       "      <td>2019-08-15</td>\n",
       "      <td>155.1</td>\n",
       "      <td>B</td>\n",
       "    </tr>\n",
       "    <tr>\n",
       "      <th>4</th>\n",
       "      <td>4</td>\n",
       "      <td>2282983706</td>\n",
       "      <td>2322279887</td>\n",
       "      <td>2019-08-15</td>\n",
       "      <td>40.5</td>\n",
       "      <td>B</td>\n",
       "    </tr>\n",
       "    <tr>\n",
       "      <th>5</th>\n",
       "      <td>5</td>\n",
       "      <td>182168103</td>\n",
       "      <td>935554773</td>\n",
       "      <td>2019-08-15</td>\n",
       "      <td>35.0</td>\n",
       "      <td>B</td>\n",
       "    </tr>\n",
       "    <tr>\n",
       "      <th>6</th>\n",
       "      <td>6</td>\n",
       "      <td>398296753</td>\n",
       "      <td>2900797465</td>\n",
       "      <td>2019-08-15</td>\n",
       "      <td>30.6</td>\n",
       "      <td>B</td>\n",
       "    </tr>\n",
       "    <tr>\n",
       "      <th>7</th>\n",
       "      <td>7</td>\n",
       "      <td>2626614568</td>\n",
       "      <td>78758296</td>\n",
       "      <td>2019-08-15</td>\n",
       "      <td>20.1</td>\n",
       "      <td>A</td>\n",
       "    </tr>\n",
       "    <tr>\n",
       "      <th>8</th>\n",
       "      <td>8</td>\n",
       "      <td>1576988021</td>\n",
       "      <td>295230930</td>\n",
       "      <td>2019-08-15</td>\n",
       "      <td>215.9</td>\n",
       "      <td>A</td>\n",
       "    </tr>\n",
       "    <tr>\n",
       "      <th>9</th>\n",
       "      <td>9</td>\n",
       "      <td>1506739906</td>\n",
       "      <td>1882260405</td>\n",
       "      <td>2019-08-15</td>\n",
       "      <td>30.5</td>\n",
       "      <td>B</td>\n",
       "    </tr>\n",
       "  </tbody>\n",
       "</table>\n",
       "</div>"
      ],
      "text/plain": [
       "   Unnamed: 0  transactionId   visitorId       date  revenue group\n",
       "0           0     3667963787  3312258926 2019-08-15     30.4     B\n",
       "1           1     2804400009  3642806036 2019-08-15     15.2     B\n",
       "2           2     2961555356  4069496402 2019-08-15     10.2     A\n",
       "3           3     3797467345  1196621759 2019-08-15    155.1     B\n",
       "4           4     2282983706  2322279887 2019-08-15     40.5     B\n",
       "5           5      182168103   935554773 2019-08-15     35.0     B\n",
       "6           6      398296753  2900797465 2019-08-15     30.6     B\n",
       "7           7     2626614568    78758296 2019-08-15     20.1     A\n",
       "8           8     1576988021   295230930 2019-08-15    215.9     A\n",
       "9           9     1506739906  1882260405 2019-08-15     30.5     B"
      ]
     },
     "execution_count": 90,
     "metadata": {},
     "output_type": "execute_result"
    }
   ],
   "source": [
    "orders_df.head(10)"
   ]
  },
  {
   "cell_type": "code",
   "execution_count": 91,
   "metadata": {},
   "outputs": [
    {
     "data": {
      "text/plain": [
       "0"
      ]
     },
     "execution_count": 91,
     "metadata": {},
     "output_type": "execute_result"
    }
   ],
   "source": [
    "#check for duplicates\n",
    "orders_df.duplicated().sum()"
   ]
  },
  {
   "cell_type": "code",
   "execution_count": 92,
   "metadata": {},
   "outputs": [
    {
     "name": "stdout",
     "output_type": "stream",
     "text": [
      "<class 'pandas.core.frame.DataFrame'>\n",
      "RangeIndex: 62 entries, 0 to 61\n",
      "Data columns (total 4 columns):\n",
      " #   Column      Non-Null Count  Dtype \n",
      "---  ------      --------------  ----- \n",
      " 0   Unnamed: 0  62 non-null     int64 \n",
      " 1   date        62 non-null     object\n",
      " 2   group       62 non-null     object\n",
      " 3   visits      62 non-null     int64 \n",
      "dtypes: int64(2), object(2)\n",
      "memory usage: 2.1+ KB\n"
     ]
    }
   ],
   "source": [
    "visits_df.info()"
   ]
  },
  {
   "cell_type": "markdown",
   "metadata": {},
   "source": [
    "We see from info that there is no missing values in visits_df."
   ]
  },
  {
   "cell_type": "code",
   "execution_count": 93,
   "metadata": {},
   "outputs": [
    {
     "data": {
      "text/html": [
       "<div>\n",
       "<style scoped>\n",
       "    .dataframe tbody tr th:only-of-type {\n",
       "        vertical-align: middle;\n",
       "    }\n",
       "\n",
       "    .dataframe tbody tr th {\n",
       "        vertical-align: top;\n",
       "    }\n",
       "\n",
       "    .dataframe thead th {\n",
       "        text-align: right;\n",
       "    }\n",
       "</style>\n",
       "<table border=\"1\" class=\"dataframe\">\n",
       "  <thead>\n",
       "    <tr style=\"text-align: right;\">\n",
       "      <th></th>\n",
       "      <th>Unnamed: 0</th>\n",
       "      <th>date</th>\n",
       "      <th>group</th>\n",
       "      <th>visits</th>\n",
       "    </tr>\n",
       "  </thead>\n",
       "  <tbody>\n",
       "    <tr>\n",
       "      <th>0</th>\n",
       "      <td>0</td>\n",
       "      <td>2019-08-01</td>\n",
       "      <td>A</td>\n",
       "      <td>719</td>\n",
       "    </tr>\n",
       "    <tr>\n",
       "      <th>1</th>\n",
       "      <td>1</td>\n",
       "      <td>2019-08-02</td>\n",
       "      <td>A</td>\n",
       "      <td>619</td>\n",
       "    </tr>\n",
       "    <tr>\n",
       "      <th>2</th>\n",
       "      <td>2</td>\n",
       "      <td>2019-08-03</td>\n",
       "      <td>A</td>\n",
       "      <td>507</td>\n",
       "    </tr>\n",
       "    <tr>\n",
       "      <th>3</th>\n",
       "      <td>3</td>\n",
       "      <td>2019-08-04</td>\n",
       "      <td>A</td>\n",
       "      <td>717</td>\n",
       "    </tr>\n",
       "    <tr>\n",
       "      <th>4</th>\n",
       "      <td>4</td>\n",
       "      <td>2019-08-05</td>\n",
       "      <td>A</td>\n",
       "      <td>756</td>\n",
       "    </tr>\n",
       "    <tr>\n",
       "      <th>...</th>\n",
       "      <td>...</td>\n",
       "      <td>...</td>\n",
       "      <td>...</td>\n",
       "      <td>...</td>\n",
       "    </tr>\n",
       "    <tr>\n",
       "      <th>57</th>\n",
       "      <td>57</td>\n",
       "      <td>2019-08-27</td>\n",
       "      <td>B</td>\n",
       "      <td>720</td>\n",
       "    </tr>\n",
       "    <tr>\n",
       "      <th>58</th>\n",
       "      <td>58</td>\n",
       "      <td>2019-08-28</td>\n",
       "      <td>B</td>\n",
       "      <td>654</td>\n",
       "    </tr>\n",
       "    <tr>\n",
       "      <th>59</th>\n",
       "      <td>59</td>\n",
       "      <td>2019-08-29</td>\n",
       "      <td>B</td>\n",
       "      <td>531</td>\n",
       "    </tr>\n",
       "    <tr>\n",
       "      <th>60</th>\n",
       "      <td>60</td>\n",
       "      <td>2019-08-30</td>\n",
       "      <td>B</td>\n",
       "      <td>490</td>\n",
       "    </tr>\n",
       "    <tr>\n",
       "      <th>61</th>\n",
       "      <td>61</td>\n",
       "      <td>2019-08-31</td>\n",
       "      <td>B</td>\n",
       "      <td>718</td>\n",
       "    </tr>\n",
       "  </tbody>\n",
       "</table>\n",
       "<p>62 rows × 4 columns</p>\n",
       "</div>"
      ],
      "text/plain": [
       "    Unnamed: 0        date group  visits\n",
       "0            0  2019-08-01     A     719\n",
       "1            1  2019-08-02     A     619\n",
       "2            2  2019-08-03     A     507\n",
       "3            3  2019-08-04     A     717\n",
       "4            4  2019-08-05     A     756\n",
       "..         ...         ...   ...     ...\n",
       "57          57  2019-08-27     B     720\n",
       "58          58  2019-08-28     B     654\n",
       "59          59  2019-08-29     B     531\n",
       "60          60  2019-08-30     B     490\n",
       "61          61  2019-08-31     B     718\n",
       "\n",
       "[62 rows x 4 columns]"
      ]
     },
     "execution_count": 93,
     "metadata": {},
     "output_type": "execute_result"
    }
   ],
   "source": [
    "visits_df"
   ]
  },
  {
   "cell_type": "code",
   "execution_count": 94,
   "metadata": {},
   "outputs": [],
   "source": [
    "#group expressed as category\n",
    "visits_df['group']=visits_df['group'].astype('category')"
   ]
  },
  {
   "cell_type": "code",
   "execution_count": 95,
   "metadata": {},
   "outputs": [],
   "source": [
    "#date expressed as datetime\n",
    "visits_df['date'] = visits_df['date'].map(\n",
    "    lambda x: dt.datetime.strptime(x, '%Y-%m-%d'))"
   ]
  },
  {
   "cell_type": "code",
   "execution_count": 96,
   "metadata": {},
   "outputs": [
    {
     "data": {
      "text/html": [
       "<div>\n",
       "<style scoped>\n",
       "    .dataframe tbody tr th:only-of-type {\n",
       "        vertical-align: middle;\n",
       "    }\n",
       "\n",
       "    .dataframe tbody tr th {\n",
       "        vertical-align: top;\n",
       "    }\n",
       "\n",
       "    .dataframe thead th {\n",
       "        text-align: right;\n",
       "    }\n",
       "</style>\n",
       "<table border=\"1\" class=\"dataframe\">\n",
       "  <thead>\n",
       "    <tr style=\"text-align: right;\">\n",
       "      <th></th>\n",
       "      <th>Unnamed: 0</th>\n",
       "      <th>date</th>\n",
       "      <th>group</th>\n",
       "      <th>visits</th>\n",
       "    </tr>\n",
       "  </thead>\n",
       "  <tbody>\n",
       "    <tr>\n",
       "      <th>0</th>\n",
       "      <td>0</td>\n",
       "      <td>2019-08-01</td>\n",
       "      <td>A</td>\n",
       "      <td>719</td>\n",
       "    </tr>\n",
       "    <tr>\n",
       "      <th>1</th>\n",
       "      <td>1</td>\n",
       "      <td>2019-08-02</td>\n",
       "      <td>A</td>\n",
       "      <td>619</td>\n",
       "    </tr>\n",
       "    <tr>\n",
       "      <th>2</th>\n",
       "      <td>2</td>\n",
       "      <td>2019-08-03</td>\n",
       "      <td>A</td>\n",
       "      <td>507</td>\n",
       "    </tr>\n",
       "    <tr>\n",
       "      <th>3</th>\n",
       "      <td>3</td>\n",
       "      <td>2019-08-04</td>\n",
       "      <td>A</td>\n",
       "      <td>717</td>\n",
       "    </tr>\n",
       "    <tr>\n",
       "      <th>4</th>\n",
       "      <td>4</td>\n",
       "      <td>2019-08-05</td>\n",
       "      <td>A</td>\n",
       "      <td>756</td>\n",
       "    </tr>\n",
       "    <tr>\n",
       "      <th>...</th>\n",
       "      <td>...</td>\n",
       "      <td>...</td>\n",
       "      <td>...</td>\n",
       "      <td>...</td>\n",
       "    </tr>\n",
       "    <tr>\n",
       "      <th>57</th>\n",
       "      <td>57</td>\n",
       "      <td>2019-08-27</td>\n",
       "      <td>B</td>\n",
       "      <td>720</td>\n",
       "    </tr>\n",
       "    <tr>\n",
       "      <th>58</th>\n",
       "      <td>58</td>\n",
       "      <td>2019-08-28</td>\n",
       "      <td>B</td>\n",
       "      <td>654</td>\n",
       "    </tr>\n",
       "    <tr>\n",
       "      <th>59</th>\n",
       "      <td>59</td>\n",
       "      <td>2019-08-29</td>\n",
       "      <td>B</td>\n",
       "      <td>531</td>\n",
       "    </tr>\n",
       "    <tr>\n",
       "      <th>60</th>\n",
       "      <td>60</td>\n",
       "      <td>2019-08-30</td>\n",
       "      <td>B</td>\n",
       "      <td>490</td>\n",
       "    </tr>\n",
       "    <tr>\n",
       "      <th>61</th>\n",
       "      <td>61</td>\n",
       "      <td>2019-08-31</td>\n",
       "      <td>B</td>\n",
       "      <td>718</td>\n",
       "    </tr>\n",
       "  </tbody>\n",
       "</table>\n",
       "<p>62 rows × 4 columns</p>\n",
       "</div>"
      ],
      "text/plain": [
       "    Unnamed: 0       date group  visits\n",
       "0            0 2019-08-01     A     719\n",
       "1            1 2019-08-02     A     619\n",
       "2            2 2019-08-03     A     507\n",
       "3            3 2019-08-04     A     717\n",
       "4            4 2019-08-05     A     756\n",
       "..         ...        ...   ...     ...\n",
       "57          57 2019-08-27     B     720\n",
       "58          58 2019-08-28     B     654\n",
       "59          59 2019-08-29     B     531\n",
       "60          60 2019-08-30     B     490\n",
       "61          61 2019-08-31     B     718\n",
       "\n",
       "[62 rows x 4 columns]"
      ]
     },
     "execution_count": 96,
     "metadata": {},
     "output_type": "execute_result"
    }
   ],
   "source": [
    "visits_df"
   ]
  },
  {
   "cell_type": "code",
   "execution_count": 97,
   "metadata": {},
   "outputs": [
    {
     "data": {
      "text/plain": [
       "0"
      ]
     },
     "execution_count": 97,
     "metadata": {},
     "output_type": "execute_result"
    }
   ],
   "source": [
    "#check for duplicates\n",
    "visits_df.duplicated().sum()"
   ]
  },
  {
   "cell_type": "code",
   "execution_count": 98,
   "metadata": {},
   "outputs": [
    {
     "name": "stdout",
     "output_type": "stream",
     "text": [
      "<class 'pandas.core.frame.DataFrame'>\n",
      "RangeIndex: 62 entries, 0 to 61\n",
      "Data columns (total 4 columns):\n",
      " #   Column      Non-Null Count  Dtype         \n",
      "---  ------      --------------  -----         \n",
      " 0   Unnamed: 0  62 non-null     int64         \n",
      " 1   date        62 non-null     datetime64[ns]\n",
      " 2   group       62 non-null     category      \n",
      " 3   visits      62 non-null     int64         \n",
      "dtypes: category(1), datetime64[ns](1), int64(2)\n",
      "memory usage: 1.8 KB\n"
     ]
    }
   ],
   "source": [
    "visits_df.info()"
   ]
  },
  {
   "cell_type": "code",
   "execution_count": 99,
   "metadata": {},
   "outputs": [
    {
     "name": "stdout",
     "output_type": "stream",
     "text": [
      "<class 'pandas.core.frame.DataFrame'>\n",
      "RangeIndex: 1197 entries, 0 to 1196\n",
      "Data columns (total 6 columns):\n",
      " #   Column         Non-Null Count  Dtype         \n",
      "---  ------         --------------  -----         \n",
      " 0   Unnamed: 0     1197 non-null   int64         \n",
      " 1   transactionId  1197 non-null   int64         \n",
      " 2   visitorId      1197 non-null   int64         \n",
      " 3   date           1197 non-null   datetime64[ns]\n",
      " 4   revenue        1197 non-null   float64       \n",
      " 5   group          1197 non-null   category      \n",
      "dtypes: category(1), datetime64[ns](1), float64(1), int64(3)\n",
      "memory usage: 48.2 KB\n"
     ]
    }
   ],
   "source": [
    "orders_df.info()"
   ]
  },
  {
   "cell_type": "markdown",
   "metadata": {},
   "source": [
    "***There are visitors who belong to both the groups .We need to find those users and delete them.***"
   ]
  },
  {
   "cell_type": "code",
   "execution_count": 100,
   "metadata": {},
   "outputs": [],
   "source": [
    "##list of users with number of groups\n",
    "group_counts = orders_df.groupby('visitorId').agg({'group': 'nunique'}).reset_index() \n"
   ]
  },
  {
   "cell_type": "code",
   "execution_count": 101,
   "metadata": {},
   "outputs": [
    {
     "data": {
      "text/html": [
       "<div>\n",
       "<style scoped>\n",
       "    .dataframe tbody tr th:only-of-type {\n",
       "        vertical-align: middle;\n",
       "    }\n",
       "\n",
       "    .dataframe tbody tr th {\n",
       "        vertical-align: top;\n",
       "    }\n",
       "\n",
       "    .dataframe thead th {\n",
       "        text-align: right;\n",
       "    }\n",
       "</style>\n",
       "<table border=\"1\" class=\"dataframe\">\n",
       "  <thead>\n",
       "    <tr style=\"text-align: right;\">\n",
       "      <th></th>\n",
       "      <th>visitorId</th>\n",
       "      <th>group</th>\n",
       "    </tr>\n",
       "  </thead>\n",
       "  <tbody>\n",
       "    <tr>\n",
       "      <th>0</th>\n",
       "      <td>5114589</td>\n",
       "      <td>1</td>\n",
       "    </tr>\n",
       "    <tr>\n",
       "      <th>1</th>\n",
       "      <td>6958315</td>\n",
       "      <td>1</td>\n",
       "    </tr>\n",
       "    <tr>\n",
       "      <th>2</th>\n",
       "      <td>8300375</td>\n",
       "      <td>2</td>\n",
       "    </tr>\n",
       "    <tr>\n",
       "      <th>3</th>\n",
       "      <td>11685486</td>\n",
       "      <td>1</td>\n",
       "    </tr>\n",
       "    <tr>\n",
       "      <th>4</th>\n",
       "      <td>39475350</td>\n",
       "      <td>1</td>\n",
       "    </tr>\n",
       "    <tr>\n",
       "      <th>...</th>\n",
       "      <td>...</td>\n",
       "      <td>...</td>\n",
       "    </tr>\n",
       "    <tr>\n",
       "      <th>1026</th>\n",
       "      <td>4266935830</td>\n",
       "      <td>2</td>\n",
       "    </tr>\n",
       "    <tr>\n",
       "      <th>1027</th>\n",
       "      <td>4278982564</td>\n",
       "      <td>1</td>\n",
       "    </tr>\n",
       "    <tr>\n",
       "      <th>1028</th>\n",
       "      <td>4279090005</td>\n",
       "      <td>1</td>\n",
       "    </tr>\n",
       "    <tr>\n",
       "      <th>1029</th>\n",
       "      <td>4281247801</td>\n",
       "      <td>1</td>\n",
       "    </tr>\n",
       "    <tr>\n",
       "      <th>1030</th>\n",
       "      <td>4283872382</td>\n",
       "      <td>1</td>\n",
       "    </tr>\n",
       "  </tbody>\n",
       "</table>\n",
       "<p>1031 rows × 2 columns</p>\n",
       "</div>"
      ],
      "text/plain": [
       "       visitorId  group\n",
       "0        5114589      1\n",
       "1        6958315      1\n",
       "2        8300375      2\n",
       "3       11685486      1\n",
       "4       39475350      1\n",
       "...          ...    ...\n",
       "1026  4266935830      2\n",
       "1027  4278982564      1\n",
       "1028  4279090005      1\n",
       "1029  4281247801      1\n",
       "1030  4283872382      1\n",
       "\n",
       "[1031 rows x 2 columns]"
      ]
     },
     "execution_count": 101,
     "metadata": {},
     "output_type": "execute_result"
    }
   ],
   "source": [
    "group_counts"
   ]
  },
  {
   "cell_type": "code",
   "execution_count": 102,
   "metadata": {},
   "outputs": [],
   "source": [
    "#filtering users belonging to only one  group\n",
    "to_include = group_counts[group_counts['group'] == 1]"
   ]
  },
  {
   "cell_type": "code",
   "execution_count": 103,
   "metadata": {},
   "outputs": [
    {
     "data": {
      "text/html": [
       "<div>\n",
       "<style scoped>\n",
       "    .dataframe tbody tr th:only-of-type {\n",
       "        vertical-align: middle;\n",
       "    }\n",
       "\n",
       "    .dataframe tbody tr th {\n",
       "        vertical-align: top;\n",
       "    }\n",
       "\n",
       "    .dataframe thead th {\n",
       "        text-align: right;\n",
       "    }\n",
       "</style>\n",
       "<table border=\"1\" class=\"dataframe\">\n",
       "  <thead>\n",
       "    <tr style=\"text-align: right;\">\n",
       "      <th></th>\n",
       "      <th>visitorId</th>\n",
       "      <th>group</th>\n",
       "    </tr>\n",
       "  </thead>\n",
       "  <tbody>\n",
       "    <tr>\n",
       "      <th>0</th>\n",
       "      <td>5114589</td>\n",
       "      <td>1</td>\n",
       "    </tr>\n",
       "    <tr>\n",
       "      <th>1</th>\n",
       "      <td>6958315</td>\n",
       "      <td>1</td>\n",
       "    </tr>\n",
       "    <tr>\n",
       "      <th>3</th>\n",
       "      <td>11685486</td>\n",
       "      <td>1</td>\n",
       "    </tr>\n",
       "    <tr>\n",
       "      <th>4</th>\n",
       "      <td>39475350</td>\n",
       "      <td>1</td>\n",
       "    </tr>\n",
       "    <tr>\n",
       "      <th>5</th>\n",
       "      <td>47206413</td>\n",
       "      <td>1</td>\n",
       "    </tr>\n",
       "    <tr>\n",
       "      <th>...</th>\n",
       "      <td>...</td>\n",
       "      <td>...</td>\n",
       "    </tr>\n",
       "    <tr>\n",
       "      <th>1025</th>\n",
       "      <td>4259830713</td>\n",
       "      <td>1</td>\n",
       "    </tr>\n",
       "    <tr>\n",
       "      <th>1027</th>\n",
       "      <td>4278982564</td>\n",
       "      <td>1</td>\n",
       "    </tr>\n",
       "    <tr>\n",
       "      <th>1028</th>\n",
       "      <td>4279090005</td>\n",
       "      <td>1</td>\n",
       "    </tr>\n",
       "    <tr>\n",
       "      <th>1029</th>\n",
       "      <td>4281247801</td>\n",
       "      <td>1</td>\n",
       "    </tr>\n",
       "    <tr>\n",
       "      <th>1030</th>\n",
       "      <td>4283872382</td>\n",
       "      <td>1</td>\n",
       "    </tr>\n",
       "  </tbody>\n",
       "</table>\n",
       "<p>973 rows × 2 columns</p>\n",
       "</div>"
      ],
      "text/plain": [
       "       visitorId  group\n",
       "0        5114589      1\n",
       "1        6958315      1\n",
       "3       11685486      1\n",
       "4       39475350      1\n",
       "5       47206413      1\n",
       "...          ...    ...\n",
       "1025  4259830713      1\n",
       "1027  4278982564      1\n",
       "1028  4279090005      1\n",
       "1029  4281247801      1\n",
       "1030  4283872382      1\n",
       "\n",
       "[973 rows x 2 columns]"
      ]
     },
     "execution_count": 103,
     "metadata": {},
     "output_type": "execute_result"
    }
   ],
   "source": [
    "to_include"
   ]
  },
  {
   "cell_type": "code",
   "execution_count": 104,
   "metadata": {},
   "outputs": [],
   "source": [
    "#merge it with orders\n",
    "orders_df_valid=orders_df.merge(to_include['visitorId'],on='visitorId',how='inner')"
   ]
  },
  {
   "cell_type": "code",
   "execution_count": 105,
   "metadata": {},
   "outputs": [
    {
     "data": {
      "text/html": [
       "<div>\n",
       "<style scoped>\n",
       "    .dataframe tbody tr th:only-of-type {\n",
       "        vertical-align: middle;\n",
       "    }\n",
       "\n",
       "    .dataframe tbody tr th {\n",
       "        vertical-align: top;\n",
       "    }\n",
       "\n",
       "    .dataframe thead th {\n",
       "        text-align: right;\n",
       "    }\n",
       "</style>\n",
       "<table border=\"1\" class=\"dataframe\">\n",
       "  <thead>\n",
       "    <tr style=\"text-align: right;\">\n",
       "      <th></th>\n",
       "      <th>Unnamed: 0</th>\n",
       "      <th>transactionId</th>\n",
       "      <th>visitorId</th>\n",
       "      <th>date</th>\n",
       "      <th>revenue</th>\n",
       "      <th>group</th>\n",
       "    </tr>\n",
       "  </thead>\n",
       "  <tbody>\n",
       "    <tr>\n",
       "      <th>48</th>\n",
       "      <td>56</td>\n",
       "      <td>900025958</td>\n",
       "      <td>5114589</td>\n",
       "      <td>2019-08-16</td>\n",
       "      <td>10.8</td>\n",
       "      <td>B</td>\n",
       "    </tr>\n",
       "    <tr>\n",
       "      <th>505</th>\n",
       "      <td>573</td>\n",
       "      <td>1887336629</td>\n",
       "      <td>6958315</td>\n",
       "      <td>2019-08-04</td>\n",
       "      <td>25.9</td>\n",
       "      <td>B</td>\n",
       "    </tr>\n",
       "    <tr>\n",
       "      <th>207</th>\n",
       "      <td>233</td>\n",
       "      <td>797272237</td>\n",
       "      <td>11685486</td>\n",
       "      <td>2019-08-23</td>\n",
       "      <td>100.4</td>\n",
       "      <td>A</td>\n",
       "    </tr>\n",
       "    <tr>\n",
       "      <th>786</th>\n",
       "      <td>912</td>\n",
       "      <td>437876380</td>\n",
       "      <td>39475350</td>\n",
       "      <td>2019-08-08</td>\n",
       "      <td>65.4</td>\n",
       "      <td>B</td>\n",
       "    </tr>\n",
       "    <tr>\n",
       "      <th>794</th>\n",
       "      <td>924</td>\n",
       "      <td>3778001764</td>\n",
       "      <td>47206413</td>\n",
       "      <td>2019-08-10</td>\n",
       "      <td>15.2</td>\n",
       "      <td>B</td>\n",
       "    </tr>\n",
       "    <tr>\n",
       "      <th>...</th>\n",
       "      <td>...</td>\n",
       "      <td>...</td>\n",
       "      <td>...</td>\n",
       "      <td>...</td>\n",
       "      <td>...</td>\n",
       "      <td>...</td>\n",
       "    </tr>\n",
       "    <tr>\n",
       "      <th>898</th>\n",
       "      <td>1047</td>\n",
       "      <td>1266191879</td>\n",
       "      <td>4259830713</td>\n",
       "      <td>2019-08-11</td>\n",
       "      <td>50.1</td>\n",
       "      <td>A</td>\n",
       "    </tr>\n",
       "    <tr>\n",
       "      <th>761</th>\n",
       "      <td>886</td>\n",
       "      <td>51443164</td>\n",
       "      <td>4278982564</td>\n",
       "      <td>2019-08-05</td>\n",
       "      <td>385.7</td>\n",
       "      <td>A</td>\n",
       "    </tr>\n",
       "    <tr>\n",
       "      <th>509</th>\n",
       "      <td>576</td>\n",
       "      <td>2724331495</td>\n",
       "      <td>4279090005</td>\n",
       "      <td>2019-08-04</td>\n",
       "      <td>105.3</td>\n",
       "      <td>B</td>\n",
       "    </tr>\n",
       "    <tr>\n",
       "      <th>347</th>\n",
       "      <td>392</td>\n",
       "      <td>3796325351</td>\n",
       "      <td>4281247801</td>\n",
       "      <td>2019-08-25</td>\n",
       "      <td>45.6</td>\n",
       "      <td>B</td>\n",
       "    </tr>\n",
       "    <tr>\n",
       "      <th>839</th>\n",
       "      <td>974</td>\n",
       "      <td>836739159</td>\n",
       "      <td>4283872382</td>\n",
       "      <td>2019-08-22</td>\n",
       "      <td>60.6</td>\n",
       "      <td>B</td>\n",
       "    </tr>\n",
       "  </tbody>\n",
       "</table>\n",
       "<p>1016 rows × 6 columns</p>\n",
       "</div>"
      ],
      "text/plain": [
       "     Unnamed: 0  transactionId   visitorId       date  revenue group\n",
       "48           56      900025958     5114589 2019-08-16     10.8     B\n",
       "505         573     1887336629     6958315 2019-08-04     25.9     B\n",
       "207         233      797272237    11685486 2019-08-23    100.4     A\n",
       "786         912      437876380    39475350 2019-08-08     65.4     B\n",
       "794         924     3778001764    47206413 2019-08-10     15.2     B\n",
       "..          ...            ...         ...        ...      ...   ...\n",
       "898        1047     1266191879  4259830713 2019-08-11     50.1     A\n",
       "761         886       51443164  4278982564 2019-08-05    385.7     A\n",
       "509         576     2724331495  4279090005 2019-08-04    105.3     B\n",
       "347         392     3796325351  4281247801 2019-08-25     45.6     B\n",
       "839         974      836739159  4283872382 2019-08-22     60.6     B\n",
       "\n",
       "[1016 rows x 6 columns]"
      ]
     },
     "execution_count": 105,
     "metadata": {},
     "output_type": "execute_result"
    }
   ],
   "source": [
    "orders_df_valid.sort_values(by='visitorId')"
   ]
  },
  {
   "cell_type": "code",
   "execution_count": 106,
   "metadata": {},
   "outputs": [
    {
     "data": {
      "text/plain": [
       "Unnamed: 0       1016\n",
       "transactionId    1016\n",
       "visitorId         973\n",
       "date               31\n",
       "revenue           359\n",
       "group               2\n",
       "dtype: int64"
      ]
     },
     "execution_count": 106,
     "metadata": {},
     "output_type": "execute_result"
    }
   ],
   "source": [
    "orders_df_valid.nunique()"
   ]
  },
  {
   "cell_type": "markdown",
   "metadata": {},
   "source": [
    "#### Prioritizing Hypotheses"
   ]
  },
  {
   "cell_type": "markdown",
   "metadata": {},
   "source": [
    "***Apply ICE framework***"
   ]
  },
  {
   "cell_type": "code",
   "execution_count": 107,
   "metadata": {},
   "outputs": [
    {
     "data": {
      "text/html": [
       "<div>\n",
       "<style scoped>\n",
       "    .dataframe tbody tr th:only-of-type {\n",
       "        vertical-align: middle;\n",
       "    }\n",
       "\n",
       "    .dataframe tbody tr th {\n",
       "        vertical-align: top;\n",
       "    }\n",
       "\n",
       "    .dataframe thead th {\n",
       "        text-align: right;\n",
       "    }\n",
       "</style>\n",
       "<table border=\"1\" class=\"dataframe\">\n",
       "  <thead>\n",
       "    <tr style=\"text-align: right;\">\n",
       "      <th></th>\n",
       "      <th>Unnamed: 0</th>\n",
       "      <th>hypothesis</th>\n",
       "      <th>reach</th>\n",
       "      <th>impact</th>\n",
       "      <th>confidence</th>\n",
       "      <th>effort</th>\n",
       "    </tr>\n",
       "  </thead>\n",
       "  <tbody>\n",
       "    <tr>\n",
       "      <th>0</th>\n",
       "      <td>0</td>\n",
       "      <td>Add two new channels for attracting traffic. This will bring 30% more users</td>\n",
       "      <td>3</td>\n",
       "      <td>10</td>\n",
       "      <td>8</td>\n",
       "      <td>6</td>\n",
       "    </tr>\n",
       "    <tr>\n",
       "      <th>1</th>\n",
       "      <td>1</td>\n",
       "      <td>Launch your own delivery service. This will shorten delivery time</td>\n",
       "      <td>2</td>\n",
       "      <td>5</td>\n",
       "      <td>4</td>\n",
       "      <td>10</td>\n",
       "    </tr>\n",
       "    <tr>\n",
       "      <th>2</th>\n",
       "      <td>2</td>\n",
       "      <td>Add product recommendation blocks to the store's site. This will increase conversion and average purchase size</td>\n",
       "      <td>8</td>\n",
       "      <td>3</td>\n",
       "      <td>7</td>\n",
       "      <td>3</td>\n",
       "    </tr>\n",
       "    <tr>\n",
       "      <th>3</th>\n",
       "      <td>3</td>\n",
       "      <td>Change the category structure. This will increase conversion since users will find the products they want more quickly</td>\n",
       "      <td>8</td>\n",
       "      <td>3</td>\n",
       "      <td>3</td>\n",
       "      <td>8</td>\n",
       "    </tr>\n",
       "    <tr>\n",
       "      <th>4</th>\n",
       "      <td>4</td>\n",
       "      <td>Change the background color on the main page. This will increase user engagement</td>\n",
       "      <td>3</td>\n",
       "      <td>1</td>\n",
       "      <td>1</td>\n",
       "      <td>1</td>\n",
       "    </tr>\n",
       "    <tr>\n",
       "      <th>5</th>\n",
       "      <td>5</td>\n",
       "      <td>Add a customer review page. This will increase the number of orders</td>\n",
       "      <td>3</td>\n",
       "      <td>2</td>\n",
       "      <td>2</td>\n",
       "      <td>3</td>\n",
       "    </tr>\n",
       "    <tr>\n",
       "      <th>6</th>\n",
       "      <td>6</td>\n",
       "      <td>Show banners with current offers and sales on the main page. This will boost conversion</td>\n",
       "      <td>5</td>\n",
       "      <td>3</td>\n",
       "      <td>8</td>\n",
       "      <td>3</td>\n",
       "    </tr>\n",
       "    <tr>\n",
       "      <th>7</th>\n",
       "      <td>7</td>\n",
       "      <td>Add a subscription form to all the main pages. This will help you compile a mailing list</td>\n",
       "      <td>10</td>\n",
       "      <td>7</td>\n",
       "      <td>8</td>\n",
       "      <td>5</td>\n",
       "    </tr>\n",
       "    <tr>\n",
       "      <th>8</th>\n",
       "      <td>8</td>\n",
       "      <td>Launch a promotion that gives users discounts on their birthdays</td>\n",
       "      <td>1</td>\n",
       "      <td>9</td>\n",
       "      <td>9</td>\n",
       "      <td>5</td>\n",
       "    </tr>\n",
       "  </tbody>\n",
       "</table>\n",
       "</div>"
      ],
      "text/plain": [
       "   Unnamed: 0  \\\n",
       "0           0   \n",
       "1           1   \n",
       "2           2   \n",
       "3           3   \n",
       "4           4   \n",
       "5           5   \n",
       "6           6   \n",
       "7           7   \n",
       "8           8   \n",
       "\n",
       "                                                                                                               hypothesis  \\\n",
       "0                                             Add two new channels for attracting traffic. This will bring 30% more users   \n",
       "1                                                       Launch your own delivery service. This will shorten delivery time   \n",
       "2          Add product recommendation blocks to the store's site. This will increase conversion and average purchase size   \n",
       "3  Change the category structure. This will increase conversion since users will find the products they want more quickly   \n",
       "4                                        Change the background color on the main page. This will increase user engagement   \n",
       "5                                                     Add a customer review page. This will increase the number of orders   \n",
       "6                                 Show banners with current offers and sales on the main page. This will boost conversion   \n",
       "7                                Add a subscription form to all the main pages. This will help you compile a mailing list   \n",
       "8                                                        Launch a promotion that gives users discounts on their birthdays   \n",
       "\n",
       "   reach  impact  confidence  effort  \n",
       "0      3      10           8       6  \n",
       "1      2       5           4      10  \n",
       "2      8       3           7       3  \n",
       "3      8       3           3       8  \n",
       "4      3       1           1       1  \n",
       "5      3       2           2       3  \n",
       "6      5       3           8       3  \n",
       "7     10       7           8       5  \n",
       "8      1       9           9       5  "
      ]
     },
     "execution_count": 107,
     "metadata": {},
     "output_type": "execute_result"
    }
   ],
   "source": [
    "hypothesis_df"
   ]
  },
  {
   "cell_type": "code",
   "execution_count": 108,
   "metadata": {},
   "outputs": [],
   "source": [
    "hypothesis_df['ICE'] = (hypothesis_df['impact'] *hypothesis_df['confidence'])/hypothesis_df['effort']"
   ]
  },
  {
   "cell_type": "code",
   "execution_count": 109,
   "metadata": {},
   "outputs": [],
   "source": [
    "hypothesis_df=hypothesis_df.sort_values(by='ICE',ascending=False)"
   ]
  },
  {
   "cell_type": "code",
   "execution_count": 110,
   "metadata": {},
   "outputs": [
    {
     "data": {
      "text/html": [
       "<div>\n",
       "<style scoped>\n",
       "    .dataframe tbody tr th:only-of-type {\n",
       "        vertical-align: middle;\n",
       "    }\n",
       "\n",
       "    .dataframe tbody tr th {\n",
       "        vertical-align: top;\n",
       "    }\n",
       "\n",
       "    .dataframe thead th {\n",
       "        text-align: right;\n",
       "    }\n",
       "</style>\n",
       "<table border=\"1\" class=\"dataframe\">\n",
       "  <thead>\n",
       "    <tr style=\"text-align: right;\">\n",
       "      <th></th>\n",
       "      <th>Unnamed: 0</th>\n",
       "      <th>hypothesis</th>\n",
       "      <th>reach</th>\n",
       "      <th>impact</th>\n",
       "      <th>confidence</th>\n",
       "      <th>effort</th>\n",
       "      <th>ICE</th>\n",
       "    </tr>\n",
       "  </thead>\n",
       "  <tbody>\n",
       "    <tr>\n",
       "      <th>8</th>\n",
       "      <td>8</td>\n",
       "      <td>Launch a promotion that gives users discounts on their birthdays</td>\n",
       "      <td>1</td>\n",
       "      <td>9</td>\n",
       "      <td>9</td>\n",
       "      <td>5</td>\n",
       "      <td>16.200000</td>\n",
       "    </tr>\n",
       "    <tr>\n",
       "      <th>0</th>\n",
       "      <td>0</td>\n",
       "      <td>Add two new channels for attracting traffic. This will bring 30% more users</td>\n",
       "      <td>3</td>\n",
       "      <td>10</td>\n",
       "      <td>8</td>\n",
       "      <td>6</td>\n",
       "      <td>13.333333</td>\n",
       "    </tr>\n",
       "    <tr>\n",
       "      <th>7</th>\n",
       "      <td>7</td>\n",
       "      <td>Add a subscription form to all the main pages. This will help you compile a mailing list</td>\n",
       "      <td>10</td>\n",
       "      <td>7</td>\n",
       "      <td>8</td>\n",
       "      <td>5</td>\n",
       "      <td>11.200000</td>\n",
       "    </tr>\n",
       "    <tr>\n",
       "      <th>6</th>\n",
       "      <td>6</td>\n",
       "      <td>Show banners with current offers and sales on the main page. This will boost conversion</td>\n",
       "      <td>5</td>\n",
       "      <td>3</td>\n",
       "      <td>8</td>\n",
       "      <td>3</td>\n",
       "      <td>8.000000</td>\n",
       "    </tr>\n",
       "    <tr>\n",
       "      <th>2</th>\n",
       "      <td>2</td>\n",
       "      <td>Add product recommendation blocks to the store's site. This will increase conversion and average purchase size</td>\n",
       "      <td>8</td>\n",
       "      <td>3</td>\n",
       "      <td>7</td>\n",
       "      <td>3</td>\n",
       "      <td>7.000000</td>\n",
       "    </tr>\n",
       "    <tr>\n",
       "      <th>1</th>\n",
       "      <td>1</td>\n",
       "      <td>Launch your own delivery service. This will shorten delivery time</td>\n",
       "      <td>2</td>\n",
       "      <td>5</td>\n",
       "      <td>4</td>\n",
       "      <td>10</td>\n",
       "      <td>2.000000</td>\n",
       "    </tr>\n",
       "    <tr>\n",
       "      <th>5</th>\n",
       "      <td>5</td>\n",
       "      <td>Add a customer review page. This will increase the number of orders</td>\n",
       "      <td>3</td>\n",
       "      <td>2</td>\n",
       "      <td>2</td>\n",
       "      <td>3</td>\n",
       "      <td>1.333333</td>\n",
       "    </tr>\n",
       "    <tr>\n",
       "      <th>3</th>\n",
       "      <td>3</td>\n",
       "      <td>Change the category structure. This will increase conversion since users will find the products they want more quickly</td>\n",
       "      <td>8</td>\n",
       "      <td>3</td>\n",
       "      <td>3</td>\n",
       "      <td>8</td>\n",
       "      <td>1.125000</td>\n",
       "    </tr>\n",
       "    <tr>\n",
       "      <th>4</th>\n",
       "      <td>4</td>\n",
       "      <td>Change the background color on the main page. This will increase user engagement</td>\n",
       "      <td>3</td>\n",
       "      <td>1</td>\n",
       "      <td>1</td>\n",
       "      <td>1</td>\n",
       "      <td>1.000000</td>\n",
       "    </tr>\n",
       "  </tbody>\n",
       "</table>\n",
       "</div>"
      ],
      "text/plain": [
       "   Unnamed: 0  \\\n",
       "8           8   \n",
       "0           0   \n",
       "7           7   \n",
       "6           6   \n",
       "2           2   \n",
       "1           1   \n",
       "5           5   \n",
       "3           3   \n",
       "4           4   \n",
       "\n",
       "                                                                                                               hypothesis  \\\n",
       "8                                                        Launch a promotion that gives users discounts on their birthdays   \n",
       "0                                             Add two new channels for attracting traffic. This will bring 30% more users   \n",
       "7                                Add a subscription form to all the main pages. This will help you compile a mailing list   \n",
       "6                                 Show banners with current offers and sales on the main page. This will boost conversion   \n",
       "2          Add product recommendation blocks to the store's site. This will increase conversion and average purchase size   \n",
       "1                                                       Launch your own delivery service. This will shorten delivery time   \n",
       "5                                                     Add a customer review page. This will increase the number of orders   \n",
       "3  Change the category structure. This will increase conversion since users will find the products they want more quickly   \n",
       "4                                        Change the background color on the main page. This will increase user engagement   \n",
       "\n",
       "   reach  impact  confidence  effort        ICE  \n",
       "8      1       9           9       5  16.200000  \n",
       "0      3      10           8       6  13.333333  \n",
       "7     10       7           8       5  11.200000  \n",
       "6      5       3           8       3   8.000000  \n",
       "2      8       3           7       3   7.000000  \n",
       "1      2       5           4      10   2.000000  \n",
       "5      3       2           2       3   1.333333  \n",
       "3      8       3           3       8   1.125000  \n",
       "4      3       1           1       1   1.000000  "
      ]
     },
     "execution_count": 110,
     "metadata": {},
     "output_type": "execute_result"
    }
   ],
   "source": [
    "hypothesis_df"
   ]
  },
  {
   "cell_type": "markdown",
   "metadata": {},
   "source": [
    "***Apply RICE framework***\n"
   ]
  },
  {
   "cell_type": "code",
   "execution_count": 111,
   "metadata": {},
   "outputs": [
    {
     "data": {
      "text/html": [
       "<div>\n",
       "<style scoped>\n",
       "    .dataframe tbody tr th:only-of-type {\n",
       "        vertical-align: middle;\n",
       "    }\n",
       "\n",
       "    .dataframe tbody tr th {\n",
       "        vertical-align: top;\n",
       "    }\n",
       "\n",
       "    .dataframe thead th {\n",
       "        text-align: right;\n",
       "    }\n",
       "</style>\n",
       "<table border=\"1\" class=\"dataframe\">\n",
       "  <thead>\n",
       "    <tr style=\"text-align: right;\">\n",
       "      <th></th>\n",
       "      <th>Unnamed: 0</th>\n",
       "      <th>hypothesis</th>\n",
       "      <th>reach</th>\n",
       "      <th>impact</th>\n",
       "      <th>confidence</th>\n",
       "      <th>effort</th>\n",
       "      <th>ICE</th>\n",
       "      <th>RICE</th>\n",
       "    </tr>\n",
       "  </thead>\n",
       "  <tbody>\n",
       "    <tr>\n",
       "      <th>8</th>\n",
       "      <td>8</td>\n",
       "      <td>Launch a promotion that gives users discounts on their birthdays</td>\n",
       "      <td>1</td>\n",
       "      <td>9</td>\n",
       "      <td>9</td>\n",
       "      <td>5</td>\n",
       "      <td>16.200000</td>\n",
       "      <td>16.2</td>\n",
       "    </tr>\n",
       "    <tr>\n",
       "      <th>0</th>\n",
       "      <td>0</td>\n",
       "      <td>Add two new channels for attracting traffic. This will bring 30% more users</td>\n",
       "      <td>3</td>\n",
       "      <td>10</td>\n",
       "      <td>8</td>\n",
       "      <td>6</td>\n",
       "      <td>13.333333</td>\n",
       "      <td>40.0</td>\n",
       "    </tr>\n",
       "    <tr>\n",
       "      <th>7</th>\n",
       "      <td>7</td>\n",
       "      <td>Add a subscription form to all the main pages. This will help you compile a mailing list</td>\n",
       "      <td>10</td>\n",
       "      <td>7</td>\n",
       "      <td>8</td>\n",
       "      <td>5</td>\n",
       "      <td>11.200000</td>\n",
       "      <td>112.0</td>\n",
       "    </tr>\n",
       "    <tr>\n",
       "      <th>6</th>\n",
       "      <td>6</td>\n",
       "      <td>Show banners with current offers and sales on the main page. This will boost conversion</td>\n",
       "      <td>5</td>\n",
       "      <td>3</td>\n",
       "      <td>8</td>\n",
       "      <td>3</td>\n",
       "      <td>8.000000</td>\n",
       "      <td>40.0</td>\n",
       "    </tr>\n",
       "    <tr>\n",
       "      <th>2</th>\n",
       "      <td>2</td>\n",
       "      <td>Add product recommendation blocks to the store's site. This will increase conversion and average purchase size</td>\n",
       "      <td>8</td>\n",
       "      <td>3</td>\n",
       "      <td>7</td>\n",
       "      <td>3</td>\n",
       "      <td>7.000000</td>\n",
       "      <td>56.0</td>\n",
       "    </tr>\n",
       "    <tr>\n",
       "      <th>1</th>\n",
       "      <td>1</td>\n",
       "      <td>Launch your own delivery service. This will shorten delivery time</td>\n",
       "      <td>2</td>\n",
       "      <td>5</td>\n",
       "      <td>4</td>\n",
       "      <td>10</td>\n",
       "      <td>2.000000</td>\n",
       "      <td>4.0</td>\n",
       "    </tr>\n",
       "    <tr>\n",
       "      <th>5</th>\n",
       "      <td>5</td>\n",
       "      <td>Add a customer review page. This will increase the number of orders</td>\n",
       "      <td>3</td>\n",
       "      <td>2</td>\n",
       "      <td>2</td>\n",
       "      <td>3</td>\n",
       "      <td>1.333333</td>\n",
       "      <td>4.0</td>\n",
       "    </tr>\n",
       "    <tr>\n",
       "      <th>3</th>\n",
       "      <td>3</td>\n",
       "      <td>Change the category structure. This will increase conversion since users will find the products they want more quickly</td>\n",
       "      <td>8</td>\n",
       "      <td>3</td>\n",
       "      <td>3</td>\n",
       "      <td>8</td>\n",
       "      <td>1.125000</td>\n",
       "      <td>9.0</td>\n",
       "    </tr>\n",
       "    <tr>\n",
       "      <th>4</th>\n",
       "      <td>4</td>\n",
       "      <td>Change the background color on the main page. This will increase user engagement</td>\n",
       "      <td>3</td>\n",
       "      <td>1</td>\n",
       "      <td>1</td>\n",
       "      <td>1</td>\n",
       "      <td>1.000000</td>\n",
       "      <td>3.0</td>\n",
       "    </tr>\n",
       "  </tbody>\n",
       "</table>\n",
       "</div>"
      ],
      "text/plain": [
       "   Unnamed: 0  \\\n",
       "8           8   \n",
       "0           0   \n",
       "7           7   \n",
       "6           6   \n",
       "2           2   \n",
       "1           1   \n",
       "5           5   \n",
       "3           3   \n",
       "4           4   \n",
       "\n",
       "                                                                                                               hypothesis  \\\n",
       "8                                                        Launch a promotion that gives users discounts on their birthdays   \n",
       "0                                             Add two new channels for attracting traffic. This will bring 30% more users   \n",
       "7                                Add a subscription form to all the main pages. This will help you compile a mailing list   \n",
       "6                                 Show banners with current offers and sales on the main page. This will boost conversion   \n",
       "2          Add product recommendation blocks to the store's site. This will increase conversion and average purchase size   \n",
       "1                                                       Launch your own delivery service. This will shorten delivery time   \n",
       "5                                                     Add a customer review page. This will increase the number of orders   \n",
       "3  Change the category structure. This will increase conversion since users will find the products they want more quickly   \n",
       "4                                        Change the background color on the main page. This will increase user engagement   \n",
       "\n",
       "   reach  impact  confidence  effort        ICE   RICE  \n",
       "8      1       9           9       5  16.200000   16.2  \n",
       "0      3      10           8       6  13.333333   40.0  \n",
       "7     10       7           8       5  11.200000  112.0  \n",
       "6      5       3           8       3   8.000000   40.0  \n",
       "2      8       3           7       3   7.000000   56.0  \n",
       "1      2       5           4      10   2.000000    4.0  \n",
       "5      3       2           2       3   1.333333    4.0  \n",
       "3      8       3           3       8   1.125000    9.0  \n",
       "4      3       1           1       1   1.000000    3.0  "
      ]
     },
     "execution_count": 111,
     "metadata": {},
     "output_type": "execute_result"
    }
   ],
   "source": [
    "hypothesis_df['RICE'] = (hypothesis_df['reach']*hypothesis_df['impact'] *hypothesis_df['confidence'])/hypothesis_df['effort']\n",
    "hypothesis_df"
   ]
  },
  {
   "cell_type": "code",
   "execution_count": 112,
   "metadata": {},
   "outputs": [],
   "source": [
    "hypothesis_df=hypothesis_df.sort_values(by='RICE',ascending=False)"
   ]
  },
  {
   "cell_type": "code",
   "execution_count": 113,
   "metadata": {},
   "outputs": [
    {
     "data": {
      "text/html": [
       "<div>\n",
       "<style scoped>\n",
       "    .dataframe tbody tr th:only-of-type {\n",
       "        vertical-align: middle;\n",
       "    }\n",
       "\n",
       "    .dataframe tbody tr th {\n",
       "        vertical-align: top;\n",
       "    }\n",
       "\n",
       "    .dataframe thead th {\n",
       "        text-align: right;\n",
       "    }\n",
       "</style>\n",
       "<table border=\"1\" class=\"dataframe\">\n",
       "  <thead>\n",
       "    <tr style=\"text-align: right;\">\n",
       "      <th></th>\n",
       "      <th>Unnamed: 0</th>\n",
       "      <th>hypothesis</th>\n",
       "      <th>reach</th>\n",
       "      <th>impact</th>\n",
       "      <th>confidence</th>\n",
       "      <th>effort</th>\n",
       "      <th>ICE</th>\n",
       "      <th>RICE</th>\n",
       "    </tr>\n",
       "  </thead>\n",
       "  <tbody>\n",
       "    <tr>\n",
       "      <th>7</th>\n",
       "      <td>7</td>\n",
       "      <td>Add a subscription form to all the main pages. This will help you compile a mailing list</td>\n",
       "      <td>10</td>\n",
       "      <td>7</td>\n",
       "      <td>8</td>\n",
       "      <td>5</td>\n",
       "      <td>11.200000</td>\n",
       "      <td>112.0</td>\n",
       "    </tr>\n",
       "    <tr>\n",
       "      <th>2</th>\n",
       "      <td>2</td>\n",
       "      <td>Add product recommendation blocks to the store's site. This will increase conversion and average purchase size</td>\n",
       "      <td>8</td>\n",
       "      <td>3</td>\n",
       "      <td>7</td>\n",
       "      <td>3</td>\n",
       "      <td>7.000000</td>\n",
       "      <td>56.0</td>\n",
       "    </tr>\n",
       "    <tr>\n",
       "      <th>0</th>\n",
       "      <td>0</td>\n",
       "      <td>Add two new channels for attracting traffic. This will bring 30% more users</td>\n",
       "      <td>3</td>\n",
       "      <td>10</td>\n",
       "      <td>8</td>\n",
       "      <td>6</td>\n",
       "      <td>13.333333</td>\n",
       "      <td>40.0</td>\n",
       "    </tr>\n",
       "    <tr>\n",
       "      <th>6</th>\n",
       "      <td>6</td>\n",
       "      <td>Show banners with current offers and sales on the main page. This will boost conversion</td>\n",
       "      <td>5</td>\n",
       "      <td>3</td>\n",
       "      <td>8</td>\n",
       "      <td>3</td>\n",
       "      <td>8.000000</td>\n",
       "      <td>40.0</td>\n",
       "    </tr>\n",
       "    <tr>\n",
       "      <th>8</th>\n",
       "      <td>8</td>\n",
       "      <td>Launch a promotion that gives users discounts on their birthdays</td>\n",
       "      <td>1</td>\n",
       "      <td>9</td>\n",
       "      <td>9</td>\n",
       "      <td>5</td>\n",
       "      <td>16.200000</td>\n",
       "      <td>16.2</td>\n",
       "    </tr>\n",
       "    <tr>\n",
       "      <th>3</th>\n",
       "      <td>3</td>\n",
       "      <td>Change the category structure. This will increase conversion since users will find the products they want more quickly</td>\n",
       "      <td>8</td>\n",
       "      <td>3</td>\n",
       "      <td>3</td>\n",
       "      <td>8</td>\n",
       "      <td>1.125000</td>\n",
       "      <td>9.0</td>\n",
       "    </tr>\n",
       "    <tr>\n",
       "      <th>1</th>\n",
       "      <td>1</td>\n",
       "      <td>Launch your own delivery service. This will shorten delivery time</td>\n",
       "      <td>2</td>\n",
       "      <td>5</td>\n",
       "      <td>4</td>\n",
       "      <td>10</td>\n",
       "      <td>2.000000</td>\n",
       "      <td>4.0</td>\n",
       "    </tr>\n",
       "    <tr>\n",
       "      <th>5</th>\n",
       "      <td>5</td>\n",
       "      <td>Add a customer review page. This will increase the number of orders</td>\n",
       "      <td>3</td>\n",
       "      <td>2</td>\n",
       "      <td>2</td>\n",
       "      <td>3</td>\n",
       "      <td>1.333333</td>\n",
       "      <td>4.0</td>\n",
       "    </tr>\n",
       "    <tr>\n",
       "      <th>4</th>\n",
       "      <td>4</td>\n",
       "      <td>Change the background color on the main page. This will increase user engagement</td>\n",
       "      <td>3</td>\n",
       "      <td>1</td>\n",
       "      <td>1</td>\n",
       "      <td>1</td>\n",
       "      <td>1.000000</td>\n",
       "      <td>3.0</td>\n",
       "    </tr>\n",
       "  </tbody>\n",
       "</table>\n",
       "</div>"
      ],
      "text/plain": [
       "   Unnamed: 0  \\\n",
       "7           7   \n",
       "2           2   \n",
       "0           0   \n",
       "6           6   \n",
       "8           8   \n",
       "3           3   \n",
       "1           1   \n",
       "5           5   \n",
       "4           4   \n",
       "\n",
       "                                                                                                               hypothesis  \\\n",
       "7                                Add a subscription form to all the main pages. This will help you compile a mailing list   \n",
       "2          Add product recommendation blocks to the store's site. This will increase conversion and average purchase size   \n",
       "0                                             Add two new channels for attracting traffic. This will bring 30% more users   \n",
       "6                                 Show banners with current offers and sales on the main page. This will boost conversion   \n",
       "8                                                        Launch a promotion that gives users discounts on their birthdays   \n",
       "3  Change the category structure. This will increase conversion since users will find the products they want more quickly   \n",
       "1                                                       Launch your own delivery service. This will shorten delivery time   \n",
       "5                                                     Add a customer review page. This will increase the number of orders   \n",
       "4                                        Change the background color on the main page. This will increase user engagement   \n",
       "\n",
       "   reach  impact  confidence  effort        ICE   RICE  \n",
       "7     10       7           8       5  11.200000  112.0  \n",
       "2      8       3           7       3   7.000000   56.0  \n",
       "0      3      10           8       6  13.333333   40.0  \n",
       "6      5       3           8       3   8.000000   40.0  \n",
       "8      1       9           9       5  16.200000   16.2  \n",
       "3      8       3           3       8   1.125000    9.0  \n",
       "1      2       5           4      10   2.000000    4.0  \n",
       "5      3       2           2       3   1.333333    4.0  \n",
       "4      3       1           1       1   1.000000    3.0  "
      ]
     },
     "execution_count": 113,
     "metadata": {},
     "output_type": "execute_result"
    }
   ],
   "source": [
    "hypothesis_df"
   ]
  },
  {
   "cell_type": "markdown",
   "metadata": {},
   "source": [
    "***Conclusion***  \n",
    "Hypothesis 8,0,7 were on the top 3 priorities with respect to ICE score . But once  \n",
    "we add Reach parameter ,hypothesis 7 moved from 3rd to 1st position because of its  \n",
    "higher Reach score which is 10.Also its impact is also on the higher side."
   ]
  },
  {
   "cell_type": "markdown",
   "metadata": {},
   "source": [
    "#### A/B test analysis:"
   ]
  },
  {
   "cell_type": "code",
   "execution_count": 114,
   "metadata": {},
   "outputs": [
    {
     "data": {
      "text/html": [
       "<div>\n",
       "<style scoped>\n",
       "    .dataframe tbody tr th:only-of-type {\n",
       "        vertical-align: middle;\n",
       "    }\n",
       "\n",
       "    .dataframe tbody tr th {\n",
       "        vertical-align: top;\n",
       "    }\n",
       "\n",
       "    .dataframe thead th {\n",
       "        text-align: right;\n",
       "    }\n",
       "</style>\n",
       "<table border=\"1\" class=\"dataframe\">\n",
       "  <thead>\n",
       "    <tr style=\"text-align: right;\">\n",
       "      <th></th>\n",
       "      <th>Unnamed: 0</th>\n",
       "      <th>transactionId</th>\n",
       "      <th>visitorId</th>\n",
       "      <th>date</th>\n",
       "      <th>revenue</th>\n",
       "      <th>group</th>\n",
       "    </tr>\n",
       "  </thead>\n",
       "  <tbody>\n",
       "    <tr>\n",
       "      <th>0</th>\n",
       "      <td>0</td>\n",
       "      <td>3667963787</td>\n",
       "      <td>3312258926</td>\n",
       "      <td>2019-08-15</td>\n",
       "      <td>30.4</td>\n",
       "      <td>B</td>\n",
       "    </tr>\n",
       "    <tr>\n",
       "      <th>1</th>\n",
       "      <td>1</td>\n",
       "      <td>2804400009</td>\n",
       "      <td>3642806036</td>\n",
       "      <td>2019-08-15</td>\n",
       "      <td>15.2</td>\n",
       "      <td>B</td>\n",
       "    </tr>\n",
       "    <tr>\n",
       "      <th>2</th>\n",
       "      <td>3</td>\n",
       "      <td>3797467345</td>\n",
       "      <td>1196621759</td>\n",
       "      <td>2019-08-15</td>\n",
       "      <td>155.1</td>\n",
       "      <td>B</td>\n",
       "    </tr>\n",
       "    <tr>\n",
       "      <th>3</th>\n",
       "      <td>4</td>\n",
       "      <td>2282983706</td>\n",
       "      <td>2322279887</td>\n",
       "      <td>2019-08-15</td>\n",
       "      <td>40.5</td>\n",
       "      <td>B</td>\n",
       "    </tr>\n",
       "    <tr>\n",
       "      <th>4</th>\n",
       "      <td>5</td>\n",
       "      <td>182168103</td>\n",
       "      <td>935554773</td>\n",
       "      <td>2019-08-15</td>\n",
       "      <td>35.0</td>\n",
       "      <td>B</td>\n",
       "    </tr>\n",
       "    <tr>\n",
       "      <th>...</th>\n",
       "      <td>...</td>\n",
       "      <td>...</td>\n",
       "      <td>...</td>\n",
       "      <td>...</td>\n",
       "      <td>...</td>\n",
       "      <td>...</td>\n",
       "    </tr>\n",
       "    <tr>\n",
       "      <th>1011</th>\n",
       "      <td>1191</td>\n",
       "      <td>3592955527</td>\n",
       "      <td>608641596</td>\n",
       "      <td>2019-08-14</td>\n",
       "      <td>255.7</td>\n",
       "      <td>B</td>\n",
       "    </tr>\n",
       "    <tr>\n",
       "      <th>1012</th>\n",
       "      <td>1192</td>\n",
       "      <td>2662137336</td>\n",
       "      <td>3733762160</td>\n",
       "      <td>2019-08-14</td>\n",
       "      <td>100.8</td>\n",
       "      <td>B</td>\n",
       "    </tr>\n",
       "    <tr>\n",
       "      <th>1013</th>\n",
       "      <td>1193</td>\n",
       "      <td>2203539145</td>\n",
       "      <td>370388673</td>\n",
       "      <td>2019-08-14</td>\n",
       "      <td>50.1</td>\n",
       "      <td>A</td>\n",
       "    </tr>\n",
       "    <tr>\n",
       "      <th>1014</th>\n",
       "      <td>1194</td>\n",
       "      <td>1807773912</td>\n",
       "      <td>573423106</td>\n",
       "      <td>2019-08-14</td>\n",
       "      <td>165.3</td>\n",
       "      <td>A</td>\n",
       "    </tr>\n",
       "    <tr>\n",
       "      <th>1015</th>\n",
       "      <td>1196</td>\n",
       "      <td>3936777065</td>\n",
       "      <td>2108080724</td>\n",
       "      <td>2019-08-15</td>\n",
       "      <td>3120.1</td>\n",
       "      <td>B</td>\n",
       "    </tr>\n",
       "  </tbody>\n",
       "</table>\n",
       "<p>1016 rows × 6 columns</p>\n",
       "</div>"
      ],
      "text/plain": [
       "      Unnamed: 0  transactionId   visitorId       date  revenue group\n",
       "0              0     3667963787  3312258926 2019-08-15     30.4     B\n",
       "1              1     2804400009  3642806036 2019-08-15     15.2     B\n",
       "2              3     3797467345  1196621759 2019-08-15    155.1     B\n",
       "3              4     2282983706  2322279887 2019-08-15     40.5     B\n",
       "4              5      182168103   935554773 2019-08-15     35.0     B\n",
       "...          ...            ...         ...        ...      ...   ...\n",
       "1011        1191     3592955527   608641596 2019-08-14    255.7     B\n",
       "1012        1192     2662137336  3733762160 2019-08-14    100.8     B\n",
       "1013        1193     2203539145   370388673 2019-08-14     50.1     A\n",
       "1014        1194     1807773912   573423106 2019-08-14    165.3     A\n",
       "1015        1196     3936777065  2108080724 2019-08-15   3120.1     B\n",
       "\n",
       "[1016 rows x 6 columns]"
      ]
     },
     "execution_count": 114,
     "metadata": {},
     "output_type": "execute_result"
    }
   ],
   "source": [
    "orders_df_valid"
   ]
  },
  {
   "cell_type": "code",
   "execution_count": 115,
   "metadata": {},
   "outputs": [],
   "source": [
    "#group a --  getting aggregated cumulative daily data on orders for group A\n",
    "orders_df_valid_cumsumrev_a = orders_df_valid[orders_df_valid['group']=='A']\n",
    "orders_df_valid_cumsumrev_a = orders_df_valid_cumsumrev_a[['date','group','revenue','transactionId']].groupby(['date']).agg({'revenue':'sum','transactionId':'nunique'}).reset_index()\n",
    "orders_df_valid_cumsumrev_a['revenue_cumsum'] = orders_df_valid_cumsumrev_a['revenue'].cumsum()\n",
    "\n",
    "orders_df_valid_cumsumrev_a=orders_df_valid_cumsumrev_a.rename(columns={'transactionId':'orders'})\n",
    "orders_df_valid_cumsumrev_a['orders_cumsum'] = orders_df_valid_cumsumrev_a['orders'].cumsum()\n",
    "orders_df_valid_cumsumrev_a['average_order_cumsum'] = orders_df_valid_cumsumrev_a['revenue_cumsum']/orders_df_valid_cumsumrev_a['orders_cumsum']"
   ]
  },
  {
   "cell_type": "code",
   "execution_count": 116,
   "metadata": {},
   "outputs": [
    {
     "name": "stderr",
     "output_type": "stream",
     "text": [
      "C:\\Users\\thiya\\AppData\\Local\\Temp/ipykernel_25948/1530130671.py:12: SettingWithCopyWarning: \n",
      "A value is trying to be set on a copy of a slice from a DataFrame.\n",
      "Try using .loc[row_indexer,col_indexer] = value instead\n",
      "\n",
      "See the caveats in the documentation: https://pandas.pydata.org/pandas-docs/stable/user_guide/indexing.html#returning-a-view-versus-a-copy\n",
      "  visits_df_a['visits_cumsum'] = visits_df_a['visits'].cumsum()\n",
      "C:\\Users\\thiya\\AppData\\Local\\Temp/ipykernel_25948/1530130671.py:13: SettingWithCopyWarning: \n",
      "A value is trying to be set on a copy of a slice from a DataFrame.\n",
      "Try using .loc[row_indexer,col_indexer] = value instead\n",
      "\n",
      "See the caveats in the documentation: https://pandas.pydata.org/pandas-docs/stable/user_guide/indexing.html#returning-a-view-versus-a-copy\n",
      "  visits_df_b['visits_cumsum'] = visits_df_b['visits'].cumsum()\n"
     ]
    }
   ],
   "source": [
    "#group b -- getting aggregated cumulative daily data on orders for group B\n",
    "orders_df_valid_cumsumrev_b = orders_df_valid[orders_df_valid['group']=='B']\n",
    "orders_df_valid_cumsumrev_b = orders_df_valid_cumsumrev_b[['date','revenue','transactionId']].groupby('date').agg({'revenue':'sum','transactionId':'nunique'}).reset_index()\n",
    "orders_df_valid_cumsumrev_b['revenue_cumsum'] = orders_df_valid_cumsumrev_b['revenue'].cumsum()\n",
    "orders_df_valid_cumsumrev_b=orders_df_valid_cumsumrev_b.rename(columns={'transactionId':'orders'})\n",
    "orders_df_valid_cumsumrev_b['orders_cumsum'] = orders_df_valid_cumsumrev_b['orders'].cumsum()\n",
    "\n",
    "orders_df_valid_cumsumrev_b['average_order_cumsum'] = orders_df_valid_cumsumrev_b['revenue_cumsum']/orders_df_valid_cumsumrev_b['orders_cumsum']\n",
    "#getting aggregated cumulative daily data on visits for groups A and B\n",
    "visits_df_a=visits_df[visits_df['group']=='A']\n",
    "visits_df_b=visits_df[visits_df['group']=='B']\n",
    "visits_df_a['visits_cumsum'] = visits_df_a['visits'].cumsum()\n",
    "visits_df_b['visits_cumsum'] = visits_df_b['visits'].cumsum()\n",
    "#merging cumulative orders and visits\n",
    "cumulativeRevenueA=orders_df_valid_cumsumrev_a.merge(visits_df_a,left_on='date', right_on='date')\n",
    "cumulativeRevenueB=orders_df_valid_cumsumrev_b.merge(visits_df_b,left_on='date', right_on='date')\n"
   ]
  },
  {
   "cell_type": "code",
   "execution_count": 117,
   "metadata": {},
   "outputs": [
    {
     "data": {
      "text/html": [
       "<div>\n",
       "<style scoped>\n",
       "    .dataframe tbody tr th:only-of-type {\n",
       "        vertical-align: middle;\n",
       "    }\n",
       "\n",
       "    .dataframe tbody tr th {\n",
       "        vertical-align: top;\n",
       "    }\n",
       "\n",
       "    .dataframe thead th {\n",
       "        text-align: right;\n",
       "    }\n",
       "</style>\n",
       "<table border=\"1\" class=\"dataframe\">\n",
       "  <thead>\n",
       "    <tr style=\"text-align: right;\">\n",
       "      <th></th>\n",
       "      <th>Unnamed: 0</th>\n",
       "      <th>date</th>\n",
       "      <th>group</th>\n",
       "      <th>visits</th>\n",
       "    </tr>\n",
       "  </thead>\n",
       "  <tbody>\n",
       "    <tr>\n",
       "      <th>0</th>\n",
       "      <td>0</td>\n",
       "      <td>2019-08-01</td>\n",
       "      <td>A</td>\n",
       "      <td>719</td>\n",
       "    </tr>\n",
       "    <tr>\n",
       "      <th>1</th>\n",
       "      <td>1</td>\n",
       "      <td>2019-08-02</td>\n",
       "      <td>A</td>\n",
       "      <td>619</td>\n",
       "    </tr>\n",
       "    <tr>\n",
       "      <th>2</th>\n",
       "      <td>2</td>\n",
       "      <td>2019-08-03</td>\n",
       "      <td>A</td>\n",
       "      <td>507</td>\n",
       "    </tr>\n",
       "    <tr>\n",
       "      <th>3</th>\n",
       "      <td>3</td>\n",
       "      <td>2019-08-04</td>\n",
       "      <td>A</td>\n",
       "      <td>717</td>\n",
       "    </tr>\n",
       "    <tr>\n",
       "      <th>4</th>\n",
       "      <td>4</td>\n",
       "      <td>2019-08-05</td>\n",
       "      <td>A</td>\n",
       "      <td>756</td>\n",
       "    </tr>\n",
       "    <tr>\n",
       "      <th>...</th>\n",
       "      <td>...</td>\n",
       "      <td>...</td>\n",
       "      <td>...</td>\n",
       "      <td>...</td>\n",
       "    </tr>\n",
       "    <tr>\n",
       "      <th>57</th>\n",
       "      <td>57</td>\n",
       "      <td>2019-08-27</td>\n",
       "      <td>B</td>\n",
       "      <td>720</td>\n",
       "    </tr>\n",
       "    <tr>\n",
       "      <th>58</th>\n",
       "      <td>58</td>\n",
       "      <td>2019-08-28</td>\n",
       "      <td>B</td>\n",
       "      <td>654</td>\n",
       "    </tr>\n",
       "    <tr>\n",
       "      <th>59</th>\n",
       "      <td>59</td>\n",
       "      <td>2019-08-29</td>\n",
       "      <td>B</td>\n",
       "      <td>531</td>\n",
       "    </tr>\n",
       "    <tr>\n",
       "      <th>60</th>\n",
       "      <td>60</td>\n",
       "      <td>2019-08-30</td>\n",
       "      <td>B</td>\n",
       "      <td>490</td>\n",
       "    </tr>\n",
       "    <tr>\n",
       "      <th>61</th>\n",
       "      <td>61</td>\n",
       "      <td>2019-08-31</td>\n",
       "      <td>B</td>\n",
       "      <td>718</td>\n",
       "    </tr>\n",
       "  </tbody>\n",
       "</table>\n",
       "<p>62 rows × 4 columns</p>\n",
       "</div>"
      ],
      "text/plain": [
       "    Unnamed: 0       date group  visits\n",
       "0            0 2019-08-01     A     719\n",
       "1            1 2019-08-02     A     619\n",
       "2            2 2019-08-03     A     507\n",
       "3            3 2019-08-04     A     717\n",
       "4            4 2019-08-05     A     756\n",
       "..         ...        ...   ...     ...\n",
       "57          57 2019-08-27     B     720\n",
       "58          58 2019-08-28     B     654\n",
       "59          59 2019-08-29     B     531\n",
       "60          60 2019-08-30     B     490\n",
       "61          61 2019-08-31     B     718\n",
       "\n",
       "[62 rows x 4 columns]"
      ]
     },
     "execution_count": 117,
     "metadata": {},
     "output_type": "execute_result"
    }
   ],
   "source": [
    "visits_df"
   ]
  },
  {
   "cell_type": "code",
   "execution_count": 118,
   "metadata": {},
   "outputs": [
    {
     "data": {
      "text/html": [
       "<div>\n",
       "<style scoped>\n",
       "    .dataframe tbody tr th:only-of-type {\n",
       "        vertical-align: middle;\n",
       "    }\n",
       "\n",
       "    .dataframe tbody tr th {\n",
       "        vertical-align: top;\n",
       "    }\n",
       "\n",
       "    .dataframe thead th {\n",
       "        text-align: right;\n",
       "    }\n",
       "</style>\n",
       "<table border=\"1\" class=\"dataframe\">\n",
       "  <thead>\n",
       "    <tr style=\"text-align: right;\">\n",
       "      <th></th>\n",
       "      <th>date</th>\n",
       "      <th>revenue</th>\n",
       "      <th>orders</th>\n",
       "      <th>revenue_cumsum</th>\n",
       "      <th>orders_cumsum</th>\n",
       "      <th>average_order_cumsum</th>\n",
       "    </tr>\n",
       "  </thead>\n",
       "  <tbody>\n",
       "    <tr>\n",
       "      <th>0</th>\n",
       "      <td>2019-08-01</td>\n",
       "      <td>2266.6</td>\n",
       "      <td>23</td>\n",
       "      <td>2266.6</td>\n",
       "      <td>23</td>\n",
       "      <td>98.547826</td>\n",
       "    </tr>\n",
       "    <tr>\n",
       "      <th>1</th>\n",
       "      <td>2019-08-02</td>\n",
       "      <td>1468.3</td>\n",
       "      <td>19</td>\n",
       "      <td>3734.9</td>\n",
       "      <td>42</td>\n",
       "      <td>88.926190</td>\n",
       "    </tr>\n",
       "    <tr>\n",
       "      <th>2</th>\n",
       "      <td>2019-08-03</td>\n",
       "      <td>1815.2</td>\n",
       "      <td>24</td>\n",
       "      <td>5550.1</td>\n",
       "      <td>66</td>\n",
       "      <td>84.092424</td>\n",
       "    </tr>\n",
       "    <tr>\n",
       "      <th>3</th>\n",
       "      <td>2019-08-04</td>\n",
       "      <td>675.5</td>\n",
       "      <td>11</td>\n",
       "      <td>6225.6</td>\n",
       "      <td>77</td>\n",
       "      <td>80.851948</td>\n",
       "    </tr>\n",
       "    <tr>\n",
       "      <th>4</th>\n",
       "      <td>2019-08-05</td>\n",
       "      <td>1398.0</td>\n",
       "      <td>22</td>\n",
       "      <td>7623.6</td>\n",
       "      <td>99</td>\n",
       "      <td>77.006061</td>\n",
       "    </tr>\n",
       "    <tr>\n",
       "      <th>5</th>\n",
       "      <td>2019-08-06</td>\n",
       "      <td>668.4</td>\n",
       "      <td>15</td>\n",
       "      <td>8292.0</td>\n",
       "      <td>114</td>\n",
       "      <td>72.736842</td>\n",
       "    </tr>\n",
       "    <tr>\n",
       "      <th>6</th>\n",
       "      <td>2019-08-07</td>\n",
       "      <td>1942.0</td>\n",
       "      <td>16</td>\n",
       "      <td>10234.0</td>\n",
       "      <td>130</td>\n",
       "      <td>78.723077</td>\n",
       "    </tr>\n",
       "    <tr>\n",
       "      <th>7</th>\n",
       "      <td>2019-08-08</td>\n",
       "      <td>1404.8</td>\n",
       "      <td>14</td>\n",
       "      <td>11638.8</td>\n",
       "      <td>144</td>\n",
       "      <td>80.825000</td>\n",
       "    </tr>\n",
       "    <tr>\n",
       "      <th>8</th>\n",
       "      <td>2019-08-09</td>\n",
       "      <td>2095.2</td>\n",
       "      <td>11</td>\n",
       "      <td>13734.0</td>\n",
       "      <td>155</td>\n",
       "      <td>88.606452</td>\n",
       "    </tr>\n",
       "    <tr>\n",
       "      <th>9</th>\n",
       "      <td>2019-08-10</td>\n",
       "      <td>2387.5</td>\n",
       "      <td>15</td>\n",
       "      <td>16121.5</td>\n",
       "      <td>170</td>\n",
       "      <td>94.832353</td>\n",
       "    </tr>\n",
       "  </tbody>\n",
       "</table>\n",
       "</div>"
      ],
      "text/plain": [
       "        date  revenue  orders  revenue_cumsum  orders_cumsum  \\\n",
       "0 2019-08-01   2266.6      23          2266.6             23   \n",
       "1 2019-08-02   1468.3      19          3734.9             42   \n",
       "2 2019-08-03   1815.2      24          5550.1             66   \n",
       "3 2019-08-04    675.5      11          6225.6             77   \n",
       "4 2019-08-05   1398.0      22          7623.6             99   \n",
       "5 2019-08-06    668.4      15          8292.0            114   \n",
       "6 2019-08-07   1942.0      16         10234.0            130   \n",
       "7 2019-08-08   1404.8      14         11638.8            144   \n",
       "8 2019-08-09   2095.2      11         13734.0            155   \n",
       "9 2019-08-10   2387.5      15         16121.5            170   \n",
       "\n",
       "   average_order_cumsum  \n",
       "0             98.547826  \n",
       "1             88.926190  \n",
       "2             84.092424  \n",
       "3             80.851948  \n",
       "4             77.006061  \n",
       "5             72.736842  \n",
       "6             78.723077  \n",
       "7             80.825000  \n",
       "8             88.606452  \n",
       "9             94.832353  "
      ]
     },
     "execution_count": 118,
     "metadata": {},
     "output_type": "execute_result"
    }
   ],
   "source": [
    "orders_df_valid_cumsumrev_a.head(10)\n"
   ]
  },
  {
   "cell_type": "code",
   "execution_count": 119,
   "metadata": {},
   "outputs": [
    {
     "data": {
      "text/html": [
       "<div>\n",
       "<style scoped>\n",
       "    .dataframe tbody tr th:only-of-type {\n",
       "        vertical-align: middle;\n",
       "    }\n",
       "\n",
       "    .dataframe tbody tr th {\n",
       "        vertical-align: top;\n",
       "    }\n",
       "\n",
       "    .dataframe thead th {\n",
       "        text-align: right;\n",
       "    }\n",
       "</style>\n",
       "<table border=\"1\" class=\"dataframe\">\n",
       "  <thead>\n",
       "    <tr style=\"text-align: right;\">\n",
       "      <th></th>\n",
       "      <th>date</th>\n",
       "      <th>revenue</th>\n",
       "      <th>orders</th>\n",
       "      <th>revenue_cumsum</th>\n",
       "      <th>orders_cumsum</th>\n",
       "      <th>average_order_cumsum</th>\n",
       "      <th>Unnamed: 0</th>\n",
       "      <th>group</th>\n",
       "      <th>visits</th>\n",
       "      <th>visits_cumsum</th>\n",
       "    </tr>\n",
       "  </thead>\n",
       "  <tbody>\n",
       "    <tr>\n",
       "      <th>0</th>\n",
       "      <td>2019-08-01</td>\n",
       "      <td>2266.6</td>\n",
       "      <td>23</td>\n",
       "      <td>2266.6</td>\n",
       "      <td>23</td>\n",
       "      <td>98.547826</td>\n",
       "      <td>0</td>\n",
       "      <td>A</td>\n",
       "      <td>719</td>\n",
       "      <td>719</td>\n",
       "    </tr>\n",
       "    <tr>\n",
       "      <th>1</th>\n",
       "      <td>2019-08-02</td>\n",
       "      <td>1468.3</td>\n",
       "      <td>19</td>\n",
       "      <td>3734.9</td>\n",
       "      <td>42</td>\n",
       "      <td>88.926190</td>\n",
       "      <td>1</td>\n",
       "      <td>A</td>\n",
       "      <td>619</td>\n",
       "      <td>1338</td>\n",
       "    </tr>\n",
       "    <tr>\n",
       "      <th>2</th>\n",
       "      <td>2019-08-03</td>\n",
       "      <td>1815.2</td>\n",
       "      <td>24</td>\n",
       "      <td>5550.1</td>\n",
       "      <td>66</td>\n",
       "      <td>84.092424</td>\n",
       "      <td>2</td>\n",
       "      <td>A</td>\n",
       "      <td>507</td>\n",
       "      <td>1845</td>\n",
       "    </tr>\n",
       "    <tr>\n",
       "      <th>3</th>\n",
       "      <td>2019-08-04</td>\n",
       "      <td>675.5</td>\n",
       "      <td>11</td>\n",
       "      <td>6225.6</td>\n",
       "      <td>77</td>\n",
       "      <td>80.851948</td>\n",
       "      <td>3</td>\n",
       "      <td>A</td>\n",
       "      <td>717</td>\n",
       "      <td>2562</td>\n",
       "    </tr>\n",
       "    <tr>\n",
       "      <th>4</th>\n",
       "      <td>2019-08-05</td>\n",
       "      <td>1398.0</td>\n",
       "      <td>22</td>\n",
       "      <td>7623.6</td>\n",
       "      <td>99</td>\n",
       "      <td>77.006061</td>\n",
       "      <td>4</td>\n",
       "      <td>A</td>\n",
       "      <td>756</td>\n",
       "      <td>3318</td>\n",
       "    </tr>\n",
       "    <tr>\n",
       "      <th>5</th>\n",
       "      <td>2019-08-06</td>\n",
       "      <td>668.4</td>\n",
       "      <td>15</td>\n",
       "      <td>8292.0</td>\n",
       "      <td>114</td>\n",
       "      <td>72.736842</td>\n",
       "      <td>5</td>\n",
       "      <td>A</td>\n",
       "      <td>667</td>\n",
       "      <td>3985</td>\n",
       "    </tr>\n",
       "    <tr>\n",
       "      <th>6</th>\n",
       "      <td>2019-08-07</td>\n",
       "      <td>1942.0</td>\n",
       "      <td>16</td>\n",
       "      <td>10234.0</td>\n",
       "      <td>130</td>\n",
       "      <td>78.723077</td>\n",
       "      <td>6</td>\n",
       "      <td>A</td>\n",
       "      <td>644</td>\n",
       "      <td>4629</td>\n",
       "    </tr>\n",
       "    <tr>\n",
       "      <th>7</th>\n",
       "      <td>2019-08-08</td>\n",
       "      <td>1404.8</td>\n",
       "      <td>14</td>\n",
       "      <td>11638.8</td>\n",
       "      <td>144</td>\n",
       "      <td>80.825000</td>\n",
       "      <td>7</td>\n",
       "      <td>A</td>\n",
       "      <td>610</td>\n",
       "      <td>5239</td>\n",
       "    </tr>\n",
       "    <tr>\n",
       "      <th>8</th>\n",
       "      <td>2019-08-09</td>\n",
       "      <td>2095.2</td>\n",
       "      <td>11</td>\n",
       "      <td>13734.0</td>\n",
       "      <td>155</td>\n",
       "      <td>88.606452</td>\n",
       "      <td>8</td>\n",
       "      <td>A</td>\n",
       "      <td>617</td>\n",
       "      <td>5856</td>\n",
       "    </tr>\n",
       "    <tr>\n",
       "      <th>9</th>\n",
       "      <td>2019-08-10</td>\n",
       "      <td>2387.5</td>\n",
       "      <td>15</td>\n",
       "      <td>16121.5</td>\n",
       "      <td>170</td>\n",
       "      <td>94.832353</td>\n",
       "      <td>9</td>\n",
       "      <td>A</td>\n",
       "      <td>406</td>\n",
       "      <td>6262</td>\n",
       "    </tr>\n",
       "  </tbody>\n",
       "</table>\n",
       "</div>"
      ],
      "text/plain": [
       "        date  revenue  orders  revenue_cumsum  orders_cumsum  \\\n",
       "0 2019-08-01   2266.6      23          2266.6             23   \n",
       "1 2019-08-02   1468.3      19          3734.9             42   \n",
       "2 2019-08-03   1815.2      24          5550.1             66   \n",
       "3 2019-08-04    675.5      11          6225.6             77   \n",
       "4 2019-08-05   1398.0      22          7623.6             99   \n",
       "5 2019-08-06    668.4      15          8292.0            114   \n",
       "6 2019-08-07   1942.0      16         10234.0            130   \n",
       "7 2019-08-08   1404.8      14         11638.8            144   \n",
       "8 2019-08-09   2095.2      11         13734.0            155   \n",
       "9 2019-08-10   2387.5      15         16121.5            170   \n",
       "\n",
       "   average_order_cumsum  Unnamed: 0 group  visits  visits_cumsum  \n",
       "0             98.547826           0     A     719            719  \n",
       "1             88.926190           1     A     619           1338  \n",
       "2             84.092424           2     A     507           1845  \n",
       "3             80.851948           3     A     717           2562  \n",
       "4             77.006061           4     A     756           3318  \n",
       "5             72.736842           5     A     667           3985  \n",
       "6             78.723077           6     A     644           4629  \n",
       "7             80.825000           7     A     610           5239  \n",
       "8             88.606452           8     A     617           5856  \n",
       "9             94.832353           9     A     406           6262  "
      ]
     },
     "execution_count": 119,
     "metadata": {},
     "output_type": "execute_result"
    }
   ],
   "source": [
    "cumulativeRevenueA.head(10)"
   ]
  },
  {
   "cell_type": "code",
   "execution_count": 120,
   "metadata": {},
   "outputs": [
    {
     "data": {
      "text/html": [
       "<div>\n",
       "<style scoped>\n",
       "    .dataframe tbody tr th:only-of-type {\n",
       "        vertical-align: middle;\n",
       "    }\n",
       "\n",
       "    .dataframe tbody tr th {\n",
       "        vertical-align: top;\n",
       "    }\n",
       "\n",
       "    .dataframe thead th {\n",
       "        text-align: right;\n",
       "    }\n",
       "</style>\n",
       "<table border=\"1\" class=\"dataframe\">\n",
       "  <thead>\n",
       "    <tr style=\"text-align: right;\">\n",
       "      <th></th>\n",
       "      <th>date</th>\n",
       "      <th>revenue</th>\n",
       "      <th>orders</th>\n",
       "      <th>revenue_cumsum</th>\n",
       "      <th>orders_cumsum</th>\n",
       "      <th>average_order_cumsum</th>\n",
       "    </tr>\n",
       "  </thead>\n",
       "  <tbody>\n",
       "    <tr>\n",
       "      <th>0</th>\n",
       "      <td>2019-08-01</td>\n",
       "      <td>967.2</td>\n",
       "      <td>17</td>\n",
       "      <td>967.2</td>\n",
       "      <td>17</td>\n",
       "      <td>56.894118</td>\n",
       "    </tr>\n",
       "    <tr>\n",
       "      <th>1</th>\n",
       "      <td>2019-08-02</td>\n",
       "      <td>2568.1</td>\n",
       "      <td>23</td>\n",
       "      <td>3535.3</td>\n",
       "      <td>40</td>\n",
       "      <td>88.382500</td>\n",
       "    </tr>\n",
       "    <tr>\n",
       "      <th>2</th>\n",
       "      <td>2019-08-03</td>\n",
       "      <td>1071.6</td>\n",
       "      <td>14</td>\n",
       "      <td>4606.9</td>\n",
       "      <td>54</td>\n",
       "      <td>85.312963</td>\n",
       "    </tr>\n",
       "    <tr>\n",
       "      <th>3</th>\n",
       "      <td>2019-08-04</td>\n",
       "      <td>1531.6</td>\n",
       "      <td>14</td>\n",
       "      <td>6138.5</td>\n",
       "      <td>68</td>\n",
       "      <td>90.272059</td>\n",
       "    </tr>\n",
       "    <tr>\n",
       "      <th>4</th>\n",
       "      <td>2019-08-05</td>\n",
       "      <td>1449.3</td>\n",
       "      <td>21</td>\n",
       "      <td>7587.8</td>\n",
       "      <td>89</td>\n",
       "      <td>85.256180</td>\n",
       "    </tr>\n",
       "    <tr>\n",
       "      <th>5</th>\n",
       "      <td>2019-08-06</td>\n",
       "      <td>3369.3</td>\n",
       "      <td>23</td>\n",
       "      <td>10957.1</td>\n",
       "      <td>112</td>\n",
       "      <td>97.831250</td>\n",
       "    </tr>\n",
       "    <tr>\n",
       "      <th>6</th>\n",
       "      <td>2019-08-07</td>\n",
       "      <td>3435.6</td>\n",
       "      <td>23</td>\n",
       "      <td>14392.7</td>\n",
       "      <td>135</td>\n",
       "      <td>106.612593</td>\n",
       "    </tr>\n",
       "    <tr>\n",
       "      <th>7</th>\n",
       "      <td>2019-08-08</td>\n",
       "      <td>2379.9</td>\n",
       "      <td>22</td>\n",
       "      <td>16772.6</td>\n",
       "      <td>157</td>\n",
       "      <td>106.831847</td>\n",
       "    </tr>\n",
       "    <tr>\n",
       "      <th>8</th>\n",
       "      <td>2019-08-09</td>\n",
       "      <td>1656.2</td>\n",
       "      <td>19</td>\n",
       "      <td>18428.8</td>\n",
       "      <td>176</td>\n",
       "      <td>104.709091</td>\n",
       "    </tr>\n",
       "    <tr>\n",
       "      <th>9</th>\n",
       "      <td>2019-08-10</td>\n",
       "      <td>1674.8</td>\n",
       "      <td>22</td>\n",
       "      <td>20103.6</td>\n",
       "      <td>198</td>\n",
       "      <td>101.533333</td>\n",
       "    </tr>\n",
       "  </tbody>\n",
       "</table>\n",
       "</div>"
      ],
      "text/plain": [
       "        date  revenue  orders  revenue_cumsum  orders_cumsum  \\\n",
       "0 2019-08-01    967.2      17           967.2             17   \n",
       "1 2019-08-02   2568.1      23          3535.3             40   \n",
       "2 2019-08-03   1071.6      14          4606.9             54   \n",
       "3 2019-08-04   1531.6      14          6138.5             68   \n",
       "4 2019-08-05   1449.3      21          7587.8             89   \n",
       "5 2019-08-06   3369.3      23         10957.1            112   \n",
       "6 2019-08-07   3435.6      23         14392.7            135   \n",
       "7 2019-08-08   2379.9      22         16772.6            157   \n",
       "8 2019-08-09   1656.2      19         18428.8            176   \n",
       "9 2019-08-10   1674.8      22         20103.6            198   \n",
       "\n",
       "   average_order_cumsum  \n",
       "0             56.894118  \n",
       "1             88.382500  \n",
       "2             85.312963  \n",
       "3             90.272059  \n",
       "4             85.256180  \n",
       "5             97.831250  \n",
       "6            106.612593  \n",
       "7            106.831847  \n",
       "8            104.709091  \n",
       "9            101.533333  "
      ]
     },
     "execution_count": 120,
     "metadata": {},
     "output_type": "execute_result"
    }
   ],
   "source": [
    "orders_df_valid_cumsumrev_b.head(10)"
   ]
  },
  {
   "cell_type": "code",
   "execution_count": 121,
   "metadata": {},
   "outputs": [
    {
     "data": {
      "text/html": [
       "<div>\n",
       "<style scoped>\n",
       "    .dataframe tbody tr th:only-of-type {\n",
       "        vertical-align: middle;\n",
       "    }\n",
       "\n",
       "    .dataframe tbody tr th {\n",
       "        vertical-align: top;\n",
       "    }\n",
       "\n",
       "    .dataframe thead th {\n",
       "        text-align: right;\n",
       "    }\n",
       "</style>\n",
       "<table border=\"1\" class=\"dataframe\">\n",
       "  <thead>\n",
       "    <tr style=\"text-align: right;\">\n",
       "      <th></th>\n",
       "      <th>date</th>\n",
       "      <th>revenue</th>\n",
       "      <th>orders</th>\n",
       "      <th>revenue_cumsum</th>\n",
       "      <th>orders_cumsum</th>\n",
       "      <th>average_order_cumsum</th>\n",
       "      <th>Unnamed: 0</th>\n",
       "      <th>group</th>\n",
       "      <th>visits</th>\n",
       "      <th>visits_cumsum</th>\n",
       "    </tr>\n",
       "  </thead>\n",
       "  <tbody>\n",
       "    <tr>\n",
       "      <th>0</th>\n",
       "      <td>2019-08-01</td>\n",
       "      <td>967.2</td>\n",
       "      <td>17</td>\n",
       "      <td>967.2</td>\n",
       "      <td>17</td>\n",
       "      <td>56.894118</td>\n",
       "      <td>31</td>\n",
       "      <td>B</td>\n",
       "      <td>713</td>\n",
       "      <td>713</td>\n",
       "    </tr>\n",
       "    <tr>\n",
       "      <th>1</th>\n",
       "      <td>2019-08-02</td>\n",
       "      <td>2568.1</td>\n",
       "      <td>23</td>\n",
       "      <td>3535.3</td>\n",
       "      <td>40</td>\n",
       "      <td>88.382500</td>\n",
       "      <td>32</td>\n",
       "      <td>B</td>\n",
       "      <td>581</td>\n",
       "      <td>1294</td>\n",
       "    </tr>\n",
       "    <tr>\n",
       "      <th>2</th>\n",
       "      <td>2019-08-03</td>\n",
       "      <td>1071.6</td>\n",
       "      <td>14</td>\n",
       "      <td>4606.9</td>\n",
       "      <td>54</td>\n",
       "      <td>85.312963</td>\n",
       "      <td>33</td>\n",
       "      <td>B</td>\n",
       "      <td>509</td>\n",
       "      <td>1803</td>\n",
       "    </tr>\n",
       "    <tr>\n",
       "      <th>3</th>\n",
       "      <td>2019-08-04</td>\n",
       "      <td>1531.6</td>\n",
       "      <td>14</td>\n",
       "      <td>6138.5</td>\n",
       "      <td>68</td>\n",
       "      <td>90.272059</td>\n",
       "      <td>34</td>\n",
       "      <td>B</td>\n",
       "      <td>770</td>\n",
       "      <td>2573</td>\n",
       "    </tr>\n",
       "    <tr>\n",
       "      <th>4</th>\n",
       "      <td>2019-08-05</td>\n",
       "      <td>1449.3</td>\n",
       "      <td>21</td>\n",
       "      <td>7587.8</td>\n",
       "      <td>89</td>\n",
       "      <td>85.256180</td>\n",
       "      <td>35</td>\n",
       "      <td>B</td>\n",
       "      <td>707</td>\n",
       "      <td>3280</td>\n",
       "    </tr>\n",
       "    <tr>\n",
       "      <th>5</th>\n",
       "      <td>2019-08-06</td>\n",
       "      <td>3369.3</td>\n",
       "      <td>23</td>\n",
       "      <td>10957.1</td>\n",
       "      <td>112</td>\n",
       "      <td>97.831250</td>\n",
       "      <td>36</td>\n",
       "      <td>B</td>\n",
       "      <td>655</td>\n",
       "      <td>3935</td>\n",
       "    </tr>\n",
       "    <tr>\n",
       "      <th>6</th>\n",
       "      <td>2019-08-07</td>\n",
       "      <td>3435.6</td>\n",
       "      <td>23</td>\n",
       "      <td>14392.7</td>\n",
       "      <td>135</td>\n",
       "      <td>106.612593</td>\n",
       "      <td>37</td>\n",
       "      <td>B</td>\n",
       "      <td>709</td>\n",
       "      <td>4644</td>\n",
       "    </tr>\n",
       "    <tr>\n",
       "      <th>7</th>\n",
       "      <td>2019-08-08</td>\n",
       "      <td>2379.9</td>\n",
       "      <td>22</td>\n",
       "      <td>16772.6</td>\n",
       "      <td>157</td>\n",
       "      <td>106.831847</td>\n",
       "      <td>38</td>\n",
       "      <td>B</td>\n",
       "      <td>654</td>\n",
       "      <td>5298</td>\n",
       "    </tr>\n",
       "    <tr>\n",
       "      <th>8</th>\n",
       "      <td>2019-08-09</td>\n",
       "      <td>1656.2</td>\n",
       "      <td>19</td>\n",
       "      <td>18428.8</td>\n",
       "      <td>176</td>\n",
       "      <td>104.709091</td>\n",
       "      <td>39</td>\n",
       "      <td>B</td>\n",
       "      <td>610</td>\n",
       "      <td>5908</td>\n",
       "    </tr>\n",
       "    <tr>\n",
       "      <th>9</th>\n",
       "      <td>2019-08-10</td>\n",
       "      <td>1674.8</td>\n",
       "      <td>22</td>\n",
       "      <td>20103.6</td>\n",
       "      <td>198</td>\n",
       "      <td>101.533333</td>\n",
       "      <td>40</td>\n",
       "      <td>B</td>\n",
       "      <td>369</td>\n",
       "      <td>6277</td>\n",
       "    </tr>\n",
       "  </tbody>\n",
       "</table>\n",
       "</div>"
      ],
      "text/plain": [
       "        date  revenue  orders  revenue_cumsum  orders_cumsum  \\\n",
       "0 2019-08-01    967.2      17           967.2             17   \n",
       "1 2019-08-02   2568.1      23          3535.3             40   \n",
       "2 2019-08-03   1071.6      14          4606.9             54   \n",
       "3 2019-08-04   1531.6      14          6138.5             68   \n",
       "4 2019-08-05   1449.3      21          7587.8             89   \n",
       "5 2019-08-06   3369.3      23         10957.1            112   \n",
       "6 2019-08-07   3435.6      23         14392.7            135   \n",
       "7 2019-08-08   2379.9      22         16772.6            157   \n",
       "8 2019-08-09   1656.2      19         18428.8            176   \n",
       "9 2019-08-10   1674.8      22         20103.6            198   \n",
       "\n",
       "   average_order_cumsum  Unnamed: 0 group  visits  visits_cumsum  \n",
       "0             56.894118          31     B     713            713  \n",
       "1             88.382500          32     B     581           1294  \n",
       "2             85.312963          33     B     509           1803  \n",
       "3             90.272059          34     B     770           2573  \n",
       "4             85.256180          35     B     707           3280  \n",
       "5             97.831250          36     B     655           3935  \n",
       "6            106.612593          37     B     709           4644  \n",
       "7            106.831847          38     B     654           5298  \n",
       "8            104.709091          39     B     610           5908  \n",
       "9            101.533333          40     B     369           6277  "
      ]
     },
     "execution_count": 121,
     "metadata": {},
     "output_type": "execute_result"
    }
   ],
   "source": [
    "cumulativeRevenueB.sort_values(by='revenue_cumsum').head(10)"
   ]
  },
  {
   "cell_type": "code",
   "execution_count": 122,
   "metadata": {},
   "outputs": [
    {
     "data": {
      "text/plain": [
       "count       31.000000\n",
       "mean     39235.251613\n",
       "std      26695.051183\n",
       "min        967.200000\n",
       "25%      17600.700000\n",
       "50%      32840.200000\n",
       "75%      65435.650000\n",
       "max      79651.200000\n",
       "Name: revenue_cumsum, dtype: float64"
      ]
     },
     "execution_count": 122,
     "metadata": {},
     "output_type": "execute_result"
    }
   ],
   "source": [
    "cumulativeRevenueB['revenue_cumsum'].describe()"
   ]
  },
  {
   "cell_type": "code",
   "execution_count": 123,
   "metadata": {},
   "outputs": [
    {
     "data": {
      "image/png": "[encoded data removed]",
      "text/plain": [
       "<Figure size 432x288 with 1 Axes>"
      ]
     },
     "metadata": {
      "needs_background": "light"
     },
     "output_type": "display_data"
    }
   ],
   "source": [
    "# Plotting the group A revenue graph \n",
    "plt.plot(cumulativeRevenueA['date'], cumulativeRevenueA['revenue_cumsum'], label='A')\n",
    "\n",
    "# Plotting the group B revenue graph \n",
    "plt.plot(cumulativeRevenueB['date'], cumulativeRevenueB['revenue_cumsum'], label='B')\n",
    "\n",
    "plt.legend()\n",
    "plt.xticks(rotation=90)\n",
    "plt.xlabel('Date')\n",
    "plt.ylabel('Cumulative revenue')\n",
    "plt.show()"
   ]
  },
  {
   "cell_type": "markdown",
   "metadata": {},
   "source": [
    "Both the group shows increase in revenue.Group A is increasing steadily with no major change.  \n",
    "Group B shows a spike aand then is increasing steadily..  \n",
    "Analysing the table 'cumulativeRevenueB' , we see that there is a spike in revenue on 2019-08-19  .\n",
    "There is an consistent increase of revenue per day around(1000-3000) with a sudden spike of 22000  \n",
    "on 2019-08-19 which then gets back to the trend around(1000-3000).this can be seen clearly in   \n",
    "the above graph.  \n"
   ]
  },
  {
   "cell_type": "markdown",
   "metadata": {},
   "source": [
    "***cumulative average order size by group***"
   ]
  },
  {
   "cell_type": "code",
   "execution_count": 124,
   "metadata": {},
   "outputs": [
    {
     "data": {
      "image/png": "[encoded data removed]",
      "text/plain": [
       "<Figure size 432x288 with 1 Axes>"
      ]
     },
     "metadata": {
      "needs_background": "light"
     },
     "output_type": "display_data"
    }
   ],
   "source": [
    "plt.plot(cumulativeRevenueA['date'], cumulativeRevenueA['average_order_cumsum'], label='A')\n",
    "plt.plot(cumulativeRevenueB['date'], cumulativeRevenueB['average_order_cumsum'], label='B')\n",
    "plt.legend() \n",
    "plt.xticks(rotation=90)\n",
    "plt.xlabel('Date')\n",
    "plt.ylabel('Cumulative average order size')\n",
    "plt.show()\n",
    "\n"
   ]
  },
  {
   "cell_type": "markdown",
   "metadata": {},
   "source": [
    "Consistent with our earlier finding , we see a spike in average order size (B)around 17th to 21st in the month.  \n",
    "This is because of sudden spike in revenue but not in orders ...The graph then is much more stable with B falling slightly and A showing gradual increase."
   ]
  },
  {
   "cell_type": "markdown",
   "metadata": {},
   "source": [
    "***Relative difference in cumulative average order size for group B compared with group A***"
   ]
  },
  {
   "cell_type": "code",
   "execution_count": 125,
   "metadata": {},
   "outputs": [
    {
     "data": {
      "image/png": "[encoded data removed]",
      "text/plain": [
       "<Figure size 432x288 with 1 Axes>"
      ]
     },
     "metadata": {
      "needs_background": "light"
     },
     "output_type": "display_data"
    }
   ],
   "source": [
    "# gathering the data into one DataFrame\n",
    "mergedCumulativeRevenue = cumulativeRevenueA.merge(cumulativeRevenueB, left_on='date', right_on='date', how='left', suffixes=['A', 'B'])\n",
    "\n",
    "# plotting a relative difference graph for the average purchase sizes\n",
    "\n",
    "plt.plot(mergedCumulativeRevenue['date'], (mergedCumulativeRevenue['average_order_cumsumB'])/(mergedCumulativeRevenue['average_order_cumsumA']-1))\n",
    "plt.axhline(y=0, color='black', linestyle='--') \n",
    "plt.xticks(rotation=90)\n",
    "plt.xlabel('Date')\n",
    "plt.ylabel('Relative difference-order size')\n",
    "plt.show()\n"
   ]
  },
  {
   "cell_type": "markdown",
   "metadata": {},
   "source": [
    "The graph which shows some spikes and dips initially gets smoothened towards the end and looks more stable."
   ]
  },
  {
   "cell_type": "markdown",
   "metadata": {},
   "source": [
    "***daily conversion rates of the two groups***"
   ]
  },
  {
   "cell_type": "code",
   "execution_count": 126,
   "metadata": {},
   "outputs": [
    {
     "data": {
      "text/html": [
       "<div>\n",
       "<style scoped>\n",
       "    .dataframe tbody tr th:only-of-type {\n",
       "        vertical-align: middle;\n",
       "    }\n",
       "\n",
       "    .dataframe tbody tr th {\n",
       "        vertical-align: top;\n",
       "    }\n",
       "\n",
       "    .dataframe thead th {\n",
       "        text-align: right;\n",
       "    }\n",
       "</style>\n",
       "<table border=\"1\" class=\"dataframe\">\n",
       "  <thead>\n",
       "    <tr style=\"text-align: right;\">\n",
       "      <th></th>\n",
       "      <th>date</th>\n",
       "      <th>revenue</th>\n",
       "      <th>orders</th>\n",
       "      <th>revenue_cumsum</th>\n",
       "      <th>orders_cumsum</th>\n",
       "      <th>average_order_cumsum</th>\n",
       "      <th>Unnamed: 0</th>\n",
       "      <th>group</th>\n",
       "      <th>visits</th>\n",
       "      <th>visits_cumsum</th>\n",
       "      <th>conversion</th>\n",
       "    </tr>\n",
       "  </thead>\n",
       "  <tbody>\n",
       "    <tr>\n",
       "      <th>0</th>\n",
       "      <td>2019-08-01</td>\n",
       "      <td>967.2</td>\n",
       "      <td>17</td>\n",
       "      <td>967.2</td>\n",
       "      <td>17</td>\n",
       "      <td>56.894118</td>\n",
       "      <td>31</td>\n",
       "      <td>B</td>\n",
       "      <td>713</td>\n",
       "      <td>713</td>\n",
       "      <td>0.023843</td>\n",
       "    </tr>\n",
       "    <tr>\n",
       "      <th>1</th>\n",
       "      <td>2019-08-02</td>\n",
       "      <td>2568.1</td>\n",
       "      <td>23</td>\n",
       "      <td>3535.3</td>\n",
       "      <td>40</td>\n",
       "      <td>88.382500</td>\n",
       "      <td>32</td>\n",
       "      <td>B</td>\n",
       "      <td>581</td>\n",
       "      <td>1294</td>\n",
       "      <td>0.030912</td>\n",
       "    </tr>\n",
       "    <tr>\n",
       "      <th>2</th>\n",
       "      <td>2019-08-03</td>\n",
       "      <td>1071.6</td>\n",
       "      <td>14</td>\n",
       "      <td>4606.9</td>\n",
       "      <td>54</td>\n",
       "      <td>85.312963</td>\n",
       "      <td>33</td>\n",
       "      <td>B</td>\n",
       "      <td>509</td>\n",
       "      <td>1803</td>\n",
       "      <td>0.029950</td>\n",
       "    </tr>\n",
       "    <tr>\n",
       "      <th>3</th>\n",
       "      <td>2019-08-04</td>\n",
       "      <td>1531.6</td>\n",
       "      <td>14</td>\n",
       "      <td>6138.5</td>\n",
       "      <td>68</td>\n",
       "      <td>90.272059</td>\n",
       "      <td>34</td>\n",
       "      <td>B</td>\n",
       "      <td>770</td>\n",
       "      <td>2573</td>\n",
       "      <td>0.026428</td>\n",
       "    </tr>\n",
       "    <tr>\n",
       "      <th>4</th>\n",
       "      <td>2019-08-05</td>\n",
       "      <td>1449.3</td>\n",
       "      <td>21</td>\n",
       "      <td>7587.8</td>\n",
       "      <td>89</td>\n",
       "      <td>85.256180</td>\n",
       "      <td>35</td>\n",
       "      <td>B</td>\n",
       "      <td>707</td>\n",
       "      <td>3280</td>\n",
       "      <td>0.027134</td>\n",
       "    </tr>\n",
       "    <tr>\n",
       "      <th>5</th>\n",
       "      <td>2019-08-06</td>\n",
       "      <td>3369.3</td>\n",
       "      <td>23</td>\n",
       "      <td>10957.1</td>\n",
       "      <td>112</td>\n",
       "      <td>97.831250</td>\n",
       "      <td>36</td>\n",
       "      <td>B</td>\n",
       "      <td>655</td>\n",
       "      <td>3935</td>\n",
       "      <td>0.028463</td>\n",
       "    </tr>\n",
       "    <tr>\n",
       "      <th>6</th>\n",
       "      <td>2019-08-07</td>\n",
       "      <td>3435.6</td>\n",
       "      <td>23</td>\n",
       "      <td>14392.7</td>\n",
       "      <td>135</td>\n",
       "      <td>106.612593</td>\n",
       "      <td>37</td>\n",
       "      <td>B</td>\n",
       "      <td>709</td>\n",
       "      <td>4644</td>\n",
       "      <td>0.029070</td>\n",
       "    </tr>\n",
       "    <tr>\n",
       "      <th>7</th>\n",
       "      <td>2019-08-08</td>\n",
       "      <td>2379.9</td>\n",
       "      <td>22</td>\n",
       "      <td>16772.6</td>\n",
       "      <td>157</td>\n",
       "      <td>106.831847</td>\n",
       "      <td>38</td>\n",
       "      <td>B</td>\n",
       "      <td>654</td>\n",
       "      <td>5298</td>\n",
       "      <td>0.029634</td>\n",
       "    </tr>\n",
       "    <tr>\n",
       "      <th>8</th>\n",
       "      <td>2019-08-09</td>\n",
       "      <td>1656.2</td>\n",
       "      <td>19</td>\n",
       "      <td>18428.8</td>\n",
       "      <td>176</td>\n",
       "      <td>104.709091</td>\n",
       "      <td>39</td>\n",
       "      <td>B</td>\n",
       "      <td>610</td>\n",
       "      <td>5908</td>\n",
       "      <td>0.029790</td>\n",
       "    </tr>\n",
       "    <tr>\n",
       "      <th>9</th>\n",
       "      <td>2019-08-10</td>\n",
       "      <td>1674.8</td>\n",
       "      <td>22</td>\n",
       "      <td>20103.6</td>\n",
       "      <td>198</td>\n",
       "      <td>101.533333</td>\n",
       "      <td>40</td>\n",
       "      <td>B</td>\n",
       "      <td>369</td>\n",
       "      <td>6277</td>\n",
       "      <td>0.031544</td>\n",
       "    </tr>\n",
       "  </tbody>\n",
       "</table>\n",
       "</div>"
      ],
      "text/plain": [
       "        date  revenue  orders  revenue_cumsum  orders_cumsum  \\\n",
       "0 2019-08-01    967.2      17           967.2             17   \n",
       "1 2019-08-02   2568.1      23          3535.3             40   \n",
       "2 2019-08-03   1071.6      14          4606.9             54   \n",
       "3 2019-08-04   1531.6      14          6138.5             68   \n",
       "4 2019-08-05   1449.3      21          7587.8             89   \n",
       "5 2019-08-06   3369.3      23         10957.1            112   \n",
       "6 2019-08-07   3435.6      23         14392.7            135   \n",
       "7 2019-08-08   2379.9      22         16772.6            157   \n",
       "8 2019-08-09   1656.2      19         18428.8            176   \n",
       "9 2019-08-10   1674.8      22         20103.6            198   \n",
       "\n",
       "   average_order_cumsum  Unnamed: 0 group  visits  visits_cumsum  conversion  \n",
       "0             56.894118          31     B     713            713    0.023843  \n",
       "1             88.382500          32     B     581           1294    0.030912  \n",
       "2             85.312963          33     B     509           1803    0.029950  \n",
       "3             90.272059          34     B     770           2573    0.026428  \n",
       "4             85.256180          35     B     707           3280    0.027134  \n",
       "5             97.831250          36     B     655           3935    0.028463  \n",
       "6            106.612593          37     B     709           4644    0.029070  \n",
       "7            106.831847          38     B     654           5298    0.029634  \n",
       "8            104.709091          39     B     610           5908    0.029790  \n",
       "9            101.533333          40     B     369           6277    0.031544  "
      ]
     },
     "execution_count": 126,
     "metadata": {},
     "output_type": "execute_result"
    }
   ],
   "source": [
    "# calculating cumulative conversion\n",
    "cumulativeRevenueA['conversion'] = cumulativeRevenueA['orders_cumsum']/cumulativeRevenueA['visits_cumsum']\n",
    "\n",
    "cumulativeRevenueB['conversion'] = cumulativeRevenueB['orders_cumsum']/cumulativeRevenueB['visits_cumsum']\n",
    "cumulativeRevenueB.head(10)"
   ]
  },
  {
   "cell_type": "code",
   "execution_count": 127,
   "metadata": {},
   "outputs": [
    {
     "ename": "ConversionError",
     "evalue": "Failed to convert value(s) to axis units: '2019-08-01'",
     "output_type": "error",
     "traceback": [
      "\u001b[1;31m---------------------------------------------------------------------------\u001b[0m",
      "\u001b[1;31mIndexError\u001b[0m                                Traceback (most recent call last)",
      "\u001b[1;32m~\\anaconda3\\lib\\site-packages\\matplotlib\\axis.py\u001b[0m in \u001b[0;36mconvert_units\u001b[1;34m(self, x)\u001b[0m\n\u001b[0;32m   1504\u001b[0m         \u001b[1;32mtry\u001b[0m\u001b[1;33m:\u001b[0m\u001b[1;33m\u001b[0m\u001b[1;33m\u001b[0m\u001b[0m\n\u001b[1;32m-> 1505\u001b[1;33m             \u001b[0mret\u001b[0m \u001b[1;33m=\u001b[0m \u001b[0mself\u001b[0m\u001b[1;33m.\u001b[0m\u001b[0mconverter\u001b[0m\u001b[1;33m.\u001b[0m\u001b[0mconvert\u001b[0m\u001b[1;33m(\u001b[0m\u001b[0mx\u001b[0m\u001b[1;33m,\u001b[0m \u001b[0mself\u001b[0m\u001b[1;33m.\u001b[0m\u001b[0munits\u001b[0m\u001b[1;33m,\u001b[0m \u001b[0mself\u001b[0m\u001b[1;33m)\u001b[0m\u001b[1;33m\u001b[0m\u001b[1;33m\u001b[0m\u001b[0m\n\u001b[0m\u001b[0;32m   1506\u001b[0m         \u001b[1;32mexcept\u001b[0m \u001b[0mException\u001b[0m \u001b[1;32mas\u001b[0m \u001b[0me\u001b[0m\u001b[1;33m:\u001b[0m\u001b[1;33m\u001b[0m\u001b[1;33m\u001b[0m\u001b[0m\n",
      "\u001b[1;32m~\\anaconda3\\lib\\site-packages\\matplotlib\\dates.py\u001b[0m in \u001b[0;36mconvert\u001b[1;34m(value, unit, axis)\u001b[0m\n\u001b[0;32m   1872\u001b[0m         \"\"\"\n\u001b[1;32m-> 1873\u001b[1;33m         \u001b[1;32mreturn\u001b[0m \u001b[0mdate2num\u001b[0m\u001b[1;33m(\u001b[0m\u001b[0mvalue\u001b[0m\u001b[1;33m)\u001b[0m\u001b[1;33m\u001b[0m\u001b[1;33m\u001b[0m\u001b[0m\n\u001b[0m\u001b[0;32m   1874\u001b[0m \u001b[1;33m\u001b[0m\u001b[0m\n",
      "\u001b[1;32m~\\anaconda3\\lib\\site-packages\\matplotlib\\dates.py\u001b[0m in \u001b[0;36mdate2num\u001b[1;34m(d)\u001b[0m\n\u001b[0;32m    421\u001b[0m             \u001b[1;32mreturn\u001b[0m \u001b[0md\u001b[0m\u001b[1;33m\u001b[0m\u001b[1;33m\u001b[0m\u001b[0m\n\u001b[1;32m--> 422\u001b[1;33m         \u001b[0mtzi\u001b[0m \u001b[1;33m=\u001b[0m \u001b[0mgetattr\u001b[0m\u001b[1;33m(\u001b[0m\u001b[0md\u001b[0m\u001b[1;33m[\u001b[0m\u001b[1;36m0\u001b[0m\u001b[1;33m]\u001b[0m\u001b[1;33m,\u001b[0m \u001b[1;34m'tzinfo'\u001b[0m\u001b[1;33m,\u001b[0m \u001b[1;32mNone\u001b[0m\u001b[1;33m)\u001b[0m\u001b[1;33m\u001b[0m\u001b[1;33m\u001b[0m\u001b[0m\n\u001b[0m\u001b[0;32m    423\u001b[0m         \u001b[1;32mif\u001b[0m \u001b[0mtzi\u001b[0m \u001b[1;32mis\u001b[0m \u001b[1;32mnot\u001b[0m \u001b[1;32mNone\u001b[0m\u001b[1;33m:\u001b[0m\u001b[1;33m\u001b[0m\u001b[1;33m\u001b[0m\u001b[0m\n",
      "\u001b[1;31mIndexError\u001b[0m: too many indices for array: array is 0-dimensional, but 1 were indexed",
      "\nThe above exception was the direct cause of the following exception:\n",
      "\u001b[1;31mConversionError\u001b[0m                           Traceback (most recent call last)",
      "\u001b[1;32m~\\AppData\\Local\\Temp/ipykernel_25948/93704016.py\u001b[0m in \u001b[0;36m<module>\u001b[1;34m\u001b[0m\n\u001b[0;32m      5\u001b[0m \u001b[1;33m\u001b[0m\u001b[0m\n\u001b[0;32m      6\u001b[0m \u001b[1;31m# setting the axes' scale\u001b[0m\u001b[1;33m\u001b[0m\u001b[1;33m\u001b[0m\u001b[0m\n\u001b[1;32m----> 7\u001b[1;33m \u001b[0mplt\u001b[0m\u001b[1;33m.\u001b[0m\u001b[0maxis\u001b[0m\u001b[1;33m(\u001b[0m\u001b[1;33m[\u001b[0m\u001b[1;34m\"2019-08-01\"\u001b[0m\u001b[1;33m,\u001b[0m \u001b[1;34m'2019-08-31'\u001b[0m\u001b[1;33m,\u001b[0m \u001b[1;36m0\u001b[0m\u001b[1;33m,\u001b[0m \u001b[1;36m0.08\u001b[0m\u001b[1;33m]\u001b[0m\u001b[1;33m)\u001b[0m\u001b[1;33m\u001b[0m\u001b[1;33m\u001b[0m\u001b[0m\n\u001b[0m\u001b[0;32m      8\u001b[0m \u001b[0mplt\u001b[0m\u001b[1;33m.\u001b[0m\u001b[0mxticks\u001b[0m\u001b[1;33m(\u001b[0m\u001b[0mrotation\u001b[0m\u001b[1;33m=\u001b[0m\u001b[1;36m90\u001b[0m\u001b[1;33m)\u001b[0m\u001b[1;33m\u001b[0m\u001b[1;33m\u001b[0m\u001b[0m\n\u001b[0;32m      9\u001b[0m \u001b[0mplt\u001b[0m\u001b[1;33m.\u001b[0m\u001b[0mshow\u001b[0m\u001b[1;33m(\u001b[0m\u001b[1;33m)\u001b[0m\u001b[1;33m\u001b[0m\u001b[1;33m\u001b[0m\u001b[0m\n",
      "\u001b[1;32m~\\anaconda3\\lib\\site-packages\\matplotlib\\pyplot.py\u001b[0m in \u001b[0;36maxis\u001b[1;34m(emit, *args, **kwargs)\u001b[0m\n\u001b[0;32m   2623\u001b[0m \u001b[1;33m@\u001b[0m\u001b[0m_copy_docstring_and_deprecators\u001b[0m\u001b[1;33m(\u001b[0m\u001b[0mAxes\u001b[0m\u001b[1;33m.\u001b[0m\u001b[0maxis\u001b[0m\u001b[1;33m)\u001b[0m\u001b[1;33m\u001b[0m\u001b[1;33m\u001b[0m\u001b[0m\n\u001b[0;32m   2624\u001b[0m \u001b[1;32mdef\u001b[0m \u001b[0maxis\u001b[0m\u001b[1;33m(\u001b[0m\u001b[1;33m*\u001b[0m\u001b[0margs\u001b[0m\u001b[1;33m,\u001b[0m \u001b[0memit\u001b[0m\u001b[1;33m=\u001b[0m\u001b[1;32mTrue\u001b[0m\u001b[1;33m,\u001b[0m \u001b[1;33m**\u001b[0m\u001b[0mkwargs\u001b[0m\u001b[1;33m)\u001b[0m\u001b[1;33m:\u001b[0m\u001b[1;33m\u001b[0m\u001b[1;33m\u001b[0m\u001b[0m\n\u001b[1;32m-> 2625\u001b[1;33m     \u001b[1;32mreturn\u001b[0m \u001b[0mgca\u001b[0m\u001b[1;33m(\u001b[0m\u001b[1;33m)\u001b[0m\u001b[1;33m.\u001b[0m\u001b[0maxis\u001b[0m\u001b[1;33m(\u001b[0m\u001b[1;33m*\u001b[0m\u001b[0margs\u001b[0m\u001b[1;33m,\u001b[0m \u001b[0memit\u001b[0m\u001b[1;33m=\u001b[0m\u001b[0memit\u001b[0m\u001b[1;33m,\u001b[0m \u001b[1;33m**\u001b[0m\u001b[0mkwargs\u001b[0m\u001b[1;33m)\u001b[0m\u001b[1;33m\u001b[0m\u001b[1;33m\u001b[0m\u001b[0m\n\u001b[0m\u001b[0;32m   2626\u001b[0m \u001b[1;33m\u001b[0m\u001b[0m\n\u001b[0;32m   2627\u001b[0m \u001b[1;33m\u001b[0m\u001b[0m\n",
      "\u001b[1;32m~\\anaconda3\\lib\\site-packages\\matplotlib\\axes\\_base.py\u001b[0m in \u001b[0;36maxis\u001b[1;34m(self, emit, *args, **kwargs)\u001b[0m\n\u001b[0;32m   1926\u001b[0m                      \u001b[1;32mif\u001b[0m \u001b[0mymin\u001b[0m \u001b[1;32mis\u001b[0m \u001b[1;32mNone\u001b[0m \u001b[1;32mand\u001b[0m \u001b[0mymax\u001b[0m \u001b[1;32mis\u001b[0m \u001b[1;32mNone\u001b[0m\u001b[1;33m\u001b[0m\u001b[1;33m\u001b[0m\u001b[0m\n\u001b[0;32m   1927\u001b[0m                      else False)\n\u001b[1;32m-> 1928\u001b[1;33m             \u001b[0mself\u001b[0m\u001b[1;33m.\u001b[0m\u001b[0mset_xlim\u001b[0m\u001b[1;33m(\u001b[0m\u001b[0mxmin\u001b[0m\u001b[1;33m,\u001b[0m \u001b[0mxmax\u001b[0m\u001b[1;33m,\u001b[0m \u001b[0memit\u001b[0m\u001b[1;33m=\u001b[0m\u001b[0memit\u001b[0m\u001b[1;33m,\u001b[0m \u001b[0mauto\u001b[0m\u001b[1;33m=\u001b[0m\u001b[0mxauto\u001b[0m\u001b[1;33m)\u001b[0m\u001b[1;33m\u001b[0m\u001b[1;33m\u001b[0m\u001b[0m\n\u001b[0m\u001b[0;32m   1929\u001b[0m             \u001b[0mself\u001b[0m\u001b[1;33m.\u001b[0m\u001b[0mset_ylim\u001b[0m\u001b[1;33m(\u001b[0m\u001b[0mymin\u001b[0m\u001b[1;33m,\u001b[0m \u001b[0mymax\u001b[0m\u001b[1;33m,\u001b[0m \u001b[0memit\u001b[0m\u001b[1;33m=\u001b[0m\u001b[0memit\u001b[0m\u001b[1;33m,\u001b[0m \u001b[0mauto\u001b[0m\u001b[1;33m=\u001b[0m\u001b[0myauto\u001b[0m\u001b[1;33m)\u001b[0m\u001b[1;33m\u001b[0m\u001b[1;33m\u001b[0m\u001b[0m\n\u001b[0;32m   1930\u001b[0m         \u001b[1;32mif\u001b[0m \u001b[0mkwargs\u001b[0m\u001b[1;33m:\u001b[0m\u001b[1;33m\u001b[0m\u001b[1;33m\u001b[0m\u001b[0m\n",
      "\u001b[1;32m~\\anaconda3\\lib\\site-packages\\matplotlib\\axes\\_base.py\u001b[0m in \u001b[0;36mset_xlim\u001b[1;34m(self, left, right, emit, auto, xmin, xmax)\u001b[0m\n\u001b[0;32m   3520\u001b[0m \u001b[1;33m\u001b[0m\u001b[0m\n\u001b[0;32m   3521\u001b[0m         \u001b[0mself\u001b[0m\u001b[1;33m.\u001b[0m\u001b[0m_process_unit_info\u001b[0m\u001b[1;33m(\u001b[0m\u001b[1;33m[\u001b[0m\u001b[1;33m(\u001b[0m\u001b[1;34m\"x\"\u001b[0m\u001b[1;33m,\u001b[0m \u001b[1;33m(\u001b[0m\u001b[0mleft\u001b[0m\u001b[1;33m,\u001b[0m \u001b[0mright\u001b[0m\u001b[1;33m)\u001b[0m\u001b[1;33m)\u001b[0m\u001b[1;33m]\u001b[0m\u001b[1;33m,\u001b[0m \u001b[0mconvert\u001b[0m\u001b[1;33m=\u001b[0m\u001b[1;32mFalse\u001b[0m\u001b[1;33m)\u001b[0m\u001b[1;33m\u001b[0m\u001b[1;33m\u001b[0m\u001b[0m\n\u001b[1;32m-> 3522\u001b[1;33m         \u001b[0mleft\u001b[0m \u001b[1;33m=\u001b[0m \u001b[0mself\u001b[0m\u001b[1;33m.\u001b[0m\u001b[0m_validate_converted_limits\u001b[0m\u001b[1;33m(\u001b[0m\u001b[0mleft\u001b[0m\u001b[1;33m,\u001b[0m \u001b[0mself\u001b[0m\u001b[1;33m.\u001b[0m\u001b[0mconvert_xunits\u001b[0m\u001b[1;33m)\u001b[0m\u001b[1;33m\u001b[0m\u001b[1;33m\u001b[0m\u001b[0m\n\u001b[0m\u001b[0;32m   3523\u001b[0m         \u001b[0mright\u001b[0m \u001b[1;33m=\u001b[0m \u001b[0mself\u001b[0m\u001b[1;33m.\u001b[0m\u001b[0m_validate_converted_limits\u001b[0m\u001b[1;33m(\u001b[0m\u001b[0mright\u001b[0m\u001b[1;33m,\u001b[0m \u001b[0mself\u001b[0m\u001b[1;33m.\u001b[0m\u001b[0mconvert_xunits\u001b[0m\u001b[1;33m)\u001b[0m\u001b[1;33m\u001b[0m\u001b[1;33m\u001b[0m\u001b[0m\n\u001b[0;32m   3524\u001b[0m \u001b[1;33m\u001b[0m\u001b[0m\n",
      "\u001b[1;32m~\\anaconda3\\lib\\site-packages\\matplotlib\\axes\\_base.py\u001b[0m in \u001b[0;36m_validate_converted_limits\u001b[1;34m(self, limit, convert)\u001b[0m\n\u001b[0;32m   3434\u001b[0m         \"\"\"\n\u001b[0;32m   3435\u001b[0m         \u001b[1;32mif\u001b[0m \u001b[0mlimit\u001b[0m \u001b[1;32mis\u001b[0m \u001b[1;32mnot\u001b[0m \u001b[1;32mNone\u001b[0m\u001b[1;33m:\u001b[0m\u001b[1;33m\u001b[0m\u001b[1;33m\u001b[0m\u001b[0m\n\u001b[1;32m-> 3436\u001b[1;33m             \u001b[0mconverted_limit\u001b[0m \u001b[1;33m=\u001b[0m \u001b[0mconvert\u001b[0m\u001b[1;33m(\u001b[0m\u001b[0mlimit\u001b[0m\u001b[1;33m)\u001b[0m\u001b[1;33m\u001b[0m\u001b[1;33m\u001b[0m\u001b[0m\n\u001b[0m\u001b[0;32m   3437\u001b[0m             if (isinstance(converted_limit, Real)\n\u001b[0;32m   3438\u001b[0m                     and not np.isfinite(converted_limit)):\n",
      "\u001b[1;32m~\\anaconda3\\lib\\site-packages\\matplotlib\\artist.py\u001b[0m in \u001b[0;36mconvert_xunits\u001b[1;34m(self, x)\u001b[0m\n\u001b[0;32m    201\u001b[0m         \u001b[1;32mif\u001b[0m \u001b[0max\u001b[0m \u001b[1;32mis\u001b[0m \u001b[1;32mNone\u001b[0m \u001b[1;32mor\u001b[0m \u001b[0max\u001b[0m\u001b[1;33m.\u001b[0m\u001b[0mxaxis\u001b[0m \u001b[1;32mis\u001b[0m \u001b[1;32mNone\u001b[0m\u001b[1;33m:\u001b[0m\u001b[1;33m\u001b[0m\u001b[1;33m\u001b[0m\u001b[0m\n\u001b[0;32m    202\u001b[0m             \u001b[1;32mreturn\u001b[0m \u001b[0mx\u001b[0m\u001b[1;33m\u001b[0m\u001b[1;33m\u001b[0m\u001b[0m\n\u001b[1;32m--> 203\u001b[1;33m         \u001b[1;32mreturn\u001b[0m \u001b[0max\u001b[0m\u001b[1;33m.\u001b[0m\u001b[0mxaxis\u001b[0m\u001b[1;33m.\u001b[0m\u001b[0mconvert_units\u001b[0m\u001b[1;33m(\u001b[0m\u001b[0mx\u001b[0m\u001b[1;33m)\u001b[0m\u001b[1;33m\u001b[0m\u001b[1;33m\u001b[0m\u001b[0m\n\u001b[0m\u001b[0;32m    204\u001b[0m \u001b[1;33m\u001b[0m\u001b[0m\n\u001b[0;32m    205\u001b[0m     \u001b[1;32mdef\u001b[0m \u001b[0mconvert_yunits\u001b[0m\u001b[1;33m(\u001b[0m\u001b[0mself\u001b[0m\u001b[1;33m,\u001b[0m \u001b[0my\u001b[0m\u001b[1;33m)\u001b[0m\u001b[1;33m:\u001b[0m\u001b[1;33m\u001b[0m\u001b[1;33m\u001b[0m\u001b[0m\n",
      "\u001b[1;32m~\\anaconda3\\lib\\site-packages\\matplotlib\\axis.py\u001b[0m in \u001b[0;36mconvert_units\u001b[1;34m(self, x)\u001b[0m\n\u001b[0;32m   1505\u001b[0m             \u001b[0mret\u001b[0m \u001b[1;33m=\u001b[0m \u001b[0mself\u001b[0m\u001b[1;33m.\u001b[0m\u001b[0mconverter\u001b[0m\u001b[1;33m.\u001b[0m\u001b[0mconvert\u001b[0m\u001b[1;33m(\u001b[0m\u001b[0mx\u001b[0m\u001b[1;33m,\u001b[0m \u001b[0mself\u001b[0m\u001b[1;33m.\u001b[0m\u001b[0munits\u001b[0m\u001b[1;33m,\u001b[0m \u001b[0mself\u001b[0m\u001b[1;33m)\u001b[0m\u001b[1;33m\u001b[0m\u001b[1;33m\u001b[0m\u001b[0m\n\u001b[0;32m   1506\u001b[0m         \u001b[1;32mexcept\u001b[0m \u001b[0mException\u001b[0m \u001b[1;32mas\u001b[0m \u001b[0me\u001b[0m\u001b[1;33m:\u001b[0m\u001b[1;33m\u001b[0m\u001b[1;33m\u001b[0m\u001b[0m\n\u001b[1;32m-> 1507\u001b[1;33m             raise munits.ConversionError('Failed to convert value(s) to axis '\n\u001b[0m\u001b[0;32m   1508\u001b[0m                                          f'units: {x!r}') from e\n\u001b[0;32m   1509\u001b[0m         \u001b[1;32mreturn\u001b[0m \u001b[0mret\u001b[0m\u001b[1;33m\u001b[0m\u001b[1;33m\u001b[0m\u001b[0m\n",
      "\u001b[1;31mConversionError\u001b[0m: Failed to convert value(s) to axis units: '2019-08-01'"
     ]
    },
    {
     "data": {
      "image/png": "[encoded data removed]",
      "text/plain": [
       "<Figure size 432x288 with 1 Axes>"
      ]
     },
     "metadata": {
      "needs_background": "light"
     },
     "output_type": "display_data"
    }
   ],
   "source": [
    "# plotting the graphs\n",
    "plt.plot(cumulativeRevenueA['date'], cumulativeRevenueA['conversion'], label='A')\n",
    "plt.plot(cumulativeRevenueB['date'], cumulativeRevenueB['conversion'], label='B')\n",
    "plt.legend()\n",
    "\n",
    "# setting the axes' scale\n",
    "plt.axis([\"2019-08-01\", '2019-08-31', 0, 0.08]) \n",
    "plt.xticks(rotation=90)\n",
    "plt.show()"
   ]
  },
  {
   "cell_type": "markdown",
   "metadata": {},
   "source": [
    "Group B has higher conversion compared to group A ie more users from Group B who visit the website ends up  \n",
    "placing order ..Also conversion for both the groups are more stable .."
   ]
  },
  {
   "cell_type": "markdown",
   "metadata": {},
   "source": [
    "***Relative difference in cumulative conversion for group B compared with group A***"
   ]
  },
  {
   "cell_type": "code",
   "execution_count": null,
   "metadata": {},
   "outputs": [],
   "source": [
    "mergedCumulativeConversions = cumulativeRevenueA[['date','conversion']].merge(cumulativeRevenueB[['date','conversion']], left_on='date', right_on='date', how='left', suffixes=['A', 'B'])\n",
    "\n",
    "plt.plot(mergedCumulativeConversions['date'], mergedCumulativeConversions['conversionB']/mergedCumulativeConversions['conversionA']-1)\n",
    "\n",
    "plt.axhline(y=0, color='black', linestyle='--')\n",
    "\n",
    "plt.xticks(rotation=90)\n",
    "plt.xlabel('Date')\n",
    "plt.ylabel('Relative difference - Cumulative conversion')\n",
    "plt.show()"
   ]
  },
  {
   "cell_type": "markdown",
   "metadata": {},
   "source": [
    "The above graph shows that group B has increasing conversion compared to group A and looks stabilised around   \n",
    "0.1-0.2.  \n",
    "Based on our above analysis ,Group B has higher cumulative conversion as well as the average order size ..\n"
   ]
  },
  {
   "cell_type": "markdown",
   "metadata": {},
   "source": [
    "***scatter chart of the number of orders per user***"
   ]
  },
  {
   "cell_type": "code",
   "execution_count": null,
   "metadata": {},
   "outputs": [],
   "source": [
    "#number of orders placed by each user\n",
    "ordersByUsers = (\n",
    "    orders_df_valid.drop(['group', 'revenue', 'date'], axis=1)\n",
    "    .groupby('visitorId', as_index=False)\n",
    "    .agg({'transactionId': pd.Series.nunique})\n",
    ")\n",
    "ordersByUsers.columns = ['userId', 'orders']\n",
    "print(ordersByUsers.sort_values(by='orders', ascending=False).head(10))\n",
    " "
   ]
  },
  {
   "cell_type": "code",
   "execution_count": null,
   "metadata": {},
   "outputs": [],
   "source": [
    "plt.hist(ordersByUsers['orders']) \n",
    "plt.xlabel('number of orders')"
   ]
  },
  {
   "cell_type": "markdown",
   "metadata": {},
   "source": [
    "The above histogram shows that most users place only 1 order.Users placing 2 and 3 orders are way less   \n",
    "compared to users placing one order."
   ]
  },
  {
   "cell_type": "code",
   "execution_count": null,
   "metadata": {},
   "outputs": [],
   "source": [
    "ordersByUsers['orders'].describe()"
   ]
  },
  {
   "cell_type": "code",
   "execution_count": null,
   "metadata": {},
   "outputs": [],
   "source": [
    "x_values = pd.Series(range(0,len(ordersByUsers)))\n",
    "\n",
    "plt.scatter(x_values, ordersByUsers['orders']) \n",
    "plt.ylabel('number of orders')"
   ]
  },
  {
   "cell_type": "markdown",
   "metadata": {},
   "source": [
    "We see that 2 and 3 orders are very few ..Lets look at the percentile values to verify it."
   ]
  },
  {
   "cell_type": "markdown",
   "metadata": {},
   "source": [
    "***95th and 99th percentiles for the number of orders per user***"
   ]
  },
  {
   "cell_type": "code",
   "execution_count": null,
   "metadata": {},
   "outputs": [],
   "source": [
    "print(np.percentile(ordersByUsers['orders'], [95, 99])) "
   ]
  },
  {
   "cell_type": "markdown",
   "metadata": {},
   "source": [
    "We see that more than 95% of the orders placed are just a single order . 2 and 3 orders contribute to less than 5% of number of orders per user.."
   ]
  },
  {
   "cell_type": "markdown",
   "metadata": {},
   "source": [
    "***scatter chart of order prices***"
   ]
  },
  {
   "cell_type": "code",
   "execution_count": null,
   "metadata": {},
   "outputs": [],
   "source": [
    "#revenue from each user\n",
    "orderpriceByUsers = (\n",
    "    orders_df_valid.drop(['group', 'date'], axis=1)\n",
    "    .groupby('visitorId', as_index=False)\n",
    "    .agg({'revenue': 'sum'})\n",
    ")\n",
    "\n",
    "orderpriceByUsers.columns = ['userId', 'order_price']\n",
    "\n",
    "print(orderpriceByUsers.sort_values(by='order_price', ascending=False).head(10))\n",
    " "
   ]
  },
  {
   "cell_type": "code",
   "execution_count": null,
   "metadata": {},
   "outputs": [],
   "source": [
    "orderpriceByUsers['order_price'].describe()"
   ]
  },
  {
   "cell_type": "code",
   "execution_count": null,
   "metadata": {},
   "outputs": [],
   "source": [
    "plt.hist(orderpriceByUsers['order_price']) \n",
    "plt.xlabel('order prices')"
   ]
  },
  {
   "cell_type": "code",
   "execution_count": null,
   "metadata": {},
   "outputs": [],
   "source": [
    "x_values = pd.Series(range(0,len(orderpriceByUsers)))\n",
    "\n",
    "plt.scatter(x_values, orderpriceByUsers['order_price']) \n",
    "plt.ylabel('order price')"
   ]
  },
  {
   "cell_type": "markdown",
   "metadata": {},
   "source": [
    "There is just only one order around 20000 and one near 2000.Most of the orders are around 100-200..  "
   ]
  },
  {
   "cell_type": "markdown",
   "metadata": {},
   "source": [
    "***95th and 99th percentiles of order prices***"
   ]
  },
  {
   "cell_type": "code",
   "execution_count": null,
   "metadata": {
    "scrolled": true
   },
   "outputs": [],
   "source": [
    "print(np.percentile(orderpriceByUsers['order_price'], [95, 99])) "
   ]
  },
  {
   "cell_type": "markdown",
   "metadata": {},
   "source": [
    "Only 5% of orders more than 450 and just 1% more than 912 based on the above percentile calculation."
   ]
  },
  {
   "cell_type": "markdown",
   "metadata": {},
   "source": [
    "***statistical significance of the difference in conversion between the groups using the raw data***"
   ]
  },
  {
   "cell_type": "code",
   "execution_count": null,
   "metadata": {},
   "outputs": [],
   "source": [
    "orders_df_valid.head(10)"
   ]
  },
  {
   "cell_type": "code",
   "execution_count": null,
   "metadata": {},
   "outputs": [],
   "source": [
    "visits_df.head(10)"
   ]
  },
  {
   "cell_type": "code",
   "execution_count": null,
   "metadata": {},
   "outputs": [],
   "source": [
    "ordersByUsersA = orders_df_valid[orders_df_valid['group']=='A'].groupby('visitorId', as_index=False).agg({'transactionId' : pd.Series.nunique})\n",
    "ordersByUsersA.columns = ['visitorId', 'orders']\n",
    "\n",
    "ordersByUsersB = orders_df_valid[orders_df_valid['group']=='B'].groupby('visitorId', as_index=False).agg({'transactionId' : pd.Series.nunique})\n",
    "ordersByUsersB.columns = ['visitorId', 'orders'] "
   ]
  },
  {
   "cell_type": "code",
   "execution_count": null,
   "metadata": {},
   "outputs": [],
   "source": [
    "#sampleA stores a sample where each element is the number of orders made by a certain user,  \n",
    "#including zeroes. So the number of sampleA elements is the number of users, and the sum of all   \n",
    "#the elements is the number of orders. To get the group's conversion rate, we'll need to divide the  \n",
    "#sum of the orders by the number of users. Using the mean() method, we'll find the mean for sampleA. \n",
    "#We'll find the conversion rate for group B in a similar way: sampleB.mean().\n",
    "\n",
    "# visits_df[visits_df['group']=='A']['visits'].sum() - len(ordersByUsersA['orders']) gives number of users who didnt place any order\n",
    "sampleA = pd.concat([ordersByUsersA['orders'],pd.Series(0, index=np.arange(visits_df[visits_df['group']=='A']['visits'].sum() - len(ordersByUsersA['orders'])), name='orders')],axis=0)\n",
    "\n",
    "sampleB = pd.concat([ordersByUsersB['orders'],pd.Series(0, index=np.arange(visits_df[visits_df['group']=='B']['visits'].sum() - len(ordersByUsersB['orders'])), name='orders')],axis=0)\n",
    "# round the value to three decimal places. \n",
    "print(\"{0:.3f}\".format(st.mannwhitneyu(sampleA, sampleB)[1]))\n",
    "\n",
    "print(\"{0:.3f}\".format(sampleB.mean()/sampleA.mean()-1)) "
   ]
  },
  {
   "cell_type": "markdown",
   "metadata": {},
   "source": [
    "Conclusion:p-value, 0.006 is less than 0.05 which means we can reject the null hypothesis (There  \n",
    "is no significant difference between groups).So ,based on the raw data, there is significant difference between groups A and B in conversion.\n"
   ]
  },
  {
   "cell_type": "markdown",
   "metadata": {},
   "source": [
    "***statistical significance of the difference in average order size between the groups using the raw data.***"
   ]
  },
  {
   "cell_type": "code",
   "execution_count": null,
   "metadata": {},
   "outputs": [],
   "source": [
    "#pass the data on revenue to the mannwhitneyu() criterion. \n",
    "print('{0:.3f}'.format(st.mannwhitneyu(orders_df_valid[orders_df_valid['group']=='A']['revenue'], orders_df_valid[orders_df_valid['group']=='B']['revenue'])[1]))\n",
    "#find the relative difference in average order size between the groups:\n",
    "print('{0:.3f}'.format(orders_df_valid[orders_df_valid['group']=='B']['revenue'].mean()/orders_df_valid[orders_df_valid['group']=='A']['revenue'].mean()-1)) "
   ]
  },
  {
   "cell_type": "markdown",
   "metadata": {},
   "source": [
    "The p-value(0.431) is considerably higher than 0.05, so we do not reject the null hypothesis and conclude that  the groups do not differ in average order size with raw data.   \n"
   ]
  },
  {
   "cell_type": "markdown",
   "metadata": {},
   "source": [
    "***statistical significance of the difference in conversion between the groups using the filtered data.***"
   ]
  },
  {
   "cell_type": "code",
   "execution_count": null,
   "metadata": {},
   "outputs": [],
   "source": [
    "#Based on the previous percentile calculation , we filter datas with more than 1 order  and revenue more than 500 as abnormal and remove them.\n",
    "usersWithManyOrders = pd.concat([ordersByUsersA[ordersByUsersA['orders'] > 1]['visitorId'], ordersByUsersB[ordersByUsersB['orders'] > 1]['visitorId']], axis = 0)\n",
    "usersWithExpensiveOrders = orders_df_valid[orders_df_valid['revenue'] > 500]['visitorId']\n",
    "abnormalUsers = pd.concat([usersWithManyOrders, usersWithExpensiveOrders], axis = 0).drop_duplicates().sort_values()\n",
    "print(abnormalUsers.head(5))\n",
    "print(abnormalUsers.shape) "
   ]
  },
  {
   "cell_type": "markdown",
   "metadata": {},
   "source": [
    "There are 72 users contributing to anamoly in our analysis.  \n",
    "We create 2 filtered datasets without these and test for statistical significance.."
   ]
  },
  {
   "cell_type": "code",
   "execution_count": null,
   "metadata": {},
   "outputs": [],
   "source": [
    "sampleAFiltered = pd.concat([ordersByUsersA[np.logical_not(ordersByUsersA['visitorId'].isin(abnormalUsers))]['orders'],pd.Series(0, index=np.arange(visits_df[visits_df['group']=='A']['visits'].sum() - len(ordersByUsersA['orders'])),name='orders')],axis=0)\n",
    "\n",
    "sampleBFiltered = pd.concat([ordersByUsersB[np.logical_not(ordersByUsersB['visitorId'].isin(abnormalUsers))]['orders'],pd.Series(0, index=np.arange(visits_df[visits_df['group']=='B']['visits'].sum() - len(ordersByUsersB['orders'])),name='orders')],axis=0) "
   ]
  },
  {
   "cell_type": "code",
   "execution_count": null,
   "metadata": {},
   "outputs": [],
   "source": [
    "print(\"{0:.3f}\".format(st.mannwhitneyu(sampleAFiltered, sampleBFiltered)[1]))\n",
    "print(\"{0:.3f}\".format(sampleBFiltered.mean()/sampleAFiltered.mean()-1)) "
   ]
  },
  {
   "cell_type": "markdown",
   "metadata": {},
   "source": [
    "The p-value is  less than 0.05 showing there is statistical difference in conversion between the groups with  \n",
    "filtered data.  \n",
    "Also there's no big change from that of raw data."
   ]
  },
  {
   "cell_type": "markdown",
   "metadata": {},
   "source": [
    "The results for conversion almost didn't change. Let's see what happens to the values for average order size:"
   ]
  },
  {
   "cell_type": "code",
   "execution_count": null,
   "metadata": {},
   "outputs": [],
   "source": [
    "print('{0:.3f}'.format(st.mannwhitneyu(\n",
    "    orders_df_valid[np.logical_and(\n",
    "         orders_df_valid['group']=='A',\n",
    "        np.logical_not( orders_df_valid['visitorId'].isin(abnormalUsers)))]['revenue'],\n",
    "     orders_df_valid[np.logical_and(\n",
    "         orders_df_valid['group']=='B',\n",
    "        np.logical_not( orders_df_valid['visitorId'].isin(abnormalUsers)))]['revenue'])[1]))\n",
    "\n",
    "print('{0:.3f}'.format(\n",
    "     orders_df_valid[np.logical_and(orders_df_valid['group']=='B',np.logical_not( orders_df_valid['visitorId'].isin(abnormalUsers)))]['revenue'].mean()/\n",
    "     orders_df_valid[np.logical_and(\n",
    "        orders_df_valid['group']=='A',\n",
    "        np.logical_not( orders_df_valid['visitorId'].isin(abnormalUsers)))]['revenue'].mean() - 1)) \n",
    "\n"
   ]
  },
  {
   "cell_type": "markdown",
   "metadata": {},
   "source": [
    "The p-value has not changed much with  filtered data in average order size.This concludes that there is  \n",
    "no difference in average order size between the groups.The relative difference     \n",
    "between the groups which was 27% is down to 1%."
   ]
  },
  {
   "cell_type": "markdown",
   "metadata": {},
   "source": [
    "### Conclusion:  \n",
    "1.Both raw and filtered data revealed  statistically significant differences in conversion between the groups.  \n",
    "2.Neither raw nor filtered data revealed any statistically significant differences in average order size between the groups.  \n",
    "3.Based on the graph showing difference in conversion and average order size ,group B seems to be in   \n",
    "higher side  and also the graph is more steady..\n",
    "\n",
    "As we see statistically significant differences between both the groups with group B scoring higher  \n",
    "in metrics ,it is better to stop testing calling it a success."
   ]
  }
 ],
 "metadata": {
  "ExecuteTimeLog": [
   {
    "duration": 68,
    "start_time": "2022-02-27T17:41:35.330Z"
   },
   {
    "duration": 70,
    "start_time": "2022-02-27T17:41:48.665Z"
   },
   {
    "duration": 1105,
    "start_time": "2022-02-27T17:41:57.983Z"
   },
   {
    "duration": 22,
    "start_time": "2022-02-27T17:43:40.475Z"
   },
   {
    "duration": 28,
    "start_time": "2022-02-27T17:43:41.318Z"
   },
   {
    "duration": 73,
    "start_time": "2022-02-27T17:43:42.018Z"
   },
   {
    "duration": 18,
    "start_time": "2022-02-27T17:43:46.711Z"
   },
   {
    "duration": 7,
    "start_time": "2022-02-27T17:44:05.910Z"
   },
   {
    "duration": 10,
    "start_time": "2022-02-27T17:44:20.704Z"
   },
   {
    "duration": 7,
    "start_time": "2022-02-27T17:45:06.817Z"
   },
   {
    "duration": 13,
    "start_time": "2022-02-27T17:45:20.974Z"
   },
   {
    "duration": 7,
    "start_time": "2022-02-27T17:45:43.879Z"
   },
   {
    "duration": 10,
    "start_time": "2022-02-27T17:46:02.321Z"
   },
   {
    "duration": 4,
    "start_time": "2022-02-27T18:45:46.038Z"
   },
   {
    "duration": 12,
    "start_time": "2022-02-27T18:45:46.443Z"
   },
   {
    "duration": 22,
    "start_time": "2022-02-27T18:45:46.850Z"
   },
   {
    "duration": 11,
    "start_time": "2022-02-27T18:45:47.218Z"
   },
   {
    "duration": 6,
    "start_time": "2022-02-27T18:45:47.500Z"
   },
   {
    "duration": 6,
    "start_time": "2022-02-27T18:45:47.837Z"
   },
   {
    "duration": 9,
    "start_time": "2022-02-27T18:45:48.132Z"
   },
   {
    "duration": 14,
    "start_time": "2022-02-27T18:45:48.409Z"
   },
   {
    "duration": 5,
    "start_time": "2022-02-27T18:45:48.690Z"
   },
   {
    "duration": 6,
    "start_time": "2022-02-27T18:45:48.982Z"
   },
   {
    "duration": 15,
    "start_time": "2022-02-27T18:45:49.323Z"
   },
   {
    "duration": 6,
    "start_time": "2022-02-27T18:45:49.606Z"
   },
   {
    "duration": 11,
    "start_time": "2022-02-27T18:45:49.905Z"
   },
   {
    "duration": 4,
    "start_time": "2022-02-27T18:45:50.258Z"
   },
   {
    "duration": 4,
    "start_time": "2022-02-27T18:45:50.620Z"
   },
   {
    "duration": 12,
    "start_time": "2022-02-27T18:45:50.880Z"
   },
   {
    "duration": 13,
    "start_time": "2022-02-27T18:46:02.816Z"
   },
   {
    "duration": 6,
    "start_time": "2022-02-27T18:46:11.827Z"
   },
   {
    "duration": 8,
    "start_time": "2022-02-27T18:46:23.234Z"
   },
   {
    "duration": 4921,
    "start_time": "2022-02-27T18:50:46.715Z"
   },
   {
    "duration": 4913,
    "start_time": "2022-02-27T18:51:04.489Z"
   },
   {
    "duration": 7,
    "start_time": "2022-02-27T18:51:27.315Z"
   },
   {
    "duration": 5216,
    "start_time": "2022-02-27T18:52:02.740Z"
   },
   {
    "duration": 64,
    "start_time": "2022-02-27T18:52:23.578Z"
   },
   {
    "duration": 4850,
    "start_time": "2022-02-27T18:52:35.119Z"
   },
   {
    "duration": 4,
    "start_time": "2022-02-27T18:54:00.937Z"
   },
   {
    "duration": 6,
    "start_time": "2022-02-27T18:54:14.870Z"
   },
   {
    "duration": 7115,
    "start_time": "2022-02-27T18:54:28.441Z"
   },
   {
    "duration": 4958,
    "start_time": "2022-02-27T18:55:38.906Z"
   },
   {
    "duration": 4995,
    "start_time": "2022-02-27T18:56:04.207Z"
   },
   {
    "duration": 5,
    "start_time": "2022-02-27T18:56:11.242Z"
   },
   {
    "duration": 5819,
    "start_time": "2022-02-27T18:56:53.951Z"
   },
   {
    "duration": 5,
    "start_time": "2022-02-27T18:58:04.745Z"
   },
   {
    "duration": 5,
    "start_time": "2022-02-27T18:59:58.476Z"
   },
   {
    "duration": 4,
    "start_time": "2022-02-27T19:00:07.230Z"
   },
   {
    "duration": 5,
    "start_time": "2022-02-27T19:00:18.248Z"
   },
   {
    "duration": 3,
    "start_time": "2022-02-27T19:01:25.626Z"
   },
   {
    "duration": 16,
    "start_time": "2022-02-27T19:01:26.234Z"
   },
   {
    "duration": 20,
    "start_time": "2022-02-27T19:01:26.792Z"
   },
   {
    "duration": 12,
    "start_time": "2022-02-27T19:01:27.365Z"
   },
   {
    "duration": 7,
    "start_time": "2022-02-27T19:01:27.967Z"
   },
   {
    "duration": 3,
    "start_time": "2022-02-27T19:01:33.325Z"
   },
   {
    "duration": 5,
    "start_time": "2022-02-27T19:01:34.658Z"
   },
   {
    "duration": 4,
    "start_time": "2022-02-27T19:01:51.194Z"
   },
   {
    "duration": 3,
    "start_time": "2022-02-27T19:01:52.801Z"
   },
   {
    "duration": 5,
    "start_time": "2022-02-27T19:02:06.603Z"
   },
   {
    "duration": 8,
    "start_time": "2022-02-27T19:02:08.303Z"
   },
   {
    "duration": 9,
    "start_time": "2022-02-27T19:04:53.266Z"
   },
   {
    "duration": 7,
    "start_time": "2022-02-27T19:05:57.510Z"
   },
   {
    "duration": 9,
    "start_time": "2022-02-27T19:06:15.695Z"
   },
   {
    "duration": 6,
    "start_time": "2022-02-27T19:06:23.838Z"
   },
   {
    "duration": 7,
    "start_time": "2022-02-27T19:06:51.040Z"
   },
   {
    "duration": 195,
    "start_time": "2022-02-27T19:07:04.364Z"
   },
   {
    "duration": 6,
    "start_time": "2022-02-27T19:07:13.645Z"
   },
   {
    "duration": 4,
    "start_time": "2022-02-27T19:08:00.781Z"
   },
   {
    "duration": 9,
    "start_time": "2022-02-27T19:14:43.832Z"
   },
   {
    "duration": 8,
    "start_time": "2022-02-27T19:15:52.412Z"
   },
   {
    "duration": 9,
    "start_time": "2022-02-27T19:16:41.560Z"
   },
   {
    "duration": 5561,
    "start_time": "2022-02-27T19:18:12.540Z"
   },
   {
    "duration": 938,
    "start_time": "2022-02-27T19:18:27.175Z"
   },
   {
    "duration": 912,
    "start_time": "2022-02-27T19:19:11.458Z"
   },
   {
    "duration": 6,
    "start_time": "2022-02-27T19:21:18.275Z"
   },
   {
    "duration": 10,
    "start_time": "2022-02-27T19:21:38.172Z"
   },
   {
    "duration": 12,
    "start_time": "2022-02-27T19:24:06.632Z"
   },
   {
    "duration": 3,
    "start_time": "2022-02-27T20:06:49.113Z"
   },
   {
    "duration": 12,
    "start_time": "2022-02-27T20:06:49.387Z"
   },
   {
    "duration": 21,
    "start_time": "2022-02-27T20:06:49.638Z"
   },
   {
    "duration": 11,
    "start_time": "2022-02-27T20:06:49.898Z"
   },
   {
    "duration": 8,
    "start_time": "2022-02-27T20:06:50.121Z"
   },
   {
    "duration": 3,
    "start_time": "2022-02-27T20:06:50.388Z"
   },
   {
    "duration": 6,
    "start_time": "2022-02-27T20:06:50.584Z"
   },
   {
    "duration": 5,
    "start_time": "2022-02-27T20:06:50.816Z"
   },
   {
    "duration": 3,
    "start_time": "2022-02-27T20:06:51.049Z"
   },
   {
    "duration": 9,
    "start_time": "2022-02-27T20:06:51.281Z"
   },
   {
    "duration": 8,
    "start_time": "2022-02-27T20:06:51.548Z"
   },
   {
    "duration": 15,
    "start_time": "2022-02-27T20:06:51.752Z"
   },
   {
    "duration": 5,
    "start_time": "2022-02-27T20:06:52.016Z"
   },
   {
    "duration": 5,
    "start_time": "2022-02-27T20:06:52.232Z"
   },
   {
    "duration": 16,
    "start_time": "2022-02-27T20:06:52.462Z"
   },
   {
    "duration": 8,
    "start_time": "2022-02-27T20:06:52.688Z"
   },
   {
    "duration": 9,
    "start_time": "2022-02-27T20:06:52.928Z"
   },
   {
    "duration": 9,
    "start_time": "2022-02-27T20:06:53.167Z"
   },
   {
    "duration": 11,
    "start_time": "2022-02-27T20:06:53.411Z"
   },
   {
    "duration": 4,
    "start_time": "2022-02-27T20:06:53.633Z"
   },
   {
    "duration": 5,
    "start_time": "2022-02-27T20:06:53.852Z"
   },
   {
    "duration": 12,
    "start_time": "2022-02-27T20:06:54.089Z"
   },
   {
    "duration": 6,
    "start_time": "2022-02-27T20:06:54.301Z"
   },
   {
    "duration": 6,
    "start_time": "2022-02-27T20:06:54.542Z"
   },
   {
    "duration": 7,
    "start_time": "2022-02-27T20:06:54.747Z"
   },
   {
    "duration": 8,
    "start_time": "2022-02-27T20:06:54.964Z"
   },
   {
    "duration": 5,
    "start_time": "2022-02-27T20:06:55.212Z"
   },
   {
    "duration": 739,
    "start_time": "2022-02-27T20:06:55.414Z"
   },
   {
    "duration": 9,
    "start_time": "2022-02-27T20:06:56.155Z"
   },
   {
    "duration": 17,
    "start_time": "2022-02-27T20:07:18.754Z"
   },
   {
    "duration": 8,
    "start_time": "2022-02-27T20:08:23.519Z"
   },
   {
    "duration": 5038,
    "start_time": "2022-02-27T20:10:46.763Z"
   },
   {
    "duration": 9,
    "start_time": "2022-02-27T20:11:04.117Z"
   },
   {
    "duration": 2594,
    "start_time": "2022-02-27T20:11:24.468Z"
   },
   {
    "duration": 5,
    "start_time": "2022-02-27T20:12:09.414Z"
   },
   {
    "duration": 4,
    "start_time": "2022-02-27T20:12:26.321Z"
   },
   {
    "duration": 15,
    "start_time": "2022-02-27T20:12:34.346Z"
   },
   {
    "duration": 5,
    "start_time": "2022-02-27T20:12:57.897Z"
   },
   {
    "duration": 16,
    "start_time": "2022-02-27T20:12:59.569Z"
   },
   {
    "duration": 12,
    "start_time": "2022-02-27T20:14:13.181Z"
   },
   {
    "duration": 12,
    "start_time": "2022-02-27T20:19:27.710Z"
   },
   {
    "duration": 13,
    "start_time": "2022-02-27T20:26:24.519Z"
   },
   {
    "duration": 9,
    "start_time": "2022-02-27T20:26:33.847Z"
   },
   {
    "duration": 13,
    "start_time": "2022-02-27T20:26:58.083Z"
   },
   {
    "duration": 8,
    "start_time": "2022-02-27T20:26:59.131Z"
   },
   {
    "duration": 15,
    "start_time": "2022-02-27T20:28:35.950Z"
   },
   {
    "duration": 8,
    "start_time": "2022-02-27T20:28:50.901Z"
   },
   {
    "duration": 4,
    "start_time": "2022-02-27T20:29:22.878Z"
   },
   {
    "duration": 9,
    "start_time": "2022-02-27T20:29:32.201Z"
   },
   {
    "duration": 15,
    "start_time": "2022-02-27T20:34:24.404Z"
   },
   {
    "duration": 10,
    "start_time": "2022-02-27T20:34:26.608Z"
   },
   {
    "duration": 5,
    "start_time": "2022-02-27T20:34:40.201Z"
   },
   {
    "duration": 10,
    "start_time": "2022-02-27T20:34:41.364Z"
   },
   {
    "duration": 16,
    "start_time": "2022-02-27T20:35:50.824Z"
   },
   {
    "duration": 10,
    "start_time": "2022-02-27T20:35:57.690Z"
   },
   {
    "duration": 4,
    "start_time": "2022-02-27T20:36:44.306Z"
   },
   {
    "duration": 10,
    "start_time": "2022-02-27T20:36:45.948Z"
   },
   {
    "duration": 7,
    "start_time": "2022-02-27T20:47:50.025Z"
   },
   {
    "duration": 9,
    "start_time": "2022-02-27T20:47:59.554Z"
   },
   {
    "duration": 4,
    "start_time": "2022-02-27T20:48:23.356Z"
   },
   {
    "duration": 8,
    "start_time": "2022-02-27T20:48:32.747Z"
   },
   {
    "duration": 268,
    "start_time": "2022-02-27T20:50:04.491Z"
   },
   {
    "duration": 8,
    "start_time": "2022-02-27T20:50:42.538Z"
   },
   {
    "duration": 18,
    "start_time": "2022-02-27T20:50:51.668Z"
   },
   {
    "duration": 9,
    "start_time": "2022-02-27T20:51:54.434Z"
   },
   {
    "duration": 4880,
    "start_time": "2022-02-27T20:51:55.642Z"
   },
   {
    "duration": 8,
    "start_time": "2022-02-27T20:52:11.884Z"
   },
   {
    "duration": 9,
    "start_time": "2022-02-27T20:52:12.766Z"
   },
   {
    "duration": 8,
    "start_time": "2022-02-27T20:52:14.244Z"
   },
   {
    "duration": 7,
    "start_time": "2022-02-27T20:52:32.706Z"
   },
   {
    "duration": 10,
    "start_time": "2022-02-27T20:52:33.656Z"
   },
   {
    "duration": 5,
    "start_time": "2022-02-27T20:52:36.946Z"
   },
   {
    "duration": 8,
    "start_time": "2022-02-27T20:52:38.038Z"
   },
   {
    "duration": 8,
    "start_time": "2022-02-27T20:52:41.869Z"
   },
   {
    "duration": 14,
    "start_time": "2022-02-27T20:52:43.576Z"
   },
   {
    "duration": 16,
    "start_time": "2022-02-27T20:53:31.452Z"
   },
   {
    "duration": 8,
    "start_time": "2022-02-27T20:54:12.522Z"
   },
   {
    "duration": 7,
    "start_time": "2022-02-27T20:56:04.479Z"
   },
   {
    "duration": 11,
    "start_time": "2022-02-27T20:56:05.432Z"
   },
   {
    "duration": 5,
    "start_time": "2022-02-27T20:56:27.488Z"
   },
   {
    "duration": 9,
    "start_time": "2022-02-27T20:56:30.295Z"
   },
   {
    "duration": 8,
    "start_time": "2022-02-27T20:56:32.235Z"
   },
   {
    "duration": 17,
    "start_time": "2022-02-27T20:56:38.079Z"
   },
   {
    "duration": 12,
    "start_time": "2022-02-27T20:57:13.531Z"
   },
   {
    "duration": 17,
    "start_time": "2022-02-27T20:57:14.327Z"
   },
   {
    "duration": 8,
    "start_time": "2022-02-27T20:57:17.708Z"
   },
   {
    "duration": 8,
    "start_time": "2022-02-27T20:57:28.851Z"
   },
   {
    "duration": 7,
    "start_time": "2022-02-27T20:57:29.818Z"
   },
   {
    "duration": 15,
    "start_time": "2022-02-27T20:57:30.610Z"
   },
   {
    "duration": 6155,
    "start_time": "2022-02-27T21:00:31.181Z"
   },
   {
    "duration": 9,
    "start_time": "2022-02-27T21:00:44.599Z"
   },
   {
    "duration": 5,
    "start_time": "2022-02-27T21:02:50.680Z"
   },
   {
    "duration": 5,
    "start_time": "2022-02-27T21:02:52.542Z"
   },
   {
    "duration": 5654,
    "start_time": "2022-02-27T21:03:06.072Z"
   },
   {
    "duration": 4,
    "start_time": "2022-02-27T21:03:16.521Z"
   },
   {
    "duration": 9,
    "start_time": "2022-02-27T21:03:27.150Z"
   },
   {
    "duration": 4,
    "start_time": "2022-02-27T21:04:37.059Z"
   },
   {
    "duration": 10,
    "start_time": "2022-02-27T21:04:43.919Z"
   },
   {
    "duration": 5489,
    "start_time": "2022-02-27T21:06:14.711Z"
   },
   {
    "duration": 4,
    "start_time": "2022-02-27T21:06:25.578Z"
   },
   {
    "duration": 11,
    "start_time": "2022-02-27T21:07:43.897Z"
   },
   {
    "duration": 4,
    "start_time": "2022-02-27T21:08:10.882Z"
   },
   {
    "duration": 11,
    "start_time": "2022-02-27T21:08:21.982Z"
   },
   {
    "duration": 3,
    "start_time": "2022-02-27T21:43:06.501Z"
   },
   {
    "duration": 67,
    "start_time": "2022-02-27T21:43:07.766Z"
   },
   {
    "duration": 945,
    "start_time": "2022-02-27T21:43:22.632Z"
   },
   {
    "duration": 3,
    "start_time": "2022-02-27T21:43:57.350Z"
   },
   {
    "duration": 10,
    "start_time": "2022-02-27T21:44:08.133Z"
   },
   {
    "duration": 960,
    "start_time": "2022-02-27T21:44:28.109Z"
   },
   {
    "duration": 3,
    "start_time": "2022-02-27T21:44:41.173Z"
   },
   {
    "duration": 12,
    "start_time": "2022-02-27T21:44:41.686Z"
   },
   {
    "duration": 20,
    "start_time": "2022-02-27T21:44:42.025Z"
   },
   {
    "duration": 11,
    "start_time": "2022-02-27T21:44:42.372Z"
   },
   {
    "duration": 6,
    "start_time": "2022-02-27T21:44:42.696Z"
   },
   {
    "duration": 4,
    "start_time": "2022-02-27T21:44:43.039Z"
   },
   {
    "duration": 6,
    "start_time": "2022-02-27T21:44:43.387Z"
   },
   {
    "duration": 4,
    "start_time": "2022-02-27T21:44:43.683Z"
   },
   {
    "duration": 3,
    "start_time": "2022-02-27T21:44:43.953Z"
   },
   {
    "duration": 8,
    "start_time": "2022-02-27T21:44:44.264Z"
   },
   {
    "duration": 7,
    "start_time": "2022-02-27T21:44:45.172Z"
   },
   {
    "duration": 14,
    "start_time": "2022-02-27T21:44:45.409Z"
   },
   {
    "duration": 4,
    "start_time": "2022-02-27T21:44:46.322Z"
   },
   {
    "duration": 1061,
    "start_time": "2022-02-27T21:44:47.420Z"
   },
   {
    "duration": 14,
    "start_time": "2022-02-27T21:45:56.022Z"
   },
   {
    "duration": 15,
    "start_time": "2022-02-27T21:45:58.329Z"
   },
   {
    "duration": 7,
    "start_time": "2022-02-27T21:46:49.194Z"
   },
   {
    "duration": 7,
    "start_time": "2022-02-27T21:46:49.542Z"
   },
   {
    "duration": 7,
    "start_time": "2022-02-27T21:46:49.883Z"
   },
   {
    "duration": 10,
    "start_time": "2022-02-27T21:46:50.293Z"
   },
   {
    "duration": 4,
    "start_time": "2022-02-27T21:46:51.270Z"
   },
   {
    "duration": 4,
    "start_time": "2022-02-27T21:46:52.518Z"
   },
   {
    "duration": 14,
    "start_time": "2022-02-27T21:46:54.944Z"
   },
   {
    "duration": 6,
    "start_time": "2022-02-27T21:46:59.634Z"
   },
   {
    "duration": 7,
    "start_time": "2022-02-27T21:46:59.988Z"
   },
   {
    "duration": 8,
    "start_time": "2022-02-27T21:47:03.154Z"
   },
   {
    "duration": 7,
    "start_time": "2022-02-27T21:47:05.073Z"
   },
   {
    "duration": 7,
    "start_time": "2022-02-27T21:48:52.377Z"
   },
   {
    "duration": 281,
    "start_time": "2022-02-27T21:49:51.313Z"
   },
   {
    "duration": 7,
    "start_time": "2022-02-27T21:49:56.309Z"
   },
   {
    "duration": 192,
    "start_time": "2022-02-27T21:49:57.547Z"
   },
   {
    "duration": 6,
    "start_time": "2022-02-27T21:50:06.555Z"
   },
   {
    "duration": 220,
    "start_time": "2022-02-27T21:50:07.981Z"
   },
   {
    "duration": 7,
    "start_time": "2022-02-27T21:50:25.128Z"
   },
   {
    "duration": 12,
    "start_time": "2022-02-27T21:50:33.243Z"
   },
   {
    "duration": 466,
    "start_time": "2022-02-27T21:52:25.699Z"
   },
   {
    "duration": 763,
    "start_time": "2022-02-27T21:53:37.928Z"
   },
   {
    "duration": 15,
    "start_time": "2022-02-27T21:54:43.665Z"
   },
   {
    "duration": 701,
    "start_time": "2022-02-27T21:54:58.854Z"
   },
   {
    "duration": 738,
    "start_time": "2022-02-27T21:57:15.207Z"
   },
   {
    "duration": 406,
    "start_time": "2022-02-27T21:58:37.958Z"
   },
   {
    "duration": 587,
    "start_time": "2022-02-27T21:59:23.832Z"
   },
   {
    "duration": 3,
    "start_time": "2022-02-27T21:59:58.542Z"
   },
   {
    "duration": 13,
    "start_time": "2022-02-27T21:59:59.331Z"
   },
   {
    "duration": 20,
    "start_time": "2022-02-27T21:59:59.655Z"
   },
   {
    "duration": 10,
    "start_time": "2022-02-27T21:59:59.888Z"
   },
   {
    "duration": 7,
    "start_time": "2022-02-27T22:00:00.112Z"
   },
   {
    "duration": 5,
    "start_time": "2022-02-27T22:00:00.355Z"
   },
   {
    "duration": 5,
    "start_time": "2022-02-27T22:00:00.628Z"
   },
   {
    "duration": 4,
    "start_time": "2022-02-27T22:00:00.810Z"
   },
   {
    "duration": 3,
    "start_time": "2022-02-27T22:00:01.040Z"
   },
   {
    "duration": 8,
    "start_time": "2022-02-27T22:00:01.306Z"
   },
   {
    "duration": 7,
    "start_time": "2022-02-27T22:00:02.573Z"
   },
   {
    "duration": 14,
    "start_time": "2022-02-27T22:00:02.846Z"
   },
   {
    "duration": 5,
    "start_time": "2022-02-27T22:00:03.076Z"
   },
   {
    "duration": 13,
    "start_time": "2022-02-27T22:00:03.304Z"
   },
   {
    "duration": 16,
    "start_time": "2022-02-27T22:00:03.500Z"
   },
   {
    "duration": 7,
    "start_time": "2022-02-27T22:00:03.721Z"
   },
   {
    "duration": 7,
    "start_time": "2022-02-27T22:00:03.993Z"
   },
   {
    "duration": 7,
    "start_time": "2022-02-27T22:00:04.288Z"
   },
   {
    "duration": 11,
    "start_time": "2022-02-27T22:00:05.478Z"
   },
   {
    "duration": 4,
    "start_time": "2022-02-27T22:00:05.735Z"
   },
   {
    "duration": 4,
    "start_time": "2022-02-27T22:00:05.986Z"
   },
   {
    "duration": 12,
    "start_time": "2022-02-27T22:00:06.223Z"
   },
   {
    "duration": 7,
    "start_time": "2022-02-27T22:00:06.684Z"
   },
   {
    "duration": 6,
    "start_time": "2022-02-27T22:00:06.942Z"
   },
   {
    "duration": 6,
    "start_time": "2022-02-27T22:00:07.160Z"
   },
   {
    "duration": 7,
    "start_time": "2022-02-27T22:00:07.394Z"
   },
   {
    "duration": 6,
    "start_time": "2022-02-27T22:00:07.648Z"
   },
   {
    "duration": 10,
    "start_time": "2022-02-27T22:00:07.951Z"
   },
   {
    "duration": 5,
    "start_time": "2022-02-27T22:00:08.426Z"
   },
   {
    "duration": 9,
    "start_time": "2022-02-27T22:00:08.737Z"
   },
   {
    "duration": 8,
    "start_time": "2022-02-27T22:00:08.999Z"
   },
   {
    "duration": 17,
    "start_time": "2022-02-27T22:00:09.220Z"
   },
   {
    "duration": 8,
    "start_time": "2022-02-27T22:00:09.486Z"
   },
   {
    "duration": 9,
    "start_time": "2022-02-27T22:00:10.771Z"
   },
   {
    "duration": 4,
    "start_time": "2022-02-27T22:00:10.994Z"
   },
   {
    "duration": 5,
    "start_time": "2022-02-27T22:00:11.220Z"
   },
   {
    "duration": 9,
    "start_time": "2022-02-27T22:00:11.437Z"
   },
   {
    "duration": 12,
    "start_time": "2022-02-27T22:00:11.956Z"
   },
   {
    "duration": 4,
    "start_time": "2022-02-27T22:00:12.188Z"
   },
   {
    "duration": 10,
    "start_time": "2022-02-27T22:00:12.410Z"
   },
   {
    "duration": 7,
    "start_time": "2022-02-27T22:00:12.901Z"
   },
   {
    "duration": 14,
    "start_time": "2022-02-27T22:00:13.158Z"
   },
   {
    "duration": 20,
    "start_time": "2022-02-27T22:00:13.460Z"
   },
   {
    "duration": 751,
    "start_time": "2022-02-27T22:00:14.877Z"
   },
   {
    "duration": 574,
    "start_time": "2022-02-27T22:00:16.628Z"
   },
   {
    "duration": 7,
    "start_time": "2022-02-27T22:01:43.413Z"
   },
   {
    "duration": 802,
    "start_time": "2022-02-27T22:01:44.350Z"
   },
   {
    "duration": 585,
    "start_time": "2022-02-27T22:01:48.884Z"
   },
   {
    "duration": 13,
    "start_time": "2022-02-27T22:02:08.789Z"
   },
   {
    "duration": 706,
    "start_time": "2022-02-27T22:05:17.622Z"
   },
   {
    "duration": 607,
    "start_time": "2022-02-27T22:06:02.702Z"
   },
   {
    "duration": 233,
    "start_time": "2022-02-27T22:07:50.137Z"
   },
   {
    "duration": 3,
    "start_time": "2022-02-27T22:08:10.255Z"
   },
   {
    "duration": 12,
    "start_time": "2022-02-27T22:08:10.955Z"
   },
   {
    "duration": 22,
    "start_time": "2022-02-27T22:08:11.330Z"
   },
   {
    "duration": 11,
    "start_time": "2022-02-27T22:08:11.648Z"
   },
   {
    "duration": 7,
    "start_time": "2022-02-27T22:08:12.157Z"
   },
   {
    "duration": 4,
    "start_time": "2022-02-27T22:08:12.424Z"
   },
   {
    "duration": 5,
    "start_time": "2022-02-27T22:08:13.049Z"
   },
   {
    "duration": 4,
    "start_time": "2022-02-27T22:08:13.294Z"
   },
   {
    "duration": 3,
    "start_time": "2022-02-27T22:08:13.557Z"
   },
   {
    "duration": 8,
    "start_time": "2022-02-27T22:08:13.814Z"
   },
   {
    "duration": 7,
    "start_time": "2022-02-27T22:08:14.036Z"
   },
   {
    "duration": 13,
    "start_time": "2022-02-27T22:08:14.281Z"
   },
   {
    "duration": 4,
    "start_time": "2022-02-27T22:08:14.572Z"
   },
   {
    "duration": 16,
    "start_time": "2022-02-27T22:08:14.823Z"
   },
   {
    "duration": 16,
    "start_time": "2022-02-27T22:08:15.070Z"
   },
   {
    "duration": 7,
    "start_time": "2022-02-27T22:08:15.328Z"
   },
   {
    "duration": 7,
    "start_time": "2022-02-27T22:08:15.521Z"
   },
   {
    "duration": 7,
    "start_time": "2022-02-27T22:08:15.752Z"
   },
   {
    "duration": 10,
    "start_time": "2022-02-27T22:08:16.088Z"
   },
   {
    "duration": 5,
    "start_time": "2022-02-27T22:08:16.352Z"
   },
   {
    "duration": 6,
    "start_time": "2022-02-27T22:08:16.601Z"
   },
   {
    "duration": 13,
    "start_time": "2022-02-27T22:08:16.825Z"
   },
   {
    "duration": 8,
    "start_time": "2022-02-27T22:08:17.106Z"
   },
   {
    "duration": 7,
    "start_time": "2022-02-27T22:08:17.294Z"
   },
   {
    "duration": 6,
    "start_time": "2022-02-27T22:08:17.515Z"
   },
   {
    "duration": 7,
    "start_time": "2022-02-27T22:08:17.767Z"
   },
   {
    "duration": 6,
    "start_time": "2022-02-27T22:08:17.975Z"
   },
   {
    "duration": 14,
    "start_time": "2022-02-27T22:08:18.212Z"
   },
   {
    "duration": 4,
    "start_time": "2022-02-27T22:08:18.481Z"
   },
   {
    "duration": 9,
    "start_time": "2022-02-27T22:08:18.682Z"
   },
   {
    "duration": 8,
    "start_time": "2022-02-27T22:08:18.907Z"
   },
   {
    "duration": 16,
    "start_time": "2022-02-27T22:08:19.148Z"
   },
   {
    "duration": 8,
    "start_time": "2022-02-27T22:08:19.364Z"
   },
   {
    "duration": 9,
    "start_time": "2022-02-27T22:08:19.850Z"
   },
   {
    "duration": 4,
    "start_time": "2022-02-27T22:08:20.202Z"
   },
   {
    "duration": 4,
    "start_time": "2022-02-27T22:08:20.872Z"
   },
   {
    "duration": 10,
    "start_time": "2022-02-27T22:08:21.113Z"
   },
   {
    "duration": 13,
    "start_time": "2022-02-27T22:08:21.604Z"
   },
   {
    "duration": 5,
    "start_time": "2022-02-27T22:08:21.828Z"
   },
   {
    "duration": 11,
    "start_time": "2022-02-27T22:08:22.086Z"
   },
   {
    "duration": 6,
    "start_time": "2022-02-27T22:08:23.232Z"
   },
   {
    "duration": 13,
    "start_time": "2022-02-27T22:08:23.494Z"
   },
   {
    "duration": 15,
    "start_time": "2022-02-27T22:08:23.789Z"
   },
   {
    "duration": 6,
    "start_time": "2022-02-27T22:08:24.832Z"
   },
   {
    "duration": 12,
    "start_time": "2022-02-27T22:08:26.056Z"
   },
   {
    "duration": 746,
    "start_time": "2022-02-27T22:08:32.734Z"
   },
   {
    "duration": 586,
    "start_time": "2022-02-27T22:08:41.828Z"
   },
   {
    "duration": 198,
    "start_time": "2022-02-27T22:08:42.731Z"
   },
   {
    "duration": 222,
    "start_time": "2022-02-27T22:11:10.879Z"
   },
   {
    "duration": 342,
    "start_time": "2022-02-27T22:14:23.083Z"
   },
   {
    "duration": 802,
    "start_time": "2022-02-27T22:15:12.160Z"
   },
   {
    "duration": 350,
    "start_time": "2022-02-27T22:21:33.386Z"
   },
   {
    "duration": 711,
    "start_time": "2022-02-27T22:22:57.469Z"
   },
   {
    "duration": 795,
    "start_time": "2022-02-27T22:23:19.290Z"
   },
   {
    "duration": 3,
    "start_time": "2022-02-27T22:25:10.047Z"
   },
   {
    "duration": 12,
    "start_time": "2022-02-27T22:25:10.810Z"
   },
   {
    "duration": 20,
    "start_time": "2022-02-27T22:25:11.102Z"
   },
   {
    "duration": 11,
    "start_time": "2022-02-27T22:25:11.345Z"
   },
   {
    "duration": 7,
    "start_time": "2022-02-27T22:25:11.596Z"
   },
   {
    "duration": 4,
    "start_time": "2022-02-27T22:25:11.801Z"
   },
   {
    "duration": 5,
    "start_time": "2022-02-27T22:25:12.848Z"
   },
   {
    "duration": 4,
    "start_time": "2022-02-27T22:25:13.415Z"
   },
   {
    "duration": 3,
    "start_time": "2022-02-27T22:25:13.770Z"
   },
   {
    "duration": 9,
    "start_time": "2022-02-27T22:25:14.107Z"
   },
   {
    "duration": 7,
    "start_time": "2022-02-27T22:25:14.427Z"
   },
   {
    "duration": 13,
    "start_time": "2022-02-27T22:25:14.793Z"
   },
   {
    "duration": 4,
    "start_time": "2022-02-27T22:25:15.156Z"
   },
   {
    "duration": 13,
    "start_time": "2022-02-27T22:25:15.545Z"
   },
   {
    "duration": 16,
    "start_time": "2022-02-27T22:25:15.922Z"
   },
   {
    "duration": 7,
    "start_time": "2022-02-27T22:25:16.649Z"
   },
   {
    "duration": 8,
    "start_time": "2022-02-27T22:25:17.009Z"
   },
   {
    "duration": 6,
    "start_time": "2022-02-27T22:25:17.296Z"
   },
   {
    "duration": 11,
    "start_time": "2022-02-27T22:25:18.450Z"
   },
   {
    "duration": 4,
    "start_time": "2022-02-27T22:25:18.969Z"
   },
   {
    "duration": 5,
    "start_time": "2022-02-27T22:25:19.457Z"
   },
   {
    "duration": 15,
    "start_time": "2022-02-27T22:25:19.985Z"
   },
   {
    "duration": 8,
    "start_time": "2022-02-27T22:25:20.417Z"
   },
   {
    "duration": 7,
    "start_time": "2022-02-27T22:25:20.848Z"
   },
   {
    "duration": 7,
    "start_time": "2022-02-27T22:25:21.289Z"
   },
   {
    "duration": 7,
    "start_time": "2022-02-27T22:25:21.770Z"
   },
   {
    "duration": 8,
    "start_time": "2022-02-27T22:25:22.353Z"
   },
   {
    "duration": 10,
    "start_time": "2022-02-27T22:25:22.707Z"
   },
   {
    "duration": 6,
    "start_time": "2022-02-27T22:25:23.021Z"
   },
   {
    "duration": 9,
    "start_time": "2022-02-27T22:25:23.347Z"
   },
   {
    "duration": 7,
    "start_time": "2022-02-27T22:25:23.649Z"
   },
   {
    "duration": 18,
    "start_time": "2022-02-27T22:25:24.531Z"
   },
   {
    "duration": 8,
    "start_time": "2022-02-27T22:25:24.864Z"
   },
   {
    "duration": 9,
    "start_time": "2022-02-27T22:25:25.609Z"
   },
   {
    "duration": 4,
    "start_time": "2022-02-27T22:25:26.547Z"
   },
   {
    "duration": 5,
    "start_time": "2022-02-27T22:25:26.957Z"
   },
   {
    "duration": 9,
    "start_time": "2022-02-27T22:25:27.752Z"
   },
   {
    "duration": 13,
    "start_time": "2022-02-27T22:25:29.936Z"
   },
   {
    "duration": 4,
    "start_time": "2022-02-27T22:25:30.481Z"
   },
   {
    "duration": 10,
    "start_time": "2022-02-27T22:25:31.220Z"
   },
   {
    "duration": 6,
    "start_time": "2022-02-27T22:25:32.268Z"
   },
   {
    "duration": 12,
    "start_time": "2022-02-27T22:25:32.795Z"
   },
   {
    "duration": 15,
    "start_time": "2022-02-27T22:25:34.178Z"
   },
   {
    "duration": 7,
    "start_time": "2022-02-27T22:25:35.577Z"
   },
   {
    "duration": 12,
    "start_time": "2022-02-27T22:25:37.058Z"
   },
   {
    "duration": 770,
    "start_time": "2022-02-27T22:25:38.548Z"
   },
   {
    "duration": 612,
    "start_time": "2022-02-27T22:25:40.054Z"
   },
   {
    "duration": 208,
    "start_time": "2022-02-27T22:25:42.075Z"
   },
   {
    "duration": 3,
    "start_time": "2022-02-27T23:05:14.117Z"
   },
   {
    "duration": 12,
    "start_time": "2022-02-27T23:05:16.563Z"
   },
   {
    "duration": 22,
    "start_time": "2022-02-27T23:05:17.056Z"
   },
   {
    "duration": 12,
    "start_time": "2022-02-27T23:05:17.603Z"
   },
   {
    "duration": 7,
    "start_time": "2022-02-27T23:05:18.028Z"
   },
   {
    "duration": 4,
    "start_time": "2022-02-27T23:05:18.336Z"
   },
   {
    "duration": 5,
    "start_time": "2022-02-27T23:05:18.605Z"
   },
   {
    "duration": 4,
    "start_time": "2022-02-27T23:05:18.861Z"
   },
   {
    "duration": 3,
    "start_time": "2022-02-27T23:05:19.137Z"
   },
   {
    "duration": 8,
    "start_time": "2022-02-27T23:05:19.374Z"
   },
   {
    "duration": 7,
    "start_time": "2022-02-27T23:05:19.682Z"
   },
   {
    "duration": 13,
    "start_time": "2022-02-27T23:05:19.841Z"
   },
   {
    "duration": 5,
    "start_time": "2022-02-27T23:05:20.106Z"
   },
   {
    "duration": 14,
    "start_time": "2022-02-27T23:05:20.361Z"
   },
   {
    "duration": 14,
    "start_time": "2022-02-27T23:05:20.619Z"
   },
   {
    "duration": 6,
    "start_time": "2022-02-27T23:05:20.843Z"
   },
   {
    "duration": 7,
    "start_time": "2022-02-27T23:05:21.085Z"
   },
   {
    "duration": 7,
    "start_time": "2022-02-27T23:05:22.092Z"
   },
   {
    "duration": 11,
    "start_time": "2022-02-27T23:05:22.368Z"
   },
   {
    "duration": 5,
    "start_time": "2022-02-27T23:05:22.609Z"
   },
   {
    "duration": 4,
    "start_time": "2022-02-27T23:05:22.851Z"
   },
   {
    "duration": 12,
    "start_time": "2022-02-27T23:05:23.122Z"
   },
   {
    "duration": 6,
    "start_time": "2022-02-27T23:05:23.436Z"
   },
   {
    "duration": 6,
    "start_time": "2022-02-27T23:05:23.677Z"
   },
   {
    "duration": 6,
    "start_time": "2022-02-27T23:05:23.941Z"
   },
   {
    "duration": 6,
    "start_time": "2022-02-27T23:05:24.173Z"
   },
   {
    "duration": 6,
    "start_time": "2022-02-27T23:05:24.426Z"
   },
   {
    "duration": 9,
    "start_time": "2022-02-27T23:05:24.681Z"
   },
   {
    "duration": 5,
    "start_time": "2022-02-27T23:05:24.970Z"
   },
   {
    "duration": 8,
    "start_time": "2022-02-27T23:05:25.213Z"
   },
   {
    "duration": 7,
    "start_time": "2022-02-27T23:05:25.495Z"
   },
   {
    "duration": 17,
    "start_time": "2022-02-27T23:05:26.401Z"
   },
   {
    "duration": 9,
    "start_time": "2022-02-27T23:05:26.697Z"
   },
   {
    "duration": 9,
    "start_time": "2022-02-27T23:05:27.659Z"
   },
   {
    "duration": 4,
    "start_time": "2022-02-27T23:05:27.944Z"
   },
   {
    "duration": 3,
    "start_time": "2022-02-27T23:05:28.213Z"
   },
   {
    "duration": 9,
    "start_time": "2022-02-27T23:05:28.519Z"
   },
   {
    "duration": 12,
    "start_time": "2022-02-27T23:05:29.899Z"
   },
   {
    "duration": 5,
    "start_time": "2022-02-27T23:05:30.187Z"
   },
   {
    "duration": 11,
    "start_time": "2022-02-27T23:05:30.475Z"
   },
   {
    "duration": 7,
    "start_time": "2022-02-27T23:05:31.382Z"
   },
   {
    "duration": 13,
    "start_time": "2022-02-27T23:05:32.034Z"
   },
   {
    "duration": 15,
    "start_time": "2022-02-27T23:05:32.599Z"
   },
   {
    "duration": 7,
    "start_time": "2022-02-27T23:05:33.416Z"
   },
   {
    "duration": 12,
    "start_time": "2022-02-27T23:05:34.508Z"
   },
   {
    "duration": 978,
    "start_time": "2022-02-27T23:05:39.806Z"
   },
   {
    "duration": 567,
    "start_time": "2022-02-27T23:05:45.938Z"
   },
   {
    "duration": 343,
    "start_time": "2022-02-27T23:06:42.825Z"
   },
   {
    "duration": 757,
    "start_time": "2022-02-27T23:07:33.882Z"
   },
   {
    "duration": 774,
    "start_time": "2022-02-27T23:11:17.835Z"
   },
   {
    "duration": 3,
    "start_time": "2022-02-27T23:12:47.694Z"
   },
   {
    "duration": 1086,
    "start_time": "2022-02-27T23:14:43.315Z"
   },
   {
    "duration": 13,
    "start_time": "2022-02-27T23:14:45.585Z"
   },
   {
    "duration": 3,
    "start_time": "2022-02-27T23:14:51.071Z"
   },
   {
    "duration": 12,
    "start_time": "2022-02-27T23:14:51.502Z"
   },
   {
    "duration": 22,
    "start_time": "2022-02-27T23:14:52.056Z"
   },
   {
    "duration": 11,
    "start_time": "2022-02-27T23:14:52.401Z"
   },
   {
    "duration": 9,
    "start_time": "2022-02-27T23:14:52.765Z"
   },
   {
    "duration": 5,
    "start_time": "2022-02-27T23:14:53.159Z"
   },
   {
    "duration": 7,
    "start_time": "2022-02-27T23:14:53.482Z"
   },
   {
    "duration": 4,
    "start_time": "2022-02-27T23:14:53.769Z"
   },
   {
    "duration": 4,
    "start_time": "2022-02-27T23:14:54.048Z"
   },
   {
    "duration": 11,
    "start_time": "2022-02-27T23:14:54.333Z"
   },
   {
    "duration": 7,
    "start_time": "2022-02-27T23:14:54.627Z"
   },
   {
    "duration": 14,
    "start_time": "2022-02-27T23:14:54.875Z"
   },
   {
    "duration": 5,
    "start_time": "2022-02-27T23:14:55.174Z"
   },
   {
    "duration": 13,
    "start_time": "2022-02-27T23:14:55.429Z"
   },
   {
    "duration": 15,
    "start_time": "2022-02-27T23:14:55.665Z"
   },
   {
    "duration": 6,
    "start_time": "2022-02-27T23:14:55.949Z"
   },
   {
    "duration": 7,
    "start_time": "2022-02-27T23:14:56.155Z"
   },
   {
    "duration": 7,
    "start_time": "2022-02-27T23:14:56.386Z"
   },
   {
    "duration": 11,
    "start_time": "2022-02-27T23:14:56.609Z"
   },
   {
    "duration": 4,
    "start_time": "2022-02-27T23:14:56.835Z"
   },
   {
    "duration": 5,
    "start_time": "2022-02-27T23:14:57.078Z"
   },
   {
    "duration": 16,
    "start_time": "2022-02-27T23:14:57.282Z"
   },
   {
    "duration": 6,
    "start_time": "2022-02-27T23:14:57.509Z"
   },
   {
    "duration": 6,
    "start_time": "2022-02-27T23:14:57.801Z"
   },
   {
    "duration": 6,
    "start_time": "2022-02-27T23:14:57.993Z"
   },
   {
    "duration": 7,
    "start_time": "2022-02-27T23:14:58.209Z"
   },
   {
    "duration": 9,
    "start_time": "2022-02-27T23:14:58.431Z"
   },
   {
    "duration": 10,
    "start_time": "2022-02-27T23:14:58.675Z"
   },
   {
    "duration": 4,
    "start_time": "2022-02-27T23:14:58.895Z"
   },
   {
    "duration": 8,
    "start_time": "2022-02-27T23:14:59.127Z"
   },
   {
    "duration": 7,
    "start_time": "2022-02-27T23:14:59.353Z"
   },
   {
    "duration": 17,
    "start_time": "2022-02-27T23:14:59.597Z"
   },
   {
    "duration": 8,
    "start_time": "2022-02-27T23:14:59.806Z"
   },
   {
    "duration": 9,
    "start_time": "2022-02-27T23:15:00.304Z"
   },
   {
    "duration": 8,
    "start_time": "2022-02-27T23:15:00.518Z"
   },
   {
    "duration": 4,
    "start_time": "2022-02-27T23:15:00.744Z"
   },
   {
    "duration": 10,
    "start_time": "2022-02-27T23:15:00.959Z"
   },
   {
    "duration": 13,
    "start_time": "2022-02-27T23:15:01.431Z"
   },
   {
    "duration": 5,
    "start_time": "2022-02-27T23:15:01.646Z"
   },
   {
    "duration": 11,
    "start_time": "2022-02-27T23:15:01.906Z"
   },
   {
    "duration": 7,
    "start_time": "2022-02-27T23:15:02.801Z"
   },
   {
    "duration": 11,
    "start_time": "2022-02-27T23:15:03.052Z"
   },
   {
    "duration": 14,
    "start_time": "2022-02-27T23:15:03.289Z"
   },
   {
    "duration": 6,
    "start_time": "2022-02-27T23:15:03.573Z"
   },
   {
    "duration": 13,
    "start_time": "2022-02-27T23:15:03.834Z"
   },
   {
    "duration": 5,
    "start_time": "2022-02-27T23:15:05.128Z"
   },
   {
    "duration": 864,
    "start_time": "2022-02-27T23:15:07.988Z"
   },
   {
    "duration": 4,
    "start_time": "2022-02-27T23:19:06.712Z"
   },
   {
    "duration": 703,
    "start_time": "2022-02-27T23:19:08.586Z"
   },
   {
    "duration": 85,
    "start_time": "2022-02-27T23:20:58.465Z"
   },
   {
    "duration": 737,
    "start_time": "2022-02-27T23:21:40.352Z"
   },
   {
    "duration": 1656,
    "start_time": "2022-02-27T23:25:36.581Z"
   },
   {
    "duration": 997,
    "start_time": "2022-02-27T23:26:15.974Z"
   },
   {
    "duration": 972,
    "start_time": "2022-02-27T23:28:42.515Z"
   },
   {
    "duration": 2859,
    "start_time": "2022-02-27T23:28:54.693Z"
   },
   {
    "duration": 742,
    "start_time": "2022-02-27T23:29:29.893Z"
   },
   {
    "duration": 730,
    "start_time": "2022-02-27T23:31:28.317Z"
   },
   {
    "duration": 734,
    "start_time": "2022-02-27T23:31:57.319Z"
   },
   {
    "duration": 751,
    "start_time": "2022-02-27T23:32:23.810Z"
   },
   {
    "duration": 3,
    "start_time": "2022-02-27T23:32:54.621Z"
   },
   {
    "duration": 12,
    "start_time": "2022-02-27T23:32:54.928Z"
   },
   {
    "duration": 21,
    "start_time": "2022-02-27T23:32:55.176Z"
   },
   {
    "duration": 12,
    "start_time": "2022-02-27T23:32:55.388Z"
   },
   {
    "duration": 7,
    "start_time": "2022-02-27T23:32:55.609Z"
   },
   {
    "duration": 5,
    "start_time": "2022-02-27T23:32:56.130Z"
   },
   {
    "duration": 6,
    "start_time": "2022-02-27T23:32:56.382Z"
   },
   {
    "duration": 5,
    "start_time": "2022-02-27T23:32:56.609Z"
   },
   {
    "duration": 3,
    "start_time": "2022-02-27T23:32:57.118Z"
   },
   {
    "duration": 8,
    "start_time": "2022-02-27T23:32:57.341Z"
   },
   {
    "duration": 7,
    "start_time": "2022-02-27T23:32:57.564Z"
   },
   {
    "duration": 15,
    "start_time": "2022-02-27T23:32:57.807Z"
   },
   {
    "duration": 6,
    "start_time": "2022-02-27T23:32:58.025Z"
   },
   {
    "duration": 13,
    "start_time": "2022-02-27T23:32:58.289Z"
   },
   {
    "duration": 16,
    "start_time": "2022-02-27T23:32:58.536Z"
   },
   {
    "duration": 7,
    "start_time": "2022-02-27T23:32:58.839Z"
   },
   {
    "duration": 8,
    "start_time": "2022-02-27T23:32:59.091Z"
   },
   {
    "duration": 7,
    "start_time": "2022-02-27T23:32:59.334Z"
   },
   {
    "duration": 11,
    "start_time": "2022-02-27T23:32:59.605Z"
   },
   {
    "duration": 5,
    "start_time": "2022-02-27T23:32:59.844Z"
   },
   {
    "duration": 5,
    "start_time": "2022-02-27T23:33:00.069Z"
   },
   {
    "duration": 15,
    "start_time": "2022-02-27T23:33:00.311Z"
   },
   {
    "duration": 6,
    "start_time": "2022-02-27T23:33:00.568Z"
   },
   {
    "duration": 7,
    "start_time": "2022-02-27T23:33:00.780Z"
   },
   {
    "duration": 6,
    "start_time": "2022-02-27T23:33:01.045Z"
   },
   {
    "duration": 7,
    "start_time": "2022-02-27T23:33:01.313Z"
   },
   {
    "duration": 7,
    "start_time": "2022-02-27T23:33:01.606Z"
   },
   {
    "duration": 10,
    "start_time": "2022-02-27T23:33:01.957Z"
   },
   {
    "duration": 5,
    "start_time": "2022-02-27T23:33:02.409Z"
   },
   {
    "duration": 9,
    "start_time": "2022-02-27T23:33:02.690Z"
   },
   {
    "duration": 8,
    "start_time": "2022-02-27T23:33:02.976Z"
   },
   {
    "duration": 18,
    "start_time": "2022-02-27T23:33:03.235Z"
   },
   {
    "duration": 9,
    "start_time": "2022-02-27T23:33:03.615Z"
   },
   {
    "duration": 9,
    "start_time": "2022-02-27T23:33:04.231Z"
   },
   {
    "duration": 5,
    "start_time": "2022-02-27T23:33:04.554Z"
   },
   {
    "duration": 4,
    "start_time": "2022-02-27T23:33:04.843Z"
   },
   {
    "duration": 10,
    "start_time": "2022-02-27T23:33:05.109Z"
   },
   {
    "duration": 13,
    "start_time": "2022-02-27T23:33:05.659Z"
   },
   {
    "duration": 4,
    "start_time": "2022-02-27T23:33:06.798Z"
   },
   {
    "duration": 17,
    "start_time": "2022-02-27T23:33:06.804Z"
   },
   {
    "duration": 9,
    "start_time": "2022-02-27T23:33:06.823Z"
   },
   {
    "duration": 13,
    "start_time": "2022-02-27T23:33:07.012Z"
   },
   {
    "duration": 15,
    "start_time": "2022-02-27T23:33:07.885Z"
   },
   {
    "duration": 7,
    "start_time": "2022-02-27T23:33:08.180Z"
   },
   {
    "duration": 12,
    "start_time": "2022-02-27T23:33:08.411Z"
   },
   {
    "duration": 729,
    "start_time": "2022-02-27T23:33:08.740Z"
   },
   {
    "duration": 2809,
    "start_time": "2022-02-27T23:34:07.922Z"
   },
   {
    "duration": 819,
    "start_time": "2022-02-27T23:38:12.476Z"
   },
   {
    "duration": 825,
    "start_time": "2022-02-27T23:44:38.570Z"
   },
   {
    "duration": 1098,
    "start_time": "2022-02-28T03:31:21.203Z"
   },
   {
    "duration": 18,
    "start_time": "2022-02-28T03:31:22.303Z"
   },
   {
    "duration": 30,
    "start_time": "2022-02-28T03:31:22.324Z"
   },
   {
    "duration": 12,
    "start_time": "2022-02-28T03:31:22.369Z"
   },
   {
    "duration": 8,
    "start_time": "2022-02-28T03:31:22.501Z"
   },
   {
    "duration": 5,
    "start_time": "2022-02-28T03:31:23.220Z"
   },
   {
    "duration": 7,
    "start_time": "2022-02-28T03:31:23.592Z"
   },
   {
    "duration": 4,
    "start_time": "2022-02-28T03:31:23.851Z"
   },
   {
    "duration": 3,
    "start_time": "2022-02-28T03:31:24.179Z"
   },
   {
    "duration": 11,
    "start_time": "2022-02-28T03:31:24.397Z"
   },
   {
    "duration": 9,
    "start_time": "2022-02-28T03:31:24.605Z"
   },
   {
    "duration": 14,
    "start_time": "2022-02-28T03:31:24.886Z"
   },
   {
    "duration": 5,
    "start_time": "2022-02-28T03:31:25.112Z"
   },
   {
    "duration": 14,
    "start_time": "2022-02-28T03:31:25.547Z"
   },
   {
    "duration": 16,
    "start_time": "2022-02-28T03:31:25.772Z"
   },
   {
    "duration": 7,
    "start_time": "2022-02-28T03:31:25.987Z"
   },
   {
    "duration": 7,
    "start_time": "2022-02-28T03:31:26.324Z"
   },
   {
    "duration": 6,
    "start_time": "2022-02-28T03:31:26.535Z"
   },
   {
    "duration": 11,
    "start_time": "2022-02-28T03:31:26.702Z"
   },
   {
    "duration": 4,
    "start_time": "2022-02-28T03:31:26.897Z"
   },
   {
    "duration": 4,
    "start_time": "2022-02-28T03:31:27.150Z"
   },
   {
    "duration": 14,
    "start_time": "2022-02-28T03:31:27.451Z"
   },
   {
    "duration": 7,
    "start_time": "2022-02-28T03:31:27.666Z"
   },
   {
    "duration": 7,
    "start_time": "2022-02-28T03:31:27.873Z"
   },
   {
    "duration": 7,
    "start_time": "2022-02-28T03:31:28.101Z"
   },
   {
    "duration": 7,
    "start_time": "2022-02-28T03:31:28.414Z"
   },
   {
    "duration": 7,
    "start_time": "2022-02-28T03:31:28.591Z"
   },
   {
    "duration": 9,
    "start_time": "2022-02-28T03:31:28.838Z"
   },
   {
    "duration": 4,
    "start_time": "2022-02-28T03:31:29.036Z"
   },
   {
    "duration": 9,
    "start_time": "2022-02-28T03:31:29.335Z"
   },
   {
    "duration": 7,
    "start_time": "2022-02-28T03:31:29.680Z"
   },
   {
    "duration": 16,
    "start_time": "2022-02-28T03:31:29.880Z"
   },
   {
    "duration": 8,
    "start_time": "2022-02-28T03:31:30.083Z"
   },
   {
    "duration": 9,
    "start_time": "2022-02-28T03:31:30.550Z"
   },
   {
    "duration": 7,
    "start_time": "2022-02-28T03:31:30.770Z"
   },
   {
    "duration": 5,
    "start_time": "2022-02-28T03:31:31.054Z"
   },
   {
    "duration": 11,
    "start_time": "2022-02-28T03:31:31.250Z"
   },
   {
    "duration": 12,
    "start_time": "2022-02-28T03:31:31.736Z"
   },
   {
    "duration": 4,
    "start_time": "2022-02-28T03:31:31.953Z"
   },
   {
    "duration": 11,
    "start_time": "2022-02-28T03:31:32.216Z"
   },
   {
    "duration": 7,
    "start_time": "2022-02-28T03:31:32.686Z"
   },
   {
    "duration": 12,
    "start_time": "2022-02-28T03:31:32.954Z"
   },
   {
    "duration": 16,
    "start_time": "2022-02-28T03:31:33.274Z"
   },
   {
    "duration": 7,
    "start_time": "2022-02-28T03:31:33.439Z"
   },
   {
    "duration": 12,
    "start_time": "2022-02-28T03:31:33.661Z"
   },
   {
    "duration": 839,
    "start_time": "2022-02-28T03:31:33.880Z"
   },
   {
    "duration": 814,
    "start_time": "2022-02-28T03:35:14.045Z"
   },
   {
    "duration": 743,
    "start_time": "2022-02-28T03:35:59.658Z"
   },
   {
    "duration": 11,
    "start_time": "2022-02-28T03:36:13.691Z"
   },
   {
    "duration": 770,
    "start_time": "2022-02-28T03:36:24.974Z"
   },
   {
    "duration": 3,
    "start_time": "2022-02-28T04:07:30.846Z"
   },
   {
    "duration": 13,
    "start_time": "2022-02-28T04:07:30.862Z"
   },
   {
    "duration": 22,
    "start_time": "2022-02-28T04:07:33.131Z"
   },
   {
    "duration": 11,
    "start_time": "2022-02-28T04:07:33.567Z"
   },
   {
    "duration": 7,
    "start_time": "2022-02-28T04:07:33.929Z"
   },
   {
    "duration": 5,
    "start_time": "2022-02-28T04:07:34.252Z"
   },
   {
    "duration": 6,
    "start_time": "2022-02-28T04:07:34.541Z"
   },
   {
    "duration": 4,
    "start_time": "2022-02-28T04:07:34.780Z"
   },
   {
    "duration": 3,
    "start_time": "2022-02-28T04:07:35.041Z"
   },
   {
    "duration": 8,
    "start_time": "2022-02-28T04:07:35.309Z"
   },
   {
    "duration": 7,
    "start_time": "2022-02-28T04:07:35.565Z"
   },
   {
    "duration": 13,
    "start_time": "2022-02-28T04:07:35.820Z"
   },
   {
    "duration": 4,
    "start_time": "2022-02-28T04:07:36.056Z"
   },
   {
    "duration": 14,
    "start_time": "2022-02-28T04:07:36.293Z"
   },
   {
    "duration": 14,
    "start_time": "2022-02-28T04:07:36.551Z"
   },
   {
    "duration": 6,
    "start_time": "2022-02-28T04:07:36.782Z"
   },
   {
    "duration": 7,
    "start_time": "2022-02-28T04:07:37.014Z"
   },
   {
    "duration": 6,
    "start_time": "2022-02-28T04:07:37.261Z"
   },
   {
    "duration": 11,
    "start_time": "2022-02-28T04:07:37.497Z"
   },
   {
    "duration": 4,
    "start_time": "2022-02-28T04:07:37.735Z"
   },
   {
    "duration": 5,
    "start_time": "2022-02-28T04:07:37.940Z"
   },
   {
    "duration": 13,
    "start_time": "2022-02-28T04:07:38.187Z"
   },
   {
    "duration": 6,
    "start_time": "2022-02-28T04:07:38.439Z"
   },
   {
    "duration": 6,
    "start_time": "2022-02-28T04:07:38.659Z"
   },
   {
    "duration": 6,
    "start_time": "2022-02-28T04:07:38.893Z"
   },
   {
    "duration": 7,
    "start_time": "2022-02-28T04:07:39.108Z"
   },
   {
    "duration": 6,
    "start_time": "2022-02-28T04:07:39.347Z"
   },
   {
    "duration": 9,
    "start_time": "2022-02-28T04:07:39.564Z"
   },
   {
    "duration": 5,
    "start_time": "2022-02-28T04:07:39.801Z"
   },
   {
    "duration": 8,
    "start_time": "2022-02-28T04:07:40.011Z"
   },
   {
    "duration": 7,
    "start_time": "2022-02-28T04:07:40.229Z"
   },
   {
    "duration": 16,
    "start_time": "2022-02-28T04:07:40.478Z"
   },
   {
    "duration": 8,
    "start_time": "2022-02-28T04:07:40.714Z"
   },
   {
    "duration": 8,
    "start_time": "2022-02-28T04:07:41.147Z"
   },
   {
    "duration": 5,
    "start_time": "2022-02-28T04:07:41.369Z"
   },
   {
    "duration": 4,
    "start_time": "2022-02-28T04:07:41.566Z"
   },
   {
    "duration": 9,
    "start_time": "2022-02-28T04:07:41.816Z"
   },
   {
    "duration": 12,
    "start_time": "2022-02-28T04:07:42.269Z"
   },
   {
    "duration": 5,
    "start_time": "2022-02-28T04:07:42.493Z"
   },
   {
    "duration": 10,
    "start_time": "2022-02-28T04:07:42.697Z"
   },
   {
    "duration": 7,
    "start_time": "2022-02-28T04:07:45.084Z"
   },
   {
    "duration": 13,
    "start_time": "2022-02-28T04:07:45.339Z"
   },
   {
    "duration": 14,
    "start_time": "2022-02-28T04:07:45.555Z"
   },
   {
    "duration": 6,
    "start_time": "2022-02-28T04:07:45.817Z"
   },
   {
    "duration": 13,
    "start_time": "2022-02-28T04:07:46.029Z"
   },
   {
    "duration": 897,
    "start_time": "2022-02-28T04:07:51.436Z"
   },
   {
    "duration": 1104,
    "start_time": "2022-02-28T13:59:09.907Z"
   },
   {
    "duration": 30,
    "start_time": "2022-02-28T13:59:11.013Z"
   },
   {
    "duration": 56,
    "start_time": "2022-02-28T13:59:11.338Z"
   },
   {
    "duration": 25,
    "start_time": "2022-02-28T13:59:11.683Z"
   },
   {
    "duration": 7,
    "start_time": "2022-02-28T13:59:11.857Z"
   },
   {
    "duration": 4,
    "start_time": "2022-02-28T13:59:12.217Z"
   },
   {
    "duration": 6,
    "start_time": "2022-02-28T13:59:12.512Z"
   },
   {
    "duration": 4,
    "start_time": "2022-02-28T13:59:12.742Z"
   },
   {
    "duration": 2,
    "start_time": "2022-02-28T13:59:12.912Z"
   },
   {
    "duration": 9,
    "start_time": "2022-02-28T13:59:13.144Z"
   },
   {
    "duration": 6,
    "start_time": "2022-02-28T13:59:13.414Z"
   },
   {
    "duration": 12,
    "start_time": "2022-02-28T13:59:13.656Z"
   },
   {
    "duration": 5,
    "start_time": "2022-02-28T13:59:13.902Z"
   },
   {
    "duration": 12,
    "start_time": "2022-02-28T13:59:14.487Z"
   },
   {
    "duration": 13,
    "start_time": "2022-02-28T13:59:14.785Z"
   },
   {
    "duration": 7,
    "start_time": "2022-02-28T13:59:15.051Z"
   },
   {
    "duration": 6,
    "start_time": "2022-02-28T13:59:15.315Z"
   },
   {
    "duration": 6,
    "start_time": "2022-02-28T13:59:15.589Z"
   },
   {
    "duration": 10,
    "start_time": "2022-02-28T13:59:15.857Z"
   },
   {
    "duration": 4,
    "start_time": "2022-02-28T13:59:16.148Z"
   },
   {
    "duration": 5,
    "start_time": "2022-02-28T13:59:16.356Z"
   },
   {
    "duration": 11,
    "start_time": "2022-02-28T13:59:16.610Z"
   },
   {
    "duration": 6,
    "start_time": "2022-02-28T13:59:16.939Z"
   },
   {
    "duration": 5,
    "start_time": "2022-02-28T13:59:17.244Z"
   },
   {
    "duration": 6,
    "start_time": "2022-02-28T13:59:17.459Z"
   },
   {
    "duration": 7,
    "start_time": "2022-02-28T13:59:17.856Z"
   },
   {
    "duration": 6,
    "start_time": "2022-02-28T13:59:18.109Z"
   },
   {
    "duration": 8,
    "start_time": "2022-02-28T13:59:18.324Z"
   },
   {
    "duration": 5,
    "start_time": "2022-02-28T13:59:18.637Z"
   },
   {
    "duration": 7,
    "start_time": "2022-02-28T13:59:18.823Z"
   },
   {
    "duration": 6,
    "start_time": "2022-02-28T13:59:19.045Z"
   },
   {
    "duration": 13,
    "start_time": "2022-02-28T13:59:19.252Z"
   },
   {
    "duration": 8,
    "start_time": "2022-02-28T13:59:19.510Z"
   },
   {
    "duration": 7,
    "start_time": "2022-02-28T13:59:19.945Z"
   },
   {
    "duration": 5,
    "start_time": "2022-02-28T13:59:20.305Z"
   },
   {
    "duration": 3,
    "start_time": "2022-02-28T13:59:22.056Z"
   },
   {
    "duration": 8,
    "start_time": "2022-02-28T13:59:22.453Z"
   },
   {
    "duration": 11,
    "start_time": "2022-02-28T13:59:23.259Z"
   },
   {
    "duration": 4,
    "start_time": "2022-02-28T13:59:23.509Z"
   },
   {
    "duration": 10,
    "start_time": "2022-02-28T13:59:23.831Z"
   },
   {
    "duration": 7,
    "start_time": "2022-02-28T13:59:25.000Z"
   },
   {
    "duration": 12,
    "start_time": "2022-02-28T13:59:25.364Z"
   },
   {
    "duration": 14,
    "start_time": "2022-02-28T13:59:25.765Z"
   },
   {
    "duration": 5,
    "start_time": "2022-02-28T13:59:28.579Z"
   },
   {
    "duration": 12,
    "start_time": "2022-02-28T13:59:29.317Z"
   },
   {
    "duration": 764,
    "start_time": "2022-02-28T13:59:30.010Z"
   },
   {
    "duration": 686,
    "start_time": "2022-02-28T13:59:35.137Z"
   },
   {
    "duration": 11,
    "start_time": "2022-02-28T17:08:34.290Z"
   },
   {
    "duration": 11,
    "start_time": "2022-02-28T17:09:07.024Z"
   },
   {
    "duration": 9,
    "start_time": "2022-02-28T17:09:07.668Z"
   },
   {
    "duration": 10,
    "start_time": "2022-02-28T17:09:22.550Z"
   },
   {
    "duration": 10,
    "start_time": "2022-02-28T17:09:39.928Z"
   },
   {
    "duration": 10,
    "start_time": "2022-02-28T17:09:49.382Z"
   },
   {
    "duration": 38,
    "start_time": "2022-02-28T17:11:38.039Z"
   },
   {
    "duration": 203,
    "start_time": "2022-02-28T17:14:05.118Z"
   },
   {
    "duration": 176,
    "start_time": "2022-02-28T17:14:36.754Z"
   },
   {
    "duration": 179,
    "start_time": "2022-02-28T17:15:25.749Z"
   },
   {
    "duration": 11,
    "start_time": "2022-02-28T17:16:44.895Z"
   },
   {
    "duration": 9,
    "start_time": "2022-02-28T17:16:45.647Z"
   },
   {
    "duration": 10,
    "start_time": "2022-02-28T17:16:46.490Z"
   },
   {
    "duration": 168,
    "start_time": "2022-02-28T17:16:49.767Z"
   },
   {
    "duration": 260,
    "start_time": "2022-02-28T18:14:21.122Z"
   },
   {
    "duration": 4588,
    "start_time": "2022-02-28T18:15:45.527Z"
   },
   {
    "duration": 10,
    "start_time": "2022-02-28T19:03:35.774Z"
   },
   {
    "duration": 16,
    "start_time": "2022-02-28T19:04:17.430Z"
   },
   {
    "duration": 14,
    "start_time": "2022-02-28T19:08:58.252Z"
   },
   {
    "duration": 15,
    "start_time": "2022-02-28T19:09:01.757Z"
   },
   {
    "duration": 15,
    "start_time": "2022-02-28T19:09:03.047Z"
   },
   {
    "duration": 15,
    "start_time": "2022-02-28T19:09:04.041Z"
   },
   {
    "duration": 12,
    "start_time": "2022-02-28T19:10:23.411Z"
   },
   {
    "duration": 11,
    "start_time": "2022-02-28T19:10:24.082Z"
   },
   {
    "duration": 10,
    "start_time": "2022-02-28T19:10:24.780Z"
   },
   {
    "duration": 14,
    "start_time": "2022-02-28T19:12:00.934Z"
   },
   {
    "duration": 10,
    "start_time": "2022-02-28T19:12:01.686Z"
   },
   {
    "duration": 10,
    "start_time": "2022-02-28T19:12:06.044Z"
   },
   {
    "duration": 188,
    "start_time": "2022-02-28T19:12:11.244Z"
   },
   {
    "duration": 18,
    "start_time": "2022-02-28T19:12:14.656Z"
   },
   {
    "duration": 292,
    "start_time": "2022-02-28T19:12:58.733Z"
   },
   {
    "duration": 444,
    "start_time": "2022-02-28T19:22:15.546Z"
   },
   {
    "duration": 247,
    "start_time": "2022-02-28T19:22:51.390Z"
   },
   {
    "duration": 13,
    "start_time": "2022-02-28T19:23:03.651Z"
   },
   {
    "duration": 12,
    "start_time": "2022-02-28T19:24:41.894Z"
   },
   {
    "duration": 13,
    "start_time": "2022-02-28T19:29:34.392Z"
   },
   {
    "duration": 11,
    "start_time": "2022-02-28T19:29:39.489Z"
   },
   {
    "duration": 11,
    "start_time": "2022-02-28T19:29:40.945Z"
   },
   {
    "duration": 23,
    "start_time": "2022-02-28T19:30:27.574Z"
   },
   {
    "duration": 186,
    "start_time": "2022-02-28T19:30:28.549Z"
   },
   {
    "duration": 11,
    "start_time": "2022-02-28T19:30:29.304Z"
   },
   {
    "duration": 15,
    "start_time": "2022-02-28T19:30:32.678Z"
   },
   {
    "duration": 13,
    "start_time": "2022-02-28T19:30:54.469Z"
   },
   {
    "duration": 192,
    "start_time": "2022-02-28T19:30:55.471Z"
   },
   {
    "duration": 13,
    "start_time": "2022-02-28T19:30:55.942Z"
   },
   {
    "duration": 11,
    "start_time": "2022-02-28T19:30:57.184Z"
   },
   {
    "duration": 189,
    "start_time": "2022-02-28T19:32:49.569Z"
   },
   {
    "duration": 20,
    "start_time": "2022-02-28T19:33:33.305Z"
   },
   {
    "duration": 12,
    "start_time": "2022-02-28T19:34:06.481Z"
   },
   {
    "duration": 13,
    "start_time": "2022-02-28T19:34:37.909Z"
   },
   {
    "duration": 197,
    "start_time": "2022-02-28T19:36:05.831Z"
   },
   {
    "duration": 294,
    "start_time": "2022-02-28T19:36:57.104Z"
   },
   {
    "duration": 195,
    "start_time": "2022-02-28T19:37:56.109Z"
   },
   {
    "duration": 185,
    "start_time": "2022-02-28T19:38:24.453Z"
   },
   {
    "duration": 162,
    "start_time": "2022-02-28T19:38:45.172Z"
   },
   {
    "duration": 16,
    "start_time": "2022-02-28T19:39:18.583Z"
   },
   {
    "duration": 179,
    "start_time": "2022-02-28T19:39:25.938Z"
   },
   {
    "duration": 227,
    "start_time": "2022-02-28T19:46:49.349Z"
   },
   {
    "duration": 103,
    "start_time": "2022-02-28T19:47:28.244Z"
   },
   {
    "duration": 168,
    "start_time": "2022-02-28T19:48:00.491Z"
   },
   {
    "duration": 173,
    "start_time": "2022-02-28T19:48:40.514Z"
   },
   {
    "duration": 172,
    "start_time": "2022-02-28T19:48:49.221Z"
   },
   {
    "duration": 6,
    "start_time": "2022-02-28T19:49:13.026Z"
   },
   {
    "duration": 5,
    "start_time": "2022-02-28T19:49:25.026Z"
   },
   {
    "duration": 8,
    "start_time": "2022-02-28T19:49:30.810Z"
   },
   {
    "duration": 253,
    "start_time": "2022-02-28T19:50:06.570Z"
   },
   {
    "duration": 4,
    "start_time": "2022-02-28T19:50:52.474Z"
   },
   {
    "duration": 4863,
    "start_time": "2022-02-28T19:57:44.305Z"
   },
   {
    "duration": 10,
    "start_time": "2022-02-28T19:58:11.621Z"
   },
   {
    "duration": 10,
    "start_time": "2022-02-28T19:58:53.549Z"
   },
   {
    "duration": 4366,
    "start_time": "2022-02-28T19:58:58.129Z"
   },
   {
    "duration": 274,
    "start_time": "2022-02-28T19:59:27.408Z"
   },
   {
    "duration": 100,
    "start_time": "2022-02-28T19:59:37.286Z"
   },
   {
    "duration": 249,
    "start_time": "2022-02-28T19:59:38.319Z"
   },
   {
    "duration": 9,
    "start_time": "2022-02-28T19:59:39.681Z"
   },
   {
    "duration": 292,
    "start_time": "2022-02-28T19:59:40.618Z"
   },
   {
    "duration": 4,
    "start_time": "2022-02-28T19:59:41.457Z"
   },
   {
    "duration": 11,
    "start_time": "2022-02-28T19:59:42.522Z"
   },
   {
    "duration": 281,
    "start_time": "2022-02-28T19:59:43.430Z"
   },
   {
    "duration": 5,
    "start_time": "2022-02-28T20:00:23.772Z"
   },
   {
    "duration": 10,
    "start_time": "2022-02-28T21:26:38.334Z"
   },
   {
    "duration": 8,
    "start_time": "2022-02-28T21:26:52.898Z"
   },
   {
    "duration": 7,
    "start_time": "2022-02-28T21:28:43.974Z"
   },
   {
    "duration": 266,
    "start_time": "2022-02-28T21:28:50.558Z"
   },
   {
    "duration": 101,
    "start_time": "2022-02-28T21:29:52.637Z"
   },
   {
    "duration": 256,
    "start_time": "2022-02-28T21:31:19.857Z"
   },
   {
    "duration": 184,
    "start_time": "2022-02-28T21:32:13.015Z"
   },
   {
    "duration": 14,
    "start_time": "2022-02-28T21:33:10.660Z"
   },
   {
    "duration": 187,
    "start_time": "2022-02-28T21:36:36.858Z"
   },
   {
    "duration": 10,
    "start_time": "2022-02-28T21:37:35.768Z"
   },
   {
    "duration": 4799,
    "start_time": "2022-02-28T21:44:00.240Z"
   },
   {
    "duration": 4555,
    "start_time": "2022-02-28T21:44:23.402Z"
   },
   {
    "duration": 4521,
    "start_time": "2022-02-28T21:44:46.503Z"
   },
   {
    "duration": 10,
    "start_time": "2022-02-28T21:45:09.699Z"
   },
   {
    "duration": 10,
    "start_time": "2022-02-28T21:46:49.473Z"
   },
   {
    "duration": 7,
    "start_time": "2022-02-28T21:47:11.184Z"
   },
   {
    "duration": 219,
    "start_time": "2022-02-28T21:51:42.889Z"
   },
   {
    "duration": 1405,
    "start_time": "2022-02-28T21:51:54.794Z"
   },
   {
    "duration": 4839,
    "start_time": "2022-02-28T21:52:44.561Z"
   },
   {
    "duration": 13,
    "start_time": "2022-02-28T21:52:58.708Z"
   },
   {
    "duration": 5,
    "start_time": "2022-02-28T23:20:25.791Z"
   },
   {
    "duration": 4,
    "start_time": "2022-02-28T23:20:37.974Z"
   },
   {
    "duration": 10,
    "start_time": "2022-02-28T23:20:50.670Z"
   },
   {
    "duration": 6,
    "start_time": "2022-02-28T23:20:52.039Z"
   },
   {
    "duration": 9,
    "start_time": "2022-02-28T23:21:23.961Z"
   },
   {
    "duration": 9,
    "start_time": "2022-02-28T23:29:24.268Z"
   },
   {
    "duration": 11,
    "start_time": "2022-02-28T23:29:43.905Z"
   },
   {
    "duration": 9,
    "start_time": "2022-02-28T23:29:53.301Z"
   },
   {
    "duration": 12,
    "start_time": "2022-02-28T23:30:21.507Z"
   },
   {
    "duration": 370,
    "start_time": "2022-02-28T23:31:43.698Z"
   },
   {
    "duration": 416,
    "start_time": "2022-02-28T23:31:52.428Z"
   },
   {
    "duration": 352,
    "start_time": "2022-02-28T23:35:06.798Z"
   },
   {
    "duration": 182,
    "start_time": "2022-02-28T23:37:15.230Z"
   },
   {
    "duration": 9,
    "start_time": "2022-02-28T23:40:20.773Z"
   },
   {
    "duration": 184,
    "start_time": "2022-02-28T23:41:10.831Z"
   },
   {
    "duration": 348,
    "start_time": "2022-02-28T23:41:26.622Z"
   },
   {
    "duration": 11,
    "start_time": "2022-02-28T23:41:45.437Z"
   },
   {
    "duration": 12,
    "start_time": "2022-02-28T23:42:06.634Z"
   },
   {
    "duration": 15,
    "start_time": "2022-02-28T23:43:01.432Z"
   },
   {
    "duration": 164,
    "start_time": "2022-02-28T23:52:11.852Z"
   },
   {
    "duration": 175,
    "start_time": "2022-02-28T23:52:58.028Z"
   },
   {
    "duration": 295,
    "start_time": "2022-02-28T23:57:42.650Z"
   },
   {
    "duration": 313,
    "start_time": "2022-02-28T23:58:05.224Z"
   },
   {
    "duration": 267,
    "start_time": "2022-02-28T23:58:44.578Z"
   },
   {
    "duration": 311,
    "start_time": "2022-03-01T00:04:49.201Z"
   },
   {
    "duration": 310,
    "start_time": "2022-03-01T00:07:38.435Z"
   },
   {
    "duration": 15,
    "start_time": "2022-03-01T00:09:48.499Z"
   },
   {
    "duration": 180,
    "start_time": "2022-03-01T00:11:47.799Z"
   },
   {
    "duration": 174,
    "start_time": "2022-03-01T00:13:40.192Z"
   },
   {
    "duration": 177,
    "start_time": "2022-03-01T00:13:56.539Z"
   },
   {
    "duration": 118,
    "start_time": "2022-03-01T00:17:02.326Z"
   },
   {
    "duration": 155,
    "start_time": "2022-03-01T00:17:05.975Z"
   },
   {
    "duration": 9,
    "start_time": "2022-03-01T00:29:22.655Z"
   },
   {
    "duration": 198,
    "start_time": "2022-03-01T00:31:34.494Z"
   },
   {
    "duration": 167,
    "start_time": "2022-03-01T00:31:40.966Z"
   },
   {
    "duration": 54,
    "start_time": "2022-03-01T00:36:48.622Z"
   },
   {
    "duration": 9,
    "start_time": "2022-03-01T00:37:35.146Z"
   },
   {
    "duration": 8,
    "start_time": "2022-03-01T00:37:35.288Z"
   },
   {
    "duration": 10,
    "start_time": "2022-03-01T00:50:23.450Z"
   },
   {
    "duration": 254,
    "start_time": "2022-03-01T04:54:20.979Z"
   },
   {
    "duration": 304,
    "start_time": "2022-03-01T04:54:50.006Z"
   },
   {
    "duration": 284,
    "start_time": "2022-03-01T04:55:43.509Z"
   },
   {
    "duration": 287,
    "start_time": "2022-03-01T04:56:57.932Z"
   },
   {
    "duration": 13,
    "start_time": "2022-03-01T05:25:00.521Z"
   },
   {
    "duration": 12,
    "start_time": "2022-03-01T05:25:20.731Z"
   },
   {
    "duration": 190,
    "start_time": "2022-03-01T05:40:35.120Z"
   },
   {
    "duration": 183,
    "start_time": "2022-03-01T05:41:15.120Z"
   },
   {
    "duration": 287,
    "start_time": "2022-03-01T05:42:05.739Z"
   },
   {
    "duration": 252,
    "start_time": "2022-03-01T05:43:02.088Z"
   },
   {
    "duration": 268,
    "start_time": "2022-03-01T05:44:33.285Z"
   },
   {
    "duration": 236,
    "start_time": "2022-03-01T05:47:06.385Z"
   },
   {
    "duration": 159,
    "start_time": "2022-03-01T05:47:54.566Z"
   },
   {
    "duration": 254,
    "start_time": "2022-03-01T05:48:19.600Z"
   },
   {
    "duration": 288,
    "start_time": "2022-03-01T05:48:36.733Z"
   },
   {
    "duration": 3,
    "start_time": "2022-03-01T05:48:51.624Z"
   },
   {
    "duration": 10,
    "start_time": "2022-03-01T05:48:52.355Z"
   },
   {
    "duration": 20,
    "start_time": "2022-03-01T05:48:53.366Z"
   },
   {
    "duration": 11,
    "start_time": "2022-03-01T05:48:53.928Z"
   },
   {
    "duration": 6,
    "start_time": "2022-03-01T05:48:54.297Z"
   },
   {
    "duration": 4,
    "start_time": "2022-03-01T05:48:55.063Z"
   },
   {
    "duration": 5,
    "start_time": "2022-03-01T05:48:55.402Z"
   },
   {
    "duration": 4,
    "start_time": "2022-03-01T05:48:55.849Z"
   },
   {
    "duration": 2,
    "start_time": "2022-03-01T05:48:56.239Z"
   },
   {
    "duration": 8,
    "start_time": "2022-03-01T05:48:56.625Z"
   },
   {
    "duration": 7,
    "start_time": "2022-03-01T05:48:57.143Z"
   },
   {
    "duration": 9,
    "start_time": "2022-03-01T05:48:57.832Z"
   },
   {
    "duration": 4,
    "start_time": "2022-03-01T05:48:58.167Z"
   },
   {
    "duration": 12,
    "start_time": "2022-03-01T05:48:58.623Z"
   },
   {
    "duration": 9,
    "start_time": "2022-03-01T05:48:58.979Z"
   },
   {
    "duration": 6,
    "start_time": "2022-03-01T05:48:59.309Z"
   },
   {
    "duration": 6,
    "start_time": "2022-03-01T05:48:59.613Z"
   },
   {
    "duration": 9,
    "start_time": "2022-03-01T05:49:00.859Z"
   },
   {
    "duration": 4,
    "start_time": "2022-03-01T05:49:01.198Z"
   },
   {
    "duration": 4,
    "start_time": "2022-03-01T05:49:01.505Z"
   },
   {
    "duration": 12,
    "start_time": "2022-03-01T05:49:01.834Z"
   },
   {
    "duration": 6,
    "start_time": "2022-03-01T05:49:02.150Z"
   },
   {
    "duration": 6,
    "start_time": "2022-03-01T05:49:02.423Z"
   },
   {
    "duration": 6,
    "start_time": "2022-03-01T05:49:02.726Z"
   },
   {
    "duration": 6,
    "start_time": "2022-03-01T05:49:03.339Z"
   },
   {
    "duration": 9,
    "start_time": "2022-03-01T05:49:03.630Z"
   },
   {
    "duration": 5,
    "start_time": "2022-03-01T05:49:04.394Z"
   },
   {
    "duration": 8,
    "start_time": "2022-03-01T05:49:04.680Z"
   },
   {
    "duration": 7,
    "start_time": "2022-03-01T05:49:05.008Z"
   },
   {
    "duration": 14,
    "start_time": "2022-03-01T05:49:05.324Z"
   },
   {
    "duration": 7,
    "start_time": "2022-03-01T05:49:05.640Z"
   },
   {
    "duration": 8,
    "start_time": "2022-03-01T05:49:06.491Z"
   },
   {
    "duration": 3,
    "start_time": "2022-03-01T05:49:06.811Z"
   },
   {
    "duration": 3,
    "start_time": "2022-03-01T05:49:07.147Z"
   },
   {
    "duration": 8,
    "start_time": "2022-03-01T05:49:07.435Z"
   },
   {
    "duration": 11,
    "start_time": "2022-03-01T05:49:08.058Z"
   },
   {
    "duration": 3,
    "start_time": "2022-03-01T05:49:08.354Z"
   },
   {
    "duration": 9,
    "start_time": "2022-03-01T05:49:09.283Z"
   },
   {
    "duration": 13,
    "start_time": "2022-03-01T05:49:10.710Z"
   },
   {
    "duration": 13,
    "start_time": "2022-03-01T05:49:11.037Z"
   },
   {
    "duration": 20,
    "start_time": "2022-03-01T05:49:11.378Z"
   },
   {
    "duration": 12,
    "start_time": "2022-03-01T05:49:11.715Z"
   },
   {
    "duration": 9,
    "start_time": "2022-03-01T05:49:12.037Z"
   },
   {
    "duration": 11,
    "start_time": "2022-03-01T05:49:12.403Z"
   },
   {
    "duration": 8,
    "start_time": "2022-03-01T05:49:13.133Z"
   },
   {
    "duration": 13,
    "start_time": "2022-03-01T05:49:13.454Z"
   },
   {
    "duration": 9,
    "start_time": "2022-03-01T05:49:13.773Z"
   },
   {
    "duration": 194,
    "start_time": "2022-03-01T05:49:14.450Z"
   },
   {
    "duration": 181,
    "start_time": "2022-03-01T05:49:15.873Z"
   },
   {
    "duration": 280,
    "start_time": "2022-03-01T05:49:17.257Z"
   },
   {
    "duration": 14,
    "start_time": "2022-03-01T05:49:18.620Z"
   },
   {
    "duration": 182,
    "start_time": "2022-03-01T05:49:18.958Z"
   },
   {
    "duration": 248,
    "start_time": "2022-03-01T05:49:20.178Z"
   },
   {
    "duration": 101,
    "start_time": "2022-03-01T05:49:22.106Z"
   },
   {
    "duration": 161,
    "start_time": "2022-03-01T05:49:22.803Z"
   },
   {
    "duration": 8,
    "start_time": "2022-03-01T05:49:23.835Z"
   },
   {
    "duration": 313,
    "start_time": "2022-03-01T05:49:24.234Z"
   },
   {
    "duration": 4,
    "start_time": "2022-03-01T05:49:25.730Z"
   },
   {
    "duration": 12,
    "start_time": "2022-03-01T05:49:27.240Z"
   },
   {
    "duration": 9,
    "start_time": "2022-03-01T05:49:27.817Z"
   },
   {
    "duration": 173,
    "start_time": "2022-03-01T05:49:28.532Z"
   },
   {
    "duration": 287,
    "start_time": "2022-03-01T05:49:29.034Z"
   },
   {
    "duration": 5,
    "start_time": "2022-03-01T05:49:30.237Z"
   },
   {
    "duration": 10,
    "start_time": "2022-03-01T05:49:31.898Z"
   },
   {
    "duration": 8,
    "start_time": "2022-03-01T05:49:32.371Z"
   },
   {
    "duration": 111,
    "start_time": "2022-03-01T05:49:32.801Z"
   },
   {
    "duration": 105,
    "start_time": "2022-03-01T05:49:33.291Z"
   },
   {
    "duration": 10,
    "start_time": "2022-03-01T05:49:35.356Z"
   },
   {
    "duration": 9,
    "start_time": "2022-03-01T05:49:36.802Z"
   },
   {
    "duration": 11,
    "start_time": "2022-03-01T05:49:37.913Z"
   },
   {
    "duration": 6,
    "start_time": "2022-03-01T05:49:38.410Z"
   },
   {
    "duration": 14,
    "start_time": "2022-03-01T05:49:40.739Z"
   },
   {
    "duration": 930,
    "start_time": "2022-03-01T17:35:44.634Z"
   },
   {
    "duration": 26,
    "start_time": "2022-03-01T17:35:45.565Z"
   },
   {
    "duration": 40,
    "start_time": "2022-03-01T17:35:45.593Z"
   },
   {
    "duration": 15,
    "start_time": "2022-03-01T17:35:45.634Z"
   },
   {
    "duration": 9,
    "start_time": "2022-03-01T17:35:45.651Z"
   },
   {
    "duration": 7,
    "start_time": "2022-03-01T17:35:45.661Z"
   },
   {
    "duration": 7,
    "start_time": "2022-03-01T17:35:45.669Z"
   },
   {
    "duration": 4,
    "start_time": "2022-03-01T17:35:45.678Z"
   },
   {
    "duration": 3,
    "start_time": "2022-03-01T17:35:45.683Z"
   },
   {
    "duration": 8,
    "start_time": "2022-03-01T17:35:45.688Z"
   },
   {
    "duration": 4,
    "start_time": "2022-03-01T17:35:45.698Z"
   },
   {
    "duration": 8,
    "start_time": "2022-03-01T17:35:45.703Z"
   },
   {
    "duration": 4,
    "start_time": "2022-03-01T17:35:45.713Z"
   },
   {
    "duration": 12,
    "start_time": "2022-03-01T17:35:45.718Z"
   },
   {
    "duration": 10,
    "start_time": "2022-03-01T17:35:45.731Z"
   },
   {
    "duration": 6,
    "start_time": "2022-03-01T17:35:45.743Z"
   },
   {
    "duration": 6,
    "start_time": "2022-03-01T17:35:45.750Z"
   },
   {
    "duration": 9,
    "start_time": "2022-03-01T17:35:45.757Z"
   },
   {
    "duration": 4,
    "start_time": "2022-03-01T17:35:45.768Z"
   },
   {
    "duration": 34,
    "start_time": "2022-03-01T17:35:45.773Z"
   },
   {
    "duration": 13,
    "start_time": "2022-03-01T17:35:45.809Z"
   },
   {
    "duration": 5,
    "start_time": "2022-03-01T17:35:45.823Z"
   },
   {
    "duration": 5,
    "start_time": "2022-03-01T17:35:45.831Z"
   },
   {
    "duration": 5,
    "start_time": "2022-03-01T17:35:45.838Z"
   },
   {
    "duration": 6,
    "start_time": "2022-03-01T17:35:45.845Z"
   },
   {
    "duration": 7,
    "start_time": "2022-03-01T17:35:45.853Z"
   },
   {
    "duration": 4,
    "start_time": "2022-03-01T17:35:45.862Z"
   },
   {
    "duration": 41,
    "start_time": "2022-03-01T17:35:45.867Z"
   },
   {
    "duration": 7,
    "start_time": "2022-03-01T17:35:45.910Z"
   },
   {
    "duration": 11,
    "start_time": "2022-03-01T17:35:45.918Z"
   },
   {
    "duration": 5,
    "start_time": "2022-03-01T17:35:45.931Z"
   },
   {
    "duration": 6,
    "start_time": "2022-03-01T17:35:45.938Z"
   },
   {
    "duration": 6,
    "start_time": "2022-03-01T17:35:45.945Z"
   },
   {
    "duration": 3,
    "start_time": "2022-03-01T17:35:45.952Z"
   },
   {
    "duration": 9,
    "start_time": "2022-03-01T17:35:45.956Z"
   },
   {
    "duration": 45,
    "start_time": "2022-03-01T17:35:45.966Z"
   },
   {
    "duration": 3,
    "start_time": "2022-03-01T17:35:46.012Z"
   },
   {
    "duration": 10,
    "start_time": "2022-03-01T17:35:46.016Z"
   },
   {
    "duration": 12,
    "start_time": "2022-03-01T17:35:46.027Z"
   },
   {
    "duration": 11,
    "start_time": "2022-03-01T17:35:46.040Z"
   },
   {
    "duration": 16,
    "start_time": "2022-03-01T17:35:46.052Z"
   },
   {
    "duration": 10,
    "start_time": "2022-03-01T17:35:46.069Z"
   },
   {
    "duration": 6,
    "start_time": "2022-03-01T17:35:46.105Z"
   },
   {
    "duration": 9,
    "start_time": "2022-03-01T17:35:46.113Z"
   },
   {
    "duration": 10,
    "start_time": "2022-03-01T17:35:46.123Z"
   },
   {
    "duration": 13,
    "start_time": "2022-03-01T17:35:46.134Z"
   },
   {
    "duration": 11,
    "start_time": "2022-03-01T17:35:46.149Z"
   },
   {
    "duration": 195,
    "start_time": "2022-03-01T17:35:46.161Z"
   },
   {
    "duration": 177,
    "start_time": "2022-03-01T17:35:46.357Z"
   },
   {
    "duration": 297,
    "start_time": "2022-03-01T17:35:46.536Z"
   },
   {
    "duration": 13,
    "start_time": "2022-03-01T17:35:46.835Z"
   },
   {
    "duration": 189,
    "start_time": "2022-03-01T17:35:46.849Z"
   },
   {
    "duration": 270,
    "start_time": "2022-03-01T17:35:47.040Z"
   },
   {
    "duration": 108,
    "start_time": "2022-03-01T17:35:47.312Z"
   },
   {
    "duration": 173,
    "start_time": "2022-03-01T17:35:47.421Z"
   },
   {
    "duration": 11,
    "start_time": "2022-03-01T17:35:47.595Z"
   },
   {
    "duration": 277,
    "start_time": "2022-03-01T17:35:47.607Z"
   },
   {
    "duration": 4,
    "start_time": "2022-03-01T17:35:47.886Z"
   },
   {
    "duration": 22,
    "start_time": "2022-03-01T17:35:47.892Z"
   },
   {
    "duration": 11,
    "start_time": "2022-03-01T17:35:47.915Z"
   },
   {
    "duration": 166,
    "start_time": "2022-03-01T17:35:47.928Z"
   },
   {
    "duration": 287,
    "start_time": "2022-03-01T17:35:48.095Z"
   },
   {
    "duration": 4,
    "start_time": "2022-03-01T17:35:48.383Z"
   },
   {
    "duration": 19,
    "start_time": "2022-03-01T17:35:48.389Z"
   },
   {
    "duration": 11,
    "start_time": "2022-03-01T17:35:48.410Z"
   },
   {
    "duration": 105,
    "start_time": "2022-03-01T17:35:48.422Z"
   },
   {
    "duration": 66,
    "start_time": "2022-03-01T17:35:48.528Z"
   },
   {
    "duration": 14,
    "start_time": "2022-03-01T17:35:48.598Z"
   },
   {
    "duration": 9,
    "start_time": "2022-03-01T17:35:48.613Z"
   },
   {
    "duration": 11,
    "start_time": "2022-03-01T17:35:48.624Z"
   },
   {
    "duration": 6,
    "start_time": "2022-03-01T17:35:48.637Z"
   },
   {
    "duration": 13,
    "start_time": "2022-03-01T17:35:48.645Z"
   },
   {
    "duration": 1331,
    "start_time": "2022-03-01T21:53:29.482Z"
   },
   {
    "duration": 38,
    "start_time": "2022-03-01T21:53:30.815Z"
   },
   {
    "duration": 43,
    "start_time": "2022-03-01T21:53:30.856Z"
   },
   {
    "duration": 30,
    "start_time": "2022-03-01T21:53:30.901Z"
   },
   {
    "duration": 9,
    "start_time": "2022-03-01T21:53:30.934Z"
   },
   {
    "duration": 19,
    "start_time": "2022-03-01T21:53:30.945Z"
   },
   {
    "duration": 19,
    "start_time": "2022-03-01T21:53:30.966Z"
   },
   {
    "duration": 9,
    "start_time": "2022-03-01T21:53:30.989Z"
   },
   {
    "duration": 14,
    "start_time": "2022-03-01T21:53:31.001Z"
   },
   {
    "duration": 25,
    "start_time": "2022-03-01T21:53:31.018Z"
   },
   {
    "duration": 12,
    "start_time": "2022-03-01T21:53:31.046Z"
   },
   {
    "duration": 21,
    "start_time": "2022-03-01T21:53:31.060Z"
   },
   {
    "duration": 10,
    "start_time": "2022-03-01T21:53:31.083Z"
   },
   {
    "duration": 24,
    "start_time": "2022-03-01T21:53:31.096Z"
   },
   {
    "duration": 31,
    "start_time": "2022-03-01T21:53:31.123Z"
   },
   {
    "duration": 14,
    "start_time": "2022-03-01T21:53:31.156Z"
   },
   {
    "duration": 9,
    "start_time": "2022-03-01T21:53:31.172Z"
   },
   {
    "duration": 22,
    "start_time": "2022-03-01T21:53:31.183Z"
   },
   {
    "duration": 7,
    "start_time": "2022-03-01T21:53:31.208Z"
   },
   {
    "duration": 35,
    "start_time": "2022-03-01T21:53:31.217Z"
   },
   {
    "duration": 29,
    "start_time": "2022-03-01T21:53:31.255Z"
   },
   {
    "duration": 43,
    "start_time": "2022-03-01T21:53:31.287Z"
   },
   {
    "duration": 13,
    "start_time": "2022-03-01T21:53:31.336Z"
   },
   {
    "duration": 12,
    "start_time": "2022-03-01T21:53:31.353Z"
   },
   {
    "duration": 15,
    "start_time": "2022-03-01T21:53:31.367Z"
   },
   {
    "duration": 13,
    "start_time": "2022-03-01T21:53:31.385Z"
   },
   {
    "duration": 8,
    "start_time": "2022-03-01T21:53:31.400Z"
   },
   {
    "duration": 13,
    "start_time": "2022-03-01T21:53:31.411Z"
   },
   {
    "duration": 32,
    "start_time": "2022-03-01T21:53:31.427Z"
   },
   {
    "duration": 21,
    "start_time": "2022-03-01T21:53:31.462Z"
   },
   {
    "duration": 10,
    "start_time": "2022-03-01T21:53:31.485Z"
   },
   {
    "duration": 10,
    "start_time": "2022-03-01T21:53:31.498Z"
   },
   {
    "duration": 46,
    "start_time": "2022-03-01T21:53:31.510Z"
   },
   {
    "duration": 5,
    "start_time": "2022-03-01T21:53:31.558Z"
   },
   {
    "duration": 16,
    "start_time": "2022-03-01T21:53:31.565Z"
   },
   {
    "duration": 17,
    "start_time": "2022-03-01T21:53:31.583Z"
   },
   {
    "duration": 6,
    "start_time": "2022-03-01T21:53:31.603Z"
   },
   {
    "duration": 52,
    "start_time": "2022-03-01T21:53:31.611Z"
   },
   {
    "duration": 29,
    "start_time": "2022-03-01T21:53:31.665Z"
   },
   {
    "duration": 21,
    "start_time": "2022-03-01T21:53:31.697Z"
   },
   {
    "duration": 50,
    "start_time": "2022-03-01T21:53:31.721Z"
   },
   {
    "duration": 18,
    "start_time": "2022-03-01T21:53:31.773Z"
   },
   {
    "duration": 17,
    "start_time": "2022-03-01T21:53:31.794Z"
   },
   {
    "duration": 41,
    "start_time": "2022-03-01T21:53:31.813Z"
   },
   {
    "duration": 15,
    "start_time": "2022-03-01T21:53:31.857Z"
   },
   {
    "duration": 20,
    "start_time": "2022-03-01T21:53:31.874Z"
   },
   {
    "duration": 11,
    "start_time": "2022-03-01T21:53:31.896Z"
   },
   {
    "duration": 392,
    "start_time": "2022-03-01T21:53:31.911Z"
   },
   {
    "duration": 344,
    "start_time": "2022-03-01T21:53:32.307Z"
   },
   {
    "duration": 423,
    "start_time": "2022-03-01T21:53:32.653Z"
   },
   {
    "duration": 22,
    "start_time": "2022-03-01T21:53:33.079Z"
   },
   {
    "duration": 334,
    "start_time": "2022-03-01T21:53:33.104Z"
   },
   {
    "duration": 433,
    "start_time": "2022-03-01T21:53:33.442Z"
   },
   {
    "duration": 196,
    "start_time": "2022-03-01T21:53:33.878Z"
   },
   {
    "duration": 316,
    "start_time": "2022-03-01T21:53:34.078Z"
   },
   {
    "duration": 12,
    "start_time": "2022-03-01T21:53:34.397Z"
   },
   {
    "duration": 436,
    "start_time": "2022-03-01T21:53:34.411Z"
   },
   {
    "duration": 5,
    "start_time": "2022-03-01T21:53:34.851Z"
   },
   {
    "duration": 16,
    "start_time": "2022-03-01T21:53:34.859Z"
   },
   {
    "duration": 11,
    "start_time": "2022-03-01T21:53:34.877Z"
   },
   {
    "duration": 352,
    "start_time": "2022-03-01T21:53:34.890Z"
   },
   {
    "duration": 411,
    "start_time": "2022-03-01T21:53:35.244Z"
   },
   {
    "duration": 5,
    "start_time": "2022-03-01T21:53:35.658Z"
   },
   {
    "duration": 19,
    "start_time": "2022-03-01T21:53:35.666Z"
   },
   {
    "duration": 12,
    "start_time": "2022-03-01T21:53:35.687Z"
   },
   {
    "duration": 262,
    "start_time": "2022-03-01T21:53:35.701Z"
   },
   {
    "duration": 97,
    "start_time": "2022-03-01T21:53:35.966Z"
   },
   {
    "duration": 14,
    "start_time": "2022-03-01T21:53:36.070Z"
   },
   {
    "duration": 13,
    "start_time": "2022-03-01T21:53:36.087Z"
   },
   {
    "duration": 51,
    "start_time": "2022-03-01T21:53:36.103Z"
   },
   {
    "duration": 9,
    "start_time": "2022-03-01T21:53:36.156Z"
   },
   {
    "duration": 21,
    "start_time": "2022-03-01T21:53:36.167Z"
   },
   {
    "duration": 303,
    "start_time": "2022-03-02T04:20:01.404Z"
   },
   {
    "duration": 1320,
    "start_time": "2022-03-02T04:20:21.809Z"
   },
   {
    "duration": 35,
    "start_time": "2022-03-02T04:20:23.539Z"
   },
   {
    "duration": 40,
    "start_time": "2022-03-02T04:20:25.121Z"
   },
   {
    "duration": 28,
    "start_time": "2022-03-02T04:20:27.892Z"
   },
   {
    "duration": 10,
    "start_time": "2022-03-02T04:20:28.642Z"
   },
   {
    "duration": 5,
    "start_time": "2022-03-02T04:20:29.759Z"
   },
   {
    "duration": 9,
    "start_time": "2022-03-02T04:20:30.495Z"
   },
   {
    "duration": 5,
    "start_time": "2022-03-02T04:20:31.164Z"
   },
   {
    "duration": 4,
    "start_time": "2022-03-02T04:20:31.513Z"
   },
   {
    "duration": 13,
    "start_time": "2022-03-02T04:20:31.820Z"
   },
   {
    "duration": 4,
    "start_time": "2022-03-02T04:20:47.675Z"
   },
   {
    "duration": 10,
    "start_time": "2022-03-02T04:20:48.833Z"
   },
   {
    "duration": 9,
    "start_time": "2022-03-02T04:21:03.261Z"
   },
   {
    "duration": 13,
    "start_time": "2022-03-02T04:21:04.595Z"
   },
   {
    "duration": 6,
    "start_time": "2022-03-02T04:21:05.116Z"
   },
   {
    "duration": 19,
    "start_time": "2022-03-02T04:21:05.655Z"
   },
   {
    "duration": 15,
    "start_time": "2022-03-02T04:21:06.184Z"
   },
   {
    "duration": 10,
    "start_time": "2022-03-02T04:21:06.663Z"
   },
   {
    "duration": 8,
    "start_time": "2022-03-02T04:21:07.111Z"
   },
   {
    "duration": 15,
    "start_time": "2022-03-02T04:21:08.009Z"
   },
   {
    "duration": 5,
    "start_time": "2022-03-02T04:21:08.456Z"
   },
   {
    "duration": 6,
    "start_time": "2022-03-02T04:21:08.850Z"
   },
   {
    "duration": 18,
    "start_time": "2022-03-02T04:21:09.336Z"
   },
   {
    "duration": 8,
    "start_time": "2022-03-02T04:21:10.149Z"
   },
   {
    "duration": 8,
    "start_time": "2022-03-02T04:21:10.687Z"
   },
   {
    "duration": 8,
    "start_time": "2022-03-02T04:21:11.336Z"
   },
   {
    "duration": 10,
    "start_time": "2022-03-02T04:21:12.487Z"
   },
   {
    "duration": 14,
    "start_time": "2022-03-02T04:21:13.053Z"
   },
   {
    "duration": 6,
    "start_time": "2022-03-02T04:21:13.559Z"
   },
   {
    "duration": 12,
    "start_time": "2022-03-02T04:21:14.176Z"
   },
   {
    "duration": 12,
    "start_time": "2022-03-02T04:21:15.175Z"
   },
   {
    "duration": 22,
    "start_time": "2022-03-02T04:21:15.745Z"
   },
   {
    "duration": 12,
    "start_time": "2022-03-02T04:21:16.280Z"
   },
   {
    "duration": 12,
    "start_time": "2022-03-02T04:21:26.171Z"
   },
   {
    "duration": 10,
    "start_time": "2022-03-02T04:21:26.743Z"
   },
   {
    "duration": 6,
    "start_time": "2022-03-02T04:21:27.321Z"
   },
   {
    "duration": 13,
    "start_time": "2022-03-02T04:21:27.865Z"
   },
   {
    "duration": 16,
    "start_time": "2022-03-02T04:21:29.043Z"
   },
   {
    "duration": 5,
    "start_time": "2022-03-02T04:21:29.653Z"
   },
   {
    "duration": 13,
    "start_time": "2022-03-02T04:21:30.096Z"
   },
   {
    "duration": 23,
    "start_time": "2022-03-02T04:21:41.817Z"
   },
   {
    "duration": 19,
    "start_time": "2022-03-02T04:21:42.303Z"
   },
   {
    "duration": 31,
    "start_time": "2022-03-02T04:21:43.128Z"
   },
   {
    "duration": 17,
    "start_time": "2022-03-02T04:21:44.112Z"
   },
   {
    "duration": 12,
    "start_time": "2022-03-02T04:21:44.777Z"
   },
   {
    "duration": 16,
    "start_time": "2022-03-02T04:21:45.449Z"
   },
   {
    "duration": 14,
    "start_time": "2022-03-02T04:21:46.360Z"
   },
   {
    "duration": 17,
    "start_time": "2022-03-02T04:21:46.969Z"
   },
   {
    "duration": 13,
    "start_time": "2022-03-02T04:21:47.593Z"
   },
   {
    "duration": 334,
    "start_time": "2022-03-02T04:21:48.772Z"
   },
   {
    "duration": 298,
    "start_time": "2022-03-02T04:29:25.041Z"
   },
   {
    "duration": 319,
    "start_time": "2022-03-02T04:40:18.119Z"
   },
   {
    "duration": 412,
    "start_time": "2022-03-02T04:43:23.270Z"
   },
   {
    "duration": 20,
    "start_time": "2022-03-02T04:43:37.732Z"
   },
   {
    "duration": 317,
    "start_time": "2022-03-02T04:43:41.109Z"
   },
   {
    "duration": 402,
    "start_time": "2022-03-02T04:43:52.135Z"
   },
   {
    "duration": 8,
    "start_time": "2022-03-02T04:44:56.034Z"
   },
   {
    "duration": 968,
    "start_time": "2022-03-02T04:45:58.652Z"
   },
   {
    "duration": 22,
    "start_time": "2022-03-02T05:02:13.595Z"
   },
   {
    "duration": 35,
    "start_time": "2022-03-02T05:02:15.146Z"
   },
   {
    "duration": 17,
    "start_time": "2022-03-02T05:02:16.708Z"
   },
   {
    "duration": 14,
    "start_time": "2022-03-02T05:02:17.608Z"
   },
   {
    "duration": 17,
    "start_time": "2022-03-02T05:02:26.110Z"
   },
   {
    "duration": 15,
    "start_time": "2022-03-02T05:02:28.152Z"
   },
   {
    "duration": 20,
    "start_time": "2022-03-02T05:02:30.360Z"
   },
   {
    "duration": 11,
    "start_time": "2022-03-02T05:02:31.479Z"
   },
   {
    "duration": 317,
    "start_time": "2022-03-02T05:02:32.935Z"
   },
   {
    "duration": 371,
    "start_time": "2022-03-02T05:04:16.673Z"
   },
   {
    "duration": 326,
    "start_time": "2022-03-02T05:06:54.297Z"
   },
   {
    "duration": 69,
    "start_time": "2022-03-02T05:16:25.298Z"
   },
   {
    "duration": 388,
    "start_time": "2022-03-02T05:17:05.522Z"
   },
   {
    "duration": 39,
    "start_time": "2022-03-02T05:22:04.786Z"
   },
   {
    "duration": 17,
    "start_time": "2022-03-02T05:22:18.361Z"
   },
   {
    "duration": 16,
    "start_time": "2022-03-02T05:22:23.097Z"
   },
   {
    "duration": 17,
    "start_time": "2022-03-02T05:22:24.914Z"
   },
   {
    "duration": 16,
    "start_time": "2022-03-02T05:22:31.870Z"
   },
   {
    "duration": 21,
    "start_time": "2022-03-02T05:22:33.600Z"
   },
   {
    "duration": 10,
    "start_time": "2022-03-02T05:22:34.640Z"
   },
   {
    "duration": 326,
    "start_time": "2022-03-02T05:22:35.558Z"
   },
   {
    "duration": 300,
    "start_time": "2022-03-02T05:22:38.671Z"
   },
   {
    "duration": 420,
    "start_time": "2022-03-02T05:22:42.686Z"
   },
   {
    "duration": 22,
    "start_time": "2022-03-02T05:23:13.200Z"
   },
   {
    "duration": 22,
    "start_time": "2022-03-02T05:29:58.018Z"
   },
   {
    "duration": 294,
    "start_time": "2022-03-02T05:30:02.117Z"
   },
   {
    "duration": 384,
    "start_time": "2022-03-02T05:31:18.502Z"
   },
   {
    "duration": 401,
    "start_time": "2022-03-02T05:36:48.727Z"
   },
   {
    "duration": 4,
    "start_time": "2022-03-02T05:55:26.692Z"
   },
   {
    "duration": 18,
    "start_time": "2022-03-02T05:55:28.308Z"
   },
   {
    "duration": 26,
    "start_time": "2022-03-02T05:55:28.897Z"
   },
   {
    "duration": 35,
    "start_time": "2022-03-02T05:55:29.301Z"
   },
   {
    "duration": 9,
    "start_time": "2022-03-02T05:55:29.597Z"
   },
   {
    "duration": 6,
    "start_time": "2022-03-02T05:55:30.155Z"
   },
   {
    "duration": 8,
    "start_time": "2022-03-02T05:55:30.420Z"
   },
   {
    "duration": 7,
    "start_time": "2022-03-02T05:55:30.746Z"
   },
   {
    "duration": 4,
    "start_time": "2022-03-02T05:55:31.015Z"
   },
   {
    "duration": 12,
    "start_time": "2022-03-02T05:55:31.299Z"
   },
   {
    "duration": 9,
    "start_time": "2022-03-02T05:55:42.401Z"
   },
   {
    "duration": 14,
    "start_time": "2022-03-02T05:55:43.434Z"
   },
   {
    "duration": 6,
    "start_time": "2022-03-02T05:55:43.793Z"
   },
   {
    "duration": 19,
    "start_time": "2022-03-02T05:55:44.238Z"
   },
   {
    "duration": 14,
    "start_time": "2022-03-02T05:55:44.548Z"
   },
   {
    "duration": 10,
    "start_time": "2022-03-02T05:55:44.911Z"
   },
   {
    "duration": 8,
    "start_time": "2022-03-02T05:55:45.372Z"
   },
   {
    "duration": 15,
    "start_time": "2022-03-02T05:55:46.362Z"
   },
   {
    "duration": 6,
    "start_time": "2022-03-02T05:55:46.582Z"
   },
   {
    "duration": 6,
    "start_time": "2022-03-02T05:55:46.839Z"
   },
   {
    "duration": 18,
    "start_time": "2022-03-02T05:55:47.419Z"
   },
   {
    "duration": 8,
    "start_time": "2022-03-02T05:55:47.863Z"
   },
   {
    "duration": 10,
    "start_time": "2022-03-02T05:55:48.290Z"
   },
   {
    "duration": 9,
    "start_time": "2022-03-02T05:55:48.744Z"
   },
   {
    "duration": 10,
    "start_time": "2022-03-02T05:55:50.507Z"
   },
   {
    "duration": 12,
    "start_time": "2022-03-02T05:55:50.751Z"
   },
   {
    "duration": 6,
    "start_time": "2022-03-02T05:55:51.208Z"
   },
   {
    "duration": 12,
    "start_time": "2022-03-02T05:55:51.570Z"
   },
   {
    "duration": 9,
    "start_time": "2022-03-02T05:55:52.000Z"
   },
   {
    "duration": 21,
    "start_time": "2022-03-02T05:55:52.768Z"
   },
   {
    "duration": 9,
    "start_time": "2022-03-02T05:55:53.505Z"
   },
   {
    "duration": 11,
    "start_time": "2022-03-02T05:55:55.585Z"
   },
   {
    "duration": 6,
    "start_time": "2022-03-02T05:55:56.161Z"
   },
   {
    "duration": 6,
    "start_time": "2022-03-02T05:55:56.489Z"
   },
   {
    "duration": 13,
    "start_time": "2022-03-02T05:55:56.762Z"
   },
   {
    "duration": 17,
    "start_time": "2022-03-02T05:55:57.672Z"
   },
   {
    "duration": 6,
    "start_time": "2022-03-02T05:55:57.962Z"
   },
   {
    "duration": 14,
    "start_time": "2022-03-02T05:55:58.216Z"
   },
   {
    "duration": 22,
    "start_time": "2022-03-02T05:56:01.018Z"
   },
   {
    "duration": 22,
    "start_time": "2022-03-02T05:56:02.330Z"
   },
   {
    "duration": 40,
    "start_time": "2022-03-02T05:56:04.537Z"
   },
   {
    "duration": 18,
    "start_time": "2022-03-02T05:56:14.600Z"
   },
   {
    "duration": 15,
    "start_time": "2022-03-02T05:56:16.161Z"
   },
   {
    "duration": 19,
    "start_time": "2022-03-02T05:56:16.881Z"
   },
   {
    "duration": 15,
    "start_time": "2022-03-02T05:56:19.914Z"
   },
   {
    "duration": 20,
    "start_time": "2022-03-02T05:56:20.586Z"
   },
   {
    "duration": 11,
    "start_time": "2022-03-02T05:56:21.591Z"
   },
   {
    "duration": 322,
    "start_time": "2022-03-02T05:56:22.743Z"
   },
   {
    "duration": 303,
    "start_time": "2022-03-02T05:56:26.376Z"
   },
   {
    "duration": 22,
    "start_time": "2022-03-02T05:58:21.641Z"
   },
   {
    "duration": 374,
    "start_time": "2022-03-02T05:58:22.290Z"
   },
   {
    "duration": 403,
    "start_time": "2022-03-02T05:58:34.304Z"
   },
   {
    "duration": 5,
    "start_time": "2022-03-02T06:11:25.526Z"
   },
   {
    "duration": 18,
    "start_time": "2022-03-02T06:11:26.989Z"
   },
   {
    "duration": 23,
    "start_time": "2022-03-02T06:11:27.705Z"
   },
   {
    "duration": 12,
    "start_time": "2022-03-02T06:11:27.984Z"
   },
   {
    "duration": 8,
    "start_time": "2022-03-02T06:11:28.243Z"
   },
   {
    "duration": 5,
    "start_time": "2022-03-02T06:11:28.843Z"
   },
   {
    "duration": 6,
    "start_time": "2022-03-02T06:11:29.172Z"
   },
   {
    "duration": 6,
    "start_time": "2022-03-02T06:11:29.548Z"
   },
   {
    "duration": 3,
    "start_time": "2022-03-02T06:11:29.851Z"
   },
   {
    "duration": 12,
    "start_time": "2022-03-02T06:11:30.166Z"
   },
   {
    "duration": 11,
    "start_time": "2022-03-02T06:12:32.246Z"
   },
   {
    "duration": 4,
    "start_time": "2022-03-02T06:13:02.514Z"
   },
   {
    "duration": 4,
    "start_time": "2022-03-02T06:18:01.749Z"
   },
   {
    "duration": 18,
    "start_time": "2022-03-02T06:18:03.376Z"
   },
   {
    "duration": 22,
    "start_time": "2022-03-02T06:18:03.999Z"
   },
   {
    "duration": 12,
    "start_time": "2022-03-02T06:18:04.412Z"
   },
   {
    "duration": 9,
    "start_time": "2022-03-02T06:18:04.730Z"
   },
   {
    "duration": 6,
    "start_time": "2022-03-02T06:18:05.272Z"
   },
   {
    "duration": 7,
    "start_time": "2022-03-02T06:18:05.585Z"
   },
   {
    "duration": 5,
    "start_time": "2022-03-02T06:18:05.882Z"
   },
   {
    "duration": 3,
    "start_time": "2022-03-02T06:18:06.841Z"
   },
   {
    "duration": 11,
    "start_time": "2022-03-02T06:18:10.746Z"
   },
   {
    "duration": 10,
    "start_time": "2022-03-02T06:18:11.630Z"
   },
   {
    "duration": 13,
    "start_time": "2022-03-02T06:18:12.752Z"
   },
   {
    "duration": 5,
    "start_time": "2022-03-02T06:18:13.376Z"
   },
   {
    "duration": 18,
    "start_time": "2022-03-02T06:18:14.780Z"
   },
   {
    "duration": 14,
    "start_time": "2022-03-02T06:18:15.140Z"
   },
   {
    "duration": 9,
    "start_time": "2022-03-02T06:18:15.508Z"
   },
   {
    "duration": 8,
    "start_time": "2022-03-02T06:18:15.779Z"
   },
   {
    "duration": 14,
    "start_time": "2022-03-02T06:18:16.581Z"
   },
   {
    "duration": 6,
    "start_time": "2022-03-02T06:18:17.214Z"
   },
   {
    "duration": 6,
    "start_time": "2022-03-02T06:18:17.500Z"
   },
   {
    "duration": 17,
    "start_time": "2022-03-02T06:18:17.845Z"
   },
   {
    "duration": 8,
    "start_time": "2022-03-02T06:18:18.141Z"
   },
   {
    "duration": 9,
    "start_time": "2022-03-02T06:18:18.496Z"
   },
   {
    "duration": 8,
    "start_time": "2022-03-02T06:18:18.933Z"
   },
   {
    "duration": 8,
    "start_time": "2022-03-02T06:18:19.629Z"
   },
   {
    "duration": 13,
    "start_time": "2022-03-02T06:18:20.157Z"
   },
   {
    "duration": 6,
    "start_time": "2022-03-02T06:18:20.677Z"
   },
   {
    "duration": 12,
    "start_time": "2022-03-02T06:18:21.269Z"
   },
   {
    "duration": 11,
    "start_time": "2022-03-02T06:18:21.725Z"
   },
   {
    "duration": 21,
    "start_time": "2022-03-02T06:18:22.126Z"
   },
   {
    "duration": 10,
    "start_time": "2022-03-02T06:18:22.412Z"
   },
   {
    "duration": 11,
    "start_time": "2022-03-02T06:18:23.710Z"
   },
   {
    "duration": 6,
    "start_time": "2022-03-02T06:18:24.017Z"
   },
   {
    "duration": 5,
    "start_time": "2022-03-02T06:18:24.272Z"
   },
   {
    "duration": 12,
    "start_time": "2022-03-02T06:18:24.529Z"
   },
   {
    "duration": 17,
    "start_time": "2022-03-02T06:18:25.023Z"
   },
   {
    "duration": 5,
    "start_time": "2022-03-02T06:18:25.306Z"
   },
   {
    "duration": 13,
    "start_time": "2022-03-02T06:18:25.517Z"
   },
   {
    "duration": 19,
    "start_time": "2022-03-02T06:18:27.206Z"
   },
   {
    "duration": 21,
    "start_time": "2022-03-02T06:18:35.291Z"
   },
   {
    "duration": 39,
    "start_time": "2022-03-02T06:18:36.158Z"
   },
   {
    "duration": 16,
    "start_time": "2022-03-02T06:18:37.841Z"
   },
   {
    "duration": 15,
    "start_time": "2022-03-02T06:18:38.677Z"
   },
   {
    "duration": 19,
    "start_time": "2022-03-02T06:18:39.094Z"
   },
   {
    "duration": 15,
    "start_time": "2022-03-02T06:18:39.842Z"
   },
   {
    "duration": 20,
    "start_time": "2022-03-02T06:18:40.285Z"
   },
   {
    "duration": 10,
    "start_time": "2022-03-02T06:18:40.651Z"
   },
   {
    "duration": 352,
    "start_time": "2022-03-02T06:18:40.988Z"
   },
   {
    "duration": 306,
    "start_time": "2022-03-02T06:18:44.276Z"
   },
   {
    "duration": 395,
    "start_time": "2022-03-02T06:18:50.701Z"
   },
   {
    "duration": 22,
    "start_time": "2022-03-02T06:18:52.077Z"
   },
   {
    "duration": 306,
    "start_time": "2022-03-02T06:18:52.492Z"
   },
   {
    "duration": 392,
    "start_time": "2022-03-02T06:18:53.312Z"
   },
   {
    "duration": 237,
    "start_time": "2022-03-02T06:18:54.055Z"
   },
   {
    "duration": 295,
    "start_time": "2022-03-02T06:18:54.295Z"
   },
   {
    "duration": 10,
    "start_time": "2022-03-02T06:18:54.739Z"
   },
   {
    "duration": 384,
    "start_time": "2022-03-02T06:18:54.997Z"
   },
   {
    "duration": 6,
    "start_time": "2022-03-02T06:18:55.829Z"
   },
   {
    "duration": 15,
    "start_time": "2022-03-02T06:18:56.541Z"
   },
   {
    "duration": 11,
    "start_time": "2022-03-02T06:18:56.784Z"
   },
   {
    "duration": 294,
    "start_time": "2022-03-02T06:18:57.049Z"
   },
   {
    "duration": 450,
    "start_time": "2022-03-02T06:18:57.347Z"
   },
   {
    "duration": 7,
    "start_time": "2022-03-02T06:18:57.948Z"
   },
   {
    "duration": 14,
    "start_time": "2022-03-02T06:18:59.222Z"
   },
   {
    "duration": 13,
    "start_time": "2022-03-02T06:18:59.523Z"
   },
   {
    "duration": 185,
    "start_time": "2022-03-02T06:18:59.757Z"
   },
   {
    "duration": 92,
    "start_time": "2022-03-02T06:19:00.037Z"
   },
   {
    "duration": 17,
    "start_time": "2022-03-02T06:19:01.405Z"
   },
   {
    "duration": 14,
    "start_time": "2022-03-02T06:19:02.615Z"
   },
   {
    "duration": 16,
    "start_time": "2022-03-02T06:19:03.142Z"
   },
   {
    "duration": 11,
    "start_time": "2022-03-02T06:19:03.445Z"
   },
   {
    "duration": 21,
    "start_time": "2022-03-02T06:19:04.448Z"
   },
   {
    "duration": 968,
    "start_time": "2022-03-02T11:38:36.005Z"
   },
   {
    "duration": 30,
    "start_time": "2022-03-02T11:38:36.974Z"
   },
   {
    "duration": 45,
    "start_time": "2022-03-02T11:38:37.005Z"
   },
   {
    "duration": 15,
    "start_time": "2022-03-02T11:38:37.052Z"
   },
   {
    "duration": 8,
    "start_time": "2022-03-02T11:38:37.069Z"
   },
   {
    "duration": 5,
    "start_time": "2022-03-02T11:38:37.078Z"
   },
   {
    "duration": 9,
    "start_time": "2022-03-02T11:38:37.084Z"
   },
   {
    "duration": 6,
    "start_time": "2022-03-02T11:38:37.096Z"
   },
   {
    "duration": 6,
    "start_time": "2022-03-02T11:38:37.103Z"
   },
   {
    "duration": 12,
    "start_time": "2022-03-02T11:38:37.111Z"
   },
   {
    "duration": 6,
    "start_time": "2022-03-02T11:38:37.124Z"
   },
   {
    "duration": 13,
    "start_time": "2022-03-02T11:38:37.132Z"
   },
   {
    "duration": 4,
    "start_time": "2022-03-02T11:38:37.146Z"
   },
   {
    "duration": 15,
    "start_time": "2022-03-02T11:38:37.152Z"
   },
   {
    "duration": 13,
    "start_time": "2022-03-02T11:38:37.168Z"
   },
   {
    "duration": 21,
    "start_time": "2022-03-02T11:38:37.183Z"
   },
   {
    "duration": 6,
    "start_time": "2022-03-02T11:38:37.206Z"
   },
   {
    "duration": 11,
    "start_time": "2022-03-02T11:38:37.214Z"
   },
   {
    "duration": 8,
    "start_time": "2022-03-02T11:38:37.227Z"
   },
   {
    "duration": 8,
    "start_time": "2022-03-02T11:38:37.237Z"
   },
   {
    "duration": 16,
    "start_time": "2022-03-02T11:38:37.246Z"
   },
   {
    "duration": 7,
    "start_time": "2022-03-02T11:38:37.263Z"
   },
   {
    "duration": 6,
    "start_time": "2022-03-02T11:38:37.274Z"
   },
   {
    "duration": 5,
    "start_time": "2022-03-02T11:38:37.303Z"
   },
   {
    "duration": 7,
    "start_time": "2022-03-02T11:38:37.310Z"
   },
   {
    "duration": 9,
    "start_time": "2022-03-02T11:38:37.319Z"
   },
   {
    "duration": 8,
    "start_time": "2022-03-02T11:38:37.330Z"
   },
   {
    "duration": 11,
    "start_time": "2022-03-02T11:38:37.339Z"
   },
   {
    "duration": 8,
    "start_time": "2022-03-02T11:38:37.352Z"
   },
   {
    "duration": 13,
    "start_time": "2022-03-02T11:38:37.361Z"
   },
   {
    "duration": 28,
    "start_time": "2022-03-02T11:38:37.376Z"
   },
   {
    "duration": 7,
    "start_time": "2022-03-02T11:38:37.406Z"
   },
   {
    "duration": 7,
    "start_time": "2022-03-02T11:38:37.414Z"
   },
   {
    "duration": 6,
    "start_time": "2022-03-02T11:38:37.423Z"
   },
   {
    "duration": 15,
    "start_time": "2022-03-02T11:38:37.430Z"
   },
   {
    "duration": 13,
    "start_time": "2022-03-02T11:38:37.446Z"
   },
   {
    "duration": 7,
    "start_time": "2022-03-02T11:38:37.461Z"
   },
   {
    "duration": 14,
    "start_time": "2022-03-02T11:38:37.469Z"
   },
   {
    "duration": 23,
    "start_time": "2022-03-02T11:38:37.484Z"
   },
   {
    "duration": 12,
    "start_time": "2022-03-02T11:38:37.509Z"
   },
   {
    "duration": 23,
    "start_time": "2022-03-02T11:38:37.523Z"
   },
   {
    "duration": 11,
    "start_time": "2022-03-02T11:38:37.548Z"
   },
   {
    "duration": 9,
    "start_time": "2022-03-02T11:38:37.560Z"
   },
   {
    "duration": 39,
    "start_time": "2022-03-02T11:38:37.571Z"
   },
   {
    "duration": 9,
    "start_time": "2022-03-02T11:38:37.612Z"
   },
   {
    "duration": 15,
    "start_time": "2022-03-02T11:38:37.622Z"
   },
   {
    "duration": 9,
    "start_time": "2022-03-02T11:38:37.638Z"
   },
   {
    "duration": 220,
    "start_time": "2022-03-02T11:38:37.648Z"
   },
   {
    "duration": 184,
    "start_time": "2022-03-02T11:38:37.869Z"
   },
   {
    "duration": 304,
    "start_time": "2022-03-02T11:38:38.055Z"
   },
   {
    "duration": 15,
    "start_time": "2022-03-02T11:38:38.360Z"
   },
   {
    "duration": 181,
    "start_time": "2022-03-02T11:38:38.376Z"
   },
   {
    "duration": 292,
    "start_time": "2022-03-02T11:38:38.559Z"
   },
   {
    "duration": 117,
    "start_time": "2022-03-02T11:38:38.853Z"
   },
   {
    "duration": 178,
    "start_time": "2022-03-02T11:38:38.971Z"
   },
   {
    "duration": 6,
    "start_time": "2022-03-02T11:38:39.151Z"
   },
   {
    "duration": 281,
    "start_time": "2022-03-02T11:38:39.159Z"
   },
   {
    "duration": 4,
    "start_time": "2022-03-02T11:38:39.441Z"
   },
   {
    "duration": 11,
    "start_time": "2022-03-02T11:38:39.446Z"
   },
   {
    "duration": 6,
    "start_time": "2022-03-02T11:38:39.458Z"
   },
   {
    "duration": 177,
    "start_time": "2022-03-02T11:38:39.466Z"
   },
   {
    "duration": 251,
    "start_time": "2022-03-02T11:38:39.644Z"
   },
   {
    "duration": 3,
    "start_time": "2022-03-02T11:38:39.901Z"
   },
   {
    "duration": 9,
    "start_time": "2022-03-02T11:38:39.906Z"
   },
   {
    "duration": 7,
    "start_time": "2022-03-02T11:38:39.917Z"
   },
   {
    "duration": 117,
    "start_time": "2022-03-02T11:38:39.925Z"
   },
   {
    "duration": 64,
    "start_time": "2022-03-02T11:38:40.044Z"
   },
   {
    "duration": 8,
    "start_time": "2022-03-02T11:38:40.112Z"
   },
   {
    "duration": 8,
    "start_time": "2022-03-02T11:38:40.122Z"
   },
   {
    "duration": 9,
    "start_time": "2022-03-02T11:38:40.131Z"
   },
   {
    "duration": 6,
    "start_time": "2022-03-02T11:38:40.141Z"
   },
   {
    "duration": 11,
    "start_time": "2022-03-02T11:38:40.148Z"
   },
   {
    "duration": 1852,
    "start_time": "2022-04-18T19:30:12.079Z"
   },
   {
    "duration": 15,
    "start_time": "2022-04-18T19:30:13.935Z"
   },
   {
    "duration": 24,
    "start_time": "2022-04-18T19:30:13.953Z"
   },
   {
    "duration": 27,
    "start_time": "2022-04-18T19:30:13.981Z"
   },
   {
    "duration": 22,
    "start_time": "2022-04-18T19:30:14.011Z"
   },
   {
    "duration": 15,
    "start_time": "2022-04-18T19:30:14.036Z"
   },
   {
    "duration": 17,
    "start_time": "2022-04-18T19:30:14.054Z"
   },
   {
    "duration": 9,
    "start_time": "2022-04-18T19:30:14.074Z"
   },
   {
    "duration": 24,
    "start_time": "2022-04-18T19:30:14.086Z"
   },
   {
    "duration": 19,
    "start_time": "2022-04-18T19:30:14.116Z"
   },
   {
    "duration": 19,
    "start_time": "2022-04-18T19:30:14.138Z"
   },
   {
    "duration": 29,
    "start_time": "2022-04-18T19:30:14.181Z"
   },
   {
    "duration": 7,
    "start_time": "2022-04-18T19:30:14.214Z"
   },
   {
    "duration": 37,
    "start_time": "2022-04-18T19:30:14.224Z"
   },
   {
    "duration": 38,
    "start_time": "2022-04-18T19:30:14.264Z"
   },
   {
    "duration": 22,
    "start_time": "2022-04-18T19:30:14.305Z"
   },
   {
    "duration": 22,
    "start_time": "2022-04-18T19:30:14.330Z"
   },
   {
    "duration": 40,
    "start_time": "2022-04-18T19:30:14.355Z"
   },
   {
    "duration": 17,
    "start_time": "2022-04-18T19:30:14.398Z"
   },
   {
    "duration": 13,
    "start_time": "2022-04-18T19:30:14.418Z"
   },
   {
    "duration": 48,
    "start_time": "2022-04-18T19:30:14.434Z"
   },
   {
    "duration": 23,
    "start_time": "2022-04-18T19:30:14.485Z"
   },
   {
    "duration": 16,
    "start_time": "2022-04-18T19:30:14.511Z"
   },
   {
    "duration": 25,
    "start_time": "2022-04-18T19:30:14.530Z"
   },
   {
    "duration": 11,
    "start_time": "2022-04-18T19:30:14.583Z"
   },
   {
    "duration": 29,
    "start_time": "2022-04-18T19:30:14.597Z"
   },
   {
    "duration": 15,
    "start_time": "2022-04-18T19:30:14.629Z"
   },
   {
    "duration": 31,
    "start_time": "2022-04-18T19:30:14.653Z"
   },
   {
    "duration": 35,
    "start_time": "2022-04-18T19:30:14.687Z"
   },
   {
    "duration": 24,
    "start_time": "2022-04-18T19:30:14.724Z"
   },
   {
    "duration": 33,
    "start_time": "2022-04-18T19:30:14.751Z"
   },
   {
    "duration": 25,
    "start_time": "2022-04-18T19:30:14.786Z"
   },
   {
    "duration": 11,
    "start_time": "2022-04-18T19:30:14.813Z"
   },
   {
    "duration": 9,
    "start_time": "2022-04-18T19:30:14.826Z"
   },
   {
    "duration": 19,
    "start_time": "2022-04-18T19:30:14.838Z"
   },
   {
    "duration": 30,
    "start_time": "2022-04-18T19:30:14.885Z"
   },
   {
    "duration": 11,
    "start_time": "2022-04-18T19:30:14.918Z"
   },
   {
    "duration": 24,
    "start_time": "2022-04-18T19:30:14.932Z"
   },
   {
    "duration": 42,
    "start_time": "2022-04-18T19:30:14.958Z"
   },
   {
    "duration": 31,
    "start_time": "2022-04-18T19:30:15.004Z"
   },
   {
    "duration": 48,
    "start_time": "2022-04-18T19:30:15.038Z"
   },
   {
    "duration": 25,
    "start_time": "2022-04-18T19:30:15.089Z"
   },
   {
    "duration": 29,
    "start_time": "2022-04-18T19:30:15.117Z"
   },
   {
    "duration": 52,
    "start_time": "2022-04-18T19:30:15.148Z"
   },
   {
    "duration": 31,
    "start_time": "2022-04-18T19:30:15.203Z"
   },
   {
    "duration": 47,
    "start_time": "2022-04-18T19:30:15.239Z"
   },
   {
    "duration": 32,
    "start_time": "2022-04-18T19:30:15.288Z"
   },
   {
    "duration": 535,
    "start_time": "2022-04-18T19:30:15.323Z"
   },
   {
    "duration": 443,
    "start_time": "2022-04-18T19:30:15.861Z"
   },
   {
    "duration": 409,
    "start_time": "2022-04-18T19:30:16.307Z"
   },
   {
    "duration": 35,
    "start_time": "2022-04-18T19:30:16.720Z"
   },
   {
    "duration": 538,
    "start_time": "2022-04-18T19:30:16.758Z"
   },
   {
    "duration": 0,
    "start_time": "2022-04-18T19:30:17.300Z"
   },
   {
    "duration": 0,
    "start_time": "2022-04-18T19:30:17.302Z"
   },
   {
    "duration": 0,
    "start_time": "2022-04-18T19:30:17.304Z"
   },
   {
    "duration": 0,
    "start_time": "2022-04-18T19:30:17.306Z"
   },
   {
    "duration": 0,
    "start_time": "2022-04-18T19:30:17.308Z"
   },
   {
    "duration": 0,
    "start_time": "2022-04-18T19:30:17.311Z"
   },
   {
    "duration": 0,
    "start_time": "2022-04-18T19:30:17.312Z"
   },
   {
    "duration": 0,
    "start_time": "2022-04-18T19:30:17.314Z"
   },
   {
    "duration": 0,
    "start_time": "2022-04-18T19:30:17.316Z"
   },
   {
    "duration": 0,
    "start_time": "2022-04-18T19:30:17.317Z"
   },
   {
    "duration": 0,
    "start_time": "2022-04-18T19:30:17.319Z"
   },
   {
    "duration": 0,
    "start_time": "2022-04-18T19:30:17.321Z"
   },
   {
    "duration": 0,
    "start_time": "2022-04-18T19:30:17.323Z"
   },
   {
    "duration": 0,
    "start_time": "2022-04-18T19:30:17.325Z"
   },
   {
    "duration": 0,
    "start_time": "2022-04-18T19:30:17.326Z"
   },
   {
    "duration": 0,
    "start_time": "2022-04-18T19:30:17.328Z"
   },
   {
    "duration": 0,
    "start_time": "2022-04-18T19:30:17.330Z"
   },
   {
    "duration": 0,
    "start_time": "2022-04-18T19:30:17.332Z"
   },
   {
    "duration": 0,
    "start_time": "2022-04-18T19:30:17.333Z"
   },
   {
    "duration": 0,
    "start_time": "2022-04-18T19:30:17.335Z"
   },
   {
    "duration": 6,
    "start_time": "2022-04-18T19:30:31.067Z"
   },
   {
    "duration": 30,
    "start_time": "2022-04-18T19:30:31.076Z"
   },
   {
    "duration": 23,
    "start_time": "2022-04-18T19:30:31.109Z"
   },
   {
    "duration": 11,
    "start_time": "2022-04-18T19:30:31.135Z"
   },
   {
    "duration": 44,
    "start_time": "2022-04-18T19:30:31.148Z"
   },
   {
    "duration": 15,
    "start_time": "2022-04-18T19:30:31.199Z"
   },
   {
    "duration": 24,
    "start_time": "2022-04-18T19:30:31.217Z"
   },
   {
    "duration": 8,
    "start_time": "2022-04-18T19:30:31.244Z"
   },
   {
    "duration": 5,
    "start_time": "2022-04-18T19:30:31.289Z"
   },
   {
    "duration": 26,
    "start_time": "2022-04-18T19:30:31.297Z"
   },
   {
    "duration": 23,
    "start_time": "2022-04-18T19:30:31.326Z"
   },
   {
    "duration": 41,
    "start_time": "2022-04-18T19:30:31.352Z"
   },
   {
    "duration": 31,
    "start_time": "2022-04-18T19:30:31.396Z"
   },
   {
    "duration": 32,
    "start_time": "2022-04-18T19:30:31.430Z"
   },
   {
    "duration": 22,
    "start_time": "2022-04-18T19:30:31.465Z"
   },
   {
    "duration": 42,
    "start_time": "2022-04-18T19:30:31.490Z"
   },
   {
    "duration": 22,
    "start_time": "2022-04-18T19:30:31.535Z"
   },
   {
    "duration": 28,
    "start_time": "2022-04-18T19:30:31.560Z"
   },
   {
    "duration": 29,
    "start_time": "2022-04-18T19:30:31.591Z"
   },
   {
    "duration": 14,
    "start_time": "2022-04-18T19:30:31.622Z"
   },
   {
    "duration": 30,
    "start_time": "2022-04-18T19:30:31.638Z"
   },
   {
    "duration": 26,
    "start_time": "2022-04-18T19:30:31.670Z"
   },
   {
    "duration": 32,
    "start_time": "2022-04-18T19:30:31.699Z"
   },
   {
    "duration": 30,
    "start_time": "2022-04-18T19:30:31.740Z"
   },
   {
    "duration": 19,
    "start_time": "2022-04-18T19:30:31.772Z"
   },
   {
    "duration": 20,
    "start_time": "2022-04-18T19:30:31.795Z"
   },
   {
    "duration": 13,
    "start_time": "2022-04-18T19:30:31.818Z"
   },
   {
    "duration": 16,
    "start_time": "2022-04-18T19:30:31.834Z"
   },
   {
    "duration": 27,
    "start_time": "2022-04-18T19:30:31.882Z"
   },
   {
    "duration": 25,
    "start_time": "2022-04-18T19:30:31.912Z"
   },
   {
    "duration": 12,
    "start_time": "2022-04-18T19:30:31.939Z"
   },
   {
    "duration": 34,
    "start_time": "2022-04-18T19:30:31.954Z"
   },
   {
    "duration": 19,
    "start_time": "2022-04-18T19:30:31.991Z"
   },
   {
    "duration": 8,
    "start_time": "2022-04-18T19:30:32.013Z"
   },
   {
    "duration": 16,
    "start_time": "2022-04-18T19:30:32.023Z"
   },
   {
    "duration": 62,
    "start_time": "2022-04-18T19:30:32.041Z"
   },
   {
    "duration": 9,
    "start_time": "2022-04-18T19:30:32.106Z"
   },
   {
    "duration": 18,
    "start_time": "2022-04-18T19:30:32.118Z"
   },
   {
    "duration": 45,
    "start_time": "2022-04-18T19:30:32.139Z"
   },
   {
    "duration": 35,
    "start_time": "2022-04-18T19:30:32.187Z"
   },
   {
    "duration": 35,
    "start_time": "2022-04-18T19:30:32.224Z"
   },
   {
    "duration": 42,
    "start_time": "2022-04-18T19:30:32.261Z"
   },
   {
    "duration": 18,
    "start_time": "2022-04-18T19:30:32.306Z"
   },
   {
    "duration": 20,
    "start_time": "2022-04-18T19:30:32.326Z"
   },
   {
    "duration": 56,
    "start_time": "2022-04-18T19:30:32.349Z"
   },
   {
    "duration": 30,
    "start_time": "2022-04-18T19:30:32.408Z"
   },
   {
    "duration": 43,
    "start_time": "2022-04-18T19:30:32.441Z"
   },
   {
    "duration": 464,
    "start_time": "2022-04-18T19:30:32.487Z"
   },
   {
    "duration": 359,
    "start_time": "2022-04-18T19:30:32.954Z"
   },
   {
    "duration": 420,
    "start_time": "2022-04-18T19:30:33.317Z"
   },
   {
    "duration": 26,
    "start_time": "2022-04-18T19:30:33.739Z"
   },
   {
    "duration": 347,
    "start_time": "2022-04-18T19:30:33.769Z"
   },
   {
    "duration": 0,
    "start_time": "2022-04-18T19:30:34.118Z"
   },
   {
    "duration": 0,
    "start_time": "2022-04-18T19:30:34.121Z"
   },
   {
    "duration": 0,
    "start_time": "2022-04-18T19:30:34.124Z"
   },
   {
    "duration": 0,
    "start_time": "2022-04-18T19:30:34.126Z"
   },
   {
    "duration": 0,
    "start_time": "2022-04-18T19:30:34.128Z"
   },
   {
    "duration": 0,
    "start_time": "2022-04-18T19:30:34.130Z"
   },
   {
    "duration": 0,
    "start_time": "2022-04-18T19:30:34.132Z"
   },
   {
    "duration": 0,
    "start_time": "2022-04-18T19:30:34.135Z"
   },
   {
    "duration": 0,
    "start_time": "2022-04-18T19:30:34.137Z"
   },
   {
    "duration": 0,
    "start_time": "2022-04-18T19:30:34.139Z"
   },
   {
    "duration": 0,
    "start_time": "2022-04-18T19:30:34.142Z"
   },
   {
    "duration": 0,
    "start_time": "2022-04-18T19:30:34.144Z"
   },
   {
    "duration": 0,
    "start_time": "2022-04-18T19:30:34.146Z"
   },
   {
    "duration": 0,
    "start_time": "2022-04-18T19:30:34.147Z"
   },
   {
    "duration": 0,
    "start_time": "2022-04-18T19:30:34.181Z"
   },
   {
    "duration": 0,
    "start_time": "2022-04-18T19:30:34.185Z"
   },
   {
    "duration": 0,
    "start_time": "2022-04-18T19:30:34.187Z"
   },
   {
    "duration": 0,
    "start_time": "2022-04-18T19:30:34.190Z"
   },
   {
    "duration": 0,
    "start_time": "2022-04-18T19:30:34.192Z"
   },
   {
    "duration": 0,
    "start_time": "2022-04-18T19:30:34.202Z"
   }
  ],
  "kernelspec": {
   "display_name": "Python 3 (ipykernel)",
   "language": "python",
   "name": "python3"
  },
  "language_info": {
   "codemirror_mode": {
    "name": "ipython",
    "version": 3
   },
   "file_extension": ".py",
   "mimetype": "text/x-python",
   "name": "python",
   "nbconvert_exporter": "python",
   "pygments_lexer": "ipython3",
   "version": "3.9.7"
  },
  "toc": {
   "base_numbering": 1,
   "nav_menu": {},
   "number_sections": true,
   "sideBar": true,
   "skip_h1_title": true,
   "title_cell": "Table of Contents",
   "title_sidebar": "Contents",
   "toc_cell": false,
   "toc_position": {},
   "toc_section_display": true,
   "toc_window_display": false
  }
 },
 "nbformat": 4,
 "nbformat_minor": 2
}
