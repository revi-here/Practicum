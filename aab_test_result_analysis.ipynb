{
 "cells": [
  {
   "cell_type": "markdown",
   "metadata": {},
   "source": [
    "   # A/A/B Test result analysis. "
   ]
  },
  {
   "cell_type": "markdown",
   "metadata": {},
   "source": [
    "# Table of contents  \n",
    "1.[Introduction](#intro)  \n",
    "2.[Steps](#steps)  \n",
    "3.[Data Preprocessing](#data_prep)    \n",
    "4.[Study the event funnel](#step1)   \n",
    "5.[Study the A/A/B test results. ](#step2)  \n",
    "6.[Conclusion](#end)  \n"
   ]
  },
  {
   "cell_type": "markdown",
   "metadata": {},
   "source": [
    "<div id='intro'/>"
   ]
  },
  {
   "cell_type": "markdown",
   "metadata": {},
   "source": [
    "## Introduction:  \n",
    "\n",
    "Investigate the user behavior for a company's app ,that sells food products.   \n",
    "The designers would like to change the fonts for the entire app, but the managers are afraid the users  \n",
    "might find the new design intimidating. They decide to make a decision based on the results of an A/A/B test."
   ]
  },
  {
   "cell_type": "markdown",
   "metadata": {},
   "source": [
    "<div id='steps'/>"
   ]
  },
  {
   "cell_type": "markdown",
   "metadata": {},
   "source": [
    "## Steps:  \n",
    "\n",
    "Analysis in done in 2 main steps.  \n",
    "1.Study the sales funnel.  \n",
    "2.Study the A/A/B test results.  "
   ]
  },
  {
   "cell_type": "code",
   "execution_count": 1,
   "metadata": {},
   "outputs": [],
   "source": [
    "#importing all the packages\n",
    "import pandas as pd\n",
    "import numpy as np\n",
    "from datetime import datetime\n",
    "import matplotlib.pyplot as plt\n",
    "import seaborn as sns\n",
    "from scipy import stats as st\n",
    "import math as mth\n",
    "from plotly import graph_objects as go\n",
    "import warnings"
   ]
  },
  {
   "cell_type": "code",
   "execution_count": 2,
   "metadata": {},
   "outputs": [
    {
     "ename": "FileNotFoundError",
     "evalue": "[Errno 2] No such file or directory: '/datasets/logs_exp_us.csv'",
     "output_type": "error",
     "traceback": [
      "\u001b[1;31m---------------------------------------------------------------------------\u001b[0m",
      "\u001b[1;31mFileNotFoundError\u001b[0m                         Traceback (most recent call last)",
      "\u001b[1;32m~\\AppData\\Local\\Temp/ipykernel_29136/1588076230.py\u001b[0m in \u001b[0;36m<module>\u001b[1;34m\u001b[0m\n\u001b[0;32m      1\u001b[0m \u001b[0mwarnings\u001b[0m\u001b[1;33m.\u001b[0m\u001b[0mfilterwarnings\u001b[0m\u001b[1;33m(\u001b[0m\u001b[1;34m\"ignore\"\u001b[0m\u001b[1;33m)\u001b[0m\u001b[1;33m\u001b[0m\u001b[1;33m\u001b[0m\u001b[0m\n\u001b[0;32m      2\u001b[0m \u001b[1;31m#Download the dataset\u001b[0m\u001b[1;33m\u001b[0m\u001b[1;33m\u001b[0m\u001b[0m\n\u001b[1;32m----> 3\u001b[1;33m \u001b[0mlogs_df\u001b[0m\u001b[1;33m=\u001b[0m\u001b[0mpd\u001b[0m\u001b[1;33m.\u001b[0m\u001b[0mread_csv\u001b[0m\u001b[1;33m(\u001b[0m\u001b[1;34m'/datasets/logs_exp_us.csv'\u001b[0m\u001b[1;33m,\u001b[0m \u001b[0mdelimiter\u001b[0m\u001b[1;33m=\u001b[0m\u001b[1;34m'\\t'\u001b[0m\u001b[1;33m)\u001b[0m\u001b[1;33m\u001b[0m\u001b[1;33m\u001b[0m\u001b[0m\n\u001b[0m\u001b[0;32m      4\u001b[0m \u001b[0mlogs_df\u001b[0m\u001b[1;33m.\u001b[0m\u001b[0mhead\u001b[0m\u001b[1;33m(\u001b[0m\u001b[1;36m10\u001b[0m\u001b[1;33m)\u001b[0m\u001b[1;33m\u001b[0m\u001b[1;33m\u001b[0m\u001b[0m\n",
      "\u001b[1;32m~\\anaconda3\\lib\\site-packages\\pandas\\util\\_decorators.py\u001b[0m in \u001b[0;36mwrapper\u001b[1;34m(*args, **kwargs)\u001b[0m\n\u001b[0;32m    309\u001b[0m                     \u001b[0mstacklevel\u001b[0m\u001b[1;33m=\u001b[0m\u001b[0mstacklevel\u001b[0m\u001b[1;33m,\u001b[0m\u001b[1;33m\u001b[0m\u001b[1;33m\u001b[0m\u001b[0m\n\u001b[0;32m    310\u001b[0m                 )\n\u001b[1;32m--> 311\u001b[1;33m             \u001b[1;32mreturn\u001b[0m \u001b[0mfunc\u001b[0m\u001b[1;33m(\u001b[0m\u001b[1;33m*\u001b[0m\u001b[0margs\u001b[0m\u001b[1;33m,\u001b[0m \u001b[1;33m**\u001b[0m\u001b[0mkwargs\u001b[0m\u001b[1;33m)\u001b[0m\u001b[1;33m\u001b[0m\u001b[1;33m\u001b[0m\u001b[0m\n\u001b[0m\u001b[0;32m    312\u001b[0m \u001b[1;33m\u001b[0m\u001b[0m\n\u001b[0;32m    313\u001b[0m         \u001b[1;32mreturn\u001b[0m \u001b[0mwrapper\u001b[0m\u001b[1;33m\u001b[0m\u001b[1;33m\u001b[0m\u001b[0m\n",
      "\u001b[1;32m~\\anaconda3\\lib\\site-packages\\pandas\\io\\parsers\\readers.py\u001b[0m in \u001b[0;36mread_csv\u001b[1;34m(filepath_or_buffer, sep, delimiter, header, names, index_col, usecols, squeeze, prefix, mangle_dupe_cols, dtype, engine, converters, true_values, false_values, skipinitialspace, skiprows, skipfooter, nrows, na_values, keep_default_na, na_filter, verbose, skip_blank_lines, parse_dates, infer_datetime_format, keep_date_col, date_parser, dayfirst, cache_dates, iterator, chunksize, compression, thousands, decimal, lineterminator, quotechar, quoting, doublequote, escapechar, comment, encoding, encoding_errors, dialect, error_bad_lines, warn_bad_lines, on_bad_lines, delim_whitespace, low_memory, memory_map, float_precision, storage_options)\u001b[0m\n\u001b[0;32m    584\u001b[0m     \u001b[0mkwds\u001b[0m\u001b[1;33m.\u001b[0m\u001b[0mupdate\u001b[0m\u001b[1;33m(\u001b[0m\u001b[0mkwds_defaults\u001b[0m\u001b[1;33m)\u001b[0m\u001b[1;33m\u001b[0m\u001b[1;33m\u001b[0m\u001b[0m\n\u001b[0;32m    585\u001b[0m \u001b[1;33m\u001b[0m\u001b[0m\n\u001b[1;32m--> 586\u001b[1;33m     \u001b[1;32mreturn\u001b[0m \u001b[0m_read\u001b[0m\u001b[1;33m(\u001b[0m\u001b[0mfilepath_or_buffer\u001b[0m\u001b[1;33m,\u001b[0m \u001b[0mkwds\u001b[0m\u001b[1;33m)\u001b[0m\u001b[1;33m\u001b[0m\u001b[1;33m\u001b[0m\u001b[0m\n\u001b[0m\u001b[0;32m    587\u001b[0m \u001b[1;33m\u001b[0m\u001b[0m\n\u001b[0;32m    588\u001b[0m \u001b[1;33m\u001b[0m\u001b[0m\n",
      "\u001b[1;32m~\\anaconda3\\lib\\site-packages\\pandas\\io\\parsers\\readers.py\u001b[0m in \u001b[0;36m_read\u001b[1;34m(filepath_or_buffer, kwds)\u001b[0m\n\u001b[0;32m    480\u001b[0m \u001b[1;33m\u001b[0m\u001b[0m\n\u001b[0;32m    481\u001b[0m     \u001b[1;31m# Create the parser.\u001b[0m\u001b[1;33m\u001b[0m\u001b[1;33m\u001b[0m\u001b[0m\n\u001b[1;32m--> 482\u001b[1;33m     \u001b[0mparser\u001b[0m \u001b[1;33m=\u001b[0m \u001b[0mTextFileReader\u001b[0m\u001b[1;33m(\u001b[0m\u001b[0mfilepath_or_buffer\u001b[0m\u001b[1;33m,\u001b[0m \u001b[1;33m**\u001b[0m\u001b[0mkwds\u001b[0m\u001b[1;33m)\u001b[0m\u001b[1;33m\u001b[0m\u001b[1;33m\u001b[0m\u001b[0m\n\u001b[0m\u001b[0;32m    483\u001b[0m \u001b[1;33m\u001b[0m\u001b[0m\n\u001b[0;32m    484\u001b[0m     \u001b[1;32mif\u001b[0m \u001b[0mchunksize\u001b[0m \u001b[1;32mor\u001b[0m \u001b[0miterator\u001b[0m\u001b[1;33m:\u001b[0m\u001b[1;33m\u001b[0m\u001b[1;33m\u001b[0m\u001b[0m\n",
      "\u001b[1;32m~\\anaconda3\\lib\\site-packages\\pandas\\io\\parsers\\readers.py\u001b[0m in \u001b[0;36m__init__\u001b[1;34m(self, f, engine, **kwds)\u001b[0m\n\u001b[0;32m    809\u001b[0m             \u001b[0mself\u001b[0m\u001b[1;33m.\u001b[0m\u001b[0moptions\u001b[0m\u001b[1;33m[\u001b[0m\u001b[1;34m\"has_index_names\"\u001b[0m\u001b[1;33m]\u001b[0m \u001b[1;33m=\u001b[0m \u001b[0mkwds\u001b[0m\u001b[1;33m[\u001b[0m\u001b[1;34m\"has_index_names\"\u001b[0m\u001b[1;33m]\u001b[0m\u001b[1;33m\u001b[0m\u001b[1;33m\u001b[0m\u001b[0m\n\u001b[0;32m    810\u001b[0m \u001b[1;33m\u001b[0m\u001b[0m\n\u001b[1;32m--> 811\u001b[1;33m         \u001b[0mself\u001b[0m\u001b[1;33m.\u001b[0m\u001b[0m_engine\u001b[0m \u001b[1;33m=\u001b[0m \u001b[0mself\u001b[0m\u001b[1;33m.\u001b[0m\u001b[0m_make_engine\u001b[0m\u001b[1;33m(\u001b[0m\u001b[0mself\u001b[0m\u001b[1;33m.\u001b[0m\u001b[0mengine\u001b[0m\u001b[1;33m)\u001b[0m\u001b[1;33m\u001b[0m\u001b[1;33m\u001b[0m\u001b[0m\n\u001b[0m\u001b[0;32m    812\u001b[0m \u001b[1;33m\u001b[0m\u001b[0m\n\u001b[0;32m    813\u001b[0m     \u001b[1;32mdef\u001b[0m \u001b[0mclose\u001b[0m\u001b[1;33m(\u001b[0m\u001b[0mself\u001b[0m\u001b[1;33m)\u001b[0m\u001b[1;33m:\u001b[0m\u001b[1;33m\u001b[0m\u001b[1;33m\u001b[0m\u001b[0m\n",
      "\u001b[1;32m~\\anaconda3\\lib\\site-packages\\pandas\\io\\parsers\\readers.py\u001b[0m in \u001b[0;36m_make_engine\u001b[1;34m(self, engine)\u001b[0m\n\u001b[0;32m   1038\u001b[0m             )\n\u001b[0;32m   1039\u001b[0m         \u001b[1;31m# error: Too many arguments for \"ParserBase\"\u001b[0m\u001b[1;33m\u001b[0m\u001b[1;33m\u001b[0m\u001b[0m\n\u001b[1;32m-> 1040\u001b[1;33m         \u001b[1;32mreturn\u001b[0m \u001b[0mmapping\u001b[0m\u001b[1;33m[\u001b[0m\u001b[0mengine\u001b[0m\u001b[1;33m]\u001b[0m\u001b[1;33m(\u001b[0m\u001b[0mself\u001b[0m\u001b[1;33m.\u001b[0m\u001b[0mf\u001b[0m\u001b[1;33m,\u001b[0m \u001b[1;33m**\u001b[0m\u001b[0mself\u001b[0m\u001b[1;33m.\u001b[0m\u001b[0moptions\u001b[0m\u001b[1;33m)\u001b[0m  \u001b[1;31m# type: ignore[call-arg]\u001b[0m\u001b[1;33m\u001b[0m\u001b[1;33m\u001b[0m\u001b[0m\n\u001b[0m\u001b[0;32m   1041\u001b[0m \u001b[1;33m\u001b[0m\u001b[0m\n\u001b[0;32m   1042\u001b[0m     \u001b[1;32mdef\u001b[0m \u001b[0m_failover_to_python\u001b[0m\u001b[1;33m(\u001b[0m\u001b[0mself\u001b[0m\u001b[1;33m)\u001b[0m\u001b[1;33m:\u001b[0m\u001b[1;33m\u001b[0m\u001b[1;33m\u001b[0m\u001b[0m\n",
      "\u001b[1;32m~\\anaconda3\\lib\\site-packages\\pandas\\io\\parsers\\c_parser_wrapper.py\u001b[0m in \u001b[0;36m__init__\u001b[1;34m(self, src, **kwds)\u001b[0m\n\u001b[0;32m     49\u001b[0m \u001b[1;33m\u001b[0m\u001b[0m\n\u001b[0;32m     50\u001b[0m         \u001b[1;31m# open handles\u001b[0m\u001b[1;33m\u001b[0m\u001b[1;33m\u001b[0m\u001b[0m\n\u001b[1;32m---> 51\u001b[1;33m         \u001b[0mself\u001b[0m\u001b[1;33m.\u001b[0m\u001b[0m_open_handles\u001b[0m\u001b[1;33m(\u001b[0m\u001b[0msrc\u001b[0m\u001b[1;33m,\u001b[0m \u001b[0mkwds\u001b[0m\u001b[1;33m)\u001b[0m\u001b[1;33m\u001b[0m\u001b[1;33m\u001b[0m\u001b[0m\n\u001b[0m\u001b[0;32m     52\u001b[0m         \u001b[1;32massert\u001b[0m \u001b[0mself\u001b[0m\u001b[1;33m.\u001b[0m\u001b[0mhandles\u001b[0m \u001b[1;32mis\u001b[0m \u001b[1;32mnot\u001b[0m \u001b[1;32mNone\u001b[0m\u001b[1;33m\u001b[0m\u001b[1;33m\u001b[0m\u001b[0m\n\u001b[0;32m     53\u001b[0m \u001b[1;33m\u001b[0m\u001b[0m\n",
      "\u001b[1;32m~\\anaconda3\\lib\\site-packages\\pandas\\io\\parsers\\base_parser.py\u001b[0m in \u001b[0;36m_open_handles\u001b[1;34m(self, src, kwds)\u001b[0m\n\u001b[0;32m    220\u001b[0m         \u001b[0mLet\u001b[0m \u001b[0mthe\u001b[0m \u001b[0mreaders\u001b[0m \u001b[0mopen\u001b[0m \u001b[0mIOHandles\u001b[0m \u001b[0mafter\u001b[0m \u001b[0mthey\u001b[0m \u001b[0mare\u001b[0m \u001b[0mdone\u001b[0m \u001b[1;32mwith\u001b[0m \u001b[0mtheir\u001b[0m \u001b[0mpotential\u001b[0m \u001b[0mraises\u001b[0m\u001b[1;33m.\u001b[0m\u001b[1;33m\u001b[0m\u001b[1;33m\u001b[0m\u001b[0m\n\u001b[0;32m    221\u001b[0m         \"\"\"\n\u001b[1;32m--> 222\u001b[1;33m         self.handles = get_handle(\n\u001b[0m\u001b[0;32m    223\u001b[0m             \u001b[0msrc\u001b[0m\u001b[1;33m,\u001b[0m\u001b[1;33m\u001b[0m\u001b[1;33m\u001b[0m\u001b[0m\n\u001b[0;32m    224\u001b[0m             \u001b[1;34m\"r\"\u001b[0m\u001b[1;33m,\u001b[0m\u001b[1;33m\u001b[0m\u001b[1;33m\u001b[0m\u001b[0m\n",
      "\u001b[1;32m~\\anaconda3\\lib\\site-packages\\pandas\\io\\common.py\u001b[0m in \u001b[0;36mget_handle\u001b[1;34m(path_or_buf, mode, encoding, compression, memory_map, is_text, errors, storage_options)\u001b[0m\n\u001b[0;32m    700\u001b[0m         \u001b[1;32mif\u001b[0m \u001b[0mioargs\u001b[0m\u001b[1;33m.\u001b[0m\u001b[0mencoding\u001b[0m \u001b[1;32mand\u001b[0m \u001b[1;34m\"b\"\u001b[0m \u001b[1;32mnot\u001b[0m \u001b[1;32min\u001b[0m \u001b[0mioargs\u001b[0m\u001b[1;33m.\u001b[0m\u001b[0mmode\u001b[0m\u001b[1;33m:\u001b[0m\u001b[1;33m\u001b[0m\u001b[1;33m\u001b[0m\u001b[0m\n\u001b[0;32m    701\u001b[0m             \u001b[1;31m# Encoding\u001b[0m\u001b[1;33m\u001b[0m\u001b[1;33m\u001b[0m\u001b[0m\n\u001b[1;32m--> 702\u001b[1;33m             handle = open(\n\u001b[0m\u001b[0;32m    703\u001b[0m                 \u001b[0mhandle\u001b[0m\u001b[1;33m,\u001b[0m\u001b[1;33m\u001b[0m\u001b[1;33m\u001b[0m\u001b[0m\n\u001b[0;32m    704\u001b[0m                 \u001b[0mioargs\u001b[0m\u001b[1;33m.\u001b[0m\u001b[0mmode\u001b[0m\u001b[1;33m,\u001b[0m\u001b[1;33m\u001b[0m\u001b[1;33m\u001b[0m\u001b[0m\n",
      "\u001b[1;31mFileNotFoundError\u001b[0m: [Errno 2] No such file or directory: '/datasets/logs_exp_us.csv'"
     ]
    }
   ],
   "source": [
    "warnings.filterwarnings(\"ignore\")\n",
    "#Download the dataset\n",
    "logs_df=pd.read_csv('/datasets/logs_exp_us.csv', delimiter='\\t')\n",
    "logs_df.head(10)"
   ]
  },
  {
   "cell_type": "markdown",
   "metadata": {},
   "source": [
    "***Missing values***"
   ]
  },
  {
   "cell_type": "code",
   "execution_count": null,
   "metadata": {},
   "outputs": [],
   "source": [
    "#Dataset details\n",
    "logs_df.info()"
   ]
  },
  {
   "cell_type": "markdown",
   "metadata": {},
   "source": [
    "***We don't see any missing values in the dataset.***"
   ]
  },
  {
   "cell_type": "markdown",
   "metadata": {},
   "source": [
    "<div id='data_prep'/>"
   ]
  },
  {
   "cell_type": "markdown",
   "metadata": {},
   "source": [
    "## Data Preprocessing.  "
   ]
  },
  {
   "cell_type": "code",
   "execution_count": null,
   "metadata": {},
   "outputs": [],
   "source": [
    "#renaming all column names to lower case with _\n",
    "logs_df=logs_df.rename(columns={'EventName':'event_name',\n",
    "                                'DeviceIDHash':'device_id_hash',\n",
    "                                'EventTimestamp':'event_timestamp',\n",
    "                                 'ExpId':'exp_id'})\n",
    "logs_df.head(10)\n"
   ]
  },
  {
   "cell_type": "code",
   "execution_count": null,
   "metadata": {},
   "outputs": [],
   "source": [
    "logs_df['event_name'].value_counts()"
   ]
  },
  {
   "cell_type": "markdown",
   "metadata": {},
   "source": [
    "We see 5 events that are repeated throughout the dataset..So,will convert data type to category."
   ]
  },
  {
   "cell_type": "code",
   "execution_count": null,
   "metadata": {},
   "outputs": [],
   "source": [
    "logs_df['event_name']=logs_df['event_name'].astype('category')"
   ]
  },
  {
   "cell_type": "code",
   "execution_count": null,
   "metadata": {},
   "outputs": [],
   "source": [
    "logs_df['device_id_hash'].value_counts().head(10)"
   ]
  },
  {
   "cell_type": "code",
   "execution_count": null,
   "metadata": {},
   "outputs": [],
   "source": [
    "logs_df['event_timestamp'].value_counts().head(10)"
   ]
  },
  {
   "cell_type": "code",
   "execution_count": null,
   "metadata": {},
   "outputs": [],
   "source": [
    "#creating new columns for datetime and date.\n",
    "logs_df['event_datetime'] = pd.to_datetime(logs_df['event_timestamp'], \n",
    "                                  unit='s')\n",
    "logs_df['event_date']=logs_df['event_datetime'].dt.date"
   ]
  },
  {
   "cell_type": "code",
   "execution_count": null,
   "metadata": {},
   "outputs": [],
   "source": [
    "logs_df['exp_id'].value_counts()"
   ]
  },
  {
   "cell_type": "code",
   "execution_count": null,
   "metadata": {},
   "outputs": [],
   "source": [
    "#exp_id changed to category type.  \n",
    "logs_df['exp_id']=logs_df['exp_id'].astype('category')"
   ]
  },
  {
   "cell_type": "code",
   "execution_count": null,
   "metadata": {},
   "outputs": [],
   "source": [
    "logs_df.info()"
   ]
  },
  {
   "cell_type": "code",
   "execution_count": null,
   "metadata": {},
   "outputs": [],
   "source": [
    "logs_df.head(10)"
   ]
  },
  {
   "cell_type": "code",
   "execution_count": null,
   "metadata": {},
   "outputs": [],
   "source": [
    "logs_df['event_datetime'].value_counts().head(10)"
   ]
  },
  {
   "cell_type": "code",
   "execution_count": null,
   "metadata": {
    "scrolled": false
   },
   "outputs": [],
   "source": [
    "logs_df['event_date'].value_counts()"
   ]
  },
  {
   "cell_type": "markdown",
   "metadata": {},
   "source": [
    "# Data Analysis"
   ]
  },
  {
   "cell_type": "code",
   "execution_count": null,
   "metadata": {},
   "outputs": [],
   "source": [
    "n_users=logs_df['device_id_hash'].nunique()\n",
    "n_users"
   ]
  },
  {
   "cell_type": "code",
   "execution_count": null,
   "metadata": {},
   "outputs": [],
   "source": [
    "total_events=logs_df['event_name'].count()\n",
    "total_events"
   ]
  },
  {
   "cell_type": "code",
   "execution_count": null,
   "metadata": {},
   "outputs": [],
   "source": [
    "total_unique_events=logs_df['event_name'].nunique()\n",
    "total_unique_events"
   ]
  },
  {
   "cell_type": "code",
   "execution_count": null,
   "metadata": {},
   "outputs": [],
   "source": [
    "n_events_per_user=round(total_events/n_users)\n",
    "n_events_per_user"
   ]
  },
  {
   "cell_type": "markdown",
   "metadata": {},
   "source": [
    "***1.There are 7551 unique users in total in the dataset.  \n",
    "2.We see that they are 5 events - MainScreen,OffersScreen,CartScreen , Payment Screen and Tutorials page .These events are repeated around 244126 times..  \n",
    "3.Number of events performed by each user is calculated to be around 32.***"
   ]
  },
  {
   "cell_type": "code",
   "execution_count": null,
   "metadata": {},
   "outputs": [],
   "source": [
    "#group by user\n",
    "logs_df_user=logs_df.groupby(['device_id_hash','event_datetime']).agg({'event_name':'count'}).reset_index()\n",
    "logs_df_user.head(10)"
   ]
  },
  {
   "cell_type": "code",
   "execution_count": null,
   "metadata": {},
   "outputs": [],
   "source": [
    "#average number of events per user\n",
    "events_per_user=logs_df.groupby(['device_id_hash','event_date']).agg({'event_name':'count'}).reset_index()\n",
    "events_per_user.head(10)\n"
   ]
  },
  {
   "cell_type": "code",
   "execution_count": null,
   "metadata": {},
   "outputs": [],
   "source": [
    "events_per_date=logs_df.groupby(['event_date','event_datetime']).agg({'event_name':'count'}).reset_index()\n",
    "events_per_date.tail(10)"
   ]
  },
  {
   "cell_type": "code",
   "execution_count": null,
   "metadata": {},
   "outputs": [],
   "source": [
    "events_per_date['event_date'].describe()"
   ]
  },
  {
   "cell_type": "code",
   "execution_count": null,
   "metadata": {},
   "outputs": [],
   "source": [
    "events_per_date['event_date'].max()"
   ]
  },
  {
   "cell_type": "code",
   "execution_count": null,
   "metadata": {},
   "outputs": [],
   "source": [
    "events_per_date['event_date'].min()"
   ]
  },
  {
   "cell_type": "markdown",
   "metadata": {},
   "source": [
    "'logs_df' dataset has records of events from 2019-07-25 to 2019-08-07."
   ]
  },
  {
   "cell_type": "code",
   "execution_count": null,
   "metadata": {},
   "outputs": [],
   "source": [
    "plt.hist(logs_df['event_date'])\n",
    "plt.xticks(rotation=90)\n",
    "plt.show()"
   ]
  },
  {
   "cell_type": "markdown",
   "metadata": {},
   "source": [
    "We see effective use of the app only by 31st of July 2019 ...We literally don't see any values prior to it from   \n",
    "the dates 25-30 of July 2019."
   ]
  },
  {
   "cell_type": "code",
   "execution_count": null,
   "metadata": {},
   "outputs": [],
   "source": [
    "#Verifying with percentile\n",
    "np.percentile(logs_df['event_datetime'],[1,5,10,50,95])"
   ]
  },
  {
   "cell_type": "markdown",
   "metadata": {},
   "source": [
    "Numpy percentile calculation shows that the data from '2019-07-25' to  '2019-07-31' doesn't even contribute  \n",
    "to 1% of the data ..So, will ignore datas till 2019-07-31.."
   ]
  },
  {
   "cell_type": "code",
   "execution_count": null,
   "metadata": {},
   "outputs": [],
   "source": [
    "#create new dataset without records from 25-30 of July 2019\n",
    "logs_updated_df=logs_df[logs_df['event_date']>pd.to_datetime('2019-07-31')]"
   ]
  },
  {
   "cell_type": "code",
   "execution_count": null,
   "metadata": {},
   "outputs": [],
   "source": [
    "logs_updated_df.head(10)"
   ]
  },
  {
   "cell_type": "code",
   "execution_count": null,
   "metadata": {},
   "outputs": [],
   "source": [
    "#checking for duplicates\n",
    "logs_duplicates=logs_updated_df[logs_updated_df.duplicated(keep=False)].sort_values(by='event_datetime')\n",
    "logs_duplicates.head(10)"
   ]
  },
  {
   "cell_type": "code",
   "execution_count": null,
   "metadata": {},
   "outputs": [],
   "source": [
    "logs_duplicates[(logs_duplicates['event_name']=='CartScreenAppear') & (logs_duplicates['device_id_hash']==2382591782303281935)]"
   ]
  },
  {
   "cell_type": "markdown",
   "metadata": {},
   "source": [
    "***Analysing the duplicates ,most of the cases the event appears twice..Since , we have only less percentage of duplicates  (around 700 in a total of more than 200000 records , we will keep the first record and drop other duplicates .***  \n"
   ]
  },
  {
   "cell_type": "code",
   "execution_count": null,
   "metadata": {},
   "outputs": [],
   "source": [
    "logs_updated_df=logs_updated_df.drop_duplicates()"
   ]
  },
  {
   "cell_type": "code",
   "execution_count": null,
   "metadata": {},
   "outputs": [],
   "source": [
    "logs_updated_df['exp_id'].value_counts()"
   ]
  },
  {
   "cell_type": "markdown",
   "metadata": {},
   "source": [
    "Since this dataset is to be used for A/A test , we need to make sure data from all 3 groups are  \n",
    "evenly distributed with not more than 1% difference.  \n",
    "Will take equal number of users from each experiment(user group)."
   ]
  },
  {
   "cell_type": "code",
   "execution_count": null,
   "metadata": {},
   "outputs": [],
   "source": [
    "#number of users in exp_id 246\n",
    "n_246=logs_updated_df[logs_updated_df['exp_id']==246]['device_id_hash'].nunique()\n",
    "n_246"
   ]
  },
  {
   "cell_type": "code",
   "execution_count": null,
   "metadata": {},
   "outputs": [],
   "source": [
    "#number of users in exp_id 247\n",
    "n_247=logs_updated_df[logs_updated_df['exp_id']==247]['device_id_hash'].nunique()\n",
    "n_247"
   ]
  },
  {
   "cell_type": "code",
   "execution_count": null,
   "metadata": {},
   "outputs": [],
   "source": [
    "#number of users in exp_id 248\n",
    "n_248=logs_updated_df[logs_updated_df['exp_id']==248]['device_id_hash'].nunique()\n",
    "n_248"
   ]
  },
  {
   "cell_type": "code",
   "execution_count": null,
   "metadata": {},
   "outputs": [],
   "source": [
    "logs_updated_df.duplicated().sum()"
   ]
  },
  {
   "cell_type": "code",
   "execution_count": null,
   "metadata": {},
   "outputs": [],
   "source": [
    "#Create a dataset with equal number of users in each exp_id (2484)\n",
    "logs_updated_df2=logs_updated_df[logs_updated_df['exp_id']==247]\n",
    "logs_updated_df2.head(5)"
   ]
  },
  {
   "cell_type": "code",
   "execution_count": null,
   "metadata": {},
   "outputs": [],
   "source": [
    "logs_updated_df2['device_id_hash'].nunique()"
   ]
  },
  {
   "cell_type": "code",
   "execution_count": null,
   "metadata": {},
   "outputs": [],
   "source": [
    "#take a sample of 2484 users with exp_id=247\n",
    "logs_updated_df3=logs_updated_df2.groupby('device_id_hash').nunique().reset_index()\n",
    "logs_updated_df3=logs_updated_df3['device_id_hash'].sample(2484)\n",
    "logs_temp=pd.DataFrame(logs_updated_df3)\n",
    "logs_temp.head(10)"
   ]
  },
  {
   "cell_type": "code",
   "execution_count": null,
   "metadata": {},
   "outputs": [],
   "source": [
    "#dataset contains 2484 users with exp_id=247\n",
    "logs_updated_df2=logs_updated_df2.merge(logs_temp,on='device_id_hash')\n",
    "logs_updated_df2.head(5)"
   ]
  },
  {
   "cell_type": "code",
   "execution_count": null,
   "metadata": {},
   "outputs": [],
   "source": [
    "logs_updated_df2[logs_updated_df2['exp_id']==247].agg({'device_id_hash':'nunique'})"
   ]
  },
  {
   "cell_type": "code",
   "execution_count": null,
   "metadata": {},
   "outputs": [],
   "source": [
    "logs_updated_df3=[]\n",
    "logs_temp=[]\n",
    "logs_updated_df3"
   ]
  },
  {
   "cell_type": "code",
   "execution_count": null,
   "metadata": {},
   "outputs": [],
   "source": [
    "#getting records with exp_id=248\n",
    "logs_updated_df4=logs_updated_df[logs_updated_df['exp_id']==248]\n",
    "logs_updated_df4.head(5)"
   ]
  },
  {
   "cell_type": "code",
   "execution_count": null,
   "metadata": {},
   "outputs": [],
   "source": [
    "logs_updated_df3=logs_updated_df4.groupby('device_id_hash').nunique().reset_index()\n",
    "logs_updated_df3=logs_updated_df3['device_id_hash'].sample(2484)\n",
    "logs_temp=pd.DataFrame(logs_updated_df3)\n",
    "logs_temp.head(10)"
   ]
  },
  {
   "cell_type": "code",
   "execution_count": null,
   "metadata": {},
   "outputs": [],
   "source": [
    "#getting 2484 users of exp_id 248\n",
    "logs_updated_df4=logs_updated_df4.merge(logs_temp,on='device_id_hash')\n",
    "logs_updated_df4.head(5)"
   ]
  },
  {
   "cell_type": "code",
   "execution_count": null,
   "metadata": {},
   "outputs": [],
   "source": [
    "logs_updated_df4['device_id_hash'].nunique()"
   ]
  },
  {
   "cell_type": "code",
   "execution_count": null,
   "metadata": {},
   "outputs": [],
   "source": [
    "#appending to users from exp_id 247\n",
    "logs_updated_df2=logs_updated_df2.append(logs_updated_df4)\n",
    "logs_updated_df2.head(5)"
   ]
  },
  {
   "cell_type": "code",
   "execution_count": null,
   "metadata": {},
   "outputs": [],
   "source": [
    "logs_updated_df3=[]\n",
    "logs_updated_df4=[]\n",
    "logs_temp=[]\n",
    "logs_temp=logs_updated_df[logs_updated_df['exp_id']==246]\n",
    "logs_temp.head(5)"
   ]
  },
  {
   "cell_type": "code",
   "execution_count": null,
   "metadata": {},
   "outputs": [],
   "source": [
    "logs_temp['device_id_hash'].nunique()"
   ]
  },
  {
   "cell_type": "code",
   "execution_count": null,
   "metadata": {},
   "outputs": [],
   "source": [
    "#logs_updated_df2 contains equal users with 'exp_id ' 246,247 and 248\n",
    "logs_updated_df2=logs_updated_df2.append(logs_temp)\n",
    "logs_updated_df2.head(10)"
   ]
  },
  {
   "cell_type": "code",
   "execution_count": null,
   "metadata": {},
   "outputs": [],
   "source": [
    "logs_updated_df2[logs_updated_df2['exp_id']==246]['device_id_hash'].nunique()"
   ]
  },
  {
   "cell_type": "code",
   "execution_count": null,
   "metadata": {},
   "outputs": [],
   "source": [
    "logs_updated_df2[logs_updated_df2['exp_id']==247]['device_id_hash'].nunique()"
   ]
  },
  {
   "cell_type": "code",
   "execution_count": null,
   "metadata": {},
   "outputs": [],
   "source": [
    "logs_updated_df2[logs_updated_df2['exp_id']==248]['device_id_hash'].nunique()"
   ]
  },
  {
   "cell_type": "code",
   "execution_count": null,
   "metadata": {},
   "outputs": [],
   "source": [
    "logs_updated_df1=logs_updated_df2"
   ]
  },
  {
   "cell_type": "code",
   "execution_count": null,
   "metadata": {},
   "outputs": [],
   "source": [
    "logs_updated_df1.head(10)"
   ]
  },
  {
   "cell_type": "code",
   "execution_count": null,
   "metadata": {},
   "outputs": [],
   "source": [
    "logs_updated_df1['event_date'].min()"
   ]
  },
  {
   "cell_type": "code",
   "execution_count": null,
   "metadata": {},
   "outputs": [],
   "source": [
    "logs_updated_df1['event_date'].max()"
   ]
  },
  {
   "cell_type": "code",
   "execution_count": null,
   "metadata": {},
   "outputs": [],
   "source": [
    "plt.hist(logs_updated_df1['event_datetime'])\n",
    "plt.xticks(rotation=90)\n",
    "plt.show()"
   ]
  },
  {
   "cell_type": "markdown",
   "metadata": {},
   "source": [
    "***Based on the updated dataset logs_updated_df1 , start date is '2019-08-01' and end date is '2019-08-07'.  \n",
    "We see some increased activity between 5th and 6th.***"
   ]
  },
  {
   "cell_type": "code",
   "execution_count": null,
   "metadata": {},
   "outputs": [],
   "source": [
    "#updated dataset details\n",
    "logs_updated_df1.info()"
   ]
  },
  {
   "cell_type": "code",
   "execution_count": null,
   "metadata": {},
   "outputs": [],
   "source": [
    "#original datset\n",
    "logs_df.info()"
   ]
  },
  {
   "cell_type": "code",
   "execution_count": null,
   "metadata": {},
   "outputs": [],
   "source": [
    "#records in original dataset - records in updated one\n",
    "records_lost=logs_df.shape[0] - logs_updated_df1.shape[0]\n",
    "records_lost"
   ]
  },
  {
   "cell_type": "code",
   "execution_count": null,
   "metadata": {},
   "outputs": [],
   "source": [
    "lost_percentage=records_lost/logs_df.shape[0]\n",
    "lost_percentage"
   ]
  },
  {
   "cell_type": "code",
   "execution_count": null,
   "metadata": {},
   "outputs": [],
   "source": [
    "#calculate number of users lost\n",
    "users_in_original=logs_df['device_id_hash'].nunique()\n",
    "users_in_updated=logs_updated_df1['device_id_hash'].nunique()\n",
    "users_in_original\n"
   ]
  },
  {
   "cell_type": "code",
   "execution_count": null,
   "metadata": {},
   "outputs": [],
   "source": [
    "users_in_updated"
   ]
  },
  {
   "cell_type": "code",
   "execution_count": null,
   "metadata": {},
   "outputs": [],
   "source": [
    "lost_users=users_in_original-users_in_updated\n",
    "lost_users_percentage=lost_users/users_in_original\n",
    "lost_users"
   ]
  },
  {
   "cell_type": "code",
   "execution_count": null,
   "metadata": {},
   "outputs": [],
   "source": [
    "lost_users_percentage"
   ]
  },
  {
   "cell_type": "markdown",
   "metadata": {},
   "source": [
    "***We see a loss of around 1% of users from the original logs dataset which should not be a source of concern in our   \n",
    "further analysis.***"
   ]
  },
  {
   "cell_type": "markdown",
   "metadata": {},
   "source": [
    "***Data lost is very negligible around 2% of the dataset . So no major impact on the dataset is predicted.***"
   ]
  },
  {
   "cell_type": "code",
   "execution_count": null,
   "metadata": {},
   "outputs": [],
   "source": [
    "#getting the frequency of each event.  \n",
    "events_frequency=pd.DataFrame(logs_updated_df1['event_name'].value_counts()).reset_index()\n",
    "events_frequency=events_frequency.rename(columns={'index':'event_name','event_name':'count'})\n",
    "events_frequency"
   ]
  },
  {
   "cell_type": "code",
   "execution_count": null,
   "metadata": {},
   "outputs": [],
   "source": [
    "ax = sns.barplot(x='event_name', y='count', data=events_frequency,order=events_frequency.sort_values(by='count').event_name) \n",
    "ax.set_title('Frequency of different events')\n",
    "plt.xticks(rotation=90)\n",
    "\n",
    "plt.savefig('Frequency_of_events.png')"
   ]
  },
  {
   "cell_type": "markdown",
   "metadata": {},
   "source": [
    "***From the above graph , we see that more visitors are there for MainSreen which also includes some repeated users.***"
   ]
  },
  {
   "cell_type": "code",
   "execution_count": null,
   "metadata": {},
   "outputs": [],
   "source": [
    "unique_user_in_event=logs_updated_df1.groupby('event_name').agg({'device_id_hash':['nunique','count']})\n",
    "unique_user_in_event=unique_user_in_event.reset_index()\n",
    "unique_user_in_event=unique_user_in_event.rename(columns={'nunique':'total_unique_user','count':'total_repeat_user'})\n",
    "unique_user_in_event"
   ]
  },
  {
   "cell_type": "markdown",
   "metadata": {},
   "source": [
    "***Based on the above table  we see that ,each user visits the 'Main screen'(7300) ,next they go to 'Offers page'(4550) and then adds to 'Carts Page '(3700) and finally 'payment successful ' page (3500)..Not much users  \n",
    "are interested in 'Tutorial' page and it counts up to just 800..***"
   ]
  },
  {
   "cell_type": "code",
   "execution_count": null,
   "metadata": {},
   "outputs": [],
   "source": [
    "logs_updated_df1['device_id_hash'].nunique()"
   ]
  },
  {
   "cell_type": "code",
   "execution_count": null,
   "metadata": {},
   "outputs": [],
   "source": [
    "unique_user_in_event"
   ]
  },
  {
   "cell_type": "code",
   "execution_count": null,
   "metadata": {},
   "outputs": [],
   "source": [
    "unique_user_in_event.columns = unique_user_in_event.columns.droplevel(0) "
   ]
  },
  {
   "cell_type": "code",
   "execution_count": null,
   "metadata": {},
   "outputs": [],
   "source": [
    "unique_user_in_event"
   ]
  },
  {
   "cell_type": "code",
   "execution_count": null,
   "metadata": {},
   "outputs": [],
   "source": [
    "unique_user_in_event['total_user']=7452"
   ]
  },
  {
   "cell_type": "code",
   "execution_count": null,
   "metadata": {},
   "outputs": [],
   "source": [
    "unique_user_in_event"
   ]
  },
  {
   "cell_type": "code",
   "execution_count": null,
   "metadata": {},
   "outputs": [],
   "source": [
    "unique_user_in_event.columns"
   ]
  },
  {
   "cell_type": "code",
   "execution_count": null,
   "metadata": {},
   "outputs": [],
   "source": [
    "#unique_user_in_event.columns.values[1] = \"event_name\"\n",
    "unique_user_in_event=unique_user_in_event.rename(columns={unique_user_in_event.columns[0]:'event_name'})"
   ]
  },
  {
   "cell_type": "code",
   "execution_count": null,
   "metadata": {},
   "outputs": [],
   "source": [
    "unique_user_in_event"
   ]
  },
  {
   "cell_type": "code",
   "execution_count": null,
   "metadata": {},
   "outputs": [],
   "source": [
    "unique_user_in_event['event_once']=unique_user_in_event['total_unique_user']/unique_user_in_event['total_repeat_user']"
   ]
  },
  {
   "cell_type": "code",
   "execution_count": null,
   "metadata": {},
   "outputs": [],
   "source": [
    "ax = sns.barplot(x='event_name', y='total_unique_user', data=unique_user_in_event,order=unique_user_in_event.sort_values(by='total_unique_user').event_name) \n",
    "ax.set_title('number of unique users who performed each of these actions.')\n",
    "plt.xticks(rotation=90)\n",
    "\n",
    "plt.savefig('users_actions..png')"
   ]
  },
  {
   "cell_type": "markdown",
   "metadata": {},
   "source": [
    "***The above graph has a trend similar to the one we saw early..MainScreen being the most performed action  \n",
    "followed by Offers ,then cart and finally payment . Since Tutorials is way few in numbers , we will analyse the other 4 actions.***"
   ]
  },
  {
   "cell_type": "code",
   "execution_count": null,
   "metadata": {},
   "outputs": [],
   "source": [
    "unique_user_in_event"
   ]
  },
  {
   "cell_type": "code",
   "execution_count": null,
   "metadata": {},
   "outputs": [],
   "source": [
    "unique_user_in_event['event_once_percent']=round(unique_user_in_event['event_once']*100)\n",
    "unique_user_in_event"
   ]
  },
  {
   "cell_type": "code",
   "execution_count": null,
   "metadata": {},
   "outputs": [],
   "source": [
    "logs_updated_df1.sort_values(by='event_date').head(10)"
   ]
  },
  {
   "cell_type": "code",
   "execution_count": null,
   "metadata": {
    "scrolled": true
   },
   "outputs": [],
   "source": [
    "logs_updated_df1.isna().sum()"
   ]
  },
  {
   "cell_type": "code",
   "execution_count": null,
   "metadata": {},
   "outputs": [],
   "source": [
    "ax = sns.barplot(x='event_name', y='event_once_percent', data=unique_user_in_event,order=unique_user_in_event.sort_values(by='event_once_percent').event_name) \n",
    "ax.set_title('percent of each of these actions occured at least once.')\n",
    "plt.xticks(rotation=90)\n"
   ]
  },
  {
   "cell_type": "markdown",
   "metadata": {},
   "source": [
    "Since 'Tutorial ' is the least preferred action ,it has highest percent of single tiime as it has no repeated users.  \n",
    "MAin page has more visitors which shows with slightly reduced bar compared to other events.  \n"
   ]
  },
  {
   "cell_type": "markdown",
   "metadata": {},
   "source": [
    "##  Study the event funnel  \n"
   ]
  },
  {
   "cell_type": "code",
   "execution_count": null,
   "metadata": {},
   "outputs": [],
   "source": [
    "#get the first time user perform the event\n",
    "users_first_access=logs_updated_df1.pivot_table(\n",
    "    index='device_id_hash', \n",
    "    columns='event_name', \n",
    "    values='event_datetime',\n",
    "    aggfunc='min')\n",
    "users_first_access.head(10)"
   ]
  },
  {
   "cell_type": "code",
   "execution_count": null,
   "metadata": {},
   "outputs": [],
   "source": [
    "#users who have viewed main screen\n",
    "step_1 = ~users_first_access['MainScreenAppear'].isna()\n",
    "#users who have viewed main screen and later views offers page\n",
    "step_2 = step_1 & (users_first_access['OffersScreenAppear'] > users_first_access['MainScreenAppear'])\n",
    "#users viewing cart page after main and offers page.\n",
    "step_3 = step_2 & (users_first_access['CartScreenAppear'] > users_first_access['OffersScreenAppear'])\n",
    "#users who completes he sequence with payment page at last.\n",
    "step_4 = step_3 & (users_first_access['PaymentScreenSuccessful'] > users_first_access['CartScreenAppear'])\n",
    "\n",
    "#count of valid users in each stage\n",
    "n_pageview = users_first_access[step_1].shape[0]\n",
    "n_offersview = users_first_access[step_2].shape[0]\n",
    "n_cartview = users_first_access[step_3].shape[0]\n",
    "n_paymentview = users_first_access[step_4].shape[0]"
   ]
  },
  {
   "cell_type": "code",
   "execution_count": null,
   "metadata": {},
   "outputs": [],
   "source": [
    "n_pageview\n"
   ]
  },
  {
   "cell_type": "code",
   "execution_count": null,
   "metadata": {},
   "outputs": [],
   "source": [
    "n_offersview"
   ]
  },
  {
   "cell_type": "code",
   "execution_count": null,
   "metadata": {},
   "outputs": [],
   "source": [
    "n_cartview "
   ]
  },
  {
   "cell_type": "code",
   "execution_count": null,
   "metadata": {},
   "outputs": [],
   "source": [
    "n_paymentview"
   ]
  },
  {
   "cell_type": "code",
   "execution_count": null,
   "metadata": {},
   "outputs": [],
   "source": [
    "data= {'event_name':['MainScreen','OffersScreen','CartScreen','PaymentScreen'],\n",
    "        'n_users':[n_pageview,n_offersview,n_cartview,n_paymentview]}\n",
    "sequence_views=pd.DataFrame(data)\n",
    "sequence_views"
   ]
  },
  {
   "cell_type": "code",
   "execution_count": null,
   "metadata": {},
   "outputs": [],
   "source": [
    "fig = go.Figure(go.Funnel(\n",
    "    y = sequence_views['event_name'],\n",
    "    x = sequence_views['n_users']\n",
    "    ))\n",
    "fig.show()"
   ]
  },
  {
   "cell_type": "code",
   "execution_count": null,
   "metadata": {},
   "outputs": [],
   "source": [
    "#ratio of users moving from \n",
    "#MainScreen to OffersScreen\n",
    "main_offer= n_offersview/n_pageview\n",
    "\n",
    "main_offer"
   ]
  },
  {
   "cell_type": "code",
   "execution_count": null,
   "metadata": {},
   "outputs": [],
   "source": [
    "#OffersScreen to CartScreen\n",
    "offer_cart=n_cartview/n_offersview\n",
    "offer_cart"
   ]
  },
  {
   "cell_type": "code",
   "execution_count": null,
   "metadata": {},
   "outputs": [],
   "source": [
    "#Cartcreen to PaymentScreen\n",
    "cart_payment= n_paymentview/n_cartview\n",
    "cart_payment"
   ]
  },
  {
   "cell_type": "code",
   "execution_count": null,
   "metadata": {
    "scrolled": true
   },
   "outputs": [],
   "source": [
    "#ratio of users that make from start (mainscreen) to end(payment)\n",
    "main_payment=n_paymentview/n_pageview\n",
    "main_payment\n"
   ]
  },
  {
   "cell_type": "markdown",
   "metadata": {},
   "source": [
    "### Intermediate Conclusion:"
   ]
  },
  {
   "cell_type": "markdown",
   "metadata": {},
   "source": [
    "***Around 56%of users move from Main screen to Offers page. From there ,around 42% moves ahead to Cart page.  \n",
    "And finally around 25% from the cart page ends up paying for the transaction .  \n",
    "Overall only 6% of users in MainScreen completes the sequence by payment .***  "
   ]
  },
  {
   "cell_type": "markdown",
   "metadata": {},
   "source": [
    "***We see that more users are stuck at Cart page and don't turn up to Payment ..Though not as small as Cart page ,  \n",
    "Offers page also shows lesser turn out of around 42%.***"
   ]
  },
  {
   "cell_type": "markdown",
   "metadata": {},
   "source": [
    "<div id='step2'/>"
   ]
  },
  {
   "cell_type": "markdown",
   "metadata": {},
   "source": [
    "## Study the A/A/B test results.  \n"
   ]
  },
  {
   "cell_type": "code",
   "execution_count": null,
   "metadata": {},
   "outputs": [],
   "source": [
    "#create a dataset 'logs_a_df'  for exp_id=246\n",
    "logs_a_df=logs_updated_df1[logs_updated_df1['exp_id']==246]\n",
    "logs_a_df['device_id_hash'].nunique()"
   ]
  },
  {
   "cell_type": "code",
   "execution_count": null,
   "metadata": {},
   "outputs": [],
   "source": [
    "#create a dataset 'logs_b_df'  for exp_id=247\n",
    "logs_b_df=logs_updated_df1[logs_updated_df1['exp_id']==247]\n",
    "logs_b_df.head(10)"
   ]
  },
  {
   "cell_type": "code",
   "execution_count": null,
   "metadata": {},
   "outputs": [],
   "source": [
    "#create a dataset 'logs_c_df'  for exp_id=248\n",
    "logs_c_df=logs_updated_df1[logs_updated_df1['exp_id']==248]\n",
    "logs_c_df.head(10)"
   ]
  },
  {
   "cell_type": "markdown",
   "metadata": {},
   "source": [
    "***Based on the 'events_frequency' dataset we created earlier ,we see that 'MainScreenAppear' is the most popular event compared to  \n",
    "all other events.***"
   ]
  },
  {
   "cell_type": "code",
   "execution_count": null,
   "metadata": {},
   "outputs": [],
   "source": [
    "#group 'logs_a_df' dataset of the groups based on event_name\n",
    "temp_a_df=logs_a_df.groupby('event_name')['device_id_hash'].nunique().reset_index()\n",
    "temp_a_df=temp_a_df.rename(columns={'device_id_hash':'n_users'})\n",
    "temp_a_df['n_total']=logs_a_df['device_id_hash'].nunique()\n",
    "temp_a_df['n_share']=temp_a_df['n_users']/temp_a_df['n_total']\n",
    "temp_a_df"
   ]
  },
  {
   "cell_type": "markdown",
   "metadata": {},
   "source": [
    "***There is no visible oulier/anamoly condition ..***"
   ]
  },
  {
   "cell_type": "code",
   "execution_count": null,
   "metadata": {},
   "outputs": [],
   "source": [
    "#group 'logs_b_df' dataset of the groups based on event_name\n",
    "temp_b_df=logs_b_df.groupby('event_name')['device_id_hash'].nunique().reset_index()\n",
    "temp_b_df=temp_b_df.rename(columns={'device_id_hash':'n_users'})\n",
    "temp_b_df['n_total']=logs_b_df['device_id_hash'].nunique()\n",
    "temp_b_df['n_share']=temp_b_df['n_users']/temp_b_df['n_total']\n",
    "temp_b_df"
   ]
  },
  {
   "cell_type": "markdown",
   "metadata": {},
   "source": [
    "***There is no visible oulier/anamoly condition ..***"
   ]
  },
  {
   "cell_type": "code",
   "execution_count": null,
   "metadata": {
    "scrolled": true
   },
   "outputs": [],
   "source": [
    "#group 'logs_c_df' dataset of the groups based on event_name\n",
    "temp_c_df=logs_c_df.groupby('event_name')['device_id_hash'].nunique().reset_index()\n",
    "temp_c_df=temp_c_df.rename(columns={'device_id_hash':'n_users'})\n",
    "temp_c_df['n_total']=logs_c_df['device_id_hash'].nunique()\n",
    "temp_c_df['n_share']=temp_c_df['n_users']/temp_c_df['n_total']\n",
    "temp_c_df"
   ]
  },
  {
   "cell_type": "markdown",
   "metadata": {},
   "source": [
    "***There is no visible oulier/anamoly condition ..All the 3 groups shows similar trends with very less difference ..***"
   ]
  },
  {
   "cell_type": "code",
   "execution_count": null,
   "metadata": {},
   "outputs": [],
   "source": [
    "#test the datasets proportion determine their proportions, and confirm that the groups see absolutely identical\n",
    "#versions of the product and share the same key metrics.\n",
    "alpha=0.05\n",
    "def test_proportions(success1,trial1,success2,trial2):\n",
    "    successes = np.array([success1,success2])\n",
    "    trials = np.array([trial1,trial2])\n",
    "\n",
    "# success proportion in the first group:\n",
    "    p1 = successes[0]/trials[0]\n",
    "\n",
    "# success proportion in the second group:\n",
    "    p2 = successes[1]/trials[1]\n",
    "\n",
    "# success proportion in the combined dataset:\n",
    "    p_combined = (successes[0] + successes[1]) / (trials[0] + trials[1])\n",
    "\n",
    "# the difference between the datasets' proportions\n",
    "    difference = p1 - p2 \n",
    "    \n",
    "#calculating the statistic in standard deviations of the standard normal distribution\n",
    "    z_value = difference / mth.sqrt(p_combined * (1 - p_combined) * (1/trials[0] + 1/trials[1]))\n",
    "\n",
    "# setting up the standard normal distribution (mean 0, standard deviation 1)\n",
    "    distr = st.norm(0, 1) \n",
    "\n",
    "    p_value = (1 - distr.cdf(abs(z_value))) * 2\n",
    "\n",
    "    print('p-value: ', p_value)\n",
    "\n",
    "    if (p_value < alpha):\n",
    "        print(\"Rejecting the null hypothesis: there is a significant difference between the proportions\")\n",
    "    else:\n",
    "        print(\"Failed to reject the null hypothesis: there is no reason to consider the proportions different\") "
   ]
  },
  {
   "cell_type": "code",
   "execution_count": null,
   "metadata": {},
   "outputs": [],
   "source": [
    "# test 2 control groups -temp_a_df and temp_b_df\n",
    "for i in range(0,5):\n",
    "    test_proportions(temp_a_df['n_users'][i],temp_a_df['n_total'][i],temp_b_df['n_users'][i],temp_b_df['n_total'][i])\n",
    "    "
   ]
  },
  {
   "cell_type": "code",
   "execution_count": null,
   "metadata": {},
   "outputs": [],
   "source": [
    "# test 2 groups -temp_a_df and temp_c_df\n",
    "for i in range(0,5):\n",
    "    test_proportions(temp_a_df['n_users'][i],temp_a_df['n_total'][i],temp_c_df['n_users'][i],temp_c_df['n_total'][i])\n",
    "    "
   ]
  },
  {
   "cell_type": "code",
   "execution_count": null,
   "metadata": {
    "scrolled": true
   },
   "outputs": [],
   "source": [
    "# test 2 groups -temp_b_df and temp_c_df\n",
    "for i in range(0,5):\n",
    "    test_proportions(temp_b_df['n_users'][i],temp_b_df['n_total'][i],temp_c_df['n_users'][i],temp_c_df['n_total'][i])\n",
    "    "
   ]
  },
  {
   "cell_type": "code",
   "execution_count": null,
   "metadata": {},
   "outputs": [],
   "source": [
    "#test control groups combined  246+247 and test group 248\n",
    "# test 2 groups -(temp_a_df+temp_b_df) and temp_c_df\n",
    "\n",
    "#getting a sample of 1242 rows from each control group and making a dataset with the sampled records(temp_a_df+temp_b_df)\n",
    "temp_a_df1=logs_a_df\n",
    "#take a sample of 2484 users with exp_id=246\n",
    "temp_a_df2=logs_a_df.groupby('device_id_hash').nunique().reset_index()\n",
    "temp_a_df2=temp_a_df2['device_id_hash'].sample(1242)\n",
    "temp_df=pd.DataFrame(temp_a_df2)\n",
    "temp_df.head(10)\n"
   ]
  },
  {
   "cell_type": "code",
   "execution_count": null,
   "metadata": {},
   "outputs": [],
   "source": [
    "temp_a_df1=temp_a_df1.merge(temp_df,on='device_id_hash')\n",
    "temp_a_df1.head(10)"
   ]
  },
  {
   "cell_type": "code",
   "execution_count": null,
   "metadata": {},
   "outputs": [],
   "source": [
    "temp_a_df1['device_id_hash'].nunique()"
   ]
  },
  {
   "cell_type": "code",
   "execution_count": null,
   "metadata": {},
   "outputs": [],
   "source": [
    "temp_b_df1=logs_b_df\n",
    "#take a sample of 2484 users with exp_id=247\n",
    "temp_b_df2=logs_b_df.groupby('device_id_hash').nunique().reset_index()\n",
    "temp_b_df2=temp_b_df2['device_id_hash'].sample(1242)\n",
    "temp_df1=pd.DataFrame(temp_b_df2)\n",
    "temp_df1\n",
    "temp_b_df1=temp_b_df1.merge(temp_df1,on='device_id_hash')\n",
    "temp_b_df1.head(10)"
   ]
  },
  {
   "cell_type": "code",
   "execution_count": null,
   "metadata": {},
   "outputs": [],
   "source": [
    "temp_b_df1['device_id_hash'].nunique()"
   ]
  },
  {
   "cell_type": "code",
   "execution_count": null,
   "metadata": {},
   "outputs": [],
   "source": [
    "#appending the records from control group b to group a and get combined group(temp_ab_combined_df)\n",
    "temp_ab_combined_df=temp_a_df1.append(temp_b_df1)\n",
    "temp_ab_combined_df.head(10)"
   ]
  },
  {
   "cell_type": "code",
   "execution_count": null,
   "metadata": {},
   "outputs": [],
   "source": [
    "temp_ab_combined_df1=temp_ab_combined_df.groupby('event_name')['device_id_hash'].nunique().reset_index()\n",
    "temp_ab_combined_df1=temp_ab_combined_df1.rename(columns={'device_id_hash':'n_users'})\n"
   ]
  },
  {
   "cell_type": "code",
   "execution_count": null,
   "metadata": {},
   "outputs": [],
   "source": [
    "#gettingn total users and share of users performing each event\n",
    "total_users=temp_ab_combined_df['device_id_hash'].nunique()\n",
    "temp_ab_combined_df1['n_total']=total_users\n",
    "temp_ab_combined_df1['n_share']=temp_ab_combined_df1['n_users']/temp_ab_combined_df1['n_total']\n",
    "temp_ab_combined_df1\n"
   ]
  },
  {
   "cell_type": "code",
   "execution_count": null,
   "metadata": {},
   "outputs": [],
   "source": [
    "#test control groups combined  246+247 and test group 248\n",
    "# test 2 groups -(temp_a_df+temp_b_df) and temp_c_df\n",
    "\n",
    "for i in range(0,5):\n",
    "     test_proportions(temp_ab_combined_df1['n_users'][i],temp_ab_combined_df1['n_total'][i],temp_c_df['n_users'][i],temp_c_df['n_total'][i])\n"
   ]
  },
  {
   "cell_type": "markdown",
   "metadata": {},
   "source": [
    "***We therefore conclude that group c and group formed by combining a and b also split correctly based on the above test  \n",
    "of proportion.***"
   ]
  },
  {
   "cell_type": "markdown",
   "metadata": {},
   "source": [
    "***Based on the test of proportions, we conclude that the groups were split properly.***"
   ]
  },
  {
   "cell_type": "code",
   "execution_count": null,
   "metadata": {},
   "outputs": [],
   "source": [
    "#function to Test if the 2 samples are staistically different\n",
    "def test_stat_difference(sample1,sample2):\n",
    "    results = st.ttest_ind(sample1,sample2)\n",
    "    print('p-value: ', results.pvalue)\n",
    "    if results.pvalue < alpha:\n",
    "        print(\"We reject the null hypothesis\")\n",
    "    else:\n",
    "        print(\"We can't reject the null hypothesis\")"
   ]
  },
  {
   "cell_type": "code",
   "execution_count": null,
   "metadata": {
    "scrolled": true
   },
   "outputs": [],
   "source": [
    "#testing the 2 control groups and the test groups for any difference\n",
    "test_stat_difference(temp_a_df['n_share'],temp_b_df['n_share'])\n",
    "test_stat_difference(temp_a_df['n_share'],temp_c_df['n_share'])\n",
    "test_stat_difference(temp_b_df['n_share'],temp_a_df['n_share'])"
   ]
  },
  {
   "cell_type": "markdown",
   "metadata": {},
   "source": [
    "***Based on the 'test_stat_difference' results , we see that all 3 samples doesn't have much difference .***"
   ]
  },
  {
   "cell_type": "markdown",
   "metadata": {},
   "source": [
    "***Lets compare if any change in trend with respect to each event per day in all the 3 groups..  \n",
    "Will go with cumulative user count here.***"
   ]
  },
  {
   "cell_type": "code",
   "execution_count": null,
   "metadata": {},
   "outputs": [],
   "source": [
    "#working with group a 'exp_id=246'\n",
    "cum_a_df= logs_a_df.groupby(['event_date','event_name']).agg({'device_id_hash':'nunique'}).reset_index()\n",
    "cum_a_df.head(5)\n"
   ]
  },
  {
   "cell_type": "code",
   "execution_count": null,
   "metadata": {},
   "outputs": [],
   "source": [
    "#getting cumulative number of users viewing main page \n",
    "cum_a_main_df=cum_a_df[cum_a_df['event_name']=='MainScreenAppear']\n",
    "cum_a_main_df['user_cum']=cum_a_main_df['device_id_hash'].cumsum()"
   ]
  },
  {
   "cell_type": "code",
   "execution_count": null,
   "metadata": {},
   "outputs": [],
   "source": [
    "cum_a_main_df"
   ]
  },
  {
   "cell_type": "code",
   "execution_count": null,
   "metadata": {},
   "outputs": [],
   "source": [
    "#getting cumulative number of users viewing Offers page \n",
    "cum_a_offers_df=cum_a_df[cum_a_df['event_name']=='OffersScreenAppear']\n",
    "cum_a_offers_df['user_cum']=cum_a_offers_df['device_id_hash'].cumsum()\n",
    "cum_a_offers_df"
   ]
  },
  {
   "cell_type": "code",
   "execution_count": null,
   "metadata": {},
   "outputs": [],
   "source": [
    "#getting cumulative number of users viewing cart page \n",
    "cum_a_cart_df=cum_a_df[cum_a_df['event_name']=='CartScreenAppear']\n",
    "cum_a_cart_df['user_cum']=cum_a_cart_df['device_id_hash'].cumsum()\n",
    "cum_a_cart_df"
   ]
  },
  {
   "cell_type": "code",
   "execution_count": null,
   "metadata": {},
   "outputs": [],
   "source": [
    "#getting cumulative number of users viewing payment page \n",
    "cum_a_payment_df=cum_a_df[cum_a_df['event_name']=='PaymentScreenSuccessful']\n",
    "cum_a_payment_df['user_cum']=cum_a_payment_df['device_id_hash'].cumsum()\n",
    "cum_a_payment_df"
   ]
  },
  {
   "cell_type": "code",
   "execution_count": null,
   "metadata": {},
   "outputs": [],
   "source": [
    "#getting cumulative number of users viewing each  page for group b -'exp_id=247'\n",
    "cum_b_df= logs_b_df.groupby(['event_date','event_name']).agg({'device_id_hash':'nunique'}).reset_index()\n",
    "cum_b_main_df=cum_b_df[cum_b_df['event_name']=='MainScreenAppear']\n",
    "cum_b_main_df['user_cum']=cum_b_main_df['device_id_hash'].cumsum()\n",
    "cum_b_offers_df=cum_b_df[cum_b_df['event_name']=='OffersScreenAppear']\n",
    "cum_b_offers_df['user_cum']=cum_b_offers_df['device_id_hash'].cumsum()\n",
    "cum_b_cart_df=cum_b_df[cum_b_df['event_name']=='CartScreenAppear']\n",
    "cum_b_cart_df['user_cum']=cum_b_cart_df['device_id_hash'].cumsum()\n",
    "cum_b_payment_df=cum_b_df[cum_b_df['event_name']=='PaymentScreenSuccessful']\n",
    "cum_b_payment_df['user_cum']=cum_b_payment_df['device_id_hash'].cumsum()\n"
   ]
  },
  {
   "cell_type": "code",
   "execution_count": null,
   "metadata": {},
   "outputs": [],
   "source": [
    "#getting cumulative number of users viewing each  page for group c-'exp_id=248'\n",
    "cum_c_df= logs_c_df.groupby(['event_date','event_name']).agg({'device_id_hash':'nunique'}).reset_index()\n",
    "cum_c_main_df=cum_c_df[cum_c_df['event_name']=='MainScreenAppear']\n",
    "cum_c_main_df['user_cum']=cum_c_main_df['device_id_hash'].cumsum()\n",
    "cum_c_offers_df=cum_c_df[cum_c_df['event_name']=='OffersScreenAppear']\n",
    "cum_c_offers_df['user_cum']=cum_c_offers_df['device_id_hash'].cumsum()\n",
    "cum_c_cart_df=cum_c_df[cum_c_df['event_name']=='CartScreenAppear']\n",
    "cum_c_cart_df['user_cum']=cum_c_cart_df['device_id_hash'].cumsum()\n",
    "cum_c_payment_df=cum_c_df[cum_c_df['event_name']=='PaymentScreenSuccessful']\n",
    "cum_c_payment_df['user_cum']=cum_c_payment_df['device_id_hash'].cumsum()"
   ]
  },
  {
   "cell_type": "code",
   "execution_count": null,
   "metadata": {},
   "outputs": [],
   "source": [
    "# Plotting the group A main screen viewers\n",
    "plt.plot(cum_a_main_df['event_date'], cum_a_main_df['user_cum'], label='A')\n",
    "# Plotting the group B main screen viewers\n",
    "plt.plot(cum_b_main_df['event_date'], cum_b_main_df['user_cum'], label='B')\n",
    "# Plotting the group C main screen viewers\n",
    "plt.plot(cum_c_main_df['event_date'], cum_c_main_df['user_cum'], label='C')\n",
    "\n",
    "plt.legend()\n",
    "plt.xticks(rotation=90)\n",
    "plt.xlabel('Date')\n",
    "plt.ylabel('Total users viewing MainScreen')\n",
    "plt.show()"
   ]
  },
  {
   "cell_type": "code",
   "execution_count": null,
   "metadata": {},
   "outputs": [],
   "source": [
    "# Plotting the group A offers screen viewers\n",
    "plt.plot(cum_a_offers_df['event_date'], cum_a_offers_df['user_cum'], label='A')\n",
    "# Plotting the group B offers screen viewers\n",
    "plt.plot(cum_b_offers_df['event_date'], cum_b_offers_df['user_cum'], label='B')\n",
    "# Plotting the group C offers screen viewers\n",
    "plt.plot(cum_c_offers_df['event_date'], cum_c_offers_df['user_cum'], label='C')\n",
    "\n",
    "plt.legend()\n",
    "plt.xticks(rotation=90)\n",
    "plt.xlabel('Date')\n",
    "plt.ylabel('Total users viewing Offers Screen')\n",
    "plt.show()"
   ]
  },
  {
   "cell_type": "code",
   "execution_count": null,
   "metadata": {},
   "outputs": [],
   "source": [
    "# Plotting the group A cart screen viewers\n",
    "plt.plot(cum_a_cart_df['event_date'], cum_a_cart_df['user_cum'], label='A')\n",
    "# Plotting the group B cart screen viewers\n",
    "plt.plot(cum_b_cart_df['event_date'], cum_b_cart_df['user_cum'], label='B')\n",
    "# Plotting the group C cart screen viewers\n",
    "plt.plot(cum_c_cart_df['event_date'], cum_c_cart_df['user_cum'], label='C')\n",
    "\n",
    "plt.legend()\n",
    "plt.xticks(rotation=90)\n",
    "plt.xlabel('Date')\n",
    "plt.ylabel('Total users viewing cart Screen')\n",
    "plt.show()"
   ]
  },
  {
   "cell_type": "code",
   "execution_count": null,
   "metadata": {},
   "outputs": [],
   "source": [
    "# Plotting the group A payment screen viewers\n",
    "plt.plot(cum_a_payment_df['event_date'], cum_a_payment_df['user_cum'], label='A')\n",
    "# Plotting the group B payment  screen viewers\n",
    "plt.plot(cum_b_payment_df['event_date'], cum_b_payment_df['user_cum'], label='B')\n",
    "# Plotting the group C payment  screen viewers\n",
    "plt.plot(cum_c_payment_df['event_date'], cum_c_payment_df['user_cum'], label='C')\n",
    "\n",
    "plt.legend()\n",
    "plt.xticks(rotation=90)\n",
    "plt.xlabel('Date')\n",
    "plt.ylabel('Total users viewing payment Screen')\n",
    "plt.show()"
   ]
  },
  {
   "cell_type": "markdown",
   "metadata": {},
   "source": [
    "***We don't see much difference in the groups based on the events.***"
   ]
  },
  {
   "cell_type": "markdown",
   "metadata": {},
   "source": [
    "<div id='end'/>"
   ]
  },
  {
   "cell_type": "markdown",
   "metadata": {},
   "source": [
    "## Final Conclusion"
   ]
  },
  {
   "cell_type": "markdown",
   "metadata": {},
   "source": [
    "***Based oon the given data we see that  \n",
    "1.Only 6% of the users viewing the Mainscreen finishes the sequence by doing payment.  \n",
    "2.'Tutorial' is the least performed action .So we continued analysis with the rest 4 events.  \n",
    "3.The number of user getting to next stage of the sequence gets reduced gradually from Main page  \n",
    "but gets down to 25% when going to payment page.\n",
    "4.Comparing eah group , we see that all 3 shows similar trend in tems of different events .  \n",
    "Since we have just a week data ,it's better to wait for few more days before concluding if the   \n",
    "change of fonts impacts the performance of the app.***"
   ]
  }
 ],
 "metadata": {
  "ExecuteTimeLog": [
   {
    "duration": 572,
    "start_time": "2022-03-16T17:25:28.959Z"
   },
   {
    "duration": 241,
    "start_time": "2022-03-16T17:26:07.599Z"
   },
   {
    "duration": 276,
    "start_time": "2022-03-16T17:26:16.564Z"
   },
   {
    "duration": 168,
    "start_time": "2022-03-16T17:26:47.903Z"
   },
   {
    "duration": 125,
    "start_time": "2022-03-16T17:27:15.770Z"
   },
   {
    "duration": 17,
    "start_time": "2022-03-16T17:27:50.365Z"
   },
   {
    "duration": 20,
    "start_time": "2022-03-16T17:31:12.458Z"
   },
   {
    "duration": 25,
    "start_time": "2022-03-16T17:35:54.452Z"
   },
   {
    "duration": 19,
    "start_time": "2022-03-16T17:37:46.581Z"
   },
   {
    "duration": 9,
    "start_time": "2022-03-16T17:38:39.794Z"
   },
   {
    "duration": 2659,
    "start_time": "2022-03-16T17:41:44.372Z"
   },
   {
    "duration": 21,
    "start_time": "2022-03-16T17:42:08.699Z"
   },
   {
    "duration": 104,
    "start_time": "2022-03-16T17:44:24.961Z"
   },
   {
    "duration": 37,
    "start_time": "2022-03-16T17:45:51.424Z"
   },
   {
    "duration": 130,
    "start_time": "2022-03-16T17:46:20.344Z"
   },
   {
    "duration": 80,
    "start_time": "2022-03-16T17:46:39.595Z"
   },
   {
    "duration": 9,
    "start_time": "2022-03-16T17:46:45.502Z"
   },
   {
    "duration": 8,
    "start_time": "2022-03-16T17:47:15.603Z"
   },
   {
    "duration": 3,
    "start_time": "2022-03-16T17:47:48.082Z"
   },
   {
    "duration": 19,
    "start_time": "2022-03-16T17:47:59.075Z"
   },
   {
    "duration": 16,
    "start_time": "2022-03-16T17:48:27.172Z"
   },
   {
    "duration": 2,
    "start_time": "2022-03-16T17:51:43.951Z"
   },
   {
    "duration": 99,
    "start_time": "2022-03-16T17:52:27.882Z"
   },
   {
    "duration": 108,
    "start_time": "2022-03-16T17:58:13.831Z"
   },
   {
    "duration": 89,
    "start_time": "2022-03-16T17:58:20.927Z"
   },
   {
    "duration": 7,
    "start_time": "2022-03-16T17:58:24.604Z"
   },
   {
    "duration": 4,
    "start_time": "2022-03-16T17:58:26.121Z"
   },
   {
    "duration": 19,
    "start_time": "2022-03-16T17:58:27.042Z"
   },
   {
    "duration": 11,
    "start_time": "2022-03-16T17:58:40.263Z"
   },
   {
    "duration": 83,
    "start_time": "2022-03-16T17:59:02.586Z"
   },
   {
    "duration": 7,
    "start_time": "2022-03-16T17:59:03.546Z"
   },
   {
    "duration": 4,
    "start_time": "2022-03-16T17:59:03.986Z"
   },
   {
    "duration": 18,
    "start_time": "2022-03-16T17:59:04.819Z"
   },
   {
    "duration": 82,
    "start_time": "2022-03-16T17:59:19.964Z"
   },
   {
    "duration": 7,
    "start_time": "2022-03-16T17:59:20.974Z"
   },
   {
    "duration": 4,
    "start_time": "2022-03-16T17:59:21.549Z"
   },
   {
    "duration": 18,
    "start_time": "2022-03-16T17:59:22.346Z"
   },
   {
    "duration": 11,
    "start_time": "2022-03-16T17:59:25.733Z"
   },
   {
    "duration": 87,
    "start_time": "2022-03-16T17:59:39.179Z"
   },
   {
    "duration": 7,
    "start_time": "2022-03-16T17:59:41.571Z"
   },
   {
    "duration": 4,
    "start_time": "2022-03-16T17:59:41.856Z"
   },
   {
    "duration": 17,
    "start_time": "2022-03-16T17:59:42.103Z"
   },
   {
    "duration": 14,
    "start_time": "2022-03-16T17:59:42.419Z"
   },
   {
    "duration": 25,
    "start_time": "2022-03-16T18:00:19.812Z"
   },
   {
    "duration": 33,
    "start_time": "2022-03-16T18:00:39.491Z"
   },
   {
    "duration": 6,
    "start_time": "2022-03-16T18:03:39.134Z"
   },
   {
    "duration": 7,
    "start_time": "2022-03-16T18:31:47.992Z"
   },
   {
    "duration": 33,
    "start_time": "2022-03-16T18:32:55.895Z"
   },
   {
    "duration": 22,
    "start_time": "2022-03-16T18:33:34.818Z"
   },
   {
    "duration": 3106,
    "start_time": "2022-03-16T18:33:56.271Z"
   },
   {
    "duration": 42,
    "start_time": "2022-03-16T18:34:21.531Z"
   },
   {
    "duration": 111,
    "start_time": "2022-03-16T18:35:09.168Z"
   },
   {
    "duration": 111,
    "start_time": "2022-03-16T18:35:21.226Z"
   },
   {
    "duration": 111,
    "start_time": "2022-03-16T18:35:38.683Z"
   },
   {
    "duration": 259,
    "start_time": "2022-03-16T18:37:56.571Z"
   },
   {
    "duration": 119,
    "start_time": "2022-03-16T18:38:08.733Z"
   },
   {
    "duration": 35,
    "start_time": "2022-03-16T18:43:29.893Z"
   },
   {
    "duration": 102,
    "start_time": "2022-03-16T18:43:45.348Z"
   },
   {
    "duration": 32,
    "start_time": "2022-03-16T18:44:07.004Z"
   },
   {
    "duration": 32,
    "start_time": "2022-03-16T18:45:29.120Z"
   },
   {
    "duration": 114,
    "start_time": "2022-03-16T18:49:28.936Z"
   },
   {
    "duration": 18,
    "start_time": "2022-03-16T18:49:36.206Z"
   },
   {
    "duration": 35,
    "start_time": "2022-03-16T18:50:07.743Z"
   },
   {
    "duration": 213,
    "start_time": "2022-03-16T18:50:24.686Z"
   },
   {
    "duration": 32,
    "start_time": "2022-03-16T18:50:37.640Z"
   },
   {
    "duration": 3,
    "start_time": "2022-03-16T18:50:51.518Z"
   },
   {
    "duration": 2,
    "start_time": "2022-03-16T18:50:55.620Z"
   },
   {
    "duration": 120,
    "start_time": "2022-03-16T18:50:56.437Z"
   },
   {
    "duration": 16,
    "start_time": "2022-03-16T18:50:57.370Z"
   },
   {
    "duration": 17,
    "start_time": "2022-03-16T18:50:57.749Z"
   },
   {
    "duration": 24,
    "start_time": "2022-03-16T18:50:58.126Z"
   },
   {
    "duration": 16,
    "start_time": "2022-03-16T18:50:58.675Z"
   },
   {
    "duration": 9,
    "start_time": "2022-03-16T18:50:58.961Z"
   },
   {
    "duration": 7,
    "start_time": "2022-03-16T18:50:59.478Z"
   },
   {
    "duration": 21,
    "start_time": "2022-03-16T18:50:59.788Z"
   },
   {
    "duration": 83,
    "start_time": "2022-03-16T18:51:00.152Z"
   },
   {
    "duration": 8,
    "start_time": "2022-03-16T18:51:00.411Z"
   },
   {
    "duration": 9,
    "start_time": "2022-03-16T18:51:00.674Z"
   },
   {
    "duration": 17,
    "start_time": "2022-03-16T18:51:00.916Z"
   },
   {
    "duration": 12,
    "start_time": "2022-03-16T18:51:01.211Z"
   },
   {
    "duration": 23,
    "start_time": "2022-03-16T18:51:01.515Z"
   },
   {
    "duration": 31,
    "start_time": "2022-03-16T18:51:01.808Z"
   },
   {
    "duration": 119,
    "start_time": "2022-03-16T18:51:02.925Z"
   },
   {
    "duration": 34,
    "start_time": "2022-03-16T18:51:03.222Z"
   },
   {
    "duration": 147,
    "start_time": "2022-03-16T18:51:03.513Z"
   },
   {
    "duration": 190,
    "start_time": "2022-03-16T18:51:12.512Z"
   },
   {
    "duration": 27,
    "start_time": "2022-03-16T18:51:35.033Z"
   },
   {
    "duration": 141,
    "start_time": "2022-03-16T18:52:05.590Z"
   },
   {
    "duration": 28,
    "start_time": "2022-03-16T18:52:19.286Z"
   },
   {
    "duration": 27,
    "start_time": "2022-03-16T18:53:22.024Z"
   },
   {
    "duration": 148,
    "start_time": "2022-03-16T18:53:40.216Z"
   },
   {
    "duration": 149,
    "start_time": "2022-03-16T18:53:56.686Z"
   },
   {
    "duration": 28,
    "start_time": "2022-03-16T18:54:02.083Z"
   },
   {
    "duration": 50,
    "start_time": "2022-03-16T18:56:52.050Z"
   },
   {
    "duration": 3403,
    "start_time": "2022-03-16T18:56:58.799Z"
   },
   {
    "duration": 43,
    "start_time": "2022-03-16T18:57:34.239Z"
   },
   {
    "duration": 52,
    "start_time": "2022-03-16T18:57:53.384Z"
   },
   {
    "duration": 189,
    "start_time": "2022-03-16T18:58:24.544Z"
   },
   {
    "duration": 136,
    "start_time": "2022-03-16T18:59:02.254Z"
   },
   {
    "duration": 23,
    "start_time": "2022-03-16T19:00:09.777Z"
   },
   {
    "duration": 32,
    "start_time": "2022-03-16T19:00:41.086Z"
   },
   {
    "duration": 192,
    "start_time": "2022-03-16T19:03:22.575Z"
   },
   {
    "duration": 157,
    "start_time": "2022-03-16T19:03:35.922Z"
   },
   {
    "duration": 4,
    "start_time": "2022-03-16T19:06:01.281Z"
   },
   {
    "duration": 14,
    "start_time": "2022-03-16T19:06:06.820Z"
   },
   {
    "duration": 4,
    "start_time": "2022-03-16T19:06:29.876Z"
   },
   {
    "duration": 15,
    "start_time": "2022-03-16T19:06:38.194Z"
   },
   {
    "duration": 262,
    "start_time": "2022-03-16T19:27:00.440Z"
   },
   {
    "duration": 264,
    "start_time": "2022-03-16T19:27:12.671Z"
   },
   {
    "duration": 227,
    "start_time": "2022-03-16T19:27:44.204Z"
   },
   {
    "duration": 103,
    "start_time": "2022-03-16T19:35:03.970Z"
   },
   {
    "duration": 252,
    "start_time": "2022-03-16T19:35:09.288Z"
   },
   {
    "duration": 5,
    "start_time": "2022-03-16T19:35:22.000Z"
   },
   {
    "duration": 4,
    "start_time": "2022-03-16T19:35:31.452Z"
   },
   {
    "duration": 128,
    "start_time": "2022-03-16T19:46:30.282Z"
   },
   {
    "duration": 14,
    "start_time": "2022-03-16T19:46:41.679Z"
   },
   {
    "duration": 4,
    "start_time": "2022-03-16T19:46:50.394Z"
   },
   {
    "duration": 4,
    "start_time": "2022-03-16T19:47:01.658Z"
   },
   {
    "duration": 3,
    "start_time": "2022-03-16T19:47:36.386Z"
   },
   {
    "duration": 4,
    "start_time": "2022-03-16T19:47:43.841Z"
   },
   {
    "duration": 4,
    "start_time": "2022-03-16T19:48:10.441Z"
   },
   {
    "duration": 4,
    "start_time": "2022-03-16T19:48:12.626Z"
   },
   {
    "duration": 106,
    "start_time": "2022-03-16T20:00:35.020Z"
   },
   {
    "duration": 44,
    "start_time": "2022-03-16T20:02:14.386Z"
   },
   {
    "duration": 58,
    "start_time": "2022-03-16T20:18:08.182Z"
   },
   {
    "duration": 99,
    "start_time": "2022-03-16T20:24:56.160Z"
   },
   {
    "duration": 26,
    "start_time": "2022-03-16T22:28:15.646Z"
   },
   {
    "duration": 16,
    "start_time": "2022-03-16T22:29:51.650Z"
   },
   {
    "duration": 101,
    "start_time": "2022-03-16T22:30:20.976Z"
   },
   {
    "duration": 15,
    "start_time": "2022-03-16T22:30:53.498Z"
   },
   {
    "duration": 221,
    "start_time": "2022-03-16T22:32:55.742Z"
   },
   {
    "duration": 44,
    "start_time": "2022-03-16T22:33:40.080Z"
   },
   {
    "duration": 3,
    "start_time": "2022-03-16T22:34:40.331Z"
   },
   {
    "duration": 125,
    "start_time": "2022-03-16T22:34:49.410Z"
   },
   {
    "duration": 166,
    "start_time": "2022-03-16T22:34:59.344Z"
   },
   {
    "duration": 120,
    "start_time": "2022-03-16T22:43:27.766Z"
   },
   {
    "duration": 2794,
    "start_time": "2022-03-16T22:43:55.116Z"
   },
   {
    "duration": 2946,
    "start_time": "2022-03-16T22:45:09.189Z"
   },
   {
    "duration": 2984,
    "start_time": "2022-03-16T22:48:42.523Z"
   },
   {
    "duration": 827,
    "start_time": "2022-03-17T13:47:00.870Z"
   },
   {
    "duration": 172,
    "start_time": "2022-03-17T13:47:01.699Z"
   },
   {
    "duration": 25,
    "start_time": "2022-03-17T13:47:01.874Z"
   },
   {
    "duration": 13,
    "start_time": "2022-03-17T13:47:02.570Z"
   },
   {
    "duration": 26,
    "start_time": "2022-03-17T13:47:03.017Z"
   },
   {
    "duration": 23,
    "start_time": "2022-03-17T13:47:09.065Z"
   },
   {
    "duration": 9,
    "start_time": "2022-03-17T13:47:10.200Z"
   },
   {
    "duration": 12,
    "start_time": "2022-03-17T13:47:10.708Z"
   },
   {
    "duration": 26,
    "start_time": "2022-03-17T13:47:11.288Z"
   },
   {
    "duration": 73,
    "start_time": "2022-03-17T13:47:11.900Z"
   },
   {
    "duration": 6,
    "start_time": "2022-03-17T13:47:12.433Z"
   },
   {
    "duration": 9,
    "start_time": "2022-03-17T13:47:13.207Z"
   },
   {
    "duration": 22,
    "start_time": "2022-03-17T13:47:13.619Z"
   },
   {
    "duration": 11,
    "start_time": "2022-03-17T13:47:14.385Z"
   },
   {
    "duration": 27,
    "start_time": "2022-03-17T13:47:15.105Z"
   },
   {
    "duration": 32,
    "start_time": "2022-03-17T13:47:15.610Z"
   },
   {
    "duration": 120,
    "start_time": "2022-03-17T13:47:16.613Z"
   },
   {
    "duration": 47,
    "start_time": "2022-03-17T13:47:17.271Z"
   },
   {
    "duration": 96,
    "start_time": "2022-03-17T13:47:17.888Z"
   },
   {
    "duration": 29,
    "start_time": "2022-03-17T13:47:18.618Z"
   },
   {
    "duration": 13,
    "start_time": "2022-03-17T13:47:19.258Z"
   },
   {
    "duration": 14,
    "start_time": "2022-03-17T13:47:19.897Z"
   },
   {
    "duration": 426,
    "start_time": "2022-03-17T13:47:20.990Z"
   },
   {
    "duration": 155,
    "start_time": "2022-03-17T13:48:02.403Z"
   },
   {
    "duration": 364,
    "start_time": "2022-03-17T13:57:28.428Z"
   },
   {
    "duration": 163,
    "start_time": "2022-03-17T13:57:35.039Z"
   },
   {
    "duration": 418,
    "start_time": "2022-03-17T14:01:15.398Z"
   },
   {
    "duration": 358,
    "start_time": "2022-03-17T14:01:18.068Z"
   },
   {
    "duration": 150,
    "start_time": "2022-03-17T14:01:28.538Z"
   },
   {
    "duration": 23,
    "start_time": "2022-03-17T14:06:06.310Z"
   },
   {
    "duration": 17,
    "start_time": "2022-03-17T14:06:24.782Z"
   },
   {
    "duration": 17,
    "start_time": "2022-03-17T14:06:59.477Z"
   },
   {
    "duration": 17,
    "start_time": "2022-03-17T14:07:46.089Z"
   },
   {
    "duration": 18,
    "start_time": "2022-03-17T14:08:06.397Z"
   },
   {
    "duration": 18,
    "start_time": "2022-03-17T14:08:20.777Z"
   },
   {
    "duration": 33,
    "start_time": "2022-03-17T14:25:45.666Z"
   },
   {
    "duration": 12,
    "start_time": "2022-03-17T14:26:04.737Z"
   },
   {
    "duration": 22,
    "start_time": "2022-03-17T14:26:35.490Z"
   },
   {
    "duration": 17,
    "start_time": "2022-03-17T14:27:16.370Z"
   },
   {
    "duration": 17,
    "start_time": "2022-03-17T14:27:17.341Z"
   },
   {
    "duration": 381,
    "start_time": "2022-03-17T14:28:52.653Z"
   },
   {
    "duration": 185,
    "start_time": "2022-03-17T14:29:08.753Z"
   },
   {
    "duration": 175,
    "start_time": "2022-03-17T14:29:19.844Z"
   },
   {
    "duration": 376,
    "start_time": "2022-03-17T14:29:46.135Z"
   },
   {
    "duration": 165,
    "start_time": "2022-03-17T14:29:48.265Z"
   },
   {
    "duration": 173,
    "start_time": "2022-03-17T14:29:54.990Z"
   },
   {
    "duration": 18,
    "start_time": "2022-03-17T14:30:50.846Z"
   },
   {
    "duration": 31,
    "start_time": "2022-03-17T14:30:59.534Z"
   },
   {
    "duration": 12,
    "start_time": "2022-03-17T14:31:00.169Z"
   },
   {
    "duration": 19,
    "start_time": "2022-03-17T14:31:04.303Z"
   },
   {
    "duration": 18,
    "start_time": "2022-03-17T14:31:05.116Z"
   },
   {
    "duration": 166,
    "start_time": "2022-03-17T14:31:05.918Z"
   },
   {
    "duration": 24,
    "start_time": "2022-03-17T14:31:35.518Z"
   },
   {
    "duration": 75,
    "start_time": "2022-03-17T14:32:01.422Z"
   },
   {
    "duration": 24,
    "start_time": "2022-03-17T14:32:13.940Z"
   },
   {
    "duration": 5,
    "start_time": "2022-03-17T14:33:34.617Z"
   },
   {
    "duration": 10,
    "start_time": "2022-03-17T14:37:11.047Z"
   },
   {
    "duration": 8,
    "start_time": "2022-03-17T14:37:49.292Z"
   },
   {
    "duration": 7,
    "start_time": "2022-03-17T16:46:42.725Z"
   },
   {
    "duration": 530,
    "start_time": "2022-03-17T16:47:41.119Z"
   },
   {
    "duration": 6,
    "start_time": "2022-03-17T16:48:45.119Z"
   },
   {
    "duration": 42,
    "start_time": "2022-03-17T16:49:44.368Z"
   },
   {
    "duration": 18,
    "start_time": "2022-03-17T16:49:58.854Z"
   },
   {
    "duration": 5,
    "start_time": "2022-03-17T16:50:20.449Z"
   },
   {
    "duration": 14,
    "start_time": "2022-03-17T16:50:21.229Z"
   },
   {
    "duration": 8,
    "start_time": "2022-03-17T16:50:42.004Z"
   },
   {
    "duration": 9,
    "start_time": "2022-03-17T16:50:56.211Z"
   },
   {
    "duration": 10,
    "start_time": "2022-03-17T16:51:46.373Z"
   },
   {
    "duration": 13,
    "start_time": "2022-03-17T16:51:57.343Z"
   },
   {
    "duration": 19,
    "start_time": "2022-03-17T16:54:02.046Z"
   },
   {
    "duration": 521,
    "start_time": "2022-03-17T17:00:53.836Z"
   },
   {
    "duration": 549,
    "start_time": "2022-03-17T17:01:04.685Z"
   },
   {
    "duration": 7,
    "start_time": "2022-03-17T17:01:23.271Z"
   },
   {
    "duration": 613,
    "start_time": "2022-03-17T17:01:38.770Z"
   },
   {
    "duration": 9,
    "start_time": "2022-03-17T17:09:16.621Z"
   },
   {
    "duration": 12,
    "start_time": "2022-03-17T17:09:29.609Z"
   },
   {
    "duration": 10,
    "start_time": "2022-03-17T17:09:38.183Z"
   },
   {
    "duration": 6,
    "start_time": "2022-03-17T17:09:44.987Z"
   },
   {
    "duration": 390,
    "start_time": "2022-03-17T17:09:53.069Z"
   },
   {
    "duration": 11,
    "start_time": "2022-03-17T17:10:17.152Z"
   },
   {
    "duration": 11,
    "start_time": "2022-03-17T17:10:37.573Z"
   },
   {
    "duration": 11,
    "start_time": "2022-03-17T17:10:46.703Z"
   },
   {
    "duration": 11,
    "start_time": "2022-03-17T17:11:27.297Z"
   },
   {
    "duration": 10,
    "start_time": "2022-03-17T17:12:43.329Z"
   },
   {
    "duration": 244,
    "start_time": "2022-03-17T17:12:55.993Z"
   },
   {
    "duration": 16,
    "start_time": "2022-03-17T17:13:23.749Z"
   },
   {
    "duration": 269,
    "start_time": "2022-03-17T17:13:41.341Z"
   },
   {
    "duration": 145,
    "start_time": "2022-03-17T17:21:52.278Z"
   },
   {
    "duration": 107,
    "start_time": "2022-03-17T17:22:15.643Z"
   },
   {
    "duration": 4,
    "start_time": "2022-03-17T17:22:40.272Z"
   },
   {
    "duration": 4,
    "start_time": "2022-03-17T17:22:53.730Z"
   },
   {
    "duration": 23,
    "start_time": "2022-03-17T17:24:26.650Z"
   },
   {
    "duration": 2324,
    "start_time": "2022-03-17T17:24:49.938Z"
   },
   {
    "duration": 17,
    "start_time": "2022-03-17T17:25:17.811Z"
   },
   {
    "duration": 17,
    "start_time": "2022-03-17T17:25:51.067Z"
   },
   {
    "duration": 27,
    "start_time": "2022-03-17T17:26:20.348Z"
   },
   {
    "duration": 15,
    "start_time": "2022-03-17T17:27:14.313Z"
   },
   {
    "duration": 16,
    "start_time": "2022-03-17T17:27:35.792Z"
   },
   {
    "duration": 14,
    "start_time": "2022-03-17T17:28:53.569Z"
   },
   {
    "duration": 14,
    "start_time": "2022-03-17T17:29:05.097Z"
   },
   {
    "duration": 12,
    "start_time": "2022-03-17T17:29:29.044Z"
   },
   {
    "duration": 8,
    "start_time": "2022-03-17T17:30:39.497Z"
   },
   {
    "duration": 113,
    "start_time": "2022-03-17T17:32:52.949Z"
   },
   {
    "duration": 11,
    "start_time": "2022-03-17T17:33:07.625Z"
   },
   {
    "duration": 11,
    "start_time": "2022-03-17T17:33:47.437Z"
   },
   {
    "duration": 3,
    "start_time": "2022-03-17T19:27:48.667Z"
   },
   {
    "duration": 479,
    "start_time": "2022-03-17T19:27:49.201Z"
   },
   {
    "duration": 20,
    "start_time": "2022-03-17T19:27:50.111Z"
   },
   {
    "duration": 10,
    "start_time": "2022-03-17T19:27:50.375Z"
   },
   {
    "duration": 25,
    "start_time": "2022-03-17T19:27:50.574Z"
   },
   {
    "duration": 23,
    "start_time": "2022-03-17T19:27:50.982Z"
   },
   {
    "duration": 10,
    "start_time": "2022-03-17T19:27:51.175Z"
   },
   {
    "duration": 11,
    "start_time": "2022-03-17T19:27:51.432Z"
   },
   {
    "duration": 24,
    "start_time": "2022-03-17T19:27:51.638Z"
   },
   {
    "duration": 72,
    "start_time": "2022-03-17T19:27:51.855Z"
   },
   {
    "duration": 8,
    "start_time": "2022-03-17T19:27:52.033Z"
   },
   {
    "duration": 8,
    "start_time": "2022-03-17T19:27:52.252Z"
   },
   {
    "duration": 25,
    "start_time": "2022-03-17T19:27:52.475Z"
   },
   {
    "duration": 12,
    "start_time": "2022-03-17T19:27:52.689Z"
   },
   {
    "duration": 25,
    "start_time": "2022-03-17T19:27:52.894Z"
   },
   {
    "duration": 31,
    "start_time": "2022-03-17T19:27:53.086Z"
   },
   {
    "duration": 112,
    "start_time": "2022-03-17T19:27:53.503Z"
   },
   {
    "duration": 45,
    "start_time": "2022-03-17T19:27:53.714Z"
   },
   {
    "duration": 89,
    "start_time": "2022-03-17T19:27:53.918Z"
   },
   {
    "duration": 26,
    "start_time": "2022-03-17T19:27:54.114Z"
   },
   {
    "duration": 14,
    "start_time": "2022-03-17T19:27:54.331Z"
   },
   {
    "duration": 14,
    "start_time": "2022-03-17T19:27:54.538Z"
   },
   {
    "duration": 351,
    "start_time": "2022-03-17T19:27:54.966Z"
   },
   {
    "duration": 169,
    "start_time": "2022-03-17T19:27:55.319Z"
   },
   {
    "duration": 16,
    "start_time": "2022-03-17T19:27:55.630Z"
   },
   {
    "duration": 29,
    "start_time": "2022-03-17T19:27:56.093Z"
   },
   {
    "duration": 11,
    "start_time": "2022-03-17T19:27:56.361Z"
   },
   {
    "duration": 18,
    "start_time": "2022-03-17T19:27:56.611Z"
   },
   {
    "duration": 17,
    "start_time": "2022-03-17T19:27:56.797Z"
   },
   {
    "duration": 162,
    "start_time": "2022-03-17T19:27:57.041Z"
   },
   {
    "duration": 23,
    "start_time": "2022-03-17T19:27:57.234Z"
   },
   {
    "duration": 23,
    "start_time": "2022-03-17T19:27:57.445Z"
   },
   {
    "duration": 4,
    "start_time": "2022-03-17T19:27:57.689Z"
   },
   {
    "duration": 7,
    "start_time": "2022-03-17T19:27:58.161Z"
   },
   {
    "duration": 11,
    "start_time": "2022-03-17T19:27:59.398Z"
   },
   {
    "duration": 1261,
    "start_time": "2022-03-17T19:28:00.399Z"
   },
   {
    "duration": 16,
    "start_time": "2022-03-17T19:28:01.662Z"
   },
   {
    "duration": 13,
    "start_time": "2022-03-17T19:28:01.680Z"
   },
   {
    "duration": 310,
    "start_time": "2022-03-17T20:23:14.999Z"
   },
   {
    "duration": 10,
    "start_time": "2022-03-17T20:23:40.576Z"
   },
   {
    "duration": 9,
    "start_time": "2022-03-17T20:23:46.236Z"
   },
   {
    "duration": 259,
    "start_time": "2022-03-17T20:23:49.348Z"
   },
   {
    "duration": 10,
    "start_time": "2022-03-17T20:24:20.929Z"
   },
   {
    "duration": 123,
    "start_time": "2022-03-17T20:25:33.664Z"
   },
   {
    "duration": 12,
    "start_time": "2022-03-17T20:25:44.027Z"
   },
   {
    "duration": 268,
    "start_time": "2022-03-17T20:25:48.595Z"
   },
   {
    "duration": 11,
    "start_time": "2022-03-17T20:26:58.372Z"
   },
   {
    "duration": 243,
    "start_time": "2022-03-17T20:27:11.285Z"
   },
   {
    "duration": 13,
    "start_time": "2022-03-17T20:27:56.472Z"
   },
   {
    "duration": 12,
    "start_time": "2022-03-17T20:27:56.854Z"
   },
   {
    "duration": 12,
    "start_time": "2022-03-17T20:27:57.331Z"
   },
   {
    "duration": 9,
    "start_time": "2022-03-17T20:27:57.817Z"
   },
   {
    "duration": 11,
    "start_time": "2022-03-17T20:27:58.668Z"
   },
   {
    "duration": 15,
    "start_time": "2022-03-17T20:31:13.066Z"
   },
   {
    "duration": 13,
    "start_time": "2022-03-17T20:31:14.153Z"
   },
   {
    "duration": 12,
    "start_time": "2022-03-17T20:31:14.632Z"
   },
   {
    "duration": 12,
    "start_time": "2022-03-17T20:31:15.262Z"
   },
   {
    "duration": 9,
    "start_time": "2022-03-17T20:31:40.735Z"
   },
   {
    "duration": 12,
    "start_time": "2022-03-17T20:33:11.920Z"
   },
   {
    "duration": 9,
    "start_time": "2022-03-17T20:33:20.897Z"
   },
   {
    "duration": 14,
    "start_time": "2022-03-17T20:33:29.945Z"
   },
   {
    "duration": 8,
    "start_time": "2022-03-17T20:34:40.780Z"
   },
   {
    "duration": 13,
    "start_time": "2022-03-17T20:34:51.058Z"
   },
   {
    "duration": 50,
    "start_time": "2022-03-17T20:35:47.298Z"
   },
   {
    "duration": 50,
    "start_time": "2022-03-17T20:35:53.416Z"
   },
   {
    "duration": 47,
    "start_time": "2022-03-17T20:36:29.661Z"
   },
   {
    "duration": 386,
    "start_time": "2022-03-17T20:38:54.593Z"
   },
   {
    "duration": 400,
    "start_time": "2022-03-17T20:39:37.093Z"
   },
   {
    "duration": 15,
    "start_time": "2022-03-17T20:45:43.384Z"
   },
   {
    "duration": 14,
    "start_time": "2022-03-17T20:45:55.389Z"
   },
   {
    "duration": 9,
    "start_time": "2022-03-17T20:46:06.359Z"
   },
   {
    "duration": 13,
    "start_time": "2022-03-17T20:46:12.239Z"
   },
   {
    "duration": 107,
    "start_time": "2022-03-17T20:48:33.011Z"
   },
   {
    "duration": 61,
    "start_time": "2022-03-17T20:49:41.407Z"
   },
   {
    "duration": 45,
    "start_time": "2022-03-17T20:50:05.486Z"
   },
   {
    "duration": 46,
    "start_time": "2022-03-17T20:50:49.032Z"
   },
   {
    "duration": 47,
    "start_time": "2022-03-17T20:51:03.689Z"
   },
   {
    "duration": 48,
    "start_time": "2022-03-17T20:51:47.022Z"
   },
   {
    "duration": 43,
    "start_time": "2022-03-17T20:56:21.694Z"
   },
   {
    "duration": 50,
    "start_time": "2022-03-17T20:56:34.707Z"
   },
   {
    "duration": 46,
    "start_time": "2022-03-17T20:56:43.339Z"
   },
   {
    "duration": 50,
    "start_time": "2022-03-17T20:57:03.666Z"
   },
   {
    "duration": 2202,
    "start_time": "2022-03-17T21:16:01.054Z"
   },
   {
    "duration": 9,
    "start_time": "2022-03-17T21:16:42.569Z"
   },
   {
    "duration": 45,
    "start_time": "2022-03-17T21:19:02.648Z"
   },
   {
    "duration": 44,
    "start_time": "2022-03-17T21:19:26.843Z"
   },
   {
    "duration": 7,
    "start_time": "2022-03-17T21:20:25.703Z"
   },
   {
    "duration": 4,
    "start_time": "2022-03-17T21:20:38.665Z"
   },
   {
    "duration": 9,
    "start_time": "2022-03-17T21:20:39.357Z"
   },
   {
    "duration": 45,
    "start_time": "2022-03-17T21:24:39.527Z"
   },
   {
    "duration": 53,
    "start_time": "2022-03-18T01:20:23.877Z"
   },
   {
    "duration": 1435,
    "start_time": "2022-03-18T01:20:34.003Z"
   },
   {
    "duration": 210,
    "start_time": "2022-03-18T01:20:35.440Z"
   },
   {
    "duration": 23,
    "start_time": "2022-03-18T01:20:35.652Z"
   },
   {
    "duration": 12,
    "start_time": "2022-03-18T01:20:35.677Z"
   },
   {
    "duration": 44,
    "start_time": "2022-03-18T01:20:35.691Z"
   },
   {
    "duration": 25,
    "start_time": "2022-03-18T01:20:36.128Z"
   },
   {
    "duration": 10,
    "start_time": "2022-03-18T01:20:36.418Z"
   },
   {
    "duration": 13,
    "start_time": "2022-03-18T01:20:36.891Z"
   },
   {
    "duration": 24,
    "start_time": "2022-03-18T01:20:37.178Z"
   },
   {
    "duration": 82,
    "start_time": "2022-03-18T01:20:37.516Z"
   },
   {
    "duration": 6,
    "start_time": "2022-03-18T01:20:37.849Z"
   },
   {
    "duration": 9,
    "start_time": "2022-03-18T01:20:38.152Z"
   },
   {
    "duration": 25,
    "start_time": "2022-03-18T01:20:38.450Z"
   },
   {
    "duration": 12,
    "start_time": "2022-03-18T01:20:38.768Z"
   },
   {
    "duration": 28,
    "start_time": "2022-03-18T01:20:39.034Z"
   },
   {
    "duration": 33,
    "start_time": "2022-03-18T01:20:39.253Z"
   },
   {
    "duration": 127,
    "start_time": "2022-03-18T01:20:39.773Z"
   },
   {
    "duration": 49,
    "start_time": "2022-03-18T01:20:40.037Z"
   },
   {
    "duration": 103,
    "start_time": "2022-03-18T01:20:40.243Z"
   },
   {
    "duration": 31,
    "start_time": "2022-03-18T01:20:40.480Z"
   },
   {
    "duration": 14,
    "start_time": "2022-03-18T01:20:41.076Z"
   },
   {
    "duration": 14,
    "start_time": "2022-03-18T01:20:44.911Z"
   },
   {
    "duration": 484,
    "start_time": "2022-03-18T01:20:45.538Z"
   },
   {
    "duration": 190,
    "start_time": "2022-03-18T01:20:46.024Z"
   },
   {
    "duration": 18,
    "start_time": "2022-03-18T01:20:46.439Z"
   },
   {
    "duration": 31,
    "start_time": "2022-03-18T01:20:48.940Z"
   },
   {
    "duration": 11,
    "start_time": "2022-03-18T01:20:49.415Z"
   },
   {
    "duration": 19,
    "start_time": "2022-03-18T01:20:49.675Z"
   },
   {
    "duration": 19,
    "start_time": "2022-03-18T01:20:51.975Z"
   },
   {
    "duration": 181,
    "start_time": "2022-03-18T01:20:52.233Z"
   },
   {
    "duration": 23,
    "start_time": "2022-03-18T01:20:52.476Z"
   },
   {
    "duration": 23,
    "start_time": "2022-03-18T01:20:52.722Z"
   },
   {
    "duration": 4,
    "start_time": "2022-03-18T01:20:52.968Z"
   },
   {
    "duration": 7,
    "start_time": "2022-03-18T01:20:53.630Z"
   },
   {
    "duration": 11,
    "start_time": "2022-03-18T01:20:53.885Z"
   },
   {
    "duration": 302,
    "start_time": "2022-03-18T01:20:54.163Z"
   },
   {
    "duration": 68,
    "start_time": "2022-03-18T01:20:54.467Z"
   },
   {
    "duration": 8,
    "start_time": "2022-03-18T01:20:54.972Z"
   },
   {
    "duration": 4,
    "start_time": "2022-03-18T01:20:55.268Z"
   },
   {
    "duration": 10,
    "start_time": "2022-03-18T01:20:55.457Z"
   },
   {
    "duration": 332,
    "start_time": "2022-03-18T01:20:56.444Z"
   },
   {
    "duration": 73,
    "start_time": "2022-03-18T01:20:56.779Z"
   },
   {
    "duration": 42,
    "start_time": "2022-03-18T01:20:58.486Z"
   },
   {
    "duration": 24,
    "start_time": "2022-03-18T01:20:59.045Z"
   },
   {
    "duration": 154,
    "start_time": "2022-03-18T01:20:59.317Z"
   },
   {
    "duration": 11,
    "start_time": "2022-03-18T01:20:59.812Z"
   },
   {
    "duration": 273,
    "start_time": "2022-03-18T01:21:00.081Z"
   },
   {
    "duration": 4,
    "start_time": "2022-03-18T01:21:00.356Z"
   },
   {
    "duration": 4,
    "start_time": "2022-03-18T01:21:00.614Z"
   },
   {
    "duration": 9,
    "start_time": "2022-03-18T01:21:01.225Z"
   },
   {
    "duration": 4,
    "start_time": "2022-03-18T01:21:01.513Z"
   },
   {
    "duration": 6,
    "start_time": "2022-03-18T01:21:01.754Z"
   },
   {
    "duration": 3,
    "start_time": "2022-03-18T01:21:02.549Z"
   },
   {
    "duration": 4,
    "start_time": "2022-03-18T01:21:02.814Z"
   },
   {
    "duration": 9,
    "start_time": "2022-03-18T01:28:08.133Z"
   },
   {
    "duration": 2,
    "start_time": "2022-03-18T01:28:09.291Z"
   },
   {
    "duration": 7,
    "start_time": "2022-03-18T01:28:10.679Z"
   },
   {
    "duration": 7,
    "start_time": "2022-03-18T01:28:26.336Z"
   },
   {
    "duration": 8,
    "start_time": "2022-03-18T01:28:27.865Z"
   },
   {
    "duration": 11,
    "start_time": "2022-03-18T01:28:37.325Z"
   },
   {
    "duration": 3,
    "start_time": "2022-03-18T01:28:58.382Z"
   },
   {
    "duration": 174,
    "start_time": "2022-03-18T01:28:58.921Z"
   },
   {
    "duration": 23,
    "start_time": "2022-03-18T01:29:00.292Z"
   },
   {
    "duration": 13,
    "start_time": "2022-03-18T01:29:01.171Z"
   },
   {
    "duration": 30,
    "start_time": "2022-03-18T01:29:01.636Z"
   },
   {
    "duration": 22,
    "start_time": "2022-03-18T01:29:02.416Z"
   },
   {
    "duration": 8,
    "start_time": "2022-03-18T01:29:02.701Z"
   },
   {
    "duration": 8,
    "start_time": "2022-03-18T01:29:02.975Z"
   },
   {
    "duration": 22,
    "start_time": "2022-03-18T01:29:03.274Z"
   },
   {
    "duration": 80,
    "start_time": "2022-03-18T01:29:03.928Z"
   },
   {
    "duration": 7,
    "start_time": "2022-03-18T01:29:04.296Z"
   },
   {
    "duration": 9,
    "start_time": "2022-03-18T01:29:04.602Z"
   },
   {
    "duration": 25,
    "start_time": "2022-03-18T01:29:05.159Z"
   },
   {
    "duration": 10,
    "start_time": "2022-03-18T01:29:05.532Z"
   },
   {
    "duration": 27,
    "start_time": "2022-03-18T01:29:05.826Z"
   },
   {
    "duration": 34,
    "start_time": "2022-03-18T01:29:06.062Z"
   },
   {
    "duration": 125,
    "start_time": "2022-03-18T01:29:06.607Z"
   },
   {
    "duration": 53,
    "start_time": "2022-03-18T01:29:06.900Z"
   },
   {
    "duration": 104,
    "start_time": "2022-03-18T01:29:07.200Z"
   },
   {
    "duration": 30,
    "start_time": "2022-03-18T01:29:07.443Z"
   },
   {
    "duration": 14,
    "start_time": "2022-03-18T01:29:08.450Z"
   },
   {
    "duration": 14,
    "start_time": "2022-03-18T01:29:08.807Z"
   },
   {
    "duration": 407,
    "start_time": "2022-03-18T01:29:09.488Z"
   },
   {
    "duration": 170,
    "start_time": "2022-03-18T01:29:10.008Z"
   },
   {
    "duration": 18,
    "start_time": "2022-03-18T01:29:10.583Z"
   },
   {
    "duration": 29,
    "start_time": "2022-03-18T01:29:11.165Z"
   },
   {
    "duration": 11,
    "start_time": "2022-03-18T01:29:11.452Z"
   },
   {
    "duration": 19,
    "start_time": "2022-03-18T01:29:11.788Z"
   },
   {
    "duration": 19,
    "start_time": "2022-03-18T01:29:12.146Z"
   },
   {
    "duration": 179,
    "start_time": "2022-03-18T01:29:12.945Z"
   },
   {
    "duration": 26,
    "start_time": "2022-03-18T01:29:13.477Z"
   },
   {
    "duration": 26,
    "start_time": "2022-03-18T01:29:13.867Z"
   },
   {
    "duration": 5,
    "start_time": "2022-03-18T01:29:15.097Z"
   },
   {
    "duration": 8,
    "start_time": "2022-03-18T01:29:15.664Z"
   },
   {
    "duration": 12,
    "start_time": "2022-03-18T01:29:15.986Z"
   },
   {
    "duration": 343,
    "start_time": "2022-03-18T01:29:17.092Z"
   },
   {
    "duration": 59,
    "start_time": "2022-03-18T01:29:17.494Z"
   },
   {
    "duration": 8,
    "start_time": "2022-03-18T01:29:18.397Z"
   },
   {
    "duration": 10,
    "start_time": "2022-03-18T01:29:21.126Z"
   },
   {
    "duration": 3,
    "start_time": "2022-03-18T01:29:22.303Z"
   },
   {
    "duration": 8,
    "start_time": "2022-03-18T01:29:26.004Z"
   },
   {
    "duration": 4,
    "start_time": "2022-03-18T01:29:32.752Z"
   },
   {
    "duration": 8,
    "start_time": "2022-03-18T01:29:58.305Z"
   },
   {
    "duration": 3,
    "start_time": "2022-03-18T01:31:05.412Z"
   },
   {
    "duration": 8,
    "start_time": "2022-03-18T01:31:15.936Z"
   },
   {
    "duration": 4,
    "start_time": "2022-03-18T01:32:09.053Z"
   },
   {
    "duration": 8,
    "start_time": "2022-03-18T01:32:10.917Z"
   },
   {
    "duration": 4,
    "start_time": "2022-03-18T01:32:53.135Z"
   },
   {
    "duration": 8,
    "start_time": "2022-03-18T01:32:54.263Z"
   },
   {
    "duration": 8,
    "start_time": "2022-03-18T01:34:41.715Z"
   },
   {
    "duration": 3,
    "start_time": "2022-03-18T01:34:44.548Z"
   },
   {
    "duration": 8,
    "start_time": "2022-03-18T01:34:45.400Z"
   },
   {
    "duration": 8,
    "start_time": "2022-03-18T01:34:51.459Z"
   },
   {
    "duration": 4,
    "start_time": "2022-03-18T01:34:58.006Z"
   },
   {
    "duration": 7,
    "start_time": "2022-03-18T01:34:58.993Z"
   },
   {
    "duration": 3,
    "start_time": "2022-03-18T01:36:40.371Z"
   },
   {
    "duration": 174,
    "start_time": "2022-03-18T01:36:41.540Z"
   },
   {
    "duration": 24,
    "start_time": "2022-03-18T01:36:42.374Z"
   },
   {
    "duration": 13,
    "start_time": "2022-03-18T01:36:42.783Z"
   },
   {
    "duration": 28,
    "start_time": "2022-03-18T01:36:43.684Z"
   },
   {
    "duration": 22,
    "start_time": "2022-03-18T01:36:45.060Z"
   },
   {
    "duration": 10,
    "start_time": "2022-03-18T01:36:45.385Z"
   },
   {
    "duration": 9,
    "start_time": "2022-03-18T01:36:45.702Z"
   },
   {
    "duration": 23,
    "start_time": "2022-03-18T01:36:45.980Z"
   },
   {
    "duration": 84,
    "start_time": "2022-03-18T01:36:46.245Z"
   },
   {
    "duration": 8,
    "start_time": "2022-03-18T01:36:46.515Z"
   },
   {
    "duration": 9,
    "start_time": "2022-03-18T01:36:46.757Z"
   },
   {
    "duration": 26,
    "start_time": "2022-03-18T01:36:46.986Z"
   },
   {
    "duration": 11,
    "start_time": "2022-03-18T01:36:47.261Z"
   },
   {
    "duration": 27,
    "start_time": "2022-03-18T01:36:47.543Z"
   },
   {
    "duration": 32,
    "start_time": "2022-03-18T01:36:47.852Z"
   },
   {
    "duration": 192,
    "start_time": "2022-03-18T01:36:48.487Z"
   },
   {
    "duration": 45,
    "start_time": "2022-03-18T01:36:49.003Z"
   },
   {
    "duration": 98,
    "start_time": "2022-03-18T01:36:49.252Z"
   },
   {
    "duration": 31,
    "start_time": "2022-03-18T01:36:49.484Z"
   },
   {
    "duration": 15,
    "start_time": "2022-03-18T01:36:49.990Z"
   },
   {
    "duration": 15,
    "start_time": "2022-03-18T01:36:50.250Z"
   },
   {
    "duration": 398,
    "start_time": "2022-03-18T01:36:50.840Z"
   },
   {
    "duration": 177,
    "start_time": "2022-03-18T01:36:51.240Z"
   },
   {
    "duration": 19,
    "start_time": "2022-03-18T01:36:51.659Z"
   },
   {
    "duration": 29,
    "start_time": "2022-03-18T01:36:53.112Z"
   },
   {
    "duration": 12,
    "start_time": "2022-03-18T01:36:53.591Z"
   },
   {
    "duration": 18,
    "start_time": "2022-03-18T01:36:54.004Z"
   },
   {
    "duration": 18,
    "start_time": "2022-03-18T01:36:54.366Z"
   },
   {
    "duration": 168,
    "start_time": "2022-03-18T01:36:54.686Z"
   },
   {
    "duration": 23,
    "start_time": "2022-03-18T01:36:54.943Z"
   },
   {
    "duration": 23,
    "start_time": "2022-03-18T01:36:55.251Z"
   },
   {
    "duration": 5,
    "start_time": "2022-03-18T01:36:55.516Z"
   },
   {
    "duration": 7,
    "start_time": "2022-03-18T01:36:56.100Z"
   },
   {
    "duration": 10,
    "start_time": "2022-03-18T01:36:56.657Z"
   },
   {
    "duration": 322,
    "start_time": "2022-03-18T01:36:56.965Z"
   },
   {
    "duration": 63,
    "start_time": "2022-03-18T01:36:57.290Z"
   },
   {
    "duration": 9,
    "start_time": "2022-03-18T01:36:58.501Z"
   },
   {
    "duration": 8,
    "start_time": "2022-03-18T01:36:59.702Z"
   },
   {
    "duration": 4,
    "start_time": "2022-03-18T01:37:00.509Z"
   },
   {
    "duration": 7,
    "start_time": "2022-03-18T01:37:01.071Z"
   },
   {
    "duration": 3,
    "start_time": "2022-03-18T01:37:01.613Z"
   },
   {
    "duration": 8,
    "start_time": "2022-03-18T01:37:05.608Z"
   },
   {
    "duration": 191,
    "start_time": "2022-03-18T01:37:07.742Z"
   },
   {
    "duration": 4,
    "start_time": "2022-03-18T01:37:45.888Z"
   },
   {
    "duration": 8,
    "start_time": "2022-03-18T01:37:47.080Z"
   },
   {
    "duration": 10,
    "start_time": "2022-03-18T01:38:01.879Z"
   },
   {
    "duration": 3,
    "start_time": "2022-03-18T01:38:11.563Z"
   },
   {
    "duration": 181,
    "start_time": "2022-03-18T01:38:12.063Z"
   },
   {
    "duration": 21,
    "start_time": "2022-03-18T01:38:12.710Z"
   },
   {
    "duration": 13,
    "start_time": "2022-03-18T01:38:12.993Z"
   },
   {
    "duration": 27,
    "start_time": "2022-03-18T01:38:13.256Z"
   },
   {
    "duration": 21,
    "start_time": "2022-03-18T01:38:13.791Z"
   },
   {
    "duration": 8,
    "start_time": "2022-03-18T01:38:14.053Z"
   },
   {
    "duration": 8,
    "start_time": "2022-03-18T01:38:14.315Z"
   },
   {
    "duration": 21,
    "start_time": "2022-03-18T01:38:14.582Z"
   },
   {
    "duration": 82,
    "start_time": "2022-03-18T01:38:14.839Z"
   },
   {
    "duration": 7,
    "start_time": "2022-03-18T01:38:15.077Z"
   },
   {
    "duration": 9,
    "start_time": "2022-03-18T01:38:15.316Z"
   },
   {
    "duration": 25,
    "start_time": "2022-03-18T01:38:15.560Z"
   },
   {
    "duration": 11,
    "start_time": "2022-03-18T01:38:15.804Z"
   },
   {
    "duration": 28,
    "start_time": "2022-03-18T01:38:16.069Z"
   },
   {
    "duration": 35,
    "start_time": "2022-03-18T01:38:16.279Z"
   },
   {
    "duration": 119,
    "start_time": "2022-03-18T01:38:17.506Z"
   },
   {
    "duration": 52,
    "start_time": "2022-03-18T01:38:17.627Z"
   },
   {
    "duration": 121,
    "start_time": "2022-03-18T01:38:17.681Z"
   },
   {
    "duration": 39,
    "start_time": "2022-03-18T01:38:17.804Z"
   },
   {
    "duration": 16,
    "start_time": "2022-03-18T01:38:17.846Z"
   },
   {
    "duration": 15,
    "start_time": "2022-03-18T01:38:17.930Z"
   },
   {
    "duration": 409,
    "start_time": "2022-03-18T01:38:18.376Z"
   },
   {
    "duration": 182,
    "start_time": "2022-03-18T01:38:18.788Z"
   },
   {
    "duration": 20,
    "start_time": "2022-03-18T01:38:19.200Z"
   },
   {
    "duration": 31,
    "start_time": "2022-03-18T01:38:19.661Z"
   },
   {
    "duration": 10,
    "start_time": "2022-03-18T01:38:19.895Z"
   },
   {
    "duration": 19,
    "start_time": "2022-03-18T01:38:20.113Z"
   },
   {
    "duration": 19,
    "start_time": "2022-03-18T01:38:20.326Z"
   },
   {
    "duration": 178,
    "start_time": "2022-03-18T01:38:20.549Z"
   },
   {
    "duration": 24,
    "start_time": "2022-03-18T01:38:20.761Z"
   },
   {
    "duration": 26,
    "start_time": "2022-03-18T01:38:20.986Z"
   },
   {
    "duration": 5,
    "start_time": "2022-03-18T01:38:21.719Z"
   },
   {
    "duration": 7,
    "start_time": "2022-03-18T01:38:22.340Z"
   },
   {
    "duration": 11,
    "start_time": "2022-03-18T01:38:22.928Z"
   },
   {
    "duration": 334,
    "start_time": "2022-03-18T01:38:23.193Z"
   },
   {
    "duration": 58,
    "start_time": "2022-03-18T01:38:23.529Z"
   },
   {
    "duration": 9,
    "start_time": "2022-03-18T01:38:25.213Z"
   },
   {
    "duration": 9,
    "start_time": "2022-03-18T01:38:32.270Z"
   },
   {
    "duration": 3,
    "start_time": "2022-03-18T01:38:35.629Z"
   },
   {
    "duration": 7,
    "start_time": "2022-03-18T01:38:36.495Z"
   },
   {
    "duration": 4,
    "start_time": "2022-03-18T01:38:41.083Z"
   },
   {
    "duration": 7,
    "start_time": "2022-03-18T01:38:41.838Z"
   },
   {
    "duration": 5,
    "start_time": "2022-03-18T01:39:09.674Z"
   },
   {
    "duration": 4,
    "start_time": "2022-03-18T01:39:19.792Z"
   },
   {
    "duration": 8,
    "start_time": "2022-03-18T01:39:23.415Z"
   },
   {
    "duration": 3407,
    "start_time": "2022-03-18T01:42:08.267Z"
   },
   {
    "duration": 47,
    "start_time": "2022-03-18T01:42:34.522Z"
   },
   {
    "duration": 9,
    "start_time": "2022-03-18T01:42:41.317Z"
   },
   {
    "duration": 3343,
    "start_time": "2022-03-18T01:42:59.985Z"
   },
   {
    "duration": 46,
    "start_time": "2022-03-18T01:43:51.496Z"
   },
   {
    "duration": 3,
    "start_time": "2022-03-18T01:44:04.562Z"
   },
   {
    "duration": 171,
    "start_time": "2022-03-18T01:44:04.840Z"
   },
   {
    "duration": 22,
    "start_time": "2022-03-18T01:44:05.381Z"
   },
   {
    "duration": 11,
    "start_time": "2022-03-18T01:44:05.609Z"
   },
   {
    "duration": 27,
    "start_time": "2022-03-18T01:44:05.871Z"
   },
   {
    "duration": 23,
    "start_time": "2022-03-18T01:44:06.301Z"
   },
   {
    "duration": 9,
    "start_time": "2022-03-18T01:44:06.524Z"
   },
   {
    "duration": 8,
    "start_time": "2022-03-18T01:44:06.758Z"
   },
   {
    "duration": 24,
    "start_time": "2022-03-18T01:44:06.973Z"
   },
   {
    "duration": 77,
    "start_time": "2022-03-18T01:44:07.222Z"
   },
   {
    "duration": 6,
    "start_time": "2022-03-18T01:44:07.438Z"
   },
   {
    "duration": 9,
    "start_time": "2022-03-18T01:44:07.661Z"
   },
   {
    "duration": 24,
    "start_time": "2022-03-18T01:44:07.889Z"
   },
   {
    "duration": 11,
    "start_time": "2022-03-18T01:44:08.128Z"
   },
   {
    "duration": 26,
    "start_time": "2022-03-18T01:44:08.343Z"
   },
   {
    "duration": 31,
    "start_time": "2022-03-18T01:44:08.554Z"
   },
   {
    "duration": 118,
    "start_time": "2022-03-18T01:44:09.494Z"
   },
   {
    "duration": 49,
    "start_time": "2022-03-18T01:44:09.692Z"
   },
   {
    "duration": 106,
    "start_time": "2022-03-18T01:44:09.933Z"
   },
   {
    "duration": 28,
    "start_time": "2022-03-18T01:44:10.142Z"
   },
   {
    "duration": 14,
    "start_time": "2022-03-18T01:44:10.405Z"
   },
   {
    "duration": 14,
    "start_time": "2022-03-18T01:44:10.650Z"
   },
   {
    "duration": 395,
    "start_time": "2022-03-18T01:44:11.651Z"
   },
   {
    "duration": 183,
    "start_time": "2022-03-18T01:44:12.047Z"
   },
   {
    "duration": 18,
    "start_time": "2022-03-18T01:44:12.490Z"
   },
   {
    "duration": 30,
    "start_time": "2022-03-18T01:44:12.926Z"
   },
   {
    "duration": 11,
    "start_time": "2022-03-18T01:44:13.486Z"
   },
   {
    "duration": 20,
    "start_time": "2022-03-18T01:44:13.781Z"
   },
   {
    "duration": 18,
    "start_time": "2022-03-18T01:44:14.477Z"
   },
   {
    "duration": 168,
    "start_time": "2022-03-18T01:44:15.180Z"
   },
   {
    "duration": 24,
    "start_time": "2022-03-18T01:44:16.131Z"
   },
   {
    "duration": 23,
    "start_time": "2022-03-18T01:44:17.599Z"
   },
   {
    "duration": 5,
    "start_time": "2022-03-18T01:44:17.624Z"
   },
   {
    "duration": 7,
    "start_time": "2022-03-18T01:44:17.757Z"
   },
   {
    "duration": 12,
    "start_time": "2022-03-18T01:44:18.591Z"
   },
   {
    "duration": 411,
    "start_time": "2022-03-18T01:44:18.926Z"
   },
   {
    "duration": 59,
    "start_time": "2022-03-18T01:44:20.038Z"
   },
   {
    "duration": 46,
    "start_time": "2022-03-18T01:44:29.214Z"
   },
   {
    "duration": 9,
    "start_time": "2022-03-18T01:44:35.148Z"
   },
   {
    "duration": 9,
    "start_time": "2022-03-18T01:44:36.859Z"
   },
   {
    "duration": 3,
    "start_time": "2022-03-18T01:44:37.811Z"
   },
   {
    "duration": 7,
    "start_time": "2022-03-18T01:44:41.701Z"
   },
   {
    "duration": 4,
    "start_time": "2022-03-18T01:44:43.684Z"
   },
   {
    "duration": 7,
    "start_time": "2022-03-18T01:44:44.606Z"
   },
   {
    "duration": 6,
    "start_time": "2022-03-18T01:44:45.658Z"
   },
   {
    "duration": 3,
    "start_time": "2022-03-18T01:44:46.581Z"
   },
   {
    "duration": 8,
    "start_time": "2022-03-18T01:44:50.261Z"
   },
   {
    "duration": 4,
    "start_time": "2022-03-18T01:44:53.414Z"
   },
   {
    "duration": 335,
    "start_time": "2022-03-18T01:44:58.148Z"
   },
   {
    "duration": 342,
    "start_time": "2022-03-18T01:45:19.578Z"
   },
   {
    "duration": 10,
    "start_time": "2022-03-18T01:45:31.893Z"
   },
   {
    "duration": 35,
    "start_time": "2022-03-18T01:49:40.504Z"
   },
   {
    "duration": 20,
    "start_time": "2022-03-18T01:50:08.100Z"
   },
   {
    "duration": 144,
    "start_time": "2022-03-18T01:50:33.878Z"
   },
   {
    "duration": 18,
    "start_time": "2022-03-18T01:51:32.272Z"
   },
   {
    "duration": 281,
    "start_time": "2022-03-18T01:51:45.028Z"
   },
   {
    "duration": 4,
    "start_time": "2022-03-18T01:52:09.856Z"
   },
   {
    "duration": 4,
    "start_time": "2022-03-18T01:52:10.686Z"
   },
   {
    "duration": 9,
    "start_time": "2022-03-18T01:52:13.393Z"
   },
   {
    "duration": 4,
    "start_time": "2022-03-18T01:52:17.587Z"
   },
   {
    "duration": 4,
    "start_time": "2022-03-18T01:52:19.777Z"
   },
   {
    "duration": 4,
    "start_time": "2022-03-18T01:52:23.051Z"
   },
   {
    "duration": 3,
    "start_time": "2022-03-18T01:52:24.147Z"
   },
   {
    "duration": 10,
    "start_time": "2022-03-18T01:58:45.612Z"
   },
   {
    "duration": 819,
    "start_time": "2022-03-18T01:59:00.504Z"
   },
   {
    "duration": 235,
    "start_time": "2022-03-18T01:59:18.431Z"
   },
   {
    "duration": 832,
    "start_time": "2022-03-18T02:00:51.658Z"
   },
   {
    "duration": 9,
    "start_time": "2022-03-18T02:01:24.110Z"
   },
   {
    "duration": 8,
    "start_time": "2022-03-18T02:03:37.368Z"
   },
   {
    "duration": 8,
    "start_time": "2022-03-18T02:04:10.424Z"
   },
   {
    "duration": 2,
    "start_time": "2022-03-18T02:08:42.241Z"
   },
   {
    "duration": 4,
    "start_time": "2022-03-18T02:08:54.469Z"
   },
   {
    "duration": 4,
    "start_time": "2022-03-18T02:09:41.248Z"
   },
   {
    "duration": 4,
    "start_time": "2022-03-18T02:12:04.690Z"
   },
   {
    "duration": 4,
    "start_time": "2022-03-18T02:15:24.364Z"
   },
   {
    "duration": 7,
    "start_time": "2022-03-18T02:19:35.639Z"
   },
   {
    "duration": 19,
    "start_time": "2022-03-18T02:26:45.568Z"
   },
   {
    "duration": 11,
    "start_time": "2022-03-18T02:27:40.956Z"
   },
   {
    "duration": 29,
    "start_time": "2022-03-18T02:27:51.475Z"
   },
   {
    "duration": 28,
    "start_time": "2022-03-18T02:28:56.803Z"
   },
   {
    "duration": 34,
    "start_time": "2022-03-18T02:30:45.037Z"
   },
   {
    "duration": 19,
    "start_time": "2022-03-18T02:30:56.430Z"
   },
   {
    "duration": 10,
    "start_time": "2022-03-18T02:31:28.574Z"
   },
   {
    "duration": 7,
    "start_time": "2022-03-18T02:32:08.964Z"
   },
   {
    "duration": 22,
    "start_time": "2022-03-18T02:33:01.686Z"
   },
   {
    "duration": 31,
    "start_time": "2022-03-18T02:33:03.103Z"
   },
   {
    "duration": 24,
    "start_time": "2022-03-18T02:33:04.052Z"
   },
   {
    "duration": 8,
    "start_time": "2022-03-18T02:33:04.891Z"
   },
   {
    "duration": 40,
    "start_time": "2022-03-18T02:35:01.636Z"
   },
   {
    "duration": 34,
    "start_time": "2022-03-18T02:35:03.364Z"
   },
   {
    "duration": 170,
    "start_time": "2022-03-18T02:35:10.203Z"
   },
   {
    "duration": 31,
    "start_time": "2022-03-18T02:35:16.939Z"
   },
   {
    "duration": 4,
    "start_time": "2022-03-18T02:35:42.611Z"
   },
   {
    "duration": 3,
    "start_time": "2022-03-18T02:38:03.421Z"
   },
   {
    "duration": 4,
    "start_time": "2022-03-18T02:38:37.357Z"
   },
   {
    "duration": 4,
    "start_time": "2022-03-18T02:38:39.315Z"
   },
   {
    "duration": 10,
    "start_time": "2022-03-18T02:38:51.596Z"
   },
   {
    "duration": 337,
    "start_time": "2022-03-18T02:38:57.330Z"
   },
   {
    "duration": 62,
    "start_time": "2022-03-18T02:39:04.916Z"
   },
   {
    "duration": 8,
    "start_time": "2022-03-18T02:39:53.626Z"
   },
   {
    "duration": 9,
    "start_time": "2022-03-18T02:40:03.554Z"
   },
   {
    "duration": 3,
    "start_time": "2022-03-18T02:40:07.703Z"
   },
   {
    "duration": 8,
    "start_time": "2022-03-18T02:40:08.540Z"
   },
   {
    "duration": 3,
    "start_time": "2022-03-18T02:40:09.523Z"
   },
   {
    "duration": 4,
    "start_time": "2022-03-18T02:40:41.649Z"
   },
   {
    "duration": 9,
    "start_time": "2022-03-18T02:40:42.450Z"
   },
   {
    "duration": 4,
    "start_time": "2022-03-18T02:40:46.682Z"
   },
   {
    "duration": 4,
    "start_time": "2022-03-18T02:40:47.610Z"
   },
   {
    "duration": 7,
    "start_time": "2022-03-18T02:40:49.587Z"
   },
   {
    "duration": 4,
    "start_time": "2022-03-18T02:40:54.288Z"
   },
   {
    "duration": 329,
    "start_time": "2022-03-18T02:41:00.551Z"
   },
   {
    "duration": 8,
    "start_time": "2022-03-18T02:41:01.722Z"
   },
   {
    "duration": 54,
    "start_time": "2022-03-18T02:41:11.765Z"
   },
   {
    "duration": 22,
    "start_time": "2022-03-18T02:41:16.772Z"
   },
   {
    "duration": 194,
    "start_time": "2022-03-18T02:41:22.734Z"
   },
   {
    "duration": 28,
    "start_time": "2022-03-18T02:41:27.691Z"
   },
   {
    "duration": 275,
    "start_time": "2022-03-18T02:41:33.099Z"
   },
   {
    "duration": 5,
    "start_time": "2022-03-18T02:41:38.195Z"
   },
   {
    "duration": 3,
    "start_time": "2022-03-18T02:41:39.057Z"
   },
   {
    "duration": 9,
    "start_time": "2022-03-18T02:41:40.017Z"
   },
   {
    "duration": 3,
    "start_time": "2022-03-18T02:41:40.929Z"
   },
   {
    "duration": 4,
    "start_time": "2022-03-18T02:41:41.771Z"
   },
   {
    "duration": 3,
    "start_time": "2022-03-18T02:41:42.588Z"
   },
   {
    "duration": 3,
    "start_time": "2022-03-18T02:41:43.552Z"
   },
   {
    "duration": 9,
    "start_time": "2022-03-18T02:41:44.891Z"
   },
   {
    "duration": 4,
    "start_time": "2022-03-18T02:42:05.986Z"
   },
   {
    "duration": 4,
    "start_time": "2022-03-18T02:42:21.342Z"
   },
   {
    "duration": 4,
    "start_time": "2022-03-18T02:42:38.076Z"
   },
   {
    "duration": 4,
    "start_time": "2022-03-18T02:42:51.658Z"
   },
   {
    "duration": 12,
    "start_time": "2022-03-18T02:47:33.660Z"
   },
   {
    "duration": 13,
    "start_time": "2022-03-18T02:47:44.121Z"
   },
   {
    "duration": 12,
    "start_time": "2022-03-18T02:48:05.406Z"
   },
   {
    "duration": 13,
    "start_time": "2022-03-18T02:48:16.258Z"
   },
   {
    "duration": 21,
    "start_time": "2022-03-18T03:01:01.908Z"
   },
   {
    "duration": 3264,
    "start_time": "2022-03-18T03:03:54.717Z"
   },
   {
    "duration": 58,
    "start_time": "2022-03-18T03:08:09.674Z"
   },
   {
    "duration": 52,
    "start_time": "2022-03-18T03:10:29.699Z"
   },
   {
    "duration": 59,
    "start_time": "2022-03-18T03:10:42.519Z"
   },
   {
    "duration": 6,
    "start_time": "2022-03-18T03:16:13.600Z"
   },
   {
    "duration": 5,
    "start_time": "2022-03-18T03:16:21.649Z"
   },
   {
    "duration": 17,
    "start_time": "2022-03-18T03:17:06.177Z"
   },
   {
    "duration": 38,
    "start_time": "2022-03-18T03:17:17.098Z"
   },
   {
    "duration": 3446,
    "start_time": "2022-03-18T03:19:39.614Z"
   },
   {
    "duration": 79,
    "start_time": "2022-03-18T03:19:43.243Z"
   },
   {
    "duration": 172,
    "start_time": "2022-03-18T03:20:12.660Z"
   },
   {
    "duration": 6,
    "start_time": "2022-03-18T03:20:19.081Z"
   },
   {
    "duration": 154,
    "start_time": "2022-03-18T03:20:19.089Z"
   },
   {
    "duration": 3,
    "start_time": "2022-03-18T03:21:22.358Z"
   },
   {
    "duration": 173,
    "start_time": "2022-03-18T03:21:22.687Z"
   },
   {
    "duration": 22,
    "start_time": "2022-03-18T03:21:23.287Z"
   },
   {
    "duration": 11,
    "start_time": "2022-03-18T03:21:23.574Z"
   },
   {
    "duration": 26,
    "start_time": "2022-03-18T03:21:23.872Z"
   },
   {
    "duration": 20,
    "start_time": "2022-03-18T03:21:24.384Z"
   },
   {
    "duration": 9,
    "start_time": "2022-03-18T03:21:24.630Z"
   },
   {
    "duration": 8,
    "start_time": "2022-03-18T03:21:24.866Z"
   },
   {
    "duration": 21,
    "start_time": "2022-03-18T03:21:25.082Z"
   },
   {
    "duration": 74,
    "start_time": "2022-03-18T03:21:25.304Z"
   },
   {
    "duration": 7,
    "start_time": "2022-03-18T03:21:25.512Z"
   },
   {
    "duration": 8,
    "start_time": "2022-03-18T03:21:25.777Z"
   },
   {
    "duration": 24,
    "start_time": "2022-03-18T03:21:25.976Z"
   },
   {
    "duration": 10,
    "start_time": "2022-03-18T03:21:26.235Z"
   },
   {
    "duration": 23,
    "start_time": "2022-03-18T03:21:26.437Z"
   },
   {
    "duration": 32,
    "start_time": "2022-03-18T03:21:26.660Z"
   },
   {
    "duration": 118,
    "start_time": "2022-03-18T03:21:27.128Z"
   },
   {
    "duration": 46,
    "start_time": "2022-03-18T03:21:27.384Z"
   },
   {
    "duration": 92,
    "start_time": "2022-03-18T03:21:27.601Z"
   },
   {
    "duration": 28,
    "start_time": "2022-03-18T03:21:27.866Z"
   },
   {
    "duration": 14,
    "start_time": "2022-03-18T03:21:28.047Z"
   },
   {
    "duration": 16,
    "start_time": "2022-03-18T03:21:28.678Z"
   },
   {
    "duration": 382,
    "start_time": "2022-03-18T03:21:29.108Z"
   },
   {
    "duration": 169,
    "start_time": "2022-03-18T03:21:29.733Z"
   },
   {
    "duration": 19,
    "start_time": "2022-03-18T03:21:30.254Z"
   },
   {
    "duration": 30,
    "start_time": "2022-03-18T03:21:31.082Z"
   },
   {
    "duration": 12,
    "start_time": "2022-03-18T03:21:31.800Z"
   },
   {
    "duration": 7,
    "start_time": "2022-03-18T03:21:32.086Z"
   },
   {
    "duration": 13,
    "start_time": "2022-03-18T03:21:37.056Z"
   },
   {
    "duration": 13,
    "start_time": "2022-03-18T03:21:37.565Z"
   },
   {
    "duration": 14,
    "start_time": "2022-03-18T03:21:38.056Z"
   },
   {
    "duration": 3,
    "start_time": "2022-03-18T03:21:39.784Z"
   },
   {
    "duration": 21,
    "start_time": "2022-03-18T03:21:41.328Z"
   },
   {
    "duration": 6,
    "start_time": "2022-03-18T03:21:46.971Z"
   },
   {
    "duration": 56,
    "start_time": "2022-03-18T03:21:49.249Z"
   },
   {
    "duration": 56,
    "start_time": "2022-03-18T03:23:27.607Z"
   },
   {
    "duration": 28,
    "start_time": "2022-03-18T03:23:47.551Z"
   },
   {
    "duration": 183,
    "start_time": "2022-03-18T03:24:47.795Z"
   },
   {
    "duration": 194,
    "start_time": "2022-03-18T03:25:04.147Z"
   },
   {
    "duration": 21,
    "start_time": "2022-03-18T03:25:22.961Z"
   },
   {
    "duration": 15,
    "start_time": "2022-03-18T03:26:03.521Z"
   },
   {
    "duration": 5,
    "start_time": "2022-03-18T03:27:38.868Z"
   },
   {
    "duration": 4,
    "start_time": "2022-03-18T03:27:54.427Z"
   },
   {
    "duration": 22,
    "start_time": "2022-03-18T03:29:46.240Z"
   },
   {
    "duration": 63,
    "start_time": "2022-03-18T03:29:51.790Z"
   },
   {
    "duration": 4,
    "start_time": "2022-03-18T03:30:28.568Z"
   },
   {
    "duration": 22,
    "start_time": "2022-03-18T03:30:29.977Z"
   },
   {
    "duration": 67,
    "start_time": "2022-03-18T03:30:36.813Z"
   },
   {
    "duration": 12,
    "start_time": "2022-03-18T03:31:39.543Z"
   },
   {
    "duration": 11,
    "start_time": "2022-03-18T03:32:03.834Z"
   },
   {
    "duration": 29,
    "start_time": "2022-03-18T03:33:47.903Z"
   },
   {
    "duration": 6,
    "start_time": "2022-03-18T03:34:12.494Z"
   },
   {
    "duration": 6,
    "start_time": "2022-03-18T03:34:31.519Z"
   },
   {
    "duration": 30,
    "start_time": "2022-03-18T03:35:12.844Z"
   },
   {
    "duration": 8,
    "start_time": "2022-03-18T03:35:16.187Z"
   },
   {
    "duration": 78,
    "start_time": "2022-03-18T03:35:16.871Z"
   },
   {
    "duration": 27,
    "start_time": "2022-03-18T03:35:17.793Z"
   },
   {
    "duration": 17,
    "start_time": "2022-03-18T03:35:18.302Z"
   },
   {
    "duration": 5,
    "start_time": "2022-03-18T03:35:18.822Z"
   },
   {
    "duration": 22,
    "start_time": "2022-03-18T03:35:21.616Z"
   },
   {
    "duration": 67,
    "start_time": "2022-03-18T03:35:22.437Z"
   },
   {
    "duration": 31,
    "start_time": "2022-03-18T03:35:23.260Z"
   },
   {
    "duration": 7,
    "start_time": "2022-03-18T03:35:24.207Z"
   },
   {
    "duration": 26,
    "start_time": "2022-03-18T03:36:23.000Z"
   },
   {
    "duration": 11,
    "start_time": "2022-03-18T03:38:42.468Z"
   },
   {
    "duration": 23,
    "start_time": "2022-03-18T03:38:57.886Z"
   },
   {
    "duration": 6,
    "start_time": "2022-03-18T03:39:27.387Z"
   },
   {
    "duration": 18,
    "start_time": "2022-03-18T03:39:31.771Z"
   },
   {
    "duration": 33,
    "start_time": "2022-03-18T03:39:44.701Z"
   },
   {
    "duration": 16,
    "start_time": "2022-03-18T03:41:36.274Z"
   },
   {
    "duration": 12,
    "start_time": "2022-03-18T03:41:54.837Z"
   },
   {
    "duration": 14,
    "start_time": "2022-03-18T03:42:04.063Z"
   },
   {
    "duration": 93,
    "start_time": "2022-03-18T03:42:38.728Z"
   },
   {
    "duration": 84,
    "start_time": "2022-03-18T03:44:21.359Z"
   },
   {
    "duration": 96,
    "start_time": "2022-03-18T03:45:14.540Z"
   },
   {
    "duration": 17,
    "start_time": "2022-03-18T03:45:35.221Z"
   },
   {
    "duration": 11,
    "start_time": "2022-03-18T03:45:54.750Z"
   },
   {
    "duration": 12,
    "start_time": "2022-03-18T03:46:07.796Z"
   },
   {
    "duration": 13,
    "start_time": "2022-03-18T03:46:18.523Z"
   },
   {
    "duration": 5,
    "start_time": "2022-03-18T03:46:44.015Z"
   },
   {
    "duration": 8,
    "start_time": "2022-03-18T03:46:46.038Z"
   },
   {
    "duration": 11,
    "start_time": "2022-03-18T03:47:12.101Z"
   },
   {
    "duration": 13,
    "start_time": "2022-03-18T03:47:37.389Z"
   },
   {
    "duration": 13,
    "start_time": "2022-03-18T03:47:44.325Z"
   },
   {
    "duration": 12,
    "start_time": "2022-03-18T03:47:58.190Z"
   },
   {
    "duration": 13,
    "start_time": "2022-03-18T03:48:04.289Z"
   },
   {
    "duration": 12,
    "start_time": "2022-03-18T03:48:10.826Z"
   },
   {
    "duration": 12,
    "start_time": "2022-03-18T03:48:16.556Z"
   },
   {
    "duration": 16,
    "start_time": "2022-03-18T03:48:33.761Z"
   },
   {
    "duration": 27,
    "start_time": "2022-03-18T03:48:38.932Z"
   },
   {
    "duration": 30,
    "start_time": "2022-03-18T03:49:06.061Z"
   },
   {
    "duration": 164,
    "start_time": "2022-03-18T03:49:08.962Z"
   },
   {
    "duration": 30,
    "start_time": "2022-03-18T03:49:20.788Z"
   },
   {
    "duration": 23,
    "start_time": "2022-03-18T03:49:27.340Z"
   },
   {
    "duration": 4,
    "start_time": "2022-03-18T03:49:31.426Z"
   },
   {
    "duration": 4,
    "start_time": "2022-03-18T03:49:35.775Z"
   },
   {
    "duration": 11,
    "start_time": "2022-03-18T03:49:45.229Z"
   },
   {
    "duration": 297,
    "start_time": "2022-03-18T03:49:46.236Z"
   },
   {
    "duration": 37,
    "start_time": "2022-03-18T03:49:48.820Z"
   },
   {
    "duration": 8,
    "start_time": "2022-03-18T03:49:51.023Z"
   },
   {
    "duration": 8,
    "start_time": "2022-03-18T03:49:57.337Z"
   },
   {
    "duration": 3,
    "start_time": "2022-03-18T03:49:58.236Z"
   },
   {
    "duration": 7,
    "start_time": "2022-03-18T03:49:59.267Z"
   },
   {
    "duration": 4,
    "start_time": "2022-03-18T03:50:00.132Z"
   },
   {
    "duration": 8,
    "start_time": "2022-03-18T03:50:00.887Z"
   },
   {
    "duration": 5,
    "start_time": "2022-03-18T03:50:01.721Z"
   },
   {
    "duration": 4,
    "start_time": "2022-03-18T03:50:02.463Z"
   },
   {
    "duration": 8,
    "start_time": "2022-03-18T03:50:03.094Z"
   },
   {
    "duration": 4,
    "start_time": "2022-03-18T03:50:03.684Z"
   },
   {
    "duration": 304,
    "start_time": "2022-03-18T03:50:04.119Z"
   },
   {
    "duration": 9,
    "start_time": "2022-03-18T03:50:04.755Z"
   },
   {
    "duration": 43,
    "start_time": "2022-03-18T03:50:05.396Z"
   },
   {
    "duration": 22,
    "start_time": "2022-03-18T03:50:06.028Z"
   },
   {
    "duration": 179,
    "start_time": "2022-03-18T03:50:06.476Z"
   },
   {
    "duration": 24,
    "start_time": "2022-03-18T03:50:06.851Z"
   },
   {
    "duration": 259,
    "start_time": "2022-03-18T03:50:07.248Z"
   },
   {
    "duration": 5,
    "start_time": "2022-03-18T03:50:07.578Z"
   },
   {
    "duration": 4,
    "start_time": "2022-03-18T03:50:07.897Z"
   },
   {
    "duration": 8,
    "start_time": "2022-03-18T03:50:08.232Z"
   },
   {
    "duration": 3,
    "start_time": "2022-03-18T03:50:08.538Z"
   },
   {
    "duration": 4,
    "start_time": "2022-03-18T03:50:08.890Z"
   },
   {
    "duration": 3,
    "start_time": "2022-03-18T03:50:09.910Z"
   },
   {
    "duration": 4,
    "start_time": "2022-03-18T03:50:10.826Z"
   },
   {
    "duration": 8,
    "start_time": "2022-03-18T03:50:13.980Z"
   },
   {
    "duration": 3,
    "start_time": "2022-03-18T03:50:28.745Z"
   },
   {
    "duration": 4,
    "start_time": "2022-03-18T03:50:40.720Z"
   },
   {
    "duration": 4,
    "start_time": "2022-03-18T03:50:54.260Z"
   },
   {
    "duration": 4,
    "start_time": "2022-03-18T03:51:11.172Z"
   },
   {
    "duration": 3,
    "start_time": "2022-03-18T03:52:52.163Z"
   },
   {
    "duration": 175,
    "start_time": "2022-03-18T03:52:53.362Z"
   },
   {
    "duration": 22,
    "start_time": "2022-03-18T03:52:55.128Z"
   },
   {
    "duration": 11,
    "start_time": "2022-03-18T03:52:55.765Z"
   },
   {
    "duration": 25,
    "start_time": "2022-03-18T03:52:56.162Z"
   },
   {
    "duration": 21,
    "start_time": "2022-03-18T03:52:57.785Z"
   },
   {
    "duration": 8,
    "start_time": "2022-03-18T03:52:58.624Z"
   },
   {
    "duration": 9,
    "start_time": "2022-03-18T03:52:59.436Z"
   },
   {
    "duration": 21,
    "start_time": "2022-03-18T03:53:00.037Z"
   },
   {
    "duration": 78,
    "start_time": "2022-03-18T03:53:00.654Z"
   },
   {
    "duration": 7,
    "start_time": "2022-03-18T03:53:01.221Z"
   },
   {
    "duration": 7,
    "start_time": "2022-03-18T03:53:01.727Z"
   },
   {
    "duration": 26,
    "start_time": "2022-03-18T03:53:02.188Z"
   },
   {
    "duration": 11,
    "start_time": "2022-03-18T03:53:02.717Z"
   },
   {
    "duration": 25,
    "start_time": "2022-03-18T03:53:03.161Z"
   },
   {
    "duration": 32,
    "start_time": "2022-03-18T03:53:03.594Z"
   },
   {
    "duration": 112,
    "start_time": "2022-03-18T03:53:04.588Z"
   },
   {
    "duration": 57,
    "start_time": "2022-03-18T03:53:05.059Z"
   },
   {
    "duration": 112,
    "start_time": "2022-03-18T03:53:05.508Z"
   },
   {
    "duration": 28,
    "start_time": "2022-03-18T03:53:05.938Z"
   },
   {
    "duration": 25,
    "start_time": "2022-03-18T03:53:06.880Z"
   },
   {
    "duration": 24,
    "start_time": "2022-03-18T03:53:07.348Z"
   },
   {
    "duration": 410,
    "start_time": "2022-03-18T03:53:08.222Z"
   },
   {
    "duration": 166,
    "start_time": "2022-03-18T03:53:08.763Z"
   },
   {
    "duration": 17,
    "start_time": "2022-03-18T03:53:10.095Z"
   },
   {
    "duration": 27,
    "start_time": "2022-03-18T03:53:10.963Z"
   },
   {
    "duration": 11,
    "start_time": "2022-03-18T03:53:11.498Z"
   },
   {
    "duration": 7,
    "start_time": "2022-03-18T03:53:11.937Z"
   },
   {
    "duration": 13,
    "start_time": "2022-03-18T03:53:12.801Z"
   },
   {
    "duration": 13,
    "start_time": "2022-03-18T03:53:13.233Z"
   },
   {
    "duration": 13,
    "start_time": "2022-03-18T03:53:13.691Z"
   },
   {
    "duration": 22,
    "start_time": "2022-03-18T03:53:14.275Z"
   },
   {
    "duration": 6,
    "start_time": "2022-03-18T03:53:14.690Z"
   },
   {
    "duration": 68,
    "start_time": "2022-03-18T03:53:15.081Z"
   },
   {
    "duration": 28,
    "start_time": "2022-03-18T03:53:15.516Z"
   },
   {
    "duration": 15,
    "start_time": "2022-03-18T03:53:15.948Z"
   },
   {
    "duration": 4,
    "start_time": "2022-03-18T03:53:16.399Z"
   },
   {
    "duration": 22,
    "start_time": "2022-03-18T03:53:16.736Z"
   },
   {
    "duration": 64,
    "start_time": "2022-03-18T03:53:17.156Z"
   },
   {
    "duration": 29,
    "start_time": "2022-03-18T03:53:17.515Z"
   },
   {
    "duration": 6,
    "start_time": "2022-03-18T03:53:17.885Z"
   },
   {
    "duration": 26,
    "start_time": "2022-03-18T03:53:18.299Z"
   },
   {
    "duration": 23,
    "start_time": "2022-03-18T03:53:18.660Z"
   },
   {
    "duration": 8,
    "start_time": "2022-03-18T03:53:19.022Z"
   },
   {
    "duration": 29,
    "start_time": "2022-03-18T03:53:19.658Z"
   },
   {
    "duration": 15,
    "start_time": "2022-03-18T03:53:20.064Z"
   },
   {
    "duration": 13,
    "start_time": "2022-03-18T03:53:20.432Z"
   },
   {
    "duration": 14,
    "start_time": "2022-03-18T03:53:20.818Z"
   },
   {
    "duration": 91,
    "start_time": "2022-03-18T03:53:21.201Z"
   },
   {
    "duration": 84,
    "start_time": "2022-03-18T03:53:21.564Z"
   },
   {
    "duration": 17,
    "start_time": "2022-03-18T03:53:21.940Z"
   },
   {
    "duration": 11,
    "start_time": "2022-03-18T03:53:22.288Z"
   },
   {
    "duration": 12,
    "start_time": "2022-03-18T03:53:22.584Z"
   },
   {
    "duration": 13,
    "start_time": "2022-03-18T03:53:22.937Z"
   },
   {
    "duration": 3,
    "start_time": "2022-03-18T03:53:23.256Z"
   },
   {
    "duration": 6,
    "start_time": "2022-03-18T03:53:23.592Z"
   },
   {
    "duration": 12,
    "start_time": "2022-03-18T03:53:23.920Z"
   },
   {
    "duration": 14,
    "start_time": "2022-03-18T03:53:24.736Z"
   },
   {
    "duration": 15,
    "start_time": "2022-03-18T03:53:25.056Z"
   },
   {
    "duration": 18,
    "start_time": "2022-03-18T03:53:25.432Z"
   },
   {
    "duration": 30,
    "start_time": "2022-03-18T03:53:25.913Z"
   },
   {
    "duration": 26,
    "start_time": "2022-03-18T03:53:26.289Z"
   },
   {
    "duration": 176,
    "start_time": "2022-03-18T03:53:31.097Z"
   },
   {
    "duration": 31,
    "start_time": "2022-03-18T03:53:31.675Z"
   },
   {
    "duration": 24,
    "start_time": "2022-03-18T03:53:32.064Z"
   },
   {
    "duration": 5,
    "start_time": "2022-03-18T03:53:32.514Z"
   },
   {
    "duration": 4,
    "start_time": "2022-03-18T03:53:32.937Z"
   },
   {
    "duration": 11,
    "start_time": "2022-03-18T03:53:33.771Z"
   },
   {
    "duration": 326,
    "start_time": "2022-03-18T03:53:34.206Z"
   },
   {
    "duration": 39,
    "start_time": "2022-03-18T03:53:34.643Z"
   },
   {
    "duration": 8,
    "start_time": "2022-03-18T03:53:35.450Z"
   },
   {
    "duration": 9,
    "start_time": "2022-03-18T03:53:36.218Z"
   },
   {
    "duration": 3,
    "start_time": "2022-03-18T03:53:37.055Z"
   },
   {
    "duration": 8,
    "start_time": "2022-03-18T03:53:37.734Z"
   },
   {
    "duration": 4,
    "start_time": "2022-03-18T03:53:38.119Z"
   },
   {
    "duration": 8,
    "start_time": "2022-03-18T03:53:38.546Z"
   },
   {
    "duration": 4,
    "start_time": "2022-03-18T03:53:38.849Z"
   },
   {
    "duration": 3,
    "start_time": "2022-03-18T03:53:39.207Z"
   },
   {
    "duration": 8,
    "start_time": "2022-03-18T03:53:39.674Z"
   },
   {
    "duration": 4,
    "start_time": "2022-03-18T03:53:40.113Z"
   },
   {
    "duration": 331,
    "start_time": "2022-03-18T03:53:40.490Z"
   },
   {
    "duration": 8,
    "start_time": "2022-03-18T03:53:41.632Z"
   },
   {
    "duration": 47,
    "start_time": "2022-03-18T03:53:42.308Z"
   },
   {
    "duration": 23,
    "start_time": "2022-03-18T03:53:42.636Z"
   },
   {
    "duration": 183,
    "start_time": "2022-03-18T03:53:42.994Z"
   },
   {
    "duration": 35,
    "start_time": "2022-03-18T03:53:43.331Z"
   },
   {
    "duration": 284,
    "start_time": "2022-03-18T03:53:43.771Z"
   },
   {
    "duration": 5,
    "start_time": "2022-03-18T03:53:44.179Z"
   },
   {
    "duration": 4,
    "start_time": "2022-03-18T03:53:44.552Z"
   },
   {
    "duration": 9,
    "start_time": "2022-03-18T03:53:45.226Z"
   },
   {
    "duration": 4,
    "start_time": "2022-03-18T03:53:45.697Z"
   },
   {
    "duration": 4,
    "start_time": "2022-03-18T03:53:46.864Z"
   },
   {
    "duration": 4,
    "start_time": "2022-03-18T03:53:47.377Z"
   },
   {
    "duration": 4,
    "start_time": "2022-03-18T03:53:47.731Z"
   },
   {
    "duration": 8,
    "start_time": "2022-03-18T03:53:48.161Z"
   },
   {
    "duration": 4,
    "start_time": "2022-03-18T03:53:48.689Z"
   },
   {
    "duration": 4,
    "start_time": "2022-03-18T03:53:49.066Z"
   },
   {
    "duration": 4,
    "start_time": "2022-03-18T03:53:49.489Z"
   },
   {
    "duration": 4,
    "start_time": "2022-03-18T03:53:50.152Z"
   },
   {
    "duration": 19,
    "start_time": "2022-03-18T14:44:36.321Z"
   },
   {
    "duration": 6,
    "start_time": "2022-03-18T14:44:40.301Z"
   },
   {
    "duration": 77,
    "start_time": "2022-03-18T14:44:49.058Z"
   },
   {
    "duration": 1929,
    "start_time": "2022-03-18T14:44:58.592Z"
   },
   {
    "duration": 389,
    "start_time": "2022-03-18T14:45:00.524Z"
   },
   {
    "duration": 30,
    "start_time": "2022-03-18T14:45:00.916Z"
   },
   {
    "duration": 41,
    "start_time": "2022-03-18T14:45:00.949Z"
   },
   {
    "duration": 34,
    "start_time": "2022-03-18T14:45:02.091Z"
   },
   {
    "duration": 34,
    "start_time": "2022-03-18T14:45:02.621Z"
   },
   {
    "duration": 14,
    "start_time": "2022-03-18T14:45:02.859Z"
   },
   {
    "duration": 16,
    "start_time": "2022-03-18T14:45:03.111Z"
   },
   {
    "duration": 35,
    "start_time": "2022-03-18T14:45:03.377Z"
   },
   {
    "duration": 115,
    "start_time": "2022-03-18T14:45:03.646Z"
   },
   {
    "duration": 10,
    "start_time": "2022-03-18T14:45:03.910Z"
   },
   {
    "duration": 10,
    "start_time": "2022-03-18T14:45:05.797Z"
   },
   {
    "duration": 31,
    "start_time": "2022-03-18T14:45:06.425Z"
   },
   {
    "duration": 16,
    "start_time": "2022-03-18T14:45:07.284Z"
   },
   {
    "duration": 37,
    "start_time": "2022-03-18T14:45:08.089Z"
   },
   {
    "duration": 44,
    "start_time": "2022-03-18T14:45:08.937Z"
   },
   {
    "duration": 170,
    "start_time": "2022-03-18T14:45:10.570Z"
   },
   {
    "duration": 67,
    "start_time": "2022-03-18T14:45:11.139Z"
   },
   {
    "duration": 141,
    "start_time": "2022-03-18T14:45:12.400Z"
   },
   {
    "duration": 39,
    "start_time": "2022-03-18T14:45:13.014Z"
   },
   {
    "duration": 17,
    "start_time": "2022-03-18T14:45:13.504Z"
   },
   {
    "duration": 19,
    "start_time": "2022-03-18T14:45:14.118Z"
   },
   {
    "duration": 765,
    "start_time": "2022-03-18T14:45:15.331Z"
   },
   {
    "duration": 291,
    "start_time": "2022-03-18T14:45:16.098Z"
   },
   {
    "duration": 34,
    "start_time": "2022-03-18T14:45:17.470Z"
   },
   {
    "duration": 44,
    "start_time": "2022-03-18T14:45:18.742Z"
   },
   {
    "duration": 15,
    "start_time": "2022-03-18T14:45:19.340Z"
   },
   {
    "duration": 10,
    "start_time": "2022-03-18T14:45:19.946Z"
   },
   {
    "duration": 16,
    "start_time": "2022-03-18T14:45:21.193Z"
   },
   {
    "duration": 18,
    "start_time": "2022-03-18T14:45:21.775Z"
   },
   {
    "duration": 18,
    "start_time": "2022-03-18T14:45:22.356Z"
   },
   {
    "duration": 37,
    "start_time": "2022-03-18T14:45:23.055Z"
   },
   {
    "duration": 12,
    "start_time": "2022-03-18T14:45:23.679Z"
   },
   {
    "duration": 85,
    "start_time": "2022-03-18T14:45:24.323Z"
   },
   {
    "duration": 49,
    "start_time": "2022-03-18T14:45:24.970Z"
   },
   {
    "duration": 25,
    "start_time": "2022-03-18T14:45:25.560Z"
   },
   {
    "duration": 5,
    "start_time": "2022-03-18T14:45:26.099Z"
   },
   {
    "duration": 30,
    "start_time": "2022-03-18T14:45:26.688Z"
   },
   {
    "duration": 82,
    "start_time": "2022-03-18T14:45:27.205Z"
   },
   {
    "duration": 37,
    "start_time": "2022-03-18T14:45:27.735Z"
   },
   {
    "duration": 9,
    "start_time": "2022-03-18T14:45:28.288Z"
   },
   {
    "duration": 34,
    "start_time": "2022-03-18T14:45:28.812Z"
   },
   {
    "duration": 52,
    "start_time": "2022-03-18T14:45:29.374Z"
   },
   {
    "duration": 9,
    "start_time": "2022-03-18T14:45:29.911Z"
   },
   {
    "duration": 39,
    "start_time": "2022-03-18T14:45:30.435Z"
   },
   {
    "duration": 21,
    "start_time": "2022-03-18T14:45:31.056Z"
   },
   {
    "duration": 20,
    "start_time": "2022-03-18T14:45:31.563Z"
   },
   {
    "duration": 16,
    "start_time": "2022-03-18T14:45:32.089Z"
   },
   {
    "duration": 123,
    "start_time": "2022-03-18T14:45:32.612Z"
   },
   {
    "duration": 140,
    "start_time": "2022-03-18T14:45:33.085Z"
   },
   {
    "duration": 29,
    "start_time": "2022-03-18T14:45:33.563Z"
   },
   {
    "duration": 17,
    "start_time": "2022-03-18T14:45:34.050Z"
   },
   {
    "duration": 15,
    "start_time": "2022-03-18T14:45:34.488Z"
   },
   {
    "duration": 17,
    "start_time": "2022-03-18T14:45:35.007Z"
   },
   {
    "duration": 3,
    "start_time": "2022-03-18T14:45:35.488Z"
   },
   {
    "duration": 9,
    "start_time": "2022-03-18T14:45:35.890Z"
   },
   {
    "duration": 19,
    "start_time": "2022-03-18T14:45:36.269Z"
   },
   {
    "duration": 15,
    "start_time": "2022-03-18T14:45:36.687Z"
   },
   {
    "duration": 16,
    "start_time": "2022-03-18T14:45:37.219Z"
   },
   {
    "duration": 25,
    "start_time": "2022-03-18T14:45:37.637Z"
   },
   {
    "duration": 31,
    "start_time": "2022-03-18T14:45:38.082Z"
   },
   {
    "duration": 44,
    "start_time": "2022-03-18T14:45:38.466Z"
   },
   {
    "duration": 274,
    "start_time": "2022-03-18T14:45:38.879Z"
   },
   {
    "duration": 41,
    "start_time": "2022-03-18T14:45:39.393Z"
   },
   {
    "duration": 38,
    "start_time": "2022-03-18T14:45:39.742Z"
   },
   {
    "duration": 5,
    "start_time": "2022-03-18T14:45:40.165Z"
   },
   {
    "duration": 5,
    "start_time": "2022-03-18T14:45:41.017Z"
   },
   {
    "duration": 15,
    "start_time": "2022-03-18T14:45:41.901Z"
   },
   {
    "duration": 406,
    "start_time": "2022-03-18T14:45:42.286Z"
   },
   {
    "duration": 70,
    "start_time": "2022-03-18T14:45:42.734Z"
   },
   {
    "duration": 13,
    "start_time": "2022-03-18T14:45:43.552Z"
   },
   {
    "duration": 12,
    "start_time": "2022-03-18T14:45:43.959Z"
   },
   {
    "duration": 4,
    "start_time": "2022-03-18T14:45:44.326Z"
   },
   {
    "duration": 10,
    "start_time": "2022-03-18T14:45:44.730Z"
   },
   {
    "duration": 5,
    "start_time": "2022-03-18T14:45:45.098Z"
   },
   {
    "duration": 11,
    "start_time": "2022-03-18T14:45:45.487Z"
   },
   {
    "duration": 6,
    "start_time": "2022-03-18T14:45:45.818Z"
   },
   {
    "duration": 5,
    "start_time": "2022-03-18T14:45:46.204Z"
   },
   {
    "duration": 11,
    "start_time": "2022-03-18T14:45:46.560Z"
   },
   {
    "duration": 6,
    "start_time": "2022-03-18T14:45:46.907Z"
   },
   {
    "duration": 433,
    "start_time": "2022-03-18T14:45:47.256Z"
   },
   {
    "duration": 13,
    "start_time": "2022-03-18T14:45:47.692Z"
   },
   {
    "duration": 65,
    "start_time": "2022-03-18T14:45:47.962Z"
   },
   {
    "duration": 32,
    "start_time": "2022-03-18T14:45:48.313Z"
   },
   {
    "duration": 253,
    "start_time": "2022-03-18T14:45:48.656Z"
   },
   {
    "duration": 33,
    "start_time": "2022-03-18T14:45:48.960Z"
   },
   {
    "duration": 366,
    "start_time": "2022-03-18T14:45:49.278Z"
   },
   {
    "duration": 6,
    "start_time": "2022-03-18T14:45:49.647Z"
   },
   {
    "duration": 5,
    "start_time": "2022-03-18T14:45:49.999Z"
   },
   {
    "duration": 12,
    "start_time": "2022-03-18T14:45:50.204Z"
   },
   {
    "duration": 5,
    "start_time": "2022-03-18T14:45:50.492Z"
   },
   {
    "duration": 6,
    "start_time": "2022-03-18T14:45:50.768Z"
   },
   {
    "duration": 8,
    "start_time": "2022-03-18T14:45:51.079Z"
   },
   {
    "duration": 4,
    "start_time": "2022-03-18T14:45:51.892Z"
   },
   {
    "duration": 11,
    "start_time": "2022-03-18T14:45:52.694Z"
   },
   {
    "duration": 6,
    "start_time": "2022-03-18T14:45:53.449Z"
   },
   {
    "duration": 5,
    "start_time": "2022-03-18T14:45:53.951Z"
   },
   {
    "duration": 5,
    "start_time": "2022-03-18T14:45:54.264Z"
   },
   {
    "duration": 6,
    "start_time": "2022-03-18T14:45:54.672Z"
   },
   {
    "duration": 36,
    "start_time": "2022-03-18T14:50:25.049Z"
   },
   {
    "duration": 32,
    "start_time": "2022-03-18T14:50:48.699Z"
   },
   {
    "duration": 30,
    "start_time": "2022-03-18T14:51:05.776Z"
   },
   {
    "duration": 5,
    "start_time": "2022-03-18T15:04:49.323Z"
   },
   {
    "duration": 16431,
    "start_time": "2022-03-18T15:05:45.238Z"
   },
   {
    "duration": 8,
    "start_time": "2022-03-18T15:07:27.405Z"
   },
   {
    "duration": 18,
    "start_time": "2022-03-18T15:15:50.220Z"
   },
   {
    "duration": 19,
    "start_time": "2022-03-18T15:16:12.959Z"
   },
   {
    "duration": 18,
    "start_time": "2022-03-18T15:17:48.207Z"
   },
   {
    "duration": 24,
    "start_time": "2022-03-18T15:17:59.150Z"
   },
   {
    "duration": 35,
    "start_time": "2022-03-18T15:19:00.710Z"
   },
   {
    "duration": 22,
    "start_time": "2022-03-18T15:19:25.118Z"
   },
   {
    "duration": 27,
    "start_time": "2022-03-18T15:22:03.492Z"
   },
   {
    "duration": 1756,
    "start_time": "2022-03-18T15:23:06.260Z"
   },
   {
    "duration": 32,
    "start_time": "2022-03-18T15:23:28.209Z"
   },
   {
    "duration": 27,
    "start_time": "2022-03-18T15:23:47.301Z"
   },
   {
    "duration": 31,
    "start_time": "2022-03-18T15:24:33.083Z"
   },
   {
    "duration": 28,
    "start_time": "2022-03-18T15:25:06.979Z"
   },
   {
    "duration": 3,
    "start_time": "2022-03-18T16:47:26.229Z"
   },
   {
    "duration": 4,
    "start_time": "2022-03-18T16:47:27.307Z"
   },
   {
    "duration": 5,
    "start_time": "2022-03-18T16:47:28.437Z"
   },
   {
    "duration": 12,
    "start_time": "2022-03-18T16:47:29.731Z"
   },
   {
    "duration": 6,
    "start_time": "2022-03-18T16:47:37.220Z"
   },
   {
    "duration": 11,
    "start_time": "2022-03-18T16:50:00.478Z"
   },
   {
    "duration": 4,
    "start_time": "2022-03-18T16:53:03.284Z"
   },
   {
    "duration": 6,
    "start_time": "2022-03-18T16:53:10.076Z"
   },
   {
    "duration": 26,
    "start_time": "2022-03-18T16:54:43.925Z"
   },
   {
    "duration": 6,
    "start_time": "2022-03-18T16:56:05.028Z"
   },
   {
    "duration": 5,
    "start_time": "2022-03-18T16:56:07.306Z"
   },
   {
    "duration": 6,
    "start_time": "2022-03-18T16:56:14.658Z"
   },
   {
    "duration": 5,
    "start_time": "2022-03-18T16:56:53.326Z"
   },
   {
    "duration": 6,
    "start_time": "2022-03-18T16:56:55.051Z"
   },
   {
    "duration": 103,
    "start_time": "2022-03-18T17:46:48.349Z"
   },
   {
    "duration": 6,
    "start_time": "2022-03-18T17:47:29.279Z"
   },
   {
    "duration": 5,
    "start_time": "2022-03-18T17:48:15.663Z"
   },
   {
    "duration": 7,
    "start_time": "2022-03-18T17:48:40.206Z"
   },
   {
    "duration": 98,
    "start_time": "2022-03-18T17:56:22.759Z"
   },
   {
    "duration": 12,
    "start_time": "2022-03-18T17:56:58.487Z"
   },
   {
    "duration": 38,
    "start_time": "2022-03-18T17:57:06.769Z"
   },
   {
    "duration": 7,
    "start_time": "2022-03-18T18:01:27.624Z"
   },
   {
    "duration": 27,
    "start_time": "2022-03-18T18:01:36.246Z"
   },
   {
    "duration": 5,
    "start_time": "2022-03-18T18:03:13.859Z"
   },
   {
    "duration": 35,
    "start_time": "2022-03-18T18:03:19.053Z"
   },
   {
    "duration": 11,
    "start_time": "2022-03-18T18:04:23.991Z"
   },
   {
    "duration": 4,
    "start_time": "2022-03-18T18:04:30.404Z"
   },
   {
    "duration": 7,
    "start_time": "2022-03-18T18:04:35.036Z"
   },
   {
    "duration": 6,
    "start_time": "2022-03-18T18:07:15.875Z"
   },
   {
    "duration": 36,
    "start_time": "2022-03-18T18:07:17.861Z"
   },
   {
    "duration": 4,
    "start_time": "2022-03-18T18:07:18.189Z"
   },
   {
    "duration": 4,
    "start_time": "2022-03-18T18:07:18.546Z"
   },
   {
    "duration": 5,
    "start_time": "2022-03-18T18:07:19.331Z"
   },
   {
    "duration": 5,
    "start_time": "2022-03-18T18:07:19.996Z"
   },
   {
    "duration": 6,
    "start_time": "2022-03-18T18:07:20.578Z"
   },
   {
    "duration": 6,
    "start_time": "2022-03-18T18:07:21.214Z"
   },
   {
    "duration": 31,
    "start_time": "2022-03-18T18:07:22.212Z"
   },
   {
    "duration": 8,
    "start_time": "2022-03-18T18:07:22.553Z"
   },
   {
    "duration": 1931,
    "start_time": "2022-03-18T18:07:55.971Z"
   },
   {
    "duration": 9,
    "start_time": "2022-03-18T18:08:30.517Z"
   },
   {
    "duration": 7,
    "start_time": "2022-03-18T18:09:05.190Z"
   },
   {
    "duration": 7,
    "start_time": "2022-03-18T18:09:58.565Z"
   },
   {
    "duration": 7,
    "start_time": "2022-03-18T18:10:00.708Z"
   },
   {
    "duration": 5,
    "start_time": "2022-03-18T18:14:39.518Z"
   },
   {
    "duration": 8,
    "start_time": "2022-03-18T18:15:12.355Z"
   },
   {
    "duration": 5,
    "start_time": "2022-03-18T18:15:25.980Z"
   },
   {
    "duration": 207,
    "start_time": "2022-03-18T18:15:26.242Z"
   },
   {
    "duration": 38,
    "start_time": "2022-03-18T18:15:26.752Z"
   },
   {
    "duration": 19,
    "start_time": "2022-03-18T18:15:27.007Z"
   },
   {
    "duration": 31,
    "start_time": "2022-03-18T18:15:27.317Z"
   },
   {
    "duration": 30,
    "start_time": "2022-03-18T18:15:27.827Z"
   },
   {
    "duration": 15,
    "start_time": "2022-03-18T18:15:28.119Z"
   },
   {
    "duration": 13,
    "start_time": "2022-03-18T18:15:28.392Z"
   },
   {
    "duration": 39,
    "start_time": "2022-03-18T18:15:28.662Z"
   },
   {
    "duration": 184,
    "start_time": "2022-03-18T18:15:28.914Z"
   },
   {
    "duration": 12,
    "start_time": "2022-03-18T18:15:29.144Z"
   },
   {
    "duration": 12,
    "start_time": "2022-03-18T18:15:29.405Z"
   },
   {
    "duration": 31,
    "start_time": "2022-03-18T18:15:29.674Z"
   },
   {
    "duration": 15,
    "start_time": "2022-03-18T18:15:29.908Z"
   },
   {
    "duration": 32,
    "start_time": "2022-03-18T18:15:30.201Z"
   },
   {
    "duration": 41,
    "start_time": "2022-03-18T18:15:32.578Z"
   },
   {
    "duration": 207,
    "start_time": "2022-03-18T18:15:33.107Z"
   },
   {
    "duration": 93,
    "start_time": "2022-03-18T18:15:33.387Z"
   },
   {
    "duration": 160,
    "start_time": "2022-03-18T18:15:33.659Z"
   },
   {
    "duration": 35,
    "start_time": "2022-03-18T18:15:33.851Z"
   },
   {
    "duration": 17,
    "start_time": "2022-03-18T18:15:34.363Z"
   },
   {
    "duration": 18,
    "start_time": "2022-03-18T18:15:34.619Z"
   },
   {
    "duration": 588,
    "start_time": "2022-03-18T18:15:35.050Z"
   },
   {
    "duration": 263,
    "start_time": "2022-03-18T18:15:35.641Z"
   },
   {
    "duration": 35,
    "start_time": "2022-03-18T18:15:35.907Z"
   },
   {
    "duration": 55,
    "start_time": "2022-03-18T18:15:36.714Z"
   },
   {
    "duration": 15,
    "start_time": "2022-03-18T18:15:37.011Z"
   },
   {
    "duration": 9,
    "start_time": "2022-03-18T18:15:37.319Z"
   },
   {
    "duration": 16,
    "start_time": "2022-03-18T18:15:37.790Z"
   },
   {
    "duration": 15,
    "start_time": "2022-03-18T18:15:38.045Z"
   },
   {
    "duration": 17,
    "start_time": "2022-03-18T18:15:38.314Z"
   },
   {
    "duration": 30,
    "start_time": "2022-03-18T18:15:38.540Z"
   },
   {
    "duration": 10,
    "start_time": "2022-03-18T18:15:38.780Z"
   },
   {
    "duration": 104,
    "start_time": "2022-03-18T18:15:39.049Z"
   },
   {
    "duration": 50,
    "start_time": "2022-03-18T18:15:39.302Z"
   },
   {
    "duration": 26,
    "start_time": "2022-03-18T18:15:39.550Z"
   },
   {
    "duration": 6,
    "start_time": "2022-03-18T18:15:39.801Z"
   },
   {
    "duration": 39,
    "start_time": "2022-03-18T18:15:40.029Z"
   },
   {
    "duration": 115,
    "start_time": "2022-03-18T18:15:40.360Z"
   },
   {
    "duration": 52,
    "start_time": "2022-03-18T18:15:41.157Z"
   },
   {
    "duration": 10,
    "start_time": "2022-03-18T18:15:41.420Z"
   },
   {
    "duration": 33,
    "start_time": "2022-03-18T18:15:41.713Z"
   },
   {
    "duration": 32,
    "start_time": "2022-03-18T18:15:41.965Z"
   },
   {
    "duration": 8,
    "start_time": "2022-03-18T18:15:42.214Z"
   },
   {
    "duration": 37,
    "start_time": "2022-03-18T18:15:42.480Z"
   },
   {
    "duration": 16,
    "start_time": "2022-03-18T18:15:42.717Z"
   },
   {
    "duration": 15,
    "start_time": "2022-03-18T18:15:43.686Z"
   },
   {
    "duration": 16,
    "start_time": "2022-03-18T18:15:44.957Z"
   },
   {
    "duration": 132,
    "start_time": "2022-03-18T18:15:44.975Z"
   },
   {
    "duration": 159,
    "start_time": "2022-03-18T18:15:45.109Z"
   },
   {
    "duration": 22,
    "start_time": "2022-03-18T18:15:45.272Z"
   },
   {
    "duration": 15,
    "start_time": "2022-03-18T18:15:45.297Z"
   },
   {
    "duration": 15,
    "start_time": "2022-03-18T18:15:45.315Z"
   },
   {
    "duration": 53,
    "start_time": "2022-03-18T18:15:45.334Z"
   },
   {
    "duration": 4,
    "start_time": "2022-03-18T18:15:45.613Z"
   },
   {
    "duration": 12,
    "start_time": "2022-03-18T18:15:45.814Z"
   },
   {
    "duration": 16,
    "start_time": "2022-03-18T18:15:46.053Z"
   },
   {
    "duration": 20,
    "start_time": "2022-03-18T18:15:46.277Z"
   },
   {
    "duration": 16,
    "start_time": "2022-03-18T18:15:46.536Z"
   },
   {
    "duration": 24,
    "start_time": "2022-03-18T18:15:46.801Z"
   },
   {
    "duration": 30,
    "start_time": "2022-03-18T18:15:47.117Z"
   },
   {
    "duration": 30,
    "start_time": "2022-03-18T18:15:47.806Z"
   },
   {
    "duration": 261,
    "start_time": "2022-03-18T18:15:48.027Z"
   },
   {
    "duration": 38,
    "start_time": "2022-03-18T18:15:48.296Z"
   },
   {
    "duration": 34,
    "start_time": "2022-03-18T18:15:48.555Z"
   },
   {
    "duration": 6,
    "start_time": "2022-03-18T18:15:48.771Z"
   },
   {
    "duration": 7,
    "start_time": "2022-03-18T18:15:49.036Z"
   },
   {
    "duration": 16,
    "start_time": "2022-03-18T18:15:49.542Z"
   },
   {
    "duration": 524,
    "start_time": "2022-03-18T18:15:49.781Z"
   },
   {
    "duration": 89,
    "start_time": "2022-03-18T18:15:50.308Z"
   },
   {
    "duration": 15,
    "start_time": "2022-03-18T18:15:50.514Z"
   },
   {
    "duration": 12,
    "start_time": "2022-03-18T18:15:50.712Z"
   },
   {
    "duration": 4,
    "start_time": "2022-03-18T18:15:51.020Z"
   },
   {
    "duration": 10,
    "start_time": "2022-03-18T18:15:51.870Z"
   },
   {
    "duration": 6,
    "start_time": "2022-03-18T18:15:52.107Z"
   },
   {
    "duration": 13,
    "start_time": "2022-03-18T18:15:52.327Z"
   },
   {
    "duration": 7,
    "start_time": "2022-03-18T18:15:52.547Z"
   },
   {
    "duration": 5,
    "start_time": "2022-03-18T18:15:52.799Z"
   },
   {
    "duration": 13,
    "start_time": "2022-03-18T18:15:53.007Z"
   },
   {
    "duration": 7,
    "start_time": "2022-03-18T18:15:53.206Z"
   },
   {
    "duration": 416,
    "start_time": "2022-03-18T18:15:53.450Z"
   },
   {
    "duration": 11,
    "start_time": "2022-03-18T18:15:53.873Z"
   },
   {
    "duration": 104,
    "start_time": "2022-03-18T18:15:53.886Z"
   },
   {
    "duration": 32,
    "start_time": "2022-03-18T18:15:54.089Z"
   },
   {
    "duration": 230,
    "start_time": "2022-03-18T18:15:54.404Z"
   },
   {
    "duration": 46,
    "start_time": "2022-03-18T18:15:54.637Z"
   },
   {
    "duration": 628,
    "start_time": "2022-03-18T18:15:54.901Z"
   },
   {
    "duration": 6,
    "start_time": "2022-03-18T18:15:55.532Z"
   },
   {
    "duration": 6,
    "start_time": "2022-03-18T18:15:55.958Z"
   },
   {
    "duration": 13,
    "start_time": "2022-03-18T18:15:56.172Z"
   },
   {
    "duration": 6,
    "start_time": "2022-03-18T18:15:56.420Z"
   },
   {
    "duration": 6,
    "start_time": "2022-03-18T18:15:56.645Z"
   },
   {
    "duration": 5,
    "start_time": "2022-03-18T18:15:56.868Z"
   },
   {
    "duration": 6,
    "start_time": "2022-03-18T18:15:57.113Z"
   },
   {
    "duration": 11,
    "start_time": "2022-03-18T18:15:57.384Z"
   },
   {
    "duration": 6,
    "start_time": "2022-03-18T18:15:57.624Z"
   },
   {
    "duration": 6,
    "start_time": "2022-03-18T18:15:57.898Z"
   },
   {
    "duration": 6,
    "start_time": "2022-03-18T18:15:58.146Z"
   },
   {
    "duration": 6,
    "start_time": "2022-03-18T18:15:58.418Z"
   },
   {
    "duration": 37,
    "start_time": "2022-03-18T18:15:58.669Z"
   },
   {
    "duration": 40,
    "start_time": "2022-03-18T18:15:58.916Z"
   },
   {
    "duration": 41,
    "start_time": "2022-03-18T18:15:59.186Z"
   },
   {
    "duration": 11,
    "start_time": "2022-03-18T18:15:59.416Z"
   },
   {
    "duration": 41,
    "start_time": "2022-03-18T18:16:00.711Z"
   },
   {
    "duration": 5,
    "start_time": "2022-03-18T18:16:01.037Z"
   },
   {
    "duration": 24,
    "start_time": "2022-03-18T18:16:01.235Z"
   },
   {
    "duration": 6,
    "start_time": "2022-03-18T18:16:03.282Z"
   },
   {
    "duration": 5,
    "start_time": "2022-03-18T18:16:04.459Z"
   },
   {
    "duration": 26,
    "start_time": "2022-03-18T18:16:04.940Z"
   },
   {
    "duration": 8,
    "start_time": "2022-03-18T18:16:05.351Z"
   },
   {
    "duration": 8,
    "start_time": "2022-03-18T18:25:02.634Z"
   },
   {
    "duration": 5,
    "start_time": "2022-03-18T18:25:53.297Z"
   },
   {
    "duration": 5,
    "start_time": "2022-03-18T18:25:54.121Z"
   },
   {
    "duration": 8,
    "start_time": "2022-03-18T18:25:54.993Z"
   },
   {
    "duration": 9,
    "start_time": "2022-03-18T18:25:57.569Z"
   },
   {
    "duration": 7,
    "start_time": "2022-03-18T18:25:58.555Z"
   },
   {
    "duration": 5,
    "start_time": "2022-03-18T18:26:00.313Z"
   },
   {
    "duration": 6,
    "start_time": "2022-03-18T18:26:01.116Z"
   },
   {
    "duration": 4,
    "start_time": "2022-03-18T18:29:11.098Z"
   },
   {
    "duration": 11,
    "start_time": "2022-03-18T18:29:39.440Z"
   },
   {
    "duration": 8,
    "start_time": "2022-03-18T18:30:32.059Z"
   },
   {
    "duration": 7,
    "start_time": "2022-03-18T19:30:58.036Z"
   },
   {
    "duration": 91,
    "start_time": "2022-03-18T19:31:22.845Z"
   },
   {
    "duration": 13,
    "start_time": "2022-03-18T19:31:31.236Z"
   },
   {
    "duration": 6,
    "start_time": "2022-03-18T19:31:48.674Z"
   },
   {
    "duration": 9,
    "start_time": "2022-03-18T19:31:56.477Z"
   },
   {
    "duration": 8,
    "start_time": "2022-03-18T19:37:45.050Z"
   },
   {
    "duration": 13,
    "start_time": "2022-03-18T19:37:46.368Z"
   },
   {
    "duration": 14,
    "start_time": "2022-03-18T19:38:01.714Z"
   },
   {
    "duration": 17,
    "start_time": "2022-03-18T19:39:04.635Z"
   },
   {
    "duration": 15,
    "start_time": "2022-03-18T19:39:24.891Z"
   },
   {
    "duration": 43,
    "start_time": "2022-03-18T21:28:47.641Z"
   },
   {
    "duration": 45,
    "start_time": "2022-03-18T21:29:17.039Z"
   },
   {
    "duration": 31,
    "start_time": "2022-03-18T21:30:41.136Z"
   },
   {
    "duration": 32,
    "start_time": "2022-03-18T21:32:08.767Z"
   },
   {
    "duration": 45,
    "start_time": "2022-03-18T21:32:16.460Z"
   },
   {
    "duration": 45,
    "start_time": "2022-03-18T21:35:44.257Z"
   },
   {
    "duration": 91,
    "start_time": "2022-03-18T21:39:45.975Z"
   },
   {
    "duration": 51,
    "start_time": "2022-03-18T21:39:52.298Z"
   },
   {
    "duration": 54,
    "start_time": "2022-03-18T21:41:29.893Z"
   },
   {
    "duration": 4,
    "start_time": "2022-03-18T21:42:20.715Z"
   },
   {
    "duration": 12,
    "start_time": "2022-03-18T21:42:31.614Z"
   },
   {
    "duration": 15,
    "start_time": "2022-03-18T21:44:18.547Z"
   },
   {
    "duration": 15,
    "start_time": "2022-03-18T21:46:34.435Z"
   },
   {
    "duration": 11,
    "start_time": "2022-03-18T21:46:39.796Z"
   },
   {
    "duration": 15,
    "start_time": "2022-03-18T21:47:24.959Z"
   },
   {
    "duration": 41,
    "start_time": "2022-03-18T21:50:51.572Z"
   },
   {
    "duration": 50,
    "start_time": "2022-03-18T21:52:12.160Z"
   },
   {
    "duration": 1932,
    "start_time": "2022-03-18T21:55:06.030Z"
   },
   {
    "duration": 300,
    "start_time": "2022-03-18T21:55:43.162Z"
   },
   {
    "duration": 269,
    "start_time": "2022-03-18T21:58:02.126Z"
   },
   {
    "duration": 285,
    "start_time": "2022-03-18T21:59:11.533Z"
   },
   {
    "duration": 99,
    "start_time": "2022-03-18T22:02:05.575Z"
   },
   {
    "duration": 100,
    "start_time": "2022-03-18T22:02:15.624Z"
   },
   {
    "duration": 91,
    "start_time": "2022-03-18T22:02:23.767Z"
   },
   {
    "duration": 277,
    "start_time": "2022-03-18T22:02:34.959Z"
   },
   {
    "duration": 4,
    "start_time": "2022-03-18T22:14:01.050Z"
   },
   {
    "duration": 138,
    "start_time": "2022-03-18T22:14:36.643Z"
   },
   {
    "duration": 4,
    "start_time": "2022-03-18T22:17:33.309Z"
   },
   {
    "duration": 465,
    "start_time": "2022-03-18T22:17:50.622Z"
   },
   {
    "duration": 27,
    "start_time": "2022-03-18T22:18:27.598Z"
   },
   {
    "duration": 28,
    "start_time": "2022-03-18T22:18:35.051Z"
   },
   {
    "duration": 17,
    "start_time": "2022-03-18T22:18:35.973Z"
   },
   {
    "duration": 4,
    "start_time": "2022-03-18T22:20:53.221Z"
   },
   {
    "duration": 17,
    "start_time": "2022-03-18T22:23:21.072Z"
   },
   {
    "duration": 32,
    "start_time": "2022-03-18T22:23:21.578Z"
   },
   {
    "duration": 17,
    "start_time": "2022-03-18T22:24:25.587Z"
   },
   {
    "duration": 18,
    "start_time": "2022-03-18T22:24:29.312Z"
   },
   {
    "duration": 33,
    "start_time": "2022-03-18T22:24:30.231Z"
   },
   {
    "duration": 35,
    "start_time": "2022-03-18T22:24:32.733Z"
   },
   {
    "duration": 4,
    "start_time": "2022-03-18T22:24:39.612Z"
   },
   {
    "duration": 18,
    "start_time": "2022-03-18T22:24:41.437Z"
   },
   {
    "duration": 16,
    "start_time": "2022-03-18T22:24:42.910Z"
   },
   {
    "duration": 139,
    "start_time": "2022-03-18T22:25:29.356Z"
   },
   {
    "duration": 11,
    "start_time": "2022-03-18T22:25:32.094Z"
   },
   {
    "duration": 12,
    "start_time": "2022-03-18T22:26:05.808Z"
   },
   {
    "duration": 30,
    "start_time": "2022-03-18T22:26:06.708Z"
   },
   {
    "duration": 20,
    "start_time": "2022-03-18T22:26:11.422Z"
   },
   {
    "duration": 43,
    "start_time": "2022-03-18T22:26:15.810Z"
   },
   {
    "duration": 47,
    "start_time": "2022-03-18T22:26:16.605Z"
   },
   {
    "duration": 1286,
    "start_time": "2022-03-19T00:01:39.966Z"
   },
   {
    "duration": 172,
    "start_time": "2022-03-19T00:01:41.254Z"
   },
   {
    "duration": 20,
    "start_time": "2022-03-19T00:01:43.444Z"
   },
   {
    "duration": 11,
    "start_time": "2022-03-19T00:01:45.930Z"
   },
   {
    "duration": 14,
    "start_time": "2022-03-19T00:02:57.947Z"
   },
   {
    "duration": 25,
    "start_time": "2022-03-19T00:02:59.058Z"
   },
   {
    "duration": 23,
    "start_time": "2022-03-19T00:03:04.618Z"
   },
   {
    "duration": 9,
    "start_time": "2022-03-19T00:03:05.418Z"
   },
   {
    "duration": 25,
    "start_time": "2022-03-19T00:03:21.809Z"
   },
   {
    "duration": 70,
    "start_time": "2022-03-19T00:03:26.827Z"
   },
   {
    "duration": 6,
    "start_time": "2022-03-19T00:03:28.938Z"
   },
   {
    "duration": 9,
    "start_time": "2022-03-19T00:03:34.025Z"
   },
   {
    "duration": 20,
    "start_time": "2022-03-19T00:03:37.598Z"
   },
   {
    "duration": 11,
    "start_time": "2022-03-19T00:03:38.499Z"
   },
   {
    "duration": 23,
    "start_time": "2022-03-19T00:03:48.383Z"
   },
   {
    "duration": 28,
    "start_time": "2022-03-19T00:03:49.947Z"
   },
   {
    "duration": 118,
    "start_time": "2022-03-19T00:04:22.404Z"
   },
   {
    "duration": 42,
    "start_time": "2022-03-19T00:04:22.924Z"
   },
   {
    "duration": 87,
    "start_time": "2022-03-19T00:04:23.396Z"
   },
   {
    "duration": 28,
    "start_time": "2022-03-19T00:04:23.930Z"
   },
   {
    "duration": 13,
    "start_time": "2022-03-19T00:04:25.242Z"
   },
   {
    "duration": 13,
    "start_time": "2022-03-19T00:04:25.802Z"
   },
   {
    "duration": 416,
    "start_time": "2022-03-19T00:05:52.339Z"
   },
   {
    "duration": 16,
    "start_time": "2022-03-19T00:06:34.122Z"
   },
   {
    "duration": 27,
    "start_time": "2022-03-19T00:07:39.699Z"
   },
   {
    "duration": 10,
    "start_time": "2022-03-19T00:07:43.131Z"
   },
   {
    "duration": 7,
    "start_time": "2022-03-19T00:07:53.307Z"
   },
   {
    "duration": 13,
    "start_time": "2022-03-19T00:08:33.803Z"
   },
   {
    "duration": 12,
    "start_time": "2022-03-19T00:08:34.714Z"
   },
   {
    "duration": 12,
    "start_time": "2022-03-19T00:08:35.375Z"
   },
   {
    "duration": 12,
    "start_time": "2022-03-19T00:09:33.607Z"
   },
   {
    "duration": 12,
    "start_time": "2022-03-19T00:09:34.405Z"
   },
   {
    "duration": 13,
    "start_time": "2022-03-19T00:09:35.097Z"
   },
   {
    "duration": 19,
    "start_time": "2022-03-19T00:10:56.563Z"
   },
   {
    "duration": 7,
    "start_time": "2022-03-19T00:10:59.107Z"
   },
   {
    "duration": 17,
    "start_time": "2022-03-19T00:11:16.133Z"
   },
   {
    "duration": 7,
    "start_time": "2022-03-19T00:11:20.171Z"
   },
   {
    "duration": 54,
    "start_time": "2022-03-19T00:12:24.260Z"
   },
   {
    "duration": 25,
    "start_time": "2022-03-19T00:12:29.491Z"
   },
   {
    "duration": 21,
    "start_time": "2022-03-19T00:13:09.749Z"
   },
   {
    "duration": 15,
    "start_time": "2022-03-19T00:13:13.803Z"
   },
   {
    "duration": 4,
    "start_time": "2022-03-19T00:13:19.483Z"
   },
   {
    "duration": 15,
    "start_time": "2022-03-19T00:13:55.196Z"
   },
   {
    "duration": 56,
    "start_time": "2022-03-19T00:13:57.020Z"
   },
   {
    "duration": 21,
    "start_time": "2022-03-19T00:14:37.741Z"
   },
   {
    "duration": 6,
    "start_time": "2022-03-19T00:14:39.605Z"
   },
   {
    "duration": 18,
    "start_time": "2022-03-19T00:15:15.884Z"
   },
   {
    "duration": 17,
    "start_time": "2022-03-19T00:15:29.013Z"
   },
   {
    "duration": 6,
    "start_time": "2022-03-19T00:15:33.827Z"
   },
   {
    "duration": 22,
    "start_time": "2022-03-19T00:16:31.085Z"
   },
   {
    "duration": 13,
    "start_time": "2022-03-19T00:16:38.811Z"
   },
   {
    "duration": 12,
    "start_time": "2022-03-19T00:16:39.495Z"
   },
   {
    "duration": 12,
    "start_time": "2022-03-19T00:16:40.173Z"
   },
   {
    "duration": 79,
    "start_time": "2022-03-19T00:16:47.908Z"
   },
   {
    "duration": 96,
    "start_time": "2022-03-19T00:16:49.195Z"
   },
   {
    "duration": 13,
    "start_time": "2022-03-19T00:17:21.892Z"
   },
   {
    "duration": 12,
    "start_time": "2022-03-19T00:17:22.828Z"
   },
   {
    "duration": 12,
    "start_time": "2022-03-19T00:17:23.276Z"
   },
   {
    "duration": 2,
    "start_time": "2022-03-19T00:17:25.555Z"
   },
   {
    "duration": 11,
    "start_time": "2022-03-19T00:18:02.412Z"
   },
   {
    "duration": 13,
    "start_time": "2022-03-19T00:18:03.140Z"
   },
   {
    "duration": 12,
    "start_time": "2022-03-19T00:18:03.780Z"
   },
   {
    "duration": 9,
    "start_time": "2022-03-19T00:18:19.573Z"
   },
   {
    "duration": 24,
    "start_time": "2022-03-19T00:18:25.899Z"
   },
   {
    "duration": 23,
    "start_time": "2022-03-19T00:18:26.667Z"
   },
   {
    "duration": 145,
    "start_time": "2022-03-19T00:18:27.747Z"
   },
   {
    "duration": 28,
    "start_time": "2022-03-19T00:21:26.267Z"
   },
   {
    "duration": 23,
    "start_time": "2022-03-19T00:21:28.792Z"
   },
   {
    "duration": 28,
    "start_time": "2022-03-19T00:22:30.340Z"
   },
   {
    "duration": 21,
    "start_time": "2022-03-19T00:22:30.813Z"
   },
   {
    "duration": 3,
    "start_time": "2022-03-19T00:22:31.660Z"
   },
   {
    "duration": 4,
    "start_time": "2022-03-19T00:22:36.997Z"
   },
   {
    "duration": 10,
    "start_time": "2022-03-19T00:23:46.109Z"
   },
   {
    "duration": 262,
    "start_time": "2022-03-19T00:23:51.797Z"
   },
   {
    "duration": 40,
    "start_time": "2022-03-19T00:25:12.796Z"
   },
   {
    "duration": 11,
    "start_time": "2022-03-19T00:26:29.109Z"
   },
   {
    "duration": 8,
    "start_time": "2022-03-19T00:26:32.965Z"
   },
   {
    "duration": 3,
    "start_time": "2022-03-19T00:26:44.390Z"
   },
   {
    "duration": 6,
    "start_time": "2022-03-19T00:26:46.010Z"
   },
   {
    "duration": 4,
    "start_time": "2022-03-19T00:27:06.533Z"
   },
   {
    "duration": 8,
    "start_time": "2022-03-19T00:27:07.813Z"
   },
   {
    "duration": 4,
    "start_time": "2022-03-19T00:27:11.221Z"
   },
   {
    "duration": 3,
    "start_time": "2022-03-19T00:27:19.398Z"
   },
   {
    "duration": 7,
    "start_time": "2022-03-19T00:27:20.132Z"
   },
   {
    "duration": 4,
    "start_time": "2022-03-19T00:27:25.404Z"
   },
   {
    "duration": 284,
    "start_time": "2022-03-19T00:27:26.373Z"
   },
   {
    "duration": 8,
    "start_time": "2022-03-19T00:30:03.973Z"
   },
   {
    "duration": 42,
    "start_time": "2022-03-19T00:30:15.349Z"
   },
   {
    "duration": 19,
    "start_time": "2022-03-19T00:30:23.366Z"
   },
   {
    "duration": 178,
    "start_time": "2022-03-19T00:30:30.950Z"
   },
   {
    "duration": 21,
    "start_time": "2022-03-19T00:30:36.421Z"
   },
   {
    "duration": 167,
    "start_time": "2022-03-19T00:31:07.140Z"
   },
   {
    "duration": 22,
    "start_time": "2022-03-19T00:31:11.742Z"
   },
   {
    "duration": 236,
    "start_time": "2022-03-19T00:31:13.374Z"
   },
   {
    "duration": 4,
    "start_time": "2022-03-19T00:31:24.861Z"
   },
   {
    "duration": 4,
    "start_time": "2022-03-19T00:31:28.190Z"
   },
   {
    "duration": 8,
    "start_time": "2022-03-19T00:31:41.318Z"
   },
   {
    "duration": 4,
    "start_time": "2022-03-19T00:31:42.166Z"
   },
   {
    "duration": 4,
    "start_time": "2022-03-19T00:31:43.060Z"
   },
   {
    "duration": 3,
    "start_time": "2022-03-19T00:31:44.606Z"
   },
   {
    "duration": 4,
    "start_time": "2022-03-19T00:31:45.669Z"
   },
   {
    "duration": 8,
    "start_time": "2022-03-19T00:31:46.981Z"
   },
   {
    "duration": 4,
    "start_time": "2022-03-19T00:32:04.957Z"
   },
   {
    "duration": 3,
    "start_time": "2022-03-19T00:32:16.374Z"
   },
   {
    "duration": 3,
    "start_time": "2022-03-19T00:32:27.062Z"
   },
   {
    "duration": 4,
    "start_time": "2022-03-19T00:32:35.541Z"
   },
   {
    "duration": 15,
    "start_time": "2022-03-19T00:32:45.358Z"
   },
   {
    "duration": 15,
    "start_time": "2022-03-19T00:32:53.541Z"
   },
   {
    "duration": 17,
    "start_time": "2022-03-19T00:33:02.014Z"
   },
   {
    "duration": 15,
    "start_time": "2022-03-19T00:44:36.912Z"
   },
   {
    "duration": 19,
    "start_time": "2022-03-19T00:44:51.449Z"
   },
   {
    "duration": 19,
    "start_time": "2022-03-19T00:45:06.507Z"
   },
   {
    "duration": 22,
    "start_time": "2022-03-19T00:48:07.385Z"
   },
   {
    "duration": 16,
    "start_time": "2022-03-19T00:48:18.539Z"
   },
   {
    "duration": 17,
    "start_time": "2022-03-19T00:48:30.219Z"
   },
   {
    "duration": 5,
    "start_time": "2022-03-19T00:52:03.699Z"
   },
   {
    "duration": 87,
    "start_time": "2022-03-19T00:53:00.626Z"
   },
   {
    "duration": 5,
    "start_time": "2022-03-19T00:53:18.778Z"
   },
   {
    "duration": 11,
    "start_time": "2022-03-19T00:53:19.530Z"
   },
   {
    "duration": 9,
    "start_time": "2022-03-19T00:53:44.346Z"
   },
   {
    "duration": 9,
    "start_time": "2022-03-19T00:54:05.861Z"
   },
   {
    "duration": 27,
    "start_time": "2022-03-19T00:54:53.633Z"
   },
   {
    "duration": 6,
    "start_time": "2022-03-19T00:54:55.881Z"
   },
   {
    "duration": 26,
    "start_time": "2022-03-19T00:55:12.269Z"
   },
   {
    "duration": 6,
    "start_time": "2022-03-19T00:56:02.858Z"
   },
   {
    "duration": 8,
    "start_time": "2022-03-19T00:56:13.850Z"
   },
   {
    "duration": 9,
    "start_time": "2022-03-19T00:56:44.340Z"
   },
   {
    "duration": 10,
    "start_time": "2022-03-19T00:56:59.211Z"
   },
   {
    "duration": 10,
    "start_time": "2022-03-19T00:57:14.411Z"
   },
   {
    "duration": 3,
    "start_time": "2022-03-19T01:19:42.301Z"
   },
   {
    "duration": 156,
    "start_time": "2022-03-19T01:19:46.237Z"
   },
   {
    "duration": 19,
    "start_time": "2022-03-19T01:19:49.149Z"
   },
   {
    "duration": 52,
    "start_time": "2022-03-19T01:20:19.110Z"
   },
   {
    "duration": 58,
    "start_time": "2022-03-19T01:21:28.334Z"
   },
   {
    "duration": 60,
    "start_time": "2022-03-19T01:25:14.947Z"
   },
   {
    "duration": 52,
    "start_time": "2022-03-19T01:26:09.391Z"
   },
   {
    "duration": 58,
    "start_time": "2022-03-19T01:26:34.439Z"
   },
   {
    "duration": 58,
    "start_time": "2022-03-19T01:27:17.999Z"
   },
   {
    "duration": 57,
    "start_time": "2022-03-19T01:28:49.663Z"
   },
   {
    "duration": 7,
    "start_time": "2022-03-19T01:28:59.327Z"
   },
   {
    "duration": 3561,
    "start_time": "2022-03-19T01:29:06.494Z"
   },
   {
    "duration": 0,
    "start_time": "2022-03-19T01:29:10.057Z"
   },
   {
    "duration": 0,
    "start_time": "2022-03-19T01:29:10.058Z"
   },
   {
    "duration": 0,
    "start_time": "2022-03-19T01:29:10.058Z"
   },
   {
    "duration": 0,
    "start_time": "2022-03-19T01:29:10.059Z"
   },
   {
    "duration": 18,
    "start_time": "2022-03-19T01:29:10.094Z"
   },
   {
    "duration": 7,
    "start_time": "2022-03-19T01:29:11.289Z"
   },
   {
    "duration": 65,
    "start_time": "2022-03-19T01:29:15.991Z"
   },
   {
    "duration": 3,
    "start_time": "2022-03-19T01:29:24.261Z"
   },
   {
    "duration": 149,
    "start_time": "2022-03-19T01:29:24.769Z"
   },
   {
    "duration": 19,
    "start_time": "2022-03-19T01:29:25.686Z"
   },
   {
    "duration": 50,
    "start_time": "2022-03-19T01:29:26.645Z"
   },
   {
    "duration": 11,
    "start_time": "2022-03-19T01:29:30.087Z"
   },
   {
    "duration": 23,
    "start_time": "2022-03-19T01:29:30.367Z"
   },
   {
    "duration": 18,
    "start_time": "2022-03-19T01:29:31.094Z"
   },
   {
    "duration": 8,
    "start_time": "2022-03-19T01:29:31.406Z"
   },
   {
    "duration": 19,
    "start_time": "2022-03-19T01:29:33.788Z"
   },
   {
    "duration": 73,
    "start_time": "2022-03-19T01:29:33.808Z"
   },
   {
    "duration": 6,
    "start_time": "2022-03-19T01:29:34.903Z"
   },
   {
    "duration": 9,
    "start_time": "2022-03-19T01:29:36.128Z"
   },
   {
    "duration": 23,
    "start_time": "2022-03-19T01:29:36.955Z"
   },
   {
    "duration": 10,
    "start_time": "2022-03-19T01:29:37.879Z"
   },
   {
    "duration": 86,
    "start_time": "2022-03-19T01:29:41.941Z"
   },
   {
    "duration": 80,
    "start_time": "2022-03-19T01:30:48.815Z"
   },
   {
    "duration": 84,
    "start_time": "2022-03-19T01:30:59.464Z"
   },
   {
    "duration": 78,
    "start_time": "2022-03-19T01:37:15.177Z"
   },
   {
    "duration": 11,
    "start_time": "2022-03-19T01:39:49.819Z"
   },
   {
    "duration": 79,
    "start_time": "2022-03-19T01:40:22.530Z"
   },
   {
    "duration": 82,
    "start_time": "2022-03-19T01:41:11.418Z"
   },
   {
    "duration": 78,
    "start_time": "2022-03-19T01:41:22.314Z"
   },
   {
    "duration": 83,
    "start_time": "2022-03-19T01:46:06.557Z"
   },
   {
    "duration": 4,
    "start_time": "2022-03-19T01:46:37.345Z"
   },
   {
    "duration": 155,
    "start_time": "2022-03-19T01:46:37.811Z"
   },
   {
    "duration": 18,
    "start_time": "2022-03-19T01:46:39.498Z"
   },
   {
    "duration": 11,
    "start_time": "2022-03-19T01:46:43.282Z"
   },
   {
    "duration": 23,
    "start_time": "2022-03-19T01:46:43.914Z"
   },
   {
    "duration": 23,
    "start_time": "2022-03-19T01:46:51.074Z"
   },
   {
    "duration": 11,
    "start_time": "2022-03-19T01:46:52.106Z"
   },
   {
    "duration": 19,
    "start_time": "2022-03-19T01:46:52.714Z"
   },
   {
    "duration": 67,
    "start_time": "2022-03-19T01:46:53.306Z"
   },
   {
    "duration": 6,
    "start_time": "2022-03-19T01:46:54.093Z"
   },
   {
    "duration": 9,
    "start_time": "2022-03-19T01:46:54.827Z"
   },
   {
    "duration": 21,
    "start_time": "2022-03-19T01:46:55.409Z"
   },
   {
    "duration": 10,
    "start_time": "2022-03-19T01:46:57.066Z"
   },
   {
    "duration": 21,
    "start_time": "2022-03-19T01:46:57.674Z"
   },
   {
    "duration": 29,
    "start_time": "2022-03-19T01:46:59.403Z"
   },
   {
    "duration": 114,
    "start_time": "2022-03-19T01:47:01.330Z"
   },
   {
    "duration": 43,
    "start_time": "2022-03-19T01:47:02.019Z"
   },
   {
    "duration": 85,
    "start_time": "2022-03-19T01:47:03.458Z"
   },
   {
    "duration": 23,
    "start_time": "2022-03-19T01:47:04.394Z"
   },
   {
    "duration": 14,
    "start_time": "2022-03-19T01:47:05.346Z"
   },
   {
    "duration": 15,
    "start_time": "2022-03-19T01:47:06.083Z"
   },
   {
    "duration": 333,
    "start_time": "2022-03-19T01:47:16.955Z"
   },
   {
    "duration": 15,
    "start_time": "2022-03-19T01:47:25.722Z"
   },
   {
    "duration": 28,
    "start_time": "2022-03-19T01:47:31.289Z"
   },
   {
    "duration": 11,
    "start_time": "2022-03-19T01:47:31.914Z"
   },
   {
    "duration": 75,
    "start_time": "2022-03-19T01:47:33.632Z"
   },
   {
    "duration": 73,
    "start_time": "2022-03-19T01:47:56.091Z"
   },
   {
    "duration": 11,
    "start_time": "2022-03-19T01:47:57.019Z"
   },
   {
    "duration": 72,
    "start_time": "2022-03-19T01:48:01.266Z"
   },
   {
    "duration": 7,
    "start_time": "2022-03-19T01:48:01.978Z"
   },
   {
    "duration": 13,
    "start_time": "2022-03-19T01:48:03.882Z"
   },
   {
    "duration": 13,
    "start_time": "2022-03-19T01:48:06.270Z"
   },
   {
    "duration": 13,
    "start_time": "2022-03-19T01:48:06.977Z"
   },
   {
    "duration": 69,
    "start_time": "2022-03-19T01:48:33.867Z"
   },
   {
    "duration": 18,
    "start_time": "2022-03-19T01:49:06.978Z"
   },
   {
    "duration": 6,
    "start_time": "2022-03-19T01:49:11.258Z"
   },
   {
    "duration": 50,
    "start_time": "2022-03-19T01:49:13.092Z"
   },
   {
    "duration": 21,
    "start_time": "2022-03-19T01:49:17.011Z"
   },
   {
    "duration": 15,
    "start_time": "2022-03-19T01:49:18.148Z"
   },
   {
    "duration": 3,
    "start_time": "2022-03-19T01:49:19.139Z"
   },
   {
    "duration": 15,
    "start_time": "2022-03-19T01:49:20.420Z"
   },
   {
    "duration": 55,
    "start_time": "2022-03-19T01:49:21.467Z"
   },
   {
    "duration": 22,
    "start_time": "2022-03-19T01:49:22.386Z"
   },
   {
    "duration": 6,
    "start_time": "2022-03-19T01:49:39.346Z"
   },
   {
    "duration": 19,
    "start_time": "2022-03-19T01:49:51.259Z"
   },
   {
    "duration": 17,
    "start_time": "2022-03-19T01:49:53.403Z"
   },
   {
    "duration": 7,
    "start_time": "2022-03-19T01:49:54.130Z"
   },
   {
    "duration": 25,
    "start_time": "2022-03-19T01:49:56.163Z"
   },
   {
    "duration": 13,
    "start_time": "2022-03-19T01:50:11.435Z"
   },
   {
    "duration": 12,
    "start_time": "2022-03-19T01:50:16.330Z"
   },
   {
    "duration": 13,
    "start_time": "2022-03-19T01:50:17.058Z"
   },
   {
    "duration": 80,
    "start_time": "2022-03-19T01:50:22.467Z"
   },
   {
    "duration": 3,
    "start_time": "2022-03-19T01:50:40.900Z"
   },
   {
    "duration": 11,
    "start_time": "2022-03-19T01:50:42.023Z"
   },
   {
    "duration": 25,
    "start_time": "2022-03-19T01:50:45.019Z"
   },
   {
    "duration": 23,
    "start_time": "2022-03-19T01:50:45.819Z"
   },
   {
    "duration": 143,
    "start_time": "2022-03-19T01:50:46.876Z"
   },
   {
    "duration": 27,
    "start_time": "2022-03-19T01:50:48.667Z"
   },
   {
    "duration": 21,
    "start_time": "2022-03-19T01:50:50.947Z"
   },
   {
    "duration": 4,
    "start_time": "2022-03-19T01:50:59.690Z"
   },
   {
    "duration": 4,
    "start_time": "2022-03-19T01:51:03.819Z"
   },
   {
    "duration": 11,
    "start_time": "2022-03-19T01:51:06.380Z"
   },
   {
    "duration": 295,
    "start_time": "2022-03-19T01:51:08.430Z"
   },
   {
    "duration": 37,
    "start_time": "2022-03-19T01:51:14.012Z"
   },
   {
    "duration": 10,
    "start_time": "2022-03-19T01:51:17.675Z"
   },
   {
    "duration": 8,
    "start_time": "2022-03-19T01:52:16.205Z"
   },
   {
    "duration": 8,
    "start_time": "2022-03-19T01:52:17.115Z"
   },
   {
    "duration": 3,
    "start_time": "2022-03-19T01:52:19.026Z"
   },
   {
    "duration": 7,
    "start_time": "2022-03-19T01:52:22.243Z"
   },
   {
    "duration": 3,
    "start_time": "2022-03-19T01:52:23.867Z"
   },
   {
    "duration": 7,
    "start_time": "2022-03-19T01:52:28.756Z"
   },
   {
    "duration": 4,
    "start_time": "2022-03-19T01:52:29.467Z"
   },
   {
    "duration": 4,
    "start_time": "2022-03-19T01:52:30.251Z"
   },
   {
    "duration": 7,
    "start_time": "2022-03-19T01:52:31.026Z"
   },
   {
    "duration": 4,
    "start_time": "2022-03-19T01:52:31.843Z"
   },
   {
    "duration": 418,
    "start_time": "2022-03-19T01:52:32.755Z"
   },
   {
    "duration": 8,
    "start_time": "2022-03-19T01:52:34.572Z"
   },
   {
    "duration": 162,
    "start_time": "2022-03-19T01:52:35.267Z"
   },
   {
    "duration": 22,
    "start_time": "2022-03-19T01:52:36.115Z"
   },
   {
    "duration": 241,
    "start_time": "2022-03-19T01:52:39.051Z"
   },
   {
    "duration": 229,
    "start_time": "2022-03-19T01:53:28.566Z"
   },
   {
    "duration": 9,
    "start_time": "2022-03-19T01:56:04.136Z"
   },
   {
    "duration": 3,
    "start_time": "2022-03-19T01:56:05.344Z"
   },
   {
    "duration": 4,
    "start_time": "2022-03-19T01:56:07.486Z"
   },
   {
    "duration": 4,
    "start_time": "2022-03-19T01:56:08.580Z"
   },
   {
    "duration": 4,
    "start_time": "2022-03-19T01:56:09.606Z"
   },
   {
    "duration": 7,
    "start_time": "2022-03-19T01:56:12.980Z"
   },
   {
    "duration": 3,
    "start_time": "2022-03-19T01:57:01.357Z"
   },
   {
    "duration": 4,
    "start_time": "2022-03-19T01:58:03.101Z"
   },
   {
    "duration": 4,
    "start_time": "2022-03-19T01:58:04.114Z"
   },
   {
    "duration": 4,
    "start_time": "2022-03-19T01:58:04.899Z"
   },
   {
    "duration": 3,
    "start_time": "2022-03-19T01:58:05.709Z"
   },
   {
    "duration": 15,
    "start_time": "2022-03-19T01:58:46.405Z"
   },
   {
    "duration": 16,
    "start_time": "2022-03-19T01:58:47.131Z"
   },
   {
    "duration": 17,
    "start_time": "2022-03-19T01:58:47.973Z"
   },
   {
    "duration": 22,
    "start_time": "2022-03-19T01:58:49.461Z"
   },
   {
    "duration": 17,
    "start_time": "2022-03-19T01:58:50.491Z"
   },
   {
    "duration": 18,
    "start_time": "2022-03-19T01:58:52.500Z"
   },
   {
    "duration": 5,
    "start_time": "2022-03-19T01:59:04.660Z"
   },
   {
    "duration": 9,
    "start_time": "2022-03-19T01:59:08.260Z"
   },
   {
    "duration": 10,
    "start_time": "2022-03-19T01:59:09.099Z"
   },
   {
    "duration": 9,
    "start_time": "2022-03-19T01:59:33.554Z"
   },
   {
    "duration": 4,
    "start_time": "2022-03-19T02:00:38.388Z"
   },
   {
    "duration": 6,
    "start_time": "2022-03-19T02:00:39.133Z"
   },
   {
    "duration": 5,
    "start_time": "2022-03-19T02:01:33.636Z"
   },
   {
    "duration": 29,
    "start_time": "2022-03-19T02:03:20.052Z"
   },
   {
    "duration": 4,
    "start_time": "2022-03-19T02:03:20.766Z"
   },
   {
    "duration": 8,
    "start_time": "2022-03-19T02:03:21.524Z"
   },
   {
    "duration": 10,
    "start_time": "2022-03-19T02:03:22.582Z"
   },
   {
    "duration": 10,
    "start_time": "2022-03-19T02:03:29.373Z"
   },
   {
    "duration": 10,
    "start_time": "2022-03-19T02:03:30.142Z"
   },
   {
    "duration": 32,
    "start_time": "2022-03-19T02:03:30.982Z"
   },
   {
    "duration": 33,
    "start_time": "2022-03-19T02:03:31.939Z"
   },
   {
    "duration": 10,
    "start_time": "2022-03-19T02:04:29.621Z"
   },
   {
    "duration": 10,
    "start_time": "2022-03-19T02:04:30.406Z"
   },
   {
    "duration": 10,
    "start_time": "2022-03-19T02:04:31.093Z"
   },
   {
    "duration": 31,
    "start_time": "2022-03-19T02:04:31.917Z"
   },
   {
    "duration": 30,
    "start_time": "2022-03-19T02:04:32.783Z"
   },
   {
    "duration": 27,
    "start_time": "2022-03-19T02:05:51.078Z"
   },
   {
    "duration": 5,
    "start_time": "2022-03-19T02:05:51.751Z"
   },
   {
    "duration": 7,
    "start_time": "2022-03-19T02:05:52.398Z"
   },
   {
    "duration": 10,
    "start_time": "2022-03-19T02:05:53.214Z"
   },
   {
    "duration": 10,
    "start_time": "2022-03-19T02:06:02.992Z"
   },
   {
    "duration": 10,
    "start_time": "2022-03-19T02:06:04.558Z"
   },
   {
    "duration": 31,
    "start_time": "2022-03-19T02:06:15.023Z"
   },
   {
    "duration": 31,
    "start_time": "2022-03-19T02:06:27.293Z"
   },
   {
    "duration": 161,
    "start_time": "2022-03-19T02:06:28.198Z"
   },
   {
    "duration": 149,
    "start_time": "2022-03-19T02:06:30.493Z"
   },
   {
    "duration": 150,
    "start_time": "2022-03-19T02:06:34.639Z"
   },
   {
    "duration": 150,
    "start_time": "2022-03-19T02:06:35.833Z"
   },
   {
    "duration": 3,
    "start_time": "2022-03-19T02:07:39.998Z"
   },
   {
    "duration": 2,
    "start_time": "2022-03-19T02:07:51.245Z"
   },
   {
    "duration": 174,
    "start_time": "2022-03-19T02:07:52.334Z"
   },
   {
    "duration": 18,
    "start_time": "2022-03-19T02:07:55.453Z"
   },
   {
    "duration": 11,
    "start_time": "2022-03-19T02:07:58.854Z"
   },
   {
    "duration": 23,
    "start_time": "2022-03-19T02:07:59.685Z"
   },
   {
    "duration": 19,
    "start_time": "2022-03-19T02:08:00.892Z"
   },
   {
    "duration": 8,
    "start_time": "2022-03-19T02:08:01.430Z"
   },
   {
    "duration": 20,
    "start_time": "2022-03-19T02:08:01.910Z"
   },
   {
    "duration": 68,
    "start_time": "2022-03-19T02:08:02.431Z"
   },
   {
    "duration": 6,
    "start_time": "2022-03-19T02:08:02.933Z"
   },
   {
    "duration": 9,
    "start_time": "2022-03-19T02:08:03.406Z"
   },
   {
    "duration": 22,
    "start_time": "2022-03-19T02:08:04.542Z"
   },
   {
    "duration": 10,
    "start_time": "2022-03-19T02:08:05.132Z"
   },
   {
    "duration": 24,
    "start_time": "2022-03-19T02:08:05.637Z"
   },
   {
    "duration": 33,
    "start_time": "2022-03-19T02:08:06.045Z"
   },
   {
    "duration": 117,
    "start_time": "2022-03-19T02:08:06.933Z"
   },
   {
    "duration": 45,
    "start_time": "2022-03-19T02:08:07.358Z"
   },
   {
    "duration": 91,
    "start_time": "2022-03-19T02:08:08.369Z"
   },
   {
    "duration": 25,
    "start_time": "2022-03-19T02:08:09.165Z"
   },
   {
    "duration": 14,
    "start_time": "2022-03-19T02:08:09.598Z"
   },
   {
    "duration": 13,
    "start_time": "2022-03-19T02:08:10.246Z"
   },
   {
    "duration": 338,
    "start_time": "2022-03-19T02:08:11.287Z"
   },
   {
    "duration": 17,
    "start_time": "2022-03-19T02:08:12.253Z"
   },
   {
    "duration": 34,
    "start_time": "2022-03-19T02:08:13.381Z"
   },
   {
    "duration": 10,
    "start_time": "2022-03-19T02:08:13.909Z"
   },
   {
    "duration": 77,
    "start_time": "2022-03-19T02:08:14.415Z"
   },
   {
    "duration": 11,
    "start_time": "2022-03-19T02:08:14.966Z"
   },
   {
    "duration": 72,
    "start_time": "2022-03-19T02:08:16.157Z"
   },
   {
    "duration": 6,
    "start_time": "2022-03-19T02:08:18.253Z"
   },
   {
    "duration": 12,
    "start_time": "2022-03-19T02:08:19.221Z"
   },
   {
    "duration": 12,
    "start_time": "2022-03-19T02:08:19.670Z"
   },
   {
    "duration": 12,
    "start_time": "2022-03-19T02:08:20.094Z"
   },
   {
    "duration": 71,
    "start_time": "2022-03-19T02:08:20.519Z"
   },
   {
    "duration": 15,
    "start_time": "2022-03-19T02:08:21.006Z"
   },
   {
    "duration": 7,
    "start_time": "2022-03-19T02:08:22.509Z"
   },
   {
    "duration": 55,
    "start_time": "2022-03-19T02:08:22.974Z"
   },
   {
    "duration": 22,
    "start_time": "2022-03-19T02:08:24.550Z"
   },
   {
    "duration": 16,
    "start_time": "2022-03-19T02:08:24.893Z"
   },
   {
    "duration": 4,
    "start_time": "2022-03-19T02:08:25.308Z"
   },
   {
    "duration": 16,
    "start_time": "2022-03-19T02:08:25.815Z"
   },
   {
    "duration": 59,
    "start_time": "2022-03-19T02:08:26.287Z"
   },
   {
    "duration": 23,
    "start_time": "2022-03-19T02:08:26.765Z"
   },
   {
    "duration": 6,
    "start_time": "2022-03-19T02:08:27.173Z"
   },
   {
    "duration": 18,
    "start_time": "2022-03-19T02:08:27.599Z"
   },
   {
    "duration": 17,
    "start_time": "2022-03-19T02:08:28.046Z"
   },
   {
    "duration": 7,
    "start_time": "2022-03-19T02:08:28.709Z"
   },
   {
    "duration": 24,
    "start_time": "2022-03-19T02:08:29.157Z"
   },
   {
    "duration": 13,
    "start_time": "2022-03-19T02:08:29.549Z"
   },
   {
    "duration": 12,
    "start_time": "2022-03-19T02:08:30.047Z"
   },
   {
    "duration": 14,
    "start_time": "2022-03-19T02:08:30.533Z"
   },
   {
    "duration": 2,
    "start_time": "2022-03-19T02:08:30.949Z"
   },
   {
    "duration": 10,
    "start_time": "2022-03-19T02:08:31.432Z"
   },
   {
    "duration": 26,
    "start_time": "2022-03-19T02:08:31.789Z"
   },
   {
    "duration": 24,
    "start_time": "2022-03-19T02:08:32.189Z"
   },
   {
    "duration": 144,
    "start_time": "2022-03-19T02:08:32.589Z"
   },
   {
    "duration": 28,
    "start_time": "2022-03-19T02:08:33.309Z"
   },
   {
    "duration": 23,
    "start_time": "2022-03-19T02:08:33.684Z"
   },
   {
    "duration": 4,
    "start_time": "2022-03-19T02:08:34.361Z"
   },
   {
    "duration": 4,
    "start_time": "2022-03-19T02:08:34.677Z"
   },
   {
    "duration": 10,
    "start_time": "2022-03-19T02:08:35.381Z"
   },
   {
    "duration": 374,
    "start_time": "2022-03-19T02:08:35.741Z"
   },
   {
    "duration": 40,
    "start_time": "2022-03-19T02:08:36.856Z"
   },
   {
    "duration": 10,
    "start_time": "2022-03-19T02:08:37.518Z"
   },
   {
    "duration": 8,
    "start_time": "2022-03-19T02:08:37.877Z"
   },
   {
    "duration": 3,
    "start_time": "2022-03-19T02:08:38.581Z"
   },
   {
    "duration": 7,
    "start_time": "2022-03-19T02:08:38.949Z"
   },
   {
    "duration": 4,
    "start_time": "2022-03-19T02:08:39.270Z"
   },
   {
    "duration": 7,
    "start_time": "2022-03-19T02:08:39.614Z"
   },
   {
    "duration": 4,
    "start_time": "2022-03-19T02:08:39.965Z"
   },
   {
    "duration": 3,
    "start_time": "2022-03-19T02:08:40.430Z"
   },
   {
    "duration": 7,
    "start_time": "2022-03-19T02:08:40.805Z"
   },
   {
    "duration": 4,
    "start_time": "2022-03-19T02:08:41.140Z"
   },
   {
    "duration": 299,
    "start_time": "2022-03-19T02:08:41.518Z"
   },
   {
    "duration": 7,
    "start_time": "2022-03-19T02:08:42.294Z"
   },
   {
    "duration": 160,
    "start_time": "2022-03-19T02:08:42.662Z"
   },
   {
    "duration": 23,
    "start_time": "2022-03-19T02:08:43.061Z"
   },
   {
    "duration": 190,
    "start_time": "2022-03-19T02:08:44.181Z"
   },
   {
    "duration": 10,
    "start_time": "2022-03-19T02:08:44.493Z"
   },
   {
    "duration": 4,
    "start_time": "2022-03-19T02:08:44.862Z"
   },
   {
    "duration": 4,
    "start_time": "2022-03-19T02:08:45.221Z"
   },
   {
    "duration": 3,
    "start_time": "2022-03-19T02:08:45.582Z"
   },
   {
    "duration": 4,
    "start_time": "2022-03-19T02:08:46.165Z"
   },
   {
    "duration": 8,
    "start_time": "2022-03-19T02:08:46.541Z"
   },
   {
    "duration": 4,
    "start_time": "2022-03-19T02:08:46.821Z"
   },
   {
    "duration": 4,
    "start_time": "2022-03-19T02:08:47.157Z"
   },
   {
    "duration": 4,
    "start_time": "2022-03-19T02:08:47.489Z"
   },
   {
    "duration": 4,
    "start_time": "2022-03-19T02:08:47.894Z"
   },
   {
    "duration": 14,
    "start_time": "2022-03-19T02:08:50.062Z"
   },
   {
    "duration": 16,
    "start_time": "2022-03-19T02:08:50.421Z"
   },
   {
    "duration": 18,
    "start_time": "2022-03-19T02:08:50.774Z"
   },
   {
    "duration": 22,
    "start_time": "2022-03-19T02:08:51.405Z"
   },
   {
    "duration": 17,
    "start_time": "2022-03-19T02:08:52.085Z"
   },
   {
    "duration": 17,
    "start_time": "2022-03-19T02:08:52.789Z"
   },
   {
    "duration": 5,
    "start_time": "2022-03-19T02:08:53.502Z"
   },
   {
    "duration": 10,
    "start_time": "2022-03-19T02:08:54.005Z"
   },
   {
    "duration": 10,
    "start_time": "2022-03-19T02:08:54.590Z"
   },
   {
    "duration": 9,
    "start_time": "2022-03-19T02:08:55.047Z"
   },
   {
    "duration": 3,
    "start_time": "2022-03-19T02:08:55.965Z"
   },
   {
    "duration": 6,
    "start_time": "2022-03-19T02:08:56.447Z"
   },
   {
    "duration": 27,
    "start_time": "2022-03-19T02:08:57.509Z"
   },
   {
    "duration": 5,
    "start_time": "2022-03-19T02:08:57.853Z"
   },
   {
    "duration": 8,
    "start_time": "2022-03-19T02:08:58.383Z"
   },
   {
    "duration": 9,
    "start_time": "2022-03-19T02:08:58.757Z"
   },
   {
    "duration": 11,
    "start_time": "2022-03-19T02:08:59.125Z"
   },
   {
    "duration": 11,
    "start_time": "2022-03-19T02:08:59.501Z"
   },
   {
    "duration": 31,
    "start_time": "2022-03-19T02:08:59.853Z"
   },
   {
    "duration": 32,
    "start_time": "2022-03-19T02:09:00.230Z"
   },
   {
    "duration": 226,
    "start_time": "2022-03-19T02:09:00.614Z"
   },
   {
    "duration": 150,
    "start_time": "2022-03-19T02:09:01.013Z"
   },
   {
    "duration": 166,
    "start_time": "2022-03-19T02:09:01.647Z"
   },
   {
    "duration": 152,
    "start_time": "2022-03-19T02:09:02.542Z"
   },
   {
    "duration": 1974,
    "start_time": "2022-03-19T20:15:33.650Z"
   },
   {
    "duration": 375,
    "start_time": "2022-03-19T20:15:35.627Z"
   },
   {
    "duration": 31,
    "start_time": "2022-03-19T20:15:36.005Z"
   },
   {
    "duration": 20,
    "start_time": "2022-03-19T20:15:36.039Z"
   },
   {
    "duration": 33,
    "start_time": "2022-03-19T20:15:36.085Z"
   },
   {
    "duration": 38,
    "start_time": "2022-03-19T20:15:36.121Z"
   },
   {
    "duration": 35,
    "start_time": "2022-03-19T20:15:36.161Z"
   },
   {
    "duration": 35,
    "start_time": "2022-03-19T20:15:36.199Z"
   },
   {
    "duration": 154,
    "start_time": "2022-03-19T20:15:36.237Z"
   },
   {
    "duration": 10,
    "start_time": "2022-03-19T20:15:36.397Z"
   },
   {
    "duration": 15,
    "start_time": "2022-03-19T20:15:36.409Z"
   },
   {
    "duration": 64,
    "start_time": "2022-03-19T20:15:36.426Z"
   },
   {
    "duration": 16,
    "start_time": "2022-03-19T20:15:36.493Z"
   },
   {
    "duration": 50,
    "start_time": "2022-03-19T20:15:36.511Z"
   },
   {
    "duration": 52,
    "start_time": "2022-03-19T20:15:36.563Z"
   },
   {
    "duration": 197,
    "start_time": "2022-03-19T20:15:36.617Z"
   },
   {
    "duration": 78,
    "start_time": "2022-03-19T20:15:36.816Z"
   },
   {
    "duration": 149,
    "start_time": "2022-03-19T20:15:36.896Z"
   },
   {
    "duration": 46,
    "start_time": "2022-03-19T20:15:37.047Z"
   },
   {
    "duration": 18,
    "start_time": "2022-03-19T20:15:37.096Z"
   },
   {
    "duration": 28,
    "start_time": "2022-03-19T20:15:37.116Z"
   },
   {
    "duration": 857,
    "start_time": "2022-03-19T20:15:37.147Z"
   },
   {
    "duration": 26,
    "start_time": "2022-03-19T20:15:38.007Z"
   },
   {
    "duration": 67,
    "start_time": "2022-03-19T20:15:38.036Z"
   },
   {
    "duration": 16,
    "start_time": "2022-03-19T20:15:38.105Z"
   },
   {
    "duration": 164,
    "start_time": "2022-03-19T20:15:38.124Z"
   },
   {
    "duration": 17,
    "start_time": "2022-03-19T20:15:38.290Z"
   },
   {
    "duration": 153,
    "start_time": "2022-03-19T20:15:38.314Z"
   },
   {
    "duration": 19,
    "start_time": "2022-03-19T20:15:38.469Z"
   },
   {
    "duration": 16,
    "start_time": "2022-03-19T20:15:38.491Z"
   },
   {
    "duration": 16,
    "start_time": "2022-03-19T20:15:38.509Z"
   },
   {
    "duration": 16,
    "start_time": "2022-03-19T20:15:38.527Z"
   },
   {
    "duration": 160,
    "start_time": "2022-03-19T20:15:38.545Z"
   },
   {
    "duration": 23,
    "start_time": "2022-03-19T20:15:38.707Z"
   },
   {
    "duration": 10,
    "start_time": "2022-03-19T20:15:38.732Z"
   },
   {
    "duration": 111,
    "start_time": "2022-03-19T20:15:38.745Z"
   },
   {
    "duration": 39,
    "start_time": "2022-03-19T20:15:38.859Z"
   },
   {
    "duration": 21,
    "start_time": "2022-03-19T20:15:38.900Z"
   },
   {
    "duration": 6,
    "start_time": "2022-03-19T20:15:38.923Z"
   },
   {
    "duration": 59,
    "start_time": "2022-03-19T20:15:38.931Z"
   },
   {
    "duration": 95,
    "start_time": "2022-03-19T20:15:38.993Z"
   },
   {
    "duration": 30,
    "start_time": "2022-03-19T20:15:39.090Z"
   },
   {
    "duration": 8,
    "start_time": "2022-03-19T20:15:39.123Z"
   },
   {
    "duration": 62,
    "start_time": "2022-03-19T20:15:39.133Z"
   },
   {
    "duration": 24,
    "start_time": "2022-03-19T20:15:39.198Z"
   },
   {
    "duration": 9,
    "start_time": "2022-03-19T20:15:39.224Z"
   },
   {
    "duration": 60,
    "start_time": "2022-03-19T20:15:39.235Z"
   },
   {
    "duration": 15,
    "start_time": "2022-03-19T20:15:39.297Z"
   },
   {
    "duration": 15,
    "start_time": "2022-03-19T20:15:39.315Z"
   },
   {
    "duration": 16,
    "start_time": "2022-03-19T20:15:39.332Z"
   },
   {
    "duration": 4,
    "start_time": "2022-03-19T20:15:39.384Z"
   },
   {
    "duration": 21,
    "start_time": "2022-03-19T20:15:39.390Z"
   },
   {
    "duration": 43,
    "start_time": "2022-03-19T20:15:39.413Z"
   },
   {
    "duration": 52,
    "start_time": "2022-03-19T20:15:39.458Z"
   },
   {
    "duration": 284,
    "start_time": "2022-03-19T20:15:39.513Z"
   },
   {
    "duration": 40,
    "start_time": "2022-03-19T20:15:39.800Z"
   },
   {
    "duration": 58,
    "start_time": "2022-03-19T20:15:39.842Z"
   },
   {
    "duration": 6,
    "start_time": "2022-03-19T20:15:39.902Z"
   },
   {
    "duration": 10,
    "start_time": "2022-03-19T20:15:39.911Z"
   },
   {
    "duration": 18,
    "start_time": "2022-03-19T20:15:39.924Z"
   },
   {
    "duration": 570,
    "start_time": "2022-03-19T20:15:39.944Z"
   },
   {
    "duration": 78,
    "start_time": "2022-03-19T20:15:40.517Z"
   },
   {
    "duration": 15,
    "start_time": "2022-03-19T20:15:40.597Z"
   },
   {
    "duration": 13,
    "start_time": "2022-03-19T20:15:40.615Z"
   },
   {
    "duration": 5,
    "start_time": "2022-03-19T20:15:40.631Z"
   },
   {
    "duration": 49,
    "start_time": "2022-03-19T20:15:40.639Z"
   },
   {
    "duration": 6,
    "start_time": "2022-03-19T20:15:40.691Z"
   },
   {
    "duration": 14,
    "start_time": "2022-03-19T20:15:40.699Z"
   },
   {
    "duration": 8,
    "start_time": "2022-03-19T20:15:40.715Z"
   },
   {
    "duration": 5,
    "start_time": "2022-03-19T20:15:40.725Z"
   },
   {
    "duration": 13,
    "start_time": "2022-03-19T20:15:40.733Z"
   },
   {
    "duration": 5,
    "start_time": "2022-03-19T20:15:40.784Z"
   },
   {
    "duration": 526,
    "start_time": "2022-03-19T20:15:40.792Z"
   },
   {
    "duration": 14,
    "start_time": "2022-03-19T20:15:41.320Z"
   },
   {
    "duration": 256,
    "start_time": "2022-03-19T20:15:41.336Z"
   },
   {
    "duration": 31,
    "start_time": "2022-03-19T20:15:41.594Z"
   },
   {
    "duration": 384,
    "start_time": "2022-03-19T20:15:41.627Z"
   },
   {
    "duration": 12,
    "start_time": "2022-03-19T20:15:42.014Z"
   },
   {
    "duration": 6,
    "start_time": "2022-03-19T20:15:42.028Z"
   },
   {
    "duration": 9,
    "start_time": "2022-03-19T20:15:42.036Z"
   },
   {
    "duration": 13,
    "start_time": "2022-03-19T20:15:42.047Z"
   },
   {
    "duration": 5,
    "start_time": "2022-03-19T20:15:42.091Z"
   },
   {
    "duration": 13,
    "start_time": "2022-03-19T20:15:42.098Z"
   },
   {
    "duration": 10,
    "start_time": "2022-03-19T20:15:42.113Z"
   },
   {
    "duration": 9,
    "start_time": "2022-03-19T20:15:42.125Z"
   },
   {
    "duration": 8,
    "start_time": "2022-03-19T20:15:42.136Z"
   },
   {
    "duration": 6,
    "start_time": "2022-03-19T20:15:42.183Z"
   },
   {
    "duration": 30,
    "start_time": "2022-03-19T20:15:42.191Z"
   },
   {
    "duration": 22,
    "start_time": "2022-03-19T20:15:42.223Z"
   },
   {
    "duration": 56,
    "start_time": "2022-03-19T20:15:42.247Z"
   },
   {
    "duration": 32,
    "start_time": "2022-03-19T20:15:42.305Z"
   },
   {
    "duration": 48,
    "start_time": "2022-03-19T20:15:42.339Z"
   },
   {
    "duration": 24,
    "start_time": "2022-03-19T20:15:42.389Z"
   },
   {
    "duration": 8,
    "start_time": "2022-03-19T20:15:42.415Z"
   },
   {
    "duration": 21,
    "start_time": "2022-03-19T20:15:42.425Z"
   },
   {
    "duration": 46,
    "start_time": "2022-03-19T20:15:42.448Z"
   },
   {
    "duration": 13,
    "start_time": "2022-03-19T20:15:42.497Z"
   },
   {
    "duration": 5,
    "start_time": "2022-03-19T20:15:42.512Z"
   },
   {
    "duration": 12,
    "start_time": "2022-03-19T20:15:42.519Z"
   },
   {
    "duration": 77,
    "start_time": "2022-03-19T20:15:42.533Z"
   },
   {
    "duration": 9,
    "start_time": "2022-03-19T20:15:42.612Z"
   },
   {
    "duration": 14,
    "start_time": "2022-03-19T20:15:42.624Z"
   },
   {
    "duration": 45,
    "start_time": "2022-03-19T20:15:42.641Z"
   },
   {
    "duration": 19,
    "start_time": "2022-03-19T20:15:42.689Z"
   },
   {
    "duration": 17,
    "start_time": "2022-03-19T20:15:42.710Z"
   },
   {
    "duration": 74,
    "start_time": "2022-03-19T20:15:42.729Z"
   },
   {
    "duration": 47,
    "start_time": "2022-03-19T20:15:42.805Z"
   },
   {
    "duration": 321,
    "start_time": "2022-03-19T20:15:42.854Z"
   },
   {
    "duration": 290,
    "start_time": "2022-03-19T20:15:43.177Z"
   },
   {
    "duration": 306,
    "start_time": "2022-03-19T20:15:43.469Z"
   },
   {
    "duration": 296,
    "start_time": "2022-03-19T20:15:43.777Z"
   },
   {
    "duration": 97,
    "start_time": "2022-03-19T20:36:47.662Z"
   },
   {
    "duration": 1677,
    "start_time": "2022-03-20T02:47:18.606Z"
   },
   {
    "duration": 219,
    "start_time": "2022-03-20T02:47:20.286Z"
   },
   {
    "duration": 28,
    "start_time": "2022-03-20T02:47:20.507Z"
   },
   {
    "duration": 19,
    "start_time": "2022-03-20T02:47:22.471Z"
   },
   {
    "duration": 31,
    "start_time": "2022-03-20T02:47:22.493Z"
   },
   {
    "duration": 34,
    "start_time": "2022-03-20T02:47:23.460Z"
   },
   {
    "duration": 12,
    "start_time": "2022-03-20T02:47:23.988Z"
   },
   {
    "duration": 34,
    "start_time": "2022-03-20T02:47:24.304Z"
   },
   {
    "duration": 107,
    "start_time": "2022-03-20T02:47:25.172Z"
   },
   {
    "duration": 9,
    "start_time": "2022-03-20T02:47:25.606Z"
   },
   {
    "duration": 13,
    "start_time": "2022-03-20T02:47:26.076Z"
   },
   {
    "duration": 31,
    "start_time": "2022-03-20T02:47:26.580Z"
   },
   {
    "duration": 16,
    "start_time": "2022-03-20T02:47:27.099Z"
   },
   {
    "duration": 34,
    "start_time": "2022-03-20T02:47:27.532Z"
   },
   {
    "duration": 40,
    "start_time": "2022-03-20T02:47:29.524Z"
   },
   {
    "duration": 11,
    "start_time": "2022-03-20T02:48:35.244Z"
   },
   {
    "duration": 12,
    "start_time": "2022-03-20T02:48:43.986Z"
   },
   {
    "duration": 5,
    "start_time": "2022-03-20T02:50:04.294Z"
   },
   {
    "duration": 6,
    "start_time": "2022-03-20T02:50:14.405Z"
   },
   {
    "duration": 5,
    "start_time": "2022-03-20T02:51:27.749Z"
   },
   {
    "duration": 5,
    "start_time": "2022-03-20T02:52:04.229Z"
   },
   {
    "duration": 137,
    "start_time": "2022-03-20T02:56:39.541Z"
   },
   {
    "duration": 12,
    "start_time": "2022-03-20T02:57:03.437Z"
   },
   {
    "duration": 6,
    "start_time": "2022-03-20T02:57:03.959Z"
   },
   {
    "duration": 5,
    "start_time": "2022-03-20T02:57:04.527Z"
   },
   {
    "duration": 167,
    "start_time": "2022-03-20T02:57:05.845Z"
   },
   {
    "duration": 63,
    "start_time": "2022-03-20T02:57:06.326Z"
   },
   {
    "duration": 143,
    "start_time": "2022-03-20T02:57:06.790Z"
   },
   {
    "duration": 36,
    "start_time": "2022-03-20T02:57:07.156Z"
   },
   {
    "duration": 17,
    "start_time": "2022-03-20T02:57:07.430Z"
   },
   {
    "duration": 17,
    "start_time": "2022-03-20T02:57:07.733Z"
   },
   {
    "duration": 704,
    "start_time": "2022-03-20T02:57:08.269Z"
   },
   {
    "duration": 25,
    "start_time": "2022-03-20T02:57:09.085Z"
   },
   {
    "duration": 43,
    "start_time": "2022-03-20T02:57:09.725Z"
   },
   {
    "duration": 15,
    "start_time": "2022-03-20T02:57:10.001Z"
   },
   {
    "duration": 117,
    "start_time": "2022-03-20T02:57:10.312Z"
   },
   {
    "duration": 16,
    "start_time": "2022-03-20T02:57:10.564Z"
   },
   {
    "duration": 114,
    "start_time": "2022-03-20T02:57:11.252Z"
   },
   {
    "duration": 9,
    "start_time": "2022-03-20T02:57:11.782Z"
   },
   {
    "duration": 17,
    "start_time": "2022-03-20T02:57:12.340Z"
   },
   {
    "duration": 15,
    "start_time": "2022-03-20T02:57:12.623Z"
   },
   {
    "duration": 16,
    "start_time": "2022-03-20T02:57:13.190Z"
   },
   {
    "duration": 100,
    "start_time": "2022-03-20T02:57:13.407Z"
   },
   {
    "duration": 22,
    "start_time": "2022-03-20T02:57:13.669Z"
   },
   {
    "duration": 8,
    "start_time": "2022-03-20T02:57:14.431Z"
   },
   {
    "duration": 78,
    "start_time": "2022-03-20T02:57:15.093Z"
   },
   {
    "duration": 32,
    "start_time": "2022-03-20T02:57:15.516Z"
   },
   {
    "duration": 20,
    "start_time": "2022-03-20T02:57:15.805Z"
   },
   {
    "duration": 6,
    "start_time": "2022-03-20T02:57:16.085Z"
   },
   {
    "duration": 23,
    "start_time": "2022-03-20T02:57:16.341Z"
   },
   {
    "duration": 85,
    "start_time": "2022-03-20T02:57:16.773Z"
   },
   {
    "duration": 31,
    "start_time": "2022-03-20T02:57:17.101Z"
   },
   {
    "duration": 6,
    "start_time": "2022-03-20T02:57:17.358Z"
   },
   {
    "duration": 24,
    "start_time": "2022-03-20T02:57:17.645Z"
   },
   {
    "duration": 25,
    "start_time": "2022-03-20T02:57:17.917Z"
   },
   {
    "duration": 8,
    "start_time": "2022-03-20T02:57:18.192Z"
   },
   {
    "duration": 31,
    "start_time": "2022-03-20T02:57:18.446Z"
   },
   {
    "duration": 16,
    "start_time": "2022-03-20T02:57:18.680Z"
   },
   {
    "duration": 15,
    "start_time": "2022-03-20T02:57:19.005Z"
   },
   {
    "duration": 16,
    "start_time": "2022-03-20T02:57:19.301Z"
   },
   {
    "duration": 4,
    "start_time": "2022-03-20T02:57:19.621Z"
   },
   {
    "duration": 16,
    "start_time": "2022-03-20T02:57:19.909Z"
   },
   {
    "duration": 32,
    "start_time": "2022-03-20T02:57:20.149Z"
   },
   {
    "duration": 32,
    "start_time": "2022-03-20T02:57:20.621Z"
   },
   {
    "duration": 261,
    "start_time": "2022-03-20T02:57:20.925Z"
   },
   {
    "duration": 38,
    "start_time": "2022-03-20T02:57:22.205Z"
   },
   {
    "duration": 30,
    "start_time": "2022-03-20T02:57:22.246Z"
   },
   {
    "duration": 6,
    "start_time": "2022-03-20T02:57:22.278Z"
   },
   {
    "duration": 6,
    "start_time": "2022-03-20T02:57:22.389Z"
   },
   {
    "duration": 14,
    "start_time": "2022-03-20T02:57:24.538Z"
   },
   {
    "duration": 15,
    "start_time": "2022-03-20T02:57:37.542Z"
   },
   {
    "duration": 6,
    "start_time": "2022-03-20T02:57:47.038Z"
   },
   {
    "duration": 6,
    "start_time": "2022-03-20T02:59:18.070Z"
   },
   {
    "duration": 6,
    "start_time": "2022-03-20T02:59:35.085Z"
   },
   {
    "duration": 16,
    "start_time": "2022-03-20T03:01:34.494Z"
   },
   {
    "duration": 383,
    "start_time": "2022-03-20T03:01:34.789Z"
   },
   {
    "duration": 60,
    "start_time": "2022-03-20T03:01:35.904Z"
   },
   {
    "duration": 14,
    "start_time": "2022-03-20T03:01:38.126Z"
   },
   {
    "duration": 12,
    "start_time": "2022-03-20T03:01:38.870Z"
   },
   {
    "duration": 4,
    "start_time": "2022-03-20T03:01:39.358Z"
   },
   {
    "duration": 10,
    "start_time": "2022-03-20T03:01:39.752Z"
   },
   {
    "duration": 5,
    "start_time": "2022-03-20T03:01:40.549Z"
   },
   {
    "duration": 10,
    "start_time": "2022-03-20T03:01:40.942Z"
   },
   {
    "duration": 6,
    "start_time": "2022-03-20T03:01:41.326Z"
   },
   {
    "duration": 5,
    "start_time": "2022-03-20T03:01:41.711Z"
   },
   {
    "duration": 11,
    "start_time": "2022-03-20T03:01:42.102Z"
   },
   {
    "duration": 5,
    "start_time": "2022-03-20T03:01:42.558Z"
   },
   {
    "duration": 391,
    "start_time": "2022-03-20T03:01:42.917Z"
   },
   {
    "duration": 13,
    "start_time": "2022-03-20T03:01:44.414Z"
   },
   {
    "duration": 223,
    "start_time": "2022-03-20T03:01:46.943Z"
   },
   {
    "duration": 29,
    "start_time": "2022-03-20T03:01:47.365Z"
   },
   {
    "duration": 5,
    "start_time": "2022-03-20T03:05:58.033Z"
   },
   {
    "duration": 408,
    "start_time": "2022-03-20T03:05:58.911Z"
   },
   {
    "duration": 15,
    "start_time": "2022-03-20T03:08:03.328Z"
   },
   {
    "duration": 242,
    "start_time": "2022-03-20T03:11:05.943Z"
   },
   {
    "duration": 350,
    "start_time": "2022-03-20T03:16:43.576Z"
   },
   {
    "duration": 12,
    "start_time": "2022-03-20T03:16:44.144Z"
   },
   {
    "duration": 6,
    "start_time": "2022-03-20T03:16:44.411Z"
   },
   {
    "duration": 5,
    "start_time": "2022-03-20T03:16:45.167Z"
   },
   {
    "duration": 5,
    "start_time": "2022-03-20T03:16:45.497Z"
   },
   {
    "duration": 6,
    "start_time": "2022-03-20T03:16:45.791Z"
   },
   {
    "duration": 13,
    "start_time": "2022-03-20T03:16:46.360Z"
   },
   {
    "duration": 8,
    "start_time": "2022-03-20T03:23:38.577Z"
   },
   {
    "duration": 274,
    "start_time": "2022-03-20T03:25:19.592Z"
   },
   {
    "duration": 5,
    "start_time": "2022-03-20T03:25:54.497Z"
   },
   {
    "duration": 5,
    "start_time": "2022-03-20T03:25:54.961Z"
   },
   {
    "duration": 5,
    "start_time": "2022-03-20T03:25:55.345Z"
   },
   {
    "duration": 6,
    "start_time": "2022-03-20T03:25:55.849Z"
   },
   {
    "duration": 24,
    "start_time": "2022-03-20T03:26:03.360Z"
   },
   {
    "duration": 22,
    "start_time": "2022-03-20T03:26:04.321Z"
   },
   {
    "duration": 23,
    "start_time": "2022-03-20T03:26:04.840Z"
   },
   {
    "duration": 30,
    "start_time": "2022-03-20T03:26:05.544Z"
   },
   {
    "duration": 24,
    "start_time": "2022-03-20T03:26:06.232Z"
   },
   {
    "duration": 24,
    "start_time": "2022-03-20T03:26:19.608Z"
   },
   {
    "duration": 8,
    "start_time": "2022-03-20T03:26:22.321Z"
   },
   {
    "duration": 15,
    "start_time": "2022-03-20T03:26:31.657Z"
   },
   {
    "duration": 14,
    "start_time": "2022-03-20T03:26:32.169Z"
   },
   {
    "duration": 15,
    "start_time": "2022-03-20T03:26:33.153Z"
   },
   {
    "duration": 30,
    "start_time": "2022-03-20T03:28:29.370Z"
   },
   {
    "duration": 24,
    "start_time": "2022-03-20T03:28:29.786Z"
   },
   {
    "duration": 25,
    "start_time": "2022-03-20T03:28:30.122Z"
   },
   {
    "duration": 32,
    "start_time": "2022-03-20T03:28:30.732Z"
   },
   {
    "duration": 25,
    "start_time": "2022-03-20T03:28:31.410Z"
   },
   {
    "duration": 24,
    "start_time": "2022-03-20T03:28:31.993Z"
   },
   {
    "duration": 7,
    "start_time": "2022-03-20T03:28:34.090Z"
   },
   {
    "duration": 13,
    "start_time": "2022-03-20T03:28:35.681Z"
   },
   {
    "duration": 15,
    "start_time": "2022-03-20T03:28:36.601Z"
   },
   {
    "duration": 47,
    "start_time": "2022-03-20T03:37:47.561Z"
   },
   {
    "duration": 30,
    "start_time": "2022-03-20T03:38:00.794Z"
   },
   {
    "duration": 10,
    "start_time": "2022-03-20T03:38:16.123Z"
   },
   {
    "duration": 21,
    "start_time": "2022-03-20T03:38:26.911Z"
   },
   {
    "duration": 25,
    "start_time": "2022-03-20T03:39:49.088Z"
   },
   {
    "duration": 26,
    "start_time": "2022-03-20T03:41:20.828Z"
   },
   {
    "duration": 27,
    "start_time": "2022-03-20T03:42:09.417Z"
   },
   {
    "duration": 5,
    "start_time": "2022-03-20T03:45:05.486Z"
   },
   {
    "duration": 216,
    "start_time": "2022-03-20T03:45:06.255Z"
   },
   {
    "duration": 28,
    "start_time": "2022-03-20T03:45:06.775Z"
   },
   {
    "duration": 19,
    "start_time": "2022-03-20T03:45:08.488Z"
   },
   {
    "duration": 31,
    "start_time": "2022-03-20T03:45:08.785Z"
   },
   {
    "duration": 31,
    "start_time": "2022-03-20T03:45:09.406Z"
   },
   {
    "duration": 12,
    "start_time": "2022-03-20T03:45:09.728Z"
   },
   {
    "duration": 28,
    "start_time": "2022-03-20T03:45:10.080Z"
   },
   {
    "duration": 109,
    "start_time": "2022-03-20T03:45:10.384Z"
   },
   {
    "duration": 9,
    "start_time": "2022-03-20T03:45:10.657Z"
   },
   {
    "duration": 10,
    "start_time": "2022-03-20T03:45:10.951Z"
   },
   {
    "duration": 32,
    "start_time": "2022-03-20T03:45:11.233Z"
   },
   {
    "duration": 15,
    "start_time": "2022-03-20T03:45:11.495Z"
   },
   {
    "duration": 32,
    "start_time": "2022-03-20T03:45:11.833Z"
   },
   {
    "duration": 40,
    "start_time": "2022-03-20T03:45:12.128Z"
   },
   {
    "duration": 12,
    "start_time": "2022-03-20T03:45:14.492Z"
   },
   {
    "duration": 5,
    "start_time": "2022-03-20T03:45:14.809Z"
   },
   {
    "duration": 5,
    "start_time": "2022-03-20T03:45:15.105Z"
   },
   {
    "duration": 163,
    "start_time": "2022-03-20T03:45:15.672Z"
   },
   {
    "duration": 61,
    "start_time": "2022-03-20T03:45:15.944Z"
   },
   {
    "duration": 129,
    "start_time": "2022-03-20T03:45:16.236Z"
   },
   {
    "duration": 32,
    "start_time": "2022-03-20T03:45:16.512Z"
   },
   {
    "duration": 17,
    "start_time": "2022-03-20T03:45:16.816Z"
   },
   {
    "duration": 18,
    "start_time": "2022-03-20T03:45:17.102Z"
   },
   {
    "duration": 581,
    "start_time": "2022-03-20T03:45:17.744Z"
   },
   {
    "duration": 24,
    "start_time": "2022-03-20T03:45:18.487Z"
   },
   {
    "duration": 39,
    "start_time": "2022-03-20T03:45:19.016Z"
   },
   {
    "duration": 16,
    "start_time": "2022-03-20T03:45:19.303Z"
   },
   {
    "duration": 116,
    "start_time": "2022-03-20T03:45:19.640Z"
   },
   {
    "duration": 17,
    "start_time": "2022-03-20T03:45:19.987Z"
   },
   {
    "duration": 105,
    "start_time": "2022-03-20T03:45:20.671Z"
   },
   {
    "duration": 10,
    "start_time": "2022-03-20T03:45:21.216Z"
   },
   {
    "duration": 16,
    "start_time": "2022-03-20T03:45:21.727Z"
   },
   {
    "duration": 16,
    "start_time": "2022-03-20T03:45:21.991Z"
   },
   {
    "duration": 16,
    "start_time": "2022-03-20T03:45:22.225Z"
   },
   {
    "duration": 101,
    "start_time": "2022-03-20T03:45:22.488Z"
   },
   {
    "duration": 22,
    "start_time": "2022-03-20T03:45:22.759Z"
   },
   {
    "duration": 9,
    "start_time": "2022-03-20T03:45:23.040Z"
   },
   {
    "duration": 81,
    "start_time": "2022-03-20T03:45:23.295Z"
   },
   {
    "duration": 31,
    "start_time": "2022-03-20T03:45:23.559Z"
   },
   {
    "duration": 21,
    "start_time": "2022-03-20T03:45:23.824Z"
   },
   {
    "duration": 5,
    "start_time": "2022-03-20T03:45:24.104Z"
   },
   {
    "duration": 23,
    "start_time": "2022-03-20T03:45:24.384Z"
   },
   {
    "duration": 81,
    "start_time": "2022-03-20T03:45:24.705Z"
   },
   {
    "duration": 32,
    "start_time": "2022-03-20T03:45:25.032Z"
   },
   {
    "duration": 9,
    "start_time": "2022-03-20T03:45:25.298Z"
   },
   {
    "duration": 27,
    "start_time": "2022-03-20T03:45:25.558Z"
   },
   {
    "duration": 25,
    "start_time": "2022-03-20T03:45:25.818Z"
   },
   {
    "duration": 9,
    "start_time": "2022-03-20T03:45:26.089Z"
   },
   {
    "duration": 31,
    "start_time": "2022-03-20T03:45:26.600Z"
   },
   {
    "duration": 16,
    "start_time": "2022-03-20T03:45:26.960Z"
   },
   {
    "duration": 15,
    "start_time": "2022-03-20T03:45:27.280Z"
   },
   {
    "duration": 16,
    "start_time": "2022-03-20T03:45:27.568Z"
   },
   {
    "duration": 4,
    "start_time": "2022-03-20T03:45:27.864Z"
   },
   {
    "duration": 15,
    "start_time": "2022-03-20T03:45:28.200Z"
   },
   {
    "duration": 40,
    "start_time": "2022-03-20T03:45:28.495Z"
   },
   {
    "duration": 38,
    "start_time": "2022-03-20T03:45:29.000Z"
   },
   {
    "duration": 296,
    "start_time": "2022-03-20T03:45:29.288Z"
   },
   {
    "duration": 39,
    "start_time": "2022-03-20T03:45:29.839Z"
   },
   {
    "duration": 31,
    "start_time": "2022-03-20T03:45:30.128Z"
   },
   {
    "duration": 6,
    "start_time": "2022-03-20T03:45:30.416Z"
   },
   {
    "duration": 6,
    "start_time": "2022-03-20T03:45:30.696Z"
   },
   {
    "duration": 16,
    "start_time": "2022-03-20T03:45:31.311Z"
   },
   {
    "duration": 6,
    "start_time": "2022-03-20T03:45:31.552Z"
   },
   {
    "duration": 5,
    "start_time": "2022-03-20T03:45:31.848Z"
   },
   {
    "duration": 6,
    "start_time": "2022-03-20T03:45:32.495Z"
   },
   {
    "duration": 16,
    "start_time": "2022-03-20T03:45:33.375Z"
   },
   {
    "duration": 456,
    "start_time": "2022-03-20T03:45:33.688Z"
   },
   {
    "duration": 61,
    "start_time": "2022-03-20T03:45:34.712Z"
   },
   {
    "duration": 14,
    "start_time": "2022-03-20T03:45:35.511Z"
   },
   {
    "duration": 12,
    "start_time": "2022-03-20T03:45:35.753Z"
   },
   {
    "duration": 4,
    "start_time": "2022-03-20T03:45:36.005Z"
   },
   {
    "duration": 11,
    "start_time": "2022-03-20T03:45:36.377Z"
   },
   {
    "duration": 5,
    "start_time": "2022-03-20T03:45:36.656Z"
   },
   {
    "duration": 11,
    "start_time": "2022-03-20T03:45:36.939Z"
   },
   {
    "duration": 6,
    "start_time": "2022-03-20T03:45:37.200Z"
   },
   {
    "duration": 6,
    "start_time": "2022-03-20T03:45:37.464Z"
   },
   {
    "duration": 12,
    "start_time": "2022-03-20T03:45:37.711Z"
   },
   {
    "duration": 6,
    "start_time": "2022-03-20T03:45:37.968Z"
   },
   {
    "duration": 408,
    "start_time": "2022-03-20T03:45:38.360Z"
   },
   {
    "duration": 12,
    "start_time": "2022-03-20T03:45:39.191Z"
   },
   {
    "duration": 14,
    "start_time": "2022-03-20T03:45:39.513Z"
   },
   {
    "duration": 205,
    "start_time": "2022-03-20T03:45:39.816Z"
   },
   {
    "duration": 27,
    "start_time": "2022-03-20T03:45:40.088Z"
   },
   {
    "duration": 238,
    "start_time": "2022-03-20T03:45:40.588Z"
   },
   {
    "duration": 352,
    "start_time": "2022-03-20T03:45:41.688Z"
   },
   {
    "duration": 12,
    "start_time": "2022-03-20T03:45:42.043Z"
   },
   {
    "duration": 5,
    "start_time": "2022-03-20T03:45:42.224Z"
   },
   {
    "duration": 6,
    "start_time": "2022-03-20T03:45:42.520Z"
   },
   {
    "duration": 6,
    "start_time": "2022-03-20T03:45:42.848Z"
   },
   {
    "duration": 6,
    "start_time": "2022-03-20T03:45:43.474Z"
   },
   {
    "duration": 12,
    "start_time": "2022-03-20T03:45:43.903Z"
   },
   {
    "duration": 13,
    "start_time": "2022-03-20T03:45:44.336Z"
   },
   {
    "duration": 5,
    "start_time": "2022-03-20T03:45:44.703Z"
   },
   {
    "duration": 5,
    "start_time": "2022-03-20T03:45:45.082Z"
   },
   {
    "duration": 6,
    "start_time": "2022-03-20T03:45:45.680Z"
   },
   {
    "duration": 5,
    "start_time": "2022-03-20T03:45:46.496Z"
   },
   {
    "duration": 22,
    "start_time": "2022-03-20T03:45:49.528Z"
   },
   {
    "duration": 23,
    "start_time": "2022-03-20T03:45:49.807Z"
   },
   {
    "duration": 25,
    "start_time": "2022-03-20T03:45:50.135Z"
   },
   {
    "duration": 31,
    "start_time": "2022-03-20T03:45:50.960Z"
   },
   {
    "duration": 23,
    "start_time": "2022-03-20T03:45:51.552Z"
   },
   {
    "duration": 25,
    "start_time": "2022-03-20T03:45:52.208Z"
   },
   {
    "duration": 8,
    "start_time": "2022-03-20T03:45:53.740Z"
   },
   {
    "duration": 13,
    "start_time": "2022-03-20T03:45:55.399Z"
   },
   {
    "duration": 14,
    "start_time": "2022-03-20T03:45:56.151Z"
   },
   {
    "duration": 14,
    "start_time": "2022-03-20T03:45:56.832Z"
   },
   {
    "duration": 26,
    "start_time": "2022-03-20T03:45:58.345Z"
   },
   {
    "duration": 15,
    "start_time": "2022-03-20T03:46:06.008Z"
   },
   {
    "duration": 103,
    "start_time": "2022-03-20T03:50:58.084Z"
   },
   {
    "duration": 4,
    "start_time": "2022-03-20T03:56:57.114Z"
   },
   {
    "duration": 208,
    "start_time": "2022-03-20T03:56:57.747Z"
   },
   {
    "duration": 28,
    "start_time": "2022-03-20T03:56:58.514Z"
   },
   {
    "duration": 17,
    "start_time": "2022-03-20T03:57:00.173Z"
   },
   {
    "duration": 32,
    "start_time": "2022-03-20T03:57:00.489Z"
   },
   {
    "duration": 32,
    "start_time": "2022-03-20T03:57:01.185Z"
   },
   {
    "duration": 13,
    "start_time": "2022-03-20T03:57:01.473Z"
   },
   {
    "duration": 33,
    "start_time": "2022-03-20T03:57:01.793Z"
   },
   {
    "duration": 105,
    "start_time": "2022-03-20T03:57:02.082Z"
   },
   {
    "duration": 9,
    "start_time": "2022-03-20T03:57:02.402Z"
   },
   {
    "duration": 11,
    "start_time": "2022-03-20T03:57:02.713Z"
   },
   {
    "duration": 32,
    "start_time": "2022-03-20T03:57:03.034Z"
   },
   {
    "duration": 16,
    "start_time": "2022-03-20T03:57:03.313Z"
   },
   {
    "duration": 31,
    "start_time": "2022-03-20T03:57:03.604Z"
   },
   {
    "duration": 42,
    "start_time": "2022-03-20T03:57:03.874Z"
   },
   {
    "duration": 11,
    "start_time": "2022-03-20T03:57:05.386Z"
   },
   {
    "duration": 7,
    "start_time": "2022-03-20T03:57:05.642Z"
   },
   {
    "duration": 6,
    "start_time": "2022-03-20T03:57:05.921Z"
   },
   {
    "duration": 157,
    "start_time": "2022-03-20T03:57:06.745Z"
   },
   {
    "duration": 64,
    "start_time": "2022-03-20T03:57:06.993Z"
   },
   {
    "duration": 134,
    "start_time": "2022-03-20T03:57:07.233Z"
   },
   {
    "duration": 33,
    "start_time": "2022-03-20T03:57:07.506Z"
   },
   {
    "duration": 19,
    "start_time": "2022-03-20T03:57:07.770Z"
   },
   {
    "duration": 19,
    "start_time": "2022-03-20T03:57:08.410Z"
   },
   {
    "duration": 590,
    "start_time": "2022-03-20T03:57:08.969Z"
   },
   {
    "duration": 24,
    "start_time": "2022-03-20T03:57:09.930Z"
   },
   {
    "duration": 40,
    "start_time": "2022-03-20T03:57:10.528Z"
   },
   {
    "duration": 15,
    "start_time": "2022-03-20T03:57:10.825Z"
   },
   {
    "duration": 116,
    "start_time": "2022-03-20T03:57:11.138Z"
   },
   {
    "duration": 16,
    "start_time": "2022-03-20T03:57:11.485Z"
   },
   {
    "duration": 106,
    "start_time": "2022-03-20T03:57:11.993Z"
   },
   {
    "duration": 10,
    "start_time": "2022-03-20T03:57:12.579Z"
   },
   {
    "duration": 16,
    "start_time": "2022-03-20T03:57:13.233Z"
   },
   {
    "duration": 16,
    "start_time": "2022-03-20T03:57:13.522Z"
   },
   {
    "duration": 17,
    "start_time": "2022-03-20T03:57:13.803Z"
   },
   {
    "duration": 99,
    "start_time": "2022-03-20T03:57:14.106Z"
   },
   {
    "duration": 22,
    "start_time": "2022-03-20T03:57:14.395Z"
   },
   {
    "duration": 9,
    "start_time": "2022-03-20T03:57:14.667Z"
   },
   {
    "duration": 80,
    "start_time": "2022-03-20T03:57:14.937Z"
   },
   {
    "duration": 32,
    "start_time": "2022-03-20T03:57:15.254Z"
   },
   {
    "duration": 21,
    "start_time": "2022-03-20T03:57:15.578Z"
   },
   {
    "duration": 6,
    "start_time": "2022-03-20T03:57:15.890Z"
   },
   {
    "duration": 24,
    "start_time": "2022-03-20T03:57:16.202Z"
   },
   {
    "duration": 85,
    "start_time": "2022-03-20T03:57:16.513Z"
   },
   {
    "duration": 34,
    "start_time": "2022-03-20T03:57:16.792Z"
   },
   {
    "duration": 9,
    "start_time": "2022-03-20T03:57:17.065Z"
   },
   {
    "duration": 28,
    "start_time": "2022-03-20T03:57:17.363Z"
   },
   {
    "duration": 26,
    "start_time": "2022-03-20T03:57:17.698Z"
   },
   {
    "duration": 10,
    "start_time": "2022-03-20T03:57:18.009Z"
   },
   {
    "duration": 33,
    "start_time": "2022-03-20T03:57:18.297Z"
   },
   {
    "duration": 18,
    "start_time": "2022-03-20T03:57:18.626Z"
   },
   {
    "duration": 15,
    "start_time": "2022-03-20T03:57:18.901Z"
   },
   {
    "duration": 15,
    "start_time": "2022-03-20T03:57:19.186Z"
   },
   {
    "duration": 3,
    "start_time": "2022-03-20T03:57:19.458Z"
   },
   {
    "duration": 15,
    "start_time": "2022-03-20T03:57:19.722Z"
   },
   {
    "duration": 31,
    "start_time": "2022-03-20T03:57:20.002Z"
   },
   {
    "duration": 31,
    "start_time": "2022-03-20T03:57:20.387Z"
   },
   {
    "duration": 253,
    "start_time": "2022-03-20T03:57:20.724Z"
   },
   {
    "duration": 39,
    "start_time": "2022-03-20T03:57:21.345Z"
   },
   {
    "duration": 30,
    "start_time": "2022-03-20T03:57:21.706Z"
   },
   {
    "duration": 5,
    "start_time": "2022-03-20T03:57:21.987Z"
   },
   {
    "duration": 5,
    "start_time": "2022-03-20T03:57:22.252Z"
   },
   {
    "duration": 14,
    "start_time": "2022-03-20T03:57:23.065Z"
   },
   {
    "duration": 6,
    "start_time": "2022-03-20T03:57:23.337Z"
   },
   {
    "duration": 5,
    "start_time": "2022-03-20T03:57:23.794Z"
   },
   {
    "duration": 5,
    "start_time": "2022-03-20T03:57:24.082Z"
   },
   {
    "duration": 16,
    "start_time": "2022-03-20T03:57:25.305Z"
   },
   {
    "duration": 391,
    "start_time": "2022-03-20T03:57:25.556Z"
   },
   {
    "duration": 60,
    "start_time": "2022-03-20T03:57:26.251Z"
   },
   {
    "duration": 15,
    "start_time": "2022-03-20T03:57:27.080Z"
   },
   {
    "duration": 13,
    "start_time": "2022-03-20T03:57:27.369Z"
   },
   {
    "duration": 4,
    "start_time": "2022-03-20T03:57:27.641Z"
   },
   {
    "duration": 10,
    "start_time": "2022-03-20T03:57:27.882Z"
   },
   {
    "duration": 5,
    "start_time": "2022-03-20T03:57:28.124Z"
   },
   {
    "duration": 11,
    "start_time": "2022-03-20T03:57:28.378Z"
   },
   {
    "duration": 6,
    "start_time": "2022-03-20T03:57:28.690Z"
   },
   {
    "duration": 6,
    "start_time": "2022-03-20T03:57:28.962Z"
   },
   {
    "duration": 11,
    "start_time": "2022-03-20T03:57:29.242Z"
   },
   {
    "duration": 6,
    "start_time": "2022-03-20T03:57:29.513Z"
   },
   {
    "duration": 403,
    "start_time": "2022-03-20T03:57:29.802Z"
   },
   {
    "duration": 13,
    "start_time": "2022-03-20T03:57:30.698Z"
   },
   {
    "duration": 15,
    "start_time": "2022-03-20T03:57:31.485Z"
   },
   {
    "duration": 231,
    "start_time": "2022-03-20T03:57:31.770Z"
   },
   {
    "duration": 31,
    "start_time": "2022-03-20T03:57:32.073Z"
   },
   {
    "duration": 244,
    "start_time": "2022-03-20T03:57:33.026Z"
   },
   {
    "duration": 365,
    "start_time": "2022-03-20T03:57:34.642Z"
   },
   {
    "duration": 13,
    "start_time": "2022-03-20T03:57:35.019Z"
   },
   {
    "duration": 5,
    "start_time": "2022-03-20T03:57:35.445Z"
   },
   {
    "duration": 5,
    "start_time": "2022-03-20T03:57:35.754Z"
   },
   {
    "duration": 6,
    "start_time": "2022-03-20T03:57:36.082Z"
   },
   {
    "duration": 5,
    "start_time": "2022-03-20T03:57:36.714Z"
   },
   {
    "duration": 12,
    "start_time": "2022-03-20T03:57:37.170Z"
   },
   {
    "duration": 15,
    "start_time": "2022-03-20T03:57:37.826Z"
   },
   {
    "duration": 6,
    "start_time": "2022-03-20T03:57:38.585Z"
   },
   {
    "duration": 5,
    "start_time": "2022-03-20T03:57:38.981Z"
   },
   {
    "duration": 6,
    "start_time": "2022-03-20T03:57:39.359Z"
   },
   {
    "duration": 6,
    "start_time": "2022-03-20T03:57:39.754Z"
   },
   {
    "duration": 23,
    "start_time": "2022-03-20T03:57:42.937Z"
   },
   {
    "duration": 24,
    "start_time": "2022-03-20T03:57:43.290Z"
   },
   {
    "duration": 23,
    "start_time": "2022-03-20T03:57:43.722Z"
   },
   {
    "duration": 31,
    "start_time": "2022-03-20T03:57:44.410Z"
   },
   {
    "duration": 26,
    "start_time": "2022-03-20T03:57:45.209Z"
   },
   {
    "duration": 25,
    "start_time": "2022-03-20T03:57:45.954Z"
   },
   {
    "duration": 7,
    "start_time": "2022-03-20T03:57:47.395Z"
   },
   {
    "duration": 16,
    "start_time": "2022-03-20T03:57:48.241Z"
   },
   {
    "duration": 16,
    "start_time": "2022-03-20T03:57:48.690Z"
   },
   {
    "duration": 16,
    "start_time": "2022-03-20T03:57:49.075Z"
   },
   {
    "duration": 27,
    "start_time": "2022-03-20T03:57:49.761Z"
   },
   {
    "duration": 14,
    "start_time": "2022-03-20T03:57:50.138Z"
   },
   {
    "duration": 5,
    "start_time": "2022-03-20T03:57:52.564Z"
   },
   {
    "duration": 8,
    "start_time": "2022-03-20T03:57:53.283Z"
   },
   {
    "duration": 40,
    "start_time": "2022-03-20T03:58:04.785Z"
   },
   {
    "duration": 8,
    "start_time": "2022-03-20T03:58:05.451Z"
   },
   {
    "duration": 12,
    "start_time": "2022-03-20T03:58:05.946Z"
   },
   {
    "duration": 16,
    "start_time": "2022-03-20T03:58:06.434Z"
   },
   {
    "duration": 15,
    "start_time": "2022-03-20T03:58:06.931Z"
   },
   {
    "duration": 16,
    "start_time": "2022-03-20T03:58:07.426Z"
   },
   {
    "duration": 40,
    "start_time": "2022-03-20T03:58:07.916Z"
   },
   {
    "duration": 46,
    "start_time": "2022-03-20T03:58:08.394Z"
   },
   {
    "duration": 287,
    "start_time": "2022-03-20T03:58:08.955Z"
   },
   {
    "duration": 263,
    "start_time": "2022-03-20T03:58:09.482Z"
   },
   {
    "duration": 271,
    "start_time": "2022-03-20T03:58:10.026Z"
   },
   {
    "duration": 265,
    "start_time": "2022-03-20T03:58:10.524Z"
   },
   {
    "duration": 1781,
    "start_time": "2022-03-20T17:25:39.651Z"
   },
   {
    "duration": 218,
    "start_time": "2022-03-20T17:25:41.435Z"
   },
   {
    "duration": 35,
    "start_time": "2022-03-20T17:25:41.655Z"
   },
   {
    "duration": 18,
    "start_time": "2022-03-20T17:25:41.892Z"
   },
   {
    "duration": 38,
    "start_time": "2022-03-20T17:25:42.170Z"
   },
   {
    "duration": 33,
    "start_time": "2022-03-20T17:25:42.649Z"
   },
   {
    "duration": 12,
    "start_time": "2022-03-20T17:25:42.938Z"
   },
   {
    "duration": 42,
    "start_time": "2022-03-20T17:25:43.618Z"
   },
   {
    "duration": 105,
    "start_time": "2022-03-20T17:25:43.893Z"
   },
   {
    "duration": 11,
    "start_time": "2022-03-20T17:25:44.135Z"
   },
   {
    "duration": 14,
    "start_time": "2022-03-20T17:25:44.376Z"
   },
   {
    "duration": 39,
    "start_time": "2022-03-20T17:25:44.664Z"
   },
   {
    "duration": 23,
    "start_time": "2022-03-20T17:25:44.924Z"
   },
   {
    "duration": 49,
    "start_time": "2022-03-20T17:25:45.177Z"
   },
   {
    "duration": 47,
    "start_time": "2022-03-20T17:25:45.375Z"
   },
   {
    "duration": 15,
    "start_time": "2022-03-20T17:25:46.616Z"
   },
   {
    "duration": 7,
    "start_time": "2022-03-20T17:25:47.409Z"
   },
   {
    "duration": 6,
    "start_time": "2022-03-20T17:25:47.761Z"
   },
   {
    "duration": 220,
    "start_time": "2022-03-20T17:25:48.778Z"
   },
   {
    "duration": 64,
    "start_time": "2022-03-20T17:25:49.026Z"
   },
   {
    "duration": 182,
    "start_time": "2022-03-20T17:25:49.266Z"
   },
   {
    "duration": 46,
    "start_time": "2022-03-20T17:25:49.532Z"
   },
   {
    "duration": 22,
    "start_time": "2022-03-20T17:25:49.769Z"
   },
   {
    "duration": 29,
    "start_time": "2022-03-20T17:25:50.025Z"
   },
   {
    "duration": 1236,
    "start_time": "2022-03-20T17:25:50.546Z"
   },
   {
    "duration": 26,
    "start_time": "2022-03-20T17:25:54.400Z"
   },
   {
    "duration": 59,
    "start_time": "2022-03-20T17:25:54.921Z"
   },
   {
    "duration": 18,
    "start_time": "2022-03-20T17:25:55.183Z"
   },
   {
    "duration": 129,
    "start_time": "2022-03-20T17:25:55.435Z"
   },
   {
    "duration": 18,
    "start_time": "2022-03-20T17:25:55.688Z"
   },
   {
    "duration": 118,
    "start_time": "2022-03-20T17:25:56.193Z"
   },
   {
    "duration": 14,
    "start_time": "2022-03-20T17:25:56.705Z"
   },
   {
    "duration": 16,
    "start_time": "2022-03-20T17:25:57.417Z"
   },
   {
    "duration": 17,
    "start_time": "2022-03-20T17:25:57.660Z"
   },
   {
    "duration": 23,
    "start_time": "2022-03-20T17:25:57.907Z"
   },
   {
    "duration": 148,
    "start_time": "2022-03-20T17:25:58.148Z"
   },
   {
    "duration": 22,
    "start_time": "2022-03-20T17:25:58.401Z"
   },
   {
    "duration": 9,
    "start_time": "2022-03-20T17:25:58.665Z"
   },
   {
    "duration": 81,
    "start_time": "2022-03-20T17:25:58.922Z"
   },
   {
    "duration": 43,
    "start_time": "2022-03-20T17:25:59.169Z"
   },
   {
    "duration": 27,
    "start_time": "2022-03-20T17:25:59.467Z"
   },
   {
    "duration": 6,
    "start_time": "2022-03-20T17:25:59.733Z"
   },
   {
    "duration": 33,
    "start_time": "2022-03-20T17:25:59.970Z"
   },
   {
    "duration": 83,
    "start_time": "2022-03-20T17:26:00.231Z"
   },
   {
    "duration": 35,
    "start_time": "2022-03-20T17:26:00.473Z"
   },
   {
    "duration": 10,
    "start_time": "2022-03-20T17:26:00.698Z"
   },
   {
    "duration": 35,
    "start_time": "2022-03-20T17:26:00.946Z"
   },
   {
    "duration": 34,
    "start_time": "2022-03-20T17:26:01.169Z"
   },
   {
    "duration": 11,
    "start_time": "2022-03-20T17:26:01.443Z"
   },
   {
    "duration": 45,
    "start_time": "2022-03-20T17:26:01.698Z"
   },
   {
    "duration": 25,
    "start_time": "2022-03-20T17:26:01.945Z"
   },
   {
    "duration": 22,
    "start_time": "2022-03-20T17:26:02.195Z"
   },
   {
    "duration": 24,
    "start_time": "2022-03-20T17:26:02.435Z"
   },
   {
    "duration": 5,
    "start_time": "2022-03-20T17:26:02.674Z"
   },
   {
    "duration": 23,
    "start_time": "2022-03-20T17:26:02.910Z"
   },
   {
    "duration": 33,
    "start_time": "2022-03-20T17:26:03.159Z"
   },
   {
    "duration": 29,
    "start_time": "2022-03-20T17:26:03.369Z"
   },
   {
    "duration": 395,
    "start_time": "2022-03-20T17:26:03.627Z"
   },
   {
    "duration": 40,
    "start_time": "2022-03-20T17:26:04.137Z"
   },
   {
    "duration": 34,
    "start_time": "2022-03-20T17:26:13.546Z"
   },
   {
    "duration": 7,
    "start_time": "2022-03-20T17:26:14.048Z"
   },
   {
    "duration": 6,
    "start_time": "2022-03-20T17:26:14.313Z"
   },
   {
    "duration": 21,
    "start_time": "2022-03-20T17:26:14.994Z"
   },
   {
    "duration": 6,
    "start_time": "2022-03-20T17:26:15.258Z"
   },
   {
    "duration": 6,
    "start_time": "2022-03-20T17:26:15.497Z"
   },
   {
    "duration": 7,
    "start_time": "2022-03-20T17:26:15.740Z"
   },
   {
    "duration": 16,
    "start_time": "2022-03-20T17:26:16.676Z"
   },
   {
    "duration": 407,
    "start_time": "2022-03-20T17:26:16.915Z"
   },
   {
    "duration": 86,
    "start_time": "2022-03-20T17:26:17.643Z"
   },
   {
    "duration": 18,
    "start_time": "2022-03-20T17:26:18.382Z"
   },
   {
    "duration": 16,
    "start_time": "2022-03-20T17:26:18.630Z"
   },
   {
    "duration": 5,
    "start_time": "2022-03-20T17:26:18.880Z"
   },
   {
    "duration": 14,
    "start_time": "2022-03-20T17:26:19.138Z"
   },
   {
    "duration": 5,
    "start_time": "2022-03-20T17:26:19.402Z"
   },
   {
    "duration": 10,
    "start_time": "2022-03-20T17:26:19.658Z"
   },
   {
    "duration": 7,
    "start_time": "2022-03-20T17:26:19.902Z"
   },
   {
    "duration": 5,
    "start_time": "2022-03-20T17:26:20.139Z"
   },
   {
    "duration": 37,
    "start_time": "2022-03-20T17:26:20.402Z"
   },
   {
    "duration": 8,
    "start_time": "2022-03-20T17:26:20.681Z"
   },
   {
    "duration": 595,
    "start_time": "2022-03-20T17:26:20.945Z"
   },
   {
    "duration": 13,
    "start_time": "2022-03-20T17:26:21.737Z"
   },
   {
    "duration": 26,
    "start_time": "2022-03-20T17:26:21.959Z"
   },
   {
    "duration": 243,
    "start_time": "2022-03-20T17:26:22.207Z"
   },
   {
    "duration": 53,
    "start_time": "2022-03-20T17:26:22.454Z"
   },
   {
    "duration": 394,
    "start_time": "2022-03-20T17:26:23.158Z"
   },
   {
    "duration": 348,
    "start_time": "2022-03-20T17:26:24.386Z"
   },
   {
    "duration": 15,
    "start_time": "2022-03-20T17:26:24.739Z"
   },
   {
    "duration": 7,
    "start_time": "2022-03-20T17:26:24.848Z"
   },
   {
    "duration": 6,
    "start_time": "2022-03-20T17:26:25.098Z"
   },
   {
    "duration": 5,
    "start_time": "2022-03-20T17:26:25.345Z"
   },
   {
    "duration": 6,
    "start_time": "2022-03-20T17:26:25.585Z"
   },
   {
    "duration": 15,
    "start_time": "2022-03-20T17:26:25.874Z"
   },
   {
    "duration": 339,
    "start_time": "2022-03-20T17:26:26.376Z"
   },
   {
    "duration": 7,
    "start_time": "2022-03-20T17:26:26.882Z"
   },
   {
    "duration": 7,
    "start_time": "2022-03-20T17:26:27.121Z"
   },
   {
    "duration": 6,
    "start_time": "2022-03-20T17:26:27.360Z"
   },
   {
    "duration": 6,
    "start_time": "2022-03-20T17:26:27.598Z"
   },
   {
    "duration": 35,
    "start_time": "2022-03-20T17:26:29.905Z"
   },
   {
    "duration": 34,
    "start_time": "2022-03-20T17:26:30.153Z"
   },
   {
    "duration": 33,
    "start_time": "2022-03-20T17:26:30.447Z"
   },
   {
    "duration": 42,
    "start_time": "2022-03-20T17:26:31.433Z"
   },
   {
    "duration": 35,
    "start_time": "2022-03-20T17:26:31.968Z"
   },
   {
    "duration": 41,
    "start_time": "2022-03-20T17:26:32.489Z"
   },
   {
    "duration": 8,
    "start_time": "2022-03-20T17:26:33.378Z"
   },
   {
    "duration": 18,
    "start_time": "2022-03-20T17:26:39.177Z"
   },
   {
    "duration": 17,
    "start_time": "2022-03-20T17:26:39.571Z"
   },
   {
    "duration": 17,
    "start_time": "2022-03-20T17:26:42.609Z"
   },
   {
    "duration": 71,
    "start_time": "2022-03-20T17:33:29.603Z"
   },
   {
    "duration": 211,
    "start_time": "2022-03-20T17:34:42.131Z"
   },
   {
    "duration": 96,
    "start_time": "2022-03-20T17:35:06.163Z"
   },
   {
    "duration": 70,
    "start_time": "2022-03-20T17:36:04.044Z"
   },
   {
    "duration": 33,
    "start_time": "2022-03-20T17:37:29.066Z"
   },
   {
    "duration": 21,
    "start_time": "2022-03-20T17:38:09.987Z"
   },
   {
    "duration": 71,
    "start_time": "2022-03-20T17:39:10.172Z"
   },
   {
    "duration": 73,
    "start_time": "2022-03-20T17:42:13.756Z"
   },
   {
    "duration": 95,
    "start_time": "2022-03-20T17:46:45.188Z"
   },
   {
    "duration": 6,
    "start_time": "2022-03-20T17:47:25.766Z"
   },
   {
    "duration": 92,
    "start_time": "2022-03-20T17:48:45.589Z"
   },
   {
    "duration": 8,
    "start_time": "2022-03-20T17:49:14.932Z"
   },
   {
    "duration": 11,
    "start_time": "2022-03-20T17:49:54.381Z"
   },
   {
    "duration": 31,
    "start_time": "2022-03-20T17:50:03.829Z"
   },
   {
    "duration": 8,
    "start_time": "2022-03-20T17:50:35.510Z"
   },
   {
    "duration": 30,
    "start_time": "2022-03-20T17:56:25.079Z"
   },
   {
    "duration": 2719,
    "start_time": "2022-03-20T17:56:36.933Z"
   },
   {
    "duration": 17,
    "start_time": "2022-03-20T17:57:14.467Z"
   },
   {
    "duration": 44,
    "start_time": "2022-03-20T17:57:49.168Z"
   },
   {
    "duration": 9,
    "start_time": "2022-03-20T17:57:56.902Z"
   },
   {
    "duration": 25,
    "start_time": "2022-03-20T17:57:58.727Z"
   },
   {
    "duration": 14,
    "start_time": "2022-03-20T17:58:51.656Z"
   },
   {
    "duration": 6,
    "start_time": "2022-03-20T17:59:08.200Z"
   },
   {
    "duration": 202,
    "start_time": "2022-03-20T17:59:08.807Z"
   },
   {
    "duration": 27,
    "start_time": "2022-03-20T17:59:09.244Z"
   },
   {
    "duration": 17,
    "start_time": "2022-03-20T17:59:10.478Z"
   },
   {
    "duration": 34,
    "start_time": "2022-03-20T17:59:10.731Z"
   },
   {
    "duration": 34,
    "start_time": "2022-03-20T17:59:11.183Z"
   },
   {
    "duration": 13,
    "start_time": "2022-03-20T17:59:11.414Z"
   },
   {
    "duration": 31,
    "start_time": "2022-03-20T17:59:11.632Z"
   },
   {
    "duration": 103,
    "start_time": "2022-03-20T17:59:11.893Z"
   },
   {
    "duration": 10,
    "start_time": "2022-03-20T17:59:12.150Z"
   },
   {
    "duration": 13,
    "start_time": "2022-03-20T17:59:12.382Z"
   },
   {
    "duration": 33,
    "start_time": "2022-03-20T17:59:12.581Z"
   },
   {
    "duration": 15,
    "start_time": "2022-03-20T17:59:12.807Z"
   },
   {
    "duration": 32,
    "start_time": "2022-03-20T17:59:13.028Z"
   },
   {
    "duration": 41,
    "start_time": "2022-03-20T17:59:13.219Z"
   },
   {
    "duration": 12,
    "start_time": "2022-03-20T17:59:14.246Z"
   },
   {
    "duration": 7,
    "start_time": "2022-03-20T17:59:14.475Z"
   },
   {
    "duration": 6,
    "start_time": "2022-03-20T17:59:14.690Z"
   },
   {
    "duration": 146,
    "start_time": "2022-03-20T17:59:15.359Z"
   },
   {
    "duration": 58,
    "start_time": "2022-03-20T17:59:15.574Z"
   },
   {
    "duration": 201,
    "start_time": "2022-03-20T17:59:15.774Z"
   },
   {
    "duration": 56,
    "start_time": "2022-03-20T17:59:15.984Z"
   },
   {
    "duration": 20,
    "start_time": "2022-03-20T17:59:16.203Z"
   },
   {
    "duration": 19,
    "start_time": "2022-03-20T17:59:16.422Z"
   },
   {
    "duration": 605,
    "start_time": "2022-03-20T17:59:16.816Z"
   },
   {
    "duration": 34,
    "start_time": "2022-03-20T17:59:17.478Z"
   },
   {
    "duration": 44,
    "start_time": "2022-03-20T17:59:17.926Z"
   },
   {
    "duration": 16,
    "start_time": "2022-03-20T17:59:18.134Z"
   },
   {
    "duration": 119,
    "start_time": "2022-03-20T17:59:18.352Z"
   },
   {
    "duration": 24,
    "start_time": "2022-03-20T17:59:18.583Z"
   },
   {
    "duration": 102,
    "start_time": "2022-03-20T17:59:19.031Z"
   },
   {
    "duration": 11,
    "start_time": "2022-03-20T17:59:19.438Z"
   },
   {
    "duration": 16,
    "start_time": "2022-03-20T17:59:19.870Z"
   },
   {
    "duration": 15,
    "start_time": "2022-03-20T17:59:20.106Z"
   },
   {
    "duration": 17,
    "start_time": "2022-03-20T17:59:20.304Z"
   },
   {
    "duration": 109,
    "start_time": "2022-03-20T17:59:20.541Z"
   },
   {
    "duration": 25,
    "start_time": "2022-03-20T17:59:20.726Z"
   },
   {
    "duration": 10,
    "start_time": "2022-03-20T17:59:20.980Z"
   },
   {
    "duration": 76,
    "start_time": "2022-03-20T17:59:21.184Z"
   },
   {
    "duration": 30,
    "start_time": "2022-03-20T17:59:21.598Z"
   },
   {
    "duration": 19,
    "start_time": "2022-03-20T17:59:21.838Z"
   },
   {
    "duration": 5,
    "start_time": "2022-03-20T17:59:22.319Z"
   },
   {
    "duration": 22,
    "start_time": "2022-03-20T17:59:22.719Z"
   },
   {
    "duration": 79,
    "start_time": "2022-03-20T17:59:22.934Z"
   },
   {
    "duration": 30,
    "start_time": "2022-03-20T17:59:23.143Z"
   },
   {
    "duration": 9,
    "start_time": "2022-03-20T17:59:23.376Z"
   },
   {
    "duration": 26,
    "start_time": "2022-03-20T17:59:23.622Z"
   },
   {
    "duration": 24,
    "start_time": "2022-03-20T17:59:23.824Z"
   },
   {
    "duration": 9,
    "start_time": "2022-03-20T17:59:24.031Z"
   },
   {
    "duration": 33,
    "start_time": "2022-03-20T17:59:24.238Z"
   },
   {
    "duration": 16,
    "start_time": "2022-03-20T17:59:24.512Z"
   },
   {
    "duration": 15,
    "start_time": "2022-03-20T17:59:24.767Z"
   },
   {
    "duration": 16,
    "start_time": "2022-03-20T17:59:24.982Z"
   },
   {
    "duration": 4,
    "start_time": "2022-03-20T17:59:25.231Z"
   },
   {
    "duration": 16,
    "start_time": "2022-03-20T17:59:25.456Z"
   },
   {
    "duration": 44,
    "start_time": "2022-03-20T17:59:25.705Z"
   },
   {
    "duration": 29,
    "start_time": "2022-03-20T17:59:25.902Z"
   },
   {
    "duration": 265,
    "start_time": "2022-03-20T17:59:26.137Z"
   },
   {
    "duration": 38,
    "start_time": "2022-03-20T17:59:26.605Z"
   },
   {
    "duration": 30,
    "start_time": "2022-03-20T17:59:26.903Z"
   },
   {
    "duration": 7,
    "start_time": "2022-03-20T17:59:27.125Z"
   },
   {
    "duration": 8,
    "start_time": "2022-03-20T17:59:27.335Z"
   },
   {
    "duration": 15,
    "start_time": "2022-03-20T17:59:28.013Z"
   },
   {
    "duration": 5,
    "start_time": "2022-03-20T17:59:28.254Z"
   },
   {
    "duration": 7,
    "start_time": "2022-03-20T17:59:28.487Z"
   },
   {
    "duration": 6,
    "start_time": "2022-03-20T17:59:28.720Z"
   },
   {
    "duration": 15,
    "start_time": "2022-03-20T17:59:29.694Z"
   },
   {
    "duration": 425,
    "start_time": "2022-03-20T17:59:29.902Z"
   },
   {
    "duration": 59,
    "start_time": "2022-03-20T17:59:30.728Z"
   },
   {
    "duration": 14,
    "start_time": "2022-03-20T17:59:31.405Z"
   },
   {
    "duration": 12,
    "start_time": "2022-03-20T17:59:31.638Z"
   },
   {
    "duration": 4,
    "start_time": "2022-03-20T17:59:31.854Z"
   },
   {
    "duration": 10,
    "start_time": "2022-03-20T17:59:32.095Z"
   },
   {
    "duration": 6,
    "start_time": "2022-03-20T17:59:32.347Z"
   },
   {
    "duration": 12,
    "start_time": "2022-03-20T17:59:32.577Z"
   },
   {
    "duration": 7,
    "start_time": "2022-03-20T17:59:32.792Z"
   },
   {
    "duration": 6,
    "start_time": "2022-03-20T17:59:33.020Z"
   },
   {
    "duration": 11,
    "start_time": "2022-03-20T17:59:33.289Z"
   },
   {
    "duration": 5,
    "start_time": "2022-03-20T17:59:33.486Z"
   },
   {
    "duration": 522,
    "start_time": "2022-03-20T17:59:33.725Z"
   },
   {
    "duration": 13,
    "start_time": "2022-03-20T17:59:34.422Z"
   },
   {
    "duration": 16,
    "start_time": "2022-03-20T17:59:34.658Z"
   },
   {
    "duration": 228,
    "start_time": "2022-03-20T17:59:34.882Z"
   },
   {
    "duration": 28,
    "start_time": "2022-03-20T17:59:35.112Z"
   },
   {
    "duration": 242,
    "start_time": "2022-03-20T17:59:35.814Z"
   },
   {
    "duration": 269,
    "start_time": "2022-03-20T17:59:36.982Z"
   },
   {
    "duration": 30,
    "start_time": "2022-03-20T17:59:37.253Z"
   },
   {
    "duration": 6,
    "start_time": "2022-03-20T17:59:38.152Z"
   },
   {
    "duration": 5,
    "start_time": "2022-03-20T17:59:38.431Z"
   },
   {
    "duration": 6,
    "start_time": "2022-03-20T17:59:38.710Z"
   },
   {
    "duration": 5,
    "start_time": "2022-03-20T17:59:38.952Z"
   },
   {
    "duration": 17,
    "start_time": "2022-03-20T17:59:39.179Z"
   },
   {
    "duration": 14,
    "start_time": "2022-03-20T17:59:39.647Z"
   },
   {
    "duration": 6,
    "start_time": "2022-03-20T17:59:40.140Z"
   },
   {
    "duration": 6,
    "start_time": "2022-03-20T17:59:40.356Z"
   },
   {
    "duration": 12,
    "start_time": "2022-03-20T17:59:40.601Z"
   },
   {
    "duration": 5,
    "start_time": "2022-03-20T17:59:40.830Z"
   },
   {
    "duration": 16,
    "start_time": "2022-03-20T17:59:43.069Z"
   },
   {
    "duration": 21,
    "start_time": "2022-03-20T17:59:43.311Z"
   },
   {
    "duration": 22,
    "start_time": "2022-03-20T17:59:43.591Z"
   },
   {
    "duration": 32,
    "start_time": "2022-03-20T17:59:44.263Z"
   },
   {
    "duration": 25,
    "start_time": "2022-03-20T17:59:44.742Z"
   },
   {
    "duration": 25,
    "start_time": "2022-03-20T17:59:45.215Z"
   },
   {
    "duration": 16,
    "start_time": "2022-03-20T17:59:47.456Z"
   },
   {
    "duration": 15,
    "start_time": "2022-03-20T17:59:48.302Z"
   },
   {
    "duration": 16,
    "start_time": "2022-03-20T17:59:50.548Z"
   },
   {
    "duration": 16,
    "start_time": "2022-03-20T17:59:50.567Z"
   },
   {
    "duration": 102,
    "start_time": "2022-03-20T17:59:59.704Z"
   },
   {
    "duration": 7,
    "start_time": "2022-03-20T18:00:01.568Z"
   },
   {
    "duration": 99,
    "start_time": "2022-03-20T18:00:05.040Z"
   },
   {
    "duration": 7,
    "start_time": "2022-03-20T18:00:06.471Z"
   },
   {
    "duration": 29,
    "start_time": "2022-03-20T18:00:08.951Z"
   },
   {
    "duration": 8,
    "start_time": "2022-03-20T18:00:14.916Z"
   },
   {
    "duration": 20,
    "start_time": "2022-03-20T18:00:17.375Z"
   },
   {
    "duration": 5,
    "start_time": "2022-03-20T18:02:54.184Z"
   },
   {
    "duration": 191,
    "start_time": "2022-03-20T18:02:54.791Z"
   },
   {
    "duration": 26,
    "start_time": "2022-03-20T18:02:55.255Z"
   },
   {
    "duration": 17,
    "start_time": "2022-03-20T18:02:56.534Z"
   },
   {
    "duration": 35,
    "start_time": "2022-03-20T18:02:56.789Z"
   },
   {
    "duration": 32,
    "start_time": "2022-03-20T18:02:57.231Z"
   },
   {
    "duration": 12,
    "start_time": "2022-03-20T18:02:57.454Z"
   },
   {
    "duration": 29,
    "start_time": "2022-03-20T18:02:57.693Z"
   },
   {
    "duration": 102,
    "start_time": "2022-03-20T18:02:57.905Z"
   },
   {
    "duration": 10,
    "start_time": "2022-03-20T18:02:58.136Z"
   },
   {
    "duration": 10,
    "start_time": "2022-03-20T18:02:58.368Z"
   },
   {
    "duration": 31,
    "start_time": "2022-03-20T18:02:58.566Z"
   },
   {
    "duration": 87,
    "start_time": "2022-03-20T18:02:58.779Z"
   },
   {
    "duration": 32,
    "start_time": "2022-03-20T18:02:59.023Z"
   },
   {
    "duration": 41,
    "start_time": "2022-03-20T18:02:59.235Z"
   },
   {
    "duration": 12,
    "start_time": "2022-03-20T18:03:00.495Z"
   },
   {
    "duration": 8,
    "start_time": "2022-03-20T18:03:00.741Z"
   },
   {
    "duration": 8,
    "start_time": "2022-03-20T18:03:00.983Z"
   },
   {
    "duration": 149,
    "start_time": "2022-03-20T18:03:01.630Z"
   },
   {
    "duration": 66,
    "start_time": "2022-03-20T18:03:01.830Z"
   },
   {
    "duration": 146,
    "start_time": "2022-03-20T18:03:02.071Z"
   },
   {
    "duration": 35,
    "start_time": "2022-03-20T18:03:02.294Z"
   },
   {
    "duration": 20,
    "start_time": "2022-03-20T18:03:02.519Z"
   },
   {
    "duration": 20,
    "start_time": "2022-03-20T18:03:02.756Z"
   },
   {
    "duration": 906,
    "start_time": "2022-03-20T18:03:03.201Z"
   },
   {
    "duration": 25,
    "start_time": "2022-03-20T18:03:04.110Z"
   },
   {
    "duration": 44,
    "start_time": "2022-03-20T18:03:04.295Z"
   },
   {
    "duration": 15,
    "start_time": "2022-03-20T18:03:04.545Z"
   },
   {
    "duration": 119,
    "start_time": "2022-03-20T18:03:04.800Z"
   },
   {
    "duration": 18,
    "start_time": "2022-03-20T18:03:05.022Z"
   },
   {
    "duration": 103,
    "start_time": "2022-03-20T18:03:05.504Z"
   },
   {
    "duration": 10,
    "start_time": "2022-03-20T18:03:05.975Z"
   },
   {
    "duration": 16,
    "start_time": "2022-03-20T18:03:06.407Z"
   },
   {
    "duration": 15,
    "start_time": "2022-03-20T18:03:06.666Z"
   },
   {
    "duration": 15,
    "start_time": "2022-03-20T18:03:06.879Z"
   },
   {
    "duration": 106,
    "start_time": "2022-03-20T18:03:07.167Z"
   },
   {
    "duration": 23,
    "start_time": "2022-03-20T18:03:07.391Z"
   },
   {
    "duration": 10,
    "start_time": "2022-03-20T18:03:07.600Z"
   },
   {
    "duration": 74,
    "start_time": "2022-03-20T18:03:07.810Z"
   },
   {
    "duration": 32,
    "start_time": "2022-03-20T18:03:08.016Z"
   },
   {
    "duration": 22,
    "start_time": "2022-03-20T18:03:08.439Z"
   },
   {
    "duration": 5,
    "start_time": "2022-03-20T18:03:08.712Z"
   },
   {
    "duration": 22,
    "start_time": "2022-03-20T18:03:08.992Z"
   },
   {
    "duration": 79,
    "start_time": "2022-03-20T18:03:09.280Z"
   },
   {
    "duration": 29,
    "start_time": "2022-03-20T18:03:09.503Z"
   },
   {
    "duration": 7,
    "start_time": "2022-03-20T18:03:09.719Z"
   },
   {
    "duration": 27,
    "start_time": "2022-03-20T18:03:09.945Z"
   },
   {
    "duration": 24,
    "start_time": "2022-03-20T18:03:10.160Z"
   },
   {
    "duration": 11,
    "start_time": "2022-03-20T18:03:10.376Z"
   },
   {
    "duration": 31,
    "start_time": "2022-03-20T18:03:10.614Z"
   },
   {
    "duration": 18,
    "start_time": "2022-03-20T18:03:10.838Z"
   },
   {
    "duration": 15,
    "start_time": "2022-03-20T18:03:11.047Z"
   },
   {
    "duration": 16,
    "start_time": "2022-03-20T18:03:11.304Z"
   },
   {
    "duration": 3,
    "start_time": "2022-03-20T18:03:11.592Z"
   },
   {
    "duration": 16,
    "start_time": "2022-03-20T18:03:11.811Z"
   },
   {
    "duration": 32,
    "start_time": "2022-03-20T18:03:12.015Z"
   },
   {
    "duration": 31,
    "start_time": "2022-03-20T18:03:12.272Z"
   },
   {
    "duration": 250,
    "start_time": "2022-03-20T18:03:12.487Z"
   },
   {
    "duration": 39,
    "start_time": "2022-03-20T18:03:12.911Z"
   },
   {
    "duration": 31,
    "start_time": "2022-03-20T18:03:13.127Z"
   },
   {
    "duration": 6,
    "start_time": "2022-03-20T18:03:13.352Z"
   },
   {
    "duration": 6,
    "start_time": "2022-03-20T18:03:13.578Z"
   },
   {
    "duration": 14,
    "start_time": "2022-03-20T18:03:14.254Z"
   },
   {
    "duration": 5,
    "start_time": "2022-03-20T18:03:14.520Z"
   },
   {
    "duration": 5,
    "start_time": "2022-03-20T18:03:14.759Z"
   },
   {
    "duration": 6,
    "start_time": "2022-03-20T18:03:14.986Z"
   },
   {
    "duration": 16,
    "start_time": "2022-03-20T18:03:15.919Z"
   },
   {
    "duration": 399,
    "start_time": "2022-03-20T18:03:16.166Z"
   },
   {
    "duration": 58,
    "start_time": "2022-03-20T18:03:16.831Z"
   },
   {
    "duration": 17,
    "start_time": "2022-03-20T18:03:17.528Z"
   },
   {
    "duration": 13,
    "start_time": "2022-03-20T18:03:17.762Z"
   },
   {
    "duration": 5,
    "start_time": "2022-03-20T18:03:17.975Z"
   },
   {
    "duration": 11,
    "start_time": "2022-03-20T18:03:18.223Z"
   },
   {
    "duration": 6,
    "start_time": "2022-03-20T18:03:18.475Z"
   },
   {
    "duration": 10,
    "start_time": "2022-03-20T18:03:18.743Z"
   },
   {
    "duration": 5,
    "start_time": "2022-03-20T18:03:19.032Z"
   },
   {
    "duration": 5,
    "start_time": "2022-03-20T18:03:19.481Z"
   },
   {
    "duration": 11,
    "start_time": "2022-03-20T18:03:19.688Z"
   },
   {
    "duration": 5,
    "start_time": "2022-03-20T18:03:19.908Z"
   },
   {
    "duration": 432,
    "start_time": "2022-03-20T18:03:20.104Z"
   },
   {
    "duration": 12,
    "start_time": "2022-03-20T18:03:20.808Z"
   },
   {
    "duration": 16,
    "start_time": "2022-03-20T18:03:21.024Z"
   },
   {
    "duration": 209,
    "start_time": "2022-03-20T18:03:21.274Z"
   },
   {
    "duration": 28,
    "start_time": "2022-03-20T18:03:21.486Z"
   },
   {
    "duration": 247,
    "start_time": "2022-03-20T18:03:22.176Z"
   },
   {
    "duration": 386,
    "start_time": "2022-03-20T18:03:23.814Z"
   },
   {
    "duration": 13,
    "start_time": "2022-03-20T18:03:24.203Z"
   },
   {
    "duration": 6,
    "start_time": "2022-03-20T18:03:24.351Z"
   },
   {
    "duration": 7,
    "start_time": "2022-03-20T18:03:24.762Z"
   },
   {
    "duration": 7,
    "start_time": "2022-03-20T18:03:24.992Z"
   },
   {
    "duration": 5,
    "start_time": "2022-03-20T18:03:25.221Z"
   },
   {
    "duration": 12,
    "start_time": "2022-03-20T18:03:25.433Z"
   },
   {
    "duration": 13,
    "start_time": "2022-03-20T18:03:25.951Z"
   },
   {
    "duration": 6,
    "start_time": "2022-03-20T18:03:26.782Z"
   },
   {
    "duration": 7,
    "start_time": "2022-03-20T18:03:27.026Z"
   },
   {
    "duration": 6,
    "start_time": "2022-03-20T18:03:27.280Z"
   },
   {
    "duration": 6,
    "start_time": "2022-03-20T18:03:27.513Z"
   },
   {
    "duration": 15,
    "start_time": "2022-03-20T18:03:29.742Z"
   },
   {
    "duration": 22,
    "start_time": "2022-03-20T18:03:30.000Z"
   },
   {
    "duration": 22,
    "start_time": "2022-03-20T18:03:30.265Z"
   },
   {
    "duration": 31,
    "start_time": "2022-03-20T18:03:30.792Z"
   },
   {
    "duration": 24,
    "start_time": "2022-03-20T18:03:31.296Z"
   },
   {
    "duration": 25,
    "start_time": "2022-03-20T18:03:31.942Z"
   },
   {
    "duration": 7,
    "start_time": "2022-03-20T18:03:33.008Z"
   },
   {
    "duration": 13,
    "start_time": "2022-03-20T18:03:33.887Z"
   },
   {
    "duration": 14,
    "start_time": "2022-03-20T18:03:34.284Z"
   },
   {
    "duration": 14,
    "start_time": "2022-03-20T18:03:34.552Z"
   },
   {
    "duration": 27,
    "start_time": "2022-03-20T18:03:35.614Z"
   },
   {
    "duration": 101,
    "start_time": "2022-03-20T18:03:44.376Z"
   },
   {
    "duration": 8,
    "start_time": "2022-03-20T18:03:48.663Z"
   },
   {
    "duration": 91,
    "start_time": "2022-03-20T18:03:51.816Z"
   },
   {
    "duration": 7,
    "start_time": "2022-03-20T18:03:54.339Z"
   },
   {
    "duration": 27,
    "start_time": "2022-03-20T18:03:56.848Z"
   },
   {
    "duration": 8,
    "start_time": "2022-03-20T18:03:59.847Z"
   },
   {
    "duration": 3212,
    "start_time": "2022-03-20T18:04:02.728Z"
   },
   {
    "duration": 5,
    "start_time": "2022-03-20T18:04:49.632Z"
   },
   {
    "duration": 195,
    "start_time": "2022-03-20T18:04:50.119Z"
   },
   {
    "duration": 27,
    "start_time": "2022-03-20T18:04:50.558Z"
   },
   {
    "duration": 16,
    "start_time": "2022-03-20T18:04:51.882Z"
   },
   {
    "duration": 30,
    "start_time": "2022-03-20T18:04:52.152Z"
   },
   {
    "duration": 30,
    "start_time": "2022-03-20T18:04:52.640Z"
   },
   {
    "duration": 11,
    "start_time": "2022-03-20T18:04:52.863Z"
   },
   {
    "duration": 31,
    "start_time": "2022-03-20T18:04:53.100Z"
   },
   {
    "duration": 108,
    "start_time": "2022-03-20T18:04:53.313Z"
   },
   {
    "duration": 10,
    "start_time": "2022-03-20T18:04:53.584Z"
   },
   {
    "duration": 14,
    "start_time": "2022-03-20T18:04:53.864Z"
   },
   {
    "duration": 50,
    "start_time": "2022-03-20T18:04:54.072Z"
   },
   {
    "duration": 16,
    "start_time": "2022-03-20T18:04:54.288Z"
   },
   {
    "duration": 30,
    "start_time": "2022-03-20T18:04:54.547Z"
   },
   {
    "duration": 37,
    "start_time": "2022-03-20T18:04:54.735Z"
   },
   {
    "duration": 13,
    "start_time": "2022-03-20T18:04:55.891Z"
   },
   {
    "duration": 7,
    "start_time": "2022-03-20T18:04:56.131Z"
   },
   {
    "duration": 5,
    "start_time": "2022-03-20T18:04:56.363Z"
   },
   {
    "duration": 149,
    "start_time": "2022-03-20T18:04:57.031Z"
   },
   {
    "duration": 64,
    "start_time": "2022-03-20T18:04:57.272Z"
   },
   {
    "duration": 163,
    "start_time": "2022-03-20T18:04:57.536Z"
   },
   {
    "duration": 33,
    "start_time": "2022-03-20T18:04:57.791Z"
   },
   {
    "duration": 18,
    "start_time": "2022-03-20T18:04:58.072Z"
   },
   {
    "duration": 18,
    "start_time": "2022-03-20T18:04:58.327Z"
   },
   {
    "duration": 552,
    "start_time": "2022-03-20T18:04:58.759Z"
   },
   {
    "duration": 25,
    "start_time": "2022-03-20T18:04:59.407Z"
   },
   {
    "duration": 40,
    "start_time": "2022-03-20T18:04:59.816Z"
   },
   {
    "duration": 16,
    "start_time": "2022-03-20T18:05:00.040Z"
   },
   {
    "duration": 128,
    "start_time": "2022-03-20T18:05:00.298Z"
   },
   {
    "duration": 17,
    "start_time": "2022-03-20T18:05:00.520Z"
   },
   {
    "duration": 109,
    "start_time": "2022-03-20T18:05:00.952Z"
   },
   {
    "duration": 11,
    "start_time": "2022-03-20T18:05:01.392Z"
   },
   {
    "duration": 15,
    "start_time": "2022-03-20T18:05:01.833Z"
   },
   {
    "duration": 15,
    "start_time": "2022-03-20T18:05:02.076Z"
   },
   {
    "duration": 17,
    "start_time": "2022-03-20T18:05:02.312Z"
   },
   {
    "duration": 96,
    "start_time": "2022-03-20T18:05:02.528Z"
   },
   {
    "duration": 21,
    "start_time": "2022-03-20T18:05:02.739Z"
   },
   {
    "duration": 10,
    "start_time": "2022-03-20T18:05:02.953Z"
   },
   {
    "duration": 73,
    "start_time": "2022-03-20T18:05:03.178Z"
   },
   {
    "duration": 29,
    "start_time": "2022-03-20T18:05:03.401Z"
   },
   {
    "duration": 20,
    "start_time": "2022-03-20T18:05:03.658Z"
   },
   {
    "duration": 5,
    "start_time": "2022-03-20T18:05:03.872Z"
   },
   {
    "duration": 24,
    "start_time": "2022-03-20T18:05:04.100Z"
   },
   {
    "duration": 81,
    "start_time": "2022-03-20T18:05:04.319Z"
   },
   {
    "duration": 48,
    "start_time": "2022-03-20T18:05:04.528Z"
   },
   {
    "duration": 8,
    "start_time": "2022-03-20T18:05:04.767Z"
   },
   {
    "duration": 26,
    "start_time": "2022-03-20T18:05:05.006Z"
   },
   {
    "duration": 23,
    "start_time": "2022-03-20T18:05:05.257Z"
   },
   {
    "duration": 9,
    "start_time": "2022-03-20T18:05:05.456Z"
   },
   {
    "duration": 30,
    "start_time": "2022-03-20T18:05:05.699Z"
   },
   {
    "duration": 17,
    "start_time": "2022-03-20T18:05:05.927Z"
   },
   {
    "duration": 15,
    "start_time": "2022-03-20T18:05:06.137Z"
   },
   {
    "duration": 16,
    "start_time": "2022-03-20T18:05:06.350Z"
   },
   {
    "duration": 4,
    "start_time": "2022-03-20T18:05:06.567Z"
   },
   {
    "duration": 15,
    "start_time": "2022-03-20T18:05:06.794Z"
   },
   {
    "duration": 5,
    "start_time": "2022-03-20T18:07:49.634Z"
   },
   {
    "duration": 197,
    "start_time": "2022-03-20T18:07:50.616Z"
   },
   {
    "duration": 27,
    "start_time": "2022-03-20T18:07:51.727Z"
   },
   {
    "duration": 18,
    "start_time": "2022-03-20T18:07:59.031Z"
   },
   {
    "duration": 32,
    "start_time": "2022-03-20T18:07:59.536Z"
   },
   {
    "duration": 33,
    "start_time": "2022-03-20T18:08:00.072Z"
   },
   {
    "duration": 14,
    "start_time": "2022-03-20T18:08:00.344Z"
   },
   {
    "duration": 29,
    "start_time": "2022-03-20T18:08:00.621Z"
   },
   {
    "duration": 103,
    "start_time": "2022-03-20T18:08:00.929Z"
   },
   {
    "duration": 9,
    "start_time": "2022-03-20T18:08:01.207Z"
   },
   {
    "duration": 11,
    "start_time": "2022-03-20T18:08:01.431Z"
   },
   {
    "duration": 31,
    "start_time": "2022-03-20T18:08:01.776Z"
   },
   {
    "duration": 15,
    "start_time": "2022-03-20T18:08:02.060Z"
   },
   {
    "duration": 40,
    "start_time": "2022-03-20T18:08:02.341Z"
   },
   {
    "duration": 41,
    "start_time": "2022-03-20T18:08:02.642Z"
   },
   {
    "duration": 11,
    "start_time": "2022-03-20T18:08:04.072Z"
   },
   {
    "duration": 6,
    "start_time": "2022-03-20T18:08:04.361Z"
   },
   {
    "duration": 5,
    "start_time": "2022-03-20T18:08:04.640Z"
   },
   {
    "duration": 147,
    "start_time": "2022-03-20T18:08:05.568Z"
   },
   {
    "duration": 61,
    "start_time": "2022-03-20T18:08:05.856Z"
   },
   {
    "duration": 130,
    "start_time": "2022-03-20T18:08:06.136Z"
   },
   {
    "duration": 33,
    "start_time": "2022-03-20T18:08:06.383Z"
   },
   {
    "duration": 18,
    "start_time": "2022-03-20T18:08:06.673Z"
   },
   {
    "duration": 18,
    "start_time": "2022-03-20T18:08:06.948Z"
   },
   {
    "duration": 580,
    "start_time": "2022-03-20T18:08:07.623Z"
   },
   {
    "duration": 25,
    "start_time": "2022-03-20T18:08:08.521Z"
   },
   {
    "duration": 43,
    "start_time": "2022-03-20T18:08:09.127Z"
   },
   {
    "duration": 16,
    "start_time": "2022-03-20T18:08:09.394Z"
   },
   {
    "duration": 117,
    "start_time": "2022-03-20T18:08:09.632Z"
   },
   {
    "duration": 16,
    "start_time": "2022-03-20T18:08:09.887Z"
   },
   {
    "duration": 102,
    "start_time": "2022-03-20T18:08:10.631Z"
   },
   {
    "duration": 11,
    "start_time": "2022-03-20T18:08:11.246Z"
   },
   {
    "duration": 16,
    "start_time": "2022-03-20T18:08:11.730Z"
   },
   {
    "duration": 16,
    "start_time": "2022-03-20T18:08:12.007Z"
   },
   {
    "duration": 17,
    "start_time": "2022-03-20T18:08:12.338Z"
   },
   {
    "duration": 97,
    "start_time": "2022-03-20T18:08:12.574Z"
   },
   {
    "duration": 22,
    "start_time": "2022-03-20T18:08:12.792Z"
   },
   {
    "duration": 8,
    "start_time": "2022-03-20T18:08:13.000Z"
   },
   {
    "duration": 72,
    "start_time": "2022-03-20T18:08:13.249Z"
   },
   {
    "duration": 31,
    "start_time": "2022-03-20T18:08:13.456Z"
   },
   {
    "duration": 20,
    "start_time": "2022-03-20T18:08:13.680Z"
   },
   {
    "duration": 6,
    "start_time": "2022-03-20T18:08:13.903Z"
   },
   {
    "duration": 22,
    "start_time": "2022-03-20T18:08:14.121Z"
   },
   {
    "duration": 84,
    "start_time": "2022-03-20T18:08:14.402Z"
   },
   {
    "duration": 32,
    "start_time": "2022-03-20T18:08:14.607Z"
   },
   {
    "duration": 9,
    "start_time": "2022-03-20T18:08:14.864Z"
   },
   {
    "duration": 27,
    "start_time": "2022-03-20T18:08:15.105Z"
   },
   {
    "duration": 24,
    "start_time": "2022-03-20T18:08:15.412Z"
   },
   {
    "duration": 11,
    "start_time": "2022-03-20T18:08:15.700Z"
   },
   {
    "duration": 33,
    "start_time": "2022-03-20T18:08:15.921Z"
   },
   {
    "duration": 15,
    "start_time": "2022-03-20T18:08:16.187Z"
   },
   {
    "duration": 17,
    "start_time": "2022-03-20T18:08:16.487Z"
   },
   {
    "duration": 16,
    "start_time": "2022-03-20T18:08:16.784Z"
   },
   {
    "duration": 5,
    "start_time": "2022-03-20T18:08:17.063Z"
   },
   {
    "duration": 16,
    "start_time": "2022-03-20T18:08:17.315Z"
   },
   {
    "duration": 30,
    "start_time": "2022-03-20T18:08:17.596Z"
   },
   {
    "duration": 33,
    "start_time": "2022-03-20T18:08:17.855Z"
   },
   {
    "duration": 247,
    "start_time": "2022-03-20T18:08:18.105Z"
   },
   {
    "duration": 36,
    "start_time": "2022-03-20T18:08:18.720Z"
   },
   {
    "duration": 30,
    "start_time": "2022-03-20T18:08:19.018Z"
   },
   {
    "duration": 5,
    "start_time": "2022-03-20T18:08:19.323Z"
   },
   {
    "duration": 6,
    "start_time": "2022-03-20T18:08:19.601Z"
   },
   {
    "duration": 14,
    "start_time": "2022-03-20T18:08:22.136Z"
   },
   {
    "duration": 5,
    "start_time": "2022-03-20T18:08:22.402Z"
   },
   {
    "duration": 6,
    "start_time": "2022-03-20T18:08:22.632Z"
   },
   {
    "duration": 6,
    "start_time": "2022-03-20T18:08:22.856Z"
   },
   {
    "duration": 15,
    "start_time": "2022-03-20T18:08:23.832Z"
   },
   {
    "duration": 396,
    "start_time": "2022-03-20T18:08:24.108Z"
   },
   {
    "duration": 59,
    "start_time": "2022-03-20T18:08:24.879Z"
   },
   {
    "duration": 13,
    "start_time": "2022-03-20T18:08:25.552Z"
   },
   {
    "duration": 13,
    "start_time": "2022-03-20T18:08:25.864Z"
   },
   {
    "duration": 4,
    "start_time": "2022-03-20T18:08:26.153Z"
   },
   {
    "duration": 9,
    "start_time": "2022-03-20T18:08:26.359Z"
   },
   {
    "duration": 5,
    "start_time": "2022-03-20T18:08:26.656Z"
   },
   {
    "duration": 11,
    "start_time": "2022-03-20T18:08:26.905Z"
   },
   {
    "duration": 6,
    "start_time": "2022-03-20T18:08:27.162Z"
   },
   {
    "duration": 5,
    "start_time": "2022-03-20T18:08:28.096Z"
   },
   {
    "duration": 11,
    "start_time": "2022-03-20T18:08:28.336Z"
   },
   {
    "duration": 7,
    "start_time": "2022-03-20T18:08:28.560Z"
   },
   {
    "duration": 420,
    "start_time": "2022-03-20T18:08:28.841Z"
   },
   {
    "duration": 11,
    "start_time": "2022-03-20T18:08:29.624Z"
   },
   {
    "duration": 14,
    "start_time": "2022-03-20T18:08:30.241Z"
   },
   {
    "duration": 215,
    "start_time": "2022-03-20T18:08:30.501Z"
   },
   {
    "duration": 27,
    "start_time": "2022-03-20T18:08:30.719Z"
   },
   {
    "duration": 243,
    "start_time": "2022-03-20T18:08:31.697Z"
   },
   {
    "duration": 341,
    "start_time": "2022-03-20T18:08:32.889Z"
   },
   {
    "duration": 13,
    "start_time": "2022-03-20T18:08:33.233Z"
   },
   {
    "duration": 5,
    "start_time": "2022-03-20T18:08:33.408Z"
   },
   {
    "duration": 6,
    "start_time": "2022-03-20T18:08:33.643Z"
   },
   {
    "duration": 6,
    "start_time": "2022-03-20T18:08:33.865Z"
   },
   {
    "duration": 5,
    "start_time": "2022-03-20T18:08:34.074Z"
   },
   {
    "duration": 11,
    "start_time": "2022-03-20T18:08:34.289Z"
   },
   {
    "duration": 14,
    "start_time": "2022-03-20T18:08:34.832Z"
   },
   {
    "duration": 5,
    "start_time": "2022-03-20T18:08:35.324Z"
   },
   {
    "duration": 6,
    "start_time": "2022-03-20T18:08:35.560Z"
   },
   {
    "duration": 5,
    "start_time": "2022-03-20T18:08:35.803Z"
   },
   {
    "duration": 5,
    "start_time": "2022-03-20T18:08:36.801Z"
   },
   {
    "duration": 17,
    "start_time": "2022-03-20T18:08:40.064Z"
   },
   {
    "duration": 24,
    "start_time": "2022-03-20T18:08:40.288Z"
   },
   {
    "duration": 26,
    "start_time": "2022-03-20T18:08:41.097Z"
   },
   {
    "duration": 44,
    "start_time": "2022-03-20T18:08:41.625Z"
   },
   {
    "duration": 29,
    "start_time": "2022-03-20T18:08:43.121Z"
   },
   {
    "duration": 33,
    "start_time": "2022-03-20T18:08:43.360Z"
   },
   {
    "duration": 7,
    "start_time": "2022-03-20T18:08:44.810Z"
   },
   {
    "duration": 13,
    "start_time": "2022-03-20T18:08:45.656Z"
   },
   {
    "duration": 15,
    "start_time": "2022-03-20T18:08:46.074Z"
   },
   {
    "duration": 16,
    "start_time": "2022-03-20T18:08:46.873Z"
   },
   {
    "duration": 4,
    "start_time": "2022-03-20T18:08:50.200Z"
   },
   {
    "duration": 4,
    "start_time": "2022-03-20T18:08:52.049Z"
   },
   {
    "duration": 101,
    "start_time": "2022-03-20T18:08:55.505Z"
   },
   {
    "duration": 8,
    "start_time": "2022-03-20T18:09:02.649Z"
   },
   {
    "duration": 89,
    "start_time": "2022-03-20T18:09:03.843Z"
   },
   {
    "duration": 8,
    "start_time": "2022-03-20T18:09:07.617Z"
   },
   {
    "duration": 27,
    "start_time": "2022-03-20T18:09:09.966Z"
   },
   {
    "duration": 10,
    "start_time": "2022-03-20T18:09:16.667Z"
   },
   {
    "duration": 6,
    "start_time": "2022-03-20T18:09:39.250Z"
   },
   {
    "duration": 28,
    "start_time": "2022-03-20T18:09:52.122Z"
   },
   {
    "duration": 21,
    "start_time": "2022-03-20T18:10:12.730Z"
   },
   {
    "duration": 18,
    "start_time": "2022-03-20T18:10:33.921Z"
   },
   {
    "duration": 2595,
    "start_time": "2022-03-20T18:11:45.987Z"
   },
   {
    "duration": 2658,
    "start_time": "2022-03-20T18:11:56.778Z"
   },
   {
    "duration": 16,
    "start_time": "2022-03-20T18:12:06.657Z"
   },
   {
    "duration": 5,
    "start_time": "2022-03-20T18:12:33.067Z"
   },
   {
    "duration": 210,
    "start_time": "2022-03-20T18:12:33.602Z"
   },
   {
    "duration": 27,
    "start_time": "2022-03-20T18:12:34.138Z"
   },
   {
    "duration": 16,
    "start_time": "2022-03-20T18:12:35.313Z"
   },
   {
    "duration": 32,
    "start_time": "2022-03-20T18:12:35.602Z"
   },
   {
    "duration": 32,
    "start_time": "2022-03-20T18:12:36.161Z"
   },
   {
    "duration": 14,
    "start_time": "2022-03-20T18:12:36.391Z"
   },
   {
    "duration": 30,
    "start_time": "2022-03-20T18:12:36.625Z"
   },
   {
    "duration": 112,
    "start_time": "2022-03-20T18:12:36.826Z"
   },
   {
    "duration": 10,
    "start_time": "2022-03-20T18:12:37.050Z"
   },
   {
    "duration": 9,
    "start_time": "2022-03-20T18:12:37.282Z"
   },
   {
    "duration": 33,
    "start_time": "2022-03-20T18:12:37.513Z"
   },
   {
    "duration": 17,
    "start_time": "2022-03-20T18:12:37.721Z"
   },
   {
    "duration": 42,
    "start_time": "2022-03-20T18:12:37.961Z"
   },
   {
    "duration": 74,
    "start_time": "2022-03-20T18:12:38.189Z"
   },
   {
    "duration": 13,
    "start_time": "2022-03-20T18:12:39.265Z"
   },
   {
    "duration": 8,
    "start_time": "2022-03-20T18:12:39.533Z"
   },
   {
    "duration": 6,
    "start_time": "2022-03-20T18:12:39.737Z"
   },
   {
    "duration": 151,
    "start_time": "2022-03-20T18:12:40.369Z"
   },
   {
    "duration": 62,
    "start_time": "2022-03-20T18:12:40.608Z"
   },
   {
    "duration": 136,
    "start_time": "2022-03-20T18:12:40.833Z"
   },
   {
    "duration": 43,
    "start_time": "2022-03-20T18:12:41.045Z"
   },
   {
    "duration": 29,
    "start_time": "2022-03-20T18:12:41.251Z"
   },
   {
    "duration": 29,
    "start_time": "2022-03-20T18:12:41.482Z"
   },
   {
    "duration": 574,
    "start_time": "2022-03-20T18:12:41.920Z"
   },
   {
    "duration": 25,
    "start_time": "2022-03-20T18:12:42.544Z"
   },
   {
    "duration": 44,
    "start_time": "2022-03-20T18:12:43.031Z"
   },
   {
    "duration": 20,
    "start_time": "2022-03-20T18:12:43.232Z"
   },
   {
    "duration": 172,
    "start_time": "2022-03-20T18:12:43.449Z"
   },
   {
    "duration": 25,
    "start_time": "2022-03-20T18:12:44.266Z"
   },
   {
    "duration": 100,
    "start_time": "2022-03-20T18:12:44.689Z"
   },
   {
    "duration": 11,
    "start_time": "2022-03-20T18:12:45.201Z"
   },
   {
    "duration": 17,
    "start_time": "2022-03-20T18:12:45.633Z"
   },
   {
    "duration": 16,
    "start_time": "2022-03-20T18:12:45.840Z"
   },
   {
    "duration": 17,
    "start_time": "2022-03-20T18:12:46.056Z"
   },
   {
    "duration": 104,
    "start_time": "2022-03-20T18:12:46.273Z"
   },
   {
    "duration": 23,
    "start_time": "2022-03-20T18:12:46.489Z"
   },
   {
    "duration": 9,
    "start_time": "2022-03-20T18:12:46.841Z"
   },
   {
    "duration": 72,
    "start_time": "2022-03-20T18:12:47.123Z"
   },
   {
    "duration": 29,
    "start_time": "2022-03-20T18:12:47.287Z"
   },
   {
    "duration": 21,
    "start_time": "2022-03-20T18:12:47.553Z"
   },
   {
    "duration": 6,
    "start_time": "2022-03-20T18:12:47.784Z"
   },
   {
    "duration": 24,
    "start_time": "2022-03-20T18:12:47.984Z"
   },
   {
    "duration": 79,
    "start_time": "2022-03-20T18:12:48.192Z"
   },
   {
    "duration": 33,
    "start_time": "2022-03-20T18:12:48.409Z"
   },
   {
    "duration": 8,
    "start_time": "2022-03-20T18:12:48.625Z"
   },
   {
    "duration": 27,
    "start_time": "2022-03-20T18:12:48.840Z"
   },
   {
    "duration": 25,
    "start_time": "2022-03-20T18:12:49.040Z"
   },
   {
    "duration": 9,
    "start_time": "2022-03-20T18:12:49.280Z"
   },
   {
    "duration": 32,
    "start_time": "2022-03-20T18:12:49.523Z"
   },
   {
    "duration": 17,
    "start_time": "2022-03-20T18:12:49.738Z"
   },
   {
    "duration": 15,
    "start_time": "2022-03-20T18:12:49.970Z"
   },
   {
    "duration": 16,
    "start_time": "2022-03-20T18:12:50.913Z"
   },
   {
    "duration": 3,
    "start_time": "2022-03-20T18:12:51.450Z"
   },
   {
    "duration": 15,
    "start_time": "2022-03-20T18:12:51.954Z"
   },
   {
    "duration": 30,
    "start_time": "2022-03-20T18:12:52.330Z"
   },
   {
    "duration": 31,
    "start_time": "2022-03-20T18:12:52.697Z"
   },
   {
    "duration": 260,
    "start_time": "2022-03-20T18:12:52.969Z"
   },
   {
    "duration": 38,
    "start_time": "2022-03-20T18:12:53.563Z"
   },
   {
    "duration": 29,
    "start_time": "2022-03-20T18:12:53.818Z"
   },
   {
    "duration": 7,
    "start_time": "2022-03-20T18:12:54.072Z"
   },
   {
    "duration": 6,
    "start_time": "2022-03-20T18:12:54.385Z"
   },
   {
    "duration": 16,
    "start_time": "2022-03-20T18:12:55.128Z"
   },
   {
    "duration": 6,
    "start_time": "2022-03-20T18:12:55.393Z"
   },
   {
    "duration": 6,
    "start_time": "2022-03-20T18:12:55.642Z"
   },
   {
    "duration": 5,
    "start_time": "2022-03-20T18:12:55.892Z"
   },
   {
    "duration": 23,
    "start_time": "2022-03-20T18:12:56.834Z"
   },
   {
    "duration": 545,
    "start_time": "2022-03-20T18:12:57.154Z"
   },
   {
    "duration": 57,
    "start_time": "2022-03-20T18:12:57.889Z"
   },
   {
    "duration": 13,
    "start_time": "2022-03-20T18:12:58.529Z"
   },
   {
    "duration": 12,
    "start_time": "2022-03-20T18:12:58.792Z"
   },
   {
    "duration": 4,
    "start_time": "2022-03-20T18:12:59.009Z"
   },
   {
    "duration": 10,
    "start_time": "2022-03-20T18:12:59.259Z"
   },
   {
    "duration": 5,
    "start_time": "2022-03-20T18:12:59.481Z"
   },
   {
    "duration": 12,
    "start_time": "2022-03-20T18:12:59.721Z"
   },
   {
    "duration": 6,
    "start_time": "2022-03-20T18:12:59.961Z"
   },
   {
    "duration": 5,
    "start_time": "2022-03-20T18:13:00.211Z"
   },
   {
    "duration": 12,
    "start_time": "2022-03-20T18:13:00.976Z"
   },
   {
    "duration": 5,
    "start_time": "2022-03-20T18:13:01.227Z"
   },
   {
    "duration": 615,
    "start_time": "2022-03-20T18:13:01.486Z"
   },
   {
    "duration": 17,
    "start_time": "2022-03-20T18:13:02.193Z"
   },
   {
    "duration": 23,
    "start_time": "2022-03-20T18:13:02.441Z"
   },
   {
    "duration": 210,
    "start_time": "2022-03-20T18:13:02.697Z"
   },
   {
    "duration": 27,
    "start_time": "2022-03-20T18:13:02.914Z"
   },
   {
    "duration": 237,
    "start_time": "2022-03-20T18:13:03.608Z"
   },
   {
    "duration": 373,
    "start_time": "2022-03-20T18:13:05.320Z"
   },
   {
    "duration": 12,
    "start_time": "2022-03-20T18:13:05.696Z"
   },
   {
    "duration": 5,
    "start_time": "2022-03-20T18:13:05.841Z"
   },
   {
    "duration": 5,
    "start_time": "2022-03-20T18:13:06.114Z"
   },
   {
    "duration": 6,
    "start_time": "2022-03-20T18:13:06.344Z"
   },
   {
    "duration": 5,
    "start_time": "2022-03-20T18:13:06.570Z"
   },
   {
    "duration": 11,
    "start_time": "2022-03-20T18:13:06.809Z"
   },
   {
    "duration": 13,
    "start_time": "2022-03-20T18:13:07.273Z"
   },
   {
    "duration": 8,
    "start_time": "2022-03-20T18:13:07.759Z"
   },
   {
    "duration": 6,
    "start_time": "2022-03-20T18:13:08.000Z"
   },
   {
    "duration": 6,
    "start_time": "2022-03-20T18:13:08.262Z"
   },
   {
    "duration": 7,
    "start_time": "2022-03-20T18:13:08.705Z"
   },
   {
    "duration": 16,
    "start_time": "2022-03-20T18:13:10.599Z"
   },
   {
    "duration": 23,
    "start_time": "2022-03-20T18:13:10.874Z"
   },
   {
    "duration": 23,
    "start_time": "2022-03-20T18:13:11.106Z"
   },
   {
    "duration": 31,
    "start_time": "2022-03-20T18:13:11.578Z"
   },
   {
    "duration": 25,
    "start_time": "2022-03-20T18:13:12.554Z"
   },
   {
    "duration": 25,
    "start_time": "2022-03-20T18:13:13.337Z"
   },
   {
    "duration": 9,
    "start_time": "2022-03-20T18:13:14.569Z"
   },
   {
    "duration": 16,
    "start_time": "2022-03-20T18:13:15.353Z"
   },
   {
    "duration": 13,
    "start_time": "2022-03-20T18:13:15.785Z"
   },
   {
    "duration": 14,
    "start_time": "2022-03-20T18:13:16.529Z"
   },
   {
    "duration": 6,
    "start_time": "2022-03-20T18:13:23.897Z"
   },
   {
    "duration": 93,
    "start_time": "2022-03-20T18:13:26.515Z"
   },
   {
    "duration": 7,
    "start_time": "2022-03-20T18:13:26.612Z"
   },
   {
    "duration": 28,
    "start_time": "2022-03-20T18:13:27.634Z"
   },
   {
    "duration": 7,
    "start_time": "2022-03-20T18:13:28.458Z"
   },
   {
    "duration": 20,
    "start_time": "2022-03-20T18:13:32.020Z"
   },
   {
    "duration": 5,
    "start_time": "2022-03-20T18:16:05.537Z"
   },
   {
    "duration": 189,
    "start_time": "2022-03-20T18:16:06.059Z"
   },
   {
    "duration": 29,
    "start_time": "2022-03-20T18:16:06.521Z"
   },
   {
    "duration": 17,
    "start_time": "2022-03-20T18:16:09.033Z"
   },
   {
    "duration": 41,
    "start_time": "2022-03-20T18:16:09.585Z"
   },
   {
    "duration": 29,
    "start_time": "2022-03-20T18:16:10.968Z"
   },
   {
    "duration": 11,
    "start_time": "2022-03-20T18:16:11.490Z"
   },
   {
    "duration": 33,
    "start_time": "2022-03-20T18:16:12.057Z"
   },
   {
    "duration": 101,
    "start_time": "2022-03-20T18:16:12.740Z"
   },
   {
    "duration": 10,
    "start_time": "2022-03-20T18:16:13.250Z"
   },
   {
    "duration": 12,
    "start_time": "2022-03-20T18:16:13.850Z"
   },
   {
    "duration": 32,
    "start_time": "2022-03-20T18:16:14.425Z"
   },
   {
    "duration": 16,
    "start_time": "2022-03-20T18:16:14.994Z"
   },
   {
    "duration": 32,
    "start_time": "2022-03-20T18:16:15.545Z"
   },
   {
    "duration": 41,
    "start_time": "2022-03-20T18:16:16.218Z"
   },
   {
    "duration": 13,
    "start_time": "2022-03-20T18:16:18.361Z"
   },
   {
    "duration": 7,
    "start_time": "2022-03-20T18:16:18.756Z"
   },
   {
    "duration": 5,
    "start_time": "2022-03-20T18:16:19.170Z"
   },
   {
    "duration": 146,
    "start_time": "2022-03-20T18:16:20.281Z"
   },
   {
    "duration": 64,
    "start_time": "2022-03-20T18:16:20.665Z"
   },
   {
    "duration": 142,
    "start_time": "2022-03-20T18:16:21.074Z"
   },
   {
    "duration": 31,
    "start_time": "2022-03-20T18:16:21.501Z"
   },
   {
    "duration": 18,
    "start_time": "2022-03-20T18:16:21.842Z"
   },
   {
    "duration": 18,
    "start_time": "2022-03-20T18:16:22.186Z"
   },
   {
    "duration": 553,
    "start_time": "2022-03-20T18:16:22.857Z"
   },
   {
    "duration": 25,
    "start_time": "2022-03-20T18:16:24.027Z"
   },
   {
    "duration": 37,
    "start_time": "2022-03-20T18:16:24.690Z"
   },
   {
    "duration": 16,
    "start_time": "2022-03-20T18:16:25.163Z"
   },
   {
    "duration": 111,
    "start_time": "2022-03-20T18:16:25.553Z"
   },
   {
    "duration": 16,
    "start_time": "2022-03-20T18:16:25.934Z"
   },
   {
    "duration": 97,
    "start_time": "2022-03-20T18:16:26.865Z"
   },
   {
    "duration": 11,
    "start_time": "2022-03-20T18:16:27.961Z"
   },
   {
    "duration": 16,
    "start_time": "2022-03-20T18:16:28.689Z"
   },
   {
    "duration": 16,
    "start_time": "2022-03-20T18:16:29.129Z"
   },
   {
    "duration": 17,
    "start_time": "2022-03-20T18:16:29.588Z"
   },
   {
    "duration": 97,
    "start_time": "2022-03-20T18:16:29.986Z"
   },
   {
    "duration": 21,
    "start_time": "2022-03-20T18:16:30.314Z"
   },
   {
    "duration": 10,
    "start_time": "2022-03-20T18:16:30.633Z"
   },
   {
    "duration": 77,
    "start_time": "2022-03-20T18:16:30.995Z"
   },
   {
    "duration": 30,
    "start_time": "2022-03-20T18:16:31.302Z"
   },
   {
    "duration": 20,
    "start_time": "2022-03-20T18:16:31.597Z"
   },
   {
    "duration": 5,
    "start_time": "2022-03-20T18:16:31.954Z"
   },
   {
    "duration": 21,
    "start_time": "2022-03-20T18:16:32.233Z"
   },
   {
    "duration": 79,
    "start_time": "2022-03-20T18:16:32.570Z"
   },
   {
    "duration": 30,
    "start_time": "2022-03-20T18:16:32.803Z"
   },
   {
    "duration": 8,
    "start_time": "2022-03-20T18:16:33.137Z"
   },
   {
    "duration": 26,
    "start_time": "2022-03-20T18:16:33.407Z"
   },
   {
    "duration": 23,
    "start_time": "2022-03-20T18:16:33.700Z"
   },
   {
    "duration": 9,
    "start_time": "2022-03-20T18:16:33.963Z"
   },
   {
    "duration": 30,
    "start_time": "2022-03-20T18:16:34.233Z"
   },
   {
    "duration": 17,
    "start_time": "2022-03-20T18:16:34.578Z"
   },
   {
    "duration": 15,
    "start_time": "2022-03-20T18:16:34.865Z"
   },
   {
    "duration": 17,
    "start_time": "2022-03-20T18:16:35.241Z"
   },
   {
    "duration": 3,
    "start_time": "2022-03-20T18:16:35.553Z"
   },
   {
    "duration": 16,
    "start_time": "2022-03-20T18:16:35.865Z"
   },
   {
    "duration": 32,
    "start_time": "2022-03-20T18:16:36.202Z"
   },
   {
    "duration": 32,
    "start_time": "2022-03-20T18:16:36.538Z"
   },
   {
    "duration": 269,
    "start_time": "2022-03-20T18:16:36.936Z"
   },
   {
    "duration": 40,
    "start_time": "2022-03-20T18:16:37.537Z"
   },
   {
    "duration": 47,
    "start_time": "2022-03-20T18:16:37.890Z"
   },
   {
    "duration": 7,
    "start_time": "2022-03-20T18:16:38.162Z"
   },
   {
    "duration": 6,
    "start_time": "2022-03-20T18:16:38.538Z"
   },
   {
    "duration": 15,
    "start_time": "2022-03-20T18:16:39.538Z"
   },
   {
    "duration": 6,
    "start_time": "2022-03-20T18:16:39.884Z"
   },
   {
    "duration": 6,
    "start_time": "2022-03-20T18:16:40.185Z"
   },
   {
    "duration": 5,
    "start_time": "2022-03-20T18:16:40.466Z"
   },
   {
    "duration": 15,
    "start_time": "2022-03-20T18:16:41.697Z"
   },
   {
    "duration": 406,
    "start_time": "2022-03-20T18:16:42.018Z"
   },
   {
    "duration": 59,
    "start_time": "2022-03-20T18:16:43.186Z"
   },
   {
    "duration": 14,
    "start_time": "2022-03-20T18:16:44.477Z"
   },
   {
    "duration": 13,
    "start_time": "2022-03-20T18:16:44.755Z"
   },
   {
    "duration": 5,
    "start_time": "2022-03-20T18:16:45.081Z"
   },
   {
    "duration": 10,
    "start_time": "2022-03-20T18:16:45.379Z"
   },
   {
    "duration": 5,
    "start_time": "2022-03-20T18:16:45.660Z"
   },
   {
    "duration": 11,
    "start_time": "2022-03-20T18:16:45.961Z"
   },
   {
    "duration": 6,
    "start_time": "2022-03-20T18:16:46.273Z"
   },
   {
    "duration": 5,
    "start_time": "2022-03-20T18:16:46.569Z"
   },
   {
    "duration": 11,
    "start_time": "2022-03-20T18:16:46.849Z"
   },
   {
    "duration": 6,
    "start_time": "2022-03-20T18:16:47.072Z"
   },
   {
    "duration": 437,
    "start_time": "2022-03-20T18:16:47.450Z"
   },
   {
    "duration": 12,
    "start_time": "2022-03-20T18:16:48.313Z"
   },
   {
    "duration": 16,
    "start_time": "2022-03-20T18:16:48.633Z"
   },
   {
    "duration": 196,
    "start_time": "2022-03-20T18:16:48.921Z"
   },
   {
    "duration": 28,
    "start_time": "2022-03-20T18:16:49.193Z"
   },
   {
    "duration": 236,
    "start_time": "2022-03-20T18:16:50.057Z"
   },
   {
    "duration": 340,
    "start_time": "2022-03-20T18:16:51.827Z"
   },
   {
    "duration": 13,
    "start_time": "2022-03-20T18:16:52.307Z"
   },
   {
    "duration": 6,
    "start_time": "2022-03-20T18:16:52.689Z"
   },
   {
    "duration": 5,
    "start_time": "2022-03-20T18:16:53.185Z"
   },
   {
    "duration": 6,
    "start_time": "2022-03-20T18:16:53.434Z"
   },
   {
    "duration": 5,
    "start_time": "2022-03-20T18:16:53.713Z"
   },
   {
    "duration": 12,
    "start_time": "2022-03-20T18:16:53.991Z"
   },
   {
    "duration": 13,
    "start_time": "2022-03-20T18:16:54.563Z"
   },
   {
    "duration": 5,
    "start_time": "2022-03-20T18:16:55.163Z"
   },
   {
    "duration": 5,
    "start_time": "2022-03-20T18:16:55.474Z"
   },
   {
    "duration": 5,
    "start_time": "2022-03-20T18:16:55.793Z"
   },
   {
    "duration": 6,
    "start_time": "2022-03-20T18:16:56.081Z"
   },
   {
    "duration": 16,
    "start_time": "2022-03-20T18:16:58.792Z"
   },
   {
    "duration": 22,
    "start_time": "2022-03-20T18:16:59.070Z"
   },
   {
    "duration": 22,
    "start_time": "2022-03-20T18:16:59.314Z"
   },
   {
    "duration": 30,
    "start_time": "2022-03-20T18:16:59.883Z"
   },
   {
    "duration": 24,
    "start_time": "2022-03-20T18:17:00.451Z"
   },
   {
    "duration": 36,
    "start_time": "2022-03-20T18:17:01.187Z"
   },
   {
    "duration": 9,
    "start_time": "2022-03-20T18:17:02.371Z"
   },
   {
    "duration": 14,
    "start_time": "2022-03-20T18:17:03.625Z"
   },
   {
    "duration": 15,
    "start_time": "2022-03-20T18:17:07.443Z"
   },
   {
    "duration": 14,
    "start_time": "2022-03-20T18:17:09.082Z"
   },
   {
    "duration": 97,
    "start_time": "2022-03-20T18:17:11.569Z"
   },
   {
    "duration": 7,
    "start_time": "2022-03-20T18:17:14.986Z"
   },
   {
    "duration": 90,
    "start_time": "2022-03-20T18:17:15.828Z"
   },
   {
    "duration": 7,
    "start_time": "2022-03-20T18:17:20.033Z"
   },
   {
    "duration": 28,
    "start_time": "2022-03-20T18:17:20.764Z"
   },
   {
    "duration": 7,
    "start_time": "2022-03-20T18:17:24.769Z"
   },
   {
    "duration": 42,
    "start_time": "2022-03-20T18:17:25.650Z"
   },
   {
    "duration": 8,
    "start_time": "2022-03-20T18:17:37.107Z"
   },
   {
    "duration": 43,
    "start_time": "2022-03-20T18:20:00.618Z"
   },
   {
    "duration": 14,
    "start_time": "2022-03-20T18:21:41.302Z"
   },
   {
    "duration": 38,
    "start_time": "2022-03-20T18:21:55.579Z"
   },
   {
    "duration": 1731,
    "start_time": "2022-03-20T22:36:28.327Z"
   },
   {
    "duration": 361,
    "start_time": "2022-03-20T22:36:30.061Z"
   },
   {
    "duration": 29,
    "start_time": "2022-03-20T22:36:30.425Z"
   },
   {
    "duration": 17,
    "start_time": "2022-03-20T22:36:32.173Z"
   },
   {
    "duration": 32,
    "start_time": "2022-03-20T22:36:32.469Z"
   },
   {
    "duration": 34,
    "start_time": "2022-03-20T22:36:33.124Z"
   },
   {
    "duration": 14,
    "start_time": "2022-03-20T22:36:33.413Z"
   },
   {
    "duration": 33,
    "start_time": "2022-03-20T22:36:33.701Z"
   },
   {
    "duration": 117,
    "start_time": "2022-03-20T22:36:34.263Z"
   },
   {
    "duration": 10,
    "start_time": "2022-03-20T22:36:34.549Z"
   },
   {
    "duration": 13,
    "start_time": "2022-03-20T22:36:34.924Z"
   },
   {
    "duration": 30,
    "start_time": "2022-03-20T22:36:35.335Z"
   },
   {
    "duration": 15,
    "start_time": "2022-03-20T22:36:36.085Z"
   },
   {
    "duration": 31,
    "start_time": "2022-03-20T22:36:36.501Z"
   },
   {
    "duration": 41,
    "start_time": "2022-03-20T22:36:36.803Z"
   },
   {
    "duration": 15,
    "start_time": "2022-03-20T22:36:38.596Z"
   },
   {
    "duration": 6,
    "start_time": "2022-03-20T22:36:38.970Z"
   },
   {
    "duration": 7,
    "start_time": "2022-03-20T22:36:39.326Z"
   },
   {
    "duration": 155,
    "start_time": "2022-03-20T22:36:40.959Z"
   },
   {
    "duration": 59,
    "start_time": "2022-03-20T22:36:41.261Z"
   },
   {
    "duration": 128,
    "start_time": "2022-03-20T22:36:41.621Z"
   },
   {
    "duration": 35,
    "start_time": "2022-03-20T22:36:43.085Z"
   },
   {
    "duration": 21,
    "start_time": "2022-03-20T22:36:43.123Z"
   },
   {
    "duration": 19,
    "start_time": "2022-03-20T22:36:43.382Z"
   },
   {
    "duration": 683,
    "start_time": "2022-03-20T22:36:44.060Z"
   },
   {
    "duration": 24,
    "start_time": "2022-03-20T22:36:48.641Z"
   },
   {
    "duration": 36,
    "start_time": "2022-03-20T22:36:50.224Z"
   },
   {
    "duration": 16,
    "start_time": "2022-03-20T22:36:50.901Z"
   },
   {
    "duration": 127,
    "start_time": "2022-03-20T22:36:51.365Z"
   },
   {
    "duration": 17,
    "start_time": "2022-03-20T22:36:51.892Z"
   },
   {
    "duration": 114,
    "start_time": "2022-03-20T22:36:52.740Z"
   },
   {
    "duration": 10,
    "start_time": "2022-03-20T22:36:53.748Z"
   },
   {
    "duration": 15,
    "start_time": "2022-03-20T22:36:54.572Z"
   },
   {
    "duration": 15,
    "start_time": "2022-03-20T22:36:55.061Z"
   },
   {
    "duration": 17,
    "start_time": "2022-03-20T22:36:55.525Z"
   },
   {
    "duration": 100,
    "start_time": "2022-03-20T22:36:56.058Z"
   },
   {
    "duration": 21,
    "start_time": "2022-03-20T22:36:56.630Z"
   },
   {
    "duration": 9,
    "start_time": "2022-03-20T22:36:57.126Z"
   },
   {
    "duration": 75,
    "start_time": "2022-03-20T22:36:57.669Z"
   },
   {
    "duration": 29,
    "start_time": "2022-03-20T22:36:58.074Z"
   },
   {
    "duration": 19,
    "start_time": "2022-03-20T22:36:58.685Z"
   },
   {
    "duration": 6,
    "start_time": "2022-03-20T22:36:59.100Z"
   },
   {
    "duration": 22,
    "start_time": "2022-03-20T22:36:59.445Z"
   },
   {
    "duration": 78,
    "start_time": "2022-03-20T22:36:59.964Z"
   },
   {
    "duration": 29,
    "start_time": "2022-03-20T22:37:00.325Z"
   },
   {
    "duration": 7,
    "start_time": "2022-03-20T22:37:00.620Z"
   },
   {
    "duration": 27,
    "start_time": "2022-03-20T22:37:00.989Z"
   },
   {
    "duration": 25,
    "start_time": "2022-03-20T22:37:01.341Z"
   },
   {
    "duration": 9,
    "start_time": "2022-03-20T22:37:02.940Z"
   },
   {
    "duration": 31,
    "start_time": "2022-03-20T22:37:03.436Z"
   },
   {
    "duration": 17,
    "start_time": "2022-03-20T22:37:03.817Z"
   },
   {
    "duration": 16,
    "start_time": "2022-03-20T22:37:04.236Z"
   },
   {
    "duration": 17,
    "start_time": "2022-03-20T22:37:04.645Z"
   },
   {
    "duration": 3,
    "start_time": "2022-03-20T22:37:05.180Z"
   },
   {
    "duration": 15,
    "start_time": "2022-03-20T22:37:05.573Z"
   },
   {
    "duration": 29,
    "start_time": "2022-03-20T22:37:06.260Z"
   },
   {
    "duration": 30,
    "start_time": "2022-03-20T22:37:06.910Z"
   },
   {
    "duration": 245,
    "start_time": "2022-03-20T22:37:07.396Z"
   },
   {
    "duration": 37,
    "start_time": "2022-03-20T22:37:08.349Z"
   },
   {
    "duration": 32,
    "start_time": "2022-03-20T22:37:08.860Z"
   },
   {
    "duration": 5,
    "start_time": "2022-03-20T22:37:09.332Z"
   },
   {
    "duration": 5,
    "start_time": "2022-03-20T22:37:09.852Z"
   },
   {
    "duration": 14,
    "start_time": "2022-03-20T22:37:11.868Z"
   },
   {
    "duration": 7,
    "start_time": "2022-03-20T22:37:12.700Z"
   },
   {
    "duration": 6,
    "start_time": "2022-03-20T22:37:13.326Z"
   },
   {
    "duration": 5,
    "start_time": "2022-03-20T22:37:13.716Z"
   },
   {
    "duration": 22,
    "start_time": "2022-03-20T22:37:15.332Z"
   },
   {
    "duration": 493,
    "start_time": "2022-03-20T22:37:15.709Z"
   },
   {
    "duration": 63,
    "start_time": "2022-03-20T22:37:17.213Z"
   },
   {
    "duration": 14,
    "start_time": "2022-03-20T22:37:18.403Z"
   },
   {
    "duration": 14,
    "start_time": "2022-03-20T22:37:18.820Z"
   },
   {
    "duration": 4,
    "start_time": "2022-03-20T22:37:19.516Z"
   },
   {
    "duration": 12,
    "start_time": "2022-03-20T22:37:20.553Z"
   },
   {
    "duration": 5,
    "start_time": "2022-03-20T22:37:21.676Z"
   },
   {
    "duration": 11,
    "start_time": "2022-03-20T22:37:23.653Z"
   },
   {
    "duration": 5,
    "start_time": "2022-03-20T22:37:28.981Z"
   },
   {
    "duration": 4,
    "start_time": "2022-03-20T22:37:29.574Z"
   },
   {
    "duration": 11,
    "start_time": "2022-03-20T22:37:30.189Z"
   },
   {
    "duration": 6,
    "start_time": "2022-03-20T22:37:30.797Z"
   },
   {
    "duration": 390,
    "start_time": "2022-03-20T22:37:31.342Z"
   },
   {
    "duration": 12,
    "start_time": "2022-03-20T22:37:33.006Z"
   },
   {
    "duration": 14,
    "start_time": "2022-03-20T22:37:33.693Z"
   },
   {
    "duration": 210,
    "start_time": "2022-03-20T22:37:34.253Z"
   },
   {
    "duration": 28,
    "start_time": "2022-03-20T22:37:36.574Z"
   },
   {
    "duration": 235,
    "start_time": "2022-03-20T22:37:47.317Z"
   },
   {
    "duration": 320,
    "start_time": "2022-03-20T22:38:09.732Z"
   },
   {
    "duration": 12,
    "start_time": "2022-03-20T22:38:10.109Z"
   },
   {
    "duration": 5,
    "start_time": "2022-03-20T22:38:10.513Z"
   },
   {
    "duration": 5,
    "start_time": "2022-03-20T22:38:10.869Z"
   },
   {
    "duration": 4,
    "start_time": "2022-03-20T22:38:11.245Z"
   },
   {
    "duration": 5,
    "start_time": "2022-03-20T22:38:11.566Z"
   },
   {
    "duration": 11,
    "start_time": "2022-03-20T22:38:11.925Z"
   },
   {
    "duration": 260,
    "start_time": "2022-03-20T22:38:16.716Z"
   },
   {
    "duration": 6,
    "start_time": "2022-03-20T22:38:34.253Z"
   },
   {
    "duration": 4,
    "start_time": "2022-03-20T22:38:38.157Z"
   },
   {
    "duration": 6,
    "start_time": "2022-03-20T22:38:40.821Z"
   },
   {
    "duration": 5,
    "start_time": "2022-03-20T22:38:43.357Z"
   },
   {
    "duration": 17,
    "start_time": "2022-03-20T22:38:57.005Z"
   },
   {
    "duration": 24,
    "start_time": "2022-03-20T22:38:57.432Z"
   },
   {
    "duration": 25,
    "start_time": "2022-03-20T22:38:58.578Z"
   },
   {
    "duration": 34,
    "start_time": "2022-03-20T22:38:59.662Z"
   },
   {
    "duration": 26,
    "start_time": "2022-03-20T22:39:01.285Z"
   },
   {
    "duration": 26,
    "start_time": "2022-03-20T22:39:02.117Z"
   },
   {
    "duration": 8,
    "start_time": "2022-03-20T22:39:03.547Z"
   },
   {
    "duration": 15,
    "start_time": "2022-03-20T22:39:04.733Z"
   },
   {
    "duration": 17,
    "start_time": "2022-03-20T22:39:05.293Z"
   },
   {
    "duration": 16,
    "start_time": "2022-03-20T22:39:05.766Z"
   },
   {
    "duration": 4,
    "start_time": "2022-03-20T22:39:07.109Z"
   },
   {
    "duration": 3,
    "start_time": "2022-03-20T22:39:07.942Z"
   },
   {
    "duration": 64,
    "start_time": "2022-03-20T22:39:26.287Z"
   },
   {
    "duration": 72,
    "start_time": "2022-03-20T22:39:47.381Z"
   },
   {
    "duration": 34,
    "start_time": "2022-03-20T22:40:08.870Z"
   },
   {
    "duration": 6,
    "start_time": "2022-03-20T22:40:26.647Z"
   },
   {
    "duration": 86,
    "start_time": "2022-03-20T22:40:37.294Z"
   },
   {
    "duration": 6,
    "start_time": "2022-03-20T22:40:38.047Z"
   },
   {
    "duration": 27,
    "start_time": "2022-03-20T22:40:39.254Z"
   },
   {
    "duration": 7,
    "start_time": "2022-03-20T22:40:53.790Z"
   },
   {
    "duration": 27,
    "start_time": "2022-03-20T22:41:18.510Z"
   },
   {
    "duration": 20,
    "start_time": "2022-03-20T22:41:55.158Z"
   },
   {
    "duration": 37,
    "start_time": "2022-03-20T22:42:17.902Z"
   },
   {
    "duration": 22,
    "start_time": "2022-03-20T22:42:33.943Z"
   },
   {
    "duration": 179,
    "start_time": "2022-03-20T22:42:47.962Z"
   },
   {
    "duration": 4,
    "start_time": "2022-03-20T22:43:05.487Z"
   },
   {
    "duration": 206,
    "start_time": "2022-03-20T22:43:06.079Z"
   },
   {
    "duration": 26,
    "start_time": "2022-03-20T22:43:07.368Z"
   },
   {
    "duration": 17,
    "start_time": "2022-03-20T22:43:09.693Z"
   },
   {
    "duration": 31,
    "start_time": "2022-03-20T22:43:10.117Z"
   },
   {
    "duration": 31,
    "start_time": "2022-03-20T22:43:10.933Z"
   },
   {
    "duration": 12,
    "start_time": "2022-03-20T22:43:11.269Z"
   },
   {
    "duration": 29,
    "start_time": "2022-03-20T22:43:11.774Z"
   },
   {
    "duration": 106,
    "start_time": "2022-03-20T22:43:12.120Z"
   },
   {
    "duration": 9,
    "start_time": "2022-03-20T22:43:12.446Z"
   },
   {
    "duration": 10,
    "start_time": "2022-03-20T22:43:12.765Z"
   },
   {
    "duration": 31,
    "start_time": "2022-03-20T22:43:13.078Z"
   },
   {
    "duration": 15,
    "start_time": "2022-03-20T22:43:13.438Z"
   },
   {
    "duration": 32,
    "start_time": "2022-03-20T22:43:14.446Z"
   },
   {
    "duration": 42,
    "start_time": "2022-03-20T22:43:15.153Z"
   },
   {
    "duration": 12,
    "start_time": "2022-03-20T22:43:18.315Z"
   },
   {
    "duration": 7,
    "start_time": "2022-03-20T22:43:18.993Z"
   },
   {
    "duration": 5,
    "start_time": "2022-03-20T22:43:19.543Z"
   },
   {
    "duration": 151,
    "start_time": "2022-03-20T22:43:22.832Z"
   },
   {
    "duration": 65,
    "start_time": "2022-03-20T22:43:22.986Z"
   },
   {
    "duration": 213,
    "start_time": "2022-03-20T22:43:23.069Z"
   },
   {
    "duration": 59,
    "start_time": "2022-03-20T22:43:23.301Z"
   },
   {
    "duration": 17,
    "start_time": "2022-03-20T22:43:23.870Z"
   },
   {
    "duration": 16,
    "start_time": "2022-03-20T22:43:24.441Z"
   },
   {
    "duration": 562,
    "start_time": "2022-03-20T22:43:25.734Z"
   },
   {
    "duration": 24,
    "start_time": "2022-03-20T22:43:27.497Z"
   },
   {
    "duration": 38,
    "start_time": "2022-03-20T22:43:28.829Z"
   },
   {
    "duration": 16,
    "start_time": "2022-03-20T22:43:29.486Z"
   },
   {
    "duration": 118,
    "start_time": "2022-03-20T22:43:30.143Z"
   },
   {
    "duration": 17,
    "start_time": "2022-03-20T22:43:30.750Z"
   },
   {
    "duration": 114,
    "start_time": "2022-03-20T22:43:32.094Z"
   },
   {
    "duration": 10,
    "start_time": "2022-03-20T22:43:34.245Z"
   },
   {
    "duration": 16,
    "start_time": "2022-03-20T22:43:35.509Z"
   },
   {
    "duration": 15,
    "start_time": "2022-03-20T22:43:36.094Z"
   },
   {
    "duration": 16,
    "start_time": "2022-03-20T22:43:36.550Z"
   },
   {
    "duration": 92,
    "start_time": "2022-03-20T22:43:37.006Z"
   },
   {
    "duration": 23,
    "start_time": "2022-03-20T22:43:37.503Z"
   },
   {
    "duration": 9,
    "start_time": "2022-03-20T22:43:38.199Z"
   },
   {
    "duration": 71,
    "start_time": "2022-03-20T22:43:38.662Z"
   },
   {
    "duration": 30,
    "start_time": "2022-03-20T22:43:39.166Z"
   },
   {
    "duration": 20,
    "start_time": "2022-03-20T22:43:39.678Z"
   },
   {
    "duration": 5,
    "start_time": "2022-03-20T22:43:40.166Z"
   },
   {
    "duration": 22,
    "start_time": "2022-03-20T22:43:40.710Z"
   },
   {
    "duration": 79,
    "start_time": "2022-03-20T22:43:41.183Z"
   },
   {
    "duration": 29,
    "start_time": "2022-03-20T22:43:41.903Z"
   },
   {
    "duration": 8,
    "start_time": "2022-03-20T22:43:42.439Z"
   },
   {
    "duration": 26,
    "start_time": "2022-03-20T22:43:42.871Z"
   },
   {
    "duration": 24,
    "start_time": "2022-03-20T22:43:43.431Z"
   },
   {
    "duration": 9,
    "start_time": "2022-03-20T22:43:43.926Z"
   },
   {
    "duration": 31,
    "start_time": "2022-03-20T22:43:44.503Z"
   },
   {
    "duration": 18,
    "start_time": "2022-03-20T22:43:45.023Z"
   },
   {
    "duration": 15,
    "start_time": "2022-03-20T22:43:45.551Z"
   },
   {
    "duration": 17,
    "start_time": "2022-03-20T22:43:46.025Z"
   },
   {
    "duration": 4,
    "start_time": "2022-03-20T22:43:46.549Z"
   },
   {
    "duration": 14,
    "start_time": "2022-03-20T22:43:47.014Z"
   },
   {
    "duration": 32,
    "start_time": "2022-03-20T22:43:47.542Z"
   },
   {
    "duration": 32,
    "start_time": "2022-03-20T22:43:48.055Z"
   },
   {
    "duration": 252,
    "start_time": "2022-03-20T22:43:48.518Z"
   },
   {
    "duration": 39,
    "start_time": "2022-03-20T22:43:49.508Z"
   },
   {
    "duration": 34,
    "start_time": "2022-03-20T22:43:49.998Z"
   },
   {
    "duration": 6,
    "start_time": "2022-03-20T22:43:50.494Z"
   },
   {
    "duration": 5,
    "start_time": "2022-03-20T22:43:50.991Z"
   },
   {
    "duration": 15,
    "start_time": "2022-03-20T22:43:52.533Z"
   },
   {
    "duration": 10,
    "start_time": "2022-03-20T22:43:53.102Z"
   },
   {
    "duration": 6,
    "start_time": "2022-03-20T22:43:53.622Z"
   },
   {
    "duration": 5,
    "start_time": "2022-03-20T22:43:54.102Z"
   },
   {
    "duration": 16,
    "start_time": "2022-03-20T22:43:56.845Z"
   },
   {
    "duration": 365,
    "start_time": "2022-03-20T22:43:57.325Z"
   },
   {
    "duration": 56,
    "start_time": "2022-03-20T22:43:58.840Z"
   },
   {
    "duration": 14,
    "start_time": "2022-03-20T22:44:00.301Z"
   },
   {
    "duration": 13,
    "start_time": "2022-03-20T22:44:00.839Z"
   },
   {
    "duration": 4,
    "start_time": "2022-03-20T22:44:01.382Z"
   },
   {
    "duration": 10,
    "start_time": "2022-03-20T22:44:01.846Z"
   },
   {
    "duration": 5,
    "start_time": "2022-03-20T22:44:02.334Z"
   },
   {
    "duration": 11,
    "start_time": "2022-03-20T22:44:03.278Z"
   },
   {
    "duration": 5,
    "start_time": "2022-03-20T22:44:03.606Z"
   },
   {
    "duration": 5,
    "start_time": "2022-03-20T22:44:03.910Z"
   },
   {
    "duration": 11,
    "start_time": "2022-03-20T22:44:04.639Z"
   },
   {
    "duration": 6,
    "start_time": "2022-03-20T22:44:05.030Z"
   },
   {
    "duration": 457,
    "start_time": "2022-03-20T22:44:05.318Z"
   },
   {
    "duration": 12,
    "start_time": "2022-03-20T22:44:06.162Z"
   },
   {
    "duration": 15,
    "start_time": "2022-03-20T22:44:06.421Z"
   },
   {
    "duration": 207,
    "start_time": "2022-03-20T22:44:06.918Z"
   },
   {
    "duration": 28,
    "start_time": "2022-03-20T22:44:07.182Z"
   },
   {
    "duration": 243,
    "start_time": "2022-03-20T22:44:07.941Z"
   },
   {
    "duration": 258,
    "start_time": "2022-03-20T22:44:09.254Z"
   },
   {
    "duration": 15,
    "start_time": "2022-03-20T22:44:09.541Z"
   },
   {
    "duration": 6,
    "start_time": "2022-03-20T22:44:09.807Z"
   },
   {
    "duration": 6,
    "start_time": "2022-03-20T22:44:10.070Z"
   },
   {
    "duration": 6,
    "start_time": "2022-03-20T22:44:10.334Z"
   },
   {
    "duration": 5,
    "start_time": "2022-03-20T22:44:11.230Z"
   },
   {
    "duration": 12,
    "start_time": "2022-03-20T22:44:11.494Z"
   },
   {
    "duration": 15,
    "start_time": "2022-03-20T22:44:11.997Z"
   },
   {
    "duration": 7,
    "start_time": "2022-03-20T22:44:13.071Z"
   },
   {
    "duration": 6,
    "start_time": "2022-03-20T22:44:13.358Z"
   },
   {
    "duration": 5,
    "start_time": "2022-03-20T22:44:13.634Z"
   },
   {
    "duration": 6,
    "start_time": "2022-03-20T22:44:13.919Z"
   },
   {
    "duration": 15,
    "start_time": "2022-03-20T22:44:17.117Z"
   },
   {
    "duration": 25,
    "start_time": "2022-03-20T22:44:17.704Z"
   },
   {
    "duration": 24,
    "start_time": "2022-03-20T22:44:18.287Z"
   },
   {
    "duration": 31,
    "start_time": "2022-03-20T22:44:19.381Z"
   },
   {
    "duration": 27,
    "start_time": "2022-03-20T22:44:20.718Z"
   },
   {
    "duration": 37,
    "start_time": "2022-03-20T22:44:21.950Z"
   },
   {
    "duration": 11,
    "start_time": "2022-03-20T22:44:23.927Z"
   },
   {
    "duration": 19,
    "start_time": "2022-03-20T22:44:25.215Z"
   },
   {
    "duration": 19,
    "start_time": "2022-03-20T22:44:25.854Z"
   },
   {
    "duration": 20,
    "start_time": "2022-03-20T22:44:26.534Z"
   },
   {
    "duration": 5,
    "start_time": "2022-03-20T22:44:28.622Z"
   },
   {
    "duration": 3,
    "start_time": "2022-03-20T22:44:29.440Z"
   },
   {
    "duration": 109,
    "start_time": "2022-03-20T22:44:30.314Z"
   },
   {
    "duration": 56,
    "start_time": "2022-03-20T22:44:31.184Z"
   },
   {
    "duration": 10,
    "start_time": "2022-03-20T22:44:32.957Z"
   },
   {
    "duration": 97,
    "start_time": "2022-03-20T22:44:34.104Z"
   },
   {
    "duration": 7,
    "start_time": "2022-03-20T22:44:35.288Z"
   },
   {
    "duration": 44,
    "start_time": "2022-03-20T22:44:36.614Z"
   },
   {
    "duration": 8,
    "start_time": "2022-03-20T22:44:37.591Z"
   },
   {
    "duration": 29,
    "start_time": "2022-03-20T22:44:38.551Z"
   },
   {
    "duration": 43,
    "start_time": "2022-03-20T22:44:41.151Z"
   },
   {
    "duration": 2169,
    "start_time": "2022-03-20T22:47:30.095Z"
   },
   {
    "duration": 15,
    "start_time": "2022-03-20T22:48:03.658Z"
   },
   {
    "duration": 88,
    "start_time": "2022-03-20T22:50:21.520Z"
   },
   {
    "duration": 5,
    "start_time": "2022-03-20T23:26:25.588Z"
   },
   {
    "duration": 200,
    "start_time": "2022-03-20T23:26:26.694Z"
   },
   {
    "duration": 25,
    "start_time": "2022-03-20T23:26:28.029Z"
   },
   {
    "duration": 17,
    "start_time": "2022-03-20T23:26:33.989Z"
   },
   {
    "duration": 33,
    "start_time": "2022-03-20T23:26:34.613Z"
   },
   {
    "duration": 28,
    "start_time": "2022-03-20T23:26:41.301Z"
   },
   {
    "duration": 12,
    "start_time": "2022-03-20T23:26:41.981Z"
   },
   {
    "duration": 29,
    "start_time": "2022-03-20T23:26:42.509Z"
   },
   {
    "duration": 101,
    "start_time": "2022-03-20T23:26:43.028Z"
   },
   {
    "duration": 10,
    "start_time": "2022-03-20T23:26:43.710Z"
   },
   {
    "duration": 10,
    "start_time": "2022-03-20T23:26:44.244Z"
   },
   {
    "duration": 30,
    "start_time": "2022-03-20T23:26:44.772Z"
   },
   {
    "duration": 16,
    "start_time": "2022-03-20T23:26:45.349Z"
   },
   {
    "duration": 29,
    "start_time": "2022-03-20T23:26:45.830Z"
   },
   {
    "duration": 40,
    "start_time": "2022-03-20T23:26:46.357Z"
   },
   {
    "duration": 12,
    "start_time": "2022-03-20T23:26:50.052Z"
   },
   {
    "duration": 6,
    "start_time": "2022-03-20T23:26:50.597Z"
   },
   {
    "duration": 6,
    "start_time": "2022-03-20T23:26:51.068Z"
   },
   {
    "duration": 148,
    "start_time": "2022-03-20T23:26:52.765Z"
   },
   {
    "duration": 65,
    "start_time": "2022-03-20T23:26:53.261Z"
   },
   {
    "duration": 139,
    "start_time": "2022-03-20T23:26:53.829Z"
   },
   {
    "duration": 33,
    "start_time": "2022-03-20T23:26:54.743Z"
   },
   {
    "duration": 17,
    "start_time": "2022-03-20T23:26:55.223Z"
   },
   {
    "duration": 17,
    "start_time": "2022-03-20T23:26:56.133Z"
   },
   {
    "duration": 556,
    "start_time": "2022-03-20T23:26:57.580Z"
   },
   {
    "duration": 25,
    "start_time": "2022-03-20T23:26:58.982Z"
   },
   {
    "duration": 43,
    "start_time": "2022-03-20T23:27:01.053Z"
   },
   {
    "duration": 17,
    "start_time": "2022-03-20T23:27:01.415Z"
   },
   {
    "duration": 121,
    "start_time": "2022-03-20T23:27:01.918Z"
   },
   {
    "duration": 17,
    "start_time": "2022-03-20T23:27:02.287Z"
   },
   {
    "duration": 105,
    "start_time": "2022-03-20T23:27:03.149Z"
   },
   {
    "duration": 10,
    "start_time": "2022-03-20T23:27:04.045Z"
   },
   {
    "duration": 15,
    "start_time": "2022-03-20T23:27:05.102Z"
   },
   {
    "duration": 16,
    "start_time": "2022-03-20T23:27:05.437Z"
   },
   {
    "duration": 17,
    "start_time": "2022-03-20T23:27:05.764Z"
   },
   {
    "duration": 95,
    "start_time": "2022-03-20T23:27:06.101Z"
   },
   {
    "duration": 23,
    "start_time": "2022-03-20T23:27:06.407Z"
   },
   {
    "duration": 9,
    "start_time": "2022-03-20T23:27:07.008Z"
   },
   {
    "duration": 72,
    "start_time": "2022-03-20T23:27:11.429Z"
   },
   {
    "duration": 30,
    "start_time": "2022-03-20T23:27:12.391Z"
   },
   {
    "duration": 19,
    "start_time": "2022-03-20T23:27:12.743Z"
   },
   {
    "duration": 6,
    "start_time": "2022-03-20T23:27:13.053Z"
   },
   {
    "duration": 22,
    "start_time": "2022-03-20T23:27:14.036Z"
   },
   {
    "duration": 79,
    "start_time": "2022-03-20T23:27:14.405Z"
   },
   {
    "duration": 35,
    "start_time": "2022-03-20T23:27:14.679Z"
   },
   {
    "duration": 9,
    "start_time": "2022-03-20T23:27:14.956Z"
   },
   {
    "duration": 26,
    "start_time": "2022-03-20T23:27:15.244Z"
   },
   {
    "duration": 24,
    "start_time": "2022-03-20T23:27:15.456Z"
   },
   {
    "duration": 8,
    "start_time": "2022-03-20T23:27:15.733Z"
   },
   {
    "duration": 31,
    "start_time": "2022-03-20T23:27:16.821Z"
   },
   {
    "duration": 17,
    "start_time": "2022-03-20T23:27:17.078Z"
   },
   {
    "duration": 17,
    "start_time": "2022-03-20T23:27:17.305Z"
   },
   {
    "duration": 18,
    "start_time": "2022-03-20T23:27:17.537Z"
   },
   {
    "duration": 4,
    "start_time": "2022-03-20T23:27:17.902Z"
   },
   {
    "duration": 16,
    "start_time": "2022-03-20T23:27:19.357Z"
   },
   {
    "duration": 29,
    "start_time": "2022-03-20T23:27:19.620Z"
   },
   {
    "duration": 31,
    "start_time": "2022-03-20T23:27:19.885Z"
   },
   {
    "duration": 249,
    "start_time": "2022-03-20T23:27:20.134Z"
   },
   {
    "duration": 37,
    "start_time": "2022-03-20T23:27:20.805Z"
   },
   {
    "duration": 30,
    "start_time": "2022-03-20T23:27:21.355Z"
   },
   {
    "duration": 6,
    "start_time": "2022-03-20T23:27:21.609Z"
   },
   {
    "duration": 6,
    "start_time": "2022-03-20T23:27:21.853Z"
   },
   {
    "duration": 14,
    "start_time": "2022-03-20T23:27:22.619Z"
   },
   {
    "duration": 6,
    "start_time": "2022-03-20T23:27:22.885Z"
   },
   {
    "duration": 7,
    "start_time": "2022-03-20T23:27:23.157Z"
   },
   {
    "duration": 6,
    "start_time": "2022-03-20T23:27:23.413Z"
   },
   {
    "duration": 16,
    "start_time": "2022-03-20T23:27:24.942Z"
   },
   {
    "duration": 369,
    "start_time": "2022-03-20T23:27:25.201Z"
   },
   {
    "duration": 58,
    "start_time": "2022-03-20T23:27:25.961Z"
   },
   {
    "duration": 13,
    "start_time": "2022-03-20T23:27:26.772Z"
   },
   {
    "duration": 12,
    "start_time": "2022-03-20T23:27:27.044Z"
   },
   {
    "duration": 4,
    "start_time": "2022-03-20T23:27:27.301Z"
   },
   {
    "duration": 11,
    "start_time": "2022-03-20T23:27:27.557Z"
   },
   {
    "duration": 5,
    "start_time": "2022-03-20T23:27:28.453Z"
   },
   {
    "duration": 12,
    "start_time": "2022-03-20T23:27:28.700Z"
   },
   {
    "duration": 6,
    "start_time": "2022-03-20T23:27:28.937Z"
   },
   {
    "duration": 5,
    "start_time": "2022-03-20T23:27:29.180Z"
   },
   {
    "duration": 11,
    "start_time": "2022-03-20T23:27:29.413Z"
   },
   {
    "duration": 6,
    "start_time": "2022-03-20T23:27:29.684Z"
   },
   {
    "duration": 409,
    "start_time": "2022-03-20T23:27:29.965Z"
   },
   {
    "duration": 12,
    "start_time": "2022-03-20T23:27:30.717Z"
   },
   {
    "duration": 15,
    "start_time": "2022-03-20T23:27:31.525Z"
   },
   {
    "duration": 218,
    "start_time": "2022-03-20T23:27:31.775Z"
   },
   {
    "duration": 27,
    "start_time": "2022-03-20T23:27:32.007Z"
   },
   {
    "duration": 241,
    "start_time": "2022-03-20T23:27:32.764Z"
   },
   {
    "duration": 327,
    "start_time": "2022-03-20T23:27:35.221Z"
   },
   {
    "duration": 20,
    "start_time": "2022-03-20T23:27:35.551Z"
   },
   {
    "duration": 6,
    "start_time": "2022-03-20T23:27:35.741Z"
   },
   {
    "duration": 4,
    "start_time": "2022-03-20T23:27:36.422Z"
   },
   {
    "duration": 5,
    "start_time": "2022-03-20T23:27:36.685Z"
   },
   {
    "duration": 6,
    "start_time": "2022-03-20T23:27:36.932Z"
   },
   {
    "duration": 12,
    "start_time": "2022-03-20T23:27:37.204Z"
   },
   {
    "duration": 13,
    "start_time": "2022-03-20T23:27:38.156Z"
   },
   {
    "duration": 5,
    "start_time": "2022-03-20T23:27:38.782Z"
   },
   {
    "duration": 6,
    "start_time": "2022-03-20T23:27:39.068Z"
   },
   {
    "duration": 6,
    "start_time": "2022-03-20T23:27:39.478Z"
   },
   {
    "duration": 5,
    "start_time": "2022-03-20T23:27:39.727Z"
   },
   {
    "duration": 15,
    "start_time": "2022-03-20T23:27:42.283Z"
   },
   {
    "duration": 22,
    "start_time": "2022-03-20T23:27:42.519Z"
   },
   {
    "duration": 23,
    "start_time": "2022-03-20T23:27:42.933Z"
   },
   {
    "duration": 29,
    "start_time": "2022-03-20T23:27:44.028Z"
   },
   {
    "duration": 24,
    "start_time": "2022-03-20T23:27:44.564Z"
   },
   {
    "duration": 24,
    "start_time": "2022-03-20T23:27:45.997Z"
   },
   {
    "duration": 7,
    "start_time": "2022-03-20T23:27:47.301Z"
   },
   {
    "duration": 13,
    "start_time": "2022-03-20T23:27:48.260Z"
   },
   {
    "duration": 14,
    "start_time": "2022-03-20T23:27:48.743Z"
   },
   {
    "duration": 13,
    "start_time": "2022-03-20T23:27:56.149Z"
   },
   {
    "duration": 5,
    "start_time": "2022-03-20T23:28:01.965Z"
   },
   {
    "duration": 3,
    "start_time": "2022-03-20T23:28:02.629Z"
   },
   {
    "duration": 72,
    "start_time": "2022-03-20T23:28:05.300Z"
   },
   {
    "duration": 34,
    "start_time": "2022-03-20T23:28:08.232Z"
   },
   {
    "duration": 7,
    "start_time": "2022-03-20T23:28:11.070Z"
   },
   {
    "duration": 107,
    "start_time": "2022-03-20T23:28:13.463Z"
   },
   {
    "duration": 6,
    "start_time": "2022-03-20T23:28:15.089Z"
   },
   {
    "duration": 28,
    "start_time": "2022-03-20T23:28:15.949Z"
   },
   {
    "duration": 15,
    "start_time": "2022-03-20T23:28:33.423Z"
   },
   {
    "duration": 15,
    "start_time": "2022-03-20T23:28:37.454Z"
   },
   {
    "duration": 15,
    "start_time": "2022-03-20T23:28:47.462Z"
   },
   {
    "duration": 5,
    "start_time": "2022-03-20T23:30:37.302Z"
   },
   {
    "duration": 9,
    "start_time": "2022-03-20T23:30:41.166Z"
   },
   {
    "duration": 5,
    "start_time": "2022-03-20T23:57:37.137Z"
   },
   {
    "duration": 193,
    "start_time": "2022-03-20T23:57:38.192Z"
   },
   {
    "duration": 26,
    "start_time": "2022-03-20T23:57:39.417Z"
   },
   {
    "duration": 17,
    "start_time": "2022-03-20T23:57:46.017Z"
   },
   {
    "duration": 31,
    "start_time": "2022-03-20T23:57:46.921Z"
   },
   {
    "duration": 30,
    "start_time": "2022-03-20T23:57:50.993Z"
   },
   {
    "duration": 11,
    "start_time": "2022-03-20T23:57:51.513Z"
   },
   {
    "duration": 29,
    "start_time": "2022-03-20T23:57:52.073Z"
   },
   {
    "duration": 100,
    "start_time": "2022-03-20T23:57:56.689Z"
   },
   {
    "duration": 9,
    "start_time": "2022-03-20T23:57:57.194Z"
   },
   {
    "duration": 10,
    "start_time": "2022-03-20T23:57:57.849Z"
   },
   {
    "duration": 30,
    "start_time": "2022-03-20T23:58:01.874Z"
   },
   {
    "duration": 16,
    "start_time": "2022-03-20T23:58:03.396Z"
   },
   {
    "duration": 31,
    "start_time": "2022-03-20T23:58:03.961Z"
   },
   {
    "duration": 39,
    "start_time": "2022-03-20T23:58:04.473Z"
   },
   {
    "duration": 13,
    "start_time": "2022-03-20T23:58:08.915Z"
   },
   {
    "duration": 7,
    "start_time": "2022-03-20T23:58:15.147Z"
   },
   {
    "duration": 11,
    "start_time": "2022-03-20T23:59:40.081Z"
   },
   {
    "duration": 5,
    "start_time": "2022-03-21T00:34:00.606Z"
   },
   {
    "duration": 202,
    "start_time": "2022-03-21T00:34:01.575Z"
   },
   {
    "duration": 26,
    "start_time": "2022-03-21T00:34:02.497Z"
   },
   {
    "duration": 17,
    "start_time": "2022-03-21T00:34:05.214Z"
   },
   {
    "duration": 30,
    "start_time": "2022-03-21T00:34:05.735Z"
   },
   {
    "duration": 33,
    "start_time": "2022-03-21T00:34:06.567Z"
   },
   {
    "duration": 12,
    "start_time": "2022-03-21T00:34:06.927Z"
   },
   {
    "duration": 29,
    "start_time": "2022-03-21T00:34:07.327Z"
   },
   {
    "duration": 100,
    "start_time": "2022-03-21T00:34:07.680Z"
   },
   {
    "duration": 10,
    "start_time": "2022-03-21T00:34:08.288Z"
   },
   {
    "duration": 10,
    "start_time": "2022-03-21T00:34:08.703Z"
   },
   {
    "duration": 32,
    "start_time": "2022-03-21T00:34:09.119Z"
   },
   {
    "duration": 15,
    "start_time": "2022-03-21T00:34:09.431Z"
   },
   {
    "duration": 34,
    "start_time": "2022-03-21T00:34:09.800Z"
   },
   {
    "duration": 39,
    "start_time": "2022-03-21T00:34:10.126Z"
   },
   {
    "duration": 11,
    "start_time": "2022-03-21T00:34:11.935Z"
   },
   {
    "duration": 7,
    "start_time": "2022-03-21T00:34:12.215Z"
   },
   {
    "duration": 11,
    "start_time": "2022-03-21T00:34:12.536Z"
   },
   {
    "duration": 8,
    "start_time": "2022-03-21T00:34:12.799Z"
   },
   {
    "duration": 156,
    "start_time": "2022-03-21T00:34:14.983Z"
   },
   {
    "duration": 60,
    "start_time": "2022-03-21T00:34:15.431Z"
   },
   {
    "duration": 138,
    "start_time": "2022-03-21T00:34:15.864Z"
   },
   {
    "duration": 33,
    "start_time": "2022-03-21T00:34:16.328Z"
   },
   {
    "duration": 20,
    "start_time": "2022-03-21T00:34:16.806Z"
   },
   {
    "duration": 18,
    "start_time": "2022-03-21T00:34:17.272Z"
   },
   {
    "duration": 546,
    "start_time": "2022-03-21T00:34:18.390Z"
   },
   {
    "duration": 25,
    "start_time": "2022-03-21T00:34:19.591Z"
   },
   {
    "duration": 38,
    "start_time": "2022-03-21T00:34:20.479Z"
   },
   {
    "duration": 15,
    "start_time": "2022-03-21T00:34:20.871Z"
   },
   {
    "duration": 115,
    "start_time": "2022-03-21T00:34:21.296Z"
   },
   {
    "duration": 17,
    "start_time": "2022-03-21T00:34:21.760Z"
   },
   {
    "duration": 104,
    "start_time": "2022-03-21T00:34:22.502Z"
   },
   {
    "duration": 10,
    "start_time": "2022-03-21T00:34:23.338Z"
   },
   {
    "duration": 15,
    "start_time": "2022-03-21T00:34:24.239Z"
   },
   {
    "duration": 16,
    "start_time": "2022-03-21T00:34:24.752Z"
   },
   {
    "duration": 17,
    "start_time": "2022-03-21T00:34:25.191Z"
   },
   {
    "duration": 96,
    "start_time": "2022-03-21T00:34:25.680Z"
   },
   {
    "duration": 22,
    "start_time": "2022-03-21T00:34:26.169Z"
   },
   {
    "duration": 8,
    "start_time": "2022-03-21T00:34:26.879Z"
   },
   {
    "duration": 72,
    "start_time": "2022-03-21T00:34:27.279Z"
   },
   {
    "duration": 30,
    "start_time": "2022-03-21T00:34:27.743Z"
   },
   {
    "duration": 20,
    "start_time": "2022-03-21T00:34:28.184Z"
   },
   {
    "duration": 6,
    "start_time": "2022-03-21T00:34:28.593Z"
   },
   {
    "duration": 24,
    "start_time": "2022-03-21T00:34:29.010Z"
   },
   {
    "duration": 82,
    "start_time": "2022-03-21T00:34:29.479Z"
   },
   {
    "duration": 30,
    "start_time": "2022-03-21T00:34:30.023Z"
   },
   {
    "duration": 10,
    "start_time": "2022-03-21T00:34:30.390Z"
   },
   {
    "duration": 26,
    "start_time": "2022-03-21T00:34:30.832Z"
   },
   {
    "duration": 26,
    "start_time": "2022-03-21T00:34:31.191Z"
   },
   {
    "duration": 8,
    "start_time": "2022-03-21T00:34:31.695Z"
   },
   {
    "duration": 32,
    "start_time": "2022-03-21T00:34:32.023Z"
   },
   {
    "duration": 18,
    "start_time": "2022-03-21T00:34:32.406Z"
   },
   {
    "duration": 15,
    "start_time": "2022-03-21T00:34:32.952Z"
   },
   {
    "duration": 17,
    "start_time": "2022-03-21T00:34:33.455Z"
   },
   {
    "duration": 3,
    "start_time": "2022-03-21T00:34:33.825Z"
   },
   {
    "duration": 16,
    "start_time": "2022-03-21T00:34:34.327Z"
   },
   {
    "duration": 29,
    "start_time": "2022-03-21T00:34:34.887Z"
   },
   {
    "duration": 38,
    "start_time": "2022-03-21T00:34:35.215Z"
   },
   {
    "duration": 246,
    "start_time": "2022-03-21T00:34:35.552Z"
   },
   {
    "duration": 38,
    "start_time": "2022-03-21T00:34:36.446Z"
   },
   {
    "duration": 31,
    "start_time": "2022-03-21T00:34:36.933Z"
   },
   {
    "duration": 5,
    "start_time": "2022-03-21T00:34:37.359Z"
   },
   {
    "duration": 6,
    "start_time": "2022-03-21T00:34:37.750Z"
   },
   {
    "duration": 15,
    "start_time": "2022-03-21T00:34:39.062Z"
   },
   {
    "duration": 6,
    "start_time": "2022-03-21T00:34:39.471Z"
   },
   {
    "duration": 6,
    "start_time": "2022-03-21T00:34:39.936Z"
   },
   {
    "duration": 6,
    "start_time": "2022-03-21T00:34:40.343Z"
   },
   {
    "duration": 16,
    "start_time": "2022-03-21T00:34:42.416Z"
   },
   {
    "duration": 392,
    "start_time": "2022-03-21T00:34:42.800Z"
   },
   {
    "duration": 59,
    "start_time": "2022-03-21T00:34:43.895Z"
   },
   {
    "duration": 16,
    "start_time": "2022-03-21T00:34:44.983Z"
   },
   {
    "duration": 12,
    "start_time": "2022-03-21T00:34:45.649Z"
   },
   {
    "duration": 4,
    "start_time": "2022-03-21T00:34:45.959Z"
   },
   {
    "duration": 10,
    "start_time": "2022-03-21T00:34:46.286Z"
   },
   {
    "duration": 5,
    "start_time": "2022-03-21T00:34:46.647Z"
   },
   {
    "duration": 11,
    "start_time": "2022-03-21T00:34:47.006Z"
   },
   {
    "duration": 6,
    "start_time": "2022-03-21T00:34:47.399Z"
   },
   {
    "duration": 5,
    "start_time": "2022-03-21T00:34:48.055Z"
   },
   {
    "duration": 11,
    "start_time": "2022-03-21T00:34:48.391Z"
   },
   {
    "duration": 6,
    "start_time": "2022-03-21T00:34:48.703Z"
   },
   {
    "duration": 450,
    "start_time": "2022-03-21T00:34:49.025Z"
   },
   {
    "duration": 12,
    "start_time": "2022-03-21T00:34:50.184Z"
   },
   {
    "duration": 14,
    "start_time": "2022-03-21T00:34:50.527Z"
   },
   {
    "duration": 212,
    "start_time": "2022-03-21T00:34:50.831Z"
   },
   {
    "duration": 28,
    "start_time": "2022-03-21T00:34:51.183Z"
   },
   {
    "duration": 233,
    "start_time": "2022-03-21T00:34:52.119Z"
   },
   {
    "duration": 334,
    "start_time": "2022-03-21T00:34:53.815Z"
   },
   {
    "duration": 12,
    "start_time": "2022-03-21T00:34:54.166Z"
   },
   {
    "duration": 6,
    "start_time": "2022-03-21T00:34:54.524Z"
   },
   {
    "duration": 6,
    "start_time": "2022-03-21T00:34:54.912Z"
   },
   {
    "duration": 6,
    "start_time": "2022-03-21T00:34:55.239Z"
   },
   {
    "duration": 5,
    "start_time": "2022-03-21T00:34:55.553Z"
   },
   {
    "duration": 12,
    "start_time": "2022-03-21T00:34:55.838Z"
   },
   {
    "duration": 12,
    "start_time": "2022-03-21T00:34:56.479Z"
   },
   {
    "duration": 6,
    "start_time": "2022-03-21T00:34:57.167Z"
   },
   {
    "duration": 5,
    "start_time": "2022-03-21T00:34:57.449Z"
   },
   {
    "duration": 5,
    "start_time": "2022-03-21T00:34:57.777Z"
   },
   {
    "duration": 6,
    "start_time": "2022-03-21T00:34:58.103Z"
   },
   {
    "duration": 16,
    "start_time": "2022-03-21T00:35:01.111Z"
   },
   {
    "duration": 25,
    "start_time": "2022-03-21T00:35:01.423Z"
   },
   {
    "duration": 25,
    "start_time": "2022-03-21T00:35:01.711Z"
   },
   {
    "duration": 31,
    "start_time": "2022-03-21T00:35:02.311Z"
   },
   {
    "duration": 25,
    "start_time": "2022-03-21T00:35:02.975Z"
   },
   {
    "duration": 25,
    "start_time": "2022-03-21T00:35:03.647Z"
   },
   {
    "duration": 7,
    "start_time": "2022-03-21T00:35:05.183Z"
   },
   {
    "duration": 15,
    "start_time": "2022-03-21T00:35:06.302Z"
   },
   {
    "duration": 14,
    "start_time": "2022-03-21T00:35:06.634Z"
   },
   {
    "duration": 14,
    "start_time": "2022-03-21T00:35:07.064Z"
   },
   {
    "duration": 75,
    "start_time": "2022-03-21T00:35:07.695Z"
   },
   {
    "duration": 35,
    "start_time": "2022-03-21T00:35:08.127Z"
   },
   {
    "duration": 7,
    "start_time": "2022-03-21T00:35:08.463Z"
   },
   {
    "duration": 89,
    "start_time": "2022-03-21T00:35:08.968Z"
   },
   {
    "duration": 7,
    "start_time": "2022-03-21T00:35:09.319Z"
   },
   {
    "duration": 28,
    "start_time": "2022-03-21T00:35:09.679Z"
   },
   {
    "duration": 14,
    "start_time": "2022-03-21T00:35:10.031Z"
   },
   {
    "duration": 16,
    "start_time": "2022-03-21T00:35:10.368Z"
   },
   {
    "duration": 17,
    "start_time": "2022-03-21T00:35:10.735Z"
   },
   {
    "duration": 5,
    "start_time": "2022-03-21T00:35:13.519Z"
   },
   {
    "duration": 10,
    "start_time": "2022-03-21T00:35:13.903Z"
   },
   {
    "duration": 38,
    "start_time": "2022-03-21T00:35:31.039Z"
   },
   {
    "duration": 8,
    "start_time": "2022-03-21T00:35:31.416Z"
   },
   {
    "duration": 11,
    "start_time": "2022-03-21T00:35:31.697Z"
   },
   {
    "duration": 15,
    "start_time": "2022-03-21T00:35:31.960Z"
   },
   {
    "duration": 15,
    "start_time": "2022-03-21T00:35:32.249Z"
   },
   {
    "duration": 15,
    "start_time": "2022-03-21T00:35:32.554Z"
   },
   {
    "duration": 40,
    "start_time": "2022-03-21T00:35:32.833Z"
   },
   {
    "duration": 44,
    "start_time": "2022-03-21T00:35:33.104Z"
   },
   {
    "duration": 301,
    "start_time": "2022-03-21T00:35:33.375Z"
   },
   {
    "duration": 274,
    "start_time": "2022-03-21T00:35:33.679Z"
   },
   {
    "duration": 284,
    "start_time": "2022-03-21T00:35:33.955Z"
   },
   {
    "duration": 280,
    "start_time": "2022-03-21T00:35:34.242Z"
   },
   {
    "duration": 2032,
    "start_time": "2022-03-21T20:38:24.529Z"
   },
   {
    "duration": 1200,
    "start_time": "2022-03-21T20:38:26.565Z"
   },
   {
    "duration": 25,
    "start_time": "2022-03-21T20:38:27.767Z"
   },
   {
    "duration": 13,
    "start_time": "2022-03-21T20:38:27.794Z"
   },
   {
    "duration": 30,
    "start_time": "2022-03-21T20:38:27.810Z"
   },
   {
    "duration": 33,
    "start_time": "2022-03-21T20:38:27.842Z"
   },
   {
    "duration": 31,
    "start_time": "2022-03-21T20:38:27.877Z"
   },
   {
    "duration": 30,
    "start_time": "2022-03-21T20:38:27.909Z"
   },
   {
    "duration": 111,
    "start_time": "2022-03-21T20:38:27.941Z"
   },
   {
    "duration": 8,
    "start_time": "2022-03-21T20:38:28.055Z"
   },
   {
    "duration": 36,
    "start_time": "2022-03-21T20:38:28.065Z"
   },
   {
    "duration": 39,
    "start_time": "2022-03-21T20:38:28.104Z"
   },
   {
    "duration": 18,
    "start_time": "2022-03-21T20:38:28.145Z"
   },
   {
    "duration": 62,
    "start_time": "2022-03-21T20:38:28.165Z"
   },
   {
    "duration": 53,
    "start_time": "2022-03-21T20:38:28.229Z"
   },
   {
    "duration": 28,
    "start_time": "2022-03-21T20:38:28.284Z"
   },
   {
    "duration": 5,
    "start_time": "2022-03-21T20:38:28.314Z"
   },
   {
    "duration": 19,
    "start_time": "2022-03-21T20:38:28.321Z"
   },
   {
    "duration": 5,
    "start_time": "2022-03-21T20:38:28.343Z"
   },
   {
    "duration": 237,
    "start_time": "2022-03-21T20:38:28.351Z"
   },
   {
    "duration": 83,
    "start_time": "2022-03-21T20:38:28.590Z"
   },
   {
    "duration": 171,
    "start_time": "2022-03-21T20:38:28.675Z"
   },
   {
    "duration": 41,
    "start_time": "2022-03-21T20:38:28.848Z"
   },
   {
    "duration": 16,
    "start_time": "2022-03-21T20:38:28.902Z"
   },
   {
    "duration": 19,
    "start_time": "2022-03-21T20:38:28.920Z"
   },
   {
    "duration": 540,
    "start_time": "2022-03-21T20:38:28.940Z"
   },
   {
    "duration": 32,
    "start_time": "2022-03-21T20:38:29.482Z"
   },
   {
    "duration": 32,
    "start_time": "2022-03-21T20:38:29.519Z"
   },
   {
    "duration": 13,
    "start_time": "2022-03-21T20:38:29.553Z"
   },
   {
    "duration": 140,
    "start_time": "2022-03-21T20:38:29.569Z"
   },
   {
    "duration": 13,
    "start_time": "2022-03-21T20:38:29.711Z"
   },
   {
    "duration": 118,
    "start_time": "2022-03-21T20:38:29.725Z"
   },
   {
    "duration": 7,
    "start_time": "2022-03-21T20:38:29.845Z"
   },
   {
    "duration": 15,
    "start_time": "2022-03-21T20:38:29.854Z"
   },
   {
    "duration": 38,
    "start_time": "2022-03-21T20:38:29.871Z"
   },
   {
    "duration": 14,
    "start_time": "2022-03-21T20:38:29.911Z"
   },
   {
    "duration": 112,
    "start_time": "2022-03-21T20:38:29.926Z"
   },
   {
    "duration": 24,
    "start_time": "2022-03-21T20:38:30.040Z"
   },
   {
    "duration": 8,
    "start_time": "2022-03-21T20:38:30.067Z"
   },
   {
    "duration": 67,
    "start_time": "2022-03-21T20:38:30.101Z"
   },
   {
    "duration": 43,
    "start_time": "2022-03-21T20:38:30.170Z"
   },
   {
    "duration": 19,
    "start_time": "2022-03-21T20:38:30.215Z"
   },
   {
    "duration": 40,
    "start_time": "2022-03-21T20:38:30.236Z"
   },
   {
    "duration": 33,
    "start_time": "2022-03-21T20:38:30.278Z"
   },
   {
    "duration": 74,
    "start_time": "2022-03-21T20:38:30.313Z"
   },
   {
    "duration": 28,
    "start_time": "2022-03-21T20:38:30.400Z"
   },
   {
    "duration": 8,
    "start_time": "2022-03-21T20:38:30.430Z"
   },
   {
    "duration": 41,
    "start_time": "2022-03-21T20:38:30.440Z"
   },
   {
    "duration": 19,
    "start_time": "2022-03-21T20:38:30.502Z"
   },
   {
    "duration": 18,
    "start_time": "2022-03-21T20:38:30.523Z"
   },
   {
    "duration": 38,
    "start_time": "2022-03-21T20:38:30.543Z"
   },
   {
    "duration": 25,
    "start_time": "2022-03-21T20:38:30.583Z"
   },
   {
    "duration": 26,
    "start_time": "2022-03-21T20:38:30.609Z"
   },
   {
    "duration": 27,
    "start_time": "2022-03-21T20:38:30.639Z"
   },
   {
    "duration": 10,
    "start_time": "2022-03-21T20:38:30.669Z"
   },
   {
    "duration": 28,
    "start_time": "2022-03-21T20:38:30.682Z"
   },
   {
    "duration": 35,
    "start_time": "2022-03-21T20:38:30.712Z"
   },
   {
    "duration": 54,
    "start_time": "2022-03-21T20:38:30.749Z"
   },
   {
    "duration": 201,
    "start_time": "2022-03-21T20:38:30.806Z"
   },
   {
    "duration": 46,
    "start_time": "2022-03-21T20:38:31.009Z"
   },
   {
    "duration": 50,
    "start_time": "2022-03-21T20:38:31.057Z"
   },
   {
    "duration": 5,
    "start_time": "2022-03-21T20:38:31.110Z"
   },
   {
    "duration": 18,
    "start_time": "2022-03-21T20:38:31.118Z"
   },
   {
    "duration": 25,
    "start_time": "2022-03-21T20:38:31.138Z"
   },
   {
    "duration": 6,
    "start_time": "2022-03-21T20:38:31.165Z"
   },
   {
    "duration": 13,
    "start_time": "2022-03-21T20:38:31.172Z"
   },
   {
    "duration": 14,
    "start_time": "2022-03-21T20:38:31.188Z"
   },
   {
    "duration": 23,
    "start_time": "2022-03-21T20:38:31.204Z"
   },
   {
    "duration": 562,
    "start_time": "2022-03-21T20:38:31.229Z"
   },
   {
    "duration": 53,
    "start_time": "2022-03-21T20:38:31.793Z"
   },
   {
    "duration": 16,
    "start_time": "2022-03-21T20:38:31.848Z"
   },
   {
    "duration": 37,
    "start_time": "2022-03-21T20:38:31.866Z"
   },
   {
    "duration": 7,
    "start_time": "2022-03-21T20:38:31.905Z"
   },
   {
    "duration": 43,
    "start_time": "2022-03-21T20:38:31.914Z"
   },
   {
    "duration": 18,
    "start_time": "2022-03-21T20:38:31.958Z"
   },
   {
    "duration": 20,
    "start_time": "2022-03-21T20:38:31.978Z"
   },
   {
    "duration": 14,
    "start_time": "2022-03-21T20:38:32.001Z"
   },
   {
    "duration": 24,
    "start_time": "2022-03-21T20:38:32.018Z"
   },
   {
    "duration": 36,
    "start_time": "2022-03-21T20:38:32.046Z"
   },
   {
    "duration": 24,
    "start_time": "2022-03-21T20:38:32.085Z"
   },
   {
    "duration": 837,
    "start_time": "2022-03-21T20:38:32.112Z"
   },
   {
    "duration": 14,
    "start_time": "2022-03-21T20:38:32.960Z"
   },
   {
    "duration": 45,
    "start_time": "2022-03-21T20:38:32.977Z"
   },
   {
    "duration": 495,
    "start_time": "2022-03-21T20:38:33.025Z"
   },
   {
    "duration": 30,
    "start_time": "2022-03-21T20:38:33.522Z"
   },
   {
    "duration": 192,
    "start_time": "2022-03-21T20:38:33.554Z"
   },
   {
    "duration": 298,
    "start_time": "2022-03-21T20:38:33.748Z"
   },
   {
    "duration": 12,
    "start_time": "2022-03-21T20:38:34.048Z"
   },
   {
    "duration": 8,
    "start_time": "2022-03-21T20:38:34.062Z"
   },
   {
    "duration": 30,
    "start_time": "2022-03-21T20:38:34.072Z"
   },
   {
    "duration": 5,
    "start_time": "2022-03-21T20:38:34.104Z"
   },
   {
    "duration": 9,
    "start_time": "2022-03-21T20:38:34.111Z"
   },
   {
    "duration": 17,
    "start_time": "2022-03-21T20:38:34.122Z"
   },
   {
    "duration": 433,
    "start_time": "2022-03-21T20:38:34.141Z"
   },
   {
    "duration": 5,
    "start_time": "2022-03-21T20:38:34.579Z"
   },
   {
    "duration": 26,
    "start_time": "2022-03-21T20:38:34.586Z"
   },
   {
    "duration": 26,
    "start_time": "2022-03-21T20:38:34.614Z"
   },
   {
    "duration": 23,
    "start_time": "2022-03-21T20:38:34.642Z"
   },
   {
    "duration": 45,
    "start_time": "2022-03-21T20:38:34.668Z"
   },
   {
    "duration": 49,
    "start_time": "2022-03-21T20:38:34.715Z"
   },
   {
    "duration": 50,
    "start_time": "2022-03-21T20:38:34.767Z"
   },
   {
    "duration": 27,
    "start_time": "2022-03-21T20:38:34.820Z"
   },
   {
    "duration": 20,
    "start_time": "2022-03-21T20:38:34.849Z"
   },
   {
    "duration": 23,
    "start_time": "2022-03-21T20:38:34.901Z"
   },
   {
    "duration": 8,
    "start_time": "2022-03-21T20:38:34.926Z"
   },
   {
    "duration": 22,
    "start_time": "2022-03-21T20:38:34.937Z"
   },
   {
    "duration": 14,
    "start_time": "2022-03-21T20:38:34.961Z"
   },
   {
    "duration": 13,
    "start_time": "2022-03-21T20:38:35.003Z"
   },
   {
    "duration": 93,
    "start_time": "2022-03-21T20:38:35.018Z"
   },
   {
    "duration": 29,
    "start_time": "2022-03-21T20:38:35.113Z"
   },
   {
    "duration": 7,
    "start_time": "2022-03-21T20:38:35.144Z"
   },
   {
    "duration": 171,
    "start_time": "2022-03-21T20:38:35.153Z"
   },
   {
    "duration": 6,
    "start_time": "2022-03-21T20:38:35.327Z"
   },
   {
    "duration": 38,
    "start_time": "2022-03-21T20:38:35.335Z"
   },
   {
    "duration": 37,
    "start_time": "2022-03-21T20:38:35.376Z"
   },
   {
    "duration": 17,
    "start_time": "2022-03-21T20:38:35.416Z"
   },
   {
    "duration": 15,
    "start_time": "2022-03-21T20:38:35.435Z"
   },
   {
    "duration": 4,
    "start_time": "2022-03-21T20:38:35.452Z"
   },
   {
    "duration": 46,
    "start_time": "2022-03-21T20:38:35.459Z"
   },
   {
    "duration": 35,
    "start_time": "2022-03-21T20:38:35.507Z"
   },
   {
    "duration": 7,
    "start_time": "2022-03-21T20:38:35.545Z"
   },
   {
    "duration": 47,
    "start_time": "2022-03-21T20:38:35.554Z"
   },
   {
    "duration": 14,
    "start_time": "2022-03-21T20:38:35.603Z"
   },
   {
    "duration": 21,
    "start_time": "2022-03-21T20:38:35.619Z"
   },
   {
    "duration": 19,
    "start_time": "2022-03-21T20:38:35.643Z"
   },
   {
    "duration": 87,
    "start_time": "2022-03-21T20:38:35.664Z"
   },
   {
    "duration": 66,
    "start_time": "2022-03-21T20:38:35.753Z"
   },
   {
    "duration": 312,
    "start_time": "2022-03-21T20:38:35.821Z"
   },
   {
    "duration": 283,
    "start_time": "2022-03-21T20:38:36.136Z"
   },
   {
    "duration": 218,
    "start_time": "2022-03-21T20:38:36.422Z"
   },
   {
    "duration": 496,
    "start_time": "2022-03-21T20:38:36.643Z"
   },
   {
    "duration": 1583,
    "start_time": "2022-04-18T19:18:48.235Z"
   },
   {
    "duration": 210,
    "start_time": "2022-04-18T19:18:49.822Z"
   },
   {
    "duration": 48,
    "start_time": "2022-04-18T19:18:50.034Z"
   },
   {
    "duration": 18,
    "start_time": "2022-04-18T19:18:50.085Z"
   },
   {
    "duration": 31,
    "start_time": "2022-04-18T19:18:50.105Z"
   },
   {
    "duration": 70,
    "start_time": "2022-04-18T19:18:50.139Z"
   },
   {
    "duration": 16,
    "start_time": "2022-04-18T19:18:50.212Z"
   },
   {
    "duration": 72,
    "start_time": "2022-04-18T19:18:50.230Z"
   },
   {
    "duration": 188,
    "start_time": "2022-04-18T19:18:50.305Z"
   },
   {
    "duration": 14,
    "start_time": "2022-04-18T19:18:50.498Z"
   },
   {
    "duration": 16,
    "start_time": "2022-04-18T19:18:50.514Z"
   },
   {
    "duration": 81,
    "start_time": "2022-04-18T19:18:50.533Z"
   },
   {
    "duration": 24,
    "start_time": "2022-04-18T19:18:50.617Z"
   },
   {
    "duration": 345,
    "start_time": "2022-04-18T19:18:50.644Z"
   },
   {
    "duration": 0,
    "start_time": "2022-04-18T19:18:50.999Z"
   },
   {
    "duration": 0,
    "start_time": "2022-04-18T19:18:51.004Z"
   },
   {
    "duration": 0,
    "start_time": "2022-04-18T19:18:51.006Z"
   },
   {
    "duration": 0,
    "start_time": "2022-04-18T19:18:51.008Z"
   },
   {
    "duration": 0,
    "start_time": "2022-04-18T19:18:51.010Z"
   },
   {
    "duration": 0,
    "start_time": "2022-04-18T19:18:51.011Z"
   },
   {
    "duration": 0,
    "start_time": "2022-04-18T19:18:51.013Z"
   },
   {
    "duration": 0,
    "start_time": "2022-04-18T19:18:51.015Z"
   },
   {
    "duration": 0,
    "start_time": "2022-04-18T19:18:51.016Z"
   },
   {
    "duration": 0,
    "start_time": "2022-04-18T19:18:51.018Z"
   },
   {
    "duration": 0,
    "start_time": "2022-04-18T19:18:51.020Z"
   },
   {
    "duration": 0,
    "start_time": "2022-04-18T19:18:51.021Z"
   },
   {
    "duration": 0,
    "start_time": "2022-04-18T19:18:51.023Z"
   },
   {
    "duration": 0,
    "start_time": "2022-04-18T19:18:51.024Z"
   },
   {
    "duration": 0,
    "start_time": "2022-04-18T19:18:51.026Z"
   },
   {
    "duration": 0,
    "start_time": "2022-04-18T19:18:51.028Z"
   },
   {
    "duration": 0,
    "start_time": "2022-04-18T19:18:51.030Z"
   },
   {
    "duration": 0,
    "start_time": "2022-04-18T19:18:51.031Z"
   },
   {
    "duration": 0,
    "start_time": "2022-04-18T19:18:51.083Z"
   },
   {
    "duration": 0,
    "start_time": "2022-04-18T19:18:51.085Z"
   },
   {
    "duration": 0,
    "start_time": "2022-04-18T19:18:51.086Z"
   },
   {
    "duration": 0,
    "start_time": "2022-04-18T19:18:51.088Z"
   },
   {
    "duration": 0,
    "start_time": "2022-04-18T19:18:51.089Z"
   },
   {
    "duration": 0,
    "start_time": "2022-04-18T19:18:51.091Z"
   },
   {
    "duration": 0,
    "start_time": "2022-04-18T19:18:51.093Z"
   },
   {
    "duration": 0,
    "start_time": "2022-04-18T19:18:51.095Z"
   },
   {
    "duration": 0,
    "start_time": "2022-04-18T19:18:51.097Z"
   },
   {
    "duration": 1,
    "start_time": "2022-04-18T19:18:51.099Z"
   },
   {
    "duration": 0,
    "start_time": "2022-04-18T19:18:51.102Z"
   },
   {
    "duration": 0,
    "start_time": "2022-04-18T19:18:51.104Z"
   },
   {
    "duration": 0,
    "start_time": "2022-04-18T19:18:51.106Z"
   },
   {
    "duration": 0,
    "start_time": "2022-04-18T19:18:51.108Z"
   },
   {
    "duration": 0,
    "start_time": "2022-04-18T19:18:51.110Z"
   },
   {
    "duration": 0,
    "start_time": "2022-04-18T19:18:51.113Z"
   },
   {
    "duration": 0,
    "start_time": "2022-04-18T19:18:51.115Z"
   },
   {
    "duration": 0,
    "start_time": "2022-04-18T19:18:51.117Z"
   },
   {
    "duration": 0,
    "start_time": "2022-04-18T19:18:51.119Z"
   },
   {
    "duration": 0,
    "start_time": "2022-04-18T19:18:51.121Z"
   },
   {
    "duration": 0,
    "start_time": "2022-04-18T19:18:51.182Z"
   },
   {
    "duration": 0,
    "start_time": "2022-04-18T19:18:51.184Z"
   },
   {
    "duration": 0,
    "start_time": "2022-04-18T19:18:51.187Z"
   },
   {
    "duration": 0,
    "start_time": "2022-04-18T19:18:51.189Z"
   },
   {
    "duration": 0,
    "start_time": "2022-04-18T19:18:51.191Z"
   },
   {
    "duration": 0,
    "start_time": "2022-04-18T19:18:51.192Z"
   },
   {
    "duration": 0,
    "start_time": "2022-04-18T19:18:51.194Z"
   },
   {
    "duration": 0,
    "start_time": "2022-04-18T19:18:51.196Z"
   },
   {
    "duration": 0,
    "start_time": "2022-04-18T19:18:51.197Z"
   },
   {
    "duration": 0,
    "start_time": "2022-04-18T19:18:51.200Z"
   },
   {
    "duration": 0,
    "start_time": "2022-04-18T19:18:51.202Z"
   },
   {
    "duration": 0,
    "start_time": "2022-04-18T19:18:51.205Z"
   },
   {
    "duration": 0,
    "start_time": "2022-04-18T19:18:51.208Z"
   },
   {
    "duration": 0,
    "start_time": "2022-04-18T19:18:51.209Z"
   },
   {
    "duration": 0,
    "start_time": "2022-04-18T19:18:51.211Z"
   },
   {
    "duration": 0,
    "start_time": "2022-04-18T19:18:51.213Z"
   },
   {
    "duration": 0,
    "start_time": "2022-04-18T19:18:51.214Z"
   },
   {
    "duration": 1,
    "start_time": "2022-04-18T19:18:51.216Z"
   },
   {
    "duration": 0,
    "start_time": "2022-04-18T19:18:51.218Z"
   },
   {
    "duration": 0,
    "start_time": "2022-04-18T19:18:51.219Z"
   },
   {
    "duration": 0,
    "start_time": "2022-04-18T19:18:51.221Z"
   },
   {
    "duration": 0,
    "start_time": "2022-04-18T19:18:51.282Z"
   },
   {
    "duration": 0,
    "start_time": "2022-04-18T19:18:51.283Z"
   },
   {
    "duration": 0,
    "start_time": "2022-04-18T19:18:51.284Z"
   },
   {
    "duration": 0,
    "start_time": "2022-04-18T19:18:51.286Z"
   },
   {
    "duration": 0,
    "start_time": "2022-04-18T19:18:51.293Z"
   },
   {
    "duration": 0,
    "start_time": "2022-04-18T19:18:51.295Z"
   },
   {
    "duration": 0,
    "start_time": "2022-04-18T19:18:51.298Z"
   },
   {
    "duration": 0,
    "start_time": "2022-04-18T19:18:51.299Z"
   },
   {
    "duration": 0,
    "start_time": "2022-04-18T19:18:51.301Z"
   },
   {
    "duration": 0,
    "start_time": "2022-04-18T19:18:51.304Z"
   },
   {
    "duration": 0,
    "start_time": "2022-04-18T19:18:51.306Z"
   },
   {
    "duration": 0,
    "start_time": "2022-04-18T19:18:51.307Z"
   },
   {
    "duration": 0,
    "start_time": "2022-04-18T19:18:51.309Z"
   },
   {
    "duration": 0,
    "start_time": "2022-04-18T19:18:51.312Z"
   },
   {
    "duration": 0,
    "start_time": "2022-04-18T19:18:51.313Z"
   },
   {
    "duration": 0,
    "start_time": "2022-04-18T19:18:51.315Z"
   },
   {
    "duration": 0,
    "start_time": "2022-04-18T19:18:51.317Z"
   },
   {
    "duration": 0,
    "start_time": "2022-04-18T19:18:51.382Z"
   },
   {
    "duration": 0,
    "start_time": "2022-04-18T19:18:51.384Z"
   },
   {
    "duration": 0,
    "start_time": "2022-04-18T19:18:51.386Z"
   },
   {
    "duration": 0,
    "start_time": "2022-04-18T19:18:51.388Z"
   },
   {
    "duration": 0,
    "start_time": "2022-04-18T19:18:51.390Z"
   },
   {
    "duration": 0,
    "start_time": "2022-04-18T19:18:51.392Z"
   },
   {
    "duration": 0,
    "start_time": "2022-04-18T19:18:51.393Z"
   },
   {
    "duration": 0,
    "start_time": "2022-04-18T19:18:51.398Z"
   },
   {
    "duration": 0,
    "start_time": "2022-04-18T19:18:51.400Z"
   },
   {
    "duration": 0,
    "start_time": "2022-04-18T19:18:51.402Z"
   },
   {
    "duration": 0,
    "start_time": "2022-04-18T19:18:51.405Z"
   },
   {
    "duration": 0,
    "start_time": "2022-04-18T19:18:51.407Z"
   },
   {
    "duration": 0,
    "start_time": "2022-04-18T19:18:51.409Z"
   },
   {
    "duration": 0,
    "start_time": "2022-04-18T19:18:51.411Z"
   },
   {
    "duration": 0,
    "start_time": "2022-04-18T19:18:51.413Z"
   },
   {
    "duration": 0,
    "start_time": "2022-04-18T19:18:51.415Z"
   },
   {
    "duration": 0,
    "start_time": "2022-04-18T19:18:51.417Z"
   },
   {
    "duration": 0,
    "start_time": "2022-04-18T19:18:51.418Z"
   },
   {
    "duration": 0,
    "start_time": "2022-04-18T19:18:51.482Z"
   },
   {
    "duration": 0,
    "start_time": "2022-04-18T19:18:51.483Z"
   },
   {
    "duration": 0,
    "start_time": "2022-04-18T19:18:51.485Z"
   },
   {
    "duration": 1,
    "start_time": "2022-04-18T19:18:51.486Z"
   },
   {
    "duration": 0,
    "start_time": "2022-04-18T19:18:51.488Z"
   },
   {
    "duration": 0,
    "start_time": "2022-04-18T19:18:51.489Z"
   },
   {
    "duration": 0,
    "start_time": "2022-04-18T19:18:51.491Z"
   },
   {
    "duration": 0,
    "start_time": "2022-04-18T19:18:51.492Z"
   },
   {
    "duration": 0,
    "start_time": "2022-04-18T19:18:51.494Z"
   },
   {
    "duration": 0,
    "start_time": "2022-04-18T19:18:51.495Z"
   },
   {
    "duration": 0,
    "start_time": "2022-04-18T19:18:51.496Z"
   },
   {
    "duration": 0,
    "start_time": "2022-04-18T19:18:51.498Z"
   },
   {
    "duration": 0,
    "start_time": "2022-04-18T19:18:51.499Z"
   },
   {
    "duration": 0,
    "start_time": "2022-04-18T19:18:51.500Z"
   },
   {
    "duration": 0,
    "start_time": "2022-04-18T19:18:51.502Z"
   },
   {
    "duration": 0,
    "start_time": "2022-04-18T19:18:51.503Z"
   },
   {
    "duration": 0,
    "start_time": "2022-04-18T19:18:51.504Z"
   },
   {
    "duration": 0,
    "start_time": "2022-04-18T19:18:51.505Z"
   },
   {
    "duration": 0,
    "start_time": "2022-04-18T19:18:51.507Z"
   },
   {
    "duration": 0,
    "start_time": "2022-04-18T19:18:51.508Z"
   },
   {
    "duration": 0,
    "start_time": "2022-04-18T19:18:51.509Z"
   },
   {
    "duration": 0,
    "start_time": "2022-04-18T19:18:51.511Z"
   },
   {
    "duration": 0,
    "start_time": "2022-04-18T19:18:51.512Z"
   },
   {
    "duration": 4,
    "start_time": "2022-04-18T19:19:19.632Z"
   },
   {
    "duration": 404,
    "start_time": "2022-04-18T19:19:19.640Z"
   },
   {
    "duration": 51,
    "start_time": "2022-04-18T19:19:20.047Z"
   },
   {
    "duration": 17,
    "start_time": "2022-04-18T19:19:20.101Z"
   },
   {
    "duration": 87,
    "start_time": "2022-04-18T19:19:20.121Z"
   },
   {
    "duration": 74,
    "start_time": "2022-04-18T19:19:20.211Z"
   },
   {
    "duration": 19,
    "start_time": "2022-04-18T19:19:20.288Z"
   },
   {
    "duration": 36,
    "start_time": "2022-04-18T19:19:20.310Z"
   },
   {
    "duration": 151,
    "start_time": "2022-04-18T19:19:20.350Z"
   },
   {
    "duration": 12,
    "start_time": "2022-04-18T19:19:20.504Z"
   },
   {
    "duration": 15,
    "start_time": "2022-04-18T19:19:20.519Z"
   },
   {
    "duration": 78,
    "start_time": "2022-04-18T19:19:20.537Z"
   },
   {
    "duration": 21,
    "start_time": "2022-04-18T19:19:20.618Z"
   },
   {
    "duration": 70,
    "start_time": "2022-04-18T19:19:20.642Z"
   },
   {
    "duration": 0,
    "start_time": "2022-04-18T19:19:20.719Z"
   },
   {
    "duration": 0,
    "start_time": "2022-04-18T19:19:20.721Z"
   },
   {
    "duration": 0,
    "start_time": "2022-04-18T19:19:20.722Z"
   },
   {
    "duration": 0,
    "start_time": "2022-04-18T19:19:20.724Z"
   },
   {
    "duration": 0,
    "start_time": "2022-04-18T19:19:20.726Z"
   },
   {
    "duration": 0,
    "start_time": "2022-04-18T19:19:20.727Z"
   },
   {
    "duration": 0,
    "start_time": "2022-04-18T19:19:20.729Z"
   },
   {
    "duration": 0,
    "start_time": "2022-04-18T19:19:20.731Z"
   },
   {
    "duration": 0,
    "start_time": "2022-04-18T19:19:20.733Z"
   },
   {
    "duration": 0,
    "start_time": "2022-04-18T19:19:20.735Z"
   },
   {
    "duration": 0,
    "start_time": "2022-04-18T19:19:20.737Z"
   },
   {
    "duration": 0,
    "start_time": "2022-04-18T19:19:20.738Z"
   },
   {
    "duration": 0,
    "start_time": "2022-04-18T19:19:20.740Z"
   },
   {
    "duration": 0,
    "start_time": "2022-04-18T19:19:20.782Z"
   },
   {
    "duration": 1,
    "start_time": "2022-04-18T19:19:20.783Z"
   },
   {
    "duration": 1,
    "start_time": "2022-04-18T19:19:20.785Z"
   },
   {
    "duration": 0,
    "start_time": "2022-04-18T19:19:20.788Z"
   },
   {
    "duration": 0,
    "start_time": "2022-04-18T19:19:20.790Z"
   },
   {
    "duration": 0,
    "start_time": "2022-04-18T19:19:20.792Z"
   },
   {
    "duration": 0,
    "start_time": "2022-04-18T19:19:20.794Z"
   },
   {
    "duration": 0,
    "start_time": "2022-04-18T19:19:20.796Z"
   },
   {
    "duration": 0,
    "start_time": "2022-04-18T19:19:20.798Z"
   },
   {
    "duration": 0,
    "start_time": "2022-04-18T19:19:20.800Z"
   },
   {
    "duration": 0,
    "start_time": "2022-04-18T19:19:20.802Z"
   },
   {
    "duration": 1,
    "start_time": "2022-04-18T19:19:20.804Z"
   },
   {
    "duration": 0,
    "start_time": "2022-04-18T19:19:20.806Z"
   },
   {
    "duration": 0,
    "start_time": "2022-04-18T19:19:20.809Z"
   },
   {
    "duration": 0,
    "start_time": "2022-04-18T19:19:20.810Z"
   },
   {
    "duration": 0,
    "start_time": "2022-04-18T19:19:20.812Z"
   },
   {
    "duration": 0,
    "start_time": "2022-04-18T19:19:20.815Z"
   },
   {
    "duration": 0,
    "start_time": "2022-04-18T19:19:20.816Z"
   },
   {
    "duration": 0,
    "start_time": "2022-04-18T19:19:20.818Z"
   },
   {
    "duration": 0,
    "start_time": "2022-04-18T19:19:20.821Z"
   },
   {
    "duration": 0,
    "start_time": "2022-04-18T19:19:20.881Z"
   },
   {
    "duration": 0,
    "start_time": "2022-04-18T19:19:20.883Z"
   },
   {
    "duration": 0,
    "start_time": "2022-04-18T19:19:20.885Z"
   },
   {
    "duration": 0,
    "start_time": "2022-04-18T19:19:20.888Z"
   },
   {
    "duration": 0,
    "start_time": "2022-04-18T19:19:20.889Z"
   },
   {
    "duration": 0,
    "start_time": "2022-04-18T19:19:20.891Z"
   },
   {
    "duration": 0,
    "start_time": "2022-04-18T19:19:20.893Z"
   },
   {
    "duration": 0,
    "start_time": "2022-04-18T19:19:20.894Z"
   },
   {
    "duration": 1,
    "start_time": "2022-04-18T19:19:20.895Z"
   },
   {
    "duration": 0,
    "start_time": "2022-04-18T19:19:20.897Z"
   },
   {
    "duration": 0,
    "start_time": "2022-04-18T19:19:20.899Z"
   },
   {
    "duration": 0,
    "start_time": "2022-04-18T19:19:20.900Z"
   },
   {
    "duration": 0,
    "start_time": "2022-04-18T19:19:20.902Z"
   },
   {
    "duration": 0,
    "start_time": "2022-04-18T19:19:20.904Z"
   },
   {
    "duration": 0,
    "start_time": "2022-04-18T19:19:20.906Z"
   },
   {
    "duration": 0,
    "start_time": "2022-04-18T19:19:20.908Z"
   },
   {
    "duration": 0,
    "start_time": "2022-04-18T19:19:20.909Z"
   },
   {
    "duration": 0,
    "start_time": "2022-04-18T19:19:20.911Z"
   },
   {
    "duration": 0,
    "start_time": "2022-04-18T19:19:20.912Z"
   },
   {
    "duration": 0,
    "start_time": "2022-04-18T19:19:20.914Z"
   },
   {
    "duration": 0,
    "start_time": "2022-04-18T19:19:20.916Z"
   },
   {
    "duration": 1,
    "start_time": "2022-04-18T19:19:20.917Z"
   },
   {
    "duration": 0,
    "start_time": "2022-04-18T19:19:20.919Z"
   },
   {
    "duration": 0,
    "start_time": "2022-04-18T19:19:20.983Z"
   },
   {
    "duration": 0,
    "start_time": "2022-04-18T19:19:20.985Z"
   },
   {
    "duration": 0,
    "start_time": "2022-04-18T19:19:20.987Z"
   },
   {
    "duration": 0,
    "start_time": "2022-04-18T19:19:20.988Z"
   },
   {
    "duration": 0,
    "start_time": "2022-04-18T19:19:20.990Z"
   },
   {
    "duration": 0,
    "start_time": "2022-04-18T19:19:20.992Z"
   },
   {
    "duration": 0,
    "start_time": "2022-04-18T19:19:20.993Z"
   },
   {
    "duration": 0,
    "start_time": "2022-04-18T19:19:20.995Z"
   },
   {
    "duration": 0,
    "start_time": "2022-04-18T19:19:20.997Z"
   },
   {
    "duration": 0,
    "start_time": "2022-04-18T19:19:20.999Z"
   },
   {
    "duration": 0,
    "start_time": "2022-04-18T19:19:21.000Z"
   },
   {
    "duration": 0,
    "start_time": "2022-04-18T19:19:21.002Z"
   },
   {
    "duration": 0,
    "start_time": "2022-04-18T19:19:21.004Z"
   },
   {
    "duration": 0,
    "start_time": "2022-04-18T19:19:21.006Z"
   },
   {
    "duration": 0,
    "start_time": "2022-04-18T19:19:21.008Z"
   },
   {
    "duration": 0,
    "start_time": "2022-04-18T19:19:21.010Z"
   },
   {
    "duration": 0,
    "start_time": "2022-04-18T19:19:21.012Z"
   },
   {
    "duration": 0,
    "start_time": "2022-04-18T19:19:21.014Z"
   },
   {
    "duration": 0,
    "start_time": "2022-04-18T19:19:21.015Z"
   },
   {
    "duration": 0,
    "start_time": "2022-04-18T19:19:21.017Z"
   },
   {
    "duration": 0,
    "start_time": "2022-04-18T19:19:21.082Z"
   },
   {
    "duration": 0,
    "start_time": "2022-04-18T19:19:21.085Z"
   },
   {
    "duration": 0,
    "start_time": "2022-04-18T19:19:21.087Z"
   },
   {
    "duration": 0,
    "start_time": "2022-04-18T19:19:21.089Z"
   },
   {
    "duration": 0,
    "start_time": "2022-04-18T19:19:21.091Z"
   },
   {
    "duration": 0,
    "start_time": "2022-04-18T19:19:21.093Z"
   },
   {
    "duration": 0,
    "start_time": "2022-04-18T19:19:21.094Z"
   },
   {
    "duration": 0,
    "start_time": "2022-04-18T19:19:21.096Z"
   },
   {
    "duration": 0,
    "start_time": "2022-04-18T19:19:21.098Z"
   },
   {
    "duration": 0,
    "start_time": "2022-04-18T19:19:21.100Z"
   },
   {
    "duration": 0,
    "start_time": "2022-04-18T19:19:21.102Z"
   },
   {
    "duration": 0,
    "start_time": "2022-04-18T19:19:21.104Z"
   },
   {
    "duration": 0,
    "start_time": "2022-04-18T19:19:21.106Z"
   },
   {
    "duration": 0,
    "start_time": "2022-04-18T19:19:21.108Z"
   },
   {
    "duration": 0,
    "start_time": "2022-04-18T19:19:21.110Z"
   },
   {
    "duration": 0,
    "start_time": "2022-04-18T19:19:21.111Z"
   },
   {
    "duration": 0,
    "start_time": "2022-04-18T19:19:21.113Z"
   },
   {
    "duration": 0,
    "start_time": "2022-04-18T19:19:21.115Z"
   },
   {
    "duration": 0,
    "start_time": "2022-04-18T19:19:21.117Z"
   },
   {
    "duration": 0,
    "start_time": "2022-04-18T19:19:21.118Z"
   },
   {
    "duration": 0,
    "start_time": "2022-04-18T19:19:21.185Z"
   },
   {
    "duration": 0,
    "start_time": "2022-04-18T19:19:21.188Z"
   },
   {
    "duration": 0,
    "start_time": "2022-04-18T19:19:21.189Z"
   },
   {
    "duration": 0,
    "start_time": "2022-04-18T19:19:21.192Z"
   },
   {
    "duration": 0,
    "start_time": "2022-04-18T19:19:21.193Z"
   },
   {
    "duration": 1,
    "start_time": "2022-04-18T19:19:21.194Z"
   },
   {
    "duration": 0,
    "start_time": "2022-04-18T19:19:21.196Z"
   },
   {
    "duration": 0,
    "start_time": "2022-04-18T19:19:21.198Z"
   },
   {
    "duration": 1,
    "start_time": "2022-04-18T19:19:21.199Z"
   },
   {
    "duration": 0,
    "start_time": "2022-04-18T19:19:21.201Z"
   },
   {
    "duration": 0,
    "start_time": "2022-04-18T19:19:21.203Z"
   },
   {
    "duration": 0,
    "start_time": "2022-04-18T19:19:21.204Z"
   },
   {
    "duration": 0,
    "start_time": "2022-04-18T19:19:21.206Z"
   },
   {
    "duration": 0,
    "start_time": "2022-04-18T19:19:21.207Z"
   },
   {
    "duration": 0,
    "start_time": "2022-04-18T19:19:21.208Z"
   },
   {
    "duration": 0,
    "start_time": "2022-04-18T19:19:21.210Z"
   },
   {
    "duration": 0,
    "start_time": "2022-04-18T19:19:21.212Z"
   },
   {
    "duration": 0,
    "start_time": "2022-04-18T19:19:21.213Z"
   },
   {
    "duration": 0,
    "start_time": "2022-04-18T19:19:21.214Z"
   },
   {
    "duration": 0,
    "start_time": "2022-04-18T19:19:21.216Z"
   },
   {
    "duration": 0,
    "start_time": "2022-04-18T19:19:21.217Z"
   },
   {
    "duration": 47,
    "start_time": "2022-04-18T19:19:48.016Z"
   },
   {
    "duration": 71,
    "start_time": "2022-04-18T19:19:48.067Z"
   },
   {
    "duration": 50,
    "start_time": "2022-04-18T19:19:48.141Z"
   },
   {
    "duration": 7,
    "start_time": "2022-04-18T19:19:48.195Z"
   },
   {
    "duration": 18,
    "start_time": "2022-04-18T19:19:48.206Z"
   },
   {
    "duration": 64,
    "start_time": "2022-04-18T19:19:48.227Z"
   },
   {
    "duration": 237,
    "start_time": "2022-04-18T19:19:48.294Z"
   },
   {
    "duration": 89,
    "start_time": "2022-04-18T19:19:48.534Z"
   },
   {
    "duration": 209,
    "start_time": "2022-04-18T19:19:48.625Z"
   },
   {
    "duration": 50,
    "start_time": "2022-04-18T19:19:48.838Z"
   },
   {
    "duration": 31,
    "start_time": "2022-04-18T19:19:48.891Z"
   },
   {
    "duration": 56,
    "start_time": "2022-04-18T19:19:48.927Z"
   },
   {
    "duration": 730,
    "start_time": "2022-04-18T19:19:48.985Z"
   },
   {
    "duration": 34,
    "start_time": "2022-04-18T19:19:49.717Z"
   },
   {
    "duration": 78,
    "start_time": "2022-04-18T19:19:49.756Z"
   },
   {
    "duration": 21,
    "start_time": "2022-04-18T19:19:49.837Z"
   },
   {
    "duration": 225,
    "start_time": "2022-04-18T19:19:49.861Z"
   },
   {
    "duration": 21,
    "start_time": "2022-04-18T19:19:50.089Z"
   },
   {
    "duration": 156,
    "start_time": "2022-04-18T19:19:50.113Z"
   },
   {
    "duration": 15,
    "start_time": "2022-04-18T19:19:50.271Z"
   },
   {
    "duration": 17,
    "start_time": "2022-04-18T19:19:50.288Z"
   },
   {
    "duration": 16,
    "start_time": "2022-04-18T19:19:50.307Z"
   },
   {
    "duration": 60,
    "start_time": "2022-04-18T19:19:50.325Z"
   },
   {
    "duration": 177,
    "start_time": "2022-04-18T19:19:50.388Z"
   },
   {
    "duration": 27,
    "start_time": "2022-04-18T19:19:50.568Z"
   },
   {
    "duration": 9,
    "start_time": "2022-04-18T19:19:50.597Z"
   },
   {
    "duration": 150,
    "start_time": "2022-04-18T19:19:50.608Z"
   },
   {
    "duration": 53,
    "start_time": "2022-04-18T19:19:50.768Z"
   },
   {
    "duration": 27,
    "start_time": "2022-04-18T19:19:50.823Z"
   },
   {
    "duration": 10,
    "start_time": "2022-04-18T19:19:50.881Z"
   },
   {
    "duration": 32,
    "start_time": "2022-04-18T19:19:50.894Z"
   },
   {
    "duration": 150,
    "start_time": "2022-04-18T19:19:50.929Z"
   },
   {
    "duration": 44,
    "start_time": "2022-04-18T19:19:51.082Z"
   },
   {
    "duration": 11,
    "start_time": "2022-04-18T19:19:51.128Z"
   },
   {
    "duration": 60,
    "start_time": "2022-04-18T19:19:51.141Z"
   },
   {
    "duration": 32,
    "start_time": "2022-04-18T19:19:51.204Z"
   },
   {
    "duration": 10,
    "start_time": "2022-04-18T19:19:51.239Z"
   },
   {
    "duration": 30,
    "start_time": "2022-04-18T19:19:51.281Z"
   },
   {
    "duration": 17,
    "start_time": "2022-04-18T19:19:51.314Z"
   },
   {
    "duration": 58,
    "start_time": "2022-04-18T19:19:51.333Z"
   },
   {
    "duration": 21,
    "start_time": "2022-04-18T19:19:51.394Z"
   },
   {
    "duration": 8,
    "start_time": "2022-04-18T19:19:51.418Z"
   },
   {
    "duration": 55,
    "start_time": "2022-04-18T19:19:51.429Z"
   },
   {
    "duration": 40,
    "start_time": "2022-04-18T19:19:51.487Z"
   },
   {
    "duration": 68,
    "start_time": "2022-04-18T19:19:51.529Z"
   },
   {
    "duration": 314,
    "start_time": "2022-04-18T19:19:51.600Z"
   },
   {
    "duration": 72,
    "start_time": "2022-04-18T19:19:51.918Z"
   },
   {
    "duration": 36,
    "start_time": "2022-04-18T19:19:51.992Z"
   },
   {
    "duration": 8,
    "start_time": "2022-04-18T19:19:52.030Z"
   },
   {
    "duration": 43,
    "start_time": "2022-04-18T19:19:52.041Z"
   },
   {
    "duration": 35,
    "start_time": "2022-04-18T19:19:52.087Z"
   },
   {
    "duration": 9,
    "start_time": "2022-04-18T19:19:52.125Z"
   },
   {
    "duration": 24,
    "start_time": "2022-04-18T19:19:52.137Z"
   },
   {
    "duration": 22,
    "start_time": "2022-04-18T19:19:52.165Z"
   },
   {
    "duration": 27,
    "start_time": "2022-04-18T19:19:52.190Z"
   },
   {
    "duration": 593,
    "start_time": "2022-04-18T19:19:52.219Z"
   },
   {
    "duration": 103,
    "start_time": "2022-04-18T19:19:52.816Z"
   },
   {
    "duration": 13,
    "start_time": "2022-04-18T19:19:52.921Z"
   },
   {
    "duration": 45,
    "start_time": "2022-04-18T19:19:52.936Z"
   },
   {
    "duration": 5,
    "start_time": "2022-04-18T19:19:52.985Z"
   },
   {
    "duration": 19,
    "start_time": "2022-04-18T19:19:52.993Z"
   },
   {
    "duration": 10,
    "start_time": "2022-04-18T19:19:53.015Z"
   },
   {
    "duration": 20,
    "start_time": "2022-04-18T19:19:53.028Z"
   },
   {
    "duration": 34,
    "start_time": "2022-04-18T19:19:53.051Z"
   },
   {
    "duration": 10,
    "start_time": "2022-04-18T19:19:53.087Z"
   },
   {
    "duration": 21,
    "start_time": "2022-04-18T19:19:53.100Z"
   },
   {
    "duration": 14,
    "start_time": "2022-04-18T19:19:53.124Z"
   },
   {
    "duration": 483,
    "start_time": "2022-04-18T19:19:53.142Z"
   },
   {
    "duration": 18,
    "start_time": "2022-04-18T19:19:53.629Z"
   },
   {
    "duration": 40,
    "start_time": "2022-04-18T19:19:53.650Z"
   },
   {
    "duration": 248,
    "start_time": "2022-04-18T19:19:53.693Z"
   },
   {
    "duration": 44,
    "start_time": "2022-04-18T19:19:53.944Z"
   },
   {
    "duration": 282,
    "start_time": "2022-04-18T19:19:53.991Z"
   },
   {
    "duration": 631,
    "start_time": "2022-04-18T19:19:54.275Z"
   },
   {
    "duration": 12,
    "start_time": "2022-04-18T19:19:54.908Z"
   },
   {
    "duration": 13,
    "start_time": "2022-04-18T19:19:54.923Z"
   },
   {
    "duration": 9,
    "start_time": "2022-04-18T19:19:54.938Z"
   },
   {
    "duration": 44,
    "start_time": "2022-04-18T19:19:54.950Z"
   },
   {
    "duration": 9,
    "start_time": "2022-04-18T19:19:54.997Z"
   },
   {
    "duration": 16,
    "start_time": "2022-04-18T19:19:55.009Z"
   },
   {
    "duration": 318,
    "start_time": "2022-04-18T19:19:55.027Z"
   },
   {
    "duration": 6,
    "start_time": "2022-04-18T19:19:55.382Z"
   },
   {
    "duration": 11,
    "start_time": "2022-04-18T19:19:55.390Z"
   },
   {
    "duration": 11,
    "start_time": "2022-04-18T19:19:55.404Z"
   },
   {
    "duration": 8,
    "start_time": "2022-04-18T19:19:55.417Z"
   },
   {
    "duration": 65,
    "start_time": "2022-04-18T19:19:55.428Z"
   },
   {
    "duration": 28,
    "start_time": "2022-04-18T19:19:55.495Z"
   },
   {
    "duration": 89,
    "start_time": "2022-04-18T19:19:55.526Z"
   },
   {
    "duration": 100,
    "start_time": "2022-04-18T19:19:55.618Z"
   },
   {
    "duration": 36,
    "start_time": "2022-04-18T19:19:55.721Z"
   },
   {
    "duration": 49,
    "start_time": "2022-04-18T19:19:55.760Z"
   },
   {
    "duration": 11,
    "start_time": "2022-04-18T19:19:55.812Z"
   },
   {
    "duration": 58,
    "start_time": "2022-04-18T19:19:55.826Z"
   },
   {
    "duration": 17,
    "start_time": "2022-04-18T19:19:55.886Z"
   },
   {
    "duration": 22,
    "start_time": "2022-04-18T19:19:55.906Z"
   },
   {
    "duration": 153,
    "start_time": "2022-04-18T19:19:55.931Z"
   },
   {
    "duration": 29,
    "start_time": "2022-04-18T19:19:56.086Z"
   },
   {
    "duration": 7,
    "start_time": "2022-04-18T19:19:56.118Z"
   },
   {
    "duration": 139,
    "start_time": "2022-04-18T19:19:56.128Z"
   },
   {
    "duration": 16,
    "start_time": "2022-04-18T19:19:56.270Z"
   },
   {
    "duration": 34,
    "start_time": "2022-04-18T19:19:56.289Z"
   },
   {
    "duration": 14,
    "start_time": "2022-04-18T19:19:56.325Z"
   },
   {
    "duration": 52,
    "start_time": "2022-04-18T19:19:56.342Z"
   },
   {
    "duration": 20,
    "start_time": "2022-04-18T19:19:56.397Z"
   },
   {
    "duration": 10,
    "start_time": "2022-04-18T19:19:56.421Z"
   },
   {
    "duration": 51,
    "start_time": "2022-04-18T19:19:56.434Z"
   },
   {
    "duration": 64,
    "start_time": "2022-04-18T19:19:56.487Z"
   },
   {
    "duration": 31,
    "start_time": "2022-04-18T19:19:56.554Z"
   },
   {
    "duration": 18,
    "start_time": "2022-04-18T19:19:56.588Z"
   },
   {
    "duration": 23,
    "start_time": "2022-04-18T19:19:56.608Z"
   },
   {
    "duration": 59,
    "start_time": "2022-04-18T19:19:56.633Z"
   },
   {
    "duration": 20,
    "start_time": "2022-04-18T19:19:56.695Z"
   },
   {
    "duration": 94,
    "start_time": "2022-04-18T19:19:56.717Z"
   },
   {
    "duration": 82,
    "start_time": "2022-04-18T19:19:56.813Z"
   },
   {
    "duration": 424,
    "start_time": "2022-04-18T19:19:56.898Z"
   },
   {
    "duration": 384,
    "start_time": "2022-04-18T19:19:57.325Z"
   },
   {
    "duration": 311,
    "start_time": "2022-04-18T19:19:57.712Z"
   },
   {
    "duration": 297,
    "start_time": "2022-04-18T19:19:58.027Z"
   },
   {
    "duration": 5,
    "start_time": "2022-04-18T21:27:59.703Z"
   },
   {
    "duration": 240,
    "start_time": "2022-04-18T21:27:59.710Z"
   },
   {
    "duration": 39,
    "start_time": "2022-04-18T21:27:59.952Z"
   },
   {
    "duration": 21,
    "start_time": "2022-04-18T21:27:59.993Z"
   },
   {
    "duration": 30,
    "start_time": "2022-04-18T21:28:00.017Z"
   },
   {
    "duration": 55,
    "start_time": "2022-04-18T21:28:00.050Z"
   },
   {
    "duration": 11,
    "start_time": "2022-04-18T21:28:00.107Z"
   },
   {
    "duration": 36,
    "start_time": "2022-04-18T21:28:00.120Z"
   },
   {
    "duration": 128,
    "start_time": "2022-04-18T21:28:00.158Z"
   },
   {
    "duration": 9,
    "start_time": "2022-04-18T21:28:00.288Z"
   },
   {
    "duration": 68,
    "start_time": "2022-04-18T21:28:00.299Z"
   },
   {
    "duration": 41,
    "start_time": "2022-04-18T21:28:00.369Z"
   },
   {
    "duration": 18,
    "start_time": "2022-04-18T21:28:00.412Z"
   },
   {
    "duration": 49,
    "start_time": "2022-04-18T21:28:00.437Z"
   },
   {
    "duration": 41,
    "start_time": "2022-04-18T21:28:00.489Z"
   },
   {
    "duration": 24,
    "start_time": "2022-04-18T21:28:00.533Z"
   },
   {
    "duration": 14,
    "start_time": "2022-04-18T21:28:00.560Z"
   },
   {
    "duration": 37,
    "start_time": "2022-04-18T21:28:00.576Z"
   },
   {
    "duration": 26,
    "start_time": "2022-04-18T21:28:00.615Z"
   },
   {
    "duration": 177,
    "start_time": "2022-04-18T21:28:00.643Z"
   },
   {
    "duration": 77,
    "start_time": "2022-04-18T21:28:00.823Z"
   },
   {
    "duration": 218,
    "start_time": "2022-04-18T21:28:00.902Z"
   },
   {
    "duration": 82,
    "start_time": "2022-04-18T21:28:01.123Z"
   },
   {
    "duration": 19,
    "start_time": "2022-04-18T21:28:01.208Z"
   },
   {
    "duration": 71,
    "start_time": "2022-04-18T21:28:01.229Z"
   },
   {
    "duration": 618,
    "start_time": "2022-04-18T21:28:01.302Z"
   },
   {
    "duration": 25,
    "start_time": "2022-04-18T21:28:01.923Z"
   },
   {
    "duration": 59,
    "start_time": "2022-04-18T21:28:01.950Z"
   },
   {
    "duration": 15,
    "start_time": "2022-04-18T21:28:02.011Z"
   },
   {
    "duration": 154,
    "start_time": "2022-04-18T21:28:02.028Z"
   },
   {
    "duration": 16,
    "start_time": "2022-04-18T21:28:02.184Z"
   },
   {
    "duration": 133,
    "start_time": "2022-04-18T21:28:02.202Z"
   },
   {
    "duration": 10,
    "start_time": "2022-04-18T21:28:02.337Z"
   },
   {
    "duration": 34,
    "start_time": "2022-04-18T21:28:02.349Z"
   },
   {
    "duration": 15,
    "start_time": "2022-04-18T21:28:02.385Z"
   },
   {
    "duration": 16,
    "start_time": "2022-04-18T21:28:02.402Z"
   },
   {
    "duration": 138,
    "start_time": "2022-04-18T21:28:02.420Z"
   },
   {
    "duration": 38,
    "start_time": "2022-04-18T21:28:02.560Z"
   },
   {
    "duration": 8,
    "start_time": "2022-04-18T21:28:02.600Z"
   },
   {
    "duration": 97,
    "start_time": "2022-04-18T21:28:02.610Z"
   },
   {
    "duration": 30,
    "start_time": "2022-04-18T21:28:02.716Z"
   },
   {
    "duration": 40,
    "start_time": "2022-04-18T21:28:02.748Z"
   },
   {
    "duration": 6,
    "start_time": "2022-04-18T21:28:02.790Z"
   },
   {
    "duration": 26,
    "start_time": "2022-04-18T21:28:02.798Z"
   },
   {
    "duration": 112,
    "start_time": "2022-04-18T21:28:02.827Z"
   },
   {
    "duration": 43,
    "start_time": "2022-04-18T21:28:02.941Z"
   },
   {
    "duration": 8,
    "start_time": "2022-04-18T21:28:02.986Z"
   },
   {
    "duration": 26,
    "start_time": "2022-04-18T21:28:02.996Z"
   },
   {
    "duration": 56,
    "start_time": "2022-04-18T21:28:03.025Z"
   },
   {
    "duration": 8,
    "start_time": "2022-04-18T21:28:03.084Z"
   },
   {
    "duration": 32,
    "start_time": "2022-04-18T21:28:03.095Z"
   },
   {
    "duration": 16,
    "start_time": "2022-04-18T21:28:03.129Z"
   },
   {
    "duration": 47,
    "start_time": "2022-04-18T21:28:03.146Z"
   },
   {
    "duration": 16,
    "start_time": "2022-04-18T21:28:03.196Z"
   },
   {
    "duration": 4,
    "start_time": "2022-04-18T21:28:03.215Z"
   },
   {
    "duration": 20,
    "start_time": "2022-04-18T21:28:03.221Z"
   },
   {
    "duration": 38,
    "start_time": "2022-04-18T21:28:03.282Z"
   },
   {
    "duration": 36,
    "start_time": "2022-04-18T21:28:03.322Z"
   },
   {
    "duration": 269,
    "start_time": "2022-04-18T21:28:03.382Z"
   },
   {
    "duration": 56,
    "start_time": "2022-04-18T21:28:03.653Z"
   },
   {
    "duration": 31,
    "start_time": "2022-04-18T21:28:03.711Z"
   },
   {
    "duration": 6,
    "start_time": "2022-04-18T21:28:03.744Z"
   },
   {
    "duration": 29,
    "start_time": "2022-04-18T21:28:03.752Z"
   },
   {
    "duration": 14,
    "start_time": "2022-04-18T21:28:03.784Z"
   },
   {
    "duration": 4,
    "start_time": "2022-04-18T21:28:03.800Z"
   },
   {
    "duration": 7,
    "start_time": "2022-04-18T21:28:03.806Z"
   },
   {
    "duration": 7,
    "start_time": "2022-04-18T21:28:03.814Z"
   },
   {
    "duration": 60,
    "start_time": "2022-04-18T21:28:03.823Z"
   },
   {
    "duration": 411,
    "start_time": "2022-04-18T21:28:03.885Z"
   },
   {
    "duration": 63,
    "start_time": "2022-04-18T21:28:04.298Z"
   },
   {
    "duration": 30,
    "start_time": "2022-04-18T21:28:04.363Z"
   },
   {
    "duration": 12,
    "start_time": "2022-04-18T21:28:04.395Z"
   },
   {
    "duration": 5,
    "start_time": "2022-04-18T21:28:04.409Z"
   },
   {
    "duration": 13,
    "start_time": "2022-04-18T21:28:04.416Z"
   },
   {
    "duration": 6,
    "start_time": "2022-04-18T21:28:04.431Z"
   },
   {
    "duration": 49,
    "start_time": "2022-04-18T21:28:04.439Z"
   },
   {
    "duration": 8,
    "start_time": "2022-04-18T21:28:04.490Z"
   },
   {
    "duration": 6,
    "start_time": "2022-04-18T21:28:04.500Z"
   },
   {
    "duration": 19,
    "start_time": "2022-04-18T21:28:04.508Z"
   },
   {
    "duration": 18,
    "start_time": "2022-04-18T21:28:04.529Z"
   },
   {
    "duration": 516,
    "start_time": "2022-04-18T21:28:04.549Z"
   },
   {
    "duration": 17,
    "start_time": "2022-04-18T21:28:05.067Z"
   },
   {
    "duration": 21,
    "start_time": "2022-04-18T21:28:05.086Z"
   },
   {
    "duration": 256,
    "start_time": "2022-04-18T21:28:05.109Z"
   },
   {
    "duration": 41,
    "start_time": "2022-04-18T21:28:05.367Z"
   },
   {
    "duration": 271,
    "start_time": "2022-04-18T21:28:05.410Z"
   },
   {
    "duration": 392,
    "start_time": "2022-04-18T21:28:05.684Z"
   },
   {
    "duration": 12,
    "start_time": "2022-04-18T21:28:06.081Z"
   },
   {
    "duration": 16,
    "start_time": "2022-04-18T21:28:06.095Z"
   },
   {
    "duration": 10,
    "start_time": "2022-04-18T21:28:06.114Z"
   },
   {
    "duration": 9,
    "start_time": "2022-04-18T21:28:06.126Z"
   },
   {
    "duration": 8,
    "start_time": "2022-04-18T21:28:06.137Z"
   },
   {
    "duration": 42,
    "start_time": "2022-04-18T21:28:06.147Z"
   },
   {
    "duration": 15,
    "start_time": "2022-04-18T21:28:06.192Z"
   },
   {
    "duration": 7,
    "start_time": "2022-04-18T21:28:06.209Z"
   },
   {
    "duration": 14,
    "start_time": "2022-04-18T21:28:06.218Z"
   },
   {
    "duration": 10,
    "start_time": "2022-04-18T21:28:06.234Z"
   },
   {
    "duration": 42,
    "start_time": "2022-04-18T21:28:06.246Z"
   },
   {
    "duration": 23,
    "start_time": "2022-04-18T21:28:06.290Z"
   },
   {
    "duration": 22,
    "start_time": "2022-04-18T21:28:06.315Z"
   },
   {
    "duration": 44,
    "start_time": "2022-04-18T21:28:06.340Z"
   },
   {
    "duration": 32,
    "start_time": "2022-04-18T21:28:06.386Z"
   },
   {
    "duration": 24,
    "start_time": "2022-04-18T21:28:06.420Z"
   },
   {
    "duration": 57,
    "start_time": "2022-04-18T21:28:06.446Z"
   },
   {
    "duration": 8,
    "start_time": "2022-04-18T21:28:06.505Z"
   },
   {
    "duration": 35,
    "start_time": "2022-04-18T21:28:06.515Z"
   },
   {
    "duration": 32,
    "start_time": "2022-04-18T21:28:06.552Z"
   },
   {
    "duration": 18,
    "start_time": "2022-04-18T21:28:06.586Z"
   },
   {
    "duration": 100,
    "start_time": "2022-04-18T21:28:06.607Z"
   },
   {
    "duration": 27,
    "start_time": "2022-04-18T21:28:06.710Z"
   },
   {
    "duration": 6,
    "start_time": "2022-04-18T21:28:06.739Z"
   },
   {
    "duration": 121,
    "start_time": "2022-04-18T21:28:06.747Z"
   },
   {
    "duration": 7,
    "start_time": "2022-04-18T21:28:06.881Z"
   },
   {
    "duration": 24,
    "start_time": "2022-04-18T21:28:06.890Z"
   },
   {
    "duration": 15,
    "start_time": "2022-04-18T21:28:06.916Z"
   },
   {
    "duration": 53,
    "start_time": "2022-04-18T21:28:06.933Z"
   },
   {
    "duration": 16,
    "start_time": "2022-04-18T21:28:06.988Z"
   },
   {
    "duration": 5,
    "start_time": "2022-04-18T21:28:07.006Z"
   },
   {
    "duration": 12,
    "start_time": "2022-04-18T21:28:07.013Z"
   },
   {
    "duration": 78,
    "start_time": "2022-04-18T21:28:07.027Z"
   },
   {
    "duration": 6,
    "start_time": "2022-04-18T21:28:07.107Z"
   },
   {
    "duration": 11,
    "start_time": "2022-04-18T21:28:07.125Z"
   },
   {
    "duration": 45,
    "start_time": "2022-04-18T21:28:07.138Z"
   },
   {
    "duration": 15,
    "start_time": "2022-04-18T21:28:07.185Z"
   },
   {
    "duration": 26,
    "start_time": "2022-04-18T21:28:07.202Z"
   },
   {
    "duration": 61,
    "start_time": "2022-04-18T21:28:07.231Z"
   },
   {
    "duration": 44,
    "start_time": "2022-04-18T21:28:07.295Z"
   },
   {
    "duration": 303,
    "start_time": "2022-04-18T21:28:07.342Z"
   },
   {
    "duration": 289,
    "start_time": "2022-04-18T21:28:07.647Z"
   },
   {
    "duration": 293,
    "start_time": "2022-04-18T21:28:07.939Z"
   },
   {
    "duration": 287,
    "start_time": "2022-04-18T21:28:08.235Z"
   }
  ],
  "kernelspec": {
   "display_name": "Python 3 (ipykernel)",
   "language": "python",
   "name": "python3"
  },
  "language_info": {
   "codemirror_mode": {
    "name": "ipython",
    "version": 3
   },
   "file_extension": ".py",
   "mimetype": "text/x-python",
   "name": "python",
   "nbconvert_exporter": "python",
   "pygments_lexer": "ipython3",
   "version": "3.9.7"
  },
  "toc": {
   "base_numbering": 1,
   "nav_menu": {},
   "number_sections": true,
   "sideBar": true,
   "skip_h1_title": true,
   "title_cell": "Table of Contents",
   "title_sidebar": "Contents",
   "toc_cell": false,
   "toc_position": {},
   "toc_section_display": true,
   "toc_window_display": false
  }
 },
 "nbformat": 4,
 "nbformat_minor": 2
}
