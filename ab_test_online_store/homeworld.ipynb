{
 "cells": [
  {
   "cell_type": "markdown",
   "id": "dde6ae81",
   "metadata": {},
   "source": [
    "# Retail: Loyalty Program Analysis"
   ]
  },
  {
   "cell_type": "markdown",
   "id": "17315030",
   "metadata": {},
   "source": [
    "## Table of contents  \n",
    "1.[Introduction](#intro)  \n",
    "2.[Steps](#steps)  \n",
    "3.[Data preprocessing](#data)    \n",
    "4.[Exploratory Data Analysis](#eda)   \n",
    "5.[Statistical Data Analysis](#sda)  \n",
    "6.[Final Conclusion](#end)  \n",
    "7.[Presentation](#presentation)  \n",
    "8.[Documentation](#doc)  \n",
    "9.[Dashboard](#dashboard)  "
   ]
  },
  {
   "cell_type": "markdown",
   "id": "00cf8d27",
   "metadata": {},
   "source": [
    "<a id=\"Introduction\">"
   ]
  },
  {
   "cell_type": "markdown",
   "id": "26a339b4",
   "metadata": {},
   "source": [
    "## Introduction  \n",
    "   <b>Home Store is a building material retail store . Our project is to analyse the loyalty program  \n",
    "      of the store and find out if loyalty program is a successfully used by customers to increase  \n",
    "      their purchase size and the money spent .</b>"
   ]
  },
  {
   "cell_type": "markdown",
   "id": "985cc847",
   "metadata": {},
   "source": [
    "<a id=\"steps\">"
   ]
  },
  {
   "cell_type": "markdown",
   "id": "8ba2d76a",
   "metadata": {},
   "source": [
    "## Steps\n",
    "<b>- Carry out exploratory data analysis  \n",
    "<b>- Analyze the loyalty program  \n",
    "<b>- Formulate and test statistical hypotheses"
   ]
  },
  {
   "cell_type": "code",
   "execution_count": 1,
   "id": "3c0115d9",
   "metadata": {},
   "outputs": [],
   "source": [
    "#import all the necessary packages\n",
    "import pandas as pd\n",
    "import numpy as np\n",
    "import matplotlib.pyplot as plt\n",
    "import seaborn as sns\n",
    "import warnings\n",
    "from scipy import stats as st"
   ]
  },
  {
   "cell_type": "code",
   "execution_count": 2,
   "id": "9eed5be4",
   "metadata": {},
   "outputs": [
    {
     "data": {
      "text/html": [
       "<div>\n",
       "<style scoped>\n",
       "    .dataframe tbody tr th:only-of-type {\n",
       "        vertical-align: middle;\n",
       "    }\n",
       "\n",
       "    .dataframe tbody tr th {\n",
       "        vertical-align: top;\n",
       "    }\n",
       "\n",
       "    .dataframe thead th {\n",
       "        text-align: right;\n",
       "    }\n",
       "</style>\n",
       "<table border=\"1\" class=\"dataframe\">\n",
       "  <thead>\n",
       "    <tr style=\"text-align: right;\">\n",
       "      <th></th>\n",
       "      <th>purchaseid</th>\n",
       "      <th>item_ID</th>\n",
       "      <th>Quantity</th>\n",
       "      <th>purchasedate</th>\n",
       "      <th>CustomerID</th>\n",
       "      <th>loyalty_program</th>\n",
       "      <th>ShopID</th>\n",
       "    </tr>\n",
       "  </thead>\n",
       "  <tbody>\n",
       "    <tr>\n",
       "      <th>0</th>\n",
       "      <td>538280</td>\n",
       "      <td>21873</td>\n",
       "      <td>11</td>\n",
       "      <td>2016-12-10 12:50:00</td>\n",
       "      <td>18427.0</td>\n",
       "      <td>0</td>\n",
       "      <td>Shop 3</td>\n",
       "    </tr>\n",
       "    <tr>\n",
       "      <th>1</th>\n",
       "      <td>538862</td>\n",
       "      <td>22195</td>\n",
       "      <td>0</td>\n",
       "      <td>2016-12-14 14:11:00</td>\n",
       "      <td>22389.0</td>\n",
       "      <td>1</td>\n",
       "      <td>Shop 2</td>\n",
       "    </tr>\n",
       "    <tr>\n",
       "      <th>2</th>\n",
       "      <td>538855</td>\n",
       "      <td>21239</td>\n",
       "      <td>7</td>\n",
       "      <td>2016-12-14 13:50:00</td>\n",
       "      <td>22182.0</td>\n",
       "      <td>1</td>\n",
       "      <td>Shop 3</td>\n",
       "    </tr>\n",
       "    <tr>\n",
       "      <th>3</th>\n",
       "      <td>543543</td>\n",
       "      <td>22271</td>\n",
       "      <td>0</td>\n",
       "      <td>2017-02-09 15:33:00</td>\n",
       "      <td>23522.0</td>\n",
       "      <td>1</td>\n",
       "      <td>Shop 28</td>\n",
       "    </tr>\n",
       "    <tr>\n",
       "      <th>4</th>\n",
       "      <td>543812</td>\n",
       "      <td>79321</td>\n",
       "      <td>0</td>\n",
       "      <td>2017-02-13 14:40:00</td>\n",
       "      <td>23151.0</td>\n",
       "      <td>1</td>\n",
       "      <td>Shop 28</td>\n",
       "    </tr>\n",
       "  </tbody>\n",
       "</table>\n",
       "</div>"
      ],
      "text/plain": [
       "  purchaseid item_ID  Quantity         purchasedate  CustomerID  \\\n",
       "0     538280   21873        11  2016-12-10 12:50:00     18427.0   \n",
       "1     538862   22195         0  2016-12-14 14:11:00     22389.0   \n",
       "2     538855   21239         7  2016-12-14 13:50:00     22182.0   \n",
       "3     543543   22271         0  2017-02-09 15:33:00     23522.0   \n",
       "4     543812   79321         0  2017-02-13 14:40:00     23151.0   \n",
       "\n",
       "   loyalty_program   ShopID  \n",
       "0                0   Shop 3  \n",
       "1                1   Shop 2  \n",
       "2                1   Shop 3  \n",
       "3                1  Shop 28  \n",
       "4                1  Shop 28  "
      ]
     },
     "execution_count": 2,
     "metadata": {},
     "output_type": "execute_result"
    }
   ],
   "source": [
    "#Study the dataset \"retail_dataset\"\n",
    "warnings.filterwarnings(\"ignore\")\n",
    "retail_df=pd.read_csv('retail_dataset_us.csv',sep=',')\n",
    "retail_df.head()"
   ]
  },
  {
   "cell_type": "code",
   "execution_count": 3,
   "id": "c35fad3c",
   "metadata": {},
   "outputs": [
    {
     "name": "stdout",
     "output_type": "stream",
     "text": [
      "<class 'pandas.core.frame.DataFrame'>\n",
      "RangeIndex: 105335 entries, 0 to 105334\n",
      "Data columns (total 7 columns):\n",
      " #   Column           Non-Null Count   Dtype  \n",
      "---  ------           --------------   -----  \n",
      " 0   purchaseid       105335 non-null  object \n",
      " 1   item_ID          105335 non-null  object \n",
      " 2   Quantity         105335 non-null  int64  \n",
      " 3   purchasedate     105335 non-null  object \n",
      " 4   CustomerID       69125 non-null   float64\n",
      " 5   loyalty_program  105335 non-null  int64  \n",
      " 6   ShopID           105335 non-null  object \n",
      "dtypes: float64(1), int64(2), object(4)\n",
      "memory usage: 5.6+ MB\n"
     ]
    }
   ],
   "source": [
    "retail_df.info()"
   ]
  },
  {
   "cell_type": "markdown",
   "id": "bf3c5f05",
   "metadata": {},
   "source": [
    "<a id=\"data\">"
   ]
  },
  {
   "cell_type": "markdown",
   "id": "a756676b",
   "metadata": {},
   "source": [
    "## Data Preprocessing"
   ]
  },
  {
   "cell_type": "code",
   "execution_count": 4,
   "id": "3009a8a3",
   "metadata": {},
   "outputs": [
    {
     "name": "stdout",
     "output_type": "stream",
     "text": [
      "<class 'pandas.core.frame.DataFrame'>\n",
      "RangeIndex: 105335 entries, 0 to 105334\n",
      "Data columns (total 7 columns):\n",
      " #   Column           Non-Null Count   Dtype  \n",
      "---  ------           --------------   -----  \n",
      " 0   Purchase_id      105335 non-null  object \n",
      " 1   Item_id          105335 non-null  object \n",
      " 2   Quantity         105335 non-null  int64  \n",
      " 3   Purchase_date    105335 non-null  object \n",
      " 4   Customer_id      69125 non-null   float64\n",
      " 5   Loyalty_program  105335 non-null  int64  \n",
      " 6   Shop_id          105335 non-null  object \n",
      "dtypes: float64(1), int64(2), object(4)\n",
      "memory usage: 5.6+ MB\n"
     ]
    }
   ],
   "source": [
    "#changing column name for uniformity\n",
    "retail_df=retail_df.rename(columns={'purchaseid':'Purchase_id',\n",
    "                                   'item_ID':'Item_id',\n",
    "                                   'purchasedate':'Purchase_date',\n",
    "                                   'CustomerID':'Customer_id',\n",
    "                                   'loyalty_program':'Loyalty_program',\n",
    "                                   'ShopID':'Shop_id'})\n",
    "retail_df.info()"
   ]
  },
  {
   "cell_type": "code",
   "execution_count": 5,
   "id": "a5a1504d",
   "metadata": {},
   "outputs": [
    {
     "name": "stdout",
     "output_type": "stream",
     "text": [
      "<class 'pandas.core.frame.DataFrame'>\n",
      "RangeIndex: 105335 entries, 0 to 105334\n",
      "Data columns (total 7 columns):\n",
      " #   Column           Non-Null Count   Dtype         \n",
      "---  ------           --------------   -----         \n",
      " 0   Purchase_id      105335 non-null  object        \n",
      " 1   Item_id          105335 non-null  object        \n",
      " 2   Quantity         105335 non-null  int64         \n",
      " 3   Purchase_date    105335 non-null  datetime64[ns]\n",
      " 4   Customer_id      69125 non-null   float64       \n",
      " 5   Loyalty_program  105335 non-null  category      \n",
      " 6   Shop_id          105335 non-null  object        \n",
      "dtypes: category(1), datetime64[ns](1), float64(1), int64(1), object(3)\n",
      "memory usage: 4.9+ MB\n"
     ]
    }
   ],
   "source": [
    "#converting 'loyalty_program' to category and 'purchase_date' to datetime\n",
    "retail_df['Loyalty_program']=retail_df['Loyalty_program'].astype('category')\n",
    "retail_df['Purchase_date']=pd.to_datetime(retail_df['Purchase_date'])\n",
    "retail_df.info()"
   ]
  },
  {
   "cell_type": "markdown",
   "id": "caa852af",
   "metadata": {},
   "source": [
    "<b>69125 out of 105335 records have customer details which is around (65%).Around 35% of records miss customer_id."
   ]
  },
  {
   "cell_type": "code",
   "execution_count": 6,
   "id": "a3cf9b2b",
   "metadata": {},
   "outputs": [
    {
     "data": {
      "text/plain": [
       "1033"
      ]
     },
     "execution_count": 6,
     "metadata": {},
     "output_type": "execute_result"
    }
   ],
   "source": [
    "retail_df.duplicated().sum()"
   ]
  },
  {
   "cell_type": "code",
   "execution_count": 7,
   "id": "0ce67e42",
   "metadata": {},
   "outputs": [
    {
     "data": {
      "text/html": [
       "<div>\n",
       "<style scoped>\n",
       "    .dataframe tbody tr th:only-of-type {\n",
       "        vertical-align: middle;\n",
       "    }\n",
       "\n",
       "    .dataframe tbody tr th {\n",
       "        vertical-align: top;\n",
       "    }\n",
       "\n",
       "    .dataframe thead th {\n",
       "        text-align: right;\n",
       "    }\n",
       "</style>\n",
       "<table border=\"1\" class=\"dataframe\">\n",
       "  <thead>\n",
       "    <tr style=\"text-align: right;\">\n",
       "      <th></th>\n",
       "      <th>Purchase_id</th>\n",
       "      <th>Item_id</th>\n",
       "      <th>Quantity</th>\n",
       "      <th>Purchase_date</th>\n",
       "      <th>Customer_id</th>\n",
       "      <th>Loyalty_program</th>\n",
       "      <th>Shop_id</th>\n",
       "    </tr>\n",
       "  </thead>\n",
       "  <tbody>\n",
       "    <tr>\n",
       "      <th>39</th>\n",
       "      <td>545071</td>\n",
       "      <td>85036A</td>\n",
       "      <td>0</td>\n",
       "      <td>2017-02-27 15:59:00</td>\n",
       "      <td>21675.0</td>\n",
       "      <td>0</td>\n",
       "      <td>Shop 23</td>\n",
       "    </tr>\n",
       "    <tr>\n",
       "      <th>116</th>\n",
       "      <td>537772</td>\n",
       "      <td>22659</td>\n",
       "      <td>3</td>\n",
       "      <td>2016-12-08 12:35:00</td>\n",
       "      <td>23722.0</td>\n",
       "      <td>1</td>\n",
       "      <td>Shop 27</td>\n",
       "    </tr>\n",
       "    <tr>\n",
       "      <th>248</th>\n",
       "      <td>544336</td>\n",
       "      <td>22858</td>\n",
       "      <td>0</td>\n",
       "      <td>2017-02-17 19:36:00</td>\n",
       "      <td>18909.0</td>\n",
       "      <td>0</td>\n",
       "      <td>Shop 7</td>\n",
       "    </tr>\n",
       "    <tr>\n",
       "      <th>360</th>\n",
       "      <td>541251</td>\n",
       "      <td>22284</td>\n",
       "      <td>11</td>\n",
       "      <td>2017-01-16 13:25:00</td>\n",
       "      <td>20725.0</td>\n",
       "      <td>0</td>\n",
       "      <td>Shop 0</td>\n",
       "    </tr>\n",
       "    <tr>\n",
       "      <th>505</th>\n",
       "      <td>536522</td>\n",
       "      <td>21122</td>\n",
       "      <td>0</td>\n",
       "      <td>2016-12-01 12:49:00</td>\n",
       "      <td>20691.0</td>\n",
       "      <td>0</td>\n",
       "      <td>Shop 10</td>\n",
       "    </tr>\n",
       "  </tbody>\n",
       "</table>\n",
       "</div>"
      ],
      "text/plain": [
       "    Purchase_id Item_id  Quantity       Purchase_date  Customer_id  \\\n",
       "39       545071  85036A         0 2017-02-27 15:59:00      21675.0   \n",
       "116      537772   22659         3 2016-12-08 12:35:00      23722.0   \n",
       "248      544336   22858         0 2017-02-17 19:36:00      18909.0   \n",
       "360      541251   22284        11 2017-01-16 13:25:00      20725.0   \n",
       "505      536522   21122         0 2016-12-01 12:49:00      20691.0   \n",
       "\n",
       "    Loyalty_program  Shop_id  \n",
       "39                0  Shop 23  \n",
       "116               1  Shop 27  \n",
       "248               0   Shop 7  \n",
       "360               0   Shop 0  \n",
       "505               0  Shop 10  "
      ]
     },
     "execution_count": 7,
     "metadata": {},
     "output_type": "execute_result"
    }
   ],
   "source": [
    "retail_df[retail_df.duplicated(keep=False)].head()"
   ]
  },
  {
   "cell_type": "code",
   "execution_count": 8,
   "id": "114a2769",
   "metadata": {},
   "outputs": [],
   "source": [
    "retail_df.drop_duplicates(inplace=True)"
   ]
  },
  {
   "cell_type": "code",
   "execution_count": 9,
   "id": "fedeb47f",
   "metadata": {},
   "outputs": [
    {
     "data": {
      "text/plain": [
       "85123A      561\n",
       "22423       497\n",
       "22469       412\n",
       "22720       375\n",
       "85099B      372\n",
       "           ... \n",
       "DCGS0072      1\n",
       "22125         1\n",
       "21226         1\n",
       "84977         1\n",
       "79320         1\n",
       "Name: Item_id, Length: 3159, dtype: int64"
      ]
     },
     "execution_count": 9,
     "metadata": {},
     "output_type": "execute_result"
    }
   ],
   "source": [
    "retail_df['Item_id'].value_counts()"
   ]
  },
  {
   "cell_type": "code",
   "execution_count": 10,
   "id": "abe58c50",
   "metadata": {},
   "outputs": [
    {
     "data": {
      "text/plain": [
       "537434     675\n",
       "538071     651\n",
       "538349     613\n",
       "537638     601\n",
       "537237     597\n",
       "          ... \n",
       "C543775      1\n",
       "537013       1\n",
       "543385       1\n",
       "C544577      1\n",
       "C541650      1\n",
       "Name: Purchase_id, Length: 4894, dtype: int64"
      ]
     },
     "execution_count": 10,
     "metadata": {},
     "output_type": "execute_result"
    }
   ],
   "source": [
    "retail_df['Purchase_id'].value_counts()"
   ]
  },
  {
   "cell_type": "markdown",
   "id": "635c789d",
   "metadata": {},
   "source": [
    "<b>Some Purchase_id starts with C.Will look at those records to see any pattern."
   ]
  },
  {
   "cell_type": "markdown",
   "id": "172e0f9a",
   "metadata": {},
   "source": [
    "## Exploratory Data Analysis"
   ]
  },
  {
   "cell_type": "markdown",
   "id": "6bf0196a",
   "metadata": {},
   "source": [
    "<a id='eda'>"
   ]
  },
  {
   "cell_type": "code",
   "execution_count": 11,
   "id": "28be558a",
   "metadata": {},
   "outputs": [
    {
     "data": {
      "text/html": [
       "<div>\n",
       "<style scoped>\n",
       "    .dataframe tbody tr th:only-of-type {\n",
       "        vertical-align: middle;\n",
       "    }\n",
       "\n",
       "    .dataframe tbody tr th {\n",
       "        vertical-align: top;\n",
       "    }\n",
       "\n",
       "    .dataframe thead th {\n",
       "        text-align: right;\n",
       "    }\n",
       "</style>\n",
       "<table border=\"1\" class=\"dataframe\">\n",
       "  <thead>\n",
       "    <tr style=\"text-align: right;\">\n",
       "      <th></th>\n",
       "      <th>Purchase_id</th>\n",
       "      <th>Item_id</th>\n",
       "      <th>Quantity</th>\n",
       "      <th>Purchase_date</th>\n",
       "      <th>Customer_id</th>\n",
       "      <th>Loyalty_program</th>\n",
       "      <th>Shop_id</th>\n",
       "    </tr>\n",
       "  </thead>\n",
       "  <tbody>\n",
       "    <tr>\n",
       "      <th>64</th>\n",
       "      <td>C539944</td>\n",
       "      <td>22776</td>\n",
       "      <td>-2</td>\n",
       "      <td>2016-12-23 11:38:00</td>\n",
       "      <td>20239.0</td>\n",
       "      <td>0</td>\n",
       "      <td>Shop 27</td>\n",
       "    </tr>\n",
       "    <tr>\n",
       "      <th>109</th>\n",
       "      <td>C542910</td>\n",
       "      <td>20726</td>\n",
       "      <td>-2</td>\n",
       "      <td>2017-02-01 15:38:00</td>\n",
       "      <td>23190.0</td>\n",
       "      <td>1</td>\n",
       "      <td>Shop 19</td>\n",
       "    </tr>\n",
       "    <tr>\n",
       "      <th>112</th>\n",
       "      <td>C542426</td>\n",
       "      <td>22418</td>\n",
       "      <td>-25</td>\n",
       "      <td>2017-01-28 09:32:00</td>\n",
       "      <td>19825.0</td>\n",
       "      <td>0</td>\n",
       "      <td>Shop 27</td>\n",
       "    </tr>\n",
       "    <tr>\n",
       "      <th>253</th>\n",
       "      <td>C539726</td>\n",
       "      <td>22791</td>\n",
       "      <td>-11</td>\n",
       "      <td>2016-12-21 14:24:00</td>\n",
       "      <td>22686.0</td>\n",
       "      <td>1</td>\n",
       "      <td>Shop 3</td>\n",
       "    </tr>\n",
       "    <tr>\n",
       "      <th>344</th>\n",
       "      <td>C544034</td>\n",
       "      <td>21878</td>\n",
       "      <td>-2</td>\n",
       "      <td>2017-02-15 11:28:00</td>\n",
       "      <td>20380.0</td>\n",
       "      <td>0</td>\n",
       "      <td>Shop 9</td>\n",
       "    </tr>\n",
       "    <tr>\n",
       "      <th>458</th>\n",
       "      <td>C539667</td>\n",
       "      <td>21285</td>\n",
       "      <td>-25</td>\n",
       "      <td>2016-12-21 10:47:00</td>\n",
       "      <td>18827.0</td>\n",
       "      <td>0</td>\n",
       "      <td>Shop 4</td>\n",
       "    </tr>\n",
       "    <tr>\n",
       "      <th>636</th>\n",
       "      <td>C543764</td>\n",
       "      <td>79191D</td>\n",
       "      <td>-13</td>\n",
       "      <td>2017-02-11 15:16:00</td>\n",
       "      <td>22714.0</td>\n",
       "      <td>1</td>\n",
       "      <td>Shop 18</td>\n",
       "    </tr>\n",
       "    <tr>\n",
       "      <th>660</th>\n",
       "      <td>C537602</td>\n",
       "      <td>22423</td>\n",
       "      <td>-3</td>\n",
       "      <td>2016-12-07 12:45:00</td>\n",
       "      <td>23190.0</td>\n",
       "      <td>1</td>\n",
       "      <td>Shop 15</td>\n",
       "    </tr>\n",
       "    <tr>\n",
       "      <th>742</th>\n",
       "      <td>C539260</td>\n",
       "      <td>21258</td>\n",
       "      <td>-8</td>\n",
       "      <td>2016-12-16 14:32:00</td>\n",
       "      <td>20779.0</td>\n",
       "      <td>0</td>\n",
       "      <td>Shop 21</td>\n",
       "    </tr>\n",
       "    <tr>\n",
       "      <th>748</th>\n",
       "      <td>C540417</td>\n",
       "      <td>85099B</td>\n",
       "      <td>-101</td>\n",
       "      <td>2017-01-07 10:56:00</td>\n",
       "      <td>19359.0</td>\n",
       "      <td>0</td>\n",
       "      <td>Shop 9</td>\n",
       "    </tr>\n",
       "  </tbody>\n",
       "</table>\n",
       "</div>"
      ],
      "text/plain": [
       "    Purchase_id Item_id  Quantity       Purchase_date  Customer_id  \\\n",
       "64      C539944   22776        -2 2016-12-23 11:38:00      20239.0   \n",
       "109     C542910   20726        -2 2017-02-01 15:38:00      23190.0   \n",
       "112     C542426   22418       -25 2017-01-28 09:32:00      19825.0   \n",
       "253     C539726   22791       -11 2016-12-21 14:24:00      22686.0   \n",
       "344     C544034   21878        -2 2017-02-15 11:28:00      20380.0   \n",
       "458     C539667   21285       -25 2016-12-21 10:47:00      18827.0   \n",
       "636     C543764  79191D       -13 2017-02-11 15:16:00      22714.0   \n",
       "660     C537602   22423        -3 2016-12-07 12:45:00      23190.0   \n",
       "742     C539260   21258        -8 2016-12-16 14:32:00      20779.0   \n",
       "748     C540417  85099B      -101 2017-01-07 10:56:00      19359.0   \n",
       "\n",
       "    Loyalty_program  Shop_id  \n",
       "64                0  Shop 27  \n",
       "109               1  Shop 19  \n",
       "112               0  Shop 27  \n",
       "253               1   Shop 3  \n",
       "344               0   Shop 9  \n",
       "458               0   Shop 4  \n",
       "636               1  Shop 18  \n",
       "660               1  Shop 15  \n",
       "742               0  Shop 21  \n",
       "748               0   Shop 9  "
      ]
     },
     "execution_count": 11,
     "metadata": {},
     "output_type": "execute_result"
    }
   ],
   "source": [
    "#filtering records with Purchase_id starting with 'C'\n",
    "retail_df[retail_df['Purchase_id'].str.startswith('C')].head(10)"
   ]
  },
  {
   "cell_type": "markdown",
   "id": "637edb98",
   "metadata": {},
   "source": [
    "<b>The above table shows that all the records have negative quantities which concludes that the items are returned if the   \n",
    "Purchase_id starts with C."
   ]
  },
  {
   "cell_type": "code",
   "execution_count": 12,
   "id": "9c8350fb",
   "metadata": {},
   "outputs": [
    {
     "data": {
      "text/plain": [
       " 0       32362\n",
       " 1       16137\n",
       " 11      10265\n",
       " 5        7931\n",
       " 2        7444\n",
       "         ...  \n",
       " 197         1\n",
       " 209         1\n",
       "-601         1\n",
       " 899         1\n",
       "-2601        1\n",
       "Name: Quantity, Length: 301, dtype: int64"
      ]
     },
     "execution_count": 12,
     "metadata": {},
     "output_type": "execute_result"
    }
   ],
   "source": [
    "retail_df['Quantity'].value_counts()"
   ]
  },
  {
   "cell_type": "markdown",
   "id": "19d83ad7",
   "metadata": {},
   "source": [
    "<b>Around 30% of records have Quantity as 0 which cannot be deleted . It might represent products that didn't go through in   \n",
    "the final checkout .."
   ]
  },
  {
   "cell_type": "code",
   "execution_count": 13,
   "id": "90a845c5",
   "metadata": {},
   "outputs": [
    {
     "data": {
      "text/html": [
       "<div>\n",
       "<style scoped>\n",
       "    .dataframe tbody tr th:only-of-type {\n",
       "        vertical-align: middle;\n",
       "    }\n",
       "\n",
       "    .dataframe tbody tr th {\n",
       "        vertical-align: top;\n",
       "    }\n",
       "\n",
       "    .dataframe thead th {\n",
       "        text-align: right;\n",
       "    }\n",
       "</style>\n",
       "<table border=\"1\" class=\"dataframe\">\n",
       "  <thead>\n",
       "    <tr style=\"text-align: right;\">\n",
       "      <th></th>\n",
       "      <th>Purchase_id</th>\n",
       "      <th>Item_id</th>\n",
       "      <th>Quantity</th>\n",
       "      <th>Purchase_date</th>\n",
       "      <th>Customer_id</th>\n",
       "      <th>Loyalty_program</th>\n",
       "      <th>Shop_id</th>\n",
       "    </tr>\n",
       "  </thead>\n",
       "  <tbody>\n",
       "    <tr>\n",
       "      <th>6244</th>\n",
       "      <td>536381</td>\n",
       "      <td>22438</td>\n",
       "      <td>0</td>\n",
       "      <td>2016-12-01 09:41:00</td>\n",
       "      <td>20990.0</td>\n",
       "      <td>0</td>\n",
       "      <td>Shop 16</td>\n",
       "    </tr>\n",
       "    <tr>\n",
       "      <th>88892</th>\n",
       "      <td>536381</td>\n",
       "      <td>71270</td>\n",
       "      <td>0</td>\n",
       "      <td>2016-12-01 09:41:00</td>\n",
       "      <td>20990.0</td>\n",
       "      <td>0</td>\n",
       "      <td>Shop 16</td>\n",
       "    </tr>\n",
       "    <tr>\n",
       "      <th>57894</th>\n",
       "      <td>536381</td>\n",
       "      <td>22261</td>\n",
       "      <td>0</td>\n",
       "      <td>2016-12-01 09:41:00</td>\n",
       "      <td>20990.0</td>\n",
       "      <td>0</td>\n",
       "      <td>Shop 16</td>\n",
       "    </tr>\n",
       "    <tr>\n",
       "      <th>58510</th>\n",
       "      <td>536381</td>\n",
       "      <td>22644</td>\n",
       "      <td>0</td>\n",
       "      <td>2016-12-01 09:41:00</td>\n",
       "      <td>20990.0</td>\n",
       "      <td>0</td>\n",
       "      <td>Shop 16</td>\n",
       "    </tr>\n",
       "    <tr>\n",
       "      <th>51914</th>\n",
       "      <td>536381</td>\n",
       "      <td>22637</td>\n",
       "      <td>0</td>\n",
       "      <td>2016-12-01 09:41:00</td>\n",
       "      <td>20990.0</td>\n",
       "      <td>0</td>\n",
       "      <td>Shop 16</td>\n",
       "    </tr>\n",
       "  </tbody>\n",
       "</table>\n",
       "</div>"
      ],
      "text/plain": [
       "      Purchase_id Item_id  Quantity       Purchase_date  Customer_id  \\\n",
       "6244       536381   22438         0 2016-12-01 09:41:00      20990.0   \n",
       "88892      536381   71270         0 2016-12-01 09:41:00      20990.0   \n",
       "57894      536381   22261         0 2016-12-01 09:41:00      20990.0   \n",
       "58510      536381   22644         0 2016-12-01 09:41:00      20990.0   \n",
       "51914      536381   22637         0 2016-12-01 09:41:00      20990.0   \n",
       "\n",
       "      Loyalty_program  Shop_id  \n",
       "6244                0  Shop 16  \n",
       "88892               0  Shop 16  \n",
       "57894               0  Shop 16  \n",
       "58510               0  Shop 16  \n",
       "51914               0  Shop 16  "
      ]
     },
     "execution_count": 13,
     "metadata": {},
     "output_type": "execute_result"
    }
   ],
   "source": [
    "retail_df[retail_df['Quantity']==0].sort_values(by='Purchase_date').head()"
   ]
  },
  {
   "cell_type": "code",
   "execution_count": 14,
   "id": "d4624a93",
   "metadata": {},
   "outputs": [
    {
     "data": {
      "text/html": [
       "<div>\n",
       "<style scoped>\n",
       "    .dataframe tbody tr th:only-of-type {\n",
       "        vertical-align: middle;\n",
       "    }\n",
       "\n",
       "    .dataframe tbody tr th {\n",
       "        vertical-align: top;\n",
       "    }\n",
       "\n",
       "    .dataframe thead th {\n",
       "        text-align: right;\n",
       "    }\n",
       "</style>\n",
       "<table border=\"1\" class=\"dataframe\">\n",
       "  <thead>\n",
       "    <tr style=\"text-align: right;\">\n",
       "      <th></th>\n",
       "      <th>Purchase_id</th>\n",
       "      <th>Item_id</th>\n",
       "      <th>Quantity</th>\n",
       "      <th>Purchase_date</th>\n",
       "      <th>Customer_id</th>\n",
       "      <th>Loyalty_program</th>\n",
       "      <th>Shop_id</th>\n",
       "    </tr>\n",
       "  </thead>\n",
       "  <tbody>\n",
       "  </tbody>\n",
       "</table>\n",
       "</div>"
      ],
      "text/plain": [
       "Empty DataFrame\n",
       "Columns: [Purchase_id, Item_id, Quantity, Purchase_date, Customer_id, Loyalty_program, Shop_id]\n",
       "Index: []"
      ]
     },
     "execution_count": 14,
     "metadata": {},
     "output_type": "execute_result"
    }
   ],
   "source": [
    "#Check if any return item with Quantity 0. \n",
    "retail_df[((retail_df['Purchase_id'].str.startswith('C')) & (retail_df['Quantity']==0))]"
   ]
  },
  {
   "cell_type": "markdown",
   "id": "84e234cc",
   "metadata": {},
   "source": [
    "<b>No quantity  0 in return items."
   ]
  },
  {
   "cell_type": "code",
   "execution_count": 15,
   "id": "2d4fc6fd",
   "metadata": {},
   "outputs": [
    {
     "data": {
      "text/html": [
       "<div>\n",
       "<style scoped>\n",
       "    .dataframe tbody tr th:only-of-type {\n",
       "        vertical-align: middle;\n",
       "    }\n",
       "\n",
       "    .dataframe tbody tr th {\n",
       "        vertical-align: top;\n",
       "    }\n",
       "\n",
       "    .dataframe thead th {\n",
       "        text-align: right;\n",
       "    }\n",
       "</style>\n",
       "<table border=\"1\" class=\"dataframe\">\n",
       "  <thead>\n",
       "    <tr style=\"text-align: right;\">\n",
       "      <th></th>\n",
       "      <th>Count</th>\n",
       "    </tr>\n",
       "  </thead>\n",
       "  <tbody>\n",
       "    <tr>\n",
       "      <th>Loyalty_non_members</th>\n",
       "      <td>80890</td>\n",
       "    </tr>\n",
       "    <tr>\n",
       "      <th>Loyalty_members</th>\n",
       "      <td>23412</td>\n",
       "    </tr>\n",
       "  </tbody>\n",
       "</table>\n",
       "</div>"
      ],
      "text/plain": [
       "                     Count\n",
       "Loyalty_non_members  80890\n",
       "Loyalty_members      23412"
      ]
     },
     "execution_count": 15,
     "metadata": {},
     "output_type": "execute_result"
    }
   ],
   "source": [
    "#check portion of data in loyalty program\n",
    "member_count=pd.DataFrame(retail_df['Loyalty_program'].value_counts())\n",
    "member_count.index=['Loyalty_non_members','Loyalty_members']\n",
    "member_count.columns=['Count']\n",
    "member_count"
   ]
  },
  {
   "cell_type": "markdown",
   "id": "b84ff15f",
   "metadata": {},
   "source": [
    "<b>Around 80% of the data not in loyalty program.. Only less than 25% of the data has loyalty membership ."
   ]
  },
  {
   "cell_type": "code",
   "execution_count": 16,
   "id": "a9a0c8b7",
   "metadata": {},
   "outputs": [
    {
     "data": {
      "text/html": [
       "<div>\n",
       "<style scoped>\n",
       "    .dataframe tbody tr th:only-of-type {\n",
       "        vertical-align: middle;\n",
       "    }\n",
       "\n",
       "    .dataframe tbody tr th {\n",
       "        vertical-align: top;\n",
       "    }\n",
       "\n",
       "    .dataframe thead th {\n",
       "        text-align: right;\n",
       "    }\n",
       "</style>\n",
       "<table border=\"1\" class=\"dataframe\">\n",
       "  <thead>\n",
       "    <tr style=\"text-align: right;\">\n",
       "      <th></th>\n",
       "      <th>Purchase_id</th>\n",
       "      <th>Item_id</th>\n",
       "      <th>Quantity</th>\n",
       "      <th>Purchase_date</th>\n",
       "      <th>Customer_id</th>\n",
       "      <th>Loyalty_program</th>\n",
       "      <th>Shop_id</th>\n",
       "    </tr>\n",
       "  </thead>\n",
       "  <tbody>\n",
       "    <tr>\n",
       "      <th>1</th>\n",
       "      <td>538862</td>\n",
       "      <td>22195</td>\n",
       "      <td>0</td>\n",
       "      <td>2016-12-14 14:11:00</td>\n",
       "      <td>22389.0</td>\n",
       "      <td>1</td>\n",
       "      <td>Shop 2</td>\n",
       "    </tr>\n",
       "    <tr>\n",
       "      <th>2</th>\n",
       "      <td>538855</td>\n",
       "      <td>21239</td>\n",
       "      <td>7</td>\n",
       "      <td>2016-12-14 13:50:00</td>\n",
       "      <td>22182.0</td>\n",
       "      <td>1</td>\n",
       "      <td>Shop 3</td>\n",
       "    </tr>\n",
       "    <tr>\n",
       "      <th>3</th>\n",
       "      <td>543543</td>\n",
       "      <td>22271</td>\n",
       "      <td>0</td>\n",
       "      <td>2017-02-09 15:33:00</td>\n",
       "      <td>23522.0</td>\n",
       "      <td>1</td>\n",
       "      <td>Shop 28</td>\n",
       "    </tr>\n",
       "    <tr>\n",
       "      <th>4</th>\n",
       "      <td>543812</td>\n",
       "      <td>79321</td>\n",
       "      <td>0</td>\n",
       "      <td>2017-02-13 14:40:00</td>\n",
       "      <td>23151.0</td>\n",
       "      <td>1</td>\n",
       "      <td>Shop 28</td>\n",
       "    </tr>\n",
       "    <tr>\n",
       "      <th>5</th>\n",
       "      <td>538379</td>\n",
       "      <td>22965</td>\n",
       "      <td>0</td>\n",
       "      <td>2016-12-12 11:26:00</td>\n",
       "      <td>22805.0</td>\n",
       "      <td>1</td>\n",
       "      <td>Shop 20</td>\n",
       "    </tr>\n",
       "  </tbody>\n",
       "</table>\n",
       "</div>"
      ],
      "text/plain": [
       "  Purchase_id Item_id  Quantity       Purchase_date  Customer_id  \\\n",
       "1      538862   22195         0 2016-12-14 14:11:00      22389.0   \n",
       "2      538855   21239         7 2016-12-14 13:50:00      22182.0   \n",
       "3      543543   22271         0 2017-02-09 15:33:00      23522.0   \n",
       "4      543812   79321         0 2017-02-13 14:40:00      23151.0   \n",
       "5      538379   22965         0 2016-12-12 11:26:00      22805.0   \n",
       "\n",
       "  Loyalty_program  Shop_id  \n",
       "1               1   Shop 2  \n",
       "2               1   Shop 3  \n",
       "3               1  Shop 28  \n",
       "4               1  Shop 28  \n",
       "5               1  Shop 20  "
      ]
     },
     "execution_count": 16,
     "metadata": {},
     "output_type": "execute_result"
    }
   ],
   "source": [
    "#Customers in loyalty program\n",
    "retail_df[retail_df['Loyalty_program']==1].head()"
   ]
  },
  {
   "cell_type": "code",
   "execution_count": 17,
   "id": "478affdb",
   "metadata": {},
   "outputs": [
    {
     "data": {
      "text/plain": [
       "1344"
      ]
     },
     "execution_count": 17,
     "metadata": {},
     "output_type": "execute_result"
    }
   ],
   "source": [
    "#number of unique purchases made with loyalty program\n",
    "retail_df[retail_df['Loyalty_program']==1]['Purchase_id'].nunique()"
   ]
  },
  {
   "cell_type": "code",
   "execution_count": 18,
   "id": "890628ae",
   "metadata": {},
   "outputs": [
    {
     "data": {
      "text/plain": [
       "587"
      ]
     },
     "execution_count": 18,
     "metadata": {},
     "output_type": "execute_result"
    }
   ],
   "source": [
    "#number of unique customers in loyalty program\n",
    "retail_df[retail_df['Loyalty_program']==1]['Customer_id'].nunique()"
   ]
  },
  {
   "cell_type": "code",
   "execution_count": 19,
   "id": "7159ed64",
   "metadata": {},
   "outputs": [
    {
     "data": {
      "text/plain": [
       "18427.0    774\n",
       "23520.0    751\n",
       "20285.0    745\n",
       "20990.0    715\n",
       "20590.0    549\n",
       "          ... \n",
       "22417.0      1\n",
       "23295.0      1\n",
       "18945.0      1\n",
       "20749.0      1\n",
       "23763.0      1\n",
       "Name: Customer_id, Length: 1749, dtype: int64"
      ]
     },
     "execution_count": 19,
     "metadata": {},
     "output_type": "execute_result"
    }
   ],
   "source": [
    "retail_df['Customer_id'].value_counts()"
   ]
  },
  {
   "cell_type": "markdown",
   "id": "92791ef9",
   "metadata": {},
   "source": [
    "<b>Around 1749 unique customers known from the data."
   ]
  },
  {
   "cell_type": "code",
   "execution_count": 20,
   "id": "b6d114b3",
   "metadata": {},
   "outputs": [
    {
     "data": {
      "text/html": [
       "<div>\n",
       "<style scoped>\n",
       "    .dataframe tbody tr th:only-of-type {\n",
       "        vertical-align: middle;\n",
       "    }\n",
       "\n",
       "    .dataframe tbody tr th {\n",
       "        vertical-align: top;\n",
       "    }\n",
       "\n",
       "    .dataframe thead th {\n",
       "        text-align: right;\n",
       "    }\n",
       "</style>\n",
       "<table border=\"1\" class=\"dataframe\">\n",
       "  <thead>\n",
       "    <tr style=\"text-align: right;\">\n",
       "      <th></th>\n",
       "      <th>Purchase_id</th>\n",
       "      <th>Item_id</th>\n",
       "      <th>Quantity</th>\n",
       "      <th>Purchase_date</th>\n",
       "      <th>Customer_id</th>\n",
       "      <th>Loyalty_program</th>\n",
       "      <th>Shop_id</th>\n",
       "    </tr>\n",
       "  </thead>\n",
       "  <tbody>\n",
       "    <tr>\n",
       "      <th>6</th>\n",
       "      <td>540468</td>\n",
       "      <td>22189</td>\n",
       "      <td>0</td>\n",
       "      <td>2017-01-07 13:55:00</td>\n",
       "      <td>NaN</td>\n",
       "      <td>0</td>\n",
       "      <td>Shop 0</td>\n",
       "    </tr>\n",
       "    <tr>\n",
       "      <th>7</th>\n",
       "      <td>541424</td>\n",
       "      <td>79321</td>\n",
       "      <td>1</td>\n",
       "      <td>2017-01-17 17:57:00</td>\n",
       "      <td>NaN</td>\n",
       "      <td>0</td>\n",
       "      <td>Shop 0</td>\n",
       "    </tr>\n",
       "    <tr>\n",
       "      <th>8</th>\n",
       "      <td>538883</td>\n",
       "      <td>22891</td>\n",
       "      <td>0</td>\n",
       "      <td>2016-12-14 15:56:00</td>\n",
       "      <td>NaN</td>\n",
       "      <td>0</td>\n",
       "      <td>Shop 0</td>\n",
       "    </tr>\n",
       "    <tr>\n",
       "      <th>11</th>\n",
       "      <td>541696</td>\n",
       "      <td>22197</td>\n",
       "      <td>4</td>\n",
       "      <td>2017-01-20 18:08:00</td>\n",
       "      <td>NaN</td>\n",
       "      <td>0</td>\n",
       "      <td>Shop 0</td>\n",
       "    </tr>\n",
       "    <tr>\n",
       "      <th>16</th>\n",
       "      <td>539744</td>\n",
       "      <td>22300</td>\n",
       "      <td>5</td>\n",
       "      <td>2016-12-21 15:21:00</td>\n",
       "      <td>NaN</td>\n",
       "      <td>0</td>\n",
       "      <td>Shop 0</td>\n",
       "    </tr>\n",
       "  </tbody>\n",
       "</table>\n",
       "</div>"
      ],
      "text/plain": [
       "   Purchase_id Item_id  Quantity       Purchase_date  Customer_id  \\\n",
       "6       540468   22189         0 2017-01-07 13:55:00          NaN   \n",
       "7       541424   79321         1 2017-01-17 17:57:00          NaN   \n",
       "8       538883   22891         0 2016-12-14 15:56:00          NaN   \n",
       "11      541696   22197         4 2017-01-20 18:08:00          NaN   \n",
       "16      539744   22300         5 2016-12-21 15:21:00          NaN   \n",
       "\n",
       "   Loyalty_program Shop_id  \n",
       "6                0  Shop 0  \n",
       "7                0  Shop 0  \n",
       "8                0  Shop 0  \n",
       "11               0  Shop 0  \n",
       "16               0  Shop 0  "
      ]
     },
     "execution_count": 20,
     "metadata": {},
     "output_type": "execute_result"
    }
   ],
   "source": [
    "#missing customer id data\n",
    "missing_customer_df=retail_df[retail_df['Customer_id'].isna()]\n",
    "missing_customer_df.head()"
   ]
  },
  {
   "cell_type": "code",
   "execution_count": 21,
   "id": "df54fcc7",
   "metadata": {},
   "outputs": [
    {
     "data": {
      "text/plain": [
       "0    36148\n",
       "1        0\n",
       "Name: Loyalty_program, dtype: int64"
      ]
     },
     "execution_count": 21,
     "metadata": {},
     "output_type": "execute_result"
    }
   ],
   "source": [
    "#loyalty members in missing customer data\n",
    "missing_customer_df['Loyalty_program'].value_counts()"
   ]
  },
  {
   "cell_type": "markdown",
   "id": "83da2c83",
   "metadata": {},
   "source": [
    "<b> All the missing customers are not members of Loyalty program.."
   ]
  },
  {
   "cell_type": "code",
   "execution_count": 22,
   "id": "0475cebe",
   "metadata": {},
   "outputs": [
    {
     "data": {
      "text/html": [
       "<div>\n",
       "<style scoped>\n",
       "    .dataframe tbody tr th:only-of-type {\n",
       "        vertical-align: middle;\n",
       "    }\n",
       "\n",
       "    .dataframe tbody tr th {\n",
       "        vertical-align: top;\n",
       "    }\n",
       "\n",
       "    .dataframe thead th {\n",
       "        text-align: right;\n",
       "    }\n",
       "</style>\n",
       "<table border=\"1\" class=\"dataframe\">\n",
       "  <thead>\n",
       "    <tr style=\"text-align: right;\">\n",
       "      <th></th>\n",
       "      <th>Purchase_id</th>\n",
       "      <th>Item_id</th>\n",
       "      <th>Quantity</th>\n",
       "      <th>Purchase_date</th>\n",
       "      <th>Customer_id</th>\n",
       "      <th>Loyalty_program</th>\n",
       "      <th>Shop_id</th>\n",
       "    </tr>\n",
       "  </thead>\n",
       "  <tbody>\n",
       "    <tr>\n",
       "      <th>86486</th>\n",
       "      <td>536414</td>\n",
       "      <td>22139</td>\n",
       "      <td>55</td>\n",
       "      <td>2016-12-01 11:52:00</td>\n",
       "      <td>NaN</td>\n",
       "      <td>0</td>\n",
       "      <td>Shop 0</td>\n",
       "    </tr>\n",
       "    <tr>\n",
       "      <th>92419</th>\n",
       "      <td>536544</td>\n",
       "      <td>22633</td>\n",
       "      <td>2</td>\n",
       "      <td>2016-12-01 14:32:00</td>\n",
       "      <td>NaN</td>\n",
       "      <td>0</td>\n",
       "      <td>Shop 0</td>\n",
       "    </tr>\n",
       "    <tr>\n",
       "      <th>71571</th>\n",
       "      <td>536544</td>\n",
       "      <td>21369</td>\n",
       "      <td>0</td>\n",
       "      <td>2016-12-01 14:32:00</td>\n",
       "      <td>NaN</td>\n",
       "      <td>0</td>\n",
       "      <td>Shop 0</td>\n",
       "    </tr>\n",
       "    <tr>\n",
       "      <th>101721</th>\n",
       "      <td>536544</td>\n",
       "      <td>22069</td>\n",
       "      <td>0</td>\n",
       "      <td>2016-12-01 14:32:00</td>\n",
       "      <td>NaN</td>\n",
       "      <td>0</td>\n",
       "      <td>Shop 0</td>\n",
       "    </tr>\n",
       "    <tr>\n",
       "      <th>21527</th>\n",
       "      <td>536544</td>\n",
       "      <td>17012B</td>\n",
       "      <td>1</td>\n",
       "      <td>2016-12-01 14:32:00</td>\n",
       "      <td>NaN</td>\n",
       "      <td>0</td>\n",
       "      <td>Shop 0</td>\n",
       "    </tr>\n",
       "    <tr>\n",
       "      <th>92288</th>\n",
       "      <td>536544</td>\n",
       "      <td>22300</td>\n",
       "      <td>0</td>\n",
       "      <td>2016-12-01 14:32:00</td>\n",
       "      <td>NaN</td>\n",
       "      <td>0</td>\n",
       "      <td>Shop 0</td>\n",
       "    </tr>\n",
       "    <tr>\n",
       "      <th>62000</th>\n",
       "      <td>536544</td>\n",
       "      <td>22664</td>\n",
       "      <td>3</td>\n",
       "      <td>2016-12-01 14:32:00</td>\n",
       "      <td>NaN</td>\n",
       "      <td>0</td>\n",
       "      <td>Shop 0</td>\n",
       "    </tr>\n",
       "    <tr>\n",
       "      <th>13595</th>\n",
       "      <td>536544</td>\n",
       "      <td>22605</td>\n",
       "      <td>0</td>\n",
       "      <td>2016-12-01 14:32:00</td>\n",
       "      <td>NaN</td>\n",
       "      <td>0</td>\n",
       "      <td>Shop 0</td>\n",
       "    </tr>\n",
       "    <tr>\n",
       "      <th>17098</th>\n",
       "      <td>536544</td>\n",
       "      <td>21328</td>\n",
       "      <td>1</td>\n",
       "      <td>2016-12-01 14:32:00</td>\n",
       "      <td>NaN</td>\n",
       "      <td>0</td>\n",
       "      <td>Shop 0</td>\n",
       "    </tr>\n",
       "    <tr>\n",
       "      <th>86627</th>\n",
       "      <td>536544</td>\n",
       "      <td>22107</td>\n",
       "      <td>0</td>\n",
       "      <td>2016-12-01 14:32:00</td>\n",
       "      <td>NaN</td>\n",
       "      <td>0</td>\n",
       "      <td>Shop 0</td>\n",
       "    </tr>\n",
       "  </tbody>\n",
       "</table>\n",
       "</div>"
      ],
      "text/plain": [
       "       Purchase_id Item_id  Quantity       Purchase_date  Customer_id  \\\n",
       "86486       536414   22139        55 2016-12-01 11:52:00          NaN   \n",
       "92419       536544   22633         2 2016-12-01 14:32:00          NaN   \n",
       "71571       536544   21369         0 2016-12-01 14:32:00          NaN   \n",
       "101721      536544   22069         0 2016-12-01 14:32:00          NaN   \n",
       "21527       536544  17012B         1 2016-12-01 14:32:00          NaN   \n",
       "92288       536544   22300         0 2016-12-01 14:32:00          NaN   \n",
       "62000       536544   22664         3 2016-12-01 14:32:00          NaN   \n",
       "13595       536544   22605         0 2016-12-01 14:32:00          NaN   \n",
       "17098       536544   21328         1 2016-12-01 14:32:00          NaN   \n",
       "86627       536544   22107         0 2016-12-01 14:32:00          NaN   \n",
       "\n",
       "       Loyalty_program Shop_id  \n",
       "86486                0  Shop 0  \n",
       "92419                0  Shop 0  \n",
       "71571                0  Shop 0  \n",
       "101721               0  Shop 0  \n",
       "21527                0  Shop 0  \n",
       "92288                0  Shop 0  \n",
       "62000                0  Shop 0  \n",
       "13595                0  Shop 0  \n",
       "17098                0  Shop 0  \n",
       "86627                0  Shop 0  "
      ]
     },
     "execution_count": 22,
     "metadata": {},
     "output_type": "execute_result"
    }
   ],
   "source": [
    "#checking the missing customer_id by days\n",
    "missing_customer_df.sort_values(by='Purchase_date').head(10)"
   ]
  },
  {
   "cell_type": "code",
   "execution_count": 23,
   "id": "89c07af8",
   "metadata": {},
   "outputs": [
    {
     "data": {
      "text/html": [
       "<div>\n",
       "<style scoped>\n",
       "    .dataframe tbody tr th:only-of-type {\n",
       "        vertical-align: middle;\n",
       "    }\n",
       "\n",
       "    .dataframe tbody tr th {\n",
       "        vertical-align: top;\n",
       "    }\n",
       "\n",
       "    .dataframe thead th {\n",
       "        text-align: right;\n",
       "    }\n",
       "</style>\n",
       "<table border=\"1\" class=\"dataframe\">\n",
       "  <thead>\n",
       "    <tr style=\"text-align: right;\">\n",
       "      <th></th>\n",
       "      <th>Purchase_id</th>\n",
       "      <th>Item_id</th>\n",
       "      <th>Quantity</th>\n",
       "      <th>Purchase_date</th>\n",
       "      <th>Customer_id</th>\n",
       "      <th>Loyalty_program</th>\n",
       "      <th>Shop_id</th>\n",
       "    </tr>\n",
       "  </thead>\n",
       "  <tbody>\n",
       "    <tr>\n",
       "      <th>32942</th>\n",
       "      <td>536365</td>\n",
       "      <td>71053</td>\n",
       "      <td>5</td>\n",
       "      <td>2016-12-01 08:26:00</td>\n",
       "      <td>23529.0</td>\n",
       "      <td>1</td>\n",
       "      <td>Shop 27</td>\n",
       "    </tr>\n",
       "    <tr>\n",
       "      <th>32454</th>\n",
       "      <td>536365</td>\n",
       "      <td>21730</td>\n",
       "      <td>5</td>\n",
       "      <td>2016-12-01 08:26:00</td>\n",
       "      <td>23529.0</td>\n",
       "      <td>1</td>\n",
       "      <td>Shop 27</td>\n",
       "    </tr>\n",
       "    <tr>\n",
       "      <th>69816</th>\n",
       "      <td>536365</td>\n",
       "      <td>84406B</td>\n",
       "      <td>7</td>\n",
       "      <td>2016-12-01 08:26:00</td>\n",
       "      <td>23529.0</td>\n",
       "      <td>1</td>\n",
       "      <td>Shop 27</td>\n",
       "    </tr>\n",
       "    <tr>\n",
       "      <th>73410</th>\n",
       "      <td>536365</td>\n",
       "      <td>84029G</td>\n",
       "      <td>5</td>\n",
       "      <td>2016-12-01 08:26:00</td>\n",
       "      <td>23529.0</td>\n",
       "      <td>1</td>\n",
       "      <td>Shop 27</td>\n",
       "    </tr>\n",
       "    <tr>\n",
       "      <th>85802</th>\n",
       "      <td>536365</td>\n",
       "      <td>22752</td>\n",
       "      <td>1</td>\n",
       "      <td>2016-12-01 08:26:00</td>\n",
       "      <td>23529.0</td>\n",
       "      <td>1</td>\n",
       "      <td>Shop 27</td>\n",
       "    </tr>\n",
       "  </tbody>\n",
       "</table>\n",
       "</div>"
      ],
      "text/plain": [
       "      Purchase_id Item_id  Quantity       Purchase_date  Customer_id  \\\n",
       "32942      536365   71053         5 2016-12-01 08:26:00      23529.0   \n",
       "32454      536365   21730         5 2016-12-01 08:26:00      23529.0   \n",
       "69816      536365  84406B         7 2016-12-01 08:26:00      23529.0   \n",
       "73410      536365  84029G         5 2016-12-01 08:26:00      23529.0   \n",
       "85802      536365   22752         1 2016-12-01 08:26:00      23529.0   \n",
       "\n",
       "      Loyalty_program  Shop_id  \n",
       "32942               1  Shop 27  \n",
       "32454               1  Shop 27  \n",
       "69816               1  Shop 27  \n",
       "73410               1  Shop 27  \n",
       "85802               1  Shop 27  "
      ]
     },
     "execution_count": 23,
     "metadata": {},
     "output_type": "execute_result"
    }
   ],
   "source": [
    "retail_df.sort_values(by='Purchase_date').head()"
   ]
  },
  {
   "cell_type": "code",
   "execution_count": 24,
   "id": "fa3d52b2",
   "metadata": {},
   "outputs": [
    {
     "data": {
      "text/html": [
       "<div>\n",
       "<style scoped>\n",
       "    .dataframe tbody tr th:only-of-type {\n",
       "        vertical-align: middle;\n",
       "    }\n",
       "\n",
       "    .dataframe tbody tr th {\n",
       "        vertical-align: top;\n",
       "    }\n",
       "\n",
       "    .dataframe thead th {\n",
       "        text-align: right;\n",
       "    }\n",
       "</style>\n",
       "<table border=\"1\" class=\"dataframe\">\n",
       "  <thead>\n",
       "    <tr style=\"text-align: right;\">\n",
       "      <th></th>\n",
       "      <th>Purchase_date</th>\n",
       "      <th>Purchase_id</th>\n",
       "    </tr>\n",
       "  </thead>\n",
       "  <tbody>\n",
       "    <tr>\n",
       "      <th>0</th>\n",
       "      <td>2016-12-01 11:52:00</td>\n",
       "      <td>1</td>\n",
       "    </tr>\n",
       "    <tr>\n",
       "      <th>1</th>\n",
       "      <td>2016-12-01 14:32:00</td>\n",
       "      <td>2</td>\n",
       "    </tr>\n",
       "    <tr>\n",
       "      <th>2</th>\n",
       "      <td>2016-12-01 14:33:00</td>\n",
       "      <td>2</td>\n",
       "    </tr>\n",
       "    <tr>\n",
       "      <th>3</th>\n",
       "      <td>2016-12-01 14:34:00</td>\n",
       "      <td>3</td>\n",
       "    </tr>\n",
       "    <tr>\n",
       "      <th>4</th>\n",
       "      <td>2016-12-01 14:35:00</td>\n",
       "      <td>2</td>\n",
       "    </tr>\n",
       "  </tbody>\n",
       "</table>\n",
       "</div>"
      ],
      "text/plain": [
       "        Purchase_date  Purchase_id\n",
       "0 2016-12-01 11:52:00            1\n",
       "1 2016-12-01 14:32:00            2\n",
       "2 2016-12-01 14:33:00            2\n",
       "3 2016-12-01 14:34:00            3\n",
       "4 2016-12-01 14:35:00            2"
      ]
     },
     "execution_count": 24,
     "metadata": {},
     "output_type": "execute_result"
    }
   ],
   "source": [
    "#purchases made by missing customer\n",
    "missing_customer_pivot=missing_customer_df.pivot_table(index=['Purchase_date'],values='Purchase_id',aggfunc='nunique').reset_index()\n",
    "missing_customer_pivot.head()"
   ]
  },
  {
   "cell_type": "code",
   "execution_count": 25,
   "id": "d778fdca",
   "metadata": {},
   "outputs": [
    {
     "data": {
      "text/html": [
       "<div>\n",
       "<style scoped>\n",
       "    .dataframe tbody tr th:only-of-type {\n",
       "        vertical-align: middle;\n",
       "    }\n",
       "\n",
       "    .dataframe tbody tr th {\n",
       "        vertical-align: top;\n",
       "    }\n",
       "\n",
       "    .dataframe thead th {\n",
       "        text-align: right;\n",
       "    }\n",
       "</style>\n",
       "<table border=\"1\" class=\"dataframe\">\n",
       "  <thead>\n",
       "    <tr style=\"text-align: right;\">\n",
       "      <th></th>\n",
       "      <th>Purchase_id</th>\n",
       "      <th>Item_id</th>\n",
       "      <th>Quantity</th>\n",
       "      <th>Purchase_date</th>\n",
       "      <th>Customer_id</th>\n",
       "      <th>Loyalty_program</th>\n",
       "      <th>Shop_id</th>\n",
       "    </tr>\n",
       "  </thead>\n",
       "  <tbody>\n",
       "  </tbody>\n",
       "</table>\n",
       "</div>"
      ],
      "text/plain": [
       "Empty DataFrame\n",
       "Columns: [Purchase_id, Item_id, Quantity, Purchase_date, Customer_id, Loyalty_program, Shop_id]\n",
       "Index: []"
      ]
     },
     "execution_count": 25,
     "metadata": {},
     "output_type": "execute_result"
    }
   ],
   "source": [
    "missing_customer_df[missing_customer_df['Loyalty_program']==1]"
   ]
  },
  {
   "cell_type": "code",
   "execution_count": 26,
   "id": "12e2137d",
   "metadata": {},
   "outputs": [
    {
     "data": {
      "text/plain": [
       "748"
      ]
     },
     "execution_count": 26,
     "metadata": {},
     "output_type": "execute_result"
    }
   ],
   "source": [
    "#checking the unique purchase_id in missing\n",
    "retail_df[retail_df['Customer_id'].isna()]['Purchase_id'].nunique()"
   ]
  },
  {
   "cell_type": "markdown",
   "id": "2d3e6a96",
   "metadata": {},
   "source": [
    "<b>Count of Customer_id missing is not more than 748(less than or equal to ) who contributes  to 36210 records.."
   ]
  },
  {
   "cell_type": "code",
   "execution_count": 27,
   "id": "e398a6ed",
   "metadata": {},
   "outputs": [],
   "source": [
    "#filling missing customer_id if it shares same 'purchase_id' with customer_id \n",
    "retail_df['Customer_id']=retail_df['Customer_id'].fillna(retail_df.groupby('Purchase_id')['Customer_id'].transform('first'))"
   ]
  },
  {
   "cell_type": "code",
   "execution_count": 28,
   "id": "8ee79f99",
   "metadata": {},
   "outputs": [
    {
     "name": "stdout",
     "output_type": "stream",
     "text": [
      "<class 'pandas.core.frame.DataFrame'>\n",
      "Int64Index: 104302 entries, 0 to 105334\n",
      "Data columns (total 7 columns):\n",
      " #   Column           Non-Null Count   Dtype         \n",
      "---  ------           --------------   -----         \n",
      " 0   Purchase_id      104302 non-null  object        \n",
      " 1   Item_id          104302 non-null  object        \n",
      " 2   Quantity         104302 non-null  int64         \n",
      " 3   Purchase_date    104302 non-null  datetime64[ns]\n",
      " 4   Customer_id      68154 non-null   float64       \n",
      " 5   Loyalty_program  104302 non-null  category      \n",
      " 6   Shop_id          104302 non-null  object        \n",
      "dtypes: category(1), datetime64[ns](1), float64(1), int64(1), object(3)\n",
      "memory usage: 5.7+ MB\n"
     ]
    }
   ],
   "source": [
    "retail_df.info()"
   ]
  },
  {
   "cell_type": "markdown",
   "id": "0c1cfbda",
   "metadata": {},
   "source": [
    "<b>No change in count of Customer_id.."
   ]
  },
  {
   "cell_type": "code",
   "execution_count": 29,
   "id": "f6e3e403",
   "metadata": {},
   "outputs": [
    {
     "data": {
      "text/html": [
       "<div>\n",
       "<style scoped>\n",
       "    .dataframe tbody tr th:only-of-type {\n",
       "        vertical-align: middle;\n",
       "    }\n",
       "\n",
       "    .dataframe tbody tr th {\n",
       "        vertical-align: top;\n",
       "    }\n",
       "\n",
       "    .dataframe thead th {\n",
       "        text-align: right;\n",
       "    }\n",
       "</style>\n",
       "<table border=\"1\" class=\"dataframe\">\n",
       "  <thead>\n",
       "    <tr style=\"text-align: right;\">\n",
       "      <th></th>\n",
       "      <th>productID</th>\n",
       "      <th>price_per_one</th>\n",
       "    </tr>\n",
       "  </thead>\n",
       "  <tbody>\n",
       "    <tr>\n",
       "      <th>3154</th>\n",
       "      <td>gift_0001_20</td>\n",
       "      <td>16.67</td>\n",
       "    </tr>\n",
       "    <tr>\n",
       "      <th>3155</th>\n",
       "      <td>gift_0001_30</td>\n",
       "      <td>25.00</td>\n",
       "    </tr>\n",
       "    <tr>\n",
       "      <th>3156</th>\n",
       "      <td>gift_0001_40</td>\n",
       "      <td>34.04</td>\n",
       "    </tr>\n",
       "    <tr>\n",
       "      <th>3157</th>\n",
       "      <td>gift_0001_50</td>\n",
       "      <td>42.55</td>\n",
       "    </tr>\n",
       "    <tr>\n",
       "      <th>3158</th>\n",
       "      <td>m</td>\n",
       "      <td>2.55</td>\n",
       "    </tr>\n",
       "  </tbody>\n",
       "</table>\n",
       "</div>"
      ],
      "text/plain": [
       "         productID  price_per_one\n",
       "3154  gift_0001_20          16.67\n",
       "3155  gift_0001_30          25.00\n",
       "3156  gift_0001_40          34.04\n",
       "3157  gift_0001_50          42.55\n",
       "3158             m           2.55"
      ]
     },
     "execution_count": 29,
     "metadata": {},
     "output_type": "execute_result"
    }
   ],
   "source": [
    "#download the product code dataset\n",
    "product_df=pd.read_csv('product_codes_us.csv',sep=';')\n",
    "product_df.tail()"
   ]
  },
  {
   "cell_type": "code",
   "execution_count": 30,
   "id": "2bada98c",
   "metadata": {},
   "outputs": [
    {
     "name": "stdout",
     "output_type": "stream",
     "text": [
      "<class 'pandas.core.frame.DataFrame'>\n",
      "RangeIndex: 3159 entries, 0 to 3158\n",
      "Data columns (total 2 columns):\n",
      " #   Column         Non-Null Count  Dtype  \n",
      "---  ------         --------------  -----  \n",
      " 0   productID      3159 non-null   object \n",
      " 1   price_per_one  3159 non-null   float64\n",
      "dtypes: float64(1), object(1)\n",
      "memory usage: 49.5+ KB\n"
     ]
    }
   ],
   "source": [
    "product_df.info()"
   ]
  },
  {
   "cell_type": "code",
   "execution_count": 31,
   "id": "622e1238",
   "metadata": {},
   "outputs": [
    {
     "data": {
      "text/plain": [
       "0"
      ]
     },
     "execution_count": 31,
     "metadata": {},
     "output_type": "execute_result"
    }
   ],
   "source": [
    "product_df.duplicated().sum()"
   ]
  },
  {
   "cell_type": "markdown",
   "id": "5dcc9e04",
   "metadata": {},
   "source": [
    "<b>No missing values and duplicates in product dataset."
   ]
  },
  {
   "cell_type": "code",
   "execution_count": 32,
   "id": "e7fc66fc",
   "metadata": {},
   "outputs": [
    {
     "name": "stdout",
     "output_type": "stream",
     "text": [
      "<class 'pandas.core.frame.DataFrame'>\n",
      "RangeIndex: 3159 entries, 0 to 3158\n",
      "Data columns (total 2 columns):\n",
      " #   Column         Non-Null Count  Dtype  \n",
      "---  ------         --------------  -----  \n",
      " 0   Item_id        3159 non-null   object \n",
      " 1   Price_per_one  3159 non-null   float64\n",
      "dtypes: float64(1), object(1)\n",
      "memory usage: 49.5+ KB\n"
     ]
    }
   ],
   "source": [
    "#rename columns for uniformity\n",
    "product_df=product_df.rename(columns={'productID':'Item_id','price_per_one':'Price_per_one'})\n",
    "product_df.info()"
   ]
  },
  {
   "cell_type": "code",
   "execution_count": 33,
   "id": "d75428b9",
   "metadata": {},
   "outputs": [
    {
     "data": {
      "text/plain": [
       "10002     1\n",
       "72132     1\n",
       "72134     1\n",
       "72140E    1\n",
       "72225C    1\n",
       "         ..\n",
       "22164     1\n",
       "22165     1\n",
       "22166     1\n",
       "22167     1\n",
       "m         1\n",
       "Name: Item_id, Length: 3159, dtype: int64"
      ]
     },
     "execution_count": 33,
     "metadata": {},
     "output_type": "execute_result"
    }
   ],
   "source": [
    "product_df['Item_id'].value_counts()"
   ]
  },
  {
   "cell_type": "code",
   "execution_count": 34,
   "id": "199ceb8f",
   "metadata": {},
   "outputs": [
    {
     "data": {
      "text/html": [
       "<div>\n",
       "<style scoped>\n",
       "    .dataframe tbody tr th:only-of-type {\n",
       "        vertical-align: middle;\n",
       "    }\n",
       "\n",
       "    .dataframe tbody tr th {\n",
       "        vertical-align: top;\n",
       "    }\n",
       "\n",
       "    .dataframe thead th {\n",
       "        text-align: right;\n",
       "    }\n",
       "</style>\n",
       "<table border=\"1\" class=\"dataframe\">\n",
       "  <thead>\n",
       "    <tr style=\"text-align: right;\">\n",
       "      <th></th>\n",
       "      <th>Purchase_id</th>\n",
       "      <th>Item_id</th>\n",
       "      <th>Quantity</th>\n",
       "      <th>Purchase_date</th>\n",
       "      <th>Customer_id</th>\n",
       "      <th>Loyalty_program</th>\n",
       "      <th>Shop_id</th>\n",
       "      <th>Price_per_one</th>\n",
       "    </tr>\n",
       "  </thead>\n",
       "  <tbody>\n",
       "    <tr>\n",
       "      <th>0</th>\n",
       "      <td>538280</td>\n",
       "      <td>21873</td>\n",
       "      <td>11</td>\n",
       "      <td>2016-12-10 12:50:00</td>\n",
       "      <td>18427.0</td>\n",
       "      <td>0</td>\n",
       "      <td>Shop 3</td>\n",
       "      <td>0.42</td>\n",
       "    </tr>\n",
       "    <tr>\n",
       "      <th>1</th>\n",
       "      <td>541104</td>\n",
       "      <td>21873</td>\n",
       "      <td>0</td>\n",
       "      <td>2017-01-13 14:29:00</td>\n",
       "      <td>NaN</td>\n",
       "      <td>0</td>\n",
       "      <td>Shop 0</td>\n",
       "      <td>0.42</td>\n",
       "    </tr>\n",
       "    <tr>\n",
       "      <th>2</th>\n",
       "      <td>540418</td>\n",
       "      <td>21873</td>\n",
       "      <td>1</td>\n",
       "      <td>2017-01-07 11:04:00</td>\n",
       "      <td>NaN</td>\n",
       "      <td>0</td>\n",
       "      <td>Shop 0</td>\n",
       "      <td>0.42</td>\n",
       "    </tr>\n",
       "    <tr>\n",
       "      <th>3</th>\n",
       "      <td>541516</td>\n",
       "      <td>21873</td>\n",
       "      <td>2</td>\n",
       "      <td>2017-01-18 17:34:00</td>\n",
       "      <td>NaN</td>\n",
       "      <td>0</td>\n",
       "      <td>Shop 0</td>\n",
       "      <td>0.42</td>\n",
       "    </tr>\n",
       "    <tr>\n",
       "      <th>4</th>\n",
       "      <td>541566</td>\n",
       "      <td>21873</td>\n",
       "      <td>35</td>\n",
       "      <td>2017-01-19 11:50:00</td>\n",
       "      <td>23401.0</td>\n",
       "      <td>1</td>\n",
       "      <td>Shop 22</td>\n",
       "      <td>0.42</td>\n",
       "    </tr>\n",
       "  </tbody>\n",
       "</table>\n",
       "</div>"
      ],
      "text/plain": [
       "  Purchase_id Item_id  Quantity       Purchase_date  Customer_id  \\\n",
       "0      538280   21873        11 2016-12-10 12:50:00      18427.0   \n",
       "1      541104   21873         0 2017-01-13 14:29:00          NaN   \n",
       "2      540418   21873         1 2017-01-07 11:04:00          NaN   \n",
       "3      541516   21873         2 2017-01-18 17:34:00          NaN   \n",
       "4      541566   21873        35 2017-01-19 11:50:00      23401.0   \n",
       "\n",
       "  Loyalty_program  Shop_id  Price_per_one  \n",
       "0               0   Shop 3           0.42  \n",
       "1               0   Shop 0           0.42  \n",
       "2               0   Shop 0           0.42  \n",
       "3               0   Shop 0           0.42  \n",
       "4               1  Shop 22           0.42  "
      ]
     },
     "execution_count": 34,
     "metadata": {},
     "output_type": "execute_result"
    }
   ],
   "source": [
    "#merge price_per_one column to retail dataset based on item_id\n",
    "retail_df=pd.merge(retail_df,product_df,on='Item_id')\n",
    "retail_df.head()"
   ]
  },
  {
   "cell_type": "code",
   "execution_count": 35,
   "id": "c29c6a70",
   "metadata": {},
   "outputs": [
    {
     "data": {
      "text/plain": [
       "0"
      ]
     },
     "execution_count": 35,
     "metadata": {},
     "output_type": "execute_result"
    }
   ],
   "source": [
    "#check for duplicates\n",
    "retail_df.duplicated().sum()"
   ]
  },
  {
   "cell_type": "code",
   "execution_count": 36,
   "id": "855460e6",
   "metadata": {},
   "outputs": [
    {
     "data": {
      "text/html": [
       "<div>\n",
       "<style scoped>\n",
       "    .dataframe tbody tr th:only-of-type {\n",
       "        vertical-align: middle;\n",
       "    }\n",
       "\n",
       "    .dataframe tbody tr th {\n",
       "        vertical-align: top;\n",
       "    }\n",
       "\n",
       "    .dataframe thead th {\n",
       "        text-align: right;\n",
       "    }\n",
       "</style>\n",
       "<table border=\"1\" class=\"dataframe\">\n",
       "  <thead>\n",
       "    <tr style=\"text-align: right;\">\n",
       "      <th></th>\n",
       "      <th>Purchase_id</th>\n",
       "      <th>Item_id</th>\n",
       "      <th>Quantity</th>\n",
       "      <th>Purchase_date</th>\n",
       "      <th>Customer_id</th>\n",
       "      <th>Loyalty_program</th>\n",
       "      <th>Shop_id</th>\n",
       "      <th>Price_per_one</th>\n",
       "    </tr>\n",
       "  </thead>\n",
       "  <tbody>\n",
       "    <tr>\n",
       "      <th>96729</th>\n",
       "      <td>536365</td>\n",
       "      <td>21730</td>\n",
       "      <td>5</td>\n",
       "      <td>2016-12-01 08:26:00</td>\n",
       "      <td>23529.0</td>\n",
       "      <td>1</td>\n",
       "      <td>Shop 27</td>\n",
       "      <td>4.25</td>\n",
       "    </tr>\n",
       "    <tr>\n",
       "      <th>39365</th>\n",
       "      <td>536365</td>\n",
       "      <td>22752</td>\n",
       "      <td>1</td>\n",
       "      <td>2016-12-01 08:26:00</td>\n",
       "      <td>23529.0</td>\n",
       "      <td>1</td>\n",
       "      <td>Shop 27</td>\n",
       "      <td>7.65</td>\n",
       "    </tr>\n",
       "    <tr>\n",
       "      <th>71787</th>\n",
       "      <td>536365</td>\n",
       "      <td>71053</td>\n",
       "      <td>5</td>\n",
       "      <td>2016-12-01 08:26:00</td>\n",
       "      <td>23529.0</td>\n",
       "      <td>1</td>\n",
       "      <td>Shop 27</td>\n",
       "      <td>3.39</td>\n",
       "    </tr>\n",
       "    <tr>\n",
       "      <th>15930</th>\n",
       "      <td>536365</td>\n",
       "      <td>84029E</td>\n",
       "      <td>5</td>\n",
       "      <td>2016-12-01 08:26:00</td>\n",
       "      <td>23529.0</td>\n",
       "      <td>1</td>\n",
       "      <td>Shop 27</td>\n",
       "      <td>0.00</td>\n",
       "    </tr>\n",
       "    <tr>\n",
       "      <th>23954</th>\n",
       "      <td>536365</td>\n",
       "      <td>84029G</td>\n",
       "      <td>5</td>\n",
       "      <td>2016-12-01 08:26:00</td>\n",
       "      <td>23529.0</td>\n",
       "      <td>1</td>\n",
       "      <td>Shop 27</td>\n",
       "      <td>3.39</td>\n",
       "    </tr>\n",
       "  </tbody>\n",
       "</table>\n",
       "</div>"
      ],
      "text/plain": [
       "      Purchase_id Item_id  Quantity       Purchase_date  Customer_id  \\\n",
       "96729      536365   21730         5 2016-12-01 08:26:00      23529.0   \n",
       "39365      536365   22752         1 2016-12-01 08:26:00      23529.0   \n",
       "71787      536365   71053         5 2016-12-01 08:26:00      23529.0   \n",
       "15930      536365  84029E         5 2016-12-01 08:26:00      23529.0   \n",
       "23954      536365  84029G         5 2016-12-01 08:26:00      23529.0   \n",
       "\n",
       "      Loyalty_program  Shop_id  Price_per_one  \n",
       "96729               1  Shop 27           4.25  \n",
       "39365               1  Shop 27           7.65  \n",
       "71787               1  Shop 27           3.39  \n",
       "15930               1  Shop 27           0.00  \n",
       "23954               1  Shop 27           3.39  "
      ]
     },
     "execution_count": 36,
     "metadata": {},
     "output_type": "execute_result"
    }
   ],
   "source": [
    "#Analysing data\n",
    "retail_df[retail_df['Customer_id']==23529.0].sort_values(by=['Purchase_date','Item_id']).head()"
   ]
  },
  {
   "cell_type": "code",
   "execution_count": 37,
   "id": "5e01b34f",
   "metadata": {},
   "outputs": [
    {
     "data": {
      "text/html": [
       "<div>\n",
       "<style scoped>\n",
       "    .dataframe tbody tr th:only-of-type {\n",
       "        vertical-align: middle;\n",
       "    }\n",
       "\n",
       "    .dataframe tbody tr th {\n",
       "        vertical-align: top;\n",
       "    }\n",
       "\n",
       "    .dataframe thead th {\n",
       "        text-align: right;\n",
       "    }\n",
       "</style>\n",
       "<table border=\"1\" class=\"dataframe\">\n",
       "  <thead>\n",
       "    <tr style=\"text-align: right;\">\n",
       "      <th></th>\n",
       "      <th>Purchase_id</th>\n",
       "      <th>Item_id</th>\n",
       "      <th>Quantity</th>\n",
       "      <th>Purchase_date</th>\n",
       "      <th>Customer_id</th>\n",
       "      <th>Loyalty_program</th>\n",
       "      <th>Shop_id</th>\n",
       "      <th>Price_per_one</th>\n",
       "    </tr>\n",
       "  </thead>\n",
       "  <tbody>\n",
       "    <tr>\n",
       "      <th>70647</th>\n",
       "      <td>540992</td>\n",
       "      <td>18098C</td>\n",
       "      <td>2</td>\n",
       "      <td>2017-01-12 16:57:00</td>\n",
       "      <td>23043.0</td>\n",
       "      <td>1</td>\n",
       "      <td>Shop 9</td>\n",
       "      <td>0.00</td>\n",
       "    </tr>\n",
       "    <tr>\n",
       "      <th>68054</th>\n",
       "      <td>540992</td>\n",
       "      <td>21058</td>\n",
       "      <td>0</td>\n",
       "      <td>2017-01-12 16:57:00</td>\n",
       "      <td>23043.0</td>\n",
       "      <td>1</td>\n",
       "      <td>Shop 9</td>\n",
       "      <td>0.72</td>\n",
       "    </tr>\n",
       "    <tr>\n",
       "      <th>68057</th>\n",
       "      <td>540992</td>\n",
       "      <td>21058</td>\n",
       "      <td>5</td>\n",
       "      <td>2017-01-12 16:57:00</td>\n",
       "      <td>23043.0</td>\n",
       "      <td>1</td>\n",
       "      <td>Shop 9</td>\n",
       "      <td>0.72</td>\n",
       "    </tr>\n",
       "    <tr>\n",
       "      <th>82557</th>\n",
       "      <td>540992</td>\n",
       "      <td>21062</td>\n",
       "      <td>3</td>\n",
       "      <td>2017-01-12 16:57:00</td>\n",
       "      <td>23043.0</td>\n",
       "      <td>1</td>\n",
       "      <td>Shop 9</td>\n",
       "      <td>0.85</td>\n",
       "    </tr>\n",
       "    <tr>\n",
       "      <th>6080</th>\n",
       "      <td>540992</td>\n",
       "      <td>21063</td>\n",
       "      <td>2</td>\n",
       "      <td>2017-01-12 16:57:00</td>\n",
       "      <td>23043.0</td>\n",
       "      <td>1</td>\n",
       "      <td>Shop 9</td>\n",
       "      <td>0.85</td>\n",
       "    </tr>\n",
       "    <tr>\n",
       "      <th>6839</th>\n",
       "      <td>540992</td>\n",
       "      <td>21212</td>\n",
       "      <td>3</td>\n",
       "      <td>2017-01-12 16:57:00</td>\n",
       "      <td>23043.0</td>\n",
       "      <td>1</td>\n",
       "      <td>Shop 9</td>\n",
       "      <td>0.40</td>\n",
       "    </tr>\n",
       "    <tr>\n",
       "      <th>60486</th>\n",
       "      <td>540992</td>\n",
       "      <td>21217</td>\n",
       "      <td>0</td>\n",
       "      <td>2017-01-12 16:57:00</td>\n",
       "      <td>23043.0</td>\n",
       "      <td>1</td>\n",
       "      <td>Shop 9</td>\n",
       "      <td>8.95</td>\n",
       "    </tr>\n",
       "    <tr>\n",
       "      <th>60432</th>\n",
       "      <td>540992</td>\n",
       "      <td>21326</td>\n",
       "      <td>11</td>\n",
       "      <td>2017-01-12 16:57:00</td>\n",
       "      <td>23043.0</td>\n",
       "      <td>1</td>\n",
       "      <td>Shop 9</td>\n",
       "      <td>0.55</td>\n",
       "    </tr>\n",
       "    <tr>\n",
       "      <th>51188</th>\n",
       "      <td>540992</td>\n",
       "      <td>21327</td>\n",
       "      <td>2</td>\n",
       "      <td>2017-01-12 16:57:00</td>\n",
       "      <td>23043.0</td>\n",
       "      <td>1</td>\n",
       "      <td>Shop 9</td>\n",
       "      <td>1.65</td>\n",
       "    </tr>\n",
       "    <tr>\n",
       "      <th>13085</th>\n",
       "      <td>540992</td>\n",
       "      <td>21328</td>\n",
       "      <td>2</td>\n",
       "      <td>2017-01-12 16:57:00</td>\n",
       "      <td>23043.0</td>\n",
       "      <td>1</td>\n",
       "      <td>Shop 9</td>\n",
       "      <td>1.65</td>\n",
       "    </tr>\n",
       "  </tbody>\n",
       "</table>\n",
       "</div>"
      ],
      "text/plain": [
       "      Purchase_id Item_id  Quantity       Purchase_date  Customer_id  \\\n",
       "70647      540992  18098C         2 2017-01-12 16:57:00      23043.0   \n",
       "68054      540992   21058         0 2017-01-12 16:57:00      23043.0   \n",
       "68057      540992   21058         5 2017-01-12 16:57:00      23043.0   \n",
       "82557      540992   21062         3 2017-01-12 16:57:00      23043.0   \n",
       "6080       540992   21063         2 2017-01-12 16:57:00      23043.0   \n",
       "6839       540992   21212         3 2017-01-12 16:57:00      23043.0   \n",
       "60486      540992   21217         0 2017-01-12 16:57:00      23043.0   \n",
       "60432      540992   21326        11 2017-01-12 16:57:00      23043.0   \n",
       "51188      540992   21327         2 2017-01-12 16:57:00      23043.0   \n",
       "13085      540992   21328         2 2017-01-12 16:57:00      23043.0   \n",
       "\n",
       "      Loyalty_program Shop_id  Price_per_one  \n",
       "70647               1  Shop 9           0.00  \n",
       "68054               1  Shop 9           0.72  \n",
       "68057               1  Shop 9           0.72  \n",
       "82557               1  Shop 9           0.85  \n",
       "6080                1  Shop 9           0.85  \n",
       "6839                1  Shop 9           0.40  \n",
       "60486               1  Shop 9           8.95  \n",
       "60432               1  Shop 9           0.55  \n",
       "51188               1  Shop 9           1.65  \n",
       "13085               1  Shop 9           1.65  "
      ]
     },
     "execution_count": 37,
     "metadata": {},
     "output_type": "execute_result"
    }
   ],
   "source": [
    "#Analysing data\n",
    "retail_df[retail_df['Customer_id']==23043.0].sort_values(by=['Purchase_date','Item_id']).head(10)"
   ]
  },
  {
   "cell_type": "code",
   "execution_count": 38,
   "id": "9eb10452",
   "metadata": {},
   "outputs": [
    {
     "data": {
      "text/html": [
       "<div>\n",
       "<style scoped>\n",
       "    .dataframe tbody tr th:only-of-type {\n",
       "        vertical-align: middle;\n",
       "    }\n",
       "\n",
       "    .dataframe tbody tr th {\n",
       "        vertical-align: top;\n",
       "    }\n",
       "\n",
       "    .dataframe thead th {\n",
       "        text-align: right;\n",
       "    }\n",
       "</style>\n",
       "<table border=\"1\" class=\"dataframe\">\n",
       "  <thead>\n",
       "    <tr style=\"text-align: right;\">\n",
       "      <th></th>\n",
       "      <th>Purchase_id</th>\n",
       "      <th>Item_id</th>\n",
       "      <th>Quantity</th>\n",
       "      <th>Purchase_date</th>\n",
       "      <th>Customer_id</th>\n",
       "      <th>Loyalty_program</th>\n",
       "      <th>Shop_id</th>\n",
       "      <th>Price_per_one</th>\n",
       "    </tr>\n",
       "  </thead>\n",
       "  <tbody>\n",
       "    <tr>\n",
       "      <th>72480</th>\n",
       "      <td>536373</td>\n",
       "      <td>37370</td>\n",
       "      <td>5</td>\n",
       "      <td>2016-12-01 09:02:00</td>\n",
       "      <td>23529.0</td>\n",
       "      <td>1</td>\n",
       "      <td>Shop 1</td>\n",
       "      <td>1.06</td>\n",
       "    </tr>\n",
       "    <tr>\n",
       "      <th>80776</th>\n",
       "      <td>536373</td>\n",
       "      <td>82483</td>\n",
       "      <td>1</td>\n",
       "      <td>2016-12-01 09:02:00</td>\n",
       "      <td>23529.0</td>\n",
       "      <td>1</td>\n",
       "      <td>Shop 1</td>\n",
       "      <td>4.95</td>\n",
       "    </tr>\n",
       "    <tr>\n",
       "      <th>8641</th>\n",
       "      <td>536373</td>\n",
       "      <td>85123A</td>\n",
       "      <td>5</td>\n",
       "      <td>2016-12-01 09:02:00</td>\n",
       "      <td>23529.0</td>\n",
       "      <td>1</td>\n",
       "      <td>Shop 1</td>\n",
       "      <td>0.00</td>\n",
       "    </tr>\n",
       "    <tr>\n",
       "      <th>16514</th>\n",
       "      <td>536373</td>\n",
       "      <td>82482</td>\n",
       "      <td>5</td>\n",
       "      <td>2016-12-01 09:02:00</td>\n",
       "      <td>23529.0</td>\n",
       "      <td>1</td>\n",
       "      <td>Shop 1</td>\n",
       "      <td>2.10</td>\n",
       "    </tr>\n",
       "    <tr>\n",
       "      <th>71768</th>\n",
       "      <td>536373</td>\n",
       "      <td>71053</td>\n",
       "      <td>5</td>\n",
       "      <td>2016-12-01 09:02:00</td>\n",
       "      <td>23529.0</td>\n",
       "      <td>1</td>\n",
       "      <td>Shop 1</td>\n",
       "      <td>3.39</td>\n",
       "    </tr>\n",
       "    <tr>\n",
       "      <th>45511</th>\n",
       "      <td>536374</td>\n",
       "      <td>21258</td>\n",
       "      <td>31</td>\n",
       "      <td>2016-12-01 09:09:00</td>\n",
       "      <td>20779.0</td>\n",
       "      <td>0</td>\n",
       "      <td>Shop 8</td>\n",
       "      <td>0.00</td>\n",
       "    </tr>\n",
       "    <tr>\n",
       "      <th>18392</th>\n",
       "      <td>536375</td>\n",
       "      <td>84406B</td>\n",
       "      <td>7</td>\n",
       "      <td>2016-12-01 09:32:00</td>\n",
       "      <td>23529.0</td>\n",
       "      <td>1</td>\n",
       "      <td>Shop 30</td>\n",
       "      <td>0.00</td>\n",
       "    </tr>\n",
       "    <tr>\n",
       "      <th>23861</th>\n",
       "      <td>536375</td>\n",
       "      <td>84029G</td>\n",
       "      <td>5</td>\n",
       "      <td>2016-12-01 09:32:00</td>\n",
       "      <td>23529.0</td>\n",
       "      <td>1</td>\n",
       "      <td>Shop 30</td>\n",
       "      <td>3.39</td>\n",
       "    </tr>\n",
       "    <tr>\n",
       "      <th>39362</th>\n",
       "      <td>536375</td>\n",
       "      <td>22752</td>\n",
       "      <td>1</td>\n",
       "      <td>2016-12-01 09:32:00</td>\n",
       "      <td>23529.0</td>\n",
       "      <td>1</td>\n",
       "      <td>Shop 30</td>\n",
       "      <td>7.65</td>\n",
       "    </tr>\n",
       "    <tr>\n",
       "      <th>8584</th>\n",
       "      <td>536375</td>\n",
       "      <td>85123A</td>\n",
       "      <td>5</td>\n",
       "      <td>2016-12-01 09:32:00</td>\n",
       "      <td>23529.0</td>\n",
       "      <td>1</td>\n",
       "      <td>Shop 30</td>\n",
       "      <td>0.00</td>\n",
       "    </tr>\n",
       "    <tr>\n",
       "      <th>15876</th>\n",
       "      <td>536375</td>\n",
       "      <td>84029E</td>\n",
       "      <td>5</td>\n",
       "      <td>2016-12-01 09:32:00</td>\n",
       "      <td>23529.0</td>\n",
       "      <td>1</td>\n",
       "      <td>Shop 30</td>\n",
       "      <td>0.00</td>\n",
       "    </tr>\n",
       "    <tr>\n",
       "      <th>22498</th>\n",
       "      <td>536375</td>\n",
       "      <td>20679</td>\n",
       "      <td>5</td>\n",
       "      <td>2016-12-01 09:32:00</td>\n",
       "      <td>23529.0</td>\n",
       "      <td>1</td>\n",
       "      <td>Shop 30</td>\n",
       "      <td>4.60</td>\n",
       "    </tr>\n",
       "    <tr>\n",
       "      <th>30476</th>\n",
       "      <td>536375</td>\n",
       "      <td>21068</td>\n",
       "      <td>5</td>\n",
       "      <td>2016-12-01 09:32:00</td>\n",
       "      <td>23529.0</td>\n",
       "      <td>1</td>\n",
       "      <td>Shop 30</td>\n",
       "      <td>1.06</td>\n",
       "    </tr>\n",
       "    <tr>\n",
       "      <th>32049</th>\n",
       "      <td>536375</td>\n",
       "      <td>82486</td>\n",
       "      <td>3</td>\n",
       "      <td>2016-12-01 09:32:00</td>\n",
       "      <td>23529.0</td>\n",
       "      <td>1</td>\n",
       "      <td>Shop 30</td>\n",
       "      <td>6.95</td>\n",
       "    </tr>\n",
       "    <tr>\n",
       "      <th>80718</th>\n",
       "      <td>536375</td>\n",
       "      <td>82483</td>\n",
       "      <td>1</td>\n",
       "      <td>2016-12-01 09:32:00</td>\n",
       "      <td>23529.0</td>\n",
       "      <td>1</td>\n",
       "      <td>Shop 30</td>\n",
       "      <td>4.95</td>\n",
       "    </tr>\n",
       "    <tr>\n",
       "      <th>96733</th>\n",
       "      <td>536375</td>\n",
       "      <td>21730</td>\n",
       "      <td>5</td>\n",
       "      <td>2016-12-01 09:32:00</td>\n",
       "      <td>23529.0</td>\n",
       "      <td>1</td>\n",
       "      <td>Shop 30</td>\n",
       "      <td>4.25</td>\n",
       "    </tr>\n",
       "    <tr>\n",
       "      <th>984</th>\n",
       "      <td>536375</td>\n",
       "      <td>82494L</td>\n",
       "      <td>5</td>\n",
       "      <td>2016-12-01 09:32:00</td>\n",
       "      <td>23529.0</td>\n",
       "      <td>1</td>\n",
       "      <td>Shop 30</td>\n",
       "      <td>2.55</td>\n",
       "    </tr>\n",
       "    <tr>\n",
       "      <th>1925</th>\n",
       "      <td>536375</td>\n",
       "      <td>21871</td>\n",
       "      <td>5</td>\n",
       "      <td>2016-12-01 09:32:00</td>\n",
       "      <td>23529.0</td>\n",
       "      <td>1</td>\n",
       "      <td>Shop 30</td>\n",
       "      <td>1.06</td>\n",
       "    </tr>\n",
       "    <tr>\n",
       "      <th>34583</th>\n",
       "      <td>536376</td>\n",
       "      <td>21733</td>\n",
       "      <td>63</td>\n",
       "      <td>2016-12-01 09:32:00</td>\n",
       "      <td>20970.0</td>\n",
       "      <td>0</td>\n",
       "      <td>Shop 1</td>\n",
       "      <td>2.55</td>\n",
       "    </tr>\n",
       "    <tr>\n",
       "      <th>72519</th>\n",
       "      <td>536375</td>\n",
       "      <td>37370</td>\n",
       "      <td>5</td>\n",
       "      <td>2016-12-01 09:32:00</td>\n",
       "      <td>23529.0</td>\n",
       "      <td>1</td>\n",
       "      <td>Shop 30</td>\n",
       "      <td>1.06</td>\n",
       "    </tr>\n",
       "  </tbody>\n",
       "</table>\n",
       "</div>"
      ],
      "text/plain": [
       "      Purchase_id Item_id  Quantity       Purchase_date  Customer_id  \\\n",
       "72480      536373   37370         5 2016-12-01 09:02:00      23529.0   \n",
       "80776      536373   82483         1 2016-12-01 09:02:00      23529.0   \n",
       "8641       536373  85123A         5 2016-12-01 09:02:00      23529.0   \n",
       "16514      536373   82482         5 2016-12-01 09:02:00      23529.0   \n",
       "71768      536373   71053         5 2016-12-01 09:02:00      23529.0   \n",
       "45511      536374   21258        31 2016-12-01 09:09:00      20779.0   \n",
       "18392      536375  84406B         7 2016-12-01 09:32:00      23529.0   \n",
       "23861      536375  84029G         5 2016-12-01 09:32:00      23529.0   \n",
       "39362      536375   22752         1 2016-12-01 09:32:00      23529.0   \n",
       "8584       536375  85123A         5 2016-12-01 09:32:00      23529.0   \n",
       "15876      536375  84029E         5 2016-12-01 09:32:00      23529.0   \n",
       "22498      536375   20679         5 2016-12-01 09:32:00      23529.0   \n",
       "30476      536375   21068         5 2016-12-01 09:32:00      23529.0   \n",
       "32049      536375   82486         3 2016-12-01 09:32:00      23529.0   \n",
       "80718      536375   82483         1 2016-12-01 09:32:00      23529.0   \n",
       "96733      536375   21730         5 2016-12-01 09:32:00      23529.0   \n",
       "984        536375  82494L         5 2016-12-01 09:32:00      23529.0   \n",
       "1925       536375   21871         5 2016-12-01 09:32:00      23529.0   \n",
       "34583      536376   21733        63 2016-12-01 09:32:00      20970.0   \n",
       "72519      536375   37370         5 2016-12-01 09:32:00      23529.0   \n",
       "\n",
       "      Loyalty_program  Shop_id  Price_per_one  \n",
       "72480               1   Shop 1           1.06  \n",
       "80776               1   Shop 1           4.95  \n",
       "8641                1   Shop 1           0.00  \n",
       "16514               1   Shop 1           2.10  \n",
       "71768               1   Shop 1           3.39  \n",
       "45511               0   Shop 8           0.00  \n",
       "18392               1  Shop 30           0.00  \n",
       "23861               1  Shop 30           3.39  \n",
       "39362               1  Shop 30           7.65  \n",
       "8584                1  Shop 30           0.00  \n",
       "15876               1  Shop 30           0.00  \n",
       "22498               1  Shop 30           4.60  \n",
       "30476               1  Shop 30           1.06  \n",
       "32049               1  Shop 30           6.95  \n",
       "80718               1  Shop 30           4.95  \n",
       "96733               1  Shop 30           4.25  \n",
       "984                 1  Shop 30           2.55  \n",
       "1925                1  Shop 30           1.06  \n",
       "34583               0   Shop 1           2.55  \n",
       "72519               1  Shop 30           1.06  "
      ]
     },
     "execution_count": 38,
     "metadata": {},
     "output_type": "execute_result"
    }
   ],
   "source": [
    "#Analysing data\n",
    "retail_df.sort_values(by='Purchase_date').iloc[60:80]"
   ]
  },
  {
   "cell_type": "code",
   "execution_count": 39,
   "id": "83e5add9",
   "metadata": {},
   "outputs": [
    {
     "data": {
      "text/plain": [
       "Purchase_id            0\n",
       "Item_id                0\n",
       "Quantity               0\n",
       "Purchase_date          0\n",
       "Customer_id        36148\n",
       "Loyalty_program        0\n",
       "Shop_id                0\n",
       "Price_per_one          0\n",
       "dtype: int64"
      ]
     },
     "execution_count": 39,
     "metadata": {},
     "output_type": "execute_result"
    }
   ],
   "source": [
    "retail_df.isna().sum()"
   ]
  },
  {
   "cell_type": "code",
   "execution_count": 40,
   "id": "a085c49f",
   "metadata": {},
   "outputs": [
    {
     "data": {
      "text/html": [
       "<div>\n",
       "<style scoped>\n",
       "    .dataframe tbody tr th:only-of-type {\n",
       "        vertical-align: middle;\n",
       "    }\n",
       "\n",
       "    .dataframe tbody tr th {\n",
       "        vertical-align: top;\n",
       "    }\n",
       "\n",
       "    .dataframe thead th {\n",
       "        text-align: right;\n",
       "    }\n",
       "</style>\n",
       "<table border=\"1\" class=\"dataframe\">\n",
       "  <thead>\n",
       "    <tr style=\"text-align: right;\">\n",
       "      <th></th>\n",
       "      <th>Purchase_id</th>\n",
       "      <th>Item_id</th>\n",
       "      <th>Quantity</th>\n",
       "      <th>Purchase_date</th>\n",
       "      <th>Customer_id</th>\n",
       "      <th>Loyalty_program</th>\n",
       "      <th>Shop_id</th>\n",
       "      <th>Price_per_one</th>\n",
       "      <th>Purchase_year</th>\n",
       "      <th>Purchase_month</th>\n",
       "      <th>Purchase_week</th>\n",
       "      <th>Purchase_day</th>\n",
       "    </tr>\n",
       "  </thead>\n",
       "  <tbody>\n",
       "    <tr>\n",
       "      <th>0</th>\n",
       "      <td>538280</td>\n",
       "      <td>21873</td>\n",
       "      <td>11</td>\n",
       "      <td>2016-12-10 12:50:00</td>\n",
       "      <td>18427.0</td>\n",
       "      <td>0</td>\n",
       "      <td>Shop 3</td>\n",
       "      <td>0.42</td>\n",
       "      <td>2016</td>\n",
       "      <td>12</td>\n",
       "      <td>49</td>\n",
       "      <td>2016-12-10</td>\n",
       "    </tr>\n",
       "    <tr>\n",
       "      <th>1</th>\n",
       "      <td>541104</td>\n",
       "      <td>21873</td>\n",
       "      <td>0</td>\n",
       "      <td>2017-01-13 14:29:00</td>\n",
       "      <td>NaN</td>\n",
       "      <td>0</td>\n",
       "      <td>Shop 0</td>\n",
       "      <td>0.42</td>\n",
       "      <td>2017</td>\n",
       "      <td>1</td>\n",
       "      <td>2</td>\n",
       "      <td>2017-01-13</td>\n",
       "    </tr>\n",
       "    <tr>\n",
       "      <th>2</th>\n",
       "      <td>540418</td>\n",
       "      <td>21873</td>\n",
       "      <td>1</td>\n",
       "      <td>2017-01-07 11:04:00</td>\n",
       "      <td>NaN</td>\n",
       "      <td>0</td>\n",
       "      <td>Shop 0</td>\n",
       "      <td>0.42</td>\n",
       "      <td>2017</td>\n",
       "      <td>1</td>\n",
       "      <td>1</td>\n",
       "      <td>2017-01-07</td>\n",
       "    </tr>\n",
       "    <tr>\n",
       "      <th>3</th>\n",
       "      <td>541516</td>\n",
       "      <td>21873</td>\n",
       "      <td>2</td>\n",
       "      <td>2017-01-18 17:34:00</td>\n",
       "      <td>NaN</td>\n",
       "      <td>0</td>\n",
       "      <td>Shop 0</td>\n",
       "      <td>0.42</td>\n",
       "      <td>2017</td>\n",
       "      <td>1</td>\n",
       "      <td>3</td>\n",
       "      <td>2017-01-18</td>\n",
       "    </tr>\n",
       "    <tr>\n",
       "      <th>4</th>\n",
       "      <td>541566</td>\n",
       "      <td>21873</td>\n",
       "      <td>35</td>\n",
       "      <td>2017-01-19 11:50:00</td>\n",
       "      <td>23401.0</td>\n",
       "      <td>1</td>\n",
       "      <td>Shop 22</td>\n",
       "      <td>0.42</td>\n",
       "      <td>2017</td>\n",
       "      <td>1</td>\n",
       "      <td>3</td>\n",
       "      <td>2017-01-19</td>\n",
       "    </tr>\n",
       "  </tbody>\n",
       "</table>\n",
       "</div>"
      ],
      "text/plain": [
       "  Purchase_id Item_id  Quantity       Purchase_date  Customer_id  \\\n",
       "0      538280   21873        11 2016-12-10 12:50:00      18427.0   \n",
       "1      541104   21873         0 2017-01-13 14:29:00          NaN   \n",
       "2      540418   21873         1 2017-01-07 11:04:00          NaN   \n",
       "3      541516   21873         2 2017-01-18 17:34:00          NaN   \n",
       "4      541566   21873        35 2017-01-19 11:50:00      23401.0   \n",
       "\n",
       "  Loyalty_program  Shop_id  Price_per_one  Purchase_year  Purchase_month  \\\n",
       "0               0   Shop 3           0.42           2016              12   \n",
       "1               0   Shop 0           0.42           2017               1   \n",
       "2               0   Shop 0           0.42           2017               1   \n",
       "3               0   Shop 0           0.42           2017               1   \n",
       "4               1  Shop 22           0.42           2017               1   \n",
       "\n",
       "   Purchase_week Purchase_day  \n",
       "0             49   2016-12-10  \n",
       "1              2   2017-01-13  \n",
       "2              1   2017-01-07  \n",
       "3              3   2017-01-18  \n",
       "4              3   2017-01-19  "
      ]
     },
     "execution_count": 40,
     "metadata": {},
     "output_type": "execute_result"
    }
   ],
   "source": [
    "#splitting daily,weekly,monthly and yearly\n",
    "retail_df['Purchase_year']=retail_df['Purchase_date'].dt.year\n",
    "retail_df['Purchase_month']=retail_df['Purchase_date'].dt.month\n",
    "retail_df['Purchase_week']=retail_df['Purchase_date'].dt.week\n",
    "retail_df['Purchase_day']=retail_df['Purchase_date'].dt.date\n",
    "retail_df.head()"
   ]
  },
  {
   "cell_type": "code",
   "execution_count": 41,
   "id": "3c03e2f2",
   "metadata": {},
   "outputs": [
    {
     "data": {
      "text/plain": [
       "datetime.date(2017, 2, 28)"
      ]
     },
     "execution_count": 41,
     "metadata": {},
     "output_type": "execute_result"
    }
   ],
   "source": [
    "retail_df['Purchase_day'].max()\n"
   ]
  },
  {
   "cell_type": "code",
   "execution_count": 42,
   "id": "04cd15c1",
   "metadata": {},
   "outputs": [
    {
     "data": {
      "text/plain": [
       "datetime.date(2016, 12, 1)"
      ]
     },
     "execution_count": 42,
     "metadata": {},
     "output_type": "execute_result"
    }
   ],
   "source": [
    "retail_df['Purchase_day'].min()"
   ]
  },
  {
   "cell_type": "markdown",
   "id": "442d78cf",
   "metadata": {},
   "source": [
    "<b>We have purchase details from Dec1,2016 to Feb2,2017 ."
   ]
  },
  {
   "cell_type": "code",
   "execution_count": 43,
   "id": "df86def5",
   "metadata": {},
   "outputs": [
    {
     "data": {
      "text/html": [
       "<div>\n",
       "<style scoped>\n",
       "    .dataframe tbody tr th:only-of-type {\n",
       "        vertical-align: middle;\n",
       "    }\n",
       "\n",
       "    .dataframe tbody tr th {\n",
       "        vertical-align: top;\n",
       "    }\n",
       "\n",
       "    .dataframe thead th {\n",
       "        text-align: right;\n",
       "    }\n",
       "</style>\n",
       "<table border=\"1\" class=\"dataframe\">\n",
       "  <thead>\n",
       "    <tr style=\"text-align: right;\">\n",
       "      <th></th>\n",
       "      <th>Purchase_id</th>\n",
       "      <th>Item_id</th>\n",
       "      <th>Quantity</th>\n",
       "      <th>Purchase_date</th>\n",
       "      <th>Customer_id</th>\n",
       "      <th>Loyalty_program</th>\n",
       "      <th>Shop_id</th>\n",
       "      <th>Price_per_one</th>\n",
       "      <th>Purchase_year</th>\n",
       "      <th>Purchase_month</th>\n",
       "      <th>Purchase_week</th>\n",
       "      <th>Purchase_day</th>\n",
       "      <th>Total_price</th>\n",
       "    </tr>\n",
       "  </thead>\n",
       "  <tbody>\n",
       "    <tr>\n",
       "      <th>0</th>\n",
       "      <td>538280</td>\n",
       "      <td>21873</td>\n",
       "      <td>11</td>\n",
       "      <td>2016-12-10 12:50:00</td>\n",
       "      <td>18427.0</td>\n",
       "      <td>0</td>\n",
       "      <td>Shop 3</td>\n",
       "      <td>0.42</td>\n",
       "      <td>2016</td>\n",
       "      <td>12</td>\n",
       "      <td>49</td>\n",
       "      <td>2016-12-10</td>\n",
       "      <td>4.62</td>\n",
       "    </tr>\n",
       "    <tr>\n",
       "      <th>1</th>\n",
       "      <td>541104</td>\n",
       "      <td>21873</td>\n",
       "      <td>0</td>\n",
       "      <td>2017-01-13 14:29:00</td>\n",
       "      <td>NaN</td>\n",
       "      <td>0</td>\n",
       "      <td>Shop 0</td>\n",
       "      <td>0.42</td>\n",
       "      <td>2017</td>\n",
       "      <td>1</td>\n",
       "      <td>2</td>\n",
       "      <td>2017-01-13</td>\n",
       "      <td>0.00</td>\n",
       "    </tr>\n",
       "    <tr>\n",
       "      <th>2</th>\n",
       "      <td>540418</td>\n",
       "      <td>21873</td>\n",
       "      <td>1</td>\n",
       "      <td>2017-01-07 11:04:00</td>\n",
       "      <td>NaN</td>\n",
       "      <td>0</td>\n",
       "      <td>Shop 0</td>\n",
       "      <td>0.42</td>\n",
       "      <td>2017</td>\n",
       "      <td>1</td>\n",
       "      <td>1</td>\n",
       "      <td>2017-01-07</td>\n",
       "      <td>0.42</td>\n",
       "    </tr>\n",
       "    <tr>\n",
       "      <th>3</th>\n",
       "      <td>541516</td>\n",
       "      <td>21873</td>\n",
       "      <td>2</td>\n",
       "      <td>2017-01-18 17:34:00</td>\n",
       "      <td>NaN</td>\n",
       "      <td>0</td>\n",
       "      <td>Shop 0</td>\n",
       "      <td>0.42</td>\n",
       "      <td>2017</td>\n",
       "      <td>1</td>\n",
       "      <td>3</td>\n",
       "      <td>2017-01-18</td>\n",
       "      <td>0.84</td>\n",
       "    </tr>\n",
       "    <tr>\n",
       "      <th>4</th>\n",
       "      <td>541566</td>\n",
       "      <td>21873</td>\n",
       "      <td>35</td>\n",
       "      <td>2017-01-19 11:50:00</td>\n",
       "      <td>23401.0</td>\n",
       "      <td>1</td>\n",
       "      <td>Shop 22</td>\n",
       "      <td>0.42</td>\n",
       "      <td>2017</td>\n",
       "      <td>1</td>\n",
       "      <td>3</td>\n",
       "      <td>2017-01-19</td>\n",
       "      <td>14.70</td>\n",
       "    </tr>\n",
       "  </tbody>\n",
       "</table>\n",
       "</div>"
      ],
      "text/plain": [
       "  Purchase_id Item_id  Quantity       Purchase_date  Customer_id  \\\n",
       "0      538280   21873        11 2016-12-10 12:50:00      18427.0   \n",
       "1      541104   21873         0 2017-01-13 14:29:00          NaN   \n",
       "2      540418   21873         1 2017-01-07 11:04:00          NaN   \n",
       "3      541516   21873         2 2017-01-18 17:34:00          NaN   \n",
       "4      541566   21873        35 2017-01-19 11:50:00      23401.0   \n",
       "\n",
       "  Loyalty_program  Shop_id  Price_per_one  Purchase_year  Purchase_month  \\\n",
       "0               0   Shop 3           0.42           2016              12   \n",
       "1               0   Shop 0           0.42           2017               1   \n",
       "2               0   Shop 0           0.42           2017               1   \n",
       "3               0   Shop 0           0.42           2017               1   \n",
       "4               1  Shop 22           0.42           2017               1   \n",
       "\n",
       "   Purchase_week Purchase_day  Total_price  \n",
       "0             49   2016-12-10         4.62  \n",
       "1              2   2017-01-13         0.00  \n",
       "2              1   2017-01-07         0.42  \n",
       "3              3   2017-01-18         0.84  \n",
       "4              3   2017-01-19        14.70  "
      ]
     },
     "execution_count": 43,
     "metadata": {},
     "output_type": "execute_result"
    }
   ],
   "source": [
    "#calculating total price\n",
    "retail_df['Total_price']=retail_df['Price_per_one']*retail_df['Quantity']\n",
    "retail_df.head()"
   ]
  },
  {
   "cell_type": "code",
   "execution_count": 44,
   "id": "89d94aeb",
   "metadata": {},
   "outputs": [
    {
     "data": {
      "text/html": [
       "<div>\n",
       "<style scoped>\n",
       "    .dataframe tbody tr th:only-of-type {\n",
       "        vertical-align: middle;\n",
       "    }\n",
       "\n",
       "    .dataframe tbody tr th {\n",
       "        vertical-align: top;\n",
       "    }\n",
       "\n",
       "    .dataframe thead th {\n",
       "        text-align: right;\n",
       "    }\n",
       "</style>\n",
       "<table border=\"1\" class=\"dataframe\">\n",
       "  <thead>\n",
       "    <tr style=\"text-align: right;\">\n",
       "      <th></th>\n",
       "      <th>Purchase_id</th>\n",
       "      <th>Item_id</th>\n",
       "      <th>Quantity</th>\n",
       "      <th>Purchase_date</th>\n",
       "      <th>Customer_id</th>\n",
       "      <th>Loyalty_program</th>\n",
       "      <th>Shop_id</th>\n",
       "      <th>Price_per_one</th>\n",
       "    </tr>\n",
       "  </thead>\n",
       "  <tbody>\n",
       "    <tr>\n",
       "      <th>36128</th>\n",
       "      <td>545216</td>\n",
       "      <td>90157</td>\n",
       "      <td>0</td>\n",
       "      <td>2017-02-28 16:50:00</td>\n",
       "      <td>NaN</td>\n",
       "      <td>0</td>\n",
       "      <td>Shop 0</td>\n",
       "      <td>4.98</td>\n",
       "    </tr>\n",
       "    <tr>\n",
       "      <th>36129</th>\n",
       "      <td>538144</td>\n",
       "      <td>90042B</td>\n",
       "      <td>0</td>\n",
       "      <td>2016-12-09 15:58:00</td>\n",
       "      <td>NaN</td>\n",
       "      <td>0</td>\n",
       "      <td>Shop 0</td>\n",
       "      <td>0.00</td>\n",
       "    </tr>\n",
       "    <tr>\n",
       "      <th>36130</th>\n",
       "      <td>539740</td>\n",
       "      <td>85035b</td>\n",
       "      <td>0</td>\n",
       "      <td>2016-12-21 15:20:00</td>\n",
       "      <td>NaN</td>\n",
       "      <td>0</td>\n",
       "      <td>Shop 0</td>\n",
       "      <td>8.47</td>\n",
       "    </tr>\n",
       "    <tr>\n",
       "      <th>36131</th>\n",
       "      <td>539643</td>\n",
       "      <td>51008</td>\n",
       "      <td>2</td>\n",
       "      <td>2016-12-20 15:48:00</td>\n",
       "      <td>NaN</td>\n",
       "      <td>0</td>\n",
       "      <td>Shop 0</td>\n",
       "      <td>2.95</td>\n",
       "    </tr>\n",
       "    <tr>\n",
       "      <th>36132</th>\n",
       "      <td>542396</td>\n",
       "      <td>22146</td>\n",
       "      <td>-5</td>\n",
       "      <td>2017-01-27 15:12:00</td>\n",
       "      <td>NaN</td>\n",
       "      <td>0</td>\n",
       "      <td>Shop 0</td>\n",
       "      <td>0.00</td>\n",
       "    </tr>\n",
       "    <tr>\n",
       "      <th>36133</th>\n",
       "      <td>543656</td>\n",
       "      <td>84801B</td>\n",
       "      <td>-45</td>\n",
       "      <td>2017-02-11 10:30:00</td>\n",
       "      <td>NaN</td>\n",
       "      <td>0</td>\n",
       "      <td>Shop 0</td>\n",
       "      <td>0.00</td>\n",
       "    </tr>\n",
       "    <tr>\n",
       "      <th>36134</th>\n",
       "      <td>542560</td>\n",
       "      <td>47579</td>\n",
       "      <td>-2</td>\n",
       "      <td>2017-01-28 14:51:00</td>\n",
       "      <td>NaN</td>\n",
       "      <td>0</td>\n",
       "      <td>Shop 0</td>\n",
       "      <td>0.00</td>\n",
       "    </tr>\n",
       "    <tr>\n",
       "      <th>36135</th>\n",
       "      <td>536592</td>\n",
       "      <td>72134</td>\n",
       "      <td>0</td>\n",
       "      <td>2016-12-01 17:06:00</td>\n",
       "      <td>NaN</td>\n",
       "      <td>0</td>\n",
       "      <td>Shop 0</td>\n",
       "      <td>0.42</td>\n",
       "    </tr>\n",
       "    <tr>\n",
       "      <th>36136</th>\n",
       "      <td>538177</td>\n",
       "      <td>90170</td>\n",
       "      <td>0</td>\n",
       "      <td>2016-12-10 09:51:00</td>\n",
       "      <td>NaN</td>\n",
       "      <td>0</td>\n",
       "      <td>Shop 0</td>\n",
       "      <td>1.65</td>\n",
       "    </tr>\n",
       "    <tr>\n",
       "      <th>36137</th>\n",
       "      <td>541971</td>\n",
       "      <td>90170</td>\n",
       "      <td>1</td>\n",
       "      <td>2017-01-24 13:48:00</td>\n",
       "      <td>NaN</td>\n",
       "      <td>0</td>\n",
       "      <td>Shop 0</td>\n",
       "      <td>1.65</td>\n",
       "    </tr>\n",
       "    <tr>\n",
       "      <th>36138</th>\n",
       "      <td>537666</td>\n",
       "      <td>90170</td>\n",
       "      <td>0</td>\n",
       "      <td>2016-12-07 18:36:00</td>\n",
       "      <td>NaN</td>\n",
       "      <td>0</td>\n",
       "      <td>Shop 0</td>\n",
       "      <td>1.65</td>\n",
       "    </tr>\n",
       "    <tr>\n",
       "      <th>36139</th>\n",
       "      <td>542552</td>\n",
       "      <td>21645</td>\n",
       "      <td>-2</td>\n",
       "      <td>2017-01-28 14:47:00</td>\n",
       "      <td>NaN</td>\n",
       "      <td>0</td>\n",
       "      <td>Shop 0</td>\n",
       "      <td>0.00</td>\n",
       "    </tr>\n",
       "    <tr>\n",
       "      <th>36140</th>\n",
       "      <td>540560</td>\n",
       "      <td>21589</td>\n",
       "      <td>-15</td>\n",
       "      <td>2017-01-10 10:08:00</td>\n",
       "      <td>NaN</td>\n",
       "      <td>0</td>\n",
       "      <td>Shop 0</td>\n",
       "      <td>0.00</td>\n",
       "    </tr>\n",
       "    <tr>\n",
       "      <th>36141</th>\n",
       "      <td>540977</td>\n",
       "      <td>85160B</td>\n",
       "      <td>0</td>\n",
       "      <td>2017-01-12 15:01:00</td>\n",
       "      <td>NaN</td>\n",
       "      <td>0</td>\n",
       "      <td>Shop 0</td>\n",
       "      <td>1.25</td>\n",
       "    </tr>\n",
       "    <tr>\n",
       "      <th>36142</th>\n",
       "      <td>537025</td>\n",
       "      <td>90053</td>\n",
       "      <td>0</td>\n",
       "      <td>2016-12-03 16:21:00</td>\n",
       "      <td>NaN</td>\n",
       "      <td>0</td>\n",
       "      <td>Shop 0</td>\n",
       "      <td>2.55</td>\n",
       "    </tr>\n",
       "    <tr>\n",
       "      <th>36143</th>\n",
       "      <td>539492</td>\n",
       "      <td>90055</td>\n",
       "      <td>0</td>\n",
       "      <td>2016-12-20 10:14:00</td>\n",
       "      <td>NaN</td>\n",
       "      <td>0</td>\n",
       "      <td>Shop 0</td>\n",
       "      <td>2.54</td>\n",
       "    </tr>\n",
       "    <tr>\n",
       "      <th>36144</th>\n",
       "      <td>542394</td>\n",
       "      <td>84452</td>\n",
       "      <td>64</td>\n",
       "      <td>2017-01-27 15:11:00</td>\n",
       "      <td>NaN</td>\n",
       "      <td>0</td>\n",
       "      <td>Shop 0</td>\n",
       "      <td>0.00</td>\n",
       "    </tr>\n",
       "    <tr>\n",
       "      <th>36145</th>\n",
       "      <td>537666</td>\n",
       "      <td>90027A</td>\n",
       "      <td>0</td>\n",
       "      <td>2016-12-07 18:36:00</td>\n",
       "      <td>NaN</td>\n",
       "      <td>0</td>\n",
       "      <td>Shop 0</td>\n",
       "      <td>2.95</td>\n",
       "    </tr>\n",
       "    <tr>\n",
       "      <th>36146</th>\n",
       "      <td>536592</td>\n",
       "      <td>21745</td>\n",
       "      <td>0</td>\n",
       "      <td>2016-12-01 17:06:00</td>\n",
       "      <td>NaN</td>\n",
       "      <td>0</td>\n",
       "      <td>Shop 0</td>\n",
       "      <td>3.39</td>\n",
       "    </tr>\n",
       "    <tr>\n",
       "      <th>36147</th>\n",
       "      <td>539437</td>\n",
       "      <td>72127</td>\n",
       "      <td>0</td>\n",
       "      <td>2016-12-17 14:54:00</td>\n",
       "      <td>NaN</td>\n",
       "      <td>0</td>\n",
       "      <td>Shop 0</td>\n",
       "      <td>1.25</td>\n",
       "    </tr>\n",
       "  </tbody>\n",
       "</table>\n",
       "</div>"
      ],
      "text/plain": [
       "      Purchase_id Item_id  Quantity       Purchase_date  Customer_id  \\\n",
       "36128      545216   90157         0 2017-02-28 16:50:00          NaN   \n",
       "36129      538144  90042B         0 2016-12-09 15:58:00          NaN   \n",
       "36130      539740  85035b         0 2016-12-21 15:20:00          NaN   \n",
       "36131      539643   51008         2 2016-12-20 15:48:00          NaN   \n",
       "36132      542396   22146        -5 2017-01-27 15:12:00          NaN   \n",
       "36133      543656  84801B       -45 2017-02-11 10:30:00          NaN   \n",
       "36134      542560   47579        -2 2017-01-28 14:51:00          NaN   \n",
       "36135      536592   72134         0 2016-12-01 17:06:00          NaN   \n",
       "36136      538177   90170         0 2016-12-10 09:51:00          NaN   \n",
       "36137      541971   90170         1 2017-01-24 13:48:00          NaN   \n",
       "36138      537666   90170         0 2016-12-07 18:36:00          NaN   \n",
       "36139      542552   21645        -2 2017-01-28 14:47:00          NaN   \n",
       "36140      540560   21589       -15 2017-01-10 10:08:00          NaN   \n",
       "36141      540977  85160B         0 2017-01-12 15:01:00          NaN   \n",
       "36142      537025   90053         0 2016-12-03 16:21:00          NaN   \n",
       "36143      539492   90055         0 2016-12-20 10:14:00          NaN   \n",
       "36144      542394   84452        64 2017-01-27 15:11:00          NaN   \n",
       "36145      537666  90027A         0 2016-12-07 18:36:00          NaN   \n",
       "36146      536592   21745         0 2016-12-01 17:06:00          NaN   \n",
       "36147      539437   72127         0 2016-12-17 14:54:00          NaN   \n",
       "\n",
       "      Loyalty_program Shop_id  Price_per_one  \n",
       "36128               0  Shop 0           4.98  \n",
       "36129               0  Shop 0           0.00  \n",
       "36130               0  Shop 0           8.47  \n",
       "36131               0  Shop 0           2.95  \n",
       "36132               0  Shop 0           0.00  \n",
       "36133               0  Shop 0           0.00  \n",
       "36134               0  Shop 0           0.00  \n",
       "36135               0  Shop 0           0.42  \n",
       "36136               0  Shop 0           1.65  \n",
       "36137               0  Shop 0           1.65  \n",
       "36138               0  Shop 0           1.65  \n",
       "36139               0  Shop 0           0.00  \n",
       "36140               0  Shop 0           0.00  \n",
       "36141               0  Shop 0           1.25  \n",
       "36142               0  Shop 0           2.55  \n",
       "36143               0  Shop 0           2.54  \n",
       "36144               0  Shop 0           0.00  \n",
       "36145               0  Shop 0           2.95  \n",
       "36146               0  Shop 0           3.39  \n",
       "36147               0  Shop 0           1.25  "
      ]
     },
     "execution_count": 44,
     "metadata": {},
     "output_type": "execute_result"
    }
   ],
   "source": [
    "#merge price_per_one column to missing customer dataset based on item_id\n",
    "missing_price_df=pd.merge(missing_customer_df,product_df,on='Item_id')\n",
    "missing_price_df.tail(20)"
   ]
  },
  {
   "cell_type": "code",
   "execution_count": 45,
   "id": "7bc8330a",
   "metadata": {},
   "outputs": [
    {
     "data": {
      "text/html": [
       "<div>\n",
       "<style scoped>\n",
       "    .dataframe tbody tr th:only-of-type {\n",
       "        vertical-align: middle;\n",
       "    }\n",
       "\n",
       "    .dataframe tbody tr th {\n",
       "        vertical-align: top;\n",
       "    }\n",
       "\n",
       "    .dataframe thead th {\n",
       "        text-align: right;\n",
       "    }\n",
       "</style>\n",
       "<table border=\"1\" class=\"dataframe\">\n",
       "  <thead>\n",
       "    <tr style=\"text-align: right;\">\n",
       "      <th></th>\n",
       "      <th>Purchase_id</th>\n",
       "      <th>Item_id</th>\n",
       "      <th>Quantity</th>\n",
       "      <th>Purchase_date</th>\n",
       "      <th>Customer_id</th>\n",
       "      <th>Loyalty_program</th>\n",
       "      <th>Shop_id</th>\n",
       "      <th>Price_per_one</th>\n",
       "      <th>Total_price</th>\n",
       "    </tr>\n",
       "  </thead>\n",
       "  <tbody>\n",
       "    <tr>\n",
       "      <th>0</th>\n",
       "      <td>540468</td>\n",
       "      <td>22189</td>\n",
       "      <td>0</td>\n",
       "      <td>2017-01-07 13:55:00</td>\n",
       "      <td>NaN</td>\n",
       "      <td>0</td>\n",
       "      <td>Shop 0</td>\n",
       "      <td>2.31</td>\n",
       "      <td>0.00</td>\n",
       "    </tr>\n",
       "    <tr>\n",
       "      <th>1</th>\n",
       "      <td>541827</td>\n",
       "      <td>22189</td>\n",
       "      <td>0</td>\n",
       "      <td>2017-01-21 17:05:00</td>\n",
       "      <td>NaN</td>\n",
       "      <td>0</td>\n",
       "      <td>Shop 0</td>\n",
       "      <td>2.31</td>\n",
       "      <td>0.00</td>\n",
       "    </tr>\n",
       "    <tr>\n",
       "      <th>2</th>\n",
       "      <td>538177</td>\n",
       "      <td>22189</td>\n",
       "      <td>3</td>\n",
       "      <td>2016-12-10 09:51:00</td>\n",
       "      <td>NaN</td>\n",
       "      <td>0</td>\n",
       "      <td>Shop 0</td>\n",
       "      <td>2.31</td>\n",
       "      <td>6.93</td>\n",
       "    </tr>\n",
       "    <tr>\n",
       "      <th>3</th>\n",
       "      <td>537666</td>\n",
       "      <td>22189</td>\n",
       "      <td>1</td>\n",
       "      <td>2016-12-07 18:36:00</td>\n",
       "      <td>NaN</td>\n",
       "      <td>0</td>\n",
       "      <td>Shop 0</td>\n",
       "      <td>2.31</td>\n",
       "      <td>2.31</td>\n",
       "    </tr>\n",
       "    <tr>\n",
       "      <th>4</th>\n",
       "      <td>537237</td>\n",
       "      <td>22189</td>\n",
       "      <td>0</td>\n",
       "      <td>2016-12-06 09:58:00</td>\n",
       "      <td>NaN</td>\n",
       "      <td>0</td>\n",
       "      <td>Shop 0</td>\n",
       "      <td>2.31</td>\n",
       "      <td>0.00</td>\n",
       "    </tr>\n",
       "  </tbody>\n",
       "</table>\n",
       "</div>"
      ],
      "text/plain": [
       "  Purchase_id Item_id  Quantity       Purchase_date  Customer_id  \\\n",
       "0      540468   22189         0 2017-01-07 13:55:00          NaN   \n",
       "1      541827   22189         0 2017-01-21 17:05:00          NaN   \n",
       "2      538177   22189         3 2016-12-10 09:51:00          NaN   \n",
       "3      537666   22189         1 2016-12-07 18:36:00          NaN   \n",
       "4      537237   22189         0 2016-12-06 09:58:00          NaN   \n",
       "\n",
       "  Loyalty_program Shop_id  Price_per_one  Total_price  \n",
       "0               0  Shop 0           2.31         0.00  \n",
       "1               0  Shop 0           2.31         0.00  \n",
       "2               0  Shop 0           2.31         6.93  \n",
       "3               0  Shop 0           2.31         2.31  \n",
       "4               0  Shop 0           2.31         0.00  "
      ]
     },
     "execution_count": 45,
     "metadata": {},
     "output_type": "execute_result"
    }
   ],
   "source": [
    "missing_price_df['Total_price']=missing_price_df['Price_per_one']*missing_price_df['Quantity']\n",
    "missing_price_df.head()"
   ]
  },
  {
   "cell_type": "code",
   "execution_count": 46,
   "id": "09f62ffa",
   "metadata": {},
   "outputs": [
    {
     "data": {
      "text/plain": [
       " 0.00     22454\n",
       " 1.25       489\n",
       " 0.85       424\n",
       " 0.42       389\n",
       " 1.06       354\n",
       "          ...  \n",
       "-9.25         1\n",
       " 26.10        1\n",
       " 44.40        1\n",
       " 1.32         1\n",
       " 8.42         1\n",
       "Name: Total_price, Length: 893, dtype: int64"
      ]
     },
     "execution_count": 46,
     "metadata": {},
     "output_type": "execute_result"
    }
   ],
   "source": [
    "missing_price_df['Total_price'].value_counts()"
   ]
  },
  {
   "cell_type": "code",
   "execution_count": 47,
   "id": "4d7f41a0",
   "metadata": {},
   "outputs": [
    {
     "data": {
      "text/plain": [
       "81569.37999999999"
      ]
     },
     "execution_count": 47,
     "metadata": {},
     "output_type": "execute_result"
    }
   ],
   "source": [
    "missing_price_df['Total_price'].sum()"
   ]
  },
  {
   "cell_type": "code",
   "execution_count": 48,
   "id": "842d78dd",
   "metadata": {},
   "outputs": [
    {
     "data": {
      "text/plain": [
       "count    36148.000000\n",
       "mean         2.256539\n",
       "std          8.901200\n",
       "min       -209.550000\n",
       "25%          0.000000\n",
       "50%          0.000000\n",
       "75%          1.650000\n",
       "max        433.920000\n",
       "Name: Total_price, dtype: float64"
      ]
     },
     "execution_count": 48,
     "metadata": {},
     "output_type": "execute_result"
    }
   ],
   "source": [
    "missing_price_df['Total_price'].describe()"
   ]
  },
  {
   "cell_type": "markdown",
   "id": "4ae822d2",
   "metadata": {},
   "source": [
    "<b>Since we see that 'total_price' contributed by records with missing customers is significant and as we know that  \n",
    "missing customers are not members of Loyalty program , we will choose the most common customer id in customers not  \n",
    "in loyalty program to fill the missing customers."
   ]
  },
  {
   "cell_type": "code",
   "execution_count": 49,
   "id": "5e40c642",
   "metadata": {},
   "outputs": [
    {
     "data": {
      "text/plain": [
       "18427.0"
      ]
     },
     "execution_count": 49,
     "metadata": {},
     "output_type": "execute_result"
    }
   ],
   "source": [
    "#get the mode of customer_id in non-loyalty members\n",
    "common_customer_non_loyalty = retail_df[retail_df['Loyalty_program']==0]['Customer_id'].mode()[0]\n",
    "common_customer_non_loyalty"
   ]
  },
  {
   "cell_type": "code",
   "execution_count": 50,
   "id": "96335256",
   "metadata": {},
   "outputs": [],
   "source": [
    "#fill missing values with the mode\n",
    "retail_df['Customer_id'].fillna(common_customer_non_loyalty,inplace=True)"
   ]
  },
  {
   "cell_type": "code",
   "execution_count": 51,
   "id": "ec6a603e",
   "metadata": {},
   "outputs": [
    {
     "name": "stdout",
     "output_type": "stream",
     "text": [
      "<class 'pandas.core.frame.DataFrame'>\n",
      "Int64Index: 104302 entries, 0 to 104301\n",
      "Data columns (total 13 columns):\n",
      " #   Column           Non-Null Count   Dtype         \n",
      "---  ------           --------------   -----         \n",
      " 0   Purchase_id      104302 non-null  object        \n",
      " 1   Item_id          104302 non-null  object        \n",
      " 2   Quantity         104302 non-null  int64         \n",
      " 3   Purchase_date    104302 non-null  datetime64[ns]\n",
      " 4   Customer_id      104302 non-null  float64       \n",
      " 5   Loyalty_program  104302 non-null  category      \n",
      " 6   Shop_id          104302 non-null  object        \n",
      " 7   Price_per_one    104302 non-null  float64       \n",
      " 8   Purchase_year    104302 non-null  int64         \n",
      " 9   Purchase_month   104302 non-null  int64         \n",
      " 10  Purchase_week    104302 non-null  int64         \n",
      " 11  Purchase_day     104302 non-null  object        \n",
      " 12  Total_price      104302 non-null  float64       \n",
      "dtypes: category(1), datetime64[ns](1), float64(3), int64(4), object(4)\n",
      "memory usage: 10.4+ MB\n"
     ]
    }
   ],
   "source": [
    "retail_df.info()"
   ]
  },
  {
   "cell_type": "code",
   "execution_count": 52,
   "id": "a511efa0",
   "metadata": {},
   "outputs": [
    {
     "data": {
      "text/html": [
       "<div>\n",
       "<style scoped>\n",
       "    .dataframe tbody tr th:only-of-type {\n",
       "        vertical-align: middle;\n",
       "    }\n",
       "\n",
       "    .dataframe tbody tr th {\n",
       "        vertical-align: top;\n",
       "    }\n",
       "\n",
       "    .dataframe thead th {\n",
       "        text-align: right;\n",
       "    }\n",
       "</style>\n",
       "<table border=\"1\" class=\"dataframe\">\n",
       "  <thead>\n",
       "    <tr style=\"text-align: right;\">\n",
       "      <th></th>\n",
       "      <th>Purchase_id</th>\n",
       "      <th>Item_id</th>\n",
       "      <th>Quantity</th>\n",
       "      <th>Purchase_date</th>\n",
       "      <th>Customer_id</th>\n",
       "      <th>Loyalty_program</th>\n",
       "      <th>Shop_id</th>\n",
       "      <th>Price_per_one</th>\n",
       "      <th>Purchase_year</th>\n",
       "      <th>Purchase_month</th>\n",
       "      <th>Purchase_week</th>\n",
       "      <th>Purchase_day</th>\n",
       "      <th>Total_price</th>\n",
       "    </tr>\n",
       "  </thead>\n",
       "  <tbody>\n",
       "    <tr>\n",
       "      <th>4</th>\n",
       "      <td>541566</td>\n",
       "      <td>21873</td>\n",
       "      <td>35</td>\n",
       "      <td>2017-01-19 11:50:00</td>\n",
       "      <td>23401.0</td>\n",
       "      <td>1</td>\n",
       "      <td>Shop 22</td>\n",
       "      <td>0.42</td>\n",
       "      <td>2017</td>\n",
       "      <td>1</td>\n",
       "      <td>3</td>\n",
       "      <td>2017-01-19</td>\n",
       "      <td>14.7</td>\n",
       "    </tr>\n",
       "    <tr>\n",
       "      <th>7</th>\n",
       "      <td>543592</td>\n",
       "      <td>21873</td>\n",
       "      <td>5</td>\n",
       "      <td>2017-02-10 11:57:00</td>\n",
       "      <td>22922.0</td>\n",
       "      <td>1</td>\n",
       "      <td>Shop 15</td>\n",
       "      <td>0.42</td>\n",
       "      <td>2017</td>\n",
       "      <td>2</td>\n",
       "      <td>6</td>\n",
       "      <td>2017-02-10</td>\n",
       "      <td>2.1</td>\n",
       "    </tr>\n",
       "    <tr>\n",
       "      <th>11</th>\n",
       "      <td>542608</td>\n",
       "      <td>21873</td>\n",
       "      <td>0</td>\n",
       "      <td>2017-01-30 13:51:00</td>\n",
       "      <td>22449.0</td>\n",
       "      <td>1</td>\n",
       "      <td>Shop 21</td>\n",
       "      <td>0.42</td>\n",
       "      <td>2017</td>\n",
       "      <td>1</td>\n",
       "      <td>5</td>\n",
       "      <td>2017-01-30</td>\n",
       "      <td>0.0</td>\n",
       "    </tr>\n",
       "    <tr>\n",
       "      <th>17</th>\n",
       "      <td>539252</td>\n",
       "      <td>21873</td>\n",
       "      <td>35</td>\n",
       "      <td>2016-12-16 14:17:00</td>\n",
       "      <td>23423.0</td>\n",
       "      <td>1</td>\n",
       "      <td>Shop 18</td>\n",
       "      <td>0.42</td>\n",
       "      <td>2016</td>\n",
       "      <td>12</td>\n",
       "      <td>50</td>\n",
       "      <td>2016-12-16</td>\n",
       "      <td>14.7</td>\n",
       "    </tr>\n",
       "    <tr>\n",
       "      <th>20</th>\n",
       "      <td>544930</td>\n",
       "      <td>21873</td>\n",
       "      <td>0</td>\n",
       "      <td>2017-02-24 18:26:00</td>\n",
       "      <td>23151.0</td>\n",
       "      <td>1</td>\n",
       "      <td>Shop 3</td>\n",
       "      <td>0.42</td>\n",
       "      <td>2017</td>\n",
       "      <td>2</td>\n",
       "      <td>8</td>\n",
       "      <td>2017-02-24</td>\n",
       "      <td>0.0</td>\n",
       "    </tr>\n",
       "  </tbody>\n",
       "</table>\n",
       "</div>"
      ],
      "text/plain": [
       "   Purchase_id Item_id  Quantity       Purchase_date  Customer_id  \\\n",
       "4       541566   21873        35 2017-01-19 11:50:00      23401.0   \n",
       "7       543592   21873         5 2017-02-10 11:57:00      22922.0   \n",
       "11      542608   21873         0 2017-01-30 13:51:00      22449.0   \n",
       "17      539252   21873        35 2016-12-16 14:17:00      23423.0   \n",
       "20      544930   21873         0 2017-02-24 18:26:00      23151.0   \n",
       "\n",
       "   Loyalty_program  Shop_id  Price_per_one  Purchase_year  Purchase_month  \\\n",
       "4                1  Shop 22           0.42           2017               1   \n",
       "7                1  Shop 15           0.42           2017               2   \n",
       "11               1  Shop 21           0.42           2017               1   \n",
       "17               1  Shop 18           0.42           2016              12   \n",
       "20               1   Shop 3           0.42           2017               2   \n",
       "\n",
       "    Purchase_week Purchase_day  Total_price  \n",
       "4               3   2017-01-19         14.7  \n",
       "7               6   2017-02-10          2.1  \n",
       "11              5   2017-01-30          0.0  \n",
       "17             50   2016-12-16         14.7  \n",
       "20              8   2017-02-24          0.0  "
      ]
     },
     "execution_count": 52,
     "metadata": {},
     "output_type": "execute_result"
    }
   ],
   "source": [
    "#filtering members with loyalty program\n",
    "loyalty_df=retail_df[retail_df['Loyalty_program']==1]\n",
    "loyalty_df.head()"
   ]
  },
  {
   "cell_type": "code",
   "execution_count": 53,
   "id": "d1788c42",
   "metadata": {},
   "outputs": [
    {
     "data": {
      "text/plain": [
       "0"
      ]
     },
     "execution_count": 53,
     "metadata": {},
     "output_type": "execute_result"
    }
   ],
   "source": [
    "loyalty_df.duplicated().sum()"
   ]
  },
  {
   "cell_type": "code",
   "execution_count": 54,
   "id": "615e6d79",
   "metadata": {},
   "outputs": [
    {
     "data": {
      "text/plain": [
       "587"
      ]
     },
     "execution_count": 54,
     "metadata": {},
     "output_type": "execute_result"
    }
   ],
   "source": [
    "loyalty_df['Customer_id'].nunique()"
   ]
  },
  {
   "cell_type": "code",
   "execution_count": 55,
   "id": "f2e5c0bf",
   "metadata": {},
   "outputs": [
    {
     "data": {
      "text/plain": [
       "Purchase_id        0\n",
       "Item_id            0\n",
       "Quantity           0\n",
       "Purchase_date      0\n",
       "Customer_id        0\n",
       "Loyalty_program    0\n",
       "Shop_id            0\n",
       "Price_per_one      0\n",
       "Purchase_year      0\n",
       "Purchase_month     0\n",
       "Purchase_week      0\n",
       "Purchase_day       0\n",
       "Total_price        0\n",
       "dtype: int64"
      ]
     },
     "execution_count": 55,
     "metadata": {},
     "output_type": "execute_result"
    }
   ],
   "source": [
    "loyalty_df.isna().sum()"
   ]
  },
  {
   "cell_type": "code",
   "execution_count": 56,
   "id": "d8feaec9",
   "metadata": {},
   "outputs": [],
   "source": [
    "#detailed view of purchases with date and total price for loyalty members\n",
    "loyalty_pivot=loyalty_df.pivot_table(index=['Purchase_year','Purchase_month','Purchase_week','Purchase_day','Customer_id','Shop_id'],values=['Purchase_id','Total_price'],aggfunc={'Purchase_id':'count','Total_price':'sum'}).reset_index()\n",
    "loyalty_pivot.columns=['Purchase_year','Purchase_month','Purchase_week','Purchase_day','Customer_id','Shop_id','Total_purchases','Total_price']"
   ]
  },
  {
   "cell_type": "code",
   "execution_count": 57,
   "id": "d802c64c",
   "metadata": {},
   "outputs": [
    {
     "data": {
      "text/html": [
       "<div>\n",
       "<style scoped>\n",
       "    .dataframe tbody tr th:only-of-type {\n",
       "        vertical-align: middle;\n",
       "    }\n",
       "\n",
       "    .dataframe tbody tr th {\n",
       "        vertical-align: top;\n",
       "    }\n",
       "\n",
       "    .dataframe thead th {\n",
       "        text-align: right;\n",
       "    }\n",
       "</style>\n",
       "<table border=\"1\" class=\"dataframe\">\n",
       "  <thead>\n",
       "    <tr style=\"text-align: right;\">\n",
       "      <th></th>\n",
       "      <th>Purchase_year</th>\n",
       "      <th>Purchase_month</th>\n",
       "      <th>Purchase_week</th>\n",
       "      <th>Purchase_day</th>\n",
       "      <th>Customer_id</th>\n",
       "      <th>Shop_id</th>\n",
       "      <th>Total_purchases</th>\n",
       "      <th>Total_price</th>\n",
       "    </tr>\n",
       "  </thead>\n",
       "  <tbody>\n",
       "    <tr>\n",
       "      <th>0</th>\n",
       "      <td>2016</td>\n",
       "      <td>12</td>\n",
       "      <td>48</td>\n",
       "      <td>2016-12-01</td>\n",
       "      <td>22135.0</td>\n",
       "      <td>Shop 11</td>\n",
       "      <td>16</td>\n",
       "      <td>425.90</td>\n",
       "    </tr>\n",
       "    <tr>\n",
       "      <th>1</th>\n",
       "      <td>2016</td>\n",
       "      <td>12</td>\n",
       "      <td>48</td>\n",
       "      <td>2016-12-01</td>\n",
       "      <td>22218.0</td>\n",
       "      <td>Shop 18</td>\n",
       "      <td>21</td>\n",
       "      <td>372.54</td>\n",
       "    </tr>\n",
       "    <tr>\n",
       "      <th>2</th>\n",
       "      <td>2016</td>\n",
       "      <td>12</td>\n",
       "      <td>48</td>\n",
       "      <td>2016-12-01</td>\n",
       "      <td>22231.0</td>\n",
       "      <td>Shop 19</td>\n",
       "      <td>5</td>\n",
       "      <td>39.60</td>\n",
       "    </tr>\n",
       "    <tr>\n",
       "      <th>3</th>\n",
       "      <td>2016</td>\n",
       "      <td>12</td>\n",
       "      <td>48</td>\n",
       "      <td>2016-12-01</td>\n",
       "      <td>22262.0</td>\n",
       "      <td>Shop 11</td>\n",
       "      <td>14</td>\n",
       "      <td>155.98</td>\n",
       "    </tr>\n",
       "    <tr>\n",
       "      <th>4</th>\n",
       "      <td>2016</td>\n",
       "      <td>12</td>\n",
       "      <td>48</td>\n",
       "      <td>2016-12-01</td>\n",
       "      <td>22514.0</td>\n",
       "      <td>Shop 12</td>\n",
       "      <td>5</td>\n",
       "      <td>38.65</td>\n",
       "    </tr>\n",
       "  </tbody>\n",
       "</table>\n",
       "</div>"
      ],
      "text/plain": [
       "   Purchase_year  Purchase_month  Purchase_week Purchase_day  Customer_id  \\\n",
       "0           2016              12             48   2016-12-01      22135.0   \n",
       "1           2016              12             48   2016-12-01      22218.0   \n",
       "2           2016              12             48   2016-12-01      22231.0   \n",
       "3           2016              12             48   2016-12-01      22262.0   \n",
       "4           2016              12             48   2016-12-01      22514.0   \n",
       "\n",
       "   Shop_id  Total_purchases  Total_price  \n",
       "0  Shop 11               16       425.90  \n",
       "1  Shop 18               21       372.54  \n",
       "2  Shop 19                5        39.60  \n",
       "3  Shop 11               14       155.98  \n",
       "4  Shop 12                5        38.65  "
      ]
     },
     "execution_count": 57,
     "metadata": {},
     "output_type": "execute_result"
    }
   ],
   "source": [
    "loyalty_pivot.head()"
   ]
  },
  {
   "cell_type": "code",
   "execution_count": 58,
   "id": "6a61d099",
   "metadata": {},
   "outputs": [
    {
     "data": {
      "text/plain": [
       "array(['Shop 11', 'Shop 18', 'Shop 19', 'Shop 12', 'Shop 22', 'Shop 1',\n",
       "       'Shop 10', 'Shop 9', 'Shop 16', 'Shop 5', 'Shop 28', 'Shop 24',\n",
       "       'Shop 29', 'Shop 2', 'Shop 26', 'Shop 4', 'Shop 14', 'Shop 17',\n",
       "       'Shop 27', 'Shop 15', 'Shop 25', 'Shop 30', 'Shop 7', 'Shop 8',\n",
       "       'Shop 13', 'Shop 23', 'Shop 6', 'Shop 3', 'Shop 20', 'Shop 0',\n",
       "       'Shop 21'], dtype=object)"
      ]
     },
     "execution_count": 58,
     "metadata": {},
     "output_type": "execute_result"
    }
   ],
   "source": [
    "#Total number of unique shops\n",
    "loyalty_pivot['Shop_id'].unique()"
   ]
  },
  {
   "cell_type": "code",
   "execution_count": 59,
   "id": "55326e47",
   "metadata": {},
   "outputs": [
    {
     "data": {
      "text/html": [
       "<div>\n",
       "<style scoped>\n",
       "    .dataframe tbody tr th:only-of-type {\n",
       "        vertical-align: middle;\n",
       "    }\n",
       "\n",
       "    .dataframe tbody tr th {\n",
       "        vertical-align: top;\n",
       "    }\n",
       "\n",
       "    .dataframe thead th {\n",
       "        text-align: right;\n",
       "    }\n",
       "</style>\n",
       "<table border=\"1\" class=\"dataframe\">\n",
       "  <thead>\n",
       "    <tr style=\"text-align: right;\">\n",
       "      <th></th>\n",
       "      <th>Purchase_year</th>\n",
       "      <th>Purchase_month</th>\n",
       "      <th>Purchase_week</th>\n",
       "      <th>Total_purchases</th>\n",
       "      <th>Total_price</th>\n",
       "    </tr>\n",
       "  </thead>\n",
       "  <tbody>\n",
       "    <tr>\n",
       "      <th>0</th>\n",
       "      <td>2016</td>\n",
       "      <td>12</td>\n",
       "      <td>48</td>\n",
       "      <td>17966.18</td>\n",
       "      <td>2028</td>\n",
       "    </tr>\n",
       "    <tr>\n",
       "      <th>1</th>\n",
       "      <td>2016</td>\n",
       "      <td>12</td>\n",
       "      <td>49</td>\n",
       "      <td>54328.91</td>\n",
       "      <td>4111</td>\n",
       "    </tr>\n",
       "    <tr>\n",
       "      <th>2</th>\n",
       "      <td>2016</td>\n",
       "      <td>12</td>\n",
       "      <td>50</td>\n",
       "      <td>27356.14</td>\n",
       "      <td>2843</td>\n",
       "    </tr>\n",
       "    <tr>\n",
       "      <th>3</th>\n",
       "      <td>2016</td>\n",
       "      <td>12</td>\n",
       "      <td>51</td>\n",
       "      <td>7334.51</td>\n",
       "      <td>789</td>\n",
       "    </tr>\n",
       "    <tr>\n",
       "      <th>4</th>\n",
       "      <td>2017</td>\n",
       "      <td>1</td>\n",
       "      <td>1</td>\n",
       "      <td>12135.42</td>\n",
       "      <td>939</td>\n",
       "    </tr>\n",
       "    <tr>\n",
       "      <th>5</th>\n",
       "      <td>2017</td>\n",
       "      <td>1</td>\n",
       "      <td>2</td>\n",
       "      <td>19514.74</td>\n",
       "      <td>1652</td>\n",
       "    </tr>\n",
       "    <tr>\n",
       "      <th>6</th>\n",
       "      <td>2017</td>\n",
       "      <td>1</td>\n",
       "      <td>3</td>\n",
       "      <td>11765.01</td>\n",
       "      <td>1551</td>\n",
       "    </tr>\n",
       "    <tr>\n",
       "      <th>7</th>\n",
       "      <td>2017</td>\n",
       "      <td>1</td>\n",
       "      <td>4</td>\n",
       "      <td>14076.49</td>\n",
       "      <td>1693</td>\n",
       "    </tr>\n",
       "    <tr>\n",
       "      <th>8</th>\n",
       "      <td>2017</td>\n",
       "      <td>1</td>\n",
       "      <td>5</td>\n",
       "      <td>4618.64</td>\n",
       "      <td>797</td>\n",
       "    </tr>\n",
       "    <tr>\n",
       "      <th>9</th>\n",
       "      <td>2017</td>\n",
       "      <td>2</td>\n",
       "      <td>5</td>\n",
       "      <td>22982.64</td>\n",
       "      <td>1324</td>\n",
       "    </tr>\n",
       "    <tr>\n",
       "      <th>10</th>\n",
       "      <td>2017</td>\n",
       "      <td>2</td>\n",
       "      <td>6</td>\n",
       "      <td>25136.53</td>\n",
       "      <td>1353</td>\n",
       "    </tr>\n",
       "    <tr>\n",
       "      <th>11</th>\n",
       "      <td>2017</td>\n",
       "      <td>2</td>\n",
       "      <td>7</td>\n",
       "      <td>14168.36</td>\n",
       "      <td>1675</td>\n",
       "    </tr>\n",
       "    <tr>\n",
       "      <th>12</th>\n",
       "      <td>2017</td>\n",
       "      <td>2</td>\n",
       "      <td>8</td>\n",
       "      <td>26733.43</td>\n",
       "      <td>2220</td>\n",
       "    </tr>\n",
       "    <tr>\n",
       "      <th>13</th>\n",
       "      <td>2017</td>\n",
       "      <td>2</td>\n",
       "      <td>9</td>\n",
       "      <td>3408.61</td>\n",
       "      <td>437</td>\n",
       "    </tr>\n",
       "  </tbody>\n",
       "</table>\n",
       "</div>"
      ],
      "text/plain": [
       "    Purchase_year  Purchase_month  Purchase_week  Total_purchases  Total_price\n",
       "0            2016              12             48         17966.18         2028\n",
       "1            2016              12             49         54328.91         4111\n",
       "2            2016              12             50         27356.14         2843\n",
       "3            2016              12             51          7334.51          789\n",
       "4            2017               1              1         12135.42          939\n",
       "5            2017               1              2         19514.74         1652\n",
       "6            2017               1              3         11765.01         1551\n",
       "7            2017               1              4         14076.49         1693\n",
       "8            2017               1              5          4618.64          797\n",
       "9            2017               2              5         22982.64         1324\n",
       "10           2017               2              6         25136.53         1353\n",
       "11           2017               2              7         14168.36         1675\n",
       "12           2017               2              8         26733.43         2220\n",
       "13           2017               2              9          3408.61          437"
      ]
     },
     "execution_count": 59,
     "metadata": {},
     "output_type": "execute_result"
    }
   ],
   "source": [
    "loyalty_pivot_weekly=loyalty_pivot.pivot_table(index=['Purchase_year','Purchase_month','Purchase_week'],values=['Total_purchases','Total_price'],aggfunc={'Total_purchases':'sum','Total_price':'sum'}).reset_index()\n",
    "loyalty_pivot_weekly.columns=['Purchase_year','Purchase_month','Purchase_week','Total_purchases','Total_price']\n",
    "loyalty_pivot_weekly"
   ]
  },
  {
   "cell_type": "markdown",
   "id": "5d3cf677",
   "metadata": {},
   "source": [
    "<b>First week of the month doesn't have any major impact in total purchases or the total price ."
   ]
  },
  {
   "cell_type": "code",
   "execution_count": 60,
   "id": "cf3f3328",
   "metadata": {},
   "outputs": [
    {
     "data": {
      "text/html": [
       "<div>\n",
       "<style scoped>\n",
       "    .dataframe tbody tr th:only-of-type {\n",
       "        vertical-align: middle;\n",
       "    }\n",
       "\n",
       "    .dataframe tbody tr th {\n",
       "        vertical-align: top;\n",
       "    }\n",
       "\n",
       "    .dataframe thead th {\n",
       "        text-align: right;\n",
       "    }\n",
       "</style>\n",
       "<table border=\"1\" class=\"dataframe\">\n",
       "  <thead>\n",
       "    <tr style=\"text-align: right;\">\n",
       "      <th></th>\n",
       "      <th>Shop_id</th>\n",
       "      <th>Total_price</th>\n",
       "      <th>Total_purchases</th>\n",
       "      <th>loyalty</th>\n",
       "    </tr>\n",
       "  </thead>\n",
       "  <tbody>\n",
       "    <tr>\n",
       "      <th>22</th>\n",
       "      <td>Shop 29</td>\n",
       "      <td>17355.87</td>\n",
       "      <td>712</td>\n",
       "      <td>1</td>\n",
       "    </tr>\n",
       "    <tr>\n",
       "      <th>26</th>\n",
       "      <td>Shop 5</td>\n",
       "      <td>15538.77</td>\n",
       "      <td>775</td>\n",
       "      <td>1</td>\n",
       "    </tr>\n",
       "    <tr>\n",
       "      <th>19</th>\n",
       "      <td>Shop 26</td>\n",
       "      <td>15070.21</td>\n",
       "      <td>880</td>\n",
       "      <td>1</td>\n",
       "    </tr>\n",
       "    <tr>\n",
       "      <th>23</th>\n",
       "      <td>Shop 3</td>\n",
       "      <td>11830.23</td>\n",
       "      <td>683</td>\n",
       "      <td>1</td>\n",
       "    </tr>\n",
       "    <tr>\n",
       "      <th>24</th>\n",
       "      <td>Shop 30</td>\n",
       "      <td>11301.74</td>\n",
       "      <td>689</td>\n",
       "      <td>1</td>\n",
       "    </tr>\n",
       "  </tbody>\n",
       "</table>\n",
       "</div>"
      ],
      "text/plain": [
       "    Shop_id  Total_price  Total_purchases  loyalty\n",
       "22  Shop 29     17355.87              712        1\n",
       "26   Shop 5     15538.77              775        1\n",
       "19  Shop 26     15070.21              880        1\n",
       "23   Shop 3     11830.23              683        1\n",
       "24  Shop 30     11301.74              689        1"
      ]
     },
     "execution_count": 60,
     "metadata": {},
     "output_type": "execute_result"
    }
   ],
   "source": [
    "#deriving shopwise purchases and total price data\n",
    "loyalty_in_shops=loyalty_pivot.pivot_table(index='Shop_id',values=['Total_purchases','Total_price'],aggfunc={'Total_purchases':'sum','Total_price':'sum'}).reset_index()\n",
    "loyalty_in_shops.columns=['Shop_id','Total_price','Total_purchases']\n",
    "loyalty_in_shops=loyalty_in_shops.sort_values(by='Total_price',ascending=False)\n",
    "loyalty_in_shops['loyalty']=1\n",
    "loyalty_in_shops.head()"
   ]
  },
  {
   "cell_type": "code",
   "execution_count": 61,
   "id": "fb0e1786",
   "metadata": {},
   "outputs": [
    {
     "data": {
      "text/html": [
       "<div>\n",
       "<style scoped>\n",
       "    .dataframe tbody tr th:only-of-type {\n",
       "        vertical-align: middle;\n",
       "    }\n",
       "\n",
       "    .dataframe tbody tr th {\n",
       "        vertical-align: top;\n",
       "    }\n",
       "\n",
       "    .dataframe thead th {\n",
       "        text-align: right;\n",
       "    }\n",
       "</style>\n",
       "<table border=\"1\" class=\"dataframe\">\n",
       "  <thead>\n",
       "    <tr style=\"text-align: right;\">\n",
       "      <th></th>\n",
       "      <th>Total_price</th>\n",
       "      <th>Total_purchases</th>\n",
       "      <th>loyalty</th>\n",
       "    </tr>\n",
       "  </thead>\n",
       "  <tbody>\n",
       "    <tr>\n",
       "      <th>count</th>\n",
       "      <td>31.000000</td>\n",
       "      <td>31.000000</td>\n",
       "      <td>31.0</td>\n",
       "    </tr>\n",
       "    <tr>\n",
       "      <th>mean</th>\n",
       "      <td>8436.310000</td>\n",
       "      <td>755.225806</td>\n",
       "      <td>1.0</td>\n",
       "    </tr>\n",
       "    <tr>\n",
       "      <th>std</th>\n",
       "      <td>3129.406399</td>\n",
       "      <td>131.658323</td>\n",
       "      <td>0.0</td>\n",
       "    </tr>\n",
       "    <tr>\n",
       "      <th>min</th>\n",
       "      <td>4605.770000</td>\n",
       "      <td>510.000000</td>\n",
       "      <td>1.0</td>\n",
       "    </tr>\n",
       "    <tr>\n",
       "      <th>25%</th>\n",
       "      <td>6444.295000</td>\n",
       "      <td>672.000000</td>\n",
       "      <td>1.0</td>\n",
       "    </tr>\n",
       "    <tr>\n",
       "      <th>50%</th>\n",
       "      <td>7534.730000</td>\n",
       "      <td>729.000000</td>\n",
       "      <td>1.0</td>\n",
       "    </tr>\n",
       "    <tr>\n",
       "      <th>75%</th>\n",
       "      <td>9333.275000</td>\n",
       "      <td>832.000000</td>\n",
       "      <td>1.0</td>\n",
       "    </tr>\n",
       "    <tr>\n",
       "      <th>max</th>\n",
       "      <td>17355.870000</td>\n",
       "      <td>1027.000000</td>\n",
       "      <td>1.0</td>\n",
       "    </tr>\n",
       "  </tbody>\n",
       "</table>\n",
       "</div>"
      ],
      "text/plain": [
       "        Total_price  Total_purchases  loyalty\n",
       "count     31.000000        31.000000     31.0\n",
       "mean    8436.310000       755.225806      1.0\n",
       "std     3129.406399       131.658323      0.0\n",
       "min     4605.770000       510.000000      1.0\n",
       "25%     6444.295000       672.000000      1.0\n",
       "50%     7534.730000       729.000000      1.0\n",
       "75%     9333.275000       832.000000      1.0\n",
       "max    17355.870000      1027.000000      1.0"
      ]
     },
     "execution_count": 61,
     "metadata": {},
     "output_type": "execute_result"
    }
   ],
   "source": [
    "loyalty_in_shops.describe()"
   ]
  },
  {
   "cell_type": "markdown",
   "id": "583afae7",
   "metadata": {},
   "source": [
    "***We don't see any  major anamoly/outlier based on the above data.***"
   ]
  },
  {
   "cell_type": "code",
   "execution_count": 62,
   "id": "46fb1d32",
   "metadata": {},
   "outputs": [
    {
     "data": {
      "image/png": "[encoded data removed]",
      "text/plain": [
       "<Figure size 576x504 with 1 Axes>"
      ]
     },
     "metadata": {
      "needs_background": "light"
     },
     "output_type": "display_data"
    }
   ],
   "source": [
    "#plotting shopwise total purchases \n",
    "plt.subplots(figsize=(8,7))\n",
    "plt.title('Shops vs Total purchase - Loyalty members')\n",
    "plt.xticks(rotation=90)\n",
    "sns.barplot(x='Shop_id',y='Total_purchases',data=loyalty_in_shops,order=loyalty_in_shops.sort_values('Total_purchases').Shop_id)\n",
    "plt.show()"
   ]
  },
  {
   "cell_type": "code",
   "execution_count": 63,
   "id": "7df0afa4",
   "metadata": {},
   "outputs": [
    {
     "data": {
      "image/png": "[encoded data removed]",
      "text/plain": [
       "<Figure size 576x504 with 1 Axes>"
      ]
     },
     "metadata": {
      "needs_background": "light"
     },
     "output_type": "display_data"
    }
   ],
   "source": [
    "plt.subplots(figsize=(8,7))\n",
    "plt.title('Shops vs Total price - Loyalty members')\n",
    "plt.xticks(rotation=90)\n",
    "sns.barplot(x='Shop_id',y='Total_price',data=loyalty_in_shops,order=loyalty_in_shops.sort_values('Total_price').Shop_id)\n",
    "plt.show()           "
   ]
  },
  {
   "cell_type": "markdown",
   "id": "e0d92fc9",
   "metadata": {},
   "source": [
    "<b>Based on the above 2 plots ,  \n",
    "    \n",
    "1.Shops 13,2,24,1,11 are the top 5 shops in terms of total purchases made  \n",
    "and Shops 29,25,26,3,30 are the shops with highest total prices of purchases made.  \n",
    "2.There is no steep increase in Total Purchase made in different shops whereas the shops with highest total price  \n",
    "has some spike in total price compared to other shops.  \n",
    "3.This concludes that shops that have highest total purchases might represent some cheaper products whereas the   \n",
    "Shops with highest total price might be having fewer purchase of pricy products .."
   ]
  },
  {
   "cell_type": "code",
   "execution_count": 64,
   "id": "696419f0",
   "metadata": {},
   "outputs": [
    {
     "data": {
      "text/html": [
       "<div>\n",
       "<style scoped>\n",
       "    .dataframe tbody tr th:only-of-type {\n",
       "        vertical-align: middle;\n",
       "    }\n",
       "\n",
       "    .dataframe tbody tr th {\n",
       "        vertical-align: top;\n",
       "    }\n",
       "\n",
       "    .dataframe thead th {\n",
       "        text-align: right;\n",
       "    }\n",
       "</style>\n",
       "<table border=\"1\" class=\"dataframe\">\n",
       "  <thead>\n",
       "    <tr style=\"text-align: right;\">\n",
       "      <th></th>\n",
       "      <th>Purchase_id</th>\n",
       "      <th>Item_id</th>\n",
       "      <th>Quantity</th>\n",
       "      <th>Purchase_date</th>\n",
       "      <th>Customer_id</th>\n",
       "      <th>Loyalty_program</th>\n",
       "      <th>Shop_id</th>\n",
       "      <th>Price_per_one</th>\n",
       "      <th>Purchase_year</th>\n",
       "      <th>Purchase_month</th>\n",
       "      <th>Purchase_week</th>\n",
       "      <th>Purchase_day</th>\n",
       "      <th>Total_price</th>\n",
       "    </tr>\n",
       "  </thead>\n",
       "  <tbody>\n",
       "    <tr>\n",
       "      <th>0</th>\n",
       "      <td>538280</td>\n",
       "      <td>21873</td>\n",
       "      <td>11</td>\n",
       "      <td>2016-12-10 12:50:00</td>\n",
       "      <td>18427.0</td>\n",
       "      <td>0</td>\n",
       "      <td>Shop 3</td>\n",
       "      <td>0.42</td>\n",
       "      <td>2016</td>\n",
       "      <td>12</td>\n",
       "      <td>49</td>\n",
       "      <td>2016-12-10</td>\n",
       "      <td>4.62</td>\n",
       "    </tr>\n",
       "    <tr>\n",
       "      <th>1</th>\n",
       "      <td>541104</td>\n",
       "      <td>21873</td>\n",
       "      <td>0</td>\n",
       "      <td>2017-01-13 14:29:00</td>\n",
       "      <td>18427.0</td>\n",
       "      <td>0</td>\n",
       "      <td>Shop 0</td>\n",
       "      <td>0.42</td>\n",
       "      <td>2017</td>\n",
       "      <td>1</td>\n",
       "      <td>2</td>\n",
       "      <td>2017-01-13</td>\n",
       "      <td>0.00</td>\n",
       "    </tr>\n",
       "    <tr>\n",
       "      <th>2</th>\n",
       "      <td>540418</td>\n",
       "      <td>21873</td>\n",
       "      <td>1</td>\n",
       "      <td>2017-01-07 11:04:00</td>\n",
       "      <td>18427.0</td>\n",
       "      <td>0</td>\n",
       "      <td>Shop 0</td>\n",
       "      <td>0.42</td>\n",
       "      <td>2017</td>\n",
       "      <td>1</td>\n",
       "      <td>1</td>\n",
       "      <td>2017-01-07</td>\n",
       "      <td>0.42</td>\n",
       "    </tr>\n",
       "    <tr>\n",
       "      <th>3</th>\n",
       "      <td>541516</td>\n",
       "      <td>21873</td>\n",
       "      <td>2</td>\n",
       "      <td>2017-01-18 17:34:00</td>\n",
       "      <td>18427.0</td>\n",
       "      <td>0</td>\n",
       "      <td>Shop 0</td>\n",
       "      <td>0.42</td>\n",
       "      <td>2017</td>\n",
       "      <td>1</td>\n",
       "      <td>3</td>\n",
       "      <td>2017-01-18</td>\n",
       "      <td>0.84</td>\n",
       "    </tr>\n",
       "    <tr>\n",
       "      <th>5</th>\n",
       "      <td>538843</td>\n",
       "      <td>21873</td>\n",
       "      <td>1</td>\n",
       "      <td>2016-12-14 13:18:00</td>\n",
       "      <td>21712.0</td>\n",
       "      <td>0</td>\n",
       "      <td>Shop 9</td>\n",
       "      <td>0.42</td>\n",
       "      <td>2016</td>\n",
       "      <td>12</td>\n",
       "      <td>50</td>\n",
       "      <td>2016-12-14</td>\n",
       "      <td>0.42</td>\n",
       "    </tr>\n",
       "  </tbody>\n",
       "</table>\n",
       "</div>"
      ],
      "text/plain": [
       "  Purchase_id Item_id  Quantity       Purchase_date  Customer_id  \\\n",
       "0      538280   21873        11 2016-12-10 12:50:00      18427.0   \n",
       "1      541104   21873         0 2017-01-13 14:29:00      18427.0   \n",
       "2      540418   21873         1 2017-01-07 11:04:00      18427.0   \n",
       "3      541516   21873         2 2017-01-18 17:34:00      18427.0   \n",
       "5      538843   21873         1 2016-12-14 13:18:00      21712.0   \n",
       "\n",
       "  Loyalty_program Shop_id  Price_per_one  Purchase_year  Purchase_month  \\\n",
       "0               0  Shop 3           0.42           2016              12   \n",
       "1               0  Shop 0           0.42           2017               1   \n",
       "2               0  Shop 0           0.42           2017               1   \n",
       "3               0  Shop 0           0.42           2017               1   \n",
       "5               0  Shop 9           0.42           2016              12   \n",
       "\n",
       "   Purchase_week Purchase_day  Total_price  \n",
       "0             49   2016-12-10         4.62  \n",
       "1              2   2017-01-13         0.00  \n",
       "2              1   2017-01-07         0.42  \n",
       "3              3   2017-01-18         0.84  \n",
       "5             50   2016-12-14         0.42  "
      ]
     },
     "execution_count": 64,
     "metadata": {},
     "output_type": "execute_result"
    }
   ],
   "source": [
    "#analysing users not in loyalty program\n",
    "not_in_loyalty_df=retail_df[retail_df['Loyalty_program']==0]\n",
    "not_in_loyalty_df.head()"
   ]
  },
  {
   "cell_type": "code",
   "execution_count": 65,
   "id": "4651c04b",
   "metadata": {},
   "outputs": [
    {
     "data": {
      "text/plain": [
       "0"
      ]
     },
     "execution_count": 65,
     "metadata": {},
     "output_type": "execute_result"
    }
   ],
   "source": [
    "not_in_loyalty_df.duplicated().sum()"
   ]
  },
  {
   "cell_type": "code",
   "execution_count": 66,
   "id": "6763355e",
   "metadata": {},
   "outputs": [
    {
     "data": {
      "text/plain": [
       "Purchase_id        0\n",
       "Item_id            0\n",
       "Quantity           0\n",
       "Purchase_date      0\n",
       "Customer_id        0\n",
       "Loyalty_program    0\n",
       "Shop_id            0\n",
       "Price_per_one      0\n",
       "Purchase_year      0\n",
       "Purchase_month     0\n",
       "Purchase_week      0\n",
       "Purchase_day       0\n",
       "Total_price        0\n",
       "dtype: int64"
      ]
     },
     "execution_count": 66,
     "metadata": {},
     "output_type": "execute_result"
    }
   ],
   "source": [
    "not_in_loyalty_df.isna().sum()"
   ]
  },
  {
   "cell_type": "code",
   "execution_count": 67,
   "id": "73c1b571",
   "metadata": {},
   "outputs": [
    {
     "data": {
      "text/html": [
       "<div>\n",
       "<style scoped>\n",
       "    .dataframe tbody tr th:only-of-type {\n",
       "        vertical-align: middle;\n",
       "    }\n",
       "\n",
       "    .dataframe tbody tr th {\n",
       "        vertical-align: top;\n",
       "    }\n",
       "\n",
       "    .dataframe thead th {\n",
       "        text-align: right;\n",
       "    }\n",
       "</style>\n",
       "<table border=\"1\" class=\"dataframe\">\n",
       "  <thead>\n",
       "    <tr style=\"text-align: right;\">\n",
       "      <th></th>\n",
       "      <th>Purchase_id</th>\n",
       "      <th>Item_id</th>\n",
       "      <th>Quantity</th>\n",
       "      <th>Purchase_date</th>\n",
       "      <th>Customer_id</th>\n",
       "      <th>Loyalty_program</th>\n",
       "      <th>Shop_id</th>\n",
       "      <th>Price_per_one</th>\n",
       "      <th>Purchase_year</th>\n",
       "      <th>Purchase_month</th>\n",
       "      <th>Purchase_week</th>\n",
       "      <th>Purchase_day</th>\n",
       "      <th>Total_price</th>\n",
       "    </tr>\n",
       "  </thead>\n",
       "  <tbody>\n",
       "    <tr>\n",
       "      <th>51298</th>\n",
       "      <td>536368</td>\n",
       "      <td>22914</td>\n",
       "      <td>2</td>\n",
       "      <td>2016-12-01 08:34:00</td>\n",
       "      <td>18726.0</td>\n",
       "      <td>0</td>\n",
       "      <td>Shop 12</td>\n",
       "      <td>4.95</td>\n",
       "      <td>2016</td>\n",
       "      <td>12</td>\n",
       "      <td>48</td>\n",
       "      <td>2016-12-01</td>\n",
       "      <td>9.90</td>\n",
       "    </tr>\n",
       "    <tr>\n",
       "      <th>84241</th>\n",
       "      <td>536367</td>\n",
       "      <td>22623</td>\n",
       "      <td>2</td>\n",
       "      <td>2016-12-01 08:34:00</td>\n",
       "      <td>18726.0</td>\n",
       "      <td>0</td>\n",
       "      <td>Shop 2</td>\n",
       "      <td>4.25</td>\n",
       "      <td>2016</td>\n",
       "      <td>12</td>\n",
       "      <td>48</td>\n",
       "      <td>2016-12-01</td>\n",
       "      <td>8.50</td>\n",
       "    </tr>\n",
       "    <tr>\n",
       "      <th>23613</th>\n",
       "      <td>536368</td>\n",
       "      <td>22960</td>\n",
       "      <td>5</td>\n",
       "      <td>2016-12-01 08:34:00</td>\n",
       "      <td>18726.0</td>\n",
       "      <td>0</td>\n",
       "      <td>Shop 12</td>\n",
       "      <td>3.75</td>\n",
       "      <td>2016</td>\n",
       "      <td>12</td>\n",
       "      <td>48</td>\n",
       "      <td>2016-12-01</td>\n",
       "      <td>18.75</td>\n",
       "    </tr>\n",
       "    <tr>\n",
       "      <th>9246</th>\n",
       "      <td>536367</td>\n",
       "      <td>22622</td>\n",
       "      <td>1</td>\n",
       "      <td>2016-12-01 08:34:00</td>\n",
       "      <td>18726.0</td>\n",
       "      <td>0</td>\n",
       "      <td>Shop 2</td>\n",
       "      <td>8.50</td>\n",
       "      <td>2016</td>\n",
       "      <td>12</td>\n",
       "      <td>48</td>\n",
       "      <td>2016-12-01</td>\n",
       "      <td>8.50</td>\n",
       "    </tr>\n",
       "    <tr>\n",
       "      <th>85105</th>\n",
       "      <td>536367</td>\n",
       "      <td>22745</td>\n",
       "      <td>5</td>\n",
       "      <td>2016-12-01 08:34:00</td>\n",
       "      <td>18726.0</td>\n",
       "      <td>0</td>\n",
       "      <td>Shop 2</td>\n",
       "      <td>1.85</td>\n",
       "      <td>2016</td>\n",
       "      <td>12</td>\n",
       "      <td>48</td>\n",
       "      <td>2016-12-01</td>\n",
       "      <td>9.25</td>\n",
       "    </tr>\n",
       "  </tbody>\n",
       "</table>\n",
       "</div>"
      ],
      "text/plain": [
       "      Purchase_id Item_id  Quantity       Purchase_date  Customer_id  \\\n",
       "51298      536368   22914         2 2016-12-01 08:34:00      18726.0   \n",
       "84241      536367   22623         2 2016-12-01 08:34:00      18726.0   \n",
       "23613      536368   22960         5 2016-12-01 08:34:00      18726.0   \n",
       "9246       536367   22622         1 2016-12-01 08:34:00      18726.0   \n",
       "85105      536367   22745         5 2016-12-01 08:34:00      18726.0   \n",
       "\n",
       "      Loyalty_program  Shop_id  Price_per_one  Purchase_year  Purchase_month  \\\n",
       "51298               0  Shop 12           4.95           2016              12   \n",
       "84241               0   Shop 2           4.25           2016              12   \n",
       "23613               0  Shop 12           3.75           2016              12   \n",
       "9246                0   Shop 2           8.50           2016              12   \n",
       "85105               0   Shop 2           1.85           2016              12   \n",
       "\n",
       "       Purchase_week Purchase_day  Total_price  \n",
       "51298             48   2016-12-01         9.90  \n",
       "84241             48   2016-12-01         8.50  \n",
       "23613             48   2016-12-01        18.75  \n",
       "9246              48   2016-12-01         8.50  \n",
       "85105             48   2016-12-01         9.25  "
      ]
     },
     "execution_count": 67,
     "metadata": {},
     "output_type": "execute_result"
    }
   ],
   "source": [
    "not_in_loyalty_df.sort_values(by='Purchase_date').head()"
   ]
  },
  {
   "cell_type": "code",
   "execution_count": 68,
   "id": "4cdaf920",
   "metadata": {},
   "outputs": [
    {
     "data": {
      "text/plain": [
       "array([18427.])"
      ]
     },
     "execution_count": 68,
     "metadata": {},
     "output_type": "execute_result"
    }
   ],
   "source": [
    "#analyse data\n",
    "not_in_loyalty_df[not_in_loyalty_df['Purchase_id']=='544681']['Customer_id'].unique()"
   ]
  },
  {
   "cell_type": "code",
   "execution_count": 69,
   "id": "79667c6a",
   "metadata": {},
   "outputs": [
    {
     "data": {
      "text/plain": [
       "array([18427.])"
      ]
     },
     "execution_count": 69,
     "metadata": {},
     "output_type": "execute_result"
    }
   ],
   "source": [
    "#analyse data\n",
    "not_in_loyalty_df[not_in_loyalty_df['Purchase_id']=='538349']['Customer_id'].unique()"
   ]
  },
  {
   "cell_type": "code",
   "execution_count": 70,
   "id": "107b5ffa",
   "metadata": {},
   "outputs": [
    {
     "data": {
      "text/html": [
       "<div>\n",
       "<style scoped>\n",
       "    .dataframe tbody tr th:only-of-type {\n",
       "        vertical-align: middle;\n",
       "    }\n",
       "\n",
       "    .dataframe tbody tr th {\n",
       "        vertical-align: top;\n",
       "    }\n",
       "\n",
       "    .dataframe thead th {\n",
       "        text-align: right;\n",
       "    }\n",
       "</style>\n",
       "<table border=\"1\" class=\"dataframe\">\n",
       "  <thead>\n",
       "    <tr style=\"text-align: right;\">\n",
       "      <th></th>\n",
       "      <th>Purchase_id</th>\n",
       "      <th>Item_id</th>\n",
       "      <th>Quantity</th>\n",
       "      <th>Purchase_date</th>\n",
       "      <th>Customer_id</th>\n",
       "      <th>Loyalty_program</th>\n",
       "      <th>Shop_id</th>\n",
       "      <th>Price_per_one</th>\n",
       "      <th>Purchase_year</th>\n",
       "      <th>Purchase_month</th>\n",
       "      <th>Purchase_week</th>\n",
       "      <th>Purchase_day</th>\n",
       "      <th>Total_price</th>\n",
       "    </tr>\n",
       "  </thead>\n",
       "  <tbody>\n",
       "    <tr>\n",
       "      <th>861</th>\n",
       "      <td>538145</td>\n",
       "      <td>82494L</td>\n",
       "      <td>5</td>\n",
       "      <td>2016-12-09 16:08:00</td>\n",
       "      <td>20890.0</td>\n",
       "      <td>0</td>\n",
       "      <td>Shop 20</td>\n",
       "      <td>2.55</td>\n",
       "      <td>2016</td>\n",
       "      <td>12</td>\n",
       "      <td>49</td>\n",
       "      <td>2016-12-09</td>\n",
       "      <td>12.75</td>\n",
       "    </tr>\n",
       "    <tr>\n",
       "      <th>8295</th>\n",
       "      <td>538145</td>\n",
       "      <td>85123A</td>\n",
       "      <td>5</td>\n",
       "      <td>2016-12-09 16:08:00</td>\n",
       "      <td>20890.0</td>\n",
       "      <td>0</td>\n",
       "      <td>Shop 20</td>\n",
       "      <td>0.00</td>\n",
       "      <td>2016</td>\n",
       "      <td>12</td>\n",
       "      <td>49</td>\n",
       "      <td>2016-12-09</td>\n",
       "      <td>0.00</td>\n",
       "    </tr>\n",
       "    <tr>\n",
       "      <th>15731</th>\n",
       "      <td>538145</td>\n",
       "      <td>84913B</td>\n",
       "      <td>3</td>\n",
       "      <td>2016-12-09 16:08:00</td>\n",
       "      <td>20890.0</td>\n",
       "      <td>0</td>\n",
       "      <td>Shop 20</td>\n",
       "      <td>3.29</td>\n",
       "      <td>2016</td>\n",
       "      <td>12</td>\n",
       "      <td>49</td>\n",
       "      <td>2016-12-09</td>\n",
       "      <td>9.87</td>\n",
       "    </tr>\n",
       "    <tr>\n",
       "      <th>20864</th>\n",
       "      <td>538145</td>\n",
       "      <td>22469</td>\n",
       "      <td>11</td>\n",
       "      <td>2016-12-09 16:08:00</td>\n",
       "      <td>20890.0</td>\n",
       "      <td>0</td>\n",
       "      <td>Shop 20</td>\n",
       "      <td>1.45</td>\n",
       "      <td>2016</td>\n",
       "      <td>12</td>\n",
       "      <td>49</td>\n",
       "      <td>2016-12-09</td>\n",
       "      <td>15.95</td>\n",
       "    </tr>\n",
       "    <tr>\n",
       "      <th>23190</th>\n",
       "      <td>538145</td>\n",
       "      <td>22236</td>\n",
       "      <td>0</td>\n",
       "      <td>2016-12-09 16:08:00</td>\n",
       "      <td>20890.0</td>\n",
       "      <td>0</td>\n",
       "      <td>Shop 20</td>\n",
       "      <td>10.95</td>\n",
       "      <td>2016</td>\n",
       "      <td>12</td>\n",
       "      <td>49</td>\n",
       "      <td>2016-12-09</td>\n",
       "      <td>0.00</td>\n",
       "    </tr>\n",
       "  </tbody>\n",
       "</table>\n",
       "</div>"
      ],
      "text/plain": [
       "      Purchase_id Item_id  Quantity       Purchase_date  Customer_id  \\\n",
       "861        538145  82494L         5 2016-12-09 16:08:00      20890.0   \n",
       "8295       538145  85123A         5 2016-12-09 16:08:00      20890.0   \n",
       "15731      538145  84913B         3 2016-12-09 16:08:00      20890.0   \n",
       "20864      538145   22469        11 2016-12-09 16:08:00      20890.0   \n",
       "23190      538145   22236         0 2016-12-09 16:08:00      20890.0   \n",
       "\n",
       "      Loyalty_program  Shop_id  Price_per_one  Purchase_year  Purchase_month  \\\n",
       "861                 0  Shop 20           2.55           2016              12   \n",
       "8295                0  Shop 20           0.00           2016              12   \n",
       "15731               0  Shop 20           3.29           2016              12   \n",
       "20864               0  Shop 20           1.45           2016              12   \n",
       "23190               0  Shop 20          10.95           2016              12   \n",
       "\n",
       "       Purchase_week Purchase_day  Total_price  \n",
       "861               49   2016-12-09        12.75  \n",
       "8295              49   2016-12-09         0.00  \n",
       "15731             49   2016-12-09         9.87  \n",
       "20864             49   2016-12-09        15.95  \n",
       "23190             49   2016-12-09         0.00  "
      ]
     },
     "execution_count": 70,
     "metadata": {},
     "output_type": "execute_result"
    }
   ],
   "source": [
    "#analyse data\n",
    "not_in_loyalty_df[not_in_loyalty_df['Purchase_id']=='538145'].head()"
   ]
  },
  {
   "cell_type": "markdown",
   "id": "2387e827",
   "metadata": {},
   "source": [
    "***So , we got the final data of members  not in loyalty program to proceed with analysis.***"
   ]
  },
  {
   "cell_type": "code",
   "execution_count": 71,
   "id": "f494b961",
   "metadata": {},
   "outputs": [
    {
     "data": {
      "text/plain": [
       "1162"
      ]
     },
     "execution_count": 71,
     "metadata": {},
     "output_type": "execute_result"
    }
   ],
   "source": [
    "#number of unique customers\n",
    "not_in_loyalty_df['Customer_id'].nunique()"
   ]
  },
  {
   "cell_type": "code",
   "execution_count": 72,
   "id": "ddafd42e",
   "metadata": {},
   "outputs": [
    {
     "data": {
      "text/html": [
       "<div>\n",
       "<style scoped>\n",
       "    .dataframe tbody tr th:only-of-type {\n",
       "        vertical-align: middle;\n",
       "    }\n",
       "\n",
       "    .dataframe tbody tr th {\n",
       "        vertical-align: top;\n",
       "    }\n",
       "\n",
       "    .dataframe thead th {\n",
       "        text-align: right;\n",
       "    }\n",
       "</style>\n",
       "<table border=\"1\" class=\"dataframe\">\n",
       "  <thead>\n",
       "    <tr style=\"text-align: right;\">\n",
       "      <th></th>\n",
       "      <th>Purchase_year</th>\n",
       "      <th>Purchase_month</th>\n",
       "      <th>Purchase_week</th>\n",
       "      <th>Purchase_day</th>\n",
       "      <th>Customer_id</th>\n",
       "      <th>Shop_id</th>\n",
       "      <th>Total_purchases</th>\n",
       "      <th>Total_price</th>\n",
       "    </tr>\n",
       "  </thead>\n",
       "  <tbody>\n",
       "    <tr>\n",
       "      <th>0</th>\n",
       "      <td>2016</td>\n",
       "      <td>12</td>\n",
       "      <td>48</td>\n",
       "      <td>2016-12-01</td>\n",
       "      <td>18110.0</td>\n",
       "      <td>Shop 10</td>\n",
       "      <td>14</td>\n",
       "      <td>215.27</td>\n",
       "    </tr>\n",
       "    <tr>\n",
       "      <th>1</th>\n",
       "      <td>2016</td>\n",
       "      <td>12</td>\n",
       "      <td>48</td>\n",
       "      <td>2016-12-01</td>\n",
       "      <td>18112.0</td>\n",
       "      <td>Shop 27</td>\n",
       "      <td>73</td>\n",
       "      <td>1050.72</td>\n",
       "    </tr>\n",
       "    <tr>\n",
       "      <th>2</th>\n",
       "      <td>2016</td>\n",
       "      <td>12</td>\n",
       "      <td>48</td>\n",
       "      <td>2016-12-01</td>\n",
       "      <td>18151.0</td>\n",
       "      <td>Shop 0</td>\n",
       "      <td>14</td>\n",
       "      <td>-91.64</td>\n",
       "    </tr>\n",
       "    <tr>\n",
       "      <th>3</th>\n",
       "      <td>2016</td>\n",
       "      <td>12</td>\n",
       "      <td>48</td>\n",
       "      <td>2016-12-01</td>\n",
       "      <td>18262.0</td>\n",
       "      <td>Shop 0</td>\n",
       "      <td>20</td>\n",
       "      <td>644.57</td>\n",
       "    </tr>\n",
       "    <tr>\n",
       "      <th>4</th>\n",
       "      <td>2016</td>\n",
       "      <td>12</td>\n",
       "      <td>48</td>\n",
       "      <td>2016-12-01</td>\n",
       "      <td>18341.0</td>\n",
       "      <td>Shop 14</td>\n",
       "      <td>15</td>\n",
       "      <td>136.35</td>\n",
       "    </tr>\n",
       "  </tbody>\n",
       "</table>\n",
       "</div>"
      ],
      "text/plain": [
       "   Purchase_year  Purchase_month  Purchase_week Purchase_day  Customer_id  \\\n",
       "0           2016              12             48   2016-12-01      18110.0   \n",
       "1           2016              12             48   2016-12-01      18112.0   \n",
       "2           2016              12             48   2016-12-01      18151.0   \n",
       "3           2016              12             48   2016-12-01      18262.0   \n",
       "4           2016              12             48   2016-12-01      18341.0   \n",
       "\n",
       "   Shop_id  Total_purchases  Total_price  \n",
       "0  Shop 10               14       215.27  \n",
       "1  Shop 27               73      1050.72  \n",
       "2   Shop 0               14       -91.64  \n",
       "3   Shop 0               20       644.57  \n",
       "4  Shop 14               15       136.35  "
      ]
     },
     "execution_count": 72,
     "metadata": {},
     "output_type": "execute_result"
    }
   ],
   "source": [
    "#gettng detailed view based on the date ,customer and shop id\n",
    "not_in_loyalty_pivot=not_in_loyalty_df.pivot_table(index=['Purchase_year','Purchase_month','Purchase_week','Purchase_day','Customer_id','Shop_id'],values=['Purchase_id','Total_price'],aggfunc={'Purchase_id':'count','Total_price':'sum'}).reset_index()\n",
    "not_in_loyalty_pivot.columns=['Purchase_year','Purchase_month','Purchase_week','Purchase_day','Customer_id','Shop_id','Total_purchases','Total_price']\n",
    "not_in_loyalty_pivot.head()"
   ]
  },
  {
   "cell_type": "code",
   "execution_count": 73,
   "id": "6a15efd1",
   "metadata": {},
   "outputs": [
    {
     "data": {
      "text/html": [
       "<div>\n",
       "<style scoped>\n",
       "    .dataframe tbody tr th:only-of-type {\n",
       "        vertical-align: middle;\n",
       "    }\n",
       "\n",
       "    .dataframe tbody tr th {\n",
       "        vertical-align: top;\n",
       "    }\n",
       "\n",
       "    .dataframe thead th {\n",
       "        text-align: right;\n",
       "    }\n",
       "</style>\n",
       "<table border=\"1\" class=\"dataframe\">\n",
       "  <thead>\n",
       "    <tr style=\"text-align: right;\">\n",
       "      <th></th>\n",
       "      <th>Shop_id</th>\n",
       "      <th>Total_price</th>\n",
       "      <th>Total_purchases</th>\n",
       "      <th>loyalty</th>\n",
       "    </tr>\n",
       "  </thead>\n",
       "  <tbody>\n",
       "    <tr>\n",
       "      <th>7</th>\n",
       "      <td>Shop 15</td>\n",
       "      <td>103029.07</td>\n",
       "      <td>1854</td>\n",
       "      <td>0</td>\n",
       "    </tr>\n",
       "    <tr>\n",
       "      <th>0</th>\n",
       "      <td>Shop 0</td>\n",
       "      <td>98382.34</td>\n",
       "      <td>37466</td>\n",
       "      <td>0</td>\n",
       "    </tr>\n",
       "    <tr>\n",
       "      <th>26</th>\n",
       "      <td>Shop 5</td>\n",
       "      <td>47507.37</td>\n",
       "      <td>1694</td>\n",
       "      <td>0</td>\n",
       "    </tr>\n",
       "    <tr>\n",
       "      <th>25</th>\n",
       "      <td>Shop 4</td>\n",
       "      <td>33891.57</td>\n",
       "      <td>1454</td>\n",
       "      <td>0</td>\n",
       "    </tr>\n",
       "    <tr>\n",
       "      <th>13</th>\n",
       "      <td>Shop 20</td>\n",
       "      <td>31724.15</td>\n",
       "      <td>1642</td>\n",
       "      <td>0</td>\n",
       "    </tr>\n",
       "  </tbody>\n",
       "</table>\n",
       "</div>"
      ],
      "text/plain": [
       "    Shop_id  Total_price  Total_purchases  loyalty\n",
       "7   Shop 15    103029.07             1854        0\n",
       "0    Shop 0     98382.34            37466        0\n",
       "26   Shop 5     47507.37             1694        0\n",
       "25   Shop 4     33891.57             1454        0\n",
       "13  Shop 20     31724.15             1642        0"
      ]
     },
     "execution_count": 73,
     "metadata": {},
     "output_type": "execute_result"
    }
   ],
   "source": [
    "#getting total purchase and price for each shop\n",
    "not_in_loyalty_shops=not_in_loyalty_pivot.pivot_table(index='Shop_id',values=['Total_purchases','Total_price'],aggfunc={'Total_purchases':'sum','Total_price':'sum'}).reset_index()\n",
    "not_in_loyalty_shops.columns=['Shop_id','Total_price','Total_purchases']\n",
    "not_in_loyalty_shops['loyalty']=0\n",
    "not_in_loyalty_shops.sort_values(by='Total_price',ascending=False).head()"
   ]
  },
  {
   "cell_type": "code",
   "execution_count": 74,
   "id": "ffd4a9a7",
   "metadata": {},
   "outputs": [
    {
     "data": {
      "text/html": [
       "<div>\n",
       "<style scoped>\n",
       "    .dataframe tbody tr th:only-of-type {\n",
       "        vertical-align: middle;\n",
       "    }\n",
       "\n",
       "    .dataframe tbody tr th {\n",
       "        vertical-align: top;\n",
       "    }\n",
       "\n",
       "    .dataframe thead th {\n",
       "        text-align: right;\n",
       "    }\n",
       "</style>\n",
       "<table border=\"1\" class=\"dataframe\">\n",
       "  <thead>\n",
       "    <tr style=\"text-align: right;\">\n",
       "      <th></th>\n",
       "      <th>Total_price</th>\n",
       "      <th>Total_purchases</th>\n",
       "      <th>loyalty</th>\n",
       "    </tr>\n",
       "  </thead>\n",
       "  <tbody>\n",
       "    <tr>\n",
       "      <th>count</th>\n",
       "      <td>31.000000</td>\n",
       "      <td>31.000000</td>\n",
       "      <td>31.0</td>\n",
       "    </tr>\n",
       "    <tr>\n",
       "      <th>mean</th>\n",
       "      <td>23029.691935</td>\n",
       "      <td>2609.354839</td>\n",
       "      <td>0.0</td>\n",
       "    </tr>\n",
       "    <tr>\n",
       "      <th>std</th>\n",
       "      <td>26819.103662</td>\n",
       "      <td>6472.953188</td>\n",
       "      <td>0.0</td>\n",
       "    </tr>\n",
       "    <tr>\n",
       "      <th>min</th>\n",
       "      <td>-64711.650000</td>\n",
       "      <td>981.000000</td>\n",
       "      <td>0.0</td>\n",
       "    </tr>\n",
       "    <tr>\n",
       "      <th>25%</th>\n",
       "      <td>15960.640000</td>\n",
       "      <td>1261.000000</td>\n",
       "      <td>0.0</td>\n",
       "    </tr>\n",
       "    <tr>\n",
       "      <th>50%</th>\n",
       "      <td>17715.360000</td>\n",
       "      <td>1469.000000</td>\n",
       "      <td>0.0</td>\n",
       "    </tr>\n",
       "    <tr>\n",
       "      <th>75%</th>\n",
       "      <td>25366.630000</td>\n",
       "      <td>1645.000000</td>\n",
       "      <td>0.0</td>\n",
       "    </tr>\n",
       "    <tr>\n",
       "      <th>max</th>\n",
       "      <td>103029.070000</td>\n",
       "      <td>37466.000000</td>\n",
       "      <td>0.0</td>\n",
       "    </tr>\n",
       "  </tbody>\n",
       "</table>\n",
       "</div>"
      ],
      "text/plain": [
       "         Total_price  Total_purchases  loyalty\n",
       "count      31.000000        31.000000     31.0\n",
       "mean    23029.691935      2609.354839      0.0\n",
       "std     26819.103662      6472.953188      0.0\n",
       "min    -64711.650000       981.000000      0.0\n",
       "25%     15960.640000      1261.000000      0.0\n",
       "50%     17715.360000      1469.000000      0.0\n",
       "75%     25366.630000      1645.000000      0.0\n",
       "max    103029.070000     37466.000000      0.0"
      ]
     },
     "execution_count": 74,
     "metadata": {},
     "output_type": "execute_result"
    }
   ],
   "source": [
    "not_in_loyalty_shops.describe()"
   ]
  },
  {
   "cell_type": "code",
   "execution_count": 75,
   "id": "f17f6f5f",
   "metadata": {},
   "outputs": [
    {
     "name": "stdout",
     "output_type": "stream",
     "text": [
      "[-41925.336  11789.185  17715.36   30917.535  33891.57   72944.855\n",
      " 101635.051]\n"
     ]
    }
   ],
   "source": [
    "print(np.percentile(not_in_loyalty_shops['Total_price'],[1,5,50,85,90,95,99]))"
   ]
  },
  {
   "cell_type": "markdown",
   "id": "3fad5ca7",
   "metadata": {},
   "source": [
    "***On analysing the above table ,we see that there are some outliers in total prices ..   \n",
    "Based on the above analysis , we remove less tahn 1 % of data that are negative and 5% data that are more than 40000.***"
   ]
  },
  {
   "cell_type": "code",
   "execution_count": 76,
   "id": "d86e1aba",
   "metadata": {},
   "outputs": [
    {
     "data": {
      "text/html": [
       "<div>\n",
       "<style scoped>\n",
       "    .dataframe tbody tr th:only-of-type {\n",
       "        vertical-align: middle;\n",
       "    }\n",
       "\n",
       "    .dataframe tbody tr th {\n",
       "        vertical-align: top;\n",
       "    }\n",
       "\n",
       "    .dataframe thead th {\n",
       "        text-align: right;\n",
       "    }\n",
       "</style>\n",
       "<table border=\"1\" class=\"dataframe\">\n",
       "  <thead>\n",
       "    <tr style=\"text-align: right;\">\n",
       "      <th></th>\n",
       "      <th>Shop_id</th>\n",
       "      <th>Total_price</th>\n",
       "      <th>Total_purchases</th>\n",
       "      <th>loyalty</th>\n",
       "    </tr>\n",
       "  </thead>\n",
       "  <tbody>\n",
       "    <tr>\n",
       "      <th>25</th>\n",
       "      <td>Shop 4</td>\n",
       "      <td>33891.57</td>\n",
       "      <td>1454</td>\n",
       "      <td>0</td>\n",
       "    </tr>\n",
       "    <tr>\n",
       "      <th>13</th>\n",
       "      <td>Shop 20</td>\n",
       "      <td>31724.15</td>\n",
       "      <td>1642</td>\n",
       "      <td>0</td>\n",
       "    </tr>\n",
       "    <tr>\n",
       "      <th>5</th>\n",
       "      <td>Shop 13</td>\n",
       "      <td>30110.92</td>\n",
       "      <td>1384</td>\n",
       "      <td>0</td>\n",
       "    </tr>\n",
       "    <tr>\n",
       "      <th>18</th>\n",
       "      <td>Shop 25</td>\n",
       "      <td>27445.29</td>\n",
       "      <td>1228</td>\n",
       "      <td>0</td>\n",
       "    </tr>\n",
       "    <tr>\n",
       "      <th>21</th>\n",
       "      <td>Shop 28</td>\n",
       "      <td>25612.18</td>\n",
       "      <td>1682</td>\n",
       "      <td>0</td>\n",
       "    </tr>\n",
       "  </tbody>\n",
       "</table>\n",
       "</div>"
      ],
      "text/plain": [
       "    Shop_id  Total_price  Total_purchases  loyalty\n",
       "25   Shop 4     33891.57             1454        0\n",
       "13  Shop 20     31724.15             1642        0\n",
       "5   Shop 13     30110.92             1384        0\n",
       "18  Shop 25     27445.29             1228        0\n",
       "21  Shop 28     25612.18             1682        0"
      ]
     },
     "execution_count": 76,
     "metadata": {},
     "output_type": "execute_result"
    }
   ],
   "source": [
    "#filtering datset without outliers\n",
    "not_in_loyalty_shops = not_in_loyalty_shops[((not_in_loyalty_shops['Total_price'] > 0) & (not_in_loyalty_shops['Total_price'] < 40000))]\n",
    "not_in_loyalty_shops.sort_values(by='Total_price',ascending=False).head()"
   ]
  },
  {
   "cell_type": "code",
   "execution_count": 77,
   "id": "b45cdd8e",
   "metadata": {
    "scrolled": true
   },
   "outputs": [
    {
     "data": {
      "image/png": "[encoded data removed]",
      "text/plain": [
       "<Figure size 576x504 with 1 Axes>"
      ]
     },
     "metadata": {
      "needs_background": "light"
     },
     "output_type": "display_data"
    }
   ],
   "source": [
    "#plotting total purchases and shops\n",
    "plt.subplots(figsize=(8,7))\n",
    "plt.title('Shops vs Total purchase of members not in loyalty program')\n",
    "plt.xticks(rotation=90)\n",
    "sns.barplot(x='Shop_id',y='Total_purchases',data=not_in_loyalty_shops,order=not_in_loyalty_shops.sort_values('Total_purchases').Shop_id)\n",
    "plt.show()"
   ]
  },
  {
   "cell_type": "code",
   "execution_count": 78,
   "id": "642ed8a8",
   "metadata": {
    "scrolled": true
   },
   "outputs": [
    {
     "data": {
      "image/png": "[encoded data removed]",
      "text/plain": [
       "<Figure size 576x504 with 1 Axes>"
      ]
     },
     "metadata": {
      "needs_background": "light"
     },
     "output_type": "display_data"
    }
   ],
   "source": [
    "plt.subplots(figsize=(8,7))\n",
    "plt.title('Shops vs Total price of members not in loyalty program')\n",
    "plt.xticks(rotation=90)\n",
    "sns.barplot(x='Shop_id',y='Total_price',data=not_in_loyalty_shops,order=not_in_loyalty_shops.sort_values('Total_price').Shop_id)\n",
    "plt.show()"
   ]
  },
  {
   "cell_type": "markdown",
   "id": "45e2a049",
   "metadata": {},
   "source": [
    "<b>1.Shop 28 does well in terms of total purchase and total price for members not in loyalty programs.  \n",
    "   2.There are more number of shops doing well without being in loyalty membership in terms of total purchase.  \n",
    "   3.Shops 4,20,13,25 and 28 are the top 5 shops in terms of total_price."
   ]
  },
  {
   "cell_type": "code",
   "execution_count": 79,
   "id": "0a2cdfb1",
   "metadata": {},
   "outputs": [],
   "source": [
    "#appending loyalty and non_loyalty dataset to help with comparing the data.\n",
    "compare_df=loyalty_in_shops.append(not_in_loyalty_shops)"
   ]
  },
  {
   "cell_type": "code",
   "execution_count": 80,
   "id": "5478214b",
   "metadata": {},
   "outputs": [
    {
     "data": {
      "text/html": [
       "<div>\n",
       "<style scoped>\n",
       "    .dataframe tbody tr th:only-of-type {\n",
       "        vertical-align: middle;\n",
       "    }\n",
       "\n",
       "    .dataframe tbody tr th {\n",
       "        vertical-align: top;\n",
       "    }\n",
       "\n",
       "    .dataframe thead th {\n",
       "        text-align: right;\n",
       "    }\n",
       "</style>\n",
       "<table border=\"1\" class=\"dataframe\">\n",
       "  <thead>\n",
       "    <tr style=\"text-align: right;\">\n",
       "      <th></th>\n",
       "      <th>Shop_id</th>\n",
       "      <th>Total_price</th>\n",
       "      <th>Total_purchases</th>\n",
       "      <th>loyalty</th>\n",
       "    </tr>\n",
       "  </thead>\n",
       "  <tbody>\n",
       "    <tr>\n",
       "      <th>22</th>\n",
       "      <td>Shop 29</td>\n",
       "      <td>17355.87</td>\n",
       "      <td>712</td>\n",
       "      <td>1</td>\n",
       "    </tr>\n",
       "    <tr>\n",
       "      <th>26</th>\n",
       "      <td>Shop 5</td>\n",
       "      <td>15538.77</td>\n",
       "      <td>775</td>\n",
       "      <td>1</td>\n",
       "    </tr>\n",
       "    <tr>\n",
       "      <th>19</th>\n",
       "      <td>Shop 26</td>\n",
       "      <td>15070.21</td>\n",
       "      <td>880</td>\n",
       "      <td>1</td>\n",
       "    </tr>\n",
       "    <tr>\n",
       "      <th>23</th>\n",
       "      <td>Shop 3</td>\n",
       "      <td>11830.23</td>\n",
       "      <td>683</td>\n",
       "      <td>1</td>\n",
       "    </tr>\n",
       "    <tr>\n",
       "      <th>24</th>\n",
       "      <td>Shop 30</td>\n",
       "      <td>11301.74</td>\n",
       "      <td>689</td>\n",
       "      <td>1</td>\n",
       "    </tr>\n",
       "    <tr>\n",
       "      <th>29</th>\n",
       "      <td>Shop 8</td>\n",
       "      <td>11107.22</td>\n",
       "      <td>700</td>\n",
       "      <td>1</td>\n",
       "    </tr>\n",
       "    <tr>\n",
       "      <th>16</th>\n",
       "      <td>Shop 23</td>\n",
       "      <td>9456.06</td>\n",
       "      <td>713</td>\n",
       "      <td>1</td>\n",
       "    </tr>\n",
       "    <tr>\n",
       "      <th>15</th>\n",
       "      <td>Shop 22</td>\n",
       "      <td>9369.71</td>\n",
       "      <td>898</td>\n",
       "      <td>1</td>\n",
       "    </tr>\n",
       "    <tr>\n",
       "      <th>5</th>\n",
       "      <td>Shop 13</td>\n",
       "      <td>9296.84</td>\n",
       "      <td>1027</td>\n",
       "      <td>1</td>\n",
       "    </tr>\n",
       "    <tr>\n",
       "      <th>8</th>\n",
       "      <td>Shop 16</td>\n",
       "      <td>9118.30</td>\n",
       "      <td>729</td>\n",
       "      <td>1</td>\n",
       "    </tr>\n",
       "    <tr>\n",
       "      <th>17</th>\n",
       "      <td>Shop 24</td>\n",
       "      <td>9059.48</td>\n",
       "      <td>966</td>\n",
       "      <td>1</td>\n",
       "    </tr>\n",
       "    <tr>\n",
       "      <th>12</th>\n",
       "      <td>Shop 2</td>\n",
       "      <td>8607.25</td>\n",
       "      <td>999</td>\n",
       "      <td>1</td>\n",
       "    </tr>\n",
       "    <tr>\n",
       "      <th>7</th>\n",
       "      <td>Shop 15</td>\n",
       "      <td>8508.76</td>\n",
       "      <td>825</td>\n",
       "      <td>1</td>\n",
       "    </tr>\n",
       "    <tr>\n",
       "      <th>4</th>\n",
       "      <td>Shop 12</td>\n",
       "      <td>8391.67</td>\n",
       "      <td>580</td>\n",
       "      <td>1</td>\n",
       "    </tr>\n",
       "    <tr>\n",
       "      <th>13</th>\n",
       "      <td>Shop 20</td>\n",
       "      <td>7744.11</td>\n",
       "      <td>760</td>\n",
       "      <td>1</td>\n",
       "    </tr>\n",
       "    <tr>\n",
       "      <th>3</th>\n",
       "      <td>Shop 11</td>\n",
       "      <td>7534.73</td>\n",
       "      <td>920</td>\n",
       "      <td>1</td>\n",
       "    </tr>\n",
       "    <tr>\n",
       "      <th>30</th>\n",
       "      <td>Shop 9</td>\n",
       "      <td>7185.97</td>\n",
       "      <td>827</td>\n",
       "      <td>1</td>\n",
       "    </tr>\n",
       "    <tr>\n",
       "      <th>6</th>\n",
       "      <td>Shop 14</td>\n",
       "      <td>7095.98</td>\n",
       "      <td>728</td>\n",
       "      <td>1</td>\n",
       "    </tr>\n",
       "    <tr>\n",
       "      <th>18</th>\n",
       "      <td>Shop 25</td>\n",
       "      <td>7051.63</td>\n",
       "      <td>674</td>\n",
       "      <td>1</td>\n",
       "    </tr>\n",
       "    <tr>\n",
       "      <th>28</th>\n",
       "      <td>Shop 7</td>\n",
       "      <td>6817.63</td>\n",
       "      <td>771</td>\n",
       "      <td>1</td>\n",
       "    </tr>\n",
       "    <tr>\n",
       "      <th>0</th>\n",
       "      <td>Shop 0</td>\n",
       "      <td>6789.24</td>\n",
       "      <td>837</td>\n",
       "      <td>1</td>\n",
       "    </tr>\n",
       "    <tr>\n",
       "      <th>11</th>\n",
       "      <td>Shop 19</td>\n",
       "      <td>6615.48</td>\n",
       "      <td>660</td>\n",
       "      <td>1</td>\n",
       "    </tr>\n",
       "    <tr>\n",
       "      <th>10</th>\n",
       "      <td>Shop 18</td>\n",
       "      <td>6453.40</td>\n",
       "      <td>736</td>\n",
       "      <td>1</td>\n",
       "    </tr>\n",
       "    <tr>\n",
       "      <th>9</th>\n",
       "      <td>Shop 17</td>\n",
       "      <td>6435.19</td>\n",
       "      <td>734</td>\n",
       "      <td>1</td>\n",
       "    </tr>\n",
       "    <tr>\n",
       "      <th>27</th>\n",
       "      <td>Shop 6</td>\n",
       "      <td>5890.11</td>\n",
       "      <td>525</td>\n",
       "      <td>1</td>\n",
       "    </tr>\n",
       "    <tr>\n",
       "      <th>25</th>\n",
       "      <td>Shop 4</td>\n",
       "      <td>5886.95</td>\n",
       "      <td>510</td>\n",
       "      <td>1</td>\n",
       "    </tr>\n",
       "    <tr>\n",
       "      <th>1</th>\n",
       "      <td>Shop 1</td>\n",
       "      <td>5754.82</td>\n",
       "      <td>952</td>\n",
       "      <td>1</td>\n",
       "    </tr>\n",
       "    <tr>\n",
       "      <th>14</th>\n",
       "      <td>Shop 21</td>\n",
       "      <td>5637.56</td>\n",
       "      <td>670</td>\n",
       "      <td>1</td>\n",
       "    </tr>\n",
       "    <tr>\n",
       "      <th>20</th>\n",
       "      <td>Shop 27</td>\n",
       "      <td>5133.97</td>\n",
       "      <td>648</td>\n",
       "      <td>1</td>\n",
       "    </tr>\n",
       "    <tr>\n",
       "      <th>2</th>\n",
       "      <td>Shop 10</td>\n",
       "      <td>4880.96</td>\n",
       "      <td>660</td>\n",
       "      <td>1</td>\n",
       "    </tr>\n",
       "    <tr>\n",
       "      <th>21</th>\n",
       "      <td>Shop 28</td>\n",
       "      <td>4605.77</td>\n",
       "      <td>624</td>\n",
       "      <td>1</td>\n",
       "    </tr>\n",
       "    <tr>\n",
       "      <th>1</th>\n",
       "      <td>Shop 1</td>\n",
       "      <td>18289.01</td>\n",
       "      <td>1737</td>\n",
       "      <td>0</td>\n",
       "    </tr>\n",
       "    <tr>\n",
       "      <th>2</th>\n",
       "      <td>Shop 10</td>\n",
       "      <td>25121.08</td>\n",
       "      <td>1521</td>\n",
       "      <td>0</td>\n",
       "    </tr>\n",
       "    <tr>\n",
       "      <th>3</th>\n",
       "      <td>Shop 11</td>\n",
       "      <td>15729.61</td>\n",
       "      <td>1354</td>\n",
       "      <td>0</td>\n",
       "    </tr>\n",
       "    <tr>\n",
       "      <th>4</th>\n",
       "      <td>Shop 12</td>\n",
       "      <td>12335.64</td>\n",
       "      <td>1178</td>\n",
       "      <td>0</td>\n",
       "    </tr>\n",
       "    <tr>\n",
       "      <th>5</th>\n",
       "      <td>Shop 13</td>\n",
       "      <td>30110.92</td>\n",
       "      <td>1384</td>\n",
       "      <td>0</td>\n",
       "    </tr>\n",
       "    <tr>\n",
       "      <th>6</th>\n",
       "      <td>Shop 14</td>\n",
       "      <td>17715.36</td>\n",
       "      <td>1638</td>\n",
       "      <td>0</td>\n",
       "    </tr>\n",
       "    <tr>\n",
       "      <th>8</th>\n",
       "      <td>Shop 16</td>\n",
       "      <td>11242.73</td>\n",
       "      <td>1191</td>\n",
       "      <td>0</td>\n",
       "    </tr>\n",
       "    <tr>\n",
       "      <th>9</th>\n",
       "      <td>Shop 17</td>\n",
       "      <td>16891.14</td>\n",
       "      <td>1430</td>\n",
       "      <td>0</td>\n",
       "    </tr>\n",
       "    <tr>\n",
       "      <th>10</th>\n",
       "      <td>Shop 18</td>\n",
       "      <td>21256.17</td>\n",
       "      <td>1259</td>\n",
       "      <td>0</td>\n",
       "    </tr>\n",
       "    <tr>\n",
       "      <th>11</th>\n",
       "      <td>Shop 19</td>\n",
       "      <td>17228.94</td>\n",
       "      <td>1549</td>\n",
       "      <td>0</td>\n",
       "    </tr>\n",
       "    <tr>\n",
       "      <th>12</th>\n",
       "      <td>Shop 2</td>\n",
       "      <td>16191.67</td>\n",
       "      <td>1225</td>\n",
       "      <td>0</td>\n",
       "    </tr>\n",
       "    <tr>\n",
       "      <th>13</th>\n",
       "      <td>Shop 20</td>\n",
       "      <td>31724.15</td>\n",
       "      <td>1642</td>\n",
       "      <td>0</td>\n",
       "    </tr>\n",
       "    <tr>\n",
       "      <th>15</th>\n",
       "      <td>Shop 22</td>\n",
       "      <td>14541.42</td>\n",
       "      <td>1640</td>\n",
       "      <td>0</td>\n",
       "    </tr>\n",
       "    <tr>\n",
       "      <th>16</th>\n",
       "      <td>Shop 23</td>\n",
       "      <td>20904.17</td>\n",
       "      <td>1328</td>\n",
       "      <td>0</td>\n",
       "    </tr>\n",
       "    <tr>\n",
       "      <th>17</th>\n",
       "      <td>Shop 24</td>\n",
       "      <td>17544.81</td>\n",
       "      <td>1658</td>\n",
       "      <td>0</td>\n",
       "    </tr>\n",
       "    <tr>\n",
       "      <th>18</th>\n",
       "      <td>Shop 25</td>\n",
       "      <td>27445.29</td>\n",
       "      <td>1228</td>\n",
       "      <td>0</td>\n",
       "    </tr>\n",
       "    <tr>\n",
       "      <th>19</th>\n",
       "      <td>Shop 26</td>\n",
       "      <td>17187.97</td>\n",
       "      <td>1419</td>\n",
       "      <td>0</td>\n",
       "    </tr>\n",
       "    <tr>\n",
       "      <th>20</th>\n",
       "      <td>Shop 27</td>\n",
       "      <td>14576.62</td>\n",
       "      <td>1648</td>\n",
       "      <td>0</td>\n",
       "    </tr>\n",
       "    <tr>\n",
       "      <th>21</th>\n",
       "      <td>Shop 28</td>\n",
       "      <td>25612.18</td>\n",
       "      <td>1682</td>\n",
       "      <td>0</td>\n",
       "    </tr>\n",
       "    <tr>\n",
       "      <th>22</th>\n",
       "      <td>Shop 29</td>\n",
       "      <td>14678.33</td>\n",
       "      <td>1469</td>\n",
       "      <td>0</td>\n",
       "    </tr>\n",
       "    <tr>\n",
       "      <th>23</th>\n",
       "      <td>Shop 3</td>\n",
       "      <td>16471.41</td>\n",
       "      <td>1020</td>\n",
       "      <td>0</td>\n",
       "    </tr>\n",
       "    <tr>\n",
       "      <th>24</th>\n",
       "      <td>Shop 30</td>\n",
       "      <td>22425.05</td>\n",
       "      <td>1670</td>\n",
       "      <td>0</td>\n",
       "    </tr>\n",
       "    <tr>\n",
       "      <th>25</th>\n",
       "      <td>Shop 4</td>\n",
       "      <td>33891.57</td>\n",
       "      <td>1454</td>\n",
       "      <td>0</td>\n",
       "    </tr>\n",
       "    <tr>\n",
       "      <th>27</th>\n",
       "      <td>Shop 6</td>\n",
       "      <td>19681.79</td>\n",
       "      <td>1148</td>\n",
       "      <td>0</td>\n",
       "    </tr>\n",
       "    <tr>\n",
       "      <th>28</th>\n",
       "      <td>Shop 7</td>\n",
       "      <td>17779.76</td>\n",
       "      <td>1540</td>\n",
       "      <td>0</td>\n",
       "    </tr>\n",
       "    <tr>\n",
       "      <th>29</th>\n",
       "      <td>Shop 8</td>\n",
       "      <td>15596.83</td>\n",
       "      <td>1263</td>\n",
       "      <td>0</td>\n",
       "    </tr>\n",
       "    <tr>\n",
       "      <th>30</th>\n",
       "      <td>Shop 9</td>\n",
       "      <td>17539.70</td>\n",
       "      <td>1620</td>\n",
       "      <td>0</td>\n",
       "    </tr>\n",
       "  </tbody>\n",
       "</table>\n",
       "</div>"
      ],
      "text/plain": [
       "    Shop_id  Total_price  Total_purchases  loyalty\n",
       "22  Shop 29     17355.87              712        1\n",
       "26   Shop 5     15538.77              775        1\n",
       "19  Shop 26     15070.21              880        1\n",
       "23   Shop 3     11830.23              683        1\n",
       "24  Shop 30     11301.74              689        1\n",
       "29   Shop 8     11107.22              700        1\n",
       "16  Shop 23      9456.06              713        1\n",
       "15  Shop 22      9369.71              898        1\n",
       "5   Shop 13      9296.84             1027        1\n",
       "8   Shop 16      9118.30              729        1\n",
       "17  Shop 24      9059.48              966        1\n",
       "12   Shop 2      8607.25              999        1\n",
       "7   Shop 15      8508.76              825        1\n",
       "4   Shop 12      8391.67              580        1\n",
       "13  Shop 20      7744.11              760        1\n",
       "3   Shop 11      7534.73              920        1\n",
       "30   Shop 9      7185.97              827        1\n",
       "6   Shop 14      7095.98              728        1\n",
       "18  Shop 25      7051.63              674        1\n",
       "28   Shop 7      6817.63              771        1\n",
       "0    Shop 0      6789.24              837        1\n",
       "11  Shop 19      6615.48              660        1\n",
       "10  Shop 18      6453.40              736        1\n",
       "9   Shop 17      6435.19              734        1\n",
       "27   Shop 6      5890.11              525        1\n",
       "25   Shop 4      5886.95              510        1\n",
       "1    Shop 1      5754.82              952        1\n",
       "14  Shop 21      5637.56              670        1\n",
       "20  Shop 27      5133.97              648        1\n",
       "2   Shop 10      4880.96              660        1\n",
       "21  Shop 28      4605.77              624        1\n",
       "1    Shop 1     18289.01             1737        0\n",
       "2   Shop 10     25121.08             1521        0\n",
       "3   Shop 11     15729.61             1354        0\n",
       "4   Shop 12     12335.64             1178        0\n",
       "5   Shop 13     30110.92             1384        0\n",
       "6   Shop 14     17715.36             1638        0\n",
       "8   Shop 16     11242.73             1191        0\n",
       "9   Shop 17     16891.14             1430        0\n",
       "10  Shop 18     21256.17             1259        0\n",
       "11  Shop 19     17228.94             1549        0\n",
       "12   Shop 2     16191.67             1225        0\n",
       "13  Shop 20     31724.15             1642        0\n",
       "15  Shop 22     14541.42             1640        0\n",
       "16  Shop 23     20904.17             1328        0\n",
       "17  Shop 24     17544.81             1658        0\n",
       "18  Shop 25     27445.29             1228        0\n",
       "19  Shop 26     17187.97             1419        0\n",
       "20  Shop 27     14576.62             1648        0\n",
       "21  Shop 28     25612.18             1682        0\n",
       "22  Shop 29     14678.33             1469        0\n",
       "23   Shop 3     16471.41             1020        0\n",
       "24  Shop 30     22425.05             1670        0\n",
       "25   Shop 4     33891.57             1454        0\n",
       "27   Shop 6     19681.79             1148        0\n",
       "28   Shop 7     17779.76             1540        0\n",
       "29   Shop 8     15596.83             1263        0\n",
       "30   Shop 9     17539.70             1620        0"
      ]
     },
     "execution_count": 80,
     "metadata": {},
     "output_type": "execute_result"
    }
   ],
   "source": [
    "compare_df"
   ]
  },
  {
   "cell_type": "code",
   "execution_count": 81,
   "id": "6de61e67",
   "metadata": {
    "scrolled": true
   },
   "outputs": [
    {
     "data": {
      "text/plain": [
       "<AxesSubplot:title={'center':'Shops vs Total price based on loyalty program'}, xlabel='Shop_id', ylabel='Total_price'>"
      ]
     },
     "execution_count": 81,
     "metadata": {},
     "output_type": "execute_result"
    },
    {
     "data": {
      "image/png": "[encoded data removed]",
      "text/plain": [
       "<Figure size 576x360 with 1 Axes>"
      ]
     },
     "metadata": {
      "needs_background": "light"
     },
     "output_type": "display_data"
    }
   ],
   "source": [
    "#plotting total price comparison\n",
    "plt.subplots(figsize=(8,5))   # set fig size\n",
    "plt.title('Shops vs Total price based on loyalty program')\n",
    "plt.xticks(rotation=90)  # rotate tick\n",
    "sns.barplot(x=\"Shop_id\", y=\"Total_price\", hue=\"loyalty\", data=compare_df,palette=\"winter_r\")"
   ]
  },
  {
   "cell_type": "markdown",
   "id": "f1018f8d",
   "metadata": {},
   "source": [
    "<b>Overall , members not in loyalty program tend to contribute more to total_prices from purchases.  \n",
    "   Shops 29,5,26 seem to have success with loyalty programs as we see higher total price from loyalty memebers compared to          members not in loyalty program.  \n",
    "   The above plot clearly shows that only 3 out of 31 shops has success with loyalty membership program."
   ]
  },
  {
   "cell_type": "code",
   "execution_count": 82,
   "id": "d22f5b2e",
   "metadata": {},
   "outputs": [
    {
     "data": {
      "text/plain": [
       "<AxesSubplot:title={'center':'Shops vs Total purchase based on loyalty program'}, xlabel='Shop_id', ylabel='Total_purchases'>"
      ]
     },
     "execution_count": 82,
     "metadata": {},
     "output_type": "execute_result"
    },
    {
     "data": {
      "image/png": "[encoded data removed]",
      "text/plain": [
       "<Figure size 576x360 with 1 Axes>"
      ]
     },
     "metadata": {
      "needs_background": "light"
     },
     "output_type": "display_data"
    }
   ],
   "source": [
    "#plotting total purchases comparison\n",
    "plt.subplots(figsize=(8,5))   # set fig size\n",
    "plt.title('Shops vs Total purchase based on loyalty program')\n",
    "plt.xticks(rotation=90)  # rotate tick\n",
    "sns.barplot(x=\"Shop_id\", y=\"Total_purchases\", hue=\"loyalty\", data=compare_df,palette=\"winter_r\")"
   ]
  },
  {
   "cell_type": "markdown",
   "id": "9aea4888",
   "metadata": {},
   "source": [
    "<b>1.There is significant difference between purchases made with customers not in loyalty program making more purchases.  \n",
    "   2.Though members not in loyalty program has increased total number of purchases and total_prices , Shop 29,5,26 shows  \n",
    "   success with loyalty program as they have increased total price compared to members not in loyalty program."
   ]
  },
  {
   "cell_type": "markdown",
   "id": "c1b0fd49",
   "metadata": {},
   "source": [
    "<b>Conclusion:  \n",
    "   Based on all the above analysis , we don't see significant improvement or success with loyalty program.  \n",
    "   We conclude our hypothesis as  \n",
    "   1.Members of loyalty program didn't spent more money on purchase .  \n",
    "   2.Loyalty program members purchase fewer products compared to members not in loyalty membership.  \n",
    "   3.Loyalty program is used by only 20% of users overall.  \n",
    "   4.Only 3 shops are successful with loyalty program.  \n",
    "   5.First week of a month doesn't impact much on purchasing trend of the customers."
   ]
  },
  {
   "cell_type": "markdown",
   "id": "eae7cdda",
   "metadata": {},
   "source": [
    "<a id='sda'>"
   ]
  },
  {
   "cell_type": "markdown",
   "id": "0761ec8c",
   "metadata": {},
   "source": [
    "## Statistical data analysis"
   ]
  },
  {
   "cell_type": "markdown",
   "id": "9df6e9ce",
   "metadata": {},
   "source": [
    "<b>Null Hpoythesis Ho - Money spent by both the type of users(loyalty,not in loyalty) are equal.  \n",
    "Alternate Hypothesis H1 -Money spent by customers in loyalty program differs from those not in loyalty program. "
   ]
  },
  {
   "cell_type": "code",
   "execution_count": 83,
   "id": "46bda7fb",
   "metadata": {},
   "outputs": [
    {
     "name": "stdout",
     "output_type": "stream",
     "text": [
      "p-value:  7.224530014939712e-13\n",
      "We reject the null hypothesis\n"
     ]
    }
   ],
   "source": [
    "alpha = 0.05  # critical statistical significance level\n",
    "# if the p-value is less than alpha, we reject the hypothesis\n",
    "\n",
    "results = st.ttest_ind(loyalty_in_shops['Total_price'], not_in_loyalty_shops['Total_price'])\n",
    "\n",
    "print('p-value: ', results.pvalue)\n",
    "\n",
    "if results.pvalue < alpha:\n",
    "    print(\"We reject the null hypothesis\")\n",
    "else:\n",
    "    print(\"We can't reject the null hypothesis\") "
   ]
  },
  {
   "cell_type": "markdown",
   "id": "40ebe237",
   "metadata": {},
   "source": [
    "<b>Null Hpoythesis Ho - Total number of purchases made by both the type of users(loyalty,not in loyalty) are equal.  \n",
    "Alternate Hypothesis H1 -Total purchases made by customers in loyalty program differs from those not in loyalty program."
   ]
  },
  {
   "cell_type": "code",
   "execution_count": 84,
   "id": "02b796a1",
   "metadata": {},
   "outputs": [
    {
     "name": "stdout",
     "output_type": "stream",
     "text": [
      "p-value:  5.123322902016816e-22\n",
      "We reject the null hypothesis\n"
     ]
    }
   ],
   "source": [
    "results = st.ttest_ind(loyalty_in_shops['Total_purchases'], not_in_loyalty_shops['Total_purchases'])\n",
    "\n",
    "print('p-value: ', results.pvalue)\n",
    "\n",
    "if results.pvalue < alpha:\n",
    "    print(\"We reject the null hypothesis\")\n",
    "else:\n",
    "    print(\"We can't reject the null hypothesis\") "
   ]
  },
  {
   "cell_type": "markdown",
   "id": "e477a3c1",
   "metadata": {},
   "source": [
    "<b>Our stasistical test results confirm that the total purchase and total price between the two types of customers are  \n",
    "significantly different as proposed by exploratory data analysis."
   ]
  },
  {
   "cell_type": "markdown",
   "id": "12c689bf",
   "metadata": {},
   "source": [
    "<a id='end'>"
   ]
  },
  {
   "cell_type": "markdown",
   "id": "f1767225",
   "metadata": {},
   "source": [
    "## Final Conclusion    \n",
    "<b>Some of the conclusions made from our analysis.  \n",
    "1.Members of loyalty program didn't spent more money on purchase .  \n",
    "2.Loyalty program members purchase fewer products compared to members not in loyalty membership.  \n",
    "3.Loyalty program is used only by 20% of users overall.  \n",
    "4.Only 3 shops are successful with loyalty program.  \n",
    "5.First week of a month doesn't impact much on purchasing trend of the customers.  \n",
    "\n",
    "Our analysis shows that the Loyalty program doesn't prove to be successful as total purchases and total price from customers  \n",
    "who are not members of loyalty program are significantly more.Also only 3 out of 31 shops shows success with loyalty customers  \n",
    "with number of loyalty membership customers just 20-25% of total customers.\n"
   ]
  },
  {
   "cell_type": "markdown",
   "id": "019c9f5b",
   "metadata": {},
   "source": [
    "<a id='presentation'>"
   ]
  },
  {
   "cell_type": "markdown",
   "id": "86c03839",
   "metadata": {},
   "source": [
    "[Presentation](https://docs.google.com/presentation/d/1cb8KlSWv5mRlTz1r3T34r0Pq8bUSqdgu/edit?usp=sharing&ouid=113662054605653502082&rtpof=true&sd=true)\n"
   ]
  },
  {
   "cell_type": "markdown",
   "id": "bb544eb2",
   "metadata": {},
   "source": [
    "<a id='doc'>"
   ]
  },
  {
   "cell_type": "markdown",
   "id": "4e19321f",
   "metadata": {},
   "source": [
    "## Documentation  \n",
    "1.https://www.geeksforgeeks.org/seaborn-barplot-method-in-python/ - Plot barplots for EDA.  \n",
    "2.https://www.analyticsvidhya.com/blog/2021/10/a-complete-guide-to-dealing-with-missing-values-in-python/  -  Deal missing values in the dataset.  \n",
    "3.https://www.softwareadvice.com/resources/retail-data-analysis-to-boost-sales/#:~:text=Retail%20data%20analysis%20is%20exactly%20what%20the%20name,their%20purchases%20and%20foot%20traffic%20in%20your%20store.  - Learn about retail data analysis.  \n",
    "4.https://www.geeksforgeeks.org/data-analysis-with-python/ - Reference for any coding issues.  \n",
    "5.https://towardsdatascience.com/an-introduction-to-statistical-analysis-and-modelling-with-python-ef816b67f8ff - Statistical Data Analysis using python  \n",
    "6.https://stackoverflow.com - Reference for any coding issues.  \n"
   ]
  },
  {
   "cell_type": "markdown",
   "id": "50635e32",
   "metadata": {},
   "source": [
    "<a id='dashboard'>   "
   ]
  },
  {
   "cell_type": "markdown",
   "id": "1e4f2cdf",
   "metadata": {},
   "source": [
    "## Dashboard"
   ]
  },
  {
   "cell_type": "markdown",
   "id": "ed5eeaa3",
   "metadata": {},
   "source": [
    "[Dashboard](https://public.tableau.com/app/profile/reva2566/viz/HomeWorld/HomeWorld?publish=yes)"
   ]
  }
 ],
 "metadata": {
  "ExecuteTimeLog": [
   {
    "duration": 1562,
    "start_time": "2022-06-12T22:03:55.251Z"
   },
   {
    "duration": 117,
    "start_time": "2022-06-12T22:03:56.815Z"
   },
   {
    "duration": 0,
    "start_time": "2022-06-12T22:03:56.936Z"
   },
   {
    "duration": 0,
    "start_time": "2022-06-12T22:03:56.937Z"
   },
   {
    "duration": 0,
    "start_time": "2022-06-12T22:03:56.938Z"
   },
   {
    "duration": 0,
    "start_time": "2022-06-12T22:03:56.939Z"
   },
   {
    "duration": 0,
    "start_time": "2022-06-12T22:03:56.940Z"
   },
   {
    "duration": 0,
    "start_time": "2022-06-12T22:03:56.940Z"
   },
   {
    "duration": 0,
    "start_time": "2022-06-12T22:03:56.941Z"
   },
   {
    "duration": 0,
    "start_time": "2022-06-12T22:03:56.942Z"
   },
   {
    "duration": 0,
    "start_time": "2022-06-12T22:03:56.943Z"
   },
   {
    "duration": 0,
    "start_time": "2022-06-12T22:03:56.945Z"
   },
   {
    "duration": 0,
    "start_time": "2022-06-12T22:03:56.945Z"
   },
   {
    "duration": 0,
    "start_time": "2022-06-12T22:03:56.946Z"
   },
   {
    "duration": 0,
    "start_time": "2022-06-12T22:03:56.947Z"
   },
   {
    "duration": 0,
    "start_time": "2022-06-12T22:03:56.959Z"
   },
   {
    "duration": 0,
    "start_time": "2022-06-12T22:03:56.959Z"
   },
   {
    "duration": 0,
    "start_time": "2022-06-12T22:03:56.960Z"
   },
   {
    "duration": 0,
    "start_time": "2022-06-12T22:03:56.961Z"
   },
   {
    "duration": 0,
    "start_time": "2022-06-12T22:03:56.962Z"
   },
   {
    "duration": 0,
    "start_time": "2022-06-12T22:03:56.963Z"
   },
   {
    "duration": 0,
    "start_time": "2022-06-12T22:03:56.964Z"
   },
   {
    "duration": 0,
    "start_time": "2022-06-12T22:03:56.965Z"
   },
   {
    "duration": 0,
    "start_time": "2022-06-12T22:03:56.966Z"
   },
   {
    "duration": 0,
    "start_time": "2022-06-12T22:03:56.967Z"
   },
   {
    "duration": 0,
    "start_time": "2022-06-12T22:03:56.968Z"
   },
   {
    "duration": 0,
    "start_time": "2022-06-12T22:03:56.969Z"
   },
   {
    "duration": 0,
    "start_time": "2022-06-12T22:03:56.970Z"
   },
   {
    "duration": 0,
    "start_time": "2022-06-12T22:03:56.971Z"
   },
   {
    "duration": 0,
    "start_time": "2022-06-12T22:03:56.972Z"
   },
   {
    "duration": 0,
    "start_time": "2022-06-12T22:03:56.973Z"
   },
   {
    "duration": 0,
    "start_time": "2022-06-12T22:03:56.974Z"
   },
   {
    "duration": 0,
    "start_time": "2022-06-12T22:03:56.975Z"
   },
   {
    "duration": 0,
    "start_time": "2022-06-12T22:03:56.976Z"
   },
   {
    "duration": 0,
    "start_time": "2022-06-12T22:03:56.976Z"
   },
   {
    "duration": 0,
    "start_time": "2022-06-12T22:03:56.977Z"
   },
   {
    "duration": 0,
    "start_time": "2022-06-12T22:03:56.979Z"
   },
   {
    "duration": 0,
    "start_time": "2022-06-12T22:03:56.980Z"
   },
   {
    "duration": 0,
    "start_time": "2022-06-12T22:03:56.980Z"
   },
   {
    "duration": 0,
    "start_time": "2022-06-12T22:03:56.981Z"
   },
   {
    "duration": 0,
    "start_time": "2022-06-12T22:03:56.982Z"
   },
   {
    "duration": 0,
    "start_time": "2022-06-12T22:03:56.983Z"
   },
   {
    "duration": 0,
    "start_time": "2022-06-12T22:03:56.984Z"
   },
   {
    "duration": 0,
    "start_time": "2022-06-12T22:03:56.985Z"
   },
   {
    "duration": 0,
    "start_time": "2022-06-12T22:03:56.986Z"
   },
   {
    "duration": 0,
    "start_time": "2022-06-12T22:03:56.987Z"
   },
   {
    "duration": 0,
    "start_time": "2022-06-12T22:03:56.988Z"
   },
   {
    "duration": 0,
    "start_time": "2022-06-12T22:03:56.988Z"
   },
   {
    "duration": 0,
    "start_time": "2022-06-12T22:03:56.989Z"
   },
   {
    "duration": 0,
    "start_time": "2022-06-12T22:03:56.990Z"
   },
   {
    "duration": 0,
    "start_time": "2022-06-12T22:03:56.991Z"
   },
   {
    "duration": 0,
    "start_time": "2022-06-12T22:03:56.992Z"
   },
   {
    "duration": 0,
    "start_time": "2022-06-12T22:03:56.993Z"
   },
   {
    "duration": 0,
    "start_time": "2022-06-12T22:03:56.994Z"
   },
   {
    "duration": 0,
    "start_time": "2022-06-12T22:03:56.995Z"
   },
   {
    "duration": 0,
    "start_time": "2022-06-12T22:03:56.996Z"
   },
   {
    "duration": 4,
    "start_time": "2022-06-12T22:06:17.348Z"
   },
   {
    "duration": 150,
    "start_time": "2022-06-12T22:06:17.355Z"
   },
   {
    "duration": 27,
    "start_time": "2022-06-12T22:06:17.506Z"
   },
   {
    "duration": 42,
    "start_time": "2022-06-12T22:06:17.535Z"
   },
   {
    "duration": 44,
    "start_time": "2022-06-12T22:06:17.579Z"
   },
   {
    "duration": 14,
    "start_time": "2022-06-12T22:06:17.624Z"
   },
   {
    "duration": 10,
    "start_time": "2022-06-12T22:06:17.659Z"
   },
   {
    "duration": 13,
    "start_time": "2022-06-12T22:06:17.671Z"
   },
   {
    "duration": 9,
    "start_time": "2022-06-12T22:06:17.687Z"
   },
   {
    "duration": 13,
    "start_time": "2022-06-12T22:06:17.697Z"
   },
   {
    "duration": 9,
    "start_time": "2022-06-12T22:06:17.711Z"
   },
   {
    "duration": 67,
    "start_time": "2022-06-12T22:06:17.722Z"
   },
   {
    "duration": 51,
    "start_time": "2022-06-12T22:06:17.791Z"
   },
   {
    "duration": 70,
    "start_time": "2022-06-12T22:06:17.843Z"
   },
   {
    "duration": 27,
    "start_time": "2022-06-12T22:06:17.914Z"
   },
   {
    "duration": 25,
    "start_time": "2022-06-12T22:06:17.943Z"
   },
   {
    "duration": 30,
    "start_time": "2022-06-12T22:06:17.970Z"
   },
   {
    "duration": 17,
    "start_time": "2022-06-12T22:06:18.001Z"
   },
   {
    "duration": 92,
    "start_time": "2022-06-12T22:06:18.019Z"
   },
   {
    "duration": 14,
    "start_time": "2022-06-12T22:06:18.113Z"
   },
   {
    "duration": 80,
    "start_time": "2022-06-12T22:06:18.128Z"
   },
   {
    "duration": 0,
    "start_time": "2022-06-12T22:06:18.210Z"
   },
   {
    "duration": 0,
    "start_time": "2022-06-12T22:06:18.211Z"
   },
   {
    "duration": 0,
    "start_time": "2022-06-12T22:06:18.212Z"
   },
   {
    "duration": 0,
    "start_time": "2022-06-12T22:06:18.213Z"
   },
   {
    "duration": 0,
    "start_time": "2022-06-12T22:06:18.214Z"
   },
   {
    "duration": 0,
    "start_time": "2022-06-12T22:06:18.215Z"
   },
   {
    "duration": 0,
    "start_time": "2022-06-12T22:06:18.216Z"
   },
   {
    "duration": 0,
    "start_time": "2022-06-12T22:06:18.217Z"
   },
   {
    "duration": 0,
    "start_time": "2022-06-12T22:06:18.218Z"
   },
   {
    "duration": 0,
    "start_time": "2022-06-12T22:06:18.218Z"
   },
   {
    "duration": 0,
    "start_time": "2022-06-12T22:06:18.220Z"
   },
   {
    "duration": 0,
    "start_time": "2022-06-12T22:06:18.220Z"
   },
   {
    "duration": 0,
    "start_time": "2022-06-12T22:06:18.221Z"
   },
   {
    "duration": 0,
    "start_time": "2022-06-12T22:06:18.222Z"
   },
   {
    "duration": 0,
    "start_time": "2022-06-12T22:06:18.222Z"
   },
   {
    "duration": 0,
    "start_time": "2022-06-12T22:06:18.223Z"
   },
   {
    "duration": 0,
    "start_time": "2022-06-12T22:06:18.224Z"
   },
   {
    "duration": 0,
    "start_time": "2022-06-12T22:06:18.225Z"
   },
   {
    "duration": 0,
    "start_time": "2022-06-12T22:06:18.225Z"
   },
   {
    "duration": 0,
    "start_time": "2022-06-12T22:06:18.226Z"
   },
   {
    "duration": 0,
    "start_time": "2022-06-12T22:06:18.227Z"
   },
   {
    "duration": 0,
    "start_time": "2022-06-12T22:06:18.228Z"
   },
   {
    "duration": 0,
    "start_time": "2022-06-12T22:06:18.229Z"
   },
   {
    "duration": 0,
    "start_time": "2022-06-12T22:06:18.229Z"
   },
   {
    "duration": 0,
    "start_time": "2022-06-12T22:06:18.230Z"
   },
   {
    "duration": 0,
    "start_time": "2022-06-12T22:06:18.259Z"
   },
   {
    "duration": 0,
    "start_time": "2022-06-12T22:06:18.260Z"
   },
   {
    "duration": 0,
    "start_time": "2022-06-12T22:06:18.260Z"
   },
   {
    "duration": 0,
    "start_time": "2022-06-12T22:06:18.262Z"
   },
   {
    "duration": 0,
    "start_time": "2022-06-12T22:06:18.263Z"
   },
   {
    "duration": 0,
    "start_time": "2022-06-12T22:06:18.264Z"
   },
   {
    "duration": 0,
    "start_time": "2022-06-12T22:06:18.265Z"
   },
   {
    "duration": 0,
    "start_time": "2022-06-12T22:06:18.265Z"
   },
   {
    "duration": 0,
    "start_time": "2022-06-12T22:06:18.266Z"
   },
   {
    "duration": 0,
    "start_time": "2022-06-12T22:06:18.267Z"
   },
   {
    "duration": 153,
    "start_time": "2022-06-12T22:06:42.031Z"
   },
   {
    "duration": 4,
    "start_time": "2022-06-12T22:06:57.473Z"
   },
   {
    "duration": 125,
    "start_time": "2022-06-12T22:06:57.479Z"
   },
   {
    "duration": 34,
    "start_time": "2022-06-12T22:06:57.605Z"
   },
   {
    "duration": 41,
    "start_time": "2022-06-12T22:06:57.642Z"
   },
   {
    "duration": 39,
    "start_time": "2022-06-12T22:06:57.684Z"
   },
   {
    "duration": 35,
    "start_time": "2022-06-12T22:06:57.725Z"
   },
   {
    "duration": 15,
    "start_time": "2022-06-12T22:06:57.761Z"
   },
   {
    "duration": 13,
    "start_time": "2022-06-12T22:06:57.778Z"
   },
   {
    "duration": 10,
    "start_time": "2022-06-12T22:06:57.792Z"
   },
   {
    "duration": 13,
    "start_time": "2022-06-12T22:06:57.805Z"
   },
   {
    "duration": 11,
    "start_time": "2022-06-12T22:06:57.820Z"
   },
   {
    "duration": 58,
    "start_time": "2022-06-12T22:06:57.832Z"
   },
   {
    "duration": 51,
    "start_time": "2022-06-12T22:06:57.891Z"
   },
   {
    "duration": 77,
    "start_time": "2022-06-12T22:06:57.944Z"
   },
   {
    "duration": 14,
    "start_time": "2022-06-12T22:06:58.023Z"
   },
   {
    "duration": 30,
    "start_time": "2022-06-12T22:06:58.038Z"
   },
   {
    "duration": 32,
    "start_time": "2022-06-12T22:06:58.070Z"
   },
   {
    "duration": 18,
    "start_time": "2022-06-12T22:06:58.104Z"
   },
   {
    "duration": 92,
    "start_time": "2022-06-12T22:06:58.123Z"
   },
   {
    "duration": 14,
    "start_time": "2022-06-12T22:06:58.217Z"
   },
   {
    "duration": 66,
    "start_time": "2022-06-12T22:06:58.232Z"
   },
   {
    "duration": 0,
    "start_time": "2022-06-12T22:06:58.300Z"
   },
   {
    "duration": 0,
    "start_time": "2022-06-12T22:06:58.302Z"
   },
   {
    "duration": 0,
    "start_time": "2022-06-12T22:06:58.303Z"
   },
   {
    "duration": 0,
    "start_time": "2022-06-12T22:06:58.304Z"
   },
   {
    "duration": 0,
    "start_time": "2022-06-12T22:06:58.304Z"
   },
   {
    "duration": 0,
    "start_time": "2022-06-12T22:06:58.306Z"
   },
   {
    "duration": 0,
    "start_time": "2022-06-12T22:06:58.307Z"
   },
   {
    "duration": 0,
    "start_time": "2022-06-12T22:06:58.308Z"
   },
   {
    "duration": 0,
    "start_time": "2022-06-12T22:06:58.308Z"
   },
   {
    "duration": 0,
    "start_time": "2022-06-12T22:06:58.309Z"
   },
   {
    "duration": 0,
    "start_time": "2022-06-12T22:06:58.310Z"
   },
   {
    "duration": 0,
    "start_time": "2022-06-12T22:06:58.312Z"
   },
   {
    "duration": 0,
    "start_time": "2022-06-12T22:06:58.312Z"
   },
   {
    "duration": 0,
    "start_time": "2022-06-12T22:06:58.313Z"
   },
   {
    "duration": 0,
    "start_time": "2022-06-12T22:06:58.314Z"
   },
   {
    "duration": 0,
    "start_time": "2022-06-12T22:06:58.315Z"
   },
   {
    "duration": 0,
    "start_time": "2022-06-12T22:06:58.316Z"
   },
   {
    "duration": 0,
    "start_time": "2022-06-12T22:06:58.317Z"
   },
   {
    "duration": 0,
    "start_time": "2022-06-12T22:06:58.318Z"
   },
   {
    "duration": 0,
    "start_time": "2022-06-12T22:06:58.319Z"
   },
   {
    "duration": 0,
    "start_time": "2022-06-12T22:06:58.320Z"
   },
   {
    "duration": 0,
    "start_time": "2022-06-12T22:06:58.321Z"
   },
   {
    "duration": 0,
    "start_time": "2022-06-12T22:06:58.321Z"
   },
   {
    "duration": 0,
    "start_time": "2022-06-12T22:06:58.359Z"
   },
   {
    "duration": 0,
    "start_time": "2022-06-12T22:06:58.360Z"
   },
   {
    "duration": 0,
    "start_time": "2022-06-12T22:06:58.361Z"
   },
   {
    "duration": 0,
    "start_time": "2022-06-12T22:06:58.362Z"
   },
   {
    "duration": 0,
    "start_time": "2022-06-12T22:06:58.363Z"
   },
   {
    "duration": 0,
    "start_time": "2022-06-12T22:06:58.364Z"
   },
   {
    "duration": 0,
    "start_time": "2022-06-12T22:06:58.365Z"
   },
   {
    "duration": 0,
    "start_time": "2022-06-12T22:06:58.365Z"
   },
   {
    "duration": 0,
    "start_time": "2022-06-12T22:06:58.366Z"
   },
   {
    "duration": 0,
    "start_time": "2022-06-12T22:06:58.367Z"
   },
   {
    "duration": 0,
    "start_time": "2022-06-12T22:06:58.368Z"
   },
   {
    "duration": 0,
    "start_time": "2022-06-12T22:06:58.369Z"
   },
   {
    "duration": 5,
    "start_time": "2022-06-12T22:07:09.965Z"
   },
   {
    "duration": 115,
    "start_time": "2022-06-12T22:07:10.511Z"
   },
   {
    "duration": 25,
    "start_time": "2022-06-12T22:07:11.633Z"
   },
   {
    "duration": 48,
    "start_time": "2022-06-12T22:07:14.142Z"
   },
   {
    "duration": 59,
    "start_time": "2022-06-12T22:07:14.709Z"
   },
   {
    "duration": 14,
    "start_time": "2022-06-12T22:07:15.062Z"
   },
   {
    "duration": 19,
    "start_time": "2022-06-12T22:07:15.375Z"
   },
   {
    "duration": 12,
    "start_time": "2022-06-12T22:07:15.629Z"
   },
   {
    "duration": 10,
    "start_time": "2022-06-12T22:07:16.006Z"
   },
   {
    "duration": 13,
    "start_time": "2022-06-12T22:07:17.102Z"
   },
   {
    "duration": 8,
    "start_time": "2022-06-12T22:07:17.869Z"
   },
   {
    "duration": 39,
    "start_time": "2022-06-12T22:07:18.655Z"
   },
   {
    "duration": 49,
    "start_time": "2022-06-12T22:07:19.487Z"
   },
   {
    "duration": 57,
    "start_time": "2022-06-12T22:07:20.286Z"
   },
   {
    "duration": 15,
    "start_time": "2022-06-12T22:07:20.942Z"
   },
   {
    "duration": 17,
    "start_time": "2022-06-12T22:07:21.438Z"
   },
   {
    "duration": 33,
    "start_time": "2022-06-12T22:07:21.902Z"
   },
   {
    "duration": 17,
    "start_time": "2022-06-12T22:07:22.195Z"
   },
   {
    "duration": 72,
    "start_time": "2022-06-12T22:07:22.476Z"
   },
   {
    "duration": 15,
    "start_time": "2022-06-12T22:07:22.733Z"
   },
   {
    "duration": 116,
    "start_time": "2022-06-12T22:07:23.126Z"
   },
   {
    "duration": 9,
    "start_time": "2022-06-12T22:07:49.679Z"
   },
   {
    "duration": 9,
    "start_time": "2022-06-12T22:07:51.111Z"
   },
   {
    "duration": 26,
    "start_time": "2022-06-12T22:08:53.122Z"
   },
   {
    "duration": 26,
    "start_time": "2022-06-12T22:08:54.775Z"
   },
   {
    "duration": 5,
    "start_time": "2022-06-12T22:08:55.767Z"
   },
   {
    "duration": 11,
    "start_time": "2022-06-12T22:08:56.550Z"
   },
   {
    "duration": 32,
    "start_time": "2022-06-12T22:08:57.415Z"
   },
   {
    "duration": 10,
    "start_time": "2022-06-12T22:08:58.302Z"
   },
   {
    "duration": 5,
    "start_time": "2022-06-12T22:08:59.318Z"
   },
   {
    "duration": 20,
    "start_time": "2022-06-12T22:09:00.311Z"
   },
   {
    "duration": 19,
    "start_time": "2022-06-12T22:09:03.727Z"
   },
   {
    "duration": 332,
    "start_time": "2022-06-12T22:09:06.582Z"
   },
   {
    "duration": 309,
    "start_time": "2022-06-12T22:09:09.471Z"
   },
   {
    "duration": 21,
    "start_time": "2022-06-12T22:09:11.647Z"
   },
   {
    "duration": 49,
    "start_time": "2022-06-12T22:09:12.671Z"
   },
   {
    "duration": 19,
    "start_time": "2022-06-12T22:09:13.390Z"
   },
   {
    "duration": 36,
    "start_time": "2022-06-12T22:09:14.999Z"
   },
   {
    "duration": 14,
    "start_time": "2022-06-12T22:09:15.863Z"
   },
   {
    "duration": 15,
    "start_time": "2022-06-12T22:09:16.687Z"
   },
   {
    "duration": 10,
    "start_time": "2022-06-12T22:09:17.543Z"
   },
   {
    "duration": 12,
    "start_time": "2022-06-12T22:09:18.279Z"
   },
   {
    "duration": 21,
    "start_time": "2022-06-12T22:09:18.902Z"
   },
   {
    "duration": 33,
    "start_time": "2022-06-12T22:09:21.915Z"
   },
   {
    "duration": 6,
    "start_time": "2022-06-12T22:09:23.366Z"
   },
   {
    "duration": 52,
    "start_time": "2022-06-12T22:09:24.136Z"
   },
   {
    "duration": 18,
    "start_time": "2022-06-12T22:09:24.942Z"
   },
   {
    "duration": 14,
    "start_time": "2022-06-12T22:09:25.686Z"
   },
   {
    "duration": 5,
    "start_time": "2022-06-12T22:09:26.686Z"
   },
   {
    "duration": 10,
    "start_time": "2022-06-12T22:09:28.333Z"
   },
   {
    "duration": 279,
    "start_time": "2022-06-12T22:09:29.183Z"
   },
   {
    "duration": 291,
    "start_time": "2022-06-12T22:09:30.230Z"
   },
   {
    "duration": 5,
    "start_time": "2022-06-12T22:09:31.942Z"
   },
   {
    "duration": 10,
    "start_time": "2022-06-12T22:09:32.686Z"
   },
   {
    "duration": 387,
    "start_time": "2022-06-12T22:09:33.412Z"
   },
   {
    "duration": 459,
    "start_time": "2022-06-12T22:09:34.815Z"
   },
   {
    "duration": 8,
    "start_time": "2022-06-12T22:10:41.528Z"
   },
   {
    "duration": 10,
    "start_time": "2022-06-12T22:11:01.879Z"
   },
   {
    "duration": 16,
    "start_time": "2022-06-12T22:11:15.400Z"
   },
   {
    "duration": 8,
    "start_time": "2022-06-12T22:11:34.822Z"
   },
   {
    "duration": 9,
    "start_time": "2022-06-12T22:12:18.264Z"
   },
   {
    "duration": 15,
    "start_time": "2022-06-12T22:13:33.494Z"
   },
   {
    "duration": 24,
    "start_time": "2022-06-12T22:13:43.016Z"
   },
   {
    "duration": 14,
    "start_time": "2022-06-12T22:13:56.320Z"
   },
   {
    "duration": 5,
    "start_time": "2022-06-12T22:15:22.388Z"
   },
   {
    "duration": 8,
    "start_time": "2022-06-12T22:15:36.001Z"
   },
   {
    "duration": 14,
    "start_time": "2022-06-12T22:15:48.313Z"
   },
   {
    "duration": 17,
    "start_time": "2022-06-12T22:16:16.464Z"
   },
   {
    "duration": 15,
    "start_time": "2022-06-12T22:16:44.426Z"
   },
   {
    "duration": 19,
    "start_time": "2022-06-12T22:17:20.745Z"
   },
   {
    "duration": 14,
    "start_time": "2022-06-12T22:17:28.649Z"
   },
   {
    "duration": 14,
    "start_time": "2022-06-12T22:19:05.634Z"
   },
   {
    "duration": 14,
    "start_time": "2022-06-12T22:19:18.059Z"
   },
   {
    "duration": 15,
    "start_time": "2022-06-12T22:21:33.468Z"
   },
   {
    "duration": 76,
    "start_time": "2022-06-12T22:24:49.588Z"
   },
   {
    "duration": 17,
    "start_time": "2022-06-12T22:28:32.270Z"
   },
   {
    "duration": 9,
    "start_time": "2022-06-12T22:28:51.733Z"
   },
   {
    "duration": 9,
    "start_time": "2022-06-12T22:29:05.109Z"
   },
   {
    "duration": 22,
    "start_time": "2022-06-12T22:31:11.215Z"
   },
   {
    "duration": 10,
    "start_time": "2022-06-12T22:35:09.031Z"
   },
   {
    "duration": 10,
    "start_time": "2022-06-12T22:35:52.416Z"
   },
   {
    "duration": 16,
    "start_time": "2022-06-12T22:36:09.848Z"
   },
   {
    "duration": 15,
    "start_time": "2022-06-12T22:38:16.850Z"
   },
   {
    "duration": 15,
    "start_time": "2022-06-12T22:54:57.373Z"
   },
   {
    "duration": 14,
    "start_time": "2022-06-12T22:55:06.733Z"
   },
   {
    "duration": 14,
    "start_time": "2022-06-12T22:55:34.549Z"
   },
   {
    "duration": 12,
    "start_time": "2022-06-12T22:55:57.941Z"
   },
   {
    "duration": 31,
    "start_time": "2022-06-12T22:56:13.156Z"
   },
   {
    "duration": 20,
    "start_time": "2022-06-12T22:56:24.862Z"
   },
   {
    "duration": 26,
    "start_time": "2022-06-12T22:56:34.598Z"
   },
   {
    "duration": 44,
    "start_time": "2022-06-12T22:56:48.712Z"
   },
   {
    "duration": 4,
    "start_time": "2022-06-12T23:57:23.625Z"
   },
   {
    "duration": 132,
    "start_time": "2022-06-12T23:57:23.631Z"
   },
   {
    "duration": 23,
    "start_time": "2022-06-12T23:57:23.765Z"
   },
   {
    "duration": 27,
    "start_time": "2022-06-12T23:57:23.790Z"
   },
   {
    "duration": 63,
    "start_time": "2022-06-12T23:57:23.819Z"
   },
   {
    "duration": 13,
    "start_time": "2022-06-12T23:57:23.883Z"
   },
   {
    "duration": 11,
    "start_time": "2022-06-12T23:57:23.898Z"
   },
   {
    "duration": 17,
    "start_time": "2022-06-12T23:57:23.911Z"
   },
   {
    "duration": 60,
    "start_time": "2022-06-12T23:57:23.930Z"
   },
   {
    "duration": 25,
    "start_time": "2022-06-12T23:57:23.991Z"
   },
   {
    "duration": 0,
    "start_time": "2022-06-12T23:57:24.019Z"
   },
   {
    "duration": 0,
    "start_time": "2022-06-12T23:57:24.020Z"
   },
   {
    "duration": 1,
    "start_time": "2022-06-12T23:57:24.020Z"
   },
   {
    "duration": 0,
    "start_time": "2022-06-12T23:57:24.021Z"
   },
   {
    "duration": 0,
    "start_time": "2022-06-12T23:57:24.022Z"
   },
   {
    "duration": 0,
    "start_time": "2022-06-12T23:57:24.023Z"
   },
   {
    "duration": 0,
    "start_time": "2022-06-12T23:57:24.024Z"
   },
   {
    "duration": 0,
    "start_time": "2022-06-12T23:57:24.025Z"
   },
   {
    "duration": 0,
    "start_time": "2022-06-12T23:57:24.026Z"
   },
   {
    "duration": 0,
    "start_time": "2022-06-12T23:57:24.027Z"
   },
   {
    "duration": 0,
    "start_time": "2022-06-12T23:57:24.028Z"
   },
   {
    "duration": 0,
    "start_time": "2022-06-12T23:57:24.029Z"
   },
   {
    "duration": 0,
    "start_time": "2022-06-12T23:57:24.030Z"
   },
   {
    "duration": 0,
    "start_time": "2022-06-12T23:57:24.031Z"
   },
   {
    "duration": 0,
    "start_time": "2022-06-12T23:57:24.059Z"
   },
   {
    "duration": 0,
    "start_time": "2022-06-12T23:57:24.060Z"
   },
   {
    "duration": 0,
    "start_time": "2022-06-12T23:57:24.061Z"
   },
   {
    "duration": 0,
    "start_time": "2022-06-12T23:57:24.062Z"
   },
   {
    "duration": 0,
    "start_time": "2022-06-12T23:57:24.063Z"
   },
   {
    "duration": 0,
    "start_time": "2022-06-12T23:57:24.064Z"
   },
   {
    "duration": 0,
    "start_time": "2022-06-12T23:57:24.065Z"
   },
   {
    "duration": 0,
    "start_time": "2022-06-12T23:57:24.066Z"
   },
   {
    "duration": 0,
    "start_time": "2022-06-12T23:57:24.067Z"
   },
   {
    "duration": 0,
    "start_time": "2022-06-12T23:57:24.068Z"
   },
   {
    "duration": 0,
    "start_time": "2022-06-12T23:57:24.069Z"
   },
   {
    "duration": 0,
    "start_time": "2022-06-12T23:57:24.070Z"
   },
   {
    "duration": 0,
    "start_time": "2022-06-12T23:57:24.071Z"
   },
   {
    "duration": 0,
    "start_time": "2022-06-12T23:57:24.072Z"
   },
   {
    "duration": 0,
    "start_time": "2022-06-12T23:57:24.072Z"
   },
   {
    "duration": 0,
    "start_time": "2022-06-12T23:57:24.073Z"
   },
   {
    "duration": 0,
    "start_time": "2022-06-12T23:57:24.075Z"
   },
   {
    "duration": 0,
    "start_time": "2022-06-12T23:57:24.076Z"
   },
   {
    "duration": 0,
    "start_time": "2022-06-12T23:57:24.077Z"
   },
   {
    "duration": 0,
    "start_time": "2022-06-12T23:57:24.079Z"
   },
   {
    "duration": 0,
    "start_time": "2022-06-12T23:57:24.080Z"
   },
   {
    "duration": 0,
    "start_time": "2022-06-12T23:57:24.081Z"
   },
   {
    "duration": 0,
    "start_time": "2022-06-12T23:57:24.082Z"
   },
   {
    "duration": 0,
    "start_time": "2022-06-12T23:57:24.084Z"
   },
   {
    "duration": 0,
    "start_time": "2022-06-12T23:57:24.085Z"
   },
   {
    "duration": 0,
    "start_time": "2022-06-12T23:57:24.086Z"
   },
   {
    "duration": 0,
    "start_time": "2022-06-12T23:57:24.088Z"
   },
   {
    "duration": 0,
    "start_time": "2022-06-12T23:57:24.089Z"
   },
   {
    "duration": 0,
    "start_time": "2022-06-12T23:57:24.090Z"
   },
   {
    "duration": 0,
    "start_time": "2022-06-12T23:57:24.091Z"
   },
   {
    "duration": 0,
    "start_time": "2022-06-12T23:57:24.092Z"
   },
   {
    "duration": 0,
    "start_time": "2022-06-12T23:57:24.094Z"
   },
   {
    "duration": 0,
    "start_time": "2022-06-12T23:57:24.095Z"
   },
   {
    "duration": 0,
    "start_time": "2022-06-12T23:57:24.159Z"
   },
   {
    "duration": 0,
    "start_time": "2022-06-12T23:57:24.160Z"
   },
   {
    "duration": 0,
    "start_time": "2022-06-12T23:57:24.161Z"
   },
   {
    "duration": 0,
    "start_time": "2022-06-12T23:57:24.162Z"
   },
   {
    "duration": 0,
    "start_time": "2022-06-12T23:57:24.163Z"
   },
   {
    "duration": 0,
    "start_time": "2022-06-12T23:57:24.164Z"
   },
   {
    "duration": 0,
    "start_time": "2022-06-12T23:57:24.165Z"
   },
   {
    "duration": 0,
    "start_time": "2022-06-12T23:57:24.165Z"
   },
   {
    "duration": 0,
    "start_time": "2022-06-12T23:57:24.167Z"
   },
   {
    "duration": 0,
    "start_time": "2022-06-12T23:57:24.167Z"
   },
   {
    "duration": 3,
    "start_time": "2022-06-12T23:58:43.074Z"
   },
   {
    "duration": 136,
    "start_time": "2022-06-12T23:58:43.403Z"
   },
   {
    "duration": 25,
    "start_time": "2022-06-12T23:58:44.058Z"
   },
   {
    "duration": 27,
    "start_time": "2022-06-12T23:58:45.835Z"
   },
   {
    "duration": 39,
    "start_time": "2022-06-12T23:58:46.395Z"
   },
   {
    "duration": 15,
    "start_time": "2022-06-12T23:58:51.517Z"
   },
   {
    "duration": 11,
    "start_time": "2022-06-12T23:58:52.556Z"
   },
   {
    "duration": 13,
    "start_time": "2022-06-12T23:58:53.459Z"
   },
   {
    "duration": 45,
    "start_time": "2022-06-12T23:58:57.010Z"
   },
   {
    "duration": 13,
    "start_time": "2022-06-12T23:59:10.017Z"
   },
   {
    "duration": 7,
    "start_time": "2022-06-12T23:59:10.336Z"
   },
   {
    "duration": 15,
    "start_time": "2022-06-12T23:59:10.985Z"
   },
   {
    "duration": 11,
    "start_time": "2022-06-12T23:59:11.521Z"
   },
   {
    "duration": 18,
    "start_time": "2022-06-12T23:59:12.088Z"
   },
   {
    "duration": 16,
    "start_time": "2022-06-12T23:59:12.640Z"
   },
   {
    "duration": 12,
    "start_time": "2022-06-12T23:59:15.369Z"
   },
   {
    "duration": 16,
    "start_time": "2022-06-12T23:59:18.072Z"
   },
   {
    "duration": 9,
    "start_time": "2022-06-12T23:59:18.337Z"
   },
   {
    "duration": 11,
    "start_time": "2022-06-12T23:59:18.672Z"
   },
   {
    "duration": 8,
    "start_time": "2022-06-12T23:59:19.688Z"
   },
   {
    "duration": 41,
    "start_time": "2022-06-12T23:59:20.041Z"
   },
   {
    "duration": 51,
    "start_time": "2022-06-12T23:59:20.744Z"
   },
   {
    "duration": 61,
    "start_time": "2022-06-12T23:59:22.440Z"
   },
   {
    "duration": 15,
    "start_time": "2022-06-12T23:59:22.936Z"
   },
   {
    "duration": 16,
    "start_time": "2022-06-12T23:59:23.568Z"
   },
   {
    "duration": 34,
    "start_time": "2022-06-12T23:59:30.601Z"
   },
   {
    "duration": 18,
    "start_time": "2022-06-12T23:59:31.617Z"
   },
   {
    "duration": 72,
    "start_time": "2022-06-12T23:59:32.489Z"
   },
   {
    "duration": 15,
    "start_time": "2022-06-12T23:59:34.081Z"
   },
   {
    "duration": 10,
    "start_time": "2022-06-12T23:59:56.959Z"
   },
   {
    "duration": 16,
    "start_time": "2022-06-13T00:00:03.945Z"
   },
   {
    "duration": 14,
    "start_time": "2022-06-13T00:00:07.674Z"
   },
   {
    "duration": 54,
    "start_time": "2022-06-13T00:00:08.530Z"
   },
   {
    "duration": 8,
    "start_time": "2022-06-13T00:00:09.066Z"
   },
   {
    "duration": 10,
    "start_time": "2022-06-13T00:00:09.801Z"
   },
   {
    "duration": 17,
    "start_time": "2022-06-13T00:00:10.800Z"
   },
   {
    "duration": 17,
    "start_time": "2022-06-13T00:00:11.113Z"
   },
   {
    "duration": 5,
    "start_time": "2022-06-13T00:00:11.367Z"
   },
   {
    "duration": 11,
    "start_time": "2022-06-13T00:00:11.622Z"
   },
   {
    "duration": 25,
    "start_time": "2022-06-13T00:00:11.879Z"
   },
   {
    "duration": 10,
    "start_time": "2022-06-13T00:00:12.120Z"
   },
   {
    "duration": 5,
    "start_time": "2022-06-13T00:00:12.358Z"
   },
   {
    "duration": 20,
    "start_time": "2022-06-13T00:00:12.600Z"
   },
   {
    "duration": 18,
    "start_time": "2022-06-13T00:00:12.827Z"
   },
   {
    "duration": 303,
    "start_time": "2022-06-13T00:00:13.217Z"
   },
   {
    "duration": 315,
    "start_time": "2022-06-13T00:00:13.521Z"
   },
   {
    "duration": 23,
    "start_time": "2022-06-13T00:00:14.177Z"
   },
   {
    "duration": 50,
    "start_time": "2022-06-13T00:00:14.425Z"
   },
   {
    "duration": 19,
    "start_time": "2022-06-13T00:00:14.675Z"
   },
   {
    "duration": 35,
    "start_time": "2022-06-13T00:00:15.105Z"
   },
   {
    "duration": 15,
    "start_time": "2022-06-13T00:00:15.546Z"
   },
   {
    "duration": 17,
    "start_time": "2022-06-13T00:00:15.767Z"
   },
   {
    "duration": 10,
    "start_time": "2022-06-13T00:00:16.012Z"
   },
   {
    "duration": 10,
    "start_time": "2022-06-13T00:00:16.252Z"
   },
   {
    "duration": 19,
    "start_time": "2022-06-13T00:00:16.561Z"
   },
   {
    "duration": 32,
    "start_time": "2022-06-13T00:00:17.065Z"
   },
   {
    "duration": 6,
    "start_time": "2022-06-13T00:00:17.672Z"
   },
   {
    "duration": 41,
    "start_time": "2022-06-13T00:00:17.962Z"
   },
   {
    "duration": 18,
    "start_time": "2022-06-13T00:00:18.239Z"
   },
   {
    "duration": 14,
    "start_time": "2022-06-13T00:00:18.535Z"
   },
   {
    "duration": 4,
    "start_time": "2022-06-13T00:00:18.848Z"
   },
   {
    "duration": 10,
    "start_time": "2022-06-13T00:00:19.377Z"
   },
   {
    "duration": 276,
    "start_time": "2022-06-13T00:00:19.624Z"
   },
   {
    "duration": 306,
    "start_time": "2022-06-13T00:00:19.902Z"
   },
   {
    "duration": 4,
    "start_time": "2022-06-13T00:00:20.345Z"
   },
   {
    "duration": 9,
    "start_time": "2022-06-13T00:00:20.584Z"
   },
   {
    "duration": 483,
    "start_time": "2022-06-13T00:00:20.824Z"
   },
   {
    "duration": 374,
    "start_time": "2022-06-13T00:00:21.311Z"
   },
   {
    "duration": 27,
    "start_time": "2022-06-13T00:07:53.737Z"
   },
   {
    "duration": 17,
    "start_time": "2022-06-13T00:09:54.516Z"
   },
   {
    "duration": 4,
    "start_time": "2022-06-13T00:12:28.077Z"
   },
   {
    "duration": 128,
    "start_time": "2022-06-13T00:12:28.846Z"
   },
   {
    "duration": 24,
    "start_time": "2022-06-13T00:12:29.477Z"
   },
   {
    "duration": 29,
    "start_time": "2022-06-13T00:12:31.724Z"
   },
   {
    "duration": 37,
    "start_time": "2022-06-13T00:12:32.238Z"
   },
   {
    "duration": 13,
    "start_time": "2022-06-13T00:12:33.292Z"
   },
   {
    "duration": 10,
    "start_time": "2022-06-13T00:12:33.900Z"
   },
   {
    "duration": 13,
    "start_time": "2022-06-13T00:12:34.277Z"
   },
   {
    "duration": 44,
    "start_time": "2022-06-13T00:12:34.916Z"
   },
   {
    "duration": 14,
    "start_time": "2022-06-13T00:12:37.708Z"
   },
   {
    "duration": 7,
    "start_time": "2022-06-13T00:12:38.404Z"
   },
   {
    "duration": 15,
    "start_time": "2022-06-13T00:12:39.197Z"
   },
   {
    "duration": 11,
    "start_time": "2022-06-13T00:12:40.276Z"
   },
   {
    "duration": 15,
    "start_time": "2022-06-13T00:12:44.244Z"
   },
   {
    "duration": 9,
    "start_time": "2022-06-13T00:12:52.588Z"
   },
   {
    "duration": 23,
    "start_time": "2022-06-13T00:13:05.310Z"
   },
   {
    "duration": 15,
    "start_time": "2022-06-13T00:14:54.221Z"
   },
   {
    "duration": 21,
    "start_time": "2022-06-13T00:14:55.109Z"
   },
   {
    "duration": 24,
    "start_time": "2022-06-13T00:16:00.023Z"
   },
   {
    "duration": 20,
    "start_time": "2022-06-13T00:16:17.405Z"
   },
   {
    "duration": 18,
    "start_time": "2022-06-13T00:21:53.710Z"
   },
   {
    "duration": 17,
    "start_time": "2022-06-13T00:22:30.552Z"
   },
   {
    "duration": 24,
    "start_time": "2022-06-13T00:23:03.753Z"
   },
   {
    "duration": 19,
    "start_time": "2022-06-13T02:02:47.821Z"
   },
   {
    "duration": 41,
    "start_time": "2022-06-13T02:06:52.979Z"
   },
   {
    "duration": 37,
    "start_time": "2022-06-13T02:07:11.733Z"
   },
   {
    "duration": 37,
    "start_time": "2022-06-13T02:07:28.630Z"
   },
   {
    "duration": 38,
    "start_time": "2022-06-13T02:07:43.599Z"
   },
   {
    "duration": 37,
    "start_time": "2022-06-13T02:08:00.245Z"
   },
   {
    "duration": 37,
    "start_time": "2022-06-13T02:08:16.081Z"
   },
   {
    "duration": 37,
    "start_time": "2022-06-13T02:08:30.780Z"
   },
   {
    "duration": 37,
    "start_time": "2022-06-13T02:08:37.436Z"
   },
   {
    "duration": 34,
    "start_time": "2022-06-13T02:08:50.302Z"
   },
   {
    "duration": 40,
    "start_time": "2022-06-13T02:08:55.058Z"
   },
   {
    "duration": 38,
    "start_time": "2022-06-13T02:09:10.535Z"
   },
   {
    "duration": 38,
    "start_time": "2022-06-13T02:09:23.613Z"
   },
   {
    "duration": 36,
    "start_time": "2022-06-13T02:10:17.511Z"
   },
   {
    "duration": 22,
    "start_time": "2022-06-13T02:29:20.445Z"
   },
   {
    "duration": 7,
    "start_time": "2022-06-13T02:31:40.123Z"
   },
   {
    "duration": 128,
    "start_time": "2022-06-13T02:32:46.285Z"
   },
   {
    "duration": 24,
    "start_time": "2022-06-13T02:32:46.852Z"
   },
   {
    "duration": 28,
    "start_time": "2022-06-13T02:32:48.124Z"
   },
   {
    "duration": 40,
    "start_time": "2022-06-13T02:32:48.678Z"
   },
   {
    "duration": 14,
    "start_time": "2022-06-13T02:32:57.538Z"
   },
   {
    "duration": 10,
    "start_time": "2022-06-13T02:32:58.746Z"
   },
   {
    "duration": 14,
    "start_time": "2022-06-13T02:32:59.467Z"
   },
   {
    "duration": 6,
    "start_time": "2022-06-13T02:34:14.795Z"
   },
   {
    "duration": 20,
    "start_time": "2022-06-13T02:34:44.430Z"
   },
   {
    "duration": 18,
    "start_time": "2022-06-13T02:35:03.369Z"
   },
   {
    "duration": 17,
    "start_time": "2022-06-13T02:35:20.207Z"
   },
   {
    "duration": 18,
    "start_time": "2022-06-13T02:35:45.719Z"
   },
   {
    "duration": 3,
    "start_time": "2022-06-13T02:36:12.422Z"
   },
   {
    "duration": 121,
    "start_time": "2022-06-13T02:36:13.174Z"
   },
   {
    "duration": 25,
    "start_time": "2022-06-13T02:36:14.417Z"
   },
   {
    "duration": 27,
    "start_time": "2022-06-13T02:36:19.679Z"
   },
   {
    "duration": 32,
    "start_time": "2022-06-13T02:36:37.677Z"
   },
   {
    "duration": 10,
    "start_time": "2022-06-13T02:37:00.879Z"
   },
   {
    "duration": 14,
    "start_time": "2022-06-13T02:37:09.509Z"
   },
   {
    "duration": 21,
    "start_time": "2022-06-13T02:37:21.081Z"
   },
   {
    "duration": 26,
    "start_time": "2022-06-13T02:38:08.894Z"
   },
   {
    "duration": 28,
    "start_time": "2022-06-13T02:39:06.160Z"
   },
   {
    "duration": 27,
    "start_time": "2022-06-13T02:40:21.105Z"
   },
   {
    "duration": 36,
    "start_time": "2022-06-13T02:46:21.444Z"
   },
   {
    "duration": 6,
    "start_time": "2022-06-13T02:53:03.996Z"
   },
   {
    "duration": 10,
    "start_time": "2022-06-13T02:54:13.954Z"
   },
   {
    "duration": 8,
    "start_time": "2022-06-13T02:54:34.085Z"
   },
   {
    "duration": 22,
    "start_time": "2022-06-13T03:05:45.176Z"
   },
   {
    "duration": 21,
    "start_time": "2022-06-13T03:05:57.719Z"
   },
   {
    "duration": 8,
    "start_time": "2022-06-13T03:10:35.705Z"
   },
   {
    "duration": 6,
    "start_time": "2022-06-13T03:11:26.900Z"
   },
   {
    "duration": 40,
    "start_time": "2022-06-13T03:16:32.378Z"
   },
   {
    "duration": 53,
    "start_time": "2022-06-13T03:16:36.671Z"
   },
   {
    "duration": 61,
    "start_time": "2022-06-13T03:16:37.581Z"
   },
   {
    "duration": 15,
    "start_time": "2022-06-13T03:16:41.095Z"
   },
   {
    "duration": 16,
    "start_time": "2022-06-13T03:16:45.496Z"
   },
   {
    "duration": 31,
    "start_time": "2022-06-13T03:16:46.059Z"
   },
   {
    "duration": 17,
    "start_time": "2022-06-13T03:16:52.494Z"
   },
   {
    "duration": 74,
    "start_time": "2022-06-13T03:16:56.935Z"
   },
   {
    "duration": 9,
    "start_time": "2022-06-13T03:17:01.349Z"
   },
   {
    "duration": 9,
    "start_time": "2022-06-13T03:17:02.559Z"
   },
   {
    "duration": 28,
    "start_time": "2022-06-13T03:17:49.934Z"
   },
   {
    "duration": 13,
    "start_time": "2022-06-13T03:18:51.838Z"
   },
   {
    "duration": 11,
    "start_time": "2022-06-13T03:19:37.439Z"
   },
   {
    "duration": 5,
    "start_time": "2022-06-13T03:26:45.905Z"
   },
   {
    "duration": 23,
    "start_time": "2022-06-13T03:27:15.296Z"
   },
   {
    "duration": 7,
    "start_time": "2022-06-13T03:27:46.586Z"
   },
   {
    "duration": 9,
    "start_time": "2022-06-13T03:29:00.281Z"
   },
   {
    "duration": 25,
    "start_time": "2022-06-13T03:35:48.242Z"
   },
   {
    "duration": 7,
    "start_time": "2022-06-13T03:35:49.307Z"
   },
   {
    "duration": 27,
    "start_time": "2022-06-13T03:36:05.906Z"
   },
   {
    "duration": 4,
    "start_time": "2022-06-13T03:36:54.619Z"
   },
   {
    "duration": 131,
    "start_time": "2022-06-13T03:36:54.966Z"
   },
   {
    "duration": 25,
    "start_time": "2022-06-13T03:36:55.226Z"
   },
   {
    "duration": 28,
    "start_time": "2022-06-13T03:36:56.050Z"
   },
   {
    "duration": 38,
    "start_time": "2022-06-13T03:36:56.308Z"
   },
   {
    "duration": 14,
    "start_time": "2022-06-13T03:36:56.865Z"
   },
   {
    "duration": 10,
    "start_time": "2022-06-13T03:36:57.337Z"
   },
   {
    "duration": 14,
    "start_time": "2022-06-13T03:36:57.600Z"
   },
   {
    "duration": 42,
    "start_time": "2022-06-13T03:36:58.177Z"
   },
   {
    "duration": 6,
    "start_time": "2022-06-13T03:36:58.680Z"
   },
   {
    "duration": 27,
    "start_time": "2022-06-13T03:36:58.912Z"
   },
   {
    "duration": 30,
    "start_time": "2022-06-13T03:36:59.168Z"
   },
   {
    "duration": 14,
    "start_time": "2022-06-13T03:36:59.994Z"
   },
   {
    "duration": 7,
    "start_time": "2022-06-13T03:37:00.248Z"
   },
   {
    "duration": 18,
    "start_time": "2022-06-13T03:37:00.520Z"
   },
   {
    "duration": 10,
    "start_time": "2022-06-13T03:37:00.780Z"
   },
   {
    "duration": 7,
    "start_time": "2022-06-13T03:37:01.021Z"
   },
   {
    "duration": 7,
    "start_time": "2022-06-13T03:37:01.287Z"
   },
   {
    "duration": 18,
    "start_time": "2022-06-13T03:37:01.543Z"
   },
   {
    "duration": 7,
    "start_time": "2022-06-13T03:37:01.816Z"
   },
   {
    "duration": 17,
    "start_time": "2022-06-13T03:37:02.434Z"
   },
   {
    "duration": 42,
    "start_time": "2022-06-13T03:37:02.713Z"
   },
   {
    "duration": 27,
    "start_time": "2022-06-13T03:37:02.923Z"
   },
   {
    "duration": 8,
    "start_time": "2022-06-13T03:37:03.148Z"
   },
   {
    "duration": 11,
    "start_time": "2022-06-13T03:37:03.424Z"
   },
   {
    "duration": 15,
    "start_time": "2022-06-13T03:37:04.289Z"
   },
   {
    "duration": 21,
    "start_time": "2022-06-13T03:37:05.130Z"
   },
   {
    "duration": 21,
    "start_time": "2022-06-13T03:37:13.737Z"
   },
   {
    "duration": 21,
    "start_time": "2022-06-13T03:37:20.978Z"
   },
   {
    "duration": 22,
    "start_time": "2022-06-13T03:37:21.507Z"
   },
   {
    "duration": 18,
    "start_time": "2022-06-13T03:37:21.810Z"
   },
   {
    "duration": 11,
    "start_time": "2022-06-13T03:37:22.730Z"
   },
   {
    "duration": 11,
    "start_time": "2022-06-13T03:37:24.731Z"
   },
   {
    "duration": 7,
    "start_time": "2022-06-13T03:37:25.084Z"
   },
   {
    "duration": 42,
    "start_time": "2022-06-13T03:37:25.419Z"
   },
   {
    "duration": 51,
    "start_time": "2022-06-13T03:37:25.769Z"
   },
   {
    "duration": 59,
    "start_time": "2022-06-13T03:37:26.877Z"
   },
   {
    "duration": 14,
    "start_time": "2022-06-13T03:37:27.691Z"
   },
   {
    "duration": 15,
    "start_time": "2022-06-13T03:37:28.131Z"
   },
   {
    "duration": 32,
    "start_time": "2022-06-13T03:37:29.875Z"
   },
   {
    "duration": 17,
    "start_time": "2022-06-13T03:37:30.277Z"
   },
   {
    "duration": 77,
    "start_time": "2022-06-13T03:37:30.698Z"
   },
   {
    "duration": 10,
    "start_time": "2022-06-13T03:37:31.138Z"
   },
   {
    "duration": 9,
    "start_time": "2022-06-13T03:37:31.899Z"
   },
   {
    "duration": 17,
    "start_time": "2022-06-13T03:37:33.773Z"
   },
   {
    "duration": 25,
    "start_time": "2022-06-13T03:37:34.603Z"
   },
   {
    "duration": 22,
    "start_time": "2022-06-13T03:37:35.484Z"
   },
   {
    "duration": 7,
    "start_time": "2022-06-13T03:37:36.273Z"
   },
   {
    "duration": 5,
    "start_time": "2022-06-13T03:37:37.181Z"
   },
   {
    "duration": 8,
    "start_time": "2022-06-13T03:37:38.098Z"
   },
   {
    "duration": 31,
    "start_time": "2022-06-13T03:37:41.098Z"
   },
   {
    "duration": 6,
    "start_time": "2022-06-13T03:37:42.634Z"
   },
   {
    "duration": 25,
    "start_time": "2022-06-13T03:37:44.546Z"
   },
   {
    "duration": 35,
    "start_time": "2022-06-13T03:41:15.500Z"
   },
   {
    "duration": 7,
    "start_time": "2022-06-13T03:41:42.610Z"
   },
   {
    "duration": 27,
    "start_time": "2022-06-13T03:41:43.707Z"
   },
   {
    "duration": 4,
    "start_time": "2022-06-13T03:44:09.973Z"
   },
   {
    "duration": 105,
    "start_time": "2022-06-13T03:44:10.533Z"
   },
   {
    "duration": 29,
    "start_time": "2022-06-13T03:44:11.043Z"
   },
   {
    "duration": 27,
    "start_time": "2022-06-13T03:44:12.305Z"
   },
   {
    "duration": 39,
    "start_time": "2022-06-13T03:44:12.559Z"
   },
   {
    "duration": 15,
    "start_time": "2022-06-13T03:44:13.946Z"
   },
   {
    "duration": 12,
    "start_time": "2022-06-13T03:44:14.395Z"
   },
   {
    "duration": 14,
    "start_time": "2022-06-13T03:44:14.787Z"
   },
   {
    "duration": 44,
    "start_time": "2022-06-13T03:44:15.754Z"
   },
   {
    "duration": 7,
    "start_time": "2022-06-13T03:44:16.874Z"
   },
   {
    "duration": 33,
    "start_time": "2022-06-13T03:44:17.136Z"
   },
   {
    "duration": 31,
    "start_time": "2022-06-13T03:44:17.353Z"
   },
   {
    "duration": 14,
    "start_time": "2022-06-13T03:44:17.857Z"
   },
   {
    "duration": 6,
    "start_time": "2022-06-13T03:44:18.121Z"
   },
   {
    "duration": 18,
    "start_time": "2022-06-13T03:44:18.360Z"
   },
   {
    "duration": 10,
    "start_time": "2022-06-13T03:44:18.938Z"
   },
   {
    "duration": 8,
    "start_time": "2022-06-13T03:44:19.176Z"
   },
   {
    "duration": 7,
    "start_time": "2022-06-13T03:44:19.417Z"
   },
   {
    "duration": 19,
    "start_time": "2022-06-13T03:44:20.003Z"
   },
   {
    "duration": 6,
    "start_time": "2022-06-13T03:44:20.296Z"
   },
   {
    "duration": 18,
    "start_time": "2022-06-13T03:44:20.901Z"
   },
   {
    "duration": 33,
    "start_time": "2022-06-13T03:44:21.284Z"
   },
   {
    "duration": 23,
    "start_time": "2022-06-13T03:44:21.691Z"
   },
   {
    "duration": 8,
    "start_time": "2022-06-13T03:44:21.985Z"
   },
   {
    "duration": 11,
    "start_time": "2022-06-13T03:44:22.346Z"
   },
   {
    "duration": 16,
    "start_time": "2022-06-13T03:44:24.889Z"
   },
   {
    "duration": 22,
    "start_time": "2022-06-13T03:44:25.347Z"
   },
   {
    "duration": 21,
    "start_time": "2022-06-13T03:44:26.225Z"
   },
   {
    "duration": 21,
    "start_time": "2022-06-13T03:44:26.810Z"
   },
   {
    "duration": 11,
    "start_time": "2022-06-13T03:44:27.315Z"
   },
   {
    "duration": 11,
    "start_time": "2022-06-13T03:44:27.593Z"
   },
   {
    "duration": 10,
    "start_time": "2022-06-13T03:44:27.947Z"
   },
   {
    "duration": 7,
    "start_time": "2022-06-13T03:44:28.192Z"
   },
   {
    "duration": 39,
    "start_time": "2022-06-13T03:44:28.449Z"
   },
   {
    "duration": 50,
    "start_time": "2022-06-13T03:44:28.795Z"
   },
   {
    "duration": 59,
    "start_time": "2022-06-13T03:44:29.087Z"
   },
   {
    "duration": 13,
    "start_time": "2022-06-13T03:44:29.412Z"
   },
   {
    "duration": 15,
    "start_time": "2022-06-13T03:44:29.819Z"
   },
   {
    "duration": 34,
    "start_time": "2022-06-13T03:44:30.579Z"
   },
   {
    "duration": 18,
    "start_time": "2022-06-13T03:44:30.979Z"
   },
   {
    "duration": 71,
    "start_time": "2022-06-13T03:44:31.577Z"
   },
   {
    "duration": 9,
    "start_time": "2022-06-13T03:44:32.507Z"
   },
   {
    "duration": 9,
    "start_time": "2022-06-13T03:44:33.195Z"
   },
   {
    "duration": 14,
    "start_time": "2022-06-13T03:44:34.091Z"
   },
   {
    "duration": 25,
    "start_time": "2022-06-13T03:44:34.494Z"
   },
   {
    "duration": 23,
    "start_time": "2022-06-13T03:44:34.785Z"
   },
   {
    "duration": 7,
    "start_time": "2022-06-13T03:44:35.051Z"
   },
   {
    "duration": 5,
    "start_time": "2022-06-13T03:44:35.795Z"
   },
   {
    "duration": 8,
    "start_time": "2022-06-13T03:44:37.787Z"
   },
   {
    "duration": 31,
    "start_time": "2022-06-13T03:44:39.098Z"
   },
   {
    "duration": 7,
    "start_time": "2022-06-13T03:44:40.963Z"
   },
   {
    "duration": 26,
    "start_time": "2022-06-13T03:44:44.691Z"
   },
   {
    "duration": 118,
    "start_time": "2022-06-13T03:45:39.558Z"
   },
   {
    "duration": 27,
    "start_time": "2022-06-13T03:45:40.038Z"
   },
   {
    "duration": 27,
    "start_time": "2022-06-13T03:45:41.173Z"
   },
   {
    "duration": 44,
    "start_time": "2022-06-13T03:45:41.418Z"
   },
   {
    "duration": 14,
    "start_time": "2022-06-13T03:45:41.892Z"
   },
   {
    "duration": 10,
    "start_time": "2022-06-13T03:45:42.140Z"
   },
   {
    "duration": 14,
    "start_time": "2022-06-13T03:45:42.344Z"
   },
   {
    "duration": 43,
    "start_time": "2022-06-13T03:45:42.788Z"
   },
   {
    "duration": 6,
    "start_time": "2022-06-13T03:45:43.245Z"
   },
   {
    "duration": 26,
    "start_time": "2022-06-13T03:45:43.472Z"
   },
   {
    "duration": 31,
    "start_time": "2022-06-13T03:45:43.669Z"
   },
   {
    "duration": 13,
    "start_time": "2022-06-13T03:45:44.126Z"
   },
   {
    "duration": 6,
    "start_time": "2022-06-13T03:45:44.348Z"
   },
   {
    "duration": 17,
    "start_time": "2022-06-13T03:45:44.577Z"
   },
   {
    "duration": 11,
    "start_time": "2022-06-13T03:45:44.814Z"
   },
   {
    "duration": 8,
    "start_time": "2022-06-13T03:45:45.234Z"
   },
   {
    "duration": 9,
    "start_time": "2022-06-13T03:45:45.497Z"
   },
   {
    "duration": 17,
    "start_time": "2022-06-13T03:45:45.770Z"
   },
   {
    "duration": 6,
    "start_time": "2022-06-13T03:45:46.031Z"
   },
   {
    "duration": 18,
    "start_time": "2022-06-13T03:45:46.507Z"
   },
   {
    "duration": 33,
    "start_time": "2022-06-13T03:45:46.829Z"
   },
   {
    "duration": 26,
    "start_time": "2022-06-13T03:45:47.176Z"
   },
   {
    "duration": 8,
    "start_time": "2022-06-13T03:45:47.483Z"
   },
   {
    "duration": 11,
    "start_time": "2022-06-13T03:45:47.736Z"
   },
   {
    "duration": 17,
    "start_time": "2022-06-13T03:45:48.195Z"
   },
   {
    "duration": 22,
    "start_time": "2022-06-13T03:45:48.457Z"
   },
   {
    "duration": 21,
    "start_time": "2022-06-13T03:45:49.387Z"
   },
   {
    "duration": 22,
    "start_time": "2022-06-13T03:45:49.659Z"
   },
   {
    "duration": 18,
    "start_time": "2022-06-13T03:45:49.921Z"
   },
   {
    "duration": 10,
    "start_time": "2022-06-13T03:45:50.209Z"
   },
   {
    "duration": 11,
    "start_time": "2022-06-13T03:45:50.515Z"
   },
   {
    "duration": 8,
    "start_time": "2022-06-13T03:45:51.019Z"
   },
   {
    "duration": 42,
    "start_time": "2022-06-13T03:45:51.257Z"
   },
   {
    "duration": 54,
    "start_time": "2022-06-13T03:45:51.624Z"
   },
   {
    "duration": 57,
    "start_time": "2022-06-13T03:45:52.410Z"
   },
   {
    "duration": 14,
    "start_time": "2022-06-13T03:45:52.714Z"
   },
   {
    "duration": 16,
    "start_time": "2022-06-13T03:45:53.124Z"
   },
   {
    "duration": 32,
    "start_time": "2022-06-13T03:45:53.424Z"
   },
   {
    "duration": 18,
    "start_time": "2022-06-13T03:45:53.762Z"
   },
   {
    "duration": 72,
    "start_time": "2022-06-13T03:45:54.289Z"
   },
   {
    "duration": 10,
    "start_time": "2022-06-13T03:45:55.155Z"
   },
   {
    "duration": 10,
    "start_time": "2022-06-13T03:45:55.489Z"
   },
   {
    "duration": 14,
    "start_time": "2022-06-13T03:45:57.040Z"
   },
   {
    "duration": 24,
    "start_time": "2022-06-13T03:45:57.716Z"
   },
   {
    "duration": 22,
    "start_time": "2022-06-13T03:45:58.132Z"
   },
   {
    "duration": 6,
    "start_time": "2022-06-13T03:45:58.389Z"
   },
   {
    "duration": 4,
    "start_time": "2022-06-13T03:45:58.639Z"
   },
   {
    "duration": 9,
    "start_time": "2022-06-13T03:45:58.897Z"
   },
   {
    "duration": 30,
    "start_time": "2022-06-13T03:45:59.962Z"
   },
   {
    "duration": 6,
    "start_time": "2022-06-13T03:46:03.034Z"
   },
   {
    "duration": 26,
    "start_time": "2022-06-13T03:46:07.055Z"
   },
   {
    "duration": 13,
    "start_time": "2022-06-13T03:47:04.492Z"
   },
   {
    "duration": 5,
    "start_time": "2022-06-13T03:47:07.179Z"
   },
   {
    "duration": 26,
    "start_time": "2022-06-13T03:47:08.212Z"
   },
   {
    "duration": 33,
    "start_time": "2022-06-13T03:47:19.932Z"
   },
   {
    "duration": 8,
    "start_time": "2022-06-13T03:47:59.613Z"
   },
   {
    "duration": 9,
    "start_time": "2022-06-13T03:48:00.587Z"
   },
   {
    "duration": 18,
    "start_time": "2022-06-13T03:48:12.172Z"
   },
   {
    "duration": 17,
    "start_time": "2022-06-13T03:48:16.547Z"
   },
   {
    "duration": 5,
    "start_time": "2022-06-13T03:48:17.395Z"
   },
   {
    "duration": 10,
    "start_time": "2022-06-13T03:48:18.628Z"
   },
   {
    "duration": 24,
    "start_time": "2022-06-13T03:48:21.644Z"
   },
   {
    "duration": 10,
    "start_time": "2022-06-13T03:48:23.115Z"
   },
   {
    "duration": 5,
    "start_time": "2022-06-13T03:48:26.468Z"
   },
   {
    "duration": 19,
    "start_time": "2022-06-13T03:48:28.324Z"
   },
   {
    "duration": 16,
    "start_time": "2022-06-13T03:48:31.203Z"
   },
   {
    "duration": 284,
    "start_time": "2022-06-13T03:48:34.204Z"
   },
   {
    "duration": 284,
    "start_time": "2022-06-13T03:48:38.917Z"
   },
   {
    "duration": 20,
    "start_time": "2022-06-13T03:48:45.123Z"
   },
   {
    "duration": 45,
    "start_time": "2022-06-13T03:48:45.716Z"
   },
   {
    "duration": 18,
    "start_time": "2022-06-13T03:48:46.988Z"
   },
   {
    "duration": 35,
    "start_time": "2022-06-13T03:48:51.403Z"
   },
   {
    "duration": 13,
    "start_time": "2022-06-13T03:48:52.412Z"
   },
   {
    "duration": 15,
    "start_time": "2022-06-13T03:48:53.204Z"
   },
   {
    "duration": 10,
    "start_time": "2022-06-13T03:48:54.083Z"
   },
   {
    "duration": 12,
    "start_time": "2022-06-13T03:48:55.298Z"
   },
   {
    "duration": 18,
    "start_time": "2022-06-13T03:48:56.379Z"
   },
   {
    "duration": 35,
    "start_time": "2022-06-13T03:48:58.746Z"
   },
   {
    "duration": 6,
    "start_time": "2022-06-13T03:50:02.451Z"
   },
   {
    "duration": 49,
    "start_time": "2022-06-13T03:50:03.357Z"
   },
   {
    "duration": 18,
    "start_time": "2022-06-13T03:50:10.683Z"
   },
   {
    "duration": 13,
    "start_time": "2022-06-13T03:50:11.565Z"
   },
   {
    "duration": 4,
    "start_time": "2022-06-13T03:50:12.373Z"
   },
   {
    "duration": 10,
    "start_time": "2022-06-13T03:50:14.667Z"
   },
   {
    "duration": 261,
    "start_time": "2022-06-13T03:50:15.597Z"
   },
   {
    "duration": 375,
    "start_time": "2022-06-13T03:50:16.340Z"
   },
   {
    "duration": 4,
    "start_time": "2022-06-13T03:50:17.779Z"
   },
   {
    "duration": 8,
    "start_time": "2022-06-13T03:50:18.500Z"
   },
   {
    "duration": 350,
    "start_time": "2022-06-13T03:50:19.442Z"
   },
   {
    "duration": 342,
    "start_time": "2022-06-13T03:50:27.720Z"
   },
   {
    "duration": 123,
    "start_time": "2022-06-13T03:51:29.174Z"
   },
   {
    "duration": 25,
    "start_time": "2022-06-13T03:51:30.293Z"
   },
   {
    "duration": 28,
    "start_time": "2022-06-13T03:51:32.405Z"
   },
   {
    "duration": 40,
    "start_time": "2022-06-13T03:51:33.150Z"
   },
   {
    "duration": 14,
    "start_time": "2022-06-13T03:51:35.285Z"
   },
   {
    "duration": 11,
    "start_time": "2022-06-13T03:51:38.838Z"
   },
   {
    "duration": 14,
    "start_time": "2022-06-13T03:51:39.821Z"
   },
   {
    "duration": 45,
    "start_time": "2022-06-13T03:51:42.422Z"
   },
   {
    "duration": 6,
    "start_time": "2022-06-13T03:51:45.005Z"
   },
   {
    "duration": 29,
    "start_time": "2022-06-13T03:51:47.008Z"
   },
   {
    "duration": 31,
    "start_time": "2022-06-13T03:51:48.422Z"
   },
   {
    "duration": 14,
    "start_time": "2022-06-13T03:51:51.005Z"
   },
   {
    "duration": 6,
    "start_time": "2022-06-13T03:51:51.886Z"
   },
   {
    "duration": 16,
    "start_time": "2022-06-13T03:51:52.749Z"
   },
   {
    "duration": 9,
    "start_time": "2022-06-13T03:51:54.102Z"
   },
   {
    "duration": 8,
    "start_time": "2022-06-13T03:51:58.262Z"
   },
   {
    "duration": 7,
    "start_time": "2022-06-13T03:51:59.165Z"
   },
   {
    "duration": 18,
    "start_time": "2022-06-13T03:52:00.286Z"
   },
   {
    "duration": 6,
    "start_time": "2022-06-13T03:52:01.150Z"
   },
   {
    "duration": 17,
    "start_time": "2022-06-13T03:52:06.854Z"
   },
   {
    "duration": 34,
    "start_time": "2022-06-13T03:52:07.811Z"
   },
   {
    "duration": 22,
    "start_time": "2022-06-13T03:52:08.654Z"
   },
   {
    "duration": 9,
    "start_time": "2022-06-13T03:52:11.109Z"
   },
   {
    "duration": 11,
    "start_time": "2022-06-13T03:52:12.301Z"
   },
   {
    "duration": 16,
    "start_time": "2022-06-13T03:52:16.221Z"
   },
   {
    "duration": 22,
    "start_time": "2022-06-13T03:52:17.310Z"
   },
   {
    "duration": 20,
    "start_time": "2022-06-13T03:52:21.877Z"
   },
   {
    "duration": 22,
    "start_time": "2022-06-13T03:52:22.702Z"
   },
   {
    "duration": 17,
    "start_time": "2022-06-13T03:52:44.663Z"
   },
   {
    "duration": 10,
    "start_time": "2022-06-13T03:52:46.382Z"
   },
   {
    "duration": 14,
    "start_time": "2022-06-13T03:52:47.256Z"
   },
   {
    "duration": 8,
    "start_time": "2022-06-13T03:52:47.806Z"
   },
   {
    "duration": 39,
    "start_time": "2022-06-13T03:52:48.384Z"
   },
   {
    "duration": 54,
    "start_time": "2022-06-13T03:52:49.199Z"
   },
   {
    "duration": 61,
    "start_time": "2022-06-13T03:52:50.239Z"
   },
   {
    "duration": 16,
    "start_time": "2022-06-13T03:52:51.838Z"
   },
   {
    "duration": 16,
    "start_time": "2022-06-13T03:52:57.502Z"
   },
   {
    "duration": 31,
    "start_time": "2022-06-13T03:52:58.384Z"
   },
   {
    "duration": 17,
    "start_time": "2022-06-13T03:52:59.342Z"
   },
   {
    "duration": 76,
    "start_time": "2022-06-13T03:53:01.423Z"
   },
   {
    "duration": 10,
    "start_time": "2022-06-13T03:53:02.349Z"
   },
   {
    "duration": 9,
    "start_time": "2022-06-13T03:53:03.727Z"
   },
   {
    "duration": 15,
    "start_time": "2022-06-13T03:53:11.670Z"
   },
   {
    "duration": 25,
    "start_time": "2022-06-13T03:53:12.872Z"
   },
   {
    "duration": 24,
    "start_time": "2022-06-13T03:53:24.464Z"
   },
   {
    "duration": 7,
    "start_time": "2022-06-13T03:53:27.625Z"
   },
   {
    "duration": 5,
    "start_time": "2022-06-13T03:53:28.559Z"
   },
   {
    "duration": 9,
    "start_time": "2022-06-13T03:53:29.471Z"
   },
   {
    "duration": 30,
    "start_time": "2022-06-13T03:53:33.071Z"
   },
   {
    "duration": 4,
    "start_time": "2022-06-13T03:53:39.472Z"
   },
   {
    "duration": 26,
    "start_time": "2022-06-13T03:53:40.672Z"
   },
   {
    "duration": 55,
    "start_time": "2022-06-13T03:54:50.361Z"
   },
   {
    "duration": 31,
    "start_time": "2022-06-13T03:56:09.954Z"
   },
   {
    "duration": 17,
    "start_time": "2022-06-13T03:56:11.186Z"
   },
   {
    "duration": 4,
    "start_time": "2022-06-13T03:56:12.130Z"
   },
   {
    "duration": 11,
    "start_time": "2022-06-13T03:56:13.402Z"
   },
   {
    "duration": 23,
    "start_time": "2022-06-13T03:56:14.386Z"
   },
   {
    "duration": 14,
    "start_time": "2022-06-13T03:56:15.248Z"
   },
   {
    "duration": 4,
    "start_time": "2022-06-13T03:56:19.691Z"
   },
   {
    "duration": 20,
    "start_time": "2022-06-13T03:56:21.107Z"
   },
   {
    "duration": 18,
    "start_time": "2022-06-13T03:56:22.314Z"
   },
   {
    "duration": 288,
    "start_time": "2022-06-13T03:56:23.940Z"
   },
   {
    "duration": 324,
    "start_time": "2022-06-13T03:56:25.506Z"
   },
   {
    "duration": 21,
    "start_time": "2022-06-13T03:56:27.706Z"
   },
   {
    "duration": 46,
    "start_time": "2022-06-13T03:56:28.723Z"
   },
   {
    "duration": 20,
    "start_time": "2022-06-13T03:56:29.674Z"
   },
   {
    "duration": 32,
    "start_time": "2022-06-13T03:56:31.722Z"
   },
   {
    "duration": 13,
    "start_time": "2022-06-13T03:56:32.467Z"
   },
   {
    "duration": 16,
    "start_time": "2022-06-13T03:56:33.179Z"
   },
   {
    "duration": 10,
    "start_time": "2022-06-13T03:56:33.971Z"
   },
   {
    "duration": 11,
    "start_time": "2022-06-13T03:56:34.754Z"
   },
   {
    "duration": 18,
    "start_time": "2022-06-13T03:56:35.468Z"
   },
   {
    "duration": 6,
    "start_time": "2022-06-13T03:56:36.858Z"
   },
   {
    "duration": 49,
    "start_time": "2022-06-13T03:56:37.780Z"
   },
   {
    "duration": 17,
    "start_time": "2022-06-13T03:56:38.698Z"
   },
   {
    "duration": 13,
    "start_time": "2022-06-13T03:56:39.467Z"
   },
   {
    "duration": 4,
    "start_time": "2022-06-13T03:56:40.379Z"
   },
   {
    "duration": 11,
    "start_time": "2022-06-13T03:56:53.642Z"
   },
   {
    "duration": 395,
    "start_time": "2022-06-13T03:56:54.452Z"
   },
   {
    "duration": 282,
    "start_time": "2022-06-13T03:56:55.507Z"
   },
   {
    "duration": 4,
    "start_time": "2022-06-13T03:56:56.985Z"
   },
   {
    "duration": 9,
    "start_time": "2022-06-13T03:56:57.692Z"
   },
   {
    "duration": 374,
    "start_time": "2022-06-13T03:56:58.603Z"
   },
   {
    "duration": 385,
    "start_time": "2022-06-13T03:57:01.627Z"
   },
   {
    "duration": 14,
    "start_time": "2022-06-13T03:59:29.198Z"
   },
   {
    "duration": 20,
    "start_time": "2022-06-13T04:01:30.263Z"
   },
   {
    "duration": 19,
    "start_time": "2022-06-13T04:01:36.182Z"
   },
   {
    "duration": 17,
    "start_time": "2022-06-13T04:01:41.558Z"
   },
   {
    "duration": 4,
    "start_time": "2022-06-13T04:01:45.287Z"
   },
   {
    "duration": 10,
    "start_time": "2022-06-13T04:01:49.822Z"
   },
   {
    "duration": 273,
    "start_time": "2022-06-13T04:01:54.407Z"
   },
   {
    "duration": 286,
    "start_time": "2022-06-13T04:01:55.143Z"
   },
   {
    "duration": 3,
    "start_time": "2022-06-13T04:01:56.614Z"
   },
   {
    "duration": 13,
    "start_time": "2022-06-13T04:01:58.080Z"
   },
   {
    "duration": 604,
    "start_time": "2022-06-13T04:02:03.456Z"
   },
   {
    "duration": 556,
    "start_time": "2022-06-13T04:02:12.207Z"
   },
   {
    "duration": 3,
    "start_time": "2022-06-13T04:02:30.991Z"
   },
   {
    "duration": 118,
    "start_time": "2022-06-13T04:02:31.351Z"
   },
   {
    "duration": 25,
    "start_time": "2022-06-13T04:02:31.725Z"
   },
   {
    "duration": 30,
    "start_time": "2022-06-13T04:02:32.991Z"
   },
   {
    "duration": 42,
    "start_time": "2022-06-13T04:02:33.415Z"
   },
   {
    "duration": 14,
    "start_time": "2022-06-13T04:02:34.349Z"
   },
   {
    "duration": 10,
    "start_time": "2022-06-13T04:02:34.736Z"
   },
   {
    "duration": 14,
    "start_time": "2022-06-13T04:02:35.166Z"
   },
   {
    "duration": 53,
    "start_time": "2022-06-13T04:02:36.727Z"
   },
   {
    "duration": 6,
    "start_time": "2022-06-13T04:02:37.414Z"
   },
   {
    "duration": 26,
    "start_time": "2022-06-13T04:02:37.808Z"
   },
   {
    "duration": 32,
    "start_time": "2022-06-13T04:02:38.308Z"
   },
   {
    "duration": 13,
    "start_time": "2022-06-13T04:02:45.190Z"
   },
   {
    "duration": 6,
    "start_time": "2022-06-13T04:02:45.967Z"
   },
   {
    "duration": 17,
    "start_time": "2022-06-13T04:02:46.425Z"
   },
   {
    "duration": 10,
    "start_time": "2022-06-13T04:02:46.759Z"
   },
   {
    "duration": 9,
    "start_time": "2022-06-13T04:02:47.143Z"
   },
   {
    "duration": 8,
    "start_time": "2022-06-13T04:02:47.703Z"
   },
   {
    "duration": 19,
    "start_time": "2022-06-13T04:02:48.015Z"
   },
   {
    "duration": 6,
    "start_time": "2022-06-13T04:02:48.309Z"
   },
   {
    "duration": 20,
    "start_time": "2022-06-13T04:02:48.943Z"
   },
   {
    "duration": 37,
    "start_time": "2022-06-13T04:02:49.271Z"
   },
   {
    "duration": 22,
    "start_time": "2022-06-13T04:02:49.567Z"
   },
   {
    "duration": 9,
    "start_time": "2022-06-13T04:02:49.854Z"
   },
   {
    "duration": 11,
    "start_time": "2022-06-13T04:02:50.252Z"
   },
   {
    "duration": 16,
    "start_time": "2022-06-13T04:02:51.039Z"
   },
   {
    "duration": 21,
    "start_time": "2022-06-13T04:02:51.424Z"
   },
   {
    "duration": 17,
    "start_time": "2022-06-13T04:02:52.278Z"
   },
   {
    "duration": 10,
    "start_time": "2022-06-13T04:02:52.607Z"
   },
   {
    "duration": 10,
    "start_time": "2022-06-13T04:02:52.903Z"
   },
   {
    "duration": 7,
    "start_time": "2022-06-13T04:02:53.169Z"
   },
   {
    "duration": 45,
    "start_time": "2022-06-13T04:02:53.447Z"
   },
   {
    "duration": 52,
    "start_time": "2022-06-13T04:02:53.757Z"
   },
   {
    "duration": 59,
    "start_time": "2022-06-13T04:02:54.052Z"
   },
   {
    "duration": 15,
    "start_time": "2022-06-13T04:02:54.344Z"
   },
   {
    "duration": 16,
    "start_time": "2022-06-13T04:02:54.606Z"
   },
   {
    "duration": 34,
    "start_time": "2022-06-13T04:02:54.910Z"
   },
   {
    "duration": 17,
    "start_time": "2022-06-13T04:02:55.186Z"
   },
   {
    "duration": 75,
    "start_time": "2022-06-13T04:02:55.496Z"
   },
   {
    "duration": 10,
    "start_time": "2022-06-13T04:02:55.935Z"
   },
   {
    "duration": 9,
    "start_time": "2022-06-13T04:02:56.182Z"
   },
   {
    "duration": 15,
    "start_time": "2022-06-13T04:02:56.798Z"
   },
   {
    "duration": 25,
    "start_time": "2022-06-13T04:02:57.061Z"
   },
   {
    "duration": 24,
    "start_time": "2022-06-13T04:02:57.359Z"
   },
   {
    "duration": 7,
    "start_time": "2022-06-13T04:02:57.687Z"
   },
   {
    "duration": 4,
    "start_time": "2022-06-13T04:02:58.335Z"
   },
   {
    "duration": 8,
    "start_time": "2022-06-13T04:02:58.679Z"
   },
   {
    "duration": 30,
    "start_time": "2022-06-13T04:02:59.271Z"
   },
   {
    "duration": 4,
    "start_time": "2022-06-13T04:02:59.583Z"
   },
   {
    "duration": 27,
    "start_time": "2022-06-13T04:02:59.911Z"
   },
   {
    "duration": 18,
    "start_time": "2022-06-13T04:03:00.215Z"
   },
   {
    "duration": 17,
    "start_time": "2022-06-13T04:03:00.534Z"
   },
   {
    "duration": 5,
    "start_time": "2022-06-13T04:03:00.831Z"
   },
   {
    "duration": 10,
    "start_time": "2022-06-13T04:03:01.120Z"
   },
   {
    "duration": 25,
    "start_time": "2022-06-13T04:03:01.529Z"
   },
   {
    "duration": 11,
    "start_time": "2022-06-13T04:03:01.789Z"
   },
   {
    "duration": 5,
    "start_time": "2022-06-13T04:03:02.045Z"
   },
   {
    "duration": 19,
    "start_time": "2022-06-13T04:03:02.294Z"
   },
   {
    "duration": 16,
    "start_time": "2022-06-13T04:03:02.551Z"
   },
   {
    "duration": 295,
    "start_time": "2022-06-13T04:03:03.087Z"
   },
   {
    "duration": 317,
    "start_time": "2022-06-13T04:03:03.384Z"
   },
   {
    "duration": 21,
    "start_time": "2022-06-13T04:03:04.241Z"
   },
   {
    "duration": 47,
    "start_time": "2022-06-13T04:03:04.576Z"
   },
   {
    "duration": 18,
    "start_time": "2022-06-13T04:03:04.885Z"
   },
   {
    "duration": 31,
    "start_time": "2022-06-13T04:03:05.528Z"
   },
   {
    "duration": 13,
    "start_time": "2022-06-13T04:03:05.845Z"
   },
   {
    "duration": 15,
    "start_time": "2022-06-13T04:03:06.167Z"
   },
   {
    "duration": 10,
    "start_time": "2022-06-13T04:03:06.454Z"
   },
   {
    "duration": 11,
    "start_time": "2022-06-13T04:03:06.816Z"
   },
   {
    "duration": 25,
    "start_time": "2022-06-13T04:03:07.175Z"
   },
   {
    "duration": 6,
    "start_time": "2022-06-13T04:03:07.790Z"
   },
   {
    "duration": 48,
    "start_time": "2022-06-13T04:03:08.079Z"
   },
   {
    "duration": 18,
    "start_time": "2022-06-13T04:03:08.367Z"
   },
   {
    "duration": 16,
    "start_time": "2022-06-13T04:03:08.636Z"
   },
   {
    "duration": 4,
    "start_time": "2022-06-13T04:03:08.900Z"
   },
   {
    "duration": 10,
    "start_time": "2022-06-13T04:03:10.016Z"
   },
   {
    "duration": 266,
    "start_time": "2022-06-13T04:03:10.301Z"
   },
   {
    "duration": 396,
    "start_time": "2022-06-13T04:03:10.694Z"
   },
   {
    "duration": 3,
    "start_time": "2022-06-13T04:03:11.509Z"
   },
   {
    "duration": 13,
    "start_time": "2022-06-13T04:03:11.944Z"
   },
   {
    "duration": 485,
    "start_time": "2022-06-13T04:03:12.359Z"
   },
   {
    "duration": 555,
    "start_time": "2022-06-13T04:03:15.439Z"
   },
   {
    "duration": 3,
    "start_time": "2022-06-13T04:46:33.179Z"
   },
   {
    "duration": 4,
    "start_time": "2022-06-13T04:55:00.942Z"
   },
   {
    "duration": 286,
    "start_time": "2022-06-13T04:56:11.879Z"
   },
   {
    "duration": 3,
    "start_time": "2022-06-13T04:56:28.144Z"
   },
   {
    "duration": 12,
    "start_time": "2022-06-13T05:25:48.412Z"
   },
   {
    "duration": 27,
    "start_time": "2022-06-13T05:26:54.452Z"
   },
   {
    "duration": 95,
    "start_time": "2022-06-13T05:29:48.903Z"
   },
   {
    "duration": 109,
    "start_time": "2022-06-13T05:30:54.943Z"
   },
   {
    "duration": 20,
    "start_time": "2022-06-13T05:31:19.309Z"
   },
   {
    "duration": 31,
    "start_time": "2022-06-13T05:46:02.344Z"
   },
   {
    "duration": 3,
    "start_time": "2022-06-13T05:49:27.326Z"
   },
   {
    "duration": 120,
    "start_time": "2022-06-13T05:49:30.121Z"
   },
   {
    "duration": 23,
    "start_time": "2022-06-13T05:49:31.865Z"
   },
   {
    "duration": 385,
    "start_time": "2022-06-13T05:51:27.706Z"
   },
   {
    "duration": 3,
    "start_time": "2022-06-13T05:51:39.649Z"
   },
   {
    "duration": 114,
    "start_time": "2022-06-13T05:51:40.009Z"
   },
   {
    "duration": 26,
    "start_time": "2022-06-13T05:51:40.404Z"
   },
   {
    "duration": 28,
    "start_time": "2022-06-13T05:51:41.617Z"
   },
   {
    "duration": 39,
    "start_time": "2022-06-13T05:51:42.768Z"
   },
   {
    "duration": 14,
    "start_time": "2022-06-13T05:51:45.152Z"
   },
   {
    "duration": 14,
    "start_time": "2022-06-13T05:51:46.465Z"
   },
   {
    "duration": 42,
    "start_time": "2022-06-13T05:52:04.242Z"
   },
   {
    "duration": 43,
    "start_time": "2022-06-13T05:52:34.301Z"
   },
   {
    "duration": 35,
    "start_time": "2022-06-13T05:52:56.585Z"
   },
   {
    "duration": 6,
    "start_time": "2022-06-13T05:53:07.777Z"
   },
   {
    "duration": 19,
    "start_time": "2022-06-13T05:56:05.101Z"
   },
   {
    "duration": 13,
    "start_time": "2022-06-13T05:59:21.859Z"
   },
   {
    "duration": 10,
    "start_time": "2022-06-13T05:59:51.851Z"
   },
   {
    "duration": 10,
    "start_time": "2022-06-13T06:00:10.771Z"
   },
   {
    "duration": 8,
    "start_time": "2022-06-13T06:00:23.537Z"
   },
   {
    "duration": 19,
    "start_time": "2022-06-13T06:01:21.604Z"
   },
   {
    "duration": 13,
    "start_time": "2022-06-13T06:01:27.315Z"
   },
   {
    "duration": 6,
    "start_time": "2022-06-13T06:01:50.028Z"
   },
   {
    "duration": 16,
    "start_time": "2022-06-13T06:02:03.180Z"
   },
   {
    "duration": 36,
    "start_time": "2022-06-13T06:02:14.395Z"
   },
   {
    "duration": 31,
    "start_time": "2022-06-13T06:02:21.212Z"
   },
   {
    "duration": 21,
    "start_time": "2022-06-13T06:03:05.668Z"
   },
   {
    "duration": 8,
    "start_time": "2022-06-13T06:03:15.435Z"
   },
   {
    "duration": 11,
    "start_time": "2022-06-13T06:03:24.147Z"
   },
   {
    "duration": 16,
    "start_time": "2022-06-13T06:03:47.988Z"
   },
   {
    "duration": 27,
    "start_time": "2022-06-13T06:03:49.411Z"
   },
   {
    "duration": 23,
    "start_time": "2022-06-13T06:04:03.428Z"
   },
   {
    "duration": 11,
    "start_time": "2022-06-13T06:04:05.075Z"
   },
   {
    "duration": 56,
    "start_time": "2022-06-13T06:04:56.444Z"
   },
   {
    "duration": 14,
    "start_time": "2022-06-13T06:05:41.005Z"
   },
   {
    "duration": 50,
    "start_time": "2022-06-13T06:06:52.053Z"
   },
   {
    "duration": 51,
    "start_time": "2022-06-13T06:08:12.241Z"
   },
   {
    "duration": 58,
    "start_time": "2022-06-13T06:08:58.445Z"
   },
   {
    "duration": 46,
    "start_time": "2022-06-13T06:10:07.829Z"
   },
   {
    "duration": 14,
    "start_time": "2022-06-13T06:10:08.891Z"
   },
   {
    "duration": 21,
    "start_time": "2022-06-13T06:10:33.981Z"
   },
   {
    "duration": 40,
    "start_time": "2022-06-13T06:10:39.062Z"
   },
   {
    "duration": 8,
    "start_time": "2022-06-13T06:10:42.517Z"
   },
   {
    "duration": 18,
    "start_time": "2022-06-13T06:10:49.565Z"
   },
   {
    "duration": 30,
    "start_time": "2022-06-13T06:10:50.334Z"
   },
   {
    "duration": 6,
    "start_time": "2022-06-13T06:10:52.237Z"
   },
   {
    "duration": 14,
    "start_time": "2022-06-13T06:10:53.924Z"
   },
   {
    "duration": 10,
    "start_time": "2022-06-13T06:10:54.829Z"
   },
   {
    "duration": 7,
    "start_time": "2022-06-13T06:10:57.997Z"
   },
   {
    "duration": 8,
    "start_time": "2022-06-13T06:10:59.284Z"
   },
   {
    "duration": 14,
    "start_time": "2022-06-13T06:11:04.204Z"
   },
   {
    "duration": 8,
    "start_time": "2022-06-13T06:11:05.349Z"
   },
   {
    "duration": 18,
    "start_time": "2022-06-13T06:11:14.045Z"
   },
   {
    "duration": 30,
    "start_time": "2022-06-13T06:11:15.150Z"
   },
   {
    "duration": 19,
    "start_time": "2022-06-13T06:11:19.783Z"
   },
   {
    "duration": 8,
    "start_time": "2022-06-13T06:11:21.654Z"
   },
   {
    "duration": 11,
    "start_time": "2022-06-13T06:11:22.430Z"
   },
   {
    "duration": 19,
    "start_time": "2022-06-13T06:11:27.213Z"
   },
   {
    "duration": 22,
    "start_time": "2022-06-13T06:11:27.826Z"
   },
   {
    "duration": 24,
    "start_time": "2022-06-13T06:11:31.037Z"
   },
   {
    "duration": 10,
    "start_time": "2022-06-13T06:11:33.789Z"
   },
   {
    "duration": 6,
    "start_time": "2022-06-13T06:12:00.636Z"
   },
   {
    "duration": 12,
    "start_time": "2022-06-13T06:12:33.317Z"
   },
   {
    "duration": 8,
    "start_time": "2022-06-13T06:12:37.982Z"
   },
   {
    "duration": 48,
    "start_time": "2022-06-13T06:12:40.678Z"
   },
   {
    "duration": 55,
    "start_time": "2022-06-13T06:12:53.007Z"
   },
   {
    "duration": 39,
    "start_time": "2022-06-13T06:13:52.457Z"
   },
   {
    "duration": 18,
    "start_time": "2022-06-13T06:13:54.056Z"
   },
   {
    "duration": 82,
    "start_time": "2022-06-13T06:13:58.263Z"
   },
   {
    "duration": 11,
    "start_time": "2022-06-13T06:14:03.014Z"
   },
   {
    "duration": 10,
    "start_time": "2022-06-13T06:14:03.598Z"
   },
   {
    "duration": 15,
    "start_time": "2022-06-13T06:14:13.439Z"
   },
   {
    "duration": 26,
    "start_time": "2022-06-13T06:14:18.271Z"
   },
   {
    "duration": 24,
    "start_time": "2022-06-13T06:14:23.283Z"
   },
   {
    "duration": 15,
    "start_time": "2022-06-13T06:14:31.783Z"
   },
   {
    "duration": 6,
    "start_time": "2022-06-13T06:14:34.702Z"
   },
   {
    "duration": 4,
    "start_time": "2022-06-13T06:14:38.207Z"
   },
   {
    "duration": 9,
    "start_time": "2022-06-13T06:14:40.813Z"
   },
   {
    "duration": 28,
    "start_time": "2022-06-13T06:16:06.959Z"
   },
   {
    "duration": 4,
    "start_time": "2022-06-13T06:16:26.032Z"
   },
   {
    "duration": 28,
    "start_time": "2022-06-13T06:16:26.911Z"
   },
   {
    "duration": 21,
    "start_time": "2022-06-13T06:16:32.711Z"
   },
   {
    "duration": 17,
    "start_time": "2022-06-13T06:16:38.223Z"
   },
   {
    "duration": 5,
    "start_time": "2022-06-13T06:16:40.183Z"
   },
   {
    "duration": 12,
    "start_time": "2022-06-13T06:16:40.936Z"
   },
   {
    "duration": 28,
    "start_time": "2022-06-13T06:16:42.023Z"
   },
   {
    "duration": 10,
    "start_time": "2022-06-13T06:16:45.304Z"
   },
   {
    "duration": 5,
    "start_time": "2022-06-13T06:16:48.366Z"
   },
   {
    "duration": 20,
    "start_time": "2022-06-13T06:16:55.424Z"
   },
   {
    "duration": 20,
    "start_time": "2022-06-13T06:17:09.288Z"
   },
   {
    "duration": 19,
    "start_time": "2022-06-13T06:17:12.912Z"
   },
   {
    "duration": 314,
    "start_time": "2022-06-13T06:17:25.919Z"
   },
   {
    "duration": 291,
    "start_time": "2022-06-13T06:17:29.576Z"
   },
   {
    "duration": 19,
    "start_time": "2022-06-13T06:17:42.800Z"
   },
   {
    "duration": 47,
    "start_time": "2022-06-13T06:17:43.913Z"
   },
   {
    "duration": 20,
    "start_time": "2022-06-13T06:17:45.024Z"
   },
   {
    "duration": 35,
    "start_time": "2022-06-13T06:18:06.119Z"
   },
   {
    "duration": 7,
    "start_time": "2022-06-13T06:19:36.631Z"
   },
   {
    "duration": 3,
    "start_time": "2022-06-13T06:28:21.619Z"
   },
   {
    "duration": 135,
    "start_time": "2022-06-13T06:28:21.624Z"
   },
   {
    "duration": 27,
    "start_time": "2022-06-13T06:28:21.761Z"
   },
   {
    "duration": 33,
    "start_time": "2022-06-13T06:28:21.790Z"
   },
   {
    "duration": 185,
    "start_time": "2022-06-13T06:28:21.858Z"
   },
   {
    "duration": 40,
    "start_time": "2022-06-13T06:28:22.045Z"
   },
   {
    "duration": 80,
    "start_time": "2022-06-13T06:28:22.087Z"
   },
   {
    "duration": 42,
    "start_time": "2022-06-13T06:28:22.168Z"
   },
   {
    "duration": 13,
    "start_time": "2022-06-13T06:28:22.212Z"
   },
   {
    "duration": 15,
    "start_time": "2022-06-13T06:28:22.226Z"
   },
   {
    "duration": 39,
    "start_time": "2022-06-13T06:28:22.260Z"
   },
   {
    "duration": 5,
    "start_time": "2022-06-13T06:28:22.301Z"
   },
   {
    "duration": 18,
    "start_time": "2022-06-13T06:28:22.308Z"
   },
   {
    "duration": 56,
    "start_time": "2022-06-13T06:28:22.327Z"
   },
   {
    "duration": 7,
    "start_time": "2022-06-13T06:28:22.384Z"
   },
   {
    "duration": 13,
    "start_time": "2022-06-13T06:28:22.392Z"
   },
   {
    "duration": 9,
    "start_time": "2022-06-13T06:28:22.406Z"
   },
   {
    "duration": 7,
    "start_time": "2022-06-13T06:28:22.417Z"
   },
   {
    "duration": 40,
    "start_time": "2022-06-13T06:28:22.426Z"
   },
   {
    "duration": 13,
    "start_time": "2022-06-13T06:28:22.468Z"
   },
   {
    "duration": 5,
    "start_time": "2022-06-13T06:28:22.482Z"
   },
   {
    "duration": 19,
    "start_time": "2022-06-13T06:28:22.488Z"
   },
   {
    "duration": 53,
    "start_time": "2022-06-13T06:28:22.508Z"
   },
   {
    "duration": 18,
    "start_time": "2022-06-13T06:28:22.563Z"
   },
   {
    "duration": 7,
    "start_time": "2022-06-13T06:28:22.583Z"
   },
   {
    "duration": 13,
    "start_time": "2022-06-13T06:28:22.592Z"
   },
   {
    "duration": 17,
    "start_time": "2022-06-13T06:28:22.607Z"
   },
   {
    "duration": 48,
    "start_time": "2022-06-13T06:28:22.626Z"
   },
   {
    "duration": 19,
    "start_time": "2022-06-13T06:28:22.678Z"
   },
   {
    "duration": 11,
    "start_time": "2022-06-13T06:28:22.699Z"
   },
   {
    "duration": 10,
    "start_time": "2022-06-13T06:28:22.712Z"
   },
   {
    "duration": 10,
    "start_time": "2022-06-13T06:28:22.723Z"
   },
   {
    "duration": 14,
    "start_time": "2022-06-13T06:28:22.759Z"
   },
   {
    "duration": 44,
    "start_time": "2022-06-13T06:28:22.775Z"
   },
   {
    "duration": 58,
    "start_time": "2022-06-13T06:28:22.821Z"
   },
   {
    "duration": 22,
    "start_time": "2022-06-13T06:28:22.881Z"
   },
   {
    "duration": 15,
    "start_time": "2022-06-13T06:28:22.904Z"
   },
   {
    "duration": 53,
    "start_time": "2022-06-13T06:28:22.920Z"
   },
   {
    "duration": 19,
    "start_time": "2022-06-13T06:28:22.975Z"
   },
   {
    "duration": 100,
    "start_time": "2022-06-13T06:28:22.996Z"
   },
   {
    "duration": 9,
    "start_time": "2022-06-13T06:28:23.097Z"
   },
   {
    "duration": 14,
    "start_time": "2022-06-13T06:28:23.107Z"
   },
   {
    "duration": 23,
    "start_time": "2022-06-13T06:28:23.123Z"
   },
   {
    "duration": 31,
    "start_time": "2022-06-13T06:28:23.148Z"
   },
   {
    "duration": 11,
    "start_time": "2022-06-13T06:28:23.181Z"
   },
   {
    "duration": 8,
    "start_time": "2022-06-13T06:28:23.194Z"
   },
   {
    "duration": 4,
    "start_time": "2022-06-13T06:28:23.203Z"
   },
   {
    "duration": 10,
    "start_time": "2022-06-13T06:28:23.208Z"
   },
   {
    "duration": 56,
    "start_time": "2022-06-13T06:28:23.219Z"
   },
   {
    "duration": 3,
    "start_time": "2022-06-13T06:28:23.277Z"
   },
   {
    "duration": 29,
    "start_time": "2022-06-13T06:28:23.281Z"
   },
   {
    "duration": 16,
    "start_time": "2022-06-13T06:28:23.312Z"
   },
   {
    "duration": 37,
    "start_time": "2022-06-13T06:28:23.330Z"
   },
   {
    "duration": 4,
    "start_time": "2022-06-13T06:28:23.369Z"
   },
   {
    "duration": 11,
    "start_time": "2022-06-13T06:28:23.375Z"
   },
   {
    "duration": 23,
    "start_time": "2022-06-13T06:28:23.388Z"
   },
   {
    "duration": 10,
    "start_time": "2022-06-13T06:28:23.413Z"
   },
   {
    "duration": 34,
    "start_time": "2022-06-13T06:28:23.424Z"
   },
   {
    "duration": 20,
    "start_time": "2022-06-13T06:28:23.460Z"
   },
   {
    "duration": 19,
    "start_time": "2022-06-13T06:28:23.481Z"
   },
   {
    "duration": 16,
    "start_time": "2022-06-13T06:28:23.502Z"
   },
   {
    "duration": 338,
    "start_time": "2022-06-13T06:28:23.520Z"
   },
   {
    "duration": 309,
    "start_time": "2022-06-13T06:28:23.860Z"
   },
   {
    "duration": 19,
    "start_time": "2022-06-13T06:28:24.172Z"
   },
   {
    "duration": 45,
    "start_time": "2022-06-13T06:28:24.192Z"
   },
   {
    "duration": 37,
    "start_time": "2022-06-13T06:28:24.238Z"
   },
   {
    "duration": 32,
    "start_time": "2022-06-13T06:28:24.276Z"
   },
   {
    "duration": 9,
    "start_time": "2022-06-13T06:28:24.310Z"
   },
   {
    "duration": 13,
    "start_time": "2022-06-13T06:28:24.320Z"
   },
   {
    "duration": 38,
    "start_time": "2022-06-13T06:28:24.335Z"
   },
   {
    "duration": 9,
    "start_time": "2022-06-13T06:28:24.375Z"
   },
   {
    "duration": 51,
    "start_time": "2022-06-13T06:28:24.385Z"
   },
   {
    "duration": 34,
    "start_time": "2022-06-13T06:28:24.438Z"
   },
   {
    "duration": 17,
    "start_time": "2022-06-13T06:28:24.474Z"
   },
   {
    "duration": 6,
    "start_time": "2022-06-13T06:28:24.493Z"
   },
   {
    "duration": 20,
    "start_time": "2022-06-13T06:28:24.501Z"
   },
   {
    "duration": 306,
    "start_time": "2022-06-13T06:28:24.523Z"
   },
   {
    "duration": 286,
    "start_time": "2022-06-13T06:28:24.831Z"
   },
   {
    "duration": 3,
    "start_time": "2022-06-13T06:28:25.119Z"
   },
   {
    "duration": 16,
    "start_time": "2022-06-13T06:28:25.123Z"
   },
   {
    "duration": 521,
    "start_time": "2022-06-13T06:28:25.141Z"
   },
   {
    "duration": 763,
    "start_time": "2022-06-13T06:28:25.664Z"
   },
   {
    "duration": 4,
    "start_time": "2022-06-13T06:28:26.432Z"
   },
   {
    "duration": 9,
    "start_time": "2022-06-13T06:28:26.438Z"
   },
   {
    "duration": 1725,
    "start_time": "2022-06-13T11:52:11.658Z"
   },
   {
    "duration": 299,
    "start_time": "2022-06-13T11:52:13.386Z"
   },
   {
    "duration": 32,
    "start_time": "2022-06-13T11:52:13.687Z"
   },
   {
    "duration": 90,
    "start_time": "2022-06-13T11:52:13.725Z"
   },
   {
    "duration": 93,
    "start_time": "2022-06-13T11:52:13.818Z"
   },
   {
    "duration": 75,
    "start_time": "2022-06-13T11:52:13.913Z"
   },
   {
    "duration": 94,
    "start_time": "2022-06-13T11:52:13.990Z"
   },
   {
    "duration": 74,
    "start_time": "2022-06-13T11:52:14.087Z"
   },
   {
    "duration": 23,
    "start_time": "2022-06-13T11:52:14.163Z"
   },
   {
    "duration": 19,
    "start_time": "2022-06-13T11:52:14.188Z"
   },
   {
    "duration": 92,
    "start_time": "2022-06-13T11:52:14.209Z"
   },
   {
    "duration": 7,
    "start_time": "2022-06-13T11:52:14.303Z"
   },
   {
    "duration": 62,
    "start_time": "2022-06-13T11:52:14.312Z"
   },
   {
    "duration": 39,
    "start_time": "2022-06-13T11:52:14.377Z"
   },
   {
    "duration": 27,
    "start_time": "2022-06-13T11:52:14.418Z"
   },
   {
    "duration": 37,
    "start_time": "2022-06-13T11:52:14.451Z"
   },
   {
    "duration": 12,
    "start_time": "2022-06-13T11:52:14.490Z"
   },
   {
    "duration": 9,
    "start_time": "2022-06-13T11:52:14.504Z"
   },
   {
    "duration": 38,
    "start_time": "2022-06-13T11:52:14.515Z"
   },
   {
    "duration": 19,
    "start_time": "2022-06-13T11:52:14.567Z"
   },
   {
    "duration": 8,
    "start_time": "2022-06-13T11:52:14.589Z"
   },
   {
    "duration": 43,
    "start_time": "2022-06-13T11:52:14.598Z"
   },
   {
    "duration": 43,
    "start_time": "2022-06-13T11:52:14.659Z"
   },
   {
    "duration": 57,
    "start_time": "2022-06-13T11:52:14.705Z"
   },
   {
    "duration": 16,
    "start_time": "2022-06-13T11:52:14.769Z"
   },
   {
    "duration": 16,
    "start_time": "2022-06-13T11:52:14.788Z"
   },
   {
    "duration": 32,
    "start_time": "2022-06-13T11:52:14.806Z"
   },
   {
    "duration": 51,
    "start_time": "2022-06-13T11:52:14.839Z"
   },
   {
    "duration": 107,
    "start_time": "2022-06-13T11:52:14.892Z"
   },
   {
    "duration": 16,
    "start_time": "2022-06-13T11:52:15.002Z"
   },
   {
    "duration": 36,
    "start_time": "2022-06-13T11:52:15.020Z"
   },
   {
    "duration": 21,
    "start_time": "2022-06-13T11:52:15.059Z"
   },
   {
    "duration": 15,
    "start_time": "2022-06-13T11:52:15.082Z"
   },
   {
    "duration": 84,
    "start_time": "2022-06-13T11:52:15.100Z"
   },
   {
    "duration": 77,
    "start_time": "2022-06-13T11:52:15.186Z"
   },
   {
    "duration": 30,
    "start_time": "2022-06-13T11:52:15.274Z"
   },
   {
    "duration": 31,
    "start_time": "2022-06-13T11:52:15.306Z"
   },
   {
    "duration": 52,
    "start_time": "2022-06-13T11:52:15.340Z"
   },
   {
    "duration": 57,
    "start_time": "2022-06-13T11:52:15.393Z"
   },
   {
    "duration": 131,
    "start_time": "2022-06-13T11:52:15.452Z"
   },
   {
    "duration": 10,
    "start_time": "2022-06-13T11:52:15.588Z"
   },
   {
    "duration": 25,
    "start_time": "2022-06-13T11:52:15.600Z"
   },
   {
    "duration": 29,
    "start_time": "2022-06-13T11:52:15.640Z"
   },
   {
    "duration": 34,
    "start_time": "2022-06-13T11:52:15.672Z"
   },
   {
    "duration": 50,
    "start_time": "2022-06-13T11:52:15.708Z"
   },
   {
    "duration": 29,
    "start_time": "2022-06-13T11:52:15.760Z"
   },
   {
    "duration": 5,
    "start_time": "2022-06-13T11:52:15.792Z"
   },
   {
    "duration": 15,
    "start_time": "2022-06-13T11:52:15.799Z"
   },
   {
    "duration": 57,
    "start_time": "2022-06-13T11:52:15.816Z"
   },
   {
    "duration": 5,
    "start_time": "2022-06-13T11:52:15.875Z"
   },
   {
    "duration": 32,
    "start_time": "2022-06-13T11:52:15.881Z"
   },
   {
    "duration": 44,
    "start_time": "2022-06-13T11:52:15.915Z"
   },
   {
    "duration": 26,
    "start_time": "2022-06-13T11:52:15.963Z"
   },
   {
    "duration": 6,
    "start_time": "2022-06-13T11:52:15.991Z"
   },
   {
    "duration": 17,
    "start_time": "2022-06-13T11:52:16.000Z"
   },
   {
    "duration": 51,
    "start_time": "2022-06-13T11:52:16.027Z"
   },
   {
    "duration": 17,
    "start_time": "2022-06-13T11:52:16.080Z"
   },
   {
    "duration": 8,
    "start_time": "2022-06-13T11:52:16.099Z"
   },
   {
    "duration": 86,
    "start_time": "2022-06-13T11:52:16.109Z"
   },
   {
    "duration": 24,
    "start_time": "2022-06-13T11:52:16.197Z"
   },
   {
    "duration": 70,
    "start_time": "2022-06-13T11:52:16.223Z"
   },
   {
    "duration": 476,
    "start_time": "2022-06-13T11:52:16.295Z"
   },
   {
    "duration": 515,
    "start_time": "2022-06-13T11:52:16.773Z"
   },
   {
    "duration": 63,
    "start_time": "2022-06-13T11:52:17.291Z"
   },
   {
    "duration": 97,
    "start_time": "2022-06-13T11:52:17.359Z"
   },
   {
    "duration": 24,
    "start_time": "2022-06-13T11:52:17.463Z"
   },
   {
    "duration": 61,
    "start_time": "2022-06-13T11:52:17.489Z"
   },
   {
    "duration": 17,
    "start_time": "2022-06-13T11:52:17.566Z"
   },
   {
    "duration": 11,
    "start_time": "2022-06-13T11:52:17.585Z"
   },
   {
    "duration": 23,
    "start_time": "2022-06-13T11:52:17.598Z"
   },
   {
    "duration": 51,
    "start_time": "2022-06-13T11:52:17.623Z"
   },
   {
    "duration": 86,
    "start_time": "2022-06-13T11:52:17.676Z"
   },
   {
    "duration": 26,
    "start_time": "2022-06-13T11:52:17.770Z"
   },
   {
    "duration": 19,
    "start_time": "2022-06-13T11:52:17.798Z"
   },
   {
    "duration": 7,
    "start_time": "2022-06-13T11:52:17.819Z"
   },
   {
    "duration": 62,
    "start_time": "2022-06-13T11:52:17.829Z"
   },
   {
    "duration": 419,
    "start_time": "2022-06-13T11:52:17.894Z"
   },
   {
    "duration": 420,
    "start_time": "2022-06-13T11:52:18.315Z"
   },
   {
    "duration": 17,
    "start_time": "2022-06-13T11:52:18.736Z"
   },
   {
    "duration": 40,
    "start_time": "2022-06-13T11:52:18.764Z"
   },
   {
    "duration": 806,
    "start_time": "2022-06-13T11:52:18.807Z"
   },
   {
    "duration": 850,
    "start_time": "2022-06-13T11:52:19.615Z"
   },
   {
    "duration": 6,
    "start_time": "2022-06-13T11:52:20.473Z"
   },
   {
    "duration": 12,
    "start_time": "2022-06-13T11:52:20.481Z"
   },
   {
    "duration": 443,
    "start_time": "2022-06-13T11:52:58.010Z"
   },
   {
    "duration": 431,
    "start_time": "2022-06-13T11:55:19.367Z"
   },
   {
    "duration": 556,
    "start_time": "2022-06-13T11:55:30.821Z"
   },
   {
    "duration": 439,
    "start_time": "2022-06-13T11:56:00.146Z"
   },
   {
    "duration": 385,
    "start_time": "2022-06-13T11:59:46.606Z"
   },
   {
    "duration": 342,
    "start_time": "2022-06-13T12:00:47.945Z"
   },
   {
    "duration": 459,
    "start_time": "2022-06-13T12:01:06.702Z"
   },
   {
    "duration": 343,
    "start_time": "2022-06-13T12:01:25.126Z"
   },
   {
    "duration": 12,
    "start_time": "2022-06-13T12:15:24.280Z"
   },
   {
    "duration": 348,
    "start_time": "2022-06-13T12:17:11.364Z"
   },
   {
    "duration": 22,
    "start_time": "2022-06-13T12:17:28.354Z"
   },
   {
    "duration": 24,
    "start_time": "2022-06-13T12:23:52.134Z"
   },
   {
    "duration": 631,
    "start_time": "2022-06-13T12:48:26.452Z"
   },
   {
    "duration": 455,
    "start_time": "2022-06-13T12:48:49.290Z"
   },
   {
    "duration": 581,
    "start_time": "2022-06-13T12:49:21.527Z"
   },
   {
    "duration": 529,
    "start_time": "2022-06-13T12:50:32.948Z"
   },
   {
    "duration": 631,
    "start_time": "2022-06-13T12:51:09.914Z"
   },
   {
    "duration": 610,
    "start_time": "2022-06-13T12:51:19.974Z"
   },
   {
    "duration": 442,
    "start_time": "2022-06-13T12:51:51.157Z"
   },
   {
    "duration": 34,
    "start_time": "2022-06-13T13:28:47.242Z"
   },
   {
    "duration": 3,
    "start_time": "2022-06-13T13:48:02.711Z"
   },
   {
    "duration": 239,
    "start_time": "2022-06-13T13:48:02.717Z"
   },
   {
    "duration": 28,
    "start_time": "2022-06-13T13:48:02.958Z"
   },
   {
    "duration": 33,
    "start_time": "2022-06-13T13:48:02.988Z"
   },
   {
    "duration": 58,
    "start_time": "2022-06-13T13:48:03.023Z"
   },
   {
    "duration": 66,
    "start_time": "2022-06-13T13:48:03.083Z"
   },
   {
    "duration": 47,
    "start_time": "2022-06-13T13:48:03.151Z"
   },
   {
    "duration": 68,
    "start_time": "2022-06-13T13:48:03.199Z"
   },
   {
    "duration": 15,
    "start_time": "2022-06-13T13:48:03.269Z"
   },
   {
    "duration": 34,
    "start_time": "2022-06-13T13:48:03.286Z"
   },
   {
    "duration": 81,
    "start_time": "2022-06-13T13:48:03.321Z"
   },
   {
    "duration": 5,
    "start_time": "2022-06-13T13:48:03.403Z"
   },
   {
    "duration": 31,
    "start_time": "2022-06-13T13:48:03.409Z"
   },
   {
    "duration": 67,
    "start_time": "2022-06-13T13:48:03.445Z"
   },
   {
    "duration": 7,
    "start_time": "2022-06-13T13:48:03.514Z"
   },
   {
    "duration": 72,
    "start_time": "2022-06-13T13:48:03.522Z"
   },
   {
    "duration": 16,
    "start_time": "2022-06-13T13:48:03.595Z"
   },
   {
    "duration": 12,
    "start_time": "2022-06-13T13:48:03.612Z"
   },
   {
    "duration": 48,
    "start_time": "2022-06-13T13:48:03.625Z"
   },
   {
    "duration": 29,
    "start_time": "2022-06-13T13:48:03.676Z"
   },
   {
    "duration": 6,
    "start_time": "2022-06-13T13:48:03.706Z"
   },
   {
    "duration": 58,
    "start_time": "2022-06-13T13:48:03.713Z"
   },
   {
    "duration": 44,
    "start_time": "2022-06-13T13:48:03.774Z"
   },
   {
    "duration": 25,
    "start_time": "2022-06-13T13:48:03.821Z"
   },
   {
    "duration": 70,
    "start_time": "2022-06-13T13:48:03.850Z"
   },
   {
    "duration": 66,
    "start_time": "2022-06-13T13:48:03.922Z"
   },
   {
    "duration": 20,
    "start_time": "2022-06-13T13:48:03.990Z"
   },
   {
    "duration": 43,
    "start_time": "2022-06-13T13:48:04.012Z"
   },
   {
    "duration": 59,
    "start_time": "2022-06-13T13:48:04.057Z"
   },
   {
    "duration": 28,
    "start_time": "2022-06-13T13:48:04.117Z"
   },
   {
    "duration": 14,
    "start_time": "2022-06-13T13:48:04.163Z"
   },
   {
    "duration": 10,
    "start_time": "2022-06-13T13:48:04.178Z"
   },
   {
    "duration": 10,
    "start_time": "2022-06-13T13:48:04.190Z"
   },
   {
    "duration": 43,
    "start_time": "2022-06-13T13:48:04.201Z"
   },
   {
    "duration": 56,
    "start_time": "2022-06-13T13:48:04.245Z"
   },
   {
    "duration": 45,
    "start_time": "2022-06-13T13:48:04.303Z"
   },
   {
    "duration": 20,
    "start_time": "2022-06-13T13:48:04.357Z"
   },
   {
    "duration": 36,
    "start_time": "2022-06-13T13:48:04.378Z"
   },
   {
    "duration": 32,
    "start_time": "2022-06-13T13:48:04.416Z"
   },
   {
    "duration": 94,
    "start_time": "2022-06-13T13:48:04.450Z"
   },
   {
    "duration": 13,
    "start_time": "2022-06-13T13:48:04.547Z"
   },
   {
    "duration": 31,
    "start_time": "2022-06-13T13:48:04.563Z"
   },
   {
    "duration": 18,
    "start_time": "2022-06-13T13:48:04.596Z"
   },
   {
    "duration": 40,
    "start_time": "2022-06-13T13:48:04.615Z"
   },
   {
    "duration": 36,
    "start_time": "2022-06-13T13:48:04.657Z"
   },
   {
    "duration": 11,
    "start_time": "2022-06-13T13:48:04.695Z"
   },
   {
    "duration": 4,
    "start_time": "2022-06-13T13:48:04.708Z"
   },
   {
    "duration": 10,
    "start_time": "2022-06-13T13:48:04.714Z"
   },
   {
    "duration": 51,
    "start_time": "2022-06-13T13:48:04.726Z"
   },
   {
    "duration": 23,
    "start_time": "2022-06-13T13:48:04.784Z"
   },
   {
    "duration": 42,
    "start_time": "2022-06-13T13:48:04.808Z"
   },
   {
    "duration": 42,
    "start_time": "2022-06-13T13:48:04.852Z"
   },
   {
    "duration": 19,
    "start_time": "2022-06-13T13:48:04.896Z"
   },
   {
    "duration": 4,
    "start_time": "2022-06-13T13:48:04.916Z"
   },
   {
    "duration": 40,
    "start_time": "2022-06-13T13:48:04.921Z"
   },
   {
    "duration": 28,
    "start_time": "2022-06-13T13:48:04.968Z"
   },
   {
    "duration": 10,
    "start_time": "2022-06-13T13:48:04.998Z"
   },
   {
    "duration": 6,
    "start_time": "2022-06-13T13:48:05.010Z"
   },
   {
    "duration": 34,
    "start_time": "2022-06-13T13:48:05.018Z"
   },
   {
    "duration": 30,
    "start_time": "2022-06-13T13:48:05.054Z"
   },
   {
    "duration": 24,
    "start_time": "2022-06-13T13:48:05.085Z"
   },
   {
    "duration": 425,
    "start_time": "2022-06-13T13:48:05.111Z"
   },
   {
    "duration": 358,
    "start_time": "2022-06-13T13:48:05.537Z"
   },
   {
    "duration": 29,
    "start_time": "2022-06-13T13:48:05.897Z"
   },
   {
    "duration": 66,
    "start_time": "2022-06-13T13:48:05.929Z"
   },
   {
    "duration": 14,
    "start_time": "2022-06-13T13:48:05.997Z"
   },
   {
    "duration": 53,
    "start_time": "2022-06-13T13:48:06.013Z"
   },
   {
    "duration": 12,
    "start_time": "2022-06-13T13:48:06.068Z"
   },
   {
    "duration": 15,
    "start_time": "2022-06-13T13:48:06.085Z"
   },
   {
    "duration": 52,
    "start_time": "2022-06-13T13:48:06.102Z"
   },
   {
    "duration": 14,
    "start_time": "2022-06-13T13:48:06.166Z"
   },
   {
    "duration": 71,
    "start_time": "2022-06-13T13:48:06.182Z"
   },
   {
    "duration": 24,
    "start_time": "2022-06-13T13:48:06.255Z"
   },
   {
    "duration": 14,
    "start_time": "2022-06-13T13:48:06.280Z"
   },
   {
    "duration": 5,
    "start_time": "2022-06-13T13:48:06.296Z"
   },
   {
    "duration": 11,
    "start_time": "2022-06-13T13:48:06.302Z"
   },
   {
    "duration": 349,
    "start_time": "2022-06-13T13:48:06.314Z"
   },
   {
    "duration": 419,
    "start_time": "2022-06-13T13:48:06.667Z"
   },
   {
    "duration": 4,
    "start_time": "2022-06-13T13:48:07.087Z"
   },
   {
    "duration": 15,
    "start_time": "2022-06-13T13:48:07.092Z"
   },
   {
    "duration": 503,
    "start_time": "2022-06-13T13:48:07.108Z"
   },
   {
    "duration": 748,
    "start_time": "2022-06-13T13:48:07.612Z"
   },
   {
    "duration": 10,
    "start_time": "2022-06-13T13:48:08.362Z"
   },
   {
    "duration": 11,
    "start_time": "2022-06-13T13:48:08.374Z"
   },
   {
    "duration": 1207,
    "start_time": "2022-06-14T18:05:27.746Z"
   },
   {
    "duration": 209,
    "start_time": "2022-06-14T18:05:28.955Z"
   },
   {
    "duration": 20,
    "start_time": "2022-06-14T18:05:29.166Z"
   },
   {
    "duration": 29,
    "start_time": "2022-06-14T18:05:29.188Z"
   },
   {
    "duration": 35,
    "start_time": "2022-06-14T18:05:29.218Z"
   },
   {
    "duration": 50,
    "start_time": "2022-06-14T18:05:29.255Z"
   },
   {
    "duration": 43,
    "start_time": "2022-06-14T18:05:29.306Z"
   },
   {
    "duration": 54,
    "start_time": "2022-06-14T18:05:29.351Z"
   },
   {
    "duration": 13,
    "start_time": "2022-06-14T18:05:29.406Z"
   },
   {
    "duration": 14,
    "start_time": "2022-06-14T18:05:29.421Z"
   },
   {
    "duration": 58,
    "start_time": "2022-06-14T18:05:29.437Z"
   },
   {
    "duration": 5,
    "start_time": "2022-06-14T18:05:29.497Z"
   },
   {
    "duration": 22,
    "start_time": "2022-06-14T18:05:29.504Z"
   },
   {
    "duration": 29,
    "start_time": "2022-06-14T18:05:29.527Z"
   },
   {
    "duration": 8,
    "start_time": "2022-06-14T18:05:29.557Z"
   },
   {
    "duration": 37,
    "start_time": "2022-06-14T18:05:29.567Z"
   },
   {
    "duration": 10,
    "start_time": "2022-06-14T18:05:29.605Z"
   },
   {
    "duration": 6,
    "start_time": "2022-06-14T18:05:29.616Z"
   },
   {
    "duration": 7,
    "start_time": "2022-06-14T18:05:29.623Z"
   },
   {
    "duration": 11,
    "start_time": "2022-06-14T18:05:29.631Z"
   },
   {
    "duration": 5,
    "start_time": "2022-06-14T18:05:29.643Z"
   },
   {
    "duration": 46,
    "start_time": "2022-06-14T18:05:29.649Z"
   },
   {
    "duration": 27,
    "start_time": "2022-06-14T18:05:29.696Z"
   },
   {
    "duration": 19,
    "start_time": "2022-06-14T18:05:29.724Z"
   },
   {
    "duration": 7,
    "start_time": "2022-06-14T18:05:29.744Z"
   },
   {
    "duration": 14,
    "start_time": "2022-06-14T18:05:29.752Z"
   },
   {
    "duration": 37,
    "start_time": "2022-06-14T18:05:29.767Z"
   },
   {
    "duration": 22,
    "start_time": "2022-06-14T18:05:29.808Z"
   },
   {
    "duration": 67,
    "start_time": "2022-06-14T18:05:29.831Z"
   },
   {
    "duration": 10,
    "start_time": "2022-06-14T18:05:29.899Z"
   },
   {
    "duration": 8,
    "start_time": "2022-06-14T18:05:29.911Z"
   },
   {
    "duration": 11,
    "start_time": "2022-06-14T18:05:29.921Z"
   },
   {
    "duration": 8,
    "start_time": "2022-06-14T18:05:29.933Z"
   },
   {
    "duration": 66,
    "start_time": "2022-06-14T18:05:29.942Z"
   },
   {
    "duration": 52,
    "start_time": "2022-06-14T18:05:30.009Z"
   },
   {
    "duration": 38,
    "start_time": "2022-06-14T18:05:30.062Z"
   },
   {
    "duration": 15,
    "start_time": "2022-06-14T18:05:30.101Z"
   },
   {
    "duration": 30,
    "start_time": "2022-06-14T18:05:30.118Z"
   },
   {
    "duration": 14,
    "start_time": "2022-06-14T18:05:30.150Z"
   },
   {
    "duration": 94,
    "start_time": "2022-06-14T18:05:30.165Z"
   },
   {
    "duration": 9,
    "start_time": "2022-06-14T18:05:30.260Z"
   },
   {
    "duration": 25,
    "start_time": "2022-06-14T18:05:30.270Z"
   },
   {
    "duration": 22,
    "start_time": "2022-06-14T18:05:30.297Z"
   },
   {
    "duration": 24,
    "start_time": "2022-06-14T18:05:30.320Z"
   },
   {
    "duration": 13,
    "start_time": "2022-06-14T18:05:30.345Z"
   },
   {
    "duration": 12,
    "start_time": "2022-06-14T18:05:30.359Z"
   },
   {
    "duration": 24,
    "start_time": "2022-06-14T18:05:30.372Z"
   },
   {
    "duration": 13,
    "start_time": "2022-06-14T18:05:30.397Z"
   },
   {
    "duration": 35,
    "start_time": "2022-06-14T18:05:30.412Z"
   },
   {
    "duration": 3,
    "start_time": "2022-06-14T18:05:30.448Z"
   },
   {
    "duration": 35,
    "start_time": "2022-06-14T18:05:30.452Z"
   },
   {
    "duration": 15,
    "start_time": "2022-06-14T18:05:30.489Z"
   },
   {
    "duration": 18,
    "start_time": "2022-06-14T18:05:30.506Z"
   },
   {
    "duration": 3,
    "start_time": "2022-06-14T18:05:30.526Z"
   },
   {
    "duration": 18,
    "start_time": "2022-06-14T18:05:30.530Z"
   },
   {
    "duration": 25,
    "start_time": "2022-06-14T18:05:30.549Z"
   },
   {
    "duration": 24,
    "start_time": "2022-06-14T18:05:30.575Z"
   },
   {
    "duration": 28,
    "start_time": "2022-06-14T18:05:30.600Z"
   },
   {
    "duration": 33,
    "start_time": "2022-06-14T18:05:30.629Z"
   },
   {
    "duration": 19,
    "start_time": "2022-06-14T18:05:30.663Z"
   },
   {
    "duration": 16,
    "start_time": "2022-06-14T18:05:30.684Z"
   },
   {
    "duration": 289,
    "start_time": "2022-06-14T18:05:30.702Z"
   },
   {
    "duration": 285,
    "start_time": "2022-06-14T18:05:30.993Z"
   },
   {
    "duration": 30,
    "start_time": "2022-06-14T18:05:31.279Z"
   },
   {
    "duration": 41,
    "start_time": "2022-06-14T18:05:31.311Z"
   },
   {
    "duration": 14,
    "start_time": "2022-06-14T18:05:31.354Z"
   },
   {
    "duration": 41,
    "start_time": "2022-06-14T18:05:31.370Z"
   },
   {
    "duration": 9,
    "start_time": "2022-06-14T18:05:31.413Z"
   },
   {
    "duration": 15,
    "start_time": "2022-06-14T18:05:31.423Z"
   },
   {
    "duration": 25,
    "start_time": "2022-06-14T18:05:31.439Z"
   },
   {
    "duration": 8,
    "start_time": "2022-06-14T18:05:31.466Z"
   },
   {
    "duration": 55,
    "start_time": "2022-06-14T18:05:31.475Z"
   },
   {
    "duration": 17,
    "start_time": "2022-06-14T18:05:31.531Z"
   },
   {
    "duration": 14,
    "start_time": "2022-06-14T18:05:31.549Z"
   },
   {
    "duration": 9,
    "start_time": "2022-06-14T18:05:31.564Z"
   },
   {
    "duration": 25,
    "start_time": "2022-06-14T18:05:31.574Z"
   },
   {
    "duration": 262,
    "start_time": "2022-06-14T18:05:31.601Z"
   },
   {
    "duration": 293,
    "start_time": "2022-06-14T18:05:31.865Z"
   },
   {
    "duration": 4,
    "start_time": "2022-06-14T18:05:32.160Z"
   },
   {
    "duration": 15,
    "start_time": "2022-06-14T18:05:32.166Z"
   },
   {
    "duration": 524,
    "start_time": "2022-06-14T18:05:32.183Z"
   },
   {
    "duration": 522,
    "start_time": "2022-06-14T18:05:32.712Z"
   },
   {
    "duration": 4,
    "start_time": "2022-06-14T18:05:33.236Z"
   },
   {
    "duration": 9,
    "start_time": "2022-06-14T18:05:33.242Z"
   }
  ],
  "kernelspec": {
   "display_name": "Python 3 (ipykernel)",
   "language": "python",
   "name": "python3"
  },
  "language_info": {
   "codemirror_mode": {
    "name": "ipython",
    "version": 3
   },
   "file_extension": ".py",
   "mimetype": "text/x-python",
   "name": "python",
   "nbconvert_exporter": "python",
   "pygments_lexer": "ipython3",
   "version": "3.9.7"
  },
  "toc": {
   "base_numbering": 1,
   "nav_menu": {},
   "number_sections": true,
   "sideBar": true,
   "skip_h1_title": true,
   "title_cell": "Table of Contents",
   "title_sidebar": "Contents",
   "toc_cell": false,
   "toc_position": {},
   "toc_section_display": true,
   "toc_window_display": false
  }
 },
 "nbformat": 4,
 "nbformat_minor": 5
}
