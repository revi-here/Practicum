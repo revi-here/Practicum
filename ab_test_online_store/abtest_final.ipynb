{
 "cells": [
  {
   "cell_type": "markdown",
   "metadata": {},
   "source": [
    "# A/B Testing project"
   ]
  },
  {
   "cell_type": "markdown",
   "metadata": {},
   "source": [
    "# Table of contents  \n",
    "1.[Introduction](#intro)  \n",
    "2.[Steps](#steps)  \n",
    "3.[Data preprocessing](#data)    \n",
    "4.[Exploratory Data Analysis](#eda)  \n",
    "5.[A/B test result analysis](#ab)  \n",
    "5.[Final Conclusion](#end)  \n"
   ]
  },
  {
   "cell_type": "markdown",
   "metadata": {},
   "source": [
    "<a id='intro'>"
   ]
  },
  {
   "cell_type": "markdown",
   "metadata": {},
   "source": [
    "## Introduction  \n",
    "   <b>This project is an analytical task from an international online store. Your predecessor failed to complete an A/B test they launched and then quit (to start a watermelon farm in Brazil). They left only the technical specifications and the test results..  \n",
    "    We have to see if the A/B test data taken according to the technical requirements and analyse the result to see if any  \n",
    "improvement from the newly introduced feature.\n",
    "</b>"
   ]
  },
  {
   "cell_type": "markdown",
   "metadata": {},
   "source": [
    "<a id='steps'>"
   ]
  },
  {
   "cell_type": "markdown",
   "metadata": {},
   "source": [
    "## Steps\n",
    "<b>1.Data Preprocessing   \n",
    "2.Exploratory Data Analysis  \n",
    "3.Preparing data based on technical description  \n",
    "4.A/b test result analysis  \n",
    "5.Conclusion"
   ]
  },
  {
   "cell_type": "code",
   "execution_count": 115,
   "metadata": {},
   "outputs": [],
   "source": [
    "#importing all the necessary package\n",
    "import pandas as pd\n",
    "import numpy as np\n",
    "from scipy import stats as st\n",
    "import math as mth\n"
   ]
  },
  {
   "cell_type": "markdown",
   "metadata": {},
   "source": [
    "<b>Downloading all the datasets."
   ]
  },
  {
   "cell_type": "code",
   "execution_count": 116,
   "metadata": {},
   "outputs": [
    {
     "data": {
      "text/html": [
       "<div>\n",
       "<style scoped>\n",
       "    .dataframe tbody tr th:only-of-type {\n",
       "        vertical-align: middle;\n",
       "    }\n",
       "\n",
       "    .dataframe tbody tr th {\n",
       "        vertical-align: top;\n",
       "    }\n",
       "\n",
       "    .dataframe thead th {\n",
       "        text-align: right;\n",
       "    }\n",
       "</style>\n",
       "<table border=\"1\" class=\"dataframe\">\n",
       "  <thead>\n",
       "    <tr style=\"text-align: right;\">\n",
       "      <th></th>\n",
       "      <th>Unnamed: 0</th>\n",
       "      <th>name</th>\n",
       "      <th>regions</th>\n",
       "      <th>start_dt</th>\n",
       "      <th>finish_dt</th>\n",
       "    </tr>\n",
       "  </thead>\n",
       "  <tbody>\n",
       "    <tr>\n",
       "      <th>0</th>\n",
       "      <td>0</td>\n",
       "      <td>Christmas&amp;New Year Promo</td>\n",
       "      <td>EU, N.America</td>\n",
       "      <td>2020-12-25</td>\n",
       "      <td>2021-01-03</td>\n",
       "    </tr>\n",
       "    <tr>\n",
       "      <th>1</th>\n",
       "      <td>1</td>\n",
       "      <td>St. Valentine's Day Giveaway</td>\n",
       "      <td>EU, CIS, APAC, N.America</td>\n",
       "      <td>2020-02-14</td>\n",
       "      <td>2020-02-16</td>\n",
       "    </tr>\n",
       "    <tr>\n",
       "      <th>2</th>\n",
       "      <td>2</td>\n",
       "      <td>St. Patric's Day Promo</td>\n",
       "      <td>EU, N.America</td>\n",
       "      <td>2020-03-17</td>\n",
       "      <td>2020-03-19</td>\n",
       "    </tr>\n",
       "    <tr>\n",
       "      <th>3</th>\n",
       "      <td>3</td>\n",
       "      <td>Easter Promo</td>\n",
       "      <td>EU, CIS, APAC, N.America</td>\n",
       "      <td>2020-04-12</td>\n",
       "      <td>2020-04-19</td>\n",
       "    </tr>\n",
       "    <tr>\n",
       "      <th>4</th>\n",
       "      <td>4</td>\n",
       "      <td>4th of July Promo</td>\n",
       "      <td>N.America</td>\n",
       "      <td>2020-07-04</td>\n",
       "      <td>2020-07-11</td>\n",
       "    </tr>\n",
       "  </tbody>\n",
       "</table>\n",
       "</div>"
      ],
      "text/plain": [
       "   Unnamed: 0                          name                   regions  \\\n",
       "0           0      Christmas&New Year Promo             EU, N.America   \n",
       "1           1  St. Valentine's Day Giveaway  EU, CIS, APAC, N.America   \n",
       "2           2        St. Patric's Day Promo             EU, N.America   \n",
       "3           3                  Easter Promo  EU, CIS, APAC, N.America   \n",
       "4           4             4th of July Promo                 N.America   \n",
       "\n",
       "     start_dt   finish_dt  \n",
       "0  2020-12-25  2021-01-03  \n",
       "1  2020-02-14  2020-02-16  \n",
       "2  2020-03-17  2020-03-19  \n",
       "3  2020-04-12  2020-04-19  \n",
       "4  2020-07-04  2020-07-11  "
      ]
     },
     "execution_count": 116,
     "metadata": {},
     "output_type": "execute_result"
    }
   ],
   "source": [
    "marketing_events_df=pd.read_csv('ab_project_marketing_events_us.csv')\n",
    "marketing_events_df.head()"
   ]
  },
  {
   "cell_type": "code",
   "execution_count": 117,
   "metadata": {},
   "outputs": [
    {
     "data": {
      "text/html": [
       "<div>\n",
       "<style scoped>\n",
       "    .dataframe tbody tr th:only-of-type {\n",
       "        vertical-align: middle;\n",
       "    }\n",
       "\n",
       "    .dataframe tbody tr th {\n",
       "        vertical-align: top;\n",
       "    }\n",
       "\n",
       "    .dataframe thead th {\n",
       "        text-align: right;\n",
       "    }\n",
       "</style>\n",
       "<table border=\"1\" class=\"dataframe\">\n",
       "  <thead>\n",
       "    <tr style=\"text-align: right;\">\n",
       "      <th></th>\n",
       "      <th>Unnamed: 0</th>\n",
       "      <th>user_id</th>\n",
       "      <th>first_date</th>\n",
       "      <th>region</th>\n",
       "      <th>device</th>\n",
       "    </tr>\n",
       "  </thead>\n",
       "  <tbody>\n",
       "    <tr>\n",
       "      <th>0</th>\n",
       "      <td>0</td>\n",
       "      <td>D72A72121175D8BE</td>\n",
       "      <td>2020-12-07</td>\n",
       "      <td>EU</td>\n",
       "      <td>PC</td>\n",
       "    </tr>\n",
       "    <tr>\n",
       "      <th>1</th>\n",
       "      <td>1</td>\n",
       "      <td>F1C668619DFE6E65</td>\n",
       "      <td>2020-12-07</td>\n",
       "      <td>N.America</td>\n",
       "      <td>Android</td>\n",
       "    </tr>\n",
       "    <tr>\n",
       "      <th>2</th>\n",
       "      <td>2</td>\n",
       "      <td>2E1BF1D4C37EA01F</td>\n",
       "      <td>2020-12-07</td>\n",
       "      <td>EU</td>\n",
       "      <td>PC</td>\n",
       "    </tr>\n",
       "    <tr>\n",
       "      <th>3</th>\n",
       "      <td>3</td>\n",
       "      <td>50734A22C0C63768</td>\n",
       "      <td>2020-12-07</td>\n",
       "      <td>EU</td>\n",
       "      <td>iPhone</td>\n",
       "    </tr>\n",
       "    <tr>\n",
       "      <th>4</th>\n",
       "      <td>4</td>\n",
       "      <td>E1BDDCE0DAFA2679</td>\n",
       "      <td>2020-12-07</td>\n",
       "      <td>N.America</td>\n",
       "      <td>iPhone</td>\n",
       "    </tr>\n",
       "  </tbody>\n",
       "</table>\n",
       "</div>"
      ],
      "text/plain": [
       "   Unnamed: 0           user_id  first_date     region   device\n",
       "0           0  D72A72121175D8BE  2020-12-07         EU       PC\n",
       "1           1  F1C668619DFE6E65  2020-12-07  N.America  Android\n",
       "2           2  2E1BF1D4C37EA01F  2020-12-07         EU       PC\n",
       "3           3  50734A22C0C63768  2020-12-07         EU   iPhone\n",
       "4           4  E1BDDCE0DAFA2679  2020-12-07  N.America   iPhone"
      ]
     },
     "execution_count": 117,
     "metadata": {},
     "output_type": "execute_result"
    }
   ],
   "source": [
    "ab_new_users_df=pd.read_csv('final_ab_new_users_upd_us.csv')\n",
    "ab_new_users_df.head()"
   ]
  },
  {
   "cell_type": "code",
   "execution_count": 118,
   "metadata": {},
   "outputs": [
    {
     "data": {
      "text/html": [
       "<div>\n",
       "<style scoped>\n",
       "    .dataframe tbody tr th:only-of-type {\n",
       "        vertical-align: middle;\n",
       "    }\n",
       "\n",
       "    .dataframe tbody tr th {\n",
       "        vertical-align: top;\n",
       "    }\n",
       "\n",
       "    .dataframe thead th {\n",
       "        text-align: right;\n",
       "    }\n",
       "</style>\n",
       "<table border=\"1\" class=\"dataframe\">\n",
       "  <thead>\n",
       "    <tr style=\"text-align: right;\">\n",
       "      <th></th>\n",
       "      <th>Unnamed: 0</th>\n",
       "      <th>user_id</th>\n",
       "      <th>event_dt</th>\n",
       "      <th>event_name</th>\n",
       "      <th>details</th>\n",
       "    </tr>\n",
       "  </thead>\n",
       "  <tbody>\n",
       "    <tr>\n",
       "      <th>0</th>\n",
       "      <td>0</td>\n",
       "      <td>E1BDDCE0DAFA2679</td>\n",
       "      <td>2020-12-07 20:22:03</td>\n",
       "      <td>purchase</td>\n",
       "      <td>99.99</td>\n",
       "    </tr>\n",
       "    <tr>\n",
       "      <th>1</th>\n",
       "      <td>1</td>\n",
       "      <td>7B6452F081F49504</td>\n",
       "      <td>2020-12-07 09:22:53</td>\n",
       "      <td>purchase</td>\n",
       "      <td>9.99</td>\n",
       "    </tr>\n",
       "    <tr>\n",
       "      <th>2</th>\n",
       "      <td>2</td>\n",
       "      <td>9CD9F34546DF254C</td>\n",
       "      <td>2020-12-07 12:59:29</td>\n",
       "      <td>purchase</td>\n",
       "      <td>4.99</td>\n",
       "    </tr>\n",
       "    <tr>\n",
       "      <th>3</th>\n",
       "      <td>3</td>\n",
       "      <td>96F27A054B191457</td>\n",
       "      <td>2020-12-07 04:02:40</td>\n",
       "      <td>purchase</td>\n",
       "      <td>4.99</td>\n",
       "    </tr>\n",
       "    <tr>\n",
       "      <th>4</th>\n",
       "      <td>4</td>\n",
       "      <td>1FD7660FDF94CA1F</td>\n",
       "      <td>2020-12-07 10:15:09</td>\n",
       "      <td>purchase</td>\n",
       "      <td>4.99</td>\n",
       "    </tr>\n",
       "  </tbody>\n",
       "</table>\n",
       "</div>"
      ],
      "text/plain": [
       "   Unnamed: 0           user_id             event_dt event_name  details\n",
       "0           0  E1BDDCE0DAFA2679  2020-12-07 20:22:03   purchase    99.99\n",
       "1           1  7B6452F081F49504  2020-12-07 09:22:53   purchase     9.99\n",
       "2           2  9CD9F34546DF254C  2020-12-07 12:59:29   purchase     4.99\n",
       "3           3  96F27A054B191457  2020-12-07 04:02:40   purchase     4.99\n",
       "4           4  1FD7660FDF94CA1F  2020-12-07 10:15:09   purchase     4.99"
      ]
     },
     "execution_count": 118,
     "metadata": {},
     "output_type": "execute_result"
    }
   ],
   "source": [
    "ab_new_events_df=pd.read_csv('final_ab_events_upd_us.csv')\n",
    "ab_new_events_df.head()"
   ]
  },
  {
   "cell_type": "code",
   "execution_count": 119,
   "metadata": {},
   "outputs": [
    {
     "data": {
      "text/html": [
       "<div>\n",
       "<style scoped>\n",
       "    .dataframe tbody tr th:only-of-type {\n",
       "        vertical-align: middle;\n",
       "    }\n",
       "\n",
       "    .dataframe tbody tr th {\n",
       "        vertical-align: top;\n",
       "    }\n",
       "\n",
       "    .dataframe thead th {\n",
       "        text-align: right;\n",
       "    }\n",
       "</style>\n",
       "<table border=\"1\" class=\"dataframe\">\n",
       "  <thead>\n",
       "    <tr style=\"text-align: right;\">\n",
       "      <th></th>\n",
       "      <th>Unnamed: 0</th>\n",
       "      <th>user_id</th>\n",
       "      <th>group</th>\n",
       "      <th>ab_test</th>\n",
       "    </tr>\n",
       "  </thead>\n",
       "  <tbody>\n",
       "    <tr>\n",
       "      <th>0</th>\n",
       "      <td>0</td>\n",
       "      <td>D1ABA3E2887B6A73</td>\n",
       "      <td>A</td>\n",
       "      <td>recommender_system_test</td>\n",
       "    </tr>\n",
       "    <tr>\n",
       "      <th>1</th>\n",
       "      <td>1</td>\n",
       "      <td>A7A3664BD6242119</td>\n",
       "      <td>A</td>\n",
       "      <td>recommender_system_test</td>\n",
       "    </tr>\n",
       "    <tr>\n",
       "      <th>2</th>\n",
       "      <td>2</td>\n",
       "      <td>DABC14FDDFADD29E</td>\n",
       "      <td>A</td>\n",
       "      <td>recommender_system_test</td>\n",
       "    </tr>\n",
       "    <tr>\n",
       "      <th>3</th>\n",
       "      <td>3</td>\n",
       "      <td>04988C5DF189632E</td>\n",
       "      <td>A</td>\n",
       "      <td>recommender_system_test</td>\n",
       "    </tr>\n",
       "    <tr>\n",
       "      <th>4</th>\n",
       "      <td>4</td>\n",
       "      <td>4FF2998A348C484F</td>\n",
       "      <td>A</td>\n",
       "      <td>recommender_system_test</td>\n",
       "    </tr>\n",
       "  </tbody>\n",
       "</table>\n",
       "</div>"
      ],
      "text/plain": [
       "   Unnamed: 0           user_id group                  ab_test\n",
       "0           0  D1ABA3E2887B6A73     A  recommender_system_test\n",
       "1           1  A7A3664BD6242119     A  recommender_system_test\n",
       "2           2  DABC14FDDFADD29E     A  recommender_system_test\n",
       "3           3  04988C5DF189632E     A  recommender_system_test\n",
       "4           4  4FF2998A348C484F     A  recommender_system_test"
      ]
     },
     "execution_count": 119,
     "metadata": {},
     "output_type": "execute_result"
    }
   ],
   "source": [
    "ab_new_participants_df=pd.read_csv('final_ab_participants_upd_us.csv')\n",
    "ab_new_participants_df.head()"
   ]
  },
  {
   "cell_type": "markdown",
   "metadata": {},
   "source": [
    "<a id='data'>"
   ]
  },
  {
   "cell_type": "markdown",
   "metadata": {},
   "source": [
    "## Data Preprocessing"
   ]
  },
  {
   "cell_type": "markdown",
   "metadata": {},
   "source": [
    "<b>Getting the details of each dataset"
   ]
  },
  {
   "cell_type": "code",
   "execution_count": 120,
   "metadata": {},
   "outputs": [
    {
     "name": "stdout",
     "output_type": "stream",
     "text": [
      "<class 'pandas.core.frame.DataFrame'>\n",
      "RangeIndex: 14 entries, 0 to 13\n",
      "Data columns (total 5 columns):\n",
      " #   Column      Non-Null Count  Dtype \n",
      "---  ------      --------------  ----- \n",
      " 0   Unnamed: 0  14 non-null     int64 \n",
      " 1   name        14 non-null     object\n",
      " 2   regions     14 non-null     object\n",
      " 3   start_dt    14 non-null     object\n",
      " 4   finish_dt   14 non-null     object\n",
      "dtypes: int64(1), object(4)\n",
      "memory usage: 688.0+ bytes\n"
     ]
    }
   ],
   "source": [
    "marketing_events_df.info()"
   ]
  },
  {
   "cell_type": "code",
   "execution_count": 121,
   "metadata": {},
   "outputs": [
    {
     "name": "stdout",
     "output_type": "stream",
     "text": [
      "<class 'pandas.core.frame.DataFrame'>\n",
      "RangeIndex: 58703 entries, 0 to 58702\n",
      "Data columns (total 5 columns):\n",
      " #   Column      Non-Null Count  Dtype \n",
      "---  ------      --------------  ----- \n",
      " 0   Unnamed: 0  58703 non-null  int64 \n",
      " 1   user_id     58703 non-null  object\n",
      " 2   first_date  58703 non-null  object\n",
      " 3   region      58703 non-null  object\n",
      " 4   device      58703 non-null  object\n",
      "dtypes: int64(1), object(4)\n",
      "memory usage: 2.2+ MB\n"
     ]
    }
   ],
   "source": [
    "ab_new_users_df.info()"
   ]
  },
  {
   "cell_type": "code",
   "execution_count": 122,
   "metadata": {},
   "outputs": [
    {
     "name": "stdout",
     "output_type": "stream",
     "text": [
      "<class 'pandas.core.frame.DataFrame'>\n",
      "RangeIndex: 423761 entries, 0 to 423760\n",
      "Data columns (total 5 columns):\n",
      " #   Column      Non-Null Count   Dtype  \n",
      "---  ------      --------------   -----  \n",
      " 0   Unnamed: 0  423761 non-null  int64  \n",
      " 1   user_id     423761 non-null  object \n",
      " 2   event_dt    423761 non-null  object \n",
      " 3   event_name  423761 non-null  object \n",
      " 4   details     60314 non-null   float64\n",
      "dtypes: float64(1), int64(1), object(3)\n",
      "memory usage: 16.2+ MB\n"
     ]
    }
   ],
   "source": [
    "ab_new_events_df.info()"
   ]
  },
  {
   "cell_type": "code",
   "execution_count": 123,
   "metadata": {},
   "outputs": [
    {
     "name": "stdout",
     "output_type": "stream",
     "text": [
      "<class 'pandas.core.frame.DataFrame'>\n",
      "RangeIndex: 14525 entries, 0 to 14524\n",
      "Data columns (total 4 columns):\n",
      " #   Column      Non-Null Count  Dtype \n",
      "---  ------      --------------  ----- \n",
      " 0   Unnamed: 0  14525 non-null  int64 \n",
      " 1   user_id     14525 non-null  object\n",
      " 2   group       14525 non-null  object\n",
      " 3   ab_test     14525 non-null  object\n",
      "dtypes: int64(1), object(3)\n",
      "memory usage: 454.0+ KB\n"
     ]
    }
   ],
   "source": [
    "ab_new_participants_df.info()"
   ]
  },
  {
   "cell_type": "markdown",
   "metadata": {},
   "source": [
    "<b>Missing values and Duplicate values"
   ]
  },
  {
   "cell_type": "markdown",
   "metadata": {},
   "source": [
    "<b>ab_new_events_df has significant amount of missing values. Analysing the same for filling   \n",
    " missing values."
   ]
  },
  {
   "cell_type": "code",
   "execution_count": 124,
   "metadata": {},
   "outputs": [
    {
     "data": {
      "text/html": [
       "<div>\n",
       "<style scoped>\n",
       "    .dataframe tbody tr th:only-of-type {\n",
       "        vertical-align: middle;\n",
       "    }\n",
       "\n",
       "    .dataframe tbody tr th {\n",
       "        vertical-align: top;\n",
       "    }\n",
       "\n",
       "    .dataframe thead th {\n",
       "        text-align: right;\n",
       "    }\n",
       "</style>\n",
       "<table border=\"1\" class=\"dataframe\">\n",
       "  <thead>\n",
       "    <tr style=\"text-align: right;\">\n",
       "      <th></th>\n",
       "      <th>Unnamed: 0</th>\n",
       "      <th>user_id</th>\n",
       "      <th>event_dt</th>\n",
       "      <th>event_name</th>\n",
       "      <th>details</th>\n",
       "    </tr>\n",
       "  </thead>\n",
       "  <tbody>\n",
       "    <tr>\n",
       "      <th>0</th>\n",
       "      <td>0</td>\n",
       "      <td>E1BDDCE0DAFA2679</td>\n",
       "      <td>2020-12-07 20:22:03</td>\n",
       "      <td>purchase</td>\n",
       "      <td>99.99</td>\n",
       "    </tr>\n",
       "    <tr>\n",
       "      <th>1</th>\n",
       "      <td>1</td>\n",
       "      <td>7B6452F081F49504</td>\n",
       "      <td>2020-12-07 09:22:53</td>\n",
       "      <td>purchase</td>\n",
       "      <td>9.99</td>\n",
       "    </tr>\n",
       "    <tr>\n",
       "      <th>2</th>\n",
       "      <td>2</td>\n",
       "      <td>9CD9F34546DF254C</td>\n",
       "      <td>2020-12-07 12:59:29</td>\n",
       "      <td>purchase</td>\n",
       "      <td>4.99</td>\n",
       "    </tr>\n",
       "    <tr>\n",
       "      <th>3</th>\n",
       "      <td>3</td>\n",
       "      <td>96F27A054B191457</td>\n",
       "      <td>2020-12-07 04:02:40</td>\n",
       "      <td>purchase</td>\n",
       "      <td>4.99</td>\n",
       "    </tr>\n",
       "    <tr>\n",
       "      <th>4</th>\n",
       "      <td>4</td>\n",
       "      <td>1FD7660FDF94CA1F</td>\n",
       "      <td>2020-12-07 10:15:09</td>\n",
       "      <td>purchase</td>\n",
       "      <td>4.99</td>\n",
       "    </tr>\n",
       "    <tr>\n",
       "      <th>5</th>\n",
       "      <td>5</td>\n",
       "      <td>831887FE7F2D6CBA</td>\n",
       "      <td>2020-12-07 06:50:29</td>\n",
       "      <td>purchase</td>\n",
       "      <td>4.99</td>\n",
       "    </tr>\n",
       "    <tr>\n",
       "      <th>6</th>\n",
       "      <td>6</td>\n",
       "      <td>6B2F726BFD5F8220</td>\n",
       "      <td>2020-12-07 11:27:42</td>\n",
       "      <td>purchase</td>\n",
       "      <td>4.99</td>\n",
       "    </tr>\n",
       "    <tr>\n",
       "      <th>7</th>\n",
       "      <td>7</td>\n",
       "      <td>BEB37715AACF53B0</td>\n",
       "      <td>2020-12-07 04:26:15</td>\n",
       "      <td>purchase</td>\n",
       "      <td>4.99</td>\n",
       "    </tr>\n",
       "    <tr>\n",
       "      <th>8</th>\n",
       "      <td>8</td>\n",
       "      <td>B5FA27F582227197</td>\n",
       "      <td>2020-12-07 01:46:37</td>\n",
       "      <td>purchase</td>\n",
       "      <td>4.99</td>\n",
       "    </tr>\n",
       "    <tr>\n",
       "      <th>9</th>\n",
       "      <td>9</td>\n",
       "      <td>A92195E3CFB83DBD</td>\n",
       "      <td>2020-12-07 00:32:07</td>\n",
       "      <td>purchase</td>\n",
       "      <td>4.99</td>\n",
       "    </tr>\n",
       "  </tbody>\n",
       "</table>\n",
       "</div>"
      ],
      "text/plain": [
       "   Unnamed: 0           user_id             event_dt event_name  details\n",
       "0           0  E1BDDCE0DAFA2679  2020-12-07 20:22:03   purchase    99.99\n",
       "1           1  7B6452F081F49504  2020-12-07 09:22:53   purchase     9.99\n",
       "2           2  9CD9F34546DF254C  2020-12-07 12:59:29   purchase     4.99\n",
       "3           3  96F27A054B191457  2020-12-07 04:02:40   purchase     4.99\n",
       "4           4  1FD7660FDF94CA1F  2020-12-07 10:15:09   purchase     4.99\n",
       "5           5  831887FE7F2D6CBA  2020-12-07 06:50:29   purchase     4.99\n",
       "6           6  6B2F726BFD5F8220  2020-12-07 11:27:42   purchase     4.99\n",
       "7           7  BEB37715AACF53B0  2020-12-07 04:26:15   purchase     4.99\n",
       "8           8  B5FA27F582227197  2020-12-07 01:46:37   purchase     4.99\n",
       "9           9  A92195E3CFB83DBD  2020-12-07 00:32:07   purchase     4.99"
      ]
     },
     "execution_count": 124,
     "metadata": {},
     "output_type": "execute_result"
    }
   ],
   "source": [
    "ab_new_events_df.head(10)"
   ]
  },
  {
   "cell_type": "code",
   "execution_count": 125,
   "metadata": {},
   "outputs": [
    {
     "data": {
      "text/plain": [
       "0"
      ]
     },
     "execution_count": 125,
     "metadata": {},
     "output_type": "execute_result"
    }
   ],
   "source": [
    "ab_new_events_df.duplicated().sum()"
   ]
  },
  {
   "cell_type": "code",
   "execution_count": 126,
   "metadata": {},
   "outputs": [
    {
     "data": {
      "text/plain": [
       "A3917F81482141F2    36\n",
       "8AEB716C4CD82CA7    32\n",
       "426330B820B8711A    32\n",
       "BA87FD8D70D63CC6    32\n",
       "11285A53EC2B2042    32\n",
       "                    ..\n",
       "DE755BE0D83CF729     1\n",
       "5F55C1716703C6D0     1\n",
       "756910FEB8E6E104     1\n",
       "14A28942B782F678     1\n",
       "031060788BD3E254     1\n",
       "Name: user_id, Length: 58703, dtype: int64"
      ]
     },
     "execution_count": 126,
     "metadata": {},
     "output_type": "execute_result"
    }
   ],
   "source": [
    "ab_new_events_df['user_id'].value_counts()"
   ]
  },
  {
   "cell_type": "markdown",
   "metadata": {},
   "source": [
    "<b> There are 58703 unique users .More than 1 event associated with each user."
   ]
  },
  {
   "cell_type": "code",
   "execution_count": 127,
   "metadata": {},
   "outputs": [
    {
     "data": {
      "text/plain": [
       "login           182465\n",
       "product_page    120862\n",
       "purchase         60314\n",
       "product_cart     60120\n",
       "Name: event_name, dtype: int64"
      ]
     },
     "execution_count": 127,
     "metadata": {},
     "output_type": "execute_result"
    }
   ],
   "source": [
    "ab_new_events_df['event_name'].value_counts()"
   ]
  },
  {
   "cell_type": "markdown",
   "metadata": {},
   "source": [
    "<b>From the above analysis , we see that details are available only for purchase(price) .Since all  \n",
    "other events do not have price , will fill the missing values  with 0."
   ]
  },
  {
   "cell_type": "code",
   "execution_count": 128,
   "metadata": {
    "scrolled": true
   },
   "outputs": [
    {
     "name": "stdout",
     "output_type": "stream",
     "text": [
      "<class 'pandas.core.frame.DataFrame'>\n",
      "RangeIndex: 423761 entries, 0 to 423760\n",
      "Data columns (total 5 columns):\n",
      " #   Column      Non-Null Count   Dtype  \n",
      "---  ------      --------------   -----  \n",
      " 0   Unnamed: 0  423761 non-null  int64  \n",
      " 1   user_id     423761 non-null  object \n",
      " 2   event_dt    423761 non-null  object \n",
      " 3   event_name  423761 non-null  object \n",
      " 4   details     423761 non-null  float64\n",
      "dtypes: float64(1), int64(1), object(3)\n",
      "memory usage: 16.2+ MB\n"
     ]
    }
   ],
   "source": [
    "ab_new_events_df=ab_new_events_df.fillna(0)\n",
    "ab_new_events_df.info()"
   ]
  },
  {
   "cell_type": "markdown",
   "metadata": {},
   "source": [
    "<b>Checking for the duplicates."
   ]
  },
  {
   "cell_type": "code",
   "execution_count": 129,
   "metadata": {},
   "outputs": [
    {
     "data": {
      "text/plain": [
       "0"
      ]
     },
     "execution_count": 129,
     "metadata": {},
     "output_type": "execute_result"
    }
   ],
   "source": [
    "marketing_events_df.duplicated().sum()"
   ]
  },
  {
   "cell_type": "code",
   "execution_count": 130,
   "metadata": {},
   "outputs": [
    {
     "data": {
      "text/plain": [
       "0"
      ]
     },
     "execution_count": 130,
     "metadata": {},
     "output_type": "execute_result"
    }
   ],
   "source": [
    "ab_new_users_df.duplicated().sum()"
   ]
  },
  {
   "cell_type": "code",
   "execution_count": 131,
   "metadata": {},
   "outputs": [
    {
     "data": {
      "text/plain": [
       "0"
      ]
     },
     "execution_count": 131,
     "metadata": {},
     "output_type": "execute_result"
    }
   ],
   "source": [
    "ab_new_events_df.duplicated().sum()"
   ]
  },
  {
   "cell_type": "code",
   "execution_count": 132,
   "metadata": {},
   "outputs": [
    {
     "data": {
      "text/plain": [
       "0"
      ]
     },
     "execution_count": 132,
     "metadata": {},
     "output_type": "execute_result"
    }
   ],
   "source": [
    "ab_new_participants_df.duplicated().sum()"
   ]
  },
  {
   "cell_type": "markdown",
   "metadata": {},
   "source": [
    "<a id='eda'>"
   ]
  },
  {
   "cell_type": "markdown",
   "metadata": {},
   "source": [
    "<b>We don't see any duplicates in the given data."
   ]
  },
  {
   "cell_type": "markdown",
   "metadata": {},
   "source": [
    "***Intermediate Conclusion***  \n",
    " <b> Analysing all the available datasets and preprocessing , our dataset is free from missing values \n",
    "  and duplicates."
   ]
  },
  {
   "cell_type": "markdown",
   "metadata": {},
   "source": [
    "## Exploratory Data Analysis"
   ]
  },
  {
   "cell_type": "code",
   "execution_count": 133,
   "metadata": {},
   "outputs": [
    {
     "data": {
      "text/html": [
       "<div>\n",
       "<style scoped>\n",
       "    .dataframe tbody tr th:only-of-type {\n",
       "        vertical-align: middle;\n",
       "    }\n",
       "\n",
       "    .dataframe tbody tr th {\n",
       "        vertical-align: top;\n",
       "    }\n",
       "\n",
       "    .dataframe thead th {\n",
       "        text-align: right;\n",
       "    }\n",
       "</style>\n",
       "<table border=\"1\" class=\"dataframe\">\n",
       "  <thead>\n",
       "    <tr style=\"text-align: right;\">\n",
       "      <th></th>\n",
       "      <th>Unnamed: 0</th>\n",
       "      <th>user_id</th>\n",
       "      <th>event_dt</th>\n",
       "      <th>event_name</th>\n",
       "      <th>details</th>\n",
       "    </tr>\n",
       "  </thead>\n",
       "  <tbody>\n",
       "    <tr>\n",
       "      <th>0</th>\n",
       "      <td>0</td>\n",
       "      <td>E1BDDCE0DAFA2679</td>\n",
       "      <td>2020-12-07 20:22:03</td>\n",
       "      <td>purchase</td>\n",
       "      <td>99.99</td>\n",
       "    </tr>\n",
       "    <tr>\n",
       "      <th>1</th>\n",
       "      <td>1</td>\n",
       "      <td>7B6452F081F49504</td>\n",
       "      <td>2020-12-07 09:22:53</td>\n",
       "      <td>purchase</td>\n",
       "      <td>9.99</td>\n",
       "    </tr>\n",
       "    <tr>\n",
       "      <th>2</th>\n",
       "      <td>2</td>\n",
       "      <td>9CD9F34546DF254C</td>\n",
       "      <td>2020-12-07 12:59:29</td>\n",
       "      <td>purchase</td>\n",
       "      <td>4.99</td>\n",
       "    </tr>\n",
       "    <tr>\n",
       "      <th>3</th>\n",
       "      <td>3</td>\n",
       "      <td>96F27A054B191457</td>\n",
       "      <td>2020-12-07 04:02:40</td>\n",
       "      <td>purchase</td>\n",
       "      <td>4.99</td>\n",
       "    </tr>\n",
       "    <tr>\n",
       "      <th>4</th>\n",
       "      <td>4</td>\n",
       "      <td>1FD7660FDF94CA1F</td>\n",
       "      <td>2020-12-07 10:15:09</td>\n",
       "      <td>purchase</td>\n",
       "      <td>4.99</td>\n",
       "    </tr>\n",
       "  </tbody>\n",
       "</table>\n",
       "</div>"
      ],
      "text/plain": [
       "   Unnamed: 0           user_id             event_dt event_name  details\n",
       "0           0  E1BDDCE0DAFA2679  2020-12-07 20:22:03   purchase    99.99\n",
       "1           1  7B6452F081F49504  2020-12-07 09:22:53   purchase     9.99\n",
       "2           2  9CD9F34546DF254C  2020-12-07 12:59:29   purchase     4.99\n",
       "3           3  96F27A054B191457  2020-12-07 04:02:40   purchase     4.99\n",
       "4           4  1FD7660FDF94CA1F  2020-12-07 10:15:09   purchase     4.99"
      ]
     },
     "execution_count": 133,
     "metadata": {},
     "output_type": "execute_result"
    }
   ],
   "source": [
    "ab_new_events_df.head()"
   ]
  },
  {
   "cell_type": "code",
   "execution_count": 134,
   "metadata": {},
   "outputs": [],
   "source": [
    "#adding a new date column\n",
    "ab_new_events_df['event_date'] = pd.to_datetime(ab_new_events_df['event_dt']).dt.date"
   ]
  },
  {
   "cell_type": "code",
   "execution_count": 135,
   "metadata": {},
   "outputs": [
    {
     "data": {
      "text/html": [
       "<div>\n",
       "<style scoped>\n",
       "    .dataframe tbody tr th:only-of-type {\n",
       "        vertical-align: middle;\n",
       "    }\n",
       "\n",
       "    .dataframe tbody tr th {\n",
       "        vertical-align: top;\n",
       "    }\n",
       "\n",
       "    .dataframe thead th {\n",
       "        text-align: right;\n",
       "    }\n",
       "</style>\n",
       "<table border=\"1\" class=\"dataframe\">\n",
       "  <thead>\n",
       "    <tr style=\"text-align: right;\">\n",
       "      <th></th>\n",
       "      <th>Unnamed: 0</th>\n",
       "      <th>user_id</th>\n",
       "      <th>event_dt</th>\n",
       "      <th>event_name</th>\n",
       "      <th>details</th>\n",
       "      <th>event_date</th>\n",
       "    </tr>\n",
       "  </thead>\n",
       "  <tbody>\n",
       "    <tr>\n",
       "      <th>0</th>\n",
       "      <td>0</td>\n",
       "      <td>E1BDDCE0DAFA2679</td>\n",
       "      <td>2020-12-07 20:22:03</td>\n",
       "      <td>purchase</td>\n",
       "      <td>99.99</td>\n",
       "      <td>2020-12-07</td>\n",
       "    </tr>\n",
       "    <tr>\n",
       "      <th>1</th>\n",
       "      <td>1</td>\n",
       "      <td>7B6452F081F49504</td>\n",
       "      <td>2020-12-07 09:22:53</td>\n",
       "      <td>purchase</td>\n",
       "      <td>9.99</td>\n",
       "      <td>2020-12-07</td>\n",
       "    </tr>\n",
       "    <tr>\n",
       "      <th>2</th>\n",
       "      <td>2</td>\n",
       "      <td>9CD9F34546DF254C</td>\n",
       "      <td>2020-12-07 12:59:29</td>\n",
       "      <td>purchase</td>\n",
       "      <td>4.99</td>\n",
       "      <td>2020-12-07</td>\n",
       "    </tr>\n",
       "    <tr>\n",
       "      <th>3</th>\n",
       "      <td>3</td>\n",
       "      <td>96F27A054B191457</td>\n",
       "      <td>2020-12-07 04:02:40</td>\n",
       "      <td>purchase</td>\n",
       "      <td>4.99</td>\n",
       "      <td>2020-12-07</td>\n",
       "    </tr>\n",
       "    <tr>\n",
       "      <th>4</th>\n",
       "      <td>4</td>\n",
       "      <td>1FD7660FDF94CA1F</td>\n",
       "      <td>2020-12-07 10:15:09</td>\n",
       "      <td>purchase</td>\n",
       "      <td>4.99</td>\n",
       "      <td>2020-12-07</td>\n",
       "    </tr>\n",
       "  </tbody>\n",
       "</table>\n",
       "</div>"
      ],
      "text/plain": [
       "   Unnamed: 0           user_id             event_dt event_name  details  \\\n",
       "0           0  E1BDDCE0DAFA2679  2020-12-07 20:22:03   purchase    99.99   \n",
       "1           1  7B6452F081F49504  2020-12-07 09:22:53   purchase     9.99   \n",
       "2           2  9CD9F34546DF254C  2020-12-07 12:59:29   purchase     4.99   \n",
       "3           3  96F27A054B191457  2020-12-07 04:02:40   purchase     4.99   \n",
       "4           4  1FD7660FDF94CA1F  2020-12-07 10:15:09   purchase     4.99   \n",
       "\n",
       "   event_date  \n",
       "0  2020-12-07  \n",
       "1  2020-12-07  \n",
       "2  2020-12-07  \n",
       "3  2020-12-07  \n",
       "4  2020-12-07  "
      ]
     },
     "execution_count": 135,
     "metadata": {},
     "output_type": "execute_result"
    }
   ],
   "source": [
    "ab_new_events_df.head()"
   ]
  },
  {
   "cell_type": "code",
   "execution_count": 136,
   "metadata": {},
   "outputs": [
    {
     "data": {
      "text/plain": [
       "0         2020-12-07\n",
       "1         2020-12-07\n",
       "2         2020-12-07\n",
       "3         2020-12-07\n",
       "4         2020-12-07\n",
       "             ...    \n",
       "423756    2020-12-30\n",
       "423757    2020-12-30\n",
       "423758    2020-12-30\n",
       "423759    2020-12-30\n",
       "423760    2020-12-30\n",
       "Name: event_date, Length: 423761, dtype: object"
      ]
     },
     "execution_count": 136,
     "metadata": {},
     "output_type": "execute_result"
    }
   ],
   "source": [
    "ab_new_events_df['event_date']"
   ]
  },
  {
   "cell_type": "markdown",
   "metadata": {},
   "source": [
    "<b>We have user events from 7th Dec to 30th Dec2020."
   ]
  },
  {
   "cell_type": "code",
   "execution_count": 137,
   "metadata": {},
   "outputs": [
    {
     "data": {
      "text/html": [
       "<div>\n",
       "<style scoped>\n",
       "    .dataframe tbody tr th:only-of-type {\n",
       "        vertical-align: middle;\n",
       "    }\n",
       "\n",
       "    .dataframe tbody tr th {\n",
       "        vertical-align: top;\n",
       "    }\n",
       "\n",
       "    .dataframe thead th {\n",
       "        text-align: right;\n",
       "    }\n",
       "</style>\n",
       "<table border=\"1\" class=\"dataframe\">\n",
       "  <thead>\n",
       "    <tr style=\"text-align: right;\">\n",
       "      <th></th>\n",
       "      <th>Unnamed: 0</th>\n",
       "      <th>user_id</th>\n",
       "      <th>first_date</th>\n",
       "      <th>region</th>\n",
       "      <th>device</th>\n",
       "    </tr>\n",
       "  </thead>\n",
       "  <tbody>\n",
       "    <tr>\n",
       "      <th>0</th>\n",
       "      <td>0</td>\n",
       "      <td>D72A72121175D8BE</td>\n",
       "      <td>2020-12-07</td>\n",
       "      <td>EU</td>\n",
       "      <td>PC</td>\n",
       "    </tr>\n",
       "    <tr>\n",
       "      <th>1</th>\n",
       "      <td>1</td>\n",
       "      <td>F1C668619DFE6E65</td>\n",
       "      <td>2020-12-07</td>\n",
       "      <td>N.America</td>\n",
       "      <td>Android</td>\n",
       "    </tr>\n",
       "    <tr>\n",
       "      <th>2</th>\n",
       "      <td>2</td>\n",
       "      <td>2E1BF1D4C37EA01F</td>\n",
       "      <td>2020-12-07</td>\n",
       "      <td>EU</td>\n",
       "      <td>PC</td>\n",
       "    </tr>\n",
       "    <tr>\n",
       "      <th>3</th>\n",
       "      <td>3</td>\n",
       "      <td>50734A22C0C63768</td>\n",
       "      <td>2020-12-07</td>\n",
       "      <td>EU</td>\n",
       "      <td>iPhone</td>\n",
       "    </tr>\n",
       "    <tr>\n",
       "      <th>4</th>\n",
       "      <td>4</td>\n",
       "      <td>E1BDDCE0DAFA2679</td>\n",
       "      <td>2020-12-07</td>\n",
       "      <td>N.America</td>\n",
       "      <td>iPhone</td>\n",
       "    </tr>\n",
       "  </tbody>\n",
       "</table>\n",
       "</div>"
      ],
      "text/plain": [
       "   Unnamed: 0           user_id  first_date     region   device\n",
       "0           0  D72A72121175D8BE  2020-12-07         EU       PC\n",
       "1           1  F1C668619DFE6E65  2020-12-07  N.America  Android\n",
       "2           2  2E1BF1D4C37EA01F  2020-12-07         EU       PC\n",
       "3           3  50734A22C0C63768  2020-12-07         EU   iPhone\n",
       "4           4  E1BDDCE0DAFA2679  2020-12-07  N.America   iPhone"
      ]
     },
     "execution_count": 137,
     "metadata": {},
     "output_type": "execute_result"
    }
   ],
   "source": [
    "ab_new_users_df.head()"
   ]
  },
  {
   "cell_type": "markdown",
   "metadata": {},
   "source": [
    "### Preparing data based on technical description"
   ]
  },
  {
   "cell_type": "code",
   "execution_count": 138,
   "metadata": {},
   "outputs": [
    {
     "data": {
      "text/html": [
       "<div>\n",
       "<style scoped>\n",
       "    .dataframe tbody tr th:only-of-type {\n",
       "        vertical-align: middle;\n",
       "    }\n",
       "\n",
       "    .dataframe tbody tr th {\n",
       "        vertical-align: top;\n",
       "    }\n",
       "\n",
       "    .dataframe thead th {\n",
       "        text-align: right;\n",
       "    }\n",
       "</style>\n",
       "<table border=\"1\" class=\"dataframe\">\n",
       "  <thead>\n",
       "    <tr style=\"text-align: right;\">\n",
       "      <th></th>\n",
       "      <th>user_id</th>\n",
       "      <th>event_date</th>\n",
       "      <th>login</th>\n",
       "      <th>product_cart</th>\n",
       "      <th>product_page</th>\n",
       "      <th>purchase</th>\n",
       "    </tr>\n",
       "  </thead>\n",
       "  <tbody>\n",
       "    <tr>\n",
       "      <th>0</th>\n",
       "      <td>0001710F4DDB1D1B</td>\n",
       "      <td>2020-12-14</td>\n",
       "      <td>2020-12-14 20:20:40</td>\n",
       "      <td>2020-12-14 20:20:42</td>\n",
       "      <td>2020-12-14 20:20:41</td>\n",
       "      <td>NaN</td>\n",
       "    </tr>\n",
       "    <tr>\n",
       "      <th>1</th>\n",
       "      <td>0001710F4DDB1D1B</td>\n",
       "      <td>2020-12-15</td>\n",
       "      <td>2020-12-15 17:34:22</td>\n",
       "      <td>2020-12-15 17:34:25</td>\n",
       "      <td>2020-12-15 17:34:23</td>\n",
       "      <td>NaN</td>\n",
       "    </tr>\n",
       "    <tr>\n",
       "      <th>2</th>\n",
       "      <td>000199F1887AE5E6</td>\n",
       "      <td>2020-12-14</td>\n",
       "      <td>2020-12-14 09:56:09</td>\n",
       "      <td>2020-12-14 09:56:11</td>\n",
       "      <td>2020-12-14 09:56:09</td>\n",
       "      <td>2020-12-14 09:56:09</td>\n",
       "    </tr>\n",
       "    <tr>\n",
       "      <th>3</th>\n",
       "      <td>000199F1887AE5E6</td>\n",
       "      <td>2020-12-15</td>\n",
       "      <td>2020-12-15 07:22:56</td>\n",
       "      <td>2020-12-15 07:22:56</td>\n",
       "      <td>2020-12-15 07:22:56</td>\n",
       "      <td>2020-12-15 07:22:56</td>\n",
       "    </tr>\n",
       "    <tr>\n",
       "      <th>4</th>\n",
       "      <td>000199F1887AE5E6</td>\n",
       "      <td>2020-12-20</td>\n",
       "      <td>2020-12-20 06:36:35</td>\n",
       "      <td>2020-12-20 06:36:35</td>\n",
       "      <td>2020-12-20 06:36:36</td>\n",
       "      <td>2020-12-20 06:36:35</td>\n",
       "    </tr>\n",
       "  </tbody>\n",
       "</table>\n",
       "</div>"
      ],
      "text/plain": [
       "            user_id  event_date                login         product_cart  \\\n",
       "0  0001710F4DDB1D1B  2020-12-14  2020-12-14 20:20:40  2020-12-14 20:20:42   \n",
       "1  0001710F4DDB1D1B  2020-12-15  2020-12-15 17:34:22  2020-12-15 17:34:25   \n",
       "2  000199F1887AE5E6  2020-12-14  2020-12-14 09:56:09  2020-12-14 09:56:11   \n",
       "3  000199F1887AE5E6  2020-12-15  2020-12-15 07:22:56  2020-12-15 07:22:56   \n",
       "4  000199F1887AE5E6  2020-12-20  2020-12-20 06:36:35  2020-12-20 06:36:35   \n",
       "\n",
       "          product_page             purchase  \n",
       "0  2020-12-14 20:20:41                  NaN  \n",
       "1  2020-12-15 17:34:23                  NaN  \n",
       "2  2020-12-14 09:56:09  2020-12-14 09:56:09  \n",
       "3  2020-12-15 07:22:56  2020-12-15 07:22:56  \n",
       "4  2020-12-20 06:36:36  2020-12-20 06:36:35  "
      ]
     },
     "execution_count": 138,
     "metadata": {},
     "output_type": "execute_result"
    }
   ],
   "source": [
    "# number of events distributed among each user\n",
    "users = ab_new_events_df.pivot_table(\n",
    "    index=('user_id','event_date'), \n",
    "    columns='event_name', \n",
    "    values='event_dt',\n",
    "    aggfunc='min').reset_index().rename_axis(index=None, columns=None)\n",
    "users.head()"
   ]
  },
  {
   "cell_type": "code",
   "execution_count": 139,
   "metadata": {},
   "outputs": [],
   "source": [
    "users.index.name=None\n",
    "new_cols=['user_id','event_date','login','product_page','product_cart','purchase']\n",
    "users=users[new_cols]"
   ]
  },
  {
   "cell_type": "code",
   "execution_count": 140,
   "metadata": {},
   "outputs": [
    {
     "data": {
      "text/html": [
       "<div>\n",
       "<style scoped>\n",
       "    .dataframe tbody tr th:only-of-type {\n",
       "        vertical-align: middle;\n",
       "    }\n",
       "\n",
       "    .dataframe tbody tr th {\n",
       "        vertical-align: top;\n",
       "    }\n",
       "\n",
       "    .dataframe thead th {\n",
       "        text-align: right;\n",
       "    }\n",
       "</style>\n",
       "<table border=\"1\" class=\"dataframe\">\n",
       "  <thead>\n",
       "    <tr style=\"text-align: right;\">\n",
       "      <th></th>\n",
       "      <th>user_id</th>\n",
       "      <th>event_date</th>\n",
       "      <th>login</th>\n",
       "      <th>product_page</th>\n",
       "      <th>product_cart</th>\n",
       "      <th>purchase</th>\n",
       "    </tr>\n",
       "  </thead>\n",
       "  <tbody>\n",
       "    <tr>\n",
       "      <th>0</th>\n",
       "      <td>0001710F4DDB1D1B</td>\n",
       "      <td>2020-12-14</td>\n",
       "      <td>2020-12-14 20:20:40</td>\n",
       "      <td>2020-12-14 20:20:41</td>\n",
       "      <td>2020-12-14 20:20:42</td>\n",
       "      <td>NaN</td>\n",
       "    </tr>\n",
       "    <tr>\n",
       "      <th>1</th>\n",
       "      <td>0001710F4DDB1D1B</td>\n",
       "      <td>2020-12-15</td>\n",
       "      <td>2020-12-15 17:34:22</td>\n",
       "      <td>2020-12-15 17:34:23</td>\n",
       "      <td>2020-12-15 17:34:25</td>\n",
       "      <td>NaN</td>\n",
       "    </tr>\n",
       "    <tr>\n",
       "      <th>2</th>\n",
       "      <td>000199F1887AE5E6</td>\n",
       "      <td>2020-12-14</td>\n",
       "      <td>2020-12-14 09:56:09</td>\n",
       "      <td>2020-12-14 09:56:09</td>\n",
       "      <td>2020-12-14 09:56:11</td>\n",
       "      <td>2020-12-14 09:56:09</td>\n",
       "    </tr>\n",
       "    <tr>\n",
       "      <th>3</th>\n",
       "      <td>000199F1887AE5E6</td>\n",
       "      <td>2020-12-15</td>\n",
       "      <td>2020-12-15 07:22:56</td>\n",
       "      <td>2020-12-15 07:22:56</td>\n",
       "      <td>2020-12-15 07:22:56</td>\n",
       "      <td>2020-12-15 07:22:56</td>\n",
       "    </tr>\n",
       "    <tr>\n",
       "      <th>4</th>\n",
       "      <td>000199F1887AE5E6</td>\n",
       "      <td>2020-12-20</td>\n",
       "      <td>2020-12-20 06:36:35</td>\n",
       "      <td>2020-12-20 06:36:36</td>\n",
       "      <td>2020-12-20 06:36:35</td>\n",
       "      <td>2020-12-20 06:36:35</td>\n",
       "    </tr>\n",
       "  </tbody>\n",
       "</table>\n",
       "</div>"
      ],
      "text/plain": [
       "            user_id  event_date                login         product_page  \\\n",
       "0  0001710F4DDB1D1B  2020-12-14  2020-12-14 20:20:40  2020-12-14 20:20:41   \n",
       "1  0001710F4DDB1D1B  2020-12-15  2020-12-15 17:34:22  2020-12-15 17:34:23   \n",
       "2  000199F1887AE5E6  2020-12-14  2020-12-14 09:56:09  2020-12-14 09:56:09   \n",
       "3  000199F1887AE5E6  2020-12-15  2020-12-15 07:22:56  2020-12-15 07:22:56   \n",
       "4  000199F1887AE5E6  2020-12-20  2020-12-20 06:36:35  2020-12-20 06:36:36   \n",
       "\n",
       "          product_cart             purchase  \n",
       "0  2020-12-14 20:20:42                  NaN  \n",
       "1  2020-12-15 17:34:25                  NaN  \n",
       "2  2020-12-14 09:56:11  2020-12-14 09:56:09  \n",
       "3  2020-12-15 07:22:56  2020-12-15 07:22:56  \n",
       "4  2020-12-20 06:36:35  2020-12-20 06:36:35  "
      ]
     },
     "execution_count": 140,
     "metadata": {},
     "output_type": "execute_result"
    }
   ],
   "source": [
    "users.head()"
   ]
  },
  {
   "cell_type": "code",
   "execution_count": 141,
   "metadata": {},
   "outputs": [
    {
     "data": {
      "text/plain": [
       "2020-12-21    6077\n",
       "2020-12-14    5448\n",
       "2020-12-07    5291\n",
       "2020-12-13    4181\n",
       "2020-12-20    4140\n",
       "2020-12-12    3591\n",
       "2020-12-19    3480\n",
       "2020-12-18    3238\n",
       "2020-12-22    3083\n",
       "2020-12-08    3017\n",
       "2020-12-17    2940\n",
       "2020-12-15    2924\n",
       "2020-12-10    2784\n",
       "2020-12-11    2226\n",
       "2020-12-23    2180\n",
       "2020-12-16    2093\n",
       "2020-12-09    2010\n",
       "Name: first_date, dtype: int64"
      ]
     },
     "execution_count": 141,
     "metadata": {},
     "output_type": "execute_result"
    }
   ],
   "source": [
    "ab_new_users_df['first_date'].value_counts()"
   ]
  },
  {
   "cell_type": "markdown",
   "metadata": {},
   "source": [
    "<b>We see around 3083  new users on Dec22 and also some on Dec23.  \n",
    "Since new users after 21st Dec are stopped , we will filter those data."
   ]
  },
  {
   "cell_type": "markdown",
   "metadata": {},
   "source": [
    "#### filtering new user sign up after 21st Dec 2020"
   ]
  },
  {
   "cell_type": "code",
   "execution_count": 142,
   "metadata": {},
   "outputs": [
    {
     "data": {
      "text/html": [
       "<div>\n",
       "<style scoped>\n",
       "    .dataframe tbody tr th:only-of-type {\n",
       "        vertical-align: middle;\n",
       "    }\n",
       "\n",
       "    .dataframe tbody tr th {\n",
       "        vertical-align: top;\n",
       "    }\n",
       "\n",
       "    .dataframe thead th {\n",
       "        text-align: right;\n",
       "    }\n",
       "</style>\n",
       "<table border=\"1\" class=\"dataframe\">\n",
       "  <thead>\n",
       "    <tr style=\"text-align: right;\">\n",
       "      <th></th>\n",
       "      <th>Unnamed: 0</th>\n",
       "      <th>user_id</th>\n",
       "      <th>first_date</th>\n",
       "      <th>region</th>\n",
       "      <th>device</th>\n",
       "    </tr>\n",
       "  </thead>\n",
       "  <tbody>\n",
       "    <tr>\n",
       "      <th>0</th>\n",
       "      <td>0</td>\n",
       "      <td>D72A72121175D8BE</td>\n",
       "      <td>2020-12-07</td>\n",
       "      <td>EU</td>\n",
       "      <td>PC</td>\n",
       "    </tr>\n",
       "    <tr>\n",
       "      <th>1</th>\n",
       "      <td>1</td>\n",
       "      <td>F1C668619DFE6E65</td>\n",
       "      <td>2020-12-07</td>\n",
       "      <td>N.America</td>\n",
       "      <td>Android</td>\n",
       "    </tr>\n",
       "    <tr>\n",
       "      <th>2</th>\n",
       "      <td>2</td>\n",
       "      <td>2E1BF1D4C37EA01F</td>\n",
       "      <td>2020-12-07</td>\n",
       "      <td>EU</td>\n",
       "      <td>PC</td>\n",
       "    </tr>\n",
       "    <tr>\n",
       "      <th>3</th>\n",
       "      <td>3</td>\n",
       "      <td>50734A22C0C63768</td>\n",
       "      <td>2020-12-07</td>\n",
       "      <td>EU</td>\n",
       "      <td>iPhone</td>\n",
       "    </tr>\n",
       "    <tr>\n",
       "      <th>4</th>\n",
       "      <td>4</td>\n",
       "      <td>E1BDDCE0DAFA2679</td>\n",
       "      <td>2020-12-07</td>\n",
       "      <td>N.America</td>\n",
       "      <td>iPhone</td>\n",
       "    </tr>\n",
       "  </tbody>\n",
       "</table>\n",
       "</div>"
      ],
      "text/plain": [
       "   Unnamed: 0           user_id  first_date     region   device\n",
       "0           0  D72A72121175D8BE  2020-12-07         EU       PC\n",
       "1           1  F1C668619DFE6E65  2020-12-07  N.America  Android\n",
       "2           2  2E1BF1D4C37EA01F  2020-12-07         EU       PC\n",
       "3           3  50734A22C0C63768  2020-12-07         EU   iPhone\n",
       "4           4  E1BDDCE0DAFA2679  2020-12-07  N.America   iPhone"
      ]
     },
     "execution_count": 142,
     "metadata": {},
     "output_type": "execute_result"
    }
   ],
   "source": [
    "#filtering new users till 21dec2020\n",
    "ab_new_users_df=ab_new_users_df[ab_new_users_df['first_date'] < '2020-12-22']\n",
    "ab_new_users_df.head()"
   ]
  },
  {
   "cell_type": "markdown",
   "metadata": {},
   "source": [
    "#### Filtering first 14 days of signing up"
   ]
  },
  {
   "cell_type": "code",
   "execution_count": 143,
   "metadata": {},
   "outputs": [
    {
     "data": {
      "text/plain": [
       "2020-12-21    6077\n",
       "2020-12-14    5448\n",
       "2020-12-07    5291\n",
       "2020-12-13    4181\n",
       "2020-12-20    4140\n",
       "2020-12-12    3591\n",
       "2020-12-19    3480\n",
       "2020-12-18    3238\n",
       "2020-12-08    3017\n",
       "2020-12-17    2940\n",
       "2020-12-15    2924\n",
       "2020-12-10    2784\n",
       "2020-12-11    2226\n",
       "2020-12-16    2093\n",
       "2020-12-09    2010\n",
       "Name: first_date, dtype: int64"
      ]
     },
     "execution_count": 143,
     "metadata": {},
     "output_type": "execute_result"
    }
   ],
   "source": [
    "ab_new_users_df['first_date'].value_counts()"
   ]
  },
  {
   "cell_type": "code",
   "execution_count": 144,
   "metadata": {},
   "outputs": [
    {
     "data": {
      "text/html": [
       "<div>\n",
       "<style scoped>\n",
       "    .dataframe tbody tr th:only-of-type {\n",
       "        vertical-align: middle;\n",
       "    }\n",
       "\n",
       "    .dataframe tbody tr th {\n",
       "        vertical-align: top;\n",
       "    }\n",
       "\n",
       "    .dataframe thead th {\n",
       "        text-align: right;\n",
       "    }\n",
       "</style>\n",
       "<table border=\"1\" class=\"dataframe\">\n",
       "  <thead>\n",
       "    <tr style=\"text-align: right;\">\n",
       "      <th></th>\n",
       "      <th>user_id</th>\n",
       "      <th>event_date</th>\n",
       "      <th>login</th>\n",
       "      <th>product_page</th>\n",
       "      <th>product_cart</th>\n",
       "      <th>purchase</th>\n",
       "      <th>Unnamed: 0</th>\n",
       "      <th>first_date</th>\n",
       "      <th>region</th>\n",
       "      <th>device</th>\n",
       "    </tr>\n",
       "  </thead>\n",
       "  <tbody>\n",
       "    <tr>\n",
       "      <th>0</th>\n",
       "      <td>0001710F4DDB1D1B</td>\n",
       "      <td>2020-12-14</td>\n",
       "      <td>2020-12-14 20:20:40</td>\n",
       "      <td>2020-12-14 20:20:41</td>\n",
       "      <td>2020-12-14 20:20:42</td>\n",
       "      <td>NaN</td>\n",
       "      <td>7000</td>\n",
       "      <td>2020-12-14</td>\n",
       "      <td>EU</td>\n",
       "      <td>Android</td>\n",
       "    </tr>\n",
       "    <tr>\n",
       "      <th>1</th>\n",
       "      <td>0001710F4DDB1D1B</td>\n",
       "      <td>2020-12-15</td>\n",
       "      <td>2020-12-15 17:34:22</td>\n",
       "      <td>2020-12-15 17:34:23</td>\n",
       "      <td>2020-12-15 17:34:25</td>\n",
       "      <td>NaN</td>\n",
       "      <td>7000</td>\n",
       "      <td>2020-12-14</td>\n",
       "      <td>EU</td>\n",
       "      <td>Android</td>\n",
       "    </tr>\n",
       "    <tr>\n",
       "      <th>2</th>\n",
       "      <td>000199F1887AE5E6</td>\n",
       "      <td>2020-12-14</td>\n",
       "      <td>2020-12-14 09:56:09</td>\n",
       "      <td>2020-12-14 09:56:09</td>\n",
       "      <td>2020-12-14 09:56:11</td>\n",
       "      <td>2020-12-14 09:56:09</td>\n",
       "      <td>8918</td>\n",
       "      <td>2020-12-14</td>\n",
       "      <td>EU</td>\n",
       "      <td>Android</td>\n",
       "    </tr>\n",
       "    <tr>\n",
       "      <th>3</th>\n",
       "      <td>000199F1887AE5E6</td>\n",
       "      <td>2020-12-15</td>\n",
       "      <td>2020-12-15 07:22:56</td>\n",
       "      <td>2020-12-15 07:22:56</td>\n",
       "      <td>2020-12-15 07:22:56</td>\n",
       "      <td>2020-12-15 07:22:56</td>\n",
       "      <td>8918</td>\n",
       "      <td>2020-12-14</td>\n",
       "      <td>EU</td>\n",
       "      <td>Android</td>\n",
       "    </tr>\n",
       "    <tr>\n",
       "      <th>4</th>\n",
       "      <td>000199F1887AE5E6</td>\n",
       "      <td>2020-12-20</td>\n",
       "      <td>2020-12-20 06:36:35</td>\n",
       "      <td>2020-12-20 06:36:36</td>\n",
       "      <td>2020-12-20 06:36:35</td>\n",
       "      <td>2020-12-20 06:36:35</td>\n",
       "      <td>8918</td>\n",
       "      <td>2020-12-14</td>\n",
       "      <td>EU</td>\n",
       "      <td>Android</td>\n",
       "    </tr>\n",
       "  </tbody>\n",
       "</table>\n",
       "</div>"
      ],
      "text/plain": [
       "            user_id  event_date                login         product_page  \\\n",
       "0  0001710F4DDB1D1B  2020-12-14  2020-12-14 20:20:40  2020-12-14 20:20:41   \n",
       "1  0001710F4DDB1D1B  2020-12-15  2020-12-15 17:34:22  2020-12-15 17:34:23   \n",
       "2  000199F1887AE5E6  2020-12-14  2020-12-14 09:56:09  2020-12-14 09:56:09   \n",
       "3  000199F1887AE5E6  2020-12-15  2020-12-15 07:22:56  2020-12-15 07:22:56   \n",
       "4  000199F1887AE5E6  2020-12-20  2020-12-20 06:36:35  2020-12-20 06:36:36   \n",
       "\n",
       "          product_cart             purchase  Unnamed: 0  first_date region  \\\n",
       "0  2020-12-14 20:20:42                  NaN        7000  2020-12-14     EU   \n",
       "1  2020-12-15 17:34:25                  NaN        7000  2020-12-14     EU   \n",
       "2  2020-12-14 09:56:11  2020-12-14 09:56:09        8918  2020-12-14     EU   \n",
       "3  2020-12-15 07:22:56  2020-12-15 07:22:56        8918  2020-12-14     EU   \n",
       "4  2020-12-20 06:36:35  2020-12-20 06:36:35        8918  2020-12-14     EU   \n",
       "\n",
       "    device  \n",
       "0  Android  \n",
       "1  Android  \n",
       "2  Android  \n",
       "3  Android  \n",
       "4  Android  "
      ]
     },
     "execution_count": 144,
     "metadata": {},
     "output_type": "execute_result"
    }
   ],
   "source": [
    "#merge users with new_users_df to get first_date\n",
    "users=pd.merge(users,ab_new_users_df,on='user_id')\n",
    "users.head()"
   ]
  },
  {
   "cell_type": "code",
   "execution_count": 145,
   "metadata": {},
   "outputs": [
    {
     "data": {
      "text/plain": [
       "0"
      ]
     },
     "execution_count": 145,
     "metadata": {},
     "output_type": "execute_result"
    }
   ],
   "source": [
    "users.duplicated().sum()"
   ]
  },
  {
   "cell_type": "code",
   "execution_count": 146,
   "metadata": {},
   "outputs": [],
   "source": [
    "#converting 'first_date' from object to date \n",
    "users['first_date']=pd.to_datetime(users['first_date']).dt.date"
   ]
  },
  {
   "cell_type": "code",
   "execution_count": 147,
   "metadata": {},
   "outputs": [
    {
     "data": {
      "text/html": [
       "<div>\n",
       "<style scoped>\n",
       "    .dataframe tbody tr th:only-of-type {\n",
       "        vertical-align: middle;\n",
       "    }\n",
       "\n",
       "    .dataframe tbody tr th {\n",
       "        vertical-align: top;\n",
       "    }\n",
       "\n",
       "    .dataframe thead th {\n",
       "        text-align: right;\n",
       "    }\n",
       "</style>\n",
       "<table border=\"1\" class=\"dataframe\">\n",
       "  <thead>\n",
       "    <tr style=\"text-align: right;\">\n",
       "      <th></th>\n",
       "      <th>user_id</th>\n",
       "      <th>event_date</th>\n",
       "      <th>login</th>\n",
       "      <th>product_page</th>\n",
       "      <th>product_cart</th>\n",
       "      <th>purchase</th>\n",
       "      <th>Unnamed: 0</th>\n",
       "      <th>first_date</th>\n",
       "      <th>region</th>\n",
       "      <th>device</th>\n",
       "      <th>days</th>\n",
       "    </tr>\n",
       "  </thead>\n",
       "  <tbody>\n",
       "    <tr>\n",
       "      <th>0</th>\n",
       "      <td>0001710F4DDB1D1B</td>\n",
       "      <td>2020-12-14</td>\n",
       "      <td>2020-12-14 20:20:40</td>\n",
       "      <td>2020-12-14 20:20:41</td>\n",
       "      <td>2020-12-14 20:20:42</td>\n",
       "      <td>NaN</td>\n",
       "      <td>7000</td>\n",
       "      <td>2020-12-14</td>\n",
       "      <td>EU</td>\n",
       "      <td>Android</td>\n",
       "      <td>0</td>\n",
       "    </tr>\n",
       "    <tr>\n",
       "      <th>1</th>\n",
       "      <td>0001710F4DDB1D1B</td>\n",
       "      <td>2020-12-15</td>\n",
       "      <td>2020-12-15 17:34:22</td>\n",
       "      <td>2020-12-15 17:34:23</td>\n",
       "      <td>2020-12-15 17:34:25</td>\n",
       "      <td>NaN</td>\n",
       "      <td>7000</td>\n",
       "      <td>2020-12-14</td>\n",
       "      <td>EU</td>\n",
       "      <td>Android</td>\n",
       "      <td>1</td>\n",
       "    </tr>\n",
       "    <tr>\n",
       "      <th>2</th>\n",
       "      <td>000199F1887AE5E6</td>\n",
       "      <td>2020-12-14</td>\n",
       "      <td>2020-12-14 09:56:09</td>\n",
       "      <td>2020-12-14 09:56:09</td>\n",
       "      <td>2020-12-14 09:56:11</td>\n",
       "      <td>2020-12-14 09:56:09</td>\n",
       "      <td>8918</td>\n",
       "      <td>2020-12-14</td>\n",
       "      <td>EU</td>\n",
       "      <td>Android</td>\n",
       "      <td>0</td>\n",
       "    </tr>\n",
       "    <tr>\n",
       "      <th>3</th>\n",
       "      <td>000199F1887AE5E6</td>\n",
       "      <td>2020-12-15</td>\n",
       "      <td>2020-12-15 07:22:56</td>\n",
       "      <td>2020-12-15 07:22:56</td>\n",
       "      <td>2020-12-15 07:22:56</td>\n",
       "      <td>2020-12-15 07:22:56</td>\n",
       "      <td>8918</td>\n",
       "      <td>2020-12-14</td>\n",
       "      <td>EU</td>\n",
       "      <td>Android</td>\n",
       "      <td>1</td>\n",
       "    </tr>\n",
       "    <tr>\n",
       "      <th>4</th>\n",
       "      <td>000199F1887AE5E6</td>\n",
       "      <td>2020-12-20</td>\n",
       "      <td>2020-12-20 06:36:35</td>\n",
       "      <td>2020-12-20 06:36:36</td>\n",
       "      <td>2020-12-20 06:36:35</td>\n",
       "      <td>2020-12-20 06:36:35</td>\n",
       "      <td>8918</td>\n",
       "      <td>2020-12-14</td>\n",
       "      <td>EU</td>\n",
       "      <td>Android</td>\n",
       "      <td>6</td>\n",
       "    </tr>\n",
       "  </tbody>\n",
       "</table>\n",
       "</div>"
      ],
      "text/plain": [
       "            user_id  event_date                login         product_page  \\\n",
       "0  0001710F4DDB1D1B  2020-12-14  2020-12-14 20:20:40  2020-12-14 20:20:41   \n",
       "1  0001710F4DDB1D1B  2020-12-15  2020-12-15 17:34:22  2020-12-15 17:34:23   \n",
       "2  000199F1887AE5E6  2020-12-14  2020-12-14 09:56:09  2020-12-14 09:56:09   \n",
       "3  000199F1887AE5E6  2020-12-15  2020-12-15 07:22:56  2020-12-15 07:22:56   \n",
       "4  000199F1887AE5E6  2020-12-20  2020-12-20 06:36:35  2020-12-20 06:36:36   \n",
       "\n",
       "          product_cart             purchase  Unnamed: 0  first_date region  \\\n",
       "0  2020-12-14 20:20:42                  NaN        7000  2020-12-14     EU   \n",
       "1  2020-12-15 17:34:25                  NaN        7000  2020-12-14     EU   \n",
       "2  2020-12-14 09:56:11  2020-12-14 09:56:09        8918  2020-12-14     EU   \n",
       "3  2020-12-15 07:22:56  2020-12-15 07:22:56        8918  2020-12-14     EU   \n",
       "4  2020-12-20 06:36:35  2020-12-20 06:36:35        8918  2020-12-14     EU   \n",
       "\n",
       "    device  days  \n",
       "0  Android     0  \n",
       "1  Android     1  \n",
       "2  Android     0  \n",
       "3  Android     1  \n",
       "4  Android     6  "
      ]
     },
     "execution_count": 147,
     "metadata": {},
     "output_type": "execute_result"
    }
   ],
   "source": [
    "#calculating number of days since sign up\n",
    "users['days']=(users['event_date']-users['first_date'])/np.timedelta64(1, 'D')\n",
    "users['days']=users['days'].round().astype('int')\n",
    "users.head()"
   ]
  },
  {
   "cell_type": "code",
   "execution_count": 148,
   "metadata": {},
   "outputs": [
    {
     "data": {
      "text/plain": [
       "0     53180\n",
       "1     26521\n",
       "2     17750\n",
       "3     13111\n",
       "4      9348\n",
       "5      8144\n",
       "6      7177\n",
       "7      6073\n",
       "8      5609\n",
       "9      4605\n",
       "10     3583\n",
       "11     2771\n",
       "12     2458\n",
       "13     2094\n",
       "14     1911\n",
       "15     1591\n",
       "16     1128\n",
       "17      889\n",
       "19      624\n",
       "18      505\n",
       "20      479\n",
       "21      357\n",
       "22      226\n",
       "23       36\n",
       "Name: days, dtype: int64"
      ]
     },
     "execution_count": 148,
     "metadata": {},
     "output_type": "execute_result"
    }
   ],
   "source": [
    "users['days'].value_counts()"
   ]
  },
  {
   "cell_type": "code",
   "execution_count": 149,
   "metadata": {},
   "outputs": [
    {
     "data": {
      "text/plain": [
       "2020-12-21    14044\n",
       "2020-12-20    11366\n",
       "2020-12-14    11254\n",
       "2020-12-19    10427\n",
       "2020-12-15    10083\n",
       "2020-12-18     9883\n",
       "2020-12-22     9589\n",
       "2020-12-17     9360\n",
       "2020-12-13     9020\n",
       "2020-12-16     9004\n",
       "2020-12-12     7562\n",
       "2020-12-23     7492\n",
       "2020-12-24     6242\n",
       "2020-12-10     6045\n",
       "2020-12-11     6000\n",
       "2020-12-08     5496\n",
       "2020-12-09     5227\n",
       "2020-12-07     5031\n",
       "2020-12-26     4884\n",
       "2020-12-27     4404\n",
       "2020-12-28     4033\n",
       "2020-12-29     3688\n",
       "2020-12-30       36\n",
       "Name: event_date, dtype: int64"
      ]
     },
     "execution_count": 149,
     "metadata": {},
     "output_type": "execute_result"
    }
   ],
   "source": [
    "users['event_date'].value_counts()"
   ]
  },
  {
   "cell_type": "code",
   "execution_count": 150,
   "metadata": {},
   "outputs": [
    {
     "data": {
      "text/plain": [
       "2020-12-07    18841\n",
       "2020-12-14    18110\n",
       "2020-12-21    16161\n",
       "2020-12-13    13917\n",
       "2020-12-12    12140\n",
       "2020-12-20    11342\n",
       "2020-12-08    10712\n",
       "2020-12-19     9993\n",
       "2020-12-10     9728\n",
       "2020-12-18     9536\n",
       "2020-12-15     9392\n",
       "2020-12-17     8951\n",
       "2020-12-11     7683\n",
       "2020-12-09     7152\n",
       "2020-12-16     6512\n",
       "Name: first_date, dtype: int64"
      ]
     },
     "execution_count": 150,
     "metadata": {},
     "output_type": "execute_result"
    }
   ],
   "source": [
    "users['first_date'].value_counts()"
   ]
  },
  {
   "cell_type": "code",
   "execution_count": 151,
   "metadata": {},
   "outputs": [
    {
     "data": {
      "text/html": [
       "<div>\n",
       "<style scoped>\n",
       "    .dataframe tbody tr th:only-of-type {\n",
       "        vertical-align: middle;\n",
       "    }\n",
       "\n",
       "    .dataframe tbody tr th {\n",
       "        vertical-align: top;\n",
       "    }\n",
       "\n",
       "    .dataframe thead th {\n",
       "        text-align: right;\n",
       "    }\n",
       "</style>\n",
       "<table border=\"1\" class=\"dataframe\">\n",
       "  <thead>\n",
       "    <tr style=\"text-align: right;\">\n",
       "      <th></th>\n",
       "      <th>user_id</th>\n",
       "      <th>event_date</th>\n",
       "      <th>login</th>\n",
       "      <th>product_page</th>\n",
       "      <th>product_cart</th>\n",
       "      <th>purchase</th>\n",
       "      <th>Unnamed: 0</th>\n",
       "      <th>first_date</th>\n",
       "      <th>region</th>\n",
       "      <th>device</th>\n",
       "      <th>days</th>\n",
       "    </tr>\n",
       "  </thead>\n",
       "  <tbody>\n",
       "    <tr>\n",
       "      <th>0</th>\n",
       "      <td>0001710F4DDB1D1B</td>\n",
       "      <td>2020-12-14</td>\n",
       "      <td>2020-12-14 20:20:40</td>\n",
       "      <td>2020-12-14 20:20:41</td>\n",
       "      <td>2020-12-14 20:20:42</td>\n",
       "      <td>NaN</td>\n",
       "      <td>7000</td>\n",
       "      <td>2020-12-14</td>\n",
       "      <td>EU</td>\n",
       "      <td>Android</td>\n",
       "      <td>0</td>\n",
       "    </tr>\n",
       "    <tr>\n",
       "      <th>1</th>\n",
       "      <td>0001710F4DDB1D1B</td>\n",
       "      <td>2020-12-15</td>\n",
       "      <td>2020-12-15 17:34:22</td>\n",
       "      <td>2020-12-15 17:34:23</td>\n",
       "      <td>2020-12-15 17:34:25</td>\n",
       "      <td>NaN</td>\n",
       "      <td>7000</td>\n",
       "      <td>2020-12-14</td>\n",
       "      <td>EU</td>\n",
       "      <td>Android</td>\n",
       "      <td>1</td>\n",
       "    </tr>\n",
       "    <tr>\n",
       "      <th>2</th>\n",
       "      <td>000199F1887AE5E6</td>\n",
       "      <td>2020-12-14</td>\n",
       "      <td>2020-12-14 09:56:09</td>\n",
       "      <td>2020-12-14 09:56:09</td>\n",
       "      <td>2020-12-14 09:56:11</td>\n",
       "      <td>2020-12-14 09:56:09</td>\n",
       "      <td>8918</td>\n",
       "      <td>2020-12-14</td>\n",
       "      <td>EU</td>\n",
       "      <td>Android</td>\n",
       "      <td>0</td>\n",
       "    </tr>\n",
       "    <tr>\n",
       "      <th>3</th>\n",
       "      <td>000199F1887AE5E6</td>\n",
       "      <td>2020-12-15</td>\n",
       "      <td>2020-12-15 07:22:56</td>\n",
       "      <td>2020-12-15 07:22:56</td>\n",
       "      <td>2020-12-15 07:22:56</td>\n",
       "      <td>2020-12-15 07:22:56</td>\n",
       "      <td>8918</td>\n",
       "      <td>2020-12-14</td>\n",
       "      <td>EU</td>\n",
       "      <td>Android</td>\n",
       "      <td>1</td>\n",
       "    </tr>\n",
       "    <tr>\n",
       "      <th>4</th>\n",
       "      <td>000199F1887AE5E6</td>\n",
       "      <td>2020-12-20</td>\n",
       "      <td>2020-12-20 06:36:35</td>\n",
       "      <td>2020-12-20 06:36:36</td>\n",
       "      <td>2020-12-20 06:36:35</td>\n",
       "      <td>2020-12-20 06:36:35</td>\n",
       "      <td>8918</td>\n",
       "      <td>2020-12-14</td>\n",
       "      <td>EU</td>\n",
       "      <td>Android</td>\n",
       "      <td>6</td>\n",
       "    </tr>\n",
       "  </tbody>\n",
       "</table>\n",
       "</div>"
      ],
      "text/plain": [
       "            user_id  event_date                login         product_page  \\\n",
       "0  0001710F4DDB1D1B  2020-12-14  2020-12-14 20:20:40  2020-12-14 20:20:41   \n",
       "1  0001710F4DDB1D1B  2020-12-15  2020-12-15 17:34:22  2020-12-15 17:34:23   \n",
       "2  000199F1887AE5E6  2020-12-14  2020-12-14 09:56:09  2020-12-14 09:56:09   \n",
       "3  000199F1887AE5E6  2020-12-15  2020-12-15 07:22:56  2020-12-15 07:22:56   \n",
       "4  000199F1887AE5E6  2020-12-20  2020-12-20 06:36:35  2020-12-20 06:36:36   \n",
       "\n",
       "          product_cart             purchase  Unnamed: 0  first_date region  \\\n",
       "0  2020-12-14 20:20:42                  NaN        7000  2020-12-14     EU   \n",
       "1  2020-12-15 17:34:25                  NaN        7000  2020-12-14     EU   \n",
       "2  2020-12-14 09:56:11  2020-12-14 09:56:09        8918  2020-12-14     EU   \n",
       "3  2020-12-15 07:22:56  2020-12-15 07:22:56        8918  2020-12-14     EU   \n",
       "4  2020-12-20 06:36:35  2020-12-20 06:36:35        8918  2020-12-14     EU   \n",
       "\n",
       "    device  days  \n",
       "0  Android     0  \n",
       "1  Android     1  \n",
       "2  Android     0  \n",
       "3  Android     1  \n",
       "4  Android     6  "
      ]
     },
     "execution_count": 151,
     "metadata": {},
     "output_type": "execute_result"
    }
   ],
   "source": [
    "#filtering records within 14 days of signup\n",
    "users=users[users['days']<15]\n",
    "users.head()"
   ]
  },
  {
   "cell_type": "code",
   "execution_count": 152,
   "metadata": {},
   "outputs": [
    {
     "data": {
      "text/plain": [
       "0"
      ]
     },
     "execution_count": 152,
     "metadata": {},
     "output_type": "execute_result"
    }
   ],
   "source": [
    "users.duplicated().sum()"
   ]
  },
  {
   "cell_type": "code",
   "execution_count": 153,
   "metadata": {},
   "outputs": [
    {
     "name": "stdout",
     "output_type": "stream",
     "text": [
      "Number of users visiting logged in: 164167\n",
      "Number of users visiting product page: 61748\n",
      "number of users adding product to cart: 3732\n",
      "number of users Purchasing: 0\n"
     ]
    }
   ],
   "source": [
    "#User pattern stage by stage in the event funnel\n",
    "step_1 = ~users['login'].isna()\n",
    "step_2 = step_1 & (users['product_page'] > users['login'])\n",
    "step_3 = step_2& (users['product_cart'] > users['product_page'])\n",
    "step_4 = step_3 & (users['purchase'] > users['product_cart'])\n",
    "\n",
    "n_login=users[step_1].shape[0]\n",
    "n_product_page = users[step_2].shape[0]\n",
    "n_product_cart = users[step_3].shape[0]\n",
    "n_purchase = users[step_4].shape[0]\n",
    "\n",
    "print('Number of users visiting logged in:', n_login)\n",
    "print('Number of users visiting product page:', n_product_page)\n",
    "print('number of users adding product to cart:', n_product_cart)\n",
    "print('number of users Purchasing:', n_purchase) "
   ]
  },
  {
   "cell_type": "markdown",
   "metadata": {},
   "source": [
    "<b>Overall Conversion rate"
   ]
  },
  {
   "cell_type": "code",
   "execution_count": 154,
   "metadata": {},
   "outputs": [
    {
     "data": {
      "text/plain": [
       "37.61291855244964"
      ]
     },
     "execution_count": 154,
     "metadata": {},
     "output_type": "execute_result"
    }
   ],
   "source": [
    "login_product_conversion = (n_product_page / n_login)*100\n",
    "login_product_conversion\n"
   ]
  },
  {
   "cell_type": "code",
   "execution_count": 155,
   "metadata": {},
   "outputs": [
    {
     "data": {
      "text/plain": [
       "6.043920450864805"
      ]
     },
     "execution_count": 155,
     "metadata": {},
     "output_type": "execute_result"
    }
   ],
   "source": [
    "product_cart_conversion = (n_product_cart / n_product_page)*100\n",
    "product_cart_conversion\n"
   ]
  },
  {
   "cell_type": "code",
   "execution_count": 156,
   "metadata": {},
   "outputs": [
    {
     "data": {
      "text/plain": [
       "0.0"
      ]
     },
     "execution_count": 156,
     "metadata": {},
     "output_type": "execute_result"
    }
   ],
   "source": [
    "cart_purchase_conversion=(n_purchase/n_product_cart)*100\n",
    "cart_purchase_conversion"
   ]
  },
  {
   "cell_type": "markdown",
   "metadata": {},
   "source": [
    "<b> Based on the event funnel , we see very low conversion to 'purchase'in the sequence   \n",
    "    'product_page → product_card → purchase'    \n",
    "    \n",
    "  <b>  So , will proceed to see if any other pattern visible with our data."
   ]
  },
  {
   "cell_type": "code",
   "execution_count": 157,
   "metadata": {},
   "outputs": [
    {
     "data": {
      "text/plain": [
       "2020-12-20 09:02:36    4\n",
       "2020-12-14 12:55:20    4\n",
       "2020-12-13 20:18:52    4\n",
       "2020-12-14 17:42:31    4\n",
       "2020-12-14 12:54:16    4\n",
       "                      ..\n",
       "2020-12-20 16:22:38    1\n",
       "2020-12-13 19:26:46    1\n",
       "2020-12-08 23:15:23    1\n",
       "2020-12-14 09:06:36    1\n",
       "2020-12-21 01:46:44    1\n",
       "Name: login, Length: 156329, dtype: int64"
      ]
     },
     "execution_count": 157,
     "metadata": {},
     "output_type": "execute_result"
    }
   ],
   "source": [
    "users['login'].value_counts()"
   ]
  },
  {
   "cell_type": "markdown",
   "metadata": {},
   "source": [
    "#### detecting user pattern in making purchase"
   ]
  },
  {
   "cell_type": "code",
   "execution_count": 158,
   "metadata": {},
   "outputs": [
    {
     "data": {
      "text/html": [
       "<div>\n",
       "<style scoped>\n",
       "    .dataframe tbody tr th:only-of-type {\n",
       "        vertical-align: middle;\n",
       "    }\n",
       "\n",
       "    .dataframe tbody tr th {\n",
       "        vertical-align: top;\n",
       "    }\n",
       "\n",
       "    .dataframe thead th {\n",
       "        text-align: right;\n",
       "    }\n",
       "</style>\n",
       "<table border=\"1\" class=\"dataframe\">\n",
       "  <thead>\n",
       "    <tr style=\"text-align: right;\">\n",
       "      <th></th>\n",
       "      <th>user_id</th>\n",
       "      <th>event_date</th>\n",
       "      <th>login</th>\n",
       "      <th>product_page</th>\n",
       "      <th>product_cart</th>\n",
       "      <th>purchase</th>\n",
       "      <th>Unnamed: 0</th>\n",
       "      <th>first_date</th>\n",
       "      <th>region</th>\n",
       "      <th>device</th>\n",
       "      <th>days</th>\n",
       "    </tr>\n",
       "  </thead>\n",
       "  <tbody>\n",
       "    <tr>\n",
       "      <th>2</th>\n",
       "      <td>000199F1887AE5E6</td>\n",
       "      <td>2020-12-14</td>\n",
       "      <td>2020-12-14 09:56:09</td>\n",
       "      <td>2020-12-14 09:56:09</td>\n",
       "      <td>2020-12-14 09:56:11</td>\n",
       "      <td>2020-12-14 09:56:09</td>\n",
       "      <td>8918</td>\n",
       "      <td>2020-12-14</td>\n",
       "      <td>EU</td>\n",
       "      <td>Android</td>\n",
       "      <td>0</td>\n",
       "    </tr>\n",
       "    <tr>\n",
       "      <th>3</th>\n",
       "      <td>000199F1887AE5E6</td>\n",
       "      <td>2020-12-15</td>\n",
       "      <td>2020-12-15 07:22:56</td>\n",
       "      <td>2020-12-15 07:22:56</td>\n",
       "      <td>2020-12-15 07:22:56</td>\n",
       "      <td>2020-12-15 07:22:56</td>\n",
       "      <td>8918</td>\n",
       "      <td>2020-12-14</td>\n",
       "      <td>EU</td>\n",
       "      <td>Android</td>\n",
       "      <td>1</td>\n",
       "    </tr>\n",
       "    <tr>\n",
       "      <th>4</th>\n",
       "      <td>000199F1887AE5E6</td>\n",
       "      <td>2020-12-20</td>\n",
       "      <td>2020-12-20 06:36:35</td>\n",
       "      <td>2020-12-20 06:36:36</td>\n",
       "      <td>2020-12-20 06:36:35</td>\n",
       "      <td>2020-12-20 06:36:35</td>\n",
       "      <td>8918</td>\n",
       "      <td>2020-12-14</td>\n",
       "      <td>EU</td>\n",
       "      <td>Android</td>\n",
       "      <td>6</td>\n",
       "    </tr>\n",
       "    <tr>\n",
       "      <th>5</th>\n",
       "      <td>000199F1887AE5E6</td>\n",
       "      <td>2020-12-21</td>\n",
       "      <td>2020-12-21 02:11:23</td>\n",
       "      <td>2020-12-21 02:11:24</td>\n",
       "      <td>2020-12-21 02:11:24</td>\n",
       "      <td>2020-12-21 02:11:23</td>\n",
       "      <td>8918</td>\n",
       "      <td>2020-12-14</td>\n",
       "      <td>EU</td>\n",
       "      <td>Android</td>\n",
       "      <td>7</td>\n",
       "    </tr>\n",
       "    <tr>\n",
       "      <th>22</th>\n",
       "      <td>000921BDA987CB74</td>\n",
       "      <td>2020-12-07</td>\n",
       "      <td>2020-12-07 08:03:38</td>\n",
       "      <td>2020-12-07 08:03:39</td>\n",
       "      <td>NaN</td>\n",
       "      <td>2020-12-07 08:03:38</td>\n",
       "      <td>2937</td>\n",
       "      <td>2020-12-07</td>\n",
       "      <td>EU</td>\n",
       "      <td>Android</td>\n",
       "      <td>0</td>\n",
       "    </tr>\n",
       "  </tbody>\n",
       "</table>\n",
       "</div>"
      ],
      "text/plain": [
       "             user_id  event_date                login         product_page  \\\n",
       "2   000199F1887AE5E6  2020-12-14  2020-12-14 09:56:09  2020-12-14 09:56:09   \n",
       "3   000199F1887AE5E6  2020-12-15  2020-12-15 07:22:56  2020-12-15 07:22:56   \n",
       "4   000199F1887AE5E6  2020-12-20  2020-12-20 06:36:35  2020-12-20 06:36:36   \n",
       "5   000199F1887AE5E6  2020-12-21  2020-12-21 02:11:23  2020-12-21 02:11:24   \n",
       "22  000921BDA987CB74  2020-12-07  2020-12-07 08:03:38  2020-12-07 08:03:39   \n",
       "\n",
       "           product_cart             purchase  Unnamed: 0  first_date region  \\\n",
       "2   2020-12-14 09:56:11  2020-12-14 09:56:09        8918  2020-12-14     EU   \n",
       "3   2020-12-15 07:22:56  2020-12-15 07:22:56        8918  2020-12-14     EU   \n",
       "4   2020-12-20 06:36:35  2020-12-20 06:36:35        8918  2020-12-14     EU   \n",
       "5   2020-12-21 02:11:24  2020-12-21 02:11:23        8918  2020-12-14     EU   \n",
       "22                  NaN  2020-12-07 08:03:38        2937  2020-12-07     EU   \n",
       "\n",
       "     device  days  \n",
       "2   Android     0  \n",
       "3   Android     1  \n",
       "4   Android     6  \n",
       "5   Android     7  \n",
       "22  Android     0  "
      ]
     },
     "execution_count": 158,
     "metadata": {},
     "output_type": "execute_result"
    }
   ],
   "source": [
    "#filtering users making purchase to detect any pattern\n",
    "users[~users['purchase'].isna()].head()"
   ]
  },
  {
   "cell_type": "markdown",
   "metadata": {},
   "source": [
    "<b>Analysing the above records , we see many instances of purchase right after logging in."
   ]
  },
  {
   "cell_type": "code",
   "execution_count": 159,
   "metadata": {},
   "outputs": [],
   "source": [
    "#Analysing the purchase conversion in this new sequence (login → purchase)\n",
    "step_1 = ~users['login'].isna()\n",
    "step_2 = step_1 & (users['purchase'] >=users['login'])"
   ]
  },
  {
   "cell_type": "code",
   "execution_count": 160,
   "metadata": {},
   "outputs": [],
   "source": [
    "n_login=users[step_1].shape[0]\n",
    "n_purchase = users[step_2].shape[0]"
   ]
  },
  {
   "cell_type": "code",
   "execution_count": 161,
   "metadata": {},
   "outputs": [
    {
     "name": "stdout",
     "output_type": "stream",
     "text": [
      "Number of users visiting logged in: 164167\n",
      "Number of users in purchase page: 54107\n"
     ]
    }
   ],
   "source": [
    "print('Number of users visiting logged in:', n_login)\n",
    "print('Number of users in purchase page:', n_purchase)"
   ]
  },
  {
   "cell_type": "code",
   "execution_count": 162,
   "metadata": {},
   "outputs": [
    {
     "data": {
      "text/plain": [
       "0.3295851175936699"
      ]
     },
     "execution_count": 162,
     "metadata": {},
     "output_type": "execute_result"
    }
   ],
   "source": [
    "login_purchase_conversion = n_purchase / n_login\n",
    "login_purchase_conversion"
   ]
  },
  {
   "cell_type": "markdown",
   "metadata": {},
   "source": [
    "<b>Around 33% of users who logged in go directly with 'purchase'.Let's continue with A/B test group to study the same."
   ]
  },
  {
   "cell_type": "markdown",
   "metadata": {},
   "source": [
    "####  Testing for Number of users in both the A/B groups"
   ]
  },
  {
   "cell_type": "code",
   "execution_count": 163,
   "metadata": {},
   "outputs": [],
   "source": [
    "#test group participating in  'recommender_system_test'\n",
    "recommender_participants_df=ab_new_participants_df[ab_new_participants_df['ab_test']=='recommender_system_test'].sort_values(by='group')"
   ]
  },
  {
   "cell_type": "code",
   "execution_count": 164,
   "metadata": {},
   "outputs": [
    {
     "data": {
      "text/plain": [
       "0"
      ]
     },
     "execution_count": 164,
     "metadata": {},
     "output_type": "execute_result"
    }
   ],
   "source": [
    "ab_new_participants_df.duplicated().sum()"
   ]
  },
  {
   "cell_type": "code",
   "execution_count": 165,
   "metadata": {},
   "outputs": [],
   "source": [
    "#total number of participants in group A and group B\n",
    "n_groupA=len(ab_new_participants_df[((ab_new_participants_df['group']=='A')  & (ab_new_participants_df['ab_test']=='recommender_system_test'))])\n",
    "n_groupB=3675-n_groupA"
   ]
  },
  {
   "cell_type": "code",
   "execution_count": 166,
   "metadata": {},
   "outputs": [
    {
     "data": {
      "text/plain": [
       "2747"
      ]
     },
     "execution_count": 166,
     "metadata": {},
     "output_type": "execute_result"
    }
   ],
   "source": [
    "#number of participants in each group\n",
    "n_groupA"
   ]
  },
  {
   "cell_type": "code",
   "execution_count": 167,
   "metadata": {},
   "outputs": [
    {
     "data": {
      "text/plain": [
       "928"
      ]
     },
     "execution_count": 167,
     "metadata": {},
     "output_type": "execute_result"
    }
   ],
   "source": [
    "n_groupB"
   ]
  },
  {
   "cell_type": "code",
   "execution_count": 168,
   "metadata": {},
   "outputs": [
    {
     "data": {
      "text/html": [
       "<div>\n",
       "<style scoped>\n",
       "    .dataframe tbody tr th:only-of-type {\n",
       "        vertical-align: middle;\n",
       "    }\n",
       "\n",
       "    .dataframe tbody tr th {\n",
       "        vertical-align: top;\n",
       "    }\n",
       "\n",
       "    .dataframe thead th {\n",
       "        text-align: right;\n",
       "    }\n",
       "</style>\n",
       "<table border=\"1\" class=\"dataframe\">\n",
       "  <thead>\n",
       "    <tr style=\"text-align: right;\">\n",
       "      <th></th>\n",
       "      <th>Unnamed: 0</th>\n",
       "      <th>user_id</th>\n",
       "      <th>group</th>\n",
       "      <th>ab_test</th>\n",
       "    </tr>\n",
       "  </thead>\n",
       "  <tbody>\n",
       "    <tr>\n",
       "      <th>0</th>\n",
       "      <td>0</td>\n",
       "      <td>D1ABA3E2887B6A73</td>\n",
       "      <td>A</td>\n",
       "      <td>recommender_system_test</td>\n",
       "    </tr>\n",
       "    <tr>\n",
       "      <th>2270</th>\n",
       "      <td>2270</td>\n",
       "      <td>8B8BEF27A788DCA7</td>\n",
       "      <td>A</td>\n",
       "      <td>recommender_system_test</td>\n",
       "    </tr>\n",
       "    <tr>\n",
       "      <th>2271</th>\n",
       "      <td>2271</td>\n",
       "      <td>C1165CDA449AC6BC</td>\n",
       "      <td>A</td>\n",
       "      <td>recommender_system_test</td>\n",
       "    </tr>\n",
       "    <tr>\n",
       "      <th>2272</th>\n",
       "      <td>2272</td>\n",
       "      <td>EA13A8207E2AEC0C</td>\n",
       "      <td>A</td>\n",
       "      <td>recommender_system_test</td>\n",
       "    </tr>\n",
       "    <tr>\n",
       "      <th>2273</th>\n",
       "      <td>2273</td>\n",
       "      <td>19723E02ECBEA4B8</td>\n",
       "      <td>A</td>\n",
       "      <td>recommender_system_test</td>\n",
       "    </tr>\n",
       "  </tbody>\n",
       "</table>\n",
       "</div>"
      ],
      "text/plain": [
       "      Unnamed: 0           user_id group                  ab_test\n",
       "0              0  D1ABA3E2887B6A73     A  recommender_system_test\n",
       "2270        2270  8B8BEF27A788DCA7     A  recommender_system_test\n",
       "2271        2271  C1165CDA449AC6BC     A  recommender_system_test\n",
       "2272        2272  EA13A8207E2AEC0C     A  recommender_system_test\n",
       "2273        2273  19723E02ECBEA4B8     A  recommender_system_test"
      ]
     },
     "execution_count": 168,
     "metadata": {},
     "output_type": "execute_result"
    }
   ],
   "source": [
    "recommender_participants_df.head()"
   ]
  },
  {
   "cell_type": "code",
   "execution_count": 169,
   "metadata": {},
   "outputs": [
    {
     "data": {
      "text/plain": [
       "3675"
      ]
     },
     "execution_count": 169,
     "metadata": {},
     "output_type": "execute_result"
    }
   ],
   "source": [
    "recommender_participants_df['user_id'].nunique()"
   ]
  },
  {
   "cell_type": "markdown",
   "metadata": {},
   "source": [
    "<b>None of the users in both A and B group.  \n",
    "   We see significant difference in users participating in each of the 2 groups.. "
   ]
  },
  {
   "cell_type": "markdown",
   "metadata": {},
   "source": [
    "####  calculating 15% of new users in EU as test audience"
   ]
  },
  {
   "cell_type": "code",
   "execution_count": 170,
   "metadata": {},
   "outputs": [
    {
     "data": {
      "text/html": [
       "<div>\n",
       "<style scoped>\n",
       "    .dataframe tbody tr th:only-of-type {\n",
       "        vertical-align: middle;\n",
       "    }\n",
       "\n",
       "    .dataframe tbody tr th {\n",
       "        vertical-align: top;\n",
       "    }\n",
       "\n",
       "    .dataframe thead th {\n",
       "        text-align: right;\n",
       "    }\n",
       "</style>\n",
       "<table border=\"1\" class=\"dataframe\">\n",
       "  <thead>\n",
       "    <tr style=\"text-align: right;\">\n",
       "      <th></th>\n",
       "      <th>Unnamed: 0</th>\n",
       "      <th>user_id</th>\n",
       "      <th>first_date</th>\n",
       "      <th>region</th>\n",
       "      <th>device</th>\n",
       "    </tr>\n",
       "  </thead>\n",
       "  <tbody>\n",
       "    <tr>\n",
       "      <th>0</th>\n",
       "      <td>0</td>\n",
       "      <td>D72A72121175D8BE</td>\n",
       "      <td>2020-12-07</td>\n",
       "      <td>EU</td>\n",
       "      <td>PC</td>\n",
       "    </tr>\n",
       "    <tr>\n",
       "      <th>1</th>\n",
       "      <td>1</td>\n",
       "      <td>F1C668619DFE6E65</td>\n",
       "      <td>2020-12-07</td>\n",
       "      <td>N.America</td>\n",
       "      <td>Android</td>\n",
       "    </tr>\n",
       "    <tr>\n",
       "      <th>2</th>\n",
       "      <td>2</td>\n",
       "      <td>2E1BF1D4C37EA01F</td>\n",
       "      <td>2020-12-07</td>\n",
       "      <td>EU</td>\n",
       "      <td>PC</td>\n",
       "    </tr>\n",
       "    <tr>\n",
       "      <th>3</th>\n",
       "      <td>3</td>\n",
       "      <td>50734A22C0C63768</td>\n",
       "      <td>2020-12-07</td>\n",
       "      <td>EU</td>\n",
       "      <td>iPhone</td>\n",
       "    </tr>\n",
       "    <tr>\n",
       "      <th>4</th>\n",
       "      <td>4</td>\n",
       "      <td>E1BDDCE0DAFA2679</td>\n",
       "      <td>2020-12-07</td>\n",
       "      <td>N.America</td>\n",
       "      <td>iPhone</td>\n",
       "    </tr>\n",
       "  </tbody>\n",
       "</table>\n",
       "</div>"
      ],
      "text/plain": [
       "   Unnamed: 0           user_id  first_date     region   device\n",
       "0           0  D72A72121175D8BE  2020-12-07         EU       PC\n",
       "1           1  F1C668619DFE6E65  2020-12-07  N.America  Android\n",
       "2           2  2E1BF1D4C37EA01F  2020-12-07         EU       PC\n",
       "3           3  50734A22C0C63768  2020-12-07         EU   iPhone\n",
       "4           4  E1BDDCE0DAFA2679  2020-12-07  N.America   iPhone"
      ]
     },
     "execution_count": 170,
     "metadata": {},
     "output_type": "execute_result"
    }
   ],
   "source": [
    "ab_new_users_df.head()"
   ]
  },
  {
   "cell_type": "code",
   "execution_count": 171,
   "metadata": {},
   "outputs": [
    {
     "data": {
      "text/plain": [
       "0"
      ]
     },
     "execution_count": 171,
     "metadata": {},
     "output_type": "execute_result"
    }
   ],
   "source": [
    "ab_new_users_df.duplicated().sum()"
   ]
  },
  {
   "cell_type": "code",
   "execution_count": 172,
   "metadata": {},
   "outputs": [
    {
     "data": {
      "text/html": [
       "<div>\n",
       "<style scoped>\n",
       "    .dataframe tbody tr th:only-of-type {\n",
       "        vertical-align: middle;\n",
       "    }\n",
       "\n",
       "    .dataframe tbody tr th {\n",
       "        vertical-align: top;\n",
       "    }\n",
       "\n",
       "    .dataframe thead th {\n",
       "        text-align: right;\n",
       "    }\n",
       "</style>\n",
       "<table border=\"1\" class=\"dataframe\">\n",
       "  <thead>\n",
       "    <tr style=\"text-align: right;\">\n",
       "      <th></th>\n",
       "      <th>Unnamed: 0</th>\n",
       "      <th>user_id</th>\n",
       "      <th>first_date</th>\n",
       "      <th>region</th>\n",
       "      <th>device</th>\n",
       "    </tr>\n",
       "  </thead>\n",
       "  <tbody>\n",
       "    <tr>\n",
       "      <th>0</th>\n",
       "      <td>0</td>\n",
       "      <td>D72A72121175D8BE</td>\n",
       "      <td>2020-12-07</td>\n",
       "      <td>EU</td>\n",
       "      <td>PC</td>\n",
       "    </tr>\n",
       "    <tr>\n",
       "      <th>2</th>\n",
       "      <td>2</td>\n",
       "      <td>2E1BF1D4C37EA01F</td>\n",
       "      <td>2020-12-07</td>\n",
       "      <td>EU</td>\n",
       "      <td>PC</td>\n",
       "    </tr>\n",
       "    <tr>\n",
       "      <th>3</th>\n",
       "      <td>3</td>\n",
       "      <td>50734A22C0C63768</td>\n",
       "      <td>2020-12-07</td>\n",
       "      <td>EU</td>\n",
       "      <td>iPhone</td>\n",
       "    </tr>\n",
       "    <tr>\n",
       "      <th>7</th>\n",
       "      <td>7</td>\n",
       "      <td>8942E64218C9A1ED</td>\n",
       "      <td>2020-12-07</td>\n",
       "      <td>EU</td>\n",
       "      <td>PC</td>\n",
       "    </tr>\n",
       "    <tr>\n",
       "      <th>9</th>\n",
       "      <td>9</td>\n",
       "      <td>FFCEA1179C253104</td>\n",
       "      <td>2020-12-07</td>\n",
       "      <td>EU</td>\n",
       "      <td>Android</td>\n",
       "    </tr>\n",
       "  </tbody>\n",
       "</table>\n",
       "</div>"
      ],
      "text/plain": [
       "   Unnamed: 0           user_id  first_date region   device\n",
       "0           0  D72A72121175D8BE  2020-12-07     EU       PC\n",
       "2           2  2E1BF1D4C37EA01F  2020-12-07     EU       PC\n",
       "3           3  50734A22C0C63768  2020-12-07     EU   iPhone\n",
       "7           7  8942E64218C9A1ED  2020-12-07     EU       PC\n",
       "9           9  FFCEA1179C253104  2020-12-07     EU  Android"
      ]
     },
     "execution_count": 172,
     "metadata": {},
     "output_type": "execute_result"
    }
   ],
   "source": [
    "#filtering new users in EU region\n",
    "ab_new_users_df[ab_new_users_df['region']=='EU'].head()"
   ]
  },
  {
   "cell_type": "code",
   "execution_count": 173,
   "metadata": {},
   "outputs": [
    {
     "data": {
      "text/plain": [
       "39466"
      ]
     },
     "execution_count": 173,
     "metadata": {},
     "output_type": "execute_result"
    }
   ],
   "source": [
    "#total number of new users in EU region\n",
    "new_users_EU =len(ab_new_users_df[ab_new_users_df['region']=='EU'])\n",
    "new_users_EU"
   ]
  },
  {
   "cell_type": "code",
   "execution_count": 174,
   "metadata": {},
   "outputs": [
    {
     "data": {
      "text/plain": [
       "5919.9"
      ]
     },
     "execution_count": 174,
     "metadata": {},
     "output_type": "execute_result"
    }
   ],
   "source": [
    "#15% of EU new users as audience\n",
    "n_audience = 0.15*new_users_EU\n",
    "n_audience"
   ]
  },
  {
   "cell_type": "markdown",
   "metadata": {},
   "source": [
    "<b>Given that  15% of the new users from the EU region are the test audience which is roughly  \n",
    "around 6000."
   ]
  },
  {
   "cell_type": "markdown",
   "metadata": {},
   "source": [
    "<b>Looking for any marketing promo during the test period."
   ]
  },
  {
   "cell_type": "code",
   "execution_count": 175,
   "metadata": {},
   "outputs": [
    {
     "data": {
      "text/html": [
       "<div>\n",
       "<style scoped>\n",
       "    .dataframe tbody tr th:only-of-type {\n",
       "        vertical-align: middle;\n",
       "    }\n",
       "\n",
       "    .dataframe tbody tr th {\n",
       "        vertical-align: top;\n",
       "    }\n",
       "\n",
       "    .dataframe thead th {\n",
       "        text-align: right;\n",
       "    }\n",
       "</style>\n",
       "<table border=\"1\" class=\"dataframe\">\n",
       "  <thead>\n",
       "    <tr style=\"text-align: right;\">\n",
       "      <th></th>\n",
       "      <th>Unnamed: 0</th>\n",
       "      <th>name</th>\n",
       "      <th>regions</th>\n",
       "      <th>start_dt</th>\n",
       "      <th>finish_dt</th>\n",
       "    </tr>\n",
       "  </thead>\n",
       "  <tbody>\n",
       "    <tr>\n",
       "      <th>0</th>\n",
       "      <td>0</td>\n",
       "      <td>Christmas&amp;New Year Promo</td>\n",
       "      <td>EU, N.America</td>\n",
       "      <td>2020-12-25</td>\n",
       "      <td>2021-01-03</td>\n",
       "    </tr>\n",
       "    <tr>\n",
       "      <th>1</th>\n",
       "      <td>1</td>\n",
       "      <td>St. Valentine's Day Giveaway</td>\n",
       "      <td>EU, CIS, APAC, N.America</td>\n",
       "      <td>2020-02-14</td>\n",
       "      <td>2020-02-16</td>\n",
       "    </tr>\n",
       "    <tr>\n",
       "      <th>2</th>\n",
       "      <td>2</td>\n",
       "      <td>St. Patric's Day Promo</td>\n",
       "      <td>EU, N.America</td>\n",
       "      <td>2020-03-17</td>\n",
       "      <td>2020-03-19</td>\n",
       "    </tr>\n",
       "    <tr>\n",
       "      <th>3</th>\n",
       "      <td>3</td>\n",
       "      <td>Easter Promo</td>\n",
       "      <td>EU, CIS, APAC, N.America</td>\n",
       "      <td>2020-04-12</td>\n",
       "      <td>2020-04-19</td>\n",
       "    </tr>\n",
       "    <tr>\n",
       "      <th>4</th>\n",
       "      <td>4</td>\n",
       "      <td>4th of July Promo</td>\n",
       "      <td>N.America</td>\n",
       "      <td>2020-07-04</td>\n",
       "      <td>2020-07-11</td>\n",
       "    </tr>\n",
       "    <tr>\n",
       "      <th>5</th>\n",
       "      <td>5</td>\n",
       "      <td>Black Friday Ads Campaign</td>\n",
       "      <td>EU, CIS, APAC, N.America</td>\n",
       "      <td>2020-11-26</td>\n",
       "      <td>2020-12-01</td>\n",
       "    </tr>\n",
       "    <tr>\n",
       "      <th>6</th>\n",
       "      <td>6</td>\n",
       "      <td>Chinese New Year Promo</td>\n",
       "      <td>APAC</td>\n",
       "      <td>2020-01-25</td>\n",
       "      <td>2020-02-07</td>\n",
       "    </tr>\n",
       "    <tr>\n",
       "      <th>7</th>\n",
       "      <td>7</td>\n",
       "      <td>Labor day (May 1st) Ads Campaign</td>\n",
       "      <td>EU, CIS, APAC</td>\n",
       "      <td>2020-05-01</td>\n",
       "      <td>2020-05-03</td>\n",
       "    </tr>\n",
       "    <tr>\n",
       "      <th>8</th>\n",
       "      <td>8</td>\n",
       "      <td>International Women's Day Promo</td>\n",
       "      <td>EU, CIS, APAC</td>\n",
       "      <td>2020-03-08</td>\n",
       "      <td>2020-03-10</td>\n",
       "    </tr>\n",
       "    <tr>\n",
       "      <th>9</th>\n",
       "      <td>9</td>\n",
       "      <td>Victory Day CIS (May 9th) Event</td>\n",
       "      <td>CIS</td>\n",
       "      <td>2020-05-09</td>\n",
       "      <td>2020-05-11</td>\n",
       "    </tr>\n",
       "    <tr>\n",
       "      <th>10</th>\n",
       "      <td>10</td>\n",
       "      <td>CIS New Year Gift Lottery</td>\n",
       "      <td>CIS</td>\n",
       "      <td>2020-12-30</td>\n",
       "      <td>2021-01-07</td>\n",
       "    </tr>\n",
       "    <tr>\n",
       "      <th>11</th>\n",
       "      <td>11</td>\n",
       "      <td>Dragon Boat Festival Giveaway</td>\n",
       "      <td>APAC</td>\n",
       "      <td>2020-06-25</td>\n",
       "      <td>2020-07-01</td>\n",
       "    </tr>\n",
       "    <tr>\n",
       "      <th>12</th>\n",
       "      <td>12</td>\n",
       "      <td>Single's Day Gift Promo</td>\n",
       "      <td>APAC</td>\n",
       "      <td>2020-11-11</td>\n",
       "      <td>2020-11-12</td>\n",
       "    </tr>\n",
       "    <tr>\n",
       "      <th>13</th>\n",
       "      <td>13</td>\n",
       "      <td>Chinese Moon Festival</td>\n",
       "      <td>APAC</td>\n",
       "      <td>2020-10-01</td>\n",
       "      <td>2020-10-07</td>\n",
       "    </tr>\n",
       "  </tbody>\n",
       "</table>\n",
       "</div>"
      ],
      "text/plain": [
       "    Unnamed: 0                              name                   regions  \\\n",
       "0            0          Christmas&New Year Promo             EU, N.America   \n",
       "1            1      St. Valentine's Day Giveaway  EU, CIS, APAC, N.America   \n",
       "2            2            St. Patric's Day Promo             EU, N.America   \n",
       "3            3                      Easter Promo  EU, CIS, APAC, N.America   \n",
       "4            4                 4th of July Promo                 N.America   \n",
       "5            5         Black Friday Ads Campaign  EU, CIS, APAC, N.America   \n",
       "6            6            Chinese New Year Promo                      APAC   \n",
       "7            7  Labor day (May 1st) Ads Campaign             EU, CIS, APAC   \n",
       "8            8   International Women's Day Promo             EU, CIS, APAC   \n",
       "9            9   Victory Day CIS (May 9th) Event                       CIS   \n",
       "10          10         CIS New Year Gift Lottery                       CIS   \n",
       "11          11     Dragon Boat Festival Giveaway                      APAC   \n",
       "12          12           Single's Day Gift Promo                      APAC   \n",
       "13          13             Chinese Moon Festival                      APAC   \n",
       "\n",
       "      start_dt   finish_dt  \n",
       "0   2020-12-25  2021-01-03  \n",
       "1   2020-02-14  2020-02-16  \n",
       "2   2020-03-17  2020-03-19  \n",
       "3   2020-04-12  2020-04-19  \n",
       "4   2020-07-04  2020-07-11  \n",
       "5   2020-11-26  2020-12-01  \n",
       "6   2020-01-25  2020-02-07  \n",
       "7   2020-05-01  2020-05-03  \n",
       "8   2020-03-08  2020-03-10  \n",
       "9   2020-05-09  2020-05-11  \n",
       "10  2020-12-30  2021-01-07  \n",
       "11  2020-06-25  2020-07-01  \n",
       "12  2020-11-11  2020-11-12  \n",
       "13  2020-10-01  2020-10-07  "
      ]
     },
     "execution_count": 175,
     "metadata": {},
     "output_type": "execute_result"
    }
   ],
   "source": [
    "marketing_events_df"
   ]
  },
  {
   "cell_type": "markdown",
   "metadata": {},
   "source": [
    "<b>There are 2 marketing promos.  \n",
    "1.Christmas & New Year Promo  in EU,N.America from 25th Dec2020 to 3rd Jan 2021.  \n",
    "2.CIS New Year Gift Lottery  in CIS from Dec 30,2020 to Jan 7 ,2021 "
   ]
  },
  {
   "cell_type": "markdown",
   "metadata": {},
   "source": [
    "####  calculate the share of new users from the EU region within the recommender_system_test test."
   ]
  },
  {
   "cell_type": "code",
   "execution_count": 176,
   "metadata": {},
   "outputs": [
    {
     "data": {
      "text/html": [
       "<div>\n",
       "<style scoped>\n",
       "    .dataframe tbody tr th:only-of-type {\n",
       "        vertical-align: middle;\n",
       "    }\n",
       "\n",
       "    .dataframe tbody tr th {\n",
       "        vertical-align: top;\n",
       "    }\n",
       "\n",
       "    .dataframe thead th {\n",
       "        text-align: right;\n",
       "    }\n",
       "</style>\n",
       "<table border=\"1\" class=\"dataframe\">\n",
       "  <thead>\n",
       "    <tr style=\"text-align: right;\">\n",
       "      <th></th>\n",
       "      <th>Unnamed: 0</th>\n",
       "      <th>user_id</th>\n",
       "      <th>group</th>\n",
       "      <th>ab_test</th>\n",
       "    </tr>\n",
       "  </thead>\n",
       "  <tbody>\n",
       "    <tr>\n",
       "      <th>0</th>\n",
       "      <td>0</td>\n",
       "      <td>D1ABA3E2887B6A73</td>\n",
       "      <td>A</td>\n",
       "      <td>recommender_system_test</td>\n",
       "    </tr>\n",
       "    <tr>\n",
       "      <th>1</th>\n",
       "      <td>1</td>\n",
       "      <td>A7A3664BD6242119</td>\n",
       "      <td>A</td>\n",
       "      <td>recommender_system_test</td>\n",
       "    </tr>\n",
       "    <tr>\n",
       "      <th>2</th>\n",
       "      <td>2</td>\n",
       "      <td>DABC14FDDFADD29E</td>\n",
       "      <td>A</td>\n",
       "      <td>recommender_system_test</td>\n",
       "    </tr>\n",
       "    <tr>\n",
       "      <th>3</th>\n",
       "      <td>3</td>\n",
       "      <td>04988C5DF189632E</td>\n",
       "      <td>A</td>\n",
       "      <td>recommender_system_test</td>\n",
       "    </tr>\n",
       "    <tr>\n",
       "      <th>4</th>\n",
       "      <td>4</td>\n",
       "      <td>4FF2998A348C484F</td>\n",
       "      <td>A</td>\n",
       "      <td>recommender_system_test</td>\n",
       "    </tr>\n",
       "  </tbody>\n",
       "</table>\n",
       "</div>"
      ],
      "text/plain": [
       "   Unnamed: 0           user_id group                  ab_test\n",
       "0           0  D1ABA3E2887B6A73     A  recommender_system_test\n",
       "1           1  A7A3664BD6242119     A  recommender_system_test\n",
       "2           2  DABC14FDDFADD29E     A  recommender_system_test\n",
       "3           3  04988C5DF189632E     A  recommender_system_test\n",
       "4           4  4FF2998A348C484F     A  recommender_system_test"
      ]
     },
     "execution_count": 176,
     "metadata": {},
     "output_type": "execute_result"
    }
   ],
   "source": [
    "#filtering A/B test participants details for recommender_system_test\n",
    "ab_new_participants_df=ab_new_participants_df[ab_new_participants_df['ab_test']=='recommender_system_test']\n",
    "ab_new_participants_df.head()"
   ]
  },
  {
   "cell_type": "code",
   "execution_count": 177,
   "metadata": {},
   "outputs": [
    {
     "data": {
      "text/plain": [
       "3675"
      ]
     },
     "execution_count": 177,
     "metadata": {},
     "output_type": "execute_result"
    }
   ],
   "source": [
    "#Total number of users in A/B test group\n",
    "len(ab_new_participants_df)"
   ]
  },
  {
   "cell_type": "code",
   "execution_count": 178,
   "metadata": {},
   "outputs": [
    {
     "data": {
      "text/plain": [
       "2747"
      ]
     },
     "execution_count": 178,
     "metadata": {},
     "output_type": "execute_result"
    }
   ],
   "source": [
    "#Total number of users in A/B test group A\n",
    "len(ab_new_participants_df[ab_new_participants_df['group']=='A'])"
   ]
  },
  {
   "cell_type": "code",
   "execution_count": 179,
   "metadata": {},
   "outputs": [
    {
     "data": {
      "text/plain": [
       "928"
      ]
     },
     "execution_count": 179,
     "metadata": {},
     "output_type": "execute_result"
    }
   ],
   "source": [
    "#Total number of users in A/B test group B\n",
    "len(ab_new_participants_df[ab_new_participants_df['group']=='B'])"
   ]
  },
  {
   "cell_type": "code",
   "execution_count": 180,
   "metadata": {},
   "outputs": [
    {
     "data": {
      "text/plain": [
       "['D1ABA3E2887B6A73',\n",
       " 'A7A3664BD6242119',\n",
       " 'DABC14FDDFADD29E',\n",
       " '04988C5DF189632E',\n",
       " '4FF2998A348C484F',\n",
       " '7473E0943673C09E',\n",
       " 'C46FE336D240A054',\n",
       " '92CB588012C10D3D',\n",
       " 'B3A2485649E4A012',\n",
       " '66FC298441D50783',\n",
       " 'CD74C3D22FFC09C2',\n",
       " '19F4A16B875E04EE',\n",
       " '80A2F277C571443C',\n",
       " '50AA023EF325BCA1',\n",
       " 'C716AF018B3D96F5',\n",
       " 'EAFB9027A27D510C',\n",
       " '5C374D874B09B2D9',\n",
       " '5D5E6EE92AF6E9E0',\n",
       " '8DD7CC271D8CD039',\n",
       " '0F1FF07B3788976D',\n",
       " '03FBDF999D5B81B8',\n",
       " '52E7B7DC39F52987',\n",
       " '65F225074FEC2C03',\n",
       " 'E0B12CEF93FA04B1',\n",
       " '3EE1210D1AB593C6',\n",
       " '0CA61E320CBC8D4F',\n",
       " 'FC3F3E4DA7C85F88',\n",
       " 'FE2AF0E94DBD470E',\n",
       " '76326F7A53D2008C',\n",
       " 'FA6DAE0DFED333DB',\n",
       " '53720C4F36308F66',\n",
       " '4142705E10CCAF47',\n",
       " '3D6EB94C6C2A7804',\n",
       " '6D399D5D2832CD40',\n",
       " 'D6479D2D2511094C',\n",
       " 'EEF5EFB2D5915CF1',\n",
       " 'C5AD06762E628169',\n",
       " '3ED90BE0DC2A3FD3',\n",
       " 'E5AAA57C73A05E27',\n",
       " 'DA84B03F1D02D13E',\n",
       " '948AADCBA0AD33FC',\n",
       " '938495416CBB307C',\n",
       " 'ECB7F5A1A2E1D00F',\n",
       " '1D1E59B3A1B377AA',\n",
       " '87C4963DF01E3B3C',\n",
       " 'B7AD6966E5557BE0',\n",
       " '38B78992508A9283',\n",
       " '0386BA6137787A24',\n",
       " 'D7DB81E99D5AE29F',\n",
       " '086399E3A5AD93B8',\n",
       " '12FCEFC7D1907D47',\n",
       " '4B60670F850D5024',\n",
       " '2B838321EA7DA6A2',\n",
       " '3B3F68DC5779E517',\n",
       " '1DB9BA78121F03CF',\n",
       " '172F0C1F993BE914',\n",
       " 'D280CB5052BC97C0',\n",
       " '19302754B5457163',\n",
       " 'EDF5B714ACB10B39',\n",
       " '6D3792154BB5A659',\n",
       " '25CE0629AC6B6971',\n",
       " '04BE4EFE4C457312',\n",
       " '8A25966EC4F23ECA',\n",
       " '8D406B3B500671BD',\n",
       " '17F1ADF25C75168A',\n",
       " '2775B9A97488A3BF',\n",
       " '8757C1146D4122EF',\n",
       " '44EB15AD423DC31C',\n",
       " 'DD9369338455727C',\n",
       " '0C2FF828F063B7AD',\n",
       " 'FB24D74F33FB4839',\n",
       " '01BD731FB5E57AE6',\n",
       " '3AA908B2D4A96AC2',\n",
       " '9CBD8387C8A1DDDF',\n",
       " 'ED47C7C2CD16539E',\n",
       " '8C2D209EF200EF0B',\n",
       " 'D19E00FC450F7EA6',\n",
       " 'A66B27582A358296',\n",
       " 'E594B711ADD81DD8',\n",
       " 'A1C3D3C6C3CADDC5',\n",
       " '2B7DA9B565BA79D2',\n",
       " '34A2E022930DFCA3',\n",
       " '14AEC962812EB706',\n",
       " 'CD668979C54E22F7',\n",
       " '9C7B157D942B2415',\n",
       " 'CFDED9167B27A57F',\n",
       " 'E272F8495E9A7C6B',\n",
       " '10DC7B8A6665A92A',\n",
       " 'C86F0150DA3B10F2',\n",
       " '3FA3E2FF739D5706',\n",
       " '13561EDE4D40B183',\n",
       " 'E16541C1EBE7C18F',\n",
       " '90798E636E540B74',\n",
       " 'AE0ED48DFD2FC0EC',\n",
       " '42A70ED7DBDB8DDA',\n",
       " '5D4B70B71BD714AD',\n",
       " '663B8FD2ECC67EFF',\n",
       " 'E48564406C361C95',\n",
       " 'BEF83E2A0B71B01D',\n",
       " 'C51F70F9545C0D4F',\n",
       " '555A92EA20CE41AA',\n",
       " 'A459BE53EC0D7599',\n",
       " '3E76EBF712971549',\n",
       " '9709EF8B153900FF',\n",
       " 'DB9AF0EB25970362',\n",
       " 'ABABE1BAB6C77540',\n",
       " '6B72CFAE1935C789',\n",
       " 'A7E7871D2D2637C4',\n",
       " '5D72D0AEF96C50FD',\n",
       " 'BA2110BD833E835A',\n",
       " '26C7FBF370BACD23',\n",
       " '255806154A8779AA',\n",
       " 'A9E00FF5F347A0E3',\n",
       " 'F26444BA1B35C213',\n",
       " '3629BFFE2E7A93F0',\n",
       " '378BB5A704F525AF',\n",
       " '643C52C33C61AE96',\n",
       " 'BD64B1467A1F41A0',\n",
       " '001064FEAAB631A1',\n",
       " '02894A55BC14A70E',\n",
       " 'A62BEB5AF596DB62',\n",
       " '81AA83FBC31B6C0B',\n",
       " 'D03349A4CC16450F',\n",
       " '79BED20696125731',\n",
       " '9CD9D50446C56206',\n",
       " '3696730499117673',\n",
       " '48496344F079B793',\n",
       " '697F116B31D05FCF',\n",
       " 'C32628A8AA662390',\n",
       " '45D971502E89E65E',\n",
       " 'F5717EDCB0830A05',\n",
       " 'F97D8746923ABA37',\n",
       " '2B8FD20CA8A2A616',\n",
       " '0CC466ED84E0756D',\n",
       " 'C3C56A2DFF10BC79',\n",
       " 'B593E1E1E045C398',\n",
       " '702566DE3898CB6C',\n",
       " 'AFD2C642DE1D5D2A',\n",
       " '6FC1998A6D98C01A',\n",
       " '0ACD764342811460',\n",
       " '93F064DB4950E8C8',\n",
       " 'E29FA3EDD2698E7A',\n",
       " '1FFFDF2881715DDF',\n",
       " 'F057A0C8EFECDBEE',\n",
       " '71EC71B41FF1887E',\n",
       " 'BABB70C636BA523A',\n",
       " 'AA5A1803D3FA76B4',\n",
       " '7E10D15F5D8A0A23',\n",
       " 'CE3108804954FEC2',\n",
       " 'D77FA24D30E799BA',\n",
       " '2170CB76798D36EE',\n",
       " 'EC55B8954BD4E1B9',\n",
       " '3656B8F3DEF02DA0',\n",
       " 'D6A70FC056A22C04',\n",
       " '30DEB75B33B92DC8',\n",
       " '9FCC1C0EAD936532',\n",
       " 'DC41AFF8213BE01A',\n",
       " '0D7E9E93CD497547',\n",
       " '890FAC5B9F47563F',\n",
       " '7F10D30972D86EB5',\n",
       " 'E14805CD622EA211',\n",
       " '74997CF7A77AA94E',\n",
       " 'F022FE55DCD71DC0',\n",
       " '48A3963537D96EFC',\n",
       " '51CFE2034A743204',\n",
       " 'CC9D5FE5F9DC8D01',\n",
       " '4B058B8F19045AC9',\n",
       " '60A6101325BBA47E',\n",
       " '6EFF2BB96F97768F',\n",
       " 'AB94ADBD1345E896',\n",
       " '169ED13E27C51F3B',\n",
       " '58F29FD5F5BEEF1E',\n",
       " '8B480AD647CE1BDE',\n",
       " '04C23F1E024A93E3',\n",
       " 'A944D2BCDFD50619',\n",
       " 'FEC0BCA6C323872F',\n",
       " '15B0DB8D837C4234',\n",
       " 'AEB9B39AE54D3598',\n",
       " '9418C62EB3E7B211',\n",
       " '6FFE54E4BC305708',\n",
       " '358392E31C079B41',\n",
       " 'BEFD513B933806C4',\n",
       " '6D282E7C215792BD',\n",
       " '12E86A81CC9AA775',\n",
       " 'E57987436680CF0B',\n",
       " 'D7FBE79C98D03907',\n",
       " '5813B74E3ED6094E',\n",
       " 'D62ACFAF30B71D55',\n",
       " 'C6C4C814B7B202E7',\n",
       " '6FE3F1B9CEE39E39',\n",
       " '618D7AD9FE73843C',\n",
       " 'CD096CF542D3C712',\n",
       " '73D9C981F58F142C',\n",
       " '77538B64EF289B42',\n",
       " '040F68E9E1294840',\n",
       " '3C02D15BA7E8CD69',\n",
       " 'AF987F436A7EBD21',\n",
       " 'F85FD73AAF991283',\n",
       " 'C55976AC94BFB22C',\n",
       " '13805E998FE5D7B8',\n",
       " '0E77217AC0A85CB2',\n",
       " 'BE3C02D74A664180',\n",
       " '8C5E672BF19D5DEE',\n",
       " 'A2212CF79158D340',\n",
       " 'DD10D8577311D62A',\n",
       " '80DBF4EAF80F62A3',\n",
       " 'F5B4B562971760C6',\n",
       " '5461DD0AF191F581',\n",
       " '637D21ED4BE05F81',\n",
       " '3716B48E1C9D36C0',\n",
       " 'C551062DE251F867',\n",
       " 'B503A84B0E055D6F',\n",
       " 'C36784B608C9A693',\n",
       " 'A4F18DF9C484EDC0',\n",
       " 'B8BA68A40CCA2F92',\n",
       " '59FF17724B8BCE48',\n",
       " '82952C2B5CFAD42B',\n",
       " 'A7F66CD708BF0454',\n",
       " 'F68F7886D0BCE784',\n",
       " '2EBF2E73A8630674',\n",
       " '6A7F8D10E390B4F5',\n",
       " 'F9DC5907335EF6FE',\n",
       " 'D10079947A26AD02',\n",
       " '5AE146AE93D5A1CE',\n",
       " '5F667A1BC839354B',\n",
       " '64D530780D156782',\n",
       " 'E18D25D68D9FCC60',\n",
       " '8FA22C8AB0409CA3',\n",
       " 'CFAC426394D36FA8',\n",
       " '580D79E5D455BA8B',\n",
       " 'A4D5B31067614B05',\n",
       " 'A791C2D62B213C96',\n",
       " 'A57DB8C0438CB846',\n",
       " '9F39152D735514A0',\n",
       " 'EA8BD17A1314F1F2',\n",
       " '5E9E80BADEA372AB',\n",
       " '96E8F651716E7F7D',\n",
       " '9B73C945ABD15531',\n",
       " 'A22B11EFAE651C7F',\n",
       " 'FD14B682B6FD8D56',\n",
       " 'F3A05C8D912975AB',\n",
       " '570D3B2EFF6747A2',\n",
       " 'BE0E22CD3DFB509C',\n",
       " 'F3A48B69A671AE30',\n",
       " 'A27693967E58ADD5',\n",
       " '8611C1CA3986E553',\n",
       " '49D69A4901413D82',\n",
       " '181DA774FA96EDB6',\n",
       " '89269711AB1FDAA5',\n",
       " 'B27F5380AF0936D3',\n",
       " '9705F9A636A8C2C9',\n",
       " 'AAE4A39A0DF719AD',\n",
       " '491E514995731DC0',\n",
       " 'C632F81395C23676',\n",
       " '39BD90F6CE86B893',\n",
       " '954C980B4A9559FF',\n",
       " '2DF9E85A613E0DD0',\n",
       " '630A7B72AE3824BF',\n",
       " '3ECAF9DDE673D88F',\n",
       " 'FA8F255C0E9DCC07',\n",
       " '47EEC31E3D0C6E8B',\n",
       " 'FD53250D597380E1',\n",
       " '2F52D15FF20EE730',\n",
       " '4AEC1F638C2F1FC8',\n",
       " 'BE3E315B2F7B0A36',\n",
       " 'DD54906991EAB1E2',\n",
       " '390D39CDD3AAC703',\n",
       " '94DEE458C4F03B12',\n",
       " 'E4144AF656371133',\n",
       " 'B6DBDDB2BD00352E',\n",
       " '8890ECA4847DFE5E',\n",
       " '24553DD3FF973EE4',\n",
       " '4E5C9F61B66394F7',\n",
       " '179F49110E880D42',\n",
       " 'D1D7C0CCE823D871',\n",
       " 'DFEAF49F56175B88',\n",
       " '5EE1190E48EC36B0',\n",
       " '99AB3356C66C173F',\n",
       " '2B68D50DAADB1DC4',\n",
       " 'A5C73A9B0E44E70F',\n",
       " 'F08E0A115537BBBB',\n",
       " '122C0E3A8F27AC93',\n",
       " 'B8EA50FF75C6A2B1',\n",
       " 'BA72A4552D5DB360',\n",
       " 'B242B046BC32ADDA',\n",
       " 'D6A7F15A98C4FF86',\n",
       " 'CE87806634855AAF',\n",
       " '279C6150111EB3D3',\n",
       " '46C03A54CD7F3F6E',\n",
       " '4C63BE492F5D61B3',\n",
       " '6655D192F953E7CE',\n",
       " 'D1FA009C9B514DD7',\n",
       " 'CCE74CB0FBDD3533',\n",
       " '16B6EBFCE0B67C24',\n",
       " 'CA75B372B0A884B0',\n",
       " 'E3048C1D75193226',\n",
       " '05CF637C4E411C3E',\n",
       " '1DC5295D91FF1336',\n",
       " '82E92E637C47885A',\n",
       " '5CCC6E85E7245565',\n",
       " 'C389958204955C98',\n",
       " '94464DF2E5398E26',\n",
       " '20C556708013209A',\n",
       " '2D231F946B5F8828',\n",
       " '278EC8FF2664D2C8',\n",
       " '5424E9D321EC3567',\n",
       " '8B021506DD0CD8DF',\n",
       " 'F1C4EDEBF63BB14F',\n",
       " '902F92052587344F',\n",
       " 'E06B3D8900BAFA6D',\n",
       " 'EB3589638ED1D779',\n",
       " '8C028F5F4F1B3972',\n",
       " '68B3C70F0C0B4550',\n",
       " '5A8697B441AAEE78',\n",
       " 'B18AA196F9DA0701',\n",
       " 'F928AA2E93C53974',\n",
       " '4E4766CC2996EEDB',\n",
       " '412F5C9F04EE8F69',\n",
       " 'A800CDEA85871EEF',\n",
       " '6DECB18EA848DDDA',\n",
       " '02313B9E82255F47',\n",
       " '7F56D0CFA440BB7E',\n",
       " 'EBC37566AAA3427B',\n",
       " '051112E3FE1F2E55',\n",
       " 'B1558ECC094DB48D',\n",
       " '8AAB656D95891646',\n",
       " '37E78FED858E7061',\n",
       " '7C8639D382088289',\n",
       " '23F551153080EBAB',\n",
       " '68AF1584357D955D',\n",
       " '05DA2E49B173DE35',\n",
       " 'F539AD59DFFCA7CE',\n",
       " '3D1A366EDDC82832',\n",
       " 'F0C5A6227B046452',\n",
       " '2DB47AE37A7B91B6',\n",
       " '3B5DA3B15E2FCD54',\n",
       " 'B3E321BBB0EB332B',\n",
       " '320CE96A266DF0CC',\n",
       " 'ABFF0B9BAD11BB5D',\n",
       " '92F843D598252571',\n",
       " 'F34D48681A35BD3B',\n",
       " '83E9CFC64D61108E',\n",
       " 'F507CB8030C885FB',\n",
       " '48FEAA2BDBC721D4',\n",
       " '8C88FA30D91583F7',\n",
       " '276D12E1738CA35B',\n",
       " 'B552B451D7D05DC0',\n",
       " '4803D52DB8782CC2',\n",
       " '44CD5B4C981A07B9',\n",
       " 'C64AA344C95B4D67',\n",
       " '81AD59E23B9825CE',\n",
       " 'E005D097532E222B',\n",
       " 'FD83244D94C592DB',\n",
       " '83D32D8B69200484',\n",
       " '49569D25169318CC',\n",
       " 'F8E83B74D951CBA0',\n",
       " '9F0571C70D4BD33B',\n",
       " 'EF449601C94D2496',\n",
       " '43D07273336C97BC',\n",
       " '831887FE7F2D6CBA',\n",
       " 'B8F008F4479822AC',\n",
       " '1492EAE3E322E4A1',\n",
       " 'C4E3E8F9137EF75F',\n",
       " '66C2398A8C8A8335',\n",
       " '941BFBD76D63BA60',\n",
       " '4532216377F3AAF1',\n",
       " 'B421879985BDB4EF',\n",
       " '9439DE9EB405AE74',\n",
       " '983051C6A972439D',\n",
       " 'F19205C6AF985AC9',\n",
       " '8F5D7DE5A7B06249',\n",
       " 'EA9B586EB852EE3D',\n",
       " '502902B3C32C72FF',\n",
       " '56E03288981E9B3D',\n",
       " '5C9E46262BBA9A24',\n",
       " 'B0BDF75B1B89A6AF',\n",
       " '1E50FCB9D758B845',\n",
       " '79913E8816E3DA5D',\n",
       " 'FF4456FBA59116E3',\n",
       " 'EF6DBFA129654B41',\n",
       " '38BF028EB424B65B',\n",
       " 'DC5EBC31C22D87B8',\n",
       " '14E1DBBBC0CCBA6D',\n",
       " 'BF1EB8E6FA3F19B8',\n",
       " 'F03F667009F16326',\n",
       " '624C4A19326EEE00',\n",
       " '513830B4DE585E61',\n",
       " 'D283592098BA37F3',\n",
       " 'F6C716472A556D8A',\n",
       " '51B92F2AE684079A',\n",
       " '4E8E346475528D93',\n",
       " '262C647D99621FF5',\n",
       " '0EB5F2EC4F101B28',\n",
       " 'C8460FF8BEF553A4',\n",
       " '9BFFAFDAB999DF19',\n",
       " 'F6785D85CBDA2BA6',\n",
       " 'A5B12BE38FEE8285',\n",
       " 'D82DD23742E57665',\n",
       " 'B0B3A724D085010F',\n",
       " 'B36E6B833278E44D',\n",
       " 'DE078758B0515023',\n",
       " '6598E05AD6455CD4',\n",
       " '2B780373E58B31B1',\n",
       " '59BA4B15D73A2A6C',\n",
       " '0B6D6F353F018A4C',\n",
       " '4B5225B3DCB853CE',\n",
       " '47F15386932C0E17',\n",
       " '98949A08011E22F6',\n",
       " 'D951417D2CE063C1',\n",
       " '08527CAB99830384',\n",
       " 'FD18B77214097771',\n",
       " '992B70348B5E398C',\n",
       " 'D45554BA350E10C4',\n",
       " '4D7A606D6E622E03',\n",
       " 'AF6633EF2F1EA335',\n",
       " '8CE0BDF8F59A752E',\n",
       " 'D50BB2F89A4A8A71',\n",
       " 'E8E9C498A0E41B1F',\n",
       " '5EC51E72CB294EC8',\n",
       " 'A352755099619F01',\n",
       " '8BD80DB1522F7120',\n",
       " 'C8BDDF5639850737',\n",
       " 'ACDCFF5D6EEDBEAC',\n",
       " 'ABC0D4B6F3DE650C',\n",
       " 'AAD4A279D0470A06',\n",
       " 'B837BA2E0B415FEB',\n",
       " 'B58337FD288F6C09',\n",
       " 'F56AB08144DDDFBC',\n",
       " 'FEA0C585A53E7027',\n",
       " 'D9BAC4C97F9C107F',\n",
       " '7D346928024E5D79',\n",
       " 'B373E9CB6566BAFF',\n",
       " '65A33D1E2F637CE6',\n",
       " '0F1A4F61491463B6',\n",
       " '123C3AC236BE84F0',\n",
       " '269363BBED2CB3CB',\n",
       " '52492BF2F4E36DE0',\n",
       " 'B5E7CF04B19BEE7F',\n",
       " 'B0244412983000C5',\n",
       " '49478BD14821320E',\n",
       " '020A95B66F363AFB',\n",
       " '9CC7BABE25F1E408',\n",
       " 'C7D588F1ABF3A91B',\n",
       " '3FE5E65CD28CBA5E',\n",
       " '0BC7C730D40D19D3',\n",
       " '4B479E626904CF59',\n",
       " 'D95E3615ECF90B13',\n",
       " 'A09DFE27D4CFF8E8',\n",
       " '67129A7CF8DD659D',\n",
       " '5239DFD9033C1BDF',\n",
       " 'CEFAC8C27D27EEB1',\n",
       " '53732758D90FB1E4',\n",
       " '20996AEF74602821',\n",
       " '9C1CB5C40F8B47FA',\n",
       " '61D3434CE0D95AB7',\n",
       " 'EF764370CC2F6C11',\n",
       " 'F1D8662F16A0EC47',\n",
       " '13B7E3DA955377BA',\n",
       " '7949B3058A8B10CB',\n",
       " '1042C7577F706938',\n",
       " '18E7E50874577C8B',\n",
       " 'BE8B208A8914D6EA',\n",
       " '8894D13FAA431712',\n",
       " '7E7829E4CE933271',\n",
       " '9744ED302F766733',\n",
       " 'D235BA1BB8DECBE9',\n",
       " 'F71DD44DAB783CEB',\n",
       " '2CEC84A86958E639',\n",
       " '57150D3838DE301A',\n",
       " 'E0DF3060D454B5AF',\n",
       " 'A4593845C28990A0',\n",
       " '9F13DEEDC1B3DA15',\n",
       " '8025229CCC15FC7D',\n",
       " '2CDFC246EAEEAB13',\n",
       " '73CE2DE1253D58B4',\n",
       " '7D8B4A3F6C824DC0',\n",
       " 'FE9B25977A8537C2',\n",
       " 'D902807C00F2AF2D',\n",
       " '6B7AE52469EE8789',\n",
       " 'EFA2387919DBD7A3',\n",
       " 'DCAA50AF3E368063',\n",
       " 'B3075614D07245D6',\n",
       " '51EAFCDB2FD73086',\n",
       " '1C711C65356BCFBF',\n",
       " '814737C35A55EC69',\n",
       " '2CDF6767D4DB80EB',\n",
       " 'FB158B12F907E8FB',\n",
       " 'AA116D67C4F48D50',\n",
       " '62F294CFA15D84CD',\n",
       " 'BC4A722DBC9D0784',\n",
       " 'BA9E68C3B8270A6C',\n",
       " 'E8BBE017F65D7CEA',\n",
       " '11D12E02D83F1ED5',\n",
       " '2686619F5A2AE06C',\n",
       " '29F21B1D6ECA38C8',\n",
       " 'BB9A4E0A50FD428D',\n",
       " '950CD6AE83F84E7D',\n",
       " '693922FA03FC6666',\n",
       " 'BE52857ABCAD4C9B',\n",
       " 'D05424491FD19AEC',\n",
       " '6C528D480CC1A7B7',\n",
       " '5426EFD4BBAEA349',\n",
       " '449330634C4DD2EA',\n",
       " '115ABCFDBDDB5950',\n",
       " '744851368CA52CBB',\n",
       " '508B391BE84DC7E5',\n",
       " '17774A79F6AF2037',\n",
       " 'D2B0920BEBA4E75F',\n",
       " 'FA98254969FF4762',\n",
       " 'CD650095FD201699',\n",
       " '74EEC94A70685C1E',\n",
       " '73470F95F5377324',\n",
       " '9DABE433CC812C08',\n",
       " '901BC5E571DE15D6',\n",
       " 'E1489CCA162BC2E6',\n",
       " 'CDBDCFC2BE3CF712',\n",
       " 'BE2F36A65378F25A',\n",
       " '773183F76AD2DD22',\n",
       " '6647A4395CED21C4',\n",
       " '535DC74493925CF8',\n",
       " '934134714E66295F',\n",
       " 'A0E1AD0FF8953659',\n",
       " '133F64DC5E24F047',\n",
       " '72B0745260AE6184',\n",
       " 'CBA33B9DE421A616',\n",
       " '92C95D766C83C31A',\n",
       " '10447F533AB822B0',\n",
       " '5CA4A1CD95B82E02',\n",
       " '2ADFE50A050C49F4',\n",
       " '0403647DF3450CE9',\n",
       " '8A2FACABB19EDC70',\n",
       " 'B44FA1599E5095D7',\n",
       " '627B91B2D548760C',\n",
       " '37D35A368E1996E1',\n",
       " '0FDE9F3DBB7E948F',\n",
       " 'D70EF43499FEBA88',\n",
       " '1AD9F88DA92AC4E5',\n",
       " '9F17DAA9F8821330',\n",
       " '64D18CAEAEE6150A',\n",
       " 'ADED1B2A28BD2B7B',\n",
       " '2F07A29AFC72B680',\n",
       " 'CB0B5021B1BE7403',\n",
       " 'FA1502972F2C71A0',\n",
       " 'B28D6681616A9ABC',\n",
       " '9A69D975A4ABE47C',\n",
       " 'FF44696E39039D29',\n",
       " 'E34104028365019C',\n",
       " 'F0BD18FF153ED188',\n",
       " '901C0498FF3E6796',\n",
       " '7F2C298110AA73B4',\n",
       " 'BEF16764A13AEC34',\n",
       " '7060BB1CBE3BAACC',\n",
       " '3D72713AE2B84E5F',\n",
       " '1073D7DFF1BBE8BB',\n",
       " '7D4C6A8C20B204F1',\n",
       " '0363BAFB478AA9EF',\n",
       " 'A92B46A5445A080D',\n",
       " 'D00F46D5446825D3',\n",
       " '633016A90C20AF68',\n",
       " '631FF094FE46A526',\n",
       " '6ADFC435DBE4D6EF',\n",
       " 'C226A7A3002ED8BE',\n",
       " '375CA26C16C90078',\n",
       " '44A2A1E6CF2599A8',\n",
       " '743EFA16F928E18B',\n",
       " '8D78A1F79AFF70A0',\n",
       " '97AD409895906A32',\n",
       " '9D7F535B9A8DE4F0',\n",
       " '2853F21A0E52F7AA',\n",
       " '71D1FF7218FB3F1E',\n",
       " '16A966EDBF8F9287',\n",
       " '751BD72A948FC86C',\n",
       " 'DFD8C4183FBA9025',\n",
       " '658CD4946CC82073',\n",
       " 'AAB4D11666ADB943',\n",
       " '899282BE203420CE',\n",
       " '5E6386704403013F',\n",
       " '11CDA230E45A761B',\n",
       " 'D0D1426BAFDD1FE5',\n",
       " '9C074AA784E63970',\n",
       " '3B15384B21594F3B',\n",
       " '4D2B0FBB9E528D60',\n",
       " '75845C83258FBF73',\n",
       " '65D4F08120880611',\n",
       " 'C4D195E6A29E6AEC',\n",
       " 'A383BFC91C909D0E',\n",
       " '0AE6BB3A134DC281',\n",
       " 'D6649FC9A4F2CC18',\n",
       " 'F7BAFF2E0A04F11B',\n",
       " '8693A09149596719',\n",
       " '18FF587F20E6B708',\n",
       " 'D0D8873714077818',\n",
       " '243A1B62C1E78B5F',\n",
       " '762F7B71CE6B0BF0',\n",
       " '051D59BC38C3B3AA',\n",
       " 'B1C9D123A83DD6CD',\n",
       " '87FFD32D80DA1933',\n",
       " '74995B52B7D313F9',\n",
       " '9A7F87C4E51D324A',\n",
       " '6E8A538DFED17F64',\n",
       " '38188B7456DEB035',\n",
       " 'A53AD293529FC05E',\n",
       " 'B79716591F903CBA',\n",
       " 'BE610DBEE1742042',\n",
       " '3238C99E0C1D511C',\n",
       " '6B03981851818A0F',\n",
       " '58EEC929BEEB234B',\n",
       " 'E1E0F9C8926A96B4',\n",
       " 'A7C2A44628D3D8B4',\n",
       " '95665DC1584AD532',\n",
       " '4B88913B9F581534',\n",
       " 'EBBE8317E9D7B490',\n",
       " '3A12AD8C7F3DBEDA',\n",
       " '7EED8A9D43C4ED9F',\n",
       " '08D42E112D1F4407',\n",
       " '5B04574502DEFDB3',\n",
       " '49925103AE5C1CD0',\n",
       " 'FF1AB7A774128512',\n",
       " 'F3F863075CD18AD4',\n",
       " 'B4FC80365FDFA4A8',\n",
       " 'B91C3B0B33F9788F',\n",
       " '7E81DBB1530EB04B',\n",
       " '6E15C5FAB89646B0',\n",
       " 'DD2A06518E530F99',\n",
       " '6FC1860C26779058',\n",
       " 'F424816C207F768D',\n",
       " '1209BC357FC2A702',\n",
       " '6A01DD5AF15B5187',\n",
       " '54A6D63E0A5A7C30',\n",
       " '15F57595AB51A15C',\n",
       " '1C32919B0614E08B',\n",
       " 'B41C0BC88EABA39B',\n",
       " 'C33D8C1C81C7AA23',\n",
       " 'DD5811571C7BBEB2',\n",
       " '0789FB0E408FCECF',\n",
       " '2AE10F8C21B66E8E',\n",
       " '9E0A3633886C080E',\n",
       " 'AA364AF6A253170F',\n",
       " '10F028FB8193F8C1',\n",
       " '60BBC6BDA8F51E4C',\n",
       " '91EAAB21F1AF3BC4',\n",
       " '52EC082510DA513B',\n",
       " '54633A9BB233F1E6',\n",
       " 'F69BC50D9CC2A47B',\n",
       " '2C1F2C9B0CBA4297',\n",
       " '770B5C9E0E546E44',\n",
       " '353358454348F75D',\n",
       " '41720B0DC37FACD5',\n",
       " 'C729D0E3D2A3D492',\n",
       " 'F04B8BB68DE7D207',\n",
       " '34CC6C202D629117',\n",
       " '312C37647F3D5433',\n",
       " '235E6B4478EB2D3D',\n",
       " 'A662A4DFC7F13881',\n",
       " 'F3FEFE92740A66C9',\n",
       " '01553AABC481F26C',\n",
       " '3AB66F0BF152DBEC',\n",
       " '55F1DDF55DD42893',\n",
       " '4F27E0ECC98D9F89',\n",
       " 'F0B92123E5142CBB',\n",
       " 'B2A29A177F435D9E',\n",
       " '6FA70EE4C9B7B522',\n",
       " '3F8981C8DA6F2E21',\n",
       " '2CC15FB4F021D006',\n",
       " 'AC11EA38EE62AFDB',\n",
       " 'E7F4B5EBC0495D72',\n",
       " '46C50A52430E3C1B',\n",
       " 'F705B7C31D8187D4',\n",
       " '78BC3B0E55AEFB14',\n",
       " 'E9C0BDEB2673D981',\n",
       " '04C4D0F1A70300A5',\n",
       " '5392D9E8F58D9E5F',\n",
       " '4664BF4717549775',\n",
       " 'E1259EA0AC254490',\n",
       " '4B6BA21C73F66940',\n",
       " '54E564A7253C7084',\n",
       " '8E239D61A31B07B9',\n",
       " 'DC241C9F0E1F9EE2',\n",
       " '7231EACCC8DDF6B1',\n",
       " '574ACBC674BC385D',\n",
       " '5A5E57DBDF04C4F4',\n",
       " '5C85C417F02FEDCF',\n",
       " '2B8243043C2CD72F',\n",
       " '2784913F3447A9EE',\n",
       " 'EBE2130151519EF6',\n",
       " '930EACAE048DFF45',\n",
       " 'E09EE3450F1FDDEB',\n",
       " 'FE76759FE6BF8C68',\n",
       " '2977FB7014B7AAFD',\n",
       " '92C660B9E62906DB',\n",
       " '1EB8F15AF201DEBD',\n",
       " 'DB4FD8EDE29B4ED7',\n",
       " '6F37A398B4B1011B',\n",
       " 'B263BC5957738D68',\n",
       " '64416F38F9F56582',\n",
       " '849E62FB58ECD9E8',\n",
       " '2F00500EA4718D05',\n",
       " 'AAED5CBA66F1C55B',\n",
       " 'C5AE17CBD0B33628',\n",
       " '3F8C780C616D46B6',\n",
       " '6EBE1F0101805FF8',\n",
       " 'BC7A6DEC0AF562E8',\n",
       " 'EE869B31C10C205E',\n",
       " '29A508F67F5E8D62',\n",
       " 'F52738C4461D426E',\n",
       " '73992B0026104CE0',\n",
       " 'E8D19649BE5927B3',\n",
       " '3F775ABC71333988',\n",
       " 'B667BF6049381019',\n",
       " '3371DE0844B9CDC8',\n",
       " '8DC451FDE0E14B8C',\n",
       " '6A2064F288EF094F',\n",
       " 'A678175F80A60139',\n",
       " 'F10551276E3FDD53',\n",
       " '89811DC3188FB9ED',\n",
       " 'C72B7A00E1C4419C',\n",
       " '6F5F0C6161DCC360',\n",
       " '953EF42BFB998A53',\n",
       " 'A3B863B926C50A29',\n",
       " '13E1E6999FEA8C82',\n",
       " '8ACA89D1AB4F3A06',\n",
       " 'B74EEDD937F690F2',\n",
       " 'D02C5540559EC8AF',\n",
       " 'A5E041918EF8B165',\n",
       " 'D078F9E17194B980',\n",
       " 'BE72BD2A30CC6265',\n",
       " 'F358607127B3ED20',\n",
       " 'B2795EB0A968DFB5',\n",
       " '39E330A497886B80',\n",
       " '9C2240EEE1D4AB2D',\n",
       " '21EA4E846C63EEA2',\n",
       " 'C1751C71BDB1A6AF',\n",
       " '5ECF8AD51FC8062E',\n",
       " '12A77BCF101643B5',\n",
       " '675CA569780B75C2',\n",
       " '2C8D5D38742CD38D',\n",
       " '955E2AF087FFB2C8',\n",
       " '27988259533C8798',\n",
       " '757203C72510A549',\n",
       " '22AD7C5B0BF83D87',\n",
       " '2FF689ED322323BF',\n",
       " 'C68A124C91E59F64',\n",
       " '1671B60B525AD59C',\n",
       " '77E438939CEADFAB',\n",
       " 'F2A7DA882BF8ECD6',\n",
       " 'A121E8F760F7D482',\n",
       " '729F6099B1B31935',\n",
       " 'BEBA943958646132',\n",
       " 'AB520A42EB5EB73F',\n",
       " 'AF9FD44E4FBE7A44',\n",
       " '8A401E7C2E0DAE58',\n",
       " '51FDB0ADA53D0D48',\n",
       " '2A7FA841A0CCE6A4',\n",
       " '60113D4208F4A6EA',\n",
       " '9129432E44950B25',\n",
       " '7875B71ED824F8F2',\n",
       " 'F7B9D8D3C0FC9881',\n",
       " 'A7D19C11F4E1FD02',\n",
       " '1D831F7D0F539AFA',\n",
       " '921FFC6F0F506A82',\n",
       " 'D5B0B737B6FA90BD',\n",
       " '3CE4F4B657EEA984',\n",
       " 'D6B4574EE9574666',\n",
       " '2A12393A2BBFF701',\n",
       " 'CA745C0BCC9ECDC9',\n",
       " '9232597CF9D85C19',\n",
       " '4520B43FE9412086',\n",
       " '0D285C0161DC93C3',\n",
       " '61572514C5A56E3F',\n",
       " '3A7987AFAA3A5F47',\n",
       " 'CA9D3DEA00836355',\n",
       " '3DC600D74FA59779',\n",
       " '82F72EC6CDC1BA8F',\n",
       " 'ABDE941B896D8119',\n",
       " 'F4E16CAFB780CA34',\n",
       " '6341253DB26441CC',\n",
       " '84C13EFBE76DF52F',\n",
       " 'D5F578A546F3E804',\n",
       " '2526727E67CFBF91',\n",
       " 'A0028F574B5E5DC6',\n",
       " 'A4312FFD172A4998',\n",
       " 'CA716ADC629C673C',\n",
       " 'A7EE379599B38AE0',\n",
       " '9999E0476CE6B08B',\n",
       " 'E7F987613543A1C4',\n",
       " '00C1F5175586DFCF',\n",
       " '624B51C834246D6E',\n",
       " '42DC6797E8D381A6',\n",
       " '6373DF47967DE965',\n",
       " 'EAA6967BB9807DF2',\n",
       " 'ACFD5D445985AE60',\n",
       " '1C1B7475595D9294',\n",
       " '9309CF46F5F527CC',\n",
       " '1E69D8DC3D22A02B',\n",
       " 'A880134551CFF8B7',\n",
       " '4F42516E15B2884D',\n",
       " 'B8E0351B91F1DDC2',\n",
       " '90F337B80CCC568F',\n",
       " 'BF3665AB1DF86357',\n",
       " '6A6BC1363AEA618B',\n",
       " 'EA944584D446BE37',\n",
       " '26A23E9CB4B57177',\n",
       " '82240827D9FAFDBC',\n",
       " '8B6B98D9A40E0A42',\n",
       " '0FE0324B5431F1FF',\n",
       " '0B08BA67D85527C5',\n",
       " 'E5C6DE0BA7722B11',\n",
       " 'B1E415298C5787E1',\n",
       " 'F43E08F2E0C436A1',\n",
       " '5D0230BA5C402C36',\n",
       " '4089CD204802F5F8',\n",
       " 'A9A74277A0BF0A74',\n",
       " 'FCDFCA0D5C77DACF',\n",
       " 'A48676A84719B3A7',\n",
       " '9AEEA97EAF5EF3AD',\n",
       " '603C1A0FA47D1640',\n",
       " '553BAE96C6EB6240',\n",
       " 'ADCF8D880A4BE067',\n",
       " '327DC9ED840648A9',\n",
       " '3B62EE83708770A5',\n",
       " '4DE200C2E6892148',\n",
       " '4D921165CD2825D1',\n",
       " '788C61EDBDD38346',\n",
       " '90FB15B7FA2DE77E',\n",
       " '70D895B270A5C63F',\n",
       " '31BF5EE63818001F',\n",
       " '427C5593BE58CA0A',\n",
       " '69B106F098CB640E',\n",
       " 'B2716998187D5D74',\n",
       " 'D1BB2F57BCD02BAE',\n",
       " 'E3780F6861A69868',\n",
       " 'C2C562133A1C9257',\n",
       " '99D8B949A0F660D9',\n",
       " 'B8C274B31B0922CA',\n",
       " '185390DDE14DBAF0',\n",
       " 'A5392D494EB71414',\n",
       " '64D39595B31D9ECE',\n",
       " '54C76446EF844CA5',\n",
       " 'BD2BB02AB72267D5',\n",
       " '5A5D645876C5C692',\n",
       " '5AD2A85FFA7D7EBE',\n",
       " 'D493E891D8F64BBC',\n",
       " '89143F0AEFE3B11D',\n",
       " '406C36651C2DC517',\n",
       " 'F36F4FC5A884C3DA',\n",
       " '71CEEC563CBDAA52',\n",
       " '3C46C1264F52F92C',\n",
       " '9EAD9CC9BF5388D6',\n",
       " 'B84DFF47E82A9FDF',\n",
       " 'C4B642E77C1442DC',\n",
       " '058CE187A2C73865',\n",
       " '23099FEE162E1171',\n",
       " 'C9E32DE296F68008',\n",
       " 'D3A4F3513CC0AA2F',\n",
       " 'DA8F64F1377DDF18',\n",
       " 'F38941283A36C34B',\n",
       " 'E40FA02A8A53F693',\n",
       " 'ABBC1318F774F1C7',\n",
       " 'F02E70D62DD8C647',\n",
       " 'EC998D82E096033B',\n",
       " '526BA4A669CC6CC2',\n",
       " 'D2D3509933B9D5F3',\n",
       " '95A9423B37553B4B',\n",
       " 'BC2BD6C7CB1BC44A',\n",
       " '891846A96F23C9FB',\n",
       " 'C99F4A393066D056',\n",
       " '10387B8D694D539C',\n",
       " '9925E2782BE199A1',\n",
       " '2B52C7EB498926E9',\n",
       " 'F9B6AD71F73676ED',\n",
       " 'CF6217721866DD60',\n",
       " '45BB42062A5ADE6A',\n",
       " '43525009898D1143',\n",
       " 'F80FC42C7F73F8B7',\n",
       " '0D51FE4B2E18E2AA',\n",
       " 'DD4731E5B4C9C4EB',\n",
       " '80313F5B33116510',\n",
       " 'FD11BEB17BD1E5F1',\n",
       " '3A51DB52BBE78257',\n",
       " '972CBA9F98130D80',\n",
       " '934A57222FCEEB83',\n",
       " 'D619AD4EE42C528C',\n",
       " '8CB43640885FB26D',\n",
       " '40194A2E6C03B547',\n",
       " '4215B191932224A0',\n",
       " 'CDAB4A05F21A24C5',\n",
       " '09B88E6FFE331C1B',\n",
       " 'BAEFF105F449EDED',\n",
       " '4C30B83191F4E868',\n",
       " 'A63E656FACCE2303',\n",
       " 'B07E7D9CB9059072',\n",
       " 'FEB3425EC30528D3',\n",
       " '15462EF9B810E2CD',\n",
       " '8539AA62B6546F8A',\n",
       " '6B0B075EA63618BE',\n",
       " '662306E701932E5F',\n",
       " '568C35FDE36F7C26',\n",
       " 'A2CBF9847DA60249',\n",
       " 'C41BBCA9DACE544D',\n",
       " 'CC0357816B62C977',\n",
       " '9ADD7E23AB7B2DDE',\n",
       " 'AC07099C53E86F19',\n",
       " '9F4F58990EAB3DFE',\n",
       " 'DB6EC7ECB0CEDCC4',\n",
       " 'CD5FA63C961F184C',\n",
       " '1675B921AC721DBE',\n",
       " 'FDF035F9D4A1EB66',\n",
       " '9D5D1CAC16E9262D',\n",
       " 'E3BEB139D0839F91',\n",
       " 'AAF83E489AE98FA9',\n",
       " '8B0BA4CE10E81A84',\n",
       " '7082A327CF0E4C64',\n",
       " 'E77863BC299F8D0F',\n",
       " 'B0E30AA87B452A9E',\n",
       " 'A730DDB04AED5F18',\n",
       " '334ED3F43ABDC5C8',\n",
       " '8C69C35FB5E142F8',\n",
       " '171AE14E963A031E',\n",
       " 'BC80B15B50733DFD',\n",
       " '82FA2F2C50027EBA',\n",
       " '63A360FDA79D81FB',\n",
       " 'A348429F143159AD',\n",
       " '5C909C0F25ACD34E',\n",
       " '74EB97563ACDAC5A',\n",
       " '48CFE37563932DC2',\n",
       " 'AFBBA0B7F31E24B4',\n",
       " '1B1BF1461CD36163',\n",
       " 'C01E6C31AC2CF13A',\n",
       " 'C6FF68D218AAC396',\n",
       " '290326A9104DB872',\n",
       " '796235FF6E88D357',\n",
       " 'C7D1A5A6F6BAD476',\n",
       " 'B60B4563ADC259E3',\n",
       " '4B49F8A4F8D891BE',\n",
       " '0EF9EA17D205AB66',\n",
       " 'EDD72A37B86EE7C2',\n",
       " 'E5589EAE02ACD150',\n",
       " '79B52A43517478A4',\n",
       " '05DFF8D890EC3429',\n",
       " 'D8F6AB1991C8E709',\n",
       " 'EE24621F3C564C74',\n",
       " '557490F410B59932',\n",
       " 'C72752E18AD12854',\n",
       " 'E02247CEF572ACCA',\n",
       " 'B700678A073FBD5D',\n",
       " '34AAD2B0BAD25DC2',\n",
       " '531A12DB5C85089A',\n",
       " '4FFEF3C8471FF8EA',\n",
       " '5710EDF8BA684005',\n",
       " 'C4D22266B17264E8',\n",
       " '6B5588BC7DC84D6E',\n",
       " '5FE8A7964BFE9201',\n",
       " '5C7F53937B54D161',\n",
       " '84159F74BE9D798D',\n",
       " 'E2F9D9C5F177CBE9',\n",
       " '5E26340B4933987D',\n",
       " 'DC16020AF1E1177B',\n",
       " 'EAD7AC780F0CB611',\n",
       " '683331D56191FA80',\n",
       " 'E7692088C79C239E',\n",
       " 'A47E788C6F4C0773',\n",
       " '0A5E3BE3C51CB47A',\n",
       " 'A2DB18F90D9E3362',\n",
       " 'B2D4801BB8972E30',\n",
       " '6BD902CBE55BDF47',\n",
       " 'A81312977901914F',\n",
       " '0ABFD36137600ACE',\n",
       " '7E1F03995B8C2DC0',\n",
       " '84DC74ED5E60BA6A',\n",
       " 'ACB64C0F136FCAE1',\n",
       " 'FB1F9619F8C3CC75',\n",
       " '71434D2EBAD9AD9A',\n",
       " 'EBDE231E67FBEF9D',\n",
       " '46B7D77C21F1E82B',\n",
       " '1A332341472132E0',\n",
       " 'EF058AAD0A56A298',\n",
       " 'B01CF7E5AC419DE0',\n",
       " '0FF10274AC68852A',\n",
       " '2FCC7F12CF1CE227',\n",
       " '6CC231BB686AB3C4',\n",
       " '99BA41CB3831DBEA',\n",
       " '70900182F3001416',\n",
       " '6804FEC10B5C2162',\n",
       " 'B624B54442BF2DE9',\n",
       " 'D4DD37C21CBA5940',\n",
       " '64D36BA14A812BF7',\n",
       " '9EBDA30C87A7B9B3',\n",
       " '2429481BD8F59671',\n",
       " '0997EC1C4850B27B',\n",
       " '059F2CF5017A15B3',\n",
       " '7CBE6C0B1530D0C8',\n",
       " 'C4F3A9D7BB596E6E',\n",
       " '0A12E8D9791F74A7',\n",
       " 'A2505D1062E77B85',\n",
       " '28D889F742D7CB1F',\n",
       " '107E3525129860E1',\n",
       " 'AA703FB9F9004F86',\n",
       " '893E0E607C20F882',\n",
       " '06C9AD50396A67F2',\n",
       " '777B193B0F3731A5',\n",
       " ...]"
      ]
     },
     "execution_count": 180,
     "metadata": {},
     "output_type": "execute_result"
    }
   ],
   "source": [
    "#getting a list of user id in the A/B test group \n",
    "user_list=ab_new_participants_df['user_id'].tolist()\n",
    "user_list"
   ]
  },
  {
   "cell_type": "code",
   "execution_count": 181,
   "metadata": {},
   "outputs": [],
   "source": [
    "#getting the region of users in A/B test group\n",
    "temp_df=ab_new_users_df[ab_new_users_df['user_id'].isin(user_list)]"
   ]
  },
  {
   "cell_type": "code",
   "execution_count": 182,
   "metadata": {},
   "outputs": [
    {
     "data": {
      "text/plain": [
       "EU           3481\n",
       "N.America     119\n",
       "APAC           45\n",
       "CIS            30\n",
       "Name: region, dtype: int64"
      ]
     },
     "execution_count": 182,
     "metadata": {},
     "output_type": "execute_result"
    }
   ],
   "source": [
    "temp_df['region'].value_counts()"
   ]
  },
  {
   "cell_type": "code",
   "execution_count": 183,
   "metadata": {},
   "outputs": [
    {
     "data": {
      "text/html": [
       "<div>\n",
       "<style scoped>\n",
       "    .dataframe tbody tr th:only-of-type {\n",
       "        vertical-align: middle;\n",
       "    }\n",
       "\n",
       "    .dataframe tbody tr th {\n",
       "        vertical-align: top;\n",
       "    }\n",
       "\n",
       "    .dataframe thead th {\n",
       "        text-align: right;\n",
       "    }\n",
       "</style>\n",
       "<table border=\"1\" class=\"dataframe\">\n",
       "  <thead>\n",
       "    <tr style=\"text-align: right;\">\n",
       "      <th></th>\n",
       "      <th>Unnamed: 0</th>\n",
       "      <th>user_id</th>\n",
       "      <th>first_date</th>\n",
       "      <th>region</th>\n",
       "      <th>device</th>\n",
       "    </tr>\n",
       "  </thead>\n",
       "  <tbody>\n",
       "    <tr>\n",
       "      <th>0</th>\n",
       "      <td>0</td>\n",
       "      <td>D72A72121175D8BE</td>\n",
       "      <td>2020-12-07</td>\n",
       "      <td>EU</td>\n",
       "      <td>PC</td>\n",
       "    </tr>\n",
       "    <tr>\n",
       "      <th>19</th>\n",
       "      <td>19</td>\n",
       "      <td>DD4352CDCF8C3D57</td>\n",
       "      <td>2020-12-07</td>\n",
       "      <td>EU</td>\n",
       "      <td>Android</td>\n",
       "    </tr>\n",
       "    <tr>\n",
       "      <th>22</th>\n",
       "      <td>22</td>\n",
       "      <td>831887FE7F2D6CBA</td>\n",
       "      <td>2020-12-07</td>\n",
       "      <td>EU</td>\n",
       "      <td>Android</td>\n",
       "    </tr>\n",
       "    <tr>\n",
       "      <th>38</th>\n",
       "      <td>38</td>\n",
       "      <td>4CB179C7F847320B</td>\n",
       "      <td>2020-12-07</td>\n",
       "      <td>EU</td>\n",
       "      <td>iPhone</td>\n",
       "    </tr>\n",
       "    <tr>\n",
       "      <th>39</th>\n",
       "      <td>39</td>\n",
       "      <td>29C92313A98B1176</td>\n",
       "      <td>2020-12-07</td>\n",
       "      <td>APAC</td>\n",
       "      <td>Android</td>\n",
       "    </tr>\n",
       "  </tbody>\n",
       "</table>\n",
       "</div>"
      ],
      "text/plain": [
       "    Unnamed: 0           user_id  first_date region   device\n",
       "0            0  D72A72121175D8BE  2020-12-07     EU       PC\n",
       "19          19  DD4352CDCF8C3D57  2020-12-07     EU  Android\n",
       "22          22  831887FE7F2D6CBA  2020-12-07     EU  Android\n",
       "38          38  4CB179C7F847320B  2020-12-07     EU   iPhone\n",
       "39          39  29C92313A98B1176  2020-12-07   APAC  Android"
      ]
     },
     "execution_count": 183,
     "metadata": {},
     "output_type": "execute_result"
    }
   ],
   "source": [
    "#getting the region of users in A/B test group\n",
    "temp_df.head()"
   ]
  },
  {
   "cell_type": "code",
   "execution_count": 184,
   "metadata": {},
   "outputs": [
    {
     "data": {
      "text/html": [
       "<div>\n",
       "<style scoped>\n",
       "    .dataframe tbody tr th:only-of-type {\n",
       "        vertical-align: middle;\n",
       "    }\n",
       "\n",
       "    .dataframe tbody tr th {\n",
       "        vertical-align: top;\n",
       "    }\n",
       "\n",
       "    .dataframe thead th {\n",
       "        text-align: right;\n",
       "    }\n",
       "</style>\n",
       "<table border=\"1\" class=\"dataframe\">\n",
       "  <thead>\n",
       "    <tr style=\"text-align: right;\">\n",
       "      <th></th>\n",
       "      <th>Unnamed: 0</th>\n",
       "      <th>user_id</th>\n",
       "      <th>first_date</th>\n",
       "      <th>region</th>\n",
       "      <th>device</th>\n",
       "    </tr>\n",
       "  </thead>\n",
       "  <tbody>\n",
       "    <tr>\n",
       "      <th>0</th>\n",
       "      <td>0</td>\n",
       "      <td>D72A72121175D8BE</td>\n",
       "      <td>2020-12-07</td>\n",
       "      <td>EU</td>\n",
       "      <td>PC</td>\n",
       "    </tr>\n",
       "    <tr>\n",
       "      <th>19</th>\n",
       "      <td>19</td>\n",
       "      <td>DD4352CDCF8C3D57</td>\n",
       "      <td>2020-12-07</td>\n",
       "      <td>EU</td>\n",
       "      <td>Android</td>\n",
       "    </tr>\n",
       "    <tr>\n",
       "      <th>22</th>\n",
       "      <td>22</td>\n",
       "      <td>831887FE7F2D6CBA</td>\n",
       "      <td>2020-12-07</td>\n",
       "      <td>EU</td>\n",
       "      <td>Android</td>\n",
       "    </tr>\n",
       "    <tr>\n",
       "      <th>38</th>\n",
       "      <td>38</td>\n",
       "      <td>4CB179C7F847320B</td>\n",
       "      <td>2020-12-07</td>\n",
       "      <td>EU</td>\n",
       "      <td>iPhone</td>\n",
       "    </tr>\n",
       "    <tr>\n",
       "      <th>67</th>\n",
       "      <td>67</td>\n",
       "      <td>3C5DD0288AC4FE23</td>\n",
       "      <td>2020-12-07</td>\n",
       "      <td>EU</td>\n",
       "      <td>PC</td>\n",
       "    </tr>\n",
       "  </tbody>\n",
       "</table>\n",
       "</div>"
      ],
      "text/plain": [
       "    Unnamed: 0           user_id  first_date region   device\n",
       "0            0  D72A72121175D8BE  2020-12-07     EU       PC\n",
       "19          19  DD4352CDCF8C3D57  2020-12-07     EU  Android\n",
       "22          22  831887FE7F2D6CBA  2020-12-07     EU  Android\n",
       "38          38  4CB179C7F847320B  2020-12-07     EU   iPhone\n",
       "67          67  3C5DD0288AC4FE23  2020-12-07     EU       PC"
      ]
     },
     "execution_count": 184,
     "metadata": {},
     "output_type": "execute_result"
    }
   ],
   "source": [
    "#filtering only users in EU region\n",
    "temp_df=temp_df[temp_df['region']=='EU']\n",
    "temp_df.head()"
   ]
  },
  {
   "cell_type": "code",
   "execution_count": 185,
   "metadata": {},
   "outputs": [
    {
     "data": {
      "text/plain": [
       "['D72A72121175D8BE',\n",
       " 'DD4352CDCF8C3D57',\n",
       " '831887FE7F2D6CBA',\n",
       " '4CB179C7F847320B',\n",
       " '3C5DD0288AC4FE23',\n",
       " 'B27F5380AF0936D3',\n",
       " '21EA4E846C63EEA2',\n",
       " 'ABABE1BAB6C77540',\n",
       " '204343649F72D01B',\n",
       " '23B71FAAF4A89964',\n",
       " '49EA242586C87836',\n",
       " '75845C83258FBF73',\n",
       " '26A23E9CB4B57177',\n",
       " '6A581C74EF4D5F44',\n",
       " '2B06EB547B7AAD08',\n",
       " 'A640F31CAC7823A6',\n",
       " 'BE0352414C31EDE4',\n",
       " '5D93D429975AAA1D',\n",
       " 'DF40EF85F55A958D',\n",
       " 'CBEFCA3BFDE4CC58',\n",
       " '2F46396B6766CFDB',\n",
       " '9B234D350E686A67',\n",
       " '538F954F6B3AECE4',\n",
       " '53732758D90FB1E4',\n",
       " 'A9908F62C41613A8',\n",
       " 'CE771EFC59ED44A5',\n",
       " '9A6CE800C60794BD',\n",
       " '0997EC1C4850B27B',\n",
       " '135F6688A1DC637B',\n",
       " 'C7CB2F1BA42F102B',\n",
       " 'B06B45B7C3E5E721',\n",
       " '849E62FB58ECD9E8',\n",
       " '0FC3C8BC1348A405',\n",
       " 'CF03E97B314C5632',\n",
       " '0FBF679EA1340786',\n",
       " '633CB6082D5FF13A',\n",
       " 'B3E321BBB0EB332B',\n",
       " '1E8855206E49EFF8',\n",
       " 'CE264232AC9049B8',\n",
       " '1B19866D07353640',\n",
       " 'F0C5A6227B046452',\n",
       " '83AB3C13B3972BAE',\n",
       " '3AE5E3EE2C8A8727',\n",
       " '1A02F6E467DB81E3',\n",
       " 'D928E12DD731B2EE',\n",
       " 'E5C1C86BCE045D73',\n",
       " '80313F5B33116510',\n",
       " 'A7E7871D2D2637C4',\n",
       " '2828E6688DC580C4',\n",
       " '58E6F67F64314776',\n",
       " '681FEAB4C02403C9',\n",
       " '502902B3C32C72FF',\n",
       " 'D2ACA8F6E2C79C02',\n",
       " '368501F66CFDEBFE',\n",
       " 'DD5EBF41B1DCCB0E',\n",
       " 'C8ABA13613426B05',\n",
       " 'ECFDC55465F7ED03',\n",
       " 'A1550AF89E314963',\n",
       " '5E0FE312B9349ADB',\n",
       " '2FCC7F12CF1CE227',\n",
       " 'DE4E1B6A308054BB',\n",
       " '796235FF6E88D357',\n",
       " '067D05BD30F04F2E',\n",
       " 'A3B863B926C50A29',\n",
       " '595F328B3910346D',\n",
       " 'C3666DF0F2EE66A9',\n",
       " '13A5CE600AB1EA8A',\n",
       " 'D6A7F15A98C4FF86',\n",
       " 'C56A31CE1C750E9B',\n",
       " '68F7B81C31BCD5EF',\n",
       " 'EE90C1C80B415747',\n",
       " 'F5B7DA8807EC1AF7',\n",
       " '020A95B66F363AFB',\n",
       " 'CBA33B9DE421A616',\n",
       " '0EA9AB1C2A159C77',\n",
       " '5E9E9A756522A453',\n",
       " '7A5A2E9D57A39232',\n",
       " '8B480AD647CE1BDE',\n",
       " '1C32919B0614E08B',\n",
       " '6F76F492BDB91570',\n",
       " '1FFFDF2881715DDF',\n",
       " 'C286A270CFB9925D',\n",
       " '13497F441BC81020',\n",
       " '76326F7A53D2008C',\n",
       " '2626A4773033458D',\n",
       " '37A0A1F3FB2F01F4',\n",
       " 'A59E02D110041638',\n",
       " 'C59B1E478A22FBE9',\n",
       " '3B6ABE8E7872977E',\n",
       " 'B2BB6F16652B21BF',\n",
       " 'B5F49BFBDAB1AE0A',\n",
       " '77FC0E20AEAC1506',\n",
       " '7BC59B90C9447C42',\n",
       " '7E8720DB6A21CF66',\n",
       " 'DFA630F93B5685D3',\n",
       " '618D7AD9FE73843C',\n",
       " '23E633E92EDCD195',\n",
       " 'FC579467441F9567',\n",
       " 'B0D0F552D955E773',\n",
       " '021E3EC8A37EE2E3',\n",
       " '68373F4331DDD2E6',\n",
       " 'A348429F143159AD',\n",
       " 'F36F4FC5A884C3DA',\n",
       " 'D6B4574EE9574666',\n",
       " '0D7E9E93CD497547',\n",
       " 'F08E0A115537BBBB',\n",
       " 'FA98254969FF4762',\n",
       " '172F0C1F993BE914',\n",
       " '815A6F15B943B0A3',\n",
       " 'C9CC41E49C5C4917',\n",
       " '3B3AE26404B64EF2',\n",
       " 'AAF83E489AE98FA9',\n",
       " '531A12DB5C85089A',\n",
       " 'B4BAC8172F358933',\n",
       " '36D7F758BDA431D2',\n",
       " '748DD5E33B6F98C3',\n",
       " '954C980B4A9559FF',\n",
       " 'E7F87F9FBA3269B1',\n",
       " 'B582D211C1BE1FFD',\n",
       " 'C7750723906C925A',\n",
       " 'C48D82CC09586152',\n",
       " 'CFE0C6DEB1908885',\n",
       " 'F057A0C8EFECDBEE',\n",
       " '095433767F103AC4',\n",
       " '3E76EBF712971549',\n",
       " '2486564D8219E23F',\n",
       " '56E03288981E9B3D',\n",
       " 'BA4C35CA818D950F',\n",
       " '15B0DB8D837C4234',\n",
       " '320CE96A266DF0CC',\n",
       " '7A504D510F9703FB',\n",
       " '0F6573B9431935D2',\n",
       " '3ECD3275C575C3CE',\n",
       " '3242BDDFA690A22B',\n",
       " '5E4209899B451FE6',\n",
       " 'A27BAA0CE8FC4E80',\n",
       " '58EEC929BEEB234B',\n",
       " 'C90BE197FEC95F6B',\n",
       " '8FC9D1BB3017BE66',\n",
       " '7A6E345A0058C71B',\n",
       " '894A2506B3A50D03',\n",
       " 'A383BFC91C909D0E',\n",
       " 'D2E647207224B3CB',\n",
       " '6AD62747E7232427',\n",
       " '66C940F046100DE1',\n",
       " '53D1ED34AA83F5DC',\n",
       " 'BABB70C636BA523A',\n",
       " '127DA1103176E88E',\n",
       " '8FF91E21E27A330D',\n",
       " 'A5392D494EB71414',\n",
       " 'CFB189D220054DC2',\n",
       " 'FF40F25452E70E3D',\n",
       " 'B192F2514CCD10B2',\n",
       " 'D624C9013C372DCC',\n",
       " '3C46C1264F52F92C',\n",
       " 'B0244412983000C5',\n",
       " '825AED81399E5243',\n",
       " '890FAC5B9F47563F',\n",
       " '37D35A368E1996E1',\n",
       " '9709EF8B153900FF',\n",
       " '29F21B1D6ECA38C8',\n",
       " 'F89DE21913485212',\n",
       " 'F561D76FF3C35292',\n",
       " 'F9B39A46A299971D',\n",
       " 'EA62EC33715AE967',\n",
       " 'A12886FD7DA592AF',\n",
       " 'D87D9AFAB66866A7',\n",
       " '2D12BC385E35EEDE',\n",
       " '20C556708013209A',\n",
       " '7E1F03995B8C2DC0',\n",
       " '479E6B3F54CD82C1',\n",
       " '8D3BB23BB020C0B9',\n",
       " '84159F74BE9D798D',\n",
       " '2C2BE85372033F77',\n",
       " 'BAAEE6D68FB90D22',\n",
       " '93F09E34600A9FC9',\n",
       " '5506A0943960B58F',\n",
       " '1EB1C8E41C1DD5EE',\n",
       " 'C21237DC47AE00C5',\n",
       " '44EB15AD423DC31C',\n",
       " '702566DE3898CB6C',\n",
       " '4B60670F850D5024',\n",
       " '742C0E363D2C9EA7',\n",
       " '38170259A5DD6CB0',\n",
       " 'DEC8CD55F35F2087',\n",
       " 'A8C25A605F613665',\n",
       " '11B7A37DCAA15E12',\n",
       " '4A61A28F35795FD1',\n",
       " 'B82E8D69DF24D051',\n",
       " '20996AEF74602821',\n",
       " '6E3E5F88B6A3B401',\n",
       " '13638CB4AAEB1B5F',\n",
       " 'E9FACA4A16026FEE',\n",
       " '36FCA849A8CF677A',\n",
       " 'EF449601C94D2496',\n",
       " '1C711C65356BCFBF',\n",
       " '88FB1EDF3E249223',\n",
       " '91C6167576DAB613',\n",
       " 'D588F6281B467D9D',\n",
       " '61AA89431638019E',\n",
       " '3A51DB52BBE78257',\n",
       " '2D231F946B5F8828',\n",
       " 'CA75B372B0A884B0',\n",
       " 'A244B2AA7F792F5B',\n",
       " '542FE442CF2BDA4B',\n",
       " '94DEE458C4F03B12',\n",
       " '6AEA9F09C2B28850',\n",
       " 'FCA4F49B1A82FA6C',\n",
       " 'CC705D51C74418AD',\n",
       " 'F9945FBF588762BE',\n",
       " 'C845E42170625895',\n",
       " '1356A5C3AEAF5D55',\n",
       " '1AA90C1AD5727610',\n",
       " '27802765D2458B2B',\n",
       " 'B44FA1599E5095D7',\n",
       " '3BA458C3A704EA03',\n",
       " 'D777C0574A824593',\n",
       " '2139548144435929',\n",
       " 'BB7E54F566F3591B',\n",
       " '8AE7EBC9CA45EEB7',\n",
       " 'AEE24B6142A3C431',\n",
       " '20285349F62230E9',\n",
       " '47DEBC099D7E9A00',\n",
       " 'E25A289CC240A27A',\n",
       " '4EFB5E89AC11AC6D',\n",
       " '95A9423B37553B4B',\n",
       " 'D96241A1394BBE51',\n",
       " '7C1D449DDD36DB83',\n",
       " '7415696C510E38FB',\n",
       " 'FE9B25977A8537C2',\n",
       " '53BF5C161381348E',\n",
       " 'A9C96F18EA2D7255',\n",
       " 'EBBE8317E9D7B490',\n",
       " 'F4BEF7B9C8172E36',\n",
       " 'BC80B15B50733DFD',\n",
       " '886E52074D084B18',\n",
       " '90192F1A66D5A0AE',\n",
       " '47FD6B1D75C29C53',\n",
       " '4A55475E078F40DC',\n",
       " '57150D3838DE301A',\n",
       " 'BA5C51269356E223',\n",
       " '3341349F0FD06C14',\n",
       " '963B1853B52C27E5',\n",
       " '51B92F2AE684079A',\n",
       " '3BB8C637AE50D857',\n",
       " 'DC16020AF1E1177B',\n",
       " '0F1FF07B3788976D',\n",
       " 'FD18B77214097771',\n",
       " 'ACFD5D445985AE60',\n",
       " 'EB156C43F246B54D',\n",
       " '1576666870A32FCF',\n",
       " 'DBCA5313FEE8A3B9',\n",
       " 'FF120D67C4BE2DA3',\n",
       " 'E24BE751BAC2D204',\n",
       " '5A8697B441AAEE78',\n",
       " 'F69BC50D9CC2A47B',\n",
       " 'C48127E2FA8D4F18',\n",
       " 'C551062DE251F867',\n",
       " 'C3C56A2DFF10BC79',\n",
       " 'EC55B8954BD4E1B9',\n",
       " '07234E37400E061A',\n",
       " '2775B9A97488A3BF',\n",
       " '8D6F24423F70A84E',\n",
       " '06D2B163CB560FAC',\n",
       " '89143F0AEFE3B11D',\n",
       " 'EAFB9027A27D510C',\n",
       " '4438A8DB1591E2FD',\n",
       " '6D399D5D2832CD40',\n",
       " '8FA22C8AB0409CA3',\n",
       " 'A3FE6D821476E810',\n",
       " 'B8F5A3560F2DF46E',\n",
       " '53638472C31218BA',\n",
       " 'AAB4D11666ADB943',\n",
       " '8D46D7EB5112DC9D',\n",
       " 'A95172F80393487E',\n",
       " '8C69C35FB5E142F8',\n",
       " '9E68AB5C5C7FEFF4',\n",
       " 'EE952F59080E2AF6',\n",
       " '5FF8B6AB257B404F',\n",
       " '4664BF4717549775',\n",
       " 'A0BAE4190D41A285',\n",
       " '111E0B8A76E90532',\n",
       " '87C41A6F03A02CEA',\n",
       " '5B1F39B5D751B669',\n",
       " '28DD2C1ED759904D',\n",
       " '8DC451FDE0E14B8C',\n",
       " '4ECCD93E1F247611',\n",
       " '1D0FCBD767EE0874',\n",
       " '70CE04E185154AD7',\n",
       " '0D8941E6DC625B26',\n",
       " '4E30D2D92227F2AA',\n",
       " '94464DF2E5398E26',\n",
       " '1198061F6AF34B7B',\n",
       " 'FCF9CA847EFA5A92',\n",
       " 'EBBB856F2919A55E',\n",
       " '38189578561F38CB',\n",
       " '8C711C385D747C84',\n",
       " '105D8E7444D335A5',\n",
       " '4F7E0D9A5A563B2C',\n",
       " '0E24E4F981343864',\n",
       " 'B88758633AAFA177',\n",
       " '68F3A9E7EE6B9249',\n",
       " 'EBE2130151519EF6',\n",
       " 'F4F0EBA22BD734B4',\n",
       " 'F3A05C8D912975AB',\n",
       " 'D1ABA3E2887B6A73',\n",
       " '31EAD7E21AF728DF',\n",
       " 'BE3C02D74A664180',\n",
       " '2EBF2E73A8630674',\n",
       " 'E2E336528AB6202A',\n",
       " '89545C7F903DBA34',\n",
       " '9C1CB5C40F8B47FA',\n",
       " 'EABF946459C4DA3A',\n",
       " 'B91148EC45D3102A',\n",
       " '115EBC1CA027854A',\n",
       " '08E17E11A2BD8CF9',\n",
       " 'CBB70C31A7269CA7',\n",
       " '1B5394FBA4DA7E61',\n",
       " 'CDED0FACF20CA716',\n",
       " '5C909C0F25ACD34E',\n",
       " '48CFE37563932DC2',\n",
       " 'F4C8BB8D1622FE87',\n",
       " 'C31E27AB7B567CA9',\n",
       " '833B123682A99117',\n",
       " '8025229CCC15FC7D',\n",
       " 'FEE93E9CF4315356',\n",
       " '0DD2E54D87CFD4A4',\n",
       " 'F00943852845FE90',\n",
       " '59BA4B15D73A2A6C',\n",
       " '6022892C8C3CE8EC',\n",
       " '80712ED4EA1B52A5',\n",
       " 'D95E3615ECF90B13',\n",
       " '3E1D3CDD66667B03',\n",
       " '21C2D41E1FDF1E70',\n",
       " '39393B197D7743EB',\n",
       " 'C85E950BF91A1324',\n",
       " '9E998436EB671A59',\n",
       " '6C5D103974D3A657',\n",
       " '1E374021A8255C57',\n",
       " 'B0B3A724D085010F',\n",
       " '6BAE35235FB8D07D',\n",
       " '84F840D269A65875',\n",
       " '27A022AF605E0304',\n",
       " 'B700678A073FBD5D',\n",
       " 'F9A2A08D6E799EF6',\n",
       " 'E2F981AE3D6A2CE8',\n",
       " '0E5A296E314DE864',\n",
       " 'C8BDDF5639850737',\n",
       " 'B5DC591BA6B42056',\n",
       " '73D9C981F58F142C',\n",
       " '9F7BA4BA8A1C2563',\n",
       " '12296270AAFCB36A',\n",
       " '18AA3742304D86C9',\n",
       " '09B88E6FFE331C1B',\n",
       " '5FF25CF26591D1FD',\n",
       " 'D0ECAB9DA4FE2E00',\n",
       " '4F26C1C82B9EA0B5',\n",
       " '49117FDB7FCCFA5A',\n",
       " '4166E36C0D88C254',\n",
       " '0225F4E8E0D98BA4',\n",
       " 'BBBFC0C64CC3C05D',\n",
       " '24BE89E87E2368BF',\n",
       " 'A4F18DF9C484EDC0',\n",
       " '9079CE7493917E0F',\n",
       " '68AF1584357D955D',\n",
       " '65A33D1E2F637CE6',\n",
       " '313EDFD0B02DB143',\n",
       " '3696730499117673',\n",
       " '8C0361CB080810CA',\n",
       " 'B6E20708499C49D5',\n",
       " 'CA716ADC629C673C',\n",
       " '3B5DA3B15E2FCD54',\n",
       " '9FBB46EF36C35FD3',\n",
       " '5813F642DCC5984A',\n",
       " 'FC2DA0D7EF375B27',\n",
       " '9E537FA089BAECFE',\n",
       " 'FB158B12F907E8FB',\n",
       " 'CB1E4D64B4086DEC',\n",
       " '11A1350D1F8AD059',\n",
       " '468A90E95D36CADB',\n",
       " '552851CDDE3850A8',\n",
       " 'D0533ECF2A67B35C',\n",
       " 'D275276F3490096F',\n",
       " '7E26530508267F69',\n",
       " '9E3E00BF98B46C0A',\n",
       " 'E2638E6CF182BA09',\n",
       " '74E202D932BC6836',\n",
       " 'FF2174A1AA0EAD20',\n",
       " '4E5468B5BBE458DE',\n",
       " 'A5C73A9B0E44E70F',\n",
       " 'CD2093CEF3BC0554',\n",
       " 'CB5B3FD226CC2631',\n",
       " '90FB15B7FA2DE77E',\n",
       " '99DE5E5D381FC4E4',\n",
       " '692705CAB94C3834',\n",
       " '934F4410153B7733',\n",
       " '12A77BCF101643B5',\n",
       " '3D264F3D953DBA67',\n",
       " '891458DEF142C0A3',\n",
       " '9C99E4676D6A8B44',\n",
       " 'D45554BA350E10C4',\n",
       " '6070727198404A40',\n",
       " '38C10366AB1B0A90',\n",
       " '20155135A98368DA',\n",
       " 'A66B27582A358296',\n",
       " '68A13C8A3E5FE18B',\n",
       " '10EB9927ADD61751',\n",
       " 'F01771AF760EE640',\n",
       " '9309CF46F5F527CC',\n",
       " '7087D28B199B0820',\n",
       " '697F116B31D05FCF',\n",
       " '42A70ED7DBDB8DDA',\n",
       " '445D0C4FF3C74190',\n",
       " 'D7E4F4E7A99546F1',\n",
       " 'E774D36D798A6EAB',\n",
       " '639050CCC2A6C4A1',\n",
       " 'F8E83B74D951CBA0',\n",
       " '1A4A33FE1C0FDD90',\n",
       " '44F7F21118841F2D',\n",
       " 'AE9F03E1284709E9',\n",
       " '17DD74F263374528',\n",
       " '334ED3F43ABDC5C8',\n",
       " 'AFC4CD6679684EFA',\n",
       " '7D346928024E5D79',\n",
       " '7082A327CF0E4C64',\n",
       " '0AA0C9A8F9969E1A',\n",
       " 'F928AA2E93C53974',\n",
       " '6E3DF9C69A6B607E',\n",
       " 'E55FE7B145DFB804',\n",
       " '491ED8E89A75C825',\n",
       " '40C11E04E846C139',\n",
       " '53558962449F6EDA',\n",
       " '48080CD22400FF54',\n",
       " '4DFE4826C428AEDE',\n",
       " '818AEF8DE8B21EA7',\n",
       " '603C1A0FA47D1640',\n",
       " 'CF6217721866DD60',\n",
       " '1A332341472132E0',\n",
       " '60A6101325BBA47E',\n",
       " 'C7D1A5A6F6BAD476',\n",
       " 'C257E9228EFCA3CE',\n",
       " 'B94082EB5FCFF0E5',\n",
       " '8C415E32B00363D1',\n",
       " '114AF6149D8EA5E6',\n",
       " '2B52C7EB498926E9',\n",
       " 'E165CBB332E4DB58',\n",
       " 'FF1AB7A774128512',\n",
       " 'B79716591F903CBA',\n",
       " '3D960D370AF76942',\n",
       " '82240827D9FAFDBC',\n",
       " '022A37E761843C69',\n",
       " 'C3239111D782A4D5',\n",
       " 'D18802F38F099FB4',\n",
       " 'C165E8C0C5DE19FF',\n",
       " 'DBFF94F143546A7B',\n",
       " 'EE74DF20ED158133',\n",
       " 'B6104CBBA779BAA4',\n",
       " '93F064DB4950E8C8',\n",
       " '893E0E607C20F882',\n",
       " '9DB76819BAB65ED6',\n",
       " '4701A2B337440151',\n",
       " 'F34FBD4CB9207474',\n",
       " '340D9C518D3CBB8D',\n",
       " '095B21BBD0F17E20',\n",
       " 'B41C0BC88EABA39B',\n",
       " '46C03A54CD7F3F6E',\n",
       " '65F225074FEC2C03',\n",
       " '7E10D15F5D8A0A23',\n",
       " '60D456E636F6C031',\n",
       " 'B07E7D9CB9059072',\n",
       " '8CE0BDF8F59A752E',\n",
       " '1386B17FB175C1DF',\n",
       " '26B0521FC2BAB2D1',\n",
       " '1E69D8DC3D22A02B',\n",
       " '9E415943B4C0E30F',\n",
       " '7342090A9E50B657',\n",
       " '0EB5F2EC4F101B28',\n",
       " '535DC74493925CF8',\n",
       " 'F8185432C71D445E',\n",
       " '75AB91E145351F7B',\n",
       " '64D530780D156782',\n",
       " 'E594B711ADD81DD8',\n",
       " 'F1C4EDEBF63BB14F',\n",
       " 'EA8341F38EFFE04C',\n",
       " 'AEB82217F3BE4263',\n",
       " '4C97933326B6C224',\n",
       " 'B36E6B833278E44D',\n",
       " '4BF00AA98745F2B4',\n",
       " 'A4E5755E0F7B094D',\n",
       " '8611C1CA3986E553',\n",
       " 'D6924B9AB9903228',\n",
       " '42FC1295136570BA',\n",
       " '514E9A2436E0C45C',\n",
       " '479E6D6A1693C32E',\n",
       " '61033FA5DB923000',\n",
       " '8285135A01FF5488',\n",
       " 'CEE4AB5EA4320CA2',\n",
       " 'B54F288E9548E94E',\n",
       " 'D070FD0BFE78DFA4',\n",
       " 'D7933558E33BF7D5',\n",
       " '8A26EBC1BA92524B',\n",
       " '3FC3BE7BAA35F33F',\n",
       " 'C4B642E77C1442DC',\n",
       " 'AFFC4117AC279D49',\n",
       " 'E391353FC3A4056D',\n",
       " '306253BF2CF72886',\n",
       " 'FE16209BD3C61223',\n",
       " '095A42EF1DF6B4BB',\n",
       " '9C63DB2A97C5A068',\n",
       " '3D8509A61CEED2B2',\n",
       " 'EFA2387919DBD7A3',\n",
       " '51402781371A5122',\n",
       " 'DB515BDBB3A17F21',\n",
       " '29C63A5B8EFC5ED3',\n",
       " '2C8FDB1E5FC06335',\n",
       " 'FA86D8DFAD3ADADE',\n",
       " '33CEAE52626CA99E',\n",
       " 'C5AE17CBD0B33628',\n",
       " 'F0008E8F3F8473B7',\n",
       " '8856383B9441DF73',\n",
       " '02313B9E82255F47',\n",
       " 'D1954F210B629CEC',\n",
       " '950CD6AE83F84E7D',\n",
       " '4FFEF3C8471FF8EA',\n",
       " '4E23CE5DF5C7A1D0',\n",
       " 'C32628A8AA662390',\n",
       " 'F38941283A36C34B',\n",
       " '22B7B16D3BD208F3',\n",
       " '1644C54CA3C7F666',\n",
       " '5ECF8AD51FC8062E',\n",
       " 'B83CF8CFD3575F8B',\n",
       " '6B4FA9A39FC379E8',\n",
       " '9B3DEB6615CFFE54',\n",
       " '6E8C4C4691828595',\n",
       " 'B3B8EE722563EAC2',\n",
       " '9A4FB81FE770A958',\n",
       " '47F1AEDB228AC569',\n",
       " '48FEAA2BDBC721D4',\n",
       " '378BB5A704F525AF',\n",
       " 'BD7CF9238F6A1A07',\n",
       " 'D82DD23742E57665',\n",
       " '6BA6ECF63903BEFE',\n",
       " '658CD4946CC82073',\n",
       " '5DA6B38FB7F2EA31',\n",
       " '12D9F5740EF95322',\n",
       " 'EAF000D4CC7635B7',\n",
       " '88EEB8C6C37A0521',\n",
       " 'BE2F36A65378F25A',\n",
       " '3B1F691F4D6C17A0',\n",
       " '0DC63E84277804EC',\n",
       " 'F52738C4461D426E',\n",
       " '2A986C1D47CA7C87',\n",
       " '9A3BDE7D78D0BD6F',\n",
       " '57340E470A09E362',\n",
       " '23875CFDD5C7942A',\n",
       " '4F42516E15B2884D',\n",
       " '17774A79F6AF2037',\n",
       " '2DF9E85A613E0DD0',\n",
       " '2B838321EA7DA6A2',\n",
       " '850E0A1732301E6C',\n",
       " '0F1349E8B6D23E43',\n",
       " 'ACE9CD03B0500923',\n",
       " '8BF5CA0B2A04EB04',\n",
       " 'D5B0B737B6FA90BD',\n",
       " '79913E8816E3DA5D',\n",
       " 'E8D3E6385C8B875A',\n",
       " '48A3963537D96EFC',\n",
       " '81B2CFB5C79627DD',\n",
       " '9F32866BD479E689',\n",
       " '68B3C70F0C0B4550',\n",
       " 'FE244437A4224900',\n",
       " '7189E5DE91BC119B',\n",
       " '2977FB7014B7AAFD',\n",
       " '19E774EAFD97AA92',\n",
       " '1BA8A54DBDAE0EF4',\n",
       " '3A12AD8C7F3DBEDA',\n",
       " '8F98834C531143DA',\n",
       " '4AE60D8C6A6B6227',\n",
       " 'C4E3E8F9137EF75F',\n",
       " '76174428B80A08A0',\n",
       " '49925103AE5C1CD0',\n",
       " 'DC04698A6F7BD3C7',\n",
       " 'B0E30AA87B452A9E',\n",
       " '30DEB75B33B92DC8',\n",
       " 'DA8DABF19A0203FD',\n",
       " '8039D09D1E1B382C',\n",
       " 'D0D1426BAFDD1FE5',\n",
       " '9999E0476CE6B08B',\n",
       " '9C8EF4530592914A',\n",
       " 'F9B6AD71F73676ED',\n",
       " '45D971502E89E65E',\n",
       " '8E9A3C6A2E170A47',\n",
       " 'C0CD536EE9BFC2FE',\n",
       " 'BF47F26D0EFA5201',\n",
       " '1BFEE479308EFF44',\n",
       " '36A0071CEAF205FF',\n",
       " '122C0E3A8F27AC93',\n",
       " '1AFB8C3DE876B77F',\n",
       " 'AA493C70B4CA47F6',\n",
       " '4B058B8F19045AC9',\n",
       " '98B709A0F9609E7C',\n",
       " '618433F396C166F6',\n",
       " '0C2FF828F063B7AD',\n",
       " '3ED90BE0DC2A3FD3',\n",
       " '107D9F8613EBF2AA',\n",
       " '0DD005ABA039F010',\n",
       " 'DDF33D76FBEBA3EF',\n",
       " '9439DE9EB405AE74',\n",
       " 'DDCEDA0705FF68FB',\n",
       " 'E0EEE04D9FDB4931',\n",
       " '452A0B5F1472524B',\n",
       " 'E3E12F7ADBF0B234',\n",
       " '9745CE1D5B111CB1',\n",
       " '495E506B3D29645B',\n",
       " '9A7FDD295F2CCE11',\n",
       " '3C837785A561141A',\n",
       " '19979D19A2FEF084',\n",
       " '92CFDFB0A842D200',\n",
       " '10B7ABB15D5F6272',\n",
       " '00505E15A9D81546',\n",
       " '55978D947D078E6A',\n",
       " '10C645F9BDAD5E5B',\n",
       " '6B7AE52469EE8789',\n",
       " '63A360FDA79D81FB',\n",
       " '279C6150111EB3D3',\n",
       " '31A7F9EC6071BD1E',\n",
       " 'C24D35CD1D858C2C',\n",
       " '0569D8065975599E',\n",
       " 'A27693967E58ADD5',\n",
       " 'F41220068EB414F7',\n",
       " '8165245E67F88CF7',\n",
       " '358392E31C079B41',\n",
       " 'A2145097D7429594',\n",
       " 'F4124F43827BAA36',\n",
       " '179C33593234EC2C',\n",
       " 'EEA592D3C6F5E5A4',\n",
       " '66C2398A8C8A8335',\n",
       " '2D53E02A0E04DC84',\n",
       " '555A92EA20CE41AA',\n",
       " '47F15386932C0E17',\n",
       " '851F6015525A2374',\n",
       " '74C5CCDA7DF761EE',\n",
       " '11A1086B49B881A4',\n",
       " '5D4B70B71BD714AD',\n",
       " 'F138DA14130E06EA',\n",
       " '04AA8735EA1EBB4D',\n",
       " 'CD340A1BBD577576',\n",
       " '2A01D3D0A75FF81A',\n",
       " '84AAB026310D49C4',\n",
       " '28F165B39D160BC5',\n",
       " '7FFC9004BA51D328',\n",
       " 'DE1320074D7BB5A2',\n",
       " '8DAEFD1C832F34D5',\n",
       " 'F4A782449E8D6F42',\n",
       " '64E669C58B152047',\n",
       " '35CA7925FCD78F96',\n",
       " 'BA72A4552D5DB360',\n",
       " '14E7C76B7AB8822A',\n",
       " 'B85F36F6515DAB84',\n",
       " 'A730DDB04AED5F18',\n",
       " '3279592816F7F6D2',\n",
       " '4B5DB813F43DB19A',\n",
       " 'AEA23731D3DEA24E',\n",
       " 'CAFDE6705DCEFC1A',\n",
       " '3AAD38BCD2DEEF82',\n",
       " 'B79859FF6F3ACB14',\n",
       " '4D2B0FBB9E528D60',\n",
       " '33F738F2E16C7148',\n",
       " '7E849B6FA0E975C8',\n",
       " 'EB215155BA578253',\n",
       " '1B72B5CD89B93B68',\n",
       " '08D42E112D1F4407',\n",
       " '938495416CBB307C',\n",
       " 'D0D8873714077818',\n",
       " '3A7987AFAA3A5F47',\n",
       " '89332BD0C491D0F8',\n",
       " 'B3075614D07245D6',\n",
       " 'B5E7E222F1A5D7A6',\n",
       " '3E286601D309601C',\n",
       " 'D90D301048ECDC22',\n",
       " '1908EDAE38E665D1',\n",
       " '0F8A4214A2C886AD',\n",
       " 'BF1EB8E6FA3F19B8',\n",
       " 'EF3118771FB74F92',\n",
       " '7949B3058A8B10CB',\n",
       " 'CBDCB94D41AA49BC',\n",
       " 'A18789FFD786A32D',\n",
       " '2E53814463A4BE74',\n",
       " 'A81312977901914F',\n",
       " 'D36CABE62D3145F0',\n",
       " 'DF9C2411ADA62C66',\n",
       " '13FBEB715F4AAE10',\n",
       " '09D429B94AE0DEC5',\n",
       " 'C22AAB2261F7A2E0',\n",
       " '425B4F03B08D10FC',\n",
       " 'A0F968614747CD94',\n",
       " '2F28A3B279E5494A',\n",
       " '6C487B4E73B87CEC',\n",
       " '11970FE3A608F9EF',\n",
       " '98422D21D7BD2A8E',\n",
       " '1A3C3968ED1EB6D1',\n",
       " '053310D9D8FAB659',\n",
       " '30A023B9E8FE3ED4',\n",
       " '84C13EFBE76DF52F',\n",
       " 'DFE341550729F28E',\n",
       " '115ABCFDBDDB5950',\n",
       " 'BB3103FE7A9A9639',\n",
       " 'E2242001C7022C33',\n",
       " 'F7E2CAFE32DB0B14',\n",
       " '37E78FED858E7061',\n",
       " '4215B191932224A0',\n",
       " '255806154A8779AA',\n",
       " 'D77FA24D30E799BA',\n",
       " '4DEF1832B1E0343A',\n",
       " '96070D0B8FD4C5BF',\n",
       " '6E38C589F19E19AD',\n",
       " 'D2D8E67B7D0DE2D2',\n",
       " '5EBCE7B573FA0578',\n",
       " '9806C418D189F7DB',\n",
       " 'C41BBCA9DACE544D',\n",
       " '5FE8A7964BFE9201',\n",
       " '2B7DA9B565BA79D2',\n",
       " '7E1AF6C5FC07021E',\n",
       " '54633A9BB233F1E6',\n",
       " '2ACB19BEE3528015',\n",
       " '6B1D0D8C4F8FBBEC',\n",
       " '1AA371B503596160',\n",
       " 'B06BF284879EED23',\n",
       " '4CB1497EA4EACE82',\n",
       " 'ED11170D5BB9D744',\n",
       " '26C7FBF370BACD23',\n",
       " '1BDDA1D4F218EA67',\n",
       " '147C62E5B82E2EA9',\n",
       " 'A4312FFD172A4998',\n",
       " '3B2470E45416C59A',\n",
       " '64D18CAEAEE6150A',\n",
       " 'ADCA095D99BF5654',\n",
       " '4BE0D1FE6CDDA1D6',\n",
       " '4A4D81DBBC67109B',\n",
       " '1B62C7587BDE1983',\n",
       " '943DC4BA8E315141',\n",
       " 'DD5F3BB16B5FCD25',\n",
       " '7BCB5C914C255ED8',\n",
       " 'C4D195E6A29E6AEC',\n",
       " 'D493E891D8F64BBC',\n",
       " 'CB5F0081A83B7397',\n",
       " '10F028FB8193F8C1',\n",
       " '90AC003E691D70D4',\n",
       " '90F337B80CCC568F',\n",
       " '3051985C6E2614FF',\n",
       " '04988C5DF189632E',\n",
       " '643C52C33C61AE96',\n",
       " '49C45D71BDCE2F69',\n",
       " '6B0BB0A458CB64FB',\n",
       " 'D7FCA48FF8EDEF00',\n",
       " 'A2CBF9847DA60249',\n",
       " '8FC29487B873F524',\n",
       " '262C647D99621FF5',\n",
       " 'C670F0DE6C790F3C',\n",
       " '42D07A29136BB0C3',\n",
       " '8B2134D31A514E4E',\n",
       " 'C9E2691EAD9EF4BB',\n",
       " '01B9975CAE144B78',\n",
       " 'F4937EA012B95BA1',\n",
       " 'DA8F64F1377DDF18',\n",
       " '91B7B61338BC383F',\n",
       " '824E3C1D0F769FA3',\n",
       " 'BE548A5463C5C53B',\n",
       " 'B373E9CB6566BAFF',\n",
       " '64E7466FBB579E9E',\n",
       " 'B9B14AC83D70BFAF',\n",
       " '6804FEC10B5C2162',\n",
       " '224F9E7FA339E6A9',\n",
       " 'FE2AF0E94DBD470E',\n",
       " '994D853A1F8D1771',\n",
       " 'BAD5CDEC5EBCC151',\n",
       " '4520B43FE9412086',\n",
       " '0386BA6137787A24',\n",
       " '7E81DBB1530EB04B',\n",
       " 'EF058AAD0A56A298',\n",
       " '12C0F58AEECAEA2F',\n",
       " 'AEB9B39AE54D3598',\n",
       " '97AD409895906A32',\n",
       " 'EDF5B714ACB10B39',\n",
       " '1903EF24E5C901A7',\n",
       " '9D06341739D723D5',\n",
       " 'E2D1A399A1D4A3AF',\n",
       " '13AE4DFAC67ACEB3',\n",
       " 'E0CCA0E17AD074DA',\n",
       " '3BA533249956A4A9',\n",
       " '51DA2C882D0D7508',\n",
       " '7B0A1B548046E35B',\n",
       " 'EDDF1CA5A0EB8586',\n",
       " 'F18135D5B8BF0093',\n",
       " 'A070519278350129',\n",
       " '125A5C6F869D282A',\n",
       " '7980BB6C805AFB53',\n",
       " '7974335F5EFCB9D7',\n",
       " '7D5DC58ED2A50A4C',\n",
       " 'E8F5A636BD89C760',\n",
       " '1B52830A832D33F5',\n",
       " '55E1E5508B640E65',\n",
       " '06D9C758220CBB01',\n",
       " 'F3FEFE92740A66C9',\n",
       " 'C4F3A9D7BB596E6E',\n",
       " 'D39EEEC785C51298',\n",
       " '5B05449E69A2AD9E',\n",
       " '79E643143805A79E',\n",
       " 'CB4F7A1245E8A2B7',\n",
       " 'E8F9F301FF442E57',\n",
       " 'D1E97B96B1AB8E63',\n",
       " '16656E4DBD3F65AE',\n",
       " '590EC048DB3D8B88',\n",
       " 'A9F98D05DDAA14D4',\n",
       " '9F65829D05F2611E',\n",
       " '0FF10274AC68852A',\n",
       " '817AD5A637BEEE64',\n",
       " '9D76B9D18E1B846B',\n",
       " '4142705E10CCAF47',\n",
       " '7F7FF49CD68A577A',\n",
       " '36FB5BD8DD3942A9',\n",
       " 'EE869B31C10C205E',\n",
       " 'CBF4133918976020',\n",
       " '347025EC07144D90',\n",
       " 'A2614E5A9AC15FC8',\n",
       " 'B16FC8872C8071D3',\n",
       " '315CB3A5EA257B8E',\n",
       " '49D69A4901413D82',\n",
       " 'CD74C3D22FFC09C2',\n",
       " '19723E02ECBEA4B8',\n",
       " '2787953F22AA5648',\n",
       " 'A81793AECFE32531',\n",
       " 'D2D3509933B9D5F3',\n",
       " '6B2F1C6BC5BC9B47',\n",
       " 'CDD54761A21E4B3E',\n",
       " 'C4B43A2C2019A53C',\n",
       " '005E096DBD379BCF',\n",
       " '9B62277AA9225059',\n",
       " '4DACA4B04635AFFF',\n",
       " 'B7DFE4D1FAC0C217',\n",
       " '835324DD3B6E9C92',\n",
       " 'C474F67E2204321C',\n",
       " '64D36BA14A812BF7',\n",
       " 'FA1502972F2C71A0',\n",
       " '56B3A9FE78075122',\n",
       " '8890ECA4847DFE5E',\n",
       " 'EE9E527A761299B2',\n",
       " '5D5E6EE92AF6E9E0',\n",
       " 'D280CB5052BC97C0',\n",
       " 'E34104028365019C',\n",
       " 'D1FA009C9B514DD7',\n",
       " 'B150C94FFD64D8B0',\n",
       " 'C70D7F9553FF0C48',\n",
       " '61D3434CE0D95AB7',\n",
       " '3A6D88AB973BD99D',\n",
       " 'DA7D4CF1CBBADE49',\n",
       " '971F376FA64BA110',\n",
       " '899282BE203420CE',\n",
       " '75013CAAF42E90A9',\n",
       " 'C4D22266B17264E8',\n",
       " 'BC4A722DBC9D0784',\n",
       " 'DFBAAA0249D57C45',\n",
       " '6598E05AD6455CD4',\n",
       " '556636DADC720300',\n",
       " 'B817F0C0928EDB27',\n",
       " 'E4129EBDCA809BE8',\n",
       " 'C890B90703F73F15',\n",
       " '8DD7CC271D8CD039',\n",
       " '5C374D874B09B2D9',\n",
       " 'FE01F79838621BA4',\n",
       " '971CD60FDB1BF254',\n",
       " 'F176B025C3C73CC0',\n",
       " '9CC7BABE25F1E408',\n",
       " '5568D97B3CF6DCB9',\n",
       " '3F8C780C616D46B6',\n",
       " '491E514995731DC0',\n",
       " '0DABE6F3956778ED',\n",
       " 'D649423E43336656',\n",
       " '83494296AF7C33A2',\n",
       " 'DAD6760631314417',\n",
       " 'C711FD1ED6938955',\n",
       " '19F5032292917412',\n",
       " '505D67B4B604CF79',\n",
       " 'C7D588F1ABF3A91B',\n",
       " 'E57987436680CF0B',\n",
       " '2686619F5A2AE06C',\n",
       " 'FF5A1CD38F5DD996',\n",
       " '8A2FACABB19EDC70',\n",
       " 'FF8CF7057415EB29',\n",
       " 'D1C856B2FF888582',\n",
       " '1D6A02B0987CD71A',\n",
       " '32BFB39666579FC1',\n",
       " 'F427849CA0F243E4',\n",
       " 'F0C343A22F6FA1F5',\n",
       " 'D62ACFAF30B71D55',\n",
       " 'C57E6C4AFF4FF31A',\n",
       " 'B4AAB6E2E3E2C7DB',\n",
       " 'AD84E09CCDA9C0B6',\n",
       " '00C1F5175586DFCF',\n",
       " 'ABFF0B9BAD11BB5D',\n",
       " '74DA40C35F685C4E',\n",
       " '40430D81A98F6B5C',\n",
       " '60BBC6BDA8F51E4C',\n",
       " '2F07A29AFC72B680',\n",
       " '64CD9350DEEE01B6',\n",
       " '379DD24A17E07C86',\n",
       " '3D72713AE2B84E5F',\n",
       " 'EE8401B631ED63CE',\n",
       " '8F5B3D96E7D43A02',\n",
       " '5B0EB7BAB456C0FE',\n",
       " '4DE200C2E6892148',\n",
       " 'C18F8E6B295095EE',\n",
       " 'C26D3BB63817A267',\n",
       " 'B41D32C34490522C',\n",
       " 'BEFE9391E16B9E96',\n",
       " 'BF4DA75703D5E864',\n",
       " '39E330A497886B80',\n",
       " '7CAC1DCC440BB214',\n",
       " '1D2DC7751A45EBA9',\n",
       " '4AEC1F638C2F1FC8',\n",
       " '0205944A5D3DC004',\n",
       " '34BBBAC1CCC0F4F9',\n",
       " '5EE31C4ABF5CB269',\n",
       " '4DCB9E7BB6DC9AC5',\n",
       " '7951C9D1554C091E',\n",
       " 'C99F4A393066D056',\n",
       " '25CE0629AC6B6971',\n",
       " '193081F19AB27CF3',\n",
       " '3E0013454C10A2CD',\n",
       " 'A8738C98EA4BB1A7',\n",
       " 'EF502913F17AB4A4',\n",
       " 'DB9AF0EB25970362',\n",
       " 'D50BB2F89A4A8A71',\n",
       " '5AE146AE93D5A1CE',\n",
       " '662306E701932E5F',\n",
       " 'A847CBD3730F6D41',\n",
       " 'AAE4A39A0DF719AD',\n",
       " '763DEEB7EA385F29',\n",
       " '720C98E47F1D2C21',\n",
       " '21AEB217BA764EAB',\n",
       " 'BE3E315B2F7B0A36',\n",
       " 'BE47C5755F92C56B',\n",
       " 'FEB3425EC30528D3',\n",
       " 'DE6E2273FDA65BDA',\n",
       " 'DCE8769399FCE8A3',\n",
       " 'B74EEDD937F690F2',\n",
       " 'A5BF4057B45F0832',\n",
       " 'BC2BD6C7CB1BC44A',\n",
       " 'E9C0BDEB2673D981',\n",
       " 'B5006488F35ACDDB',\n",
       " 'D352DA4BDE66D51A',\n",
       " '8FB9E95B030D25C5',\n",
       " 'A6C976D03FCE0149',\n",
       " '353358454348F75D',\n",
       " 'D2BF86D9C385D6B9',\n",
       " '3122CDE9F4BA4573',\n",
       " '70C7135CD87DF293',\n",
       " '3B25E2446FD362D0',\n",
       " '508C244DFCF0797A',\n",
       " '29F2D19F9D00E3CC',\n",
       " 'ACDCFF5D6EEDBEAC',\n",
       " 'EA69D2314C12E606',\n",
       " '10DC7B8A6665A92A',\n",
       " 'A2DB18F90D9E3362',\n",
       " '8E239D61A31B07B9',\n",
       " 'CF849D6380A28CA9',\n",
       " 'F540E917082B3F70',\n",
       " '00341D8401F0F665',\n",
       " '94FF90F8FBAB959D',\n",
       " '36D0A362EFF0674D',\n",
       " 'DA2880E43566AF12',\n",
       " 'E5AAA57C73A05E27',\n",
       " '693A3CB45929D1B2',\n",
       " '855CD3A3174CB2D1',\n",
       " '9657A8EEFB5E37E5',\n",
       " '2D96107E54C97805',\n",
       " 'F3F863075CD18AD4',\n",
       " '6E75BB608BDBFD49',\n",
       " '701B5B6292603C20',\n",
       " '85521867220EB1E7',\n",
       " '12E86A81CC9AA775',\n",
       " '5B5F8713DF915802',\n",
       " 'EB3589638ED1D779',\n",
       " '8B44602F93F6CFB7',\n",
       " '3C4FE25924FDD884',\n",
       " '2EBA55084462645A',\n",
       " '3340B98CBEAEE766',\n",
       " '1C1A66979E700B2C',\n",
       " 'AAE1914BDB419328',\n",
       " 'AA703605654827AE',\n",
       " 'F2CFD8007F2530E3',\n",
       " 'BE0FDC8CC0D5455D',\n",
       " '4089CD204802F5F8',\n",
       " 'AE45177974759FAD',\n",
       " 'C034B059028A7038',\n",
       " 'C9985A184A2C0CAF',\n",
       " 'B2716998187D5D74',\n",
       " '1FF27FE8651E6B7A',\n",
       " '4CF756542084F860',\n",
       " '3288BEE68559CC59',\n",
       " ...]"
      ]
     },
     "execution_count": 185,
     "metadata": {},
     "output_type": "execute_result"
    }
   ],
   "source": [
    "#list of users from EU region in A/B test group\n",
    "temp_list=temp_df['user_id'].tolist()\n",
    "temp_list"
   ]
  },
  {
   "cell_type": "code",
   "execution_count": 186,
   "metadata": {},
   "outputs": [
    {
     "data": {
      "text/html": [
       "<div>\n",
       "<style scoped>\n",
       "    .dataframe tbody tr th:only-of-type {\n",
       "        vertical-align: middle;\n",
       "    }\n",
       "\n",
       "    .dataframe tbody tr th {\n",
       "        vertical-align: top;\n",
       "    }\n",
       "\n",
       "    .dataframe thead th {\n",
       "        text-align: right;\n",
       "    }\n",
       "</style>\n",
       "<table border=\"1\" class=\"dataframe\">\n",
       "  <thead>\n",
       "    <tr style=\"text-align: right;\">\n",
       "      <th></th>\n",
       "      <th>Unnamed: 0</th>\n",
       "      <th>user_id</th>\n",
       "      <th>group</th>\n",
       "      <th>ab_test</th>\n",
       "    </tr>\n",
       "  </thead>\n",
       "  <tbody>\n",
       "    <tr>\n",
       "      <th>0</th>\n",
       "      <td>0</td>\n",
       "      <td>D1ABA3E2887B6A73</td>\n",
       "      <td>A</td>\n",
       "      <td>recommender_system_test</td>\n",
       "    </tr>\n",
       "    <tr>\n",
       "      <th>1</th>\n",
       "      <td>1</td>\n",
       "      <td>A7A3664BD6242119</td>\n",
       "      <td>A</td>\n",
       "      <td>recommender_system_test</td>\n",
       "    </tr>\n",
       "    <tr>\n",
       "      <th>2</th>\n",
       "      <td>2</td>\n",
       "      <td>DABC14FDDFADD29E</td>\n",
       "      <td>A</td>\n",
       "      <td>recommender_system_test</td>\n",
       "    </tr>\n",
       "    <tr>\n",
       "      <th>3</th>\n",
       "      <td>3</td>\n",
       "      <td>04988C5DF189632E</td>\n",
       "      <td>A</td>\n",
       "      <td>recommender_system_test</td>\n",
       "    </tr>\n",
       "    <tr>\n",
       "      <th>4</th>\n",
       "      <td>4</td>\n",
       "      <td>4FF2998A348C484F</td>\n",
       "      <td>A</td>\n",
       "      <td>recommender_system_test</td>\n",
       "    </tr>\n",
       "  </tbody>\n",
       "</table>\n",
       "</div>"
      ],
      "text/plain": [
       "   Unnamed: 0           user_id group                  ab_test\n",
       "0           0  D1ABA3E2887B6A73     A  recommender_system_test\n",
       "1           1  A7A3664BD6242119     A  recommender_system_test\n",
       "2           2  DABC14FDDFADD29E     A  recommender_system_test\n",
       "3           3  04988C5DF189632E     A  recommender_system_test\n",
       "4           4  4FF2998A348C484F     A  recommender_system_test"
      ]
     },
     "execution_count": 186,
     "metadata": {},
     "output_type": "execute_result"
    }
   ],
   "source": [
    "# users from EU region in A/B test group\n",
    "ab_new_participants_df=ab_new_participants_df[ab_new_participants_df['user_id'].isin(temp_list)]\n",
    "ab_new_participants_df.head()"
   ]
  },
  {
   "cell_type": "markdown",
   "metadata": {},
   "source": [
    "<b>There is a mismatch between the details given in description with the actual data present.\n",
    "There should be around 6000 test participant.But we have only 3481."
   ]
  },
  {
   "cell_type": "code",
   "execution_count": 187,
   "metadata": {},
   "outputs": [
    {
     "data": {
      "text/html": [
       "<div>\n",
       "<style scoped>\n",
       "    .dataframe tbody tr th:only-of-type {\n",
       "        vertical-align: middle;\n",
       "    }\n",
       "\n",
       "    .dataframe tbody tr th {\n",
       "        vertical-align: top;\n",
       "    }\n",
       "\n",
       "    .dataframe thead th {\n",
       "        text-align: right;\n",
       "    }\n",
       "</style>\n",
       "<table border=\"1\" class=\"dataframe\">\n",
       "  <thead>\n",
       "    <tr style=\"text-align: right;\">\n",
       "      <th></th>\n",
       "      <th>Unnamed: 0_x</th>\n",
       "      <th>user_id</th>\n",
       "      <th>event_dt</th>\n",
       "      <th>event_name</th>\n",
       "      <th>details</th>\n",
       "      <th>event_date</th>\n",
       "      <th>Unnamed: 0_y</th>\n",
       "      <th>group</th>\n",
       "      <th>ab_test</th>\n",
       "    </tr>\n",
       "  </thead>\n",
       "  <tbody>\n",
       "    <tr>\n",
       "      <th>0</th>\n",
       "      <td>5</td>\n",
       "      <td>831887FE7F2D6CBA</td>\n",
       "      <td>2020-12-07 06:50:29</td>\n",
       "      <td>purchase</td>\n",
       "      <td>4.99</td>\n",
       "      <td>2020-12-07</td>\n",
       "      <td>359</td>\n",
       "      <td>A</td>\n",
       "      <td>recommender_system_test</td>\n",
       "    </tr>\n",
       "    <tr>\n",
       "      <th>1</th>\n",
       "      <td>3382</td>\n",
       "      <td>831887FE7F2D6CBA</td>\n",
       "      <td>2020-12-09 02:19:17</td>\n",
       "      <td>purchase</td>\n",
       "      <td>99.99</td>\n",
       "      <td>2020-12-09</td>\n",
       "      <td>359</td>\n",
       "      <td>A</td>\n",
       "      <td>recommender_system_test</td>\n",
       "    </tr>\n",
       "    <tr>\n",
       "      <th>2</th>\n",
       "      <td>60320</td>\n",
       "      <td>831887FE7F2D6CBA</td>\n",
       "      <td>2020-12-07 06:50:30</td>\n",
       "      <td>product_cart</td>\n",
       "      <td>0.00</td>\n",
       "      <td>2020-12-07</td>\n",
       "      <td>359</td>\n",
       "      <td>A</td>\n",
       "      <td>recommender_system_test</td>\n",
       "    </tr>\n",
       "    <tr>\n",
       "      <th>3</th>\n",
       "      <td>61897</td>\n",
       "      <td>831887FE7F2D6CBA</td>\n",
       "      <td>2020-12-08 10:52:27</td>\n",
       "      <td>product_cart</td>\n",
       "      <td>0.00</td>\n",
       "      <td>2020-12-08</td>\n",
       "      <td>359</td>\n",
       "      <td>A</td>\n",
       "      <td>recommender_system_test</td>\n",
       "    </tr>\n",
       "    <tr>\n",
       "      <th>4</th>\n",
       "      <td>63642</td>\n",
       "      <td>831887FE7F2D6CBA</td>\n",
       "      <td>2020-12-09 02:19:17</td>\n",
       "      <td>product_cart</td>\n",
       "      <td>0.00</td>\n",
       "      <td>2020-12-09</td>\n",
       "      <td>359</td>\n",
       "      <td>A</td>\n",
       "      <td>recommender_system_test</td>\n",
       "    </tr>\n",
       "  </tbody>\n",
       "</table>\n",
       "</div>"
      ],
      "text/plain": [
       "   Unnamed: 0_x           user_id             event_dt    event_name  details  \\\n",
       "0             5  831887FE7F2D6CBA  2020-12-07 06:50:29      purchase     4.99   \n",
       "1          3382  831887FE7F2D6CBA  2020-12-09 02:19:17      purchase    99.99   \n",
       "2         60320  831887FE7F2D6CBA  2020-12-07 06:50:30  product_cart     0.00   \n",
       "3         61897  831887FE7F2D6CBA  2020-12-08 10:52:27  product_cart     0.00   \n",
       "4         63642  831887FE7F2D6CBA  2020-12-09 02:19:17  product_cart     0.00   \n",
       "\n",
       "   event_date  Unnamed: 0_y group                  ab_test  \n",
       "0  2020-12-07           359     A  recommender_system_test  \n",
       "1  2020-12-09           359     A  recommender_system_test  \n",
       "2  2020-12-07           359     A  recommender_system_test  \n",
       "3  2020-12-08           359     A  recommender_system_test  \n",
       "4  2020-12-09           359     A  recommender_system_test  "
      ]
     },
     "execution_count": 187,
     "metadata": {},
     "output_type": "execute_result"
    }
   ],
   "source": [
    "#merging event details for the users in A/b test group\n",
    "ab_new_participants_events_df= pd.merge(ab_new_events_df,ab_new_participants_df,on='user_id')\n",
    "ab_new_participants_events_df.head()"
   ]
  },
  {
   "cell_type": "code",
   "execution_count": 188,
   "metadata": {},
   "outputs": [
    {
     "data": {
      "text/plain": [
       "0"
      ]
     },
     "execution_count": 188,
     "metadata": {},
     "output_type": "execute_result"
    }
   ],
   "source": [
    "ab_new_participants_events_df.duplicated().sum()"
   ]
  },
  {
   "cell_type": "markdown",
   "metadata": {},
   "source": [
    "<b> We have derived the final dataset that meets all the requirements in Technical description for A/B test."
   ]
  },
  {
   "cell_type": "markdown",
   "metadata": {},
   "source": [
    "<a id='ab'>"
   ]
  },
  {
   "cell_type": "markdown",
   "metadata": {},
   "source": [
    "## A/B Test result analysis"
   ]
  },
  {
   "cell_type": "markdown",
   "metadata": {},
   "source": [
    "<b>Analysing the test groups"
   ]
  },
  {
   "cell_type": "code",
   "execution_count": 189,
   "metadata": {},
   "outputs": [
    {
     "data": {
      "text/html": [
       "<div>\n",
       "<style scoped>\n",
       "    .dataframe tbody tr th:only-of-type {\n",
       "        vertical-align: middle;\n",
       "    }\n",
       "\n",
       "    .dataframe tbody tr th {\n",
       "        vertical-align: top;\n",
       "    }\n",
       "\n",
       "    .dataframe thead th {\n",
       "        text-align: right;\n",
       "    }\n",
       "</style>\n",
       "<table border=\"1\" class=\"dataframe\">\n",
       "  <thead>\n",
       "    <tr style=\"text-align: right;\">\n",
       "      <th></th>\n",
       "      <th>Unnamed: 0_x</th>\n",
       "      <th>user_id</th>\n",
       "      <th>event_dt</th>\n",
       "      <th>event_name</th>\n",
       "      <th>details</th>\n",
       "      <th>event_date</th>\n",
       "      <th>Unnamed: 0_y</th>\n",
       "      <th>group</th>\n",
       "      <th>ab_test</th>\n",
       "    </tr>\n",
       "  </thead>\n",
       "  <tbody>\n",
       "    <tr>\n",
       "      <th>0</th>\n",
       "      <td>5</td>\n",
       "      <td>831887FE7F2D6CBA</td>\n",
       "      <td>2020-12-07 06:50:29</td>\n",
       "      <td>purchase</td>\n",
       "      <td>4.99</td>\n",
       "      <td>2020-12-07</td>\n",
       "      <td>359</td>\n",
       "      <td>A</td>\n",
       "      <td>recommender_system_test</td>\n",
       "    </tr>\n",
       "    <tr>\n",
       "      <th>1</th>\n",
       "      <td>3382</td>\n",
       "      <td>831887FE7F2D6CBA</td>\n",
       "      <td>2020-12-09 02:19:17</td>\n",
       "      <td>purchase</td>\n",
       "      <td>99.99</td>\n",
       "      <td>2020-12-09</td>\n",
       "      <td>359</td>\n",
       "      <td>A</td>\n",
       "      <td>recommender_system_test</td>\n",
       "    </tr>\n",
       "    <tr>\n",
       "      <th>2</th>\n",
       "      <td>60320</td>\n",
       "      <td>831887FE7F2D6CBA</td>\n",
       "      <td>2020-12-07 06:50:30</td>\n",
       "      <td>product_cart</td>\n",
       "      <td>0.00</td>\n",
       "      <td>2020-12-07</td>\n",
       "      <td>359</td>\n",
       "      <td>A</td>\n",
       "      <td>recommender_system_test</td>\n",
       "    </tr>\n",
       "    <tr>\n",
       "      <th>3</th>\n",
       "      <td>61897</td>\n",
       "      <td>831887FE7F2D6CBA</td>\n",
       "      <td>2020-12-08 10:52:27</td>\n",
       "      <td>product_cart</td>\n",
       "      <td>0.00</td>\n",
       "      <td>2020-12-08</td>\n",
       "      <td>359</td>\n",
       "      <td>A</td>\n",
       "      <td>recommender_system_test</td>\n",
       "    </tr>\n",
       "    <tr>\n",
       "      <th>4</th>\n",
       "      <td>63642</td>\n",
       "      <td>831887FE7F2D6CBA</td>\n",
       "      <td>2020-12-09 02:19:17</td>\n",
       "      <td>product_cart</td>\n",
       "      <td>0.00</td>\n",
       "      <td>2020-12-09</td>\n",
       "      <td>359</td>\n",
       "      <td>A</td>\n",
       "      <td>recommender_system_test</td>\n",
       "    </tr>\n",
       "  </tbody>\n",
       "</table>\n",
       "</div>"
      ],
      "text/plain": [
       "   Unnamed: 0_x           user_id             event_dt    event_name  details  \\\n",
       "0             5  831887FE7F2D6CBA  2020-12-07 06:50:29      purchase     4.99   \n",
       "1          3382  831887FE7F2D6CBA  2020-12-09 02:19:17      purchase    99.99   \n",
       "2         60320  831887FE7F2D6CBA  2020-12-07 06:50:30  product_cart     0.00   \n",
       "3         61897  831887FE7F2D6CBA  2020-12-08 10:52:27  product_cart     0.00   \n",
       "4         63642  831887FE7F2D6CBA  2020-12-09 02:19:17  product_cart     0.00   \n",
       "\n",
       "   event_date  Unnamed: 0_y group                  ab_test  \n",
       "0  2020-12-07           359     A  recommender_system_test  \n",
       "1  2020-12-09           359     A  recommender_system_test  \n",
       "2  2020-12-07           359     A  recommender_system_test  \n",
       "3  2020-12-08           359     A  recommender_system_test  \n",
       "4  2020-12-09           359     A  recommender_system_test  "
      ]
     },
     "execution_count": 189,
     "metadata": {},
     "output_type": "execute_result"
    }
   ],
   "source": [
    "#test if number of events per user distributed equally in group A \n",
    "ab_group_A=ab_new_participants_events_df[ab_new_participants_events_df['group']=='A']\n",
    "ab_group_A.head()"
   ]
  },
  {
   "cell_type": "code",
   "execution_count": 190,
   "metadata": {},
   "outputs": [
    {
     "data": {
      "text/html": [
       "<div>\n",
       "<style scoped>\n",
       "    .dataframe tbody tr th:only-of-type {\n",
       "        vertical-align: middle;\n",
       "    }\n",
       "\n",
       "    .dataframe tbody tr th {\n",
       "        vertical-align: top;\n",
       "    }\n",
       "\n",
       "    .dataframe thead th {\n",
       "        text-align: right;\n",
       "    }\n",
       "</style>\n",
       "<table border=\"1\" class=\"dataframe\">\n",
       "  <thead>\n",
       "    <tr style=\"text-align: right;\">\n",
       "      <th></th>\n",
       "      <th>user_id</th>\n",
       "      <th>event_name</th>\n",
       "    </tr>\n",
       "  </thead>\n",
       "  <tbody>\n",
       "    <tr>\n",
       "      <th>0</th>\n",
       "      <td>0010A1C096941592</td>\n",
       "      <td>12</td>\n",
       "    </tr>\n",
       "    <tr>\n",
       "      <th>1</th>\n",
       "      <td>00341D8401F0F665</td>\n",
       "      <td>2</td>\n",
       "    </tr>\n",
       "    <tr>\n",
       "      <th>2</th>\n",
       "      <td>003DF44D7589BBD4</td>\n",
       "      <td>15</td>\n",
       "    </tr>\n",
       "    <tr>\n",
       "      <th>3</th>\n",
       "      <td>00505E15A9D81546</td>\n",
       "      <td>5</td>\n",
       "    </tr>\n",
       "    <tr>\n",
       "      <th>4</th>\n",
       "      <td>006E3E4E232CE760</td>\n",
       "      <td>6</td>\n",
       "    </tr>\n",
       "  </tbody>\n",
       "</table>\n",
       "</div>"
      ],
      "text/plain": [
       "            user_id  event_name\n",
       "0  0010A1C096941592          12\n",
       "1  00341D8401F0F665           2\n",
       "2  003DF44D7589BBD4          15\n",
       "3  00505E15A9D81546           5\n",
       "4  006E3E4E232CE760           6"
      ]
     },
     "execution_count": 190,
     "metadata": {},
     "output_type": "execute_result"
    }
   ],
   "source": [
    "#test if number of events per user distributed equally in group A\n",
    "ab_groupA_events = ab_group_A.pivot_table(\n",
    "    index='user_id', \n",
    "    values='event_name',\n",
    "    aggfunc='count').reset_index().rename_axis(index=None, columns=None)\n",
    "ab_groupA_events.head()"
   ]
  },
  {
   "cell_type": "code",
   "execution_count": 191,
   "metadata": {},
   "outputs": [
    {
     "data": {
      "text/html": [
       "<div>\n",
       "<style scoped>\n",
       "    .dataframe tbody tr th:only-of-type {\n",
       "        vertical-align: middle;\n",
       "    }\n",
       "\n",
       "    .dataframe tbody tr th {\n",
       "        vertical-align: top;\n",
       "    }\n",
       "\n",
       "    .dataframe thead th {\n",
       "        text-align: right;\n",
       "    }\n",
       "</style>\n",
       "<table border=\"1\" class=\"dataframe\">\n",
       "  <thead>\n",
       "    <tr style=\"text-align: right;\">\n",
       "      <th></th>\n",
       "      <th>user_id</th>\n",
       "      <th>number_of_events</th>\n",
       "    </tr>\n",
       "  </thead>\n",
       "  <tbody>\n",
       "    <tr>\n",
       "      <th>0</th>\n",
       "      <td>0010A1C096941592</td>\n",
       "      <td>12</td>\n",
       "    </tr>\n",
       "    <tr>\n",
       "      <th>1</th>\n",
       "      <td>00341D8401F0F665</td>\n",
       "      <td>2</td>\n",
       "    </tr>\n",
       "    <tr>\n",
       "      <th>2</th>\n",
       "      <td>003DF44D7589BBD4</td>\n",
       "      <td>15</td>\n",
       "    </tr>\n",
       "    <tr>\n",
       "      <th>3</th>\n",
       "      <td>00505E15A9D81546</td>\n",
       "      <td>5</td>\n",
       "    </tr>\n",
       "    <tr>\n",
       "      <th>4</th>\n",
       "      <td>006E3E4E232CE760</td>\n",
       "      <td>6</td>\n",
       "    </tr>\n",
       "  </tbody>\n",
       "</table>\n",
       "</div>"
      ],
      "text/plain": [
       "            user_id  number_of_events\n",
       "0  0010A1C096941592                12\n",
       "1  00341D8401F0F665                 2\n",
       "2  003DF44D7589BBD4                15\n",
       "3  00505E15A9D81546                 5\n",
       "4  006E3E4E232CE760                 6"
      ]
     },
     "execution_count": 191,
     "metadata": {},
     "output_type": "execute_result"
    }
   ],
   "source": [
    "ab_groupA_events.columns=['user_id','number_of_events']\n",
    "ab_groupA_events.head()"
   ]
  },
  {
   "cell_type": "code",
   "execution_count": 192,
   "metadata": {},
   "outputs": [
    {
     "data": {
      "text/plain": [
       "count    2604.000000\n",
       "mean        6.785714\n",
       "std         3.733456\n",
       "min         1.000000\n",
       "25%         4.000000\n",
       "50%         6.000000\n",
       "75%         9.000000\n",
       "max        24.000000\n",
       "Name: number_of_events, dtype: float64"
      ]
     },
     "execution_count": 192,
     "metadata": {},
     "output_type": "execute_result"
    }
   ],
   "source": [
    "ab_groupA_events['number_of_events'].describe()"
   ]
  },
  {
   "cell_type": "code",
   "execution_count": 193,
   "metadata": {},
   "outputs": [
    {
     "data": {
      "text/plain": [
       "array([ 4.,  6.,  9., 12., 15.])"
      ]
     },
     "execution_count": 193,
     "metadata": {},
     "output_type": "execute_result"
    }
   ],
   "source": [
    "np.percentile(ab_groupA_events['number_of_events'],[25,50,75,90,95])"
   ]
  },
  {
   "cell_type": "code",
   "execution_count": 194,
   "metadata": {},
   "outputs": [
    {
     "data": {
      "text/html": [
       "<div>\n",
       "<style scoped>\n",
       "    .dataframe tbody tr th:only-of-type {\n",
       "        vertical-align: middle;\n",
       "    }\n",
       "\n",
       "    .dataframe tbody tr th {\n",
       "        vertical-align: top;\n",
       "    }\n",
       "\n",
       "    .dataframe thead th {\n",
       "        text-align: right;\n",
       "    }\n",
       "</style>\n",
       "<table border=\"1\" class=\"dataframe\">\n",
       "  <thead>\n",
       "    <tr style=\"text-align: right;\">\n",
       "      <th></th>\n",
       "      <th>Unnamed: 0_x</th>\n",
       "      <th>user_id</th>\n",
       "      <th>event_dt</th>\n",
       "      <th>event_name</th>\n",
       "      <th>details</th>\n",
       "      <th>event_date</th>\n",
       "      <th>Unnamed: 0_y</th>\n",
       "      <th>group</th>\n",
       "      <th>ab_test</th>\n",
       "    </tr>\n",
       "  </thead>\n",
       "  <tbody>\n",
       "    <tr>\n",
       "      <th>11</th>\n",
       "      <td>58</td>\n",
       "      <td>49EA242586C87836</td>\n",
       "      <td>2020-12-07 06:31:24</td>\n",
       "      <td>purchase</td>\n",
       "      <td>99.99</td>\n",
       "      <td>2020-12-07</td>\n",
       "      <td>1957</td>\n",
       "      <td>B</td>\n",
       "      <td>recommender_system_test</td>\n",
       "    </tr>\n",
       "    <tr>\n",
       "      <th>12</th>\n",
       "      <td>3397</td>\n",
       "      <td>49EA242586C87836</td>\n",
       "      <td>2020-12-09 15:39:47</td>\n",
       "      <td>purchase</td>\n",
       "      <td>9.99</td>\n",
       "      <td>2020-12-09</td>\n",
       "      <td>1957</td>\n",
       "      <td>B</td>\n",
       "      <td>recommender_system_test</td>\n",
       "    </tr>\n",
       "    <tr>\n",
       "      <th>13</th>\n",
       "      <td>7093</td>\n",
       "      <td>49EA242586C87836</td>\n",
       "      <td>2020-12-11 10:06:37</td>\n",
       "      <td>purchase</td>\n",
       "      <td>4.99</td>\n",
       "      <td>2020-12-11</td>\n",
       "      <td>1957</td>\n",
       "      <td>B</td>\n",
       "      <td>recommender_system_test</td>\n",
       "    </tr>\n",
       "    <tr>\n",
       "      <th>14</th>\n",
       "      <td>9046</td>\n",
       "      <td>49EA242586C87836</td>\n",
       "      <td>2020-12-12 04:30:41</td>\n",
       "      <td>purchase</td>\n",
       "      <td>9.99</td>\n",
       "      <td>2020-12-12</td>\n",
       "      <td>1957</td>\n",
       "      <td>B</td>\n",
       "      <td>recommender_system_test</td>\n",
       "    </tr>\n",
       "    <tr>\n",
       "      <th>15</th>\n",
       "      <td>21703</td>\n",
       "      <td>49EA242586C87836</td>\n",
       "      <td>2020-12-16 09:28:37</td>\n",
       "      <td>purchase</td>\n",
       "      <td>9.99</td>\n",
       "      <td>2020-12-16</td>\n",
       "      <td>1957</td>\n",
       "      <td>B</td>\n",
       "      <td>recommender_system_test</td>\n",
       "    </tr>\n",
       "  </tbody>\n",
       "</table>\n",
       "</div>"
      ],
      "text/plain": [
       "    Unnamed: 0_x           user_id             event_dt event_name  details  \\\n",
       "11            58  49EA242586C87836  2020-12-07 06:31:24   purchase    99.99   \n",
       "12          3397  49EA242586C87836  2020-12-09 15:39:47   purchase     9.99   \n",
       "13          7093  49EA242586C87836  2020-12-11 10:06:37   purchase     4.99   \n",
       "14          9046  49EA242586C87836  2020-12-12 04:30:41   purchase     9.99   \n",
       "15         21703  49EA242586C87836  2020-12-16 09:28:37   purchase     9.99   \n",
       "\n",
       "    event_date  Unnamed: 0_y group                  ab_test  \n",
       "11  2020-12-07          1957     B  recommender_system_test  \n",
       "12  2020-12-09          1957     B  recommender_system_test  \n",
       "13  2020-12-11          1957     B  recommender_system_test  \n",
       "14  2020-12-12          1957     B  recommender_system_test  \n",
       "15  2020-12-16          1957     B  recommender_system_test  "
      ]
     },
     "execution_count": 194,
     "metadata": {},
     "output_type": "execute_result"
    }
   ],
   "source": [
    "#test if number of events per user distributed equally in group B\n",
    "ab_group_B=ab_new_participants_events_df[ab_new_participants_events_df['group']=='B']\n",
    "ab_group_B.head()"
   ]
  },
  {
   "cell_type": "code",
   "execution_count": 195,
   "metadata": {},
   "outputs": [
    {
     "data": {
      "text/html": [
       "<div>\n",
       "<style scoped>\n",
       "    .dataframe tbody tr th:only-of-type {\n",
       "        vertical-align: middle;\n",
       "    }\n",
       "\n",
       "    .dataframe tbody tr th {\n",
       "        vertical-align: top;\n",
       "    }\n",
       "\n",
       "    .dataframe thead th {\n",
       "        text-align: right;\n",
       "    }\n",
       "</style>\n",
       "<table border=\"1\" class=\"dataframe\">\n",
       "  <thead>\n",
       "    <tr style=\"text-align: right;\">\n",
       "      <th></th>\n",
       "      <th>user_id</th>\n",
       "      <th>event_name</th>\n",
       "    </tr>\n",
       "  </thead>\n",
       "  <tbody>\n",
       "    <tr>\n",
       "      <th>0</th>\n",
       "      <td>001064FEAAB631A1</td>\n",
       "      <td>6</td>\n",
       "    </tr>\n",
       "    <tr>\n",
       "      <th>1</th>\n",
       "      <td>005E096DBD379BCF</td>\n",
       "      <td>4</td>\n",
       "    </tr>\n",
       "    <tr>\n",
       "      <th>2</th>\n",
       "      <td>015D1E3BB893349D</td>\n",
       "      <td>6</td>\n",
       "    </tr>\n",
       "    <tr>\n",
       "      <th>3</th>\n",
       "      <td>015FF3EC72C1F4F6</td>\n",
       "      <td>2</td>\n",
       "    </tr>\n",
       "    <tr>\n",
       "      <th>4</th>\n",
       "      <td>01B0B891CA513468</td>\n",
       "      <td>12</td>\n",
       "    </tr>\n",
       "  </tbody>\n",
       "</table>\n",
       "</div>"
      ],
      "text/plain": [
       "            user_id  event_name\n",
       "0  001064FEAAB631A1           6\n",
       "1  005E096DBD379BCF           4\n",
       "2  015D1E3BB893349D           6\n",
       "3  015FF3EC72C1F4F6           2\n",
       "4  01B0B891CA513468          12"
      ]
     },
     "execution_count": 195,
     "metadata": {},
     "output_type": "execute_result"
    }
   ],
   "source": [
    "#test if number of events per user distributed equally in group B\n",
    "ab_groupB_events = ab_group_B.pivot_table(\n",
    "    index='user_id', \n",
    "    values='event_name',\n",
    "    aggfunc='count').reset_index().rename_axis(index=None, columns=None)\n",
    "ab_groupB_events.head()"
   ]
  },
  {
   "cell_type": "code",
   "execution_count": 196,
   "metadata": {},
   "outputs": [
    {
     "data": {
      "text/html": [
       "<div>\n",
       "<style scoped>\n",
       "    .dataframe tbody tr th:only-of-type {\n",
       "        vertical-align: middle;\n",
       "    }\n",
       "\n",
       "    .dataframe tbody tr th {\n",
       "        vertical-align: top;\n",
       "    }\n",
       "\n",
       "    .dataframe thead th {\n",
       "        text-align: right;\n",
       "    }\n",
       "</style>\n",
       "<table border=\"1\" class=\"dataframe\">\n",
       "  <thead>\n",
       "    <tr style=\"text-align: right;\">\n",
       "      <th></th>\n",
       "      <th>user_id</th>\n",
       "      <th>number_of_events</th>\n",
       "    </tr>\n",
       "  </thead>\n",
       "  <tbody>\n",
       "    <tr>\n",
       "      <th>0</th>\n",
       "      <td>001064FEAAB631A1</td>\n",
       "      <td>6</td>\n",
       "    </tr>\n",
       "    <tr>\n",
       "      <th>1</th>\n",
       "      <td>005E096DBD379BCF</td>\n",
       "      <td>4</td>\n",
       "    </tr>\n",
       "    <tr>\n",
       "      <th>2</th>\n",
       "      <td>015D1E3BB893349D</td>\n",
       "      <td>6</td>\n",
       "    </tr>\n",
       "    <tr>\n",
       "      <th>3</th>\n",
       "      <td>015FF3EC72C1F4F6</td>\n",
       "      <td>2</td>\n",
       "    </tr>\n",
       "    <tr>\n",
       "      <th>4</th>\n",
       "      <td>01B0B891CA513468</td>\n",
       "      <td>12</td>\n",
       "    </tr>\n",
       "  </tbody>\n",
       "</table>\n",
       "</div>"
      ],
      "text/plain": [
       "            user_id  number_of_events\n",
       "0  001064FEAAB631A1                 6\n",
       "1  005E096DBD379BCF                 4\n",
       "2  015D1E3BB893349D                 6\n",
       "3  015FF3EC72C1F4F6                 2\n",
       "4  01B0B891CA513468                12"
      ]
     },
     "execution_count": 196,
     "metadata": {},
     "output_type": "execute_result"
    }
   ],
   "source": [
    "ab_groupB_events.columns=['user_id','number_of_events']\n",
    "ab_groupB_events.head()"
   ]
  },
  {
   "cell_type": "code",
   "execution_count": 197,
   "metadata": {},
   "outputs": [
    {
     "data": {
      "text/plain": [
       "count    877.000000\n",
       "mean       5.705815\n",
       "std        3.455540\n",
       "min        1.000000\n",
       "25%        3.000000\n",
       "50%        5.000000\n",
       "75%        8.000000\n",
       "max       28.000000\n",
       "Name: number_of_events, dtype: float64"
      ]
     },
     "execution_count": 197,
     "metadata": {},
     "output_type": "execute_result"
    }
   ],
   "source": [
    "ab_groupB_events['number_of_events'].describe()"
   ]
  },
  {
   "cell_type": "code",
   "execution_count": 198,
   "metadata": {},
   "outputs": [
    {
     "data": {
      "text/plain": [
       "array([ 3.,  5.,  8., 10., 12.])"
      ]
     },
     "execution_count": 198,
     "metadata": {},
     "output_type": "execute_result"
    }
   ],
   "source": [
    "np.percentile(ab_groupB_events['number_of_events'],[25,50,75,90,95])"
   ]
  },
  {
   "cell_type": "markdown",
   "metadata": {},
   "source": [
    "<b>Group A has around 4-10 events with way few having more than 10events.\n",
    "Group B shows similar trend of around 3-10 events among the users."
   ]
  },
  {
   "cell_type": "code",
   "execution_count": 199,
   "metadata": {},
   "outputs": [
    {
     "data": {
      "text/html": [
       "<div>\n",
       "<style scoped>\n",
       "    .dataframe tbody tr th:only-of-type {\n",
       "        vertical-align: middle;\n",
       "    }\n",
       "\n",
       "    .dataframe tbody tr th {\n",
       "        vertical-align: top;\n",
       "    }\n",
       "\n",
       "    .dataframe thead th {\n",
       "        text-align: right;\n",
       "    }\n",
       "</style>\n",
       "<table border=\"1\" class=\"dataframe\">\n",
       "  <thead>\n",
       "    <tr style=\"text-align: right;\">\n",
       "      <th></th>\n",
       "      <th>event_date</th>\n",
       "      <th>login</th>\n",
       "      <th>product_cart</th>\n",
       "      <th>product_page</th>\n",
       "      <th>purchase</th>\n",
       "    </tr>\n",
       "  </thead>\n",
       "  <tbody>\n",
       "    <tr>\n",
       "      <th>0</th>\n",
       "      <td>2020-12-07</td>\n",
       "      <td>148</td>\n",
       "      <td>35</td>\n",
       "      <td>92</td>\n",
       "      <td>43</td>\n",
       "    </tr>\n",
       "    <tr>\n",
       "      <th>1</th>\n",
       "      <td>2020-12-08</td>\n",
       "      <td>146</td>\n",
       "      <td>36</td>\n",
       "      <td>98</td>\n",
       "      <td>33</td>\n",
       "    </tr>\n",
       "    <tr>\n",
       "      <th>2</th>\n",
       "      <td>2020-12-09</td>\n",
       "      <td>171</td>\n",
       "      <td>50</td>\n",
       "      <td>103</td>\n",
       "      <td>47</td>\n",
       "    </tr>\n",
       "    <tr>\n",
       "      <th>3</th>\n",
       "      <td>2020-12-10</td>\n",
       "      <td>156</td>\n",
       "      <td>45</td>\n",
       "      <td>88</td>\n",
       "      <td>42</td>\n",
       "    </tr>\n",
       "    <tr>\n",
       "      <th>4</th>\n",
       "      <td>2020-12-11</td>\n",
       "      <td>176</td>\n",
       "      <td>44</td>\n",
       "      <td>96</td>\n",
       "      <td>40</td>\n",
       "    </tr>\n",
       "  </tbody>\n",
       "</table>\n",
       "</div>"
      ],
      "text/plain": [
       "   event_date  login  product_cart  product_page  purchase\n",
       "0  2020-12-07    148            35            92        43\n",
       "1  2020-12-08    146            36            98        33\n",
       "2  2020-12-09    171            50           103        47\n",
       "3  2020-12-10    156            45            88        42\n",
       "4  2020-12-11    176            44            96        40"
      ]
     },
     "execution_count": 199,
     "metadata": {},
     "output_type": "execute_result"
    }
   ],
   "source": [
    "#number of events distributed by days for Group A\n",
    "events_per_day_A = ab_group_A.pivot_table(\n",
    "    index='event_date', \n",
    "    columns='event_name', \n",
    "    values='user_id',\n",
    "    aggfunc='count').reset_index().rename_axis(index=None, columns=None)\n",
    "events_per_day_A.head()"
   ]
  },
  {
   "cell_type": "code",
   "execution_count": 200,
   "metadata": {},
   "outputs": [
    {
     "data": {
      "text/html": [
       "<div>\n",
       "<style scoped>\n",
       "    .dataframe tbody tr th:only-of-type {\n",
       "        vertical-align: middle;\n",
       "    }\n",
       "\n",
       "    .dataframe tbody tr th {\n",
       "        vertical-align: top;\n",
       "    }\n",
       "\n",
       "    .dataframe thead th {\n",
       "        text-align: right;\n",
       "    }\n",
       "</style>\n",
       "<table border=\"1\" class=\"dataframe\">\n",
       "  <thead>\n",
       "    <tr style=\"text-align: right;\">\n",
       "      <th></th>\n",
       "      <th>login</th>\n",
       "      <th>product_cart</th>\n",
       "      <th>product_page</th>\n",
       "      <th>purchase</th>\n",
       "    </tr>\n",
       "  </thead>\n",
       "  <tbody>\n",
       "    <tr>\n",
       "      <th>count</th>\n",
       "      <td>22.000000</td>\n",
       "      <td>22.000000</td>\n",
       "      <td>22.000000</td>\n",
       "      <td>22.000000</td>\n",
       "    </tr>\n",
       "    <tr>\n",
       "      <th>mean</th>\n",
       "      <td>356.636364</td>\n",
       "      <td>106.863636</td>\n",
       "      <td>229.227273</td>\n",
       "      <td>110.454545</td>\n",
       "    </tr>\n",
       "    <tr>\n",
       "      <th>std</th>\n",
       "      <td>201.321242</td>\n",
       "      <td>63.632348</td>\n",
       "      <td>134.608403</td>\n",
       "      <td>70.496692</td>\n",
       "    </tr>\n",
       "    <tr>\n",
       "      <th>min</th>\n",
       "      <td>146.000000</td>\n",
       "      <td>34.000000</td>\n",
       "      <td>88.000000</td>\n",
       "      <td>32.000000</td>\n",
       "    </tr>\n",
       "    <tr>\n",
       "      <th>25%</th>\n",
       "      <td>172.250000</td>\n",
       "      <td>47.750000</td>\n",
       "      <td>99.250000</td>\n",
       "      <td>43.000000</td>\n",
       "    </tr>\n",
       "    <tr>\n",
       "      <th>50%</th>\n",
       "      <td>305.500000</td>\n",
       "      <td>94.000000</td>\n",
       "      <td>208.500000</td>\n",
       "      <td>107.000000</td>\n",
       "    </tr>\n",
       "    <tr>\n",
       "      <th>75%</th>\n",
       "      <td>505.250000</td>\n",
       "      <td>155.750000</td>\n",
       "      <td>322.000000</td>\n",
       "      <td>158.500000</td>\n",
       "    </tr>\n",
       "    <tr>\n",
       "      <th>max</th>\n",
       "      <td>837.000000</td>\n",
       "      <td>235.000000</td>\n",
       "      <td>549.000000</td>\n",
       "      <td>282.000000</td>\n",
       "    </tr>\n",
       "  </tbody>\n",
       "</table>\n",
       "</div>"
      ],
      "text/plain": [
       "            login  product_cart  product_page    purchase\n",
       "count   22.000000     22.000000     22.000000   22.000000\n",
       "mean   356.636364    106.863636    229.227273  110.454545\n",
       "std    201.321242     63.632348    134.608403   70.496692\n",
       "min    146.000000     34.000000     88.000000   32.000000\n",
       "25%    172.250000     47.750000     99.250000   43.000000\n",
       "50%    305.500000     94.000000    208.500000  107.000000\n",
       "75%    505.250000    155.750000    322.000000  158.500000\n",
       "max    837.000000    235.000000    549.000000  282.000000"
      ]
     },
     "execution_count": 200,
     "metadata": {},
     "output_type": "execute_result"
    }
   ],
   "source": [
    "events_per_day_A.describe()"
   ]
  },
  {
   "cell_type": "code",
   "execution_count": 201,
   "metadata": {},
   "outputs": [
    {
     "data": {
      "text/html": [
       "<div>\n",
       "<style scoped>\n",
       "    .dataframe tbody tr th:only-of-type {\n",
       "        vertical-align: middle;\n",
       "    }\n",
       "\n",
       "    .dataframe tbody tr th {\n",
       "        vertical-align: top;\n",
       "    }\n",
       "\n",
       "    .dataframe thead th {\n",
       "        text-align: right;\n",
       "    }\n",
       "</style>\n",
       "<table border=\"1\" class=\"dataframe\">\n",
       "  <thead>\n",
       "    <tr style=\"text-align: right;\">\n",
       "      <th></th>\n",
       "      <th>event_date</th>\n",
       "      <th>login</th>\n",
       "      <th>product_cart</th>\n",
       "      <th>product_page</th>\n",
       "      <th>purchase</th>\n",
       "    </tr>\n",
       "  </thead>\n",
       "  <tbody>\n",
       "    <tr>\n",
       "      <th>0</th>\n",
       "      <td>2020-12-07</td>\n",
       "      <td>155.0</td>\n",
       "      <td>41.0</td>\n",
       "      <td>101.0</td>\n",
       "      <td>59.0</td>\n",
       "    </tr>\n",
       "    <tr>\n",
       "      <th>1</th>\n",
       "      <td>2020-12-08</td>\n",
       "      <td>113.0</td>\n",
       "      <td>31.0</td>\n",
       "      <td>61.0</td>\n",
       "      <td>33.0</td>\n",
       "    </tr>\n",
       "    <tr>\n",
       "      <th>2</th>\n",
       "      <td>2020-12-09</td>\n",
       "      <td>161.0</td>\n",
       "      <td>39.0</td>\n",
       "      <td>99.0</td>\n",
       "      <td>39.0</td>\n",
       "    </tr>\n",
       "    <tr>\n",
       "      <th>3</th>\n",
       "      <td>2020-12-10</td>\n",
       "      <td>124.0</td>\n",
       "      <td>32.0</td>\n",
       "      <td>67.0</td>\n",
       "      <td>26.0</td>\n",
       "    </tr>\n",
       "    <tr>\n",
       "      <th>4</th>\n",
       "      <td>2020-12-11</td>\n",
       "      <td>84.0</td>\n",
       "      <td>16.0</td>\n",
       "      <td>45.0</td>\n",
       "      <td>16.0</td>\n",
       "    </tr>\n",
       "  </tbody>\n",
       "</table>\n",
       "</div>"
      ],
      "text/plain": [
       "   event_date  login  product_cart  product_page  purchase\n",
       "0  2020-12-07  155.0          41.0         101.0      59.0\n",
       "1  2020-12-08  113.0          31.0          61.0      33.0\n",
       "2  2020-12-09  161.0          39.0          99.0      39.0\n",
       "3  2020-12-10  124.0          32.0          67.0      26.0\n",
       "4  2020-12-11   84.0          16.0          45.0      16.0"
      ]
     },
     "execution_count": 201,
     "metadata": {},
     "output_type": "execute_result"
    }
   ],
   "source": [
    "##number of events distributed by days for Group B\n",
    "events_per_day_B= ab_group_B.pivot_table(\n",
    "    index='event_date', \n",
    "    columns='event_name', \n",
    "    values='user_id',\n",
    "    aggfunc='count').reset_index().rename_axis(index=None, columns=None)\n",
    "events_per_day_B.head()"
   ]
  },
  {
   "cell_type": "code",
   "execution_count": 202,
   "metadata": {},
   "outputs": [
    {
     "data": {
      "text/html": [
       "<div>\n",
       "<style scoped>\n",
       "    .dataframe tbody tr th:only-of-type {\n",
       "        vertical-align: middle;\n",
       "    }\n",
       "\n",
       "    .dataframe tbody tr th {\n",
       "        vertical-align: top;\n",
       "    }\n",
       "\n",
       "    .dataframe thead th {\n",
       "        text-align: right;\n",
       "    }\n",
       "</style>\n",
       "<table border=\"1\" class=\"dataframe\">\n",
       "  <thead>\n",
       "    <tr style=\"text-align: right;\">\n",
       "      <th></th>\n",
       "      <th>login</th>\n",
       "      <th>product_cart</th>\n",
       "      <th>product_page</th>\n",
       "      <th>purchase</th>\n",
       "    </tr>\n",
       "  </thead>\n",
       "  <tbody>\n",
       "    <tr>\n",
       "      <th>count</th>\n",
       "      <td>23.000000</td>\n",
       "      <td>23.000000</td>\n",
       "      <td>23.000000</td>\n",
       "      <td>22.000000</td>\n",
       "    </tr>\n",
       "    <tr>\n",
       "      <th>mean</th>\n",
       "      <td>105.000000</td>\n",
       "      <td>27.956522</td>\n",
       "      <td>56.391304</td>\n",
       "      <td>29.500000</td>\n",
       "    </tr>\n",
       "    <tr>\n",
       "      <th>std</th>\n",
       "      <td>46.190318</td>\n",
       "      <td>15.852956</td>\n",
       "      <td>27.746808</td>\n",
       "      <td>12.883175</td>\n",
       "    </tr>\n",
       "    <tr>\n",
       "      <th>min</th>\n",
       "      <td>2.000000</td>\n",
       "      <td>1.000000</td>\n",
       "      <td>1.000000</td>\n",
       "      <td>10.000000</td>\n",
       "    </tr>\n",
       "    <tr>\n",
       "      <th>25%</th>\n",
       "      <td>76.500000</td>\n",
       "      <td>16.000000</td>\n",
       "      <td>38.000000</td>\n",
       "      <td>20.000000</td>\n",
       "    </tr>\n",
       "    <tr>\n",
       "      <th>50%</th>\n",
       "      <td>109.000000</td>\n",
       "      <td>29.000000</td>\n",
       "      <td>52.000000</td>\n",
       "      <td>28.000000</td>\n",
       "    </tr>\n",
       "    <tr>\n",
       "      <th>75%</th>\n",
       "      <td>133.000000</td>\n",
       "      <td>39.500000</td>\n",
       "      <td>73.000000</td>\n",
       "      <td>35.500000</td>\n",
       "    </tr>\n",
       "    <tr>\n",
       "      <th>max</th>\n",
       "      <td>190.000000</td>\n",
       "      <td>58.000000</td>\n",
       "      <td>102.000000</td>\n",
       "      <td>59.000000</td>\n",
       "    </tr>\n",
       "  </tbody>\n",
       "</table>\n",
       "</div>"
      ],
      "text/plain": [
       "            login  product_cart  product_page   purchase\n",
       "count   23.000000     23.000000     23.000000  22.000000\n",
       "mean   105.000000     27.956522     56.391304  29.500000\n",
       "std     46.190318     15.852956     27.746808  12.883175\n",
       "min      2.000000      1.000000      1.000000  10.000000\n",
       "25%     76.500000     16.000000     38.000000  20.000000\n",
       "50%    109.000000     29.000000     52.000000  28.000000\n",
       "75%    133.000000     39.500000     73.000000  35.500000\n",
       "max    190.000000     58.000000    102.000000  59.000000"
      ]
     },
     "execution_count": 202,
     "metadata": {},
     "output_type": "execute_result"
    }
   ],
   "source": [
    "events_per_day_B.describe()"
   ]
  },
  {
   "cell_type": "markdown",
   "metadata": {},
   "source": [
    "<b> Looking at the number of events distributed per day ,we see that we have more logging in events  and then 'product_page'.  \n",
    "    purchase' being almost closer and also more than 'product_cart' at some occassion shows that users go with 'purchase'   \n",
    "    without 'product_cart'."
   ]
  },
  {
   "cell_type": "code",
   "execution_count": 203,
   "metadata": {},
   "outputs": [
    {
     "data": {
      "image/png": "[encoded data removed]",
      "text/plain": [
       "<Figure size 1224x360 with 1 Axes>"
      ]
     },
     "metadata": {
      "needs_background": "light"
     },
     "output_type": "display_data"
    }
   ],
   "source": [
    "# the updated cell:\n",
    "from matplotlib import pyplot as plt\n",
    "import seaborn as sns\n",
    "\n",
    "plot = (ab_new_participants_events_df.groupby(['event_date','group']).agg({'user_id': 'count'}).reset_index())\n",
    "plot['event_date'] = pd.to_datetime(plot['event_date']).dt.strftime('%m/%d')\n",
    "plt.figure(figsize=(17, 5))\n",
    "sns.barplot(x='event_date', y='user_id', hue='group', data=plot)\n",
    "plt.title('The Daily Event Distribution', fontsize=14)\n",
    "plt.xlabel('Date')\n",
    "plt.ylabel('Number of events')\n",
    "plt.grid()\n",
    "plt.show()\n",
    "\n",
    "plt.show()"
   ]
  },
  {
   "cell_type": "markdown",
   "metadata": {},
   "source": [
    "<b>Comparing the funnel in both the groups"
   ]
  },
  {
   "cell_type": "code",
   "execution_count": 204,
   "metadata": {},
   "outputs": [
    {
     "data": {
      "text/html": [
       "<div>\n",
       "<style scoped>\n",
       "    .dataframe tbody tr th:only-of-type {\n",
       "        vertical-align: middle;\n",
       "    }\n",
       "\n",
       "    .dataframe tbody tr th {\n",
       "        vertical-align: top;\n",
       "    }\n",
       "\n",
       "    .dataframe thead th {\n",
       "        text-align: right;\n",
       "    }\n",
       "</style>\n",
       "<table border=\"1\" class=\"dataframe\">\n",
       "  <thead>\n",
       "    <tr style=\"text-align: right;\">\n",
       "      <th></th>\n",
       "      <th>user_id</th>\n",
       "      <th>login</th>\n",
       "      <th>product_cart</th>\n",
       "      <th>product_page</th>\n",
       "      <th>purchase</th>\n",
       "    </tr>\n",
       "  </thead>\n",
       "  <tbody>\n",
       "    <tr>\n",
       "      <th>0</th>\n",
       "      <td>0010A1C096941592</td>\n",
       "      <td>2020-12-17 21:07:27</td>\n",
       "      <td>NaN</td>\n",
       "      <td>2020-12-17 21:07:27</td>\n",
       "      <td>2020-12-17 21:07:27</td>\n",
       "    </tr>\n",
       "    <tr>\n",
       "      <th>1</th>\n",
       "      <td>00341D8401F0F665</td>\n",
       "      <td>2020-12-21 11:14:50</td>\n",
       "      <td>NaN</td>\n",
       "      <td>NaN</td>\n",
       "      <td>NaN</td>\n",
       "    </tr>\n",
       "    <tr>\n",
       "      <th>2</th>\n",
       "      <td>003DF44D7589BBD4</td>\n",
       "      <td>2020-12-17 06:17:49</td>\n",
       "      <td>2020-12-17 06:17:49</td>\n",
       "      <td>2020-12-17 06:17:49</td>\n",
       "      <td>NaN</td>\n",
       "    </tr>\n",
       "    <tr>\n",
       "      <th>3</th>\n",
       "      <td>00505E15A9D81546</td>\n",
       "      <td>2020-12-14 17:28:32</td>\n",
       "      <td>NaN</td>\n",
       "      <td>NaN</td>\n",
       "      <td>NaN</td>\n",
       "    </tr>\n",
       "    <tr>\n",
       "      <th>4</th>\n",
       "      <td>006E3E4E232CE760</td>\n",
       "      <td>2020-12-17 16:40:41</td>\n",
       "      <td>NaN</td>\n",
       "      <td>2020-12-17 16:40:42</td>\n",
       "      <td>NaN</td>\n",
       "    </tr>\n",
       "  </tbody>\n",
       "</table>\n",
       "</div>"
      ],
      "text/plain": [
       "            user_id                login         product_cart  \\\n",
       "0  0010A1C096941592  2020-12-17 21:07:27                  NaN   \n",
       "1  00341D8401F0F665  2020-12-21 11:14:50                  NaN   \n",
       "2  003DF44D7589BBD4  2020-12-17 06:17:49  2020-12-17 06:17:49   \n",
       "3  00505E15A9D81546  2020-12-14 17:28:32                  NaN   \n",
       "4  006E3E4E232CE760  2020-12-17 16:40:41                  NaN   \n",
       "\n",
       "          product_page             purchase  \n",
       "0  2020-12-17 21:07:27  2020-12-17 21:07:27  \n",
       "1                  NaN                  NaN  \n",
       "2  2020-12-17 06:17:49                  NaN  \n",
       "3                  NaN                  NaN  \n",
       "4  2020-12-17 16:40:42                  NaN  "
      ]
     },
     "execution_count": 204,
     "metadata": {},
     "output_type": "execute_result"
    }
   ],
   "source": [
    "#event funnel for group A\n",
    "event_funnel_A = ab_group_A.pivot_table(\n",
    "    index='user_id', \n",
    "    columns='event_name', \n",
    "    values='event_dt',\n",
    "    aggfunc='min').reset_index().rename_axis(index=None, columns=None)\n",
    "event_funnel_A.head()"
   ]
  },
  {
   "cell_type": "code",
   "execution_count": 205,
   "metadata": {},
   "outputs": [
    {
     "name": "stdout",
     "output_type": "stream",
     "text": [
      "Number of users visiting logged in - Group A:  2604\n",
      "Number of users visiting product page - Group A: 959\n",
      "number of users adding product to cart - Group A: 49\n",
      "number of users Purchasing - Group A: 0\n"
     ]
    }
   ],
   "source": [
    "step_1 = ~event_funnel_A['login'].isna()\n",
    "step_2 = step_1 & (event_funnel_A['product_page'] > event_funnel_A['login'])\n",
    "step_3 = step_2 & (event_funnel_A['product_cart'] > event_funnel_A['product_page'])\n",
    "step_4 = step_3 & (event_funnel_A['purchase'] > event_funnel_A['product_cart'])\n",
    "\n",
    "n_login_a=event_funnel_A[step_1].shape[0]\n",
    "n_product_page_a = event_funnel_A[step_2].shape[0]\n",
    "n_product_cart_a = event_funnel_A[step_3].shape[0]\n",
    "n_purchase_a = event_funnel_A[step_4].shape[0]\n",
    "\n",
    "print('Number of users visiting logged in - Group A: ', n_login_a)\n",
    "print('Number of users visiting product page - Group A:', n_product_page_a)\n",
    "print('number of users adding product to cart - Group A:', n_product_cart_a)\n",
    "print('number of users Purchasing - Group A:', n_purchase_a) "
   ]
  },
  {
   "cell_type": "code",
   "execution_count": 206,
   "metadata": {},
   "outputs": [
    {
     "name": "stdout",
     "output_type": "stream",
     "text": [
      "number of users Purchasing without cart- Group A: 833\n"
     ]
    }
   ],
   "source": [
    "#conversion from login to purchase\n",
    "step_5=step_1 & (event_funnel_A['purchase'] >= event_funnel_A['login'])\n",
    "n_purchase_nocart_a=event_funnel_A[step_5].shape[0]\n",
    "print('number of users Purchasing without cart- Group A:', n_purchase_nocart_a) "
   ]
  },
  {
   "cell_type": "code",
   "execution_count": 207,
   "metadata": {},
   "outputs": [],
   "source": [
    "login_product_conversion_a = (n_product_page_a/ n_login_a)*100\n",
    "product_cart_conversion_a = (n_product_cart_a / n_product_page_a)*100\n",
    "cart_purchase_conversion_a = (n_purchase_a / n_product_cart_a)*100\n",
    "login_purchase_conversion_a=(n_purchase_nocart_a / n_login_a)*100"
   ]
  },
  {
   "cell_type": "code",
   "execution_count": 208,
   "metadata": {},
   "outputs": [
    {
     "data": {
      "text/plain": [
       "36.82795698924731"
      ]
     },
     "execution_count": 208,
     "metadata": {},
     "output_type": "execute_result"
    }
   ],
   "source": [
    "login_product_conversion_a\n"
   ]
  },
  {
   "cell_type": "code",
   "execution_count": 209,
   "metadata": {
    "scrolled": true
   },
   "outputs": [
    {
     "data": {
      "text/plain": [
       "5.109489051094891"
      ]
     },
     "execution_count": 209,
     "metadata": {},
     "output_type": "execute_result"
    }
   ],
   "source": [
    "product_cart_conversion_a\n"
   ]
  },
  {
   "cell_type": "code",
   "execution_count": 210,
   "metadata": {},
   "outputs": [
    {
     "data": {
      "text/plain": [
       "0.0"
      ]
     },
     "execution_count": 210,
     "metadata": {},
     "output_type": "execute_result"
    }
   ],
   "source": [
    "cart_purchase_conversion_a"
   ]
  },
  {
   "cell_type": "code",
   "execution_count": 211,
   "metadata": {},
   "outputs": [
    {
     "data": {
      "text/plain": [
       "31.989247311827956"
      ]
     },
     "execution_count": 211,
     "metadata": {},
     "output_type": "execute_result"
    }
   ],
   "source": [
    "login_purchase_conversion_a"
   ]
  },
  {
   "cell_type": "code",
   "execution_count": 212,
   "metadata": {},
   "outputs": [
    {
     "data": {
      "text/html": [
       "<div>\n",
       "<style scoped>\n",
       "    .dataframe tbody tr th:only-of-type {\n",
       "        vertical-align: middle;\n",
       "    }\n",
       "\n",
       "    .dataframe tbody tr th {\n",
       "        vertical-align: top;\n",
       "    }\n",
       "\n",
       "    .dataframe thead th {\n",
       "        text-align: right;\n",
       "    }\n",
       "</style>\n",
       "<table border=\"1\" class=\"dataframe\">\n",
       "  <thead>\n",
       "    <tr style=\"text-align: right;\">\n",
       "      <th></th>\n",
       "      <th>user_id</th>\n",
       "      <th>login</th>\n",
       "      <th>product_cart</th>\n",
       "      <th>product_page</th>\n",
       "      <th>purchase</th>\n",
       "    </tr>\n",
       "  </thead>\n",
       "  <tbody>\n",
       "    <tr>\n",
       "      <th>0</th>\n",
       "      <td>001064FEAAB631A1</td>\n",
       "      <td>2020-12-20 14:43:27</td>\n",
       "      <td>NaN</td>\n",
       "      <td>2020-12-20 14:43:28</td>\n",
       "      <td>NaN</td>\n",
       "    </tr>\n",
       "    <tr>\n",
       "      <th>1</th>\n",
       "      <td>005E096DBD379BCF</td>\n",
       "      <td>2020-12-21 07:20:39</td>\n",
       "      <td>NaN</td>\n",
       "      <td>NaN</td>\n",
       "      <td>2020-12-21 07:20:39</td>\n",
       "    </tr>\n",
       "    <tr>\n",
       "      <th>2</th>\n",
       "      <td>015D1E3BB893349D</td>\n",
       "      <td>2020-12-16 21:14:05</td>\n",
       "      <td>NaN</td>\n",
       "      <td>2020-12-16 21:14:06</td>\n",
       "      <td>NaN</td>\n",
       "    </tr>\n",
       "    <tr>\n",
       "      <th>3</th>\n",
       "      <td>015FF3EC72C1F4F6</td>\n",
       "      <td>2020-12-20 08:29:30</td>\n",
       "      <td>NaN</td>\n",
       "      <td>2020-12-20 08:29:31</td>\n",
       "      <td>NaN</td>\n",
       "    </tr>\n",
       "    <tr>\n",
       "      <th>4</th>\n",
       "      <td>01B0B891CA513468</td>\n",
       "      <td>2020-12-16 22:35:11</td>\n",
       "      <td>2020-12-16 22:35:11</td>\n",
       "      <td>2020-12-16 22:35:11</td>\n",
       "      <td>NaN</td>\n",
       "    </tr>\n",
       "  </tbody>\n",
       "</table>\n",
       "</div>"
      ],
      "text/plain": [
       "            user_id                login         product_cart  \\\n",
       "0  001064FEAAB631A1  2020-12-20 14:43:27                  NaN   \n",
       "1  005E096DBD379BCF  2020-12-21 07:20:39                  NaN   \n",
       "2  015D1E3BB893349D  2020-12-16 21:14:05                  NaN   \n",
       "3  015FF3EC72C1F4F6  2020-12-20 08:29:30                  NaN   \n",
       "4  01B0B891CA513468  2020-12-16 22:35:11  2020-12-16 22:35:11   \n",
       "\n",
       "          product_page             purchase  \n",
       "0  2020-12-20 14:43:28                  NaN  \n",
       "1                  NaN  2020-12-21 07:20:39  \n",
       "2  2020-12-16 21:14:06                  NaN  \n",
       "3  2020-12-20 08:29:31                  NaN  \n",
       "4  2020-12-16 22:35:11                  NaN  "
      ]
     },
     "execution_count": 212,
     "metadata": {},
     "output_type": "execute_result"
    }
   ],
   "source": [
    "#event funnel for group B\n",
    "event_funnel_B = ab_group_B.pivot_table(\n",
    "    index='user_id', \n",
    "    columns='event_name', \n",
    "    values='event_dt',\n",
    "    aggfunc='min').reset_index().rename_axis(index=None, columns=None)\n",
    "event_funnel_B.head()"
   ]
  },
  {
   "cell_type": "code",
   "execution_count": 213,
   "metadata": {},
   "outputs": [
    {
     "name": "stdout",
     "output_type": "stream",
     "text": [
      "Number of users visiting logged in - Group B:  876\n",
      "Number of users visiting product page - Group B: 264\n",
      "number of users adding product to cart - Group B: 23\n",
      "number of users Purchasing - Group B: 1\n"
     ]
    }
   ],
   "source": [
    "step_1 = ~event_funnel_B['login'].isna()\n",
    "step_2 = step_1 & (event_funnel_B['product_page'] > event_funnel_B['login'])\n",
    "step_3 = step_2 & (event_funnel_B['product_cart'] > event_funnel_B['product_page'])\n",
    "step_4 = step_3 & (event_funnel_B['purchase'] > event_funnel_B['product_cart'])\n",
    "\n",
    "n_login_b=event_funnel_B[step_1].shape[0]\n",
    "n_product_page_b = event_funnel_B[step_2].shape[0]\n",
    "n_product_cart_b = event_funnel_B[step_3].shape[0]\n",
    "n_purchase_b = event_funnel_B[step_4].shape[0]\n",
    "\n",
    "print('Number of users visiting logged in - Group B: ', n_login_b)\n",
    "print('Number of users visiting product page - Group B:', n_product_page_b)\n",
    "print('number of users adding product to cart - Group B:', n_product_cart_b)\n",
    "print('number of users Purchasing - Group B:', n_purchase_b) "
   ]
  },
  {
   "cell_type": "code",
   "execution_count": 214,
   "metadata": {},
   "outputs": [
    {
     "name": "stdout",
     "output_type": "stream",
     "text": [
      "number of users Purchasing without cart- Group B: 241\n"
     ]
    }
   ],
   "source": [
    "#conversion of login to purchase in group B\n",
    "step_5=step_1 & (event_funnel_B['purchase'] >= event_funnel_B['login'])\n",
    "n_purchase_nocart_b=event_funnel_B[step_5].shape[0]\n",
    "print('number of users Purchasing without cart- Group B:', n_purchase_nocart_b) "
   ]
  },
  {
   "cell_type": "code",
   "execution_count": 215,
   "metadata": {},
   "outputs": [],
   "source": [
    "login_product_conversion_b = (n_product_page_b/ n_login_b)*100\n",
    "product_cart_conversion_b = (n_product_cart_b / n_product_page_b)*100\n",
    "cart_purchase_conversion_b = (n_purchase_b / n_product_cart_b)*100\n",
    "login_purchase_conversion_b=(n_purchase_nocart_b / n_login_b)*100"
   ]
  },
  {
   "cell_type": "code",
   "execution_count": 216,
   "metadata": {},
   "outputs": [
    {
     "data": {
      "text/plain": [
       "30.136986301369863"
      ]
     },
     "execution_count": 216,
     "metadata": {},
     "output_type": "execute_result"
    }
   ],
   "source": [
    "login_product_conversion_b "
   ]
  },
  {
   "cell_type": "markdown",
   "metadata": {},
   "source": [
    "product_cart_conversion_b "
   ]
  },
  {
   "cell_type": "code",
   "execution_count": 217,
   "metadata": {},
   "outputs": [
    {
     "data": {
      "text/plain": [
       "4.3478260869565215"
      ]
     },
     "execution_count": 217,
     "metadata": {},
     "output_type": "execute_result"
    }
   ],
   "source": [
    "cart_purchase_conversion_b "
   ]
  },
  {
   "cell_type": "code",
   "execution_count": 218,
   "metadata": {},
   "outputs": [
    {
     "data": {
      "text/plain": [
       "27.51141552511416"
      ]
     },
     "execution_count": 218,
     "metadata": {},
     "output_type": "execute_result"
    }
   ],
   "source": [
    "login_purchase_conversion_b"
   ]
  },
  {
   "cell_type": "markdown",
   "metadata": {},
   "source": [
    "<b>Intermediate Conclusion:  \n",
    "    There are many instances of 'purchase' made right after login page.  \n",
    "Maintaining the sequence of the funnel product_page → product_card → purchase, didn't end up in more purchase.   \n",
    "So , we also compared the funnel of login → purchase ."
   ]
  },
  {
   "cell_type": "markdown",
   "metadata": {},
   "source": [
    "<b>Comparing the event funnel of login and purchase , we see that GroupA has around 31% and GroupB has 27% conversion from  \n",
    "    'login' to 'purchase' with some difference in case of purchase and Group B on lower side."
   ]
  },
  {
   "cell_type": "markdown",
   "metadata": {},
   "source": [
    "<b>Data to consider with A/B test results.  \n",
    "1.We have less than expected number of audience.  \n",
    "2.Number of participants in each group is significantly different.  \n",
    "3.Two more days left to finish A/B test and there is a promo running currently for a week."
   ]
  },
  {
   "cell_type": "code",
   "execution_count": 219,
   "metadata": {},
   "outputs": [
    {
     "data": {
      "text/html": [
       "<div>\n",
       "<style scoped>\n",
       "    .dataframe tbody tr th:only-of-type {\n",
       "        vertical-align: middle;\n",
       "    }\n",
       "\n",
       "    .dataframe tbody tr th {\n",
       "        vertical-align: top;\n",
       "    }\n",
       "\n",
       "    .dataframe thead th {\n",
       "        text-align: right;\n",
       "    }\n",
       "</style>\n",
       "<table border=\"1\" class=\"dataframe\">\n",
       "  <thead>\n",
       "    <tr style=\"text-align: right;\">\n",
       "      <th></th>\n",
       "      <th>Unnamed: 0_x</th>\n",
       "      <th>user_id</th>\n",
       "      <th>event_dt</th>\n",
       "      <th>event_name</th>\n",
       "      <th>details</th>\n",
       "      <th>event_date</th>\n",
       "      <th>Unnamed: 0_y</th>\n",
       "      <th>group</th>\n",
       "      <th>ab_test</th>\n",
       "    </tr>\n",
       "  </thead>\n",
       "  <tbody>\n",
       "    <tr>\n",
       "      <th>0</th>\n",
       "      <td>5</td>\n",
       "      <td>831887FE7F2D6CBA</td>\n",
       "      <td>2020-12-07 06:50:29</td>\n",
       "      <td>purchase</td>\n",
       "      <td>4.99</td>\n",
       "      <td>2020-12-07</td>\n",
       "      <td>359</td>\n",
       "      <td>A</td>\n",
       "      <td>recommender_system_test</td>\n",
       "    </tr>\n",
       "    <tr>\n",
       "      <th>1</th>\n",
       "      <td>3382</td>\n",
       "      <td>831887FE7F2D6CBA</td>\n",
       "      <td>2020-12-09 02:19:17</td>\n",
       "      <td>purchase</td>\n",
       "      <td>99.99</td>\n",
       "      <td>2020-12-09</td>\n",
       "      <td>359</td>\n",
       "      <td>A</td>\n",
       "      <td>recommender_system_test</td>\n",
       "    </tr>\n",
       "    <tr>\n",
       "      <th>2</th>\n",
       "      <td>60320</td>\n",
       "      <td>831887FE7F2D6CBA</td>\n",
       "      <td>2020-12-07 06:50:30</td>\n",
       "      <td>product_cart</td>\n",
       "      <td>0.00</td>\n",
       "      <td>2020-12-07</td>\n",
       "      <td>359</td>\n",
       "      <td>A</td>\n",
       "      <td>recommender_system_test</td>\n",
       "    </tr>\n",
       "    <tr>\n",
       "      <th>3</th>\n",
       "      <td>61897</td>\n",
       "      <td>831887FE7F2D6CBA</td>\n",
       "      <td>2020-12-08 10:52:27</td>\n",
       "      <td>product_cart</td>\n",
       "      <td>0.00</td>\n",
       "      <td>2020-12-08</td>\n",
       "      <td>359</td>\n",
       "      <td>A</td>\n",
       "      <td>recommender_system_test</td>\n",
       "    </tr>\n",
       "    <tr>\n",
       "      <th>4</th>\n",
       "      <td>63642</td>\n",
       "      <td>831887FE7F2D6CBA</td>\n",
       "      <td>2020-12-09 02:19:17</td>\n",
       "      <td>product_cart</td>\n",
       "      <td>0.00</td>\n",
       "      <td>2020-12-09</td>\n",
       "      <td>359</td>\n",
       "      <td>A</td>\n",
       "      <td>recommender_system_test</td>\n",
       "    </tr>\n",
       "    <tr>\n",
       "      <th>...</th>\n",
       "      <td>...</td>\n",
       "      <td>...</td>\n",
       "      <td>...</td>\n",
       "      <td>...</td>\n",
       "      <td>...</td>\n",
       "      <td>...</td>\n",
       "      <td>...</td>\n",
       "      <td>...</td>\n",
       "      <td>...</td>\n",
       "    </tr>\n",
       "    <tr>\n",
       "      <th>22669</th>\n",
       "      <td>410757</td>\n",
       "      <td>1484BBF124DB1B18</td>\n",
       "      <td>2020-12-27 10:53:34</td>\n",
       "      <td>login</td>\n",
       "      <td>0.00</td>\n",
       "      <td>2020-12-27</td>\n",
       "      <td>1659</td>\n",
       "      <td>A</td>\n",
       "      <td>recommender_system_test</td>\n",
       "    </tr>\n",
       "    <tr>\n",
       "      <th>22670</th>\n",
       "      <td>363934</td>\n",
       "      <td>BEF16764A13AEC34</td>\n",
       "      <td>2020-12-21 03:49:49</td>\n",
       "      <td>login</td>\n",
       "      <td>0.00</td>\n",
       "      <td>2020-12-21</td>\n",
       "      <td>550</td>\n",
       "      <td>B</td>\n",
       "      <td>recommender_system_test</td>\n",
       "    </tr>\n",
       "    <tr>\n",
       "      <th>22671</th>\n",
       "      <td>374904</td>\n",
       "      <td>BEF16764A13AEC34</td>\n",
       "      <td>2020-12-22 18:52:25</td>\n",
       "      <td>login</td>\n",
       "      <td>0.00</td>\n",
       "      <td>2020-12-22</td>\n",
       "      <td>550</td>\n",
       "      <td>B</td>\n",
       "      <td>recommender_system_test</td>\n",
       "    </tr>\n",
       "    <tr>\n",
       "      <th>22672</th>\n",
       "      <td>397105</td>\n",
       "      <td>BEF16764A13AEC34</td>\n",
       "      <td>2020-12-24 22:11:00</td>\n",
       "      <td>login</td>\n",
       "      <td>0.00</td>\n",
       "      <td>2020-12-24</td>\n",
       "      <td>550</td>\n",
       "      <td>B</td>\n",
       "      <td>recommender_system_test</td>\n",
       "    </tr>\n",
       "    <tr>\n",
       "      <th>22673</th>\n",
       "      <td>364005</td>\n",
       "      <td>23DDD27AC3FEFA63</td>\n",
       "      <td>2020-12-21 02:51:45</td>\n",
       "      <td>login</td>\n",
       "      <td>0.00</td>\n",
       "      <td>2020-12-21</td>\n",
       "      <td>1053</td>\n",
       "      <td>A</td>\n",
       "      <td>recommender_system_test</td>\n",
       "    </tr>\n",
       "  </tbody>\n",
       "</table>\n",
       "<p>22674 rows × 9 columns</p>\n",
       "</div>"
      ],
      "text/plain": [
       "       Unnamed: 0_x           user_id             event_dt    event_name  \\\n",
       "0                 5  831887FE7F2D6CBA  2020-12-07 06:50:29      purchase   \n",
       "1              3382  831887FE7F2D6CBA  2020-12-09 02:19:17      purchase   \n",
       "2             60320  831887FE7F2D6CBA  2020-12-07 06:50:30  product_cart   \n",
       "3             61897  831887FE7F2D6CBA  2020-12-08 10:52:27  product_cart   \n",
       "4             63642  831887FE7F2D6CBA  2020-12-09 02:19:17  product_cart   \n",
       "...             ...               ...                  ...           ...   \n",
       "22669        410757  1484BBF124DB1B18  2020-12-27 10:53:34         login   \n",
       "22670        363934  BEF16764A13AEC34  2020-12-21 03:49:49         login   \n",
       "22671        374904  BEF16764A13AEC34  2020-12-22 18:52:25         login   \n",
       "22672        397105  BEF16764A13AEC34  2020-12-24 22:11:00         login   \n",
       "22673        364005  23DDD27AC3FEFA63  2020-12-21 02:51:45         login   \n",
       "\n",
       "       details  event_date  Unnamed: 0_y group                  ab_test  \n",
       "0         4.99  2020-12-07           359     A  recommender_system_test  \n",
       "1        99.99  2020-12-09           359     A  recommender_system_test  \n",
       "2         0.00  2020-12-07           359     A  recommender_system_test  \n",
       "3         0.00  2020-12-08           359     A  recommender_system_test  \n",
       "4         0.00  2020-12-09           359     A  recommender_system_test  \n",
       "...        ...         ...           ...   ...                      ...  \n",
       "22669     0.00  2020-12-27          1659     A  recommender_system_test  \n",
       "22670     0.00  2020-12-21           550     B  recommender_system_test  \n",
       "22671     0.00  2020-12-22           550     B  recommender_system_test  \n",
       "22672     0.00  2020-12-24           550     B  recommender_system_test  \n",
       "22673     0.00  2020-12-21          1053     A  recommender_system_test  \n",
       "\n",
       "[22674 rows x 9 columns]"
      ]
     },
     "execution_count": 219,
     "metadata": {},
     "output_type": "execute_result"
    }
   ],
   "source": [
    "ab_new_participants_events_df"
   ]
  },
  {
   "cell_type": "code",
   "execution_count": 220,
   "metadata": {},
   "outputs": [
    {
     "data": {
      "application/vnd.plotly.v1+json": {
       "config": {
        "plotlyServerURL": "https://plot.ly"
       },
       "data": [
        {
         "marker": {
          "color": "#3274a1"
         },
         "name": "Group A",
         "textinfo": "value+percent initial+percent previous",
         "type": "funnel",
         "x": [
          2604,
          1685,
          782,
          833
         ],
         "y": [
          "login",
          "product_page",
          "product_cart",
          "purchase"
         ]
        },
        {
         "name": "Group B",
         "textinfo": "value+percent initial+percent previous",
         "type": "funnel",
         "x": [
          876,
          493,
          244,
          249
         ],
         "y": [
          "login",
          "product_page",
          "product_cart",
          "purchase"
         ]
        }
       ],
       "layout": {
        "template": {
         "data": {
          "bar": [
           {
            "error_x": {
             "color": "#2a3f5f"
            },
            "error_y": {
             "color": "#2a3f5f"
            },
            "marker": {
             "line": {
              "color": "#E5ECF6",
              "width": 0.5
             },
             "pattern": {
              "fillmode": "overlay",
              "size": 10,
              "solidity": 0.2
             }
            },
            "type": "bar"
           }
          ],
          "barpolar": [
           {
            "marker": {
             "line": {
              "color": "#E5ECF6",
              "width": 0.5
             },
             "pattern": {
              "fillmode": "overlay",
              "size": 10,
              "solidity": 0.2
             }
            },
            "type": "barpolar"
           }
          ],
          "carpet": [
           {
            "aaxis": {
             "endlinecolor": "#2a3f5f",
             "gridcolor": "white",
             "linecolor": "white",
             "minorgridcolor": "white",
             "startlinecolor": "#2a3f5f"
            },
            "baxis": {
             "endlinecolor": "#2a3f5f",
             "gridcolor": "white",
             "linecolor": "white",
             "minorgridcolor": "white",
             "startlinecolor": "#2a3f5f"
            },
            "type": "carpet"
           }
          ],
          "choropleth": [
           {
            "colorbar": {
             "outlinewidth": 0,
             "ticks": ""
            },
            "type": "choropleth"
           }
          ],
          "contour": [
           {
            "colorbar": {
             "outlinewidth": 0,
             "ticks": ""
            },
            "colorscale": [
             [
              0,
              "#0d0887"
             ],
             [
              0.1111111111111111,
              "#46039f"
             ],
             [
              0.2222222222222222,
              "#7201a8"
             ],
             [
              0.3333333333333333,
              "#9c179e"
             ],
             [
              0.4444444444444444,
              "#bd3786"
             ],
             [
              0.5555555555555556,
              "#d8576b"
             ],
             [
              0.6666666666666666,
              "#ed7953"
             ],
             [
              0.7777777777777778,
              "#fb9f3a"
             ],
             [
              0.8888888888888888,
              "#fdca26"
             ],
             [
              1,
              "#f0f921"
             ]
            ],
            "type": "contour"
           }
          ],
          "contourcarpet": [
           {
            "colorbar": {
             "outlinewidth": 0,
             "ticks": ""
            },
            "type": "contourcarpet"
           }
          ],
          "heatmap": [
           {
            "colorbar": {
             "outlinewidth": 0,
             "ticks": ""
            },
            "colorscale": [
             [
              0,
              "#0d0887"
             ],
             [
              0.1111111111111111,
              "#46039f"
             ],
             [
              0.2222222222222222,
              "#7201a8"
             ],
             [
              0.3333333333333333,
              "#9c179e"
             ],
             [
              0.4444444444444444,
              "#bd3786"
             ],
             [
              0.5555555555555556,
              "#d8576b"
             ],
             [
              0.6666666666666666,
              "#ed7953"
             ],
             [
              0.7777777777777778,
              "#fb9f3a"
             ],
             [
              0.8888888888888888,
              "#fdca26"
             ],
             [
              1,
              "#f0f921"
             ]
            ],
            "type": "heatmap"
           }
          ],
          "heatmapgl": [
           {
            "colorbar": {
             "outlinewidth": 0,
             "ticks": ""
            },
            "colorscale": [
             [
              0,
              "#0d0887"
             ],
             [
              0.1111111111111111,
              "#46039f"
             ],
             [
              0.2222222222222222,
              "#7201a8"
             ],
             [
              0.3333333333333333,
              "#9c179e"
             ],
             [
              0.4444444444444444,
              "#bd3786"
             ],
             [
              0.5555555555555556,
              "#d8576b"
             ],
             [
              0.6666666666666666,
              "#ed7953"
             ],
             [
              0.7777777777777778,
              "#fb9f3a"
             ],
             [
              0.8888888888888888,
              "#fdca26"
             ],
             [
              1,
              "#f0f921"
             ]
            ],
            "type": "heatmapgl"
           }
          ],
          "histogram": [
           {
            "marker": {
             "pattern": {
              "fillmode": "overlay",
              "size": 10,
              "solidity": 0.2
             }
            },
            "type": "histogram"
           }
          ],
          "histogram2d": [
           {
            "colorbar": {
             "outlinewidth": 0,
             "ticks": ""
            },
            "colorscale": [
             [
              0,
              "#0d0887"
             ],
             [
              0.1111111111111111,
              "#46039f"
             ],
             [
              0.2222222222222222,
              "#7201a8"
             ],
             [
              0.3333333333333333,
              "#9c179e"
             ],
             [
              0.4444444444444444,
              "#bd3786"
             ],
             [
              0.5555555555555556,
              "#d8576b"
             ],
             [
              0.6666666666666666,
              "#ed7953"
             ],
             [
              0.7777777777777778,
              "#fb9f3a"
             ],
             [
              0.8888888888888888,
              "#fdca26"
             ],
             [
              1,
              "#f0f921"
             ]
            ],
            "type": "histogram2d"
           }
          ],
          "histogram2dcontour": [
           {
            "colorbar": {
             "outlinewidth": 0,
             "ticks": ""
            },
            "colorscale": [
             [
              0,
              "#0d0887"
             ],
             [
              0.1111111111111111,
              "#46039f"
             ],
             [
              0.2222222222222222,
              "#7201a8"
             ],
             [
              0.3333333333333333,
              "#9c179e"
             ],
             [
              0.4444444444444444,
              "#bd3786"
             ],
             [
              0.5555555555555556,
              "#d8576b"
             ],
             [
              0.6666666666666666,
              "#ed7953"
             ],
             [
              0.7777777777777778,
              "#fb9f3a"
             ],
             [
              0.8888888888888888,
              "#fdca26"
             ],
             [
              1,
              "#f0f921"
             ]
            ],
            "type": "histogram2dcontour"
           }
          ],
          "mesh3d": [
           {
            "colorbar": {
             "outlinewidth": 0,
             "ticks": ""
            },
            "type": "mesh3d"
           }
          ],
          "parcoords": [
           {
            "line": {
             "colorbar": {
              "outlinewidth": 0,
              "ticks": ""
             }
            },
            "type": "parcoords"
           }
          ],
          "pie": [
           {
            "automargin": true,
            "type": "pie"
           }
          ],
          "scatter": [
           {
            "fillpattern": {
             "fillmode": "overlay",
             "size": 10,
             "solidity": 0.2
            },
            "type": "scatter"
           }
          ],
          "scatter3d": [
           {
            "line": {
             "colorbar": {
              "outlinewidth": 0,
              "ticks": ""
             }
            },
            "marker": {
             "colorbar": {
              "outlinewidth": 0,
              "ticks": ""
             }
            },
            "type": "scatter3d"
           }
          ],
          "scattercarpet": [
           {
            "marker": {
             "colorbar": {
              "outlinewidth": 0,
              "ticks": ""
             }
            },
            "type": "scattercarpet"
           }
          ],
          "scattergeo": [
           {
            "marker": {
             "colorbar": {
              "outlinewidth": 0,
              "ticks": ""
             }
            },
            "type": "scattergeo"
           }
          ],
          "scattergl": [
           {
            "marker": {
             "colorbar": {
              "outlinewidth": 0,
              "ticks": ""
             }
            },
            "type": "scattergl"
           }
          ],
          "scattermapbox": [
           {
            "marker": {
             "colorbar": {
              "outlinewidth": 0,
              "ticks": ""
             }
            },
            "type": "scattermapbox"
           }
          ],
          "scatterpolar": [
           {
            "marker": {
             "colorbar": {
              "outlinewidth": 0,
              "ticks": ""
             }
            },
            "type": "scatterpolar"
           }
          ],
          "scatterpolargl": [
           {
            "marker": {
             "colorbar": {
              "outlinewidth": 0,
              "ticks": ""
             }
            },
            "type": "scatterpolargl"
           }
          ],
          "scatterternary": [
           {
            "marker": {
             "colorbar": {
              "outlinewidth": 0,
              "ticks": ""
             }
            },
            "type": "scatterternary"
           }
          ],
          "surface": [
           {
            "colorbar": {
             "outlinewidth": 0,
             "ticks": ""
            },
            "colorscale": [
             [
              0,
              "#0d0887"
             ],
             [
              0.1111111111111111,
              "#46039f"
             ],
             [
              0.2222222222222222,
              "#7201a8"
             ],
             [
              0.3333333333333333,
              "#9c179e"
             ],
             [
              0.4444444444444444,
              "#bd3786"
             ],
             [
              0.5555555555555556,
              "#d8576b"
             ],
             [
              0.6666666666666666,
              "#ed7953"
             ],
             [
              0.7777777777777778,
              "#fb9f3a"
             ],
             [
              0.8888888888888888,
              "#fdca26"
             ],
             [
              1,
              "#f0f921"
             ]
            ],
            "type": "surface"
           }
          ],
          "table": [
           {
            "cells": {
             "fill": {
              "color": "#EBF0F8"
             },
             "line": {
              "color": "white"
             }
            },
            "header": {
             "fill": {
              "color": "#C8D4E3"
             },
             "line": {
              "color": "white"
             }
            },
            "type": "table"
           }
          ]
         },
         "layout": {
          "annotationdefaults": {
           "arrowcolor": "#2a3f5f",
           "arrowhead": 0,
           "arrowwidth": 1
          },
          "autotypenumbers": "strict",
          "coloraxis": {
           "colorbar": {
            "outlinewidth": 0,
            "ticks": ""
           }
          },
          "colorscale": {
           "diverging": [
            [
             0,
             "#8e0152"
            ],
            [
             0.1,
             "#c51b7d"
            ],
            [
             0.2,
             "#de77ae"
            ],
            [
             0.3,
             "#f1b6da"
            ],
            [
             0.4,
             "#fde0ef"
            ],
            [
             0.5,
             "#f7f7f7"
            ],
            [
             0.6,
             "#e6f5d0"
            ],
            [
             0.7,
             "#b8e186"
            ],
            [
             0.8,
             "#7fbc41"
            ],
            [
             0.9,
             "#4d9221"
            ],
            [
             1,
             "#276419"
            ]
           ],
           "sequential": [
            [
             0,
             "#0d0887"
            ],
            [
             0.1111111111111111,
             "#46039f"
            ],
            [
             0.2222222222222222,
             "#7201a8"
            ],
            [
             0.3333333333333333,
             "#9c179e"
            ],
            [
             0.4444444444444444,
             "#bd3786"
            ],
            [
             0.5555555555555556,
             "#d8576b"
            ],
            [
             0.6666666666666666,
             "#ed7953"
            ],
            [
             0.7777777777777778,
             "#fb9f3a"
            ],
            [
             0.8888888888888888,
             "#fdca26"
            ],
            [
             1,
             "#f0f921"
            ]
           ],
           "sequentialminus": [
            [
             0,
             "#0d0887"
            ],
            [
             0.1111111111111111,
             "#46039f"
            ],
            [
             0.2222222222222222,
             "#7201a8"
            ],
            [
             0.3333333333333333,
             "#9c179e"
            ],
            [
             0.4444444444444444,
             "#bd3786"
            ],
            [
             0.5555555555555556,
             "#d8576b"
            ],
            [
             0.6666666666666666,
             "#ed7953"
            ],
            [
             0.7777777777777778,
             "#fb9f3a"
            ],
            [
             0.8888888888888888,
             "#fdca26"
            ],
            [
             1,
             "#f0f921"
            ]
           ]
          },
          "colorway": [
           "#636efa",
           "#EF553B",
           "#00cc96",
           "#ab63fa",
           "#FFA15A",
           "#19d3f3",
           "#FF6692",
           "#B6E880",
           "#FF97FF",
           "#FECB52"
          ],
          "font": {
           "color": "#2a3f5f"
          },
          "geo": {
           "bgcolor": "white",
           "lakecolor": "white",
           "landcolor": "#E5ECF6",
           "showlakes": true,
           "showland": true,
           "subunitcolor": "white"
          },
          "hoverlabel": {
           "align": "left"
          },
          "hovermode": "closest",
          "mapbox": {
           "style": "light"
          },
          "paper_bgcolor": "white",
          "plot_bgcolor": "#E5ECF6",
          "polar": {
           "angularaxis": {
            "gridcolor": "white",
            "linecolor": "white",
            "ticks": ""
           },
           "bgcolor": "#E5ECF6",
           "radialaxis": {
            "gridcolor": "white",
            "linecolor": "white",
            "ticks": ""
           }
          },
          "scene": {
           "xaxis": {
            "backgroundcolor": "#E5ECF6",
            "gridcolor": "white",
            "gridwidth": 2,
            "linecolor": "white",
            "showbackground": true,
            "ticks": "",
            "zerolinecolor": "white"
           },
           "yaxis": {
            "backgroundcolor": "#E5ECF6",
            "gridcolor": "white",
            "gridwidth": 2,
            "linecolor": "white",
            "showbackground": true,
            "ticks": "",
            "zerolinecolor": "white"
           },
           "zaxis": {
            "backgroundcolor": "#E5ECF6",
            "gridcolor": "white",
            "gridwidth": 2,
            "linecolor": "white",
            "showbackground": true,
            "ticks": "",
            "zerolinecolor": "white"
           }
          },
          "shapedefaults": {
           "line": {
            "color": "#2a3f5f"
           }
          },
          "ternary": {
           "aaxis": {
            "gridcolor": "white",
            "linecolor": "white",
            "ticks": ""
           },
           "baxis": {
            "gridcolor": "white",
            "linecolor": "white",
            "ticks": ""
           },
           "bgcolor": "#E5ECF6",
           "caxis": {
            "gridcolor": "white",
            "linecolor": "white",
            "ticks": ""
           }
          },
          "title": {
           "x": 0.05
          },
          "xaxis": {
           "automargin": true,
           "gridcolor": "white",
           "linecolor": "white",
           "ticks": "",
           "title": {
            "standoff": 15
           },
           "zerolinecolor": "white",
           "zerolinewidth": 2
          },
          "yaxis": {
           "automargin": true,
           "gridcolor": "white",
           "linecolor": "white",
           "ticks": "",
           "title": {
            "standoff": 15
           },
           "zerolinecolor": "white",
           "zerolinewidth": 2
          }
         }
        },
        "title": {
         "text": "The Simple Product Funnel"
        }
       }
      },
      "text/html": [
       "<div>                            <div id=\"ceb91a01-706f-4d24-a201-7b639bc963f6\" class=\"plotly-graph-div\" style=\"height:525px; width:100%;\"></div>            <script type=\"text/javascript\">                require([\"plotly\"], function(Plotly) {                    window.PLOTLYENV=window.PLOTLYENV || {};                                    if (document.getElementById(\"ceb91a01-706f-4d24-a201-7b639bc963f6\")) {                    Plotly.newPlot(                        \"ceb91a01-706f-4d24-a201-7b639bc963f6\",                        [{\"marker\":{\"color\":\"#3274a1\"},\"name\":\"Group A\",\"textinfo\":\"value+percent initial+percent previous\",\"x\":[2604,1685,782,833],\"y\":[\"login\",\"product_page\",\"product_cart\",\"purchase\"],\"type\":\"funnel\"},{\"name\":\"Group B\",\"textinfo\":\"value+percent initial+percent previous\",\"x\":[876,493,244,249],\"y\":[\"login\",\"product_page\",\"product_cart\",\"purchase\"],\"type\":\"funnel\"}],                        {\"template\":{\"data\":{\"histogram2dcontour\":[{\"type\":\"histogram2dcontour\",\"colorbar\":{\"outlinewidth\":0,\"ticks\":\"\"},\"colorscale\":[[0.0,\"#0d0887\"],[0.1111111111111111,\"#46039f\"],[0.2222222222222222,\"#7201a8\"],[0.3333333333333333,\"#9c179e\"],[0.4444444444444444,\"#bd3786\"],[0.5555555555555556,\"#d8576b\"],[0.6666666666666666,\"#ed7953\"],[0.7777777777777778,\"#fb9f3a\"],[0.8888888888888888,\"#fdca26\"],[1.0,\"#f0f921\"]]}],\"choropleth\":[{\"type\":\"choropleth\",\"colorbar\":{\"outlinewidth\":0,\"ticks\":\"\"}}],\"histogram2d\":[{\"type\":\"histogram2d\",\"colorbar\":{\"outlinewidth\":0,\"ticks\":\"\"},\"colorscale\":[[0.0,\"#0d0887\"],[0.1111111111111111,\"#46039f\"],[0.2222222222222222,\"#7201a8\"],[0.3333333333333333,\"#9c179e\"],[0.4444444444444444,\"#bd3786\"],[0.5555555555555556,\"#d8576b\"],[0.6666666666666666,\"#ed7953\"],[0.7777777777777778,\"#fb9f3a\"],[0.8888888888888888,\"#fdca26\"],[1.0,\"#f0f921\"]]}],\"heatmap\":[{\"type\":\"heatmap\",\"colorbar\":{\"outlinewidth\":0,\"ticks\":\"\"},\"colorscale\":[[0.0,\"#0d0887\"],[0.1111111111111111,\"#46039f\"],[0.2222222222222222,\"#7201a8\"],[0.3333333333333333,\"#9c179e\"],[0.4444444444444444,\"#bd3786\"],[0.5555555555555556,\"#d8576b\"],[0.6666666666666666,\"#ed7953\"],[0.7777777777777778,\"#fb9f3a\"],[0.8888888888888888,\"#fdca26\"],[1.0,\"#f0f921\"]]}],\"heatmapgl\":[{\"type\":\"heatmapgl\",\"colorbar\":{\"outlinewidth\":0,\"ticks\":\"\"},\"colorscale\":[[0.0,\"#0d0887\"],[0.1111111111111111,\"#46039f\"],[0.2222222222222222,\"#7201a8\"],[0.3333333333333333,\"#9c179e\"],[0.4444444444444444,\"#bd3786\"],[0.5555555555555556,\"#d8576b\"],[0.6666666666666666,\"#ed7953\"],[0.7777777777777778,\"#fb9f3a\"],[0.8888888888888888,\"#fdca26\"],[1.0,\"#f0f921\"]]}],\"contourcarpet\":[{\"type\":\"contourcarpet\",\"colorbar\":{\"outlinewidth\":0,\"ticks\":\"\"}}],\"contour\":[{\"type\":\"contour\",\"colorbar\":{\"outlinewidth\":0,\"ticks\":\"\"},\"colorscale\":[[0.0,\"#0d0887\"],[0.1111111111111111,\"#46039f\"],[0.2222222222222222,\"#7201a8\"],[0.3333333333333333,\"#9c179e\"],[0.4444444444444444,\"#bd3786\"],[0.5555555555555556,\"#d8576b\"],[0.6666666666666666,\"#ed7953\"],[0.7777777777777778,\"#fb9f3a\"],[0.8888888888888888,\"#fdca26\"],[1.0,\"#f0f921\"]]}],\"surface\":[{\"type\":\"surface\",\"colorbar\":{\"outlinewidth\":0,\"ticks\":\"\"},\"colorscale\":[[0.0,\"#0d0887\"],[0.1111111111111111,\"#46039f\"],[0.2222222222222222,\"#7201a8\"],[0.3333333333333333,\"#9c179e\"],[0.4444444444444444,\"#bd3786\"],[0.5555555555555556,\"#d8576b\"],[0.6666666666666666,\"#ed7953\"],[0.7777777777777778,\"#fb9f3a\"],[0.8888888888888888,\"#fdca26\"],[1.0,\"#f0f921\"]]}],\"mesh3d\":[{\"type\":\"mesh3d\",\"colorbar\":{\"outlinewidth\":0,\"ticks\":\"\"}}],\"scatter\":[{\"fillpattern\":{\"fillmode\":\"overlay\",\"size\":10,\"solidity\":0.2},\"type\":\"scatter\"}],\"parcoords\":[{\"type\":\"parcoords\",\"line\":{\"colorbar\":{\"outlinewidth\":0,\"ticks\":\"\"}}}],\"scatterpolargl\":[{\"type\":\"scatterpolargl\",\"marker\":{\"colorbar\":{\"outlinewidth\":0,\"ticks\":\"\"}}}],\"bar\":[{\"error_x\":{\"color\":\"#2a3f5f\"},\"error_y\":{\"color\":\"#2a3f5f\"},\"marker\":{\"line\":{\"color\":\"#E5ECF6\",\"width\":0.5},\"pattern\":{\"fillmode\":\"overlay\",\"size\":10,\"solidity\":0.2}},\"type\":\"bar\"}],\"scattergeo\":[{\"type\":\"scattergeo\",\"marker\":{\"colorbar\":{\"outlinewidth\":0,\"ticks\":\"\"}}}],\"scatterpolar\":[{\"type\":\"scatterpolar\",\"marker\":{\"colorbar\":{\"outlinewidth\":0,\"ticks\":\"\"}}}],\"histogram\":[{\"marker\":{\"pattern\":{\"fillmode\":\"overlay\",\"size\":10,\"solidity\":0.2}},\"type\":\"histogram\"}],\"scattergl\":[{\"type\":\"scattergl\",\"marker\":{\"colorbar\":{\"outlinewidth\":0,\"ticks\":\"\"}}}],\"scatter3d\":[{\"type\":\"scatter3d\",\"line\":{\"colorbar\":{\"outlinewidth\":0,\"ticks\":\"\"}},\"marker\":{\"colorbar\":{\"outlinewidth\":0,\"ticks\":\"\"}}}],\"scattermapbox\":[{\"type\":\"scattermapbox\",\"marker\":{\"colorbar\":{\"outlinewidth\":0,\"ticks\":\"\"}}}],\"scatterternary\":[{\"type\":\"scatterternary\",\"marker\":{\"colorbar\":{\"outlinewidth\":0,\"ticks\":\"\"}}}],\"scattercarpet\":[{\"type\":\"scattercarpet\",\"marker\":{\"colorbar\":{\"outlinewidth\":0,\"ticks\":\"\"}}}],\"carpet\":[{\"aaxis\":{\"endlinecolor\":\"#2a3f5f\",\"gridcolor\":\"white\",\"linecolor\":\"white\",\"minorgridcolor\":\"white\",\"startlinecolor\":\"#2a3f5f\"},\"baxis\":{\"endlinecolor\":\"#2a3f5f\",\"gridcolor\":\"white\",\"linecolor\":\"white\",\"minorgridcolor\":\"white\",\"startlinecolor\":\"#2a3f5f\"},\"type\":\"carpet\"}],\"table\":[{\"cells\":{\"fill\":{\"color\":\"#EBF0F8\"},\"line\":{\"color\":\"white\"}},\"header\":{\"fill\":{\"color\":\"#C8D4E3\"},\"line\":{\"color\":\"white\"}},\"type\":\"table\"}],\"barpolar\":[{\"marker\":{\"line\":{\"color\":\"#E5ECF6\",\"width\":0.5},\"pattern\":{\"fillmode\":\"overlay\",\"size\":10,\"solidity\":0.2}},\"type\":\"barpolar\"}],\"pie\":[{\"automargin\":true,\"type\":\"pie\"}]},\"layout\":{\"autotypenumbers\":\"strict\",\"colorway\":[\"#636efa\",\"#EF553B\",\"#00cc96\",\"#ab63fa\",\"#FFA15A\",\"#19d3f3\",\"#FF6692\",\"#B6E880\",\"#FF97FF\",\"#FECB52\"],\"font\":{\"color\":\"#2a3f5f\"},\"hovermode\":\"closest\",\"hoverlabel\":{\"align\":\"left\"},\"paper_bgcolor\":\"white\",\"plot_bgcolor\":\"#E5ECF6\",\"polar\":{\"bgcolor\":\"#E5ECF6\",\"angularaxis\":{\"gridcolor\":\"white\",\"linecolor\":\"white\",\"ticks\":\"\"},\"radialaxis\":{\"gridcolor\":\"white\",\"linecolor\":\"white\",\"ticks\":\"\"}},\"ternary\":{\"bgcolor\":\"#E5ECF6\",\"aaxis\":{\"gridcolor\":\"white\",\"linecolor\":\"white\",\"ticks\":\"\"},\"baxis\":{\"gridcolor\":\"white\",\"linecolor\":\"white\",\"ticks\":\"\"},\"caxis\":{\"gridcolor\":\"white\",\"linecolor\":\"white\",\"ticks\":\"\"}},\"coloraxis\":{\"colorbar\":{\"outlinewidth\":0,\"ticks\":\"\"}},\"colorscale\":{\"sequential\":[[0.0,\"#0d0887\"],[0.1111111111111111,\"#46039f\"],[0.2222222222222222,\"#7201a8\"],[0.3333333333333333,\"#9c179e\"],[0.4444444444444444,\"#bd3786\"],[0.5555555555555556,\"#d8576b\"],[0.6666666666666666,\"#ed7953\"],[0.7777777777777778,\"#fb9f3a\"],[0.8888888888888888,\"#fdca26\"],[1.0,\"#f0f921\"]],\"sequentialminus\":[[0.0,\"#0d0887\"],[0.1111111111111111,\"#46039f\"],[0.2222222222222222,\"#7201a8\"],[0.3333333333333333,\"#9c179e\"],[0.4444444444444444,\"#bd3786\"],[0.5555555555555556,\"#d8576b\"],[0.6666666666666666,\"#ed7953\"],[0.7777777777777778,\"#fb9f3a\"],[0.8888888888888888,\"#fdca26\"],[1.0,\"#f0f921\"]],\"diverging\":[[0,\"#8e0152\"],[0.1,\"#c51b7d\"],[0.2,\"#de77ae\"],[0.3,\"#f1b6da\"],[0.4,\"#fde0ef\"],[0.5,\"#f7f7f7\"],[0.6,\"#e6f5d0\"],[0.7,\"#b8e186\"],[0.8,\"#7fbc41\"],[0.9,\"#4d9221\"],[1,\"#276419\"]]},\"xaxis\":{\"gridcolor\":\"white\",\"linecolor\":\"white\",\"ticks\":\"\",\"title\":{\"standoff\":15},\"zerolinecolor\":\"white\",\"automargin\":true,\"zerolinewidth\":2},\"yaxis\":{\"gridcolor\":\"white\",\"linecolor\":\"white\",\"ticks\":\"\",\"title\":{\"standoff\":15},\"zerolinecolor\":\"white\",\"automargin\":true,\"zerolinewidth\":2},\"scene\":{\"xaxis\":{\"backgroundcolor\":\"#E5ECF6\",\"gridcolor\":\"white\",\"linecolor\":\"white\",\"showbackground\":true,\"ticks\":\"\",\"zerolinecolor\":\"white\",\"gridwidth\":2},\"yaxis\":{\"backgroundcolor\":\"#E5ECF6\",\"gridcolor\":\"white\",\"linecolor\":\"white\",\"showbackground\":true,\"ticks\":\"\",\"zerolinecolor\":\"white\",\"gridwidth\":2},\"zaxis\":{\"backgroundcolor\":\"#E5ECF6\",\"gridcolor\":\"white\",\"linecolor\":\"white\",\"showbackground\":true,\"ticks\":\"\",\"zerolinecolor\":\"white\",\"gridwidth\":2}},\"shapedefaults\":{\"line\":{\"color\":\"#2a3f5f\"}},\"annotationdefaults\":{\"arrowcolor\":\"#2a3f5f\",\"arrowhead\":0,\"arrowwidth\":1},\"geo\":{\"bgcolor\":\"white\",\"landcolor\":\"#E5ECF6\",\"subunitcolor\":\"white\",\"showland\":true,\"showlakes\":true,\"lakecolor\":\"white\"},\"title\":{\"x\":0.05},\"mapbox\":{\"style\":\"light\"}}},\"title\":{\"text\":\"The Simple Product Funnel\"}},                        {\"responsive\": true}                    ).then(function(){\n",
       "                            \n",
       "var gd = document.getElementById('ceb91a01-706f-4d24-a201-7b639bc963f6');\n",
       "var x = new MutationObserver(function (mutations, observer) {{\n",
       "        var display = window.getComputedStyle(gd).display;\n",
       "        if (!display || display === 'none') {{\n",
       "            console.log([gd, 'removed!']);\n",
       "            Plotly.purge(gd);\n",
       "            observer.disconnect();\n",
       "        }}\n",
       "}});\n",
       "\n",
       "// Listen for the removal of the full notebook cells\n",
       "var notebookContainer = gd.closest('#notebook-container');\n",
       "if (notebookContainer) {{\n",
       "    x.observe(notebookContainer, {childList: true});\n",
       "}}\n",
       "\n",
       "// Listen for the clearing of the current output cell\n",
       "var outputEl = gd.closest('.output');\n",
       "if (outputEl) {{\n",
       "    x.observe(outputEl, {childList: true});\n",
       "}}\n",
       "\n",
       "                        })                };                });            </script>        </div>"
      ]
     },
     "metadata": {},
     "output_type": "display_data"
    }
   ],
   "source": [
    "# the update cell:\n",
    "import plotly.graph_objects as go\n",
    "\n",
    "tmp_funnel = ab_new_participants_events_df.groupby(['group','event_name']).agg({'user_id':'nunique'}).reset_index()\n",
    "tmp_funnel = tmp_funnel.reindex([0,2,1,3,4,6,5,7])\n",
    "\n",
    "fig = go.Figure()\n",
    "fig.add_trace(go.Funnel(\n",
    "    name = 'Group A',\n",
    "    y = tmp_funnel.query('group == \"A\"')['event_name'],\n",
    "    x = tmp_funnel.query('group == \"A\"')['user_id'],\n",
    "    marker = {\"color\": \"#3274a1\"},\n",
    "    textinfo = \"value+percent initial+percent previous\"))\n",
    "fig.add_trace(go.Funnel(\n",
    "    name = 'Group B',\n",
    "    y = tmp_funnel.query('group == \"B\"')['event_name'],\n",
    "    x = tmp_funnel.query('group == \"B\"')['user_id'],\n",
    "    textinfo = \"value+percent initial+percent previous\"))\n",
    "fig.update_layout(\n",
    "    title={ 'text': \"The Simple Product Funnel\"},\n",
    ")\n",
    "\n",
    "fig.show()"
   ]
  },
  {
   "cell_type": "markdown",
   "metadata": {},
   "source": [
    "# Statistical Data Analysis:"
   ]
  },
  {
   "cell_type": "markdown",
   "metadata": {},
   "source": [
    "<b>1.Conversion into each stage of the funnel - (login → product_page)"
   ]
  },
  {
   "cell_type": "markdown",
   "metadata": {},
   "source": [
    "<b>H0 : There is no difference between the proportions of product_page and login page  \n",
    "H1 : There is difference between the proportions of product_page and login page"
   ]
  },
  {
   "cell_type": "code",
   "execution_count": 221,
   "metadata": {},
   "outputs": [],
   "source": [
    "alpha = .05 # significance level\n",
    "\n",
    "successes = np.array([n_product_page_a,n_product_page_b])\n",
    "trials = np.array([n_login_a,n_login_b])\n",
    "\n",
    "# success proportion in the first group:\n",
    "p1 = successes[0]/trials[0]\n",
    "\n",
    "# success proportion in the second group:\n",
    "p2 = successes[1]/trials[1]\n",
    "\n",
    "# success proportion in the combined dataset:\n",
    "p_combined = (successes[0] + successes[1]) / (trials[0] + trials[1])\n",
    "\n",
    "# the difference between the datasets' proportions\n",
    "difference = p1 - p2 "
   ]
  },
  {
   "cell_type": "code",
   "execution_count": 222,
   "metadata": {},
   "outputs": [
    {
     "name": "stdout",
     "output_type": "stream",
     "text": [
      "p-value:  0.0003330148063960259\n",
      "Rejecting the null hypothesis: there is a significant difference between the proportions\n"
     ]
    }
   ],
   "source": [
    "# calculating the statistic in standard deviations of the standard normal distribution\n",
    "z_value = difference / mth.sqrt(p_combined * (1 - p_combined) * (1/trials[0] + 1/trials[1]))\n",
    "\n",
    "# setting up the standard normal distribution (mean 0, standard deviation 1)\n",
    "distr = st.norm(0, 1) \n",
    "\n",
    "p_value = (1 - distr.cdf(abs(z_value))) * 2\n",
    "\n",
    "print('p-value: ', p_value)\n",
    "\n",
    "if (p_value < alpha):\n",
    "    print(\"Rejecting the null hypothesis: there is a significant difference between the proportions\")\n",
    "else:\n",
    "    print(\"Failed to reject the null hypothesis: there is no reason to consider the proportions different\") "
   ]
  },
  {
   "cell_type": "markdown",
   "metadata": {},
   "source": [
    "<b>2.conversion into each stage of the funnel - (product_page → product_cart page)"
   ]
  },
  {
   "cell_type": "markdown",
   "metadata": {},
   "source": [
    "<b>H0 : There is no difference between the proportions of product_page and product_cart page  \n",
    "H1 : There is difference between the proportions of product_page and product_cart page"
   ]
  },
  {
   "cell_type": "code",
   "execution_count": 223,
   "metadata": {},
   "outputs": [],
   "source": [
    "alpha = .05 # significance level\n",
    "\n",
    "successes = np.array([n_product_cart_a,n_product_cart_b])\n",
    "trials = np.array([n_product_page_a,n_product_page_b])\n",
    "\n",
    "# success proportion in the first group:\n",
    "p1 = successes[0]/trials[0]\n",
    "\n",
    "# success proportion in the second group:\n",
    "p2 = successes[1]/trials[1]\n",
    "\n",
    "# success proportion in the combined dataset:\n",
    "p_combined = (successes[0] + successes[1]) / (trials[0] + trials[1])\n",
    "\n",
    "# the difference between the datasets' proportions\n",
    "difference = p1 - p2 "
   ]
  },
  {
   "cell_type": "code",
   "execution_count": 224,
   "metadata": {},
   "outputs": [
    {
     "name": "stdout",
     "output_type": "stream",
     "text": [
      "p-value:  0.027657002837023992\n",
      "Rejecting the null hypothesis: there is a significant difference between the proportions\n"
     ]
    }
   ],
   "source": [
    "# calculating the statistic in standard deviations of the standard normal distribution\n",
    "z_value = difference / mth.sqrt(p_combined * (1 - p_combined) * (1/trials[0] + 1/trials[1]))\n",
    "\n",
    "# setting up the standard normal distribution (mean 0, standard deviation 1)\n",
    "distr = st.norm(0, 1) \n",
    "\n",
    "p_value = (1 - distr.cdf(abs(z_value))) * 2\n",
    "\n",
    "print('p-value: ', p_value)\n",
    "\n",
    "if (p_value < alpha):\n",
    "    print(\"Rejecting the null hypothesis: there is a significant difference between the proportions\")\n",
    "else:\n",
    "    print(\"Failed to reject the null hypothesis: there is no reason to consider the proportions different\") "
   ]
  },
  {
   "cell_type": "markdown",
   "metadata": {},
   "source": [
    "<b>3.conversion into each stage of the funnel -(product_cart → purchase page  )"
   ]
  },
  {
   "cell_type": "markdown",
   "metadata": {},
   "source": [
    "<b>H0 : There is no difference between the proportions of product_cart and purchase page  \n",
    "H1 : There is difference between the proportions of product_cart and purchase page  "
   ]
  },
  {
   "cell_type": "code",
   "execution_count": 225,
   "metadata": {},
   "outputs": [],
   "source": [
    "alpha = .05 # significance level\n",
    "\n",
    "successes = np.array([n_purchase_a,n_purchase_b])\n",
    "trials = np.array([n_product_cart_a,n_product_cart_b])\n",
    "\n",
    "# success proportion in the first group:\n",
    "p1 = successes[0]/trials[0]\n",
    "\n",
    "# success proportion in the second group:\n",
    "p2 = successes[1]/trials[1]\n",
    "\n",
    "# success proportion in the combined dataset:\n",
    "p_combined = (successes[0] + successes[1]) / (trials[0] + trials[1])\n",
    "\n",
    "# the difference between the datasets' proportions\n",
    "difference = p1 - p2 "
   ]
  },
  {
   "cell_type": "code",
   "execution_count": 226,
   "metadata": {},
   "outputs": [
    {
     "name": "stdout",
     "output_type": "stream",
     "text": [
      "p-value:  0.14160405331453174\n",
      "Failed to reject the null hypothesis: there is no reason to consider the proportions different\n"
     ]
    }
   ],
   "source": [
    "# calculating the statistic in standard deviations of the standard normal distribution\n",
    "z_value = difference / mth.sqrt(p_combined * (1 - p_combined) * (1/trials[0] + 1/trials[1]))\n",
    "\n",
    "# setting up the standard normal distribution (mean 0, standard deviation 1)\n",
    "distr = st.norm(0, 1) \n",
    "\n",
    "p_value = (1 - distr.cdf(abs(z_value))) * 2\n",
    "\n",
    "print('p-value: ', p_value)\n",
    "\n",
    "if (p_value < alpha):\n",
    "    print(\"Rejecting the null hypothesis: there is a significant difference between the proportions\")\n",
    "else:\n",
    "    print(\"Failed to reject the null hypothesis: there is no reason to consider the proportions different\") "
   ]
  },
  {
   "cell_type": "markdown",
   "metadata": {},
   "source": [
    "<b>4.conversion directly from login stage to purchase of the funnel -(login  →  purchase)"
   ]
  },
  {
   "cell_type": "markdown",
   "metadata": {},
   "source": [
    "<b>H0 : There is no difference between the proportions of login and purchase  \n",
    "H1 : There is difference between the proportions of login and purchase"
   ]
  },
  {
   "cell_type": "code",
   "execution_count": 227,
   "metadata": {},
   "outputs": [],
   "source": [
    "alpha = .05 # significance level\n",
    "\n",
    "successes = np.array([n_purchase_a,n_purchase_b])\n",
    "trials = np.array([n_login_a,n_login_b])\n",
    "\n",
    "# success proportion in the first group:\n",
    "p1 = successes[0]/trials[0]\n",
    "\n",
    "# success proportion in the second group:\n",
    "p2 = successes[1]/trials[1]\n",
    "\n",
    "# success proportion in the combined dataset:\n",
    "p_combined = (successes[0] + successes[1]) / (trials[0] + trials[1])\n",
    "\n",
    "# the difference between the datasets' proportions\n",
    "difference = p1 - p2 "
   ]
  },
  {
   "cell_type": "code",
   "execution_count": 228,
   "metadata": {},
   "outputs": [
    {
     "name": "stdout",
     "output_type": "stream",
     "text": [
      "p-value:  0.08464079332340213\n",
      "Failed to reject the null hypothesis: there is no reason to consider the proportions different\n"
     ]
    }
   ],
   "source": [
    "# calculating the statistic in standard deviations of the standard normal distribution\n",
    "z_value = difference / mth.sqrt(p_combined * (1 - p_combined) * (1/trials[0] + 1/trials[1]))\n",
    "\n",
    "# setting up the standard normal distribution (mean 0, standard deviation 1)\n",
    "distr = st.norm(0, 1) \n",
    "\n",
    "p_value = (1 - distr.cdf(abs(z_value))) * 2\n",
    "\n",
    "print('p-value: ', p_value)\n",
    "\n",
    "if (p_value < alpha):\n",
    "    print(\"Rejecting the null hypothesis: there is a significant difference between the proportions\")\n",
    "else:\n",
    "    print(\"Failed to reject the null hypothesis: there is no reason to consider the proportions different\") "
   ]
  },
  {
   "cell_type": "markdown",
   "metadata": {},
   "source": [
    "<b>Conclusion:  \n",
    "   Based on statistical analysis of conversion to each stage of the funnel , we see that  \n",
    "   1.There is significant difference in proportions for product_page and product_cart page.  \n",
    "   2.The proportion of purchase from product_page as well as from login page are not different ie we don't see  \n",
    "     a significant difference in conversion rate (purchase in both the groups)."
   ]
  },
  {
   "cell_type": "markdown",
   "metadata": {},
   "source": [
    "## Final Conclusion.  \n",
    "<b>EDA findings:  \n",
    "1.Maintaining the sequence of the funnel product_page → product_card → purchase, didn't end up in more purchase.\n",
    "So , we also compared the funnel of login → purchase .  \n",
    "2.Comparing the event funnel of login and purchase , we see that GroupA has around 31% and GroupB has 27% conversion from 'login' to purchase' which is on the lower side .  \n",
    "    \n",
    "<b>A/B test result analysis.  \n",
    " 1.Statistical result analysis of A/B test shows that there is so significant difference in proportions of the 2 groups on  \n",
    " the basis of login → purchase conversion.  \n",
    " \n",
    " <b>Since A/B test not completed fully and considering some data points like \n",
    "    1.We have less than expected number of audience.\n",
    "    2.Number of participants in each group is significantly different.  \n",
    "    3.Two more days left to finish A/B test and there is a promo running currently for a week.\n",
    "     \n",
    "  We do see a possibility for changes(improvements) in purchase conversion in Group B\n",
    "     "
   ]
  }
 ],
 "metadata": {
  "ExecuteTimeLog": [
   {
    "duration": 427,
    "start_time": "2022-06-03T12:44:40.420Z"
   },
   {
    "duration": 133,
    "start_time": "2022-06-03T12:45:26.019Z"
   },
   {
    "duration": 39,
    "start_time": "2022-06-03T12:45:33.459Z"
   },
   {
    "duration": 10,
    "start_time": "2022-06-03T12:46:07.977Z"
   },
   {
    "duration": 11,
    "start_time": "2022-06-03T12:46:16.264Z"
   },
   {
    "duration": 133,
    "start_time": "2022-06-03T12:47:53.614Z"
   },
   {
    "duration": 1000,
    "start_time": "2022-06-03T12:50:03.328Z"
   },
   {
    "duration": 81,
    "start_time": "2022-06-03T12:50:08.073Z"
   },
   {
    "duration": 16,
    "start_time": "2022-06-03T12:50:44.958Z"
   },
   {
    "duration": 59,
    "start_time": "2022-06-03T12:51:02.764Z"
   },
   {
    "duration": 11,
    "start_time": "2022-06-03T12:51:19.337Z"
   },
   {
    "duration": 10,
    "start_time": "2022-06-03T12:51:53.143Z"
   },
   {
    "duration": 10,
    "start_time": "2022-06-03T12:52:35.880Z"
   },
   {
    "duration": 246,
    "start_time": "2022-06-03T12:52:44.806Z"
   },
   {
    "duration": 99,
    "start_time": "2022-06-03T12:53:17.264Z"
   },
   {
    "duration": 40,
    "start_time": "2022-06-03T12:53:45.529Z"
   },
   {
    "duration": 228,
    "start_time": "2022-06-03T12:56:27.112Z"
   },
   {
    "duration": 229,
    "start_time": "2022-06-03T12:56:34.482Z"
   },
   {
    "duration": 109,
    "start_time": "2022-06-03T12:56:47.857Z"
   },
   {
    "duration": 393,
    "start_time": "2022-06-03T18:36:51.766Z"
   },
   {
    "duration": 94,
    "start_time": "2022-06-03T18:36:52.512Z"
   },
   {
    "duration": 277,
    "start_time": "2022-06-03T18:36:52.809Z"
   },
   {
    "duration": 1381,
    "start_time": "2022-06-03T18:36:53.087Z"
   },
   {
    "duration": 203,
    "start_time": "2022-06-03T18:36:54.470Z"
   },
   {
    "duration": 11,
    "start_time": "2022-06-03T18:36:54.675Z"
   },
   {
    "duration": 35,
    "start_time": "2022-06-03T18:36:54.689Z"
   },
   {
    "duration": 117,
    "start_time": "2022-06-03T18:36:54.726Z"
   },
   {
    "duration": 17,
    "start_time": "2022-06-03T18:36:54.845Z"
   },
   {
    "duration": 20,
    "start_time": "2022-06-03T18:36:54.863Z"
   },
   {
    "duration": 306,
    "start_time": "2022-06-03T18:36:54.885Z"
   },
   {
    "duration": 146,
    "start_time": "2022-06-03T18:36:55.193Z"
   },
   {
    "duration": 41,
    "start_time": "2022-06-03T18:36:55.340Z"
   },
   {
    "duration": 156,
    "start_time": "2022-06-03T18:36:55.383Z"
   },
   {
    "duration": 9,
    "start_time": "2022-06-03T20:12:35.014Z"
   },
   {
    "duration": 41,
    "start_time": "2022-06-03T20:13:57.685Z"
   },
   {
    "duration": 10331,
    "start_time": "2022-06-03T20:18:44.322Z"
   },
   {
    "duration": 581,
    "start_time": "2022-06-03T20:23:52.724Z"
   },
   {
    "duration": 56,
    "start_time": "2022-06-03T20:31:41.684Z"
   },
   {
    "duration": 33,
    "start_time": "2022-06-03T20:35:37.909Z"
   },
   {
    "duration": 10400,
    "start_time": "2022-06-03T20:42:05.796Z"
   },
   {
    "duration": 6,
    "start_time": "2022-06-03T20:54:11.369Z"
   },
   {
    "duration": 23,
    "start_time": "2022-06-03T20:57:54.665Z"
   },
   {
    "duration": 11,
    "start_time": "2022-06-03T20:58:03.944Z"
   },
   {
    "duration": 363,
    "start_time": "2022-06-03T21:00:11.839Z"
   },
   {
    "duration": 55,
    "start_time": "2022-06-03T21:02:28.785Z"
   },
   {
    "duration": 11,
    "start_time": "2022-06-03T21:20:52.554Z"
   },
   {
    "duration": 86,
    "start_time": "2022-06-03T21:23:21.952Z"
   },
   {
    "duration": 91,
    "start_time": "2022-06-03T21:25:31.352Z"
   },
   {
    "duration": 17,
    "start_time": "2022-06-03T21:27:28.417Z"
   },
   {
    "duration": 21,
    "start_time": "2022-06-03T21:28:51.180Z"
   },
   {
    "duration": 44,
    "start_time": "2022-06-03T21:30:37.867Z"
   },
   {
    "duration": 18,
    "start_time": "2022-06-03T21:34:03.315Z"
   },
   {
    "duration": 18,
    "start_time": "2022-06-03T21:34:29.579Z"
   },
   {
    "duration": 15,
    "start_time": "2022-06-03T21:35:58.595Z"
   },
   {
    "duration": 10,
    "start_time": "2022-06-03T21:38:32.764Z"
   },
   {
    "duration": 7,
    "start_time": "2022-06-03T21:47:09.591Z"
   },
   {
    "duration": 177,
    "start_time": "2022-06-03T21:48:06.616Z"
   },
   {
    "duration": 7,
    "start_time": "2022-06-03T21:48:39.352Z"
   },
   {
    "duration": 2,
    "start_time": "2022-06-03T21:49:35.490Z"
   },
   {
    "duration": 22,
    "start_time": "2022-06-03T22:01:17.286Z"
   },
   {
    "duration": 8,
    "start_time": "2022-06-03T22:01:17.827Z"
   },
   {
    "duration": 10,
    "start_time": "2022-06-03T22:01:23.308Z"
   },
   {
    "duration": 8,
    "start_time": "2022-06-03T22:01:32.060Z"
   },
   {
    "duration": 4,
    "start_time": "2022-06-03T22:01:32.860Z"
   },
   {
    "duration": 9,
    "start_time": "2022-06-03T22:01:43.419Z"
   },
   {
    "duration": 5,
    "start_time": "2022-06-03T22:02:09.284Z"
   },
   {
    "duration": 10,
    "start_time": "2022-06-03T22:09:25.294Z"
   },
   {
    "duration": 31,
    "start_time": "2022-06-03T22:09:53.431Z"
   },
   {
    "duration": 17,
    "start_time": "2022-06-03T22:10:24.742Z"
   },
   {
    "duration": 4,
    "start_time": "2022-06-03T22:12:14.102Z"
   },
   {
    "duration": 12,
    "start_time": "2022-06-03T22:13:46.071Z"
   },
   {
    "duration": 68,
    "start_time": "2022-06-03T22:20:02.562Z"
   },
   {
    "duration": 17,
    "start_time": "2022-06-03T22:20:14.383Z"
   },
   {
    "duration": 177,
    "start_time": "2022-06-03T22:20:27.320Z"
   },
   {
    "duration": 14,
    "start_time": "2022-06-03T22:20:28.456Z"
   },
   {
    "duration": 106,
    "start_time": "2022-06-03T22:24:24.952Z"
   },
   {
    "duration": 157,
    "start_time": "2022-06-03T22:24:42.528Z"
   },
   {
    "duration": 93,
    "start_time": "2022-06-03T22:28:41.188Z"
   },
   {
    "duration": 33,
    "start_time": "2022-06-03T22:31:24.820Z"
   },
   {
    "duration": 114,
    "start_time": "2022-06-03T22:31:32.154Z"
   },
   {
    "duration": 4,
    "start_time": "2022-06-03T22:33:49.211Z"
   },
   {
    "duration": 8,
    "start_time": "2022-06-03T22:34:03.342Z"
   },
   {
    "duration": 31,
    "start_time": "2022-06-04T00:04:40.297Z"
   },
   {
    "duration": 4,
    "start_time": "2022-06-04T00:09:37.128Z"
   },
   {
    "duration": 4,
    "start_time": "2022-06-04T00:09:49.778Z"
   },
   {
    "duration": 3,
    "start_time": "2022-06-04T00:10:03.951Z"
   },
   {
    "duration": 11,
    "start_time": "2022-06-04T00:11:19.760Z"
   },
   {
    "duration": 7,
    "start_time": "2022-06-04T00:14:06.338Z"
   },
   {
    "duration": 13,
    "start_time": "2022-06-04T00:14:48.538Z"
   },
   {
    "duration": 11,
    "start_time": "2022-06-04T00:15:56.291Z"
   },
   {
    "duration": 19,
    "start_time": "2022-06-04T00:32:24.954Z"
   },
   {
    "duration": 2,
    "start_time": "2022-06-04T00:33:16.893Z"
   },
   {
    "duration": 5,
    "start_time": "2022-06-04T00:39:57.697Z"
   },
   {
    "duration": 438,
    "start_time": "2022-06-06T03:04:24.141Z"
   },
   {
    "duration": 76,
    "start_time": "2022-06-06T03:04:24.581Z"
   },
   {
    "duration": 138,
    "start_time": "2022-06-06T03:04:24.658Z"
   },
   {
    "duration": 1082,
    "start_time": "2022-06-06T03:04:24.798Z"
   },
   {
    "duration": 80,
    "start_time": "2022-06-06T03:04:25.881Z"
   },
   {
    "duration": 11,
    "start_time": "2022-06-06T03:04:25.962Z"
   },
   {
    "duration": 21,
    "start_time": "2022-06-06T03:04:25.974Z"
   },
   {
    "duration": 86,
    "start_time": "2022-06-06T03:04:25.997Z"
   },
   {
    "duration": 10,
    "start_time": "2022-06-06T03:04:26.085Z"
   },
   {
    "duration": 11,
    "start_time": "2022-06-06T03:04:26.098Z"
   },
   {
    "duration": 285,
    "start_time": "2022-06-06T03:04:26.111Z"
   },
   {
    "duration": 101,
    "start_time": "2022-06-06T03:04:26.397Z"
   },
   {
    "duration": 34,
    "start_time": "2022-06-06T03:04:26.500Z"
   },
   {
    "duration": 145,
    "start_time": "2022-06-06T03:04:26.536Z"
   },
   {
    "duration": 11,
    "start_time": "2022-06-06T03:04:26.682Z"
   },
   {
    "duration": 202,
    "start_time": "2022-06-06T03:04:26.695Z"
   },
   {
    "duration": 14,
    "start_time": "2022-06-06T03:04:26.898Z"
   },
   {
    "duration": 223,
    "start_time": "2022-06-06T03:04:26.914Z"
   },
   {
    "duration": 5,
    "start_time": "2022-06-06T03:04:27.139Z"
   },
   {
    "duration": 10,
    "start_time": "2022-06-06T03:04:27.158Z"
   },
   {
    "duration": 30,
    "start_time": "2022-06-06T03:04:27.170Z"
   },
   {
    "duration": 15,
    "start_time": "2022-06-06T03:04:27.202Z"
   },
   {
    "duration": 24,
    "start_time": "2022-06-06T03:04:27.219Z"
   },
   {
    "duration": 54,
    "start_time": "2022-06-06T03:04:27.245Z"
   },
   {
    "duration": 9617,
    "start_time": "2022-06-06T03:04:27.301Z"
   },
   {
    "duration": 82,
    "start_time": "2022-06-06T03:04:36.920Z"
   },
   {
    "duration": 0,
    "start_time": "2022-06-06T03:04:37.005Z"
   },
   {
    "duration": 0,
    "start_time": "2022-06-06T03:04:37.006Z"
   },
   {
    "duration": 0,
    "start_time": "2022-06-06T03:04:37.007Z"
   },
   {
    "duration": 0,
    "start_time": "2022-06-06T03:04:37.008Z"
   },
   {
    "duration": 0,
    "start_time": "2022-06-06T03:04:37.009Z"
   },
   {
    "duration": 0,
    "start_time": "2022-06-06T03:04:37.010Z"
   },
   {
    "duration": 0,
    "start_time": "2022-06-06T03:04:37.011Z"
   },
   {
    "duration": 0,
    "start_time": "2022-06-06T03:04:37.012Z"
   },
   {
    "duration": 0,
    "start_time": "2022-06-06T03:04:37.013Z"
   },
   {
    "duration": 0,
    "start_time": "2022-06-06T03:04:37.014Z"
   },
   {
    "duration": 0,
    "start_time": "2022-06-06T03:04:37.015Z"
   },
   {
    "duration": 0,
    "start_time": "2022-06-06T03:04:37.016Z"
   },
   {
    "duration": 0,
    "start_time": "2022-06-06T03:04:37.017Z"
   },
   {
    "duration": 0,
    "start_time": "2022-06-06T03:04:37.018Z"
   },
   {
    "duration": 0,
    "start_time": "2022-06-06T03:04:37.019Z"
   },
   {
    "duration": 0,
    "start_time": "2022-06-06T03:04:37.021Z"
   },
   {
    "duration": 0,
    "start_time": "2022-06-06T03:04:37.022Z"
   },
   {
    "duration": 0,
    "start_time": "2022-06-06T03:04:37.059Z"
   },
   {
    "duration": 0,
    "start_time": "2022-06-06T03:04:37.060Z"
   },
   {
    "duration": 4,
    "start_time": "2022-06-06T03:29:21.434Z"
   },
   {
    "duration": 84,
    "start_time": "2022-06-06T03:29:22.521Z"
   },
   {
    "duration": 8,
    "start_time": "2022-06-06T03:29:41.105Z"
   },
   {
    "duration": 2,
    "start_time": "2022-06-06T03:29:54.330Z"
   },
   {
    "duration": 30,
    "start_time": "2022-06-06T03:29:54.953Z"
   },
   {
    "duration": 67,
    "start_time": "2022-06-06T03:29:55.401Z"
   },
   {
    "duration": 480,
    "start_time": "2022-06-06T03:29:56.385Z"
   },
   {
    "duration": 41,
    "start_time": "2022-06-06T03:30:01.057Z"
   },
   {
    "duration": 11,
    "start_time": "2022-06-06T03:30:50.138Z"
   },
   {
    "duration": 115,
    "start_time": "2022-06-06T03:30:59.745Z"
   },
   {
    "duration": 31,
    "start_time": "2022-06-06T03:31:59.446Z"
   },
   {
    "duration": 7,
    "start_time": "2022-06-06T03:32:09.544Z"
   },
   {
    "duration": 7,
    "start_time": "2022-06-06T03:32:28.104Z"
   },
   {
    "duration": 99,
    "start_time": "2022-06-06T03:32:33.280Z"
   },
   {
    "duration": 25,
    "start_time": "2022-06-06T03:32:34.585Z"
   },
   {
    "duration": 22,
    "start_time": "2022-06-06T03:32:41.304Z"
   },
   {
    "duration": 24,
    "start_time": "2022-06-06T03:35:06.849Z"
   },
   {
    "duration": 10280,
    "start_time": "2022-06-06T03:37:50.793Z"
   },
   {
    "duration": 16,
    "start_time": "2022-06-06T03:41:00.984Z"
   },
   {
    "duration": 12,
    "start_time": "2022-06-06T03:41:34.321Z"
   },
   {
    "duration": 13,
    "start_time": "2022-06-06T03:43:06.641Z"
   },
   {
    "duration": 14,
    "start_time": "2022-06-06T03:44:04.314Z"
   },
   {
    "duration": 26,
    "start_time": "2022-06-06T03:45:43.593Z"
   },
   {
    "duration": 14,
    "start_time": "2022-06-06T03:45:52.064Z"
   },
   {
    "duration": 19,
    "start_time": "2022-06-06T03:46:28.736Z"
   },
   {
    "duration": 14,
    "start_time": "2022-06-06T03:47:08.403Z"
   },
   {
    "duration": 12,
    "start_time": "2022-06-06T03:50:40.897Z"
   },
   {
    "duration": 2,
    "start_time": "2022-06-06T03:52:26.207Z"
   },
   {
    "duration": 41,
    "start_time": "2022-06-06T03:52:26.211Z"
   },
   {
    "duration": 83,
    "start_time": "2022-06-06T03:52:26.254Z"
   },
   {
    "duration": 500,
    "start_time": "2022-06-06T03:52:26.339Z"
   },
   {
    "duration": 30,
    "start_time": "2022-06-06T03:52:26.842Z"
   },
   {
    "duration": 12,
    "start_time": "2022-06-06T03:52:26.874Z"
   },
   {
    "duration": 21,
    "start_time": "2022-06-06T03:52:26.887Z"
   },
   {
    "duration": 97,
    "start_time": "2022-06-06T03:52:26.910Z"
   },
   {
    "duration": 11,
    "start_time": "2022-06-06T03:52:27.009Z"
   },
   {
    "duration": 13,
    "start_time": "2022-06-06T03:52:27.022Z"
   },
   {
    "duration": 309,
    "start_time": "2022-06-06T03:52:27.037Z"
   },
   {
    "duration": 163,
    "start_time": "2022-06-06T03:52:27.348Z"
   },
   {
    "duration": 46,
    "start_time": "2022-06-06T03:52:27.514Z"
   },
   {
    "duration": 156,
    "start_time": "2022-06-06T03:52:27.562Z"
   },
   {
    "duration": 14,
    "start_time": "2022-06-06T03:52:27.720Z"
   },
   {
    "duration": 221,
    "start_time": "2022-06-06T03:52:27.735Z"
   },
   {
    "duration": 15,
    "start_time": "2022-06-06T03:52:27.959Z"
   },
   {
    "duration": 194,
    "start_time": "2022-06-06T03:52:27.976Z"
   },
   {
    "duration": 4,
    "start_time": "2022-06-06T03:52:28.172Z"
   },
   {
    "duration": 19,
    "start_time": "2022-06-06T03:52:28.178Z"
   },
   {
    "duration": 21,
    "start_time": "2022-06-06T03:52:28.199Z"
   },
   {
    "duration": 4,
    "start_time": "2022-06-06T03:52:28.222Z"
   },
   {
    "duration": 39,
    "start_time": "2022-06-06T03:52:28.227Z"
   },
   {
    "duration": 50,
    "start_time": "2022-06-06T03:52:28.268Z"
   },
   {
    "duration": 10457,
    "start_time": "2022-06-06T03:52:28.320Z"
   },
   {
    "duration": 25,
    "start_time": "2022-06-06T03:52:38.779Z"
   },
   {
    "duration": 14,
    "start_time": "2022-06-06T03:52:38.806Z"
   },
   {
    "duration": 104,
    "start_time": "2022-06-06T03:52:38.822Z"
   },
   {
    "duration": 47,
    "start_time": "2022-06-06T03:52:38.928Z"
   },
   {
    "duration": 4,
    "start_time": "2022-06-06T03:52:38.977Z"
   },
   {
    "duration": 15,
    "start_time": "2022-06-06T03:52:38.983Z"
   },
   {
    "duration": 66,
    "start_time": "2022-06-06T03:52:39.000Z"
   },
   {
    "duration": 23,
    "start_time": "2022-06-06T03:52:39.069Z"
   },
   {
    "duration": 9,
    "start_time": "2022-06-06T03:52:39.094Z"
   },
   {
    "duration": 15,
    "start_time": "2022-06-06T03:52:39.104Z"
   },
   {
    "duration": 7,
    "start_time": "2022-06-06T03:52:39.121Z"
   },
   {
    "duration": 3,
    "start_time": "2022-06-06T03:52:39.159Z"
   },
   {
    "duration": 15,
    "start_time": "2022-06-06T03:52:39.163Z"
   },
   {
    "duration": 10,
    "start_time": "2022-06-06T03:52:39.180Z"
   },
   {
    "duration": 22,
    "start_time": "2022-06-06T03:52:39.192Z"
   },
   {
    "duration": 66,
    "start_time": "2022-06-06T03:52:39.216Z"
   },
   {
    "duration": 19,
    "start_time": "2022-06-06T03:52:39.284Z"
   },
   {
    "duration": 4,
    "start_time": "2022-06-06T03:52:39.305Z"
   },
   {
    "duration": 10,
    "start_time": "2022-06-06T03:52:39.310Z"
   },
   {
    "duration": 45,
    "start_time": "2022-06-06T03:52:39.321Z"
   },
   {
    "duration": 111,
    "start_time": "2022-06-06T03:52:39.367Z"
   },
   {
    "duration": 34,
    "start_time": "2022-06-06T03:52:39.480Z"
   },
   {
    "duration": 623,
    "start_time": "2022-06-06T03:52:39.516Z"
   },
   {
    "duration": 23,
    "start_time": "2022-06-06T03:52:40.140Z"
   },
   {
    "duration": 16,
    "start_time": "2022-06-06T03:52:40.165Z"
   },
   {
    "duration": 0,
    "start_time": "2022-06-06T03:52:40.183Z"
   },
   {
    "duration": 0,
    "start_time": "2022-06-06T03:52:40.187Z"
   },
   {
    "duration": 0,
    "start_time": "2022-06-06T03:52:40.188Z"
   },
   {
    "duration": 8,
    "start_time": "2022-06-06T04:04:13.639Z"
   },
   {
    "duration": 17,
    "start_time": "2022-06-06T04:04:34.327Z"
   },
   {
    "duration": 28,
    "start_time": "2022-06-06T04:06:45.664Z"
   },
   {
    "duration": 449,
    "start_time": "2022-06-06T04:10:59.882Z"
   },
   {
    "duration": 3,
    "start_time": "2022-06-06T04:11:12.489Z"
   },
   {
    "duration": 34,
    "start_time": "2022-06-06T04:11:12.494Z"
   },
   {
    "duration": 68,
    "start_time": "2022-06-06T04:11:12.530Z"
   },
   {
    "duration": 470,
    "start_time": "2022-06-06T04:11:12.600Z"
   },
   {
    "duration": 34,
    "start_time": "2022-06-06T04:11:13.073Z"
   },
   {
    "duration": 9,
    "start_time": "2022-06-06T04:11:13.109Z"
   },
   {
    "duration": 19,
    "start_time": "2022-06-06T04:11:13.120Z"
   },
   {
    "duration": 53,
    "start_time": "2022-06-06T04:11:13.158Z"
   },
   {
    "duration": 9,
    "start_time": "2022-06-06T04:11:13.213Z"
   },
   {
    "duration": 13,
    "start_time": "2022-06-06T04:11:13.224Z"
   },
   {
    "duration": 219,
    "start_time": "2022-06-06T04:11:13.258Z"
   },
   {
    "duration": 105,
    "start_time": "2022-06-06T04:11:13.479Z"
   },
   {
    "duration": 34,
    "start_time": "2022-06-06T04:11:13.585Z"
   },
   {
    "duration": 132,
    "start_time": "2022-06-06T04:11:13.621Z"
   },
   {
    "duration": 14,
    "start_time": "2022-06-06T04:11:13.754Z"
   },
   {
    "duration": 188,
    "start_time": "2022-06-06T04:11:13.770Z"
   },
   {
    "duration": 14,
    "start_time": "2022-06-06T04:11:13.960Z"
   },
   {
    "duration": 183,
    "start_time": "2022-06-06T04:11:13.976Z"
   },
   {
    "duration": 3,
    "start_time": "2022-06-06T04:11:14.161Z"
   },
   {
    "duration": 14,
    "start_time": "2022-06-06T04:11:14.166Z"
   },
   {
    "duration": 19,
    "start_time": "2022-06-06T04:11:14.182Z"
   },
   {
    "duration": 4,
    "start_time": "2022-06-06T04:11:14.203Z"
   },
   {
    "duration": 14,
    "start_time": "2022-06-06T04:11:14.208Z"
   },
   {
    "duration": 63,
    "start_time": "2022-06-06T04:11:14.224Z"
   },
   {
    "duration": 9662,
    "start_time": "2022-06-06T04:11:14.289Z"
   },
   {
    "duration": 24,
    "start_time": "2022-06-06T04:11:23.953Z"
   },
   {
    "duration": 10,
    "start_time": "2022-06-06T04:11:23.979Z"
   },
   {
    "duration": 98,
    "start_time": "2022-06-06T04:11:23.991Z"
   },
   {
    "duration": 29,
    "start_time": "2022-06-06T04:11:24.093Z"
   },
   {
    "duration": 4,
    "start_time": "2022-06-06T04:11:24.123Z"
   },
   {
    "duration": 31,
    "start_time": "2022-06-06T04:11:24.129Z"
   },
   {
    "duration": 45,
    "start_time": "2022-06-06T04:11:24.161Z"
   },
   {
    "duration": 23,
    "start_time": "2022-06-06T04:11:24.207Z"
   },
   {
    "duration": 7,
    "start_time": "2022-06-06T04:11:24.258Z"
   },
   {
    "duration": 14,
    "start_time": "2022-06-06T04:11:24.266Z"
   },
   {
    "duration": 7,
    "start_time": "2022-06-06T04:11:24.282Z"
   },
   {
    "duration": 9,
    "start_time": "2022-06-06T04:11:24.290Z"
   },
   {
    "duration": 12,
    "start_time": "2022-06-06T04:11:24.301Z"
   },
   {
    "duration": 6,
    "start_time": "2022-06-06T04:11:24.315Z"
   },
   {
    "duration": 41,
    "start_time": "2022-06-06T04:11:24.322Z"
   },
   {
    "duration": 29,
    "start_time": "2022-06-06T04:11:24.364Z"
   },
   {
    "duration": 15,
    "start_time": "2022-06-06T04:11:24.394Z"
   },
   {
    "duration": 4,
    "start_time": "2022-06-06T04:11:24.411Z"
   },
   {
    "duration": 10,
    "start_time": "2022-06-06T04:11:24.416Z"
   },
   {
    "duration": 40,
    "start_time": "2022-06-06T04:11:24.428Z"
   },
   {
    "duration": 122,
    "start_time": "2022-06-06T04:11:24.469Z"
   },
   {
    "duration": 22,
    "start_time": "2022-06-06T04:11:24.592Z"
   },
   {
    "duration": 621,
    "start_time": "2022-06-06T04:11:24.616Z"
   },
   {
    "duration": 21,
    "start_time": "2022-06-06T04:11:25.238Z"
   },
   {
    "duration": 26,
    "start_time": "2022-06-06T04:11:25.261Z"
   },
   {
    "duration": 18,
    "start_time": "2022-06-06T04:11:25.289Z"
   },
   {
    "duration": 51,
    "start_time": "2022-06-06T04:11:25.309Z"
   },
   {
    "duration": 12,
    "start_time": "2022-06-06T04:11:25.362Z"
   },
   {
    "duration": 16,
    "start_time": "2022-06-06T04:11:25.376Z"
   },
   {
    "duration": 13,
    "start_time": "2022-06-06T04:43:43.493Z"
   },
   {
    "duration": 13,
    "start_time": "2022-06-06T04:44:12.518Z"
   },
   {
    "duration": 10,
    "start_time": "2022-06-06T05:00:40.833Z"
   },
   {
    "duration": 8,
    "start_time": "2022-06-06T05:01:39.882Z"
   },
   {
    "duration": 468,
    "start_time": "2022-06-06T05:06:00.986Z"
   },
   {
    "duration": 4,
    "start_time": "2022-06-06T05:06:18.954Z"
   },
   {
    "duration": 31,
    "start_time": "2022-06-06T05:06:51.826Z"
   },
   {
    "duration": 3,
    "start_time": "2022-06-06T05:07:12.017Z"
   },
   {
    "duration": 6,
    "start_time": "2022-06-06T05:07:17.994Z"
   },
   {
    "duration": 3,
    "start_time": "2022-06-06T05:26:05.816Z"
   },
   {
    "duration": 5,
    "start_time": "2022-06-06T05:30:37.674Z"
   },
   {
    "duration": 8,
    "start_time": "2022-06-06T05:30:58.802Z"
   },
   {
    "duration": 35,
    "start_time": "2022-06-06T05:31:06.719Z"
   },
   {
    "duration": 251,
    "start_time": "2022-06-06T05:31:20.712Z"
   },
   {
    "duration": 6,
    "start_time": "2022-06-06T05:31:34.753Z"
   },
   {
    "duration": 10,
    "start_time": "2022-06-06T05:33:49.187Z"
   },
   {
    "duration": 10,
    "start_time": "2022-06-06T05:33:56.420Z"
   },
   {
    "duration": 131,
    "start_time": "2022-06-06T05:34:07.212Z"
   },
   {
    "duration": 8,
    "start_time": "2022-06-06T05:34:14.936Z"
   },
   {
    "duration": 9,
    "start_time": "2022-06-06T05:34:40.448Z"
   },
   {
    "duration": 32,
    "start_time": "2022-06-06T05:34:43.123Z"
   },
   {
    "duration": 10005,
    "start_time": "2022-06-06T05:34:44.002Z"
   },
   {
    "duration": 22,
    "start_time": "2022-06-06T05:34:54.009Z"
   },
   {
    "duration": 9759,
    "start_time": "2022-06-06T05:35:03.979Z"
   },
   {
    "duration": 37,
    "start_time": "2022-06-06T05:35:13.741Z"
   },
   {
    "duration": 12,
    "start_time": "2022-06-06T05:35:13.780Z"
   },
   {
    "duration": 76,
    "start_time": "2022-06-06T05:35:17.644Z"
   },
   {
    "duration": 35,
    "start_time": "2022-06-06T05:35:18.619Z"
   },
   {
    "duration": 4,
    "start_time": "2022-06-06T05:35:19.571Z"
   },
   {
    "duration": 15,
    "start_time": "2022-06-06T05:35:21.162Z"
   },
   {
    "duration": 49,
    "start_time": "2022-06-06T05:35:21.971Z"
   },
   {
    "duration": 30,
    "start_time": "2022-06-06T05:35:22.940Z"
   },
   {
    "duration": 8,
    "start_time": "2022-06-06T05:35:24.546Z"
   },
   {
    "duration": 5,
    "start_time": "2022-06-06T05:35:32.867Z"
   },
   {
    "duration": 6,
    "start_time": "2022-06-06T05:35:33.634Z"
   },
   {
    "duration": 2,
    "start_time": "2022-06-06T05:35:34.650Z"
   },
   {
    "duration": 8,
    "start_time": "2022-06-06T05:35:36.387Z"
   },
   {
    "duration": 5,
    "start_time": "2022-06-06T05:35:37.691Z"
   },
   {
    "duration": 9,
    "start_time": "2022-06-06T05:35:38.971Z"
   },
   {
    "duration": 125,
    "start_time": "2022-06-06T05:45:43.760Z"
   },
   {
    "duration": 987,
    "start_time": "2022-06-06T11:59:41.126Z"
   },
   {
    "duration": 80,
    "start_time": "2022-06-06T11:59:42.115Z"
   },
   {
    "duration": 125,
    "start_time": "2022-06-06T11:59:42.197Z"
   },
   {
    "duration": 1001,
    "start_time": "2022-06-06T11:59:42.324Z"
   },
   {
    "duration": 80,
    "start_time": "2022-06-06T11:59:43.327Z"
   },
   {
    "duration": 10,
    "start_time": "2022-06-06T11:59:43.409Z"
   },
   {
    "duration": 30,
    "start_time": "2022-06-06T11:59:43.421Z"
   },
   {
    "duration": 64,
    "start_time": "2022-06-06T11:59:43.453Z"
   },
   {
    "duration": 11,
    "start_time": "2022-06-06T11:59:43.518Z"
   },
   {
    "duration": 30,
    "start_time": "2022-06-06T11:59:43.531Z"
   },
   {
    "duration": 265,
    "start_time": "2022-06-06T11:59:43.563Z"
   },
   {
    "duration": 103,
    "start_time": "2022-06-06T11:59:43.829Z"
   },
   {
    "duration": 35,
    "start_time": "2022-06-06T11:59:43.934Z"
   },
   {
    "duration": 138,
    "start_time": "2022-06-06T11:59:43.970Z"
   },
   {
    "duration": 6,
    "start_time": "2022-06-06T11:59:44.109Z"
   },
   {
    "duration": 60,
    "start_time": "2022-06-06T11:59:44.116Z"
   },
   {
    "duration": 257,
    "start_time": "2022-06-06T11:59:44.177Z"
   },
   {
    "duration": 9,
    "start_time": "2022-06-06T11:59:44.436Z"
   },
   {
    "duration": 8,
    "start_time": "2022-06-06T11:59:44.446Z"
   },
   {
    "duration": 217,
    "start_time": "2022-06-06T11:59:44.456Z"
   },
   {
    "duration": 9,
    "start_time": "2022-06-06T11:59:44.675Z"
   },
   {
    "duration": 210,
    "start_time": "2022-06-06T11:59:44.685Z"
   },
   {
    "duration": 3,
    "start_time": "2022-06-06T11:59:44.897Z"
   },
   {
    "duration": 19,
    "start_time": "2022-06-06T11:59:44.902Z"
   },
   {
    "duration": 21,
    "start_time": "2022-06-06T11:59:44.922Z"
   },
   {
    "duration": 7,
    "start_time": "2022-06-06T11:59:44.945Z"
   },
   {
    "duration": 13,
    "start_time": "2022-06-06T11:59:44.953Z"
   },
   {
    "duration": 42,
    "start_time": "2022-06-06T11:59:44.969Z"
   },
   {
    "duration": 10137,
    "start_time": "2022-06-06T11:59:45.012Z"
   },
   {
    "duration": 24,
    "start_time": "2022-06-06T11:59:55.151Z"
   },
   {
    "duration": 19,
    "start_time": "2022-06-06T11:59:55.176Z"
   },
   {
    "duration": 99,
    "start_time": "2022-06-06T11:59:55.197Z"
   },
   {
    "duration": 41,
    "start_time": "2022-06-06T11:59:55.298Z"
   },
   {
    "duration": 6,
    "start_time": "2022-06-06T11:59:55.341Z"
   },
   {
    "duration": 9,
    "start_time": "2022-06-06T11:59:55.349Z"
   },
   {
    "duration": 68,
    "start_time": "2022-06-06T11:59:55.360Z"
   },
   {
    "duration": 21,
    "start_time": "2022-06-06T11:59:55.430Z"
   },
   {
    "duration": 7,
    "start_time": "2022-06-06T11:59:55.453Z"
   },
   {
    "duration": 10,
    "start_time": "2022-06-06T11:59:55.462Z"
   },
   {
    "duration": 7,
    "start_time": "2022-06-06T11:59:55.473Z"
   },
   {
    "duration": 14,
    "start_time": "2022-06-06T11:59:55.482Z"
   },
   {
    "duration": 33,
    "start_time": "2022-06-06T11:59:55.497Z"
   },
   {
    "duration": 162,
    "start_time": "2022-06-06T11:59:55.531Z"
   },
   {
    "duration": 14,
    "start_time": "2022-06-06T11:59:55.696Z"
   },
   {
    "duration": 41,
    "start_time": "2022-06-06T11:59:55.712Z"
   },
   {
    "duration": 14,
    "start_time": "2022-06-06T11:59:55.754Z"
   },
   {
    "duration": 3,
    "start_time": "2022-06-06T11:59:55.770Z"
   },
   {
    "duration": 11,
    "start_time": "2022-06-06T11:59:55.774Z"
   },
   {
    "duration": 11,
    "start_time": "2022-06-06T11:59:55.786Z"
   },
   {
    "duration": 142,
    "start_time": "2022-06-06T11:59:55.799Z"
   },
   {
    "duration": 25,
    "start_time": "2022-06-06T11:59:55.943Z"
   },
   {
    "duration": 611,
    "start_time": "2022-06-06T11:59:55.970Z"
   },
   {
    "duration": 11,
    "start_time": "2022-06-06T11:59:56.582Z"
   },
   {
    "duration": 36,
    "start_time": "2022-06-06T11:59:56.594Z"
   },
   {
    "duration": 15,
    "start_time": "2022-06-06T11:59:56.632Z"
   },
   {
    "duration": 9,
    "start_time": "2022-06-06T11:59:56.650Z"
   },
   {
    "duration": 15,
    "start_time": "2022-06-06T11:59:56.660Z"
   },
   {
    "duration": 10,
    "start_time": "2022-06-06T11:59:56.677Z"
   },
   {
    "duration": 38,
    "start_time": "2022-06-06T11:59:56.689Z"
   },
   {
    "duration": 8,
    "start_time": "2022-06-06T11:59:56.729Z"
   },
   {
    "duration": 11,
    "start_time": "2022-06-06T11:59:56.739Z"
   },
   {
    "duration": 10,
    "start_time": "2022-06-06T11:59:56.752Z"
   },
   {
    "duration": 7,
    "start_time": "2022-06-06T12:12:25.561Z"
   },
   {
    "duration": 8,
    "start_time": "2022-06-06T12:12:31.977Z"
   },
   {
    "duration": 134,
    "start_time": "2022-06-06T12:20:56.184Z"
   },
   {
    "duration": 73,
    "start_time": "2022-06-06T12:21:14.197Z"
   },
   {
    "duration": 28,
    "start_time": "2022-06-06T12:21:36.274Z"
   },
   {
    "duration": 134,
    "start_time": "2022-06-06T12:21:54.812Z"
   },
   {
    "duration": 10,
    "start_time": "2022-06-06T12:22:42.503Z"
   },
   {
    "duration": 14,
    "start_time": "2022-06-06T12:24:05.835Z"
   },
   {
    "duration": 3,
    "start_time": "2022-06-06T12:27:46.717Z"
   },
   {
    "duration": 11,
    "start_time": "2022-06-06T12:35:48.942Z"
   },
   {
    "duration": 96,
    "start_time": "2022-06-06T12:36:43.070Z"
   },
   {
    "duration": 387,
    "start_time": "2022-06-06T12:37:27.215Z"
   },
   {
    "duration": 68,
    "start_time": "2022-06-06T12:38:27.234Z"
   },
   {
    "duration": 15,
    "start_time": "2022-06-06T12:42:10.150Z"
   },
   {
    "duration": 13,
    "start_time": "2022-06-06T12:42:24.997Z"
   },
   {
    "duration": 14,
    "start_time": "2022-06-06T12:43:03.338Z"
   },
   {
    "duration": 13,
    "start_time": "2022-06-06T12:43:38.072Z"
   },
   {
    "duration": 4,
    "start_time": "2022-06-06T12:44:07.007Z"
   },
   {
    "duration": 9,
    "start_time": "2022-06-06T12:44:07.906Z"
   },
   {
    "duration": 2,
    "start_time": "2022-06-06T12:44:19.779Z"
   },
   {
    "duration": 35,
    "start_time": "2022-06-06T12:44:19.785Z"
   },
   {
    "duration": 76,
    "start_time": "2022-06-06T12:44:19.822Z"
   },
   {
    "duration": 519,
    "start_time": "2022-06-06T12:44:19.900Z"
   },
   {
    "duration": 37,
    "start_time": "2022-06-06T12:44:20.426Z"
   },
   {
    "duration": 10,
    "start_time": "2022-06-06T12:44:20.465Z"
   },
   {
    "duration": 24,
    "start_time": "2022-06-06T12:44:20.477Z"
   },
   {
    "duration": 62,
    "start_time": "2022-06-06T12:44:20.502Z"
   },
   {
    "duration": 11,
    "start_time": "2022-06-06T12:44:20.566Z"
   },
   {
    "duration": 10,
    "start_time": "2022-06-06T12:44:20.578Z"
   },
   {
    "duration": 280,
    "start_time": "2022-06-06T12:44:20.591Z"
   },
   {
    "duration": 109,
    "start_time": "2022-06-06T12:44:20.873Z"
   },
   {
    "duration": 45,
    "start_time": "2022-06-06T12:44:20.984Z"
   },
   {
    "duration": 148,
    "start_time": "2022-06-06T12:44:21.031Z"
   },
   {
    "duration": 4,
    "start_time": "2022-06-06T12:44:21.181Z"
   },
   {
    "duration": 41,
    "start_time": "2022-06-06T12:44:21.187Z"
   },
   {
    "duration": 255,
    "start_time": "2022-06-06T12:44:21.230Z"
   },
   {
    "duration": 11,
    "start_time": "2022-06-06T12:44:21.486Z"
   },
   {
    "duration": 18,
    "start_time": "2022-06-06T12:44:21.498Z"
   },
   {
    "duration": 238,
    "start_time": "2022-06-06T12:44:21.526Z"
   },
   {
    "duration": 9,
    "start_time": "2022-06-06T12:44:21.766Z"
   },
   {
    "duration": 185,
    "start_time": "2022-06-06T12:44:21.777Z"
   },
   {
    "duration": 4,
    "start_time": "2022-06-06T12:44:21.963Z"
   },
   {
    "duration": 10,
    "start_time": "2022-06-06T12:44:21.968Z"
   },
   {
    "duration": 21,
    "start_time": "2022-06-06T12:44:21.980Z"
   },
   {
    "duration": 26,
    "start_time": "2022-06-06T12:44:22.002Z"
   },
   {
    "duration": 0,
    "start_time": "2022-06-06T12:44:22.031Z"
   },
   {
    "duration": 0,
    "start_time": "2022-06-06T12:44:22.032Z"
   },
   {
    "duration": 0,
    "start_time": "2022-06-06T12:44:22.033Z"
   },
   {
    "duration": 0,
    "start_time": "2022-06-06T12:44:22.035Z"
   },
   {
    "duration": 0,
    "start_time": "2022-06-06T12:44:22.035Z"
   },
   {
    "duration": 0,
    "start_time": "2022-06-06T12:44:22.037Z"
   },
   {
    "duration": 0,
    "start_time": "2022-06-06T12:44:22.038Z"
   },
   {
    "duration": 0,
    "start_time": "2022-06-06T12:44:22.039Z"
   },
   {
    "duration": 0,
    "start_time": "2022-06-06T12:44:22.040Z"
   },
   {
    "duration": 0,
    "start_time": "2022-06-06T12:44:22.041Z"
   },
   {
    "duration": 0,
    "start_time": "2022-06-06T12:44:22.042Z"
   },
   {
    "duration": 0,
    "start_time": "2022-06-06T12:44:22.043Z"
   },
   {
    "duration": 0,
    "start_time": "2022-06-06T12:44:22.044Z"
   },
   {
    "duration": 0,
    "start_time": "2022-06-06T12:44:22.045Z"
   },
   {
    "duration": 0,
    "start_time": "2022-06-06T12:44:22.046Z"
   },
   {
    "duration": 0,
    "start_time": "2022-06-06T12:44:22.047Z"
   },
   {
    "duration": 0,
    "start_time": "2022-06-06T12:44:22.049Z"
   },
   {
    "duration": 0,
    "start_time": "2022-06-06T12:44:22.050Z"
   },
   {
    "duration": 0,
    "start_time": "2022-06-06T12:44:22.051Z"
   },
   {
    "duration": 0,
    "start_time": "2022-06-06T12:44:22.052Z"
   },
   {
    "duration": 0,
    "start_time": "2022-06-06T12:44:22.053Z"
   },
   {
    "duration": 0,
    "start_time": "2022-06-06T12:44:22.054Z"
   },
   {
    "duration": 0,
    "start_time": "2022-06-06T12:44:22.055Z"
   },
   {
    "duration": 0,
    "start_time": "2022-06-06T12:44:22.056Z"
   },
   {
    "duration": 0,
    "start_time": "2022-06-06T12:44:22.057Z"
   },
   {
    "duration": 0,
    "start_time": "2022-06-06T12:44:22.058Z"
   },
   {
    "duration": 1,
    "start_time": "2022-06-06T12:44:22.058Z"
   },
   {
    "duration": 0,
    "start_time": "2022-06-06T12:44:22.059Z"
   },
   {
    "duration": 0,
    "start_time": "2022-06-06T12:44:22.061Z"
   },
   {
    "duration": 0,
    "start_time": "2022-06-06T12:44:22.061Z"
   },
   {
    "duration": 0,
    "start_time": "2022-06-06T12:44:22.063Z"
   },
   {
    "duration": 0,
    "start_time": "2022-06-06T12:44:22.064Z"
   },
   {
    "duration": 0,
    "start_time": "2022-06-06T12:44:22.065Z"
   },
   {
    "duration": 0,
    "start_time": "2022-06-06T12:44:22.127Z"
   },
   {
    "duration": 0,
    "start_time": "2022-06-06T12:44:22.128Z"
   },
   {
    "duration": 0,
    "start_time": "2022-06-06T12:44:22.129Z"
   },
   {
    "duration": 0,
    "start_time": "2022-06-06T12:44:22.130Z"
   },
   {
    "duration": 0,
    "start_time": "2022-06-06T12:44:22.131Z"
   },
   {
    "duration": 56,
    "start_time": "2022-06-06T12:44:52.221Z"
   },
   {
    "duration": 4,
    "start_time": "2022-06-06T12:45:26.088Z"
   },
   {
    "duration": 11,
    "start_time": "2022-06-06T12:45:27.129Z"
   },
   {
    "duration": 4,
    "start_time": "2022-06-06T12:46:31.600Z"
   },
   {
    "duration": 74,
    "start_time": "2022-06-06T12:46:31.606Z"
   },
   {
    "duration": 75,
    "start_time": "2022-06-06T12:46:31.682Z"
   },
   {
    "duration": 526,
    "start_time": "2022-06-06T12:46:31.759Z"
   },
   {
    "duration": 29,
    "start_time": "2022-06-06T12:46:32.287Z"
   },
   {
    "duration": 13,
    "start_time": "2022-06-06T12:46:32.318Z"
   },
   {
    "duration": 31,
    "start_time": "2022-06-06T12:46:32.334Z"
   },
   {
    "duration": 61,
    "start_time": "2022-06-06T12:46:32.366Z"
   },
   {
    "duration": 20,
    "start_time": "2022-06-06T12:46:32.430Z"
   },
   {
    "duration": 17,
    "start_time": "2022-06-06T12:46:32.452Z"
   },
   {
    "duration": 269,
    "start_time": "2022-06-06T12:46:32.472Z"
   },
   {
    "duration": 129,
    "start_time": "2022-06-06T12:46:32.743Z"
   },
   {
    "duration": 33,
    "start_time": "2022-06-06T12:46:32.874Z"
   },
   {
    "duration": 156,
    "start_time": "2022-06-06T12:46:32.909Z"
   },
   {
    "duration": 5,
    "start_time": "2022-06-06T12:46:33.066Z"
   },
   {
    "duration": 32,
    "start_time": "2022-06-06T12:46:33.072Z"
   },
   {
    "duration": 269,
    "start_time": "2022-06-06T12:46:33.105Z"
   },
   {
    "duration": 8,
    "start_time": "2022-06-06T12:46:33.375Z"
   },
   {
    "duration": 9,
    "start_time": "2022-06-06T12:46:33.385Z"
   },
   {
    "duration": 222,
    "start_time": "2022-06-06T12:46:33.395Z"
   },
   {
    "duration": 20,
    "start_time": "2022-06-06T12:46:33.619Z"
   },
   {
    "duration": 169,
    "start_time": "2022-06-06T12:46:33.642Z"
   },
   {
    "duration": 4,
    "start_time": "2022-06-06T12:46:33.813Z"
   },
   {
    "duration": 13,
    "start_time": "2022-06-06T12:46:33.826Z"
   },
   {
    "duration": 28,
    "start_time": "2022-06-06T12:46:33.841Z"
   },
   {
    "duration": 14,
    "start_time": "2022-06-06T12:46:33.871Z"
   },
   {
    "duration": 0,
    "start_time": "2022-06-06T12:46:33.887Z"
   },
   {
    "duration": 0,
    "start_time": "2022-06-06T12:46:33.889Z"
   },
   {
    "duration": 0,
    "start_time": "2022-06-06T12:46:33.890Z"
   },
   {
    "duration": 0,
    "start_time": "2022-06-06T12:46:33.891Z"
   },
   {
    "duration": 0,
    "start_time": "2022-06-06T12:46:33.892Z"
   },
   {
    "duration": 0,
    "start_time": "2022-06-06T12:46:33.894Z"
   },
   {
    "duration": 0,
    "start_time": "2022-06-06T12:46:33.895Z"
   },
   {
    "duration": 0,
    "start_time": "2022-06-06T12:46:33.896Z"
   },
   {
    "duration": 0,
    "start_time": "2022-06-06T12:46:33.897Z"
   },
   {
    "duration": 0,
    "start_time": "2022-06-06T12:46:33.898Z"
   },
   {
    "duration": 0,
    "start_time": "2022-06-06T12:46:33.900Z"
   },
   {
    "duration": 0,
    "start_time": "2022-06-06T12:46:33.928Z"
   },
   {
    "duration": 0,
    "start_time": "2022-06-06T12:46:33.931Z"
   },
   {
    "duration": 0,
    "start_time": "2022-06-06T12:46:33.932Z"
   },
   {
    "duration": 0,
    "start_time": "2022-06-06T12:46:33.934Z"
   },
   {
    "duration": 0,
    "start_time": "2022-06-06T12:46:33.936Z"
   },
   {
    "duration": 0,
    "start_time": "2022-06-06T12:46:33.937Z"
   },
   {
    "duration": 0,
    "start_time": "2022-06-06T12:46:33.939Z"
   },
   {
    "duration": 0,
    "start_time": "2022-06-06T12:46:33.941Z"
   },
   {
    "duration": 0,
    "start_time": "2022-06-06T12:46:33.943Z"
   },
   {
    "duration": 0,
    "start_time": "2022-06-06T12:46:33.944Z"
   },
   {
    "duration": 0,
    "start_time": "2022-06-06T12:46:33.945Z"
   },
   {
    "duration": 0,
    "start_time": "2022-06-06T12:46:33.946Z"
   },
   {
    "duration": 0,
    "start_time": "2022-06-06T12:46:33.948Z"
   },
   {
    "duration": 0,
    "start_time": "2022-06-06T12:46:33.949Z"
   },
   {
    "duration": 0,
    "start_time": "2022-06-06T12:46:33.951Z"
   },
   {
    "duration": 0,
    "start_time": "2022-06-06T12:46:33.952Z"
   },
   {
    "duration": 0,
    "start_time": "2022-06-06T12:46:33.953Z"
   },
   {
    "duration": 0,
    "start_time": "2022-06-06T12:46:33.954Z"
   },
   {
    "duration": 0,
    "start_time": "2022-06-06T12:46:33.955Z"
   },
   {
    "duration": 0,
    "start_time": "2022-06-06T12:46:33.956Z"
   },
   {
    "duration": 0,
    "start_time": "2022-06-06T12:46:33.957Z"
   },
   {
    "duration": 0,
    "start_time": "2022-06-06T12:46:33.958Z"
   },
   {
    "duration": 0,
    "start_time": "2022-06-06T12:46:33.959Z"
   },
   {
    "duration": 1,
    "start_time": "2022-06-06T12:46:33.960Z"
   },
   {
    "duration": 0,
    "start_time": "2022-06-06T12:46:33.962Z"
   },
   {
    "duration": 0,
    "start_time": "2022-06-06T12:46:33.963Z"
   },
   {
    "duration": 0,
    "start_time": "2022-06-06T12:46:33.964Z"
   },
   {
    "duration": 4,
    "start_time": "2022-06-06T12:50:29.199Z"
   },
   {
    "duration": 4,
    "start_time": "2022-06-06T12:50:54.211Z"
   },
   {
    "duration": 3,
    "start_time": "2022-06-06T12:51:04.752Z"
   },
   {
    "duration": 3,
    "start_time": "2022-06-06T12:51:08.856Z"
   },
   {
    "duration": 4,
    "start_time": "2022-06-06T12:51:11.017Z"
   },
   {
    "duration": 5,
    "start_time": "2022-06-06T12:55:02.145Z"
   },
   {
    "duration": 8,
    "start_time": "2022-06-06T12:55:07.093Z"
   },
   {
    "duration": 3,
    "start_time": "2022-06-06T12:55:23.511Z"
   },
   {
    "duration": 4,
    "start_time": "2022-06-06T12:55:25.784Z"
   },
   {
    "duration": 4,
    "start_time": "2022-06-06T12:55:27.120Z"
   },
   {
    "duration": 11,
    "start_time": "2022-06-06T12:55:28.553Z"
   },
   {
    "duration": 4,
    "start_time": "2022-06-06T12:56:11.797Z"
   },
   {
    "duration": 9,
    "start_time": "2022-06-06T12:57:54.363Z"
   },
   {
    "duration": 10,
    "start_time": "2022-06-06T12:57:58.311Z"
   },
   {
    "duration": 3,
    "start_time": "2022-06-06T13:14:15.773Z"
   },
   {
    "duration": 34,
    "start_time": "2022-06-06T13:14:15.795Z"
   },
   {
    "duration": 73,
    "start_time": "2022-06-06T13:14:15.832Z"
   },
   {
    "duration": 473,
    "start_time": "2022-06-06T13:14:15.906Z"
   },
   {
    "duration": 29,
    "start_time": "2022-06-06T13:14:16.381Z"
   },
   {
    "duration": 16,
    "start_time": "2022-06-06T13:14:16.411Z"
   },
   {
    "duration": 22,
    "start_time": "2022-06-06T13:14:16.428Z"
   },
   {
    "duration": 56,
    "start_time": "2022-06-06T13:14:16.452Z"
   },
   {
    "duration": 21,
    "start_time": "2022-06-06T13:14:16.510Z"
   },
   {
    "duration": 18,
    "start_time": "2022-06-06T13:14:16.533Z"
   },
   {
    "duration": 221,
    "start_time": "2022-06-06T13:14:16.554Z"
   },
   {
    "duration": 97,
    "start_time": "2022-06-06T13:14:16.777Z"
   },
   {
    "duration": 52,
    "start_time": "2022-06-06T13:14:16.876Z"
   },
   {
    "duration": 118,
    "start_time": "2022-06-06T13:14:16.929Z"
   },
   {
    "duration": 5,
    "start_time": "2022-06-06T13:14:17.048Z"
   },
   {
    "duration": 34,
    "start_time": "2022-06-06T13:14:17.054Z"
   },
   {
    "duration": 214,
    "start_time": "2022-06-06T13:14:17.089Z"
   },
   {
    "duration": 9,
    "start_time": "2022-06-06T13:14:17.305Z"
   },
   {
    "duration": 8,
    "start_time": "2022-06-06T13:14:17.327Z"
   },
   {
    "duration": 193,
    "start_time": "2022-06-06T13:14:17.336Z"
   },
   {
    "duration": 10,
    "start_time": "2022-06-06T13:14:17.530Z"
   },
   {
    "duration": 150,
    "start_time": "2022-06-06T13:14:17.542Z"
   },
   {
    "duration": 3,
    "start_time": "2022-06-06T13:14:17.693Z"
   },
   {
    "duration": 22,
    "start_time": "2022-06-06T13:14:17.697Z"
   },
   {
    "duration": 11,
    "start_time": "2022-06-06T13:14:17.720Z"
   },
   {
    "duration": 16,
    "start_time": "2022-06-06T13:14:17.732Z"
   },
   {
    "duration": 21,
    "start_time": "2022-06-06T13:14:17.750Z"
   },
   {
    "duration": 45,
    "start_time": "2022-06-06T13:14:17.773Z"
   },
   {
    "duration": 8,
    "start_time": "2022-06-06T13:14:17.821Z"
   },
   {
    "duration": 14,
    "start_time": "2022-06-06T13:14:17.830Z"
   },
   {
    "duration": 36,
    "start_time": "2022-06-06T13:14:17.846Z"
   },
   {
    "duration": 9605,
    "start_time": "2022-06-06T13:14:17.884Z"
   },
   {
    "duration": 18,
    "start_time": "2022-06-06T13:14:27.491Z"
   },
   {
    "duration": 21,
    "start_time": "2022-06-06T13:14:27.510Z"
   },
   {
    "duration": 79,
    "start_time": "2022-06-06T13:14:27.533Z"
   },
   {
    "duration": 42,
    "start_time": "2022-06-06T13:14:27.613Z"
   },
   {
    "duration": 4,
    "start_time": "2022-06-06T13:14:27.657Z"
   },
   {
    "duration": 5,
    "start_time": "2022-06-06T13:14:27.663Z"
   },
   {
    "duration": 66,
    "start_time": "2022-06-06T13:14:27.669Z"
   },
   {
    "duration": 22,
    "start_time": "2022-06-06T13:14:27.737Z"
   },
   {
    "duration": 7,
    "start_time": "2022-06-06T13:14:27.761Z"
   },
   {
    "duration": 18,
    "start_time": "2022-06-06T13:14:27.769Z"
   },
   {
    "duration": 7,
    "start_time": "2022-06-06T13:14:27.789Z"
   },
   {
    "duration": 5,
    "start_time": "2022-06-06T13:14:27.797Z"
   },
   {
    "duration": 30,
    "start_time": "2022-06-06T13:14:27.803Z"
   },
   {
    "duration": 8,
    "start_time": "2022-06-06T13:14:27.834Z"
   },
   {
    "duration": 12,
    "start_time": "2022-06-06T13:14:27.844Z"
   },
   {
    "duration": 37,
    "start_time": "2022-06-06T13:14:27.857Z"
   },
   {
    "duration": 12,
    "start_time": "2022-06-06T13:14:27.895Z"
   },
   {
    "duration": 19,
    "start_time": "2022-06-06T13:14:27.909Z"
   },
   {
    "duration": 12,
    "start_time": "2022-06-06T13:14:27.929Z"
   },
   {
    "duration": 11,
    "start_time": "2022-06-06T13:14:27.942Z"
   },
   {
    "duration": 109,
    "start_time": "2022-06-06T13:14:27.955Z"
   },
   {
    "duration": 21,
    "start_time": "2022-06-06T13:14:28.065Z"
   },
   {
    "duration": 581,
    "start_time": "2022-06-06T13:14:28.087Z"
   },
   {
    "duration": 10,
    "start_time": "2022-06-06T13:14:28.669Z"
   },
   {
    "duration": 22,
    "start_time": "2022-06-06T13:14:28.681Z"
   },
   {
    "duration": 27,
    "start_time": "2022-06-06T13:14:28.705Z"
   },
   {
    "duration": 9,
    "start_time": "2022-06-06T13:14:28.734Z"
   },
   {
    "duration": 13,
    "start_time": "2022-06-06T13:14:28.745Z"
   },
   {
    "duration": 9,
    "start_time": "2022-06-06T13:14:28.760Z"
   },
   {
    "duration": 13,
    "start_time": "2022-06-06T13:14:28.771Z"
   },
   {
    "duration": 8,
    "start_time": "2022-06-06T13:14:28.786Z"
   },
   {
    "duration": 37,
    "start_time": "2022-06-06T13:14:28.796Z"
   },
   {
    "duration": 10,
    "start_time": "2022-06-06T13:14:28.835Z"
   },
   {
    "duration": 2,
    "start_time": "2022-06-06T13:14:59.651Z"
   },
   {
    "duration": 5,
    "start_time": "2022-06-06T13:17:46.150Z"
   },
   {
    "duration": 9,
    "start_time": "2022-06-06T13:17:46.868Z"
   },
   {
    "duration": 109,
    "start_time": "2022-06-06T13:18:18.246Z"
   },
   {
    "duration": 115,
    "start_time": "2022-06-06T13:18:30.162Z"
   },
   {
    "duration": 3,
    "start_time": "2022-06-06T13:40:35.392Z"
   },
   {
    "duration": 35,
    "start_time": "2022-06-06T13:40:35.396Z"
   },
   {
    "duration": 66,
    "start_time": "2022-06-06T13:40:35.433Z"
   },
   {
    "duration": 464,
    "start_time": "2022-06-06T13:40:35.501Z"
   },
   {
    "duration": 31,
    "start_time": "2022-06-06T13:40:35.967Z"
   },
   {
    "duration": 10,
    "start_time": "2022-06-06T13:40:35.999Z"
   },
   {
    "duration": 29,
    "start_time": "2022-06-06T13:40:36.011Z"
   },
   {
    "duration": 56,
    "start_time": "2022-06-06T13:40:36.042Z"
   },
   {
    "duration": 10,
    "start_time": "2022-06-06T13:40:36.099Z"
   },
   {
    "duration": 29,
    "start_time": "2022-06-06T13:40:36.111Z"
   },
   {
    "duration": 241,
    "start_time": "2022-06-06T13:40:36.142Z"
   },
   {
    "duration": 118,
    "start_time": "2022-06-06T13:40:36.385Z"
   },
   {
    "duration": 42,
    "start_time": "2022-06-06T13:40:36.505Z"
   },
   {
    "duration": 133,
    "start_time": "2022-06-06T13:40:36.550Z"
   },
   {
    "duration": 5,
    "start_time": "2022-06-06T13:40:36.685Z"
   },
   {
    "duration": 41,
    "start_time": "2022-06-06T13:40:36.691Z"
   },
   {
    "duration": 250,
    "start_time": "2022-06-06T13:40:36.733Z"
   },
   {
    "duration": 10,
    "start_time": "2022-06-06T13:40:36.985Z"
   },
   {
    "duration": 12,
    "start_time": "2022-06-06T13:40:36.996Z"
   },
   {
    "duration": 211,
    "start_time": "2022-06-06T13:40:37.026Z"
   },
   {
    "duration": 9,
    "start_time": "2022-06-06T13:40:37.238Z"
   },
   {
    "duration": 187,
    "start_time": "2022-06-06T13:40:37.249Z"
   },
   {
    "duration": 4,
    "start_time": "2022-06-06T13:40:37.437Z"
   },
   {
    "duration": 7,
    "start_time": "2022-06-06T13:40:37.442Z"
   },
   {
    "duration": 16,
    "start_time": "2022-06-06T13:40:37.450Z"
   },
   {
    "duration": 25,
    "start_time": "2022-06-06T13:40:37.468Z"
   },
   {
    "duration": 66,
    "start_time": "2022-06-06T13:40:37.495Z"
   },
   {
    "duration": 5,
    "start_time": "2022-06-06T13:40:37.562Z"
   },
   {
    "duration": 16,
    "start_time": "2022-06-06T13:40:37.568Z"
   },
   {
    "duration": 60,
    "start_time": "2022-06-06T13:40:37.586Z"
   },
   {
    "duration": 10129,
    "start_time": "2022-06-06T13:40:37.647Z"
   },
   {
    "duration": 18,
    "start_time": "2022-06-06T13:40:47.778Z"
   },
   {
    "duration": 17,
    "start_time": "2022-06-06T13:40:47.798Z"
   },
   {
    "duration": 91,
    "start_time": "2022-06-06T13:40:47.826Z"
   },
   {
    "duration": 33,
    "start_time": "2022-06-06T13:40:47.918Z"
   },
   {
    "duration": 4,
    "start_time": "2022-06-06T13:40:47.953Z"
   },
   {
    "duration": 7,
    "start_time": "2022-06-06T13:40:47.959Z"
   },
   {
    "duration": 64,
    "start_time": "2022-06-06T13:40:47.967Z"
   },
   {
    "duration": 22,
    "start_time": "2022-06-06T13:40:48.033Z"
   },
   {
    "duration": 6,
    "start_time": "2022-06-06T13:40:48.056Z"
   },
   {
    "duration": 9,
    "start_time": "2022-06-06T13:40:48.065Z"
   },
   {
    "duration": 6,
    "start_time": "2022-06-06T13:40:48.077Z"
   },
   {
    "duration": 6,
    "start_time": "2022-06-06T13:40:48.084Z"
   },
   {
    "duration": 35,
    "start_time": "2022-06-06T13:40:48.092Z"
   },
   {
    "duration": 4,
    "start_time": "2022-06-06T13:40:48.129Z"
   },
   {
    "duration": 14,
    "start_time": "2022-06-06T13:40:48.135Z"
   },
   {
    "duration": 36,
    "start_time": "2022-06-06T13:40:48.151Z"
   },
   {
    "duration": 13,
    "start_time": "2022-06-06T13:40:48.189Z"
   },
   {
    "duration": 23,
    "start_time": "2022-06-06T13:40:48.204Z"
   },
   {
    "duration": 36,
    "start_time": "2022-06-06T13:40:48.228Z"
   },
   {
    "duration": 26,
    "start_time": "2022-06-06T13:40:48.266Z"
   },
   {
    "duration": 124,
    "start_time": "2022-06-06T13:40:48.293Z"
   },
   {
    "duration": 43,
    "start_time": "2022-06-06T13:40:48.418Z"
   },
   {
    "duration": 668,
    "start_time": "2022-06-06T13:40:48.463Z"
   },
   {
    "duration": 11,
    "start_time": "2022-06-06T13:40:49.132Z"
   },
   {
    "duration": 26,
    "start_time": "2022-06-06T13:40:49.145Z"
   },
   {
    "duration": 31,
    "start_time": "2022-06-06T13:40:49.172Z"
   },
   {
    "duration": 11,
    "start_time": "2022-06-06T13:40:49.205Z"
   },
   {
    "duration": 16,
    "start_time": "2022-06-06T13:40:49.217Z"
   },
   {
    "duration": 13,
    "start_time": "2022-06-06T13:40:49.234Z"
   },
   {
    "duration": 18,
    "start_time": "2022-06-06T13:40:49.249Z"
   },
   {
    "duration": 14,
    "start_time": "2022-06-06T13:40:49.268Z"
   },
   {
    "duration": 8,
    "start_time": "2022-06-06T13:40:49.283Z"
   },
   {
    "duration": 8,
    "start_time": "2022-06-06T13:40:49.293Z"
   },
   {
    "duration": 96,
    "start_time": "2022-06-06T13:41:23.753Z"
   },
   {
    "duration": 4,
    "start_time": "2022-06-06T13:42:11.960Z"
   },
   {
    "duration": 16,
    "start_time": "2022-06-06T13:43:31.961Z"
   },
   {
    "duration": 9,
    "start_time": "2022-06-06T13:43:33.035Z"
   },
   {
    "duration": 17,
    "start_time": "2022-06-06T13:43:58.137Z"
   },
   {
    "duration": 4,
    "start_time": "2022-06-06T13:45:30.924Z"
   },
   {
    "duration": 104,
    "start_time": "2022-06-06T13:48:32.330Z"
   },
   {
    "duration": 4,
    "start_time": "2022-06-06T13:48:54.959Z"
   },
   {
    "duration": 8,
    "start_time": "2022-06-06T13:49:18.752Z"
   },
   {
    "duration": 101,
    "start_time": "2022-06-06T13:49:20.667Z"
   },
   {
    "duration": 4,
    "start_time": "2022-06-06T13:49:45.423Z"
   },
   {
    "duration": 9,
    "start_time": "2022-06-06T13:49:46.851Z"
   },
   {
    "duration": 23,
    "start_time": "2022-06-06T13:49:52.250Z"
   },
   {
    "duration": 54,
    "start_time": "2022-06-06T13:49:56.581Z"
   },
   {
    "duration": 51,
    "start_time": "2022-06-06T13:50:30.195Z"
   },
   {
    "duration": 13,
    "start_time": "2022-06-06T13:51:53.251Z"
   },
   {
    "duration": 10404,
    "start_time": "2022-06-06T13:54:55.357Z"
   },
   {
    "duration": 33,
    "start_time": "2022-06-06T13:55:13.699Z"
   },
   {
    "duration": 11,
    "start_time": "2022-06-06T13:55:15.067Z"
   },
   {
    "duration": 36,
    "start_time": "2022-06-06T14:00:03.661Z"
   },
   {
    "duration": 4,
    "start_time": "2022-06-06T14:00:18.110Z"
   },
   {
    "duration": 3,
    "start_time": "2022-06-06T14:00:20.195Z"
   },
   {
    "duration": 3,
    "start_time": "2022-06-06T14:00:33.536Z"
   },
   {
    "duration": 59,
    "start_time": "2022-06-06T14:00:33.541Z"
   },
   {
    "duration": 72,
    "start_time": "2022-06-06T14:00:33.602Z"
   },
   {
    "duration": 498,
    "start_time": "2022-06-06T14:00:33.676Z"
   },
   {
    "duration": 29,
    "start_time": "2022-06-06T14:00:34.176Z"
   },
   {
    "duration": 9,
    "start_time": "2022-06-06T14:00:34.206Z"
   },
   {
    "duration": 39,
    "start_time": "2022-06-06T14:00:34.217Z"
   },
   {
    "duration": 72,
    "start_time": "2022-06-06T14:00:34.258Z"
   },
   {
    "duration": 10,
    "start_time": "2022-06-06T14:00:34.332Z"
   },
   {
    "duration": 21,
    "start_time": "2022-06-06T14:00:34.343Z"
   },
   {
    "duration": 250,
    "start_time": "2022-06-06T14:00:34.367Z"
   },
   {
    "duration": 113,
    "start_time": "2022-06-06T14:00:34.619Z"
   },
   {
    "duration": 35,
    "start_time": "2022-06-06T14:00:34.733Z"
   },
   {
    "duration": 133,
    "start_time": "2022-06-06T14:00:34.769Z"
   },
   {
    "duration": 4,
    "start_time": "2022-06-06T14:00:34.904Z"
   },
   {
    "duration": 61,
    "start_time": "2022-06-06T14:00:34.910Z"
   },
   {
    "duration": 234,
    "start_time": "2022-06-06T14:00:34.973Z"
   },
   {
    "duration": 18,
    "start_time": "2022-06-06T14:00:35.209Z"
   },
   {
    "duration": 13,
    "start_time": "2022-06-06T14:00:35.229Z"
   },
   {
    "duration": 204,
    "start_time": "2022-06-06T14:00:35.243Z"
   },
   {
    "duration": 10,
    "start_time": "2022-06-06T14:00:35.449Z"
   },
   {
    "duration": 195,
    "start_time": "2022-06-06T14:00:35.461Z"
   },
   {
    "duration": 4,
    "start_time": "2022-06-06T14:00:35.657Z"
   },
   {
    "duration": 40,
    "start_time": "2022-06-06T14:00:35.662Z"
   },
   {
    "duration": 31,
    "start_time": "2022-06-06T14:00:35.705Z"
   },
   {
    "duration": 33,
    "start_time": "2022-06-06T14:00:35.738Z"
   },
   {
    "duration": 20,
    "start_time": "2022-06-06T14:00:35.773Z"
   },
   {
    "duration": 60,
    "start_time": "2022-06-06T14:00:35.794Z"
   },
   {
    "duration": 10115,
    "start_time": "2022-06-06T14:00:35.857Z"
   },
   {
    "duration": 19,
    "start_time": "2022-06-06T14:00:45.974Z"
   },
   {
    "duration": 17,
    "start_time": "2022-06-06T14:00:45.995Z"
   },
   {
    "duration": 107,
    "start_time": "2022-06-06T14:00:46.013Z"
   },
   {
    "duration": 30,
    "start_time": "2022-06-06T14:00:46.121Z"
   },
   {
    "duration": 12,
    "start_time": "2022-06-06T14:00:46.152Z"
   },
   {
    "duration": 19,
    "start_time": "2022-06-06T14:00:46.165Z"
   },
   {
    "duration": 75,
    "start_time": "2022-06-06T14:00:46.185Z"
   },
   {
    "duration": 22,
    "start_time": "2022-06-06T14:00:46.261Z"
   },
   {
    "duration": 11,
    "start_time": "2022-06-06T14:00:46.284Z"
   },
   {
    "duration": 24,
    "start_time": "2022-06-06T14:00:46.297Z"
   },
   {
    "duration": 12,
    "start_time": "2022-06-06T14:00:46.322Z"
   },
   {
    "duration": 29,
    "start_time": "2022-06-06T14:00:46.335Z"
   },
   {
    "duration": 38,
    "start_time": "2022-06-06T14:00:46.365Z"
   },
   {
    "duration": 37,
    "start_time": "2022-06-06T14:00:46.404Z"
   },
   {
    "duration": 24,
    "start_time": "2022-06-06T14:00:46.443Z"
   },
   {
    "duration": 53,
    "start_time": "2022-06-06T14:00:46.468Z"
   },
   {
    "duration": 14,
    "start_time": "2022-06-06T14:00:46.523Z"
   },
   {
    "duration": 10,
    "start_time": "2022-06-06T14:00:46.538Z"
   },
   {
    "duration": 29,
    "start_time": "2022-06-06T14:00:46.549Z"
   },
   {
    "duration": 32,
    "start_time": "2022-06-06T14:00:46.580Z"
   },
   {
    "duration": 138,
    "start_time": "2022-06-06T14:00:46.614Z"
   },
   {
    "duration": 26,
    "start_time": "2022-06-06T14:00:46.753Z"
   },
   {
    "duration": 628,
    "start_time": "2022-06-06T14:00:46.780Z"
   },
   {
    "duration": 18,
    "start_time": "2022-06-06T14:00:47.409Z"
   },
   {
    "duration": 31,
    "start_time": "2022-06-06T14:00:47.429Z"
   },
   {
    "duration": 28,
    "start_time": "2022-06-06T14:00:47.461Z"
   },
   {
    "duration": 31,
    "start_time": "2022-06-06T14:00:47.491Z"
   },
   {
    "duration": 33,
    "start_time": "2022-06-06T14:00:47.524Z"
   },
   {
    "duration": 40,
    "start_time": "2022-06-06T14:00:47.559Z"
   },
   {
    "duration": 24,
    "start_time": "2022-06-06T14:00:47.601Z"
   },
   {
    "duration": 44,
    "start_time": "2022-06-06T14:00:47.627Z"
   },
   {
    "duration": 33,
    "start_time": "2022-06-06T14:00:47.672Z"
   },
   {
    "duration": 37,
    "start_time": "2022-06-06T14:00:47.707Z"
   },
   {
    "duration": 669,
    "start_time": "2022-06-06T14:01:48.928Z"
   },
   {
    "duration": 10,
    "start_time": "2022-06-06T14:02:06.212Z"
   },
   {
    "duration": 349,
    "start_time": "2022-06-06T14:02:08.461Z"
   },
   {
    "duration": 7,
    "start_time": "2022-06-06T14:02:46.522Z"
   },
   {
    "duration": 3,
    "start_time": "2022-06-06T14:02:48.845Z"
   },
   {
    "duration": 6,
    "start_time": "2022-06-06T14:02:49.405Z"
   },
   {
    "duration": 4,
    "start_time": "2022-06-06T14:02:58.734Z"
   },
   {
    "duration": 37,
    "start_time": "2022-06-06T14:02:58.740Z"
   },
   {
    "duration": 69,
    "start_time": "2022-06-06T14:02:58.779Z"
   },
   {
    "duration": 428,
    "start_time": "2022-06-06T14:02:58.850Z"
   },
   {
    "duration": 29,
    "start_time": "2022-06-06T14:02:59.280Z"
   },
   {
    "duration": 10,
    "start_time": "2022-06-06T14:02:59.310Z"
   },
   {
    "duration": 16,
    "start_time": "2022-06-06T14:02:59.326Z"
   },
   {
    "duration": 55,
    "start_time": "2022-06-06T14:02:59.344Z"
   },
   {
    "duration": 26,
    "start_time": "2022-06-06T14:02:59.400Z"
   },
   {
    "duration": 10,
    "start_time": "2022-06-06T14:02:59.429Z"
   },
   {
    "duration": 241,
    "start_time": "2022-06-06T14:02:59.441Z"
   },
   {
    "duration": 95,
    "start_time": "2022-06-06T14:02:59.684Z"
   },
   {
    "duration": 46,
    "start_time": "2022-06-06T14:02:59.781Z"
   },
   {
    "duration": 120,
    "start_time": "2022-06-06T14:02:59.829Z"
   },
   {
    "duration": 5,
    "start_time": "2022-06-06T14:02:59.951Z"
   },
   {
    "duration": 37,
    "start_time": "2022-06-06T14:02:59.958Z"
   },
   {
    "duration": 244,
    "start_time": "2022-06-06T14:02:59.996Z"
   },
   {
    "duration": 10,
    "start_time": "2022-06-06T14:03:00.241Z"
   },
   {
    "duration": 12,
    "start_time": "2022-06-06T14:03:00.252Z"
   },
   {
    "duration": 195,
    "start_time": "2022-06-06T14:03:00.265Z"
   },
   {
    "duration": 9,
    "start_time": "2022-06-06T14:03:00.462Z"
   },
   {
    "duration": 204,
    "start_time": "2022-06-06T14:03:00.472Z"
   },
   {
    "duration": 3,
    "start_time": "2022-06-06T14:03:00.677Z"
   },
   {
    "duration": 16,
    "start_time": "2022-06-06T14:03:00.682Z"
   },
   {
    "duration": 30,
    "start_time": "2022-06-06T14:03:00.700Z"
   },
   {
    "duration": 16,
    "start_time": "2022-06-06T14:03:00.731Z"
   },
   {
    "duration": 13,
    "start_time": "2022-06-06T14:03:00.749Z"
   },
   {
    "duration": 53,
    "start_time": "2022-06-06T14:03:00.766Z"
   },
   {
    "duration": 9949,
    "start_time": "2022-06-06T14:03:00.821Z"
   },
   {
    "duration": 21,
    "start_time": "2022-06-06T14:03:10.772Z"
   },
   {
    "duration": 24,
    "start_time": "2022-06-06T14:03:10.795Z"
   },
   {
    "duration": 101,
    "start_time": "2022-06-06T14:03:10.821Z"
   },
   {
    "duration": 26,
    "start_time": "2022-06-06T14:03:10.924Z"
   },
   {
    "duration": 5,
    "start_time": "2022-06-06T14:03:10.951Z"
   },
   {
    "duration": 15,
    "start_time": "2022-06-06T14:03:10.958Z"
   },
   {
    "duration": 52,
    "start_time": "2022-06-06T14:03:10.975Z"
   },
   {
    "duration": 25,
    "start_time": "2022-06-06T14:03:11.029Z"
   },
   {
    "duration": 13,
    "start_time": "2022-06-06T14:03:11.056Z"
   },
   {
    "duration": 27,
    "start_time": "2022-06-06T14:03:11.070Z"
   },
   {
    "duration": 15,
    "start_time": "2022-06-06T14:03:11.099Z"
   },
   {
    "duration": 17,
    "start_time": "2022-06-06T14:03:11.116Z"
   },
   {
    "duration": 33,
    "start_time": "2022-06-06T14:03:11.135Z"
   },
   {
    "duration": 27,
    "start_time": "2022-06-06T14:03:11.169Z"
   },
   {
    "duration": 20,
    "start_time": "2022-06-06T14:03:11.198Z"
   },
   {
    "duration": 43,
    "start_time": "2022-06-06T14:03:11.220Z"
   },
   {
    "duration": 21,
    "start_time": "2022-06-06T14:03:11.264Z"
   },
   {
    "duration": 12,
    "start_time": "2022-06-06T14:03:11.287Z"
   },
   {
    "duration": 40,
    "start_time": "2022-06-06T14:03:11.300Z"
   },
   {
    "duration": 39,
    "start_time": "2022-06-06T14:03:11.341Z"
   },
   {
    "duration": 143,
    "start_time": "2022-06-06T14:03:11.381Z"
   },
   {
    "duration": 30,
    "start_time": "2022-06-06T14:03:11.526Z"
   },
   {
    "duration": 709,
    "start_time": "2022-06-06T14:03:11.558Z"
   },
   {
    "duration": 10,
    "start_time": "2022-06-06T14:03:12.268Z"
   },
   {
    "duration": 22,
    "start_time": "2022-06-06T14:03:12.279Z"
   },
   {
    "duration": 25,
    "start_time": "2022-06-06T14:03:12.302Z"
   },
   {
    "duration": 10,
    "start_time": "2022-06-06T14:03:12.329Z"
   },
   {
    "duration": 15,
    "start_time": "2022-06-06T14:03:12.340Z"
   },
   {
    "duration": 16,
    "start_time": "2022-06-06T14:03:12.356Z"
   },
   {
    "duration": 26,
    "start_time": "2022-06-06T14:03:12.373Z"
   },
   {
    "duration": 16,
    "start_time": "2022-06-06T14:03:12.400Z"
   },
   {
    "duration": 8,
    "start_time": "2022-06-06T14:03:12.418Z"
   },
   {
    "duration": 11,
    "start_time": "2022-06-06T14:03:12.428Z"
   },
   {
    "duration": 55,
    "start_time": "2022-06-06T14:36:32.638Z"
   },
   {
    "duration": 9,
    "start_time": "2022-06-06T14:38:18.542Z"
   },
   {
    "duration": 50,
    "start_time": "2022-06-06T14:39:04.604Z"
   },
   {
    "duration": 48,
    "start_time": "2022-06-06T14:39:38.148Z"
   },
   {
    "duration": 9,
    "start_time": "2022-06-06T14:39:39.997Z"
   },
   {
    "duration": 4,
    "start_time": "2022-06-06T14:39:49.482Z"
   },
   {
    "duration": 4,
    "start_time": "2022-06-06T14:39:55.363Z"
   },
   {
    "duration": 4,
    "start_time": "2022-06-06T14:39:57.741Z"
   },
   {
    "duration": 15,
    "start_time": "2022-06-06T14:42:45.589Z"
   },
   {
    "duration": 11,
    "start_time": "2022-06-06T14:43:45.640Z"
   },
   {
    "duration": 4,
    "start_time": "2022-06-06T14:45:46.859Z"
   },
   {
    "duration": 4,
    "start_time": "2022-06-06T14:45:51.214Z"
   },
   {
    "duration": 5,
    "start_time": "2022-06-06T14:47:01.610Z"
   },
   {
    "duration": 3,
    "start_time": "2022-06-06T14:47:02.686Z"
   },
   {
    "duration": 4,
    "start_time": "2022-06-06T14:47:03.527Z"
   },
   {
    "duration": 3,
    "start_time": "2022-06-06T14:47:30.398Z"
   },
   {
    "duration": 11,
    "start_time": "2022-06-06T14:49:42.556Z"
   },
   {
    "duration": 3,
    "start_time": "2022-06-06T14:49:44.822Z"
   },
   {
    "duration": 4,
    "start_time": "2022-06-06T14:49:45.914Z"
   },
   {
    "duration": 4,
    "start_time": "2022-06-06T14:49:46.442Z"
   },
   {
    "duration": 4,
    "start_time": "2022-06-06T14:50:58.399Z"
   },
   {
    "duration": 3,
    "start_time": "2022-06-06T14:50:59.253Z"
   },
   {
    "duration": 4,
    "start_time": "2022-06-06T14:50:59.999Z"
   },
   {
    "duration": 15,
    "start_time": "2022-06-06T14:52:16.404Z"
   },
   {
    "duration": 4,
    "start_time": "2022-06-06T14:52:18.241Z"
   },
   {
    "duration": 4,
    "start_time": "2022-06-06T14:52:20.118Z"
   },
   {
    "duration": 4,
    "start_time": "2022-06-06T14:52:21.224Z"
   },
   {
    "duration": 10,
    "start_time": "2022-06-06T14:52:34.728Z"
   },
   {
    "duration": 4,
    "start_time": "2022-06-06T14:52:36.440Z"
   },
   {
    "duration": 3,
    "start_time": "2022-06-06T14:52:37.232Z"
   },
   {
    "duration": 3,
    "start_time": "2022-06-06T14:52:37.900Z"
   },
   {
    "duration": 3,
    "start_time": "2022-06-06T14:57:36.396Z"
   },
   {
    "duration": 3,
    "start_time": "2022-06-06T15:04:02.865Z"
   },
   {
    "duration": 3,
    "start_time": "2022-06-06T15:04:04.193Z"
   },
   {
    "duration": 6,
    "start_time": "2022-06-06T15:04:06.613Z"
   },
   {
    "duration": 3,
    "start_time": "2022-06-06T15:04:19.697Z"
   },
   {
    "duration": 3,
    "start_time": "2022-06-06T15:04:21.964Z"
   },
   {
    "duration": 6,
    "start_time": "2022-06-06T15:04:22.625Z"
   },
   {
    "duration": 3,
    "start_time": "2022-06-06T15:26:26.861Z"
   },
   {
    "duration": 42,
    "start_time": "2022-06-06T15:26:26.866Z"
   },
   {
    "duration": 74,
    "start_time": "2022-06-06T15:26:26.910Z"
   },
   {
    "duration": 490,
    "start_time": "2022-06-06T15:26:26.986Z"
   },
   {
    "duration": 30,
    "start_time": "2022-06-06T15:26:27.478Z"
   },
   {
    "duration": 9,
    "start_time": "2022-06-06T15:26:27.510Z"
   },
   {
    "duration": 30,
    "start_time": "2022-06-06T15:26:27.520Z"
   },
   {
    "duration": 56,
    "start_time": "2022-06-06T15:26:27.552Z"
   },
   {
    "duration": 18,
    "start_time": "2022-06-06T15:26:27.610Z"
   },
   {
    "duration": 19,
    "start_time": "2022-06-06T15:26:27.629Z"
   },
   {
    "duration": 237,
    "start_time": "2022-06-06T15:26:27.650Z"
   },
   {
    "duration": 98,
    "start_time": "2022-06-06T15:26:27.889Z"
   },
   {
    "duration": 44,
    "start_time": "2022-06-06T15:26:27.988Z"
   },
   {
    "duration": 113,
    "start_time": "2022-06-06T15:26:28.034Z"
   },
   {
    "duration": 5,
    "start_time": "2022-06-06T15:26:28.148Z"
   },
   {
    "duration": 41,
    "start_time": "2022-06-06T15:26:28.154Z"
   },
   {
    "duration": 211,
    "start_time": "2022-06-06T15:26:28.196Z"
   },
   {
    "duration": 9,
    "start_time": "2022-06-06T15:26:28.408Z"
   },
   {
    "duration": 8,
    "start_time": "2022-06-06T15:26:28.426Z"
   },
   {
    "duration": 193,
    "start_time": "2022-06-06T15:26:28.435Z"
   },
   {
    "duration": 9,
    "start_time": "2022-06-06T15:26:28.630Z"
   },
   {
    "duration": 157,
    "start_time": "2022-06-06T15:26:28.641Z"
   },
   {
    "duration": 4,
    "start_time": "2022-06-06T15:26:28.799Z"
   },
   {
    "duration": 12,
    "start_time": "2022-06-06T15:26:28.806Z"
   },
   {
    "duration": 18,
    "start_time": "2022-06-06T15:26:28.827Z"
   },
   {
    "duration": 4,
    "start_time": "2022-06-06T15:26:28.846Z"
   },
   {
    "duration": 13,
    "start_time": "2022-06-06T15:26:28.852Z"
   },
   {
    "duration": 36,
    "start_time": "2022-06-06T15:26:28.867Z"
   },
   {
    "duration": 9642,
    "start_time": "2022-06-06T15:26:28.905Z"
   },
   {
    "duration": 19,
    "start_time": "2022-06-06T15:26:38.549Z"
   },
   {
    "duration": 10,
    "start_time": "2022-06-06T15:26:38.570Z"
   },
   {
    "duration": 98,
    "start_time": "2022-06-06T15:26:38.581Z"
   },
   {
    "duration": 51,
    "start_time": "2022-06-06T15:26:38.681Z"
   },
   {
    "duration": 3,
    "start_time": "2022-06-06T15:26:38.734Z"
   },
   {
    "duration": 6,
    "start_time": "2022-06-06T15:26:38.739Z"
   },
   {
    "duration": 11,
    "start_time": "2022-06-06T15:26:38.747Z"
   },
   {
    "duration": 46,
    "start_time": "2022-06-06T15:26:38.759Z"
   },
   {
    "duration": 30,
    "start_time": "2022-06-06T15:26:38.807Z"
   },
   {
    "duration": 6,
    "start_time": "2022-06-06T15:26:38.838Z"
   },
   {
    "duration": 12,
    "start_time": "2022-06-06T15:26:38.845Z"
   },
   {
    "duration": 6,
    "start_time": "2022-06-06T15:26:38.859Z"
   },
   {
    "duration": 4,
    "start_time": "2022-06-06T15:26:38.866Z"
   },
   {
    "duration": 18,
    "start_time": "2022-06-06T15:26:38.872Z"
   },
   {
    "duration": 11,
    "start_time": "2022-06-06T15:26:38.892Z"
   },
   {
    "duration": 24,
    "start_time": "2022-06-06T15:26:38.905Z"
   },
   {
    "duration": 29,
    "start_time": "2022-06-06T15:26:38.930Z"
   },
   {
    "duration": 12,
    "start_time": "2022-06-06T15:26:38.961Z"
   },
   {
    "duration": 6,
    "start_time": "2022-06-06T15:26:38.975Z"
   },
   {
    "duration": 17,
    "start_time": "2022-06-06T15:26:38.982Z"
   },
   {
    "duration": 10,
    "start_time": "2022-06-06T15:26:39.000Z"
   },
   {
    "duration": 104,
    "start_time": "2022-06-06T15:26:39.026Z"
   },
   {
    "duration": 24,
    "start_time": "2022-06-06T15:26:39.131Z"
   },
   {
    "duration": 600,
    "start_time": "2022-06-06T15:26:39.156Z"
   },
   {
    "duration": 10,
    "start_time": "2022-06-06T15:26:39.757Z"
   },
   {
    "duration": 27,
    "start_time": "2022-06-06T15:26:39.768Z"
   },
   {
    "duration": 12,
    "start_time": "2022-06-06T15:26:39.796Z"
   },
   {
    "duration": 17,
    "start_time": "2022-06-06T15:26:39.810Z"
   },
   {
    "duration": 11,
    "start_time": "2022-06-06T15:26:39.829Z"
   },
   {
    "duration": 11,
    "start_time": "2022-06-06T15:26:39.841Z"
   },
   {
    "duration": 6,
    "start_time": "2022-06-06T15:26:39.854Z"
   },
   {
    "duration": 5,
    "start_time": "2022-06-06T15:26:39.861Z"
   },
   {
    "duration": 6,
    "start_time": "2022-06-06T15:26:39.868Z"
   },
   {
    "duration": 13,
    "start_time": "2022-06-06T15:26:39.875Z"
   },
   {
    "duration": 37,
    "start_time": "2022-06-06T15:26:39.890Z"
   },
   {
    "duration": 4,
    "start_time": "2022-06-06T15:26:39.928Z"
   },
   {
    "duration": 10,
    "start_time": "2022-06-06T15:26:39.934Z"
   },
   {
    "duration": 6,
    "start_time": "2022-06-06T15:26:39.945Z"
   },
   {
    "duration": 10,
    "start_time": "2022-06-06T15:26:39.952Z"
   },
   {
    "duration": 5,
    "start_time": "2022-06-06T15:26:39.966Z"
   },
   {
    "duration": 14,
    "start_time": "2022-06-06T15:26:39.972Z"
   },
   {
    "duration": 95,
    "start_time": "2022-06-06T15:29:43.669Z"
   },
   {
    "duration": 7,
    "start_time": "2022-06-06T15:29:50.981Z"
   },
   {
    "duration": 8,
    "start_time": "2022-06-06T15:30:11.147Z"
   },
   {
    "duration": 16,
    "start_time": "2022-06-06T15:30:28.505Z"
   },
   {
    "duration": 6,
    "start_time": "2022-06-06T15:31:25.142Z"
   },
   {
    "duration": 3,
    "start_time": "2022-06-06T15:40:16.096Z"
   },
   {
    "duration": 31,
    "start_time": "2022-06-06T15:40:17.981Z"
   },
   {
    "duration": 66,
    "start_time": "2022-06-06T15:40:18.942Z"
   },
   {
    "duration": 473,
    "start_time": "2022-06-06T15:40:20.338Z"
   },
   {
    "duration": 29,
    "start_time": "2022-06-06T15:40:21.312Z"
   },
   {
    "duration": 10,
    "start_time": "2022-06-06T15:40:23.940Z"
   },
   {
    "duration": 17,
    "start_time": "2022-06-06T15:40:24.712Z"
   },
   {
    "duration": 55,
    "start_time": "2022-06-06T15:40:25.254Z"
   },
   {
    "duration": 11,
    "start_time": "2022-06-06T15:40:26.015Z"
   },
   {
    "duration": 10,
    "start_time": "2022-06-06T15:40:29.211Z"
   },
   {
    "duration": 240,
    "start_time": "2022-06-06T15:40:34.981Z"
   },
   {
    "duration": 103,
    "start_time": "2022-06-06T15:40:35.765Z"
   },
   {
    "duration": 35,
    "start_time": "2022-06-06T15:40:37.244Z"
   },
   {
    "duration": 120,
    "start_time": "2022-06-06T15:40:44.680Z"
   },
   {
    "duration": 6,
    "start_time": "2022-06-06T15:40:46.164Z"
   },
   {
    "duration": 32,
    "start_time": "2022-06-06T15:40:46.614Z"
   },
   {
    "duration": 227,
    "start_time": "2022-06-06T15:40:47.007Z"
   },
   {
    "duration": 9,
    "start_time": "2022-06-06T15:40:47.645Z"
   },
   {
    "duration": 11,
    "start_time": "2022-06-06T15:40:49.541Z"
   },
   {
    "duration": 217,
    "start_time": "2022-06-06T15:40:50.403Z"
   },
   {
    "duration": 10,
    "start_time": "2022-06-06T15:40:54.639Z"
   },
   {
    "duration": 177,
    "start_time": "2022-06-06T15:40:55.334Z"
   },
   {
    "duration": 4,
    "start_time": "2022-06-06T15:41:03.199Z"
   },
   {
    "duration": 8,
    "start_time": "2022-06-06T15:41:03.899Z"
   },
   {
    "duration": 19,
    "start_time": "2022-06-06T15:41:06.281Z"
   },
   {
    "duration": 4,
    "start_time": "2022-06-06T15:41:06.903Z"
   },
   {
    "duration": 9,
    "start_time": "2022-06-06T15:41:21.669Z"
   },
   {
    "duration": 36,
    "start_time": "2022-06-06T15:41:22.897Z"
   },
   {
    "duration": 9960,
    "start_time": "2022-06-06T15:41:30.935Z"
   },
   {
    "duration": 23,
    "start_time": "2022-06-06T15:42:14.254Z"
   },
   {
    "duration": 8,
    "start_time": "2022-06-06T15:42:14.807Z"
   },
   {
    "duration": 72,
    "start_time": "2022-06-06T15:42:15.907Z"
   },
   {
    "duration": 48,
    "start_time": "2022-06-06T15:42:35.646Z"
   },
   {
    "duration": 4,
    "start_time": "2022-06-06T15:47:00.742Z"
   },
   {
    "duration": 7,
    "start_time": "2022-06-06T15:47:01.568Z"
   },
   {
    "duration": 3,
    "start_time": "2022-06-06T15:48:15.181Z"
   },
   {
    "duration": 41,
    "start_time": "2022-06-06T15:48:15.186Z"
   },
   {
    "duration": 69,
    "start_time": "2022-06-06T15:48:15.229Z"
   },
   {
    "duration": 448,
    "start_time": "2022-06-06T15:48:15.299Z"
   },
   {
    "duration": 33,
    "start_time": "2022-06-06T15:48:15.749Z"
   },
   {
    "duration": 9,
    "start_time": "2022-06-06T15:48:15.784Z"
   },
   {
    "duration": 23,
    "start_time": "2022-06-06T15:48:15.794Z"
   },
   {
    "duration": 88,
    "start_time": "2022-06-06T15:48:15.819Z"
   },
   {
    "duration": 11,
    "start_time": "2022-06-06T15:48:15.909Z"
   },
   {
    "duration": 10,
    "start_time": "2022-06-06T15:48:15.926Z"
   },
   {
    "duration": 240,
    "start_time": "2022-06-06T15:48:15.937Z"
   },
   {
    "duration": 98,
    "start_time": "2022-06-06T15:48:16.179Z"
   },
   {
    "duration": 35,
    "start_time": "2022-06-06T15:48:16.279Z"
   },
   {
    "duration": 118,
    "start_time": "2022-06-06T15:48:16.327Z"
   },
   {
    "duration": 6,
    "start_time": "2022-06-06T15:48:16.447Z"
   },
   {
    "duration": 45,
    "start_time": "2022-06-06T15:48:16.455Z"
   },
   {
    "duration": 244,
    "start_time": "2022-06-06T15:48:16.501Z"
   },
   {
    "duration": 10,
    "start_time": "2022-06-06T15:48:16.747Z"
   },
   {
    "duration": 20,
    "start_time": "2022-06-06T15:48:16.759Z"
   },
   {
    "duration": 204,
    "start_time": "2022-06-06T15:48:16.780Z"
   },
   {
    "duration": 10,
    "start_time": "2022-06-06T15:48:16.985Z"
   },
   {
    "duration": 182,
    "start_time": "2022-06-06T15:48:16.997Z"
   },
   {
    "duration": 3,
    "start_time": "2022-06-06T15:48:17.181Z"
   },
   {
    "duration": 21,
    "start_time": "2022-06-06T15:48:17.186Z"
   },
   {
    "duration": 28,
    "start_time": "2022-06-06T15:48:17.209Z"
   },
   {
    "duration": 9,
    "start_time": "2022-06-06T15:48:17.239Z"
   },
   {
    "duration": 32,
    "start_time": "2022-06-06T15:48:17.249Z"
   },
   {
    "duration": 45,
    "start_time": "2022-06-06T15:48:17.283Z"
   },
   {
    "duration": 9703,
    "start_time": "2022-06-06T15:48:17.329Z"
   },
   {
    "duration": 19,
    "start_time": "2022-06-06T15:48:27.034Z"
   },
   {
    "duration": 8,
    "start_time": "2022-06-06T15:48:27.054Z"
   },
   {
    "duration": 84,
    "start_time": "2022-06-06T15:48:27.064Z"
   },
   {
    "duration": 43,
    "start_time": "2022-06-06T15:48:27.150Z"
   },
   {
    "duration": 7,
    "start_time": "2022-06-06T15:48:27.195Z"
   },
   {
    "duration": 23,
    "start_time": "2022-06-06T15:48:27.204Z"
   },
   {
    "duration": 4,
    "start_time": "2022-06-06T15:48:27.229Z"
   },
   {
    "duration": 51,
    "start_time": "2022-06-06T15:48:27.238Z"
   },
   {
    "duration": 15,
    "start_time": "2022-06-06T15:48:27.290Z"
   },
   {
    "duration": 6,
    "start_time": "2022-06-06T15:48:27.326Z"
   },
   {
    "duration": 10,
    "start_time": "2022-06-06T15:48:27.333Z"
   },
   {
    "duration": 6,
    "start_time": "2022-06-06T15:48:27.345Z"
   },
   {
    "duration": 9,
    "start_time": "2022-06-06T15:48:27.352Z"
   },
   {
    "duration": 12,
    "start_time": "2022-06-06T15:48:27.362Z"
   },
   {
    "duration": 8,
    "start_time": "2022-06-06T15:48:27.376Z"
   },
   {
    "duration": 14,
    "start_time": "2022-06-06T15:48:27.385Z"
   },
   {
    "duration": 44,
    "start_time": "2022-06-06T15:48:27.401Z"
   },
   {
    "duration": 13,
    "start_time": "2022-06-06T15:48:27.447Z"
   },
   {
    "duration": 4,
    "start_time": "2022-06-06T15:48:27.461Z"
   },
   {
    "duration": 13,
    "start_time": "2022-06-06T15:48:27.467Z"
   },
   {
    "duration": 15,
    "start_time": "2022-06-06T15:48:27.482Z"
   },
   {
    "duration": 125,
    "start_time": "2022-06-06T15:48:27.499Z"
   },
   {
    "duration": 29,
    "start_time": "2022-06-06T15:48:27.626Z"
   },
   {
    "duration": 625,
    "start_time": "2022-06-06T15:48:27.657Z"
   },
   {
    "duration": 10,
    "start_time": "2022-06-06T15:48:28.284Z"
   },
   {
    "duration": 16,
    "start_time": "2022-06-06T15:48:28.295Z"
   },
   {
    "duration": 24,
    "start_time": "2022-06-06T15:48:28.312Z"
   },
   {
    "duration": 10,
    "start_time": "2022-06-06T15:48:28.337Z"
   },
   {
    "duration": 12,
    "start_time": "2022-06-06T15:48:28.349Z"
   },
   {
    "duration": 12,
    "start_time": "2022-06-06T15:48:28.362Z"
   },
   {
    "duration": 7,
    "start_time": "2022-06-06T15:48:28.376Z"
   },
   {
    "duration": 10,
    "start_time": "2022-06-06T15:48:28.384Z"
   },
   {
    "duration": 31,
    "start_time": "2022-06-06T15:48:28.396Z"
   },
   {
    "duration": 17,
    "start_time": "2022-06-06T15:48:28.429Z"
   },
   {
    "duration": 9,
    "start_time": "2022-06-06T15:48:28.448Z"
   },
   {
    "duration": 10,
    "start_time": "2022-06-06T15:48:28.458Z"
   },
   {
    "duration": 8,
    "start_time": "2022-06-06T15:48:28.469Z"
   },
   {
    "duration": 6,
    "start_time": "2022-06-06T15:48:28.479Z"
   },
   {
    "duration": 7,
    "start_time": "2022-06-06T15:48:28.487Z"
   },
   {
    "duration": 9,
    "start_time": "2022-06-06T15:48:28.495Z"
   },
   {
    "duration": 894,
    "start_time": "2022-06-07T14:50:37.605Z"
   },
   {
    "duration": 89,
    "start_time": "2022-06-07T14:50:38.500Z"
   },
   {
    "duration": 254,
    "start_time": "2022-06-07T14:50:38.590Z"
   },
   {
    "duration": 1385,
    "start_time": "2022-06-07T14:50:38.845Z"
   },
   {
    "duration": 163,
    "start_time": "2022-06-07T14:50:40.232Z"
   },
   {
    "duration": 12,
    "start_time": "2022-06-07T14:50:40.397Z"
   },
   {
    "duration": 25,
    "start_time": "2022-06-07T14:50:40.411Z"
   },
   {
    "duration": 59,
    "start_time": "2022-06-07T14:50:40.438Z"
   },
   {
    "duration": 11,
    "start_time": "2022-06-07T14:50:40.499Z"
   },
   {
    "duration": 30,
    "start_time": "2022-06-07T14:50:40.512Z"
   },
   {
    "duration": 298,
    "start_time": "2022-06-07T14:50:40.544Z"
   },
   {
    "duration": 159,
    "start_time": "2022-06-07T14:50:40.844Z"
   },
   {
    "duration": 40,
    "start_time": "2022-06-07T14:50:41.005Z"
   },
   {
    "duration": 148,
    "start_time": "2022-06-07T14:50:41.049Z"
   },
   {
    "duration": 5,
    "start_time": "2022-06-07T14:50:41.198Z"
   },
   {
    "duration": 45,
    "start_time": "2022-06-07T14:50:41.205Z"
   },
   {
    "duration": 260,
    "start_time": "2022-06-07T14:50:41.252Z"
   },
   {
    "duration": 10,
    "start_time": "2022-06-07T14:50:41.514Z"
   },
   {
    "duration": 19,
    "start_time": "2022-06-07T14:50:41.525Z"
   },
   {
    "duration": 201,
    "start_time": "2022-06-07T14:50:41.546Z"
   },
   {
    "duration": 10,
    "start_time": "2022-06-07T14:50:41.749Z"
   },
   {
    "duration": 202,
    "start_time": "2022-06-07T14:50:41.760Z"
   },
   {
    "duration": 5,
    "start_time": "2022-06-07T14:50:41.964Z"
   },
   {
    "duration": 18,
    "start_time": "2022-06-07T14:50:41.971Z"
   },
   {
    "duration": 27,
    "start_time": "2022-06-07T14:50:41.991Z"
   },
   {
    "duration": 29,
    "start_time": "2022-06-07T14:50:42.020Z"
   },
   {
    "duration": 13,
    "start_time": "2022-06-07T14:50:42.051Z"
   },
   {
    "duration": 46,
    "start_time": "2022-06-07T14:50:42.066Z"
   },
   {
    "duration": 10762,
    "start_time": "2022-06-07T14:50:42.114Z"
   },
   {
    "duration": 36,
    "start_time": "2022-06-07T14:50:52.878Z"
   },
   {
    "duration": 27,
    "start_time": "2022-06-07T14:50:52.916Z"
   },
   {
    "duration": 100,
    "start_time": "2022-06-07T14:50:52.945Z"
   },
   {
    "duration": 56,
    "start_time": "2022-06-07T14:50:53.047Z"
   },
   {
    "duration": 4,
    "start_time": "2022-06-07T14:50:53.104Z"
   },
   {
    "duration": 6,
    "start_time": "2022-06-07T14:50:53.110Z"
   },
   {
    "duration": 42,
    "start_time": "2022-06-07T14:50:53.117Z"
   },
   {
    "duration": 53,
    "start_time": "2022-06-07T14:50:53.161Z"
   },
   {
    "duration": 17,
    "start_time": "2022-06-07T14:50:53.215Z"
   },
   {
    "duration": 13,
    "start_time": "2022-06-07T14:50:53.233Z"
   },
   {
    "duration": 22,
    "start_time": "2022-06-07T14:50:53.248Z"
   },
   {
    "duration": 7,
    "start_time": "2022-06-07T14:50:53.273Z"
   },
   {
    "duration": 10,
    "start_time": "2022-06-07T14:50:53.281Z"
   },
   {
    "duration": 17,
    "start_time": "2022-06-07T14:50:53.292Z"
   },
   {
    "duration": 8,
    "start_time": "2022-06-07T14:50:53.311Z"
   },
   {
    "duration": 9,
    "start_time": "2022-06-07T14:50:53.321Z"
   },
   {
    "duration": 54,
    "start_time": "2022-06-07T14:50:53.331Z"
   },
   {
    "duration": 13,
    "start_time": "2022-06-07T14:50:53.387Z"
   },
   {
    "duration": 5,
    "start_time": "2022-06-07T14:50:53.402Z"
   },
   {
    "duration": 32,
    "start_time": "2022-06-07T14:50:53.409Z"
   },
   {
    "duration": 12,
    "start_time": "2022-06-07T14:50:53.443Z"
   },
   {
    "duration": 145,
    "start_time": "2022-06-07T14:50:53.457Z"
   },
   {
    "duration": 28,
    "start_time": "2022-06-07T14:50:53.603Z"
   },
   {
    "duration": 636,
    "start_time": "2022-06-07T14:50:53.643Z"
   },
   {
    "duration": 11,
    "start_time": "2022-06-07T14:50:54.281Z"
   },
   {
    "duration": 15,
    "start_time": "2022-06-07T14:50:54.293Z"
   },
   {
    "duration": 36,
    "start_time": "2022-06-07T14:50:54.310Z"
   },
   {
    "duration": 14,
    "start_time": "2022-06-07T14:50:54.348Z"
   },
   {
    "duration": 12,
    "start_time": "2022-06-07T14:50:54.364Z"
   },
   {
    "duration": 10,
    "start_time": "2022-06-07T14:50:54.378Z"
   },
   {
    "duration": 4,
    "start_time": "2022-06-07T14:50:54.390Z"
   },
   {
    "duration": 5,
    "start_time": "2022-06-07T14:50:54.396Z"
   },
   {
    "duration": 6,
    "start_time": "2022-06-07T14:50:54.402Z"
   },
   {
    "duration": 16,
    "start_time": "2022-06-07T14:50:54.441Z"
   },
   {
    "duration": 10,
    "start_time": "2022-06-07T14:50:54.459Z"
   },
   {
    "duration": 6,
    "start_time": "2022-06-07T14:50:54.471Z"
   },
   {
    "duration": 5,
    "start_time": "2022-06-07T14:50:54.479Z"
   },
   {
    "duration": 6,
    "start_time": "2022-06-07T14:50:54.486Z"
   },
   {
    "duration": 6,
    "start_time": "2022-06-07T14:50:54.493Z"
   },
   {
    "duration": 8,
    "start_time": "2022-06-07T14:50:54.501Z"
   },
   {
    "duration": 893,
    "start_time": "2022-06-07T20:06:28.207Z"
   },
   {
    "duration": 77,
    "start_time": "2022-06-07T20:06:29.102Z"
   },
   {
    "duration": 592,
    "start_time": "2022-06-07T20:06:29.181Z"
   },
   {
    "duration": 1239,
    "start_time": "2022-06-07T20:06:29.775Z"
   },
   {
    "duration": 165,
    "start_time": "2022-06-07T20:06:31.016Z"
   },
   {
    "duration": 9,
    "start_time": "2022-06-07T20:06:31.183Z"
   },
   {
    "duration": 15,
    "start_time": "2022-06-07T20:06:31.194Z"
   },
   {
    "duration": 42,
    "start_time": "2022-06-07T20:06:31.211Z"
   },
   {
    "duration": 10,
    "start_time": "2022-06-07T20:06:31.255Z"
   },
   {
    "duration": 12,
    "start_time": "2022-06-07T20:06:31.267Z"
   },
   {
    "duration": 233,
    "start_time": "2022-06-07T20:06:31.281Z"
   },
   {
    "duration": 91,
    "start_time": "2022-06-07T20:06:31.515Z"
   },
   {
    "duration": 36,
    "start_time": "2022-06-07T20:06:31.607Z"
   },
   {
    "duration": 126,
    "start_time": "2022-06-07T20:06:31.644Z"
   },
   {
    "duration": 5,
    "start_time": "2022-06-07T20:06:31.771Z"
   },
   {
    "duration": 35,
    "start_time": "2022-06-07T20:06:31.778Z"
   },
   {
    "duration": 256,
    "start_time": "2022-06-07T20:06:31.826Z"
   },
   {
    "duration": 10,
    "start_time": "2022-06-07T20:06:32.084Z"
   },
   {
    "duration": 14,
    "start_time": "2022-06-07T20:06:32.096Z"
   },
   {
    "duration": 227,
    "start_time": "2022-06-07T20:06:32.127Z"
   },
   {
    "duration": 9,
    "start_time": "2022-06-07T20:06:32.356Z"
   },
   {
    "duration": 202,
    "start_time": "2022-06-07T20:06:32.367Z"
   },
   {
    "duration": 3,
    "start_time": "2022-06-07T20:06:32.571Z"
   },
   {
    "duration": 36,
    "start_time": "2022-06-07T20:06:32.575Z"
   },
   {
    "duration": 22,
    "start_time": "2022-06-07T20:06:32.613Z"
   },
   {
    "duration": 4,
    "start_time": "2022-06-07T20:06:32.637Z"
   },
   {
    "duration": 10,
    "start_time": "2022-06-07T20:06:32.642Z"
   },
   {
    "duration": 32,
    "start_time": "2022-06-07T20:06:32.656Z"
   },
   {
    "duration": 9225,
    "start_time": "2022-06-07T20:06:32.689Z"
   },
   {
    "duration": 29,
    "start_time": "2022-06-07T20:06:41.916Z"
   },
   {
    "duration": 8,
    "start_time": "2022-06-07T20:06:41.946Z"
   },
   {
    "duration": 72,
    "start_time": "2022-06-07T20:06:41.955Z"
   },
   {
    "duration": 47,
    "start_time": "2022-06-07T20:06:42.029Z"
   },
   {
    "duration": 3,
    "start_time": "2022-06-07T20:06:42.078Z"
   },
   {
    "duration": 6,
    "start_time": "2022-06-07T20:06:42.082Z"
   },
   {
    "duration": 5,
    "start_time": "2022-06-07T20:06:42.089Z"
   },
   {
    "duration": 52,
    "start_time": "2022-06-07T20:06:42.095Z"
   },
   {
    "duration": 14,
    "start_time": "2022-06-07T20:06:42.149Z"
   },
   {
    "duration": 6,
    "start_time": "2022-06-07T20:06:42.164Z"
   },
   {
    "duration": 11,
    "start_time": "2022-06-07T20:06:42.171Z"
   },
   {
    "duration": 6,
    "start_time": "2022-06-07T20:06:42.183Z"
   },
   {
    "duration": 5,
    "start_time": "2022-06-07T20:06:42.190Z"
   },
   {
    "duration": 14,
    "start_time": "2022-06-07T20:06:42.197Z"
   },
   {
    "duration": 21,
    "start_time": "2022-06-07T20:06:42.212Z"
   },
   {
    "duration": 10,
    "start_time": "2022-06-07T20:06:42.235Z"
   },
   {
    "duration": 34,
    "start_time": "2022-06-07T20:06:42.246Z"
   },
   {
    "duration": 12,
    "start_time": "2022-06-07T20:06:42.281Z"
   },
   {
    "duration": 2,
    "start_time": "2022-06-07T20:06:42.295Z"
   },
   {
    "duration": 14,
    "start_time": "2022-06-07T20:06:42.298Z"
   },
   {
    "duration": 12,
    "start_time": "2022-06-07T20:06:42.314Z"
   },
   {
    "duration": 103,
    "start_time": "2022-06-07T20:06:42.327Z"
   },
   {
    "duration": 25,
    "start_time": "2022-06-07T20:06:42.431Z"
   },
   {
    "duration": 810,
    "start_time": "2022-06-07T20:06:42.457Z"
   },
   {
    "duration": 63,
    "start_time": "2022-06-07T20:06:43.268Z"
   },
   {
    "duration": 13,
    "start_time": "2022-06-07T20:06:43.333Z"
   },
   {
    "duration": 11,
    "start_time": "2022-06-07T20:06:43.348Z"
   },
   {
    "duration": 12,
    "start_time": "2022-06-07T20:06:43.361Z"
   },
   {
    "duration": 16,
    "start_time": "2022-06-07T20:06:43.374Z"
   },
   {
    "duration": 13,
    "start_time": "2022-06-07T20:06:43.426Z"
   },
   {
    "duration": 4,
    "start_time": "2022-06-07T20:06:43.440Z"
   },
   {
    "duration": 6,
    "start_time": "2022-06-07T20:06:43.446Z"
   },
   {
    "duration": 7,
    "start_time": "2022-06-07T20:06:43.454Z"
   },
   {
    "duration": 11,
    "start_time": "2022-06-07T20:06:43.462Z"
   },
   {
    "duration": 9,
    "start_time": "2022-06-07T20:06:43.525Z"
   },
   {
    "duration": 11,
    "start_time": "2022-06-07T20:06:43.535Z"
   },
   {
    "duration": 5,
    "start_time": "2022-06-07T20:06:43.548Z"
   },
   {
    "duration": 5,
    "start_time": "2022-06-07T20:06:43.555Z"
   },
   {
    "duration": 7,
    "start_time": "2022-06-07T20:06:43.562Z"
   },
   {
    "duration": 57,
    "start_time": "2022-06-07T20:06:43.571Z"
   },
   {
    "duration": 107,
    "start_time": "2022-06-07T20:19:59.927Z"
   },
   {
    "duration": 632,
    "start_time": "2022-06-07T20:20:19.119Z"
   },
   {
    "duration": 14,
    "start_time": "2022-06-07T20:22:27.535Z"
   },
   {
    "duration": 58,
    "start_time": "2022-06-07T22:30:57.701Z"
   },
   {
    "duration": 764,
    "start_time": "2022-06-07T22:31:04.219Z"
   },
   {
    "duration": 78,
    "start_time": "2022-06-07T22:31:04.986Z"
   },
   {
    "duration": 127,
    "start_time": "2022-06-07T22:31:05.066Z"
   },
   {
    "duration": 1057,
    "start_time": "2022-06-07T22:31:05.195Z"
   },
   {
    "duration": 77,
    "start_time": "2022-06-07T22:31:06.253Z"
   },
   {
    "duration": 9,
    "start_time": "2022-06-07T22:31:06.332Z"
   },
   {
    "duration": 21,
    "start_time": "2022-06-07T22:31:06.343Z"
   },
   {
    "duration": 59,
    "start_time": "2022-06-07T22:31:06.366Z"
   },
   {
    "duration": 10,
    "start_time": "2022-06-07T22:31:06.427Z"
   },
   {
    "duration": 29,
    "start_time": "2022-06-07T22:31:06.441Z"
   },
   {
    "duration": 277,
    "start_time": "2022-06-07T22:31:06.472Z"
   },
   {
    "duration": 119,
    "start_time": "2022-06-07T22:31:06.751Z"
   },
   {
    "duration": 39,
    "start_time": "2022-06-07T22:31:06.872Z"
   },
   {
    "duration": 142,
    "start_time": "2022-06-07T22:31:06.913Z"
   },
   {
    "duration": 10,
    "start_time": "2022-06-07T22:31:07.057Z"
   },
   {
    "duration": 31,
    "start_time": "2022-06-07T22:31:07.069Z"
   },
   {
    "duration": 275,
    "start_time": "2022-06-07T22:31:07.102Z"
   },
   {
    "duration": 11,
    "start_time": "2022-06-07T22:31:07.379Z"
   },
   {
    "duration": 13,
    "start_time": "2022-06-07T22:31:07.391Z"
   },
   {
    "duration": 208,
    "start_time": "2022-06-07T22:31:07.406Z"
   },
   {
    "duration": 9,
    "start_time": "2022-06-07T22:31:07.615Z"
   },
   {
    "duration": 8,
    "start_time": "2022-06-07T22:31:07.626Z"
   },
   {
    "duration": 205,
    "start_time": "2022-06-07T22:31:07.636Z"
   },
   {
    "duration": 4,
    "start_time": "2022-06-07T22:31:07.843Z"
   },
   {
    "duration": 21,
    "start_time": "2022-06-07T22:31:07.849Z"
   },
   {
    "duration": 20,
    "start_time": "2022-06-07T22:31:07.871Z"
   },
   {
    "duration": 4,
    "start_time": "2022-06-07T22:31:07.893Z"
   },
   {
    "duration": 8,
    "start_time": "2022-06-07T22:31:07.902Z"
   },
   {
    "duration": 63,
    "start_time": "2022-06-07T22:31:07.912Z"
   },
   {
    "duration": 9860,
    "start_time": "2022-06-07T22:31:07.977Z"
   },
   {
    "duration": 26,
    "start_time": "2022-06-07T22:31:17.838Z"
   },
   {
    "duration": 9,
    "start_time": "2022-06-07T22:31:17.866Z"
   },
   {
    "duration": 92,
    "start_time": "2022-06-07T22:31:17.877Z"
   },
   {
    "duration": 45,
    "start_time": "2022-06-07T22:31:17.971Z"
   },
   {
    "duration": 3,
    "start_time": "2022-06-07T22:31:18.018Z"
   },
   {
    "duration": 5,
    "start_time": "2022-06-07T22:31:18.023Z"
   },
   {
    "duration": 5,
    "start_time": "2022-06-07T22:31:18.030Z"
   },
   {
    "duration": 69,
    "start_time": "2022-06-07T22:31:18.036Z"
   },
   {
    "duration": 15,
    "start_time": "2022-06-07T22:31:18.107Z"
   },
   {
    "duration": 6,
    "start_time": "2022-06-07T22:31:18.124Z"
   },
   {
    "duration": 34,
    "start_time": "2022-06-07T22:31:18.131Z"
   },
   {
    "duration": 7,
    "start_time": "2022-06-07T22:31:18.167Z"
   },
   {
    "duration": 4,
    "start_time": "2022-06-07T22:31:18.175Z"
   },
   {
    "duration": 11,
    "start_time": "2022-06-07T22:31:18.181Z"
   },
   {
    "duration": 7,
    "start_time": "2022-06-07T22:31:18.193Z"
   },
   {
    "duration": 19,
    "start_time": "2022-06-07T22:31:18.202Z"
   },
   {
    "duration": 42,
    "start_time": "2022-06-07T22:31:18.222Z"
   },
   {
    "duration": 12,
    "start_time": "2022-06-07T22:31:18.266Z"
   },
   {
    "duration": 17,
    "start_time": "2022-06-07T22:31:18.279Z"
   },
   {
    "duration": 15,
    "start_time": "2022-06-07T22:31:18.297Z"
   },
   {
    "duration": 23,
    "start_time": "2022-06-07T22:31:18.314Z"
   },
   {
    "duration": 121,
    "start_time": "2022-06-07T22:31:18.338Z"
   },
   {
    "duration": 26,
    "start_time": "2022-06-07T22:31:18.463Z"
   },
   {
    "duration": 664,
    "start_time": "2022-06-07T22:31:18.490Z"
   },
   {
    "duration": 15,
    "start_time": "2022-06-07T22:31:19.155Z"
   },
   {
    "duration": 16,
    "start_time": "2022-06-07T22:31:19.171Z"
   },
   {
    "duration": 58,
    "start_time": "2022-06-07T22:31:19.189Z"
   },
   {
    "duration": 0,
    "start_time": "2022-06-07T22:31:19.264Z"
   },
   {
    "duration": 0,
    "start_time": "2022-06-07T22:31:19.266Z"
   },
   {
    "duration": 0,
    "start_time": "2022-06-07T22:31:19.267Z"
   },
   {
    "duration": 0,
    "start_time": "2022-06-07T22:31:19.268Z"
   },
   {
    "duration": 0,
    "start_time": "2022-06-07T22:31:19.269Z"
   },
   {
    "duration": 0,
    "start_time": "2022-06-07T22:31:19.270Z"
   },
   {
    "duration": 0,
    "start_time": "2022-06-07T22:31:19.271Z"
   },
   {
    "duration": 0,
    "start_time": "2022-06-07T22:31:19.272Z"
   },
   {
    "duration": 0,
    "start_time": "2022-06-07T22:31:19.273Z"
   },
   {
    "duration": 0,
    "start_time": "2022-06-07T22:31:19.274Z"
   },
   {
    "duration": 0,
    "start_time": "2022-06-07T22:31:19.275Z"
   },
   {
    "duration": 0,
    "start_time": "2022-06-07T22:31:19.276Z"
   },
   {
    "duration": 0,
    "start_time": "2022-06-07T22:31:19.277Z"
   },
   {
    "duration": 0,
    "start_time": "2022-06-07T22:31:19.278Z"
   },
   {
    "duration": 0,
    "start_time": "2022-06-07T22:31:19.279Z"
   },
   {
    "duration": 0,
    "start_time": "2022-06-07T22:31:19.280Z"
   },
   {
    "duration": 29,
    "start_time": "2022-06-07T22:33:54.371Z"
   },
   {
    "duration": 25,
    "start_time": "2022-06-07T22:34:03.124Z"
   },
   {
    "duration": 7,
    "start_time": "2022-06-07T22:34:08.882Z"
   },
   {
    "duration": 4,
    "start_time": "2022-06-07T22:41:14.068Z"
   },
   {
    "duration": 5,
    "start_time": "2022-06-07T22:42:15.693Z"
   },
   {
    "duration": 7,
    "start_time": "2022-06-07T22:42:31.822Z"
   },
   {
    "duration": 10,
    "start_time": "2022-06-07T22:47:16.322Z"
   },
   {
    "duration": 12,
    "start_time": "2022-06-07T22:49:46.970Z"
   },
   {
    "duration": 13,
    "start_time": "2022-06-07T22:53:18.104Z"
   },
   {
    "duration": 10,
    "start_time": "2022-06-07T22:55:24.364Z"
   },
   {
    "duration": 12,
    "start_time": "2022-06-07T22:59:12.669Z"
   },
   {
    "duration": 31,
    "start_time": "2022-06-07T23:01:21.686Z"
   },
   {
    "duration": 28,
    "start_time": "2022-06-07T23:01:27.037Z"
   },
   {
    "duration": 29,
    "start_time": "2022-06-07T23:03:52.442Z"
   },
   {
    "duration": 18,
    "start_time": "2022-06-07T23:04:03.212Z"
   },
   {
    "duration": 8,
    "start_time": "2022-06-07T23:05:03.089Z"
   },
   {
    "duration": 6,
    "start_time": "2022-06-07T23:05:20.125Z"
   },
   {
    "duration": 8,
    "start_time": "2022-06-07T23:06:12.178Z"
   },
   {
    "duration": 11,
    "start_time": "2022-06-07T23:08:15.192Z"
   },
   {
    "duration": 16,
    "start_time": "2022-06-07T23:08:23.247Z"
   },
   {
    "duration": 12,
    "start_time": "2022-06-07T23:09:50.493Z"
   },
   {
    "duration": 115,
    "start_time": "2022-06-07T23:13:31.136Z"
   },
   {
    "duration": 27,
    "start_time": "2022-06-07T23:13:34.658Z"
   },
   {
    "duration": 21,
    "start_time": "2022-06-07T23:16:27.268Z"
   },
   {
    "duration": 17,
    "start_time": "2022-06-07T23:16:57.186Z"
   },
   {
    "duration": 493,
    "start_time": "2022-06-07T23:20:29.257Z"
   },
   {
    "duration": 11,
    "start_time": "2022-06-07T23:22:35.258Z"
   },
   {
    "duration": 19,
    "start_time": "2022-06-07T23:26:42.153Z"
   },
   {
    "duration": 22,
    "start_time": "2022-06-07T23:27:32.108Z"
   },
   {
    "duration": 9,
    "start_time": "2022-06-07T23:29:19.410Z"
   },
   {
    "duration": 17,
    "start_time": "2022-06-07T23:30:14.913Z"
   },
   {
    "duration": 9,
    "start_time": "2022-06-07T23:30:37.693Z"
   },
   {
    "duration": 8,
    "start_time": "2022-06-07T23:31:09.520Z"
   },
   {
    "duration": 8,
    "start_time": "2022-06-07T23:31:23.768Z"
   },
   {
    "duration": 7,
    "start_time": "2022-06-07T23:32:06.580Z"
   },
   {
    "duration": 5,
    "start_time": "2022-06-07T23:34:49.441Z"
   },
   {
    "duration": 5,
    "start_time": "2022-06-07T23:35:06.631Z"
   },
   {
    "duration": 7,
    "start_time": "2022-06-07T23:35:28.909Z"
   },
   {
    "duration": 5,
    "start_time": "2022-06-07T23:36:02.498Z"
   },
   {
    "duration": 6,
    "start_time": "2022-06-07T23:36:32.407Z"
   },
   {
    "duration": 22,
    "start_time": "2022-06-07T23:40:37.175Z"
   },
   {
    "duration": 27,
    "start_time": "2022-06-07T23:41:17.401Z"
   },
   {
    "duration": 19,
    "start_time": "2022-06-07T23:43:56.969Z"
   },
   {
    "duration": 18,
    "start_time": "2022-06-07T23:45:08.393Z"
   },
   {
    "duration": 25,
    "start_time": "2022-06-08T00:07:57.906Z"
   },
   {
    "duration": 31,
    "start_time": "2022-06-08T00:09:54.228Z"
   },
   {
    "duration": 479,
    "start_time": "2022-06-08T00:10:13.540Z"
   },
   {
    "duration": 12,
    "start_time": "2022-06-08T00:11:55.831Z"
   },
   {
    "duration": 5,
    "start_time": "2022-06-08T00:14:21.394Z"
   },
   {
    "duration": 166,
    "start_time": "2022-06-08T00:16:15.438Z"
   },
   {
    "duration": 11,
    "start_time": "2022-06-08T00:17:38.477Z"
   },
   {
    "duration": 4,
    "start_time": "2022-06-08T00:18:17.939Z"
   },
   {
    "duration": 3,
    "start_time": "2022-06-08T00:21:43.855Z"
   },
   {
    "duration": 4,
    "start_time": "2022-06-08T00:21:44.751Z"
   },
   {
    "duration": 4,
    "start_time": "2022-06-08T00:21:56.373Z"
   },
   {
    "duration": 3,
    "start_time": "2022-06-08T00:22:18.377Z"
   },
   {
    "duration": 4,
    "start_time": "2022-06-08T00:22:34.718Z"
   },
   {
    "duration": 3,
    "start_time": "2022-06-08T00:23:25.782Z"
   },
   {
    "duration": 6,
    "start_time": "2022-06-08T00:23:37.871Z"
   },
   {
    "duration": 6,
    "start_time": "2022-06-08T00:23:48.163Z"
   },
   {
    "duration": 4,
    "start_time": "2022-06-08T00:23:57.319Z"
   },
   {
    "duration": 3,
    "start_time": "2022-06-08T00:29:33.596Z"
   },
   {
    "duration": 5,
    "start_time": "2022-06-08T00:29:34.975Z"
   },
   {
    "duration": 4,
    "start_time": "2022-06-08T00:31:09.876Z"
   },
   {
    "duration": 5,
    "start_time": "2022-06-08T00:31:10.701Z"
   },
   {
    "duration": 29,
    "start_time": "2022-06-08T00:31:34.452Z"
   },
   {
    "duration": 3,
    "start_time": "2022-06-08T00:32:42.065Z"
   },
   {
    "duration": 6,
    "start_time": "2022-06-08T00:32:43.014Z"
   },
   {
    "duration": 892,
    "start_time": "2022-06-08T03:40:02.368Z"
   },
   {
    "duration": 38,
    "start_time": "2022-06-08T03:40:03.264Z"
   },
   {
    "duration": 69,
    "start_time": "2022-06-08T03:40:03.304Z"
   },
   {
    "duration": 476,
    "start_time": "2022-06-08T03:40:03.376Z"
   },
   {
    "duration": 29,
    "start_time": "2022-06-08T03:40:03.855Z"
   },
   {
    "duration": 10,
    "start_time": "2022-06-08T03:40:03.886Z"
   },
   {
    "duration": 21,
    "start_time": "2022-06-08T03:40:03.897Z"
   },
   {
    "duration": 67,
    "start_time": "2022-06-08T03:40:03.919Z"
   },
   {
    "duration": 10,
    "start_time": "2022-06-08T03:40:03.988Z"
   },
   {
    "duration": 17,
    "start_time": "2022-06-08T03:40:03.999Z"
   },
   {
    "duration": 261,
    "start_time": "2022-06-08T03:40:04.018Z"
   },
   {
    "duration": 100,
    "start_time": "2022-06-08T03:40:04.281Z"
   },
   {
    "duration": 34,
    "start_time": "2022-06-08T03:40:04.383Z"
   },
   {
    "duration": 133,
    "start_time": "2022-06-08T03:40:04.420Z"
   },
   {
    "duration": 12,
    "start_time": "2022-06-08T03:40:04.555Z"
   },
   {
    "duration": 49,
    "start_time": "2022-06-08T03:40:04.569Z"
   },
   {
    "duration": 228,
    "start_time": "2022-06-08T03:40:04.620Z"
   },
   {
    "duration": 9,
    "start_time": "2022-06-08T03:40:04.849Z"
   },
   {
    "duration": 13,
    "start_time": "2022-06-08T03:40:04.865Z"
   },
   {
    "duration": 188,
    "start_time": "2022-06-08T03:40:04.879Z"
   },
   {
    "duration": 9,
    "start_time": "2022-06-08T03:40:05.068Z"
   },
   {
    "duration": 9,
    "start_time": "2022-06-08T03:40:05.079Z"
   },
   {
    "duration": 209,
    "start_time": "2022-06-08T03:40:05.089Z"
   },
   {
    "duration": 3,
    "start_time": "2022-06-08T03:40:05.300Z"
   },
   {
    "duration": 13,
    "start_time": "2022-06-08T03:40:05.305Z"
   },
   {
    "duration": 21,
    "start_time": "2022-06-08T03:40:05.319Z"
   },
   {
    "duration": 9,
    "start_time": "2022-06-08T03:40:05.341Z"
   },
   {
    "duration": 9,
    "start_time": "2022-06-08T03:40:05.364Z"
   },
   {
    "duration": 61,
    "start_time": "2022-06-08T03:40:05.375Z"
   },
   {
    "duration": 9594,
    "start_time": "2022-06-08T03:40:05.438Z"
   },
   {
    "duration": 33,
    "start_time": "2022-06-08T03:40:15.033Z"
   },
   {
    "duration": 17,
    "start_time": "2022-06-08T03:40:15.068Z"
   },
   {
    "duration": 86,
    "start_time": "2022-06-08T03:40:15.087Z"
   },
   {
    "duration": 44,
    "start_time": "2022-06-08T03:40:15.175Z"
   },
   {
    "duration": 3,
    "start_time": "2022-06-08T03:40:15.221Z"
   },
   {
    "duration": 6,
    "start_time": "2022-06-08T03:40:15.226Z"
   },
   {
    "duration": 6,
    "start_time": "2022-06-08T03:40:15.233Z"
   },
   {
    "duration": 66,
    "start_time": "2022-06-08T03:40:15.240Z"
   },
   {
    "duration": 15,
    "start_time": "2022-06-08T03:40:15.307Z"
   },
   {
    "duration": 6,
    "start_time": "2022-06-08T03:40:15.324Z"
   },
   {
    "duration": 32,
    "start_time": "2022-06-08T03:40:15.335Z"
   },
   {
    "duration": 6,
    "start_time": "2022-06-08T03:40:15.368Z"
   },
   {
    "duration": 4,
    "start_time": "2022-06-08T03:40:15.376Z"
   },
   {
    "duration": 12,
    "start_time": "2022-06-08T03:40:15.381Z"
   },
   {
    "duration": 7,
    "start_time": "2022-06-08T03:40:15.394Z"
   },
   {
    "duration": 8,
    "start_time": "2022-06-08T03:40:15.403Z"
   },
   {
    "duration": 56,
    "start_time": "2022-06-08T03:40:15.413Z"
   },
   {
    "duration": 13,
    "start_time": "2022-06-08T03:40:15.470Z"
   },
   {
    "duration": 10,
    "start_time": "2022-06-08T03:40:15.484Z"
   },
   {
    "duration": 3,
    "start_time": "2022-06-08T03:40:15.496Z"
   },
   {
    "duration": 10,
    "start_time": "2022-06-08T03:40:15.501Z"
   },
   {
    "duration": 11,
    "start_time": "2022-06-08T03:40:15.512Z"
   },
   {
    "duration": 10,
    "start_time": "2022-06-08T03:40:15.525Z"
   },
   {
    "duration": 30,
    "start_time": "2022-06-08T03:40:15.537Z"
   },
   {
    "duration": 9,
    "start_time": "2022-06-08T03:40:15.569Z"
   },
   {
    "duration": 14,
    "start_time": "2022-06-08T03:40:15.580Z"
   },
   {
    "duration": 11,
    "start_time": "2022-06-08T03:40:15.595Z"
   },
   {
    "duration": 8,
    "start_time": "2022-06-08T03:40:15.607Z"
   },
   {
    "duration": 11,
    "start_time": "2022-06-08T03:40:15.617Z"
   },
   {
    "duration": 15,
    "start_time": "2022-06-08T03:40:15.629Z"
   },
   {
    "duration": 11,
    "start_time": "2022-06-08T03:40:15.665Z"
   },
   {
    "duration": 16,
    "start_time": "2022-06-08T03:40:15.677Z"
   },
   {
    "duration": 114,
    "start_time": "2022-06-08T03:40:15.695Z"
   },
   {
    "duration": 22,
    "start_time": "2022-06-08T03:40:15.811Z"
   },
   {
    "duration": 32,
    "start_time": "2022-06-08T03:40:15.835Z"
   },
   {
    "duration": 18,
    "start_time": "2022-06-08T03:40:15.869Z"
   },
   {
    "duration": 8,
    "start_time": "2022-06-08T03:40:15.888Z"
   },
   {
    "duration": 12,
    "start_time": "2022-06-08T03:40:15.897Z"
   },
   {
    "duration": 5,
    "start_time": "2022-06-08T03:40:15.910Z"
   },
   {
    "duration": 17,
    "start_time": "2022-06-08T03:40:15.916Z"
   },
   {
    "duration": 42,
    "start_time": "2022-06-08T03:40:15.935Z"
   },
   {
    "duration": 9,
    "start_time": "2022-06-08T03:40:15.978Z"
   },
   {
    "duration": 9,
    "start_time": "2022-06-08T03:40:15.988Z"
   },
   {
    "duration": 6,
    "start_time": "2022-06-08T03:40:15.999Z"
   },
   {
    "duration": 24,
    "start_time": "2022-06-08T03:40:16.006Z"
   },
   {
    "duration": 45,
    "start_time": "2022-06-08T03:40:16.032Z"
   },
   {
    "duration": 22,
    "start_time": "2022-06-08T03:40:16.079Z"
   },
   {
    "duration": 19,
    "start_time": "2022-06-08T03:40:16.103Z"
   },
   {
    "duration": 475,
    "start_time": "2022-06-08T03:40:16.124Z"
   },
   {
    "duration": 12,
    "start_time": "2022-06-08T03:40:16.601Z"
   },
   {
    "duration": 9,
    "start_time": "2022-06-08T03:40:16.615Z"
   },
   {
    "duration": 4,
    "start_time": "2022-06-08T03:40:16.626Z"
   },
   {
    "duration": 6,
    "start_time": "2022-06-08T03:40:16.632Z"
   },
   {
    "duration": 28,
    "start_time": "2022-06-08T03:40:16.640Z"
   },
   {
    "duration": 7,
    "start_time": "2022-06-08T03:40:16.669Z"
   },
   {
    "duration": 194,
    "start_time": "2022-06-08T03:40:16.677Z"
   },
   {
    "duration": 12,
    "start_time": "2022-06-08T03:40:16.873Z"
   },
   {
    "duration": 7,
    "start_time": "2022-06-08T03:40:16.887Z"
   },
   {
    "duration": 8,
    "start_time": "2022-06-08T03:40:16.896Z"
   },
   {
    "duration": 6,
    "start_time": "2022-06-08T03:40:16.906Z"
   },
   {
    "duration": 7,
    "start_time": "2022-06-08T03:40:16.913Z"
   },
   {
    "duration": 5,
    "start_time": "2022-06-08T03:40:16.922Z"
   },
   {
    "duration": 5,
    "start_time": "2022-06-08T03:40:16.928Z"
   },
   {
    "duration": 33,
    "start_time": "2022-06-08T03:40:16.935Z"
   },
   {
    "duration": 9,
    "start_time": "2022-06-08T03:40:16.970Z"
   },
   {
    "duration": 6,
    "start_time": "2022-06-08T03:40:16.981Z"
   },
   {
    "duration": 7,
    "start_time": "2022-06-08T03:40:16.988Z"
   },
   {
    "duration": 9,
    "start_time": "2022-06-08T03:40:16.997Z"
   },
   {
    "duration": 639,
    "start_time": "2022-06-08T03:40:17.008Z"
   },
   {
    "duration": 17,
    "start_time": "2022-06-08T03:40:17.648Z"
   },
   {
    "duration": 15,
    "start_time": "2022-06-08T03:40:17.667Z"
   },
   {
    "duration": 110,
    "start_time": "2022-06-08T03:40:17.684Z"
   },
   {
    "duration": 0,
    "start_time": "2022-06-08T03:40:17.796Z"
   },
   {
    "duration": 0,
    "start_time": "2022-06-08T03:40:17.797Z"
   },
   {
    "duration": 0,
    "start_time": "2022-06-08T03:40:17.798Z"
   },
   {
    "duration": 0,
    "start_time": "2022-06-08T03:40:17.799Z"
   },
   {
    "duration": 0,
    "start_time": "2022-06-08T03:40:17.800Z"
   },
   {
    "duration": 0,
    "start_time": "2022-06-08T03:40:17.801Z"
   },
   {
    "duration": 0,
    "start_time": "2022-06-08T03:40:17.802Z"
   },
   {
    "duration": 0,
    "start_time": "2022-06-08T03:40:17.803Z"
   },
   {
    "duration": 0,
    "start_time": "2022-06-08T03:40:17.804Z"
   },
   {
    "duration": 0,
    "start_time": "2022-06-08T03:40:17.805Z"
   },
   {
    "duration": 0,
    "start_time": "2022-06-08T03:40:17.806Z"
   },
   {
    "duration": 0,
    "start_time": "2022-06-08T03:40:17.807Z"
   },
   {
    "duration": 0,
    "start_time": "2022-06-08T03:40:17.808Z"
   },
   {
    "duration": 0,
    "start_time": "2022-06-08T03:40:17.809Z"
   },
   {
    "duration": 0,
    "start_time": "2022-06-08T03:40:17.810Z"
   },
   {
    "duration": 0,
    "start_time": "2022-06-08T03:40:17.813Z"
   },
   {
    "duration": 8,
    "start_time": "2022-06-08T03:41:40.136Z"
   },
   {
    "duration": 12,
    "start_time": "2022-06-08T03:43:22.305Z"
   },
   {
    "duration": 13,
    "start_time": "2022-06-08T03:48:53.095Z"
   },
   {
    "duration": 11,
    "start_time": "2022-06-08T03:49:39.518Z"
   },
   {
    "duration": 14,
    "start_time": "2022-06-08T03:50:04.938Z"
   },
   {
    "duration": 13,
    "start_time": "2022-06-08T03:54:17.713Z"
   },
   {
    "duration": 62,
    "start_time": "2022-06-08T03:54:55.988Z"
   },
   {
    "duration": 11,
    "start_time": "2022-06-08T03:55:23.890Z"
   },
   {
    "duration": 34,
    "start_time": "2022-06-08T03:58:12.031Z"
   },
   {
    "duration": 20,
    "start_time": "2022-06-08T03:58:27.826Z"
   },
   {
    "duration": 18,
    "start_time": "2022-06-08T03:58:39.739Z"
   },
   {
    "duration": 10,
    "start_time": "2022-06-08T04:02:08.987Z"
   },
   {
    "duration": 10,
    "start_time": "2022-06-08T04:06:34.822Z"
   },
   {
    "duration": 16,
    "start_time": "2022-06-08T04:11:00.718Z"
   },
   {
    "duration": 9,
    "start_time": "2022-06-08T04:11:37.748Z"
   },
   {
    "duration": 14,
    "start_time": "2022-06-08T04:12:08.678Z"
   },
   {
    "duration": 10,
    "start_time": "2022-06-08T04:12:14.493Z"
   },
   {
    "duration": 60,
    "start_time": "2022-06-08T04:13:02.716Z"
   },
   {
    "duration": 62,
    "start_time": "2022-06-08T04:13:14.612Z"
   },
   {
    "duration": 15,
    "start_time": "2022-06-08T04:13:20.908Z"
   },
   {
    "duration": 9,
    "start_time": "2022-06-08T04:13:22.084Z"
   },
   {
    "duration": 66,
    "start_time": "2022-06-08T04:13:23.030Z"
   },
   {
    "duration": 43,
    "start_time": "2022-06-08T04:13:28.101Z"
   },
   {
    "duration": 10,
    "start_time": "2022-06-08T04:13:29.364Z"
   },
   {
    "duration": 60,
    "start_time": "2022-06-08T04:14:43.364Z"
   },
   {
    "duration": 62,
    "start_time": "2022-06-08T04:16:36.338Z"
   },
   {
    "duration": 2,
    "start_time": "2022-06-08T04:16:50.951Z"
   },
   {
    "duration": 31,
    "start_time": "2022-06-08T04:16:51.589Z"
   },
   {
    "duration": 75,
    "start_time": "2022-06-08T04:16:51.876Z"
   },
   {
    "duration": 467,
    "start_time": "2022-06-08T04:16:52.094Z"
   },
   {
    "duration": 30,
    "start_time": "2022-06-08T04:16:52.564Z"
   },
   {
    "duration": 9,
    "start_time": "2022-06-08T04:16:53.499Z"
   },
   {
    "duration": 17,
    "start_time": "2022-06-08T04:16:53.789Z"
   },
   {
    "duration": 55,
    "start_time": "2022-06-08T04:16:54.074Z"
   },
   {
    "duration": 11,
    "start_time": "2022-06-08T04:16:54.261Z"
   },
   {
    "duration": 10,
    "start_time": "2022-06-08T04:16:55.164Z"
   },
   {
    "duration": 231,
    "start_time": "2022-06-08T04:16:55.430Z"
   },
   {
    "duration": 99,
    "start_time": "2022-06-08T04:16:55.812Z"
   },
   {
    "duration": 37,
    "start_time": "2022-06-08T04:16:56.532Z"
   },
   {
    "duration": 108,
    "start_time": "2022-06-08T04:16:57.228Z"
   },
   {
    "duration": 5,
    "start_time": "2022-06-08T04:16:58.364Z"
   },
   {
    "duration": 28,
    "start_time": "2022-06-08T04:16:58.614Z"
   },
   {
    "duration": 269,
    "start_time": "2022-06-08T04:16:58.810Z"
   },
   {
    "duration": 10,
    "start_time": "2022-06-08T04:16:59.081Z"
   },
   {
    "duration": 8,
    "start_time": "2022-06-08T04:17:00.773Z"
   },
   {
    "duration": 224,
    "start_time": "2022-06-08T04:17:01.213Z"
   },
   {
    "duration": 9,
    "start_time": "2022-06-08T04:17:01.775Z"
   },
   {
    "duration": 5,
    "start_time": "2022-06-08T04:17:02.064Z"
   },
   {
    "duration": 9,
    "start_time": "2022-06-08T04:17:02.726Z"
   },
   {
    "duration": 180,
    "start_time": "2022-06-08T04:17:04.268Z"
   },
   {
    "duration": 5,
    "start_time": "2022-06-08T04:17:04.892Z"
   },
   {
    "duration": 7,
    "start_time": "2022-06-08T04:17:05.446Z"
   },
   {
    "duration": 20,
    "start_time": "2022-06-08T04:17:05.907Z"
   },
   {
    "duration": 5,
    "start_time": "2022-06-08T04:17:06.122Z"
   },
   {
    "duration": 10,
    "start_time": "2022-06-08T04:17:06.995Z"
   },
   {
    "duration": 37,
    "start_time": "2022-06-08T04:17:07.796Z"
   },
   {
    "duration": 9726,
    "start_time": "2022-06-08T04:17:08.760Z"
   },
   {
    "duration": 21,
    "start_time": "2022-06-08T04:17:18.487Z"
   },
   {
    "duration": 10,
    "start_time": "2022-06-08T04:17:18.510Z"
   },
   {
    "duration": 12,
    "start_time": "2022-06-08T04:17:18.522Z"
   },
   {
    "duration": 40,
    "start_time": "2022-06-08T04:17:18.535Z"
   },
   {
    "duration": 15,
    "start_time": "2022-06-08T04:17:18.576Z"
   },
   {
    "duration": 78,
    "start_time": "2022-06-08T04:17:18.933Z"
   },
   {
    "duration": 18,
    "start_time": "2022-06-08T04:17:39.301Z"
   },
   {
    "duration": 9,
    "start_time": "2022-06-08T04:17:40.004Z"
   },
   {
    "duration": 27,
    "start_time": "2022-06-08T04:19:08.783Z"
   },
   {
    "duration": 30000,
    "start_time": "2022-06-08T04:19:16.700Z"
   },
   {
    "duration": 90,
    "start_time": "2022-06-08T04:20:27.487Z"
   },
   {
    "duration": 11,
    "start_time": "2022-06-08T04:20:29.272Z"
   },
   {
    "duration": 9,
    "start_time": "2022-06-08T04:20:33.984Z"
   },
   {
    "duration": 16,
    "start_time": "2022-06-08T04:20:39.229Z"
   },
   {
    "duration": 9,
    "start_time": "2022-06-08T04:20:40.958Z"
   },
   {
    "duration": 85,
    "start_time": "2022-06-08T04:20:41.670Z"
   },
   {
    "duration": 30,
    "start_time": "2022-06-08T04:22:06.261Z"
   },
   {
    "duration": 10,
    "start_time": "2022-06-08T04:23:06.119Z"
   },
   {
    "duration": 65,
    "start_time": "2022-06-08T04:24:18.698Z"
   },
   {
    "duration": 304,
    "start_time": "2022-06-08T04:24:23.183Z"
   },
   {
    "duration": 299,
    "start_time": "2022-06-08T04:26:43.253Z"
   },
   {
    "duration": 301,
    "start_time": "2022-06-08T04:28:08.215Z"
   },
   {
    "duration": 336,
    "start_time": "2022-06-08T04:28:28.857Z"
   },
   {
    "duration": 301,
    "start_time": "2022-06-08T04:28:48.216Z"
   },
   {
    "duration": 6,
    "start_time": "2022-06-08T04:29:16.169Z"
   },
   {
    "duration": 21,
    "start_time": "2022-06-08T04:29:54.792Z"
   },
   {
    "duration": 16,
    "start_time": "2022-06-08T04:30:05.241Z"
   },
   {
    "duration": 319,
    "start_time": "2022-06-08T04:30:51.922Z"
   },
   {
    "duration": 6,
    "start_time": "2022-06-08T04:30:57.026Z"
   },
   {
    "duration": 110,
    "start_time": "2022-06-08T04:32:20.043Z"
   },
   {
    "duration": 93,
    "start_time": "2022-06-08T04:32:41.385Z"
   },
   {
    "duration": 3,
    "start_time": "2022-06-08T04:32:49.729Z"
   },
   {
    "duration": 33,
    "start_time": "2022-06-08T04:32:50.454Z"
   },
   {
    "duration": 71,
    "start_time": "2022-06-08T04:32:50.680Z"
   },
   {
    "duration": 449,
    "start_time": "2022-06-08T04:32:50.881Z"
   },
   {
    "duration": 28,
    "start_time": "2022-06-08T04:32:51.332Z"
   },
   {
    "duration": 10,
    "start_time": "2022-06-08T04:32:52.621Z"
   },
   {
    "duration": 19,
    "start_time": "2022-06-08T04:32:53.114Z"
   },
   {
    "duration": 60,
    "start_time": "2022-06-08T04:32:53.568Z"
   },
   {
    "duration": 11,
    "start_time": "2022-06-08T04:32:53.998Z"
   },
   {
    "duration": 10,
    "start_time": "2022-06-08T04:32:55.400Z"
   },
   {
    "duration": 233,
    "start_time": "2022-06-08T04:32:55.884Z"
   },
   {
    "duration": 99,
    "start_time": "2022-06-08T04:32:56.379Z"
   },
   {
    "duration": 36,
    "start_time": "2022-06-08T04:32:57.279Z"
   },
   {
    "duration": 109,
    "start_time": "2022-06-08T04:32:58.407Z"
   },
   {
    "duration": 5,
    "start_time": "2022-06-08T04:32:59.416Z"
   },
   {
    "duration": 29,
    "start_time": "2022-06-08T04:32:59.770Z"
   },
   {
    "duration": 236,
    "start_time": "2022-06-08T04:33:00.079Z"
   },
   {
    "duration": 10,
    "start_time": "2022-06-08T04:33:00.351Z"
   },
   {
    "duration": 10,
    "start_time": "2022-06-08T04:33:02.560Z"
   },
   {
    "duration": 184,
    "start_time": "2022-06-08T04:33:02.849Z"
   },
   {
    "duration": 10,
    "start_time": "2022-06-08T04:33:03.382Z"
   },
   {
    "duration": 6,
    "start_time": "2022-06-08T04:33:03.681Z"
   },
   {
    "duration": 8,
    "start_time": "2022-06-08T04:33:04.712Z"
   },
   {
    "duration": 176,
    "start_time": "2022-06-08T04:33:06.616Z"
   },
   {
    "duration": 5,
    "start_time": "2022-06-08T04:33:07.272Z"
   },
   {
    "duration": 7,
    "start_time": "2022-06-08T04:33:07.815Z"
   },
   {
    "duration": 19,
    "start_time": "2022-06-08T04:33:08.335Z"
   },
   {
    "duration": 6,
    "start_time": "2022-06-08T04:33:08.929Z"
   },
   {
    "duration": 9,
    "start_time": "2022-06-08T04:33:10.214Z"
   },
   {
    "duration": 35,
    "start_time": "2022-06-08T04:33:10.726Z"
   },
   {
    "duration": 29763,
    "start_time": "2022-06-08T04:33:11.358Z"
   },
   {
    "duration": 86,
    "start_time": "2022-06-08T04:33:41.123Z"
   },
   {
    "duration": 12,
    "start_time": "2022-06-08T04:33:41.210Z"
   },
   {
    "duration": 10,
    "start_time": "2022-06-08T04:33:41.224Z"
   },
   {
    "duration": 31,
    "start_time": "2022-06-08T04:33:41.236Z"
   },
   {
    "duration": 9,
    "start_time": "2022-06-08T04:33:41.268Z"
   },
   {
    "duration": 101,
    "start_time": "2022-06-08T04:33:41.278Z"
   },
   {
    "duration": 227,
    "start_time": "2022-06-08T04:34:56.067Z"
   },
   {
    "duration": 202,
    "start_time": "2022-06-08T04:36:47.993Z"
   },
   {
    "duration": 184,
    "start_time": "2022-06-08T04:36:54.386Z"
   },
   {
    "duration": 4,
    "start_time": "2022-06-08T04:37:51.858Z"
   },
   {
    "duration": 3,
    "start_time": "2022-06-08T04:37:52.707Z"
   },
   {
    "duration": 4,
    "start_time": "2022-06-08T04:37:53.595Z"
   },
   {
    "duration": 158,
    "start_time": "2022-06-08T04:38:14.898Z"
   },
   {
    "duration": 32,
    "start_time": "2022-06-08T04:38:31.388Z"
   },
   {
    "duration": 7,
    "start_time": "2022-06-08T04:38:32.203Z"
   },
   {
    "duration": 10,
    "start_time": "2022-06-08T04:38:33.451Z"
   },
   {
    "duration": 8,
    "start_time": "2022-06-08T04:38:38.499Z"
   },
   {
    "duration": 3,
    "start_time": "2022-06-08T04:38:39.333Z"
   },
   {
    "duration": 6,
    "start_time": "2022-06-08T04:40:08.052Z"
   },
   {
    "duration": 4,
    "start_time": "2022-06-08T04:40:09.251Z"
   },
   {
    "duration": 3,
    "start_time": "2022-06-08T04:40:23.835Z"
   },
   {
    "duration": 12,
    "start_time": "2022-06-08T04:40:59.155Z"
   },
   {
    "duration": 33,
    "start_time": "2022-06-08T04:41:03.227Z"
   },
   {
    "duration": 14,
    "start_time": "2022-06-08T04:41:04.073Z"
   },
   {
    "duration": 9,
    "start_time": "2022-06-08T04:41:10.285Z"
   },
   {
    "duration": 11,
    "start_time": "2022-06-08T04:42:05.032Z"
   },
   {
    "duration": 4,
    "start_time": "2022-06-08T04:42:06.613Z"
   },
   {
    "duration": 3,
    "start_time": "2022-06-08T04:44:00.348Z"
   },
   {
    "duration": 6,
    "start_time": "2022-06-08T04:44:01.159Z"
   },
   {
    "duration": 6,
    "start_time": "2022-06-08T04:44:08.739Z"
   },
   {
    "duration": 11,
    "start_time": "2022-06-08T04:44:13.748Z"
   },
   {
    "duration": 9,
    "start_time": "2022-06-08T04:44:21.566Z"
   },
   {
    "duration": 3,
    "start_time": "2022-06-08T04:44:22.996Z"
   },
   {
    "duration": 7,
    "start_time": "2022-06-08T04:44:23.992Z"
   },
   {
    "duration": 5,
    "start_time": "2022-06-08T04:44:24.916Z"
   },
   {
    "duration": 12,
    "start_time": "2022-06-08T04:44:26.203Z"
   },
   {
    "duration": 7,
    "start_time": "2022-06-08T04:44:37.211Z"
   },
   {
    "duration": 5,
    "start_time": "2022-06-08T04:44:38.700Z"
   },
   {
    "duration": 7,
    "start_time": "2022-06-08T04:44:50.507Z"
   },
   {
    "duration": 5,
    "start_time": "2022-06-08T04:44:51.575Z"
   },
   {
    "duration": 9,
    "start_time": "2022-06-08T04:44:53.004Z"
   },
   {
    "duration": 12,
    "start_time": "2022-06-08T04:44:56.611Z"
   },
   {
    "duration": 12,
    "start_time": "2022-06-08T04:44:58.668Z"
   },
   {
    "duration": 12,
    "start_time": "2022-06-08T04:45:00.366Z"
   },
   {
    "duration": 95,
    "start_time": "2022-06-08T04:45:15.660Z"
   },
   {
    "duration": 24,
    "start_time": "2022-06-08T04:45:19.434Z"
   },
   {
    "duration": 20,
    "start_time": "2022-06-08T04:45:28.529Z"
   },
   {
    "duration": 21,
    "start_time": "2022-06-08T04:45:36.266Z"
   },
   {
    "duration": 10,
    "start_time": "2022-06-08T04:45:42.428Z"
   },
   {
    "duration": 8,
    "start_time": "2022-06-08T04:45:43.733Z"
   },
   {
    "duration": 5,
    "start_time": "2022-06-08T04:45:45.628Z"
   },
   {
    "duration": 17,
    "start_time": "2022-06-08T04:45:48.628Z"
   },
   {
    "duration": 16,
    "start_time": "2022-06-08T04:45:50.476Z"
   },
   {
    "duration": 9,
    "start_time": "2022-06-08T04:45:51.476Z"
   },
   {
    "duration": 9,
    "start_time": "2022-06-08T04:45:52.572Z"
   },
   {
    "duration": 5,
    "start_time": "2022-06-08T04:45:53.484Z"
   },
   {
    "duration": 24,
    "start_time": "2022-06-08T04:45:55.805Z"
   },
   {
    "duration": 18,
    "start_time": "2022-06-08T04:46:04.517Z"
   },
   {
    "duration": 22,
    "start_time": "2022-06-08T04:46:05.717Z"
   },
   {
    "duration": 18,
    "start_time": "2022-06-08T04:46:06.638Z"
   },
   {
    "duration": 450,
    "start_time": "2022-06-08T04:46:09.260Z"
   },
   {
    "duration": 15,
    "start_time": "2022-06-08T04:46:10.036Z"
   },
   {
    "duration": 5,
    "start_time": "2022-06-08T04:46:11.828Z"
   },
   {
    "duration": 2,
    "start_time": "2022-06-08T04:46:12.739Z"
   },
   {
    "duration": 3,
    "start_time": "2022-06-08T04:46:14.421Z"
   },
   {
    "duration": 3,
    "start_time": "2022-06-08T04:46:18.404Z"
   },
   {
    "duration": 4,
    "start_time": "2022-06-08T04:46:19.268Z"
   },
   {
    "duration": 144,
    "start_time": "2022-06-08T04:46:20.685Z"
   },
   {
    "duration": 10,
    "start_time": "2022-06-08T04:46:23.500Z"
   },
   {
    "duration": 5,
    "start_time": "2022-06-08T04:46:26.868Z"
   },
   {
    "duration": 2,
    "start_time": "2022-06-08T04:46:28.348Z"
   },
   {
    "duration": 3,
    "start_time": "2022-06-08T04:46:29.133Z"
   },
   {
    "duration": 4,
    "start_time": "2022-06-08T04:46:30.045Z"
   },
   {
    "duration": 4,
    "start_time": "2022-06-08T04:46:30.861Z"
   },
   {
    "duration": 4,
    "start_time": "2022-06-08T04:46:35.044Z"
   },
   {
    "duration": 6,
    "start_time": "2022-06-08T04:46:35.767Z"
   },
   {
    "duration": 3,
    "start_time": "2022-06-08T04:46:41.404Z"
   },
   {
    "duration": 5,
    "start_time": "2022-06-08T04:46:42.445Z"
   },
   {
    "duration": 4,
    "start_time": "2022-06-08T04:46:44.867Z"
   },
   {
    "duration": 6,
    "start_time": "2022-06-08T04:46:45.782Z"
   },
   {
    "duration": 12,
    "start_time": "2022-06-08T05:04:28.742Z"
   },
   {
    "duration": 17,
    "start_time": "2022-06-08T05:07:34.787Z"
   },
   {
    "duration": 93,
    "start_time": "2022-06-08T05:08:27.608Z"
   },
   {
    "duration": 401,
    "start_time": "2022-06-08T05:08:39.165Z"
   },
   {
    "duration": 3,
    "start_time": "2022-06-08T05:09:00.780Z"
   },
   {
    "duration": 45,
    "start_time": "2022-06-08T05:09:00.788Z"
   },
   {
    "duration": 71,
    "start_time": "2022-06-08T05:09:00.835Z"
   },
   {
    "duration": 560,
    "start_time": "2022-06-08T05:09:00.908Z"
   },
   {
    "duration": 30,
    "start_time": "2022-06-08T05:09:01.470Z"
   },
   {
    "duration": 10,
    "start_time": "2022-06-08T05:09:01.501Z"
   },
   {
    "duration": 23,
    "start_time": "2022-06-08T05:09:01.513Z"
   },
   {
    "duration": 74,
    "start_time": "2022-06-08T05:09:01.538Z"
   },
   {
    "duration": 11,
    "start_time": "2022-06-08T05:09:01.613Z"
   },
   {
    "duration": 21,
    "start_time": "2022-06-08T05:09:01.626Z"
   },
   {
    "duration": 274,
    "start_time": "2022-06-08T05:09:01.650Z"
   },
   {
    "duration": 108,
    "start_time": "2022-06-08T05:09:01.926Z"
   },
   {
    "duration": 47,
    "start_time": "2022-06-08T05:09:02.035Z"
   },
   {
    "duration": 124,
    "start_time": "2022-06-08T05:09:02.084Z"
   },
   {
    "duration": 5,
    "start_time": "2022-06-08T05:09:02.210Z"
   },
   {
    "duration": 35,
    "start_time": "2022-06-08T05:09:02.217Z"
   },
   {
    "duration": 256,
    "start_time": "2022-06-08T05:09:02.265Z"
   },
   {
    "duration": 10,
    "start_time": "2022-06-08T05:09:02.522Z"
   },
   {
    "duration": 14,
    "start_time": "2022-06-08T05:09:02.533Z"
   },
   {
    "duration": 189,
    "start_time": "2022-06-08T05:09:02.548Z"
   },
   {
    "duration": 10,
    "start_time": "2022-06-08T05:09:02.739Z"
   },
   {
    "duration": 19,
    "start_time": "2022-06-08T05:09:02.750Z"
   },
   {
    "duration": 14,
    "start_time": "2022-06-08T05:09:02.771Z"
   },
   {
    "duration": 188,
    "start_time": "2022-06-08T05:09:02.786Z"
   },
   {
    "duration": 4,
    "start_time": "2022-06-08T05:09:02.975Z"
   },
   {
    "duration": 10,
    "start_time": "2022-06-08T05:09:02.980Z"
   },
   {
    "duration": 20,
    "start_time": "2022-06-08T05:09:02.992Z"
   },
   {
    "duration": 5,
    "start_time": "2022-06-08T05:09:03.013Z"
   },
   {
    "duration": 43,
    "start_time": "2022-06-08T05:09:03.022Z"
   },
   {
    "duration": 38,
    "start_time": "2022-06-08T05:09:03.066Z"
   },
   {
    "duration": 29804,
    "start_time": "2022-06-08T05:09:03.106Z"
   },
   {
    "duration": 72,
    "start_time": "2022-06-08T05:09:32.912Z"
   },
   {
    "duration": 13,
    "start_time": "2022-06-08T05:09:32.986Z"
   },
   {
    "duration": 15,
    "start_time": "2022-06-08T05:09:33.001Z"
   },
   {
    "duration": 29,
    "start_time": "2022-06-08T05:09:33.018Z"
   },
   {
    "duration": 22,
    "start_time": "2022-06-08T05:09:33.048Z"
   },
   {
    "duration": 107,
    "start_time": "2022-06-08T05:09:33.072Z"
   },
   {
    "duration": 225,
    "start_time": "2022-06-08T05:09:33.181Z"
   },
   {
    "duration": 70,
    "start_time": "2022-06-08T05:09:33.408Z"
   },
   {
    "duration": 314,
    "start_time": "2022-06-08T05:09:33.479Z"
   },
   {
    "duration": 7,
    "start_time": "2022-06-08T05:09:33.795Z"
   },
   {
    "duration": 16,
    "start_time": "2022-06-08T05:09:33.804Z"
   },
   {
    "duration": 43,
    "start_time": "2022-06-08T05:09:33.822Z"
   },
   {
    "duration": 85,
    "start_time": "2022-06-08T05:09:33.867Z"
   },
   {
    "duration": 231,
    "start_time": "2022-06-08T05:09:33.965Z"
   },
   {
    "duration": 153,
    "start_time": "2022-06-08T05:09:34.198Z"
   },
   {
    "duration": 4,
    "start_time": "2022-06-08T05:09:34.352Z"
   },
   {
    "duration": 4,
    "start_time": "2022-06-08T05:09:34.364Z"
   },
   {
    "duration": 5,
    "start_time": "2022-06-08T05:09:34.370Z"
   },
   {
    "duration": 164,
    "start_time": "2022-06-08T05:09:34.376Z"
   },
   {
    "duration": 39,
    "start_time": "2022-06-08T05:09:34.542Z"
   },
   {
    "duration": 8,
    "start_time": "2022-06-08T05:09:34.583Z"
   },
   {
    "duration": 13,
    "start_time": "2022-06-08T05:09:34.592Z"
   },
   {
    "duration": 5,
    "start_time": "2022-06-08T05:09:34.607Z"
   },
   {
    "duration": 10,
    "start_time": "2022-06-08T05:09:34.613Z"
   },
   {
    "duration": 5,
    "start_time": "2022-06-08T05:09:34.624Z"
   },
   {
    "duration": 8,
    "start_time": "2022-06-08T05:09:34.630Z"
   },
   {
    "duration": 5,
    "start_time": "2022-06-08T05:09:34.664Z"
   },
   {
    "duration": 9,
    "start_time": "2022-06-08T05:09:34.671Z"
   },
   {
    "duration": 27,
    "start_time": "2022-06-08T05:09:34.682Z"
   },
   {
    "duration": 12,
    "start_time": "2022-06-08T05:09:34.711Z"
   },
   {
    "duration": 87,
    "start_time": "2022-06-08T05:09:34.725Z"
   },
   {
    "duration": 11,
    "start_time": "2022-06-08T05:09:34.814Z"
   },
   {
    "duration": 10,
    "start_time": "2022-06-08T05:09:34.826Z"
   },
   {
    "duration": 13,
    "start_time": "2022-06-08T05:09:34.837Z"
   },
   {
    "duration": 13,
    "start_time": "2022-06-08T05:09:34.852Z"
   },
   {
    "duration": 5,
    "start_time": "2022-06-08T05:09:34.866Z"
   },
   {
    "duration": 6,
    "start_time": "2022-06-08T05:09:34.872Z"
   },
   {
    "duration": 13,
    "start_time": "2022-06-08T05:09:34.879Z"
   },
   {
    "duration": 20,
    "start_time": "2022-06-08T05:09:34.893Z"
   },
   {
    "duration": 10,
    "start_time": "2022-06-08T05:09:34.914Z"
   },
   {
    "duration": 8,
    "start_time": "2022-06-08T05:09:34.926Z"
   },
   {
    "duration": 12,
    "start_time": "2022-06-08T05:09:34.936Z"
   },
   {
    "duration": 12,
    "start_time": "2022-06-08T05:09:34.964Z"
   },
   {
    "duration": 12,
    "start_time": "2022-06-08T05:09:34.978Z"
   },
   {
    "duration": 135,
    "start_time": "2022-06-08T05:09:34.992Z"
   },
   {
    "duration": 41,
    "start_time": "2022-06-08T05:09:35.129Z"
   },
   {
    "duration": 21,
    "start_time": "2022-06-08T05:09:35.172Z"
   },
   {
    "duration": 18,
    "start_time": "2022-06-08T05:09:35.195Z"
   },
   {
    "duration": 7,
    "start_time": "2022-06-08T05:09:35.215Z"
   },
   {
    "duration": 8,
    "start_time": "2022-06-08T05:09:35.224Z"
   },
   {
    "duration": 33,
    "start_time": "2022-06-08T05:09:35.234Z"
   },
   {
    "duration": 21,
    "start_time": "2022-06-08T05:09:35.272Z"
   },
   {
    "duration": 15,
    "start_time": "2022-06-08T05:09:35.295Z"
   },
   {
    "duration": 8,
    "start_time": "2022-06-08T05:09:35.311Z"
   },
   {
    "duration": 10,
    "start_time": "2022-06-08T05:09:35.321Z"
   },
   {
    "duration": 6,
    "start_time": "2022-06-08T05:09:35.332Z"
   },
   {
    "duration": 24,
    "start_time": "2022-06-08T05:09:35.365Z"
   },
   {
    "duration": 20,
    "start_time": "2022-06-08T05:09:35.390Z"
   },
   {
    "duration": 25,
    "start_time": "2022-06-08T05:09:35.412Z"
   },
   {
    "duration": 37,
    "start_time": "2022-06-08T05:09:35.439Z"
   },
   {
    "duration": 445,
    "start_time": "2022-06-08T05:09:35.478Z"
   },
   {
    "duration": 10,
    "start_time": "2022-06-08T05:09:35.925Z"
   },
   {
    "duration": 12,
    "start_time": "2022-06-08T05:09:35.937Z"
   },
   {
    "duration": 19,
    "start_time": "2022-06-08T05:09:35.951Z"
   },
   {
    "duration": 6,
    "start_time": "2022-06-08T05:09:35.973Z"
   },
   {
    "duration": 5,
    "start_time": "2022-06-08T05:09:35.981Z"
   },
   {
    "duration": 6,
    "start_time": "2022-06-08T05:09:35.988Z"
   },
   {
    "duration": 198,
    "start_time": "2022-06-08T05:09:35.996Z"
   },
   {
    "duration": 9,
    "start_time": "2022-06-08T05:09:36.196Z"
   },
   {
    "duration": 9,
    "start_time": "2022-06-08T05:09:36.207Z"
   },
   {
    "duration": 4,
    "start_time": "2022-06-08T05:09:36.217Z"
   },
   {
    "duration": 7,
    "start_time": "2022-06-08T05:09:36.223Z"
   },
   {
    "duration": 5,
    "start_time": "2022-06-08T05:09:36.231Z"
   },
   {
    "duration": 27,
    "start_time": "2022-06-08T05:09:36.237Z"
   },
   {
    "duration": 3,
    "start_time": "2022-06-08T05:09:36.266Z"
   },
   {
    "duration": 9,
    "start_time": "2022-06-08T05:09:36.271Z"
   },
   {
    "duration": 6,
    "start_time": "2022-06-08T05:09:36.282Z"
   },
   {
    "duration": 7,
    "start_time": "2022-06-08T05:09:36.290Z"
   },
   {
    "duration": 5,
    "start_time": "2022-06-08T05:09:36.298Z"
   },
   {
    "duration": 14,
    "start_time": "2022-06-08T05:09:36.305Z"
   },
   {
    "duration": 605,
    "start_time": "2022-06-08T05:09:36.321Z"
   },
   {
    "duration": 10,
    "start_time": "2022-06-08T05:09:36.928Z"
   },
   {
    "duration": 32,
    "start_time": "2022-06-08T05:09:36.939Z"
   },
   {
    "duration": 12,
    "start_time": "2022-06-08T05:09:36.973Z"
   },
   {
    "duration": 0,
    "start_time": "2022-06-08T05:09:36.986Z"
   },
   {
    "duration": 0,
    "start_time": "2022-06-08T05:09:36.987Z"
   },
   {
    "duration": 0,
    "start_time": "2022-06-08T05:09:36.988Z"
   },
   {
    "duration": 0,
    "start_time": "2022-06-08T05:09:36.990Z"
   },
   {
    "duration": 0,
    "start_time": "2022-06-08T05:09:36.991Z"
   },
   {
    "duration": 0,
    "start_time": "2022-06-08T05:09:36.992Z"
   },
   {
    "duration": 0,
    "start_time": "2022-06-08T05:09:36.994Z"
   },
   {
    "duration": 0,
    "start_time": "2022-06-08T05:09:36.994Z"
   },
   {
    "duration": 0,
    "start_time": "2022-06-08T05:09:36.995Z"
   },
   {
    "duration": 0,
    "start_time": "2022-06-08T05:09:36.996Z"
   },
   {
    "duration": 0,
    "start_time": "2022-06-08T05:09:36.997Z"
   },
   {
    "duration": 0,
    "start_time": "2022-06-08T05:09:36.998Z"
   },
   {
    "duration": 0,
    "start_time": "2022-06-08T05:09:36.999Z"
   },
   {
    "duration": 0,
    "start_time": "2022-06-08T05:09:37.001Z"
   },
   {
    "duration": 0,
    "start_time": "2022-06-08T05:09:37.002Z"
   },
   {
    "duration": 0,
    "start_time": "2022-06-08T05:09:37.003Z"
   },
   {
    "duration": 36,
    "start_time": "2022-06-08T05:17:13.390Z"
   },
   {
    "duration": 45,
    "start_time": "2022-06-08T05:19:49.211Z"
   },
   {
    "duration": 52,
    "start_time": "2022-06-08T05:20:45.061Z"
   },
   {
    "duration": 3,
    "start_time": "2022-06-08T05:20:45.710Z"
   },
   {
    "duration": 13,
    "start_time": "2022-06-08T05:24:06.151Z"
   },
   {
    "duration": 43,
    "start_time": "2022-06-08T05:36:23.817Z"
   },
   {
    "duration": 2,
    "start_time": "2022-06-08T05:36:40.800Z"
   },
   {
    "duration": 4,
    "start_time": "2022-06-08T05:36:41.542Z"
   },
   {
    "duration": 4,
    "start_time": "2022-06-08T05:36:42.383Z"
   },
   {
    "duration": 5,
    "start_time": "2022-06-08T05:36:43.249Z"
   },
   {
    "duration": 182,
    "start_time": "2022-06-08T05:36:54.921Z"
   },
   {
    "duration": 11,
    "start_time": "2022-06-08T05:36:58.192Z"
   },
   {
    "duration": 30,
    "start_time": "2022-06-08T05:45:15.772Z"
   },
   {
    "duration": 2,
    "start_time": "2022-06-08T05:48:20.510Z"
   },
   {
    "duration": 45,
    "start_time": "2022-06-08T05:48:20.516Z"
   },
   {
    "duration": 75,
    "start_time": "2022-06-08T05:48:20.563Z"
   },
   {
    "duration": 495,
    "start_time": "2022-06-08T05:48:20.640Z"
   },
   {
    "duration": 41,
    "start_time": "2022-06-08T05:48:21.137Z"
   },
   {
    "duration": 10,
    "start_time": "2022-06-08T05:48:21.180Z"
   },
   {
    "duration": 33,
    "start_time": "2022-06-08T05:48:21.191Z"
   },
   {
    "duration": 63,
    "start_time": "2022-06-08T05:48:21.226Z"
   },
   {
    "duration": 11,
    "start_time": "2022-06-08T05:48:21.291Z"
   },
   {
    "duration": 30,
    "start_time": "2022-06-08T05:48:21.303Z"
   },
   {
    "duration": 261,
    "start_time": "2022-06-08T05:48:21.335Z"
   },
   {
    "duration": 99,
    "start_time": "2022-06-08T05:48:21.598Z"
   },
   {
    "duration": 37,
    "start_time": "2022-06-08T05:48:21.699Z"
   },
   {
    "duration": 120,
    "start_time": "2022-06-08T05:48:21.738Z"
   },
   {
    "duration": 7,
    "start_time": "2022-06-08T05:48:21.860Z"
   },
   {
    "duration": 46,
    "start_time": "2022-06-08T05:48:21.869Z"
   },
   {
    "duration": 223,
    "start_time": "2022-06-08T05:48:21.917Z"
   },
   {
    "duration": 9,
    "start_time": "2022-06-08T05:48:22.142Z"
   },
   {
    "duration": 20,
    "start_time": "2022-06-08T05:48:22.152Z"
   },
   {
    "duration": 186,
    "start_time": "2022-06-08T05:48:22.173Z"
   },
   {
    "duration": 9,
    "start_time": "2022-06-08T05:48:22.361Z"
   },
   {
    "duration": 21,
    "start_time": "2022-06-08T05:48:22.371Z"
   },
   {
    "duration": 18,
    "start_time": "2022-06-08T05:48:22.393Z"
   },
   {
    "duration": 158,
    "start_time": "2022-06-08T05:48:22.413Z"
   },
   {
    "duration": 4,
    "start_time": "2022-06-08T05:48:22.573Z"
   },
   {
    "duration": 15,
    "start_time": "2022-06-08T05:48:22.579Z"
   },
   {
    "duration": 22,
    "start_time": "2022-06-08T05:48:22.596Z"
   },
   {
    "duration": 4,
    "start_time": "2022-06-08T05:48:22.619Z"
   },
   {
    "duration": 11,
    "start_time": "2022-06-08T05:48:22.627Z"
   },
   {
    "duration": 55,
    "start_time": "2022-06-08T05:48:22.640Z"
   },
   {
    "duration": 30042,
    "start_time": "2022-06-08T05:48:22.696Z"
   },
   {
    "duration": 84,
    "start_time": "2022-06-08T05:48:52.740Z"
   },
   {
    "duration": 11,
    "start_time": "2022-06-08T05:48:52.826Z"
   },
   {
    "duration": 12,
    "start_time": "2022-06-08T05:48:52.839Z"
   },
   {
    "duration": 17,
    "start_time": "2022-06-08T05:48:52.864Z"
   },
   {
    "duration": 10,
    "start_time": "2022-06-08T05:48:52.883Z"
   },
   {
    "duration": 116,
    "start_time": "2022-06-08T05:48:52.895Z"
   },
   {
    "duration": 257,
    "start_time": "2022-06-08T05:48:53.013Z"
   },
   {
    "duration": 65,
    "start_time": "2022-06-08T05:48:53.272Z"
   },
   {
    "duration": 330,
    "start_time": "2022-06-08T05:48:53.339Z"
   },
   {
    "duration": 7,
    "start_time": "2022-06-08T05:48:53.671Z"
   },
   {
    "duration": 19,
    "start_time": "2022-06-08T05:48:53.680Z"
   },
   {
    "duration": 24,
    "start_time": "2022-06-08T05:48:53.700Z"
   },
   {
    "duration": 105,
    "start_time": "2022-06-08T05:48:53.726Z"
   },
   {
    "duration": 241,
    "start_time": "2022-06-08T05:48:53.833Z"
   },
   {
    "duration": 156,
    "start_time": "2022-06-08T05:48:54.076Z"
   },
   {
    "duration": 4,
    "start_time": "2022-06-08T05:48:54.233Z"
   },
   {
    "duration": 8,
    "start_time": "2022-06-08T05:48:54.239Z"
   },
   {
    "duration": 17,
    "start_time": "2022-06-08T05:48:54.248Z"
   },
   {
    "duration": 171,
    "start_time": "2022-06-08T05:48:54.267Z"
   },
   {
    "duration": 46,
    "start_time": "2022-06-08T05:48:54.439Z"
   },
   {
    "duration": 45,
    "start_time": "2022-06-08T05:48:54.487Z"
   },
   {
    "duration": 70,
    "start_time": "2022-06-08T05:48:54.534Z"
   },
   {
    "duration": 4,
    "start_time": "2022-06-08T05:48:54.606Z"
   },
   {
    "duration": 9,
    "start_time": "2022-06-08T05:48:54.611Z"
   },
   {
    "duration": 14,
    "start_time": "2022-06-08T05:48:54.622Z"
   },
   {
    "duration": 5,
    "start_time": "2022-06-08T05:48:54.638Z"
   },
   {
    "duration": 20,
    "start_time": "2022-06-08T05:48:54.645Z"
   },
   {
    "duration": 5,
    "start_time": "2022-06-08T05:48:54.667Z"
   },
   {
    "duration": 8,
    "start_time": "2022-06-08T05:48:54.674Z"
   },
   {
    "duration": 12,
    "start_time": "2022-06-08T05:48:54.684Z"
   },
   {
    "duration": 11,
    "start_time": "2022-06-08T05:48:54.698Z"
   },
   {
    "duration": 29,
    "start_time": "2022-06-08T05:48:54.710Z"
   },
   {
    "duration": 13,
    "start_time": "2022-06-08T05:48:54.764Z"
   },
   {
    "duration": 11,
    "start_time": "2022-06-08T05:48:54.779Z"
   },
   {
    "duration": 4,
    "start_time": "2022-06-08T05:48:54.791Z"
   },
   {
    "duration": 10,
    "start_time": "2022-06-08T05:48:54.797Z"
   },
   {
    "duration": 16,
    "start_time": "2022-06-08T05:48:54.809Z"
   },
   {
    "duration": 38,
    "start_time": "2022-06-08T05:48:54.827Z"
   },
   {
    "duration": 6,
    "start_time": "2022-06-08T05:48:54.867Z"
   },
   {
    "duration": 9,
    "start_time": "2022-06-08T05:48:54.875Z"
   },
   {
    "duration": 14,
    "start_time": "2022-06-08T05:48:54.886Z"
   },
   {
    "duration": 22,
    "start_time": "2022-06-08T05:48:54.902Z"
   },
   {
    "duration": 8,
    "start_time": "2022-06-08T05:48:54.925Z"
   },
   {
    "duration": 10,
    "start_time": "2022-06-08T05:48:54.934Z"
   },
   {
    "duration": 26,
    "start_time": "2022-06-08T05:48:54.946Z"
   },
   {
    "duration": 13,
    "start_time": "2022-06-08T05:48:54.974Z"
   },
   {
    "duration": 13,
    "start_time": "2022-06-08T05:48:54.989Z"
   },
   {
    "duration": 131,
    "start_time": "2022-06-08T05:48:55.004Z"
   },
   {
    "duration": 42,
    "start_time": "2022-06-08T05:48:55.137Z"
   },
   {
    "duration": 21,
    "start_time": "2022-06-08T05:48:55.180Z"
   },
   {
    "duration": 19,
    "start_time": "2022-06-08T05:48:55.203Z"
   },
   {
    "duration": 9,
    "start_time": "2022-06-08T05:48:55.228Z"
   },
   {
    "duration": 30,
    "start_time": "2022-06-08T05:48:55.238Z"
   },
   {
    "duration": 8,
    "start_time": "2022-06-08T05:48:55.270Z"
   },
   {
    "duration": 17,
    "start_time": "2022-06-08T05:48:55.280Z"
   },
   {
    "duration": 17,
    "start_time": "2022-06-08T05:48:55.298Z"
   },
   {
    "duration": 8,
    "start_time": "2022-06-08T05:48:55.316Z"
   },
   {
    "duration": 40,
    "start_time": "2022-06-08T05:48:55.326Z"
   },
   {
    "duration": 5,
    "start_time": "2022-06-08T05:48:55.367Z"
   },
   {
    "duration": 37,
    "start_time": "2022-06-08T05:48:55.374Z"
   },
   {
    "duration": 19,
    "start_time": "2022-06-08T05:48:55.413Z"
   },
   {
    "duration": 44,
    "start_time": "2022-06-08T05:48:55.434Z"
   },
   {
    "duration": 18,
    "start_time": "2022-06-08T05:48:55.480Z"
   },
   {
    "duration": 480,
    "start_time": "2022-06-08T05:48:55.499Z"
   },
   {
    "duration": 11,
    "start_time": "2022-06-08T05:48:55.981Z"
   },
   {
    "duration": 11,
    "start_time": "2022-06-08T05:48:55.994Z"
   },
   {
    "duration": 5,
    "start_time": "2022-06-08T05:48:56.006Z"
   },
   {
    "duration": 7,
    "start_time": "2022-06-08T05:48:56.013Z"
   },
   {
    "duration": 5,
    "start_time": "2022-06-08T05:48:56.022Z"
   },
   {
    "duration": 7,
    "start_time": "2022-06-08T05:48:56.029Z"
   },
   {
    "duration": 208,
    "start_time": "2022-06-08T05:48:56.037Z"
   },
   {
    "duration": 24,
    "start_time": "2022-06-08T05:48:56.247Z"
   },
   {
    "duration": 10,
    "start_time": "2022-06-08T05:48:56.273Z"
   },
   {
    "duration": 4,
    "start_time": "2022-06-08T05:48:56.285Z"
   },
   {
    "duration": 6,
    "start_time": "2022-06-08T05:48:56.291Z"
   },
   {
    "duration": 6,
    "start_time": "2022-06-08T05:48:56.299Z"
   },
   {
    "duration": 29,
    "start_time": "2022-06-08T05:48:56.307Z"
   },
   {
    "duration": 0,
    "start_time": "2022-06-08T05:48:56.338Z"
   },
   {
    "duration": 0,
    "start_time": "2022-06-08T05:48:56.339Z"
   },
   {
    "duration": 0,
    "start_time": "2022-06-08T05:48:56.341Z"
   },
   {
    "duration": 0,
    "start_time": "2022-06-08T05:48:56.342Z"
   },
   {
    "duration": 0,
    "start_time": "2022-06-08T05:48:56.343Z"
   },
   {
    "duration": 0,
    "start_time": "2022-06-08T05:48:56.344Z"
   },
   {
    "duration": 0,
    "start_time": "2022-06-08T05:48:56.345Z"
   },
   {
    "duration": 0,
    "start_time": "2022-06-08T05:48:56.346Z"
   },
   {
    "duration": 0,
    "start_time": "2022-06-08T05:48:56.347Z"
   },
   {
    "duration": 0,
    "start_time": "2022-06-08T05:48:56.348Z"
   },
   {
    "duration": 0,
    "start_time": "2022-06-08T05:48:56.365Z"
   },
   {
    "duration": 0,
    "start_time": "2022-06-08T05:48:56.366Z"
   },
   {
    "duration": 0,
    "start_time": "2022-06-08T05:48:56.367Z"
   },
   {
    "duration": 0,
    "start_time": "2022-06-08T05:48:56.368Z"
   },
   {
    "duration": 0,
    "start_time": "2022-06-08T05:48:56.369Z"
   },
   {
    "duration": 0,
    "start_time": "2022-06-08T05:48:56.370Z"
   },
   {
    "duration": 0,
    "start_time": "2022-06-08T05:48:56.371Z"
   },
   {
    "duration": 0,
    "start_time": "2022-06-08T05:48:56.372Z"
   },
   {
    "duration": 0,
    "start_time": "2022-06-08T05:48:56.373Z"
   },
   {
    "duration": 0,
    "start_time": "2022-06-08T05:48:56.374Z"
   },
   {
    "duration": 0,
    "start_time": "2022-06-08T05:48:56.375Z"
   },
   {
    "duration": 0,
    "start_time": "2022-06-08T05:48:56.377Z"
   },
   {
    "duration": 0,
    "start_time": "2022-06-08T05:48:56.378Z"
   },
   {
    "duration": 0,
    "start_time": "2022-06-08T05:48:56.379Z"
   },
   {
    "duration": 0,
    "start_time": "2022-06-08T05:48:56.380Z"
   },
   {
    "duration": 0,
    "start_time": "2022-06-08T05:48:56.381Z"
   },
   {
    "duration": 6,
    "start_time": "2022-06-08T06:08:24.449Z"
   },
   {
    "duration": 5,
    "start_time": "2022-06-08T06:08:51.240Z"
   },
   {
    "duration": 5,
    "start_time": "2022-06-08T06:08:52.549Z"
   },
   {
    "duration": 3,
    "start_time": "2022-06-08T06:11:58.148Z"
   },
   {
    "duration": 6,
    "start_time": "2022-06-08T06:11:59.023Z"
   },
   {
    "duration": 24,
    "start_time": "2022-06-08T06:12:58.453Z"
   },
   {
    "duration": 4,
    "start_time": "2022-06-08T06:13:06.516Z"
   },
   {
    "duration": 6,
    "start_time": "2022-06-08T06:13:07.479Z"
   },
   {
    "duration": 4,
    "start_time": "2022-06-08T06:13:55.187Z"
   },
   {
    "duration": 8,
    "start_time": "2022-06-08T06:13:55.789Z"
   },
   {
    "duration": 4,
    "start_time": "2022-06-08T06:16:04.867Z"
   },
   {
    "duration": 8,
    "start_time": "2022-06-08T06:16:05.787Z"
   },
   {
    "duration": 822,
    "start_time": "2022-06-08T12:47:00.591Z"
   },
   {
    "duration": 35,
    "start_time": "2022-06-08T12:47:01.415Z"
   },
   {
    "duration": 61,
    "start_time": "2022-06-08T12:47:01.452Z"
   },
   {
    "duration": 422,
    "start_time": "2022-06-08T12:47:01.515Z"
   },
   {
    "duration": 29,
    "start_time": "2022-06-08T12:47:01.939Z"
   },
   {
    "duration": 12,
    "start_time": "2022-06-08T12:47:01.970Z"
   },
   {
    "duration": 25,
    "start_time": "2022-06-08T12:47:01.984Z"
   },
   {
    "duration": 73,
    "start_time": "2022-06-08T12:47:02.010Z"
   },
   {
    "duration": 9,
    "start_time": "2022-06-08T12:47:02.085Z"
   },
   {
    "duration": 33,
    "start_time": "2022-06-08T12:47:02.098Z"
   },
   {
    "duration": 226,
    "start_time": "2022-06-08T12:47:02.133Z"
   },
   {
    "duration": 90,
    "start_time": "2022-06-08T12:47:02.360Z"
   },
   {
    "duration": 28,
    "start_time": "2022-06-08T12:47:02.451Z"
   },
   {
    "duration": 122,
    "start_time": "2022-06-08T12:47:02.481Z"
   },
   {
    "duration": 4,
    "start_time": "2022-06-08T12:47:02.604Z"
   },
   {
    "duration": 39,
    "start_time": "2022-06-08T12:47:02.610Z"
   },
   {
    "duration": 214,
    "start_time": "2022-06-08T12:47:02.650Z"
   },
   {
    "duration": 8,
    "start_time": "2022-06-08T12:47:02.865Z"
   },
   {
    "duration": 17,
    "start_time": "2022-06-08T12:47:02.875Z"
   },
   {
    "duration": 179,
    "start_time": "2022-06-08T12:47:02.894Z"
   },
   {
    "duration": 9,
    "start_time": "2022-06-08T12:47:03.074Z"
   },
   {
    "duration": 21,
    "start_time": "2022-06-08T12:47:03.085Z"
   },
   {
    "duration": 17,
    "start_time": "2022-06-08T12:47:03.108Z"
   },
   {
    "duration": 170,
    "start_time": "2022-06-08T12:47:03.127Z"
   },
   {
    "duration": 4,
    "start_time": "2022-06-08T12:47:03.299Z"
   },
   {
    "duration": 14,
    "start_time": "2022-06-08T12:47:03.304Z"
   },
   {
    "duration": 21,
    "start_time": "2022-06-08T12:47:03.319Z"
   },
   {
    "duration": 4,
    "start_time": "2022-06-08T12:47:03.345Z"
   },
   {
    "duration": 19,
    "start_time": "2022-06-08T12:47:03.351Z"
   },
   {
    "duration": 59,
    "start_time": "2022-06-08T12:47:03.371Z"
   },
   {
    "duration": 28187,
    "start_time": "2022-06-08T12:47:03.431Z"
   },
   {
    "duration": 69,
    "start_time": "2022-06-08T12:47:31.620Z"
   },
   {
    "duration": 9,
    "start_time": "2022-06-08T12:47:31.691Z"
   },
   {
    "duration": 9,
    "start_time": "2022-06-08T12:47:31.702Z"
   },
   {
    "duration": 12,
    "start_time": "2022-06-08T12:47:31.725Z"
   },
   {
    "duration": 7,
    "start_time": "2022-06-08T12:47:31.738Z"
   },
   {
    "duration": 94,
    "start_time": "2022-06-08T12:47:31.746Z"
   },
   {
    "duration": 213,
    "start_time": "2022-06-08T12:47:31.842Z"
   },
   {
    "duration": 57,
    "start_time": "2022-06-08T12:47:32.057Z"
   },
   {
    "duration": 257,
    "start_time": "2022-06-08T12:47:32.116Z"
   },
   {
    "duration": 6,
    "start_time": "2022-06-08T12:47:32.375Z"
   },
   {
    "duration": 16,
    "start_time": "2022-06-08T12:47:32.382Z"
   },
   {
    "duration": 32,
    "start_time": "2022-06-08T12:47:32.399Z"
   },
   {
    "duration": 71,
    "start_time": "2022-06-08T12:47:32.433Z"
   },
   {
    "duration": 207,
    "start_time": "2022-06-08T12:47:32.506Z"
   },
   {
    "duration": 138,
    "start_time": "2022-06-08T12:47:32.714Z"
   },
   {
    "duration": 4,
    "start_time": "2022-06-08T12:47:32.854Z"
   },
   {
    "duration": 12,
    "start_time": "2022-06-08T12:47:32.859Z"
   },
   {
    "duration": 6,
    "start_time": "2022-06-08T12:47:32.872Z"
   },
   {
    "duration": 125,
    "start_time": "2022-06-08T12:47:32.879Z"
   },
   {
    "duration": 37,
    "start_time": "2022-06-08T12:47:33.006Z"
   },
   {
    "duration": 37,
    "start_time": "2022-06-08T12:47:33.044Z"
   },
   {
    "duration": 56,
    "start_time": "2022-06-08T12:47:33.082Z"
   },
   {
    "duration": 4,
    "start_time": "2022-06-08T12:47:33.139Z"
   },
   {
    "duration": 7,
    "start_time": "2022-06-08T12:47:33.144Z"
   },
   {
    "duration": 8,
    "start_time": "2022-06-08T12:47:33.153Z"
   },
   {
    "duration": 8,
    "start_time": "2022-06-08T12:47:33.163Z"
   },
   {
    "duration": 7,
    "start_time": "2022-06-08T12:47:33.172Z"
   },
   {
    "duration": 6,
    "start_time": "2022-06-08T12:47:33.180Z"
   },
   {
    "duration": 10,
    "start_time": "2022-06-08T12:47:33.187Z"
   },
   {
    "duration": 28,
    "start_time": "2022-06-08T12:47:33.198Z"
   },
   {
    "duration": 10,
    "start_time": "2022-06-08T12:47:33.227Z"
   },
   {
    "duration": 28,
    "start_time": "2022-06-08T12:47:33.238Z"
   },
   {
    "duration": 10,
    "start_time": "2022-06-08T12:47:33.267Z"
   },
   {
    "duration": 21,
    "start_time": "2022-06-08T12:47:33.278Z"
   },
   {
    "duration": 11,
    "start_time": "2022-06-08T12:47:33.300Z"
   },
   {
    "duration": 12,
    "start_time": "2022-06-08T12:47:33.312Z"
   },
   {
    "duration": 16,
    "start_time": "2022-06-08T12:47:33.325Z"
   },
   {
    "duration": 5,
    "start_time": "2022-06-08T12:47:33.342Z"
   },
   {
    "duration": 8,
    "start_time": "2022-06-08T12:47:33.348Z"
   },
   {
    "duration": 7,
    "start_time": "2022-06-08T12:47:33.358Z"
   },
   {
    "duration": 12,
    "start_time": "2022-06-08T12:47:33.367Z"
   },
   {
    "duration": 10,
    "start_time": "2022-06-08T12:47:33.380Z"
   },
   {
    "duration": 8,
    "start_time": "2022-06-08T12:47:33.391Z"
   },
   {
    "duration": 15,
    "start_time": "2022-06-08T12:47:33.400Z"
   },
   {
    "duration": 11,
    "start_time": "2022-06-08T12:47:33.417Z"
   },
   {
    "duration": 10,
    "start_time": "2022-06-08T12:47:33.430Z"
   },
   {
    "duration": 20,
    "start_time": "2022-06-08T12:47:33.442Z"
   },
   {
    "duration": 109,
    "start_time": "2022-06-08T12:47:33.464Z"
   },
   {
    "duration": 21,
    "start_time": "2022-06-08T12:47:33.575Z"
   },
   {
    "duration": 29,
    "start_time": "2022-06-08T12:47:33.598Z"
   },
   {
    "duration": 18,
    "start_time": "2022-06-08T12:47:33.631Z"
   },
   {
    "duration": 8,
    "start_time": "2022-06-08T12:47:33.650Z"
   },
   {
    "duration": 9,
    "start_time": "2022-06-08T12:47:33.659Z"
   },
   {
    "duration": 8,
    "start_time": "2022-06-08T12:47:33.669Z"
   },
   {
    "duration": 15,
    "start_time": "2022-06-08T12:47:33.678Z"
   },
   {
    "duration": 40,
    "start_time": "2022-06-08T12:47:33.695Z"
   },
   {
    "duration": 9,
    "start_time": "2022-06-08T12:47:33.736Z"
   },
   {
    "duration": 10,
    "start_time": "2022-06-08T12:47:33.746Z"
   },
   {
    "duration": 6,
    "start_time": "2022-06-08T12:47:33.758Z"
   },
   {
    "duration": 21,
    "start_time": "2022-06-08T12:47:33.765Z"
   },
   {
    "duration": 40,
    "start_time": "2022-06-08T12:47:33.787Z"
   },
   {
    "duration": 19,
    "start_time": "2022-06-08T12:47:33.828Z"
   },
   {
    "duration": 16,
    "start_time": "2022-06-08T12:47:33.848Z"
   },
   {
    "duration": 424,
    "start_time": "2022-06-08T12:47:33.865Z"
   },
   {
    "duration": 10,
    "start_time": "2022-06-08T12:47:34.290Z"
   },
   {
    "duration": 12,
    "start_time": "2022-06-08T12:47:34.302Z"
   },
   {
    "duration": 2,
    "start_time": "2022-06-08T12:47:34.325Z"
   },
   {
    "duration": 5,
    "start_time": "2022-06-08T12:47:34.328Z"
   },
   {
    "duration": 6,
    "start_time": "2022-06-08T12:47:34.334Z"
   },
   {
    "duration": 6,
    "start_time": "2022-06-08T12:47:34.341Z"
   },
   {
    "duration": 177,
    "start_time": "2022-06-08T12:47:34.348Z"
   },
   {
    "duration": 8,
    "start_time": "2022-06-08T12:47:34.527Z"
   },
   {
    "duration": 7,
    "start_time": "2022-06-08T12:47:34.536Z"
   },
   {
    "duration": 7,
    "start_time": "2022-06-08T12:47:34.544Z"
   },
   {
    "duration": 6,
    "start_time": "2022-06-08T12:47:34.552Z"
   },
   {
    "duration": 7,
    "start_time": "2022-06-08T12:47:34.559Z"
   },
   {
    "duration": 13,
    "start_time": "2022-06-08T12:47:34.568Z"
   },
   {
    "duration": 14,
    "start_time": "2022-06-08T12:47:34.583Z"
   },
   {
    "duration": 4,
    "start_time": "2022-06-08T12:47:34.599Z"
   },
   {
    "duration": 21,
    "start_time": "2022-06-08T12:47:34.605Z"
   },
   {
    "duration": 6,
    "start_time": "2022-06-08T12:47:34.628Z"
   },
   {
    "duration": 8,
    "start_time": "2022-06-08T12:47:34.635Z"
   },
   {
    "duration": 34,
    "start_time": "2022-06-08T12:47:34.644Z"
   },
   {
    "duration": 0,
    "start_time": "2022-06-08T12:47:34.680Z"
   },
   {
    "duration": 0,
    "start_time": "2022-06-08T12:47:34.681Z"
   },
   {
    "duration": 0,
    "start_time": "2022-06-08T12:47:34.682Z"
   },
   {
    "duration": 0,
    "start_time": "2022-06-08T12:47:34.683Z"
   },
   {
    "duration": 0,
    "start_time": "2022-06-08T12:47:34.684Z"
   },
   {
    "duration": 0,
    "start_time": "2022-06-08T12:47:34.684Z"
   },
   {
    "duration": 0,
    "start_time": "2022-06-08T12:47:34.686Z"
   },
   {
    "duration": 0,
    "start_time": "2022-06-08T12:47:34.687Z"
   },
   {
    "duration": 0,
    "start_time": "2022-06-08T12:47:34.688Z"
   },
   {
    "duration": 0,
    "start_time": "2022-06-08T12:47:34.689Z"
   },
   {
    "duration": 0,
    "start_time": "2022-06-08T12:47:34.690Z"
   },
   {
    "duration": 0,
    "start_time": "2022-06-08T12:47:34.691Z"
   },
   {
    "duration": 0,
    "start_time": "2022-06-08T12:47:34.692Z"
   },
   {
    "duration": 0,
    "start_time": "2022-06-08T12:47:34.693Z"
   },
   {
    "duration": 0,
    "start_time": "2022-06-08T12:47:34.694Z"
   },
   {
    "duration": 0,
    "start_time": "2022-06-08T12:47:34.695Z"
   },
   {
    "duration": 0,
    "start_time": "2022-06-08T12:47:34.696Z"
   },
   {
    "duration": 1,
    "start_time": "2022-06-08T12:47:34.697Z"
   },
   {
    "duration": 0,
    "start_time": "2022-06-08T12:47:34.699Z"
   },
   {
    "duration": 0,
    "start_time": "2022-06-08T12:47:34.700Z"
   },
   {
    "duration": 0,
    "start_time": "2022-06-08T12:47:34.701Z"
   },
   {
    "duration": 0,
    "start_time": "2022-06-08T12:47:34.702Z"
   },
   {
    "duration": 3,
    "start_time": "2022-06-08T12:49:38.335Z"
   },
   {
    "duration": 10,
    "start_time": "2022-06-08T12:59:19.918Z"
   },
   {
    "duration": 3,
    "start_time": "2022-06-08T13:00:28.620Z"
   },
   {
    "duration": 6,
    "start_time": "2022-06-08T13:00:31.948Z"
   },
   {
    "duration": 4,
    "start_time": "2022-06-08T13:01:10.652Z"
   },
   {
    "duration": 4,
    "start_time": "2022-06-08T13:01:16.144Z"
   },
   {
    "duration": 3,
    "start_time": "2022-06-08T13:01:56.293Z"
   },
   {
    "duration": 3,
    "start_time": "2022-06-08T13:02:23.921Z"
   },
   {
    "duration": 3,
    "start_time": "2022-06-08T13:15:10.773Z"
   },
   {
    "duration": 5,
    "start_time": "2022-06-08T13:15:11.413Z"
   },
   {
    "duration": 40,
    "start_time": "2022-06-08T13:18:26.394Z"
   },
   {
    "duration": 3,
    "start_time": "2022-06-08T13:21:25.746Z"
   },
   {
    "duration": 5,
    "start_time": "2022-06-08T13:21:27.402Z"
   },
   {
    "duration": 4,
    "start_time": "2022-06-08T13:43:53.215Z"
   },
   {
    "duration": 30,
    "start_time": "2022-06-08T13:43:53.910Z"
   },
   {
    "duration": 60,
    "start_time": "2022-06-08T13:43:54.134Z"
   },
   {
    "duration": 423,
    "start_time": "2022-06-08T13:43:54.359Z"
   },
   {
    "duration": 33,
    "start_time": "2022-06-08T13:43:54.783Z"
   },
   {
    "duration": 8,
    "start_time": "2022-06-08T13:43:55.889Z"
   },
   {
    "duration": 18,
    "start_time": "2022-06-08T13:43:56.153Z"
   },
   {
    "duration": 46,
    "start_time": "2022-06-08T13:43:56.379Z"
   },
   {
    "duration": 12,
    "start_time": "2022-06-08T13:43:56.677Z"
   },
   {
    "duration": 10,
    "start_time": "2022-06-08T13:43:57.374Z"
   },
   {
    "duration": 227,
    "start_time": "2022-06-08T13:43:57.573Z"
   },
   {
    "duration": 103,
    "start_time": "2022-06-08T13:43:57.802Z"
   },
   {
    "duration": 29,
    "start_time": "2022-06-08T13:43:58.157Z"
   },
   {
    "duration": 102,
    "start_time": "2022-06-08T13:43:58.624Z"
   },
   {
    "duration": 4,
    "start_time": "2022-06-08T13:43:59.225Z"
   },
   {
    "duration": 27,
    "start_time": "2022-06-08T13:43:59.439Z"
   },
   {
    "duration": 212,
    "start_time": "2022-06-08T13:43:59.662Z"
   },
   {
    "duration": 15,
    "start_time": "2022-06-08T13:43:59.876Z"
   },
   {
    "duration": 7,
    "start_time": "2022-06-08T13:44:01.321Z"
   },
   {
    "duration": 159,
    "start_time": "2022-06-08T13:44:01.590Z"
   },
   {
    "duration": 8,
    "start_time": "2022-06-08T13:44:01.968Z"
   },
   {
    "duration": 5,
    "start_time": "2022-06-08T13:44:02.152Z"
   },
   {
    "duration": 7,
    "start_time": "2022-06-08T13:44:02.613Z"
   },
   {
    "duration": 169,
    "start_time": "2022-06-08T13:44:03.232Z"
   },
   {
    "duration": 3,
    "start_time": "2022-06-08T13:44:03.453Z"
   },
   {
    "duration": 7,
    "start_time": "2022-06-08T13:44:03.656Z"
   },
   {
    "duration": 18,
    "start_time": "2022-06-08T13:44:04.051Z"
   },
   {
    "duration": 4,
    "start_time": "2022-06-08T13:44:04.626Z"
   },
   {
    "duration": 13,
    "start_time": "2022-06-08T13:44:05.060Z"
   },
   {
    "duration": 31,
    "start_time": "2022-06-08T13:44:05.262Z"
   },
   {
    "duration": 27476,
    "start_time": "2022-06-08T13:44:05.545Z"
   },
   {
    "duration": 62,
    "start_time": "2022-06-08T13:44:33.022Z"
   },
   {
    "duration": 10,
    "start_time": "2022-06-08T13:44:33.086Z"
   },
   {
    "duration": 11,
    "start_time": "2022-06-08T13:44:33.098Z"
   },
   {
    "duration": 26,
    "start_time": "2022-06-08T13:44:33.110Z"
   },
   {
    "duration": 7,
    "start_time": "2022-06-08T13:44:33.138Z"
   },
   {
    "duration": 95,
    "start_time": "2022-06-08T13:44:33.146Z"
   },
   {
    "duration": 217,
    "start_time": "2022-06-08T13:44:33.242Z"
   },
   {
    "duration": 65,
    "start_time": "2022-06-08T13:44:33.460Z"
   },
   {
    "duration": 273,
    "start_time": "2022-06-08T13:44:33.528Z"
   },
   {
    "duration": 5,
    "start_time": "2022-06-08T13:44:33.802Z"
   },
   {
    "duration": 26,
    "start_time": "2022-06-08T13:44:33.808Z"
   },
   {
    "duration": 22,
    "start_time": "2022-06-08T13:44:33.836Z"
   },
   {
    "duration": 96,
    "start_time": "2022-06-08T13:44:33.859Z"
   },
   {
    "duration": 233,
    "start_time": "2022-06-08T13:44:33.956Z"
   },
   {
    "duration": 147,
    "start_time": "2022-06-08T13:44:34.191Z"
   },
   {
    "duration": 4,
    "start_time": "2022-06-08T13:44:34.339Z"
   },
   {
    "duration": 8,
    "start_time": "2022-06-08T13:44:34.344Z"
   },
   {
    "duration": 7,
    "start_time": "2022-06-08T13:44:34.353Z"
   },
   {
    "duration": 180,
    "start_time": "2022-06-08T13:44:34.361Z"
   },
   {
    "duration": 34,
    "start_time": "2022-06-08T13:44:34.542Z"
   },
   {
    "duration": 54,
    "start_time": "2022-06-08T13:44:34.578Z"
   },
   {
    "duration": 54,
    "start_time": "2022-06-08T13:44:34.634Z"
   },
   {
    "duration": 3,
    "start_time": "2022-06-08T13:44:34.690Z"
   },
   {
    "duration": 8,
    "start_time": "2022-06-08T13:44:34.694Z"
   },
   {
    "duration": 7,
    "start_time": "2022-06-08T13:44:34.703Z"
   },
   {
    "duration": 20,
    "start_time": "2022-06-08T13:44:34.712Z"
   },
   {
    "duration": 5,
    "start_time": "2022-06-08T13:44:34.736Z"
   },
   {
    "duration": 10,
    "start_time": "2022-06-08T13:44:34.742Z"
   },
   {
    "duration": 7,
    "start_time": "2022-06-08T13:44:34.753Z"
   },
   {
    "duration": 11,
    "start_time": "2022-06-08T13:44:34.762Z"
   },
   {
    "duration": 14,
    "start_time": "2022-06-08T13:44:34.775Z"
   },
   {
    "duration": 12,
    "start_time": "2022-06-08T13:44:34.790Z"
   },
   {
    "duration": 46,
    "start_time": "2022-06-08T13:44:34.803Z"
   },
   {
    "duration": 12,
    "start_time": "2022-06-08T13:44:34.850Z"
   },
   {
    "duration": 8,
    "start_time": "2022-06-08T13:44:34.863Z"
   },
   {
    "duration": 4,
    "start_time": "2022-06-08T13:44:34.872Z"
   },
   {
    "duration": 15,
    "start_time": "2022-06-08T13:44:34.878Z"
   },
   {
    "duration": 12,
    "start_time": "2022-06-08T13:44:34.894Z"
   },
   {
    "duration": 19,
    "start_time": "2022-06-08T13:44:34.907Z"
   },
   {
    "duration": 5,
    "start_time": "2022-06-08T13:44:34.927Z"
   },
   {
    "duration": 6,
    "start_time": "2022-06-08T13:44:34.934Z"
   },
   {
    "duration": 12,
    "start_time": "2022-06-08T13:44:34.941Z"
   },
   {
    "duration": 10,
    "start_time": "2022-06-08T13:44:34.954Z"
   },
   {
    "duration": 6,
    "start_time": "2022-06-08T13:44:34.966Z"
   },
   {
    "duration": 10,
    "start_time": "2022-06-08T13:44:34.973Z"
   },
   {
    "duration": 12,
    "start_time": "2022-06-08T13:44:34.984Z"
   },
   {
    "duration": 35,
    "start_time": "2022-06-08T13:44:34.997Z"
   },
   {
    "duration": 13,
    "start_time": "2022-06-08T13:44:35.033Z"
   },
   {
    "duration": 106,
    "start_time": "2022-06-08T13:44:35.047Z"
   },
   {
    "duration": 20,
    "start_time": "2022-06-08T13:44:35.154Z"
   },
   {
    "duration": 18,
    "start_time": "2022-06-08T13:44:35.176Z"
   },
   {
    "duration": 38,
    "start_time": "2022-06-08T13:44:35.195Z"
   },
   {
    "duration": 8,
    "start_time": "2022-06-08T13:44:35.235Z"
   },
   {
    "duration": 9,
    "start_time": "2022-06-08T13:44:35.244Z"
   },
   {
    "duration": 4,
    "start_time": "2022-06-08T13:44:35.254Z"
   },
   {
    "duration": 15,
    "start_time": "2022-06-08T13:44:35.259Z"
   },
   {
    "duration": 13,
    "start_time": "2022-06-08T13:44:35.275Z"
   },
   {
    "duration": 37,
    "start_time": "2022-06-08T13:44:35.289Z"
   },
   {
    "duration": 10,
    "start_time": "2022-06-08T13:44:35.328Z"
   },
   {
    "duration": 7,
    "start_time": "2022-06-08T13:44:35.339Z"
   },
   {
    "duration": 22,
    "start_time": "2022-06-08T13:44:35.347Z"
   },
   {
    "duration": 16,
    "start_time": "2022-06-08T13:44:35.371Z"
   },
   {
    "duration": 42,
    "start_time": "2022-06-08T13:44:35.389Z"
   },
   {
    "duration": 16,
    "start_time": "2022-06-08T13:44:35.432Z"
   },
   {
    "duration": 483,
    "start_time": "2022-06-08T13:44:35.451Z"
   },
   {
    "duration": 9,
    "start_time": "2022-06-08T13:44:35.936Z"
   },
   {
    "duration": 7,
    "start_time": "2022-06-08T13:44:35.946Z"
   },
   {
    "duration": 3,
    "start_time": "2022-06-08T13:44:36.043Z"
   },
   {
    "duration": 3,
    "start_time": "2022-06-08T13:44:36.324Z"
   },
   {
    "duration": 4,
    "start_time": "2022-06-08T13:44:36.560Z"
   },
   {
    "duration": 3,
    "start_time": "2022-06-08T13:44:36.752Z"
   },
   {
    "duration": 3,
    "start_time": "2022-06-08T13:44:37.051Z"
   },
   {
    "duration": 158,
    "start_time": "2022-06-08T13:44:37.244Z"
   },
   {
    "duration": 9,
    "start_time": "2022-06-08T13:44:37.456Z"
   },
   {
    "duration": 4,
    "start_time": "2022-06-08T13:44:37.676Z"
   },
   {
    "duration": 3,
    "start_time": "2022-06-08T13:44:37.909Z"
   },
   {
    "duration": 3,
    "start_time": "2022-06-08T13:44:38.165Z"
   },
   {
    "duration": 3,
    "start_time": "2022-06-08T13:44:38.702Z"
   },
   {
    "duration": 3,
    "start_time": "2022-06-08T13:44:38.966Z"
   },
   {
    "duration": 3,
    "start_time": "2022-06-08T13:44:40.830Z"
   },
   {
    "duration": 5,
    "start_time": "2022-06-08T13:44:41.070Z"
   },
   {
    "duration": 3,
    "start_time": "2022-06-08T13:44:41.752Z"
   },
   {
    "duration": 5,
    "start_time": "2022-06-08T13:44:42.416Z"
   },
   {
    "duration": 3,
    "start_time": "2022-06-08T13:44:43.106Z"
   },
   {
    "duration": 5,
    "start_time": "2022-06-08T13:44:43.343Z"
   },
   {
    "duration": 4,
    "start_time": "2022-06-08T13:44:43.985Z"
   },
   {
    "duration": 5,
    "start_time": "2022-06-08T13:44:44.218Z"
   },
   {
    "duration": 1198,
    "start_time": "2022-06-08T15:01:11.733Z"
   },
   {
    "duration": 106,
    "start_time": "2022-06-08T15:01:12.934Z"
   },
   {
    "duration": 289,
    "start_time": "2022-06-08T15:01:13.042Z"
   },
   {
    "duration": 1743,
    "start_time": "2022-06-08T15:01:13.557Z"
   },
   {
    "duration": 179,
    "start_time": "2022-06-08T15:01:15.306Z"
   },
   {
    "duration": 28,
    "start_time": "2022-06-08T15:01:15.496Z"
   },
   {
    "duration": 43,
    "start_time": "2022-06-08T15:01:15.533Z"
   },
   {
    "duration": 113,
    "start_time": "2022-06-08T15:01:15.764Z"
   },
   {
    "duration": 17,
    "start_time": "2022-06-08T15:01:16.025Z"
   },
   {
    "duration": 17,
    "start_time": "2022-06-08T15:01:25.147Z"
   },
   {
    "duration": 338,
    "start_time": "2022-06-08T15:01:25.674Z"
   },
   {
    "duration": 256,
    "start_time": "2022-06-08T15:01:26.531Z"
   },
   {
    "duration": 40,
    "start_time": "2022-06-08T15:01:28.698Z"
   },
   {
    "duration": 208,
    "start_time": "2022-06-08T15:01:30.127Z"
   },
   {
    "duration": 10,
    "start_time": "2022-06-08T15:01:31.135Z"
   },
   {
    "duration": 54,
    "start_time": "2022-06-08T15:01:31.618Z"
   },
   {
    "duration": 414,
    "start_time": "2022-06-08T15:01:31.923Z"
   },
   {
    "duration": 14,
    "start_time": "2022-06-08T15:01:32.340Z"
   },
   {
    "duration": 15,
    "start_time": "2022-06-08T15:01:35.426Z"
   },
   {
    "duration": 298,
    "start_time": "2022-06-08T15:01:35.721Z"
   },
   {
    "duration": 17,
    "start_time": "2022-06-08T15:01:37.059Z"
   },
   {
    "duration": 6,
    "start_time": "2022-06-08T15:01:42.761Z"
   },
   {
    "duration": 15,
    "start_time": "2022-06-08T15:01:47.907Z"
   },
   {
    "duration": 18,
    "start_time": "2022-06-08T15:02:20.228Z"
   },
   {
    "duration": 89,
    "start_time": "2022-06-08T15:02:21.195Z"
   },
   {
    "duration": 40031,
    "start_time": "2022-06-08T15:02:22.187Z"
   },
   {
    "duration": 95,
    "start_time": "2022-06-08T15:03:07.467Z"
   },
   {
    "duration": 2844,
    "start_time": "2022-06-08T15:03:08.268Z"
   },
   {
    "duration": 15,
    "start_time": "2022-06-08T15:03:32.841Z"
   },
   {
    "duration": 17,
    "start_time": "2022-06-08T15:03:35.146Z"
   },
   {
    "duration": 13,
    "start_time": "2022-06-08T15:03:37.970Z"
   },
   {
    "duration": 106,
    "start_time": "2022-06-08T15:03:39.130Z"
   },
   {
    "duration": 238,
    "start_time": "2022-06-08T15:03:43.354Z"
   },
   {
    "duration": 66,
    "start_time": "2022-06-08T15:03:44.354Z"
   },
   {
    "duration": 267,
    "start_time": "2022-06-08T15:03:45.290Z"
   },
   {
    "duration": 7,
    "start_time": "2022-06-08T15:03:46.266Z"
   },
   {
    "duration": 28,
    "start_time": "2022-06-08T15:03:57.652Z"
   },
   {
    "duration": 30,
    "start_time": "2022-06-08T15:03:58.443Z"
   },
   {
    "duration": 76,
    "start_time": "2022-06-08T15:04:00.115Z"
   },
   {
    "duration": 235,
    "start_time": "2022-06-08T15:04:09.488Z"
   },
   {
    "duration": 157,
    "start_time": "2022-06-08T15:04:11.242Z"
   },
   {
    "duration": 4,
    "start_time": "2022-06-08T15:04:12.818Z"
   },
   {
    "duration": 4,
    "start_time": "2022-06-08T15:04:30.429Z"
   },
   {
    "duration": 4,
    "start_time": "2022-06-08T15:04:31.243Z"
   },
   {
    "duration": 154,
    "start_time": "2022-06-08T15:04:32.554Z"
   },
   {
    "duration": 41,
    "start_time": "2022-06-08T15:04:34.017Z"
   },
   {
    "duration": 34,
    "start_time": "2022-06-08T15:05:03.367Z"
   },
   {
    "duration": 51,
    "start_time": "2022-06-08T15:06:45.088Z"
   },
   {
    "duration": 75,
    "start_time": "2022-06-08T15:06:46.313Z"
   },
   {
    "duration": 4,
    "start_time": "2022-06-08T15:06:47.268Z"
   },
   {
    "duration": 4,
    "start_time": "2022-06-08T15:06:48.454Z"
   },
   {
    "duration": 13,
    "start_time": "2022-06-08T15:07:17.125Z"
   },
   {
    "duration": 12,
    "start_time": "2022-06-08T15:07:17.900Z"
   },
   {
    "duration": 10,
    "start_time": "2022-06-08T15:07:18.756Z"
   },
   {
    "duration": 7,
    "start_time": "2022-06-08T15:07:19.438Z"
   },
   {
    "duration": 4,
    "start_time": "2022-06-08T15:07:19.890Z"
   },
   {
    "duration": 10,
    "start_time": "2022-06-08T15:07:30.829Z"
   },
   {
    "duration": 9,
    "start_time": "2022-06-08T15:07:31.816Z"
   },
   {
    "duration": 13,
    "start_time": "2022-06-08T15:08:24.710Z"
   },
   {
    "duration": 46,
    "start_time": "2022-06-08T15:08:25.490Z"
   },
   {
    "duration": 19,
    "start_time": "2022-06-08T15:08:26.348Z"
   },
   {
    "duration": 12,
    "start_time": "2022-06-08T15:08:28.110Z"
   },
   {
    "duration": 4,
    "start_time": "2022-06-08T15:08:29.468Z"
   },
   {
    "duration": 11,
    "start_time": "2022-06-08T15:08:49.696Z"
   },
   {
    "duration": 16,
    "start_time": "2022-06-08T15:09:21.461Z"
   },
   {
    "duration": 5,
    "start_time": "2022-06-08T15:09:22.545Z"
   },
   {
    "duration": 6,
    "start_time": "2022-06-08T15:09:23.392Z"
   },
   {
    "duration": 10,
    "start_time": "2022-06-08T15:09:24.248Z"
   },
   {
    "duration": 25,
    "start_time": "2022-06-08T15:09:25.221Z"
   },
   {
    "duration": 12,
    "start_time": "2022-06-08T15:09:27.157Z"
   },
   {
    "duration": 9,
    "start_time": "2022-06-08T15:09:28.103Z"
   },
   {
    "duration": 22,
    "start_time": "2022-06-08T15:09:29.316Z"
   },
   {
    "duration": 13,
    "start_time": "2022-06-08T15:09:30.267Z"
   },
   {
    "duration": 14,
    "start_time": "2022-06-08T15:09:31.395Z"
   },
   {
    "duration": 15,
    "start_time": "2022-06-08T15:09:32.848Z"
   },
   {
    "duration": 123,
    "start_time": "2022-06-08T15:09:34.367Z"
   },
   {
    "duration": 33,
    "start_time": "2022-06-08T15:09:44.449Z"
   },
   {
    "duration": 32,
    "start_time": "2022-06-08T15:09:54.824Z"
   },
   {
    "duration": 17,
    "start_time": "2022-06-08T15:09:55.806Z"
   },
   {
    "duration": 9,
    "start_time": "2022-06-08T15:09:57.986Z"
   },
   {
    "duration": 9,
    "start_time": "2022-06-08T15:09:59.448Z"
   },
   {
    "duration": 4,
    "start_time": "2022-06-08T15:10:00.510Z"
   },
   {
    "duration": 17,
    "start_time": "2022-06-08T15:10:01.973Z"
   },
   {
    "duration": 15,
    "start_time": "2022-06-08T15:10:03.087Z"
   },
   {
    "duration": 16,
    "start_time": "2022-06-08T15:10:04.852Z"
   },
   {
    "duration": 11,
    "start_time": "2022-06-08T15:10:06.067Z"
   },
   {
    "duration": 6,
    "start_time": "2022-06-08T15:10:07.059Z"
   },
   {
    "duration": 40,
    "start_time": "2022-06-08T15:10:20.121Z"
   },
   {
    "duration": 27,
    "start_time": "2022-06-08T15:10:21.033Z"
   },
   {
    "duration": 23,
    "start_time": "2022-06-08T15:10:21.987Z"
   },
   {
    "duration": 21,
    "start_time": "2022-06-08T15:10:22.997Z"
   },
   {
    "duration": 640,
    "start_time": "2022-06-08T15:10:37.049Z"
   },
   {
    "duration": 15,
    "start_time": "2022-06-08T15:10:39.676Z"
   },
   {
    "duration": 5,
    "start_time": "2022-06-08T15:11:15.106Z"
   },
   {
    "duration": 5,
    "start_time": "2022-06-08T15:11:16.446Z"
   },
   {
    "duration": 3,
    "start_time": "2022-06-08T15:11:19.974Z"
   },
   {
    "duration": 6,
    "start_time": "2022-06-08T15:11:20.754Z"
   },
   {
    "duration": 17,
    "start_time": "2022-06-08T15:11:21.257Z"
   },
   {
    "duration": 5,
    "start_time": "2022-06-08T15:11:21.959Z"
   },
   {
    "duration": 220,
    "start_time": "2022-06-08T15:11:40.255Z"
   },
   {
    "duration": 9,
    "start_time": "2022-06-08T15:11:41.893Z"
   },
   {
    "duration": 7,
    "start_time": "2022-06-08T15:12:24.654Z"
   },
   {
    "duration": 3,
    "start_time": "2022-06-08T15:12:28.613Z"
   },
   {
    "duration": 3,
    "start_time": "2022-06-08T15:12:29.574Z"
   },
   {
    "duration": 4,
    "start_time": "2022-06-08T15:12:31.316Z"
   },
   {
    "duration": 5,
    "start_time": "2022-06-08T15:12:32.101Z"
   },
   {
    "duration": 6,
    "start_time": "2022-06-08T15:12:50.627Z"
   },
   {
    "duration": 3,
    "start_time": "2022-06-08T15:12:52.222Z"
   },
   {
    "duration": 3,
    "start_time": "2022-06-08T15:12:52.999Z"
   },
   {
    "duration": 4,
    "start_time": "2022-06-08T15:12:54.099Z"
   },
   {
    "duration": 4,
    "start_time": "2022-06-08T15:12:54.821Z"
   },
   {
    "duration": 4,
    "start_time": "2022-06-08T15:14:37.637Z"
   },
   {
    "duration": 7,
    "start_time": "2022-06-08T15:14:38.316Z"
   },
   {
    "duration": 4,
    "start_time": "2022-06-08T15:14:54.986Z"
   },
   {
    "duration": 7,
    "start_time": "2022-06-08T15:14:55.972Z"
   },
   {
    "duration": 4,
    "start_time": "2022-06-08T15:15:20.814Z"
   },
   {
    "duration": 5,
    "start_time": "2022-06-08T15:15:21.669Z"
   },
   {
    "duration": 3,
    "start_time": "2022-06-08T15:15:32.089Z"
   },
   {
    "duration": 5,
    "start_time": "2022-06-08T15:15:32.831Z"
   },
   {
    "duration": 3,
    "start_time": "2022-06-08T15:21:13.070Z"
   },
   {
    "duration": 61,
    "start_time": "2022-06-08T15:21:20.786Z"
   },
   {
    "duration": 118,
    "start_time": "2022-06-08T15:21:21.496Z"
   },
   {
    "duration": 602,
    "start_time": "2022-06-08T15:21:22.114Z"
   },
   {
    "duration": 29,
    "start_time": "2022-06-08T15:21:22.762Z"
   },
   {
    "duration": 8,
    "start_time": "2022-06-08T15:21:28.210Z"
   },
   {
    "duration": 16,
    "start_time": "2022-06-08T15:21:29.122Z"
   },
   {
    "duration": 56,
    "start_time": "2022-06-08T15:21:29.890Z"
   },
   {
    "duration": 10,
    "start_time": "2022-06-08T15:21:30.591Z"
   },
   {
    "duration": 11,
    "start_time": "2022-06-08T15:21:33.319Z"
   },
   {
    "duration": 192,
    "start_time": "2022-06-08T15:21:34.266Z"
   },
   {
    "duration": 89,
    "start_time": "2022-06-08T15:21:34.942Z"
   },
   {
    "duration": 34,
    "start_time": "2022-06-08T15:21:37.410Z"
   },
   {
    "duration": 108,
    "start_time": "2022-06-08T15:21:40.154Z"
   },
   {
    "duration": 5,
    "start_time": "2022-06-08T15:21:42.919Z"
   },
   {
    "duration": 31,
    "start_time": "2022-06-08T15:21:43.240Z"
   },
   {
    "duration": 201,
    "start_time": "2022-06-08T15:21:43.632Z"
   },
   {
    "duration": 9,
    "start_time": "2022-06-08T15:21:44.069Z"
   },
   {
    "duration": 2,
    "start_time": "2022-06-08T15:38:57.701Z"
   },
   {
    "duration": 32,
    "start_time": "2022-06-08T15:38:59.542Z"
   },
   {
    "duration": 66,
    "start_time": "2022-06-08T15:39:00.335Z"
   },
   {
    "duration": 450,
    "start_time": "2022-06-08T15:39:00.656Z"
   },
   {
    "duration": 34,
    "start_time": "2022-06-08T15:39:01.108Z"
   },
   {
    "duration": 9,
    "start_time": "2022-06-08T15:39:03.286Z"
   },
   {
    "duration": 20,
    "start_time": "2022-06-08T15:39:03.792Z"
   },
   {
    "duration": 60,
    "start_time": "2022-06-08T15:39:04.167Z"
   },
   {
    "duration": 10,
    "start_time": "2022-06-08T15:39:04.642Z"
   },
   {
    "duration": 13,
    "start_time": "2022-06-08T15:39:11.831Z"
   },
   {
    "duration": 215,
    "start_time": "2022-06-08T15:39:12.591Z"
   },
   {
    "duration": 8,
    "start_time": "2022-06-08T15:39:21.082Z"
   },
   {
    "duration": 193,
    "start_time": "2022-06-08T15:39:22.222Z"
   },
   {
    "duration": 123,
    "start_time": "2022-06-08T15:39:26.228Z"
   },
   {
    "duration": 37,
    "start_time": "2022-06-08T15:39:31.550Z"
   },
   {
    "duration": 128,
    "start_time": "2022-06-08T15:39:37.182Z"
   },
   {
    "duration": 5,
    "start_time": "2022-06-08T15:39:40.183Z"
   },
   {
    "duration": 26,
    "start_time": "2022-06-08T15:39:40.791Z"
   },
   {
    "duration": 194,
    "start_time": "2022-06-08T15:39:41.327Z"
   },
   {
    "duration": 9,
    "start_time": "2022-06-08T15:39:41.686Z"
   },
   {
    "duration": 10,
    "start_time": "2022-06-08T15:39:51.191Z"
   },
   {
    "duration": 171,
    "start_time": "2022-06-08T15:39:51.854Z"
   },
   {
    "duration": 12,
    "start_time": "2022-06-08T15:39:53.389Z"
   },
   {
    "duration": 5,
    "start_time": "2022-06-08T15:39:54.559Z"
   },
   {
    "duration": 7,
    "start_time": "2022-06-08T15:39:59.119Z"
   },
   {
    "duration": 12,
    "start_time": "2022-06-08T15:40:02.229Z"
   },
   {
    "duration": 8,
    "start_time": "2022-06-08T15:40:09.099Z"
   },
   {
    "duration": 35,
    "start_time": "2022-06-08T15:40:12.414Z"
   },
   {
    "duration": 27981,
    "start_time": "2022-06-08T15:41:19.945Z"
   },
   {
    "duration": 59,
    "start_time": "2022-06-08T15:41:47.927Z"
   },
   {
    "duration": 9,
    "start_time": "2022-06-08T15:41:47.988Z"
   },
   {
    "duration": 8,
    "start_time": "2022-06-08T15:42:50.290Z"
   },
   {
    "duration": 12,
    "start_time": "2022-06-08T15:42:59.680Z"
   },
   {
    "duration": 9,
    "start_time": "2022-06-08T15:43:02.689Z"
   },
   {
    "duration": 76,
    "start_time": "2022-06-08T15:43:04.865Z"
   },
   {
    "duration": 79,
    "start_time": "2022-06-08T15:43:12.383Z"
   },
   {
    "duration": 253,
    "start_time": "2022-06-08T15:43:15.585Z"
   },
   {
    "duration": 374,
    "start_time": "2022-06-08T15:43:18.128Z"
   },
   {
    "duration": 27361,
    "start_time": "2022-06-08T15:43:38.745Z"
   },
   {
    "duration": 78,
    "start_time": "2022-06-08T15:44:06.108Z"
   },
   {
    "duration": 10,
    "start_time": "2022-06-08T15:44:06.189Z"
   },
   {
    "duration": 9,
    "start_time": "2022-06-08T15:44:12.258Z"
   },
   {
    "duration": 13,
    "start_time": "2022-06-08T15:44:14.719Z"
   },
   {
    "duration": 9,
    "start_time": "2022-06-08T15:44:20.692Z"
   },
   {
    "duration": 76,
    "start_time": "2022-06-08T15:44:23.670Z"
   },
   {
    "duration": 227,
    "start_time": "2022-06-08T15:44:24.699Z"
   },
   {
    "duration": 63,
    "start_time": "2022-06-08T15:44:25.590Z"
   },
   {
    "duration": 263,
    "start_time": "2022-06-08T15:44:27.009Z"
   },
   {
    "duration": 6,
    "start_time": "2022-06-08T15:44:36.691Z"
   },
   {
    "duration": 16,
    "start_time": "2022-06-08T15:44:38.225Z"
   },
   {
    "duration": 21,
    "start_time": "2022-06-08T15:44:45.070Z"
   },
   {
    "duration": 79,
    "start_time": "2022-06-08T15:44:48.448Z"
   },
   {
    "duration": 32,
    "start_time": "2022-06-08T15:44:57.727Z"
   },
   {
    "duration": 207,
    "start_time": "2022-06-08T15:45:01.487Z"
   },
   {
    "duration": 133,
    "start_time": "2022-06-08T15:45:03.891Z"
   },
   {
    "duration": 4,
    "start_time": "2022-06-08T15:45:07.703Z"
   },
   {
    "duration": 6,
    "start_time": "2022-06-08T15:45:08.151Z"
   },
   {
    "duration": 3,
    "start_time": "2022-06-08T15:45:08.967Z"
   },
   {
    "duration": 169,
    "start_time": "2022-06-08T15:45:15.520Z"
   },
   {
    "duration": 37,
    "start_time": "2022-06-08T15:45:36.315Z"
   },
   {
    "duration": 41,
    "start_time": "2022-06-08T15:45:44.861Z"
   },
   {
    "duration": 48,
    "start_time": "2022-06-08T15:45:45.497Z"
   },
   {
    "duration": 3,
    "start_time": "2022-06-08T15:45:46.186Z"
   },
   {
    "duration": 4,
    "start_time": "2022-06-08T15:45:46.856Z"
   },
   {
    "duration": 6,
    "start_time": "2022-06-08T15:46:10.064Z"
   },
   {
    "duration": 10,
    "start_time": "2022-06-08T15:46:10.585Z"
   },
   {
    "duration": 3,
    "start_time": "2022-06-08T15:55:52.862Z"
   },
   {
    "duration": 32,
    "start_time": "2022-06-08T15:55:55.557Z"
   },
   {
    "duration": 82,
    "start_time": "2022-06-08T15:55:56.150Z"
   },
   {
    "duration": 437,
    "start_time": "2022-06-08T15:55:57.730Z"
   },
   {
    "duration": 30,
    "start_time": "2022-06-08T15:55:58.650Z"
   },
   {
    "duration": 8,
    "start_time": "2022-06-08T15:56:01.550Z"
   },
   {
    "duration": 21,
    "start_time": "2022-06-08T15:56:02.024Z"
   },
   {
    "duration": 53,
    "start_time": "2022-06-08T15:56:02.409Z"
   },
   {
    "duration": 10,
    "start_time": "2022-06-08T15:56:02.910Z"
   },
   {
    "duration": 10,
    "start_time": "2022-06-08T15:56:09.389Z"
   },
   {
    "duration": 197,
    "start_time": "2022-06-08T15:56:10.712Z"
   },
   {
    "duration": 86,
    "start_time": "2022-06-08T15:56:11.327Z"
   },
   {
    "duration": 38,
    "start_time": "2022-06-08T15:56:13.864Z"
   },
   {
    "duration": 109,
    "start_time": "2022-06-08T15:56:15.015Z"
   },
   {
    "duration": 5,
    "start_time": "2022-06-08T15:56:21.905Z"
   },
   {
    "duration": 27,
    "start_time": "2022-06-08T15:56:22.448Z"
   },
   {
    "duration": 195,
    "start_time": "2022-06-08T15:56:22.840Z"
   },
   {
    "duration": 9,
    "start_time": "2022-06-08T15:56:23.350Z"
   },
   {
    "duration": 8,
    "start_time": "2022-06-08T15:56:39.385Z"
   },
   {
    "duration": 168,
    "start_time": "2022-06-08T15:56:40.121Z"
   },
   {
    "duration": 9,
    "start_time": "2022-06-08T15:56:42.051Z"
   },
   {
    "duration": 5,
    "start_time": "2022-06-08T15:56:43.050Z"
   },
   {
    "duration": 7,
    "start_time": "2022-06-08T15:56:46.883Z"
   },
   {
    "duration": 27394,
    "start_time": "2022-06-08T15:57:50.792Z"
   },
   {
    "duration": 82,
    "start_time": "2022-06-08T15:58:18.187Z"
   },
   {
    "duration": 8,
    "start_time": "2022-06-08T15:58:18.271Z"
   },
   {
    "duration": 10,
    "start_time": "2022-06-08T15:58:18.282Z"
   },
   {
    "duration": 13,
    "start_time": "2022-06-08T15:58:18.293Z"
   },
   {
    "duration": 8,
    "start_time": "2022-06-08T15:58:18.327Z"
   },
   {
    "duration": 74,
    "start_time": "2022-06-08T15:58:18.336Z"
   },
   {
    "duration": 216,
    "start_time": "2022-06-08T15:58:18.412Z"
   },
   {
    "duration": 59,
    "start_time": "2022-06-08T15:58:18.630Z"
   },
   {
    "duration": 270,
    "start_time": "2022-06-08T15:58:18.692Z"
   },
   {
    "duration": 6,
    "start_time": "2022-06-08T15:58:18.964Z"
   },
   {
    "duration": 15,
    "start_time": "2022-06-08T15:58:18.972Z"
   },
   {
    "duration": 43,
    "start_time": "2022-06-08T15:58:18.988Z"
   },
   {
    "duration": 86,
    "start_time": "2022-06-08T15:58:19.033Z"
   },
   {
    "duration": 201,
    "start_time": "2022-06-08T15:58:19.120Z"
   },
   {
    "duration": 135,
    "start_time": "2022-06-08T15:58:19.326Z"
   },
   {
    "duration": 4,
    "start_time": "2022-06-08T15:58:19.463Z"
   },
   {
    "duration": 10,
    "start_time": "2022-06-08T15:58:19.468Z"
   },
   {
    "duration": 6,
    "start_time": "2022-06-08T15:58:19.481Z"
   },
   {
    "duration": 142,
    "start_time": "2022-06-08T15:58:26.622Z"
   },
   {
    "duration": 3,
    "start_time": "2022-06-08T16:04:32.658Z"
   },
   {
    "duration": 32,
    "start_time": "2022-06-08T16:04:34.017Z"
   },
   {
    "duration": 109,
    "start_time": "2022-06-08T16:04:34.469Z"
   },
   {
    "duration": 593,
    "start_time": "2022-06-08T16:04:35.009Z"
   },
   {
    "duration": 46,
    "start_time": "2022-06-08T16:04:36.282Z"
   },
   {
    "duration": 11,
    "start_time": "2022-06-08T16:04:39.248Z"
   },
   {
    "duration": 18,
    "start_time": "2022-06-08T16:04:39.780Z"
   },
   {
    "duration": 55,
    "start_time": "2022-06-08T16:04:40.234Z"
   },
   {
    "duration": 10,
    "start_time": "2022-06-08T16:04:40.597Z"
   },
   {
    "duration": 9,
    "start_time": "2022-06-08T16:04:42.953Z"
   },
   {
    "duration": 216,
    "start_time": "2022-06-08T16:04:43.442Z"
   },
   {
    "duration": 112,
    "start_time": "2022-06-08T16:04:44.038Z"
   },
   {
    "duration": 53,
    "start_time": "2022-06-08T16:04:45.458Z"
   },
   {
    "duration": 148,
    "start_time": "2022-06-08T16:04:47.083Z"
   },
   {
    "duration": 5,
    "start_time": "2022-06-08T16:04:49.793Z"
   },
   {
    "duration": 29,
    "start_time": "2022-06-08T16:04:50.089Z"
   },
   {
    "duration": 226,
    "start_time": "2022-06-08T16:04:50.348Z"
   },
   {
    "duration": 12,
    "start_time": "2022-06-08T16:04:50.713Z"
   },
   {
    "duration": 10,
    "start_time": "2022-06-08T16:04:56.195Z"
   },
   {
    "duration": 180,
    "start_time": "2022-06-08T16:04:56.762Z"
   },
   {
    "duration": 9,
    "start_time": "2022-06-08T16:04:57.683Z"
   },
   {
    "duration": 6,
    "start_time": "2022-06-08T16:04:58.305Z"
   },
   {
    "duration": 7,
    "start_time": "2022-06-08T16:04:59.751Z"
   },
   {
    "duration": 28331,
    "start_time": "2022-06-08T16:05:05.886Z"
   },
   {
    "duration": 73,
    "start_time": "2022-06-08T16:05:34.219Z"
   },
   {
    "duration": 8,
    "start_time": "2022-06-08T16:05:34.293Z"
   },
   {
    "duration": 27,
    "start_time": "2022-06-08T16:05:34.303Z"
   },
   {
    "duration": 12,
    "start_time": "2022-06-08T16:05:46.703Z"
   },
   {
    "duration": 10,
    "start_time": "2022-06-08T16:05:48.964Z"
   },
   {
    "duration": 74,
    "start_time": "2022-06-08T16:05:49.590Z"
   },
   {
    "duration": 213,
    "start_time": "2022-06-08T16:05:50.121Z"
   },
   {
    "duration": 62,
    "start_time": "2022-06-08T16:05:51.955Z"
   },
   {
    "duration": 263,
    "start_time": "2022-06-08T16:06:07.293Z"
   },
   {
    "duration": 6,
    "start_time": "2022-06-08T16:06:09.516Z"
   },
   {
    "duration": 20,
    "start_time": "2022-06-08T16:06:10.311Z"
   },
   {
    "duration": 20,
    "start_time": "2022-06-08T16:06:11.449Z"
   },
   {
    "duration": 80,
    "start_time": "2022-06-08T16:06:17.764Z"
   },
   {
    "duration": 198,
    "start_time": "2022-06-08T16:06:43.284Z"
   },
   {
    "duration": 127,
    "start_time": "2022-06-08T16:06:43.887Z"
   },
   {
    "duration": 4,
    "start_time": "2022-06-08T16:06:45.921Z"
   },
   {
    "duration": 3,
    "start_time": "2022-06-08T16:06:46.562Z"
   },
   {
    "duration": 3,
    "start_time": "2022-06-08T16:06:47.237Z"
   },
   {
    "duration": 135,
    "start_time": "2022-06-08T16:06:51.896Z"
   },
   {
    "duration": 31,
    "start_time": "2022-06-08T16:06:56.144Z"
   },
   {
    "duration": 41,
    "start_time": "2022-06-08T16:06:58.217Z"
   },
   {
    "duration": 52,
    "start_time": "2022-06-08T16:06:59.026Z"
   },
   {
    "duration": 3,
    "start_time": "2022-06-08T16:06:59.776Z"
   },
   {
    "duration": 4,
    "start_time": "2022-06-08T16:07:00.446Z"
   },
   {
    "duration": 6,
    "start_time": "2022-06-08T16:07:02.705Z"
   },
   {
    "duration": 10,
    "start_time": "2022-06-08T16:07:03.637Z"
   },
   {
    "duration": 5,
    "start_time": "2022-06-08T16:07:05.237Z"
   },
   {
    "duration": 3,
    "start_time": "2022-06-08T16:07:05.859Z"
   },
   {
    "duration": 4,
    "start_time": "2022-06-08T16:07:06.291Z"
   },
   {
    "duration": 7,
    "start_time": "2022-06-08T16:07:07.387Z"
   },
   {
    "duration": 6,
    "start_time": "2022-06-08T16:07:08.426Z"
   },
   {
    "duration": 8,
    "start_time": "2022-06-08T16:07:11.209Z"
   },
   {
    "duration": 25,
    "start_time": "2022-06-08T16:07:12.358Z"
   },
   {
    "duration": 14,
    "start_time": "2022-06-08T16:07:12.938Z"
   },
   {
    "duration": 10,
    "start_time": "2022-06-08T16:07:13.866Z"
   },
   {
    "duration": 4,
    "start_time": "2022-06-08T16:07:14.665Z"
   },
   {
    "duration": 9,
    "start_time": "2022-06-08T16:07:17.336Z"
   },
   {
    "duration": 9,
    "start_time": "2022-06-08T16:07:20.817Z"
   },
   {
    "duration": 3,
    "start_time": "2022-06-08T16:07:21.848Z"
   },
   {
    "duration": 5,
    "start_time": "2022-06-08T16:07:22.465Z"
   },
   {
    "duration": 4,
    "start_time": "2022-06-08T16:07:22.922Z"
   },
   {
    "duration": 13,
    "start_time": "2022-06-08T16:07:23.588Z"
   },
   {
    "duration": 6,
    "start_time": "2022-06-08T16:07:23.987Z"
   },
   {
    "duration": 5,
    "start_time": "2022-06-08T16:07:24.458Z"
   },
   {
    "duration": 6,
    "start_time": "2022-06-08T16:07:24.986Z"
   },
   {
    "duration": 9,
    "start_time": "2022-06-08T16:07:25.683Z"
   },
   {
    "duration": 12,
    "start_time": "2022-06-08T16:07:26.161Z"
   },
   {
    "duration": 9,
    "start_time": "2022-06-08T16:07:26.973Z"
   },
   {
    "duration": 105,
    "start_time": "2022-06-08T16:07:28.587Z"
   },
   {
    "duration": 26,
    "start_time": "2022-06-08T16:07:29.220Z"
   },
   {
    "duration": 16,
    "start_time": "2022-06-08T16:07:36.784Z"
   },
   {
    "duration": 16,
    "start_time": "2022-06-08T16:07:37.371Z"
   },
   {
    "duration": 7,
    "start_time": "2022-06-08T16:07:42.482Z"
   },
   {
    "duration": 8,
    "start_time": "2022-06-08T16:07:43.371Z"
   },
   {
    "duration": 5,
    "start_time": "2022-06-08T16:07:44.146Z"
   },
   {
    "duration": 13,
    "start_time": "2022-06-08T16:07:44.990Z"
   },
   {
    "duration": 13,
    "start_time": "2022-06-08T16:07:45.847Z"
   },
   {
    "duration": 6,
    "start_time": "2022-06-08T16:07:46.785Z"
   },
   {
    "duration": 7,
    "start_time": "2022-06-08T16:07:47.658Z"
   },
   {
    "duration": 4,
    "start_time": "2022-06-08T16:07:48.466Z"
   },
   {
    "duration": 23,
    "start_time": "2022-06-08T16:07:49.949Z"
   },
   {
    "duration": 16,
    "start_time": "2022-06-08T16:07:50.782Z"
   },
   {
    "duration": 19,
    "start_time": "2022-06-08T16:07:51.684Z"
   },
   {
    "duration": 18,
    "start_time": "2022-06-08T16:07:52.550Z"
   },
   {
    "duration": 395,
    "start_time": "2022-06-08T16:07:54.754Z"
   },
   {
    "duration": 12,
    "start_time": "2022-06-08T16:07:55.484Z"
   },
   {
    "duration": 6,
    "start_time": "2022-06-08T16:07:56.122Z"
   },
   {
    "duration": 2,
    "start_time": "2022-06-08T16:07:56.954Z"
   },
   {
    "duration": 3,
    "start_time": "2022-06-08T16:07:57.752Z"
   },
   {
    "duration": 3,
    "start_time": "2022-06-08T16:07:58.459Z"
   },
   {
    "duration": 3,
    "start_time": "2022-06-08T16:07:59.201Z"
   },
   {
    "duration": 3,
    "start_time": "2022-06-08T16:07:59.882Z"
   },
   {
    "duration": 155,
    "start_time": "2022-06-08T16:08:00.706Z"
   },
   {
    "duration": 9,
    "start_time": "2022-06-08T16:08:01.752Z"
   },
   {
    "duration": 5,
    "start_time": "2022-06-08T16:08:02.603Z"
   },
   {
    "duration": 3,
    "start_time": "2022-06-08T16:08:03.162Z"
   },
   {
    "duration": 4,
    "start_time": "2022-06-08T16:08:03.851Z"
   },
   {
    "duration": 3,
    "start_time": "2022-06-08T16:08:05.850Z"
   },
   {
    "duration": 4,
    "start_time": "2022-06-08T16:08:06.787Z"
   },
   {
    "duration": 3,
    "start_time": "2022-06-08T16:08:15.017Z"
   },
   {
    "duration": 6,
    "start_time": "2022-06-08T16:08:15.850Z"
   },
   {
    "duration": 4,
    "start_time": "2022-06-08T16:08:19.560Z"
   },
   {
    "duration": 6,
    "start_time": "2022-06-08T16:08:20.393Z"
   },
   {
    "duration": 3,
    "start_time": "2022-06-08T16:08:23.763Z"
   },
   {
    "duration": 5,
    "start_time": "2022-06-08T16:08:24.690Z"
   },
   {
    "duration": 4,
    "start_time": "2022-06-08T16:08:35.969Z"
   },
   {
    "duration": 7,
    "start_time": "2022-06-08T16:08:36.777Z"
   },
   {
    "duration": 3,
    "start_time": "2022-06-08T16:13:58.369Z"
   },
   {
    "duration": 33,
    "start_time": "2022-06-08T16:14:01.650Z"
   },
   {
    "duration": 66,
    "start_time": "2022-06-08T16:14:02.277Z"
   },
   {
    "duration": 553,
    "start_time": "2022-06-08T16:14:02.771Z"
   },
   {
    "duration": 29,
    "start_time": "2022-06-08T16:14:03.326Z"
   },
   {
    "duration": 9,
    "start_time": "2022-06-08T16:14:05.307Z"
   },
   {
    "duration": 17,
    "start_time": "2022-06-08T16:14:05.659Z"
   },
   {
    "duration": 57,
    "start_time": "2022-06-08T16:14:06.044Z"
   },
   {
    "duration": 12,
    "start_time": "2022-06-08T16:14:06.459Z"
   },
   {
    "duration": 9,
    "start_time": "2022-06-08T16:14:08.311Z"
   },
   {
    "duration": 208,
    "start_time": "2022-06-08T16:14:08.747Z"
   },
   {
    "duration": 105,
    "start_time": "2022-06-08T16:14:09.179Z"
   },
   {
    "duration": 50,
    "start_time": "2022-06-08T16:14:10.090Z"
   },
   {
    "duration": 110,
    "start_time": "2022-06-08T16:14:11.458Z"
   },
   {
    "duration": 5,
    "start_time": "2022-06-08T16:14:14.588Z"
   },
   {
    "duration": 28,
    "start_time": "2022-06-08T16:14:15.377Z"
   },
   {
    "duration": 213,
    "start_time": "2022-06-08T16:14:15.955Z"
   },
   {
    "duration": 9,
    "start_time": "2022-06-08T16:14:16.507Z"
   },
   {
    "duration": 8,
    "start_time": "2022-06-08T16:14:19.750Z"
   },
   {
    "duration": 177,
    "start_time": "2022-06-08T16:14:20.107Z"
   },
   {
    "duration": 9,
    "start_time": "2022-06-08T16:14:20.771Z"
   },
   {
    "duration": 5,
    "start_time": "2022-06-08T16:14:21.107Z"
   },
   {
    "duration": 8,
    "start_time": "2022-06-08T16:14:22.891Z"
   },
   {
    "duration": 28614,
    "start_time": "2022-06-08T16:14:25.394Z"
   },
   {
    "duration": 66,
    "start_time": "2022-06-08T16:14:57.003Z"
   },
   {
    "duration": 10,
    "start_time": "2022-06-08T16:14:57.668Z"
   },
   {
    "duration": 8,
    "start_time": "2022-06-08T16:14:58.108Z"
   },
   {
    "duration": 13,
    "start_time": "2022-06-08T16:15:00.050Z"
   },
   {
    "duration": 13,
    "start_time": "2022-06-08T16:15:00.963Z"
   },
   {
    "duration": 93,
    "start_time": "2022-06-08T16:15:01.484Z"
   },
   {
    "duration": 267,
    "start_time": "2022-06-08T16:15:01.857Z"
   },
   {
    "duration": 63,
    "start_time": "2022-06-08T16:15:02.275Z"
   },
   {
    "duration": 278,
    "start_time": "2022-06-08T16:15:02.684Z"
   },
   {
    "duration": 7,
    "start_time": "2022-06-08T16:15:03.076Z"
   },
   {
    "duration": 23,
    "start_time": "2022-06-08T16:15:03.420Z"
   },
   {
    "duration": 26,
    "start_time": "2022-06-08T16:15:03.865Z"
   },
   {
    "duration": 89,
    "start_time": "2022-06-08T16:15:04.277Z"
   },
   {
    "duration": 245,
    "start_time": "2022-06-08T16:15:04.702Z"
   },
   {
    "duration": 151,
    "start_time": "2022-06-08T16:15:05.205Z"
   },
   {
    "duration": 5,
    "start_time": "2022-06-08T16:15:06.094Z"
   },
   {
    "duration": 5,
    "start_time": "2022-06-08T16:15:06.463Z"
   },
   {
    "duration": 4,
    "start_time": "2022-06-08T16:15:06.795Z"
   },
   {
    "duration": 154,
    "start_time": "2022-06-08T16:15:08.561Z"
   },
   {
    "duration": 31,
    "start_time": "2022-06-08T16:15:09.650Z"
   },
   {
    "duration": 63,
    "start_time": "2022-06-08T16:15:10.361Z"
   },
   {
    "duration": 49,
    "start_time": "2022-06-08T16:15:10.660Z"
   },
   {
    "duration": 4,
    "start_time": "2022-06-08T16:15:11.003Z"
   },
   {
    "duration": 4,
    "start_time": "2022-06-08T16:15:11.449Z"
   },
   {
    "duration": 8,
    "start_time": "2022-06-08T16:15:12.491Z"
   },
   {
    "duration": 9,
    "start_time": "2022-06-08T16:15:12.761Z"
   },
   {
    "duration": 8,
    "start_time": "2022-06-08T16:15:13.213Z"
   },
   {
    "duration": 3,
    "start_time": "2022-06-08T16:15:13.473Z"
   },
   {
    "duration": 4,
    "start_time": "2022-06-08T16:15:13.765Z"
   },
   {
    "duration": 7,
    "start_time": "2022-06-08T16:15:14.291Z"
   },
   {
    "duration": 6,
    "start_time": "2022-06-08T16:15:14.600Z"
   },
   {
    "duration": 8,
    "start_time": "2022-06-08T16:15:15.995Z"
   },
   {
    "duration": 34,
    "start_time": "2022-06-08T16:15:16.267Z"
   },
   {
    "duration": 15,
    "start_time": "2022-06-08T16:15:16.597Z"
   },
   {
    "duration": 10,
    "start_time": "2022-06-08T16:15:16.872Z"
   },
   {
    "duration": 3,
    "start_time": "2022-06-08T16:15:17.171Z"
   },
   {
    "duration": 8,
    "start_time": "2022-06-08T16:15:18.403Z"
   },
   {
    "duration": 9,
    "start_time": "2022-06-08T16:15:19.958Z"
   },
   {
    "duration": 5,
    "start_time": "2022-06-08T16:15:20.249Z"
   },
   {
    "duration": 5,
    "start_time": "2022-06-08T16:15:20.611Z"
   },
   {
    "duration": 5,
    "start_time": "2022-06-08T16:15:20.856Z"
   },
   {
    "duration": 12,
    "start_time": "2022-06-08T16:15:21.156Z"
   },
   {
    "duration": 6,
    "start_time": "2022-06-08T16:15:21.495Z"
   },
   {
    "duration": 7,
    "start_time": "2022-06-08T16:15:21.804Z"
   },
   {
    "duration": 8,
    "start_time": "2022-06-08T16:15:22.794Z"
   },
   {
    "duration": 9,
    "start_time": "2022-06-08T16:15:23.220Z"
   },
   {
    "duration": 13,
    "start_time": "2022-06-08T16:15:23.595Z"
   },
   {
    "duration": 10,
    "start_time": "2022-06-08T16:15:24.053Z"
   },
   {
    "duration": 147,
    "start_time": "2022-06-08T16:15:24.683Z"
   },
   {
    "duration": 25,
    "start_time": "2022-06-08T16:15:24.983Z"
   },
   {
    "duration": 22,
    "start_time": "2022-06-08T16:15:26.652Z"
   },
   {
    "duration": 24,
    "start_time": "2022-06-08T16:15:26.907Z"
   },
   {
    "duration": 9,
    "start_time": "2022-06-08T16:15:27.217Z"
   },
   {
    "duration": 9,
    "start_time": "2022-06-08T16:15:27.446Z"
   },
   {
    "duration": 5,
    "start_time": "2022-06-08T16:15:27.750Z"
   },
   {
    "duration": 14,
    "start_time": "2022-06-08T16:15:28.052Z"
   },
   {
    "duration": 22,
    "start_time": "2022-06-08T16:15:28.300Z"
   },
   {
    "duration": 9,
    "start_time": "2022-06-08T16:15:28.550Z"
   },
   {
    "duration": 8,
    "start_time": "2022-06-08T16:15:28.815Z"
   },
   {
    "duration": 5,
    "start_time": "2022-06-08T16:15:29.158Z"
   },
   {
    "duration": 30,
    "start_time": "2022-06-08T16:15:29.692Z"
   },
   {
    "duration": 17,
    "start_time": "2022-06-08T16:15:29.952Z"
   },
   {
    "duration": 20,
    "start_time": "2022-06-08T16:15:30.208Z"
   },
   {
    "duration": 18,
    "start_time": "2022-06-08T16:15:30.496Z"
   },
   {
    "duration": 470,
    "start_time": "2022-06-08T16:15:31.579Z"
   },
   {
    "duration": 13,
    "start_time": "2022-06-08T16:15:32.051Z"
   },
   {
    "duration": 6,
    "start_time": "2022-06-08T16:15:32.106Z"
   },
   {
    "duration": 3,
    "start_time": "2022-06-08T16:15:32.355Z"
   },
   {
    "duration": 4,
    "start_time": "2022-06-08T16:15:32.647Z"
   },
   {
    "duration": 4,
    "start_time": "2022-06-08T16:15:32.948Z"
   },
   {
    "duration": 4,
    "start_time": "2022-06-08T16:15:33.199Z"
   },
   {
    "duration": 3,
    "start_time": "2022-06-08T16:15:33.573Z"
   },
   {
    "duration": 177,
    "start_time": "2022-06-08T16:15:33.850Z"
   },
   {
    "duration": 10,
    "start_time": "2022-06-08T16:15:34.074Z"
   },
   {
    "duration": 5,
    "start_time": "2022-06-08T16:15:34.308Z"
   },
   {
    "duration": 3,
    "start_time": "2022-06-08T16:15:34.508Z"
   },
   {
    "duration": 8,
    "start_time": "2022-06-08T16:15:35.076Z"
   },
   {
    "duration": 5,
    "start_time": "2022-06-08T16:15:35.563Z"
   },
   {
    "duration": 4,
    "start_time": "2022-06-08T16:15:35.824Z"
   },
   {
    "duration": 5,
    "start_time": "2022-06-08T16:15:37.777Z"
   },
   {
    "duration": 6,
    "start_time": "2022-06-08T16:15:38.024Z"
   },
   {
    "duration": 4,
    "start_time": "2022-06-08T16:15:38.861Z"
   },
   {
    "duration": 5,
    "start_time": "2022-06-08T16:15:39.106Z"
   },
   {
    "duration": 3,
    "start_time": "2022-06-08T16:15:39.906Z"
   },
   {
    "duration": 8,
    "start_time": "2022-06-08T16:15:40.165Z"
   },
   {
    "duration": 4,
    "start_time": "2022-06-08T16:15:41.252Z"
   },
   {
    "duration": 7,
    "start_time": "2022-06-08T16:15:41.485Z"
   },
   {
    "duration": 4,
    "start_time": "2022-06-08T16:16:26.488Z"
   },
   {
    "duration": 54,
    "start_time": "2022-06-08T16:16:26.494Z"
   },
   {
    "duration": 71,
    "start_time": "2022-06-08T16:16:26.550Z"
   },
   {
    "duration": 482,
    "start_time": "2022-06-08T16:16:26.623Z"
   },
   {
    "duration": 33,
    "start_time": "2022-06-08T16:16:27.108Z"
   },
   {
    "duration": 9,
    "start_time": "2022-06-08T16:16:27.143Z"
   },
   {
    "duration": 40,
    "start_time": "2022-06-08T16:16:27.153Z"
   },
   {
    "duration": 64,
    "start_time": "2022-06-08T16:16:27.194Z"
   },
   {
    "duration": 12,
    "start_time": "2022-06-08T16:16:27.259Z"
   },
   {
    "duration": 11,
    "start_time": "2022-06-08T16:16:27.273Z"
   },
   {
    "duration": 254,
    "start_time": "2022-06-08T16:16:27.286Z"
   },
   {
    "duration": 105,
    "start_time": "2022-06-08T16:16:27.541Z"
   },
   {
    "duration": 37,
    "start_time": "2022-06-08T16:16:27.648Z"
   },
   {
    "duration": 146,
    "start_time": "2022-06-08T16:16:27.690Z"
   },
   {
    "duration": 5,
    "start_time": "2022-06-08T16:16:27.838Z"
   },
   {
    "duration": 42,
    "start_time": "2022-06-08T16:16:27.844Z"
   },
   {
    "duration": 218,
    "start_time": "2022-06-08T16:16:27.888Z"
   },
   {
    "duration": 19,
    "start_time": "2022-06-08T16:16:28.108Z"
   },
   {
    "duration": 14,
    "start_time": "2022-06-08T16:16:28.128Z"
   },
   {
    "duration": 195,
    "start_time": "2022-06-08T16:16:28.143Z"
   },
   {
    "duration": 10,
    "start_time": "2022-06-08T16:16:28.339Z"
   },
   {
    "duration": 20,
    "start_time": "2022-06-08T16:16:28.351Z"
   },
   {
    "duration": 19,
    "start_time": "2022-06-08T16:16:28.373Z"
   },
   {
    "duration": 28614,
    "start_time": "2022-06-08T16:16:28.393Z"
   },
   {
    "duration": 69,
    "start_time": "2022-06-08T16:16:57.009Z"
   },
   {
    "duration": 9,
    "start_time": "2022-06-08T16:16:57.079Z"
   },
   {
    "duration": 19,
    "start_time": "2022-06-08T16:16:57.090Z"
   },
   {
    "duration": 27,
    "start_time": "2022-06-08T16:16:57.111Z"
   },
   {
    "duration": 12,
    "start_time": "2022-06-08T16:16:57.140Z"
   },
   {
    "duration": 99,
    "start_time": "2022-06-08T16:16:57.154Z"
   },
   {
    "duration": 224,
    "start_time": "2022-06-08T16:16:57.255Z"
   },
   {
    "duration": 71,
    "start_time": "2022-06-08T16:16:57.480Z"
   },
   {
    "duration": 276,
    "start_time": "2022-06-08T16:16:57.552Z"
   },
   {
    "duration": 5,
    "start_time": "2022-06-08T16:16:57.829Z"
   },
   {
    "duration": 15,
    "start_time": "2022-06-08T16:16:57.836Z"
   },
   {
    "duration": 21,
    "start_time": "2022-06-08T16:16:57.853Z"
   },
   {
    "duration": 103,
    "start_time": "2022-06-08T16:16:57.876Z"
   },
   {
    "duration": 214,
    "start_time": "2022-06-08T16:16:57.980Z"
   },
   {
    "duration": 139,
    "start_time": "2022-06-08T16:16:58.195Z"
   },
   {
    "duration": 5,
    "start_time": "2022-06-08T16:16:58.335Z"
   },
   {
    "duration": 6,
    "start_time": "2022-06-08T16:16:58.344Z"
   },
   {
    "duration": 6,
    "start_time": "2022-06-08T16:16:58.352Z"
   },
   {
    "duration": 168,
    "start_time": "2022-06-08T16:16:58.359Z"
   },
   {
    "duration": 31,
    "start_time": "2022-06-08T16:16:58.529Z"
   },
   {
    "duration": 44,
    "start_time": "2022-06-08T16:16:58.561Z"
   },
   {
    "duration": 66,
    "start_time": "2022-06-08T16:16:58.607Z"
   },
   {
    "duration": 4,
    "start_time": "2022-06-08T16:16:58.674Z"
   },
   {
    "duration": 14,
    "start_time": "2022-06-08T16:16:58.680Z"
   },
   {
    "duration": 10,
    "start_time": "2022-06-08T16:16:58.695Z"
   },
   {
    "duration": 10,
    "start_time": "2022-06-08T16:16:58.706Z"
   },
   {
    "duration": 12,
    "start_time": "2022-06-08T16:16:58.717Z"
   },
   {
    "duration": 13,
    "start_time": "2022-06-08T16:16:58.731Z"
   },
   {
    "duration": 28,
    "start_time": "2022-06-08T16:16:58.745Z"
   },
   {
    "duration": 14,
    "start_time": "2022-06-08T16:16:58.775Z"
   },
   {
    "duration": 10,
    "start_time": "2022-06-08T16:16:58.791Z"
   },
   {
    "duration": 9,
    "start_time": "2022-06-08T16:16:58.802Z"
   },
   {
    "duration": 30,
    "start_time": "2022-06-08T16:16:58.813Z"
   },
   {
    "duration": 13,
    "start_time": "2022-06-08T16:16:58.845Z"
   },
   {
    "duration": 10,
    "start_time": "2022-06-08T16:16:58.859Z"
   },
   {
    "duration": 4,
    "start_time": "2022-06-08T16:16:58.870Z"
   },
   {
    "duration": 10,
    "start_time": "2022-06-08T16:16:58.875Z"
   },
   {
    "duration": 14,
    "start_time": "2022-06-08T16:16:58.886Z"
   },
   {
    "duration": 28,
    "start_time": "2022-06-08T16:16:58.901Z"
   },
   {
    "duration": 9,
    "start_time": "2022-06-08T16:16:58.931Z"
   },
   {
    "duration": 7,
    "start_time": "2022-06-08T16:16:58.941Z"
   },
   {
    "duration": 15,
    "start_time": "2022-06-08T16:16:58.950Z"
   },
   {
    "duration": 10,
    "start_time": "2022-06-08T16:16:58.966Z"
   },
   {
    "duration": 8,
    "start_time": "2022-06-08T16:16:58.978Z"
   },
   {
    "duration": 13,
    "start_time": "2022-06-08T16:16:58.987Z"
   },
   {
    "duration": 12,
    "start_time": "2022-06-08T16:16:59.001Z"
   },
   {
    "duration": 12,
    "start_time": "2022-06-08T16:16:59.027Z"
   },
   {
    "duration": 16,
    "start_time": "2022-06-08T16:16:59.040Z"
   },
   {
    "duration": 117,
    "start_time": "2022-06-08T16:16:59.057Z"
   },
   {
    "duration": 22,
    "start_time": "2022-06-08T16:16:59.175Z"
   },
   {
    "duration": 33,
    "start_time": "2022-06-08T16:16:59.199Z"
   },
   {
    "duration": 17,
    "start_time": "2022-06-08T16:16:59.234Z"
   },
   {
    "duration": 14,
    "start_time": "2022-06-08T16:16:59.253Z"
   },
   {
    "duration": 13,
    "start_time": "2022-06-08T16:16:59.268Z"
   },
   {
    "duration": 11,
    "start_time": "2022-06-08T16:16:59.283Z"
   },
   {
    "duration": 14,
    "start_time": "2022-06-08T16:16:59.295Z"
   },
   {
    "duration": 24,
    "start_time": "2022-06-08T16:16:59.310Z"
   },
   {
    "duration": 6,
    "start_time": "2022-06-08T16:16:59.335Z"
   },
   {
    "duration": 13,
    "start_time": "2022-06-08T16:16:59.343Z"
   },
   {
    "duration": 9,
    "start_time": "2022-06-08T16:16:59.357Z"
   },
   {
    "duration": 27,
    "start_time": "2022-06-08T16:16:59.367Z"
   },
   {
    "duration": 33,
    "start_time": "2022-06-08T16:16:59.395Z"
   },
   {
    "duration": 19,
    "start_time": "2022-06-08T16:16:59.429Z"
   },
   {
    "duration": 18,
    "start_time": "2022-06-08T16:16:59.450Z"
   },
   {
    "duration": 447,
    "start_time": "2022-06-08T16:16:59.469Z"
   },
   {
    "duration": 14,
    "start_time": "2022-06-08T16:16:59.918Z"
   },
   {
    "duration": 14,
    "start_time": "2022-06-08T16:16:59.934Z"
   },
   {
    "duration": 7,
    "start_time": "2022-06-08T16:16:59.950Z"
   },
   {
    "duration": 10,
    "start_time": "2022-06-08T16:16:59.959Z"
   },
   {
    "duration": 9,
    "start_time": "2022-06-08T16:16:59.970Z"
   },
   {
    "duration": 10,
    "start_time": "2022-06-08T16:16:59.980Z"
   },
   {
    "duration": 8,
    "start_time": "2022-06-08T16:16:59.991Z"
   },
   {
    "duration": 171,
    "start_time": "2022-06-08T16:17:00.001Z"
   },
   {
    "duration": 11,
    "start_time": "2022-06-08T16:17:00.173Z"
   },
   {
    "duration": 28,
    "start_time": "2022-06-08T16:17:00.186Z"
   },
   {
    "duration": 22,
    "start_time": "2022-06-08T16:17:00.216Z"
   },
   {
    "duration": 37,
    "start_time": "2022-06-08T16:17:00.239Z"
   },
   {
    "duration": 49,
    "start_time": "2022-06-08T16:17:00.277Z"
   },
   {
    "duration": 15,
    "start_time": "2022-06-08T16:17:00.327Z"
   },
   {
    "duration": 15,
    "start_time": "2022-06-08T16:17:00.343Z"
   },
   {
    "duration": 18,
    "start_time": "2022-06-08T16:17:00.359Z"
   },
   {
    "duration": 39,
    "start_time": "2022-06-08T16:17:00.379Z"
   },
   {
    "duration": 32,
    "start_time": "2022-06-08T16:17:00.420Z"
   },
   {
    "duration": 33,
    "start_time": "2022-06-08T16:17:00.454Z"
   },
   {
    "duration": 27,
    "start_time": "2022-06-08T16:17:00.489Z"
   },
   {
    "duration": 23,
    "start_time": "2022-06-08T16:17:00.518Z"
   },
   {
    "duration": 52,
    "start_time": "2022-06-08T16:17:00.543Z"
   },
   {
    "duration": 797,
    "start_time": "2022-06-09T14:13:36.305Z"
   },
   {
    "duration": 73,
    "start_time": "2022-06-09T14:13:37.104Z"
   },
   {
    "duration": 263,
    "start_time": "2022-06-09T14:13:37.178Z"
   },
   {
    "duration": 1318,
    "start_time": "2022-06-09T14:13:37.443Z"
   },
   {
    "duration": 128,
    "start_time": "2022-06-09T14:13:38.763Z"
   },
   {
    "duration": 19,
    "start_time": "2022-06-09T14:13:38.892Z"
   },
   {
    "duration": 14,
    "start_time": "2022-06-09T14:13:38.913Z"
   },
   {
    "duration": 45,
    "start_time": "2022-06-09T14:13:38.928Z"
   },
   {
    "duration": 37,
    "start_time": "2022-06-09T14:13:38.975Z"
   },
   {
    "duration": 8,
    "start_time": "2022-06-09T14:13:39.014Z"
   },
   {
    "duration": 257,
    "start_time": "2022-06-09T14:13:39.024Z"
   },
   {
    "duration": 115,
    "start_time": "2022-06-09T14:13:39.283Z"
   },
   {
    "duration": 33,
    "start_time": "2022-06-09T14:13:39.406Z"
   },
   {
    "duration": 112,
    "start_time": "2022-06-09T14:13:39.440Z"
   },
   {
    "duration": 5,
    "start_time": "2022-06-09T14:13:39.553Z"
   },
   {
    "duration": 46,
    "start_time": "2022-06-09T14:13:39.559Z"
   },
   {
    "duration": 242,
    "start_time": "2022-06-09T14:13:39.606Z"
   },
   {
    "duration": 9,
    "start_time": "2022-06-09T14:13:39.849Z"
   },
   {
    "duration": 8,
    "start_time": "2022-06-09T14:13:39.859Z"
   },
   {
    "duration": 194,
    "start_time": "2022-06-09T14:13:39.868Z"
   },
   {
    "duration": 9,
    "start_time": "2022-06-09T14:13:40.064Z"
   },
   {
    "duration": 34,
    "start_time": "2022-06-09T14:13:40.075Z"
   },
   {
    "duration": 7,
    "start_time": "2022-06-09T14:13:40.111Z"
   },
   {
    "duration": 28220,
    "start_time": "2022-06-09T14:13:40.120Z"
   },
   {
    "duration": 99,
    "start_time": "2022-06-09T14:14:08.341Z"
   },
   {
    "duration": 9,
    "start_time": "2022-06-09T14:14:08.441Z"
   },
   {
    "duration": 11,
    "start_time": "2022-06-09T14:14:08.452Z"
   },
   {
    "duration": 37,
    "start_time": "2022-06-09T14:14:08.467Z"
   },
   {
    "duration": 9,
    "start_time": "2022-06-09T14:14:08.505Z"
   },
   {
    "duration": 94,
    "start_time": "2022-06-09T14:14:08.515Z"
   },
   {
    "duration": 218,
    "start_time": "2022-06-09T14:14:08.610Z"
   },
   {
    "duration": 78,
    "start_time": "2022-06-09T14:14:08.830Z"
   },
   {
    "duration": 258,
    "start_time": "2022-06-09T14:14:08.909Z"
   },
   {
    "duration": 7,
    "start_time": "2022-06-09T14:14:09.169Z"
   },
   {
    "duration": 39,
    "start_time": "2022-06-09T14:14:09.177Z"
   },
   {
    "duration": 19,
    "start_time": "2022-06-09T14:14:09.217Z"
   },
   {
    "duration": 101,
    "start_time": "2022-06-09T14:14:09.237Z"
   },
   {
    "duration": 224,
    "start_time": "2022-06-09T14:14:09.339Z"
   },
   {
    "duration": 145,
    "start_time": "2022-06-09T14:14:09.564Z"
   },
   {
    "duration": 3,
    "start_time": "2022-06-09T14:14:09.711Z"
   },
   {
    "duration": 6,
    "start_time": "2022-06-09T14:14:09.715Z"
   },
   {
    "duration": 9,
    "start_time": "2022-06-09T14:14:09.722Z"
   },
   {
    "duration": 189,
    "start_time": "2022-06-09T14:14:09.733Z"
   },
   {
    "duration": 34,
    "start_time": "2022-06-09T14:14:09.923Z"
   },
   {
    "duration": 70,
    "start_time": "2022-06-09T14:14:09.959Z"
   },
   {
    "duration": 52,
    "start_time": "2022-06-09T14:14:10.031Z"
   },
   {
    "duration": 11,
    "start_time": "2022-06-09T14:14:10.085Z"
   },
   {
    "duration": 20,
    "start_time": "2022-06-09T14:14:10.097Z"
   },
   {
    "duration": 10,
    "start_time": "2022-06-09T14:14:10.119Z"
   },
   {
    "duration": 13,
    "start_time": "2022-06-09T14:14:10.131Z"
   },
   {
    "duration": 7,
    "start_time": "2022-06-09T14:14:10.146Z"
   },
   {
    "duration": 8,
    "start_time": "2022-06-09T14:14:10.154Z"
   },
   {
    "duration": 5,
    "start_time": "2022-06-09T14:14:10.164Z"
   },
   {
    "duration": 13,
    "start_time": "2022-06-09T14:14:10.196Z"
   },
   {
    "duration": 11,
    "start_time": "2022-06-09T14:14:10.211Z"
   },
   {
    "duration": 9,
    "start_time": "2022-06-09T14:14:10.223Z"
   },
   {
    "duration": 30,
    "start_time": "2022-06-09T14:14:10.233Z"
   },
   {
    "duration": 44,
    "start_time": "2022-06-09T14:14:10.264Z"
   },
   {
    "duration": 9,
    "start_time": "2022-06-09T14:14:10.310Z"
   },
   {
    "duration": 6,
    "start_time": "2022-06-09T14:14:10.321Z"
   },
   {
    "duration": 12,
    "start_time": "2022-06-09T14:14:10.329Z"
   },
   {
    "duration": 10,
    "start_time": "2022-06-09T14:14:10.343Z"
   },
   {
    "duration": 5,
    "start_time": "2022-06-09T14:14:10.354Z"
   },
   {
    "duration": 44,
    "start_time": "2022-06-09T14:14:10.360Z"
   },
   {
    "duration": 7,
    "start_time": "2022-06-09T14:14:10.406Z"
   },
   {
    "duration": 14,
    "start_time": "2022-06-09T14:14:10.414Z"
   },
   {
    "duration": 8,
    "start_time": "2022-06-09T14:14:10.430Z"
   },
   {
    "duration": 6,
    "start_time": "2022-06-09T14:14:10.440Z"
   },
   {
    "duration": 9,
    "start_time": "2022-06-09T14:14:10.448Z"
   },
   {
    "duration": 11,
    "start_time": "2022-06-09T14:14:10.458Z"
   },
   {
    "duration": 18,
    "start_time": "2022-06-09T14:14:10.494Z"
   },
   {
    "duration": 13,
    "start_time": "2022-06-09T14:14:10.513Z"
   },
   {
    "duration": 121,
    "start_time": "2022-06-09T14:14:10.527Z"
   },
   {
    "duration": 21,
    "start_time": "2022-06-09T14:14:10.649Z"
   },
   {
    "duration": 35,
    "start_time": "2022-06-09T14:14:10.672Z"
   },
   {
    "duration": 17,
    "start_time": "2022-06-09T14:14:10.708Z"
   },
   {
    "duration": 6,
    "start_time": "2022-06-09T14:14:10.726Z"
   },
   {
    "duration": 9,
    "start_time": "2022-06-09T14:14:10.733Z"
   },
   {
    "duration": 4,
    "start_time": "2022-06-09T14:14:10.744Z"
   },
   {
    "duration": 57,
    "start_time": "2022-06-09T14:14:10.749Z"
   },
   {
    "duration": 15,
    "start_time": "2022-06-09T14:14:10.808Z"
   },
   {
    "duration": 5,
    "start_time": "2022-06-09T14:14:10.828Z"
   },
   {
    "duration": 10,
    "start_time": "2022-06-09T14:14:10.834Z"
   },
   {
    "duration": 7,
    "start_time": "2022-06-09T14:14:10.845Z"
   },
   {
    "duration": 25,
    "start_time": "2022-06-09T14:14:10.853Z"
   },
   {
    "duration": 17,
    "start_time": "2022-06-09T14:14:10.899Z"
   },
   {
    "duration": 19,
    "start_time": "2022-06-09T14:14:10.918Z"
   },
   {
    "duration": 17,
    "start_time": "2022-06-09T14:14:10.938Z"
   },
   {
    "duration": 454,
    "start_time": "2022-06-09T14:14:10.956Z"
   },
   {
    "duration": 12,
    "start_time": "2022-06-09T14:14:11.412Z"
   },
   {
    "duration": 6,
    "start_time": "2022-06-09T14:14:11.425Z"
   },
   {
    "duration": 5,
    "start_time": "2022-06-09T14:14:11.432Z"
   },
   {
    "duration": 11,
    "start_time": "2022-06-09T14:14:11.438Z"
   },
   {
    "duration": 4,
    "start_time": "2022-06-09T14:14:11.451Z"
   },
   {
    "duration": 5,
    "start_time": "2022-06-09T14:14:11.456Z"
   },
   {
    "duration": 41,
    "start_time": "2022-06-09T14:14:11.462Z"
   },
   {
    "duration": 167,
    "start_time": "2022-06-09T14:14:11.505Z"
   },
   {
    "duration": 9,
    "start_time": "2022-06-09T14:14:11.674Z"
   },
   {
    "duration": 6,
    "start_time": "2022-06-09T14:14:11.695Z"
   },
   {
    "duration": 8,
    "start_time": "2022-06-09T14:14:11.703Z"
   },
   {
    "duration": 7,
    "start_time": "2022-06-09T14:14:11.724Z"
   },
   {
    "duration": 5,
    "start_time": "2022-06-09T14:14:11.733Z"
   },
   {
    "duration": 5,
    "start_time": "2022-06-09T14:14:11.739Z"
   },
   {
    "duration": 5,
    "start_time": "2022-06-09T14:14:11.745Z"
   },
   {
    "duration": 11,
    "start_time": "2022-06-09T14:14:11.751Z"
   },
   {
    "duration": 31,
    "start_time": "2022-06-09T14:14:11.763Z"
   },
   {
    "duration": 6,
    "start_time": "2022-06-09T14:14:11.796Z"
   },
   {
    "duration": 7,
    "start_time": "2022-06-09T14:14:11.804Z"
   },
   {
    "duration": 8,
    "start_time": "2022-06-09T14:14:11.813Z"
   },
   {
    "duration": 4,
    "start_time": "2022-06-09T14:14:11.822Z"
   },
   {
    "duration": 14,
    "start_time": "2022-06-09T14:14:11.828Z"
   },
   {
    "duration": 14,
    "start_time": "2022-06-09T14:27:57.709Z"
   },
   {
    "duration": 14,
    "start_time": "2022-06-09T14:28:22.166Z"
   },
   {
    "duration": 87,
    "start_time": "2022-06-09T14:28:39.761Z"
   },
   {
    "duration": 877,
    "start_time": "2022-06-09T14:28:52.867Z"
   },
   {
    "duration": 450,
    "start_time": "2022-06-09T14:29:02.559Z"
   },
   {
    "duration": 428,
    "start_time": "2022-06-09T14:30:34.037Z"
   },
   {
    "duration": 466,
    "start_time": "2022-06-09T14:30:43.764Z"
   },
   {
    "duration": 454,
    "start_time": "2022-06-09T14:30:56.208Z"
   },
   {
    "duration": 409,
    "start_time": "2022-06-09T14:31:01.563Z"
   },
   {
    "duration": 499,
    "start_time": "2022-06-09T14:34:28.861Z"
   },
   {
    "duration": 21,
    "start_time": "2022-06-09T14:34:38.079Z"
   },
   {
    "duration": 27,
    "start_time": "2022-06-09T14:35:02.214Z"
   },
   {
    "duration": 25,
    "start_time": "2022-06-09T14:35:16.524Z"
   },
   {
    "duration": 628,
    "start_time": "2022-06-09T14:35:29.720Z"
   },
   {
    "duration": 474,
    "start_time": "2022-06-09T14:35:42.171Z"
   },
   {
    "duration": 400,
    "start_time": "2022-06-09T14:36:12.462Z"
   },
   {
    "duration": 48,
    "start_time": "2022-06-09T14:36:43.956Z"
   },
   {
    "duration": 55,
    "start_time": "2022-06-09T14:36:47.664Z"
   },
   {
    "duration": 33,
    "start_time": "2022-06-09T14:36:52.821Z"
   },
   {
    "duration": 858,
    "start_time": "2022-06-09T14:41:04.968Z"
   },
   {
    "duration": 41,
    "start_time": "2022-06-09T14:41:05.828Z"
   },
   {
    "duration": 69,
    "start_time": "2022-06-09T14:41:05.871Z"
   },
   {
    "duration": 485,
    "start_time": "2022-06-09T14:41:05.941Z"
   },
   {
    "duration": 26,
    "start_time": "2022-06-09T14:41:06.428Z"
   },
   {
    "duration": 10,
    "start_time": "2022-06-09T14:41:06.455Z"
   },
   {
    "duration": 30,
    "start_time": "2022-06-09T14:41:06.467Z"
   },
   {
    "duration": 49,
    "start_time": "2022-06-09T14:41:06.499Z"
   },
   {
    "duration": 12,
    "start_time": "2022-06-09T14:41:06.550Z"
   },
   {
    "duration": 32,
    "start_time": "2022-06-09T14:41:06.566Z"
   },
   {
    "duration": 277,
    "start_time": "2022-06-09T14:41:06.600Z"
   },
   {
    "duration": 116,
    "start_time": "2022-06-09T14:41:06.878Z"
   },
   {
    "duration": 32,
    "start_time": "2022-06-09T14:41:06.996Z"
   },
   {
    "duration": 180,
    "start_time": "2022-06-09T14:41:07.033Z"
   },
   {
    "duration": 5,
    "start_time": "2022-06-09T14:41:07.215Z"
   },
   {
    "duration": 33,
    "start_time": "2022-06-09T14:41:07.222Z"
   },
   {
    "duration": 343,
    "start_time": "2022-06-09T14:41:07.257Z"
   },
   {
    "duration": 12,
    "start_time": "2022-06-09T14:41:07.602Z"
   },
   {
    "duration": 9,
    "start_time": "2022-06-09T14:41:07.616Z"
   },
   {
    "duration": 233,
    "start_time": "2022-06-09T14:41:07.626Z"
   },
   {
    "duration": 10,
    "start_time": "2022-06-09T14:41:07.861Z"
   },
   {
    "duration": 23,
    "start_time": "2022-06-09T14:41:07.873Z"
   },
   {
    "duration": 8,
    "start_time": "2022-06-09T14:41:07.898Z"
   },
   {
    "duration": 28678,
    "start_time": "2022-06-09T14:41:07.907Z"
   },
   {
    "duration": 90,
    "start_time": "2022-06-09T14:41:36.586Z"
   },
   {
    "duration": 35,
    "start_time": "2022-06-09T14:41:36.677Z"
   },
   {
    "duration": 10,
    "start_time": "2022-06-09T14:41:36.714Z"
   },
   {
    "duration": 16,
    "start_time": "2022-06-09T14:41:36.726Z"
   },
   {
    "duration": 9,
    "start_time": "2022-06-09T14:41:36.743Z"
   },
   {
    "duration": 105,
    "start_time": "2022-06-09T14:41:36.753Z"
   },
   {
    "duration": 251,
    "start_time": "2022-06-09T14:41:36.860Z"
   },
   {
    "duration": 64,
    "start_time": "2022-06-09T14:41:37.114Z"
   },
   {
    "duration": 339,
    "start_time": "2022-06-09T14:41:37.180Z"
   },
   {
    "duration": 7,
    "start_time": "2022-06-09T14:41:37.521Z"
   },
   {
    "duration": 20,
    "start_time": "2022-06-09T14:41:37.529Z"
   },
   {
    "duration": 46,
    "start_time": "2022-06-09T14:41:37.551Z"
   },
   {
    "duration": 137,
    "start_time": "2022-06-09T14:41:37.600Z"
   },
   {
    "duration": 269,
    "start_time": "2022-06-09T14:41:37.739Z"
   },
   {
    "duration": 155,
    "start_time": "2022-06-09T14:41:38.010Z"
   },
   {
    "duration": 4,
    "start_time": "2022-06-09T14:41:38.167Z"
   },
   {
    "duration": 30,
    "start_time": "2022-06-09T14:41:38.177Z"
   },
   {
    "duration": 5,
    "start_time": "2022-06-09T14:41:38.208Z"
   },
   {
    "duration": 199,
    "start_time": "2022-06-09T14:41:38.215Z"
   },
   {
    "duration": 31,
    "start_time": "2022-06-09T14:41:38.415Z"
   },
   {
    "duration": 69,
    "start_time": "2022-06-09T14:41:38.447Z"
   },
   {
    "duration": 58,
    "start_time": "2022-06-09T14:41:38.518Z"
   },
   {
    "duration": 17,
    "start_time": "2022-06-09T14:41:38.577Z"
   },
   {
    "duration": 20,
    "start_time": "2022-06-09T14:41:38.595Z"
   },
   {
    "duration": 8,
    "start_time": "2022-06-09T14:41:38.617Z"
   },
   {
    "duration": 10,
    "start_time": "2022-06-09T14:41:38.626Z"
   },
   {
    "duration": 5,
    "start_time": "2022-06-09T14:41:38.637Z"
   },
   {
    "duration": 15,
    "start_time": "2022-06-09T14:41:38.644Z"
   },
   {
    "duration": 7,
    "start_time": "2022-06-09T14:41:38.661Z"
   },
   {
    "duration": 30,
    "start_time": "2022-06-09T14:41:38.669Z"
   },
   {
    "duration": 15,
    "start_time": "2022-06-09T14:41:38.700Z"
   },
   {
    "duration": 11,
    "start_time": "2022-06-09T14:41:38.717Z"
   },
   {
    "duration": 28,
    "start_time": "2022-06-09T14:41:38.730Z"
   },
   {
    "duration": 11,
    "start_time": "2022-06-09T14:41:38.759Z"
   },
   {
    "duration": 34,
    "start_time": "2022-06-09T14:41:38.773Z"
   },
   {
    "duration": 10,
    "start_time": "2022-06-09T14:41:38.808Z"
   },
   {
    "duration": 13,
    "start_time": "2022-06-09T14:41:38.819Z"
   },
   {
    "duration": 9,
    "start_time": "2022-06-09T14:41:38.834Z"
   },
   {
    "duration": 3,
    "start_time": "2022-06-09T14:41:38.844Z"
   },
   {
    "duration": 5,
    "start_time": "2022-06-09T14:41:38.849Z"
   },
   {
    "duration": 5,
    "start_time": "2022-06-09T14:41:38.856Z"
   },
   {
    "duration": 49,
    "start_time": "2022-06-09T14:41:38.862Z"
   },
   {
    "duration": 7,
    "start_time": "2022-06-09T14:41:38.913Z"
   },
   {
    "duration": 7,
    "start_time": "2022-06-09T14:41:38.921Z"
   },
   {
    "duration": 10,
    "start_time": "2022-06-09T14:41:38.930Z"
   },
   {
    "duration": 13,
    "start_time": "2022-06-09T14:41:38.941Z"
   },
   {
    "duration": 46,
    "start_time": "2022-06-09T14:41:38.955Z"
   },
   {
    "duration": 13,
    "start_time": "2022-06-09T14:41:39.002Z"
   },
   {
    "duration": 124,
    "start_time": "2022-06-09T14:41:39.017Z"
   },
   {
    "duration": 24,
    "start_time": "2022-06-09T14:41:39.142Z"
   },
   {
    "duration": 41,
    "start_time": "2022-06-09T14:41:39.168Z"
   },
   {
    "duration": 19,
    "start_time": "2022-06-09T14:41:39.211Z"
   },
   {
    "duration": 6,
    "start_time": "2022-06-09T14:41:39.231Z"
   },
   {
    "duration": 11,
    "start_time": "2022-06-09T14:41:39.239Z"
   },
   {
    "duration": 5,
    "start_time": "2022-06-09T14:41:39.251Z"
   },
   {
    "duration": 44,
    "start_time": "2022-06-09T14:41:39.257Z"
   },
   {
    "duration": 17,
    "start_time": "2022-06-09T14:41:39.302Z"
   },
   {
    "duration": 8,
    "start_time": "2022-06-09T14:41:39.321Z"
   },
   {
    "duration": 13,
    "start_time": "2022-06-09T14:41:39.331Z"
   },
   {
    "duration": 8,
    "start_time": "2022-06-09T14:41:39.346Z"
   },
   {
    "duration": 67,
    "start_time": "2022-06-09T14:41:39.356Z"
   },
   {
    "duration": 19,
    "start_time": "2022-06-09T14:41:39.425Z"
   },
   {
    "duration": 20,
    "start_time": "2022-06-09T14:41:39.446Z"
   },
   {
    "duration": 41,
    "start_time": "2022-06-09T14:41:39.467Z"
   },
   {
    "duration": 673,
    "start_time": "2022-06-09T14:41:39.510Z"
   },
   {
    "duration": 465,
    "start_time": "2022-06-09T14:41:40.185Z"
   },
   {
    "duration": 10,
    "start_time": "2022-06-09T14:41:40.652Z"
   },
   {
    "duration": 7,
    "start_time": "2022-06-09T14:41:40.664Z"
   },
   {
    "duration": 14,
    "start_time": "2022-06-09T14:41:40.694Z"
   },
   {
    "duration": 7,
    "start_time": "2022-06-09T14:41:40.710Z"
   },
   {
    "duration": 8,
    "start_time": "2022-06-09T14:41:40.719Z"
   },
   {
    "duration": 6,
    "start_time": "2022-06-09T14:41:40.728Z"
   },
   {
    "duration": 5,
    "start_time": "2022-06-09T14:41:40.736Z"
   },
   {
    "duration": 169,
    "start_time": "2022-06-09T14:41:40.743Z"
   },
   {
    "duration": 11,
    "start_time": "2022-06-09T14:41:40.914Z"
   },
   {
    "duration": 5,
    "start_time": "2022-06-09T14:41:40.926Z"
   },
   {
    "duration": 4,
    "start_time": "2022-06-09T14:41:40.932Z"
   },
   {
    "duration": 6,
    "start_time": "2022-06-09T14:41:40.938Z"
   },
   {
    "duration": 5,
    "start_time": "2022-06-09T14:41:40.946Z"
   },
   {
    "duration": 5,
    "start_time": "2022-06-09T14:41:40.952Z"
   },
   {
    "duration": 16,
    "start_time": "2022-06-09T14:41:40.996Z"
   },
   {
    "duration": 157,
    "start_time": "2022-06-09T14:41:41.014Z"
   },
   {
    "duration": 4,
    "start_time": "2022-06-09T14:41:41.172Z"
   },
   {
    "duration": 21,
    "start_time": "2022-06-09T14:41:41.177Z"
   },
   {
    "duration": 14,
    "start_time": "2022-06-09T14:41:41.202Z"
   },
   {
    "duration": 10,
    "start_time": "2022-06-09T14:41:41.218Z"
   },
   {
    "duration": 6,
    "start_time": "2022-06-09T14:41:41.230Z"
   },
   {
    "duration": 12,
    "start_time": "2022-06-09T14:41:41.237Z"
   },
   {
    "duration": 7,
    "start_time": "2022-06-09T14:41:41.251Z"
   },
   {
    "duration": 7,
    "start_time": "2022-06-09T14:41:41.296Z"
   }
  ],
  "kernelspec": {
   "display_name": "Python 3 (ipykernel)",
   "language": "python",
   "name": "python3"
  },
  "language_info": {
   "codemirror_mode": {
    "name": "ipython",
    "version": 3
   },
   "file_extension": ".py",
   "mimetype": "text/x-python",
   "name": "python",
   "nbconvert_exporter": "python",
   "pygments_lexer": "ipython3",
   "version": "3.9.7"
  },
  "toc": {
   "base_numbering": 1,
   "nav_menu": {},
   "number_sections": true,
   "sideBar": true,
   "skip_h1_title": true,
   "title_cell": "Table of Contents",
   "title_sidebar": "Contents",
   "toc_cell": false,
   "toc_position": {},
   "toc_section_display": true,
   "toc_window_display": false
  }
 },
 "nbformat": 4,
 "nbformat_minor": 2
}
