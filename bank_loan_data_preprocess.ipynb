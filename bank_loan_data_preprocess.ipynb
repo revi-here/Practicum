{
 "cells": [
  {
   "cell_type": "markdown",
   "metadata": {},
   "source": [
    "# Borrowers’ risk of defaulting "
   ]
  },
  {
   "cell_type": "markdown",
   "metadata": {},
   "source": [
    "# Table of contents   <a id='back'></a>\n",
    "1.[Introduction](#intro)  \n",
    "2.[Steps](#steps)    \n",
    "3.[Data exploration.](#explore)  \n",
    "4.[Data transformation](#transform)  \n",
    "5.[Duplicate values.](#duplicate)  \n",
    "6.[Missing values.](#missing)  \n",
    "7.[Data categorizationn](#category)  \n",
    "8.[Test Hypothesis](#hypothesis)  \n",
    "9.[Conclusion](#end)  "
   ]
  },
  {
   "cell_type": "markdown",
   "metadata": {},
   "source": [
    "<a id='intro'></a>"
   ]
  },
  {
   "cell_type": "markdown",
   "metadata": {},
   "source": [
    "# Introduction\n",
    "<b>\n",
    "This project is to prepare a report for a bank’s loan division. We need to find out if a customer’s marital status and number of children have an impact on whether they will default on a loan. The bank already has some data on customers’ credit worthiness.\n",
    "Our report will be considered when building a credit score for a potential customer. A credit score is used to evaluate the ability of a potential borrower to repay their loan.</b>\n"
   ]
  },
  {
   "cell_type": "markdown",
   "metadata": {},
   "source": [
    "<a id='steps'></a>"
   ]
  },
  {
   "cell_type": "markdown",
   "metadata": {},
   "source": [
    "# Steps \n",
    "<B> Test four hypotheses:  \n",
    "    <b> \n",
    "     1.Is there a connection between having kids and repaying a loan on time?  \n",
    "     2.Is there a connection between marital status and repaying a loan on time?  \n",
    "     3.Is there a connection between income level and repaying a loan on time?  \n",
    "     4.How do different loan purposes affect on-time loan repayment?</b>\n"
   ]
  },
  {
   "cell_type": "code",
   "execution_count": 213,
   "metadata": {},
   "outputs": [],
   "source": [
    "#Load libraries \n",
    "import pandas as pd"
   ]
  },
  {
   "cell_type": "code",
   "execution_count": 214,
   "metadata": {},
   "outputs": [
    {
     "name": "stdout",
     "output_type": "stream",
     "text": [
      "<class 'pandas.core.frame.DataFrame'>\n",
      "RangeIndex: 21525 entries, 0 to 21524\n",
      "Data columns (total 17 columns):\n",
      " #   Column              Non-Null Count  Dtype  \n",
      "---  ------              --------------  -----  \n",
      " 0   Unnamed: 0          21525 non-null  int64  \n",
      " 1   Unnamed: 0.1        21525 non-null  int64  \n",
      " 2   Unnamed: 0.1.1      21525 non-null  int64  \n",
      " 3   Unnamed: 0.1.1.1    21525 non-null  int64  \n",
      " 4   Unnamed: 0.1.1.1.1  21525 non-null  int64  \n",
      " 5   children            21525 non-null  int64  \n",
      " 6   days_employed       19351 non-null  float64\n",
      " 7   dob_years           21525 non-null  int64  \n",
      " 8   education           21525 non-null  object \n",
      " 9   education_id        21525 non-null  int64  \n",
      " 10  family_status       21525 non-null  object \n",
      " 11  family_status_id    21525 non-null  int64  \n",
      " 12  gender              21525 non-null  object \n",
      " 13  income_type         21525 non-null  object \n",
      " 14  debt                21525 non-null  int64  \n",
      " 15  total_income        19351 non-null  float64\n",
      " 16  purpose             21525 non-null  object \n",
      "dtypes: float64(2), int64(10), object(5)\n",
      "memory usage: 2.8+ MB\n"
     ]
    }
   ],
   "source": [
    "#Read data\n",
    "credit_score=pd.read_csv('credit_score.csv')\n",
    "credit_score.info()"
   ]
  },
  {
   "cell_type": "code",
   "execution_count": 215,
   "metadata": {},
   "outputs": [],
   "source": [
    "credit_score.to_csv('credit_score.csv')"
   ]
  },
  {
   "cell_type": "markdown",
   "metadata": {},
   "source": [
    "<a id='explore'></a>"
   ]
  },
  {
   "cell_type": "markdown",
   "metadata": {},
   "source": [
    "## Task 1. Data exploration\n",
    "\n",
    "**Description of the data**\n",
    "- `children` - the number of children in the family\n",
    "- `days_employed` - work experience in days\n",
    "- `dob_years` - client's age in years\n",
    "- `education` - client's education\n",
    "- `education_id` - education identifier\n",
    "- `family_status` - marital status\n",
    "- `family_status_id` - marital status identifier\n",
    "- `gender` - gender of the client\n",
    "- `income_type` - type of employment\n",
    "- `debt` - was there any debt on loan repayment\n",
    "- `total_income` - monthly income\n",
    "- `purpose` - the purpose of obtaining a loan\n",
    "\n"
   ]
  },
  {
   "cell_type": "code",
   "execution_count": 216,
   "metadata": {},
   "outputs": [
    {
     "data": {
      "text/plain": [
       "(21525, 17)"
      ]
     },
     "execution_count": 216,
     "metadata": {},
     "output_type": "execute_result"
    }
   ],
   "source": [
    "# Let's see how many rows and columns our dataset has\n",
    "credit_score.shape\n"
   ]
  },
  {
   "cell_type": "code",
   "execution_count": 217,
   "metadata": {
    "scrolled": true
   },
   "outputs": [
    {
     "data": {
      "text/html": [
       "<div>\n",
       "<style scoped>\n",
       "    .dataframe tbody tr th:only-of-type {\n",
       "        vertical-align: middle;\n",
       "    }\n",
       "\n",
       "    .dataframe tbody tr th {\n",
       "        vertical-align: top;\n",
       "    }\n",
       "\n",
       "    .dataframe thead th {\n",
       "        text-align: right;\n",
       "    }\n",
       "</style>\n",
       "<table border=\"1\" class=\"dataframe\">\n",
       "  <thead>\n",
       "    <tr style=\"text-align: right;\">\n",
       "      <th></th>\n",
       "      <th>Unnamed: 0</th>\n",
       "      <th>Unnamed: 0.1</th>\n",
       "      <th>Unnamed: 0.1.1</th>\n",
       "      <th>Unnamed: 0.1.1.1</th>\n",
       "      <th>Unnamed: 0.1.1.1.1</th>\n",
       "      <th>children</th>\n",
       "      <th>days_employed</th>\n",
       "      <th>dob_years</th>\n",
       "      <th>education</th>\n",
       "      <th>education_id</th>\n",
       "      <th>family_status</th>\n",
       "      <th>family_status_id</th>\n",
       "      <th>gender</th>\n",
       "      <th>income_type</th>\n",
       "      <th>debt</th>\n",
       "      <th>total_income</th>\n",
       "      <th>purpose</th>\n",
       "    </tr>\n",
       "  </thead>\n",
       "  <tbody>\n",
       "    <tr>\n",
       "      <th>0</th>\n",
       "      <td>0</td>\n",
       "      <td>0</td>\n",
       "      <td>0</td>\n",
       "      <td>0</td>\n",
       "      <td>0</td>\n",
       "      <td>1</td>\n",
       "      <td>-8437.673028</td>\n",
       "      <td>42</td>\n",
       "      <td>bachelor's degree</td>\n",
       "      <td>0</td>\n",
       "      <td>married</td>\n",
       "      <td>0</td>\n",
       "      <td>F</td>\n",
       "      <td>employee</td>\n",
       "      <td>0</td>\n",
       "      <td>40620.102</td>\n",
       "      <td>purchase of the house</td>\n",
       "    </tr>\n",
       "    <tr>\n",
       "      <th>1</th>\n",
       "      <td>1</td>\n",
       "      <td>1</td>\n",
       "      <td>1</td>\n",
       "      <td>1</td>\n",
       "      <td>1</td>\n",
       "      <td>1</td>\n",
       "      <td>-4024.803754</td>\n",
       "      <td>36</td>\n",
       "      <td>secondary education</td>\n",
       "      <td>1</td>\n",
       "      <td>married</td>\n",
       "      <td>0</td>\n",
       "      <td>F</td>\n",
       "      <td>employee</td>\n",
       "      <td>0</td>\n",
       "      <td>17932.802</td>\n",
       "      <td>car purchase</td>\n",
       "    </tr>\n",
       "    <tr>\n",
       "      <th>2</th>\n",
       "      <td>2</td>\n",
       "      <td>2</td>\n",
       "      <td>2</td>\n",
       "      <td>2</td>\n",
       "      <td>2</td>\n",
       "      <td>0</td>\n",
       "      <td>-5623.422610</td>\n",
       "      <td>33</td>\n",
       "      <td>Secondary Education</td>\n",
       "      <td>1</td>\n",
       "      <td>married</td>\n",
       "      <td>0</td>\n",
       "      <td>M</td>\n",
       "      <td>employee</td>\n",
       "      <td>0</td>\n",
       "      <td>23341.752</td>\n",
       "      <td>purchase of the house</td>\n",
       "    </tr>\n",
       "    <tr>\n",
       "      <th>3</th>\n",
       "      <td>3</td>\n",
       "      <td>3</td>\n",
       "      <td>3</td>\n",
       "      <td>3</td>\n",
       "      <td>3</td>\n",
       "      <td>3</td>\n",
       "      <td>-4124.747207</td>\n",
       "      <td>32</td>\n",
       "      <td>secondary education</td>\n",
       "      <td>1</td>\n",
       "      <td>married</td>\n",
       "      <td>0</td>\n",
       "      <td>M</td>\n",
       "      <td>employee</td>\n",
       "      <td>0</td>\n",
       "      <td>42820.568</td>\n",
       "      <td>supplementary education</td>\n",
       "    </tr>\n",
       "    <tr>\n",
       "      <th>4</th>\n",
       "      <td>4</td>\n",
       "      <td>4</td>\n",
       "      <td>4</td>\n",
       "      <td>4</td>\n",
       "      <td>4</td>\n",
       "      <td>0</td>\n",
       "      <td>340266.072047</td>\n",
       "      <td>53</td>\n",
       "      <td>secondary education</td>\n",
       "      <td>1</td>\n",
       "      <td>civil partnership</td>\n",
       "      <td>1</td>\n",
       "      <td>F</td>\n",
       "      <td>retiree</td>\n",
       "      <td>0</td>\n",
       "      <td>25378.572</td>\n",
       "      <td>to have a wedding</td>\n",
       "    </tr>\n",
       "    <tr>\n",
       "      <th>5</th>\n",
       "      <td>5</td>\n",
       "      <td>5</td>\n",
       "      <td>5</td>\n",
       "      <td>5</td>\n",
       "      <td>5</td>\n",
       "      <td>0</td>\n",
       "      <td>-926.185831</td>\n",
       "      <td>27</td>\n",
       "      <td>bachelor's degree</td>\n",
       "      <td>0</td>\n",
       "      <td>civil partnership</td>\n",
       "      <td>1</td>\n",
       "      <td>M</td>\n",
       "      <td>business</td>\n",
       "      <td>0</td>\n",
       "      <td>40922.170</td>\n",
       "      <td>purchase of the house</td>\n",
       "    </tr>\n",
       "    <tr>\n",
       "      <th>6</th>\n",
       "      <td>6</td>\n",
       "      <td>6</td>\n",
       "      <td>6</td>\n",
       "      <td>6</td>\n",
       "      <td>6</td>\n",
       "      <td>0</td>\n",
       "      <td>-2879.202052</td>\n",
       "      <td>43</td>\n",
       "      <td>bachelor's degree</td>\n",
       "      <td>0</td>\n",
       "      <td>married</td>\n",
       "      <td>0</td>\n",
       "      <td>F</td>\n",
       "      <td>business</td>\n",
       "      <td>0</td>\n",
       "      <td>38484.156</td>\n",
       "      <td>housing transactions</td>\n",
       "    </tr>\n",
       "    <tr>\n",
       "      <th>7</th>\n",
       "      <td>7</td>\n",
       "      <td>7</td>\n",
       "      <td>7</td>\n",
       "      <td>7</td>\n",
       "      <td>7</td>\n",
       "      <td>0</td>\n",
       "      <td>-152.779569</td>\n",
       "      <td>50</td>\n",
       "      <td>SECONDARY EDUCATION</td>\n",
       "      <td>1</td>\n",
       "      <td>married</td>\n",
       "      <td>0</td>\n",
       "      <td>M</td>\n",
       "      <td>employee</td>\n",
       "      <td>0</td>\n",
       "      <td>21731.829</td>\n",
       "      <td>education</td>\n",
       "    </tr>\n",
       "    <tr>\n",
       "      <th>8</th>\n",
       "      <td>8</td>\n",
       "      <td>8</td>\n",
       "      <td>8</td>\n",
       "      <td>8</td>\n",
       "      <td>8</td>\n",
       "      <td>2</td>\n",
       "      <td>-6929.865299</td>\n",
       "      <td>35</td>\n",
       "      <td>BACHELOR'S DEGREE</td>\n",
       "      <td>0</td>\n",
       "      <td>civil partnership</td>\n",
       "      <td>1</td>\n",
       "      <td>F</td>\n",
       "      <td>employee</td>\n",
       "      <td>0</td>\n",
       "      <td>15337.093</td>\n",
       "      <td>having a wedding</td>\n",
       "    </tr>\n",
       "    <tr>\n",
       "      <th>9</th>\n",
       "      <td>9</td>\n",
       "      <td>9</td>\n",
       "      <td>9</td>\n",
       "      <td>9</td>\n",
       "      <td>9</td>\n",
       "      <td>0</td>\n",
       "      <td>-2188.756445</td>\n",
       "      <td>41</td>\n",
       "      <td>secondary education</td>\n",
       "      <td>1</td>\n",
       "      <td>married</td>\n",
       "      <td>0</td>\n",
       "      <td>M</td>\n",
       "      <td>employee</td>\n",
       "      <td>0</td>\n",
       "      <td>23108.150</td>\n",
       "      <td>purchase of the house for my family</td>\n",
       "    </tr>\n",
       "  </tbody>\n",
       "</table>\n",
       "</div>"
      ],
      "text/plain": [
       "   Unnamed: 0  Unnamed: 0.1  Unnamed: 0.1.1  Unnamed: 0.1.1.1  \\\n",
       "0           0             0               0                 0   \n",
       "1           1             1               1                 1   \n",
       "2           2             2               2                 2   \n",
       "3           3             3               3                 3   \n",
       "4           4             4               4                 4   \n",
       "5           5             5               5                 5   \n",
       "6           6             6               6                 6   \n",
       "7           7             7               7                 7   \n",
       "8           8             8               8                 8   \n",
       "9           9             9               9                 9   \n",
       "\n",
       "   Unnamed: 0.1.1.1.1  children  days_employed  dob_years  \\\n",
       "0                   0         1   -8437.673028         42   \n",
       "1                   1         1   -4024.803754         36   \n",
       "2                   2         0   -5623.422610         33   \n",
       "3                   3         3   -4124.747207         32   \n",
       "4                   4         0  340266.072047         53   \n",
       "5                   5         0    -926.185831         27   \n",
       "6                   6         0   -2879.202052         43   \n",
       "7                   7         0    -152.779569         50   \n",
       "8                   8         2   -6929.865299         35   \n",
       "9                   9         0   -2188.756445         41   \n",
       "\n",
       "             education  education_id      family_status  family_status_id  \\\n",
       "0    bachelor's degree             0            married                 0   \n",
       "1  secondary education             1            married                 0   \n",
       "2  Secondary Education             1            married                 0   \n",
       "3  secondary education             1            married                 0   \n",
       "4  secondary education             1  civil partnership                 1   \n",
       "5    bachelor's degree             0  civil partnership                 1   \n",
       "6    bachelor's degree             0            married                 0   \n",
       "7  SECONDARY EDUCATION             1            married                 0   \n",
       "8    BACHELOR'S DEGREE             0  civil partnership                 1   \n",
       "9  secondary education             1            married                 0   \n",
       "\n",
       "  gender income_type  debt  total_income                              purpose  \n",
       "0      F    employee     0     40620.102                purchase of the house  \n",
       "1      F    employee     0     17932.802                         car purchase  \n",
       "2      M    employee     0     23341.752                purchase of the house  \n",
       "3      M    employee     0     42820.568              supplementary education  \n",
       "4      F     retiree     0     25378.572                    to have a wedding  \n",
       "5      M    business     0     40922.170                purchase of the house  \n",
       "6      F    business     0     38484.156                 housing transactions  \n",
       "7      M    employee     0     21731.829                            education  \n",
       "8      F    employee     0     15337.093                     having a wedding  \n",
       "9      M    employee     0     23108.150  purchase of the house for my family  "
      ]
     },
     "execution_count": 217,
     "metadata": {},
     "output_type": "execute_result"
    }
   ],
   "source": [
    "# Print first 30 rows\n",
    "credit_score.head(10)\n"
   ]
  },
  {
   "cell_type": "markdown",
   "metadata": {},
   "source": [
    "'days_employed' which is the work experience in days has negative values(more than half of the records in the dataset) which needs further investigation.\n",
    "'days_employed' and 'total_income' has missing values."
   ]
  },
  {
   "cell_type": "code",
   "execution_count": 218,
   "metadata": {
    "scrolled": false
   },
   "outputs": [
    {
     "name": "stdout",
     "output_type": "stream",
     "text": [
      "<class 'pandas.core.frame.DataFrame'>\n",
      "RangeIndex: 21525 entries, 0 to 21524\n",
      "Data columns (total 17 columns):\n",
      " #   Column              Non-Null Count  Dtype  \n",
      "---  ------              --------------  -----  \n",
      " 0   Unnamed: 0          21525 non-null  int64  \n",
      " 1   Unnamed: 0.1        21525 non-null  int64  \n",
      " 2   Unnamed: 0.1.1      21525 non-null  int64  \n",
      " 3   Unnamed: 0.1.1.1    21525 non-null  int64  \n",
      " 4   Unnamed: 0.1.1.1.1  21525 non-null  int64  \n",
      " 5   children            21525 non-null  int64  \n",
      " 6   days_employed       19351 non-null  float64\n",
      " 7   dob_years           21525 non-null  int64  \n",
      " 8   education           21525 non-null  object \n",
      " 9   education_id        21525 non-null  int64  \n",
      " 10  family_status       21525 non-null  object \n",
      " 11  family_status_id    21525 non-null  int64  \n",
      " 12  gender              21525 non-null  object \n",
      " 13  income_type         21525 non-null  object \n",
      " 14  debt                21525 non-null  int64  \n",
      " 15  total_income        19351 non-null  float64\n",
      " 16  purpose             21525 non-null  object \n",
      "dtypes: float64(2), int64(10), object(5)\n",
      "memory usage: 2.8+ MB\n"
     ]
    }
   ],
   "source": [
    "# Get info on data\n",
    "credit_score.info()"
   ]
  },
  {
   "cell_type": "markdown",
   "metadata": {},
   "source": [
    "'days_employed' and 'total_income' has some missing values as their entries are less than total entries in the dataset.'days_employed' is declared float as opposed to int."
   ]
  },
  {
   "cell_type": "code",
   "execution_count": 219,
   "metadata": {
    "scrolled": true
   },
   "outputs": [
    {
     "data": {
      "text/html": [
       "<div>\n",
       "<style scoped>\n",
       "    .dataframe tbody tr th:only-of-type {\n",
       "        vertical-align: middle;\n",
       "    }\n",
       "\n",
       "    .dataframe tbody tr th {\n",
       "        vertical-align: top;\n",
       "    }\n",
       "\n",
       "    .dataframe thead th {\n",
       "        text-align: right;\n",
       "    }\n",
       "</style>\n",
       "<table border=\"1\" class=\"dataframe\">\n",
       "  <thead>\n",
       "    <tr style=\"text-align: right;\">\n",
       "      <th></th>\n",
       "      <th>Unnamed: 0</th>\n",
       "      <th>Unnamed: 0.1</th>\n",
       "      <th>Unnamed: 0.1.1</th>\n",
       "      <th>Unnamed: 0.1.1.1</th>\n",
       "      <th>Unnamed: 0.1.1.1.1</th>\n",
       "      <th>children</th>\n",
       "      <th>days_employed</th>\n",
       "      <th>dob_years</th>\n",
       "      <th>education</th>\n",
       "      <th>education_id</th>\n",
       "      <th>family_status</th>\n",
       "      <th>family_status_id</th>\n",
       "      <th>gender</th>\n",
       "      <th>income_type</th>\n",
       "      <th>debt</th>\n",
       "      <th>total_income</th>\n",
       "      <th>purpose</th>\n",
       "    </tr>\n",
       "  </thead>\n",
       "  <tbody>\n",
       "    <tr>\n",
       "      <th>12</th>\n",
       "      <td>12</td>\n",
       "      <td>12</td>\n",
       "      <td>12</td>\n",
       "      <td>12</td>\n",
       "      <td>12</td>\n",
       "      <td>0</td>\n",
       "      <td>NaN</td>\n",
       "      <td>65</td>\n",
       "      <td>secondary education</td>\n",
       "      <td>1</td>\n",
       "      <td>civil partnership</td>\n",
       "      <td>1</td>\n",
       "      <td>M</td>\n",
       "      <td>retiree</td>\n",
       "      <td>0</td>\n",
       "      <td>NaN</td>\n",
       "      <td>to have a wedding</td>\n",
       "    </tr>\n",
       "    <tr>\n",
       "      <th>26</th>\n",
       "      <td>26</td>\n",
       "      <td>26</td>\n",
       "      <td>26</td>\n",
       "      <td>26</td>\n",
       "      <td>26</td>\n",
       "      <td>0</td>\n",
       "      <td>NaN</td>\n",
       "      <td>41</td>\n",
       "      <td>secondary education</td>\n",
       "      <td>1</td>\n",
       "      <td>married</td>\n",
       "      <td>0</td>\n",
       "      <td>M</td>\n",
       "      <td>civil servant</td>\n",
       "      <td>0</td>\n",
       "      <td>NaN</td>\n",
       "      <td>education</td>\n",
       "    </tr>\n",
       "    <tr>\n",
       "      <th>29</th>\n",
       "      <td>29</td>\n",
       "      <td>29</td>\n",
       "      <td>29</td>\n",
       "      <td>29</td>\n",
       "      <td>29</td>\n",
       "      <td>0</td>\n",
       "      <td>NaN</td>\n",
       "      <td>63</td>\n",
       "      <td>secondary education</td>\n",
       "      <td>1</td>\n",
       "      <td>unmarried</td>\n",
       "      <td>4</td>\n",
       "      <td>F</td>\n",
       "      <td>retiree</td>\n",
       "      <td>0</td>\n",
       "      <td>NaN</td>\n",
       "      <td>building a real estate</td>\n",
       "    </tr>\n",
       "    <tr>\n",
       "      <th>41</th>\n",
       "      <td>41</td>\n",
       "      <td>41</td>\n",
       "      <td>41</td>\n",
       "      <td>41</td>\n",
       "      <td>41</td>\n",
       "      <td>0</td>\n",
       "      <td>NaN</td>\n",
       "      <td>50</td>\n",
       "      <td>secondary education</td>\n",
       "      <td>1</td>\n",
       "      <td>married</td>\n",
       "      <td>0</td>\n",
       "      <td>F</td>\n",
       "      <td>civil servant</td>\n",
       "      <td>0</td>\n",
       "      <td>NaN</td>\n",
       "      <td>second-hand car purchase</td>\n",
       "    </tr>\n",
       "    <tr>\n",
       "      <th>55</th>\n",
       "      <td>55</td>\n",
       "      <td>55</td>\n",
       "      <td>55</td>\n",
       "      <td>55</td>\n",
       "      <td>55</td>\n",
       "      <td>0</td>\n",
       "      <td>NaN</td>\n",
       "      <td>54</td>\n",
       "      <td>secondary education</td>\n",
       "      <td>1</td>\n",
       "      <td>civil partnership</td>\n",
       "      <td>1</td>\n",
       "      <td>F</td>\n",
       "      <td>retiree</td>\n",
       "      <td>1</td>\n",
       "      <td>NaN</td>\n",
       "      <td>to have a wedding</td>\n",
       "    </tr>\n",
       "    <tr>\n",
       "      <th>65</th>\n",
       "      <td>65</td>\n",
       "      <td>65</td>\n",
       "      <td>65</td>\n",
       "      <td>65</td>\n",
       "      <td>65</td>\n",
       "      <td>0</td>\n",
       "      <td>NaN</td>\n",
       "      <td>21</td>\n",
       "      <td>secondary education</td>\n",
       "      <td>1</td>\n",
       "      <td>unmarried</td>\n",
       "      <td>4</td>\n",
       "      <td>M</td>\n",
       "      <td>business</td>\n",
       "      <td>0</td>\n",
       "      <td>NaN</td>\n",
       "      <td>transactions with commercial real estate</td>\n",
       "    </tr>\n",
       "    <tr>\n",
       "      <th>67</th>\n",
       "      <td>67</td>\n",
       "      <td>67</td>\n",
       "      <td>67</td>\n",
       "      <td>67</td>\n",
       "      <td>67</td>\n",
       "      <td>0</td>\n",
       "      <td>NaN</td>\n",
       "      <td>52</td>\n",
       "      <td>bachelor's degree</td>\n",
       "      <td>0</td>\n",
       "      <td>married</td>\n",
       "      <td>0</td>\n",
       "      <td>F</td>\n",
       "      <td>retiree</td>\n",
       "      <td>0</td>\n",
       "      <td>NaN</td>\n",
       "      <td>purchase of the house for my family</td>\n",
       "    </tr>\n",
       "    <tr>\n",
       "      <th>72</th>\n",
       "      <td>72</td>\n",
       "      <td>72</td>\n",
       "      <td>72</td>\n",
       "      <td>72</td>\n",
       "      <td>72</td>\n",
       "      <td>1</td>\n",
       "      <td>NaN</td>\n",
       "      <td>32</td>\n",
       "      <td>bachelor's degree</td>\n",
       "      <td>0</td>\n",
       "      <td>married</td>\n",
       "      <td>0</td>\n",
       "      <td>M</td>\n",
       "      <td>civil servant</td>\n",
       "      <td>0</td>\n",
       "      <td>NaN</td>\n",
       "      <td>transactions with commercial real estate</td>\n",
       "    </tr>\n",
       "    <tr>\n",
       "      <th>82</th>\n",
       "      <td>82</td>\n",
       "      <td>82</td>\n",
       "      <td>82</td>\n",
       "      <td>82</td>\n",
       "      <td>82</td>\n",
       "      <td>2</td>\n",
       "      <td>NaN</td>\n",
       "      <td>50</td>\n",
       "      <td>bachelor's degree</td>\n",
       "      <td>0</td>\n",
       "      <td>married</td>\n",
       "      <td>0</td>\n",
       "      <td>F</td>\n",
       "      <td>employee</td>\n",
       "      <td>0</td>\n",
       "      <td>NaN</td>\n",
       "      <td>housing</td>\n",
       "    </tr>\n",
       "    <tr>\n",
       "      <th>83</th>\n",
       "      <td>83</td>\n",
       "      <td>83</td>\n",
       "      <td>83</td>\n",
       "      <td>83</td>\n",
       "      <td>83</td>\n",
       "      <td>0</td>\n",
       "      <td>NaN</td>\n",
       "      <td>52</td>\n",
       "      <td>secondary education</td>\n",
       "      <td>1</td>\n",
       "      <td>married</td>\n",
       "      <td>0</td>\n",
       "      <td>M</td>\n",
       "      <td>employee</td>\n",
       "      <td>0</td>\n",
       "      <td>NaN</td>\n",
       "      <td>housing</td>\n",
       "    </tr>\n",
       "  </tbody>\n",
       "</table>\n",
       "</div>"
      ],
      "text/plain": [
       "    Unnamed: 0  Unnamed: 0.1  Unnamed: 0.1.1  Unnamed: 0.1.1.1  \\\n",
       "12          12            12              12                12   \n",
       "26          26            26              26                26   \n",
       "29          29            29              29                29   \n",
       "41          41            41              41                41   \n",
       "55          55            55              55                55   \n",
       "65          65            65              65                65   \n",
       "67          67            67              67                67   \n",
       "72          72            72              72                72   \n",
       "82          82            82              82                82   \n",
       "83          83            83              83                83   \n",
       "\n",
       "    Unnamed: 0.1.1.1.1  children  days_employed  dob_years  \\\n",
       "12                  12         0            NaN         65   \n",
       "26                  26         0            NaN         41   \n",
       "29                  29         0            NaN         63   \n",
       "41                  41         0            NaN         50   \n",
       "55                  55         0            NaN         54   \n",
       "65                  65         0            NaN         21   \n",
       "67                  67         0            NaN         52   \n",
       "72                  72         1            NaN         32   \n",
       "82                  82         2            NaN         50   \n",
       "83                  83         0            NaN         52   \n",
       "\n",
       "              education  education_id      family_status  family_status_id  \\\n",
       "12  secondary education             1  civil partnership                 1   \n",
       "26  secondary education             1            married                 0   \n",
       "29  secondary education             1          unmarried                 4   \n",
       "41  secondary education             1            married                 0   \n",
       "55  secondary education             1  civil partnership                 1   \n",
       "65  secondary education             1          unmarried                 4   \n",
       "67    bachelor's degree             0            married                 0   \n",
       "72    bachelor's degree             0            married                 0   \n",
       "82    bachelor's degree             0            married                 0   \n",
       "83  secondary education             1            married                 0   \n",
       "\n",
       "   gender    income_type  debt  total_income  \\\n",
       "12      M        retiree     0           NaN   \n",
       "26      M  civil servant     0           NaN   \n",
       "29      F        retiree     0           NaN   \n",
       "41      F  civil servant     0           NaN   \n",
       "55      F        retiree     1           NaN   \n",
       "65      M       business     0           NaN   \n",
       "67      F        retiree     0           NaN   \n",
       "72      M  civil servant     0           NaN   \n",
       "82      F       employee     0           NaN   \n",
       "83      M       employee     0           NaN   \n",
       "\n",
       "                                     purpose  \n",
       "12                         to have a wedding  \n",
       "26                                 education  \n",
       "29                    building a real estate  \n",
       "41                  second-hand car purchase  \n",
       "55                         to have a wedding  \n",
       "65  transactions with commercial real estate  \n",
       "67       purchase of the house for my family  \n",
       "72  transactions with commercial real estate  \n",
       "82                                   housing  \n",
       "83                                   housing  "
      ]
     },
     "execution_count": 219,
     "metadata": {},
     "output_type": "execute_result"
    }
   ],
   "source": [
    "# Let's look at the filtered table with missing values in the the first column with missing data\n",
    "\n",
    "#rows with missing values\n",
    "len(credit_score[credit_score['days_employed'].isna()]) # there are 2174 rows with missing values\n",
    "credit_score[credit_score['days_employed'].isna()].head(10)"
   ]
  },
  {
   "cell_type": "markdown",
   "metadata": {},
   "source": [
    "We see 'days_employed' and 'total_income' has missing values in the same rows.ie Income is missing for those with missing work experience in days."
   ]
  },
  {
   "cell_type": "code",
   "execution_count": 220,
   "metadata": {
    "scrolled": true
   },
   "outputs": [
    {
     "name": "stdout",
     "output_type": "stream",
     "text": [
      "The percentage of missing values in the days_employed column: 10.10%\n"
     ]
    }
   ],
   "source": [
    "# Let's apply multiple conditions for filtering data and look at the number of rows in the filtered table.\n",
    "# Calculate percentage of  missing values\n",
    "\n",
    "print('The percentage of missing values in the days_employed column: {:.2%}'.format(len(credit_score[credit_score['days_employed'].isna()])/len(credit_score)))"
   ]
  },
  {
   "cell_type": "markdown",
   "metadata": {},
   "source": [
    "**Intermediate conclusion**\n",
    "\n",
    "<b>The missing values count matches with the number of rows in the filtered table.\n",
    "Also it is the same value that is missing in output of info().\n",
    "Around 10% of the data in the dataset is missing.\n",
    "Missing data in 'total_income' is influenced directly by the 'days_employed' field.\n",
    "When there is no work experience ,you don't have income to display.\n",
    "Missing 'total_income' values has dependence with debt as we have to test \n",
    "how income level affects the loan payment.\n",
    "    </b>"
   ]
  },
  {
   "cell_type": "code",
   "execution_count": 221,
   "metadata": {
    "scrolled": true
   },
   "outputs": [
    {
     "data": {
      "text/html": [
       "<div>\n",
       "<style scoped>\n",
       "    .dataframe tbody tr th:only-of-type {\n",
       "        vertical-align: middle;\n",
       "    }\n",
       "\n",
       "    .dataframe tbody tr th {\n",
       "        vertical-align: top;\n",
       "    }\n",
       "\n",
       "    .dataframe thead th {\n",
       "        text-align: right;\n",
       "    }\n",
       "</style>\n",
       "<table border=\"1\" class=\"dataframe\">\n",
       "  <thead>\n",
       "    <tr style=\"text-align: right;\">\n",
       "      <th></th>\n",
       "      <th>Unnamed: 0</th>\n",
       "      <th>Unnamed: 0.1</th>\n",
       "      <th>Unnamed: 0.1.1</th>\n",
       "      <th>Unnamed: 0.1.1.1</th>\n",
       "      <th>Unnamed: 0.1.1.1.1</th>\n",
       "      <th>children</th>\n",
       "      <th>days_employed</th>\n",
       "      <th>dob_years</th>\n",
       "      <th>education</th>\n",
       "      <th>education_id</th>\n",
       "      <th>family_status</th>\n",
       "      <th>family_status_id</th>\n",
       "      <th>gender</th>\n",
       "      <th>income_type</th>\n",
       "      <th>debt</th>\n",
       "      <th>total_income</th>\n",
       "      <th>purpose</th>\n",
       "    </tr>\n",
       "  </thead>\n",
       "  <tbody>\n",
       "    <tr>\n",
       "      <th>12</th>\n",
       "      <td>12</td>\n",
       "      <td>12</td>\n",
       "      <td>12</td>\n",
       "      <td>12</td>\n",
       "      <td>12</td>\n",
       "      <td>0</td>\n",
       "      <td>NaN</td>\n",
       "      <td>65</td>\n",
       "      <td>secondary education</td>\n",
       "      <td>1</td>\n",
       "      <td>civil partnership</td>\n",
       "      <td>1</td>\n",
       "      <td>M</td>\n",
       "      <td>retiree</td>\n",
       "      <td>0</td>\n",
       "      <td>NaN</td>\n",
       "      <td>to have a wedding</td>\n",
       "    </tr>\n",
       "    <tr>\n",
       "      <th>26</th>\n",
       "      <td>26</td>\n",
       "      <td>26</td>\n",
       "      <td>26</td>\n",
       "      <td>26</td>\n",
       "      <td>26</td>\n",
       "      <td>0</td>\n",
       "      <td>NaN</td>\n",
       "      <td>41</td>\n",
       "      <td>secondary education</td>\n",
       "      <td>1</td>\n",
       "      <td>married</td>\n",
       "      <td>0</td>\n",
       "      <td>M</td>\n",
       "      <td>civil servant</td>\n",
       "      <td>0</td>\n",
       "      <td>NaN</td>\n",
       "      <td>education</td>\n",
       "    </tr>\n",
       "    <tr>\n",
       "      <th>29</th>\n",
       "      <td>29</td>\n",
       "      <td>29</td>\n",
       "      <td>29</td>\n",
       "      <td>29</td>\n",
       "      <td>29</td>\n",
       "      <td>0</td>\n",
       "      <td>NaN</td>\n",
       "      <td>63</td>\n",
       "      <td>secondary education</td>\n",
       "      <td>1</td>\n",
       "      <td>unmarried</td>\n",
       "      <td>4</td>\n",
       "      <td>F</td>\n",
       "      <td>retiree</td>\n",
       "      <td>0</td>\n",
       "      <td>NaN</td>\n",
       "      <td>building a real estate</td>\n",
       "    </tr>\n",
       "    <tr>\n",
       "      <th>41</th>\n",
       "      <td>41</td>\n",
       "      <td>41</td>\n",
       "      <td>41</td>\n",
       "      <td>41</td>\n",
       "      <td>41</td>\n",
       "      <td>0</td>\n",
       "      <td>NaN</td>\n",
       "      <td>50</td>\n",
       "      <td>secondary education</td>\n",
       "      <td>1</td>\n",
       "      <td>married</td>\n",
       "      <td>0</td>\n",
       "      <td>F</td>\n",
       "      <td>civil servant</td>\n",
       "      <td>0</td>\n",
       "      <td>NaN</td>\n",
       "      <td>second-hand car purchase</td>\n",
       "    </tr>\n",
       "    <tr>\n",
       "      <th>55</th>\n",
       "      <td>55</td>\n",
       "      <td>55</td>\n",
       "      <td>55</td>\n",
       "      <td>55</td>\n",
       "      <td>55</td>\n",
       "      <td>0</td>\n",
       "      <td>NaN</td>\n",
       "      <td>54</td>\n",
       "      <td>secondary education</td>\n",
       "      <td>1</td>\n",
       "      <td>civil partnership</td>\n",
       "      <td>1</td>\n",
       "      <td>F</td>\n",
       "      <td>retiree</td>\n",
       "      <td>1</td>\n",
       "      <td>NaN</td>\n",
       "      <td>to have a wedding</td>\n",
       "    </tr>\n",
       "    <tr>\n",
       "      <th>65</th>\n",
       "      <td>65</td>\n",
       "      <td>65</td>\n",
       "      <td>65</td>\n",
       "      <td>65</td>\n",
       "      <td>65</td>\n",
       "      <td>0</td>\n",
       "      <td>NaN</td>\n",
       "      <td>21</td>\n",
       "      <td>secondary education</td>\n",
       "      <td>1</td>\n",
       "      <td>unmarried</td>\n",
       "      <td>4</td>\n",
       "      <td>M</td>\n",
       "      <td>business</td>\n",
       "      <td>0</td>\n",
       "      <td>NaN</td>\n",
       "      <td>transactions with commercial real estate</td>\n",
       "    </tr>\n",
       "    <tr>\n",
       "      <th>67</th>\n",
       "      <td>67</td>\n",
       "      <td>67</td>\n",
       "      <td>67</td>\n",
       "      <td>67</td>\n",
       "      <td>67</td>\n",
       "      <td>0</td>\n",
       "      <td>NaN</td>\n",
       "      <td>52</td>\n",
       "      <td>bachelor's degree</td>\n",
       "      <td>0</td>\n",
       "      <td>married</td>\n",
       "      <td>0</td>\n",
       "      <td>F</td>\n",
       "      <td>retiree</td>\n",
       "      <td>0</td>\n",
       "      <td>NaN</td>\n",
       "      <td>purchase of the house for my family</td>\n",
       "    </tr>\n",
       "    <tr>\n",
       "      <th>72</th>\n",
       "      <td>72</td>\n",
       "      <td>72</td>\n",
       "      <td>72</td>\n",
       "      <td>72</td>\n",
       "      <td>72</td>\n",
       "      <td>1</td>\n",
       "      <td>NaN</td>\n",
       "      <td>32</td>\n",
       "      <td>bachelor's degree</td>\n",
       "      <td>0</td>\n",
       "      <td>married</td>\n",
       "      <td>0</td>\n",
       "      <td>M</td>\n",
       "      <td>civil servant</td>\n",
       "      <td>0</td>\n",
       "      <td>NaN</td>\n",
       "      <td>transactions with commercial real estate</td>\n",
       "    </tr>\n",
       "    <tr>\n",
       "      <th>82</th>\n",
       "      <td>82</td>\n",
       "      <td>82</td>\n",
       "      <td>82</td>\n",
       "      <td>82</td>\n",
       "      <td>82</td>\n",
       "      <td>2</td>\n",
       "      <td>NaN</td>\n",
       "      <td>50</td>\n",
       "      <td>bachelor's degree</td>\n",
       "      <td>0</td>\n",
       "      <td>married</td>\n",
       "      <td>0</td>\n",
       "      <td>F</td>\n",
       "      <td>employee</td>\n",
       "      <td>0</td>\n",
       "      <td>NaN</td>\n",
       "      <td>housing</td>\n",
       "    </tr>\n",
       "    <tr>\n",
       "      <th>83</th>\n",
       "      <td>83</td>\n",
       "      <td>83</td>\n",
       "      <td>83</td>\n",
       "      <td>83</td>\n",
       "      <td>83</td>\n",
       "      <td>0</td>\n",
       "      <td>NaN</td>\n",
       "      <td>52</td>\n",
       "      <td>secondary education</td>\n",
       "      <td>1</td>\n",
       "      <td>married</td>\n",
       "      <td>0</td>\n",
       "      <td>M</td>\n",
       "      <td>employee</td>\n",
       "      <td>0</td>\n",
       "      <td>NaN</td>\n",
       "      <td>housing</td>\n",
       "    </tr>\n",
       "  </tbody>\n",
       "</table>\n",
       "</div>"
      ],
      "text/plain": [
       "    Unnamed: 0  Unnamed: 0.1  Unnamed: 0.1.1  Unnamed: 0.1.1.1  \\\n",
       "12          12            12              12                12   \n",
       "26          26            26              26                26   \n",
       "29          29            29              29                29   \n",
       "41          41            41              41                41   \n",
       "55          55            55              55                55   \n",
       "65          65            65              65                65   \n",
       "67          67            67              67                67   \n",
       "72          72            72              72                72   \n",
       "82          82            82              82                82   \n",
       "83          83            83              83                83   \n",
       "\n",
       "    Unnamed: 0.1.1.1.1  children  days_employed  dob_years  \\\n",
       "12                  12         0            NaN         65   \n",
       "26                  26         0            NaN         41   \n",
       "29                  29         0            NaN         63   \n",
       "41                  41         0            NaN         50   \n",
       "55                  55         0            NaN         54   \n",
       "65                  65         0            NaN         21   \n",
       "67                  67         0            NaN         52   \n",
       "72                  72         1            NaN         32   \n",
       "82                  82         2            NaN         50   \n",
       "83                  83         0            NaN         52   \n",
       "\n",
       "              education  education_id      family_status  family_status_id  \\\n",
       "12  secondary education             1  civil partnership                 1   \n",
       "26  secondary education             1            married                 0   \n",
       "29  secondary education             1          unmarried                 4   \n",
       "41  secondary education             1            married                 0   \n",
       "55  secondary education             1  civil partnership                 1   \n",
       "65  secondary education             1          unmarried                 4   \n",
       "67    bachelor's degree             0            married                 0   \n",
       "72    bachelor's degree             0            married                 0   \n",
       "82    bachelor's degree             0            married                 0   \n",
       "83  secondary education             1            married                 0   \n",
       "\n",
       "   gender    income_type  debt  total_income  \\\n",
       "12      M        retiree     0           NaN   \n",
       "26      M  civil servant     0           NaN   \n",
       "29      F        retiree     0           NaN   \n",
       "41      F  civil servant     0           NaN   \n",
       "55      F        retiree     1           NaN   \n",
       "65      M       business     0           NaN   \n",
       "67      F        retiree     0           NaN   \n",
       "72      M  civil servant     0           NaN   \n",
       "82      F       employee     0           NaN   \n",
       "83      M       employee     0           NaN   \n",
       "\n",
       "                                     purpose  \n",
       "12                         to have a wedding  \n",
       "26                                 education  \n",
       "29                    building a real estate  \n",
       "41                  second-hand car purchase  \n",
       "55                         to have a wedding  \n",
       "65  transactions with commercial real estate  \n",
       "67       purchase of the house for my family  \n",
       "72  transactions with commercial real estate  \n",
       "82                                   housing  \n",
       "83                                   housing  "
      ]
     },
     "execution_count": 221,
     "metadata": {},
     "output_type": "execute_result"
    }
   ],
   "source": [
    "# Let's investigate clients who do not have data on identified characteristic and the column with the missing values\n",
    "missing_set=credit_score[credit_score['days_employed'].isna() &  credit_score['total_income'].isna()]\n",
    "missing_set.head(10)"
   ]
  },
  {
   "cell_type": "markdown",
   "metadata": {},
   "source": [
    "\n",
    "\n",
    "**Possible reasons for missing values in data**\n",
    "\n",
    "Missing values in 'days_employed' looks random .\n",
    "'total_income' depends on 'days_employed'.\n",
    "So missing values which are very small portion compared to the whole dataset looks random.\n",
    "\n",
    "\n",
    "\n"
   ]
  },
  {
   "cell_type": "code",
   "execution_count": 222,
   "metadata": {},
   "outputs": [
    {
     "data": {
      "text/html": [
       "<div>\n",
       "<style scoped>\n",
       "    .dataframe tbody tr th:only-of-type {\n",
       "        vertical-align: middle;\n",
       "    }\n",
       "\n",
       "    .dataframe tbody tr th {\n",
       "        vertical-align: top;\n",
       "    }\n",
       "\n",
       "    .dataframe thead th {\n",
       "        text-align: right;\n",
       "    }\n",
       "</style>\n",
       "<table border=\"1\" class=\"dataframe\">\n",
       "  <thead>\n",
       "    <tr style=\"text-align: right;\">\n",
       "      <th></th>\n",
       "      <th>Unnamed: 0</th>\n",
       "      <th>Unnamed: 0.1</th>\n",
       "      <th>Unnamed: 0.1.1</th>\n",
       "      <th>Unnamed: 0.1.1.1</th>\n",
       "      <th>Unnamed: 0.1.1.1.1</th>\n",
       "      <th>children</th>\n",
       "      <th>days_employed</th>\n",
       "      <th>dob_years</th>\n",
       "      <th>education</th>\n",
       "      <th>education_id</th>\n",
       "      <th>family_status</th>\n",
       "      <th>family_status_id</th>\n",
       "      <th>gender</th>\n",
       "      <th>income_type</th>\n",
       "      <th>debt</th>\n",
       "      <th>total_income</th>\n",
       "      <th>purpose</th>\n",
       "    </tr>\n",
       "  </thead>\n",
       "  <tbody>\n",
       "    <tr>\n",
       "      <th>0</th>\n",
       "      <td>0</td>\n",
       "      <td>0</td>\n",
       "      <td>0</td>\n",
       "      <td>0</td>\n",
       "      <td>0</td>\n",
       "      <td>1</td>\n",
       "      <td>-8437.673028</td>\n",
       "      <td>42</td>\n",
       "      <td>bachelor's degree</td>\n",
       "      <td>0</td>\n",
       "      <td>married</td>\n",
       "      <td>0</td>\n",
       "      <td>F</td>\n",
       "      <td>employee</td>\n",
       "      <td>0</td>\n",
       "      <td>40620.102</td>\n",
       "      <td>purchase of the house</td>\n",
       "    </tr>\n",
       "    <tr>\n",
       "      <th>1</th>\n",
       "      <td>1</td>\n",
       "      <td>1</td>\n",
       "      <td>1</td>\n",
       "      <td>1</td>\n",
       "      <td>1</td>\n",
       "      <td>1</td>\n",
       "      <td>-4024.803754</td>\n",
       "      <td>36</td>\n",
       "      <td>secondary education</td>\n",
       "      <td>1</td>\n",
       "      <td>married</td>\n",
       "      <td>0</td>\n",
       "      <td>F</td>\n",
       "      <td>employee</td>\n",
       "      <td>0</td>\n",
       "      <td>17932.802</td>\n",
       "      <td>car purchase</td>\n",
       "    </tr>\n",
       "    <tr>\n",
       "      <th>2</th>\n",
       "      <td>2</td>\n",
       "      <td>2</td>\n",
       "      <td>2</td>\n",
       "      <td>2</td>\n",
       "      <td>2</td>\n",
       "      <td>0</td>\n",
       "      <td>-5623.422610</td>\n",
       "      <td>33</td>\n",
       "      <td>Secondary Education</td>\n",
       "      <td>1</td>\n",
       "      <td>married</td>\n",
       "      <td>0</td>\n",
       "      <td>M</td>\n",
       "      <td>employee</td>\n",
       "      <td>0</td>\n",
       "      <td>23341.752</td>\n",
       "      <td>purchase of the house</td>\n",
       "    </tr>\n",
       "    <tr>\n",
       "      <th>3</th>\n",
       "      <td>3</td>\n",
       "      <td>3</td>\n",
       "      <td>3</td>\n",
       "      <td>3</td>\n",
       "      <td>3</td>\n",
       "      <td>3</td>\n",
       "      <td>-4124.747207</td>\n",
       "      <td>32</td>\n",
       "      <td>secondary education</td>\n",
       "      <td>1</td>\n",
       "      <td>married</td>\n",
       "      <td>0</td>\n",
       "      <td>M</td>\n",
       "      <td>employee</td>\n",
       "      <td>0</td>\n",
       "      <td>42820.568</td>\n",
       "      <td>supplementary education</td>\n",
       "    </tr>\n",
       "    <tr>\n",
       "      <th>4</th>\n",
       "      <td>4</td>\n",
       "      <td>4</td>\n",
       "      <td>4</td>\n",
       "      <td>4</td>\n",
       "      <td>4</td>\n",
       "      <td>0</td>\n",
       "      <td>340266.072047</td>\n",
       "      <td>53</td>\n",
       "      <td>secondary education</td>\n",
       "      <td>1</td>\n",
       "      <td>civil partnership</td>\n",
       "      <td>1</td>\n",
       "      <td>F</td>\n",
       "      <td>retiree</td>\n",
       "      <td>0</td>\n",
       "      <td>25378.572</td>\n",
       "      <td>to have a wedding</td>\n",
       "    </tr>\n",
       "    <tr>\n",
       "      <th>5</th>\n",
       "      <td>5</td>\n",
       "      <td>5</td>\n",
       "      <td>5</td>\n",
       "      <td>5</td>\n",
       "      <td>5</td>\n",
       "      <td>0</td>\n",
       "      <td>-926.185831</td>\n",
       "      <td>27</td>\n",
       "      <td>bachelor's degree</td>\n",
       "      <td>0</td>\n",
       "      <td>civil partnership</td>\n",
       "      <td>1</td>\n",
       "      <td>M</td>\n",
       "      <td>business</td>\n",
       "      <td>0</td>\n",
       "      <td>40922.170</td>\n",
       "      <td>purchase of the house</td>\n",
       "    </tr>\n",
       "    <tr>\n",
       "      <th>6</th>\n",
       "      <td>6</td>\n",
       "      <td>6</td>\n",
       "      <td>6</td>\n",
       "      <td>6</td>\n",
       "      <td>6</td>\n",
       "      <td>0</td>\n",
       "      <td>-2879.202052</td>\n",
       "      <td>43</td>\n",
       "      <td>bachelor's degree</td>\n",
       "      <td>0</td>\n",
       "      <td>married</td>\n",
       "      <td>0</td>\n",
       "      <td>F</td>\n",
       "      <td>business</td>\n",
       "      <td>0</td>\n",
       "      <td>38484.156</td>\n",
       "      <td>housing transactions</td>\n",
       "    </tr>\n",
       "    <tr>\n",
       "      <th>7</th>\n",
       "      <td>7</td>\n",
       "      <td>7</td>\n",
       "      <td>7</td>\n",
       "      <td>7</td>\n",
       "      <td>7</td>\n",
       "      <td>0</td>\n",
       "      <td>-152.779569</td>\n",
       "      <td>50</td>\n",
       "      <td>SECONDARY EDUCATION</td>\n",
       "      <td>1</td>\n",
       "      <td>married</td>\n",
       "      <td>0</td>\n",
       "      <td>M</td>\n",
       "      <td>employee</td>\n",
       "      <td>0</td>\n",
       "      <td>21731.829</td>\n",
       "      <td>education</td>\n",
       "    </tr>\n",
       "    <tr>\n",
       "      <th>8</th>\n",
       "      <td>8</td>\n",
       "      <td>8</td>\n",
       "      <td>8</td>\n",
       "      <td>8</td>\n",
       "      <td>8</td>\n",
       "      <td>2</td>\n",
       "      <td>-6929.865299</td>\n",
       "      <td>35</td>\n",
       "      <td>BACHELOR'S DEGREE</td>\n",
       "      <td>0</td>\n",
       "      <td>civil partnership</td>\n",
       "      <td>1</td>\n",
       "      <td>F</td>\n",
       "      <td>employee</td>\n",
       "      <td>0</td>\n",
       "      <td>15337.093</td>\n",
       "      <td>having a wedding</td>\n",
       "    </tr>\n",
       "    <tr>\n",
       "      <th>9</th>\n",
       "      <td>9</td>\n",
       "      <td>9</td>\n",
       "      <td>9</td>\n",
       "      <td>9</td>\n",
       "      <td>9</td>\n",
       "      <td>0</td>\n",
       "      <td>-2188.756445</td>\n",
       "      <td>41</td>\n",
       "      <td>secondary education</td>\n",
       "      <td>1</td>\n",
       "      <td>married</td>\n",
       "      <td>0</td>\n",
       "      <td>M</td>\n",
       "      <td>employee</td>\n",
       "      <td>0</td>\n",
       "      <td>23108.150</td>\n",
       "      <td>purchase of the house for my family</td>\n",
       "    </tr>\n",
       "  </tbody>\n",
       "</table>\n",
       "</div>"
      ],
      "text/plain": [
       "   Unnamed: 0  Unnamed: 0.1  Unnamed: 0.1.1  Unnamed: 0.1.1.1  \\\n",
       "0           0             0               0                 0   \n",
       "1           1             1               1                 1   \n",
       "2           2             2               2                 2   \n",
       "3           3             3               3                 3   \n",
       "4           4             4               4                 4   \n",
       "5           5             5               5                 5   \n",
       "6           6             6               6                 6   \n",
       "7           7             7               7                 7   \n",
       "8           8             8               8                 8   \n",
       "9           9             9               9                 9   \n",
       "\n",
       "   Unnamed: 0.1.1.1.1  children  days_employed  dob_years  \\\n",
       "0                   0         1   -8437.673028         42   \n",
       "1                   1         1   -4024.803754         36   \n",
       "2                   2         0   -5623.422610         33   \n",
       "3                   3         3   -4124.747207         32   \n",
       "4                   4         0  340266.072047         53   \n",
       "5                   5         0    -926.185831         27   \n",
       "6                   6         0   -2879.202052         43   \n",
       "7                   7         0    -152.779569         50   \n",
       "8                   8         2   -6929.865299         35   \n",
       "9                   9         0   -2188.756445         41   \n",
       "\n",
       "             education  education_id      family_status  family_status_id  \\\n",
       "0    bachelor's degree             0            married                 0   \n",
       "1  secondary education             1            married                 0   \n",
       "2  Secondary Education             1            married                 0   \n",
       "3  secondary education             1            married                 0   \n",
       "4  secondary education             1  civil partnership                 1   \n",
       "5    bachelor's degree             0  civil partnership                 1   \n",
       "6    bachelor's degree             0            married                 0   \n",
       "7  SECONDARY EDUCATION             1            married                 0   \n",
       "8    BACHELOR'S DEGREE             0  civil partnership                 1   \n",
       "9  secondary education             1            married                 0   \n",
       "\n",
       "  gender income_type  debt  total_income                              purpose  \n",
       "0      F    employee     0     40620.102                purchase of the house  \n",
       "1      F    employee     0     17932.802                         car purchase  \n",
       "2      M    employee     0     23341.752                purchase of the house  \n",
       "3      M    employee     0     42820.568              supplementary education  \n",
       "4      F     retiree     0     25378.572                    to have a wedding  \n",
       "5      M    business     0     40922.170                purchase of the house  \n",
       "6      F    business     0     38484.156                 housing transactions  \n",
       "7      M    employee     0     21731.829                            education  \n",
       "8      F    employee     0     15337.093                     having a wedding  \n",
       "9      M    employee     0     23108.150  purchase of the house for my family  "
      ]
     },
     "execution_count": 222,
     "metadata": {},
     "output_type": "execute_result"
    }
   ],
   "source": [
    "# Checking the distribution in the whole dataset\n",
    "\n",
    "credit_score.head(10)"
   ]
  },
  {
   "cell_type": "markdown",
   "metadata": {},
   "source": [
    "**Intermediate conclusion**   \n",
    "\n",
    "**Distribution in the original dataset is similar to the distribution of the filtered table.**"
   ]
  },
  {
   "cell_type": "markdown",
   "metadata": {},
   "source": [
    "<b>  \n",
    "    Handling missing values :   \n",
    "    Replacing NaN with 0 in missing values of 'days_employed'column initially and later with median/mean based on analysis.\n",
    "Negative values should be replaced with proper positive values after analysis as number of days cannot be negative.\n",
    "</b>"
   ]
  },
  {
   "cell_type": "markdown",
   "metadata": {},
   "source": [
    "[Back to Contents](#back)"
   ]
  },
  {
   "cell_type": "markdown",
   "metadata": {},
   "source": [
    "<a id='transform'></a>"
   ]
  },
  {
   "cell_type": "markdown",
   "metadata": {},
   "source": [
    "## Data transformation\n",
    "\n"
   ]
  },
  {
   "cell_type": "code",
   "execution_count": 223,
   "metadata": {},
   "outputs": [
    {
     "data": {
      "text/plain": [
       "secondary education    15233\n",
       "bachelor's degree       5260\n",
       "some college             744\n",
       "primary education        282\n",
       "graduate degree            6\n",
       "Name: education, dtype: int64"
      ]
     },
     "execution_count": 223,
     "metadata": {},
     "output_type": "execute_result"
    }
   ],
   "source": [
    "# Let's see all values in education column to check if and what spellings will need to be fixed\n",
    "try:\n",
    "    credit_score['education']=credit_score['education'].str.lower()\n",
    "except:\n",
    "    print('Invalid data')\n",
    "credit_score['education'].value_counts()\n",
    "# ' in bachelor's degree is removed to avoid issues with text analysis."
   ]
  },
  {
   "cell_type": "code",
   "execution_count": 224,
   "metadata": {
    "scrolled": true
   },
   "outputs": [],
   "source": [
    "# Fix the registers if required\n",
    "credit_score['education']=credit_score['education'].replace('bachelor\\'s degree','bachelors degree')"
   ]
  },
  {
   "cell_type": "code",
   "execution_count": 225,
   "metadata": {},
   "outputs": [
    {
     "data": {
      "text/plain": [
       "secondary education    15233\n",
       "bachelors degree        5260\n",
       "some college             744\n",
       "primary education        282\n",
       "graduate degree            6\n",
       "Name: education, dtype: int64"
      ]
     },
     "execution_count": 225,
     "metadata": {},
     "output_type": "execute_result"
    }
   ],
   "source": [
    "# Checking all the values in the column to make sure we fixed them\n",
    "\n",
    "credit_score['education'].value_counts()\n"
   ]
  },
  {
   "cell_type": "code",
   "execution_count": 226,
   "metadata": {},
   "outputs": [
    {
     "data": {
      "text/plain": [
       " 0     14149\n",
       " 1      4818\n",
       " 2      2055\n",
       " 3       330\n",
       " 20       76\n",
       "-1        47\n",
       " 4        41\n",
       " 5         9\n",
       "Name: children, dtype: int64"
      ]
     },
     "execution_count": 226,
     "metadata": {},
     "output_type": "execute_result"
    }
   ],
   "source": [
    "# Let's see the distribution of values in the `children` column\n",
    "credit_score['children'].value_counts()\n",
    "#all unwanted comments removed"
   ]
  },
  {
   "cell_type": "markdown",
   "metadata": {},
   "source": [
    "Negative values which constitutes 0.21% of the whole dataset is replaced with mean of 'children' which is 0.\n",
    "Should be some data entry errors.. "
   ]
  },
  {
   "cell_type": "code",
   "execution_count": 227,
   "metadata": {},
   "outputs": [],
   "source": [
    "# fix the data based on your decision\n",
    "#clients with negative children and 20 children are replaced with 1 and 2 respectively\n",
    "\n",
    "credit_score['children']=credit_score['children'].replace(to_replace=-1,value=1)\n",
    "credit_score[credit_score['children']==20]['debt'].sum() # 8 clients ith 20 children has debt\n",
    "credit_score['children']=credit_score['children'].replace(to_replace=20,value=2)"
   ]
  },
  {
   "cell_type": "code",
   "execution_count": 228,
   "metadata": {},
   "outputs": [
    {
     "data": {
      "text/plain": [
       "0    14149\n",
       "1     4865\n",
       "2     2131\n",
       "3      330\n",
       "4       41\n",
       "5        9\n",
       "Name: children, dtype: int64"
      ]
     },
     "execution_count": 228,
     "metadata": {},
     "output_type": "execute_result"
    }
   ],
   "source": [
    "# Checking the `children` column again to make sure it's all fixed\n",
    "credit_score['children'].value_counts()\n"
   ]
  },
  {
   "cell_type": "code",
   "execution_count": 229,
   "metadata": {},
   "outputs": [
    {
     "name": "stdout",
     "output_type": "stream",
     "text": [
      "The percentage of missing values in the days_employed column: 73.90%\n"
     ]
    }
   ],
   "source": [
    "# Find problematic data in `days_employed`, if they exist, and calculate the percentage\n",
    "#credit_score['days_employed']\n",
    "\n",
    "print('The percentage of missing values in the days_employed column: {:.2%}'.format(len(credit_score[credit_score['days_employed']<0])/len(credit_score)))"
   ]
  },
  {
   "cell_type": "markdown",
   "metadata": {},
   "source": [
    "'days_employed' column has negative values constituting 74% of whole dataset.\n",
    "Since ,the percentage is high , we have to fix this.\n",
    "Since no other visible factors ,we consider it as technical issue and replace with the\n",
    "absolute value as days cannot be negative.\n",
    "Also since days cannot be float , we change the column type to int."
   ]
  },
  {
   "cell_type": "code",
   "execution_count": 230,
   "metadata": {},
   "outputs": [
    {
     "name": "stdout",
     "output_type": "stream",
     "text": [
      "<class 'pandas.core.series.Series'>\n"
     ]
    }
   ],
   "source": [
    "# Address the problematic values, if they exist\n",
    "#converting negative values to positive and converting float to string\n",
    "credit_score['days_employed']=credit_score['days_employed'].abs()\n",
    "print(type(credit_score['days_employed']))\n"
   ]
  },
  {
   "cell_type": "code",
   "execution_count": 231,
   "metadata": {},
   "outputs": [
    {
     "data": {
      "text/plain": [
       "0          8437\n",
       "1          4024\n",
       "2          5623\n",
       "3          4124\n",
       "4        340266\n",
       "          ...  \n",
       "21520      4529\n",
       "21521    343937\n",
       "21522      2113\n",
       "21523      3112\n",
       "21524      1984\n",
       "Name: days_employed, Length: 21525, dtype: int32"
      ]
     },
     "execution_count": 231,
     "metadata": {},
     "output_type": "execute_result"
    }
   ],
   "source": [
    "# Check the result - make sure it's fixed\n",
    "\n",
    "credit_score['days_employed'].fillna(credit_score.groupby(['education_id', 'income_type'])['days_employed'].transform('median')).astype(int)"
   ]
  },
  {
   "cell_type": "code",
   "execution_count": 232,
   "metadata": {},
   "outputs": [
    {
     "data": {
      "text/html": [
       "<div>\n",
       "<style scoped>\n",
       "    .dataframe tbody tr th:only-of-type {\n",
       "        vertical-align: middle;\n",
       "    }\n",
       "\n",
       "    .dataframe tbody tr th {\n",
       "        vertical-align: top;\n",
       "    }\n",
       "\n",
       "    .dataframe thead th {\n",
       "        text-align: right;\n",
       "    }\n",
       "</style>\n",
       "<table border=\"1\" class=\"dataframe\">\n",
       "  <thead>\n",
       "    <tr style=\"text-align: right;\">\n",
       "      <th></th>\n",
       "      <th>Unnamed: 0</th>\n",
       "      <th>Unnamed: 0.1</th>\n",
       "      <th>Unnamed: 0.1.1</th>\n",
       "      <th>Unnamed: 0.1.1.1</th>\n",
       "      <th>Unnamed: 0.1.1.1.1</th>\n",
       "      <th>children</th>\n",
       "      <th>days_employed</th>\n",
       "      <th>dob_years</th>\n",
       "      <th>education</th>\n",
       "      <th>education_id</th>\n",
       "      <th>family_status</th>\n",
       "      <th>family_status_id</th>\n",
       "      <th>gender</th>\n",
       "      <th>income_type</th>\n",
       "      <th>debt</th>\n",
       "      <th>total_income</th>\n",
       "      <th>purpose</th>\n",
       "    </tr>\n",
       "  </thead>\n",
       "  <tbody>\n",
       "    <tr>\n",
       "      <th>0</th>\n",
       "      <td>0</td>\n",
       "      <td>0</td>\n",
       "      <td>0</td>\n",
       "      <td>0</td>\n",
       "      <td>0</td>\n",
       "      <td>1</td>\n",
       "      <td>8437.673028</td>\n",
       "      <td>42</td>\n",
       "      <td>bachelors degree</td>\n",
       "      <td>0</td>\n",
       "      <td>married</td>\n",
       "      <td>0</td>\n",
       "      <td>F</td>\n",
       "      <td>employee</td>\n",
       "      <td>0</td>\n",
       "      <td>40620.102</td>\n",
       "      <td>purchase of the house</td>\n",
       "    </tr>\n",
       "    <tr>\n",
       "      <th>1</th>\n",
       "      <td>1</td>\n",
       "      <td>1</td>\n",
       "      <td>1</td>\n",
       "      <td>1</td>\n",
       "      <td>1</td>\n",
       "      <td>1</td>\n",
       "      <td>4024.803754</td>\n",
       "      <td>36</td>\n",
       "      <td>secondary education</td>\n",
       "      <td>1</td>\n",
       "      <td>married</td>\n",
       "      <td>0</td>\n",
       "      <td>F</td>\n",
       "      <td>employee</td>\n",
       "      <td>0</td>\n",
       "      <td>17932.802</td>\n",
       "      <td>car purchase</td>\n",
       "    </tr>\n",
       "    <tr>\n",
       "      <th>2</th>\n",
       "      <td>2</td>\n",
       "      <td>2</td>\n",
       "      <td>2</td>\n",
       "      <td>2</td>\n",
       "      <td>2</td>\n",
       "      <td>0</td>\n",
       "      <td>5623.422610</td>\n",
       "      <td>33</td>\n",
       "      <td>secondary education</td>\n",
       "      <td>1</td>\n",
       "      <td>married</td>\n",
       "      <td>0</td>\n",
       "      <td>M</td>\n",
       "      <td>employee</td>\n",
       "      <td>0</td>\n",
       "      <td>23341.752</td>\n",
       "      <td>purchase of the house</td>\n",
       "    </tr>\n",
       "    <tr>\n",
       "      <th>3</th>\n",
       "      <td>3</td>\n",
       "      <td>3</td>\n",
       "      <td>3</td>\n",
       "      <td>3</td>\n",
       "      <td>3</td>\n",
       "      <td>3</td>\n",
       "      <td>4124.747207</td>\n",
       "      <td>32</td>\n",
       "      <td>secondary education</td>\n",
       "      <td>1</td>\n",
       "      <td>married</td>\n",
       "      <td>0</td>\n",
       "      <td>M</td>\n",
       "      <td>employee</td>\n",
       "      <td>0</td>\n",
       "      <td>42820.568</td>\n",
       "      <td>supplementary education</td>\n",
       "    </tr>\n",
       "    <tr>\n",
       "      <th>4</th>\n",
       "      <td>4</td>\n",
       "      <td>4</td>\n",
       "      <td>4</td>\n",
       "      <td>4</td>\n",
       "      <td>4</td>\n",
       "      <td>0</td>\n",
       "      <td>340266.072047</td>\n",
       "      <td>53</td>\n",
       "      <td>secondary education</td>\n",
       "      <td>1</td>\n",
       "      <td>civil partnership</td>\n",
       "      <td>1</td>\n",
       "      <td>F</td>\n",
       "      <td>retiree</td>\n",
       "      <td>0</td>\n",
       "      <td>25378.572</td>\n",
       "      <td>to have a wedding</td>\n",
       "    </tr>\n",
       "  </tbody>\n",
       "</table>\n",
       "</div>"
      ],
      "text/plain": [
       "   Unnamed: 0  Unnamed: 0.1  Unnamed: 0.1.1  Unnamed: 0.1.1.1  \\\n",
       "0           0             0               0                 0   \n",
       "1           1             1               1                 1   \n",
       "2           2             2               2                 2   \n",
       "3           3             3               3                 3   \n",
       "4           4             4               4                 4   \n",
       "\n",
       "   Unnamed: 0.1.1.1.1  children  days_employed  dob_years  \\\n",
       "0                   0         1    8437.673028         42   \n",
       "1                   1         1    4024.803754         36   \n",
       "2                   2         0    5623.422610         33   \n",
       "3                   3         3    4124.747207         32   \n",
       "4                   4         0  340266.072047         53   \n",
       "\n",
       "             education  education_id      family_status  family_status_id  \\\n",
       "0     bachelors degree             0            married                 0   \n",
       "1  secondary education             1            married                 0   \n",
       "2  secondary education             1            married                 0   \n",
       "3  secondary education             1            married                 0   \n",
       "4  secondary education             1  civil partnership                 1   \n",
       "\n",
       "  gender income_type  debt  total_income                  purpose  \n",
       "0      F    employee     0     40620.102    purchase of the house  \n",
       "1      F    employee     0     17932.802             car purchase  \n",
       "2      M    employee     0     23341.752    purchase of the house  \n",
       "3      M    employee     0     42820.568  supplementary education  \n",
       "4      F     retiree     0     25378.572        to have a wedding  "
      ]
     },
     "execution_count": 232,
     "metadata": {},
     "output_type": "execute_result"
    }
   ],
   "source": [
    "credit_score.head()"
   ]
  },
  {
   "cell_type": "code",
   "execution_count": 233,
   "metadata": {
    "scrolled": true
   },
   "outputs": [
    {
     "data": {
      "text/plain": [
       "35    617\n",
       "40    609\n",
       "41    607\n",
       "34    603\n",
       "38    598\n",
       "Name: dob_years, dtype: int64"
      ]
     },
     "execution_count": 233,
     "metadata": {},
     "output_type": "execute_result"
    }
   ],
   "source": [
    "# Check the `dob_years` for suspicious values and count the percentage\n",
    "\n",
    "credit_score['dob_years'].value_counts().head()"
   ]
  },
  {
   "cell_type": "markdown",
   "metadata": {},
   "source": [
    "\n",
    "There are 101 records with age 0 which is not valid.\n",
    "Since we don't have a high outlier in the data , will replace 0 with mean of 'dob_years'\n"
   ]
  },
  {
   "cell_type": "code",
   "execution_count": 234,
   "metadata": {},
   "outputs": [
    {
     "data": {
      "text/plain": [
       "43"
      ]
     },
     "execution_count": 234,
     "metadata": {},
     "output_type": "execute_result"
    }
   ],
   "source": [
    "# Address the issues in the `dob_years` column, if they exist\n",
    "\n",
    "#replacing rows with 'dob_years' value 0 to 43 which is the mean.\n",
    "dob_years_mean=int(credit_score['dob_years'].mean())\n",
    "credit_score['dob_years']=credit_score['dob_years'].replace(to_replace=0,value=dob_years_mean)\n",
    "dob_years_mean"
   ]
  },
  {
   "cell_type": "code",
   "execution_count": 235,
   "metadata": {},
   "outputs": [
    {
     "data": {
      "text/plain": [
       "0"
      ]
     },
     "execution_count": 235,
     "metadata": {},
     "output_type": "execute_result"
    }
   ],
   "source": [
    "# Check the result - make sure it's fixed\n",
    "#credit_score['dob_years'].value_counts()\n",
    "len(credit_score[credit_score['dob_years']==0])"
   ]
  },
  {
   "cell_type": "code",
   "execution_count": 236,
   "metadata": {},
   "outputs": [
    {
     "data": {
      "text/plain": [
       "married              12380\n",
       "civil partnership     4177\n",
       "unmarried             2813\n",
       "divorced              1195\n",
       "widow / widower        960\n",
       "Name: family_status, dtype: int64"
      ]
     },
     "execution_count": 236,
     "metadata": {},
     "output_type": "execute_result"
    }
   ],
   "source": [
    "# Let's see the values for the column 'family_status'\n",
    "credit_score['family_status'].value_counts()\n"
   ]
  },
  {
   "cell_type": "code",
   "execution_count": 237,
   "metadata": {},
   "outputs": [],
   "source": [
    "# Address the problematic values in `family_status`, if they exist\n",
    "#one of the values has space and so we replace the same without space\n",
    "\n",
    "credit_score['family_status']=credit_score['family_status'].replace('widow / widower','widow/widower')"
   ]
  },
  {
   "cell_type": "code",
   "execution_count": 238,
   "metadata": {},
   "outputs": [
    {
     "data": {
      "text/plain": [
       "married              12380\n",
       "civil partnership     4177\n",
       "unmarried             2813\n",
       "divorced              1195\n",
       "widow/widower          960\n",
       "Name: family_status, dtype: int64"
      ]
     },
     "execution_count": 238,
     "metadata": {},
     "output_type": "execute_result"
    }
   ],
   "source": [
    "# Check the result - make sure it's fixed\n",
    "credit_score['family_status'].value_counts()"
   ]
  },
  {
   "cell_type": "markdown",
   "metadata": {},
   "source": [
    "\n",
    "Analysing gender column , we don't see any problems with the values."
   ]
  },
  {
   "cell_type": "code",
   "execution_count": 239,
   "metadata": {},
   "outputs": [
    {
     "data": {
      "text/plain": [
       "F      14236\n",
       "M       7288\n",
       "XNA        1\n",
       "Name: gender, dtype: int64"
      ]
     },
     "execution_count": 239,
     "metadata": {},
     "output_type": "execute_result"
    }
   ],
   "source": [
    "# Let's see the values in the 'gender'column\n",
    "credit_score['gender'].value_counts()"
   ]
  },
  {
   "cell_type": "code",
   "execution_count": 240,
   "metadata": {},
   "outputs": [],
   "source": [
    "# Address the problematic values, if they exist\n",
    "#No major issues to fix with 'gender' column\n"
   ]
  },
  {
   "cell_type": "code",
   "execution_count": 241,
   "metadata": {},
   "outputs": [
    {
     "data": {
      "text/plain": [
       "employee                       11119\n",
       "business                        5085\n",
       "retiree                         3856\n",
       "civil servant                   1459\n",
       "unemployed                         2\n",
       "entrepreneur                       2\n",
       "student                            1\n",
       "paternity / maternity leave        1\n",
       "Name: income_type, dtype: int64"
      ]
     },
     "execution_count": 241,
     "metadata": {},
     "output_type": "execute_result"
    }
   ],
   "source": [
    "# Let's see the values in the column 'income_type'\n",
    "credit_score['income_type'].value_counts()"
   ]
  },
  {
   "cell_type": "code",
   "execution_count": 242,
   "metadata": {},
   "outputs": [],
   "source": [
    "# Address the problematic values, if they exist\n",
    "#removing space from the values to help text processing\n",
    "credit_score['income_type']=credit_score['income_type'].replace('paternity / maternity leave','paternity/maternity leave')"
   ]
  },
  {
   "cell_type": "code",
   "execution_count": 243,
   "metadata": {},
   "outputs": [
    {
     "data": {
      "text/plain": [
       "employee                     11119\n",
       "business                      5085\n",
       "retiree                       3856\n",
       "civil servant                 1459\n",
       "unemployed                       2\n",
       "entrepreneur                     2\n",
       "student                          1\n",
       "paternity/maternity leave        1\n",
       "Name: income_type, dtype: int64"
      ]
     },
     "execution_count": 243,
     "metadata": {},
     "output_type": "execute_result"
    }
   ],
   "source": [
    "# Check the result - make sure it's fixed\n",
    "credit_score['income_type'].value_counts()"
   ]
  },
  {
   "cell_type": "markdown",
   "metadata": {},
   "source": [
    "[Back to Contents](#back)"
   ]
  },
  {
   "cell_type": "markdown",
   "metadata": {},
   "source": [
    "<a id='duplicate'></a>"
   ]
  },
  {
   "cell_type": "markdown",
   "metadata": {},
   "source": [
    "# Checking duplicates\n",
    "\n"
   ]
  },
  {
   "cell_type": "code",
   "execution_count": 244,
   "metadata": {},
   "outputs": [
    {
     "data": {
      "text/plain": [
       "0"
      ]
     },
     "execution_count": 244,
     "metadata": {},
     "output_type": "execute_result"
    }
   ],
   "source": [
    "credit_score.duplicated().sum()"
   ]
  },
  {
   "cell_type": "code",
   "execution_count": 245,
   "metadata": {},
   "outputs": [
    {
     "data": {
      "text/plain": [
       "0.32984901277584205"
      ]
     },
     "execution_count": 245,
     "metadata": {},
     "output_type": "execute_result"
    }
   ],
   "source": [
    "# Address the duplicates, if they exist\n",
    "credit_score_duplicate=credit_score[credit_score.duplicated()]\n",
    "#credit_score_duplicate['total_income'].value_counts()\n",
    "#credit_score_duplicate[['days_employed','total_income']]#duplicated rows have missing values for 'data_employed' and 'total_income'\n",
    "duplicate_ratio = (71/21525) *100\n",
    "duplicate_ratio"
   ]
  },
  {
   "cell_type": "code",
   "execution_count": 246,
   "metadata": {},
   "outputs": [],
   "source": [
    "# Last check whether we have any duplicates\n",
    "#Since percent of duplicates is very less and also has missing values ,we go with dropping duplicates as safer alternative.\n",
    "credit_score=credit_score.drop_duplicates().reset_index(drop=True)"
   ]
  },
  {
   "cell_type": "code",
   "execution_count": 247,
   "metadata": {},
   "outputs": [
    {
     "data": {
      "text/plain": [
       "21454"
      ]
     },
     "execution_count": 247,
     "metadata": {},
     "output_type": "execute_result"
    }
   ],
   "source": [
    "# Check the size of the dataset that you now have after your first manipulations with it\n",
    "updated_row_count = 21525 - 71 #(number of rows in original dataset - number of duplicated rows)\n",
    "updated_row_count"
   ]
  },
  {
   "cell_type": "markdown",
   "metadata": {},
   "source": [
    "<b>The new dataset is free from duplicates .\n",
    "Duplicated rows which was 0.3% of the original dataset were dropped as the values of 'total_income' was missing.\n",
    "So it as safe to drop all these duplicated rows.</b>"
   ]
  },
  {
   "cell_type": "markdown",
   "metadata": {},
   "source": [
    "[Back to Contents](#back)"
   ]
  },
  {
   "cell_type": "markdown",
   "metadata": {},
   "source": [
    "<a id='missing'></a>"
   ]
  },
  {
   "cell_type": "markdown",
   "metadata": {},
   "source": [
    "# Working with missing values"
   ]
  },
  {
   "cell_type": "markdown",
   "metadata": {},
   "source": [
    "### Restoring missing values in `total_income`"
   ]
  },
  {
   "cell_type": "code",
   "execution_count": 248,
   "metadata": {},
   "outputs": [],
   "source": [
    "# Let's write a function that calculates the age category\n",
    "def age_category(age):\n",
    "    client_age=age\n",
    "    if((client_age > 19) & (client_age < 30)):\n",
    "        return '20-29'\n",
    "    elif((client_age > 29) & (client_age < 40 )):\n",
    "        return '30-39'\n",
    "    elif((client_age <50) & (client_age>39)):\n",
    "        return '40-49'\n",
    "    elif((client_age <60) & (client_age>49)):\n",
    "        return '50-59'\n",
    "    elif((client_age <70) & (client_age>59)):\n",
    "        return '60-69'\n",
    "    else:\n",
    "        return '70+'"
   ]
  },
  {
   "cell_type": "code",
   "execution_count": 249,
   "metadata": {},
   "outputs": [
    {
     "data": {
      "text/plain": [
       "'70+'"
      ]
     },
     "execution_count": 249,
     "metadata": {},
     "output_type": "execute_result"
    }
   ],
   "source": [
    "# Test if the function works\n",
    "age_category(86)"
   ]
  },
  {
   "cell_type": "code",
   "execution_count": 250,
   "metadata": {},
   "outputs": [],
   "source": [
    "# Creating new column based on function\n",
    "credit_score['age_category']=credit_score['dob_years'].apply(age_category)"
   ]
  },
  {
   "cell_type": "code",
   "execution_count": 251,
   "metadata": {
    "scrolled": true
   },
   "outputs": [
    {
     "data": {
      "text/html": [
       "<div>\n",
       "<style scoped>\n",
       "    .dataframe tbody tr th:only-of-type {\n",
       "        vertical-align: middle;\n",
       "    }\n",
       "\n",
       "    .dataframe tbody tr th {\n",
       "        vertical-align: top;\n",
       "    }\n",
       "\n",
       "    .dataframe thead th {\n",
       "        text-align: right;\n",
       "    }\n",
       "</style>\n",
       "<table border=\"1\" class=\"dataframe\">\n",
       "  <thead>\n",
       "    <tr style=\"text-align: right;\">\n",
       "      <th></th>\n",
       "      <th>Unnamed: 0</th>\n",
       "      <th>Unnamed: 0.1</th>\n",
       "      <th>Unnamed: 0.1.1</th>\n",
       "      <th>Unnamed: 0.1.1.1</th>\n",
       "      <th>Unnamed: 0.1.1.1.1</th>\n",
       "      <th>children</th>\n",
       "      <th>days_employed</th>\n",
       "      <th>dob_years</th>\n",
       "      <th>education</th>\n",
       "      <th>education_id</th>\n",
       "      <th>family_status</th>\n",
       "      <th>family_status_id</th>\n",
       "      <th>gender</th>\n",
       "      <th>income_type</th>\n",
       "      <th>debt</th>\n",
       "      <th>total_income</th>\n",
       "      <th>purpose</th>\n",
       "      <th>age_category</th>\n",
       "    </tr>\n",
       "  </thead>\n",
       "  <tbody>\n",
       "    <tr>\n",
       "      <th>0</th>\n",
       "      <td>0</td>\n",
       "      <td>0</td>\n",
       "      <td>0</td>\n",
       "      <td>0</td>\n",
       "      <td>0</td>\n",
       "      <td>1</td>\n",
       "      <td>8437.673028</td>\n",
       "      <td>42</td>\n",
       "      <td>bachelors degree</td>\n",
       "      <td>0</td>\n",
       "      <td>married</td>\n",
       "      <td>0</td>\n",
       "      <td>F</td>\n",
       "      <td>employee</td>\n",
       "      <td>0</td>\n",
       "      <td>40620.102</td>\n",
       "      <td>purchase of the house</td>\n",
       "      <td>40-49</td>\n",
       "    </tr>\n",
       "    <tr>\n",
       "      <th>1</th>\n",
       "      <td>1</td>\n",
       "      <td>1</td>\n",
       "      <td>1</td>\n",
       "      <td>1</td>\n",
       "      <td>1</td>\n",
       "      <td>1</td>\n",
       "      <td>4024.803754</td>\n",
       "      <td>36</td>\n",
       "      <td>secondary education</td>\n",
       "      <td>1</td>\n",
       "      <td>married</td>\n",
       "      <td>0</td>\n",
       "      <td>F</td>\n",
       "      <td>employee</td>\n",
       "      <td>0</td>\n",
       "      <td>17932.802</td>\n",
       "      <td>car purchase</td>\n",
       "      <td>30-39</td>\n",
       "    </tr>\n",
       "    <tr>\n",
       "      <th>2</th>\n",
       "      <td>2</td>\n",
       "      <td>2</td>\n",
       "      <td>2</td>\n",
       "      <td>2</td>\n",
       "      <td>2</td>\n",
       "      <td>0</td>\n",
       "      <td>5623.422610</td>\n",
       "      <td>33</td>\n",
       "      <td>secondary education</td>\n",
       "      <td>1</td>\n",
       "      <td>married</td>\n",
       "      <td>0</td>\n",
       "      <td>M</td>\n",
       "      <td>employee</td>\n",
       "      <td>0</td>\n",
       "      <td>23341.752</td>\n",
       "      <td>purchase of the house</td>\n",
       "      <td>30-39</td>\n",
       "    </tr>\n",
       "    <tr>\n",
       "      <th>3</th>\n",
       "      <td>3</td>\n",
       "      <td>3</td>\n",
       "      <td>3</td>\n",
       "      <td>3</td>\n",
       "      <td>3</td>\n",
       "      <td>3</td>\n",
       "      <td>4124.747207</td>\n",
       "      <td>32</td>\n",
       "      <td>secondary education</td>\n",
       "      <td>1</td>\n",
       "      <td>married</td>\n",
       "      <td>0</td>\n",
       "      <td>M</td>\n",
       "      <td>employee</td>\n",
       "      <td>0</td>\n",
       "      <td>42820.568</td>\n",
       "      <td>supplementary education</td>\n",
       "      <td>30-39</td>\n",
       "    </tr>\n",
       "    <tr>\n",
       "      <th>4</th>\n",
       "      <td>4</td>\n",
       "      <td>4</td>\n",
       "      <td>4</td>\n",
       "      <td>4</td>\n",
       "      <td>4</td>\n",
       "      <td>0</td>\n",
       "      <td>340266.072047</td>\n",
       "      <td>53</td>\n",
       "      <td>secondary education</td>\n",
       "      <td>1</td>\n",
       "      <td>civil partnership</td>\n",
       "      <td>1</td>\n",
       "      <td>F</td>\n",
       "      <td>retiree</td>\n",
       "      <td>0</td>\n",
       "      <td>25378.572</td>\n",
       "      <td>to have a wedding</td>\n",
       "      <td>50-59</td>\n",
       "    </tr>\n",
       "    <tr>\n",
       "      <th>5</th>\n",
       "      <td>5</td>\n",
       "      <td>5</td>\n",
       "      <td>5</td>\n",
       "      <td>5</td>\n",
       "      <td>5</td>\n",
       "      <td>0</td>\n",
       "      <td>926.185831</td>\n",
       "      <td>27</td>\n",
       "      <td>bachelors degree</td>\n",
       "      <td>0</td>\n",
       "      <td>civil partnership</td>\n",
       "      <td>1</td>\n",
       "      <td>M</td>\n",
       "      <td>business</td>\n",
       "      <td>0</td>\n",
       "      <td>40922.170</td>\n",
       "      <td>purchase of the house</td>\n",
       "      <td>20-29</td>\n",
       "    </tr>\n",
       "    <tr>\n",
       "      <th>6</th>\n",
       "      <td>6</td>\n",
       "      <td>6</td>\n",
       "      <td>6</td>\n",
       "      <td>6</td>\n",
       "      <td>6</td>\n",
       "      <td>0</td>\n",
       "      <td>2879.202052</td>\n",
       "      <td>43</td>\n",
       "      <td>bachelors degree</td>\n",
       "      <td>0</td>\n",
       "      <td>married</td>\n",
       "      <td>0</td>\n",
       "      <td>F</td>\n",
       "      <td>business</td>\n",
       "      <td>0</td>\n",
       "      <td>38484.156</td>\n",
       "      <td>housing transactions</td>\n",
       "      <td>40-49</td>\n",
       "    </tr>\n",
       "    <tr>\n",
       "      <th>7</th>\n",
       "      <td>7</td>\n",
       "      <td>7</td>\n",
       "      <td>7</td>\n",
       "      <td>7</td>\n",
       "      <td>7</td>\n",
       "      <td>0</td>\n",
       "      <td>152.779569</td>\n",
       "      <td>50</td>\n",
       "      <td>secondary education</td>\n",
       "      <td>1</td>\n",
       "      <td>married</td>\n",
       "      <td>0</td>\n",
       "      <td>M</td>\n",
       "      <td>employee</td>\n",
       "      <td>0</td>\n",
       "      <td>21731.829</td>\n",
       "      <td>education</td>\n",
       "      <td>50-59</td>\n",
       "    </tr>\n",
       "    <tr>\n",
       "      <th>8</th>\n",
       "      <td>8</td>\n",
       "      <td>8</td>\n",
       "      <td>8</td>\n",
       "      <td>8</td>\n",
       "      <td>8</td>\n",
       "      <td>2</td>\n",
       "      <td>6929.865299</td>\n",
       "      <td>35</td>\n",
       "      <td>bachelors degree</td>\n",
       "      <td>0</td>\n",
       "      <td>civil partnership</td>\n",
       "      <td>1</td>\n",
       "      <td>F</td>\n",
       "      <td>employee</td>\n",
       "      <td>0</td>\n",
       "      <td>15337.093</td>\n",
       "      <td>having a wedding</td>\n",
       "      <td>30-39</td>\n",
       "    </tr>\n",
       "    <tr>\n",
       "      <th>9</th>\n",
       "      <td>9</td>\n",
       "      <td>9</td>\n",
       "      <td>9</td>\n",
       "      <td>9</td>\n",
       "      <td>9</td>\n",
       "      <td>0</td>\n",
       "      <td>2188.756445</td>\n",
       "      <td>41</td>\n",
       "      <td>secondary education</td>\n",
       "      <td>1</td>\n",
       "      <td>married</td>\n",
       "      <td>0</td>\n",
       "      <td>M</td>\n",
       "      <td>employee</td>\n",
       "      <td>0</td>\n",
       "      <td>23108.150</td>\n",
       "      <td>purchase of the house for my family</td>\n",
       "      <td>40-49</td>\n",
       "    </tr>\n",
       "  </tbody>\n",
       "</table>\n",
       "</div>"
      ],
      "text/plain": [
       "   Unnamed: 0  Unnamed: 0.1  Unnamed: 0.1.1  Unnamed: 0.1.1.1  \\\n",
       "0           0             0               0                 0   \n",
       "1           1             1               1                 1   \n",
       "2           2             2               2                 2   \n",
       "3           3             3               3                 3   \n",
       "4           4             4               4                 4   \n",
       "5           5             5               5                 5   \n",
       "6           6             6               6                 6   \n",
       "7           7             7               7                 7   \n",
       "8           8             8               8                 8   \n",
       "9           9             9               9                 9   \n",
       "\n",
       "   Unnamed: 0.1.1.1.1  children  days_employed  dob_years  \\\n",
       "0                   0         1    8437.673028         42   \n",
       "1                   1         1    4024.803754         36   \n",
       "2                   2         0    5623.422610         33   \n",
       "3                   3         3    4124.747207         32   \n",
       "4                   4         0  340266.072047         53   \n",
       "5                   5         0     926.185831         27   \n",
       "6                   6         0    2879.202052         43   \n",
       "7                   7         0     152.779569         50   \n",
       "8                   8         2    6929.865299         35   \n",
       "9                   9         0    2188.756445         41   \n",
       "\n",
       "             education  education_id      family_status  family_status_id  \\\n",
       "0     bachelors degree             0            married                 0   \n",
       "1  secondary education             1            married                 0   \n",
       "2  secondary education             1            married                 0   \n",
       "3  secondary education             1            married                 0   \n",
       "4  secondary education             1  civil partnership                 1   \n",
       "5     bachelors degree             0  civil partnership                 1   \n",
       "6     bachelors degree             0            married                 0   \n",
       "7  secondary education             1            married                 0   \n",
       "8     bachelors degree             0  civil partnership                 1   \n",
       "9  secondary education             1            married                 0   \n",
       "\n",
       "  gender income_type  debt  total_income                              purpose  \\\n",
       "0      F    employee     0     40620.102                purchase of the house   \n",
       "1      F    employee     0     17932.802                         car purchase   \n",
       "2      M    employee     0     23341.752                purchase of the house   \n",
       "3      M    employee     0     42820.568              supplementary education   \n",
       "4      F     retiree     0     25378.572                    to have a wedding   \n",
       "5      M    business     0     40922.170                purchase of the house   \n",
       "6      F    business     0     38484.156                 housing transactions   \n",
       "7      M    employee     0     21731.829                            education   \n",
       "8      F    employee     0     15337.093                     having a wedding   \n",
       "9      M    employee     0     23108.150  purchase of the house for my family   \n",
       "\n",
       "  age_category  \n",
       "0        40-49  \n",
       "1        30-39  \n",
       "2        30-39  \n",
       "3        30-39  \n",
       "4        50-59  \n",
       "5        20-29  \n",
       "6        40-49  \n",
       "7        50-59  \n",
       "8        30-39  \n",
       "9        40-49  "
      ]
     },
     "execution_count": 251,
     "metadata": {},
     "output_type": "execute_result"
    }
   ],
   "source": [
    "# Checking how values in the new column\n",
    "credit_score.head(10)"
   ]
  },
  {
   "cell_type": "code",
   "execution_count": 252,
   "metadata": {},
   "outputs": [
    {
     "data": {
      "text/html": [
       "<div>\n",
       "<style scoped>\n",
       "    .dataframe tbody tr th:only-of-type {\n",
       "        vertical-align: middle;\n",
       "    }\n",
       "\n",
       "    .dataframe tbody tr th {\n",
       "        vertical-align: top;\n",
       "    }\n",
       "\n",
       "    .dataframe thead th {\n",
       "        text-align: right;\n",
       "    }\n",
       "</style>\n",
       "<table border=\"1\" class=\"dataframe\">\n",
       "  <thead>\n",
       "    <tr style=\"text-align: right;\">\n",
       "      <th></th>\n",
       "      <th>Unnamed: 0</th>\n",
       "      <th>Unnamed: 0.1</th>\n",
       "      <th>Unnamed: 0.1.1</th>\n",
       "      <th>Unnamed: 0.1.1.1</th>\n",
       "      <th>Unnamed: 0.1.1.1.1</th>\n",
       "      <th>children</th>\n",
       "      <th>days_employed</th>\n",
       "      <th>dob_years</th>\n",
       "      <th>education</th>\n",
       "      <th>education_id</th>\n",
       "      <th>family_status</th>\n",
       "      <th>family_status_id</th>\n",
       "      <th>gender</th>\n",
       "      <th>income_type</th>\n",
       "      <th>debt</th>\n",
       "      <th>total_income</th>\n",
       "      <th>purpose</th>\n",
       "      <th>age_category</th>\n",
       "    </tr>\n",
       "  </thead>\n",
       "  <tbody>\n",
       "    <tr>\n",
       "      <th>0</th>\n",
       "      <td>0</td>\n",
       "      <td>0</td>\n",
       "      <td>0</td>\n",
       "      <td>0</td>\n",
       "      <td>0</td>\n",
       "      <td>1</td>\n",
       "      <td>8437.673028</td>\n",
       "      <td>42</td>\n",
       "      <td>bachelors degree</td>\n",
       "      <td>0</td>\n",
       "      <td>married</td>\n",
       "      <td>0</td>\n",
       "      <td>F</td>\n",
       "      <td>employee</td>\n",
       "      <td>0</td>\n",
       "      <td>40620.102</td>\n",
       "      <td>purchase of the house</td>\n",
       "      <td>40-49</td>\n",
       "    </tr>\n",
       "    <tr>\n",
       "      <th>1</th>\n",
       "      <td>1</td>\n",
       "      <td>1</td>\n",
       "      <td>1</td>\n",
       "      <td>1</td>\n",
       "      <td>1</td>\n",
       "      <td>1</td>\n",
       "      <td>4024.803754</td>\n",
       "      <td>36</td>\n",
       "      <td>secondary education</td>\n",
       "      <td>1</td>\n",
       "      <td>married</td>\n",
       "      <td>0</td>\n",
       "      <td>F</td>\n",
       "      <td>employee</td>\n",
       "      <td>0</td>\n",
       "      <td>17932.802</td>\n",
       "      <td>car purchase</td>\n",
       "      <td>30-39</td>\n",
       "    </tr>\n",
       "    <tr>\n",
       "      <th>2</th>\n",
       "      <td>2</td>\n",
       "      <td>2</td>\n",
       "      <td>2</td>\n",
       "      <td>2</td>\n",
       "      <td>2</td>\n",
       "      <td>0</td>\n",
       "      <td>5623.422610</td>\n",
       "      <td>33</td>\n",
       "      <td>secondary education</td>\n",
       "      <td>1</td>\n",
       "      <td>married</td>\n",
       "      <td>0</td>\n",
       "      <td>M</td>\n",
       "      <td>employee</td>\n",
       "      <td>0</td>\n",
       "      <td>23341.752</td>\n",
       "      <td>purchase of the house</td>\n",
       "      <td>30-39</td>\n",
       "    </tr>\n",
       "    <tr>\n",
       "      <th>3</th>\n",
       "      <td>3</td>\n",
       "      <td>3</td>\n",
       "      <td>3</td>\n",
       "      <td>3</td>\n",
       "      <td>3</td>\n",
       "      <td>3</td>\n",
       "      <td>4124.747207</td>\n",
       "      <td>32</td>\n",
       "      <td>secondary education</td>\n",
       "      <td>1</td>\n",
       "      <td>married</td>\n",
       "      <td>0</td>\n",
       "      <td>M</td>\n",
       "      <td>employee</td>\n",
       "      <td>0</td>\n",
       "      <td>42820.568</td>\n",
       "      <td>supplementary education</td>\n",
       "      <td>30-39</td>\n",
       "    </tr>\n",
       "    <tr>\n",
       "      <th>4</th>\n",
       "      <td>4</td>\n",
       "      <td>4</td>\n",
       "      <td>4</td>\n",
       "      <td>4</td>\n",
       "      <td>4</td>\n",
       "      <td>0</td>\n",
       "      <td>340266.072047</td>\n",
       "      <td>53</td>\n",
       "      <td>secondary education</td>\n",
       "      <td>1</td>\n",
       "      <td>civil partnership</td>\n",
       "      <td>1</td>\n",
       "      <td>F</td>\n",
       "      <td>retiree</td>\n",
       "      <td>0</td>\n",
       "      <td>25378.572</td>\n",
       "      <td>to have a wedding</td>\n",
       "      <td>50-59</td>\n",
       "    </tr>\n",
       "    <tr>\n",
       "      <th>5</th>\n",
       "      <td>5</td>\n",
       "      <td>5</td>\n",
       "      <td>5</td>\n",
       "      <td>5</td>\n",
       "      <td>5</td>\n",
       "      <td>0</td>\n",
       "      <td>926.185831</td>\n",
       "      <td>27</td>\n",
       "      <td>bachelors degree</td>\n",
       "      <td>0</td>\n",
       "      <td>civil partnership</td>\n",
       "      <td>1</td>\n",
       "      <td>M</td>\n",
       "      <td>business</td>\n",
       "      <td>0</td>\n",
       "      <td>40922.170</td>\n",
       "      <td>purchase of the house</td>\n",
       "      <td>20-29</td>\n",
       "    </tr>\n",
       "    <tr>\n",
       "      <th>6</th>\n",
       "      <td>6</td>\n",
       "      <td>6</td>\n",
       "      <td>6</td>\n",
       "      <td>6</td>\n",
       "      <td>6</td>\n",
       "      <td>0</td>\n",
       "      <td>2879.202052</td>\n",
       "      <td>43</td>\n",
       "      <td>bachelors degree</td>\n",
       "      <td>0</td>\n",
       "      <td>married</td>\n",
       "      <td>0</td>\n",
       "      <td>F</td>\n",
       "      <td>business</td>\n",
       "      <td>0</td>\n",
       "      <td>38484.156</td>\n",
       "      <td>housing transactions</td>\n",
       "      <td>40-49</td>\n",
       "    </tr>\n",
       "    <tr>\n",
       "      <th>7</th>\n",
       "      <td>7</td>\n",
       "      <td>7</td>\n",
       "      <td>7</td>\n",
       "      <td>7</td>\n",
       "      <td>7</td>\n",
       "      <td>0</td>\n",
       "      <td>152.779569</td>\n",
       "      <td>50</td>\n",
       "      <td>secondary education</td>\n",
       "      <td>1</td>\n",
       "      <td>married</td>\n",
       "      <td>0</td>\n",
       "      <td>M</td>\n",
       "      <td>employee</td>\n",
       "      <td>0</td>\n",
       "      <td>21731.829</td>\n",
       "      <td>education</td>\n",
       "      <td>50-59</td>\n",
       "    </tr>\n",
       "    <tr>\n",
       "      <th>8</th>\n",
       "      <td>8</td>\n",
       "      <td>8</td>\n",
       "      <td>8</td>\n",
       "      <td>8</td>\n",
       "      <td>8</td>\n",
       "      <td>2</td>\n",
       "      <td>6929.865299</td>\n",
       "      <td>35</td>\n",
       "      <td>bachelors degree</td>\n",
       "      <td>0</td>\n",
       "      <td>civil partnership</td>\n",
       "      <td>1</td>\n",
       "      <td>F</td>\n",
       "      <td>employee</td>\n",
       "      <td>0</td>\n",
       "      <td>15337.093</td>\n",
       "      <td>having a wedding</td>\n",
       "      <td>30-39</td>\n",
       "    </tr>\n",
       "    <tr>\n",
       "      <th>9</th>\n",
       "      <td>9</td>\n",
       "      <td>9</td>\n",
       "      <td>9</td>\n",
       "      <td>9</td>\n",
       "      <td>9</td>\n",
       "      <td>0</td>\n",
       "      <td>2188.756445</td>\n",
       "      <td>41</td>\n",
       "      <td>secondary education</td>\n",
       "      <td>1</td>\n",
       "      <td>married</td>\n",
       "      <td>0</td>\n",
       "      <td>M</td>\n",
       "      <td>employee</td>\n",
       "      <td>0</td>\n",
       "      <td>23108.150</td>\n",
       "      <td>purchase of the house for my family</td>\n",
       "      <td>40-49</td>\n",
       "    </tr>\n",
       "  </tbody>\n",
       "</table>\n",
       "</div>"
      ],
      "text/plain": [
       "   Unnamed: 0  Unnamed: 0.1  Unnamed: 0.1.1  Unnamed: 0.1.1.1  \\\n",
       "0           0             0               0                 0   \n",
       "1           1             1               1                 1   \n",
       "2           2             2               2                 2   \n",
       "3           3             3               3                 3   \n",
       "4           4             4               4                 4   \n",
       "5           5             5               5                 5   \n",
       "6           6             6               6                 6   \n",
       "7           7             7               7                 7   \n",
       "8           8             8               8                 8   \n",
       "9           9             9               9                 9   \n",
       "\n",
       "   Unnamed: 0.1.1.1.1  children  days_employed  dob_years  \\\n",
       "0                   0         1    8437.673028         42   \n",
       "1                   1         1    4024.803754         36   \n",
       "2                   2         0    5623.422610         33   \n",
       "3                   3         3    4124.747207         32   \n",
       "4                   4         0  340266.072047         53   \n",
       "5                   5         0     926.185831         27   \n",
       "6                   6         0    2879.202052         43   \n",
       "7                   7         0     152.779569         50   \n",
       "8                   8         2    6929.865299         35   \n",
       "9                   9         0    2188.756445         41   \n",
       "\n",
       "             education  education_id      family_status  family_status_id  \\\n",
       "0     bachelors degree             0            married                 0   \n",
       "1  secondary education             1            married                 0   \n",
       "2  secondary education             1            married                 0   \n",
       "3  secondary education             1            married                 0   \n",
       "4  secondary education             1  civil partnership                 1   \n",
       "5     bachelors degree             0  civil partnership                 1   \n",
       "6     bachelors degree             0            married                 0   \n",
       "7  secondary education             1            married                 0   \n",
       "8     bachelors degree             0  civil partnership                 1   \n",
       "9  secondary education             1            married                 0   \n",
       "\n",
       "  gender income_type  debt  total_income                              purpose  \\\n",
       "0      F    employee     0     40620.102                purchase of the house   \n",
       "1      F    employee     0     17932.802                         car purchase   \n",
       "2      M    employee     0     23341.752                purchase of the house   \n",
       "3      M    employee     0     42820.568              supplementary education   \n",
       "4      F     retiree     0     25378.572                    to have a wedding   \n",
       "5      M    business     0     40922.170                purchase of the house   \n",
       "6      F    business     0     38484.156                 housing transactions   \n",
       "7      M    employee     0     21731.829                            education   \n",
       "8      F    employee     0     15337.093                     having a wedding   \n",
       "9      M    employee     0     23108.150  purchase of the house for my family   \n",
       "\n",
       "  age_category  \n",
       "0        40-49  \n",
       "1        30-39  \n",
       "2        30-39  \n",
       "3        30-39  \n",
       "4        50-59  \n",
       "5        20-29  \n",
       "6        40-49  \n",
       "7        50-59  \n",
       "8        30-39  \n",
       "9        40-49  "
      ]
     },
     "execution_count": 252,
     "metadata": {},
     "output_type": "execute_result"
    }
   ],
   "source": [
    "# Create a table without missing values and print a few of its rows to make sure it looks fine\n",
    "credit_score[(credit_score['total_income'].isna() == False)].head(10)"
   ]
  },
  {
   "cell_type": "code",
   "execution_count": 253,
   "metadata": {},
   "outputs": [
    {
     "data": {
      "text/plain": [
       "26787.56835465871"
      ]
     },
     "execution_count": 253,
     "metadata": {},
     "output_type": "execute_result"
    }
   ],
   "source": [
    "# Look at the mean values for income based on your identified factors\n",
    "credit_score['total_income'].max() #362496.645\n",
    "credit_score['total_income'].min() #3306.762\n",
    "mean_income=credit_score['total_income'].mean()\n",
    "mean_income"
   ]
  },
  {
   "cell_type": "code",
   "execution_count": 254,
   "metadata": {
    "scrolled": true
   },
   "outputs": [
    {
     "data": {
      "text/plain": [
       "23202.87"
      ]
     },
     "execution_count": 254,
     "metadata": {},
     "output_type": "execute_result"
    }
   ],
   "source": [
    "# Look at the median values for income based on your identified factors\n",
    "median_income=credit_score['total_income'].median()\n",
    "median_income"
   ]
  },
  {
   "cell_type": "markdown",
   "metadata": {},
   "source": [
    "\n",
    "Minimum and maximum values in 'total_income' has a huge difference .\n",
    "This serious outlier makes median an ideal choice."
   ]
  },
  {
   "cell_type": "code",
   "execution_count": 255,
   "metadata": {},
   "outputs": [],
   "source": [
    "# Replacing missing values if there are any errors\n",
    "\n",
    "\n",
    "#credit_score['total_income']=credit_score['total_income'].fillna(0)\n",
    "#credit_score['total_income']=credit_score['total_income'].replace(to_replace=0,value=median_income)\n",
    "credit_score['total_income'] = credit_score['total_income'].fillna(credit_score.groupby(['education_id', 'income_type'])['total_income'].transform('median')) "
   ]
  },
  {
   "cell_type": "code",
   "execution_count": 256,
   "metadata": {},
   "outputs": [
    {
     "data": {
      "text/html": [
       "<div>\n",
       "<style scoped>\n",
       "    .dataframe tbody tr th:only-of-type {\n",
       "        vertical-align: middle;\n",
       "    }\n",
       "\n",
       "    .dataframe tbody tr th {\n",
       "        vertical-align: top;\n",
       "    }\n",
       "\n",
       "    .dataframe thead th {\n",
       "        text-align: right;\n",
       "    }\n",
       "</style>\n",
       "<table border=\"1\" class=\"dataframe\">\n",
       "  <thead>\n",
       "    <tr style=\"text-align: right;\">\n",
       "      <th></th>\n",
       "      <th>Unnamed: 0</th>\n",
       "      <th>Unnamed: 0.1</th>\n",
       "      <th>Unnamed: 0.1.1</th>\n",
       "      <th>Unnamed: 0.1.1.1</th>\n",
       "      <th>Unnamed: 0.1.1.1.1</th>\n",
       "      <th>children</th>\n",
       "      <th>days_employed</th>\n",
       "      <th>dob_years</th>\n",
       "      <th>education</th>\n",
       "      <th>education_id</th>\n",
       "      <th>family_status</th>\n",
       "      <th>family_status_id</th>\n",
       "      <th>gender</th>\n",
       "      <th>income_type</th>\n",
       "      <th>debt</th>\n",
       "      <th>total_income</th>\n",
       "      <th>purpose</th>\n",
       "      <th>age_category</th>\n",
       "    </tr>\n",
       "  </thead>\n",
       "  <tbody>\n",
       "    <tr>\n",
       "      <th>0</th>\n",
       "      <td>0</td>\n",
       "      <td>0</td>\n",
       "      <td>0</td>\n",
       "      <td>0</td>\n",
       "      <td>0</td>\n",
       "      <td>1</td>\n",
       "      <td>8437.673028</td>\n",
       "      <td>42</td>\n",
       "      <td>bachelors degree</td>\n",
       "      <td>0</td>\n",
       "      <td>married</td>\n",
       "      <td>0</td>\n",
       "      <td>F</td>\n",
       "      <td>employee</td>\n",
       "      <td>0</td>\n",
       "      <td>40620.102</td>\n",
       "      <td>purchase of the house</td>\n",
       "      <td>40-49</td>\n",
       "    </tr>\n",
       "    <tr>\n",
       "      <th>1</th>\n",
       "      <td>1</td>\n",
       "      <td>1</td>\n",
       "      <td>1</td>\n",
       "      <td>1</td>\n",
       "      <td>1</td>\n",
       "      <td>1</td>\n",
       "      <td>4024.803754</td>\n",
       "      <td>36</td>\n",
       "      <td>secondary education</td>\n",
       "      <td>1</td>\n",
       "      <td>married</td>\n",
       "      <td>0</td>\n",
       "      <td>F</td>\n",
       "      <td>employee</td>\n",
       "      <td>0</td>\n",
       "      <td>17932.802</td>\n",
       "      <td>car purchase</td>\n",
       "      <td>30-39</td>\n",
       "    </tr>\n",
       "    <tr>\n",
       "      <th>2</th>\n",
       "      <td>2</td>\n",
       "      <td>2</td>\n",
       "      <td>2</td>\n",
       "      <td>2</td>\n",
       "      <td>2</td>\n",
       "      <td>0</td>\n",
       "      <td>5623.422610</td>\n",
       "      <td>33</td>\n",
       "      <td>secondary education</td>\n",
       "      <td>1</td>\n",
       "      <td>married</td>\n",
       "      <td>0</td>\n",
       "      <td>M</td>\n",
       "      <td>employee</td>\n",
       "      <td>0</td>\n",
       "      <td>23341.752</td>\n",
       "      <td>purchase of the house</td>\n",
       "      <td>30-39</td>\n",
       "    </tr>\n",
       "    <tr>\n",
       "      <th>3</th>\n",
       "      <td>3</td>\n",
       "      <td>3</td>\n",
       "      <td>3</td>\n",
       "      <td>3</td>\n",
       "      <td>3</td>\n",
       "      <td>3</td>\n",
       "      <td>4124.747207</td>\n",
       "      <td>32</td>\n",
       "      <td>secondary education</td>\n",
       "      <td>1</td>\n",
       "      <td>married</td>\n",
       "      <td>0</td>\n",
       "      <td>M</td>\n",
       "      <td>employee</td>\n",
       "      <td>0</td>\n",
       "      <td>42820.568</td>\n",
       "      <td>supplementary education</td>\n",
       "      <td>30-39</td>\n",
       "    </tr>\n",
       "    <tr>\n",
       "      <th>4</th>\n",
       "      <td>4</td>\n",
       "      <td>4</td>\n",
       "      <td>4</td>\n",
       "      <td>4</td>\n",
       "      <td>4</td>\n",
       "      <td>0</td>\n",
       "      <td>340266.072047</td>\n",
       "      <td>53</td>\n",
       "      <td>secondary education</td>\n",
       "      <td>1</td>\n",
       "      <td>civil partnership</td>\n",
       "      <td>1</td>\n",
       "      <td>F</td>\n",
       "      <td>retiree</td>\n",
       "      <td>0</td>\n",
       "      <td>25378.572</td>\n",
       "      <td>to have a wedding</td>\n",
       "      <td>50-59</td>\n",
       "    </tr>\n",
       "    <tr>\n",
       "      <th>5</th>\n",
       "      <td>5</td>\n",
       "      <td>5</td>\n",
       "      <td>5</td>\n",
       "      <td>5</td>\n",
       "      <td>5</td>\n",
       "      <td>0</td>\n",
       "      <td>926.185831</td>\n",
       "      <td>27</td>\n",
       "      <td>bachelors degree</td>\n",
       "      <td>0</td>\n",
       "      <td>civil partnership</td>\n",
       "      <td>1</td>\n",
       "      <td>M</td>\n",
       "      <td>business</td>\n",
       "      <td>0</td>\n",
       "      <td>40922.170</td>\n",
       "      <td>purchase of the house</td>\n",
       "      <td>20-29</td>\n",
       "    </tr>\n",
       "    <tr>\n",
       "      <th>6</th>\n",
       "      <td>6</td>\n",
       "      <td>6</td>\n",
       "      <td>6</td>\n",
       "      <td>6</td>\n",
       "      <td>6</td>\n",
       "      <td>0</td>\n",
       "      <td>2879.202052</td>\n",
       "      <td>43</td>\n",
       "      <td>bachelors degree</td>\n",
       "      <td>0</td>\n",
       "      <td>married</td>\n",
       "      <td>0</td>\n",
       "      <td>F</td>\n",
       "      <td>business</td>\n",
       "      <td>0</td>\n",
       "      <td>38484.156</td>\n",
       "      <td>housing transactions</td>\n",
       "      <td>40-49</td>\n",
       "    </tr>\n",
       "    <tr>\n",
       "      <th>7</th>\n",
       "      <td>7</td>\n",
       "      <td>7</td>\n",
       "      <td>7</td>\n",
       "      <td>7</td>\n",
       "      <td>7</td>\n",
       "      <td>0</td>\n",
       "      <td>152.779569</td>\n",
       "      <td>50</td>\n",
       "      <td>secondary education</td>\n",
       "      <td>1</td>\n",
       "      <td>married</td>\n",
       "      <td>0</td>\n",
       "      <td>M</td>\n",
       "      <td>employee</td>\n",
       "      <td>0</td>\n",
       "      <td>21731.829</td>\n",
       "      <td>education</td>\n",
       "      <td>50-59</td>\n",
       "    </tr>\n",
       "    <tr>\n",
       "      <th>8</th>\n",
       "      <td>8</td>\n",
       "      <td>8</td>\n",
       "      <td>8</td>\n",
       "      <td>8</td>\n",
       "      <td>8</td>\n",
       "      <td>2</td>\n",
       "      <td>6929.865299</td>\n",
       "      <td>35</td>\n",
       "      <td>bachelors degree</td>\n",
       "      <td>0</td>\n",
       "      <td>civil partnership</td>\n",
       "      <td>1</td>\n",
       "      <td>F</td>\n",
       "      <td>employee</td>\n",
       "      <td>0</td>\n",
       "      <td>15337.093</td>\n",
       "      <td>having a wedding</td>\n",
       "      <td>30-39</td>\n",
       "    </tr>\n",
       "    <tr>\n",
       "      <th>9</th>\n",
       "      <td>9</td>\n",
       "      <td>9</td>\n",
       "      <td>9</td>\n",
       "      <td>9</td>\n",
       "      <td>9</td>\n",
       "      <td>0</td>\n",
       "      <td>2188.756445</td>\n",
       "      <td>41</td>\n",
       "      <td>secondary education</td>\n",
       "      <td>1</td>\n",
       "      <td>married</td>\n",
       "      <td>0</td>\n",
       "      <td>M</td>\n",
       "      <td>employee</td>\n",
       "      <td>0</td>\n",
       "      <td>23108.150</td>\n",
       "      <td>purchase of the house for my family</td>\n",
       "      <td>40-49</td>\n",
       "    </tr>\n",
       "  </tbody>\n",
       "</table>\n",
       "</div>"
      ],
      "text/plain": [
       "   Unnamed: 0  Unnamed: 0.1  Unnamed: 0.1.1  Unnamed: 0.1.1.1  \\\n",
       "0           0             0               0                 0   \n",
       "1           1             1               1                 1   \n",
       "2           2             2               2                 2   \n",
       "3           3             3               3                 3   \n",
       "4           4             4               4                 4   \n",
       "5           5             5               5                 5   \n",
       "6           6             6               6                 6   \n",
       "7           7             7               7                 7   \n",
       "8           8             8               8                 8   \n",
       "9           9             9               9                 9   \n",
       "\n",
       "   Unnamed: 0.1.1.1.1  children  days_employed  dob_years  \\\n",
       "0                   0         1    8437.673028         42   \n",
       "1                   1         1    4024.803754         36   \n",
       "2                   2         0    5623.422610         33   \n",
       "3                   3         3    4124.747207         32   \n",
       "4                   4         0  340266.072047         53   \n",
       "5                   5         0     926.185831         27   \n",
       "6                   6         0    2879.202052         43   \n",
       "7                   7         0     152.779569         50   \n",
       "8                   8         2    6929.865299         35   \n",
       "9                   9         0    2188.756445         41   \n",
       "\n",
       "             education  education_id      family_status  family_status_id  \\\n",
       "0     bachelors degree             0            married                 0   \n",
       "1  secondary education             1            married                 0   \n",
       "2  secondary education             1            married                 0   \n",
       "3  secondary education             1            married                 0   \n",
       "4  secondary education             1  civil partnership                 1   \n",
       "5     bachelors degree             0  civil partnership                 1   \n",
       "6     bachelors degree             0            married                 0   \n",
       "7  secondary education             1            married                 0   \n",
       "8     bachelors degree             0  civil partnership                 1   \n",
       "9  secondary education             1            married                 0   \n",
       "\n",
       "  gender income_type  debt  total_income                              purpose  \\\n",
       "0      F    employee     0     40620.102                purchase of the house   \n",
       "1      F    employee     0     17932.802                         car purchase   \n",
       "2      M    employee     0     23341.752                purchase of the house   \n",
       "3      M    employee     0     42820.568              supplementary education   \n",
       "4      F     retiree     0     25378.572                    to have a wedding   \n",
       "5      M    business     0     40922.170                purchase of the house   \n",
       "6      F    business     0     38484.156                 housing transactions   \n",
       "7      M    employee     0     21731.829                            education   \n",
       "8      F    employee     0     15337.093                     having a wedding   \n",
       "9      M    employee     0     23108.150  purchase of the house for my family   \n",
       "\n",
       "  age_category  \n",
       "0        40-49  \n",
       "1        30-39  \n",
       "2        30-39  \n",
       "3        30-39  \n",
       "4        50-59  \n",
       "5        20-29  \n",
       "6        40-49  \n",
       "7        50-59  \n",
       "8        30-39  \n",
       "9        40-49  "
      ]
     },
     "execution_count": 256,
     "metadata": {},
     "output_type": "execute_result"
    }
   ],
   "source": [
    "# Checking the number of entries in the columns\n",
    "credit_score.head(10)\n"
   ]
  },
  {
   "cell_type": "markdown",
   "metadata": {},
   "source": [
    "###  Restoring values in `days_employed`"
   ]
  },
  {
   "cell_type": "code",
   "execution_count": 257,
   "metadata": {
    "pycharm": {
     "name": "#%%\n"
    }
   },
   "outputs": [],
   "source": [
    "# Distribution of `days_employed` medians based on your identified parameters\n",
    "\n",
    "credit_score[(credit_score['days_employed'] > 0)]['days_employed'].min() # min employed days 24\n",
    "credit_score['days_employed'].max() # 401755\n",
    "days_employed_median=int(credit_score['days_employed'].median())\n",
    "\n",
    "    "
   ]
  },
  {
   "cell_type": "code",
   "execution_count": 258,
   "metadata": {},
   "outputs": [
    {
     "data": {
      "text/plain": [
       "66914"
      ]
     },
     "execution_count": 258,
     "metadata": {},
     "output_type": "execute_result"
    }
   ],
   "source": [
    "# Distribution of `days_employed` means based on your identified parameters\n",
    "days_employed_mean=int(credit_score['days_employed'].mean())\n",
    "days_employed_mean"
   ]
  },
  {
   "cell_type": "markdown",
   "metadata": {},
   "source": [
    "\n",
    "Since we have huge difference between min and max , we go with median."
   ]
  },
  {
   "cell_type": "code",
   "execution_count": 259,
   "metadata": {},
   "outputs": [],
   "source": [
    "# Replacing missing values\n",
    "\n",
    "credit_score['days_employed']=credit_score['days_employed'].replace(to_replace=0,value=days_employed_median)"
   ]
  },
  {
   "cell_type": "markdown",
   "metadata": {},
   "source": [
    "[When you think you've finished with `total_income`, check that the total number of values in this column matches the number of values in other ones.]"
   ]
  },
  {
   "cell_type": "code",
   "execution_count": 260,
   "metadata": {},
   "outputs": [
    {
     "data": {
      "text/html": [
       "<div>\n",
       "<style scoped>\n",
       "    .dataframe tbody tr th:only-of-type {\n",
       "        vertical-align: middle;\n",
       "    }\n",
       "\n",
       "    .dataframe tbody tr th {\n",
       "        vertical-align: top;\n",
       "    }\n",
       "\n",
       "    .dataframe thead th {\n",
       "        text-align: right;\n",
       "    }\n",
       "</style>\n",
       "<table border=\"1\" class=\"dataframe\">\n",
       "  <thead>\n",
       "    <tr style=\"text-align: right;\">\n",
       "      <th></th>\n",
       "      <th>Unnamed: 0</th>\n",
       "      <th>Unnamed: 0.1</th>\n",
       "      <th>Unnamed: 0.1.1</th>\n",
       "      <th>Unnamed: 0.1.1.1</th>\n",
       "      <th>Unnamed: 0.1.1.1.1</th>\n",
       "      <th>children</th>\n",
       "      <th>days_employed</th>\n",
       "      <th>dob_years</th>\n",
       "      <th>education</th>\n",
       "      <th>education_id</th>\n",
       "      <th>family_status</th>\n",
       "      <th>family_status_id</th>\n",
       "      <th>gender</th>\n",
       "      <th>income_type</th>\n",
       "      <th>debt</th>\n",
       "      <th>total_income</th>\n",
       "      <th>purpose</th>\n",
       "      <th>age_category</th>\n",
       "    </tr>\n",
       "  </thead>\n",
       "  <tbody>\n",
       "    <tr>\n",
       "      <th>0</th>\n",
       "      <td>0</td>\n",
       "      <td>0</td>\n",
       "      <td>0</td>\n",
       "      <td>0</td>\n",
       "      <td>0</td>\n",
       "      <td>1</td>\n",
       "      <td>8437.673028</td>\n",
       "      <td>42</td>\n",
       "      <td>bachelors degree</td>\n",
       "      <td>0</td>\n",
       "      <td>married</td>\n",
       "      <td>0</td>\n",
       "      <td>F</td>\n",
       "      <td>employee</td>\n",
       "      <td>0</td>\n",
       "      <td>40620.102</td>\n",
       "      <td>purchase of the house</td>\n",
       "      <td>40-49</td>\n",
       "    </tr>\n",
       "    <tr>\n",
       "      <th>1</th>\n",
       "      <td>1</td>\n",
       "      <td>1</td>\n",
       "      <td>1</td>\n",
       "      <td>1</td>\n",
       "      <td>1</td>\n",
       "      <td>1</td>\n",
       "      <td>4024.803754</td>\n",
       "      <td>36</td>\n",
       "      <td>secondary education</td>\n",
       "      <td>1</td>\n",
       "      <td>married</td>\n",
       "      <td>0</td>\n",
       "      <td>F</td>\n",
       "      <td>employee</td>\n",
       "      <td>0</td>\n",
       "      <td>17932.802</td>\n",
       "      <td>car purchase</td>\n",
       "      <td>30-39</td>\n",
       "    </tr>\n",
       "    <tr>\n",
       "      <th>2</th>\n",
       "      <td>2</td>\n",
       "      <td>2</td>\n",
       "      <td>2</td>\n",
       "      <td>2</td>\n",
       "      <td>2</td>\n",
       "      <td>0</td>\n",
       "      <td>5623.422610</td>\n",
       "      <td>33</td>\n",
       "      <td>secondary education</td>\n",
       "      <td>1</td>\n",
       "      <td>married</td>\n",
       "      <td>0</td>\n",
       "      <td>M</td>\n",
       "      <td>employee</td>\n",
       "      <td>0</td>\n",
       "      <td>23341.752</td>\n",
       "      <td>purchase of the house</td>\n",
       "      <td>30-39</td>\n",
       "    </tr>\n",
       "    <tr>\n",
       "      <th>3</th>\n",
       "      <td>3</td>\n",
       "      <td>3</td>\n",
       "      <td>3</td>\n",
       "      <td>3</td>\n",
       "      <td>3</td>\n",
       "      <td>3</td>\n",
       "      <td>4124.747207</td>\n",
       "      <td>32</td>\n",
       "      <td>secondary education</td>\n",
       "      <td>1</td>\n",
       "      <td>married</td>\n",
       "      <td>0</td>\n",
       "      <td>M</td>\n",
       "      <td>employee</td>\n",
       "      <td>0</td>\n",
       "      <td>42820.568</td>\n",
       "      <td>supplementary education</td>\n",
       "      <td>30-39</td>\n",
       "    </tr>\n",
       "    <tr>\n",
       "      <th>4</th>\n",
       "      <td>4</td>\n",
       "      <td>4</td>\n",
       "      <td>4</td>\n",
       "      <td>4</td>\n",
       "      <td>4</td>\n",
       "      <td>0</td>\n",
       "      <td>340266.072047</td>\n",
       "      <td>53</td>\n",
       "      <td>secondary education</td>\n",
       "      <td>1</td>\n",
       "      <td>civil partnership</td>\n",
       "      <td>1</td>\n",
       "      <td>F</td>\n",
       "      <td>retiree</td>\n",
       "      <td>0</td>\n",
       "      <td>25378.572</td>\n",
       "      <td>to have a wedding</td>\n",
       "      <td>50-59</td>\n",
       "    </tr>\n",
       "    <tr>\n",
       "      <th>5</th>\n",
       "      <td>5</td>\n",
       "      <td>5</td>\n",
       "      <td>5</td>\n",
       "      <td>5</td>\n",
       "      <td>5</td>\n",
       "      <td>0</td>\n",
       "      <td>926.185831</td>\n",
       "      <td>27</td>\n",
       "      <td>bachelors degree</td>\n",
       "      <td>0</td>\n",
       "      <td>civil partnership</td>\n",
       "      <td>1</td>\n",
       "      <td>M</td>\n",
       "      <td>business</td>\n",
       "      <td>0</td>\n",
       "      <td>40922.170</td>\n",
       "      <td>purchase of the house</td>\n",
       "      <td>20-29</td>\n",
       "    </tr>\n",
       "    <tr>\n",
       "      <th>6</th>\n",
       "      <td>6</td>\n",
       "      <td>6</td>\n",
       "      <td>6</td>\n",
       "      <td>6</td>\n",
       "      <td>6</td>\n",
       "      <td>0</td>\n",
       "      <td>2879.202052</td>\n",
       "      <td>43</td>\n",
       "      <td>bachelors degree</td>\n",
       "      <td>0</td>\n",
       "      <td>married</td>\n",
       "      <td>0</td>\n",
       "      <td>F</td>\n",
       "      <td>business</td>\n",
       "      <td>0</td>\n",
       "      <td>38484.156</td>\n",
       "      <td>housing transactions</td>\n",
       "      <td>40-49</td>\n",
       "    </tr>\n",
       "    <tr>\n",
       "      <th>7</th>\n",
       "      <td>7</td>\n",
       "      <td>7</td>\n",
       "      <td>7</td>\n",
       "      <td>7</td>\n",
       "      <td>7</td>\n",
       "      <td>0</td>\n",
       "      <td>152.779569</td>\n",
       "      <td>50</td>\n",
       "      <td>secondary education</td>\n",
       "      <td>1</td>\n",
       "      <td>married</td>\n",
       "      <td>0</td>\n",
       "      <td>M</td>\n",
       "      <td>employee</td>\n",
       "      <td>0</td>\n",
       "      <td>21731.829</td>\n",
       "      <td>education</td>\n",
       "      <td>50-59</td>\n",
       "    </tr>\n",
       "    <tr>\n",
       "      <th>8</th>\n",
       "      <td>8</td>\n",
       "      <td>8</td>\n",
       "      <td>8</td>\n",
       "      <td>8</td>\n",
       "      <td>8</td>\n",
       "      <td>2</td>\n",
       "      <td>6929.865299</td>\n",
       "      <td>35</td>\n",
       "      <td>bachelors degree</td>\n",
       "      <td>0</td>\n",
       "      <td>civil partnership</td>\n",
       "      <td>1</td>\n",
       "      <td>F</td>\n",
       "      <td>employee</td>\n",
       "      <td>0</td>\n",
       "      <td>15337.093</td>\n",
       "      <td>having a wedding</td>\n",
       "      <td>30-39</td>\n",
       "    </tr>\n",
       "    <tr>\n",
       "      <th>9</th>\n",
       "      <td>9</td>\n",
       "      <td>9</td>\n",
       "      <td>9</td>\n",
       "      <td>9</td>\n",
       "      <td>9</td>\n",
       "      <td>0</td>\n",
       "      <td>2188.756445</td>\n",
       "      <td>41</td>\n",
       "      <td>secondary education</td>\n",
       "      <td>1</td>\n",
       "      <td>married</td>\n",
       "      <td>0</td>\n",
       "      <td>M</td>\n",
       "      <td>employee</td>\n",
       "      <td>0</td>\n",
       "      <td>23108.150</td>\n",
       "      <td>purchase of the house for my family</td>\n",
       "      <td>40-49</td>\n",
       "    </tr>\n",
       "  </tbody>\n",
       "</table>\n",
       "</div>"
      ],
      "text/plain": [
       "   Unnamed: 0  Unnamed: 0.1  Unnamed: 0.1.1  Unnamed: 0.1.1.1  \\\n",
       "0           0             0               0                 0   \n",
       "1           1             1               1                 1   \n",
       "2           2             2               2                 2   \n",
       "3           3             3               3                 3   \n",
       "4           4             4               4                 4   \n",
       "5           5             5               5                 5   \n",
       "6           6             6               6                 6   \n",
       "7           7             7               7                 7   \n",
       "8           8             8               8                 8   \n",
       "9           9             9               9                 9   \n",
       "\n",
       "   Unnamed: 0.1.1.1.1  children  days_employed  dob_years  \\\n",
       "0                   0         1    8437.673028         42   \n",
       "1                   1         1    4024.803754         36   \n",
       "2                   2         0    5623.422610         33   \n",
       "3                   3         3    4124.747207         32   \n",
       "4                   4         0  340266.072047         53   \n",
       "5                   5         0     926.185831         27   \n",
       "6                   6         0    2879.202052         43   \n",
       "7                   7         0     152.779569         50   \n",
       "8                   8         2    6929.865299         35   \n",
       "9                   9         0    2188.756445         41   \n",
       "\n",
       "             education  education_id      family_status  family_status_id  \\\n",
       "0     bachelors degree             0            married                 0   \n",
       "1  secondary education             1            married                 0   \n",
       "2  secondary education             1            married                 0   \n",
       "3  secondary education             1            married                 0   \n",
       "4  secondary education             1  civil partnership                 1   \n",
       "5     bachelors degree             0  civil partnership                 1   \n",
       "6     bachelors degree             0            married                 0   \n",
       "7  secondary education             1            married                 0   \n",
       "8     bachelors degree             0  civil partnership                 1   \n",
       "9  secondary education             1            married                 0   \n",
       "\n",
       "  gender income_type  debt  total_income                              purpose  \\\n",
       "0      F    employee     0     40620.102                purchase of the house   \n",
       "1      F    employee     0     17932.802                         car purchase   \n",
       "2      M    employee     0     23341.752                purchase of the house   \n",
       "3      M    employee     0     42820.568              supplementary education   \n",
       "4      F     retiree     0     25378.572                    to have a wedding   \n",
       "5      M    business     0     40922.170                purchase of the house   \n",
       "6      F    business     0     38484.156                 housing transactions   \n",
       "7      M    employee     0     21731.829                            education   \n",
       "8      F    employee     0     15337.093                     having a wedding   \n",
       "9      M    employee     0     23108.150  purchase of the house for my family   \n",
       "\n",
       "  age_category  \n",
       "0        40-49  \n",
       "1        30-39  \n",
       "2        30-39  \n",
       "3        30-39  \n",
       "4        50-59  \n",
       "5        20-29  \n",
       "6        40-49  \n",
       "7        50-59  \n",
       "8        30-39  \n",
       "9        40-49  "
      ]
     },
     "execution_count": 260,
     "metadata": {},
     "output_type": "execute_result"
    }
   ],
   "source": [
    "# Check the entries in all columns - make sure we fixed all missing values\n",
    "credit_score.head(10)"
   ]
  },
  {
   "cell_type": "markdown",
   "metadata": {},
   "source": [
    "[Back to Contents](#back)"
   ]
  },
  {
   "cell_type": "markdown",
   "metadata": {},
   "source": [
    "<a id='category'></a>"
   ]
  },
  {
   "cell_type": "markdown",
   "metadata": {},
   "source": [
    "# Categorization of data"
   ]
  },
  {
   "cell_type": "code",
   "execution_count": 261,
   "metadata": {
    "scrolled": true
   },
   "outputs": [
    {
     "data": {
      "text/plain": [
       "wedding ceremony                            797\n",
       "having a wedding                            777\n",
       "to have a wedding                           774\n",
       "real estate transactions                    676\n",
       "buy commercial real estate                  664\n",
       "buying property for renting out             653\n",
       "housing transactions                        653\n",
       "transactions with commercial real estate    651\n",
       "purchase of the house                       647\n",
       "housing                                     647\n",
       "Name: purpose, dtype: int64"
      ]
     },
     "execution_count": 261,
     "metadata": {},
     "output_type": "execute_result"
    }
   ],
   "source": [
    "# Print the values for your selected data for categorization\n",
    "\n",
    "credit_score['purpose'].value_counts().head(10)"
   ]
  },
  {
   "cell_type": "markdown",
   "metadata": {},
   "source": [
    "[Let's check unique values]"
   ]
  },
  {
   "cell_type": "code",
   "execution_count": 262,
   "metadata": {},
   "outputs": [
    {
     "data": {
      "text/plain": [
       "array(['purchase of the house', 'car purchase', 'supplementary education',\n",
       "       'to have a wedding', 'housing transactions', 'education',\n",
       "       'having a wedding', 'purchase of the house for my family',\n",
       "       'buy real estate', 'buy commercial real estate',\n",
       "       'buy residential real estate', 'construction of own property',\n",
       "       'property', 'building a property', 'buying a second-hand car',\n",
       "       'buying my own car', 'transactions with commercial real estate',\n",
       "       'building a real estate', 'housing',\n",
       "       'transactions with my real estate', 'cars', 'to become educated',\n",
       "       'second-hand car purchase', 'getting an education', 'car',\n",
       "       'wedding ceremony', 'to get a supplementary education',\n",
       "       'purchase of my own house', 'real estate transactions',\n",
       "       'getting higher education', 'to own a car', 'purchase of a car',\n",
       "       'profile education', 'university education',\n",
       "       'buying property for renting out', 'to buy a car',\n",
       "       'housing renovation', 'going to university'], dtype=object)"
      ]
     },
     "execution_count": 262,
     "metadata": {},
     "output_type": "execute_result"
    }
   ],
   "source": [
    "# Check the unique values\n",
    "credit_score['purpose'].unique()"
   ]
  },
  {
   "cell_type": "markdown",
   "metadata": {},
   "source": [
    "\n",
    "'purpose' column is categorised based on the five categories:\n",
    "house,car,wedding,real estate and education"
   ]
  },
  {
   "cell_type": "code",
   "execution_count": 263,
   "metadata": {},
   "outputs": [],
   "source": [
    "# Let's write a function to categorize the data based on common topics\n",
    "def purpose_category(row):\n",
    "    purpose=row['purpose']\n",
    "    if('wedding' in purpose):\n",
    "        return 'wedding'\n",
    "    elif(('house' in purpose)| ('housing' in purpose)):\n",
    "        return 'housing'\n",
    "    elif(('real estate' in purpose)| ('property' in purpose)):\n",
    "        return 'real estate'\n",
    "    elif('car' in purpose):\n",
    "        return 'car'\n",
    "    else:\n",
    "        return 'education' "
   ]
  },
  {
   "cell_type": "code",
   "execution_count": 264,
   "metadata": {},
   "outputs": [
    {
     "data": {
      "text/html": [
       "<div>\n",
       "<style scoped>\n",
       "    .dataframe tbody tr th:only-of-type {\n",
       "        vertical-align: middle;\n",
       "    }\n",
       "\n",
       "    .dataframe tbody tr th {\n",
       "        vertical-align: top;\n",
       "    }\n",
       "\n",
       "    .dataframe thead th {\n",
       "        text-align: right;\n",
       "    }\n",
       "</style>\n",
       "<table border=\"1\" class=\"dataframe\">\n",
       "  <thead>\n",
       "    <tr style=\"text-align: right;\">\n",
       "      <th></th>\n",
       "      <th>Unnamed: 0</th>\n",
       "      <th>Unnamed: 0.1</th>\n",
       "      <th>Unnamed: 0.1.1</th>\n",
       "      <th>Unnamed: 0.1.1.1</th>\n",
       "      <th>Unnamed: 0.1.1.1.1</th>\n",
       "      <th>children</th>\n",
       "      <th>days_employed</th>\n",
       "      <th>dob_years</th>\n",
       "      <th>education</th>\n",
       "      <th>education_id</th>\n",
       "      <th>family_status</th>\n",
       "      <th>family_status_id</th>\n",
       "      <th>gender</th>\n",
       "      <th>income_type</th>\n",
       "      <th>debt</th>\n",
       "      <th>total_income</th>\n",
       "      <th>purpose</th>\n",
       "      <th>age_category</th>\n",
       "      <th>purpose_category</th>\n",
       "    </tr>\n",
       "  </thead>\n",
       "  <tbody>\n",
       "    <tr>\n",
       "      <th>21515</th>\n",
       "      <td>21515</td>\n",
       "      <td>21515</td>\n",
       "      <td>21515</td>\n",
       "      <td>21515</td>\n",
       "      <td>21515</td>\n",
       "      <td>1</td>\n",
       "      <td>467.685130</td>\n",
       "      <td>28</td>\n",
       "      <td>secondary education</td>\n",
       "      <td>1</td>\n",
       "      <td>married</td>\n",
       "      <td>0</td>\n",
       "      <td>F</td>\n",
       "      <td>employee</td>\n",
       "      <td>1</td>\n",
       "      <td>17517.812</td>\n",
       "      <td>to become educated</td>\n",
       "      <td>20-29</td>\n",
       "      <td>education</td>\n",
       "    </tr>\n",
       "    <tr>\n",
       "      <th>21516</th>\n",
       "      <td>21516</td>\n",
       "      <td>21516</td>\n",
       "      <td>21516</td>\n",
       "      <td>21516</td>\n",
       "      <td>21516</td>\n",
       "      <td>0</td>\n",
       "      <td>914.391429</td>\n",
       "      <td>42</td>\n",
       "      <td>bachelors degree</td>\n",
       "      <td>0</td>\n",
       "      <td>married</td>\n",
       "      <td>0</td>\n",
       "      <td>F</td>\n",
       "      <td>business</td>\n",
       "      <td>0</td>\n",
       "      <td>51649.244</td>\n",
       "      <td>purchase of my own house</td>\n",
       "      <td>40-49</td>\n",
       "      <td>housing</td>\n",
       "    </tr>\n",
       "    <tr>\n",
       "      <th>21517</th>\n",
       "      <td>21517</td>\n",
       "      <td>21517</td>\n",
       "      <td>21517</td>\n",
       "      <td>21517</td>\n",
       "      <td>21517</td>\n",
       "      <td>0</td>\n",
       "      <td>404.679034</td>\n",
       "      <td>42</td>\n",
       "      <td>bachelors degree</td>\n",
       "      <td>0</td>\n",
       "      <td>civil partnership</td>\n",
       "      <td>1</td>\n",
       "      <td>F</td>\n",
       "      <td>business</td>\n",
       "      <td>0</td>\n",
       "      <td>28489.529</td>\n",
       "      <td>buying my own car</td>\n",
       "      <td>40-49</td>\n",
       "      <td>car</td>\n",
       "    </tr>\n",
       "    <tr>\n",
       "      <th>21518</th>\n",
       "      <td>21518</td>\n",
       "      <td>21518</td>\n",
       "      <td>21518</td>\n",
       "      <td>21518</td>\n",
       "      <td>21518</td>\n",
       "      <td>0</td>\n",
       "      <td>373995.710838</td>\n",
       "      <td>59</td>\n",
       "      <td>secondary education</td>\n",
       "      <td>1</td>\n",
       "      <td>married</td>\n",
       "      <td>0</td>\n",
       "      <td>F</td>\n",
       "      <td>retiree</td>\n",
       "      <td>0</td>\n",
       "      <td>24618.344</td>\n",
       "      <td>purchase of a car</td>\n",
       "      <td>50-59</td>\n",
       "      <td>car</td>\n",
       "    </tr>\n",
       "    <tr>\n",
       "      <th>21519</th>\n",
       "      <td>21519</td>\n",
       "      <td>21519</td>\n",
       "      <td>21519</td>\n",
       "      <td>21519</td>\n",
       "      <td>21519</td>\n",
       "      <td>1</td>\n",
       "      <td>2351.431934</td>\n",
       "      <td>37</td>\n",
       "      <td>graduate degree</td>\n",
       "      <td>4</td>\n",
       "      <td>divorced</td>\n",
       "      <td>3</td>\n",
       "      <td>M</td>\n",
       "      <td>employee</td>\n",
       "      <td>0</td>\n",
       "      <td>18551.846</td>\n",
       "      <td>buy commercial real estate</td>\n",
       "      <td>30-39</td>\n",
       "      <td>real estate</td>\n",
       "    </tr>\n",
       "    <tr>\n",
       "      <th>21520</th>\n",
       "      <td>21520</td>\n",
       "      <td>21520</td>\n",
       "      <td>21520</td>\n",
       "      <td>21520</td>\n",
       "      <td>21520</td>\n",
       "      <td>1</td>\n",
       "      <td>4529.316663</td>\n",
       "      <td>43</td>\n",
       "      <td>secondary education</td>\n",
       "      <td>1</td>\n",
       "      <td>civil partnership</td>\n",
       "      <td>1</td>\n",
       "      <td>F</td>\n",
       "      <td>business</td>\n",
       "      <td>0</td>\n",
       "      <td>35966.698</td>\n",
       "      <td>housing transactions</td>\n",
       "      <td>40-49</td>\n",
       "      <td>housing</td>\n",
       "    </tr>\n",
       "    <tr>\n",
       "      <th>21521</th>\n",
       "      <td>21521</td>\n",
       "      <td>21521</td>\n",
       "      <td>21521</td>\n",
       "      <td>21521</td>\n",
       "      <td>21521</td>\n",
       "      <td>0</td>\n",
       "      <td>343937.404131</td>\n",
       "      <td>67</td>\n",
       "      <td>secondary education</td>\n",
       "      <td>1</td>\n",
       "      <td>married</td>\n",
       "      <td>0</td>\n",
       "      <td>F</td>\n",
       "      <td>retiree</td>\n",
       "      <td>0</td>\n",
       "      <td>24959.969</td>\n",
       "      <td>purchase of a car</td>\n",
       "      <td>60-69</td>\n",
       "      <td>car</td>\n",
       "    </tr>\n",
       "    <tr>\n",
       "      <th>21522</th>\n",
       "      <td>21522</td>\n",
       "      <td>21522</td>\n",
       "      <td>21522</td>\n",
       "      <td>21522</td>\n",
       "      <td>21522</td>\n",
       "      <td>1</td>\n",
       "      <td>2113.346888</td>\n",
       "      <td>38</td>\n",
       "      <td>secondary education</td>\n",
       "      <td>1</td>\n",
       "      <td>civil partnership</td>\n",
       "      <td>1</td>\n",
       "      <td>M</td>\n",
       "      <td>employee</td>\n",
       "      <td>1</td>\n",
       "      <td>14347.610</td>\n",
       "      <td>property</td>\n",
       "      <td>30-39</td>\n",
       "      <td>real estate</td>\n",
       "    </tr>\n",
       "    <tr>\n",
       "      <th>21523</th>\n",
       "      <td>21523</td>\n",
       "      <td>21523</td>\n",
       "      <td>21523</td>\n",
       "      <td>21523</td>\n",
       "      <td>21523</td>\n",
       "      <td>3</td>\n",
       "      <td>3112.481705</td>\n",
       "      <td>38</td>\n",
       "      <td>secondary education</td>\n",
       "      <td>1</td>\n",
       "      <td>married</td>\n",
       "      <td>0</td>\n",
       "      <td>M</td>\n",
       "      <td>employee</td>\n",
       "      <td>1</td>\n",
       "      <td>39054.888</td>\n",
       "      <td>buying my own car</td>\n",
       "      <td>30-39</td>\n",
       "      <td>car</td>\n",
       "    </tr>\n",
       "    <tr>\n",
       "      <th>21524</th>\n",
       "      <td>21524</td>\n",
       "      <td>21524</td>\n",
       "      <td>21524</td>\n",
       "      <td>21524</td>\n",
       "      <td>21524</td>\n",
       "      <td>2</td>\n",
       "      <td>1984.507589</td>\n",
       "      <td>40</td>\n",
       "      <td>secondary education</td>\n",
       "      <td>1</td>\n",
       "      <td>married</td>\n",
       "      <td>0</td>\n",
       "      <td>F</td>\n",
       "      <td>employee</td>\n",
       "      <td>0</td>\n",
       "      <td>13127.587</td>\n",
       "      <td>to buy a car</td>\n",
       "      <td>40-49</td>\n",
       "      <td>car</td>\n",
       "    </tr>\n",
       "  </tbody>\n",
       "</table>\n",
       "</div>"
      ],
      "text/plain": [
       "       Unnamed: 0  Unnamed: 0.1  Unnamed: 0.1.1  Unnamed: 0.1.1.1  \\\n",
       "21515       21515         21515           21515             21515   \n",
       "21516       21516         21516           21516             21516   \n",
       "21517       21517         21517           21517             21517   \n",
       "21518       21518         21518           21518             21518   \n",
       "21519       21519         21519           21519             21519   \n",
       "21520       21520         21520           21520             21520   \n",
       "21521       21521         21521           21521             21521   \n",
       "21522       21522         21522           21522             21522   \n",
       "21523       21523         21523           21523             21523   \n",
       "21524       21524         21524           21524             21524   \n",
       "\n",
       "       Unnamed: 0.1.1.1.1  children  days_employed  dob_years  \\\n",
       "21515               21515         1     467.685130         28   \n",
       "21516               21516         0     914.391429         42   \n",
       "21517               21517         0     404.679034         42   \n",
       "21518               21518         0  373995.710838         59   \n",
       "21519               21519         1    2351.431934         37   \n",
       "21520               21520         1    4529.316663         43   \n",
       "21521               21521         0  343937.404131         67   \n",
       "21522               21522         1    2113.346888         38   \n",
       "21523               21523         3    3112.481705         38   \n",
       "21524               21524         2    1984.507589         40   \n",
       "\n",
       "                 education  education_id      family_status  family_status_id  \\\n",
       "21515  secondary education             1            married                 0   \n",
       "21516     bachelors degree             0            married                 0   \n",
       "21517     bachelors degree             0  civil partnership                 1   \n",
       "21518  secondary education             1            married                 0   \n",
       "21519      graduate degree             4           divorced                 3   \n",
       "21520  secondary education             1  civil partnership                 1   \n",
       "21521  secondary education             1            married                 0   \n",
       "21522  secondary education             1  civil partnership                 1   \n",
       "21523  secondary education             1            married                 0   \n",
       "21524  secondary education             1            married                 0   \n",
       "\n",
       "      gender income_type  debt  total_income                     purpose  \\\n",
       "21515      F    employee     1     17517.812          to become educated   \n",
       "21516      F    business     0     51649.244    purchase of my own house   \n",
       "21517      F    business     0     28489.529           buying my own car   \n",
       "21518      F     retiree     0     24618.344           purchase of a car   \n",
       "21519      M    employee     0     18551.846  buy commercial real estate   \n",
       "21520      F    business     0     35966.698        housing transactions   \n",
       "21521      F     retiree     0     24959.969           purchase of a car   \n",
       "21522      M    employee     1     14347.610                    property   \n",
       "21523      M    employee     1     39054.888           buying my own car   \n",
       "21524      F    employee     0     13127.587                to buy a car   \n",
       "\n",
       "      age_category purpose_category  \n",
       "21515        20-29        education  \n",
       "21516        40-49          housing  \n",
       "21517        40-49              car  \n",
       "21518        50-59              car  \n",
       "21519        30-39      real estate  \n",
       "21520        40-49          housing  \n",
       "21521        60-69              car  \n",
       "21522        30-39      real estate  \n",
       "21523        30-39              car  \n",
       "21524        40-49              car  "
      ]
     },
     "execution_count": 264,
     "metadata": {},
     "output_type": "execute_result"
    }
   ],
   "source": [
    "# Create a column with the categories and count the values for them\n",
    "\n",
    "credit_score['purpose_category']=credit_score.apply(purpose_category,axis=1)\n",
    "credit_score.tail(10)\n"
   ]
  },
  {
   "cell_type": "code",
   "execution_count": 265,
   "metadata": {},
   "outputs": [
    {
     "data": {
      "text/plain": [
       "21848.8175    820\n",
       "18374.8570    345\n",
       "25451.3100    300\n",
       "26502.5190    237\n",
       "32285.6640    188\n",
       "             ... \n",
       "28156.7620      1\n",
       "24931.1950      1\n",
       "32346.5940      1\n",
       "14039.8400      1\n",
       "13127.5870      1\n",
       "Name: total_income, Length: 19354, dtype: int64"
      ]
     },
     "execution_count": 265,
     "metadata": {},
     "output_type": "execute_result"
    }
   ],
   "source": [
    "# Looking through all the numerical data in your selected column for categorization\n",
    "#categorising income as income_level\n",
    "credit_score['total_income'].min()  #3306\n",
    "credit_score['total_income'].max()   #362496.645\n",
    "credit_score['total_income'].value_counts()\n",
    "\n",
    "#credit_score['total_income'].describe()"
   ]
  },
  {
   "cell_type": "markdown",
   "metadata": {},
   "source": [
    "Since 'total_income' has a wide range , our categories are more.\n",
    "Based on min and max value(3000 to 300000) we chose our range from 'less than 10000' to 'greater than 300000'"
   ]
  },
  {
   "cell_type": "code",
   "execution_count": 266,
   "metadata": {},
   "outputs": [],
   "source": [
    "# Creating function for categorizing into different numerical groups based on ranges\n",
    "def income_category(row):\n",
    "    income = row['total_income']\n",
    "    if(income < 10000):\n",
    "        return 'less than 10000'\n",
    "    elif(10000 <= income <= 20000):\n",
    "        return '10000 - 20000'\n",
    "    elif(20000 <= income <= 30000):\n",
    "        return '20000 - 30000'\n",
    "    elif(30000 <=income <= 40000):\n",
    "        return '30000 - 40000'\n",
    "    elif(40000 <= income <= 50000):\n",
    "        return '40000 - 50000'\n",
    "    elif(50000 <= income <= 60000):\n",
    "        return '50000 -60000'\n",
    "    elif(60000 <= income <= 70000):\n",
    "        return '60000 - 70000'\n",
    "    elif(70000 <= income <= 80000):\n",
    "        return '70000 - 80000'\n",
    "    elif(80000 <= income <= 90000):\n",
    "        return '80000 - 90000'\n",
    "    elif(90000 <= income <= 100000):\n",
    "        return '90000 - 100000'\n",
    "    elif(100000 <= income <= 200000):\n",
    "        return 'greater than 100000'\n",
    "    elif(200000 <= income <=300000):\n",
    "        return 'greater than 200000'\n",
    "    elif(income>300000):\n",
    "         return 'greater than 300000'"
   ]
  },
  {
   "cell_type": "code",
   "execution_count": 267,
   "metadata": {},
   "outputs": [
    {
     "data": {
      "text/html": [
       "<div>\n",
       "<style scoped>\n",
       "    .dataframe tbody tr th:only-of-type {\n",
       "        vertical-align: middle;\n",
       "    }\n",
       "\n",
       "    .dataframe tbody tr th {\n",
       "        vertical-align: top;\n",
       "    }\n",
       "\n",
       "    .dataframe thead th {\n",
       "        text-align: right;\n",
       "    }\n",
       "</style>\n",
       "<table border=\"1\" class=\"dataframe\">\n",
       "  <thead>\n",
       "    <tr style=\"text-align: right;\">\n",
       "      <th></th>\n",
       "      <th>Unnamed: 0</th>\n",
       "      <th>Unnamed: 0.1</th>\n",
       "      <th>Unnamed: 0.1.1</th>\n",
       "      <th>Unnamed: 0.1.1.1</th>\n",
       "      <th>Unnamed: 0.1.1.1.1</th>\n",
       "      <th>children</th>\n",
       "      <th>days_employed</th>\n",
       "      <th>dob_years</th>\n",
       "      <th>education</th>\n",
       "      <th>education_id</th>\n",
       "      <th>family_status</th>\n",
       "      <th>family_status_id</th>\n",
       "      <th>gender</th>\n",
       "      <th>income_type</th>\n",
       "      <th>debt</th>\n",
       "      <th>total_income</th>\n",
       "      <th>purpose</th>\n",
       "      <th>age_category</th>\n",
       "      <th>purpose_category</th>\n",
       "      <th>income_level</th>\n",
       "    </tr>\n",
       "  </thead>\n",
       "  <tbody>\n",
       "    <tr>\n",
       "      <th>0</th>\n",
       "      <td>0</td>\n",
       "      <td>0</td>\n",
       "      <td>0</td>\n",
       "      <td>0</td>\n",
       "      <td>0</td>\n",
       "      <td>1</td>\n",
       "      <td>8437.673028</td>\n",
       "      <td>42</td>\n",
       "      <td>bachelors degree</td>\n",
       "      <td>0</td>\n",
       "      <td>married</td>\n",
       "      <td>0</td>\n",
       "      <td>F</td>\n",
       "      <td>employee</td>\n",
       "      <td>0</td>\n",
       "      <td>40620.102</td>\n",
       "      <td>purchase of the house</td>\n",
       "      <td>40-49</td>\n",
       "      <td>housing</td>\n",
       "      <td>40000 - 50000</td>\n",
       "    </tr>\n",
       "    <tr>\n",
       "      <th>1</th>\n",
       "      <td>1</td>\n",
       "      <td>1</td>\n",
       "      <td>1</td>\n",
       "      <td>1</td>\n",
       "      <td>1</td>\n",
       "      <td>1</td>\n",
       "      <td>4024.803754</td>\n",
       "      <td>36</td>\n",
       "      <td>secondary education</td>\n",
       "      <td>1</td>\n",
       "      <td>married</td>\n",
       "      <td>0</td>\n",
       "      <td>F</td>\n",
       "      <td>employee</td>\n",
       "      <td>0</td>\n",
       "      <td>17932.802</td>\n",
       "      <td>car purchase</td>\n",
       "      <td>30-39</td>\n",
       "      <td>car</td>\n",
       "      <td>10000 - 20000</td>\n",
       "    </tr>\n",
       "    <tr>\n",
       "      <th>2</th>\n",
       "      <td>2</td>\n",
       "      <td>2</td>\n",
       "      <td>2</td>\n",
       "      <td>2</td>\n",
       "      <td>2</td>\n",
       "      <td>0</td>\n",
       "      <td>5623.422610</td>\n",
       "      <td>33</td>\n",
       "      <td>secondary education</td>\n",
       "      <td>1</td>\n",
       "      <td>married</td>\n",
       "      <td>0</td>\n",
       "      <td>M</td>\n",
       "      <td>employee</td>\n",
       "      <td>0</td>\n",
       "      <td>23341.752</td>\n",
       "      <td>purchase of the house</td>\n",
       "      <td>30-39</td>\n",
       "      <td>housing</td>\n",
       "      <td>20000 - 30000</td>\n",
       "    </tr>\n",
       "    <tr>\n",
       "      <th>3</th>\n",
       "      <td>3</td>\n",
       "      <td>3</td>\n",
       "      <td>3</td>\n",
       "      <td>3</td>\n",
       "      <td>3</td>\n",
       "      <td>3</td>\n",
       "      <td>4124.747207</td>\n",
       "      <td>32</td>\n",
       "      <td>secondary education</td>\n",
       "      <td>1</td>\n",
       "      <td>married</td>\n",
       "      <td>0</td>\n",
       "      <td>M</td>\n",
       "      <td>employee</td>\n",
       "      <td>0</td>\n",
       "      <td>42820.568</td>\n",
       "      <td>supplementary education</td>\n",
       "      <td>30-39</td>\n",
       "      <td>education</td>\n",
       "      <td>40000 - 50000</td>\n",
       "    </tr>\n",
       "    <tr>\n",
       "      <th>4</th>\n",
       "      <td>4</td>\n",
       "      <td>4</td>\n",
       "      <td>4</td>\n",
       "      <td>4</td>\n",
       "      <td>4</td>\n",
       "      <td>0</td>\n",
       "      <td>340266.072047</td>\n",
       "      <td>53</td>\n",
       "      <td>secondary education</td>\n",
       "      <td>1</td>\n",
       "      <td>civil partnership</td>\n",
       "      <td>1</td>\n",
       "      <td>F</td>\n",
       "      <td>retiree</td>\n",
       "      <td>0</td>\n",
       "      <td>25378.572</td>\n",
       "      <td>to have a wedding</td>\n",
       "      <td>50-59</td>\n",
       "      <td>wedding</td>\n",
       "      <td>20000 - 30000</td>\n",
       "    </tr>\n",
       "    <tr>\n",
       "      <th>5</th>\n",
       "      <td>5</td>\n",
       "      <td>5</td>\n",
       "      <td>5</td>\n",
       "      <td>5</td>\n",
       "      <td>5</td>\n",
       "      <td>0</td>\n",
       "      <td>926.185831</td>\n",
       "      <td>27</td>\n",
       "      <td>bachelors degree</td>\n",
       "      <td>0</td>\n",
       "      <td>civil partnership</td>\n",
       "      <td>1</td>\n",
       "      <td>M</td>\n",
       "      <td>business</td>\n",
       "      <td>0</td>\n",
       "      <td>40922.170</td>\n",
       "      <td>purchase of the house</td>\n",
       "      <td>20-29</td>\n",
       "      <td>housing</td>\n",
       "      <td>40000 - 50000</td>\n",
       "    </tr>\n",
       "    <tr>\n",
       "      <th>6</th>\n",
       "      <td>6</td>\n",
       "      <td>6</td>\n",
       "      <td>6</td>\n",
       "      <td>6</td>\n",
       "      <td>6</td>\n",
       "      <td>0</td>\n",
       "      <td>2879.202052</td>\n",
       "      <td>43</td>\n",
       "      <td>bachelors degree</td>\n",
       "      <td>0</td>\n",
       "      <td>married</td>\n",
       "      <td>0</td>\n",
       "      <td>F</td>\n",
       "      <td>business</td>\n",
       "      <td>0</td>\n",
       "      <td>38484.156</td>\n",
       "      <td>housing transactions</td>\n",
       "      <td>40-49</td>\n",
       "      <td>housing</td>\n",
       "      <td>30000 - 40000</td>\n",
       "    </tr>\n",
       "    <tr>\n",
       "      <th>7</th>\n",
       "      <td>7</td>\n",
       "      <td>7</td>\n",
       "      <td>7</td>\n",
       "      <td>7</td>\n",
       "      <td>7</td>\n",
       "      <td>0</td>\n",
       "      <td>152.779569</td>\n",
       "      <td>50</td>\n",
       "      <td>secondary education</td>\n",
       "      <td>1</td>\n",
       "      <td>married</td>\n",
       "      <td>0</td>\n",
       "      <td>M</td>\n",
       "      <td>employee</td>\n",
       "      <td>0</td>\n",
       "      <td>21731.829</td>\n",
       "      <td>education</td>\n",
       "      <td>50-59</td>\n",
       "      <td>education</td>\n",
       "      <td>20000 - 30000</td>\n",
       "    </tr>\n",
       "    <tr>\n",
       "      <th>8</th>\n",
       "      <td>8</td>\n",
       "      <td>8</td>\n",
       "      <td>8</td>\n",
       "      <td>8</td>\n",
       "      <td>8</td>\n",
       "      <td>2</td>\n",
       "      <td>6929.865299</td>\n",
       "      <td>35</td>\n",
       "      <td>bachelors degree</td>\n",
       "      <td>0</td>\n",
       "      <td>civil partnership</td>\n",
       "      <td>1</td>\n",
       "      <td>F</td>\n",
       "      <td>employee</td>\n",
       "      <td>0</td>\n",
       "      <td>15337.093</td>\n",
       "      <td>having a wedding</td>\n",
       "      <td>30-39</td>\n",
       "      <td>wedding</td>\n",
       "      <td>10000 - 20000</td>\n",
       "    </tr>\n",
       "    <tr>\n",
       "      <th>9</th>\n",
       "      <td>9</td>\n",
       "      <td>9</td>\n",
       "      <td>9</td>\n",
       "      <td>9</td>\n",
       "      <td>9</td>\n",
       "      <td>0</td>\n",
       "      <td>2188.756445</td>\n",
       "      <td>41</td>\n",
       "      <td>secondary education</td>\n",
       "      <td>1</td>\n",
       "      <td>married</td>\n",
       "      <td>0</td>\n",
       "      <td>M</td>\n",
       "      <td>employee</td>\n",
       "      <td>0</td>\n",
       "      <td>23108.150</td>\n",
       "      <td>purchase of the house for my family</td>\n",
       "      <td>40-49</td>\n",
       "      <td>housing</td>\n",
       "      <td>20000 - 30000</td>\n",
       "    </tr>\n",
       "  </tbody>\n",
       "</table>\n",
       "</div>"
      ],
      "text/plain": [
       "   Unnamed: 0  Unnamed: 0.1  Unnamed: 0.1.1  Unnamed: 0.1.1.1  \\\n",
       "0           0             0               0                 0   \n",
       "1           1             1               1                 1   \n",
       "2           2             2               2                 2   \n",
       "3           3             3               3                 3   \n",
       "4           4             4               4                 4   \n",
       "5           5             5               5                 5   \n",
       "6           6             6               6                 6   \n",
       "7           7             7               7                 7   \n",
       "8           8             8               8                 8   \n",
       "9           9             9               9                 9   \n",
       "\n",
       "   Unnamed: 0.1.1.1.1  children  days_employed  dob_years  \\\n",
       "0                   0         1    8437.673028         42   \n",
       "1                   1         1    4024.803754         36   \n",
       "2                   2         0    5623.422610         33   \n",
       "3                   3         3    4124.747207         32   \n",
       "4                   4         0  340266.072047         53   \n",
       "5                   5         0     926.185831         27   \n",
       "6                   6         0    2879.202052         43   \n",
       "7                   7         0     152.779569         50   \n",
       "8                   8         2    6929.865299         35   \n",
       "9                   9         0    2188.756445         41   \n",
       "\n",
       "             education  education_id      family_status  family_status_id  \\\n",
       "0     bachelors degree             0            married                 0   \n",
       "1  secondary education             1            married                 0   \n",
       "2  secondary education             1            married                 0   \n",
       "3  secondary education             1            married                 0   \n",
       "4  secondary education             1  civil partnership                 1   \n",
       "5     bachelors degree             0  civil partnership                 1   \n",
       "6     bachelors degree             0            married                 0   \n",
       "7  secondary education             1            married                 0   \n",
       "8     bachelors degree             0  civil partnership                 1   \n",
       "9  secondary education             1            married                 0   \n",
       "\n",
       "  gender income_type  debt  total_income                              purpose  \\\n",
       "0      F    employee     0     40620.102                purchase of the house   \n",
       "1      F    employee     0     17932.802                         car purchase   \n",
       "2      M    employee     0     23341.752                purchase of the house   \n",
       "3      M    employee     0     42820.568              supplementary education   \n",
       "4      F     retiree     0     25378.572                    to have a wedding   \n",
       "5      M    business     0     40922.170                purchase of the house   \n",
       "6      F    business     0     38484.156                 housing transactions   \n",
       "7      M    employee     0     21731.829                            education   \n",
       "8      F    employee     0     15337.093                     having a wedding   \n",
       "9      M    employee     0     23108.150  purchase of the house for my family   \n",
       "\n",
       "  age_category purpose_category   income_level  \n",
       "0        40-49          housing  40000 - 50000  \n",
       "1        30-39              car  10000 - 20000  \n",
       "2        30-39          housing  20000 - 30000  \n",
       "3        30-39        education  40000 - 50000  \n",
       "4        50-59          wedding  20000 - 30000  \n",
       "5        20-29          housing  40000 - 50000  \n",
       "6        40-49          housing  30000 - 40000  \n",
       "7        50-59        education  20000 - 30000  \n",
       "8        30-39          wedding  10000 - 20000  \n",
       "9        40-49          housing  20000 - 30000  "
      ]
     },
     "execution_count": 267,
     "metadata": {},
     "output_type": "execute_result"
    }
   ],
   "source": [
    "# Creating column with categories\n",
    "credit_score['income_level'] = credit_score.apply(income_category,axis=1)\n",
    "credit_score.head(10)"
   ]
  },
  {
   "cell_type": "code",
   "execution_count": 268,
   "metadata": {
    "scrolled": true
   },
   "outputs": [
    {
     "data": {
      "text/plain": [
       "20000 - 30000          7692\n",
       "10000 - 20000          6799\n",
       "30000 - 40000          3295\n",
       "40000 - 50000          1492\n",
       "less than 10000         926\n",
       "50000 -60000            648\n",
       "60000 - 70000           294\n",
       "70000 - 80000           157\n",
       "greater than 100000      88\n",
       "80000 - 90000            83\n",
       "90000 - 100000           40\n",
       "greater than 200000       9\n",
       "greater than 300000       2\n",
       "Name: income_level, dtype: int64"
      ]
     },
     "execution_count": 268,
     "metadata": {},
     "output_type": "execute_result"
    }
   ],
   "source": [
    "# Count each categories values to see the distribution\n",
    "credit_score['income_level'].value_counts()"
   ]
  },
  {
   "cell_type": "markdown",
   "metadata": {},
   "source": [
    "<b>The above analysis shows that most clients fall under the income level '10000-20000' and very few under the income level 'greater than 200000'</b>"
   ]
  },
  {
   "cell_type": "markdown",
   "metadata": {},
   "source": [
    "[Back to Contents](#back)"
   ]
  },
  {
   "cell_type": "markdown",
   "metadata": {},
   "source": [
    "<a id='hypothesis'></a>"
   ]
  },
  {
   "cell_type": "markdown",
   "metadata": {},
   "source": [
    "## Checking the Hypotheses\n"
   ]
  },
  {
   "cell_type": "markdown",
   "metadata": {},
   "source": [
    "**Is there a correlation between having children and paying back on time?**"
   ]
  },
  {
   "cell_type": "code",
   "execution_count": 269,
   "metadata": {
    "scrolled": true
   },
   "outputs": [
    {
     "data": {
      "text/html": [
       "<div>\n",
       "<style scoped>\n",
       "    .dataframe tbody tr th:only-of-type {\n",
       "        vertical-align: middle;\n",
       "    }\n",
       "\n",
       "    .dataframe tbody tr th {\n",
       "        vertical-align: top;\n",
       "    }\n",
       "\n",
       "    .dataframe thead th {\n",
       "        text-align: right;\n",
       "    }\n",
       "</style>\n",
       "<table border=\"1\" class=\"dataframe\">\n",
       "  <thead>\n",
       "    <tr style=\"text-align: right;\">\n",
       "      <th></th>\n",
       "      <th>debt</th>\n",
       "    </tr>\n",
       "    <tr>\n",
       "      <th>children</th>\n",
       "      <th></th>\n",
       "    </tr>\n",
       "  </thead>\n",
       "  <tbody>\n",
       "    <tr>\n",
       "      <th>0</th>\n",
       "      <td>1063</td>\n",
       "    </tr>\n",
       "    <tr>\n",
       "      <th>1</th>\n",
       "      <td>445</td>\n",
       "    </tr>\n",
       "    <tr>\n",
       "      <th>2</th>\n",
       "      <td>202</td>\n",
       "    </tr>\n",
       "    <tr>\n",
       "      <th>3</th>\n",
       "      <td>27</td>\n",
       "    </tr>\n",
       "    <tr>\n",
       "      <th>4</th>\n",
       "      <td>4</td>\n",
       "    </tr>\n",
       "    <tr>\n",
       "      <th>5</th>\n",
       "      <td>0</td>\n",
       "    </tr>\n",
       "  </tbody>\n",
       "</table>\n",
       "</div>"
      ],
      "text/plain": [
       "          debt\n",
       "children      \n",
       "0         1063\n",
       "1          445\n",
       "2          202\n",
       "3           27\n",
       "4            4\n",
       "5            0"
      ]
     },
     "execution_count": 269,
     "metadata": {},
     "output_type": "execute_result"
    }
   ],
   "source": [
    "# Check the children data and paying back on time\n",
    "\n",
    "credit_score['children'].value_counts()\n",
    "credit_score.groupby('children')['debt'].sum()\n",
    "# Calculating default-rate based on the number of children\n",
    "\n",
    "children_pivot_table =credit_score.pivot_table(index='children',values='debt',aggfunc='sum')\n",
    "children_pivot_table"
   ]
  },
  {
   "cell_type": "code",
   "execution_count": 270,
   "metadata": {
    "scrolled": true
   },
   "outputs": [
    {
     "data": {
      "text/html": [
       "<div>\n",
       "<style scoped>\n",
       "    .dataframe tbody tr th:only-of-type {\n",
       "        vertical-align: middle;\n",
       "    }\n",
       "\n",
       "    .dataframe tbody tr th {\n",
       "        vertical-align: top;\n",
       "    }\n",
       "\n",
       "    .dataframe thead tr th {\n",
       "        text-align: left;\n",
       "    }\n",
       "\n",
       "    .dataframe thead tr:last-of-type th {\n",
       "        text-align: right;\n",
       "    }\n",
       "</style>\n",
       "<table border=\"1\" class=\"dataframe\">\n",
       "  <thead>\n",
       "    <tr>\n",
       "      <th></th>\n",
       "      <th>count</th>\n",
       "      <th>sum</th>\n",
       "      <th>mean</th>\n",
       "    </tr>\n",
       "    <tr>\n",
       "      <th></th>\n",
       "      <th>debt</th>\n",
       "      <th>debt</th>\n",
       "      <th>debt</th>\n",
       "    </tr>\n",
       "    <tr>\n",
       "      <th>children</th>\n",
       "      <th></th>\n",
       "      <th></th>\n",
       "      <th></th>\n",
       "    </tr>\n",
       "  </thead>\n",
       "  <tbody>\n",
       "    <tr>\n",
       "      <th>0</th>\n",
       "      <td>14149</td>\n",
       "      <td>1063</td>\n",
       "      <td>0.075129</td>\n",
       "    </tr>\n",
       "    <tr>\n",
       "      <th>1</th>\n",
       "      <td>4865</td>\n",
       "      <td>445</td>\n",
       "      <td>0.091470</td>\n",
       "    </tr>\n",
       "    <tr>\n",
       "      <th>2</th>\n",
       "      <td>2131</td>\n",
       "      <td>202</td>\n",
       "      <td>0.094791</td>\n",
       "    </tr>\n",
       "    <tr>\n",
       "      <th>3</th>\n",
       "      <td>330</td>\n",
       "      <td>27</td>\n",
       "      <td>0.081818</td>\n",
       "    </tr>\n",
       "    <tr>\n",
       "      <th>4</th>\n",
       "      <td>41</td>\n",
       "      <td>4</td>\n",
       "      <td>0.097561</td>\n",
       "    </tr>\n",
       "    <tr>\n",
       "      <th>5</th>\n",
       "      <td>9</td>\n",
       "      <td>0</td>\n",
       "      <td>0.000000</td>\n",
       "    </tr>\n",
       "  </tbody>\n",
       "</table>\n",
       "</div>"
      ],
      "text/plain": [
       "          count   sum      mean\n",
       "           debt  debt      debt\n",
       "children                       \n",
       "0         14149  1063  0.075129\n",
       "1          4865   445  0.091470\n",
       "2          2131   202  0.094791\n",
       "3           330    27  0.081818\n",
       "4            41     4  0.097561\n",
       "5             9     0  0.000000"
      ]
     },
     "execution_count": 270,
     "metadata": {},
     "output_type": "execute_result"
    }
   ],
   "source": [
    "children_debtors_borrower_pivot_table =credit_score.pivot_table(index='children',values='debt',aggfunc=['count', 'sum', 'mean'])\n",
    "children_debtors_borrower_pivot_table"
   ]
  },
  {
   "cell_type": "markdown",
   "metadata": {},
   "source": [
    "**Conclusion :**  \n",
    "<b>  Based on our debtor - borrower comparison , children does impact paying back money.\n",
    "Debt for clients ith no children is less compared to debt for clients with children.</b>"
   ]
  },
  {
   "cell_type": "markdown",
   "metadata": {},
   "source": [
    "**Is there a correlation between family status and paying back on time?**"
   ]
  },
  {
   "cell_type": "code",
   "execution_count": 271,
   "metadata": {},
   "outputs": [
    {
     "data": {
      "text/html": [
       "<div>\n",
       "<style scoped>\n",
       "    .dataframe tbody tr th:only-of-type {\n",
       "        vertical-align: middle;\n",
       "    }\n",
       "\n",
       "    .dataframe tbody tr th {\n",
       "        vertical-align: top;\n",
       "    }\n",
       "\n",
       "    .dataframe thead th {\n",
       "        text-align: right;\n",
       "    }\n",
       "</style>\n",
       "<table border=\"1\" class=\"dataframe\">\n",
       "  <thead>\n",
       "    <tr style=\"text-align: right;\">\n",
       "      <th></th>\n",
       "      <th>debt</th>\n",
       "    </tr>\n",
       "    <tr>\n",
       "      <th>family_status</th>\n",
       "      <th></th>\n",
       "    </tr>\n",
       "  </thead>\n",
       "  <tbody>\n",
       "    <tr>\n",
       "      <th>civil partnership</th>\n",
       "      <td>388</td>\n",
       "    </tr>\n",
       "    <tr>\n",
       "      <th>divorced</th>\n",
       "      <td>85</td>\n",
       "    </tr>\n",
       "    <tr>\n",
       "      <th>married</th>\n",
       "      <td>931</td>\n",
       "    </tr>\n",
       "    <tr>\n",
       "      <th>unmarried</th>\n",
       "      <td>274</td>\n",
       "    </tr>\n",
       "    <tr>\n",
       "      <th>widow/widower</th>\n",
       "      <td>63</td>\n",
       "    </tr>\n",
       "  </tbody>\n",
       "</table>\n",
       "</div>"
      ],
      "text/plain": [
       "                   debt\n",
       "family_status          \n",
       "civil partnership   388\n",
       "divorced             85\n",
       "married             931\n",
       "unmarried           274\n",
       "widow/widower        63"
      ]
     },
     "execution_count": 271,
     "metadata": {},
     "output_type": "execute_result"
    }
   ],
   "source": [
    "# Check the family status data and paying back on time\n",
    "credit_score[credit_score['debt']==1].count() # Total number of debt =1741\n",
    "credit_score.groupby('family_status')['debt'].sum()\n",
    "\n",
    "# Calculating default-rate based on family status\n",
    "\n",
    "familystatus_pivot_table =credit_score.pivot_table(index='family_status',values='debt',aggfunc='sum')\n",
    "familystatus_pivot_table"
   ]
  },
  {
   "cell_type": "code",
   "execution_count": 272,
   "metadata": {},
   "outputs": [
    {
     "data": {
      "text/html": [
       "<div>\n",
       "<style scoped>\n",
       "    .dataframe tbody tr th:only-of-type {\n",
       "        vertical-align: middle;\n",
       "    }\n",
       "\n",
       "    .dataframe tbody tr th {\n",
       "        vertical-align: top;\n",
       "    }\n",
       "\n",
       "    .dataframe thead tr th {\n",
       "        text-align: left;\n",
       "    }\n",
       "\n",
       "    .dataframe thead tr:last-of-type th {\n",
       "        text-align: right;\n",
       "    }\n",
       "</style>\n",
       "<table border=\"1\" class=\"dataframe\">\n",
       "  <thead>\n",
       "    <tr>\n",
       "      <th></th>\n",
       "      <th>count</th>\n",
       "      <th>sum</th>\n",
       "      <th>mean</th>\n",
       "    </tr>\n",
       "    <tr>\n",
       "      <th></th>\n",
       "      <th>debt</th>\n",
       "      <th>debt</th>\n",
       "      <th>debt</th>\n",
       "    </tr>\n",
       "    <tr>\n",
       "      <th>family_status</th>\n",
       "      <th></th>\n",
       "      <th></th>\n",
       "      <th></th>\n",
       "    </tr>\n",
       "  </thead>\n",
       "  <tbody>\n",
       "    <tr>\n",
       "      <th>civil partnership</th>\n",
       "      <td>4177</td>\n",
       "      <td>388</td>\n",
       "      <td>0.092890</td>\n",
       "    </tr>\n",
       "    <tr>\n",
       "      <th>divorced</th>\n",
       "      <td>1195</td>\n",
       "      <td>85</td>\n",
       "      <td>0.071130</td>\n",
       "    </tr>\n",
       "    <tr>\n",
       "      <th>married</th>\n",
       "      <td>12380</td>\n",
       "      <td>931</td>\n",
       "      <td>0.075202</td>\n",
       "    </tr>\n",
       "    <tr>\n",
       "      <th>unmarried</th>\n",
       "      <td>2813</td>\n",
       "      <td>274</td>\n",
       "      <td>0.097405</td>\n",
       "    </tr>\n",
       "    <tr>\n",
       "      <th>widow/widower</th>\n",
       "      <td>960</td>\n",
       "      <td>63</td>\n",
       "      <td>0.065625</td>\n",
       "    </tr>\n",
       "  </tbody>\n",
       "</table>\n",
       "</div>"
      ],
      "text/plain": [
       "                   count  sum      mean\n",
       "                    debt debt      debt\n",
       "family_status                          \n",
       "civil partnership   4177  388  0.092890\n",
       "divorced            1195   85  0.071130\n",
       "married            12380  931  0.075202\n",
       "unmarried           2813  274  0.097405\n",
       "widow/widower        960   63  0.065625"
      ]
     },
     "execution_count": 272,
     "metadata": {},
     "output_type": "execute_result"
    }
   ],
   "source": [
    "family_status_debtors_borrower_pivot_table =credit_score.pivot_table(index='family_status',values='debt',aggfunc=['count', 'sum', 'mean'])\n",
    "family_status_debtors_borrower_pivot_table"
   ]
  },
  {
   "cell_type": "markdown",
   "metadata": {},
   "source": [
    "**Conclusion**\n",
    "\n",
    "<b>Unmarried  clients have trouble paying back on time which concludes that marriage does not impact paying back on time.</b>"
   ]
  },
  {
   "cell_type": "markdown",
   "metadata": {},
   "source": [
    "**Is there a correlation between income level and paying back on time?**"
   ]
  },
  {
   "cell_type": "code",
   "execution_count": 273,
   "metadata": {},
   "outputs": [
    {
     "data": {
      "text/html": [
       "<div>\n",
       "<style scoped>\n",
       "    .dataframe tbody tr th:only-of-type {\n",
       "        vertical-align: middle;\n",
       "    }\n",
       "\n",
       "    .dataframe tbody tr th {\n",
       "        vertical-align: top;\n",
       "    }\n",
       "\n",
       "    .dataframe thead th {\n",
       "        text-align: right;\n",
       "    }\n",
       "</style>\n",
       "<table border=\"1\" class=\"dataframe\">\n",
       "  <thead>\n",
       "    <tr style=\"text-align: right;\">\n",
       "      <th></th>\n",
       "      <th>debt</th>\n",
       "    </tr>\n",
       "    <tr>\n",
       "      <th>income_level</th>\n",
       "      <th></th>\n",
       "    </tr>\n",
       "  </thead>\n",
       "  <tbody>\n",
       "    <tr>\n",
       "      <th>10000 - 20000</th>\n",
       "      <td>580</td>\n",
       "    </tr>\n",
       "    <tr>\n",
       "      <th>20000 - 30000</th>\n",
       "      <td>659</td>\n",
       "    </tr>\n",
       "    <tr>\n",
       "      <th>30000 - 40000</th>\n",
       "      <td>250</td>\n",
       "    </tr>\n",
       "    <tr>\n",
       "      <th>40000 - 50000</th>\n",
       "      <td>102</td>\n",
       "    </tr>\n",
       "    <tr>\n",
       "      <th>50000 -60000</th>\n",
       "      <td>54</td>\n",
       "    </tr>\n",
       "    <tr>\n",
       "      <th>60000 - 70000</th>\n",
       "      <td>16</td>\n",
       "    </tr>\n",
       "    <tr>\n",
       "      <th>70000 - 80000</th>\n",
       "      <td>8</td>\n",
       "    </tr>\n",
       "    <tr>\n",
       "      <th>80000 - 90000</th>\n",
       "      <td>6</td>\n",
       "    </tr>\n",
       "    <tr>\n",
       "      <th>90000 - 100000</th>\n",
       "      <td>2</td>\n",
       "    </tr>\n",
       "    <tr>\n",
       "      <th>greater than 100000</th>\n",
       "      <td>5</td>\n",
       "    </tr>\n",
       "    <tr>\n",
       "      <th>greater than 200000</th>\n",
       "      <td>0</td>\n",
       "    </tr>\n",
       "    <tr>\n",
       "      <th>greater than 300000</th>\n",
       "      <td>1</td>\n",
       "    </tr>\n",
       "    <tr>\n",
       "      <th>less than 10000</th>\n",
       "      <td>58</td>\n",
       "    </tr>\n",
       "  </tbody>\n",
       "</table>\n",
       "</div>"
      ],
      "text/plain": [
       "                     debt\n",
       "income_level             \n",
       "10000 - 20000         580\n",
       "20000 - 30000         659\n",
       "30000 - 40000         250\n",
       "40000 - 50000         102\n",
       "50000 -60000           54\n",
       "60000 - 70000          16\n",
       "70000 - 80000           8\n",
       "80000 - 90000           6\n",
       "90000 - 100000          2\n",
       "greater than 100000     5\n",
       "greater than 200000     0\n",
       "greater than 300000     1\n",
       "less than 10000        58"
      ]
     },
     "execution_count": 273,
     "metadata": {},
     "output_type": "execute_result"
    }
   ],
   "source": [
    "# Check the income level data and paying back on time\n",
    "\n",
    "credit_score.groupby('income_level')['debt'].sum()\n",
    "\n",
    "# Calculating default-rate based on income level\n",
    "default_income_level = 1571/1741  # 0.9   [1571 - sum of debt based on income level / 1741 -total sum of debt] \n",
    "income_pivot_table =credit_score.pivot_table(index='income_level',values='debt',aggfunc='sum')\n",
    "income_pivot_table\n"
   ]
  },
  {
   "cell_type": "code",
   "execution_count": 274,
   "metadata": {},
   "outputs": [
    {
     "data": {
      "text/html": [
       "<div>\n",
       "<style scoped>\n",
       "    .dataframe tbody tr th:only-of-type {\n",
       "        vertical-align: middle;\n",
       "    }\n",
       "\n",
       "    .dataframe tbody tr th {\n",
       "        vertical-align: top;\n",
       "    }\n",
       "\n",
       "    .dataframe thead tr th {\n",
       "        text-align: left;\n",
       "    }\n",
       "\n",
       "    .dataframe thead tr:last-of-type th {\n",
       "        text-align: right;\n",
       "    }\n",
       "</style>\n",
       "<table border=\"1\" class=\"dataframe\">\n",
       "  <thead>\n",
       "    <tr>\n",
       "      <th></th>\n",
       "      <th>count</th>\n",
       "      <th>sum</th>\n",
       "      <th>mean</th>\n",
       "    </tr>\n",
       "    <tr>\n",
       "      <th></th>\n",
       "      <th>debt</th>\n",
       "      <th>debt</th>\n",
       "      <th>debt</th>\n",
       "    </tr>\n",
       "    <tr>\n",
       "      <th>income_level</th>\n",
       "      <th></th>\n",
       "      <th></th>\n",
       "      <th></th>\n",
       "    </tr>\n",
       "  </thead>\n",
       "  <tbody>\n",
       "    <tr>\n",
       "      <th>10000 - 20000</th>\n",
       "      <td>6799</td>\n",
       "      <td>580</td>\n",
       "      <td>0.085307</td>\n",
       "    </tr>\n",
       "    <tr>\n",
       "      <th>20000 - 30000</th>\n",
       "      <td>7692</td>\n",
       "      <td>659</td>\n",
       "      <td>0.085673</td>\n",
       "    </tr>\n",
       "    <tr>\n",
       "      <th>30000 - 40000</th>\n",
       "      <td>3295</td>\n",
       "      <td>250</td>\n",
       "      <td>0.075873</td>\n",
       "    </tr>\n",
       "    <tr>\n",
       "      <th>40000 - 50000</th>\n",
       "      <td>1492</td>\n",
       "      <td>102</td>\n",
       "      <td>0.068365</td>\n",
       "    </tr>\n",
       "    <tr>\n",
       "      <th>50000 -60000</th>\n",
       "      <td>648</td>\n",
       "      <td>54</td>\n",
       "      <td>0.083333</td>\n",
       "    </tr>\n",
       "    <tr>\n",
       "      <th>60000 - 70000</th>\n",
       "      <td>294</td>\n",
       "      <td>16</td>\n",
       "      <td>0.054422</td>\n",
       "    </tr>\n",
       "    <tr>\n",
       "      <th>70000 - 80000</th>\n",
       "      <td>157</td>\n",
       "      <td>8</td>\n",
       "      <td>0.050955</td>\n",
       "    </tr>\n",
       "    <tr>\n",
       "      <th>80000 - 90000</th>\n",
       "      <td>83</td>\n",
       "      <td>6</td>\n",
       "      <td>0.072289</td>\n",
       "    </tr>\n",
       "    <tr>\n",
       "      <th>90000 - 100000</th>\n",
       "      <td>40</td>\n",
       "      <td>2</td>\n",
       "      <td>0.050000</td>\n",
       "    </tr>\n",
       "    <tr>\n",
       "      <th>greater than 100000</th>\n",
       "      <td>88</td>\n",
       "      <td>5</td>\n",
       "      <td>0.056818</td>\n",
       "    </tr>\n",
       "    <tr>\n",
       "      <th>greater than 200000</th>\n",
       "      <td>9</td>\n",
       "      <td>0</td>\n",
       "      <td>0.000000</td>\n",
       "    </tr>\n",
       "    <tr>\n",
       "      <th>greater than 300000</th>\n",
       "      <td>2</td>\n",
       "      <td>1</td>\n",
       "      <td>0.500000</td>\n",
       "    </tr>\n",
       "    <tr>\n",
       "      <th>less than 10000</th>\n",
       "      <td>926</td>\n",
       "      <td>58</td>\n",
       "      <td>0.062635</td>\n",
       "    </tr>\n",
       "  </tbody>\n",
       "</table>\n",
       "</div>"
      ],
      "text/plain": [
       "                    count  sum      mean\n",
       "                     debt debt      debt\n",
       "income_level                            \n",
       "10000 - 20000        6799  580  0.085307\n",
       "20000 - 30000        7692  659  0.085673\n",
       "30000 - 40000        3295  250  0.075873\n",
       "40000 - 50000        1492  102  0.068365\n",
       "50000 -60000          648   54  0.083333\n",
       "60000 - 70000         294   16  0.054422\n",
       "70000 - 80000         157    8  0.050955\n",
       "80000 - 90000          83    6  0.072289\n",
       "90000 - 100000         40    2  0.050000\n",
       "greater than 100000    88    5  0.056818\n",
       "greater than 200000     9    0  0.000000\n",
       "greater than 300000     2    1  0.500000\n",
       "less than 10000       926   58  0.062635"
      ]
     },
     "execution_count": 274,
     "metadata": {},
     "output_type": "execute_result"
    }
   ],
   "source": [
    "income_debtors_borrower_pivot_table =credit_score.pivot_table(index='income_level',values='debt',aggfunc=['count', 'sum', 'mean'])\n",
    "income_debtors_borrower_pivot_table"
   ]
  },
  {
   "cell_type": "markdown",
   "metadata": {},
   "source": [
    "**Conclusion**\n",
    "\n",
    "<b>Income level shows impact on paying back .Clients with  income level (10000-3000) and (5000-6000)have higher debt as per our analysis.</b>"
   ]
  },
  {
   "cell_type": "markdown",
   "metadata": {},
   "source": [
    "**How does credit purpose affect the default rate?**"
   ]
  },
  {
   "cell_type": "code",
   "execution_count": 275,
   "metadata": {},
   "outputs": [
    {
     "data": {
      "text/html": [
       "<div>\n",
       "<style scoped>\n",
       "    .dataframe tbody tr th:only-of-type {\n",
       "        vertical-align: middle;\n",
       "    }\n",
       "\n",
       "    .dataframe tbody tr th {\n",
       "        vertical-align: top;\n",
       "    }\n",
       "\n",
       "    .dataframe thead th {\n",
       "        text-align: right;\n",
       "    }\n",
       "</style>\n",
       "<table border=\"1\" class=\"dataframe\">\n",
       "  <thead>\n",
       "    <tr style=\"text-align: right;\">\n",
       "      <th></th>\n",
       "      <th>debt</th>\n",
       "    </tr>\n",
       "    <tr>\n",
       "      <th>purpose_category</th>\n",
       "      <th></th>\n",
       "    </tr>\n",
       "  </thead>\n",
       "  <tbody>\n",
       "    <tr>\n",
       "      <th>car</th>\n",
       "      <td>403</td>\n",
       "    </tr>\n",
       "    <tr>\n",
       "      <th>education</th>\n",
       "      <td>370</td>\n",
       "    </tr>\n",
       "    <tr>\n",
       "      <th>housing</th>\n",
       "      <td>256</td>\n",
       "    </tr>\n",
       "    <tr>\n",
       "      <th>real estate</th>\n",
       "      <td>526</td>\n",
       "    </tr>\n",
       "    <tr>\n",
       "      <th>wedding</th>\n",
       "      <td>186</td>\n",
       "    </tr>\n",
       "  </tbody>\n",
       "</table>\n",
       "</div>"
      ],
      "text/plain": [
       "                  debt\n",
       "purpose_category      \n",
       "car                403\n",
       "education          370\n",
       "housing            256\n",
       "real estate        526\n",
       "wedding            186"
      ]
     },
     "execution_count": 275,
     "metadata": {},
     "output_type": "execute_result"
    }
   ],
   "source": [
    "# Check the percentages for default rate for each credit purpose and analyze them\n",
    "\n",
    "credit_score['purpose_category'].value_counts()\n",
    "credit_score.groupby('purpose_category')['debt'].sum() # \n",
    "car_percentage = (403/1741) * 100        #23%\n",
    "education_percentage = (370/1741)*100    #21%\n",
    "housing_percentage = (256/1741)*100      #14%\n",
    "realestate_percentage = (526/1741)*100   #30%\n",
    "wedding_percentage = (186/1741)*100      #10%\n",
    "\n",
    "purpose_pivot_table =credit_score.pivot_table(index='purpose_category',values='debt',aggfunc='sum')\n",
    "purpose_pivot_table"
   ]
  },
  {
   "cell_type": "code",
   "execution_count": 276,
   "metadata": {},
   "outputs": [
    {
     "data": {
      "text/html": [
       "<div>\n",
       "<style scoped>\n",
       "    .dataframe tbody tr th:only-of-type {\n",
       "        vertical-align: middle;\n",
       "    }\n",
       "\n",
       "    .dataframe tbody tr th {\n",
       "        vertical-align: top;\n",
       "    }\n",
       "\n",
       "    .dataframe thead tr th {\n",
       "        text-align: left;\n",
       "    }\n",
       "\n",
       "    .dataframe thead tr:last-of-type th {\n",
       "        text-align: right;\n",
       "    }\n",
       "</style>\n",
       "<table border=\"1\" class=\"dataframe\">\n",
       "  <thead>\n",
       "    <tr>\n",
       "      <th></th>\n",
       "      <th>count</th>\n",
       "      <th>sum</th>\n",
       "      <th>mean</th>\n",
       "    </tr>\n",
       "    <tr>\n",
       "      <th></th>\n",
       "      <th>debt</th>\n",
       "      <th>debt</th>\n",
       "      <th>debt</th>\n",
       "    </tr>\n",
       "    <tr>\n",
       "      <th>purpose_category</th>\n",
       "      <th></th>\n",
       "      <th></th>\n",
       "      <th></th>\n",
       "    </tr>\n",
       "  </thead>\n",
       "  <tbody>\n",
       "    <tr>\n",
       "      <th>car</th>\n",
       "      <td>4315</td>\n",
       "      <td>403</td>\n",
       "      <td>0.093395</td>\n",
       "    </tr>\n",
       "    <tr>\n",
       "      <th>education</th>\n",
       "      <td>4022</td>\n",
       "      <td>370</td>\n",
       "      <td>0.091994</td>\n",
       "    </tr>\n",
       "    <tr>\n",
       "      <th>housing</th>\n",
       "      <td>3820</td>\n",
       "      <td>256</td>\n",
       "      <td>0.067016</td>\n",
       "    </tr>\n",
       "    <tr>\n",
       "      <th>real estate</th>\n",
       "      <td>7020</td>\n",
       "      <td>526</td>\n",
       "      <td>0.074929</td>\n",
       "    </tr>\n",
       "    <tr>\n",
       "      <th>wedding</th>\n",
       "      <td>2348</td>\n",
       "      <td>186</td>\n",
       "      <td>0.079216</td>\n",
       "    </tr>\n",
       "  </tbody>\n",
       "</table>\n",
       "</div>"
      ],
      "text/plain": [
       "                 count  sum      mean\n",
       "                  debt debt      debt\n",
       "purpose_category                     \n",
       "car               4315  403  0.093395\n",
       "education         4022  370  0.091994\n",
       "housing           3820  256  0.067016\n",
       "real estate       7020  526  0.074929\n",
       "wedding           2348  186  0.079216"
      ]
     },
     "execution_count": 276,
     "metadata": {},
     "output_type": "execute_result"
    }
   ],
   "source": [
    "purpose_debtors_borrower_pivot_table =credit_score.pivot_table(index='purpose_category',values='debt',aggfunc=['count', 'sum', 'mean'])\n",
    "purpose_debtors_borrower_pivot_table"
   ]
  },
  {
   "cell_type": "markdown",
   "metadata": {},
   "source": [
    "**Conclusion**\n",
    "\n",
    "<b>Clients who got loan under the 'eduction' and 'car' category shows higher chances of debt.</b>\n"
   ]
  },
  {
   "cell_type": "markdown",
   "metadata": {},
   "source": [
    "[Back to Contents](#back)"
   ]
  },
  {
   "cell_type": "markdown",
   "metadata": {},
   "source": [
    "<a id='end'></a>"
   ]
  },
  {
   "cell_type": "markdown",
   "metadata": {},
   "source": [
    "# Final Conclusion \n",
    "\n",
    "Original dataset revealed missing values in 'days_employed' and 'total_income'\n",
    "Though 'days_employed' doesn't relate to our analysis , we fixed the issues related to it\n",
    "as best practise.\n",
    "1.Missing values replaced with median as we have huge difference between the range\n",
    "2.Type changed from float for int as days cannot be float\n",
    "3..\n",
    "Negative values are changed to Positive values as days cannot be negative.\n",
    "\n",
    "'total_income'\n",
    "'total_income' relates to debt and hence has to be fixed.\n",
    "Since 'total_income' ranges from 3000 to 300000 , we go for categorising it to help our analysis.\n",
    "Type is changed from float to int for efficient categorising of data\n",
    "\n",
    "'children' column had some negative values which were replaced by mean after proper analysis.\n",
    "\n",
    "'purpose' column had many values which meant the same in different ways.So ,we categorised \n",
    "purpose to basic 5 categories.\n",
    "\n",
    "Duplicates were identified and it removed as it constituted very less percentage and also its removal\n",
    "didnt impact the analysis.\n",
    "\n",
    "Some spelling issues were fixed with columns to help with text manipulation.\n",
    "\n",
    "After working on missing values,duplicates and categorising data , we worked on hypothesis by\n",
    "creating pivot table for closer analysis of details .\n",
    "\n",
    "Is there a correlation between having children and paying back on time?\n",
    "Based on the above analysis , we conclude that children does impact paying back on time. We see client with 0 children have less debt compared to client with children.\n",
    "\n",
    "Is there a correlation between family status and paying back on time?\n",
    "Unmarried clients have trouble paying back on time which concludes that marriage doesnot negatively impact paying back on time.\n",
    "\n",
    "Is there a correlation between income level and paying back on time?\n",
    "Income level has impact on paying back . Clients with income level (10000-3000) have higher debt as per our analysis.\n",
    "\n",
    "How does credit purpose affect the default rate?\n",
    "Clients who got loan under the 'education' and 'car' category shows higher chances of debt.\n"
   ]
  },
  {
   "cell_type": "markdown",
   "metadata": {},
   "source": [
    "[Back to Contents](#back)"
   ]
  }
 ],
 "metadata": {
  "ExecuteTimeLog": [
   {
    "duration": 2741,
    "start_time": "2021-10-21T01:08:49.480Z"
   },
   {
    "duration": 52,
    "start_time": "2021-10-21T01:08:53.315Z"
   },
   {
    "duration": 49,
    "start_time": "2021-10-21T01:08:57.432Z"
   },
   {
    "duration": 70,
    "start_time": "2021-10-21T01:09:07.706Z"
   },
   {
    "duration": 683,
    "start_time": "2021-11-08T06:15:40.119Z"
   },
   {
    "duration": 51,
    "start_time": "2021-11-08T06:15:57.945Z"
   },
   {
    "duration": 9,
    "start_time": "2021-11-08T06:17:33.906Z"
   },
   {
    "duration": 13,
    "start_time": "2021-11-08T06:18:12.946Z"
   },
   {
    "duration": 11,
    "start_time": "2021-11-08T06:23:48.713Z"
   },
   {
    "duration": 559,
    "start_time": "2021-11-08T06:26:53.420Z"
   },
   {
    "duration": 10,
    "start_time": "2021-11-08T06:27:46.482Z"
   },
   {
    "duration": 5,
    "start_time": "2021-11-08T06:29:02.765Z"
   },
   {
    "duration": 5,
    "start_time": "2021-11-08T06:29:27.536Z"
   },
   {
    "duration": -310,
    "start_time": "2021-11-08T06:32:56.799Z"
   },
   {
    "duration": 49,
    "start_time": "2021-11-08T06:33:07.167Z"
   },
   {
    "duration": 4,
    "start_time": "2021-11-08T06:33:07.218Z"
   },
   {
    "duration": 14,
    "start_time": "2021-11-08T06:33:07.225Z"
   },
   {
    "duration": 10,
    "start_time": "2021-11-08T06:33:07.245Z"
   },
   {
    "duration": 8788,
    "start_time": "2021-11-08T06:33:31.669Z"
   },
   {
    "duration": 6,
    "start_time": "2021-11-08T06:34:30.968Z"
   },
   {
    "duration": 6,
    "start_time": "2021-11-08T06:35:38.754Z"
   },
   {
    "duration": 6,
    "start_time": "2021-11-08T06:36:01.631Z"
   },
   {
    "duration": 6,
    "start_time": "2021-11-08T06:36:48.823Z"
   },
   {
    "duration": 5,
    "start_time": "2021-11-08T06:37:00.598Z"
   },
   {
    "duration": 5,
    "start_time": "2021-11-08T06:37:17.774Z"
   },
   {
    "duration": 5,
    "start_time": "2021-11-08T06:37:40.423Z"
   },
   {
    "duration": 279,
    "start_time": "2021-11-08T06:46:47.386Z"
   },
   {
    "duration": 20,
    "start_time": "2021-11-08T06:47:36.880Z"
   },
   {
    "duration": 21,
    "start_time": "2021-11-08T06:49:34.765Z"
   },
   {
    "duration": 21,
    "start_time": "2021-11-08T06:49:45.321Z"
   },
   {
    "duration": 10,
    "start_time": "2021-11-08T06:53:03.928Z"
   },
   {
    "duration": 26,
    "start_time": "2021-11-08T06:54:47.487Z"
   },
   {
    "duration": 279,
    "start_time": "2021-11-08T13:38:03.054Z"
   },
   {
    "duration": 644,
    "start_time": "2021-11-08T13:38:26.926Z"
   },
   {
    "duration": 8,
    "start_time": "2021-11-08T13:38:27.573Z"
   },
   {
    "duration": 55,
    "start_time": "2021-11-08T13:38:36.317Z"
   },
   {
    "duration": 4,
    "start_time": "2021-11-08T13:38:36.375Z"
   },
   {
    "duration": 27,
    "start_time": "2021-11-08T13:38:36.381Z"
   },
   {
    "duration": 10,
    "start_time": "2021-11-08T13:38:36.410Z"
   },
   {
    "duration": 7,
    "start_time": "2021-11-08T13:38:36.422Z"
   },
   {
    "duration": 55,
    "start_time": "2021-11-08T13:38:36.431Z"
   },
   {
    "duration": 2,
    "start_time": "2021-11-08T13:38:36.487Z"
   },
   {
    "duration": 9,
    "start_time": "2021-11-08T13:38:36.491Z"
   },
   {
    "duration": 7,
    "start_time": "2021-11-08T13:38:36.501Z"
   },
   {
    "duration": 8,
    "start_time": "2021-11-08T13:38:36.509Z"
   },
   {
    "duration": 5,
    "start_time": "2021-11-08T13:38:36.518Z"
   },
   {
    "duration": 5,
    "start_time": "2021-11-08T13:38:36.525Z"
   },
   {
    "duration": 8,
    "start_time": "2021-11-08T13:38:36.532Z"
   },
   {
    "duration": 8,
    "start_time": "2021-11-08T13:38:36.541Z"
   },
   {
    "duration": 3,
    "start_time": "2021-11-08T13:38:36.563Z"
   },
   {
    "duration": 6,
    "start_time": "2021-11-08T13:38:36.568Z"
   },
   {
    "duration": 7,
    "start_time": "2021-11-08T13:38:36.576Z"
   },
   {
    "duration": 7,
    "start_time": "2021-11-08T13:38:36.584Z"
   },
   {
    "duration": 7,
    "start_time": "2021-11-08T13:38:36.592Z"
   },
   {
    "duration": 16,
    "start_time": "2021-11-08T13:38:36.601Z"
   },
   {
    "duration": 6,
    "start_time": "2021-11-08T13:38:36.619Z"
   },
   {
    "duration": 15,
    "start_time": "2021-11-08T13:38:36.627Z"
   },
   {
    "duration": 14,
    "start_time": "2021-11-08T13:38:36.643Z"
   },
   {
    "duration": 17,
    "start_time": "2021-11-08T13:38:36.658Z"
   },
   {
    "duration": 7,
    "start_time": "2021-11-08T13:38:36.677Z"
   },
   {
    "duration": 8,
    "start_time": "2021-11-08T13:38:36.686Z"
   },
   {
    "duration": 11,
    "start_time": "2021-11-08T13:38:36.697Z"
   },
   {
    "duration": 12,
    "start_time": "2021-11-08T13:38:36.709Z"
   },
   {
    "duration": 12,
    "start_time": "2021-11-08T13:38:36.723Z"
   },
   {
    "duration": 20,
    "start_time": "2021-11-08T13:38:36.737Z"
   },
   {
    "duration": 9,
    "start_time": "2021-11-08T13:38:36.758Z"
   },
   {
    "duration": 8,
    "start_time": "2021-11-08T13:38:36.769Z"
   },
   {
    "duration": 8,
    "start_time": "2021-11-08T13:38:36.778Z"
   },
   {
    "duration": 9,
    "start_time": "2021-11-08T13:38:36.788Z"
   },
   {
    "duration": 12,
    "start_time": "2021-11-08T13:38:36.799Z"
   },
   {
    "duration": 14,
    "start_time": "2021-11-08T13:38:36.812Z"
   },
   {
    "duration": 11,
    "start_time": "2021-11-08T13:38:36.828Z"
   },
   {
    "duration": 13,
    "start_time": "2021-11-08T13:38:36.841Z"
   },
   {
    "duration": 9,
    "start_time": "2021-11-08T13:38:36.856Z"
   },
   {
    "duration": 9,
    "start_time": "2021-11-08T13:38:36.867Z"
   },
   {
    "duration": 13,
    "start_time": "2021-11-08T13:38:36.878Z"
   },
   {
    "duration": 5,
    "start_time": "2021-11-08T13:38:36.895Z"
   },
   {
    "duration": 12,
    "start_time": "2021-11-08T13:38:36.902Z"
   },
   {
    "duration": 7,
    "start_time": "2021-11-08T13:38:36.916Z"
   },
   {
    "duration": 8,
    "start_time": "2021-11-08T13:38:36.924Z"
   },
   {
    "duration": 8,
    "start_time": "2021-11-08T13:38:36.934Z"
   },
   {
    "duration": 10,
    "start_time": "2021-11-08T13:38:36.943Z"
   },
   {
    "duration": 9,
    "start_time": "2021-11-08T13:38:36.955Z"
   },
   {
    "duration": 10,
    "start_time": "2021-11-08T13:38:36.966Z"
   },
   {
    "duration": 9,
    "start_time": "2021-11-08T13:38:36.977Z"
   },
   {
    "duration": 11,
    "start_time": "2021-11-08T13:38:36.988Z"
   },
   {
    "duration": 8,
    "start_time": "2021-11-08T13:38:37.001Z"
   },
   {
    "duration": 12,
    "start_time": "2021-11-08T13:38:37.010Z"
   },
   {
    "duration": 11,
    "start_time": "2021-11-08T13:38:37.024Z"
   },
   {
    "duration": 15,
    "start_time": "2021-11-08T13:38:37.037Z"
   },
   {
    "duration": 11,
    "start_time": "2021-11-08T13:38:37.054Z"
   },
   {
    "duration": 13,
    "start_time": "2021-11-08T13:38:37.067Z"
   },
   {
    "duration": 10,
    "start_time": "2021-11-08T13:38:37.081Z"
   },
   {
    "duration": 10,
    "start_time": "2021-11-08T13:38:37.093Z"
   },
   {
    "duration": 26,
    "start_time": "2021-11-08T13:38:37.105Z"
   },
   {
    "duration": 8,
    "start_time": "2021-11-08T13:38:37.133Z"
   },
   {
    "duration": 13,
    "start_time": "2021-11-08T13:38:37.143Z"
   },
   {
    "duration": 14,
    "start_time": "2021-11-08T13:38:37.158Z"
   },
   {
    "duration": 8,
    "start_time": "2021-11-08T13:38:37.173Z"
   },
   {
    "duration": 7,
    "start_time": "2021-11-08T13:38:37.183Z"
   },
   {
    "duration": 9,
    "start_time": "2021-11-08T13:38:37.192Z"
   },
   {
    "duration": 7,
    "start_time": "2021-11-08T13:38:37.203Z"
   },
   {
    "duration": 9,
    "start_time": "2021-11-08T13:38:37.212Z"
   },
   {
    "duration": 10,
    "start_time": "2021-11-08T13:38:37.222Z"
   },
   {
    "duration": 8,
    "start_time": "2021-11-08T13:38:37.233Z"
   },
   {
    "duration": 9,
    "start_time": "2021-11-08T13:38:37.243Z"
   },
   {
    "duration": 23,
    "start_time": "2021-11-08T14:56:59.293Z"
   },
   {
    "duration": 51,
    "start_time": "2021-11-08T14:57:23.499Z"
   },
   {
    "duration": 3,
    "start_time": "2021-11-08T14:57:23.553Z"
   },
   {
    "duration": 20,
    "start_time": "2021-11-08T14:57:27.061Z"
   },
   {
    "duration": 21,
    "start_time": "2021-11-08T14:58:09.554Z"
   },
   {
    "duration": 1811,
    "start_time": "2021-11-08T15:03:02.710Z"
   },
   {
    "duration": -327,
    "start_time": "2021-11-08T15:03:52.706Z"
   },
   {
    "duration": 5933,
    "start_time": "2021-11-08T15:04:07.692Z"
   },
   {
    "duration": 10,
    "start_time": "2021-11-08T17:09:30.611Z"
   },
   {
    "duration": 233,
    "start_time": "2021-11-08T17:10:26.567Z"
   },
   {
    "duration": 9,
    "start_time": "2021-11-08T17:11:18.846Z"
   },
   {
    "duration": 10,
    "start_time": "2021-11-08T17:12:18.804Z"
   },
   {
    "duration": 6,
    "start_time": "2021-11-08T17:12:56.956Z"
   },
   {
    "duration": 7,
    "start_time": "2021-11-08T17:13:35.597Z"
   },
   {
    "duration": 9,
    "start_time": "2021-11-08T17:14:00.380Z"
   },
   {
    "duration": -341,
    "start_time": "2021-11-08T17:16:01.041Z"
   },
   {
    "duration": -317,
    "start_time": "2021-11-08T17:16:26.845Z"
   },
   {
    "duration": -314,
    "start_time": "2021-11-08T17:16:54.491Z"
   },
   {
    "duration": -334,
    "start_time": "2021-11-08T17:16:54.512Z"
   },
   {
    "duration": -355,
    "start_time": "2021-11-08T17:16:54.534Z"
   },
   {
    "duration": -573,
    "start_time": "2021-11-08T17:16:54.753Z"
   },
   {
    "duration": -592,
    "start_time": "2021-11-08T17:16:54.773Z"
   },
   {
    "duration": -624,
    "start_time": "2021-11-08T17:16:54.807Z"
   },
   {
    "duration": -645,
    "start_time": "2021-11-08T17:16:54.829Z"
   },
   {
    "duration": -664,
    "start_time": "2021-11-08T17:16:54.849Z"
   },
   {
    "duration": -676,
    "start_time": "2021-11-08T17:16:54.861Z"
   },
   {
    "duration": -704,
    "start_time": "2021-11-08T17:16:54.890Z"
   },
   {
    "duration": -725,
    "start_time": "2021-11-08T17:16:54.912Z"
   },
   {
    "duration": -743,
    "start_time": "2021-11-08T17:16:54.931Z"
   },
   {
    "duration": -754,
    "start_time": "2021-11-08T17:16:54.943Z"
   },
   {
    "duration": -782,
    "start_time": "2021-11-08T17:16:54.972Z"
   },
   {
    "duration": -803,
    "start_time": "2021-11-08T17:16:54.994Z"
   },
   {
    "duration": -889,
    "start_time": "2021-11-08T17:16:55.081Z"
   },
   {
    "duration": -901,
    "start_time": "2021-11-08T17:16:55.094Z"
   },
   {
    "duration": -920,
    "start_time": "2021-11-08T17:16:55.114Z"
   },
   {
    "duration": -933,
    "start_time": "2021-11-08T17:16:55.128Z"
   },
   {
    "duration": -964,
    "start_time": "2021-11-08T17:16:55.160Z"
   },
   {
    "duration": -989,
    "start_time": "2021-11-08T17:16:55.186Z"
   },
   {
    "duration": -1012,
    "start_time": "2021-11-08T17:16:55.210Z"
   },
   {
    "duration": -1039,
    "start_time": "2021-11-08T17:16:55.238Z"
   },
   {
    "duration": -1061,
    "start_time": "2021-11-08T17:16:55.261Z"
   },
   {
    "duration": -1081,
    "start_time": "2021-11-08T17:16:55.282Z"
   },
   {
    "duration": -1100,
    "start_time": "2021-11-08T17:16:55.302Z"
   },
   {
    "duration": -1141,
    "start_time": "2021-11-08T17:16:55.344Z"
   },
   {
    "duration": -1167,
    "start_time": "2021-11-08T17:16:55.371Z"
   },
   {
    "duration": -1180,
    "start_time": "2021-11-08T17:16:55.385Z"
   },
   {
    "duration": -1198,
    "start_time": "2021-11-08T17:16:55.405Z"
   },
   {
    "duration": -1218,
    "start_time": "2021-11-08T17:16:55.426Z"
   },
   {
    "duration": -1246,
    "start_time": "2021-11-08T17:16:55.455Z"
   },
   {
    "duration": -1260,
    "start_time": "2021-11-08T17:16:55.470Z"
   },
   {
    "duration": -1281,
    "start_time": "2021-11-08T17:16:55.492Z"
   },
   {
    "duration": -1300,
    "start_time": "2021-11-08T17:16:55.512Z"
   },
   {
    "duration": -1320,
    "start_time": "2021-11-08T17:16:55.532Z"
   },
   {
    "duration": -1345,
    "start_time": "2021-11-08T17:16:55.558Z"
   },
   {
    "duration": -1377,
    "start_time": "2021-11-08T17:16:55.591Z"
   },
   {
    "duration": -1350,
    "start_time": "2021-11-08T17:16:55.613Z"
   },
   {
    "duration": -1371,
    "start_time": "2021-11-08T17:16:55.635Z"
   },
   {
    "duration": -1396,
    "start_time": "2021-11-08T17:16:55.661Z"
   },
   {
    "duration": -1416,
    "start_time": "2021-11-08T17:16:55.682Z"
   },
   {
    "duration": -1427,
    "start_time": "2021-11-08T17:16:55.694Z"
   },
   {
    "duration": -1453,
    "start_time": "2021-11-08T17:16:55.721Z"
   },
   {
    "duration": -1466,
    "start_time": "2021-11-08T17:16:55.735Z"
   },
   {
    "duration": -1482,
    "start_time": "2021-11-08T17:16:55.752Z"
   },
   {
    "duration": -1506,
    "start_time": "2021-11-08T17:16:55.777Z"
   },
   {
    "duration": -1581,
    "start_time": "2021-11-08T17:16:55.853Z"
   },
   {
    "duration": -1607,
    "start_time": "2021-11-08T17:16:55.880Z"
   },
   {
    "duration": -1630,
    "start_time": "2021-11-08T17:16:55.904Z"
   },
   {
    "duration": -1644,
    "start_time": "2021-11-08T17:16:55.919Z"
   },
   {
    "duration": -1667,
    "start_time": "2021-11-08T17:16:55.943Z"
   },
   {
    "duration": -1687,
    "start_time": "2021-11-08T17:16:55.963Z"
   },
   {
    "duration": -1705,
    "start_time": "2021-11-08T17:16:55.982Z"
   },
   {
    "duration": -1716,
    "start_time": "2021-11-08T17:16:55.994Z"
   },
   {
    "duration": -1745,
    "start_time": "2021-11-08T17:16:56.024Z"
   },
   {
    "duration": -1765,
    "start_time": "2021-11-08T17:16:56.045Z"
   },
   {
    "duration": -1784,
    "start_time": "2021-11-08T17:16:56.065Z"
   },
   {
    "duration": -1795,
    "start_time": "2021-11-08T17:16:56.078Z"
   },
   {
    "duration": -1817,
    "start_time": "2021-11-08T17:16:56.101Z"
   },
   {
    "duration": -1838,
    "start_time": "2021-11-08T17:16:56.124Z"
   },
   {
    "duration": -1867,
    "start_time": "2021-11-08T17:16:56.154Z"
   },
   {
    "duration": -1888,
    "start_time": "2021-11-08T17:16:56.177Z"
   },
   {
    "duration": -1910,
    "start_time": "2021-11-08T17:16:56.200Z"
   },
   {
    "duration": -1921,
    "start_time": "2021-11-08T17:16:56.212Z"
   },
   {
    "duration": -1951,
    "start_time": "2021-11-08T17:16:56.244Z"
   },
   {
    "duration": -1966,
    "start_time": "2021-11-08T17:16:56.260Z"
   },
   {
    "duration": -1997,
    "start_time": "2021-11-08T17:16:56.293Z"
   },
   {
    "duration": -2014,
    "start_time": "2021-11-08T17:16:56.311Z"
   },
   {
    "duration": -2044,
    "start_time": "2021-11-08T17:16:56.342Z"
   },
   {
    "duration": -2064,
    "start_time": "2021-11-08T17:16:56.364Z"
   },
   {
    "duration": 4,
    "start_time": "2021-11-08T17:17:13.307Z"
   },
   {
    "duration": 6938,
    "start_time": "2021-11-08T17:17:16.757Z"
   },
   {
    "duration": -315,
    "start_time": "2021-11-08T17:17:53.505Z"
   },
   {
    "duration": 6389,
    "start_time": "2021-11-08T17:18:10.389Z"
   },
   {
    "duration": 1000,
    "start_time": "2021-11-08T17:18:55.352Z"
   },
   {
    "duration": 945,
    "start_time": "2021-11-08T17:19:00.150Z"
   },
   {
    "duration": 16,
    "start_time": "2021-11-08T17:20:37.266Z"
   },
   {
    "duration": 22,
    "start_time": "2021-11-08T17:24:07.710Z"
   },
   {
    "duration": 25,
    "start_time": "2021-11-08T17:26:13.663Z"
   },
   {
    "duration": 31,
    "start_time": "2021-11-08T17:26:28.995Z"
   },
   {
    "duration": 6,
    "start_time": "2021-11-08T17:29:44.103Z"
   },
   {
    "duration": 7,
    "start_time": "2021-11-08T18:36:01.346Z"
   },
   {
    "duration": 20,
    "start_time": "2021-11-08T18:40:08.172Z"
   },
   {
    "duration": 8,
    "start_time": "2021-11-08T18:40:52.016Z"
   },
   {
    "duration": 12,
    "start_time": "2021-11-08T18:41:30.802Z"
   },
   {
    "duration": 9,
    "start_time": "2021-11-08T18:42:54.254Z"
   },
   {
    "duration": 14,
    "start_time": "2021-11-08T18:43:21.048Z"
   },
   {
    "duration": 53,
    "start_time": "2021-11-08T22:30:01.388Z"
   },
   {
    "duration": 4,
    "start_time": "2021-11-08T22:30:01.443Z"
   },
   {
    "duration": 27,
    "start_time": "2021-11-08T22:30:01.449Z"
   },
   {
    "duration": 16,
    "start_time": "2021-11-08T22:30:01.478Z"
   },
   {
    "duration": 10,
    "start_time": "2021-11-08T22:30:28.481Z"
   },
   {
    "duration": 25,
    "start_time": "2021-11-08T22:31:53.962Z"
   },
   {
    "duration": 10,
    "start_time": "2021-11-08T22:33:32.694Z"
   },
   {
    "duration": 22,
    "start_time": "2021-11-08T22:36:27.005Z"
   },
   {
    "duration": 21,
    "start_time": "2021-11-08T22:39:42.756Z"
   },
   {
    "duration": 37,
    "start_time": "2021-11-08T22:47:44.998Z"
   },
   {
    "duration": 5,
    "start_time": "2021-11-08T22:54:04.427Z"
   },
   {
    "duration": 2,
    "start_time": "2021-11-08T22:54:20.340Z"
   },
   {
    "duration": 3,
    "start_time": "2021-11-08T22:54:24.156Z"
   },
   {
    "duration": 53,
    "start_time": "2021-11-08T22:54:34.650Z"
   },
   {
    "duration": 3,
    "start_time": "2021-11-08T22:54:34.705Z"
   },
   {
    "duration": 14,
    "start_time": "2021-11-08T22:54:34.710Z"
   },
   {
    "duration": 11,
    "start_time": "2021-11-08T22:54:34.726Z"
   },
   {
    "duration": 21,
    "start_time": "2021-11-08T22:54:34.773Z"
   },
   {
    "duration": 4,
    "start_time": "2021-11-08T22:54:56.791Z"
   },
   {
    "duration": 5,
    "start_time": "2021-11-08T23:03:02.646Z"
   },
   {
    "duration": 23,
    "start_time": "2021-11-08T23:38:49.650Z"
   },
   {
    "duration": 8,
    "start_time": "2021-11-08T23:39:58.095Z"
   },
   {
    "duration": 8,
    "start_time": "2021-11-08T23:41:04.663Z"
   },
   {
    "duration": 10,
    "start_time": "2021-11-08T23:41:39.474Z"
   },
   {
    "duration": 10,
    "start_time": "2021-11-08T23:47:20.937Z"
   },
   {
    "duration": 6,
    "start_time": "2021-11-08T23:53:29.364Z"
   },
   {
    "duration": 7,
    "start_time": "2021-11-08T23:56:26.838Z"
   },
   {
    "duration": 21,
    "start_time": "2021-11-09T00:06:28.924Z"
   },
   {
    "duration": 6,
    "start_time": "2021-11-09T00:08:26.178Z"
   },
   {
    "duration": 7,
    "start_time": "2021-11-09T00:09:48.363Z"
   },
   {
    "duration": 7,
    "start_time": "2021-11-09T00:10:37.228Z"
   },
   {
    "duration": 8,
    "start_time": "2021-11-09T00:11:58.473Z"
   },
   {
    "duration": 6,
    "start_time": "2021-11-09T00:18:04.900Z"
   },
   {
    "duration": 7,
    "start_time": "2021-11-09T00:19:17.456Z"
   },
   {
    "duration": 6,
    "start_time": "2021-11-09T00:22:03.636Z"
   },
   {
    "duration": 6,
    "start_time": "2021-11-09T00:32:47.808Z"
   },
   {
    "duration": 8,
    "start_time": "2021-11-09T00:33:06.380Z"
   },
   {
    "duration": 16,
    "start_time": "2021-11-09T00:37:49.049Z"
   },
   {
    "duration": 5,
    "start_time": "2021-11-09T00:39:10.249Z"
   },
   {
    "duration": 235,
    "start_time": "2021-11-09T00:39:42.121Z"
   },
   {
    "duration": 6,
    "start_time": "2021-11-09T00:39:58.065Z"
   },
   {
    "duration": 101,
    "start_time": "2021-11-09T00:41:52.938Z"
   },
   {
    "duration": 934,
    "start_time": "2021-11-09T00:42:20.931Z"
   },
   {
    "duration": 22,
    "start_time": "2021-11-09T00:43:34.538Z"
   },
   {
    "duration": 6,
    "start_time": "2021-11-09T00:45:49.514Z"
   },
   {
    "duration": 6,
    "start_time": "2021-11-09T00:46:33.941Z"
   },
   {
    "duration": 2,
    "start_time": "2021-11-09T00:47:05.992Z"
   },
   {
    "duration": 4,
    "start_time": "2021-11-09T00:47:28.266Z"
   },
   {
    "duration": 3,
    "start_time": "2021-11-09T00:51:12.956Z"
   },
   {
    "duration": 5,
    "start_time": "2021-11-09T00:51:26.732Z"
   },
   {
    "duration": 5,
    "start_time": "2021-11-09T00:52:29.763Z"
   },
   {
    "duration": 22716,
    "start_time": "2021-11-09T00:55:37.171Z"
   },
   {
    "duration": 5,
    "start_time": "2021-11-09T00:55:59.889Z"
   },
   {
    "duration": 5,
    "start_time": "2021-11-09T00:56:09.902Z"
   },
   {
    "duration": 6,
    "start_time": "2021-11-09T00:56:25.305Z"
   },
   {
    "duration": 22940,
    "start_time": "2021-11-09T01:02:53.975Z"
   },
   {
    "duration": -341,
    "start_time": "2021-11-09T01:03:17.257Z"
   },
   {
    "duration": 239,
    "start_time": "2021-11-09T01:09:10.901Z"
   },
   {
    "duration": 18,
    "start_time": "2021-11-09T01:09:22.182Z"
   },
   {
    "duration": 8,
    "start_time": "2021-11-09T01:09:28.176Z"
   },
   {
    "duration": 15,
    "start_time": "2021-11-09T01:11:25.447Z"
   },
   {
    "duration": 7,
    "start_time": "2021-11-09T01:11:28.140Z"
   },
   {
    "duration": 23,
    "start_time": "2021-11-09T01:12:36.221Z"
   },
   {
    "duration": 7,
    "start_time": "2021-11-09T01:12:59.287Z"
   },
   {
    "duration": 21,
    "start_time": "2021-11-09T01:13:10.660Z"
   },
   {
    "duration": 11,
    "start_time": "2021-11-09T01:13:42.568Z"
   },
   {
    "duration": 22,
    "start_time": "2021-11-09T01:13:45.278Z"
   },
   {
    "duration": 622,
    "start_time": "2021-11-09T01:14:23.483Z"
   },
   {
    "duration": 284,
    "start_time": "2021-11-09T01:16:34.044Z"
   },
   {
    "duration": 244,
    "start_time": "2021-11-09T01:16:51.318Z"
   },
   {
    "duration": 235,
    "start_time": "2021-11-09T01:17:33.854Z"
   },
   {
    "duration": 21,
    "start_time": "2021-11-09T01:17:47.845Z"
   },
   {
    "duration": 1408,
    "start_time": "2021-11-09T01:19:36.594Z"
   },
   {
    "duration": 8,
    "start_time": "2021-11-09T01:21:12.315Z"
   },
   {
    "duration": 294,
    "start_time": "2021-11-09T01:22:14.383Z"
   },
   {
    "duration": 13,
    "start_time": "2021-11-09T01:24:00.074Z"
   },
   {
    "duration": 50,
    "start_time": "2021-11-09T01:25:20.545Z"
   },
   {
    "duration": 4,
    "start_time": "2021-11-09T01:25:20.597Z"
   },
   {
    "duration": 22,
    "start_time": "2021-11-09T01:25:20.603Z"
   },
   {
    "duration": 11,
    "start_time": "2021-11-09T01:25:20.627Z"
   },
   {
    "duration": 31,
    "start_time": "2021-11-09T01:25:20.640Z"
   },
   {
    "duration": 4,
    "start_time": "2021-11-09T01:25:20.673Z"
   },
   {
    "duration": 21,
    "start_time": "2021-11-09T01:25:20.703Z"
   },
   {
    "duration": 6,
    "start_time": "2021-11-09T01:25:20.726Z"
   },
   {
    "duration": 21,
    "start_time": "2021-11-09T01:25:20.788Z"
   },
   {
    "duration": 5,
    "start_time": "2021-11-09T01:25:20.811Z"
   },
   {
    "duration": 2,
    "start_time": "2021-11-09T01:25:20.866Z"
   },
   {
    "duration": 22,
    "start_time": "2021-11-09T01:26:04.523Z"
   },
   {
    "duration": 11,
    "start_time": "2021-11-09T01:26:23.297Z"
   },
   {
    "duration": 243,
    "start_time": "2021-11-09T01:26:28.418Z"
   },
   {
    "duration": 20,
    "start_time": "2021-11-09T01:26:36.885Z"
   },
   {
    "duration": 7,
    "start_time": "2021-11-09T01:28:19.644Z"
   },
   {
    "duration": 5,
    "start_time": "2021-11-09T01:28:40.657Z"
   },
   {
    "duration": 4,
    "start_time": "2021-11-09T01:29:12.121Z"
   },
   {
    "duration": 233,
    "start_time": "2021-11-09T01:29:35.701Z"
   },
   {
    "duration": 241,
    "start_time": "2021-11-09T01:29:49.891Z"
   },
   {
    "duration": 336,
    "start_time": "2021-11-09T01:29:58.715Z"
   },
   {
    "duration": 21,
    "start_time": "2021-11-09T01:30:03.058Z"
   },
   {
    "duration": 241,
    "start_time": "2021-11-09T01:30:11.610Z"
   },
   {
    "duration": 4,
    "start_time": "2021-11-09T01:30:32.002Z"
   },
   {
    "duration": 80,
    "start_time": "2021-11-09T01:31:01.268Z"
   },
   {
    "duration": 5,
    "start_time": "2021-11-09T01:31:23.114Z"
   },
   {
    "duration": 4,
    "start_time": "2021-11-09T01:31:50.411Z"
   },
   {
    "duration": 7,
    "start_time": "2021-11-09T03:10:46.256Z"
   },
   {
    "duration": 6,
    "start_time": "2021-11-09T03:11:09.685Z"
   },
   {
    "duration": 5,
    "start_time": "2021-11-09T03:14:00.812Z"
   },
   {
    "duration": 5,
    "start_time": "2021-11-09T03:17:27.374Z"
   },
   {
    "duration": 22,
    "start_time": "2021-11-09T03:18:34.712Z"
   },
   {
    "duration": 13,
    "start_time": "2021-11-09T03:19:22.323Z"
   },
   {
    "duration": 11,
    "start_time": "2021-11-09T03:20:04.318Z"
   },
   {
    "duration": 11,
    "start_time": "2021-11-09T03:21:17.182Z"
   },
   {
    "duration": 6,
    "start_time": "2021-11-09T03:29:19.109Z"
   },
   {
    "duration": 233,
    "start_time": "2021-11-09T03:30:46.261Z"
   },
   {
    "duration": 7,
    "start_time": "2021-11-09T03:31:58.778Z"
   },
   {
    "duration": 5,
    "start_time": "2021-11-09T03:32:26.944Z"
   },
   {
    "duration": 5,
    "start_time": "2021-11-09T03:32:54.009Z"
   },
   {
    "duration": 7,
    "start_time": "2021-11-09T03:33:10.899Z"
   },
   {
    "duration": 14699,
    "start_time": "2021-11-09T03:38:03.975Z"
   },
   {
    "duration": 6,
    "start_time": "2021-11-09T03:38:38.797Z"
   },
   {
    "duration": 6,
    "start_time": "2021-11-09T03:39:47.899Z"
   },
   {
    "duration": 6,
    "start_time": "2021-11-09T03:39:56.871Z"
   },
   {
    "duration": 5,
    "start_time": "2021-11-09T03:41:39.548Z"
   },
   {
    "duration": 6,
    "start_time": "2021-11-09T03:41:58.451Z"
   },
   {
    "duration": 6,
    "start_time": "2021-11-09T03:42:04.795Z"
   },
   {
    "duration": 53,
    "start_time": "2021-11-09T03:42:23.003Z"
   },
   {
    "duration": 4,
    "start_time": "2021-11-09T03:42:23.058Z"
   },
   {
    "duration": 22,
    "start_time": "2021-11-09T03:42:23.064Z"
   },
   {
    "duration": 20,
    "start_time": "2021-11-09T03:42:23.088Z"
   },
   {
    "duration": 22,
    "start_time": "2021-11-09T03:42:23.110Z"
   },
   {
    "duration": 4,
    "start_time": "2021-11-09T03:42:23.133Z"
   },
   {
    "duration": 38,
    "start_time": "2021-11-09T03:42:23.140Z"
   },
   {
    "duration": 6,
    "start_time": "2021-11-09T03:42:23.180Z"
   },
   {
    "duration": 30,
    "start_time": "2021-11-09T03:42:23.187Z"
   },
   {
    "duration": 2,
    "start_time": "2021-11-09T03:42:23.222Z"
   },
   {
    "duration": 5,
    "start_time": "2021-11-09T03:42:23.226Z"
   },
   {
    "duration": 45,
    "start_time": "2021-11-09T03:42:23.233Z"
   },
   {
    "duration": 2,
    "start_time": "2021-11-09T03:42:23.280Z"
   },
   {
    "duration": 10,
    "start_time": "2021-11-09T03:42:23.284Z"
   },
   {
    "duration": 13,
    "start_time": "2021-11-09T03:42:23.296Z"
   },
   {
    "duration": 6,
    "start_time": "2021-11-09T03:42:23.310Z"
   },
   {
    "duration": 8,
    "start_time": "2021-11-09T03:42:23.318Z"
   },
   {
    "duration": 35,
    "start_time": "2021-11-09T03:42:23.328Z"
   },
   {
    "duration": 3,
    "start_time": "2021-11-09T03:42:23.365Z"
   },
   {
    "duration": 7,
    "start_time": "2021-11-09T03:42:23.370Z"
   },
   {
    "duration": 10,
    "start_time": "2021-11-09T03:42:23.379Z"
   },
   {
    "duration": 5,
    "start_time": "2021-11-09T03:42:23.414Z"
   },
   {
    "duration": 7,
    "start_time": "2021-11-09T03:42:23.423Z"
   },
   {
    "duration": 6,
    "start_time": "2021-11-09T03:42:45.665Z"
   },
   {
    "duration": 6,
    "start_time": "2021-11-09T03:43:12.739Z"
   },
   {
    "duration": 8,
    "start_time": "2021-11-09T03:44:25.510Z"
   },
   {
    "duration": 7,
    "start_time": "2021-11-09T03:47:33.922Z"
   },
   {
    "duration": 4,
    "start_time": "2021-11-09T03:47:36.347Z"
   },
   {
    "duration": 7,
    "start_time": "2021-11-09T03:47:38.534Z"
   },
   {
    "duration": 7,
    "start_time": "2021-11-09T03:47:57.535Z"
   },
   {
    "duration": 8,
    "start_time": "2021-11-09T03:51:02.342Z"
   },
   {
    "duration": 5,
    "start_time": "2021-11-09T03:57:28.461Z"
   },
   {
    "duration": 9,
    "start_time": "2021-11-09T03:57:30.803Z"
   },
   {
    "duration": 54,
    "start_time": "2021-11-09T03:59:06.250Z"
   },
   {
    "duration": 3,
    "start_time": "2021-11-09T03:59:06.306Z"
   },
   {
    "duration": 18,
    "start_time": "2021-11-09T03:59:06.311Z"
   },
   {
    "duration": 31,
    "start_time": "2021-11-09T03:59:06.332Z"
   },
   {
    "duration": 20,
    "start_time": "2021-11-09T03:59:06.365Z"
   },
   {
    "duration": 4,
    "start_time": "2021-11-09T03:59:06.386Z"
   },
   {
    "duration": 26,
    "start_time": "2021-11-09T03:59:06.391Z"
   },
   {
    "duration": 5,
    "start_time": "2021-11-09T03:59:06.419Z"
   },
   {
    "duration": 23,
    "start_time": "2021-11-09T03:59:06.469Z"
   },
   {
    "duration": 2,
    "start_time": "2021-11-09T03:59:06.495Z"
   },
   {
    "duration": 4,
    "start_time": "2021-11-09T03:59:06.500Z"
   },
   {
    "duration": 25,
    "start_time": "2021-11-09T03:59:06.506Z"
   },
   {
    "duration": 2,
    "start_time": "2021-11-09T03:59:06.533Z"
   },
   {
    "duration": 28,
    "start_time": "2021-11-09T03:59:06.537Z"
   },
   {
    "duration": 14,
    "start_time": "2021-11-09T03:59:06.567Z"
   },
   {
    "duration": 7,
    "start_time": "2021-11-09T03:59:06.583Z"
   },
   {
    "duration": 9,
    "start_time": "2021-11-09T03:59:06.593Z"
   },
   {
    "duration": 15,
    "start_time": "2021-11-09T03:59:06.605Z"
   },
   {
    "duration": 41,
    "start_time": "2021-11-09T03:59:06.622Z"
   },
   {
    "duration": 6,
    "start_time": "2021-11-09T03:59:06.666Z"
   },
   {
    "duration": 8,
    "start_time": "2021-11-09T03:59:06.674Z"
   },
   {
    "duration": 6,
    "start_time": "2021-11-09T03:59:06.684Z"
   },
   {
    "duration": 8,
    "start_time": "2021-11-09T03:59:06.692Z"
   },
   {
    "duration": 8,
    "start_time": "2021-11-09T03:59:06.702Z"
   },
   {
    "duration": 7,
    "start_time": "2021-11-09T03:59:06.712Z"
   },
   {
    "duration": 45,
    "start_time": "2021-11-09T03:59:06.721Z"
   },
   {
    "duration": 10,
    "start_time": "2021-11-09T03:59:06.768Z"
   },
   {
    "duration": 5,
    "start_time": "2021-11-09T03:59:06.780Z"
   },
   {
    "duration": 9,
    "start_time": "2021-11-09T03:59:06.786Z"
   },
   {
    "duration": 12,
    "start_time": "2021-11-09T03:59:06.797Z"
   },
   {
    "duration": 8,
    "start_time": "2021-11-09T03:59:50.756Z"
   },
   {
    "duration": 5,
    "start_time": "2021-11-09T03:59:56.293Z"
   },
   {
    "duration": 8,
    "start_time": "2021-11-09T04:00:00.046Z"
   },
   {
    "duration": 17,
    "start_time": "2021-11-09T04:01:25.766Z"
   },
   {
    "duration": 18,
    "start_time": "2021-11-09T04:02:53.933Z"
   },
   {
    "duration": 17,
    "start_time": "2021-11-09T04:03:09.287Z"
   },
   {
    "duration": 21,
    "start_time": "2021-11-09T04:03:24.805Z"
   },
   {
    "duration": 16,
    "start_time": "2021-11-09T04:04:49.864Z"
   },
   {
    "duration": 29,
    "start_time": "2021-11-09T04:09:25.397Z"
   },
   {
    "duration": 18,
    "start_time": "2021-11-09T04:11:52.716Z"
   },
   {
    "duration": 16,
    "start_time": "2021-11-09T04:12:04.748Z"
   },
   {
    "duration": 17,
    "start_time": "2021-11-09T04:12:35.966Z"
   },
   {
    "duration": 18,
    "start_time": "2021-11-09T04:12:54.258Z"
   },
   {
    "duration": 29,
    "start_time": "2021-11-09T04:13:51.576Z"
   },
   {
    "duration": 325,
    "start_time": "2021-11-14T23:40:51.167Z"
   },
   {
    "duration": 672,
    "start_time": "2021-11-14T23:40:54.956Z"
   },
   {
    "duration": 9,
    "start_time": "2021-11-14T23:40:55.630Z"
   },
   {
    "duration": 25,
    "start_time": "2021-11-14T23:40:55.641Z"
   },
   {
    "duration": 294,
    "start_time": "2021-11-15T00:10:28.157Z"
   },
   {
    "duration": 1032,
    "start_time": "2021-11-15T00:10:52.413Z"
   },
   {
    "duration": 24,
    "start_time": "2021-11-15T00:11:41.620Z"
   },
   {
    "duration": 24,
    "start_time": "2021-11-15T00:12:39.120Z"
   },
   {
    "duration": 98,
    "start_time": "2021-11-15T00:15:26.196Z"
   },
   {
    "duration": 93,
    "start_time": "2021-11-15T00:15:50.155Z"
   },
   {
    "duration": 109,
    "start_time": "2021-11-15T00:16:22.130Z"
   },
   {
    "duration": 23,
    "start_time": "2021-11-15T00:16:37.261Z"
   },
   {
    "duration": 29,
    "start_time": "2021-11-15T00:17:59.202Z"
   },
   {
    "duration": 29,
    "start_time": "2021-11-15T00:18:29.253Z"
   },
   {
    "duration": 15,
    "start_time": "2021-11-15T00:19:47.378Z"
   },
   {
    "duration": 270,
    "start_time": "2021-11-15T00:24:39.353Z"
   },
   {
    "duration": 52,
    "start_time": "2021-11-15T00:24:53.949Z"
   },
   {
    "duration": 4,
    "start_time": "2021-11-15T00:24:54.003Z"
   },
   {
    "duration": 17,
    "start_time": "2021-11-15T00:24:54.009Z"
   },
   {
    "duration": 11,
    "start_time": "2021-11-15T00:24:54.084Z"
   },
   {
    "duration": 21,
    "start_time": "2021-11-15T00:24:54.147Z"
   },
   {
    "duration": 14,
    "start_time": "2021-11-15T00:24:54.170Z"
   },
   {
    "duration": 23,
    "start_time": "2021-11-15T00:24:54.245Z"
   },
   {
    "duration": 24,
    "start_time": "2021-11-15T00:25:18.028Z"
   },
   {
    "duration": 6,
    "start_time": "2021-11-15T00:25:24.124Z"
   },
   {
    "duration": 425,
    "start_time": "2021-11-15T04:06:41.069Z"
   },
   {
    "duration": 1007,
    "start_time": "2021-11-15T04:06:44.801Z"
   },
   {
    "duration": 8,
    "start_time": "2021-11-15T04:06:45.809Z"
   },
   {
    "duration": 29,
    "start_time": "2021-11-15T04:06:45.818Z"
   },
   {
    "duration": 10,
    "start_time": "2021-11-15T04:06:45.848Z"
   },
   {
    "duration": 24,
    "start_time": "2021-11-15T04:06:45.859Z"
   },
   {
    "duration": 11,
    "start_time": "2021-11-15T04:06:45.884Z"
   },
   {
    "duration": 32,
    "start_time": "2021-11-15T04:06:45.896Z"
   },
   {
    "duration": 8,
    "start_time": "2021-11-15T04:06:45.930Z"
   },
   {
    "duration": 40,
    "start_time": "2021-11-15T04:06:45.940Z"
   },
   {
    "duration": 1,
    "start_time": "2021-11-15T04:06:45.982Z"
   },
   {
    "duration": 20,
    "start_time": "2021-11-15T04:06:45.985Z"
   },
   {
    "duration": 26,
    "start_time": "2021-11-15T04:06:46.006Z"
   },
   {
    "duration": 11,
    "start_time": "2021-11-15T04:06:46.033Z"
   },
   {
    "duration": 18,
    "start_time": "2021-11-15T04:06:46.045Z"
   },
   {
    "duration": 6,
    "start_time": "2021-11-15T04:11:17.739Z"
   },
   {
    "duration": 8,
    "start_time": "2021-11-15T04:11:17.877Z"
   },
   {
    "duration": 7,
    "start_time": "2021-11-15T04:11:35.865Z"
   },
   {
    "duration": 4,
    "start_time": "2021-11-15T04:11:57.654Z"
   },
   {
    "duration": 46,
    "start_time": "2021-11-15T04:12:10.479Z"
   },
   {
    "duration": 3,
    "start_time": "2021-11-15T04:12:10.527Z"
   },
   {
    "duration": 20,
    "start_time": "2021-11-15T04:12:10.531Z"
   },
   {
    "duration": 18,
    "start_time": "2021-11-15T04:12:10.553Z"
   },
   {
    "duration": 18,
    "start_time": "2021-11-15T04:12:10.573Z"
   },
   {
    "duration": 12,
    "start_time": "2021-11-15T04:12:10.607Z"
   },
   {
    "duration": 19,
    "start_time": "2021-11-15T04:12:10.621Z"
   },
   {
    "duration": 6,
    "start_time": "2021-11-15T04:12:10.643Z"
   },
   {
    "duration": 19,
    "start_time": "2021-11-15T04:12:10.731Z"
   },
   {
    "duration": 3,
    "start_time": "2021-11-15T04:12:10.753Z"
   },
   {
    "duration": 4,
    "start_time": "2021-11-15T04:12:10.758Z"
   },
   {
    "duration": 22,
    "start_time": "2021-11-15T04:12:10.763Z"
   },
   {
    "duration": 4,
    "start_time": "2021-11-15T04:12:10.787Z"
   },
   {
    "duration": 9,
    "start_time": "2021-11-15T04:12:39.984Z"
   },
   {
    "duration": 12,
    "start_time": "2021-11-15T04:13:20.917Z"
   },
   {
    "duration": 6,
    "start_time": "2021-11-15T04:13:34.349Z"
   },
   {
    "duration": 376,
    "start_time": "2021-11-15T04:15:51.444Z"
   },
   {
    "duration": 389,
    "start_time": "2021-11-15T04:19:53.513Z"
   },
   {
    "duration": 4,
    "start_time": "2021-11-15T04:20:47.537Z"
   },
   {
    "duration": 3,
    "start_time": "2021-11-15T04:22:18.075Z"
   },
   {
    "duration": 6,
    "start_time": "2021-11-15T04:22:42.571Z"
   },
   {
    "duration": 17,
    "start_time": "2021-11-15T04:27:37.634Z"
   },
   {
    "duration": 27,
    "start_time": "2021-11-15T04:28:15.166Z"
   },
   {
    "duration": 15,
    "start_time": "2021-11-15T04:28:38.324Z"
   },
   {
    "duration": 15,
    "start_time": "2021-11-15T04:28:51.295Z"
   },
   {
    "duration": 436,
    "start_time": "2021-11-15T04:29:03.584Z"
   },
   {
    "duration": 15,
    "start_time": "2021-11-15T04:29:23.597Z"
   },
   {
    "duration": 23,
    "start_time": "2021-11-15T04:31:01.685Z"
   },
   {
    "duration": 16,
    "start_time": "2021-11-15T04:34:45.163Z"
   },
   {
    "duration": 376,
    "start_time": "2021-11-15T04:35:57.736Z"
   },
   {
    "duration": 371,
    "start_time": "2021-11-15T04:36:17.865Z"
   },
   {
    "duration": 33,
    "start_time": "2021-11-15T04:37:05.140Z"
   },
   {
    "duration": 3,
    "start_time": "2021-11-15T04:39:42.027Z"
   },
   {
    "duration": 3,
    "start_time": "2021-11-15T04:39:54.589Z"
   },
   {
    "duration": 353,
    "start_time": "2021-11-15T04:57:20.081Z"
   },
   {
    "duration": 115,
    "start_time": "2021-11-15T04:57:36.514Z"
   },
   {
    "duration": 4,
    "start_time": "2021-11-15T04:58:09.524Z"
   },
   {
    "duration": 3,
    "start_time": "2021-11-15T04:58:39.877Z"
   },
   {
    "duration": 4,
    "start_time": "2021-11-15T04:58:44.932Z"
   },
   {
    "duration": 4,
    "start_time": "2021-11-15T05:00:26.032Z"
   },
   {
    "duration": 3,
    "start_time": "2021-11-15T05:00:30.559Z"
   },
   {
    "duration": 3,
    "start_time": "2021-11-15T05:00:45.691Z"
   },
   {
    "duration": 4,
    "start_time": "2021-11-15T05:00:48.922Z"
   },
   {
    "duration": 4,
    "start_time": "2021-11-15T05:01:03.237Z"
   },
   {
    "duration": 4,
    "start_time": "2021-11-15T05:03:28.488Z"
   },
   {
    "duration": 5,
    "start_time": "2021-11-15T05:03:41.258Z"
   },
   {
    "duration": 4,
    "start_time": "2021-11-15T05:04:35.560Z"
   },
   {
    "duration": 4,
    "start_time": "2021-11-15T05:06:11.988Z"
   },
   {
    "duration": 4,
    "start_time": "2021-11-15T05:06:17.407Z"
   },
   {
    "duration": 4,
    "start_time": "2021-11-15T05:06:21.150Z"
   },
   {
    "duration": 4,
    "start_time": "2021-11-15T05:06:45.498Z"
   },
   {
    "duration": 5,
    "start_time": "2021-11-15T05:07:23.754Z"
   },
   {
    "duration": 4,
    "start_time": "2021-11-15T05:07:25.727Z"
   },
   {
    "duration": 5,
    "start_time": "2021-11-15T05:07:36.132Z"
   },
   {
    "duration": 4,
    "start_time": "2021-11-15T05:07:44.147Z"
   },
   {
    "duration": 2616,
    "start_time": "2021-11-15T05:09:10.141Z"
   },
   {
    "duration": 18,
    "start_time": "2021-11-15T05:09:40.597Z"
   },
   {
    "duration": 22,
    "start_time": "2021-11-15T05:12:58.614Z"
   },
   {
    "duration": -319,
    "start_time": "2021-11-15T05:14:12.231Z"
   },
   {
    "duration": 7,
    "start_time": "2021-11-15T05:14:17.897Z"
   },
   {
    "duration": 5,
    "start_time": "2021-11-15T05:16:11.316Z"
   },
   {
    "duration": 5,
    "start_time": "2021-11-15T05:16:18.587Z"
   },
   {
    "duration": 6,
    "start_time": "2021-11-15T05:17:11.057Z"
   },
   {
    "duration": 5,
    "start_time": "2021-11-15T05:17:51.706Z"
   },
   {
    "duration": 7,
    "start_time": "2021-11-15T05:21:52.886Z"
   },
   {
    "duration": 5,
    "start_time": "2021-11-15T05:22:31.500Z"
   },
   {
    "duration": 5,
    "start_time": "2021-11-15T05:22:55.574Z"
   },
   {
    "duration": 5,
    "start_time": "2021-11-15T05:23:18.716Z"
   },
   {
    "duration": 17,
    "start_time": "2021-11-15T05:24:20.786Z"
   },
   {
    "duration": 349,
    "start_time": "2021-11-15T05:42:17.527Z"
   },
   {
    "duration": 2,
    "start_time": "2021-11-15T05:42:24.270Z"
   },
   {
    "duration": 845,
    "start_time": "2021-11-15T05:42:28.141Z"
   },
   {
    "duration": 3,
    "start_time": "2021-11-15T05:43:47.967Z"
   },
   {
    "duration": 730,
    "start_time": "2021-11-15T05:43:53.431Z"
   },
   {
    "duration": 3,
    "start_time": "2021-11-15T05:45:00.240Z"
   },
   {
    "duration": 727,
    "start_time": "2021-11-15T05:45:08.256Z"
   },
   {
    "duration": 3,
    "start_time": "2021-11-15T05:47:47.465Z"
   },
   {
    "duration": 724,
    "start_time": "2021-11-15T05:48:02.309Z"
   },
   {
    "duration": 708,
    "start_time": "2021-11-15T05:48:08.194Z"
   },
   {
    "duration": 3,
    "start_time": "2021-11-15T05:54:35.064Z"
   },
   {
    "duration": 2,
    "start_time": "2021-11-15T05:54:37.923Z"
   },
   {
    "duration": 770,
    "start_time": "2021-11-15T05:54:42.235Z"
   },
   {
    "duration": 3,
    "start_time": "2021-11-15T05:56:22.651Z"
   },
   {
    "duration": 3,
    "start_time": "2021-11-15T05:56:27.432Z"
   },
   {
    "duration": 705,
    "start_time": "2021-11-15T05:56:31.587Z"
   },
   {
    "duration": 4,
    "start_time": "2021-11-15T06:01:25.797Z"
   },
   {
    "duration": 698,
    "start_time": "2021-11-15T06:01:31.171Z"
   },
   {
    "duration": 4,
    "start_time": "2021-11-15T06:04:15.593Z"
   },
   {
    "duration": 3,
    "start_time": "2021-11-15T06:04:20.196Z"
   },
   {
    "duration": 50,
    "start_time": "2021-11-15T06:04:28.475Z"
   },
   {
    "duration": 3,
    "start_time": "2021-11-15T06:04:28.527Z"
   },
   {
    "duration": 18,
    "start_time": "2021-11-15T06:04:28.532Z"
   },
   {
    "duration": 27,
    "start_time": "2021-11-15T06:04:28.553Z"
   },
   {
    "duration": 32,
    "start_time": "2021-11-15T06:04:28.581Z"
   },
   {
    "duration": 11,
    "start_time": "2021-11-15T06:04:28.615Z"
   },
   {
    "duration": 23,
    "start_time": "2021-11-15T06:04:28.627Z"
   },
   {
    "duration": 5,
    "start_time": "2021-11-15T06:04:28.652Z"
   },
   {
    "duration": 20,
    "start_time": "2021-11-15T06:04:28.681Z"
   },
   {
    "duration": 4,
    "start_time": "2021-11-15T06:04:28.703Z"
   },
   {
    "duration": 7,
    "start_time": "2021-11-15T06:04:28.709Z"
   },
   {
    "duration": 25,
    "start_time": "2021-11-15T06:04:28.719Z"
   },
   {
    "duration": 5,
    "start_time": "2021-11-15T06:04:28.747Z"
   },
   {
    "duration": 10,
    "start_time": "2021-11-15T06:04:28.754Z"
   },
   {
    "duration": 12,
    "start_time": "2021-11-15T06:04:28.766Z"
   },
   {
    "duration": 31,
    "start_time": "2021-11-15T06:04:28.780Z"
   },
   {
    "duration": 5,
    "start_time": "2021-11-15T06:04:28.813Z"
   },
   {
    "duration": 13,
    "start_time": "2021-11-15T06:04:28.820Z"
   },
   {
    "duration": 4,
    "start_time": "2021-11-15T06:04:28.834Z"
   },
   {
    "duration": 7,
    "start_time": "2021-11-15T06:04:28.840Z"
   },
   {
    "duration": 5,
    "start_time": "2021-11-15T06:04:28.848Z"
   },
   {
    "duration": 9,
    "start_time": "2021-11-15T06:04:28.854Z"
   },
   {
    "duration": 42,
    "start_time": "2021-11-15T06:04:28.865Z"
   },
   {
    "duration": 6,
    "start_time": "2021-11-15T06:04:28.909Z"
   },
   {
    "duration": 7,
    "start_time": "2021-11-15T06:04:28.917Z"
   },
   {
    "duration": 12,
    "start_time": "2021-11-15T06:04:28.925Z"
   },
   {
    "duration": 9,
    "start_time": "2021-11-15T06:04:28.938Z"
   },
   {
    "duration": 4,
    "start_time": "2021-11-15T06:04:28.949Z"
   },
   {
    "duration": 5,
    "start_time": "2021-11-15T06:04:28.955Z"
   },
   {
    "duration": 10,
    "start_time": "2021-11-15T06:04:28.961Z"
   },
   {
    "duration": 6,
    "start_time": "2021-11-15T06:04:28.972Z"
   },
   {
    "duration": 10,
    "start_time": "2021-11-15T06:04:29.007Z"
   },
   {
    "duration": 40,
    "start_time": "2021-11-15T06:04:29.019Z"
   },
   {
    "duration": 21,
    "start_time": "2021-11-15T06:04:29.061Z"
   },
   {
    "duration": 38,
    "start_time": "2021-11-15T06:04:29.086Z"
   },
   {
    "duration": 4,
    "start_time": "2021-11-15T06:04:29.126Z"
   },
   {
    "duration": 13,
    "start_time": "2021-11-15T06:04:29.132Z"
   },
   {
    "duration": 16,
    "start_time": "2021-11-15T06:04:29.148Z"
   },
   {
    "duration": 10,
    "start_time": "2021-11-15T06:04:29.166Z"
   },
   {
    "duration": 2629,
    "start_time": "2021-11-15T06:04:29.178Z"
   },
   {
    "duration": 19,
    "start_time": "2021-11-15T06:04:31.809Z"
   },
   {
    "duration": 22,
    "start_time": "2021-11-15T06:04:31.830Z"
   },
   {
    "duration": 7,
    "start_time": "2021-11-15T06:04:31.853Z"
   },
   {
    "duration": 4,
    "start_time": "2021-11-15T06:04:49.259Z"
   },
   {
    "duration": 2,
    "start_time": "2021-11-15T06:04:51.256Z"
   },
   {
    "duration": 3,
    "start_time": "2021-11-15T06:04:55.361Z"
   },
   {
    "duration": 3,
    "start_time": "2021-11-15T06:05:09.659Z"
   },
   {
    "duration": 3032,
    "start_time": "2021-11-15T06:05:17.330Z"
   },
   {
    "duration": 3158,
    "start_time": "2021-11-15T06:05:55.050Z"
   },
   {
    "duration": 3,
    "start_time": "2021-11-15T06:06:13.887Z"
   },
   {
    "duration": 1378,
    "start_time": "2021-11-15T06:06:18.149Z"
   },
   {
    "duration": 4,
    "start_time": "2021-11-15T06:07:11.403Z"
   },
   {
    "duration": 766,
    "start_time": "2021-11-15T06:07:14.903Z"
   },
   {
    "duration": 127,
    "start_time": "2021-11-15T06:10:53.227Z"
   },
   {
    "duration": 3,
    "start_time": "2021-11-15T06:11:13.630Z"
   },
   {
    "duration": 801,
    "start_time": "2021-11-15T06:11:53.726Z"
   },
   {
    "duration": 408,
    "start_time": "2021-11-15T06:12:14.648Z"
   },
   {
    "duration": 5,
    "start_time": "2021-11-15T06:12:57.399Z"
   },
   {
    "duration": 3,
    "start_time": "2021-11-15T06:14:39.226Z"
   },
   {
    "duration": 4,
    "start_time": "2021-11-15T06:14:42.440Z"
   },
   {
    "duration": 3031,
    "start_time": "2021-11-15T06:14:46.812Z"
   },
   {
    "duration": 2997,
    "start_time": "2021-11-15T06:15:25.421Z"
   },
   {
    "duration": 2976,
    "start_time": "2021-11-15T06:15:33.192Z"
   },
   {
    "duration": 4,
    "start_time": "2021-11-15T06:15:36.622Z"
   },
   {
    "duration": 2998,
    "start_time": "2021-11-15T06:15:40.454Z"
   },
   {
    "duration": 48,
    "start_time": "2021-11-15T06:15:44.898Z"
   },
   {
    "duration": 3,
    "start_time": "2021-11-15T06:15:44.947Z"
   },
   {
    "duration": 19,
    "start_time": "2021-11-15T06:15:44.952Z"
   },
   {
    "duration": 15,
    "start_time": "2021-11-15T06:15:44.973Z"
   },
   {
    "duration": 34,
    "start_time": "2021-11-15T06:15:44.989Z"
   },
   {
    "duration": 11,
    "start_time": "2021-11-15T06:15:45.024Z"
   },
   {
    "duration": 52,
    "start_time": "2021-11-15T06:15:45.037Z"
   },
   {
    "duration": 15,
    "start_time": "2021-11-15T06:15:45.091Z"
   },
   {
    "duration": 42,
    "start_time": "2021-11-15T06:15:45.118Z"
   },
   {
    "duration": 11,
    "start_time": "2021-11-15T06:15:45.161Z"
   },
   {
    "duration": 11,
    "start_time": "2021-11-15T06:15:45.174Z"
   },
   {
    "duration": 25,
    "start_time": "2021-11-15T06:15:45.187Z"
   },
   {
    "duration": 14,
    "start_time": "2021-11-15T06:15:45.213Z"
   },
   {
    "duration": 12,
    "start_time": "2021-11-15T06:15:45.229Z"
   },
   {
    "duration": 10,
    "start_time": "2021-11-15T06:15:45.242Z"
   },
   {
    "duration": 11,
    "start_time": "2021-11-15T06:15:45.254Z"
   },
   {
    "duration": 10,
    "start_time": "2021-11-15T06:15:45.267Z"
   },
   {
    "duration": 12,
    "start_time": "2021-11-15T06:15:45.279Z"
   },
   {
    "duration": 4,
    "start_time": "2021-11-15T06:15:45.292Z"
   },
   {
    "duration": 12,
    "start_time": "2021-11-15T06:15:45.298Z"
   },
   {
    "duration": 10,
    "start_time": "2021-11-15T06:15:45.311Z"
   },
   {
    "duration": 6,
    "start_time": "2021-11-15T06:15:45.322Z"
   },
   {
    "duration": 9,
    "start_time": "2021-11-15T06:15:45.329Z"
   },
   {
    "duration": 11,
    "start_time": "2021-11-15T06:15:45.339Z"
   },
   {
    "duration": 8,
    "start_time": "2021-11-15T06:15:45.352Z"
   },
   {
    "duration": 14,
    "start_time": "2021-11-15T06:15:45.361Z"
   },
   {
    "duration": 10,
    "start_time": "2021-11-15T06:15:45.377Z"
   },
   {
    "duration": 19,
    "start_time": "2021-11-15T06:15:45.388Z"
   },
   {
    "duration": 6,
    "start_time": "2021-11-15T06:15:45.408Z"
   },
   {
    "duration": 10,
    "start_time": "2021-11-15T06:15:45.415Z"
   },
   {
    "duration": 6,
    "start_time": "2021-11-15T06:15:45.427Z"
   },
   {
    "duration": 11,
    "start_time": "2021-11-15T06:15:45.434Z"
   },
   {
    "duration": 18,
    "start_time": "2021-11-15T06:15:45.446Z"
   },
   {
    "duration": 16,
    "start_time": "2021-11-15T06:15:45.466Z"
   },
   {
    "duration": 51,
    "start_time": "2021-11-15T06:15:45.485Z"
   },
   {
    "duration": 4,
    "start_time": "2021-11-15T06:15:45.537Z"
   },
   {
    "duration": 6,
    "start_time": "2021-11-15T06:15:45.542Z"
   },
   {
    "duration": 7,
    "start_time": "2021-11-15T06:15:45.549Z"
   },
   {
    "duration": 10,
    "start_time": "2021-11-15T06:15:45.557Z"
   },
   {
    "duration": 2761,
    "start_time": "2021-11-15T06:15:45.569Z"
   },
   {
    "duration": 19,
    "start_time": "2021-11-15T06:15:48.332Z"
   },
   {
    "duration": 63,
    "start_time": "2021-11-15T06:15:48.353Z"
   },
   {
    "duration": 7,
    "start_time": "2021-11-15T06:15:48.417Z"
   },
   {
    "duration": 9,
    "start_time": "2021-11-15T06:15:48.426Z"
   },
   {
    "duration": 4,
    "start_time": "2021-11-15T06:15:48.438Z"
   },
   {
    "duration": 17,
    "start_time": "2021-11-15T06:15:48.444Z"
   },
   {
    "duration": 3197,
    "start_time": "2021-11-15T06:15:48.463Z"
   },
   {
    "duration": 4,
    "start_time": "2021-11-15T06:16:59.014Z"
   },
   {
    "duration": 3,
    "start_time": "2021-11-15T06:17:07.094Z"
   },
   {
    "duration": 3,
    "start_time": "2021-11-15T06:17:12.232Z"
   },
   {
    "duration": 4,
    "start_time": "2021-11-15T06:17:15.772Z"
   },
   {
    "duration": 9550,
    "start_time": "2021-11-15T06:17:20.781Z"
   },
   {
    "duration": 3,
    "start_time": "2021-11-15T06:20:49.932Z"
   },
   {
    "duration": 781,
    "start_time": "2021-11-15T06:20:51.862Z"
   },
   {
    "duration": 762,
    "start_time": "2021-11-15T06:20:55.918Z"
   },
   {
    "duration": 5,
    "start_time": "2021-11-15T06:23:33.710Z"
   },
   {
    "duration": 5,
    "start_time": "2021-11-15T06:24:01.314Z"
   },
   {
    "duration": 6,
    "start_time": "2021-11-15T06:25:12.524Z"
   },
   {
    "duration": 5,
    "start_time": "2021-11-15T06:25:26.809Z"
   },
   {
    "duration": -323,
    "start_time": "2021-11-15T06:26:45.459Z"
   },
   {
    "duration": 10480,
    "start_time": "2021-11-15T06:26:50.127Z"
   },
   {
    "duration": 27,
    "start_time": "2021-11-15T06:27:47.318Z"
   },
   {
    "duration": 48,
    "start_time": "2021-11-15T06:28:15.295Z"
   },
   {
    "duration": 8,
    "start_time": "2021-11-15T06:29:09.004Z"
   },
   {
    "duration": 7,
    "start_time": "2021-11-15T06:29:44.707Z"
   },
   {
    "duration": 11,
    "start_time": "2021-11-15T06:30:13.854Z"
   },
   {
    "duration": 50,
    "start_time": "2021-11-15T06:31:40.504Z"
   },
   {
    "duration": 4,
    "start_time": "2021-11-15T06:31:40.555Z"
   },
   {
    "duration": 22,
    "start_time": "2021-11-15T06:31:40.561Z"
   },
   {
    "duration": 22,
    "start_time": "2021-11-15T06:31:40.585Z"
   },
   {
    "duration": 18,
    "start_time": "2021-11-15T06:31:40.608Z"
   },
   {
    "duration": 11,
    "start_time": "2021-11-15T06:31:40.628Z"
   },
   {
    "duration": 21,
    "start_time": "2021-11-15T06:31:40.640Z"
   },
   {
    "duration": 5,
    "start_time": "2021-11-15T06:31:40.663Z"
   },
   {
    "duration": 21,
    "start_time": "2021-11-15T06:31:40.705Z"
   },
   {
    "duration": 7,
    "start_time": "2021-11-15T06:31:40.728Z"
   },
   {
    "duration": 5,
    "start_time": "2021-11-15T06:31:40.737Z"
   },
   {
    "duration": 28,
    "start_time": "2021-11-15T06:31:40.744Z"
   },
   {
    "duration": 4,
    "start_time": "2021-11-15T06:31:40.774Z"
   },
   {
    "duration": 35,
    "start_time": "2021-11-15T06:31:40.780Z"
   },
   {
    "duration": 12,
    "start_time": "2021-11-15T06:31:40.817Z"
   },
   {
    "duration": 7,
    "start_time": "2021-11-15T06:31:40.831Z"
   },
   {
    "duration": 5,
    "start_time": "2021-11-15T06:31:40.842Z"
   },
   {
    "duration": 16,
    "start_time": "2021-11-15T06:31:40.848Z"
   },
   {
    "duration": 17,
    "start_time": "2021-11-15T06:31:40.866Z"
   },
   {
    "duration": 27,
    "start_time": "2021-11-15T06:31:40.884Z"
   },
   {
    "duration": 10,
    "start_time": "2021-11-15T06:31:40.912Z"
   },
   {
    "duration": 8,
    "start_time": "2021-11-15T06:31:40.924Z"
   },
   {
    "duration": 7,
    "start_time": "2021-11-15T06:31:40.934Z"
   },
   {
    "duration": 9,
    "start_time": "2021-11-15T06:31:40.942Z"
   },
   {
    "duration": 7,
    "start_time": "2021-11-15T06:31:40.953Z"
   },
   {
    "duration": 9,
    "start_time": "2021-11-15T06:31:40.961Z"
   },
   {
    "duration": 38,
    "start_time": "2021-11-15T06:31:40.971Z"
   },
   {
    "duration": 2,
    "start_time": "2021-11-15T06:31:41.010Z"
   },
   {
    "duration": 8,
    "start_time": "2021-11-15T06:31:41.014Z"
   },
   {
    "duration": 13,
    "start_time": "2021-11-15T06:31:41.024Z"
   },
   {
    "duration": 12,
    "start_time": "2021-11-15T06:31:41.039Z"
   },
   {
    "duration": 20,
    "start_time": "2021-11-15T06:31:41.053Z"
   },
   {
    "duration": 31,
    "start_time": "2021-11-15T06:31:41.075Z"
   },
   {
    "duration": 22,
    "start_time": "2021-11-15T06:31:41.107Z"
   },
   {
    "duration": 43,
    "start_time": "2021-11-15T06:31:41.133Z"
   },
   {
    "duration": 3,
    "start_time": "2021-11-15T06:31:41.178Z"
   },
   {
    "duration": 3,
    "start_time": "2021-11-15T06:31:41.211Z"
   },
   {
    "duration": 14,
    "start_time": "2021-11-15T06:31:41.215Z"
   },
   {
    "duration": 24,
    "start_time": "2021-11-15T06:31:41.230Z"
   },
   {
    "duration": 2667,
    "start_time": "2021-11-15T06:31:41.255Z"
   },
   {
    "duration": 22,
    "start_time": "2021-11-15T06:31:43.924Z"
   },
   {
    "duration": 45,
    "start_time": "2021-11-15T06:31:43.947Z"
   },
   {
    "duration": 13,
    "start_time": "2021-11-15T06:31:43.994Z"
   },
   {
    "duration": 4,
    "start_time": "2021-11-15T06:31:44.009Z"
   },
   {
    "duration": 12,
    "start_time": "2021-11-15T06:31:44.015Z"
   },
   {
    "duration": 1000,
    "start_time": "2021-11-15T06:31:44.028Z"
   },
   {
    "duration": -174,
    "start_time": "2021-11-15T06:31:45.204Z"
   },
   {
    "duration": -194,
    "start_time": "2021-11-15T06:31:45.225Z"
   },
   {
    "duration": -217,
    "start_time": "2021-11-15T06:31:45.249Z"
   },
   {
    "duration": -253,
    "start_time": "2021-11-15T06:31:45.286Z"
   },
   {
    "duration": -271,
    "start_time": "2021-11-15T06:31:45.305Z"
   },
   {
    "duration": -285,
    "start_time": "2021-11-15T06:31:45.320Z"
   },
   {
    "duration": 5,
    "start_time": "2021-11-15T06:32:08.571Z"
   },
   {
    "duration": 10,
    "start_time": "2021-11-15T06:32:11.464Z"
   },
   {
    "duration": 9,
    "start_time": "2021-11-15T06:32:51.339Z"
   },
   {
    "duration": 5,
    "start_time": "2021-11-15T06:32:55.108Z"
   },
   {
    "duration": 4,
    "start_time": "2021-11-15T06:38:19.249Z"
   },
   {
    "duration": 23,
    "start_time": "2021-11-15T06:38:24.752Z"
   },
   {
    "duration": 221,
    "start_time": "2021-11-15T06:41:25.041Z"
   },
   {
    "duration": 4,
    "start_time": "2021-11-15T06:41:32.586Z"
   },
   {
    "duration": 4,
    "start_time": "2021-11-15T06:42:19.788Z"
   },
   {
    "duration": 4,
    "start_time": "2021-11-15T06:42:23.900Z"
   },
   {
    "duration": 3173,
    "start_time": "2021-11-15T06:42:31.544Z"
   },
   {
    "duration": 10,
    "start_time": "2021-11-15T06:43:25.274Z"
   },
   {
    "duration": 9,
    "start_time": "2021-11-15T06:45:44.099Z"
   },
   {
    "duration": 4,
    "start_time": "2021-11-15T06:45:50.597Z"
   },
   {
    "duration": 4,
    "start_time": "2021-11-15T06:45:54.140Z"
   },
   {
    "duration": 8907,
    "start_time": "2021-11-15T06:45:59.236Z"
   },
   {
    "duration": 49,
    "start_time": "2021-11-15T06:46:16.252Z"
   },
   {
    "duration": 3,
    "start_time": "2021-11-15T06:46:16.303Z"
   },
   {
    "duration": 19,
    "start_time": "2021-11-15T06:46:16.308Z"
   },
   {
    "duration": 19,
    "start_time": "2021-11-15T06:46:16.329Z"
   },
   {
    "duration": 18,
    "start_time": "2021-11-15T06:46:16.350Z"
   },
   {
    "duration": 12,
    "start_time": "2021-11-15T06:46:16.370Z"
   },
   {
    "duration": 40,
    "start_time": "2021-11-15T06:46:16.383Z"
   },
   {
    "duration": 5,
    "start_time": "2021-11-15T06:46:16.425Z"
   },
   {
    "duration": 20,
    "start_time": "2021-11-15T06:46:16.451Z"
   },
   {
    "duration": 5,
    "start_time": "2021-11-15T06:46:16.472Z"
   },
   {
    "duration": 4,
    "start_time": "2021-11-15T06:46:16.479Z"
   },
   {
    "duration": 39,
    "start_time": "2021-11-15T06:46:16.485Z"
   },
   {
    "duration": 5,
    "start_time": "2021-11-15T06:46:16.526Z"
   },
   {
    "duration": 44,
    "start_time": "2021-11-15T06:46:16.532Z"
   },
   {
    "duration": 7,
    "start_time": "2021-11-15T06:46:16.578Z"
   },
   {
    "duration": 7,
    "start_time": "2021-11-15T06:46:16.587Z"
   },
   {
    "duration": 9,
    "start_time": "2021-11-15T06:46:16.596Z"
   },
   {
    "duration": 16,
    "start_time": "2021-11-15T06:46:16.607Z"
   },
   {
    "duration": 10,
    "start_time": "2021-11-15T06:46:16.625Z"
   },
   {
    "duration": 24,
    "start_time": "2021-11-15T06:46:16.636Z"
   },
   {
    "duration": 13,
    "start_time": "2021-11-15T06:46:16.662Z"
   },
   {
    "duration": 14,
    "start_time": "2021-11-15T06:46:16.676Z"
   },
   {
    "duration": 22,
    "start_time": "2021-11-15T06:46:16.691Z"
   },
   {
    "duration": 11,
    "start_time": "2021-11-15T06:46:16.715Z"
   },
   {
    "duration": 16,
    "start_time": "2021-11-15T06:46:16.727Z"
   },
   {
    "duration": 34,
    "start_time": "2021-11-15T06:46:16.744Z"
   },
   {
    "duration": 20,
    "start_time": "2021-11-15T06:46:16.780Z"
   },
   {
    "duration": 10,
    "start_time": "2021-11-15T06:46:16.802Z"
   },
   {
    "duration": 7,
    "start_time": "2021-11-15T06:46:16.814Z"
   },
   {
    "duration": 15,
    "start_time": "2021-11-15T06:46:16.822Z"
   },
   {
    "duration": 8,
    "start_time": "2021-11-15T06:46:16.839Z"
   },
   {
    "duration": 16,
    "start_time": "2021-11-15T06:46:16.849Z"
   },
   {
    "duration": 24,
    "start_time": "2021-11-15T06:46:16.866Z"
   },
   {
    "duration": 15,
    "start_time": "2021-11-15T06:46:16.892Z"
   },
   {
    "duration": 32,
    "start_time": "2021-11-15T06:46:16.910Z"
   },
   {
    "duration": 3,
    "start_time": "2021-11-15T06:46:16.944Z"
   },
   {
    "duration": 18,
    "start_time": "2021-11-15T06:46:16.949Z"
   },
   {
    "duration": 25,
    "start_time": "2021-11-15T06:46:16.968Z"
   },
   {
    "duration": 20,
    "start_time": "2021-11-15T06:46:16.994Z"
   },
   {
    "duration": 2620,
    "start_time": "2021-11-15T06:46:17.016Z"
   },
   {
    "duration": 19,
    "start_time": "2021-11-15T06:46:19.637Z"
   },
   {
    "duration": 66,
    "start_time": "2021-11-15T06:46:19.658Z"
   },
   {
    "duration": 5,
    "start_time": "2021-11-15T06:46:19.725Z"
   },
   {
    "duration": 13,
    "start_time": "2021-11-15T06:46:19.731Z"
   },
   {
    "duration": 10,
    "start_time": "2021-11-15T06:46:19.746Z"
   },
   {
    "duration": 9,
    "start_time": "2021-11-15T06:46:19.757Z"
   },
   {
    "duration": 3875,
    "start_time": "2021-11-15T06:46:19.768Z"
   },
   {
    "duration": 5,
    "start_time": "2021-11-15T06:46:31.277Z"
   },
   {
    "duration": 15,
    "start_time": "2021-11-15T06:46:31.286Z"
   },
   {
    "duration": 2626,
    "start_time": "2021-11-15T06:46:31.304Z"
   },
   {
    "duration": 20,
    "start_time": "2021-11-15T06:46:33.932Z"
   },
   {
    "duration": 11,
    "start_time": "2021-11-15T06:46:33.954Z"
   },
   {
    "duration": 44,
    "start_time": "2021-11-15T06:46:33.967Z"
   },
   {
    "duration": 6,
    "start_time": "2021-11-15T06:46:34.012Z"
   },
   {
    "duration": 8,
    "start_time": "2021-11-15T06:46:34.020Z"
   },
   {
    "duration": 10,
    "start_time": "2021-11-15T06:46:34.030Z"
   },
   {
    "duration": 9081,
    "start_time": "2021-11-15T06:46:34.042Z"
   },
   {
    "duration": 20,
    "start_time": "2021-11-15T06:46:43.126Z"
   },
   {
    "duration": 16,
    "start_time": "2021-11-15T06:46:43.147Z"
   },
   {
    "duration": 19,
    "start_time": "2021-11-15T06:46:43.165Z"
   },
   {
    "duration": 22,
    "start_time": "2021-11-15T06:46:43.186Z"
   },
   {
    "duration": 7,
    "start_time": "2021-11-15T06:46:43.210Z"
   },
   {
    "duration": 17,
    "start_time": "2021-11-15T06:46:43.219Z"
   },
   {
    "duration": 23,
    "start_time": "2021-11-15T06:46:43.237Z"
   },
   {
    "duration": 12,
    "start_time": "2021-11-15T06:46:43.261Z"
   },
   {
    "duration": 20,
    "start_time": "2021-11-15T06:46:43.275Z"
   },
   {
    "duration": 14,
    "start_time": "2021-11-15T06:46:43.297Z"
   },
   {
    "duration": 34,
    "start_time": "2021-11-15T06:46:43.312Z"
   },
   {
    "duration": 9,
    "start_time": "2021-11-15T06:46:43.348Z"
   },
   {
    "duration": 15,
    "start_time": "2021-11-15T06:46:43.359Z"
   },
   {
    "duration": 22,
    "start_time": "2021-11-15T06:46:43.376Z"
   },
   {
    "duration": 11,
    "start_time": "2021-11-15T06:46:43.401Z"
   },
   {
    "duration": 25,
    "start_time": "2021-11-15T06:46:43.414Z"
   },
   {
    "duration": 15,
    "start_time": "2021-11-15T06:46:43.441Z"
   },
   {
    "duration": 14,
    "start_time": "2021-11-15T06:46:43.458Z"
   },
   {
    "duration": 11,
    "start_time": "2021-11-15T06:46:43.474Z"
   },
   {
    "duration": 17,
    "start_time": "2021-11-15T06:46:43.486Z"
   },
   {
    "duration": 15,
    "start_time": "2021-11-15T06:46:43.505Z"
   },
   {
    "duration": 14,
    "start_time": "2021-11-15T06:46:43.521Z"
   },
   {
    "duration": 17,
    "start_time": "2021-11-15T06:46:43.537Z"
   },
   {
    "duration": 6,
    "start_time": "2021-11-15T06:46:43.556Z"
   },
   {
    "duration": 3285,
    "start_time": "2021-11-15T06:46:48.725Z"
   },
   {
    "duration": 23,
    "start_time": "2021-11-15T06:47:48.296Z"
   },
   {
    "duration": 19,
    "start_time": "2021-11-15T06:55:42.336Z"
   },
   {
    "duration": 4,
    "start_time": "2021-11-15T06:55:44.281Z"
   },
   {
    "duration": 49,
    "start_time": "2021-11-15T06:55:49.101Z"
   },
   {
    "duration": 4,
    "start_time": "2021-11-15T06:55:49.151Z"
   },
   {
    "duration": 48,
    "start_time": "2021-11-15T06:55:49.157Z"
   },
   {
    "duration": 43,
    "start_time": "2021-11-15T06:55:49.207Z"
   },
   {
    "duration": 40,
    "start_time": "2021-11-15T06:55:49.251Z"
   },
   {
    "duration": 15,
    "start_time": "2021-11-15T06:55:49.292Z"
   },
   {
    "duration": 39,
    "start_time": "2021-11-15T06:55:49.308Z"
   },
   {
    "duration": 8,
    "start_time": "2021-11-15T06:55:49.350Z"
   },
   {
    "duration": 49,
    "start_time": "2021-11-15T06:55:49.360Z"
   },
   {
    "duration": 42,
    "start_time": "2021-11-15T06:55:49.411Z"
   },
   {
    "duration": 22,
    "start_time": "2021-11-15T06:55:49.455Z"
   },
   {
    "duration": 43,
    "start_time": "2021-11-15T06:55:49.479Z"
   },
   {
    "duration": 24,
    "start_time": "2021-11-15T06:55:49.524Z"
   },
   {
    "duration": 26,
    "start_time": "2021-11-15T06:55:49.550Z"
   },
   {
    "duration": 31,
    "start_time": "2021-11-15T06:55:49.578Z"
   },
   {
    "duration": 27,
    "start_time": "2021-11-15T06:55:49.611Z"
   },
   {
    "duration": 22,
    "start_time": "2021-11-15T06:55:49.640Z"
   },
   {
    "duration": 40,
    "start_time": "2021-11-15T06:55:49.664Z"
   },
   {
    "duration": 23,
    "start_time": "2021-11-15T06:55:49.706Z"
   },
   {
    "duration": 28,
    "start_time": "2021-11-15T06:55:49.731Z"
   },
   {
    "duration": 27,
    "start_time": "2021-11-15T06:55:49.761Z"
   },
   {
    "duration": 28,
    "start_time": "2021-11-15T06:55:49.790Z"
   },
   {
    "duration": 22,
    "start_time": "2021-11-15T06:55:49.821Z"
   },
   {
    "duration": 34,
    "start_time": "2021-11-15T06:55:49.845Z"
   },
   {
    "duration": 18,
    "start_time": "2021-11-15T06:55:49.880Z"
   },
   {
    "duration": 27,
    "start_time": "2021-11-15T06:55:49.900Z"
   },
   {
    "duration": 29,
    "start_time": "2021-11-15T06:55:49.928Z"
   },
   {
    "duration": 26,
    "start_time": "2021-11-15T06:55:49.959Z"
   },
   {
    "duration": 25,
    "start_time": "2021-11-15T06:55:49.987Z"
   },
   {
    "duration": 40,
    "start_time": "2021-11-15T06:55:50.014Z"
   },
   {
    "duration": 31,
    "start_time": "2021-11-15T06:55:50.056Z"
   },
   {
    "duration": 34,
    "start_time": "2021-11-15T06:55:50.089Z"
   },
   {
    "duration": 44,
    "start_time": "2021-11-15T06:55:50.124Z"
   },
   {
    "duration": 22,
    "start_time": "2021-11-15T06:55:50.170Z"
   },
   {
    "duration": 56,
    "start_time": "2021-11-15T06:55:50.193Z"
   },
   {
    "duration": 3,
    "start_time": "2021-11-15T06:55:50.251Z"
   },
   {
    "duration": 14,
    "start_time": "2021-11-15T06:55:50.255Z"
   },
   {
    "duration": 21,
    "start_time": "2021-11-15T06:55:50.271Z"
   },
   {
    "duration": 21,
    "start_time": "2021-11-15T06:55:50.293Z"
   },
   {
    "duration": 2550,
    "start_time": "2021-11-15T06:55:50.315Z"
   },
   {
    "duration": 54,
    "start_time": "2021-11-15T06:55:52.867Z"
   },
   {
    "duration": 40,
    "start_time": "2021-11-15T06:55:52.923Z"
   },
   {
    "duration": 16,
    "start_time": "2021-11-15T06:55:52.965Z"
   },
   {
    "duration": 29,
    "start_time": "2021-11-15T06:55:52.983Z"
   },
   {
    "duration": 43,
    "start_time": "2021-11-15T06:55:53.013Z"
   },
   {
    "duration": 25,
    "start_time": "2021-11-15T06:55:53.058Z"
   },
   {
    "duration": 4,
    "start_time": "2021-11-15T06:55:58.235Z"
   },
   {
    "duration": 31,
    "start_time": "2021-11-15T06:55:58.242Z"
   },
   {
    "duration": 2599,
    "start_time": "2021-11-15T06:55:58.274Z"
   },
   {
    "duration": 20,
    "start_time": "2021-11-15T06:56:00.906Z"
   },
   {
    "duration": 35,
    "start_time": "2021-11-15T06:56:00.928Z"
   },
   {
    "duration": 12,
    "start_time": "2021-11-15T06:56:00.965Z"
   },
   {
    "duration": 26,
    "start_time": "2021-11-15T06:56:00.978Z"
   },
   {
    "duration": 25,
    "start_time": "2021-11-15T06:56:01.006Z"
   },
   {
    "duration": 37,
    "start_time": "2021-11-15T06:56:01.033Z"
   },
   {
    "duration": 3349,
    "start_time": "2021-11-15T06:56:01.072Z"
   },
   {
    "duration": 18,
    "start_time": "2021-11-15T06:56:04.423Z"
   },
   {
    "duration": 4,
    "start_time": "2021-11-15T06:56:04.443Z"
   },
   {
    "duration": 15,
    "start_time": "2021-11-15T06:56:04.449Z"
   },
   {
    "duration": 26,
    "start_time": "2021-11-15T06:56:04.466Z"
   },
   {
    "duration": 12,
    "start_time": "2021-11-15T06:56:04.493Z"
   },
   {
    "duration": 23,
    "start_time": "2021-11-15T06:56:04.506Z"
   },
   {
    "duration": 28,
    "start_time": "2021-11-15T06:56:04.531Z"
   },
   {
    "duration": 17,
    "start_time": "2021-11-15T06:56:04.561Z"
   },
   {
    "duration": 20,
    "start_time": "2021-11-15T06:56:04.580Z"
   },
   {
    "duration": 24,
    "start_time": "2021-11-15T06:56:04.601Z"
   },
   {
    "duration": 32,
    "start_time": "2021-11-15T06:56:04.627Z"
   },
   {
    "duration": 21,
    "start_time": "2021-11-15T06:56:04.660Z"
   },
   {
    "duration": 19,
    "start_time": "2021-11-15T06:56:04.683Z"
   },
   {
    "duration": 18,
    "start_time": "2021-11-15T06:56:04.706Z"
   },
   {
    "duration": 21,
    "start_time": "2021-11-15T06:56:04.726Z"
   },
   {
    "duration": 39,
    "start_time": "2021-11-15T06:56:04.749Z"
   },
   {
    "duration": 21,
    "start_time": "2021-11-15T06:56:04.790Z"
   },
   {
    "duration": 15,
    "start_time": "2021-11-15T06:56:04.812Z"
   },
   {
    "duration": 23,
    "start_time": "2021-11-15T06:56:04.829Z"
   },
   {
    "duration": 34,
    "start_time": "2021-11-15T06:56:04.853Z"
   },
   {
    "duration": 25,
    "start_time": "2021-11-15T06:56:04.889Z"
   },
   {
    "duration": 18,
    "start_time": "2021-11-15T06:56:04.916Z"
   },
   {
    "duration": 29,
    "start_time": "2021-11-15T06:56:04.935Z"
   },
   {
    "duration": 22,
    "start_time": "2021-11-15T06:56:04.966Z"
   },
   {
    "duration": 25,
    "start_time": "2021-11-15T06:57:54.120Z"
   },
   {
    "duration": 18,
    "start_time": "2021-11-15T06:59:23.629Z"
   },
   {
    "duration": 18,
    "start_time": "2021-11-15T06:59:29.057Z"
   },
   {
    "duration": 4,
    "start_time": "2021-11-15T06:59:32.037Z"
   },
   {
    "duration": 19,
    "start_time": "2021-11-15T06:59:41.344Z"
   },
   {
    "duration": 48,
    "start_time": "2021-11-15T06:59:47.518Z"
   },
   {
    "duration": 3,
    "start_time": "2021-11-15T06:59:47.568Z"
   },
   {
    "duration": 30,
    "start_time": "2021-11-15T06:59:47.573Z"
   },
   {
    "duration": 15,
    "start_time": "2021-11-15T06:59:47.605Z"
   },
   {
    "duration": 38,
    "start_time": "2021-11-15T06:59:47.622Z"
   },
   {
    "duration": 17,
    "start_time": "2021-11-15T06:59:47.662Z"
   },
   {
    "duration": 35,
    "start_time": "2021-11-15T06:59:47.681Z"
   },
   {
    "duration": 6,
    "start_time": "2021-11-15T06:59:47.718Z"
   },
   {
    "duration": 27,
    "start_time": "2021-11-15T06:59:47.725Z"
   },
   {
    "duration": 14,
    "start_time": "2021-11-15T06:59:47.754Z"
   },
   {
    "duration": 12,
    "start_time": "2021-11-15T06:59:47.770Z"
   },
   {
    "duration": 35,
    "start_time": "2021-11-15T06:59:47.784Z"
   },
   {
    "duration": 11,
    "start_time": "2021-11-15T06:59:47.821Z"
   },
   {
    "duration": 27,
    "start_time": "2021-11-15T06:59:47.833Z"
   },
   {
    "duration": 15,
    "start_time": "2021-11-15T06:59:47.862Z"
   },
   {
    "duration": 19,
    "start_time": "2021-11-15T06:59:47.879Z"
   },
   {
    "duration": 31,
    "start_time": "2021-11-15T06:59:47.899Z"
   },
   {
    "duration": 27,
    "start_time": "2021-11-15T06:59:47.932Z"
   },
   {
    "duration": 12,
    "start_time": "2021-11-15T06:59:47.961Z"
   },
   {
    "duration": 20,
    "start_time": "2021-11-15T06:59:47.975Z"
   },
   {
    "duration": 15,
    "start_time": "2021-11-15T06:59:47.997Z"
   },
   {
    "duration": 18,
    "start_time": "2021-11-15T06:59:48.014Z"
   },
   {
    "duration": 18,
    "start_time": "2021-11-15T06:59:48.034Z"
   },
   {
    "duration": 19,
    "start_time": "2021-11-15T06:59:48.053Z"
   },
   {
    "duration": 15,
    "start_time": "2021-11-15T06:59:48.073Z"
   },
   {
    "duration": 10,
    "start_time": "2021-11-15T06:59:48.090Z"
   },
   {
    "duration": 25,
    "start_time": "2021-11-15T06:59:48.102Z"
   },
   {
    "duration": 22,
    "start_time": "2021-11-15T06:59:48.129Z"
   },
   {
    "duration": 21,
    "start_time": "2021-11-15T06:59:48.153Z"
   },
   {
    "duration": 32,
    "start_time": "2021-11-15T06:59:48.177Z"
   },
   {
    "duration": 22,
    "start_time": "2021-11-15T06:59:48.211Z"
   },
   {
    "duration": 23,
    "start_time": "2021-11-15T06:59:48.235Z"
   },
   {
    "duration": 39,
    "start_time": "2021-11-15T06:59:48.260Z"
   },
   {
    "duration": 23,
    "start_time": "2021-11-15T06:59:48.301Z"
   },
   {
    "duration": 45,
    "start_time": "2021-11-15T06:59:48.326Z"
   },
   {
    "duration": 4,
    "start_time": "2021-11-15T06:59:48.373Z"
   },
   {
    "duration": 18,
    "start_time": "2021-11-15T06:59:48.379Z"
   },
   {
    "duration": 19,
    "start_time": "2021-11-15T06:59:48.399Z"
   },
   {
    "duration": 21,
    "start_time": "2021-11-15T06:59:48.420Z"
   },
   {
    "duration": 2631,
    "start_time": "2021-11-15T06:59:48.442Z"
   },
   {
    "duration": 27,
    "start_time": "2021-11-15T06:59:51.108Z"
   },
   {
    "duration": 30,
    "start_time": "2021-11-15T06:59:51.138Z"
   },
   {
    "duration": 6,
    "start_time": "2021-11-15T06:59:51.170Z"
   },
   {
    "duration": 30,
    "start_time": "2021-11-15T06:59:51.178Z"
   },
   {
    "duration": 28,
    "start_time": "2021-11-15T06:59:51.210Z"
   },
   {
    "duration": 20,
    "start_time": "2021-11-15T06:59:54.035Z"
   },
   {
    "duration": 5,
    "start_time": "2021-11-15T06:59:54.057Z"
   },
   {
    "duration": 3588,
    "start_time": "2021-11-15T06:59:54.066Z"
   },
   {
    "duration": 20,
    "start_time": "2021-11-15T06:59:57.655Z"
   },
   {
    "duration": 32,
    "start_time": "2021-11-15T06:59:57.676Z"
   },
   {
    "duration": 8,
    "start_time": "2021-11-15T06:59:57.711Z"
   },
   {
    "duration": 16,
    "start_time": "2021-11-15T06:59:57.722Z"
   },
   {
    "duration": 5,
    "start_time": "2021-11-15T06:59:57.741Z"
   },
   {
    "duration": 7,
    "start_time": "2021-11-15T06:59:57.748Z"
   },
   {
    "duration": 8,
    "start_time": "2021-11-15T06:59:57.759Z"
   },
   {
    "duration": 10,
    "start_time": "2021-11-15T06:59:57.769Z"
   },
   {
    "duration": 5,
    "start_time": "2021-11-15T06:59:57.781Z"
   },
   {
    "duration": 22,
    "start_time": "2021-11-15T06:59:57.788Z"
   },
   {
    "duration": 28,
    "start_time": "2021-11-15T06:59:57.812Z"
   },
   {
    "duration": 4,
    "start_time": "2021-11-15T06:59:57.842Z"
   },
   {
    "duration": 4,
    "start_time": "2021-11-15T06:59:57.848Z"
   },
   {
    "duration": 12,
    "start_time": "2021-11-15T06:59:57.854Z"
   },
   {
    "duration": 5,
    "start_time": "2021-11-15T06:59:57.867Z"
   },
   {
    "duration": 7,
    "start_time": "2021-11-15T06:59:57.874Z"
   },
   {
    "duration": 24,
    "start_time": "2021-11-15T06:59:57.883Z"
   },
   {
    "duration": 5,
    "start_time": "2021-11-15T06:59:57.909Z"
   },
   {
    "duration": 11,
    "start_time": "2021-11-15T06:59:57.916Z"
   },
   {
    "duration": 5,
    "start_time": "2021-11-15T06:59:57.929Z"
   },
   {
    "duration": 5,
    "start_time": "2021-11-15T06:59:57.935Z"
   },
   {
    "duration": 3,
    "start_time": "2021-11-15T06:59:57.944Z"
   },
   {
    "duration": 5,
    "start_time": "2021-11-15T06:59:57.948Z"
   },
   {
    "duration": 8,
    "start_time": "2021-11-15T06:59:57.955Z"
   },
   {
    "duration": 20,
    "start_time": "2021-11-15T07:00:11.254Z"
   },
   {
    "duration": 5,
    "start_time": "2021-11-15T07:00:33.810Z"
   },
   {
    "duration": 5,
    "start_time": "2021-11-15T07:00:49.062Z"
   },
   {
    "duration": 22,
    "start_time": "2021-11-15T07:01:31.719Z"
   },
   {
    "duration": 49,
    "start_time": "2021-11-15T07:01:50.045Z"
   },
   {
    "duration": 3,
    "start_time": "2021-11-15T07:01:50.096Z"
   },
   {
    "duration": 27,
    "start_time": "2021-11-15T07:01:50.101Z"
   },
   {
    "duration": 23,
    "start_time": "2021-11-15T07:01:50.130Z"
   },
   {
    "duration": 30,
    "start_time": "2021-11-15T07:01:50.155Z"
   },
   {
    "duration": 16,
    "start_time": "2021-11-15T07:01:50.187Z"
   },
   {
    "duration": 29,
    "start_time": "2021-11-15T07:01:50.205Z"
   },
   {
    "duration": 7,
    "start_time": "2021-11-15T07:01:50.236Z"
   },
   {
    "duration": 55,
    "start_time": "2021-11-15T07:01:50.251Z"
   },
   {
    "duration": 2,
    "start_time": "2021-11-15T07:01:50.309Z"
   },
   {
    "duration": 6,
    "start_time": "2021-11-15T07:01:50.314Z"
   },
   {
    "duration": 45,
    "start_time": "2021-11-15T07:01:50.323Z"
   },
   {
    "duration": 7,
    "start_time": "2021-11-15T07:01:50.370Z"
   },
   {
    "duration": 30,
    "start_time": "2021-11-15T07:01:50.379Z"
   },
   {
    "duration": 5,
    "start_time": "2021-11-15T07:01:50.411Z"
   },
   {
    "duration": 22,
    "start_time": "2021-11-15T07:01:50.418Z"
   },
   {
    "duration": 14,
    "start_time": "2021-11-15T07:01:50.443Z"
   },
   {
    "duration": 26,
    "start_time": "2021-11-15T07:01:50.459Z"
   },
   {
    "duration": 10,
    "start_time": "2021-11-15T07:01:50.487Z"
   },
   {
    "duration": 12,
    "start_time": "2021-11-15T07:01:50.499Z"
   },
   {
    "duration": 9,
    "start_time": "2021-11-15T07:01:50.513Z"
   },
   {
    "duration": 28,
    "start_time": "2021-11-15T07:01:50.524Z"
   },
   {
    "duration": 12,
    "start_time": "2021-11-15T07:01:50.554Z"
   },
   {
    "duration": 11,
    "start_time": "2021-11-15T07:01:50.567Z"
   },
   {
    "duration": 6,
    "start_time": "2021-11-15T07:01:50.579Z"
   },
   {
    "duration": 24,
    "start_time": "2021-11-15T07:01:50.586Z"
   },
   {
    "duration": 9,
    "start_time": "2021-11-15T07:01:50.612Z"
   },
   {
    "duration": 12,
    "start_time": "2021-11-15T07:01:50.622Z"
   },
   {
    "duration": 7,
    "start_time": "2021-11-15T07:01:50.636Z"
   },
   {
    "duration": 17,
    "start_time": "2021-11-15T07:01:50.644Z"
   },
   {
    "duration": 10,
    "start_time": "2021-11-15T07:01:50.663Z"
   },
   {
    "duration": 20,
    "start_time": "2021-11-15T07:01:50.675Z"
   },
   {
    "duration": 20,
    "start_time": "2021-11-15T07:01:50.697Z"
   },
   {
    "duration": 16,
    "start_time": "2021-11-15T07:01:50.718Z"
   },
   {
    "duration": 32,
    "start_time": "2021-11-15T07:01:50.738Z"
   },
   {
    "duration": 4,
    "start_time": "2021-11-15T07:01:50.771Z"
   },
   {
    "duration": 16,
    "start_time": "2021-11-15T07:01:50.776Z"
   },
   {
    "duration": 9,
    "start_time": "2021-11-15T07:01:50.807Z"
   },
   {
    "duration": 12,
    "start_time": "2021-11-15T07:01:50.817Z"
   },
   {
    "duration": 2624,
    "start_time": "2021-11-15T07:01:50.830Z"
   },
   {
    "duration": 52,
    "start_time": "2021-11-15T07:01:53.456Z"
   },
   {
    "duration": 32,
    "start_time": "2021-11-15T07:01:53.509Z"
   },
   {
    "duration": 5,
    "start_time": "2021-11-15T07:01:53.543Z"
   },
   {
    "duration": 7,
    "start_time": "2021-11-15T07:01:53.549Z"
   },
   {
    "duration": 21,
    "start_time": "2021-11-15T07:01:53.558Z"
   },
   {
    "duration": 21,
    "start_time": "2021-11-15T07:01:55.083Z"
   },
   {
    "duration": 4,
    "start_time": "2021-11-15T07:01:55.105Z"
   },
   {
    "duration": 3422,
    "start_time": "2021-11-15T07:01:55.113Z"
   },
   {
    "duration": 27,
    "start_time": "2021-11-15T07:01:58.537Z"
   },
   {
    "duration": 6,
    "start_time": "2021-11-15T07:01:58.567Z"
   },
   {
    "duration": 11,
    "start_time": "2021-11-15T07:01:58.575Z"
   },
   {
    "duration": 34,
    "start_time": "2021-11-15T07:01:58.588Z"
   },
   {
    "duration": 24,
    "start_time": "2021-11-15T07:01:58.624Z"
   },
   {
    "duration": 22,
    "start_time": "2021-11-15T07:01:58.650Z"
   },
   {
    "duration": 10,
    "start_time": "2021-11-15T07:01:58.676Z"
   },
   {
    "duration": 22,
    "start_time": "2021-11-15T07:01:58.689Z"
   },
   {
    "duration": 15,
    "start_time": "2021-11-15T07:01:58.713Z"
   },
   {
    "duration": 18,
    "start_time": "2021-11-15T07:01:58.730Z"
   },
   {
    "duration": 47,
    "start_time": "2021-11-15T07:01:58.750Z"
   },
   {
    "duration": 6,
    "start_time": "2021-11-15T07:01:58.799Z"
   },
   {
    "duration": 8,
    "start_time": "2021-11-15T07:01:58.807Z"
   },
   {
    "duration": 5,
    "start_time": "2021-11-15T07:01:58.817Z"
   },
   {
    "duration": 5,
    "start_time": "2021-11-15T07:01:58.824Z"
   },
   {
    "duration": 6,
    "start_time": "2021-11-15T07:01:58.831Z"
   },
   {
    "duration": 6,
    "start_time": "2021-11-15T07:01:58.838Z"
   },
   {
    "duration": 6,
    "start_time": "2021-11-15T07:01:58.846Z"
   },
   {
    "duration": 8,
    "start_time": "2021-11-15T07:01:58.853Z"
   },
   {
    "duration": 7,
    "start_time": "2021-11-15T07:01:58.863Z"
   },
   {
    "duration": 6,
    "start_time": "2021-11-15T07:01:58.871Z"
   },
   {
    "duration": 8,
    "start_time": "2021-11-15T07:01:58.879Z"
   },
   {
    "duration": 12,
    "start_time": "2021-11-15T07:01:58.889Z"
   },
   {
    "duration": 6,
    "start_time": "2021-11-15T07:01:58.903Z"
   },
   {
    "duration": 52,
    "start_time": "2021-11-15T07:02:41.341Z"
   },
   {
    "duration": 4,
    "start_time": "2021-11-15T07:02:41.395Z"
   },
   {
    "duration": 20,
    "start_time": "2021-11-15T07:02:41.402Z"
   },
   {
    "duration": 17,
    "start_time": "2021-11-15T07:02:41.424Z"
   },
   {
    "duration": 24,
    "start_time": "2021-11-15T07:02:41.443Z"
   },
   {
    "duration": 20,
    "start_time": "2021-11-15T07:02:41.469Z"
   },
   {
    "duration": 32,
    "start_time": "2021-11-15T07:02:41.491Z"
   },
   {
    "duration": 7,
    "start_time": "2021-11-15T07:02:41.526Z"
   },
   {
    "duration": 36,
    "start_time": "2021-11-15T07:02:41.538Z"
   },
   {
    "duration": 23,
    "start_time": "2021-11-15T07:02:41.576Z"
   },
   {
    "duration": 24,
    "start_time": "2021-11-15T07:02:41.602Z"
   },
   {
    "duration": 26,
    "start_time": "2021-11-15T07:02:41.628Z"
   },
   {
    "duration": 13,
    "start_time": "2021-11-15T07:02:41.656Z"
   },
   {
    "duration": 19,
    "start_time": "2021-11-15T07:02:41.671Z"
   },
   {
    "duration": 13,
    "start_time": "2021-11-15T07:02:41.692Z"
   },
   {
    "duration": 10,
    "start_time": "2021-11-15T07:02:41.707Z"
   },
   {
    "duration": 14,
    "start_time": "2021-11-15T07:02:41.720Z"
   },
   {
    "duration": 21,
    "start_time": "2021-11-15T07:02:41.737Z"
   },
   {
    "duration": 9,
    "start_time": "2021-11-15T07:02:41.759Z"
   },
   {
    "duration": 14,
    "start_time": "2021-11-15T07:02:41.770Z"
   },
   {
    "duration": 7,
    "start_time": "2021-11-15T07:02:41.786Z"
   },
   {
    "duration": 17,
    "start_time": "2021-11-15T07:02:41.795Z"
   },
   {
    "duration": 10,
    "start_time": "2021-11-15T07:02:41.814Z"
   },
   {
    "duration": 13,
    "start_time": "2021-11-15T07:02:41.826Z"
   },
   {
    "duration": 17,
    "start_time": "2021-11-15T07:02:41.840Z"
   },
   {
    "duration": 21,
    "start_time": "2021-11-15T07:02:41.859Z"
   },
   {
    "duration": 17,
    "start_time": "2021-11-15T07:02:41.882Z"
   },
   {
    "duration": 18,
    "start_time": "2021-11-15T07:02:41.901Z"
   },
   {
    "duration": 12,
    "start_time": "2021-11-15T07:02:41.921Z"
   },
   {
    "duration": 22,
    "start_time": "2021-11-15T07:02:41.935Z"
   },
   {
    "duration": 17,
    "start_time": "2021-11-15T07:02:41.958Z"
   },
   {
    "duration": 17,
    "start_time": "2021-11-15T07:02:41.976Z"
   },
   {
    "duration": 23,
    "start_time": "2021-11-15T07:02:41.994Z"
   },
   {
    "duration": 16,
    "start_time": "2021-11-15T07:02:42.018Z"
   },
   {
    "duration": 41,
    "start_time": "2021-11-15T07:02:42.038Z"
   },
   {
    "duration": 4,
    "start_time": "2021-11-15T07:02:42.081Z"
   },
   {
    "duration": 11,
    "start_time": "2021-11-15T07:02:42.087Z"
   },
   {
    "duration": 13,
    "start_time": "2021-11-15T07:02:42.107Z"
   },
   {
    "duration": 16,
    "start_time": "2021-11-15T07:02:42.122Z"
   },
   {
    "duration": 2828,
    "start_time": "2021-11-15T07:02:42.140Z"
   },
   {
    "duration": 47,
    "start_time": "2021-11-15T07:02:44.970Z"
   },
   {
    "duration": 33,
    "start_time": "2021-11-15T07:02:45.019Z"
   },
   {
    "duration": 18,
    "start_time": "2021-11-15T07:02:45.054Z"
   },
   {
    "duration": 45,
    "start_time": "2021-11-15T07:02:45.074Z"
   },
   {
    "duration": 6,
    "start_time": "2021-11-15T07:02:46.242Z"
   },
   {
    "duration": 39,
    "start_time": "2021-11-15T07:02:46.250Z"
   },
   {
    "duration": 3446,
    "start_time": "2021-11-15T07:02:46.292Z"
   },
   {
    "duration": 18,
    "start_time": "2021-11-15T07:02:49.740Z"
   },
   {
    "duration": 4,
    "start_time": "2021-11-15T07:02:49.760Z"
   },
   {
    "duration": 5,
    "start_time": "2021-11-15T07:02:49.766Z"
   },
   {
    "duration": 41,
    "start_time": "2021-11-15T07:02:49.773Z"
   },
   {
    "duration": 4,
    "start_time": "2021-11-15T07:02:49.816Z"
   },
   {
    "duration": 5,
    "start_time": "2021-11-15T07:02:49.823Z"
   },
   {
    "duration": 7,
    "start_time": "2021-11-15T07:02:49.830Z"
   },
   {
    "duration": 11,
    "start_time": "2021-11-15T07:02:49.839Z"
   },
   {
    "duration": 12,
    "start_time": "2021-11-15T07:02:49.852Z"
   },
   {
    "duration": 11,
    "start_time": "2021-11-15T07:02:49.866Z"
   },
   {
    "duration": 19,
    "start_time": "2021-11-15T07:02:49.879Z"
   },
   {
    "duration": 2,
    "start_time": "2021-11-15T07:02:49.899Z"
   },
   {
    "duration": 9,
    "start_time": "2021-11-15T07:02:49.906Z"
   },
   {
    "duration": 8,
    "start_time": "2021-11-15T07:02:49.917Z"
   },
   {
    "duration": 7,
    "start_time": "2021-11-15T07:02:49.927Z"
   },
   {
    "duration": 5,
    "start_time": "2021-11-15T07:02:49.936Z"
   },
   {
    "duration": 7,
    "start_time": "2021-11-15T07:02:49.942Z"
   },
   {
    "duration": 7,
    "start_time": "2021-11-15T07:02:49.950Z"
   },
   {
    "duration": 7,
    "start_time": "2021-11-15T07:02:49.958Z"
   },
   {
    "duration": 12,
    "start_time": "2021-11-15T07:02:49.967Z"
   },
   {
    "duration": 20,
    "start_time": "2021-11-15T07:02:49.981Z"
   },
   {
    "duration": 8,
    "start_time": "2021-11-15T07:02:50.002Z"
   },
   {
    "duration": 7,
    "start_time": "2021-11-15T07:02:50.011Z"
   },
   {
    "duration": 20,
    "start_time": "2021-11-15T07:02:50.019Z"
   },
   {
    "duration": 5,
    "start_time": "2021-11-15T07:03:36.562Z"
   },
   {
    "duration": 5,
    "start_time": "2021-11-15T07:03:46.271Z"
   },
   {
    "duration": 49,
    "start_time": "2021-11-15T07:03:55.957Z"
   },
   {
    "duration": 3,
    "start_time": "2021-11-15T07:03:56.008Z"
   },
   {
    "duration": 22,
    "start_time": "2021-11-15T07:03:56.013Z"
   },
   {
    "duration": 18,
    "start_time": "2021-11-15T07:03:56.037Z"
   },
   {
    "duration": 19,
    "start_time": "2021-11-15T07:03:56.057Z"
   },
   {
    "duration": 29,
    "start_time": "2021-11-15T07:03:56.078Z"
   },
   {
    "duration": 21,
    "start_time": "2021-11-15T07:03:56.109Z"
   },
   {
    "duration": 6,
    "start_time": "2021-11-15T07:03:56.132Z"
   },
   {
    "duration": 23,
    "start_time": "2021-11-15T07:03:56.165Z"
   },
   {
    "duration": 16,
    "start_time": "2021-11-15T07:03:56.191Z"
   },
   {
    "duration": 5,
    "start_time": "2021-11-15T07:03:56.210Z"
   },
   {
    "duration": 22,
    "start_time": "2021-11-15T07:03:56.217Z"
   },
   {
    "duration": 4,
    "start_time": "2021-11-15T07:03:56.241Z"
   },
   {
    "duration": 9,
    "start_time": "2021-11-15T07:03:56.247Z"
   },
   {
    "duration": 6,
    "start_time": "2021-11-15T07:03:56.257Z"
   },
   {
    "duration": 5,
    "start_time": "2021-11-15T07:03:56.265Z"
   },
   {
    "duration": 38,
    "start_time": "2021-11-15T07:03:56.272Z"
   },
   {
    "duration": 15,
    "start_time": "2021-11-15T07:03:56.312Z"
   },
   {
    "duration": 5,
    "start_time": "2021-11-15T07:03:56.328Z"
   },
   {
    "duration": 6,
    "start_time": "2021-11-15T07:03:56.334Z"
   },
   {
    "duration": 5,
    "start_time": "2021-11-15T07:03:56.342Z"
   },
   {
    "duration": 6,
    "start_time": "2021-11-15T07:03:56.348Z"
   },
   {
    "duration": 6,
    "start_time": "2021-11-15T07:03:56.355Z"
   },
   {
    "duration": 44,
    "start_time": "2021-11-15T07:03:56.363Z"
   },
   {
    "duration": 3,
    "start_time": "2021-11-15T07:03:56.410Z"
   },
   {
    "duration": 12,
    "start_time": "2021-11-15T07:03:56.415Z"
   },
   {
    "duration": 11,
    "start_time": "2021-11-15T07:03:56.429Z"
   },
   {
    "duration": 7,
    "start_time": "2021-11-15T07:03:56.442Z"
   },
   {
    "duration": 8,
    "start_time": "2021-11-15T07:03:56.451Z"
   },
   {
    "duration": 14,
    "start_time": "2021-11-15T07:03:56.460Z"
   },
   {
    "duration": 5,
    "start_time": "2021-11-15T07:03:56.476Z"
   },
   {
    "duration": 10,
    "start_time": "2021-11-15T07:03:56.483Z"
   },
   {
    "duration": 23,
    "start_time": "2021-11-15T07:03:56.495Z"
   },
   {
    "duration": 16,
    "start_time": "2021-11-15T07:03:56.520Z"
   },
   {
    "duration": 30,
    "start_time": "2021-11-15T07:03:56.539Z"
   },
   {
    "duration": 3,
    "start_time": "2021-11-15T07:03:56.571Z"
   },
   {
    "duration": 5,
    "start_time": "2021-11-15T07:03:56.576Z"
   },
   {
    "duration": 5,
    "start_time": "2021-11-15T07:03:56.607Z"
   },
   {
    "duration": 12,
    "start_time": "2021-11-15T07:03:56.614Z"
   },
   {
    "duration": 2583,
    "start_time": "2021-11-15T07:03:56.628Z"
   },
   {
    "duration": 21,
    "start_time": "2021-11-15T07:03:59.212Z"
   },
   {
    "duration": 24,
    "start_time": "2021-11-15T07:03:59.235Z"
   },
   {
    "duration": 6,
    "start_time": "2021-11-15T07:03:59.261Z"
   },
   {
    "duration": 6,
    "start_time": "2021-11-15T07:03:59.268Z"
   },
   {
    "duration": 5,
    "start_time": "2021-11-15T07:03:59.307Z"
   },
   {
    "duration": 5,
    "start_time": "2021-11-15T07:04:00.835Z"
   },
   {
    "duration": 22,
    "start_time": "2021-11-15T07:04:00.843Z"
   },
   {
    "duration": 3301,
    "start_time": "2021-11-15T07:04:00.867Z"
   },
   {
    "duration": 53,
    "start_time": "2021-11-15T07:04:04.170Z"
   },
   {
    "duration": 3,
    "start_time": "2021-11-15T07:04:04.224Z"
   },
   {
    "duration": 8,
    "start_time": "2021-11-15T07:04:04.228Z"
   },
   {
    "duration": 16,
    "start_time": "2021-11-15T07:04:04.238Z"
   },
   {
    "duration": 4,
    "start_time": "2021-11-15T07:04:04.256Z"
   },
   {
    "duration": 8,
    "start_time": "2021-11-15T07:04:04.262Z"
   },
   {
    "duration": 8,
    "start_time": "2021-11-15T07:04:04.272Z"
   },
   {
    "duration": 8,
    "start_time": "2021-11-15T07:04:04.282Z"
   },
   {
    "duration": 9,
    "start_time": "2021-11-15T07:04:04.291Z"
   },
   {
    "duration": 14,
    "start_time": "2021-11-15T07:04:04.307Z"
   },
   {
    "duration": 19,
    "start_time": "2021-11-15T07:04:04.323Z"
   },
   {
    "duration": 19,
    "start_time": "2021-11-15T07:04:04.344Z"
   },
   {
    "duration": 6,
    "start_time": "2021-11-15T07:04:04.365Z"
   },
   {
    "duration": 16,
    "start_time": "2021-11-15T07:04:04.373Z"
   },
   {
    "duration": 13,
    "start_time": "2021-11-15T07:04:04.390Z"
   },
   {
    "duration": 5,
    "start_time": "2021-11-15T07:04:04.405Z"
   },
   {
    "duration": 6,
    "start_time": "2021-11-15T07:04:04.413Z"
   },
   {
    "duration": 7,
    "start_time": "2021-11-15T07:04:04.421Z"
   },
   {
    "duration": 12,
    "start_time": "2021-11-15T07:04:04.430Z"
   },
   {
    "duration": 13,
    "start_time": "2021-11-15T07:04:04.444Z"
   },
   {
    "duration": 16,
    "start_time": "2021-11-15T07:04:04.459Z"
   },
   {
    "duration": 5,
    "start_time": "2021-11-15T07:04:04.477Z"
   },
   {
    "duration": 9,
    "start_time": "2021-11-15T07:04:04.483Z"
   },
   {
    "duration": 11,
    "start_time": "2021-11-15T07:04:04.494Z"
   },
   {
    "duration": 10,
    "start_time": "2021-11-15T07:06:59.639Z"
   },
   {
    "duration": 48,
    "start_time": "2021-11-15T07:07:16.534Z"
   },
   {
    "duration": 3,
    "start_time": "2021-11-15T07:07:16.584Z"
   },
   {
    "duration": 26,
    "start_time": "2021-11-15T07:07:16.589Z"
   },
   {
    "duration": 21,
    "start_time": "2021-11-15T07:07:16.617Z"
   },
   {
    "duration": 26,
    "start_time": "2021-11-15T07:07:16.640Z"
   },
   {
    "duration": 12,
    "start_time": "2021-11-15T07:07:16.668Z"
   },
   {
    "duration": 43,
    "start_time": "2021-11-15T07:07:16.682Z"
   },
   {
    "duration": 5,
    "start_time": "2021-11-15T07:07:16.727Z"
   },
   {
    "duration": 32,
    "start_time": "2021-11-15T07:07:16.734Z"
   },
   {
    "duration": 7,
    "start_time": "2021-11-15T07:07:16.768Z"
   },
   {
    "duration": 11,
    "start_time": "2021-11-15T07:07:16.777Z"
   },
   {
    "duration": 36,
    "start_time": "2021-11-15T07:07:16.790Z"
   },
   {
    "duration": 5,
    "start_time": "2021-11-15T07:07:16.828Z"
   },
   {
    "duration": 13,
    "start_time": "2021-11-15T07:07:16.835Z"
   },
   {
    "duration": 11,
    "start_time": "2021-11-15T07:07:16.850Z"
   },
   {
    "duration": 7,
    "start_time": "2021-11-15T07:07:16.864Z"
   },
   {
    "duration": 7,
    "start_time": "2021-11-15T07:07:16.873Z"
   },
   {
    "duration": 12,
    "start_time": "2021-11-15T07:07:16.907Z"
   },
   {
    "duration": 4,
    "start_time": "2021-11-15T07:07:16.921Z"
   },
   {
    "duration": 11,
    "start_time": "2021-11-15T07:07:16.926Z"
   },
   {
    "duration": 9,
    "start_time": "2021-11-15T07:07:16.938Z"
   },
   {
    "duration": 9,
    "start_time": "2021-11-15T07:07:16.948Z"
   },
   {
    "duration": 6,
    "start_time": "2021-11-15T07:07:16.959Z"
   },
   {
    "duration": 9,
    "start_time": "2021-11-15T07:07:16.967Z"
   },
   {
    "duration": 4,
    "start_time": "2021-11-15T07:07:17.006Z"
   },
   {
    "duration": 15,
    "start_time": "2021-11-15T07:07:17.012Z"
   },
   {
    "duration": 14,
    "start_time": "2021-11-15T07:07:17.029Z"
   },
   {
    "duration": 5,
    "start_time": "2021-11-15T07:07:17.044Z"
   },
   {
    "duration": 8,
    "start_time": "2021-11-15T07:07:17.050Z"
   },
   {
    "duration": 15,
    "start_time": "2021-11-15T07:07:17.061Z"
   },
   {
    "duration": 8,
    "start_time": "2021-11-15T07:07:17.078Z"
   },
   {
    "duration": 21,
    "start_time": "2021-11-15T07:07:17.087Z"
   },
   {
    "duration": 15,
    "start_time": "2021-11-15T07:07:17.110Z"
   },
   {
    "duration": 16,
    "start_time": "2021-11-15T07:07:17.127Z"
   },
   {
    "duration": 30,
    "start_time": "2021-11-15T07:07:17.144Z"
   },
   {
    "duration": 3,
    "start_time": "2021-11-15T07:07:17.176Z"
   },
   {
    "duration": 2,
    "start_time": "2021-11-15T07:07:17.207Z"
   },
   {
    "duration": 5,
    "start_time": "2021-11-15T07:07:17.210Z"
   },
   {
    "duration": 6,
    "start_time": "2021-11-15T07:07:17.217Z"
   },
   {
    "duration": 2618,
    "start_time": "2021-11-15T07:07:17.225Z"
   },
   {
    "duration": 19,
    "start_time": "2021-11-15T07:07:19.845Z"
   },
   {
    "duration": 57,
    "start_time": "2021-11-15T07:07:19.866Z"
   },
   {
    "duration": 6,
    "start_time": "2021-11-15T07:07:19.925Z"
   },
   {
    "duration": 6,
    "start_time": "2021-11-15T07:07:19.933Z"
   },
   {
    "duration": 11,
    "start_time": "2021-11-15T07:07:19.940Z"
   },
   {
    "duration": 8,
    "start_time": "2021-11-15T07:07:19.952Z"
   },
   {
    "duration": 3266,
    "start_time": "2021-11-15T07:07:19.962Z"
   },
   {
    "duration": 19,
    "start_time": "2021-11-15T07:07:23.230Z"
   },
   {
    "duration": 2,
    "start_time": "2021-11-15T07:07:23.251Z"
   },
   {
    "duration": 6,
    "start_time": "2021-11-15T07:07:23.255Z"
   },
   {
    "duration": 15,
    "start_time": "2021-11-15T07:07:23.263Z"
   },
   {
    "duration": 29,
    "start_time": "2021-11-15T07:07:23.280Z"
   },
   {
    "duration": 5,
    "start_time": "2021-11-15T07:07:23.310Z"
   },
   {
    "duration": 6,
    "start_time": "2021-11-15T07:07:23.316Z"
   },
   {
    "duration": 7,
    "start_time": "2021-11-15T07:07:23.324Z"
   },
   {
    "duration": 5,
    "start_time": "2021-11-15T07:07:23.333Z"
   },
   {
    "duration": 13,
    "start_time": "2021-11-15T07:07:23.339Z"
   },
   {
    "duration": 20,
    "start_time": "2021-11-15T07:07:23.354Z"
   },
   {
    "duration": 10,
    "start_time": "2021-11-15T07:07:23.376Z"
   },
   {
    "duration": 5,
    "start_time": "2021-11-15T07:07:23.388Z"
   },
   {
    "duration": 5,
    "start_time": "2021-11-15T07:07:23.395Z"
   },
   {
    "duration": 2,
    "start_time": "2021-11-15T07:07:23.407Z"
   },
   {
    "duration": 7,
    "start_time": "2021-11-15T07:07:23.410Z"
   },
   {
    "duration": 6,
    "start_time": "2021-11-15T07:07:23.419Z"
   },
   {
    "duration": 5,
    "start_time": "2021-11-15T07:07:23.427Z"
   },
   {
    "duration": 2,
    "start_time": "2021-11-15T07:07:23.436Z"
   },
   {
    "duration": 5,
    "start_time": "2021-11-15T07:07:23.440Z"
   },
   {
    "duration": 4,
    "start_time": "2021-11-15T07:07:23.446Z"
   },
   {
    "duration": 7,
    "start_time": "2021-11-15T07:07:23.452Z"
   },
   {
    "duration": 6,
    "start_time": "2021-11-15T07:07:23.460Z"
   },
   {
    "duration": 6,
    "start_time": "2021-11-15T07:07:23.467Z"
   },
   {
    "duration": 610,
    "start_time": "2021-11-15T18:53:16.801Z"
   },
   {
    "duration": 8,
    "start_time": "2021-11-15T18:53:17.413Z"
   },
   {
    "duration": 20,
    "start_time": "2021-11-15T18:53:17.423Z"
   },
   {
    "duration": 9,
    "start_time": "2021-11-15T18:53:17.445Z"
   },
   {
    "duration": 46,
    "start_time": "2021-11-15T18:53:17.456Z"
   },
   {
    "duration": 11,
    "start_time": "2021-11-15T18:53:17.504Z"
   },
   {
    "duration": 20,
    "start_time": "2021-11-15T18:53:17.517Z"
   },
   {
    "duration": 5,
    "start_time": "2021-11-15T18:53:17.539Z"
   },
   {
    "duration": 54,
    "start_time": "2021-11-15T18:53:17.546Z"
   },
   {
    "duration": 7,
    "start_time": "2021-11-15T18:53:17.601Z"
   },
   {
    "duration": 13,
    "start_time": "2021-11-15T18:53:17.610Z"
   },
   {
    "duration": 25,
    "start_time": "2021-11-15T18:53:17.624Z"
   },
   {
    "duration": 4,
    "start_time": "2021-11-15T18:53:17.651Z"
   },
   {
    "duration": 9,
    "start_time": "2021-11-15T18:53:17.657Z"
   },
   {
    "duration": 24,
    "start_time": "2021-11-15T18:53:17.668Z"
   },
   {
    "duration": 7,
    "start_time": "2021-11-15T18:53:17.694Z"
   },
   {
    "duration": 5,
    "start_time": "2021-11-15T18:53:17.703Z"
   },
   {
    "duration": 12,
    "start_time": "2021-11-15T18:53:17.709Z"
   },
   {
    "duration": 4,
    "start_time": "2021-11-15T18:53:17.722Z"
   },
   {
    "duration": 8,
    "start_time": "2021-11-15T18:53:17.727Z"
   },
   {
    "duration": 5,
    "start_time": "2021-11-15T18:53:17.736Z"
   },
   {
    "duration": 49,
    "start_time": "2021-11-15T18:53:17.742Z"
   },
   {
    "duration": 6,
    "start_time": "2021-11-15T18:53:17.795Z"
   },
   {
    "duration": 9,
    "start_time": "2021-11-15T18:53:17.803Z"
   },
   {
    "duration": 13,
    "start_time": "2021-11-15T18:53:17.813Z"
   },
   {
    "duration": 11,
    "start_time": "2021-11-15T18:53:17.828Z"
   },
   {
    "duration": 9,
    "start_time": "2021-11-15T18:53:17.840Z"
   },
   {
    "duration": 4,
    "start_time": "2021-11-15T18:53:17.850Z"
   },
   {
    "duration": 5,
    "start_time": "2021-11-15T18:53:17.855Z"
   },
   {
    "duration": 6,
    "start_time": "2021-11-15T18:53:17.892Z"
   },
   {
    "duration": 6,
    "start_time": "2021-11-15T18:53:17.900Z"
   },
   {
    "duration": 9,
    "start_time": "2021-11-15T18:53:17.907Z"
   },
   {
    "duration": 15,
    "start_time": "2021-11-15T18:53:17.918Z"
   },
   {
    "duration": 14,
    "start_time": "2021-11-15T18:53:17.935Z"
   },
   {
    "duration": 62,
    "start_time": "2021-11-15T18:53:17.950Z"
   },
   {
    "duration": 3,
    "start_time": "2021-11-15T18:53:18.014Z"
   },
   {
    "duration": 4,
    "start_time": "2021-11-15T18:53:18.019Z"
   },
   {
    "duration": 5,
    "start_time": "2021-11-15T18:53:18.025Z"
   },
   {
    "duration": 7,
    "start_time": "2021-11-15T18:53:18.032Z"
   },
   {
    "duration": 2792,
    "start_time": "2021-11-15T18:53:18.040Z"
   },
   {
    "duration": 18,
    "start_time": "2021-11-15T18:53:20.834Z"
   },
   {
    "duration": 53,
    "start_time": "2021-11-15T18:53:20.854Z"
   },
   {
    "duration": 5,
    "start_time": "2021-11-15T18:53:20.909Z"
   },
   {
    "duration": 13,
    "start_time": "2021-11-15T18:53:20.915Z"
   },
   {
    "duration": 16,
    "start_time": "2021-11-15T18:53:20.930Z"
   },
   {
    "duration": 1974,
    "start_time": "2021-11-15T18:53:20.947Z"
   },
   {
    "duration": -135,
    "start_time": "2021-11-15T18:53:23.058Z"
   },
   {
    "duration": -146,
    "start_time": "2021-11-15T18:53:23.070Z"
   },
   {
    "duration": -164,
    "start_time": "2021-11-15T18:53:23.089Z"
   },
   {
    "duration": -189,
    "start_time": "2021-11-15T18:53:23.115Z"
   },
   {
    "duration": -299,
    "start_time": "2021-11-15T18:53:23.225Z"
   },
   {
    "duration": -325,
    "start_time": "2021-11-15T18:53:23.252Z"
   },
   {
    "duration": -348,
    "start_time": "2021-11-15T18:53:23.276Z"
   },
   {
    "duration": -371,
    "start_time": "2021-11-15T18:53:23.299Z"
   },
   {
    "duration": -439,
    "start_time": "2021-11-15T18:53:23.368Z"
   },
   {
    "duration": -468,
    "start_time": "2021-11-15T18:53:23.398Z"
   },
   {
    "duration": -480,
    "start_time": "2021-11-15T18:53:23.411Z"
   },
   {
    "duration": -501,
    "start_time": "2021-11-15T18:53:23.433Z"
   },
   {
    "duration": -520,
    "start_time": "2021-11-15T18:53:23.452Z"
   },
   {
    "duration": -542,
    "start_time": "2021-11-15T18:53:23.475Z"
   },
   {
    "duration": -564,
    "start_time": "2021-11-15T18:53:23.498Z"
   },
   {
    "duration": -583,
    "start_time": "2021-11-15T18:53:23.518Z"
   },
   {
    "duration": -608,
    "start_time": "2021-11-15T18:53:23.544Z"
   },
   {
    "duration": -636,
    "start_time": "2021-11-15T18:53:23.573Z"
   },
   {
    "duration": -663,
    "start_time": "2021-11-15T18:53:23.600Z"
   },
   {
    "duration": -684,
    "start_time": "2021-11-15T18:53:23.622Z"
   },
   {
    "duration": -709,
    "start_time": "2021-11-15T18:53:23.648Z"
   },
   {
    "duration": -730,
    "start_time": "2021-11-15T18:53:23.670Z"
   },
   {
    "duration": -741,
    "start_time": "2021-11-15T18:53:23.682Z"
   },
   {
    "duration": -771,
    "start_time": "2021-11-15T18:53:23.713Z"
   },
   {
    "duration": -780,
    "start_time": "2021-11-15T18:53:23.723Z"
   },
   {
    "duration": 6,
    "start_time": "2021-11-15T18:53:28.565Z"
   },
   {
    "duration": 7,
    "start_time": "2021-11-15T18:53:42.300Z"
   },
   {
    "duration": 4,
    "start_time": "2021-11-15T19:09:49.576Z"
   },
   {
    "duration": 4,
    "start_time": "2021-11-15T19:09:53.032Z"
   },
   {
    "duration": 379,
    "start_time": "2021-11-15T19:11:02.922Z"
   },
   {
    "duration": 357,
    "start_time": "2021-11-15T19:11:31.697Z"
   },
   {
    "duration": 384,
    "start_time": "2021-11-15T19:12:03.242Z"
   },
   {
    "duration": 359,
    "start_time": "2021-11-15T19:13:04.883Z"
   },
   {
    "duration": 53,
    "start_time": "2021-11-15T19:13:34.074Z"
   },
   {
    "duration": 3,
    "start_time": "2021-11-15T19:13:34.129Z"
   },
   {
    "duration": 28,
    "start_time": "2021-11-15T19:13:34.134Z"
   },
   {
    "duration": 27,
    "start_time": "2021-11-15T19:13:34.164Z"
   },
   {
    "duration": 20,
    "start_time": "2021-11-15T19:13:34.193Z"
   },
   {
    "duration": 11,
    "start_time": "2021-11-15T19:13:34.215Z"
   },
   {
    "duration": 33,
    "start_time": "2021-11-15T19:13:34.227Z"
   },
   {
    "duration": 31,
    "start_time": "2021-11-15T19:13:34.263Z"
   },
   {
    "duration": 21,
    "start_time": "2021-11-15T19:13:34.296Z"
   },
   {
    "duration": 25,
    "start_time": "2021-11-15T19:13:34.319Z"
   },
   {
    "duration": 14,
    "start_time": "2021-11-15T19:13:34.345Z"
   },
   {
    "duration": 40,
    "start_time": "2021-11-15T19:13:34.360Z"
   },
   {
    "duration": 18,
    "start_time": "2021-11-15T19:13:34.402Z"
   },
   {
    "duration": 16,
    "start_time": "2021-11-15T19:13:34.421Z"
   },
   {
    "duration": 19,
    "start_time": "2021-11-15T19:13:34.439Z"
   },
   {
    "duration": 22,
    "start_time": "2021-11-15T19:13:34.460Z"
   },
   {
    "duration": 30,
    "start_time": "2021-11-15T19:13:34.484Z"
   },
   {
    "duration": 27,
    "start_time": "2021-11-15T19:13:34.516Z"
   },
   {
    "duration": 19,
    "start_time": "2021-11-15T19:13:34.544Z"
   },
   {
    "duration": 20,
    "start_time": "2021-11-15T19:13:34.565Z"
   },
   {
    "duration": 13,
    "start_time": "2021-11-15T19:13:34.589Z"
   },
   {
    "duration": 17,
    "start_time": "2021-11-15T19:13:34.604Z"
   },
   {
    "duration": 12,
    "start_time": "2021-11-15T19:13:34.623Z"
   },
   {
    "duration": 22,
    "start_time": "2021-11-15T19:13:34.637Z"
   },
   {
    "duration": 21,
    "start_time": "2021-11-15T19:13:34.660Z"
   },
   {
    "duration": 24,
    "start_time": "2021-11-15T19:13:34.683Z"
   },
   {
    "duration": 21,
    "start_time": "2021-11-15T19:13:34.709Z"
   },
   {
    "duration": 14,
    "start_time": "2021-11-15T19:13:34.732Z"
   },
   {
    "duration": 14,
    "start_time": "2021-11-15T19:13:34.747Z"
   },
   {
    "duration": 14,
    "start_time": "2021-11-15T19:13:34.763Z"
   },
   {
    "duration": 26,
    "start_time": "2021-11-15T19:13:34.779Z"
   },
   {
    "duration": 22,
    "start_time": "2021-11-15T19:13:34.806Z"
   },
   {
    "duration": 33,
    "start_time": "2021-11-15T19:13:34.830Z"
   },
   {
    "duration": 16,
    "start_time": "2021-11-15T19:13:34.865Z"
   },
   {
    "duration": 39,
    "start_time": "2021-11-15T19:13:34.883Z"
   },
   {
    "duration": 4,
    "start_time": "2021-11-15T19:13:34.924Z"
   },
   {
    "duration": 18,
    "start_time": "2021-11-15T19:13:34.930Z"
   },
   {
    "duration": 23,
    "start_time": "2021-11-15T19:13:34.950Z"
   },
   {
    "duration": 16,
    "start_time": "2021-11-15T19:13:34.975Z"
   },
   {
    "duration": 2697,
    "start_time": "2021-11-15T19:13:34.993Z"
   },
   {
    "duration": 21,
    "start_time": "2021-11-15T19:13:37.692Z"
   },
   {
    "duration": 23,
    "start_time": "2021-11-15T19:13:37.715Z"
   },
   {
    "duration": 6,
    "start_time": "2021-11-15T19:13:37.740Z"
   },
   {
    "duration": 46,
    "start_time": "2021-11-15T19:13:37.747Z"
   },
   {
    "duration": 6,
    "start_time": "2021-11-15T19:13:37.795Z"
   },
   {
    "duration": 169,
    "start_time": "2021-11-15T19:13:37.802Z"
   },
   {
    "duration": -301,
    "start_time": "2021-11-15T19:13:38.274Z"
   },
   {
    "duration": -319,
    "start_time": "2021-11-15T19:13:38.293Z"
   },
   {
    "duration": -342,
    "start_time": "2021-11-15T19:13:38.317Z"
   },
   {
    "duration": -366,
    "start_time": "2021-11-15T19:13:38.342Z"
   },
   {
    "duration": -400,
    "start_time": "2021-11-15T19:13:38.377Z"
   },
   {
    "duration": -413,
    "start_time": "2021-11-15T19:13:38.391Z"
   },
   {
    "duration": -433,
    "start_time": "2021-11-15T19:13:38.412Z"
   },
   {
    "duration": -450,
    "start_time": "2021-11-15T19:13:38.430Z"
   },
   {
    "duration": -469,
    "start_time": "2021-11-15T19:13:38.450Z"
   },
   {
    "duration": -488,
    "start_time": "2021-11-15T19:13:38.469Z"
   },
   {
    "duration": -499,
    "start_time": "2021-11-15T19:13:38.481Z"
   },
   {
    "duration": -527,
    "start_time": "2021-11-15T19:13:38.510Z"
   },
   {
    "duration": -558,
    "start_time": "2021-11-15T19:13:38.542Z"
   },
   {
    "duration": -583,
    "start_time": "2021-11-15T19:13:38.568Z"
   },
   {
    "duration": -608,
    "start_time": "2021-11-15T19:13:38.594Z"
   },
   {
    "duration": -643,
    "start_time": "2021-11-15T19:13:38.630Z"
   },
   {
    "duration": -655,
    "start_time": "2021-11-15T19:13:38.642Z"
   },
   {
    "duration": -680,
    "start_time": "2021-11-15T19:13:38.668Z"
   },
   {
    "duration": -699,
    "start_time": "2021-11-15T19:13:38.688Z"
   },
   {
    "duration": -725,
    "start_time": "2021-11-15T19:13:38.715Z"
   },
   {
    "duration": -746,
    "start_time": "2021-11-15T19:13:38.737Z"
   },
   {
    "duration": -756,
    "start_time": "2021-11-15T19:13:38.748Z"
   },
   {
    "duration": -788,
    "start_time": "2021-11-15T19:13:38.780Z"
   },
   {
    "duration": -821,
    "start_time": "2021-11-15T19:13:38.814Z"
   },
   {
    "duration": -840,
    "start_time": "2021-11-15T19:13:38.834Z"
   },
   {
    "duration": 357,
    "start_time": "2021-11-15T19:13:41.159Z"
   },
   {
    "duration": 48,
    "start_time": "2021-11-15T19:13:51.096Z"
   },
   {
    "duration": 3,
    "start_time": "2021-11-15T19:13:51.146Z"
   },
   {
    "duration": 18,
    "start_time": "2021-11-15T19:13:51.151Z"
   },
   {
    "duration": 27,
    "start_time": "2021-11-15T19:13:51.172Z"
   },
   {
    "duration": 22,
    "start_time": "2021-11-15T19:13:51.201Z"
   },
   {
    "duration": 12,
    "start_time": "2021-11-15T19:13:51.224Z"
   },
   {
    "duration": 54,
    "start_time": "2021-11-15T19:13:51.238Z"
   },
   {
    "duration": 5,
    "start_time": "2021-11-15T19:13:51.294Z"
   },
   {
    "duration": 29,
    "start_time": "2021-11-15T19:13:51.301Z"
   },
   {
    "duration": 5,
    "start_time": "2021-11-15T19:13:51.332Z"
   },
   {
    "duration": 6,
    "start_time": "2021-11-15T19:13:51.338Z"
   },
   {
    "duration": 47,
    "start_time": "2021-11-15T19:13:51.345Z"
   },
   {
    "duration": 4,
    "start_time": "2021-11-15T19:13:51.394Z"
   },
   {
    "duration": 16,
    "start_time": "2021-11-15T19:13:51.400Z"
   },
   {
    "duration": 9,
    "start_time": "2021-11-15T19:13:51.417Z"
   },
   {
    "duration": 8,
    "start_time": "2021-11-15T19:13:51.427Z"
   },
   {
    "duration": 5,
    "start_time": "2021-11-15T19:13:51.436Z"
   },
   {
    "duration": 11,
    "start_time": "2021-11-15T19:13:51.442Z"
   },
   {
    "duration": 5,
    "start_time": "2021-11-15T19:13:51.491Z"
   },
   {
    "duration": 8,
    "start_time": "2021-11-15T19:13:51.497Z"
   },
   {
    "duration": 6,
    "start_time": "2021-11-15T19:13:51.509Z"
   },
   {
    "duration": 5,
    "start_time": "2021-11-15T19:13:51.517Z"
   },
   {
    "duration": 8,
    "start_time": "2021-11-15T19:13:51.524Z"
   },
   {
    "duration": 8,
    "start_time": "2021-11-15T19:13:51.534Z"
   },
   {
    "duration": 54,
    "start_time": "2021-11-15T19:13:51.543Z"
   },
   {
    "duration": 17,
    "start_time": "2021-11-15T19:13:51.599Z"
   },
   {
    "duration": 9,
    "start_time": "2021-11-15T19:13:51.617Z"
   },
   {
    "duration": 4,
    "start_time": "2021-11-15T19:13:51.628Z"
   },
   {
    "duration": 5,
    "start_time": "2021-11-15T19:13:51.634Z"
   },
   {
    "duration": 16,
    "start_time": "2021-11-15T19:13:51.640Z"
   },
   {
    "duration": 5,
    "start_time": "2021-11-15T19:13:51.657Z"
   },
   {
    "duration": 30,
    "start_time": "2021-11-15T19:13:51.663Z"
   },
   {
    "duration": 14,
    "start_time": "2021-11-15T19:13:51.694Z"
   },
   {
    "duration": 14,
    "start_time": "2021-11-15T19:13:51.710Z"
   },
   {
    "duration": 30,
    "start_time": "2021-11-15T19:13:51.726Z"
   },
   {
    "duration": 34,
    "start_time": "2021-11-15T19:13:51.758Z"
   },
   {
    "duration": 4,
    "start_time": "2021-11-15T19:13:51.793Z"
   },
   {
    "duration": 5,
    "start_time": "2021-11-15T19:13:51.798Z"
   },
   {
    "duration": 11,
    "start_time": "2021-11-15T19:13:51.804Z"
   },
   {
    "duration": 2739,
    "start_time": "2021-11-15T19:13:51.816Z"
   },
   {
    "duration": 19,
    "start_time": "2021-11-15T19:13:54.592Z"
   },
   {
    "duration": 24,
    "start_time": "2021-11-15T19:13:54.614Z"
   },
   {
    "duration": 7,
    "start_time": "2021-11-15T19:13:54.640Z"
   },
   {
    "duration": 5,
    "start_time": "2021-11-15T19:13:54.649Z"
   },
   {
    "duration": 7,
    "start_time": "2021-11-15T19:13:54.692Z"
   },
   {
    "duration": 179,
    "start_time": "2021-11-15T19:13:54.701Z"
   },
   {
    "duration": -281,
    "start_time": "2021-11-15T19:13:55.164Z"
   },
   {
    "duration": -305,
    "start_time": "2021-11-15T19:13:55.190Z"
   },
   {
    "duration": -315,
    "start_time": "2021-11-15T19:13:55.201Z"
   },
   {
    "duration": -335,
    "start_time": "2021-11-15T19:13:55.222Z"
   },
   {
    "duration": -357,
    "start_time": "2021-11-15T19:13:55.245Z"
   },
   {
    "duration": -375,
    "start_time": "2021-11-15T19:13:55.265Z"
   },
   {
    "duration": -394,
    "start_time": "2021-11-15T19:13:55.285Z"
   },
   {
    "duration": -412,
    "start_time": "2021-11-15T19:13:55.304Z"
   },
   {
    "duration": -428,
    "start_time": "2021-11-15T19:13:55.322Z"
   },
   {
    "duration": -447,
    "start_time": "2021-11-15T19:13:55.342Z"
   },
   {
    "duration": -456,
    "start_time": "2021-11-15T19:13:55.352Z"
   },
   {
    "duration": -475,
    "start_time": "2021-11-15T19:13:55.373Z"
   },
   {
    "duration": -493,
    "start_time": "2021-11-15T19:13:55.392Z"
   },
   {
    "duration": -543,
    "start_time": "2021-11-15T19:13:55.444Z"
   },
   {
    "duration": -570,
    "start_time": "2021-11-15T19:13:55.472Z"
   },
   {
    "duration": -592,
    "start_time": "2021-11-15T19:13:55.495Z"
   },
   {
    "duration": 912,
    "start_time": "2021-11-15T19:14:00.446Z"
   },
   {
    "duration": 62,
    "start_time": "2021-11-15T19:14:17.198Z"
   },
   {
    "duration": 3,
    "start_time": "2021-11-15T19:14:41.014Z"
   },
   {
    "duration": 212,
    "start_time": "2021-11-15T19:14:44.367Z"
   },
   {
    "duration": 219,
    "start_time": "2021-11-15T19:14:48.623Z"
   },
   {
    "duration": 3,
    "start_time": "2021-11-15T19:15:07.005Z"
   },
   {
    "duration": 216,
    "start_time": "2021-11-15T19:15:10.342Z"
   },
   {
    "duration": 241,
    "start_time": "2021-11-15T19:15:21.190Z"
   },
   {
    "duration": 3,
    "start_time": "2021-11-15T19:17:58.966Z"
   },
   {
    "duration": 364,
    "start_time": "2021-11-15T19:18:02.176Z"
   },
   {
    "duration": 4,
    "start_time": "2021-11-15T19:29:12.839Z"
   },
   {
    "duration": 234,
    "start_time": "2021-11-15T19:29:15.172Z"
   },
   {
    "duration": 241,
    "start_time": "2021-11-15T19:29:54.884Z"
   },
   {
    "duration": 231,
    "start_time": "2021-11-15T19:30:33.960Z"
   },
   {
    "duration": 441,
    "start_time": "2021-11-15T19:31:38.871Z"
   },
   {
    "duration": 227,
    "start_time": "2021-11-15T19:31:55.412Z"
   },
   {
    "duration": 220,
    "start_time": "2021-11-15T19:33:10.466Z"
   },
   {
    "duration": 10,
    "start_time": "2021-11-15T19:35:11.641Z"
   },
   {
    "duration": 10,
    "start_time": "2021-11-15T19:35:36.916Z"
   },
   {
    "duration": 6,
    "start_time": "2021-11-15T19:46:22.305Z"
   },
   {
    "duration": 21,
    "start_time": "2021-11-15T19:49:26.232Z"
   },
   {
    "duration": 8,
    "start_time": "2021-11-15T19:49:58.137Z"
   },
   {
    "duration": 7,
    "start_time": "2021-11-15T19:50:09.869Z"
   },
   {
    "duration": 6,
    "start_time": "2021-11-15T19:51:59.744Z"
   },
   {
    "duration": 6,
    "start_time": "2021-11-15T19:52:05.999Z"
   },
   {
    "duration": 6,
    "start_time": "2021-11-15T19:54:16.657Z"
   },
   {
    "duration": 7,
    "start_time": "2021-11-15T19:55:07.005Z"
   },
   {
    "duration": 2252,
    "start_time": "2021-11-15T19:58:19.364Z"
   },
   {
    "duration": 7,
    "start_time": "2021-11-15T19:58:53.756Z"
   },
   {
    "duration": 11,
    "start_time": "2021-11-15T20:01:02.099Z"
   },
   {
    "duration": 12,
    "start_time": "2021-11-15T20:01:26.356Z"
   },
   {
    "duration": 5,
    "start_time": "2021-11-15T20:05:37.113Z"
   },
   {
    "duration": 4,
    "start_time": "2021-11-15T20:05:40.802Z"
   },
   {
    "duration": 5,
    "start_time": "2021-11-15T20:05:50.052Z"
   },
   {
    "duration": 4,
    "start_time": "2021-11-15T20:06:19.018Z"
   },
   {
    "duration": 4267,
    "start_time": "2021-11-15T20:11:14.583Z"
   },
   {
    "duration": 9,
    "start_time": "2021-11-15T20:11:30.460Z"
   },
   {
    "duration": 7,
    "start_time": "2021-11-15T20:11:44.505Z"
   },
   {
    "duration": 9,
    "start_time": "2021-11-15T20:11:56.177Z"
   },
   {
    "duration": 7,
    "start_time": "2021-11-15T20:12:15.864Z"
   },
   {
    "duration": 23,
    "start_time": "2021-11-15T20:14:35.881Z"
   },
   {
    "duration": 25,
    "start_time": "2021-11-15T20:15:09.068Z"
   },
   {
    "duration": 20,
    "start_time": "2021-11-15T20:15:42.194Z"
   },
   {
    "duration": 12,
    "start_time": "2021-11-15T20:16:04.673Z"
   },
   {
    "duration": 20,
    "start_time": "2021-11-15T20:16:19.754Z"
   },
   {
    "duration": 18,
    "start_time": "2021-11-15T20:16:45.679Z"
   },
   {
    "duration": 20,
    "start_time": "2021-11-15T20:17:44.688Z"
   },
   {
    "duration": 26,
    "start_time": "2021-11-15T20:18:03.338Z"
   },
   {
    "duration": 25,
    "start_time": "2021-11-15T20:19:19.115Z"
   },
   {
    "duration": 724,
    "start_time": "2021-11-15T20:29:28.151Z"
   },
   {
    "duration": 522,
    "start_time": "2021-11-15T20:29:39.810Z"
   },
   {
    "duration": 66,
    "start_time": "2021-11-15T20:30:08.325Z"
   },
   {
    "duration": 66,
    "start_time": "2021-11-15T20:30:27.487Z"
   },
   {
    "duration": 215,
    "start_time": "2021-11-15T20:30:29.837Z"
   },
   {
    "duration": 5,
    "start_time": "2021-11-15T20:30:36.686Z"
   },
   {
    "duration": 5,
    "start_time": "2021-11-15T20:30:53.450Z"
   },
   {
    "duration": 227,
    "start_time": "2021-11-15T20:31:01.181Z"
   },
   {
    "duration": 232,
    "start_time": "2021-11-15T20:31:12.806Z"
   },
   {
    "duration": 5,
    "start_time": "2021-11-15T20:33:58.123Z"
   },
   {
    "duration": 230,
    "start_time": "2021-11-15T20:34:02.777Z"
   },
   {
    "duration": 5,
    "start_time": "2021-11-15T20:35:07.670Z"
   },
   {
    "duration": 228,
    "start_time": "2021-11-15T20:35:12.544Z"
   },
   {
    "duration": 8,
    "start_time": "2021-11-15T20:35:51.348Z"
   },
   {
    "duration": 734,
    "start_time": "2021-11-15T20:38:52.163Z"
   },
   {
    "duration": 13,
    "start_time": "2021-11-15T20:39:10.634Z"
   },
   {
    "duration": 4,
    "start_time": "2021-11-15T20:39:46.468Z"
   },
   {
    "duration": 241,
    "start_time": "2021-11-15T20:39:48.894Z"
   },
   {
    "duration": 234,
    "start_time": "2021-11-15T20:39:52.688Z"
   },
   {
    "duration": 239,
    "start_time": "2021-11-15T20:40:06.364Z"
   },
   {
    "duration": 12,
    "start_time": "2021-11-15T20:40:15.817Z"
   },
   {
    "duration": 8,
    "start_time": "2021-11-15T20:40:37.705Z"
   },
   {
    "duration": 7,
    "start_time": "2021-11-15T20:40:51.577Z"
   },
   {
    "duration": 2103,
    "start_time": "2021-11-15T20:41:49.208Z"
   },
   {
    "duration": 8,
    "start_time": "2021-11-15T20:42:10.076Z"
   },
   {
    "duration": 5,
    "start_time": "2021-11-15T20:45:25.813Z"
   },
   {
    "duration": 9,
    "start_time": "2021-11-15T21:09:45.515Z"
   },
   {
    "duration": 11,
    "start_time": "2021-11-15T21:10:54.346Z"
   },
   {
    "duration": 598,
    "start_time": "2021-11-15T21:20:06.318Z"
   },
   {
    "duration": 9,
    "start_time": "2021-11-15T21:20:06.918Z"
   },
   {
    "duration": 23,
    "start_time": "2021-11-15T21:20:06.929Z"
   },
   {
    "duration": 24,
    "start_time": "2021-11-15T21:20:06.954Z"
   },
   {
    "duration": 36,
    "start_time": "2021-11-15T21:20:06.979Z"
   },
   {
    "duration": 6,
    "start_time": "2021-11-15T21:20:07.017Z"
   },
   {
    "duration": 35,
    "start_time": "2021-11-15T21:20:07.024Z"
   },
   {
    "duration": 11,
    "start_time": "2021-11-15T21:20:07.061Z"
   },
   {
    "duration": 37,
    "start_time": "2021-11-15T21:20:07.074Z"
   },
   {
    "duration": 5,
    "start_time": "2021-11-15T21:20:07.113Z"
   },
   {
    "duration": 22,
    "start_time": "2021-11-15T21:20:07.120Z"
   },
   {
    "duration": 40,
    "start_time": "2021-11-15T21:20:07.143Z"
   },
   {
    "duration": 18,
    "start_time": "2021-11-15T21:20:07.185Z"
   },
   {
    "duration": 26,
    "start_time": "2021-11-15T21:20:07.205Z"
   },
   {
    "duration": 21,
    "start_time": "2021-11-15T21:20:07.232Z"
   },
   {
    "duration": 16,
    "start_time": "2021-11-15T21:20:07.255Z"
   },
   {
    "duration": 31,
    "start_time": "2021-11-15T21:20:07.272Z"
   },
   {
    "duration": 20,
    "start_time": "2021-11-15T21:20:07.305Z"
   },
   {
    "duration": 21,
    "start_time": "2021-11-15T21:20:07.327Z"
   },
   {
    "duration": 26,
    "start_time": "2021-11-15T21:20:07.349Z"
   },
   {
    "duration": 30,
    "start_time": "2021-11-15T21:20:07.376Z"
   },
   {
    "duration": 23,
    "start_time": "2021-11-15T21:20:07.408Z"
   },
   {
    "duration": 33,
    "start_time": "2021-11-15T21:20:07.435Z"
   },
   {
    "duration": 32,
    "start_time": "2021-11-15T21:20:07.470Z"
   },
   {
    "duration": 9,
    "start_time": "2021-11-15T21:20:07.504Z"
   },
   {
    "duration": 18,
    "start_time": "2021-11-15T21:20:07.515Z"
   },
   {
    "duration": 30,
    "start_time": "2021-11-15T21:20:07.534Z"
   },
   {
    "duration": 28,
    "start_time": "2021-11-15T21:20:07.566Z"
   },
   {
    "duration": 29,
    "start_time": "2021-11-15T21:20:07.595Z"
   },
   {
    "duration": 31,
    "start_time": "2021-11-15T21:20:07.625Z"
   },
   {
    "duration": 19,
    "start_time": "2021-11-15T21:20:07.658Z"
   },
   {
    "duration": 35,
    "start_time": "2021-11-15T21:20:07.678Z"
   },
   {
    "duration": 32,
    "start_time": "2021-11-15T21:20:07.714Z"
   },
   {
    "duration": 25,
    "start_time": "2021-11-15T21:20:07.747Z"
   },
   {
    "duration": 46,
    "start_time": "2021-11-15T21:20:07.773Z"
   },
   {
    "duration": 4,
    "start_time": "2021-11-15T21:20:07.820Z"
   },
   {
    "duration": 29,
    "start_time": "2021-11-15T21:20:07.825Z"
   },
   {
    "duration": 26,
    "start_time": "2021-11-15T21:20:07.856Z"
   },
   {
    "duration": 43,
    "start_time": "2021-11-15T21:20:07.884Z"
   },
   {
    "duration": 2490,
    "start_time": "2021-11-15T21:20:07.929Z"
   },
   {
    "duration": 21,
    "start_time": "2021-11-15T21:20:10.421Z"
   },
   {
    "duration": 40,
    "start_time": "2021-11-15T21:20:10.443Z"
   },
   {
    "duration": 19,
    "start_time": "2021-11-15T21:20:10.485Z"
   },
   {
    "duration": 21,
    "start_time": "2021-11-15T21:20:10.506Z"
   },
   {
    "duration": 40,
    "start_time": "2021-11-15T21:20:10.528Z"
   },
   {
    "duration": 257,
    "start_time": "2021-11-15T21:20:10.569Z"
   },
   {
    "duration": -206,
    "start_time": "2021-11-15T21:20:11.034Z"
   },
   {
    "duration": -216,
    "start_time": "2021-11-15T21:20:11.045Z"
   },
   {
    "duration": -242,
    "start_time": "2021-11-15T21:20:11.072Z"
   },
   {
    "duration": -259,
    "start_time": "2021-11-15T21:20:11.090Z"
   },
   {
    "duration": -277,
    "start_time": "2021-11-15T21:20:11.109Z"
   },
   {
    "duration": -293,
    "start_time": "2021-11-15T21:20:11.125Z"
   },
   {
    "duration": -309,
    "start_time": "2021-11-15T21:20:11.142Z"
   },
   {
    "duration": -325,
    "start_time": "2021-11-15T21:20:11.159Z"
   },
   {
    "duration": -341,
    "start_time": "2021-11-15T21:20:11.176Z"
   },
   {
    "duration": -356,
    "start_time": "2021-11-15T21:20:11.192Z"
   },
   {
    "duration": -372,
    "start_time": "2021-11-15T21:20:11.209Z"
   },
   {
    "duration": -387,
    "start_time": "2021-11-15T21:20:11.225Z"
   },
   {
    "duration": -403,
    "start_time": "2021-11-15T21:20:11.242Z"
   },
   {
    "duration": -418,
    "start_time": "2021-11-15T21:20:11.258Z"
   },
   {
    "duration": -435,
    "start_time": "2021-11-15T21:20:11.275Z"
   },
   {
    "duration": -450,
    "start_time": "2021-11-15T21:20:11.291Z"
   },
   {
    "duration": -465,
    "start_time": "2021-11-15T21:20:11.307Z"
   },
   {
    "duration": -481,
    "start_time": "2021-11-15T21:20:11.324Z"
   },
   {
    "duration": -497,
    "start_time": "2021-11-15T21:20:11.341Z"
   },
   {
    "duration": -512,
    "start_time": "2021-11-15T21:20:11.357Z"
   },
   {
    "duration": -528,
    "start_time": "2021-11-15T21:20:11.374Z"
   },
   {
    "duration": -546,
    "start_time": "2021-11-15T21:20:11.394Z"
   },
   {
    "duration": -563,
    "start_time": "2021-11-15T21:20:11.412Z"
   },
   {
    "duration": -579,
    "start_time": "2021-11-15T21:20:11.429Z"
   },
   {
    "duration": -601,
    "start_time": "2021-11-15T21:20:11.452Z"
   },
   {
    "duration": 4563,
    "start_time": "2021-11-15T21:40:34.822Z"
   },
   {
    "duration": 4203,
    "start_time": "2021-11-15T21:41:46.867Z"
   },
   {
    "duration": 50,
    "start_time": "2021-11-15T21:42:08.314Z"
   },
   {
    "duration": 4,
    "start_time": "2021-11-15T21:42:08.366Z"
   },
   {
    "duration": 22,
    "start_time": "2021-11-15T21:42:08.372Z"
   },
   {
    "duration": 17,
    "start_time": "2021-11-15T21:42:08.396Z"
   },
   {
    "duration": 21,
    "start_time": "2021-11-15T21:42:08.415Z"
   },
   {
    "duration": 6,
    "start_time": "2021-11-15T21:42:08.437Z"
   },
   {
    "duration": 23,
    "start_time": "2021-11-15T21:42:08.445Z"
   },
   {
    "duration": 30,
    "start_time": "2021-11-15T21:42:08.470Z"
   },
   {
    "duration": 24,
    "start_time": "2021-11-15T21:42:08.502Z"
   },
   {
    "duration": 10,
    "start_time": "2021-11-15T21:42:08.528Z"
   },
   {
    "duration": 6,
    "start_time": "2021-11-15T21:42:08.540Z"
   },
   {
    "duration": 52,
    "start_time": "2021-11-15T21:42:08.548Z"
   },
   {
    "duration": 7,
    "start_time": "2021-11-15T21:42:08.602Z"
   },
   {
    "duration": 12,
    "start_time": "2021-11-15T21:42:08.610Z"
   },
   {
    "duration": 10,
    "start_time": "2021-11-15T21:42:08.624Z"
   },
   {
    "duration": 8,
    "start_time": "2021-11-15T21:42:08.636Z"
   },
   {
    "duration": 7,
    "start_time": "2021-11-15T21:42:08.646Z"
   },
   {
    "duration": 40,
    "start_time": "2021-11-15T21:42:08.655Z"
   },
   {
    "duration": 6,
    "start_time": "2021-11-15T21:42:08.696Z"
   },
   {
    "duration": 10,
    "start_time": "2021-11-15T21:42:08.704Z"
   },
   {
    "duration": 9,
    "start_time": "2021-11-15T21:42:08.716Z"
   },
   {
    "duration": 6,
    "start_time": "2021-11-15T21:42:08.727Z"
   },
   {
    "duration": 5,
    "start_time": "2021-11-15T21:42:08.737Z"
   },
   {
    "duration": 11,
    "start_time": "2021-11-15T21:42:08.744Z"
   },
   {
    "duration": 7,
    "start_time": "2021-11-15T21:42:08.796Z"
   },
   {
    "duration": 28,
    "start_time": "2021-11-15T21:42:08.805Z"
   },
   {
    "duration": 11,
    "start_time": "2021-11-15T21:42:08.835Z"
   },
   {
    "duration": 9,
    "start_time": "2021-11-15T21:42:08.848Z"
   },
   {
    "duration": 16,
    "start_time": "2021-11-15T21:42:08.859Z"
   },
   {
    "duration": 30,
    "start_time": "2021-11-15T21:42:08.877Z"
   },
   {
    "duration": 3,
    "start_time": "2021-11-15T21:42:08.909Z"
   },
   {
    "duration": 10,
    "start_time": "2021-11-15T21:42:08.914Z"
   },
   {
    "duration": 23,
    "start_time": "2021-11-15T21:42:08.926Z"
   },
   {
    "duration": 17,
    "start_time": "2021-11-15T21:42:08.950Z"
   },
   {
    "duration": 48,
    "start_time": "2021-11-15T21:42:08.969Z"
   },
   {
    "duration": 3,
    "start_time": "2021-11-15T21:42:09.019Z"
   },
   {
    "duration": 13,
    "start_time": "2021-11-15T21:42:09.023Z"
   },
   {
    "duration": 10,
    "start_time": "2021-11-15T21:42:09.038Z"
   },
   {
    "duration": 13,
    "start_time": "2021-11-15T21:42:09.049Z"
   },
   {
    "duration": 2564,
    "start_time": "2021-11-15T21:42:09.063Z"
   },
   {
    "duration": 55,
    "start_time": "2021-11-15T21:42:11.648Z"
   },
   {
    "duration": 23,
    "start_time": "2021-11-15T21:42:11.705Z"
   },
   {
    "duration": 4,
    "start_time": "2021-11-15T21:42:11.730Z"
   },
   {
    "duration": 6,
    "start_time": "2021-11-15T21:42:11.736Z"
   },
   {
    "duration": 7,
    "start_time": "2021-11-15T21:42:11.743Z"
   },
   {
    "duration": 169,
    "start_time": "2021-11-15T21:42:11.752Z"
   },
   {
    "duration": -324,
    "start_time": "2021-11-15T21:42:12.247Z"
   },
   {
    "duration": -343,
    "start_time": "2021-11-15T21:42:12.267Z"
   },
   {
    "duration": -360,
    "start_time": "2021-11-15T21:42:12.285Z"
   },
   {
    "duration": -376,
    "start_time": "2021-11-15T21:42:12.302Z"
   },
   {
    "duration": -387,
    "start_time": "2021-11-15T21:42:12.314Z"
   },
   {
    "duration": -406,
    "start_time": "2021-11-15T21:42:12.334Z"
   },
   {
    "duration": -423,
    "start_time": "2021-11-15T21:42:12.351Z"
   },
   {
    "duration": -442,
    "start_time": "2021-11-15T21:42:12.371Z"
   },
   {
    "duration": -453,
    "start_time": "2021-11-15T21:42:12.383Z"
   },
   {
    "duration": -469,
    "start_time": "2021-11-15T21:42:12.400Z"
   },
   {
    "duration": -492,
    "start_time": "2021-11-15T21:42:12.423Z"
   },
   {
    "duration": -508,
    "start_time": "2021-11-15T21:42:12.440Z"
   },
   {
    "duration": -524,
    "start_time": "2021-11-15T21:42:12.457Z"
   },
   {
    "duration": -543,
    "start_time": "2021-11-15T21:42:12.477Z"
   },
   {
    "duration": -559,
    "start_time": "2021-11-15T21:42:12.494Z"
   },
   {
    "duration": -576,
    "start_time": "2021-11-15T21:42:12.511Z"
   },
   {
    "duration": -592,
    "start_time": "2021-11-15T21:42:12.528Z"
   },
   {
    "duration": -609,
    "start_time": "2021-11-15T21:42:12.546Z"
   },
   {
    "duration": -624,
    "start_time": "2021-11-15T21:42:12.562Z"
   },
   {
    "duration": -641,
    "start_time": "2021-11-15T21:42:12.579Z"
   },
   {
    "duration": -656,
    "start_time": "2021-11-15T21:42:12.595Z"
   },
   {
    "duration": -674,
    "start_time": "2021-11-15T21:42:12.614Z"
   },
   {
    "duration": -690,
    "start_time": "2021-11-15T21:42:12.631Z"
   },
   {
    "duration": -709,
    "start_time": "2021-11-15T21:42:12.651Z"
   },
   {
    "duration": -729,
    "start_time": "2021-11-15T21:42:12.672Z"
   },
   {
    "duration": 4202,
    "start_time": "2021-11-15T21:42:16.403Z"
   },
   {
    "duration": 4,
    "start_time": "2021-11-15T21:42:42.833Z"
   },
   {
    "duration": 277,
    "start_time": "2021-11-15T21:42:46.304Z"
   },
   {
    "duration": 28,
    "start_time": "2021-11-15T21:43:00.995Z"
   },
   {
    "duration": 215,
    "start_time": "2021-11-15T21:44:12.664Z"
   },
   {
    "duration": 172,
    "start_time": "2021-11-15T21:44:15.579Z"
   },
   {
    "duration": 5,
    "start_time": "2021-11-15T21:44:30.746Z"
   },
   {
    "duration": 265,
    "start_time": "2021-11-15T21:44:34.281Z"
   },
   {
    "duration": 23,
    "start_time": "2021-11-15T21:44:42.193Z"
   },
   {
    "duration": 53,
    "start_time": "2021-11-15T21:46:10.876Z"
   },
   {
    "duration": 4,
    "start_time": "2021-11-15T21:46:10.931Z"
   },
   {
    "duration": 18,
    "start_time": "2021-11-15T21:46:10.937Z"
   },
   {
    "duration": 9,
    "start_time": "2021-11-15T21:46:10.957Z"
   },
   {
    "duration": 49,
    "start_time": "2021-11-15T21:46:10.967Z"
   },
   {
    "duration": 5,
    "start_time": "2021-11-15T21:46:11.018Z"
   },
   {
    "duration": 19,
    "start_time": "2021-11-15T21:46:11.025Z"
   },
   {
    "duration": 5,
    "start_time": "2021-11-15T21:46:11.046Z"
   },
   {
    "duration": 56,
    "start_time": "2021-11-15T21:46:11.052Z"
   },
   {
    "duration": 2,
    "start_time": "2021-11-15T21:46:11.110Z"
   },
   {
    "duration": 5,
    "start_time": "2021-11-15T21:46:11.113Z"
   },
   {
    "duration": 26,
    "start_time": "2021-11-15T21:46:11.121Z"
   },
   {
    "duration": 4,
    "start_time": "2021-11-15T21:46:11.148Z"
   },
   {
    "duration": 8,
    "start_time": "2021-11-15T21:46:11.154Z"
   },
   {
    "duration": 7,
    "start_time": "2021-11-15T21:46:11.191Z"
   },
   {
    "duration": 10,
    "start_time": "2021-11-15T21:46:11.200Z"
   },
   {
    "duration": 4,
    "start_time": "2021-11-15T21:46:11.211Z"
   },
   {
    "duration": 11,
    "start_time": "2021-11-15T21:46:11.216Z"
   },
   {
    "duration": 4,
    "start_time": "2021-11-15T21:46:11.228Z"
   },
   {
    "duration": 7,
    "start_time": "2021-11-15T21:46:11.233Z"
   },
   {
    "duration": 5,
    "start_time": "2021-11-15T21:46:11.242Z"
   },
   {
    "duration": 47,
    "start_time": "2021-11-15T21:46:11.248Z"
   },
   {
    "duration": 5,
    "start_time": "2021-11-15T21:46:11.298Z"
   },
   {
    "duration": 7,
    "start_time": "2021-11-15T21:46:11.307Z"
   },
   {
    "duration": 9,
    "start_time": "2021-11-15T21:46:11.315Z"
   },
   {
    "duration": 11,
    "start_time": "2021-11-15T21:46:11.325Z"
   },
   {
    "duration": 7,
    "start_time": "2021-11-15T21:46:11.337Z"
   },
   {
    "duration": 3,
    "start_time": "2021-11-15T21:46:11.346Z"
   },
   {
    "duration": 4,
    "start_time": "2021-11-15T21:46:11.350Z"
   },
   {
    "duration": 38,
    "start_time": "2021-11-15T21:46:11.356Z"
   },
   {
    "duration": 10,
    "start_time": "2021-11-15T21:46:11.395Z"
   },
   {
    "duration": 6,
    "start_time": "2021-11-15T21:46:11.407Z"
   },
   {
    "duration": 15,
    "start_time": "2021-11-15T21:46:11.415Z"
   },
   {
    "duration": 14,
    "start_time": "2021-11-15T21:46:11.432Z"
   },
   {
    "duration": 58,
    "start_time": "2021-11-15T21:46:11.447Z"
   },
   {
    "duration": 3,
    "start_time": "2021-11-15T21:46:11.506Z"
   },
   {
    "duration": 8,
    "start_time": "2021-11-15T21:46:11.511Z"
   },
   {
    "duration": 5,
    "start_time": "2021-11-15T21:46:11.520Z"
   },
   {
    "duration": 12,
    "start_time": "2021-11-15T21:46:11.527Z"
   },
   {
    "duration": 2552,
    "start_time": "2021-11-15T21:46:11.541Z"
   },
   {
    "duration": 25,
    "start_time": "2021-11-15T21:46:14.094Z"
   },
   {
    "duration": 23,
    "start_time": "2021-11-15T21:46:14.121Z"
   },
   {
    "duration": 6,
    "start_time": "2021-11-15T21:46:14.146Z"
   },
   {
    "duration": 5,
    "start_time": "2021-11-15T21:46:14.154Z"
   },
   {
    "duration": 36,
    "start_time": "2021-11-15T21:46:14.161Z"
   },
   {
    "duration": 187,
    "start_time": "2021-11-15T21:46:14.199Z"
   },
   {
    "duration": -346,
    "start_time": "2021-11-15T21:46:14.734Z"
   },
   {
    "duration": -372,
    "start_time": "2021-11-15T21:46:14.761Z"
   },
   {
    "duration": -383,
    "start_time": "2021-11-15T21:46:14.773Z"
   },
   {
    "duration": -401,
    "start_time": "2021-11-15T21:46:14.792Z"
   },
   {
    "duration": -417,
    "start_time": "2021-11-15T21:46:14.810Z"
   },
   {
    "duration": -434,
    "start_time": "2021-11-15T21:46:14.828Z"
   },
   {
    "duration": -445,
    "start_time": "2021-11-15T21:46:14.840Z"
   },
   {
    "duration": -463,
    "start_time": "2021-11-15T21:46:14.859Z"
   },
   {
    "duration": -484,
    "start_time": "2021-11-15T21:46:14.883Z"
   },
   {
    "duration": -500,
    "start_time": "2021-11-15T21:46:14.900Z"
   },
   {
    "duration": -521,
    "start_time": "2021-11-15T21:46:14.922Z"
   },
   {
    "duration": -538,
    "start_time": "2021-11-15T21:46:14.940Z"
   },
   {
    "duration": -554,
    "start_time": "2021-11-15T21:46:14.957Z"
   },
   {
    "duration": -571,
    "start_time": "2021-11-15T21:46:14.976Z"
   },
   {
    "duration": -593,
    "start_time": "2021-11-15T21:46:14.998Z"
   },
   {
    "duration": -609,
    "start_time": "2021-11-15T21:46:15.015Z"
   },
   {
    "duration": -629,
    "start_time": "2021-11-15T21:46:15.037Z"
   },
   {
    "duration": -647,
    "start_time": "2021-11-15T21:46:15.055Z"
   },
   {
    "duration": -664,
    "start_time": "2021-11-15T21:46:15.073Z"
   },
   {
    "duration": -681,
    "start_time": "2021-11-15T21:46:15.091Z"
   },
   {
    "duration": -699,
    "start_time": "2021-11-15T21:46:15.110Z"
   },
   {
    "duration": -720,
    "start_time": "2021-11-15T21:46:15.132Z"
   },
   {
    "duration": -739,
    "start_time": "2021-11-15T21:46:15.152Z"
   },
   {
    "duration": -759,
    "start_time": "2021-11-15T21:46:15.173Z"
   },
   {
    "duration": -776,
    "start_time": "2021-11-15T21:46:15.191Z"
   },
   {
    "duration": 21,
    "start_time": "2021-11-15T21:46:21.728Z"
   },
   {
    "duration": 15,
    "start_time": "2021-11-15T21:47:25.674Z"
   },
   {
    "duration": 314,
    "start_time": "2021-11-15T21:47:54.202Z"
   },
   {
    "duration": 5,
    "start_time": "2021-11-15T21:48:10.416Z"
   },
   {
    "duration": 269,
    "start_time": "2021-11-15T21:48:13.832Z"
   },
   {
    "duration": 31,
    "start_time": "2021-11-15T21:48:25.497Z"
   },
   {
    "duration": -283,
    "start_time": "2021-11-15T21:51:41.971Z"
   },
   {
    "duration": -286,
    "start_time": "2021-11-15T21:51:52.939Z"
   },
   {
    "duration": 52,
    "start_time": "2021-11-15T21:51:54.020Z"
   },
   {
    "duration": 4,
    "start_time": "2021-11-15T21:51:54.074Z"
   },
   {
    "duration": 29,
    "start_time": "2021-11-15T21:51:54.080Z"
   },
   {
    "duration": 15,
    "start_time": "2021-11-15T21:51:54.111Z"
   },
   {
    "duration": 23,
    "start_time": "2021-11-15T21:51:54.127Z"
   },
   {
    "duration": 6,
    "start_time": "2021-11-15T21:51:54.151Z"
   },
   {
    "duration": 46,
    "start_time": "2021-11-15T21:51:54.159Z"
   },
   {
    "duration": 9,
    "start_time": "2021-11-15T21:51:54.208Z"
   },
   {
    "duration": 27,
    "start_time": "2021-11-15T21:51:54.219Z"
   },
   {
    "duration": 3,
    "start_time": "2021-11-15T21:51:54.248Z"
   },
   {
    "duration": 6,
    "start_time": "2021-11-15T21:51:54.252Z"
   },
   {
    "duration": 49,
    "start_time": "2021-11-15T21:51:54.259Z"
   },
   {
    "duration": 5,
    "start_time": "2021-11-15T21:51:54.310Z"
   },
   {
    "duration": 11,
    "start_time": "2021-11-15T21:51:54.316Z"
   },
   {
    "duration": 6,
    "start_time": "2021-11-15T21:51:54.329Z"
   },
   {
    "duration": 8,
    "start_time": "2021-11-15T21:51:54.337Z"
   },
   {
    "duration": 6,
    "start_time": "2021-11-15T21:51:54.346Z"
   },
   {
    "duration": 24,
    "start_time": "2021-11-15T21:51:54.393Z"
   },
   {
    "duration": 4,
    "start_time": "2021-11-15T21:51:54.419Z"
   },
   {
    "duration": 12,
    "start_time": "2021-11-15T21:51:54.425Z"
   },
   {
    "duration": 7,
    "start_time": "2021-11-15T21:51:54.439Z"
   },
   {
    "duration": 9,
    "start_time": "2021-11-15T21:51:54.448Z"
   },
   {
    "duration": 7,
    "start_time": "2021-11-15T21:51:54.459Z"
   },
   {
    "duration": 37,
    "start_time": "2021-11-15T21:51:54.467Z"
   },
   {
    "duration": 10,
    "start_time": "2021-11-15T21:51:54.505Z"
   },
   {
    "duration": 10,
    "start_time": "2021-11-15T21:51:54.516Z"
   },
   {
    "duration": 9,
    "start_time": "2021-11-15T21:51:54.527Z"
   },
   {
    "duration": 4,
    "start_time": "2021-11-15T21:51:54.538Z"
   },
   {
    "duration": 6,
    "start_time": "2021-11-15T21:51:54.544Z"
   },
   {
    "duration": 10,
    "start_time": "2021-11-15T21:51:54.552Z"
   },
   {
    "duration": 31,
    "start_time": "2021-11-15T21:51:54.564Z"
   },
   {
    "duration": 14,
    "start_time": "2021-11-15T21:51:54.597Z"
   },
   {
    "duration": 19,
    "start_time": "2021-11-15T21:51:54.613Z"
   },
   {
    "duration": 16,
    "start_time": "2021-11-15T21:51:54.634Z"
   },
   {
    "duration": 56,
    "start_time": "2021-11-15T21:51:54.652Z"
   },
   {
    "duration": 4,
    "start_time": "2021-11-15T21:51:54.709Z"
   },
   {
    "duration": 7,
    "start_time": "2021-11-15T21:51:54.714Z"
   },
   {
    "duration": 5,
    "start_time": "2021-11-15T21:51:54.723Z"
   },
   {
    "duration": 5,
    "start_time": "2021-11-15T21:51:54.732Z"
   },
   {
    "duration": 2664,
    "start_time": "2021-11-15T21:51:54.740Z"
   },
   {
    "duration": 32,
    "start_time": "2021-11-15T21:51:57.418Z"
   },
   {
    "duration": 42,
    "start_time": "2021-11-15T21:51:57.452Z"
   },
   {
    "duration": 6,
    "start_time": "2021-11-15T21:51:57.497Z"
   },
   {
    "duration": 16,
    "start_time": "2021-11-15T21:51:57.505Z"
   },
   {
    "duration": 11,
    "start_time": "2021-11-15T21:51:57.523Z"
   },
   {
    "duration": 594,
    "start_time": "2021-11-15T21:51:57.535Z"
   },
   {
    "duration": -214,
    "start_time": "2021-11-15T21:51:58.344Z"
   },
   {
    "duration": -227,
    "start_time": "2021-11-15T21:51:58.358Z"
   },
   {
    "duration": -246,
    "start_time": "2021-11-15T21:51:58.378Z"
   },
   {
    "duration": -255,
    "start_time": "2021-11-15T21:51:58.389Z"
   },
   {
    "duration": -275,
    "start_time": "2021-11-15T21:51:58.409Z"
   },
   {
    "duration": -295,
    "start_time": "2021-11-15T21:51:58.430Z"
   },
   {
    "duration": -311,
    "start_time": "2021-11-15T21:51:58.447Z"
   },
   {
    "duration": -330,
    "start_time": "2021-11-15T21:51:58.467Z"
   },
   {
    "duration": -347,
    "start_time": "2021-11-15T21:51:58.485Z"
   },
   {
    "duration": -365,
    "start_time": "2021-11-15T21:51:58.504Z"
   },
   {
    "duration": -381,
    "start_time": "2021-11-15T21:51:58.521Z"
   },
   {
    "duration": -399,
    "start_time": "2021-11-15T21:51:58.540Z"
   },
   {
    "duration": -422,
    "start_time": "2021-11-15T21:51:58.564Z"
   },
   {
    "duration": -441,
    "start_time": "2021-11-15T21:51:58.584Z"
   },
   {
    "duration": -460,
    "start_time": "2021-11-15T21:51:58.605Z"
   },
   {
    "duration": -478,
    "start_time": "2021-11-15T21:51:58.624Z"
   },
   {
    "duration": -496,
    "start_time": "2021-11-15T21:51:58.642Z"
   },
   {
    "duration": -506,
    "start_time": "2021-11-15T21:51:58.654Z"
   },
   {
    "duration": -523,
    "start_time": "2021-11-15T21:51:58.673Z"
   },
   {
    "duration": -540,
    "start_time": "2021-11-15T21:51:58.691Z"
   },
   {
    "duration": -558,
    "start_time": "2021-11-15T21:51:58.710Z"
   },
   {
    "duration": -569,
    "start_time": "2021-11-15T21:51:58.722Z"
   },
   {
    "duration": -587,
    "start_time": "2021-11-15T21:51:58.742Z"
   },
   {
    "duration": -605,
    "start_time": "2021-11-15T21:51:58.761Z"
   },
   {
    "duration": -616,
    "start_time": "2021-11-15T21:51:58.773Z"
   },
   {
    "duration": -291,
    "start_time": "2021-11-15T21:52:06.052Z"
   },
   {
    "duration": 8,
    "start_time": "2021-11-15T22:00:29.386Z"
   },
   {
    "duration": 11,
    "start_time": "2021-11-15T22:00:35.661Z"
   },
   {
    "duration": 7,
    "start_time": "2021-11-15T22:00:59.655Z"
   },
   {
    "duration": 11,
    "start_time": "2021-11-15T22:01:38.952Z"
   },
   {
    "duration": 21,
    "start_time": "2021-11-15T22:02:03.736Z"
   },
   {
    "duration": 30,
    "start_time": "2021-11-15T22:04:15.359Z"
   },
   {
    "duration": 13,
    "start_time": "2021-11-15T22:05:09.792Z"
   },
   {
    "duration": 10,
    "start_time": "2021-11-15T22:05:35.207Z"
   },
   {
    "duration": 60,
    "start_time": "2021-11-15T22:05:39.419Z"
   },
   {
    "duration": 4,
    "start_time": "2021-11-15T22:05:39.481Z"
   },
   {
    "duration": 27,
    "start_time": "2021-11-15T22:05:39.487Z"
   },
   {
    "duration": 14,
    "start_time": "2021-11-15T22:05:39.517Z"
   },
   {
    "duration": 29,
    "start_time": "2021-11-15T22:05:39.589Z"
   },
   {
    "duration": 34,
    "start_time": "2021-11-15T22:05:39.672Z"
   },
   {
    "duration": 28,
    "start_time": "2021-11-15T22:05:39.707Z"
   },
   {
    "duration": 6,
    "start_time": "2021-11-15T22:05:39.737Z"
   },
   {
    "duration": 25,
    "start_time": "2021-11-15T22:05:39.744Z"
   },
   {
    "duration": 21,
    "start_time": "2021-11-15T22:05:39.771Z"
   },
   {
    "duration": 6,
    "start_time": "2021-11-15T22:05:39.796Z"
   },
   {
    "duration": 30,
    "start_time": "2021-11-15T22:05:39.807Z"
   },
   {
    "duration": 4,
    "start_time": "2021-11-15T22:05:39.840Z"
   },
   {
    "duration": 9,
    "start_time": "2021-11-15T22:05:39.846Z"
   },
   {
    "duration": 6,
    "start_time": "2021-11-15T22:05:39.857Z"
   },
   {
    "duration": 36,
    "start_time": "2021-11-15T22:05:39.865Z"
   },
   {
    "duration": 11,
    "start_time": "2021-11-15T22:05:39.905Z"
   },
   {
    "duration": 29,
    "start_time": "2021-11-15T22:05:39.919Z"
   },
   {
    "duration": 18,
    "start_time": "2021-11-15T22:05:39.950Z"
   },
   {
    "duration": 19,
    "start_time": "2021-11-15T22:05:39.969Z"
   },
   {
    "duration": 22,
    "start_time": "2021-11-15T22:05:39.989Z"
   },
   {
    "duration": 25,
    "start_time": "2021-11-15T22:05:40.013Z"
   },
   {
    "duration": 20,
    "start_time": "2021-11-15T22:05:40.040Z"
   },
   {
    "duration": 30,
    "start_time": "2021-11-15T22:05:40.062Z"
   },
   {
    "duration": 16,
    "start_time": "2021-11-15T22:05:40.094Z"
   },
   {
    "duration": 23,
    "start_time": "2021-11-15T22:05:40.112Z"
   },
   {
    "duration": 14,
    "start_time": "2021-11-15T22:05:40.139Z"
   },
   {
    "duration": 13,
    "start_time": "2021-11-15T22:05:40.156Z"
   },
   {
    "duration": 34,
    "start_time": "2021-11-15T22:05:40.170Z"
   },
   {
    "duration": 26,
    "start_time": "2021-11-15T22:05:40.206Z"
   },
   {
    "duration": 26,
    "start_time": "2021-11-15T22:05:40.233Z"
   },
   {
    "duration": 23,
    "start_time": "2021-11-15T22:05:40.260Z"
   },
   {
    "duration": 47,
    "start_time": "2021-11-15T22:05:40.285Z"
   },
   {
    "duration": 22,
    "start_time": "2021-11-15T22:05:40.334Z"
   },
   {
    "duration": 45,
    "start_time": "2021-11-15T22:05:40.357Z"
   },
   {
    "duration": 6,
    "start_time": "2021-11-15T22:05:40.406Z"
   },
   {
    "duration": 5,
    "start_time": "2021-11-15T22:05:40.413Z"
   },
   {
    "duration": 6,
    "start_time": "2021-11-15T22:05:40.419Z"
   },
   {
    "duration": 7,
    "start_time": "2021-11-15T22:05:40.426Z"
   },
   {
    "duration": 2556,
    "start_time": "2021-11-15T22:05:40.435Z"
   },
   {
    "duration": 22,
    "start_time": "2021-11-15T22:05:43.000Z"
   },
   {
    "duration": 23,
    "start_time": "2021-11-15T22:05:43.023Z"
   },
   {
    "duration": 6,
    "start_time": "2021-11-15T22:05:43.047Z"
   },
   {
    "duration": 7,
    "start_time": "2021-11-15T22:05:43.054Z"
   },
   {
    "duration": 29,
    "start_time": "2021-11-15T22:05:43.063Z"
   },
   {
    "duration": 200,
    "start_time": "2021-11-15T22:05:43.096Z"
   },
   {
    "duration": -329,
    "start_time": "2021-11-15T22:05:43.628Z"
   },
   {
    "duration": -363,
    "start_time": "2021-11-15T22:05:43.663Z"
   },
   {
    "duration": -377,
    "start_time": "2021-11-15T22:05:43.679Z"
   },
   {
    "duration": -402,
    "start_time": "2021-11-15T22:05:43.706Z"
   },
   {
    "duration": -422,
    "start_time": "2021-11-15T22:05:43.727Z"
   },
   {
    "duration": -441,
    "start_time": "2021-11-15T22:05:43.747Z"
   },
   {
    "duration": -464,
    "start_time": "2021-11-15T22:05:43.772Z"
   },
   {
    "duration": -481,
    "start_time": "2021-11-15T22:05:43.790Z"
   },
   {
    "duration": -502,
    "start_time": "2021-11-15T22:05:43.812Z"
   },
   {
    "duration": -524,
    "start_time": "2021-11-15T22:05:43.836Z"
   },
   {
    "duration": -536,
    "start_time": "2021-11-15T22:05:43.850Z"
   },
   {
    "duration": -551,
    "start_time": "2021-11-15T22:05:43.866Z"
   },
   {
    "duration": -581,
    "start_time": "2021-11-15T22:05:43.897Z"
   },
   {
    "duration": -596,
    "start_time": "2021-11-15T22:05:43.913Z"
   },
   {
    "duration": -625,
    "start_time": "2021-11-15T22:05:43.943Z"
   },
   {
    "duration": -640,
    "start_time": "2021-11-15T22:05:43.959Z"
   },
   {
    "duration": -663,
    "start_time": "2021-11-15T22:05:43.983Z"
   },
   {
    "duration": -685,
    "start_time": "2021-11-15T22:05:44.006Z"
   },
   {
    "duration": -710,
    "start_time": "2021-11-15T22:05:44.031Z"
   },
   {
    "duration": -730,
    "start_time": "2021-11-15T22:05:44.052Z"
   },
   {
    "duration": -757,
    "start_time": "2021-11-15T22:05:44.080Z"
   },
   {
    "duration": -778,
    "start_time": "2021-11-15T22:05:44.103Z"
   },
   {
    "duration": -803,
    "start_time": "2021-11-15T22:05:44.129Z"
   },
   {
    "duration": -824,
    "start_time": "2021-11-15T22:05:44.151Z"
   },
   {
    "duration": -849,
    "start_time": "2021-11-15T22:05:44.177Z"
   },
   {
    "duration": 19,
    "start_time": "2021-11-15T22:11:01.566Z"
   },
   {
    "duration": 192,
    "start_time": "2021-11-15T22:36:41.060Z"
   },
   {
    "duration": 180,
    "start_time": "2021-11-15T22:43:07.409Z"
   },
   {
    "duration": 244,
    "start_time": "2021-11-15T22:43:10.951Z"
   },
   {
    "duration": 180,
    "start_time": "2021-11-15T22:43:19.626Z"
   },
   {
    "duration": 5,
    "start_time": "2021-11-15T22:43:58.206Z"
   },
   {
    "duration": 51,
    "start_time": "2021-11-15T22:44:02.120Z"
   },
   {
    "duration": 5,
    "start_time": "2021-11-15T22:44:02.173Z"
   },
   {
    "duration": 34,
    "start_time": "2021-11-15T22:44:02.180Z"
   },
   {
    "duration": 15,
    "start_time": "2021-11-15T22:44:02.216Z"
   },
   {
    "duration": 22,
    "start_time": "2021-11-15T22:44:02.232Z"
   },
   {
    "duration": 22,
    "start_time": "2021-11-15T22:44:02.255Z"
   },
   {
    "duration": 24,
    "start_time": "2021-11-15T22:44:02.299Z"
   },
   {
    "duration": 5,
    "start_time": "2021-11-15T22:44:02.325Z"
   },
   {
    "duration": 24,
    "start_time": "2021-11-15T22:44:02.332Z"
   },
   {
    "duration": 3,
    "start_time": "2021-11-15T22:44:02.397Z"
   },
   {
    "duration": 3,
    "start_time": "2021-11-15T22:44:02.406Z"
   },
   {
    "duration": 26,
    "start_time": "2021-11-15T22:44:02.497Z"
   },
   {
    "duration": 6,
    "start_time": "2021-11-15T22:44:02.525Z"
   },
   {
    "duration": 18,
    "start_time": "2021-11-15T22:44:02.533Z"
   },
   {
    "duration": 9,
    "start_time": "2021-11-15T22:44:02.553Z"
   },
   {
    "duration": 8,
    "start_time": "2021-11-15T22:44:02.632Z"
   },
   {
    "duration": 18,
    "start_time": "2021-11-15T22:44:02.642Z"
   },
   {
    "duration": 16,
    "start_time": "2021-11-15T22:44:02.737Z"
   },
   {
    "duration": 5,
    "start_time": "2021-11-15T22:44:02.836Z"
   },
   {
    "duration": 11,
    "start_time": "2021-11-15T22:44:02.843Z"
   },
   {
    "duration": 6,
    "start_time": "2021-11-15T22:44:02.856Z"
   },
   {
    "duration": 7,
    "start_time": "2021-11-15T22:44:02.952Z"
   },
   {
    "duration": 8,
    "start_time": "2021-11-15T22:44:02.962Z"
   },
   {
    "duration": 9,
    "start_time": "2021-11-15T22:44:02.973Z"
   },
   {
    "duration": 6,
    "start_time": "2021-11-15T22:44:02.984Z"
   },
   {
    "duration": 9,
    "start_time": "2021-11-15T22:44:02.997Z"
   },
   {
    "duration": 8,
    "start_time": "2021-11-15T22:44:03.097Z"
   },
   {
    "duration": 6,
    "start_time": "2021-11-15T22:44:03.107Z"
   },
   {
    "duration": 5,
    "start_time": "2021-11-15T22:44:03.115Z"
   },
   {
    "duration": 10,
    "start_time": "2021-11-15T22:44:03.127Z"
   },
   {
    "duration": 5,
    "start_time": "2021-11-15T22:44:03.144Z"
   },
   {
    "duration": 11,
    "start_time": "2021-11-15T22:44:03.150Z"
   },
   {
    "duration": 31,
    "start_time": "2021-11-15T22:44:03.163Z"
   },
   {
    "duration": 21,
    "start_time": "2021-11-15T22:44:03.196Z"
   },
   {
    "duration": 29,
    "start_time": "2021-11-15T22:44:03.219Z"
   },
   {
    "duration": 5,
    "start_time": "2021-11-15T22:44:03.249Z"
   },
   {
    "duration": 4,
    "start_time": "2021-11-15T22:44:03.308Z"
   },
   {
    "duration": 17,
    "start_time": "2021-11-15T22:44:03.319Z"
   },
   {
    "duration": 2581,
    "start_time": "2021-11-15T22:44:03.346Z"
   },
   {
    "duration": 19,
    "start_time": "2021-11-15T22:44:05.929Z"
   },
   {
    "duration": 57,
    "start_time": "2021-11-15T22:44:05.950Z"
   },
   {
    "duration": 6,
    "start_time": "2021-11-15T22:44:06.009Z"
   },
   {
    "duration": 10,
    "start_time": "2021-11-15T22:44:06.017Z"
   },
   {
    "duration": 8,
    "start_time": "2021-11-15T22:44:06.029Z"
   },
   {
    "duration": 17,
    "start_time": "2021-11-15T22:44:06.038Z"
   },
   {
    "duration": 17,
    "start_time": "2021-11-15T22:44:06.057Z"
   },
   {
    "duration": 14,
    "start_time": "2021-11-15T22:44:06.076Z"
   },
   {
    "duration": 21,
    "start_time": "2021-11-15T22:44:06.096Z"
   },
   {
    "duration": 11,
    "start_time": "2021-11-15T22:44:06.119Z"
   },
   {
    "duration": 17,
    "start_time": "2021-11-15T22:44:06.132Z"
   },
   {
    "duration": 6,
    "start_time": "2021-11-15T22:44:06.151Z"
   },
   {
    "duration": 13,
    "start_time": "2021-11-15T22:44:06.159Z"
   },
   {
    "duration": 25,
    "start_time": "2021-11-15T22:44:06.173Z"
   },
   {
    "duration": 10,
    "start_time": "2021-11-15T22:44:06.202Z"
   },
   {
    "duration": 7,
    "start_time": "2021-11-15T22:44:06.214Z"
   },
   {
    "duration": 15,
    "start_time": "2021-11-15T22:44:06.222Z"
   },
   {
    "duration": 253,
    "start_time": "2021-11-15T22:44:06.238Z"
   },
   {
    "duration": 31,
    "start_time": "2021-11-15T22:44:06.493Z"
   },
   {
    "duration": 3,
    "start_time": "2021-11-15T22:44:06.526Z"
   },
   {
    "duration": 32,
    "start_time": "2021-11-15T22:44:06.531Z"
   },
   {
    "duration": 271,
    "start_time": "2021-11-15T22:44:06.566Z"
   },
   {
    "duration": 6,
    "start_time": "2021-11-15T22:44:06.839Z"
   },
   {
    "duration": 34,
    "start_time": "2021-11-15T22:44:06.847Z"
   },
   {
    "duration": 26,
    "start_time": "2021-11-15T22:44:06.883Z"
   },
   {
    "duration": 14,
    "start_time": "2021-11-15T22:44:06.911Z"
   },
   {
    "duration": 18,
    "start_time": "2021-11-15T22:44:06.927Z"
   },
   {
    "duration": 6,
    "start_time": "2021-11-15T22:49:48.064Z"
   },
   {
    "duration": 22,
    "start_time": "2021-11-15T22:50:01.307Z"
   },
   {
    "duration": 51,
    "start_time": "2021-11-15T22:50:09.735Z"
   },
   {
    "duration": 4,
    "start_time": "2021-11-15T22:50:09.787Z"
   },
   {
    "duration": 30,
    "start_time": "2021-11-15T22:50:09.793Z"
   },
   {
    "duration": 10,
    "start_time": "2021-11-15T22:50:09.825Z"
   },
   {
    "duration": 20,
    "start_time": "2021-11-15T22:50:09.836Z"
   },
   {
    "duration": 45,
    "start_time": "2021-11-15T22:50:09.857Z"
   },
   {
    "duration": 21,
    "start_time": "2021-11-15T22:50:09.905Z"
   },
   {
    "duration": 18,
    "start_time": "2021-11-15T22:50:09.928Z"
   },
   {
    "duration": 6,
    "start_time": "2021-11-15T22:50:09.948Z"
   },
   {
    "duration": 16,
    "start_time": "2021-11-15T22:50:10.116Z"
   },
   {
    "duration": 7,
    "start_time": "2021-11-15T22:50:10.134Z"
   },
   {
    "duration": 15,
    "start_time": "2021-11-15T22:50:10.143Z"
   },
   {
    "duration": 7,
    "start_time": "2021-11-15T22:50:10.160Z"
   },
   {
    "duration": 6,
    "start_time": "2021-11-15T22:50:10.175Z"
   },
   {
    "duration": 14,
    "start_time": "2021-11-15T22:50:10.183Z"
   },
   {
    "duration": 12,
    "start_time": "2021-11-15T22:50:10.202Z"
   },
   {
    "duration": 4,
    "start_time": "2021-11-15T22:50:10.215Z"
   },
   {
    "duration": 12,
    "start_time": "2021-11-15T22:50:10.220Z"
   },
   {
    "duration": 13,
    "start_time": "2021-11-15T22:50:10.233Z"
   },
   {
    "duration": 6,
    "start_time": "2021-11-15T22:50:10.334Z"
   },
   {
    "duration": 5,
    "start_time": "2021-11-15T22:50:10.344Z"
   },
   {
    "duration": 7,
    "start_time": "2021-11-15T22:50:10.356Z"
   },
   {
    "duration": 3,
    "start_time": "2021-11-15T22:50:10.367Z"
   },
   {
    "duration": 6,
    "start_time": "2021-11-15T22:50:10.380Z"
   },
   {
    "duration": 7,
    "start_time": "2021-11-15T22:50:10.403Z"
   },
   {
    "duration": 4,
    "start_time": "2021-11-15T22:50:10.412Z"
   },
   {
    "duration": 5,
    "start_time": "2021-11-15T22:50:10.418Z"
   },
   {
    "duration": 6,
    "start_time": "2021-11-15T22:50:10.428Z"
   },
   {
    "duration": 4,
    "start_time": "2021-11-15T22:50:10.438Z"
   },
   {
    "duration": 6,
    "start_time": "2021-11-15T22:50:10.447Z"
   },
   {
    "duration": 15,
    "start_time": "2021-11-15T22:50:10.461Z"
   },
   {
    "duration": 30,
    "start_time": "2021-11-15T22:50:10.480Z"
   },
   {
    "duration": 30,
    "start_time": "2021-11-15T22:50:10.512Z"
   },
   {
    "duration": 4,
    "start_time": "2021-11-15T22:50:10.544Z"
   },
   {
    "duration": 5,
    "start_time": "2021-11-15T22:50:10.549Z"
   },
   {
    "duration": 9,
    "start_time": "2021-11-15T22:50:10.555Z"
   },
   {
    "duration": 2528,
    "start_time": "2021-11-15T22:50:10.566Z"
   },
   {
    "duration": 23,
    "start_time": "2021-11-15T22:50:13.099Z"
   },
   {
    "duration": 32,
    "start_time": "2021-11-15T22:50:13.125Z"
   },
   {
    "duration": 5,
    "start_time": "2021-11-15T22:50:13.160Z"
   },
   {
    "duration": 31,
    "start_time": "2021-11-15T22:50:13.167Z"
   },
   {
    "duration": 7,
    "start_time": "2021-11-15T22:50:13.200Z"
   },
   {
    "duration": 26,
    "start_time": "2021-11-15T22:50:13.208Z"
   },
   {
    "duration": 9,
    "start_time": "2021-11-15T22:50:13.237Z"
   },
   {
    "duration": 4,
    "start_time": "2021-11-15T22:50:13.248Z"
   },
   {
    "duration": 7,
    "start_time": "2021-11-15T22:50:13.254Z"
   },
   {
    "duration": 5,
    "start_time": "2021-11-15T22:50:13.262Z"
   },
   {
    "duration": 6,
    "start_time": "2021-11-15T22:50:13.293Z"
   },
   {
    "duration": 10,
    "start_time": "2021-11-15T22:50:13.300Z"
   },
   {
    "duration": 7,
    "start_time": "2021-11-15T22:50:13.312Z"
   },
   {
    "duration": 18,
    "start_time": "2021-11-15T22:50:13.321Z"
   },
   {
    "duration": 7,
    "start_time": "2021-11-15T22:50:13.341Z"
   },
   {
    "duration": 12,
    "start_time": "2021-11-15T22:50:13.349Z"
   },
   {
    "duration": 7,
    "start_time": "2021-11-15T22:50:13.362Z"
   },
   {
    "duration": 275,
    "start_time": "2021-11-15T22:50:13.371Z"
   },
   {
    "duration": 26,
    "start_time": "2021-11-15T22:50:13.647Z"
   },
   {
    "duration": 17,
    "start_time": "2021-11-15T22:50:13.674Z"
   },
   {
    "duration": 17,
    "start_time": "2021-11-15T22:50:13.693Z"
   },
   {
    "duration": 248,
    "start_time": "2021-11-15T22:50:13.714Z"
   },
   {
    "duration": 7,
    "start_time": "2021-11-15T22:50:13.964Z"
   },
   {
    "duration": 37,
    "start_time": "2021-11-15T22:50:13.973Z"
   },
   {
    "duration": 19,
    "start_time": "2021-11-15T22:50:14.012Z"
   },
   {
    "duration": 13,
    "start_time": "2021-11-15T22:50:14.032Z"
   },
   {
    "duration": 49,
    "start_time": "2021-11-15T22:50:14.046Z"
   },
   {
    "duration": 51,
    "start_time": "2021-11-15T22:50:30.087Z"
   },
   {
    "duration": 20,
    "start_time": "2021-11-15T22:50:37.702Z"
   },
   {
    "duration": 22,
    "start_time": "2021-11-15T22:51:15.535Z"
   },
   {
    "duration": 23,
    "start_time": "2021-11-15T22:51:21.136Z"
   },
   {
    "duration": 4,
    "start_time": "2021-11-15T22:51:24.141Z"
   },
   {
    "duration": 20,
    "start_time": "2021-11-15T22:51:36.351Z"
   },
   {
    "duration": 23,
    "start_time": "2021-11-15T22:51:55.896Z"
   },
   {
    "duration": 21,
    "start_time": "2021-11-15T22:52:17.103Z"
   },
   {
    "duration": 251,
    "start_time": "2021-11-15T22:52:24.819Z"
   },
   {
    "duration": 23,
    "start_time": "2021-11-15T22:53:33.698Z"
   },
   {
    "duration": 25,
    "start_time": "2021-11-15T22:53:55.299Z"
   },
   {
    "duration": 22,
    "start_time": "2021-11-15T22:55:01.311Z"
   },
   {
    "duration": 23,
    "start_time": "2021-11-15T23:05:51.947Z"
   },
   {
    "duration": 54,
    "start_time": "2021-11-15T23:27:37.667Z"
   },
   {
    "duration": 4,
    "start_time": "2021-11-15T23:27:46.258Z"
   },
   {
    "duration": 16,
    "start_time": "2021-11-15T23:27:50.427Z"
   },
   {
    "duration": 11,
    "start_time": "2021-11-15T23:28:08.568Z"
   },
   {
    "duration": 21,
    "start_time": "2021-11-15T23:28:28.058Z"
   },
   {
    "duration": 21,
    "start_time": "2021-11-15T23:28:48.266Z"
   },
   {
    "duration": 21,
    "start_time": "2021-11-15T23:34:47.841Z"
   },
   {
    "duration": 23,
    "start_time": "2021-11-15T23:34:54.993Z"
   },
   {
    "duration": 20,
    "start_time": "2021-11-15T23:35:12.217Z"
   },
   {
    "duration": 28,
    "start_time": "2021-11-15T23:35:21.784Z"
   },
   {
    "duration": 27,
    "start_time": "2021-11-15T23:37:05.113Z"
   },
   {
    "duration": 22,
    "start_time": "2021-11-15T23:37:39.958Z"
   },
   {
    "duration": 21,
    "start_time": "2021-11-15T23:37:45.331Z"
   },
   {
    "duration": 49,
    "start_time": "2021-11-15T23:37:57.816Z"
   },
   {
    "duration": 4,
    "start_time": "2021-11-15T23:37:57.866Z"
   },
   {
    "duration": 18,
    "start_time": "2021-11-15T23:37:57.871Z"
   },
   {
    "duration": 10,
    "start_time": "2021-11-15T23:37:57.925Z"
   },
   {
    "duration": 20,
    "start_time": "2021-11-15T23:37:57.942Z"
   },
   {
    "duration": 51,
    "start_time": "2021-11-15T23:38:13.800Z"
   },
   {
    "duration": 4,
    "start_time": "2021-11-15T23:38:17.707Z"
   },
   {
    "duration": 17,
    "start_time": "2021-11-15T23:38:19.961Z"
   },
   {
    "duration": 11,
    "start_time": "2021-11-15T23:38:26.617Z"
   },
   {
    "duration": 21,
    "start_time": "2021-11-15T23:38:30.400Z"
   },
   {
    "duration": 23,
    "start_time": "2021-11-15T23:38:36.730Z"
   },
   {
    "duration": 21,
    "start_time": "2021-11-15T23:38:50.657Z"
   },
   {
    "duration": 20,
    "start_time": "2021-11-15T23:38:56.907Z"
   },
   {
    "duration": 16,
    "start_time": "2021-11-15T23:39:09.686Z"
   },
   {
    "duration": 6,
    "start_time": "2021-11-15T23:39:16.322Z"
   },
   {
    "duration": 9,
    "start_time": "2021-11-15T23:39:19.839Z"
   },
   {
    "duration": 5,
    "start_time": "2021-11-15T23:39:40.351Z"
   },
   {
    "duration": 6,
    "start_time": "2021-11-15T23:39:52.975Z"
   },
   {
    "duration": 11,
    "start_time": "2021-11-15T23:39:59.543Z"
   },
   {
    "duration": 5,
    "start_time": "2021-11-15T23:40:04.073Z"
   },
   {
    "duration": 7,
    "start_time": "2021-11-15T23:40:13.119Z"
   },
   {
    "duration": 6,
    "start_time": "2021-11-15T23:40:18.232Z"
   },
   {
    "duration": 7,
    "start_time": "2021-11-15T23:40:31.217Z"
   },
   {
    "duration": 5,
    "start_time": "2021-11-15T23:40:35.056Z"
   },
   {
    "duration": 7,
    "start_time": "2021-11-15T23:40:37.543Z"
   },
   {
    "duration": 7,
    "start_time": "2021-11-15T23:40:40.625Z"
   },
   {
    "duration": 7,
    "start_time": "2021-11-15T23:40:44.560Z"
   },
   {
    "duration": 4,
    "start_time": "2021-11-15T23:40:48.239Z"
   },
   {
    "duration": 7,
    "start_time": "2021-11-15T23:40:51.359Z"
   },
   {
    "duration": 15,
    "start_time": "2021-11-15T23:40:55.436Z"
   },
   {
    "duration": 16,
    "start_time": "2021-11-15T23:40:58.551Z"
   },
   {
    "duration": 18,
    "start_time": "2021-11-15T23:41:03.629Z"
   },
   {
    "duration": 4,
    "start_time": "2021-11-15T23:41:06.918Z"
   },
   {
    "duration": 4,
    "start_time": "2021-11-15T23:41:12.839Z"
   },
   {
    "duration": 4,
    "start_time": "2021-11-15T23:41:16.783Z"
   },
   {
    "duration": 20,
    "start_time": "2021-11-15T23:41:23.226Z"
   },
   {
    "duration": 21,
    "start_time": "2021-11-15T23:42:05.761Z"
   },
   {
    "duration": 726,
    "start_time": "2021-11-16T01:25:38.159Z"
   },
   {
    "duration": 8,
    "start_time": "2021-11-16T01:25:44.725Z"
   },
   {
    "duration": 18,
    "start_time": "2021-11-16T01:25:47.333Z"
   },
   {
    "duration": 11,
    "start_time": "2021-11-16T01:25:56.431Z"
   },
   {
    "duration": 21,
    "start_time": "2021-11-16T01:26:11.099Z"
   },
   {
    "duration": 20,
    "start_time": "2021-11-16T01:27:04.469Z"
   },
   {
    "duration": 22,
    "start_time": "2021-11-16T01:27:10.313Z"
   },
   {
    "duration": 3,
    "start_time": "2021-11-16T01:27:46.567Z"
   },
   {
    "duration": 7,
    "start_time": "2021-11-16T01:29:58.511Z"
   },
   {
    "duration": 7,
    "start_time": "2021-11-16T01:30:01.824Z"
   },
   {
    "duration": 11,
    "start_time": "2021-11-16T01:30:08.583Z"
   },
   {
    "duration": 4,
    "start_time": "2021-11-16T01:30:21.549Z"
   },
   {
    "duration": 7,
    "start_time": "2021-11-16T01:30:28.915Z"
   },
   {
    "duration": 7,
    "start_time": "2021-11-16T01:30:35.815Z"
   },
   {
    "duration": 8,
    "start_time": "2021-11-16T01:32:15.436Z"
   },
   {
    "duration": 4,
    "start_time": "2021-11-16T01:32:18.344Z"
   },
   {
    "duration": 7,
    "start_time": "2021-11-16T01:32:20.808Z"
   },
   {
    "duration": 8,
    "start_time": "2021-11-16T01:32:25.688Z"
   },
   {
    "duration": 8,
    "start_time": "2021-11-16T01:32:30.466Z"
   },
   {
    "duration": 5,
    "start_time": "2021-11-16T01:32:35.935Z"
   },
   {
    "duration": 7,
    "start_time": "2021-11-16T01:32:38.879Z"
   },
   {
    "duration": 16,
    "start_time": "2021-11-16T01:32:42.458Z"
   },
   {
    "duration": 18,
    "start_time": "2021-11-16T01:32:45.655Z"
   },
   {
    "duration": 15,
    "start_time": "2021-11-16T01:32:48.863Z"
   },
   {
    "duration": 15,
    "start_time": "2021-11-16T01:33:11.535Z"
   },
   {
    "duration": 16,
    "start_time": "2021-11-16T01:33:18.207Z"
   },
   {
    "duration": 17,
    "start_time": "2021-11-16T01:33:24.999Z"
   },
   {
    "duration": 4,
    "start_time": "2021-11-16T01:33:27.720Z"
   },
   {
    "duration": 4,
    "start_time": "2021-11-16T01:33:38.290Z"
   },
   {
    "duration": 4,
    "start_time": "2021-11-16T01:33:51.008Z"
   },
   {
    "duration": 5,
    "start_time": "2021-11-16T01:33:52.774Z"
   },
   {
    "duration": 2553,
    "start_time": "2021-11-16T01:33:55.559Z"
   },
   {
    "duration": 21,
    "start_time": "2021-11-16T01:34:42.439Z"
   },
   {
    "duration": 20,
    "start_time": "2021-11-16T01:34:44.360Z"
   },
   {
    "duration": 18,
    "start_time": "2021-11-16T01:34:50.278Z"
   },
   {
    "duration": 19,
    "start_time": "2021-11-16T01:34:54.141Z"
   },
   {
    "duration": 4,
    "start_time": "2021-11-16T01:34:56.903Z"
   },
   {
    "duration": 17,
    "start_time": "2021-11-16T01:35:01.665Z"
   },
   {
    "duration": 18,
    "start_time": "2021-11-16T01:35:31.874Z"
   },
   {
    "duration": 54,
    "start_time": "2021-11-16T01:35:39.016Z"
   },
   {
    "duration": 4,
    "start_time": "2021-11-16T01:35:39.072Z"
   },
   {
    "duration": 18,
    "start_time": "2021-11-16T01:35:39.079Z"
   },
   {
    "duration": 12,
    "start_time": "2021-11-16T01:35:39.099Z"
   },
   {
    "duration": 21,
    "start_time": "2021-11-16T01:35:39.113Z"
   },
   {
    "duration": 3,
    "start_time": "2021-11-16T01:35:39.165Z"
   },
   {
    "duration": 22,
    "start_time": "2021-11-16T01:35:39.170Z"
   },
   {
    "duration": 19,
    "start_time": "2021-11-16T01:35:39.194Z"
   },
   {
    "duration": 82,
    "start_time": "2021-11-16T01:35:39.215Z"
   },
   {
    "duration": -1317,
    "start_time": "2021-11-16T01:35:40.617Z"
   },
   {
    "duration": -1342,
    "start_time": "2021-11-16T01:35:40.643Z"
   },
   {
    "duration": -1352,
    "start_time": "2021-11-16T01:35:40.655Z"
   },
   {
    "duration": -1368,
    "start_time": "2021-11-16T01:35:40.672Z"
   },
   {
    "duration": -1386,
    "start_time": "2021-11-16T01:35:40.691Z"
   },
   {
    "duration": -1403,
    "start_time": "2021-11-16T01:35:40.710Z"
   },
   {
    "duration": -1418,
    "start_time": "2021-11-16T01:35:40.726Z"
   },
   {
    "duration": -1441,
    "start_time": "2021-11-16T01:35:40.751Z"
   },
   {
    "duration": -1525,
    "start_time": "2021-11-16T01:35:40.836Z"
   },
   {
    "duration": -1546,
    "start_time": "2021-11-16T01:35:40.858Z"
   },
   {
    "duration": -1566,
    "start_time": "2021-11-16T01:35:40.880Z"
   },
   {
    "duration": -1580,
    "start_time": "2021-11-16T01:35:40.895Z"
   },
   {
    "duration": -1588,
    "start_time": "2021-11-16T01:35:40.905Z"
   },
   {
    "duration": -1607,
    "start_time": "2021-11-16T01:35:40.925Z"
   },
   {
    "duration": -1625,
    "start_time": "2021-11-16T01:35:40.945Z"
   },
   {
    "duration": -1644,
    "start_time": "2021-11-16T01:35:40.965Z"
   },
   {
    "duration": -1661,
    "start_time": "2021-11-16T01:35:40.984Z"
   },
   {
    "duration": -1677,
    "start_time": "2021-11-16T01:35:41.001Z"
   },
   {
    "duration": -1697,
    "start_time": "2021-11-16T01:35:41.022Z"
   },
   {
    "duration": -1711,
    "start_time": "2021-11-16T01:35:41.038Z"
   },
   {
    "duration": -1729,
    "start_time": "2021-11-16T01:35:41.057Z"
   },
   {
    "duration": -1746,
    "start_time": "2021-11-16T01:35:41.076Z"
   },
   {
    "duration": -1763,
    "start_time": "2021-11-16T01:35:41.094Z"
   },
   {
    "duration": -1779,
    "start_time": "2021-11-16T01:35:41.112Z"
   },
   {
    "duration": -1797,
    "start_time": "2021-11-16T01:35:41.131Z"
   },
   {
    "duration": -1807,
    "start_time": "2021-11-16T01:35:41.144Z"
   },
   {
    "duration": 54,
    "start_time": "2021-11-16T01:35:39.338Z"
   },
   {
    "duration": 104,
    "start_time": "2021-11-16T01:35:39.395Z"
   },
   {
    "duration": 13,
    "start_time": "2021-11-16T01:35:39.502Z"
   },
   {
    "duration": 10,
    "start_time": "2021-11-16T01:35:39.517Z"
   },
   {
    "duration": 9,
    "start_time": "2021-11-16T01:35:39.530Z"
   },
   {
    "duration": 32,
    "start_time": "2021-11-16T01:35:39.548Z"
   },
   {
    "duration": 7,
    "start_time": "2021-11-16T01:35:39.582Z"
   },
   {
    "duration": 4,
    "start_time": "2021-11-16T01:35:39.592Z"
   },
   {
    "duration": 5,
    "start_time": "2021-11-16T01:35:39.597Z"
   },
   {
    "duration": 25,
    "start_time": "2021-11-16T01:35:39.603Z"
   },
   {
    "duration": 35,
    "start_time": "2021-11-16T01:35:39.629Z"
   },
   {
    "duration": 6,
    "start_time": "2021-11-16T01:35:39.666Z"
   },
   {
    "duration": 4,
    "start_time": "2021-11-16T01:35:39.674Z"
   },
   {
    "duration": 240,
    "start_time": "2021-11-16T01:35:39.679Z"
   },
   {
    "duration": 27,
    "start_time": "2021-11-16T01:35:39.921Z"
   },
   {
    "duration": 13,
    "start_time": "2021-11-16T01:35:39.950Z"
   },
   {
    "duration": 239,
    "start_time": "2021-11-16T01:35:39.965Z"
   },
   {
    "duration": 7,
    "start_time": "2021-11-16T01:35:40.205Z"
   },
   {
    "duration": 21,
    "start_time": "2021-11-16T01:35:40.214Z"
   },
   {
    "duration": 39,
    "start_time": "2021-11-16T01:35:40.237Z"
   },
   {
    "duration": 15,
    "start_time": "2021-11-16T01:35:40.278Z"
   },
   {
    "duration": 17,
    "start_time": "2021-11-16T01:35:40.295Z"
   },
   {
    "duration": 18,
    "start_time": "2021-11-16T01:36:02.880Z"
   },
   {
    "duration": 18,
    "start_time": "2021-11-16T01:36:34.631Z"
   },
   {
    "duration": 4,
    "start_time": "2021-11-16T01:36:44.419Z"
   },
   {
    "duration": 21,
    "start_time": "2021-11-16T01:36:50.472Z"
   },
   {
    "duration": 20,
    "start_time": "2021-11-16T01:37:25.789Z"
   },
   {
    "duration": 4,
    "start_time": "2021-11-16T01:37:29.279Z"
   },
   {
    "duration": 22,
    "start_time": "2021-11-16T01:37:34.774Z"
   },
   {
    "duration": 23,
    "start_time": "2021-11-16T01:37:42.019Z"
   },
   {
    "duration": 6,
    "start_time": "2021-11-16T01:37:49.110Z"
   },
   {
    "duration": 5,
    "start_time": "2021-11-16T01:37:52.558Z"
   },
   {
    "duration": 5,
    "start_time": "2021-11-16T01:37:56.911Z"
   },
   {
    "duration": 23,
    "start_time": "2021-11-16T01:38:02.450Z"
   },
   {
    "duration": 8,
    "start_time": "2021-11-16T01:38:27.643Z"
   },
   {
    "duration": 5,
    "start_time": "2021-11-16T01:38:30.984Z"
   },
   {
    "duration": 3,
    "start_time": "2021-11-16T01:38:36.272Z"
   },
   {
    "duration": 23,
    "start_time": "2021-11-16T01:38:39.801Z"
   },
   {
    "duration": 8,
    "start_time": "2021-11-16T01:38:58.832Z"
   },
   {
    "duration": 5,
    "start_time": "2021-11-16T01:39:03.336Z"
   },
   {
    "duration": 3,
    "start_time": "2021-11-16T01:39:06.400Z"
   },
   {
    "duration": 25,
    "start_time": "2021-11-16T01:39:26.548Z"
   },
   {
    "duration": 6,
    "start_time": "2021-11-16T01:39:44.512Z"
   },
   {
    "duration": 8,
    "start_time": "2021-11-16T01:39:48.079Z"
   },
   {
    "duration": 16,
    "start_time": "2021-11-16T01:39:51.897Z"
   },
   {
    "duration": 15,
    "start_time": "2021-11-16T01:40:01.961Z"
   },
   {
    "duration": 51,
    "start_time": "2021-11-16T01:40:05.951Z"
   },
   {
    "duration": 4,
    "start_time": "2021-11-16T01:40:06.004Z"
   },
   {
    "duration": 27,
    "start_time": "2021-11-16T01:40:06.010Z"
   },
   {
    "duration": 28,
    "start_time": "2021-11-16T01:40:06.039Z"
   },
   {
    "duration": 19,
    "start_time": "2021-11-16T01:40:06.069Z"
   },
   {
    "duration": 3,
    "start_time": "2021-11-16T01:40:06.089Z"
   },
   {
    "duration": 31,
    "start_time": "2021-11-16T01:40:06.094Z"
   },
   {
    "duration": 35,
    "start_time": "2021-11-16T01:40:06.128Z"
   },
   {
    "duration": 86,
    "start_time": "2021-11-16T01:40:06.165Z"
   },
   {
    "duration": -927,
    "start_time": "2021-11-16T01:40:07.180Z"
   },
   {
    "duration": -955,
    "start_time": "2021-11-16T01:40:07.209Z"
   },
   {
    "duration": -973,
    "start_time": "2021-11-16T01:40:07.228Z"
   },
   {
    "duration": -996,
    "start_time": "2021-11-16T01:40:07.252Z"
   },
   {
    "duration": -1011,
    "start_time": "2021-11-16T01:40:07.268Z"
   },
   {
    "duration": -1031,
    "start_time": "2021-11-16T01:40:07.289Z"
   },
   {
    "duration": -1048,
    "start_time": "2021-11-16T01:40:07.307Z"
   },
   {
    "duration": -1065,
    "start_time": "2021-11-16T01:40:07.325Z"
   },
   {
    "duration": -1082,
    "start_time": "2021-11-16T01:40:07.343Z"
   },
   {
    "duration": -1099,
    "start_time": "2021-11-16T01:40:07.361Z"
   },
   {
    "duration": -1122,
    "start_time": "2021-11-16T01:40:07.385Z"
   },
   {
    "duration": -1140,
    "start_time": "2021-11-16T01:40:07.404Z"
   },
   {
    "duration": -1161,
    "start_time": "2021-11-16T01:40:07.426Z"
   },
   {
    "duration": -1185,
    "start_time": "2021-11-16T01:40:07.450Z"
   },
   {
    "duration": -1202,
    "start_time": "2021-11-16T01:40:07.468Z"
   },
   {
    "duration": 8,
    "start_time": "2021-11-16T01:40:06.289Z"
   },
   {
    "duration": 13,
    "start_time": "2021-11-16T01:40:06.300Z"
   },
   {
    "duration": 11,
    "start_time": "2021-11-16T01:40:06.315Z"
   },
   {
    "duration": 7,
    "start_time": "2021-11-16T01:40:06.328Z"
   },
   {
    "duration": 29,
    "start_time": "2021-11-16T01:40:06.336Z"
   },
   {
    "duration": 14,
    "start_time": "2021-11-16T01:40:06.367Z"
   },
   {
    "duration": 19,
    "start_time": "2021-11-16T01:40:06.383Z"
   },
   {
    "duration": 16,
    "start_time": "2021-11-16T01:40:06.403Z"
   },
   {
    "duration": 3,
    "start_time": "2021-11-16T01:40:06.422Z"
   },
   {
    "duration": 36,
    "start_time": "2021-11-16T01:40:06.427Z"
   },
   {
    "duration": 15,
    "start_time": "2021-11-16T01:40:06.465Z"
   },
   {
    "duration": 2588,
    "start_time": "2021-11-16T01:40:06.481Z"
   },
   {
    "duration": 21,
    "start_time": "2021-11-16T01:40:09.071Z"
   },
   {
    "duration": 32,
    "start_time": "2021-11-16T01:40:09.093Z"
   },
   {
    "duration": 6,
    "start_time": "2021-11-16T01:40:09.127Z"
   },
   {
    "duration": 29,
    "start_time": "2021-11-16T01:40:09.134Z"
   },
   {
    "duration": 4,
    "start_time": "2021-11-16T01:40:09.165Z"
   },
   {
    "duration": 21,
    "start_time": "2021-11-16T01:40:09.170Z"
   },
   {
    "duration": 7,
    "start_time": "2021-11-16T01:40:09.192Z"
   },
   {
    "duration": 4,
    "start_time": "2021-11-16T01:40:09.200Z"
   },
   {
    "duration": 4,
    "start_time": "2021-11-16T01:40:09.206Z"
   },
   {
    "duration": 22,
    "start_time": "2021-11-16T01:40:09.212Z"
   },
   {
    "duration": 33,
    "start_time": "2021-11-16T01:40:09.236Z"
   },
   {
    "duration": 7,
    "start_time": "2021-11-16T01:40:09.271Z"
   },
   {
    "duration": 8,
    "start_time": "2021-11-16T01:40:09.279Z"
   },
   {
    "duration": 235,
    "start_time": "2021-11-16T01:40:09.289Z"
   },
   {
    "duration": 41,
    "start_time": "2021-11-16T01:40:09.526Z"
   },
   {
    "duration": 5,
    "start_time": "2021-11-16T01:40:09.568Z"
   },
   {
    "duration": 235,
    "start_time": "2021-11-16T01:40:09.574Z"
   },
   {
    "duration": 6,
    "start_time": "2021-11-16T01:40:09.811Z"
   },
   {
    "duration": 29,
    "start_time": "2021-11-16T01:40:09.818Z"
   },
   {
    "duration": 15,
    "start_time": "2021-11-16T01:40:16.160Z"
   },
   {
    "duration": 19,
    "start_time": "2021-11-16T01:40:21.519Z"
   },
   {
    "duration": 16,
    "start_time": "2021-11-16T01:40:29.154Z"
   },
   {
    "duration": 19,
    "start_time": "2021-11-16T01:40:36.729Z"
   },
   {
    "duration": 16,
    "start_time": "2021-11-16T01:42:31.376Z"
   },
   {
    "duration": 5,
    "start_time": "2021-11-16T01:42:33.124Z"
   },
   {
    "duration": 51,
    "start_time": "2021-11-16T01:42:54.991Z"
   },
   {
    "duration": 3,
    "start_time": "2021-11-16T01:42:55.044Z"
   },
   {
    "duration": 18,
    "start_time": "2021-11-16T01:42:55.049Z"
   },
   {
    "duration": 12,
    "start_time": "2021-11-16T01:42:55.068Z"
   },
   {
    "duration": 23,
    "start_time": "2021-11-16T01:42:55.081Z"
   },
   {
    "duration": 3,
    "start_time": "2021-11-16T01:42:55.105Z"
   },
   {
    "duration": 25,
    "start_time": "2021-11-16T01:42:55.110Z"
   },
   {
    "duration": 32,
    "start_time": "2021-11-16T01:42:55.137Z"
   },
   {
    "duration": 96,
    "start_time": "2021-11-16T01:42:55.171Z"
   },
   {
    "duration": -869,
    "start_time": "2021-11-16T01:42:56.139Z"
   },
   {
    "duration": -881,
    "start_time": "2021-11-16T01:42:56.152Z"
   },
   {
    "duration": -895,
    "start_time": "2021-11-16T01:42:56.167Z"
   },
   {
    "duration": -912,
    "start_time": "2021-11-16T01:42:56.185Z"
   },
   {
    "duration": -927,
    "start_time": "2021-11-16T01:42:56.201Z"
   },
   {
    "duration": -953,
    "start_time": "2021-11-16T01:42:56.228Z"
   },
   {
    "duration": -970,
    "start_time": "2021-11-16T01:42:56.246Z"
   },
   {
    "duration": -990,
    "start_time": "2021-11-16T01:42:56.267Z"
   },
   {
    "duration": -1005,
    "start_time": "2021-11-16T01:42:56.283Z"
   },
   {
    "duration": -1021,
    "start_time": "2021-11-16T01:42:56.300Z"
   },
   {
    "duration": -1036,
    "start_time": "2021-11-16T01:42:56.316Z"
   },
   {
    "duration": -1051,
    "start_time": "2021-11-16T01:42:56.332Z"
   },
   {
    "duration": -1067,
    "start_time": "2021-11-16T01:42:56.349Z"
   },
   {
    "duration": -1081,
    "start_time": "2021-11-16T01:42:56.364Z"
   },
   {
    "duration": -1094,
    "start_time": "2021-11-16T01:42:56.378Z"
   },
   {
    "duration": -1113,
    "start_time": "2021-11-16T01:42:56.398Z"
   },
   {
    "duration": -1128,
    "start_time": "2021-11-16T01:42:56.414Z"
   },
   {
    "duration": -1146,
    "start_time": "2021-11-16T01:42:56.433Z"
   },
   {
    "duration": -1164,
    "start_time": "2021-11-16T01:42:56.452Z"
   },
   {
    "duration": -1179,
    "start_time": "2021-11-16T01:42:56.468Z"
   },
   {
    "duration": -1196,
    "start_time": "2021-11-16T01:42:56.486Z"
   },
   {
    "duration": -1210,
    "start_time": "2021-11-16T01:42:56.501Z"
   },
   {
    "duration": -1228,
    "start_time": "2021-11-16T01:42:56.520Z"
   },
   {
    "duration": -1244,
    "start_time": "2021-11-16T01:42:56.537Z"
   },
   {
    "duration": -1261,
    "start_time": "2021-11-16T01:42:56.555Z"
   },
   {
    "duration": -1281,
    "start_time": "2021-11-16T01:42:56.576Z"
   },
   {
    "duration": -1296,
    "start_time": "2021-11-16T01:42:56.593Z"
   },
   {
    "duration": 79,
    "start_time": "2021-11-16T01:42:55.298Z"
   },
   {
    "duration": 19,
    "start_time": "2021-11-16T01:42:55.379Z"
   },
   {
    "duration": 5,
    "start_time": "2021-11-16T01:42:55.400Z"
   },
   {
    "duration": 5,
    "start_time": "2021-11-16T01:42:55.406Z"
   },
   {
    "duration": 51,
    "start_time": "2021-11-16T01:42:55.413Z"
   },
   {
    "duration": 22,
    "start_time": "2021-11-16T01:42:55.466Z"
   },
   {
    "duration": 12,
    "start_time": "2021-11-16T01:42:55.490Z"
   },
   {
    "duration": 4,
    "start_time": "2021-11-16T01:42:55.504Z"
   },
   {
    "duration": 6,
    "start_time": "2021-11-16T01:42:55.509Z"
   },
   {
    "duration": 48,
    "start_time": "2021-11-16T01:42:55.516Z"
   },
   {
    "duration": 7,
    "start_time": "2021-11-16T01:42:55.566Z"
   },
   {
    "duration": 7,
    "start_time": "2021-11-16T01:42:55.574Z"
   },
   {
    "duration": 5,
    "start_time": "2021-11-16T01:42:55.583Z"
   },
   {
    "duration": 235,
    "start_time": "2021-11-16T01:42:55.590Z"
   },
   {
    "duration": 26,
    "start_time": "2021-11-16T01:42:55.826Z"
   },
   {
    "duration": 4,
    "start_time": "2021-11-16T01:42:55.864Z"
   },
   {
    "duration": 235,
    "start_time": "2021-11-16T01:42:55.870Z"
   },
   {
    "duration": 6,
    "start_time": "2021-11-16T01:42:56.107Z"
   },
   {
    "duration": 22,
    "start_time": "2021-11-16T01:42:56.115Z"
   },
   {
    "duration": 35,
    "start_time": "2021-11-16T01:42:56.138Z"
   },
   {
    "duration": 14,
    "start_time": "2021-11-16T01:42:56.175Z"
   },
   {
    "duration": 18,
    "start_time": "2021-11-16T01:42:56.190Z"
   },
   {
    "duration": 581,
    "start_time": "2021-11-16T17:10:24.408Z"
   },
   {
    "duration": 8,
    "start_time": "2021-11-16T17:10:24.994Z"
   },
   {
    "duration": 28,
    "start_time": "2021-11-16T17:10:25.003Z"
   },
   {
    "duration": 21,
    "start_time": "2021-11-16T17:10:25.033Z"
   },
   {
    "duration": 30,
    "start_time": "2021-11-16T17:10:25.056Z"
   },
   {
    "duration": 3,
    "start_time": "2021-11-16T17:10:25.091Z"
   },
   {
    "duration": 33,
    "start_time": "2021-11-16T17:10:25.097Z"
   },
   {
    "duration": 21,
    "start_time": "2021-11-16T17:10:25.132Z"
   },
   {
    "duration": 76,
    "start_time": "2021-11-16T17:10:25.155Z"
   },
   {
    "duration": 949,
    "start_time": "2021-11-16T17:10:24.284Z"
   },
   {
    "duration": 947,
    "start_time": "2021-11-16T17:10:24.287Z"
   },
   {
    "duration": 941,
    "start_time": "2021-11-16T17:10:24.294Z"
   },
   {
    "duration": 939,
    "start_time": "2021-11-16T17:10:24.297Z"
   },
   {
    "duration": 937,
    "start_time": "2021-11-16T17:10:24.300Z"
   },
   {
    "duration": 936,
    "start_time": "2021-11-16T17:10:24.302Z"
   },
   {
    "duration": 932,
    "start_time": "2021-11-16T17:10:24.306Z"
   },
   {
    "duration": 928,
    "start_time": "2021-11-16T17:10:24.311Z"
   },
   {
    "duration": 926,
    "start_time": "2021-11-16T17:10:24.314Z"
   },
   {
    "duration": 923,
    "start_time": "2021-11-16T17:10:24.317Z"
   },
   {
    "duration": 921,
    "start_time": "2021-11-16T17:10:24.320Z"
   },
   {
    "duration": 920,
    "start_time": "2021-11-16T17:10:24.322Z"
   },
   {
    "duration": 915,
    "start_time": "2021-11-16T17:10:24.327Z"
   },
   {
    "duration": 912,
    "start_time": "2021-11-16T17:10:24.331Z"
   },
   {
    "duration": 899,
    "start_time": "2021-11-16T17:10:24.345Z"
   },
   {
    "duration": 897,
    "start_time": "2021-11-16T17:10:24.348Z"
   },
   {
    "duration": 894,
    "start_time": "2021-11-16T17:10:24.351Z"
   },
   {
    "duration": 875,
    "start_time": "2021-11-16T17:10:24.371Z"
   },
   {
    "duration": 870,
    "start_time": "2021-11-16T17:10:24.377Z"
   },
   {
    "duration": 868,
    "start_time": "2021-11-16T17:10:24.380Z"
   },
   {
    "duration": 865,
    "start_time": "2021-11-16T17:10:24.383Z"
   },
   {
    "duration": 864,
    "start_time": "2021-11-16T17:10:24.385Z"
   },
   {
    "duration": 862,
    "start_time": "2021-11-16T17:10:24.388Z"
   },
   {
    "duration": 857,
    "start_time": "2021-11-16T17:10:24.393Z"
   },
   {
    "duration": 856,
    "start_time": "2021-11-16T17:10:24.395Z"
   },
   {
    "duration": 854,
    "start_time": "2021-11-16T17:10:24.398Z"
   },
   {
    "duration": 852,
    "start_time": "2021-11-16T17:10:24.401Z"
   },
   {
    "duration": 850,
    "start_time": "2021-11-16T17:10:24.403Z"
   },
   {
    "duration": 847,
    "start_time": "2021-11-16T17:10:24.407Z"
   },
   {
    "duration": 845,
    "start_time": "2021-11-16T17:10:24.410Z"
   },
   {
    "duration": 843,
    "start_time": "2021-11-16T17:10:24.413Z"
   },
   {
    "duration": 841,
    "start_time": "2021-11-16T17:10:24.416Z"
   },
   {
    "duration": 838,
    "start_time": "2021-11-16T17:10:24.419Z"
   },
   {
    "duration": 836,
    "start_time": "2021-11-16T17:10:24.422Z"
   },
   {
    "duration": 833,
    "start_time": "2021-11-16T17:10:24.426Z"
   },
   {
    "duration": 831,
    "start_time": "2021-11-16T17:10:24.429Z"
   },
   {
    "duration": 828,
    "start_time": "2021-11-16T17:10:24.432Z"
   },
   {
    "duration": 826,
    "start_time": "2021-11-16T17:10:24.435Z"
   },
   {
    "duration": 825,
    "start_time": "2021-11-16T17:10:24.437Z"
   },
   {
    "duration": 824,
    "start_time": "2021-11-16T17:10:24.439Z"
   },
   {
    "duration": 820,
    "start_time": "2021-11-16T17:10:24.444Z"
   },
   {
    "duration": 817,
    "start_time": "2021-11-16T17:10:24.447Z"
   },
   {
    "duration": 816,
    "start_time": "2021-11-16T17:10:24.449Z"
   },
   {
    "duration": 815,
    "start_time": "2021-11-16T17:10:24.451Z"
   },
   {
    "duration": 813,
    "start_time": "2021-11-16T17:10:24.453Z"
   },
   {
    "duration": 808,
    "start_time": "2021-11-16T17:10:24.459Z"
   },
   {
    "duration": 807,
    "start_time": "2021-11-16T17:10:24.461Z"
   },
   {
    "duration": 805,
    "start_time": "2021-11-16T17:10:24.464Z"
   },
   {
    "duration": 804,
    "start_time": "2021-11-16T17:10:24.466Z"
   },
   {
    "duration": 15,
    "start_time": "2021-11-16T17:10:36.578Z"
   },
   {
    "duration": 6,
    "start_time": "2021-11-16T17:10:37.305Z"
   },
   {
    "duration": 7,
    "start_time": "2021-11-16T17:10:37.577Z"
   },
   {
    "duration": 6,
    "start_time": "2021-11-16T17:10:37.816Z"
   },
   {
    "duration": 6,
    "start_time": "2021-11-16T17:10:38.243Z"
   },
   {
    "duration": 5,
    "start_time": "2021-11-16T17:10:38.439Z"
   },
   {
    "duration": 10,
    "start_time": "2021-11-16T17:10:38.627Z"
   },
   {
    "duration": 4,
    "start_time": "2021-11-16T17:10:38.993Z"
   },
   {
    "duration": 5,
    "start_time": "2021-11-16T17:10:39.186Z"
   },
   {
    "duration": 6,
    "start_time": "2021-11-16T17:10:39.386Z"
   },
   {
    "duration": 6,
    "start_time": "2021-11-16T17:10:39.761Z"
   },
   {
    "duration": 6,
    "start_time": "2021-11-16T17:10:39.937Z"
   },
   {
    "duration": 7,
    "start_time": "2021-11-16T17:10:40.313Z"
   },
   {
    "duration": 4,
    "start_time": "2021-11-16T17:10:40.544Z"
   },
   {
    "duration": 7,
    "start_time": "2021-11-16T17:10:40.760Z"
   },
   {
    "duration": 6,
    "start_time": "2021-11-16T17:10:41.177Z"
   },
   {
    "duration": 2,
    "start_time": "2021-11-16T17:10:41.383Z"
   },
   {
    "duration": 8,
    "start_time": "2021-11-16T17:10:41.569Z"
   },
   {
    "duration": 4,
    "start_time": "2021-11-16T17:10:41.765Z"
   },
   {
    "duration": 7,
    "start_time": "2021-11-16T17:10:41.965Z"
   },
   {
    "duration": 16,
    "start_time": "2021-11-16T17:10:42.464Z"
   },
   {
    "duration": 15,
    "start_time": "2021-11-16T17:10:42.872Z"
   },
   {
    "duration": 17,
    "start_time": "2021-11-16T17:10:43.201Z"
   },
   {
    "duration": 3,
    "start_time": "2021-11-16T17:10:43.488Z"
   },
   {
    "duration": 4,
    "start_time": "2021-11-16T17:10:44.408Z"
   },
   {
    "duration": 4,
    "start_time": "2021-11-16T17:10:44.607Z"
   },
   {
    "duration": 2695,
    "start_time": "2021-11-16T17:10:44.809Z"
   },
   {
    "duration": 18,
    "start_time": "2021-11-16T17:10:47.506Z"
   },
   {
    "duration": 30,
    "start_time": "2021-11-16T17:10:47.525Z"
   },
   {
    "duration": 35,
    "start_time": "2021-11-16T17:10:47.557Z"
   },
   {
    "duration": 4,
    "start_time": "2021-11-16T17:10:47.594Z"
   },
   {
    "duration": 30,
    "start_time": "2021-11-16T17:10:47.600Z"
   },
   {
    "duration": 27,
    "start_time": "2021-11-16T17:10:47.632Z"
   },
   {
    "duration": 10,
    "start_time": "2021-11-16T17:10:48.177Z"
   },
   {
    "duration": 4,
    "start_time": "2021-11-16T17:10:48.569Z"
   },
   {
    "duration": 3,
    "start_time": "2021-11-16T17:10:49.165Z"
   },
   {
    "duration": 18,
    "start_time": "2021-11-16T17:10:49.576Z"
   },
   {
    "duration": 10,
    "start_time": "2021-11-16T17:10:50.115Z"
   },
   {
    "duration": 4,
    "start_time": "2021-11-16T17:10:50.520Z"
   },
   {
    "duration": 3,
    "start_time": "2021-11-16T17:10:50.911Z"
   },
   {
    "duration": 241,
    "start_time": "2021-11-16T17:10:51.111Z"
   },
   {
    "duration": 39,
    "start_time": "2021-11-16T17:10:51.354Z"
   },
   {
    "duration": 4,
    "start_time": "2021-11-16T17:10:51.717Z"
   },
   {
    "duration": 234,
    "start_time": "2021-11-16T17:10:51.896Z"
   },
   {
    "duration": 6,
    "start_time": "2021-11-16T17:10:52.132Z"
   },
   {
    "duration": 19,
    "start_time": "2021-11-16T17:10:52.696Z"
   },
   {
    "duration": 18,
    "start_time": "2021-11-16T17:10:53.278Z"
   },
   {
    "duration": 15,
    "start_time": "2021-11-16T17:10:53.820Z"
   },
   {
    "duration": 18,
    "start_time": "2021-11-16T17:10:54.563Z"
   },
   {
    "duration": 63,
    "start_time": "2021-11-16T17:41:23.218Z"
   },
   {
    "duration": 220,
    "start_time": "2021-11-16T17:41:33.918Z"
   },
   {
    "duration": 66,
    "start_time": "2021-11-16T17:41:58.787Z"
   },
   {
    "duration": 58,
    "start_time": "2021-11-16T17:42:12.850Z"
   },
   {
    "duration": 5,
    "start_time": "2021-11-16T17:42:16.779Z"
   },
   {
    "duration": 54,
    "start_time": "2021-11-16T17:42:22.955Z"
   },
   {
    "duration": 67,
    "start_time": "2021-11-16T17:42:28.875Z"
   },
   {
    "duration": 55,
    "start_time": "2021-11-16T17:42:36.947Z"
   },
   {
    "duration": 72,
    "start_time": "2021-11-16T17:42:41.343Z"
   },
   {
    "duration": 66,
    "start_time": "2021-11-16T17:44:07.609Z"
   },
   {
    "duration": 54,
    "start_time": "2021-11-16T17:44:26.147Z"
   },
   {
    "duration": 5,
    "start_time": "2021-11-16T17:44:48.649Z"
   },
   {
    "duration": 5,
    "start_time": "2021-11-16T17:44:52.921Z"
   },
   {
    "duration": 5,
    "start_time": "2021-11-16T17:45:14.050Z"
   },
   {
    "duration": 552,
    "start_time": "2021-11-16T20:26:09.329Z"
   },
   {
    "duration": 53,
    "start_time": "2021-11-16T20:26:12.945Z"
   },
   {
    "duration": 7,
    "start_time": "2021-11-16T20:28:07.414Z"
   },
   {
    "duration": 6,
    "start_time": "2021-11-16T20:28:30.993Z"
   },
   {
    "duration": 92,
    "start_time": "2021-11-16T20:28:53.534Z"
   },
   {
    "duration": 6,
    "start_time": "2021-11-16T20:31:09.461Z"
   },
   {
    "duration": 10,
    "start_time": "2021-11-16T20:31:14.781Z"
   },
   {
    "duration": 24,
    "start_time": "2021-11-16T20:33:24.429Z"
   },
   {
    "duration": 15,
    "start_time": "2021-11-16T20:34:21.389Z"
   },
   {
    "duration": 241,
    "start_time": "2021-11-16T20:35:16.267Z"
   },
   {
    "duration": 12,
    "start_time": "2021-11-16T20:36:12.875Z"
   },
   {
    "duration": 178,
    "start_time": "2021-11-16T20:40:46.278Z"
   },
   {
    "duration": 10,
    "start_time": "2021-11-16T20:41:12.514Z"
   },
   {
    "duration": 3,
    "start_time": "2021-11-16T20:41:26.914Z"
   },
   {
    "duration": 51,
    "start_time": "2021-11-16T20:41:26.921Z"
   },
   {
    "duration": 4,
    "start_time": "2021-11-16T20:41:26.974Z"
   },
   {
    "duration": 24,
    "start_time": "2021-11-16T20:41:26.980Z"
   },
   {
    "duration": 11,
    "start_time": "2021-11-16T20:41:27.006Z"
   },
   {
    "duration": 21,
    "start_time": "2021-11-16T20:41:27.019Z"
   },
   {
    "duration": 5,
    "start_time": "2021-11-16T20:41:27.043Z"
   },
   {
    "duration": 53,
    "start_time": "2021-11-16T20:41:27.050Z"
   },
   {
    "duration": 20,
    "start_time": "2021-11-16T20:41:27.104Z"
   },
   {
    "duration": 15,
    "start_time": "2021-11-16T20:41:27.138Z"
   },
   {
    "duration": 6,
    "start_time": "2021-11-16T20:41:27.155Z"
   },
   {
    "duration": 30,
    "start_time": "2021-11-16T20:41:27.163Z"
   },
   {
    "duration": 6,
    "start_time": "2021-11-16T20:41:27.195Z"
   },
   {
    "duration": 6,
    "start_time": "2021-11-16T20:41:27.202Z"
   },
   {
    "duration": 5,
    "start_time": "2021-11-16T20:41:27.210Z"
   },
   {
    "duration": 13,
    "start_time": "2021-11-16T20:41:27.216Z"
   },
   {
    "duration": 4,
    "start_time": "2021-11-16T20:41:27.230Z"
   },
   {
    "duration": 12,
    "start_time": "2021-11-16T20:41:27.235Z"
   },
   {
    "duration": 13,
    "start_time": "2021-11-16T20:41:48.158Z"
   },
   {
    "duration": 4,
    "start_time": "2021-11-16T20:42:10.620Z"
   },
   {
    "duration": 10,
    "start_time": "2021-11-16T20:42:14.931Z"
   },
   {
    "duration": 11,
    "start_time": "2021-11-16T20:42:49.503Z"
   },
   {
    "duration": 19,
    "start_time": "2021-11-16T20:52:42.324Z"
   },
   {
    "duration": 63,
    "start_time": "2021-11-16T20:54:54.459Z"
   },
   {
    "duration": 8,
    "start_time": "2021-11-16T20:55:08.051Z"
   },
   {
    "duration": 19,
    "start_time": "2021-11-16T20:55:23.370Z"
   },
   {
    "duration": 2,
    "start_time": "2021-11-16T20:56:04.043Z"
   },
   {
    "duration": 53,
    "start_time": "2021-11-16T20:56:04.050Z"
   },
   {
    "duration": 3,
    "start_time": "2021-11-16T20:56:04.105Z"
   },
   {
    "duration": 18,
    "start_time": "2021-11-16T20:56:04.110Z"
   },
   {
    "duration": 12,
    "start_time": "2021-11-16T20:56:04.129Z"
   },
   {
    "duration": 49,
    "start_time": "2021-11-16T20:56:04.143Z"
   },
   {
    "duration": 5,
    "start_time": "2021-11-16T20:56:04.193Z"
   },
   {
    "duration": 24,
    "start_time": "2021-11-16T20:56:04.199Z"
   },
   {
    "duration": 19,
    "start_time": "2021-11-16T20:56:04.225Z"
   },
   {
    "duration": 49,
    "start_time": "2021-11-16T20:56:04.245Z"
   },
   {
    "duration": 5,
    "start_time": "2021-11-16T20:56:04.296Z"
   },
   {
    "duration": 10,
    "start_time": "2021-11-16T20:56:04.302Z"
   },
   {
    "duration": 6,
    "start_time": "2021-11-16T20:56:04.313Z"
   },
   {
    "duration": 5,
    "start_time": "2021-11-16T20:56:04.321Z"
   },
   {
    "duration": 5,
    "start_time": "2021-11-16T20:56:04.327Z"
   },
   {
    "duration": 12,
    "start_time": "2021-11-16T20:56:04.333Z"
   },
   {
    "duration": 45,
    "start_time": "2021-11-16T20:56:04.347Z"
   },
   {
    "duration": 10,
    "start_time": "2021-11-16T20:56:04.393Z"
   },
   {
    "duration": 5,
    "start_time": "2021-11-16T20:56:04.404Z"
   },
   {
    "duration": 5,
    "start_time": "2021-11-16T20:56:04.411Z"
   },
   {
    "duration": 9,
    "start_time": "2021-11-16T20:56:04.417Z"
   },
   {
    "duration": 7,
    "start_time": "2021-11-16T20:56:04.428Z"
   },
   {
    "duration": 4,
    "start_time": "2021-11-16T20:56:04.502Z"
   },
   {
    "duration": 9,
    "start_time": "2021-11-16T20:56:04.508Z"
   },
   {
    "duration": 7,
    "start_time": "2021-11-16T20:56:04.519Z"
   },
   {
    "duration": 3,
    "start_time": "2021-11-16T20:56:04.528Z"
   },
   {
    "duration": 9,
    "start_time": "2021-11-16T20:56:04.533Z"
   },
   {
    "duration": 4,
    "start_time": "2021-11-16T20:56:04.544Z"
   },
   {
    "duration": 8,
    "start_time": "2021-11-16T20:56:04.550Z"
   },
   {
    "duration": 42,
    "start_time": "2021-11-16T20:56:04.560Z"
   },
   {
    "duration": 20,
    "start_time": "2021-11-16T20:56:04.603Z"
   },
   {
    "duration": 22,
    "start_time": "2021-11-16T20:56:04.625Z"
   },
   {
    "duration": 4,
    "start_time": "2021-11-16T20:56:04.648Z"
   },
   {
    "duration": 6,
    "start_time": "2021-11-16T20:56:04.653Z"
   },
   {
    "duration": 34,
    "start_time": "2021-11-16T20:56:04.660Z"
   },
   {
    "duration": 2626,
    "start_time": "2021-11-16T20:56:04.697Z"
   },
   {
    "duration": 22,
    "start_time": "2021-11-16T20:56:07.325Z"
   },
   {
    "duration": 56,
    "start_time": "2021-11-16T20:56:07.348Z"
   },
   {
    "duration": 5,
    "start_time": "2021-11-16T20:56:07.405Z"
   },
   {
    "duration": 7,
    "start_time": "2021-11-16T20:56:07.411Z"
   },
   {
    "duration": 7,
    "start_time": "2021-11-16T20:56:07.420Z"
   },
   {
    "duration": 19,
    "start_time": "2021-11-16T20:56:07.429Z"
   },
   {
    "duration": 41,
    "start_time": "2021-11-16T20:56:07.450Z"
   },
   {
    "duration": 4,
    "start_time": "2021-11-16T20:56:07.493Z"
   },
   {
    "duration": 4,
    "start_time": "2021-11-16T20:56:07.499Z"
   },
   {
    "duration": 20,
    "start_time": "2021-11-16T20:56:07.505Z"
   },
   {
    "duration": 6,
    "start_time": "2021-11-16T20:56:07.527Z"
   },
   {
    "duration": 6,
    "start_time": "2021-11-16T20:56:07.535Z"
   },
   {
    "duration": 4,
    "start_time": "2021-11-16T20:56:07.543Z"
   },
   {
    "duration": 270,
    "start_time": "2021-11-16T20:56:07.548Z"
   },
   {
    "duration": 28,
    "start_time": "2021-11-16T20:56:07.822Z"
   },
   {
    "duration": 5,
    "start_time": "2021-11-16T20:56:07.853Z"
   },
   {
    "duration": 266,
    "start_time": "2021-11-16T20:56:07.860Z"
   },
   {
    "duration": 7,
    "start_time": "2021-11-16T20:56:08.129Z"
   },
   {
    "duration": 19,
    "start_time": "2021-11-16T20:56:08.138Z"
   },
   {
    "duration": 42,
    "start_time": "2021-11-16T20:56:08.159Z"
   },
   {
    "duration": 15,
    "start_time": "2021-11-16T20:56:08.203Z"
   },
   {
    "duration": 19,
    "start_time": "2021-11-16T20:56:08.220Z"
   },
   {
    "duration": 39,
    "start_time": "2021-11-16T21:07:35.564Z"
   },
   {
    "duration": 28,
    "start_time": "2021-11-16T21:10:18.279Z"
   },
   {
    "duration": 27,
    "start_time": "2021-11-16T21:12:04.358Z"
   },
   {
    "duration": 27,
    "start_time": "2021-11-16T21:13:48.827Z"
   },
   {
    "duration": 2,
    "start_time": "2021-11-16T21:14:01.039Z"
   },
   {
    "duration": 65,
    "start_time": "2021-11-16T21:14:01.047Z"
   },
   {
    "duration": 3,
    "start_time": "2021-11-16T21:14:01.114Z"
   },
   {
    "duration": 31,
    "start_time": "2021-11-16T21:14:01.118Z"
   },
   {
    "duration": 21,
    "start_time": "2021-11-16T21:14:01.150Z"
   },
   {
    "duration": 54,
    "start_time": "2021-11-16T21:14:01.172Z"
   },
   {
    "duration": 28,
    "start_time": "2021-11-16T21:14:01.228Z"
   },
   {
    "duration": 45,
    "start_time": "2021-11-16T21:14:01.257Z"
   },
   {
    "duration": 36,
    "start_time": "2021-11-16T21:14:01.305Z"
   },
   {
    "duration": 59,
    "start_time": "2021-11-16T21:14:01.343Z"
   },
   {
    "duration": 24,
    "start_time": "2021-11-16T21:14:01.403Z"
   },
   {
    "duration": 48,
    "start_time": "2021-11-16T21:14:01.428Z"
   },
   {
    "duration": 38,
    "start_time": "2021-11-16T21:14:01.478Z"
   },
   {
    "duration": 40,
    "start_time": "2021-11-16T21:14:01.518Z"
   },
   {
    "duration": 44,
    "start_time": "2021-11-16T21:14:01.559Z"
   },
   {
    "duration": 35,
    "start_time": "2021-11-16T21:14:01.604Z"
   },
   {
    "duration": 18,
    "start_time": "2021-11-16T21:14:01.640Z"
   },
   {
    "duration": 30,
    "start_time": "2021-11-16T21:14:01.660Z"
   },
   {
    "duration": 20,
    "start_time": "2021-11-16T21:14:01.692Z"
   },
   {
    "duration": 31,
    "start_time": "2021-11-16T21:14:01.715Z"
   },
   {
    "duration": 18,
    "start_time": "2021-11-16T21:14:01.748Z"
   },
   {
    "duration": 44,
    "start_time": "2021-11-16T21:14:01.768Z"
   },
   {
    "duration": 30,
    "start_time": "2021-11-16T21:14:01.814Z"
   },
   {
    "duration": 42,
    "start_time": "2021-11-16T21:14:01.846Z"
   },
   {
    "duration": 37,
    "start_time": "2021-11-16T21:14:01.890Z"
   },
   {
    "duration": 25,
    "start_time": "2021-11-16T21:14:01.928Z"
   },
   {
    "duration": 24,
    "start_time": "2021-11-16T21:14:01.954Z"
   },
   {
    "duration": 19,
    "start_time": "2021-11-16T21:14:01.979Z"
   },
   {
    "duration": 18,
    "start_time": "2021-11-16T21:14:02.000Z"
   },
   {
    "duration": 40,
    "start_time": "2021-11-16T21:14:02.020Z"
   },
   {
    "duration": 15,
    "start_time": "2021-11-16T21:14:02.061Z"
   },
   {
    "duration": 29,
    "start_time": "2021-11-16T21:14:02.078Z"
   },
   {
    "duration": 8,
    "start_time": "2021-11-16T21:14:02.109Z"
   },
   {
    "duration": 20,
    "start_time": "2021-11-16T21:14:02.119Z"
   },
   {
    "duration": 36,
    "start_time": "2021-11-16T21:14:02.140Z"
   },
   {
    "duration": 2727,
    "start_time": "2021-11-16T21:14:02.178Z"
   },
   {
    "duration": 23,
    "start_time": "2021-11-16T21:14:04.907Z"
   },
   {
    "duration": 31,
    "start_time": "2021-11-16T21:14:04.932Z"
   },
   {
    "duration": 5,
    "start_time": "2021-11-16T21:14:04.965Z"
   },
   {
    "duration": 27,
    "start_time": "2021-11-16T21:14:04.972Z"
   },
   {
    "duration": 13,
    "start_time": "2021-11-16T21:14:05.001Z"
   },
   {
    "duration": 46,
    "start_time": "2021-11-16T21:14:05.015Z"
   },
   {
    "duration": 11,
    "start_time": "2021-11-16T21:14:05.063Z"
   },
   {
    "duration": 18,
    "start_time": "2021-11-16T21:14:05.076Z"
   },
   {
    "duration": 26,
    "start_time": "2021-11-16T21:14:05.095Z"
   },
   {
    "duration": 25,
    "start_time": "2021-11-16T21:14:05.123Z"
   },
   {
    "duration": 9,
    "start_time": "2021-11-16T21:14:05.149Z"
   },
   {
    "duration": 8,
    "start_time": "2021-11-16T21:14:05.159Z"
   },
   {
    "duration": 12,
    "start_time": "2021-11-16T21:14:05.168Z"
   },
   {
    "duration": 244,
    "start_time": "2021-11-16T21:14:05.182Z"
   },
   {
    "duration": 26,
    "start_time": "2021-11-16T21:14:05.428Z"
   },
   {
    "duration": 17,
    "start_time": "2021-11-16T21:14:05.457Z"
   },
   {
    "duration": 268,
    "start_time": "2021-11-16T21:14:05.475Z"
   },
   {
    "duration": 7,
    "start_time": "2021-11-16T21:14:05.744Z"
   },
   {
    "duration": 47,
    "start_time": "2021-11-16T21:14:05.752Z"
   },
   {
    "duration": 41,
    "start_time": "2021-11-16T21:14:05.801Z"
   },
   {
    "duration": 17,
    "start_time": "2021-11-16T21:14:05.843Z"
   },
   {
    "duration": 26,
    "start_time": "2021-11-16T21:14:05.861Z"
   },
   {
    "duration": 14,
    "start_time": "2021-11-16T21:14:05.888Z"
   },
   {
    "duration": 29,
    "start_time": "2021-11-16T21:14:05.903Z"
   },
   {
    "duration": 16,
    "start_time": "2021-11-16T21:14:05.934Z"
   },
   {
    "duration": 47,
    "start_time": "2021-11-16T21:14:05.951Z"
   },
   {
    "duration": 22,
    "start_time": "2021-11-17T01:49:39.326Z"
   },
   {
    "duration": 5,
    "start_time": "2021-11-17T01:50:10.766Z"
   },
   {
    "duration": 2,
    "start_time": "2021-11-17T01:50:28.389Z"
   },
   {
    "duration": 52,
    "start_time": "2021-11-17T01:50:28.395Z"
   },
   {
    "duration": 3,
    "start_time": "2021-11-17T01:50:28.448Z"
   },
   {
    "duration": 22,
    "start_time": "2021-11-17T01:50:28.453Z"
   },
   {
    "duration": 17,
    "start_time": "2021-11-17T01:50:28.477Z"
   },
   {
    "duration": 18,
    "start_time": "2021-11-17T01:50:28.496Z"
   },
   {
    "duration": 3,
    "start_time": "2021-11-17T01:50:28.516Z"
   },
   {
    "duration": 5,
    "start_time": "2021-11-17T01:52:47.722Z"
   },
   {
    "duration": 5,
    "start_time": "2021-11-17T01:52:59.500Z"
   },
   {
    "duration": 7,
    "start_time": "2021-11-17T01:53:27.828Z"
   },
   {
    "duration": 10,
    "start_time": "2021-11-17T01:55:06.554Z"
   },
   {
    "duration": 5,
    "start_time": "2021-11-17T01:55:12.890Z"
   },
   {
    "duration": 9,
    "start_time": "2021-11-17T01:55:17.046Z"
   },
   {
    "duration": 7,
    "start_time": "2021-11-17T01:56:49.539Z"
   },
   {
    "duration": 7,
    "start_time": "2021-11-17T01:56:54.057Z"
   },
   {
    "duration": 4,
    "start_time": "2021-11-17T01:57:01.242Z"
   },
   {
    "duration": 7,
    "start_time": "2021-11-17T01:57:09.760Z"
   },
   {
    "duration": 16,
    "start_time": "2021-11-17T01:57:16.003Z"
   },
   {
    "duration": 2,
    "start_time": "2021-11-17T01:57:26.084Z"
   },
   {
    "duration": 51,
    "start_time": "2021-11-17T01:57:26.088Z"
   },
   {
    "duration": 4,
    "start_time": "2021-11-17T01:57:26.141Z"
   },
   {
    "duration": 22,
    "start_time": "2021-11-17T01:57:26.146Z"
   },
   {
    "duration": 11,
    "start_time": "2021-11-17T01:57:26.170Z"
   },
   {
    "duration": 19,
    "start_time": "2021-11-17T01:57:26.183Z"
   },
   {
    "duration": 4,
    "start_time": "2021-11-17T01:57:26.204Z"
   },
   {
    "duration": 31,
    "start_time": "2021-11-17T01:57:26.209Z"
   },
   {
    "duration": 19,
    "start_time": "2021-11-17T01:57:26.243Z"
   },
   {
    "duration": 34,
    "start_time": "2021-11-17T01:57:26.264Z"
   },
   {
    "duration": 15,
    "start_time": "2021-11-17T01:57:26.300Z"
   },
   {
    "duration": 17,
    "start_time": "2021-11-17T01:57:26.317Z"
   },
   {
    "duration": 9,
    "start_time": "2021-11-17T01:57:26.336Z"
   },
   {
    "duration": 6,
    "start_time": "2021-11-17T01:57:26.346Z"
   },
   {
    "duration": 7,
    "start_time": "2021-11-17T01:57:26.353Z"
   },
   {
    "duration": 11,
    "start_time": "2021-11-17T01:57:26.361Z"
   },
   {
    "duration": 8,
    "start_time": "2021-11-17T01:57:26.373Z"
   },
   {
    "duration": 14,
    "start_time": "2021-11-17T01:57:26.382Z"
   },
   {
    "duration": 6,
    "start_time": "2021-11-17T01:57:26.397Z"
   },
   {
    "duration": 5,
    "start_time": "2021-11-17T01:57:26.404Z"
   },
   {
    "duration": 7,
    "start_time": "2021-11-17T01:57:26.410Z"
   },
   {
    "duration": 7,
    "start_time": "2021-11-17T01:57:26.418Z"
   },
   {
    "duration": 6,
    "start_time": "2021-11-17T01:57:26.426Z"
   },
   {
    "duration": 11,
    "start_time": "2021-11-17T01:57:26.433Z"
   },
   {
    "duration": 10,
    "start_time": "2021-11-17T01:57:26.445Z"
   },
   {
    "duration": 4,
    "start_time": "2021-11-17T01:57:26.456Z"
   },
   {
    "duration": 38,
    "start_time": "2021-11-17T01:57:26.462Z"
   },
   {
    "duration": 6,
    "start_time": "2021-11-17T01:57:26.502Z"
   },
   {
    "duration": 12,
    "start_time": "2021-11-17T01:57:26.509Z"
   },
   {
    "duration": 17,
    "start_time": "2021-11-17T01:57:26.522Z"
   },
   {
    "duration": 4,
    "start_time": "2021-11-17T01:58:47.825Z"
   },
   {
    "duration": 4,
    "start_time": "2021-11-17T01:58:54.256Z"
   },
   {
    "duration": 2576,
    "start_time": "2021-11-17T01:59:04.562Z"
   },
   {
    "duration": 2621,
    "start_time": "2021-11-17T01:59:36.487Z"
   },
   {
    "duration": 2579,
    "start_time": "2021-11-17T01:59:43.847Z"
   },
   {
    "duration": 2,
    "start_time": "2021-11-17T01:59:50.832Z"
   },
   {
    "duration": 49,
    "start_time": "2021-11-17T01:59:50.842Z"
   },
   {
    "duration": 3,
    "start_time": "2021-11-17T01:59:50.893Z"
   },
   {
    "duration": 30,
    "start_time": "2021-11-17T01:59:50.898Z"
   },
   {
    "duration": 12,
    "start_time": "2021-11-17T01:59:50.930Z"
   },
   {
    "duration": 21,
    "start_time": "2021-11-17T01:59:50.944Z"
   },
   {
    "duration": 4,
    "start_time": "2021-11-17T01:59:50.966Z"
   },
   {
    "duration": 59,
    "start_time": "2021-11-17T01:59:50.972Z"
   },
   {
    "duration": 18,
    "start_time": "2021-11-17T01:59:51.033Z"
   },
   {
    "duration": 20,
    "start_time": "2021-11-17T01:59:51.053Z"
   },
   {
    "duration": 9,
    "start_time": "2021-11-17T01:59:51.074Z"
   },
   {
    "duration": 20,
    "start_time": "2021-11-17T01:59:51.084Z"
   },
   {
    "duration": 7,
    "start_time": "2021-11-17T01:59:51.106Z"
   },
   {
    "duration": 8,
    "start_time": "2021-11-17T01:59:51.114Z"
   },
   {
    "duration": 7,
    "start_time": "2021-11-17T01:59:51.124Z"
   },
   {
    "duration": 7,
    "start_time": "2021-11-17T01:59:51.132Z"
   },
   {
    "duration": 9,
    "start_time": "2021-11-17T01:59:51.140Z"
   },
   {
    "duration": 14,
    "start_time": "2021-11-17T01:59:51.151Z"
   },
   {
    "duration": 26,
    "start_time": "2021-11-17T01:59:51.168Z"
   },
   {
    "duration": 12,
    "start_time": "2021-11-17T01:59:51.196Z"
   },
   {
    "duration": 6,
    "start_time": "2021-11-17T01:59:51.210Z"
   },
   {
    "duration": 8,
    "start_time": "2021-11-17T01:59:51.218Z"
   },
   {
    "duration": 10,
    "start_time": "2021-11-17T01:59:51.228Z"
   },
   {
    "duration": 8,
    "start_time": "2021-11-17T01:59:51.240Z"
   },
   {
    "duration": 8,
    "start_time": "2021-11-17T01:59:51.249Z"
   },
   {
    "duration": 9,
    "start_time": "2021-11-17T01:59:51.259Z"
   },
   {
    "duration": 24,
    "start_time": "2021-11-17T01:59:51.269Z"
   },
   {
    "duration": 14,
    "start_time": "2021-11-17T01:59:51.294Z"
   },
   {
    "duration": 27,
    "start_time": "2021-11-17T01:59:51.309Z"
   },
   {
    "duration": 18,
    "start_time": "2021-11-17T01:59:51.338Z"
   },
   {
    "duration": 16,
    "start_time": "2021-11-17T01:59:51.358Z"
   },
   {
    "duration": 19,
    "start_time": "2021-11-17T01:59:51.375Z"
   },
   {
    "duration": 4,
    "start_time": "2021-11-17T01:59:51.395Z"
   },
   {
    "duration": 8,
    "start_time": "2021-11-17T01:59:51.401Z"
   },
   {
    "duration": 8,
    "start_time": "2021-11-17T01:59:51.412Z"
   },
   {
    "duration": 2587,
    "start_time": "2021-11-17T01:59:57.746Z"
   },
   {
    "duration": 15,
    "start_time": "2021-11-17T02:00:48.652Z"
   },
   {
    "duration": 19,
    "start_time": "2021-11-17T02:01:26.096Z"
   },
   {
    "duration": 5,
    "start_time": "2021-11-17T02:01:40.818Z"
   },
   {
    "duration": 5,
    "start_time": "2021-11-17T02:01:50.864Z"
   },
   {
    "duration": 14,
    "start_time": "2021-11-17T02:03:08.721Z"
   },
   {
    "duration": 2,
    "start_time": "2021-11-17T02:03:20.751Z"
   },
   {
    "duration": 51,
    "start_time": "2021-11-17T02:03:20.845Z"
   },
   {
    "duration": 5,
    "start_time": "2021-11-17T02:03:20.898Z"
   },
   {
    "duration": 17,
    "start_time": "2021-11-17T02:03:20.905Z"
   },
   {
    "duration": 10,
    "start_time": "2021-11-17T02:03:20.924Z"
   },
   {
    "duration": 20,
    "start_time": "2021-11-17T02:03:20.936Z"
   },
   {
    "duration": 38,
    "start_time": "2021-11-17T02:03:20.957Z"
   },
   {
    "duration": 21,
    "start_time": "2021-11-17T02:03:20.996Z"
   },
   {
    "duration": 21,
    "start_time": "2021-11-17T02:03:21.019Z"
   },
   {
    "duration": 52,
    "start_time": "2021-11-17T02:03:21.043Z"
   },
   {
    "duration": 6,
    "start_time": "2021-11-17T02:03:21.097Z"
   },
   {
    "duration": 9,
    "start_time": "2021-11-17T02:03:21.105Z"
   },
   {
    "duration": 9,
    "start_time": "2021-11-17T02:03:21.116Z"
   },
   {
    "duration": 9,
    "start_time": "2021-11-17T02:03:21.127Z"
   },
   {
    "duration": 6,
    "start_time": "2021-11-17T02:03:21.138Z"
   },
   {
    "duration": 9,
    "start_time": "2021-11-17T02:03:21.146Z"
   },
   {
    "duration": 34,
    "start_time": "2021-11-17T02:03:21.157Z"
   },
   {
    "duration": 11,
    "start_time": "2021-11-17T02:03:21.193Z"
   },
   {
    "duration": 6,
    "start_time": "2021-11-17T02:03:21.205Z"
   },
   {
    "duration": 6,
    "start_time": "2021-11-17T02:03:21.213Z"
   },
   {
    "duration": 9,
    "start_time": "2021-11-17T02:03:21.221Z"
   },
   {
    "duration": 7,
    "start_time": "2021-11-17T02:03:21.232Z"
   },
   {
    "duration": 5,
    "start_time": "2021-11-17T02:03:21.241Z"
   },
   {
    "duration": 46,
    "start_time": "2021-11-17T02:03:21.248Z"
   },
   {
    "duration": 7,
    "start_time": "2021-11-17T02:03:21.295Z"
   },
   {
    "duration": 5,
    "start_time": "2021-11-17T02:03:21.304Z"
   },
   {
    "duration": 8,
    "start_time": "2021-11-17T02:03:21.310Z"
   },
   {
    "duration": 4,
    "start_time": "2021-11-17T02:03:21.322Z"
   },
   {
    "duration": 7,
    "start_time": "2021-11-17T02:03:21.328Z"
   },
   {
    "duration": 16,
    "start_time": "2021-11-17T02:03:21.337Z"
   },
   {
    "duration": 47,
    "start_time": "2021-11-17T02:03:21.355Z"
   },
   {
    "duration": 16,
    "start_time": "2021-11-17T02:03:21.404Z"
   },
   {
    "duration": 4,
    "start_time": "2021-11-17T02:03:21.422Z"
   },
   {
    "duration": 4,
    "start_time": "2021-11-17T02:03:21.428Z"
   },
   {
    "duration": 6,
    "start_time": "2021-11-17T02:03:21.434Z"
   },
   {
    "duration": 2683,
    "start_time": "2021-11-17T02:03:21.441Z"
   },
   {
    "duration": 15,
    "start_time": "2021-11-17T02:03:24.125Z"
   },
   {
    "duration": 50,
    "start_time": "2021-11-17T02:03:24.142Z"
   },
   {
    "duration": 5,
    "start_time": "2021-11-17T02:03:24.194Z"
   },
   {
    "duration": 8,
    "start_time": "2021-11-17T02:03:24.200Z"
   },
   {
    "duration": 9,
    "start_time": "2021-11-17T02:03:24.210Z"
   },
   {
    "duration": 14,
    "start_time": "2021-11-17T02:03:24.221Z"
   },
   {
    "duration": 8,
    "start_time": "2021-11-17T02:12:03.606Z"
   },
   {
    "duration": 8,
    "start_time": "2021-11-17T02:12:09.100Z"
   },
   {
    "duration": 4,
    "start_time": "2021-11-17T02:12:21.341Z"
   },
   {
    "duration": 2,
    "start_time": "2021-11-17T02:13:05.893Z"
   },
   {
    "duration": 50,
    "start_time": "2021-11-17T02:13:05.899Z"
   },
   {
    "duration": 4,
    "start_time": "2021-11-17T02:13:05.950Z"
   },
   {
    "duration": 18,
    "start_time": "2021-11-17T02:13:05.955Z"
   },
   {
    "duration": 19,
    "start_time": "2021-11-17T02:13:05.974Z"
   },
   {
    "duration": 20,
    "start_time": "2021-11-17T02:13:05.994Z"
   },
   {
    "duration": 4,
    "start_time": "2021-11-17T02:13:06.016Z"
   },
   {
    "duration": 23,
    "start_time": "2021-11-17T02:13:06.022Z"
   },
   {
    "duration": 19,
    "start_time": "2021-11-17T02:13:06.047Z"
   },
   {
    "duration": 37,
    "start_time": "2021-11-17T02:13:06.068Z"
   },
   {
    "duration": 7,
    "start_time": "2021-11-17T02:13:06.107Z"
   },
   {
    "duration": 10,
    "start_time": "2021-11-17T02:13:06.115Z"
   },
   {
    "duration": 7,
    "start_time": "2021-11-17T02:13:06.127Z"
   },
   {
    "duration": 6,
    "start_time": "2021-11-17T02:13:06.135Z"
   },
   {
    "duration": 5,
    "start_time": "2021-11-17T02:13:06.142Z"
   },
   {
    "duration": 44,
    "start_time": "2021-11-17T02:13:06.148Z"
   },
   {
    "duration": 4,
    "start_time": "2021-11-17T02:13:06.194Z"
   },
   {
    "duration": 12,
    "start_time": "2021-11-17T02:13:06.200Z"
   },
   {
    "duration": 10,
    "start_time": "2021-11-17T02:13:06.214Z"
   },
   {
    "duration": 8,
    "start_time": "2021-11-17T02:13:06.227Z"
   },
   {
    "duration": 15,
    "start_time": "2021-11-17T02:13:06.237Z"
   },
   {
    "duration": 41,
    "start_time": "2021-11-17T02:13:06.253Z"
   },
   {
    "duration": 6,
    "start_time": "2021-11-17T02:13:06.296Z"
   },
   {
    "duration": 19,
    "start_time": "2021-11-17T02:13:06.303Z"
   },
   {
    "duration": 18,
    "start_time": "2021-11-17T02:13:06.324Z"
   },
   {
    "duration": 19,
    "start_time": "2021-11-17T02:13:06.344Z"
   },
   {
    "duration": 20,
    "start_time": "2021-11-17T02:13:06.364Z"
   },
   {
    "duration": 15,
    "start_time": "2021-11-17T02:13:06.385Z"
   },
   {
    "duration": 25,
    "start_time": "2021-11-17T02:13:06.401Z"
   },
   {
    "duration": 27,
    "start_time": "2021-11-17T02:13:06.428Z"
   },
   {
    "duration": 15,
    "start_time": "2021-11-17T02:13:06.457Z"
   },
   {
    "duration": 18,
    "start_time": "2021-11-17T02:13:06.473Z"
   },
   {
    "duration": 5,
    "start_time": "2021-11-17T02:13:06.492Z"
   },
   {
    "duration": 16,
    "start_time": "2021-11-17T02:13:06.498Z"
   },
   {
    "duration": 20,
    "start_time": "2021-11-17T02:13:06.516Z"
   },
   {
    "duration": 2657,
    "start_time": "2021-11-17T02:13:06.540Z"
   },
   {
    "duration": 14,
    "start_time": "2021-11-17T02:13:09.198Z"
   },
   {
    "duration": 20,
    "start_time": "2021-11-17T02:13:09.214Z"
   },
   {
    "duration": 4,
    "start_time": "2021-11-17T02:13:09.236Z"
   },
   {
    "duration": 6,
    "start_time": "2021-11-17T02:13:09.241Z"
   },
   {
    "duration": 7,
    "start_time": "2021-11-17T02:13:09.248Z"
   },
   {
    "duration": 43,
    "start_time": "2021-11-17T02:13:09.256Z"
   },
   {
    "duration": 10,
    "start_time": "2021-11-17T02:13:09.301Z"
   },
   {
    "duration": 4,
    "start_time": "2021-11-17T02:13:09.313Z"
   },
   {
    "duration": 4,
    "start_time": "2021-11-17T02:13:09.319Z"
   },
   {
    "duration": 22,
    "start_time": "2021-11-17T02:13:09.325Z"
   },
   {
    "duration": 6,
    "start_time": "2021-11-17T02:13:09.348Z"
   },
   {
    "duration": 6,
    "start_time": "2021-11-17T02:13:09.356Z"
   },
   {
    "duration": 29,
    "start_time": "2021-11-17T02:13:09.363Z"
   },
   {
    "duration": 232,
    "start_time": "2021-11-17T02:13:09.393Z"
   },
   {
    "duration": 28,
    "start_time": "2021-11-17T02:13:26.860Z"
   },
   {
    "duration": 15,
    "start_time": "2021-11-17T02:14:41.604Z"
   },
   {
    "duration": 230,
    "start_time": "2021-11-17T02:15:49.762Z"
   },
   {
    "duration": 7,
    "start_time": "2021-11-17T02:15:58.487Z"
   },
   {
    "duration": 3,
    "start_time": "2021-11-17T02:30:35.081Z"
   },
   {
    "duration": 57,
    "start_time": "2021-11-17T02:30:35.089Z"
   },
   {
    "duration": 4,
    "start_time": "2021-11-17T02:30:35.148Z"
   },
   {
    "duration": 17,
    "start_time": "2021-11-17T02:30:35.155Z"
   },
   {
    "duration": 23,
    "start_time": "2021-11-17T02:30:35.174Z"
   },
   {
    "duration": 20,
    "start_time": "2021-11-17T02:30:35.198Z"
   },
   {
    "duration": 4,
    "start_time": "2021-11-17T02:30:35.220Z"
   },
   {
    "duration": 22,
    "start_time": "2021-11-17T02:30:35.225Z"
   },
   {
    "duration": 44,
    "start_time": "2021-11-17T02:30:35.249Z"
   },
   {
    "duration": 17,
    "start_time": "2021-11-17T02:30:35.295Z"
   },
   {
    "duration": 7,
    "start_time": "2021-11-17T02:30:35.313Z"
   },
   {
    "duration": 8,
    "start_time": "2021-11-17T02:30:35.322Z"
   },
   {
    "duration": 17,
    "start_time": "2021-11-17T02:30:35.332Z"
   },
   {
    "duration": 9,
    "start_time": "2021-11-17T02:30:35.350Z"
   },
   {
    "duration": 32,
    "start_time": "2021-11-17T02:30:35.360Z"
   },
   {
    "duration": 7,
    "start_time": "2021-11-17T02:30:35.394Z"
   },
   {
    "duration": 4,
    "start_time": "2021-11-17T02:30:35.404Z"
   },
   {
    "duration": 10,
    "start_time": "2021-11-17T02:30:35.410Z"
   },
   {
    "duration": 6,
    "start_time": "2021-11-17T02:30:35.421Z"
   },
   {
    "duration": 6,
    "start_time": "2021-11-17T02:30:35.428Z"
   },
   {
    "duration": 6,
    "start_time": "2021-11-17T02:30:35.436Z"
   },
   {
    "duration": 52,
    "start_time": "2021-11-17T02:30:35.443Z"
   },
   {
    "duration": 8,
    "start_time": "2021-11-17T02:30:35.497Z"
   },
   {
    "duration": 10,
    "start_time": "2021-11-17T02:30:35.506Z"
   },
   {
    "duration": 10,
    "start_time": "2021-11-17T02:30:35.517Z"
   },
   {
    "duration": 5,
    "start_time": "2021-11-17T02:30:35.528Z"
   },
   {
    "duration": 10,
    "start_time": "2021-11-17T02:30:35.534Z"
   },
   {
    "duration": 9,
    "start_time": "2021-11-17T02:30:35.546Z"
   },
   {
    "duration": 11,
    "start_time": "2021-11-17T02:30:35.556Z"
   },
   {
    "duration": 16,
    "start_time": "2021-11-17T02:30:35.591Z"
   },
   {
    "duration": 14,
    "start_time": "2021-11-17T02:30:35.608Z"
   },
   {
    "duration": 16,
    "start_time": "2021-11-17T02:30:35.623Z"
   },
   {
    "duration": 3,
    "start_time": "2021-11-17T02:30:35.640Z"
   },
   {
    "duration": 7,
    "start_time": "2021-11-17T02:30:35.646Z"
   },
   {
    "duration": 38,
    "start_time": "2021-11-17T02:30:35.655Z"
   },
   {
    "duration": 2608,
    "start_time": "2021-11-17T02:30:35.694Z"
   },
   {
    "duration": 15,
    "start_time": "2021-11-17T02:30:38.303Z"
   },
   {
    "duration": 23,
    "start_time": "2021-11-17T02:30:38.319Z"
   },
   {
    "duration": 4,
    "start_time": "2021-11-17T02:30:38.343Z"
   },
   {
    "duration": 5,
    "start_time": "2021-11-17T02:30:38.349Z"
   },
   {
    "duration": 36,
    "start_time": "2021-11-17T02:30:38.355Z"
   },
   {
    "duration": 13,
    "start_time": "2021-11-17T02:30:38.393Z"
   },
   {
    "duration": 8,
    "start_time": "2021-11-17T02:30:38.408Z"
   },
   {
    "duration": 4,
    "start_time": "2021-11-17T02:30:38.418Z"
   },
   {
    "duration": 4,
    "start_time": "2021-11-17T02:30:38.423Z"
   },
   {
    "duration": 20,
    "start_time": "2021-11-17T02:30:38.428Z"
   },
   {
    "duration": 6,
    "start_time": "2021-11-17T02:30:38.450Z"
   },
   {
    "duration": 34,
    "start_time": "2021-11-17T02:30:38.458Z"
   },
   {
    "duration": 4,
    "start_time": "2021-11-17T02:30:38.493Z"
   },
   {
    "duration": 241,
    "start_time": "2021-11-17T02:30:38.498Z"
   },
   {
    "duration": 14,
    "start_time": "2021-11-17T02:30:38.741Z"
   },
   {
    "duration": 4,
    "start_time": "2021-11-17T02:30:38.757Z"
   },
   {
    "duration": 259,
    "start_time": "2021-11-17T02:30:38.762Z"
   },
   {
    "duration": 6,
    "start_time": "2021-11-17T02:30:39.023Z"
   },
   {
    "duration": 35,
    "start_time": "2021-11-17T02:30:39.030Z"
   },
   {
    "duration": 27,
    "start_time": "2021-11-17T02:30:39.069Z"
   },
   {
    "duration": 19,
    "start_time": "2021-11-17T02:30:39.098Z"
   },
   {
    "duration": 36,
    "start_time": "2021-11-17T02:30:39.119Z"
   },
   {
    "duration": 15,
    "start_time": "2021-11-17T02:30:39.157Z"
   },
   {
    "duration": 28,
    "start_time": "2021-11-17T02:30:39.191Z"
   },
   {
    "duration": 19,
    "start_time": "2021-11-17T02:30:39.220Z"
   },
   {
    "duration": 30,
    "start_time": "2021-11-17T02:30:39.241Z"
   },
   {
    "duration": 17,
    "start_time": "2021-11-17T02:31:27.201Z"
   },
   {
    "duration": 9,
    "start_time": "2021-11-17T02:31:44.361Z"
   },
   {
    "duration": 2,
    "start_time": "2021-11-17T02:31:49.949Z"
   },
   {
    "duration": 49,
    "start_time": "2021-11-17T02:31:49.955Z"
   },
   {
    "duration": 3,
    "start_time": "2021-11-17T02:31:50.006Z"
   },
   {
    "duration": 24,
    "start_time": "2021-11-17T02:31:50.011Z"
   },
   {
    "duration": 14,
    "start_time": "2021-11-17T02:31:50.037Z"
   },
   {
    "duration": 46,
    "start_time": "2021-11-17T02:31:50.053Z"
   },
   {
    "duration": 9,
    "start_time": "2021-11-17T02:31:50.101Z"
   },
   {
    "duration": 19,
    "start_time": "2021-11-17T02:31:50.112Z"
   },
   {
    "duration": 6,
    "start_time": "2021-11-17T02:32:43.539Z"
   },
   {
    "duration": 5,
    "start_time": "2021-11-17T02:32:52.028Z"
   },
   {
    "duration": 6,
    "start_time": "2021-11-17T02:32:58.835Z"
   },
   {
    "duration": 5,
    "start_time": "2021-11-17T02:33:05.613Z"
   },
   {
    "duration": 10,
    "start_time": "2021-11-17T02:33:14.090Z"
   },
   {
    "duration": 6,
    "start_time": "2021-11-17T02:33:21.487Z"
   },
   {
    "duration": 6,
    "start_time": "2021-11-17T02:33:33.742Z"
   },
   {
    "duration": 9,
    "start_time": "2021-11-17T02:34:22.310Z"
   },
   {
    "duration": 6,
    "start_time": "2021-11-17T02:34:37.407Z"
   },
   {
    "duration": 5,
    "start_time": "2021-11-17T02:35:05.298Z"
   },
   {
    "duration": 7,
    "start_time": "2021-11-17T02:35:11.490Z"
   },
   {
    "duration": 7,
    "start_time": "2021-11-17T02:36:17.788Z"
   },
   {
    "duration": 4,
    "start_time": "2021-11-17T02:50:22.961Z"
   },
   {
    "duration": 14,
    "start_time": "2021-11-17T02:50:25.586Z"
   },
   {
    "duration": 8,
    "start_time": "2021-11-17T02:51:00.388Z"
   },
   {
    "duration": 224,
    "start_time": "2021-11-17T02:51:18.939Z"
   },
   {
    "duration": 26,
    "start_time": "2021-11-17T02:51:52.416Z"
   },
   {
    "duration": 8,
    "start_time": "2021-11-17T02:52:34.604Z"
   },
   {
    "duration": 10,
    "start_time": "2021-11-17T02:52:48.064Z"
   },
   {
    "duration": 2,
    "start_time": "2021-11-17T03:06:59.963Z"
   },
   {
    "duration": 51,
    "start_time": "2021-11-17T03:06:59.986Z"
   },
   {
    "duration": 4,
    "start_time": "2021-11-17T03:07:00.039Z"
   },
   {
    "duration": 18,
    "start_time": "2021-11-17T03:07:00.045Z"
   },
   {
    "duration": 26,
    "start_time": "2021-11-17T03:07:00.065Z"
   },
   {
    "duration": 20,
    "start_time": "2021-11-17T03:07:00.093Z"
   },
   {
    "duration": 9,
    "start_time": "2021-11-17T03:07:00.115Z"
   },
   {
    "duration": 21,
    "start_time": "2021-11-17T03:07:00.126Z"
   },
   {
    "duration": 24,
    "start_time": "2021-11-17T03:07:00.149Z"
   },
   {
    "duration": 33,
    "start_time": "2021-11-17T03:07:00.175Z"
   },
   {
    "duration": 8,
    "start_time": "2021-11-17T03:07:00.211Z"
   },
   {
    "duration": 29,
    "start_time": "2021-11-17T03:07:00.221Z"
   },
   {
    "duration": 24,
    "start_time": "2021-11-17T03:07:00.252Z"
   },
   {
    "duration": 36,
    "start_time": "2021-11-17T03:07:00.278Z"
   },
   {
    "duration": 27,
    "start_time": "2021-11-17T03:07:00.318Z"
   },
   {
    "duration": 27,
    "start_time": "2021-11-17T03:07:00.348Z"
   },
   {
    "duration": 27,
    "start_time": "2021-11-17T03:07:00.377Z"
   },
   {
    "duration": 27,
    "start_time": "2021-11-17T03:07:00.405Z"
   },
   {
    "duration": 18,
    "start_time": "2021-11-17T03:07:00.434Z"
   },
   {
    "duration": 21,
    "start_time": "2021-11-17T03:07:00.454Z"
   },
   {
    "duration": 20,
    "start_time": "2021-11-17T03:07:00.477Z"
   },
   {
    "duration": 38,
    "start_time": "2021-11-17T03:07:00.498Z"
   },
   {
    "duration": 64,
    "start_time": "2021-11-17T03:07:00.538Z"
   },
   {
    "duration": 33,
    "start_time": "2021-11-17T03:07:00.604Z"
   },
   {
    "duration": 36,
    "start_time": "2021-11-17T03:07:00.640Z"
   },
   {
    "duration": 35,
    "start_time": "2021-11-17T03:07:00.679Z"
   },
   {
    "duration": 49,
    "start_time": "2021-11-17T03:07:00.716Z"
   },
   {
    "duration": 45,
    "start_time": "2021-11-17T03:07:00.766Z"
   },
   {
    "duration": 35,
    "start_time": "2021-11-17T03:07:00.813Z"
   },
   {
    "duration": 41,
    "start_time": "2021-11-17T03:07:00.850Z"
   },
   {
    "duration": 19,
    "start_time": "2021-11-17T03:07:00.892Z"
   },
   {
    "duration": 32,
    "start_time": "2021-11-17T03:07:00.914Z"
   },
   {
    "duration": 17,
    "start_time": "2021-11-17T03:07:00.948Z"
   },
   {
    "duration": 17,
    "start_time": "2021-11-17T03:07:00.967Z"
   },
   {
    "duration": 23,
    "start_time": "2021-11-17T03:07:00.986Z"
   },
   {
    "duration": 2739,
    "start_time": "2021-11-17T03:07:01.010Z"
   },
   {
    "duration": 49,
    "start_time": "2021-11-17T03:07:03.751Z"
   },
   {
    "duration": 32,
    "start_time": "2021-11-17T03:07:03.801Z"
   },
   {
    "duration": 5,
    "start_time": "2021-11-17T03:07:03.835Z"
   },
   {
    "duration": 14,
    "start_time": "2021-11-17T03:07:03.842Z"
   },
   {
    "duration": 22,
    "start_time": "2021-11-17T03:07:03.858Z"
   },
   {
    "duration": 27,
    "start_time": "2021-11-17T03:07:03.882Z"
   },
   {
    "duration": 24,
    "start_time": "2021-11-17T03:07:03.910Z"
   },
   {
    "duration": 19,
    "start_time": "2021-11-17T03:07:03.936Z"
   },
   {
    "duration": 14,
    "start_time": "2021-11-17T03:07:03.956Z"
   },
   {
    "duration": 25,
    "start_time": "2021-11-17T03:07:03.972Z"
   },
   {
    "duration": 25,
    "start_time": "2021-11-17T03:07:03.999Z"
   },
   {
    "duration": 24,
    "start_time": "2021-11-17T03:07:04.025Z"
   },
   {
    "duration": 18,
    "start_time": "2021-11-17T03:07:04.050Z"
   },
   {
    "duration": 250,
    "start_time": "2021-11-17T03:07:04.069Z"
   },
   {
    "duration": 8,
    "start_time": "2021-11-17T03:07:04.321Z"
   },
   {
    "duration": 4,
    "start_time": "2021-11-17T03:07:04.331Z"
   },
   {
    "duration": 259,
    "start_time": "2021-11-17T03:07:04.336Z"
   },
   {
    "duration": 6,
    "start_time": "2021-11-17T03:07:04.597Z"
   },
   {
    "duration": 22,
    "start_time": "2021-11-17T03:07:04.604Z"
   },
   {
    "duration": 23,
    "start_time": "2021-11-17T03:07:04.628Z"
   },
   {
    "duration": 42,
    "start_time": "2021-11-17T03:07:04.653Z"
   },
   {
    "duration": 26,
    "start_time": "2021-11-17T03:07:04.697Z"
   },
   {
    "duration": 14,
    "start_time": "2021-11-17T03:07:04.724Z"
   },
   {
    "duration": 25,
    "start_time": "2021-11-17T03:07:04.739Z"
   },
   {
    "duration": 43,
    "start_time": "2021-11-17T03:07:04.765Z"
   },
   {
    "duration": 26,
    "start_time": "2021-11-17T03:07:04.811Z"
   },
   {
    "duration": 2,
    "start_time": "2021-11-17T03:08:02.637Z"
   },
   {
    "duration": 49,
    "start_time": "2021-11-17T03:08:06.004Z"
   },
   {
    "duration": 4,
    "start_time": "2021-11-17T03:08:12.932Z"
   },
   {
    "duration": 13,
    "start_time": "2021-11-17T03:08:23.214Z"
   },
   {
    "duration": 16,
    "start_time": "2021-11-17T03:08:52.007Z"
   },
   {
    "duration": 16,
    "start_time": "2021-11-17T03:09:04.788Z"
   },
   {
    "duration": 20,
    "start_time": "2021-11-17T03:09:32.643Z"
   },
   {
    "duration": 7,
    "start_time": "2021-11-17T03:09:48.061Z"
   },
   {
    "duration": 15,
    "start_time": "2021-11-17T03:10:06.129Z"
   },
   {
    "duration": 5,
    "start_time": "2021-11-17T03:10:20.345Z"
   },
   {
    "duration": 20,
    "start_time": "2021-11-17T03:10:28.085Z"
   },
   {
    "duration": 14,
    "start_time": "2021-11-17T03:10:33.127Z"
   },
   {
    "duration": 16,
    "start_time": "2021-11-17T03:10:42.173Z"
   },
   {
    "duration": 6,
    "start_time": "2021-11-17T03:10:49.753Z"
   },
   {
    "duration": 8,
    "start_time": "2021-11-17T03:10:53.306Z"
   },
   {
    "duration": 6,
    "start_time": "2021-11-17T03:10:58.499Z"
   },
   {
    "duration": 7,
    "start_time": "2021-11-17T03:11:04.083Z"
   },
   {
    "duration": 6,
    "start_time": "2021-11-17T03:11:10.376Z"
   },
   {
    "duration": 7,
    "start_time": "2021-11-17T03:11:16.326Z"
   },
   {
    "duration": 5,
    "start_time": "2021-11-17T03:11:24.928Z"
   },
   {
    "duration": 10,
    "start_time": "2021-11-17T03:11:32.642Z"
   },
   {
    "duration": 6,
    "start_time": "2021-11-17T03:11:56.827Z"
   },
   {
    "duration": 6,
    "start_time": "2021-11-17T03:12:08.426Z"
   },
   {
    "duration": 8,
    "start_time": "2021-11-17T03:12:12.700Z"
   },
   {
    "duration": 11,
    "start_time": "2021-11-17T03:12:18.009Z"
   },
   {
    "duration": 4,
    "start_time": "2021-11-17T03:12:21.774Z"
   },
   {
    "duration": 7,
    "start_time": "2021-11-17T03:12:25.723Z"
   },
   {
    "duration": 6,
    "start_time": "2021-11-17T03:12:30.551Z"
   },
   {
    "duration": 8,
    "start_time": "2021-11-17T03:12:33.734Z"
   },
   {
    "duration": 4,
    "start_time": "2021-11-17T03:12:37.144Z"
   },
   {
    "duration": 7,
    "start_time": "2021-11-17T03:12:41.273Z"
   },
   {
    "duration": 15,
    "start_time": "2021-11-17T03:12:45.224Z"
   },
   {
    "duration": 15,
    "start_time": "2021-11-17T03:13:01.506Z"
   },
   {
    "duration": 22,
    "start_time": "2021-11-17T03:13:07.583Z"
   },
   {
    "duration": 4,
    "start_time": "2021-11-17T03:13:19.042Z"
   },
   {
    "duration": 4,
    "start_time": "2021-11-17T03:13:24.672Z"
   },
   {
    "duration": 4,
    "start_time": "2021-11-17T03:13:28.374Z"
   },
   {
    "duration": 2581,
    "start_time": "2021-11-17T03:13:32.872Z"
   },
   {
    "duration": 2,
    "start_time": "2021-11-17T03:13:53.409Z"
   },
   {
    "duration": 2562,
    "start_time": "2021-11-17T03:14:04.847Z"
   },
   {
    "duration": 16,
    "start_time": "2021-11-17T03:14:47.548Z"
   },
   {
    "duration": 20,
    "start_time": "2021-11-17T03:14:53.808Z"
   },
   {
    "duration": 8,
    "start_time": "2021-11-17T03:15:04.299Z"
   },
   {
    "duration": 7,
    "start_time": "2021-11-17T03:15:07.696Z"
   },
   {
    "duration": 8,
    "start_time": "2021-11-17T03:15:10.974Z"
   },
   {
    "duration": 13,
    "start_time": "2021-11-17T03:15:16.109Z"
   },
   {
    "duration": 9,
    "start_time": "2021-11-17T03:15:23.903Z"
   },
   {
    "duration": 7,
    "start_time": "2021-11-17T03:15:30.697Z"
   },
   {
    "duration": 4,
    "start_time": "2021-11-17T03:15:34.947Z"
   },
   {
    "duration": 15,
    "start_time": "2021-11-17T03:15:37.827Z"
   },
   {
    "duration": 7,
    "start_time": "2021-11-17T03:15:44.227Z"
   },
   {
    "duration": 5,
    "start_time": "2021-11-17T03:15:48.239Z"
   },
   {
    "duration": 4,
    "start_time": "2021-11-17T03:15:54.831Z"
   },
   {
    "duration": 250,
    "start_time": "2021-11-17T03:15:58.857Z"
   },
   {
    "duration": 10,
    "start_time": "2021-11-17T03:16:03.146Z"
   },
   {
    "duration": 5,
    "start_time": "2021-11-17T03:16:08.065Z"
   },
   {
    "duration": 5241,
    "start_time": "2021-11-17T03:16:12.784Z"
   },
   {
    "duration": 4361,
    "start_time": "2021-11-17T03:16:21.643Z"
   },
   {
    "duration": 247,
    "start_time": "2021-11-17T03:16:39.050Z"
   },
   {
    "duration": 7,
    "start_time": "2021-11-17T03:16:44.832Z"
   },
   {
    "duration": 22,
    "start_time": "2021-11-17T03:16:59.401Z"
   },
   {
    "duration": 26,
    "start_time": "2021-11-17T03:17:04.360Z"
   },
   {
    "duration": 26,
    "start_time": "2021-11-17T03:17:31.881Z"
   },
   {
    "duration": 28,
    "start_time": "2021-11-17T03:17:37.519Z"
   },
   {
    "duration": 3,
    "start_time": "2021-11-17T03:20:02.621Z"
   },
   {
    "duration": 76,
    "start_time": "2021-11-17T03:20:02.629Z"
   },
   {
    "duration": 4,
    "start_time": "2021-11-17T03:20:02.708Z"
   },
   {
    "duration": 36,
    "start_time": "2021-11-17T03:20:02.713Z"
   },
   {
    "duration": 33,
    "start_time": "2021-11-17T03:20:02.751Z"
   },
   {
    "duration": 39,
    "start_time": "2021-11-17T03:20:02.786Z"
   },
   {
    "duration": 13,
    "start_time": "2021-11-17T03:20:02.826Z"
   },
   {
    "duration": 40,
    "start_time": "2021-11-17T03:20:02.840Z"
   },
   {
    "duration": 26,
    "start_time": "2021-11-17T03:20:02.883Z"
   },
   {
    "duration": 42,
    "start_time": "2021-11-17T03:20:02.911Z"
   },
   {
    "duration": 41,
    "start_time": "2021-11-17T03:20:02.955Z"
   },
   {
    "duration": 21,
    "start_time": "2021-11-17T03:20:02.999Z"
   },
   {
    "duration": 12,
    "start_time": "2021-11-17T03:20:03.022Z"
   },
   {
    "duration": 20,
    "start_time": "2021-11-17T03:20:03.036Z"
   },
   {
    "duration": 7,
    "start_time": "2021-11-17T03:20:03.057Z"
   },
   {
    "duration": 14,
    "start_time": "2021-11-17T03:20:03.065Z"
   },
   {
    "duration": 5,
    "start_time": "2021-11-17T03:20:03.081Z"
   },
   {
    "duration": 15,
    "start_time": "2021-11-17T03:20:03.088Z"
   },
   {
    "duration": 8,
    "start_time": "2021-11-17T03:20:03.105Z"
   },
   {
    "duration": 6,
    "start_time": "2021-11-17T03:20:03.115Z"
   },
   {
    "duration": 11,
    "start_time": "2021-11-17T03:20:03.123Z"
   },
   {
    "duration": 12,
    "start_time": "2021-11-17T03:20:03.136Z"
   },
   {
    "duration": 9,
    "start_time": "2021-11-17T03:20:03.150Z"
   },
   {
    "duration": 34,
    "start_time": "2021-11-17T03:20:03.162Z"
   },
   {
    "duration": 9,
    "start_time": "2021-11-17T03:20:03.199Z"
   },
   {
    "duration": 7,
    "start_time": "2021-11-17T03:20:03.210Z"
   },
   {
    "duration": 16,
    "start_time": "2021-11-17T03:20:03.219Z"
   },
   {
    "duration": 16,
    "start_time": "2021-11-17T03:20:03.237Z"
   },
   {
    "duration": 15,
    "start_time": "2021-11-17T03:20:03.254Z"
   },
   {
    "duration": 35,
    "start_time": "2021-11-17T03:20:03.270Z"
   },
   {
    "duration": 14,
    "start_time": "2021-11-17T03:20:03.307Z"
   },
   {
    "duration": 15,
    "start_time": "2021-11-17T03:20:03.323Z"
   },
   {
    "duration": 12,
    "start_time": "2021-11-17T03:20:03.340Z"
   },
   {
    "duration": 12,
    "start_time": "2021-11-17T03:20:03.353Z"
   },
   {
    "duration": 19,
    "start_time": "2021-11-17T03:20:03.366Z"
   },
   {
    "duration": 2605,
    "start_time": "2021-11-17T03:20:03.387Z"
   },
   {
    "duration": 22,
    "start_time": "2021-11-17T03:20:05.995Z"
   },
   {
    "duration": 25,
    "start_time": "2021-11-17T03:20:06.019Z"
   },
   {
    "duration": 5,
    "start_time": "2021-11-17T03:20:06.045Z"
   },
   {
    "duration": 6,
    "start_time": "2021-11-17T03:20:06.051Z"
   },
   {
    "duration": 34,
    "start_time": "2021-11-17T03:20:06.058Z"
   },
   {
    "duration": 18,
    "start_time": "2021-11-17T03:20:06.094Z"
   },
   {
    "duration": 11,
    "start_time": "2021-11-17T03:20:06.114Z"
   },
   {
    "duration": 4,
    "start_time": "2021-11-17T03:20:06.127Z"
   },
   {
    "duration": 9,
    "start_time": "2021-11-17T03:20:06.132Z"
   },
   {
    "duration": 18,
    "start_time": "2021-11-17T03:20:06.142Z"
   },
   {
    "duration": 9,
    "start_time": "2021-11-17T03:20:06.162Z"
   },
   {
    "duration": 26,
    "start_time": "2021-11-17T03:20:06.172Z"
   },
   {
    "duration": 9,
    "start_time": "2021-11-17T03:20:06.199Z"
   },
   {
    "duration": 259,
    "start_time": "2021-11-17T03:20:06.210Z"
   },
   {
    "duration": 8,
    "start_time": "2021-11-17T03:20:06.471Z"
   },
   {
    "duration": 15,
    "start_time": "2021-11-17T03:20:06.481Z"
   },
   {
    "duration": 261,
    "start_time": "2021-11-17T03:20:06.498Z"
   },
   {
    "duration": 8,
    "start_time": "2021-11-17T03:20:06.761Z"
   },
   {
    "duration": 39,
    "start_time": "2021-11-17T03:20:06.771Z"
   },
   {
    "duration": 25,
    "start_time": "2021-11-17T03:20:06.814Z"
   },
   {
    "duration": 18,
    "start_time": "2021-11-17T03:20:06.840Z"
   },
   {
    "duration": 60,
    "start_time": "2021-11-17T03:20:06.860Z"
   },
   {
    "duration": 15,
    "start_time": "2021-11-17T03:20:06.921Z"
   },
   {
    "duration": 26,
    "start_time": "2021-11-17T03:20:06.937Z"
   },
   {
    "duration": 44,
    "start_time": "2021-11-17T03:20:06.964Z"
   },
   {
    "duration": 28,
    "start_time": "2021-11-17T03:20:07.010Z"
   },
   {
    "duration": 10,
    "start_time": "2021-11-17T03:20:18.050Z"
   },
   {
    "duration": 8,
    "start_time": "2021-11-17T03:20:18.062Z"
   },
   {
    "duration": 5,
    "start_time": "2021-11-17T03:20:18.072Z"
   },
   {
    "duration": 21,
    "start_time": "2021-11-17T03:20:18.079Z"
   },
   {
    "duration": 9,
    "start_time": "2021-11-17T03:20:18.104Z"
   },
   {
    "duration": 15,
    "start_time": "2021-11-17T03:20:18.114Z"
   },
   {
    "duration": 10,
    "start_time": "2021-11-17T03:20:18.130Z"
   },
   {
    "duration": 277,
    "start_time": "2021-11-17T03:20:18.141Z"
   },
   {
    "duration": 8,
    "start_time": "2021-11-17T03:20:18.420Z"
   },
   {
    "duration": 9,
    "start_time": "2021-11-17T03:20:18.430Z"
   },
   {
    "duration": 255,
    "start_time": "2021-11-17T03:20:18.441Z"
   },
   {
    "duration": 8,
    "start_time": "2021-11-17T03:20:18.700Z"
   },
   {
    "duration": 17,
    "start_time": "2021-11-17T03:20:18.710Z"
   },
   {
    "duration": 23,
    "start_time": "2021-11-17T03:20:18.729Z"
   },
   {
    "duration": 44,
    "start_time": "2021-11-17T03:20:18.753Z"
   },
   {
    "duration": 29,
    "start_time": "2021-11-17T03:20:18.800Z"
   },
   {
    "duration": 14,
    "start_time": "2021-11-17T03:20:18.831Z"
   },
   {
    "duration": 52,
    "start_time": "2021-11-17T03:20:18.847Z"
   },
   {
    "duration": 19,
    "start_time": "2021-11-17T03:20:18.901Z"
   },
   {
    "duration": 24,
    "start_time": "2021-11-17T03:20:18.922Z"
   },
   {
    "duration": 15,
    "start_time": "2021-11-17T03:20:26.622Z"
   },
   {
    "duration": 23,
    "start_time": "2021-11-17T03:20:26.639Z"
   },
   {
    "duration": 17,
    "start_time": "2021-11-17T03:20:26.664Z"
   },
   {
    "duration": 32,
    "start_time": "2021-11-17T03:20:26.683Z"
   },
   {
    "duration": 17,
    "start_time": "2021-11-17T03:20:26.717Z"
   },
   {
    "duration": 26,
    "start_time": "2021-11-17T03:20:26.736Z"
   },
   {
    "duration": 46,
    "start_time": "2021-11-17T03:20:26.763Z"
   },
   {
    "duration": 39,
    "start_time": "2021-11-17T03:20:26.811Z"
   },
   {
    "duration": 19,
    "start_time": "2021-11-17T03:20:32.320Z"
   },
   {
    "duration": 792,
    "start_time": "2021-11-17T17:14:28.784Z"
   },
   {
    "duration": 68,
    "start_time": "2021-11-17T17:14:29.579Z"
   },
   {
    "duration": 22,
    "start_time": "2021-11-17T17:14:29.650Z"
   },
   {
    "duration": 32,
    "start_time": "2021-11-17T17:14:29.675Z"
   },
   {
    "duration": 13,
    "start_time": "2021-11-17T17:14:29.710Z"
   },
   {
    "duration": 53,
    "start_time": "2021-11-17T17:14:29.726Z"
   },
   {
    "duration": 7,
    "start_time": "2021-11-17T17:14:29.782Z"
   },
   {
    "duration": 24,
    "start_time": "2021-11-17T17:14:29.793Z"
   },
   {
    "duration": 52,
    "start_time": "2021-11-17T17:14:29.820Z"
   },
   {
    "duration": 25,
    "start_time": "2021-11-17T17:14:29.874Z"
   },
   {
    "duration": 7,
    "start_time": "2021-11-17T17:14:29.902Z"
   },
   {
    "duration": 13,
    "start_time": "2021-11-17T17:14:29.912Z"
   },
   {
    "duration": 42,
    "start_time": "2021-11-17T17:14:29.927Z"
   },
   {
    "duration": 11,
    "start_time": "2021-11-17T17:14:29.972Z"
   },
   {
    "duration": 12,
    "start_time": "2021-11-17T17:14:29.986Z"
   },
   {
    "duration": 28,
    "start_time": "2021-11-17T17:14:30.001Z"
   },
   {
    "duration": 20,
    "start_time": "2021-11-17T17:14:30.032Z"
   },
   {
    "duration": 34,
    "start_time": "2021-11-17T17:14:30.055Z"
   },
   {
    "duration": 48,
    "start_time": "2021-11-17T17:14:30.092Z"
   },
   {
    "duration": 21,
    "start_time": "2021-11-17T17:14:30.143Z"
   },
   {
    "duration": 38,
    "start_time": "2021-11-17T17:14:30.167Z"
   },
   {
    "duration": 20,
    "start_time": "2021-11-17T17:14:30.208Z"
   },
   {
    "duration": 28,
    "start_time": "2021-11-17T17:14:30.236Z"
   },
   {
    "duration": 33,
    "start_time": "2021-11-17T17:14:30.268Z"
   },
   {
    "duration": 46,
    "start_time": "2021-11-17T17:14:30.303Z"
   },
   {
    "duration": 27,
    "start_time": "2021-11-17T17:14:30.351Z"
   },
   {
    "duration": 43,
    "start_time": "2021-11-17T17:14:30.381Z"
   },
   {
    "duration": 26,
    "start_time": "2021-11-17T17:14:30.426Z"
   },
   {
    "duration": 31,
    "start_time": "2021-11-17T17:14:30.455Z"
   },
   {
    "duration": 46,
    "start_time": "2021-11-17T17:14:30.488Z"
   },
   {
    "duration": 23,
    "start_time": "2021-11-17T17:14:30.536Z"
   },
   {
    "duration": 26,
    "start_time": "2021-11-17T17:14:30.561Z"
   },
   {
    "duration": 6,
    "start_time": "2021-11-17T17:14:30.590Z"
   },
   {
    "duration": 25,
    "start_time": "2021-11-17T17:14:30.599Z"
   },
   {
    "duration": 72,
    "start_time": "2021-11-17T17:14:30.627Z"
   },
   {
    "duration": 4211,
    "start_time": "2021-11-17T17:14:30.702Z"
   },
   {
    "duration": 57,
    "start_time": "2021-11-17T17:14:34.926Z"
   },
   {
    "duration": 29,
    "start_time": "2021-11-17T17:14:34.986Z"
   },
   {
    "duration": 8,
    "start_time": "2021-11-17T17:14:35.018Z"
   },
   {
    "duration": 44,
    "start_time": "2021-11-17T17:14:35.029Z"
   },
   {
    "duration": 13,
    "start_time": "2021-11-17T17:14:35.075Z"
   },
   {
    "duration": 23,
    "start_time": "2021-11-17T17:14:35.091Z"
   },
   {
    "duration": 16,
    "start_time": "2021-11-17T17:14:35.116Z"
   },
   {
    "duration": 28,
    "start_time": "2021-11-17T17:14:35.168Z"
   },
   {
    "duration": 5,
    "start_time": "2021-11-17T17:14:35.199Z"
   },
   {
    "duration": 27,
    "start_time": "2021-11-17T17:14:35.207Z"
   },
   {
    "duration": 14,
    "start_time": "2021-11-17T17:14:35.237Z"
   },
   {
    "duration": 9,
    "start_time": "2021-11-17T17:14:35.268Z"
   },
   {
    "duration": 8,
    "start_time": "2021-11-17T17:14:35.280Z"
   },
   {
    "duration": 726,
    "start_time": "2021-11-17T17:14:35.291Z"
   },
   {
    "duration": 13,
    "start_time": "2021-11-17T17:14:36.020Z"
   },
   {
    "duration": 8,
    "start_time": "2021-11-17T17:14:36.035Z"
   },
   {
    "duration": 676,
    "start_time": "2021-11-17T17:14:36.067Z"
   },
   {
    "duration": 27,
    "start_time": "2021-11-17T17:14:36.745Z"
   },
   {
    "duration": 32,
    "start_time": "2021-11-17T17:14:36.775Z"
   },
   {
    "duration": 63,
    "start_time": "2021-11-17T17:14:36.809Z"
   },
   {
    "duration": 29,
    "start_time": "2021-11-17T17:14:36.874Z"
   },
   {
    "duration": 67,
    "start_time": "2021-11-17T17:14:36.905Z"
   },
   {
    "duration": 23,
    "start_time": "2021-11-17T17:14:36.974Z"
   },
   {
    "duration": 42,
    "start_time": "2021-11-17T17:14:36.999Z"
   },
   {
    "duration": 50,
    "start_time": "2021-11-17T17:14:37.044Z"
   },
   {
    "duration": 71,
    "start_time": "2021-11-17T17:14:37.097Z"
   },
   {
    "duration": 51,
    "start_time": "2021-11-17T17:23:55.057Z"
   },
   {
    "duration": 382,
    "start_time": "2022-06-17T04:30:15.114Z"
   },
   {
    "duration": 171,
    "start_time": "2022-06-17T04:30:15.758Z"
   },
   {
    "duration": 202,
    "start_time": "2022-06-17T04:30:40.981Z"
   }
  ],
  "kernelspec": {
   "display_name": "Python 3 (ipykernel)",
   "language": "python",
   "name": "python3"
  },
  "language_info": {
   "codemirror_mode": {
    "name": "ipython",
    "version": 3
   },
   "file_extension": ".py",
   "mimetype": "text/x-python",
   "name": "python",
   "nbconvert_exporter": "python",
   "pygments_lexer": "ipython3",
   "version": "3.9.7"
  },
  "toc": {
   "base_numbering": 1,
   "nav_menu": {},
   "number_sections": true,
   "sideBar": true,
   "skip_h1_title": true,
   "title_cell": "Table of Contents",
   "title_sidebar": "Contents",
   "toc_cell": false,
   "toc_position": {},
   "toc_section_display": true,
   "toc_window_display": true
  }
 },
 "nbformat": 4,
 "nbformat_minor": 2
}
