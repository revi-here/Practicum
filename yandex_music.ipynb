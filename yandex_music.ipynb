{
 "cells": [
  {
   "cell_type": "markdown",
   "metadata": {
    "id": "E0vqbgi9ay0H"
   },
   "source": [
    "# Yandex.Music"
   ]
  },
  {
   "cell_type": "markdown",
   "metadata": {
    "id": "fhq_eyov_Zcs"
   },
   "source": [
    "# Contents <a id='back'></a>\n",
    "\n",
    "* [Introduction](#intro)\n",
    "* [Stage 1. Data overview](#data_review)\n",
    "    * [Conclusions](#data_review_conclusions)\n",
    "* [Stage 2. Data preprocessing](#data_preprocessing)\n",
    "    * [2.1 Header style](#header_style)\n",
    "    * [2.2 Missing values](#missing_values)\n",
    "    * [2.3 Duplicates](#duplicates)\n",
    "    * [2.4 Conclusions](#data_preprocessing_conclusions)\n",
    "* [Stage 3. Testing the hypotheses](#hypotheses)\n",
    "    * [3.1 Hypothesis 1: user activity in the two cities](#activity)\n",
    "    * [3.2 Hypothesis 2: music preferences on Monday and Friday](#week)\n",
    "    * [3.3 Hypothesis 3: genre preferences in Springfield and Shelbyville](#genre)\n",
    "* [Findings](#end)"
   ]
  },
  {
   "cell_type": "markdown",
   "metadata": {
    "id": "VUC88oWjTJw2"
   },
   "source": [
    "## Introduction <a id='intro'></a>\n",
    "\n",
    "In this project, we will compare the music preferences of the cities of Springfield and Shelbyville. We will study real Yandex.Music data to test the hypotheses below and compare user behavior for these two cities.\n",
    "\n",
    "### Goal: \n",
    "Test three hypotheses:\n",
    "1. User activity differs depending on the day of the week and from city to city. \n",
    "2. On Monday mornings, Springfield and Shelbyville residents listen to different genres. This is also true for Friday evenings. \n",
    "3. Springfield and Shelbyville listeners have different preferences. In Springfield, they prefer pop, while Shelbyville has more rap fans.\n",
    "\n",
    "### Stages \n",
    "Data on user behavior is stored in the file `/datasets/music_project_en.csv`. There is no information about the quality of the data, so we will need to explore it before testing the hypotheses. \n",
    "\n",
    "First, we will evaluate the quality of the data and see whether its issues are significant. Then, during data preprocessing, we will try to account for the most critical problems.\n",
    " \n",
    "Project consist of three stages:\n",
    " 1. Data overview\n",
    " 2. Data preprocessing\n",
    " 3. Testing the hypotheses\n",
    " \n",
    "[Back to Contents](#back)"
   ]
  },
  {
   "cell_type": "markdown",
   "metadata": {
    "id": "Ml1hmfXC_Zcs"
   },
   "source": [
    "## Stage 1. Data overview <a id='data_review'></a>\n",
    "\n"
   ]
  },
  {
   "cell_type": "code",
   "execution_count": 1,
   "metadata": {
    "id": "AXN7PHPN_Zcs"
   },
   "outputs": [],
   "source": [
    "# importing pandas\n",
    "import pandas as pd"
   ]
  },
  {
   "cell_type": "markdown",
   "metadata": {
    "id": "SG23P8tt_Zcs"
   },
   "source": [
    "Read the file `music_project_en.csv` from the `/datasets/` folder and save it in the `df` variable:"
   ]
  },
  {
   "cell_type": "code",
   "execution_count": 2,
   "metadata": {
    "id": "fFVu7vqh_Zct"
   },
   "outputs": [
    {
     "data": {
      "text/html": [
       "<div>\n",
       "<style scoped>\n",
       "    .dataframe tbody tr th:only-of-type {\n",
       "        vertical-align: middle;\n",
       "    }\n",
       "\n",
       "    .dataframe tbody tr th {\n",
       "        vertical-align: top;\n",
       "    }\n",
       "\n",
       "    .dataframe thead th {\n",
       "        text-align: right;\n",
       "    }\n",
       "</style>\n",
       "<table border=\"1\" class=\"dataframe\">\n",
       "  <thead>\n",
       "    <tr style=\"text-align: right;\">\n",
       "      <th></th>\n",
       "      <th>userID</th>\n",
       "      <th>Track</th>\n",
       "      <th>artist</th>\n",
       "      <th>genre</th>\n",
       "      <th>City</th>\n",
       "      <th>time</th>\n",
       "      <th>Day</th>\n",
       "    </tr>\n",
       "  </thead>\n",
       "  <tbody>\n",
       "    <tr>\n",
       "      <td>count</td>\n",
       "      <td>65079</td>\n",
       "      <td>63736</td>\n",
       "      <td>57512</td>\n",
       "      <td>63881</td>\n",
       "      <td>65079</td>\n",
       "      <td>65079</td>\n",
       "      <td>65079</td>\n",
       "    </tr>\n",
       "    <tr>\n",
       "      <td>unique</td>\n",
       "      <td>41748</td>\n",
       "      <td>39666</td>\n",
       "      <td>37806</td>\n",
       "      <td>268</td>\n",
       "      <td>2</td>\n",
       "      <td>20392</td>\n",
       "      <td>3</td>\n",
       "    </tr>\n",
       "    <tr>\n",
       "      <td>top</td>\n",
       "      <td>A8AE9169</td>\n",
       "      <td>Brand</td>\n",
       "      <td>Kartvelli</td>\n",
       "      <td>pop</td>\n",
       "      <td>Springfield</td>\n",
       "      <td>21:51:22</td>\n",
       "      <td>Friday</td>\n",
       "    </tr>\n",
       "    <tr>\n",
       "      <td>freq</td>\n",
       "      <td>76</td>\n",
       "      <td>136</td>\n",
       "      <td>136</td>\n",
       "      <td>8850</td>\n",
       "      <td>45360</td>\n",
       "      <td>14</td>\n",
       "      <td>23149</td>\n",
       "    </tr>\n",
       "  </tbody>\n",
       "</table>\n",
       "</div>"
      ],
      "text/plain": [
       "          userID  Track     artist  genre       City        time     Day\n",
       "count      65079  63736      57512  63881        65079     65079   65079\n",
       "unique     41748  39666      37806    268            2     20392       3\n",
       "top     A8AE9169  Brand  Kartvelli    pop  Springfield  21:51:22  Friday\n",
       "freq          76    136        136   8850        45360        14   23149"
      ]
     },
     "execution_count": 2,
     "metadata": {},
     "output_type": "execute_result"
    }
   ],
   "source": [
    "# reading the file and storing it to df\n",
    "df = pd.read_csv('/datasets/music_project_en.csv')\n",
    "df.describe()"
   ]
  },
  {
   "cell_type": "markdown",
   "metadata": {
    "id": "rDoOMd3uTqnZ"
   },
   "source": [
    "Print the first 10 table rows:"
   ]
  },
  {
   "cell_type": "code",
   "execution_count": 3,
   "metadata": {
    "id": "oWTVX3gW_Zct"
   },
   "outputs": [
    {
     "name": "stdout",
     "output_type": "stream",
     "text": [
      "     userID                        Track            artist   genre  \\\n",
      "0  FFB692EC            Kamigata To Boots  The Mass Missile    rock   \n",
      "1  55204538  Delayed Because of Accident  Andreas Rönnberg    rock   \n",
      "2    20EC38            Funiculì funiculà       Mario Lanza     pop   \n",
      "3  A3DD03C9        Dragons in the Sunset        Fire + Ice    folk   \n",
      "4  E2DC1FAE                  Soul People        Space Echo   dance   \n",
      "5  842029A1                       Chains          Obladaet  rusrap   \n",
      "6  4CB90AA5                         True      Roman Messer   dance   \n",
      "7  F03E1C1F             Feeling This Way   Polina Griffith   dance   \n",
      "8  8FA1D3BE                     L’estate       Julia Dalia  ruspop   \n",
      "9  E772D5C0                    Pessimist               NaN   dance   \n",
      "\n",
      "        City        time        Day  \n",
      "0  Shelbyville  20:28:33  Wednesday  \n",
      "1  Springfield  14:07:09     Friday  \n",
      "2  Shelbyville  20:58:07  Wednesday  \n",
      "3  Shelbyville  08:37:09     Monday  \n",
      "4  Springfield  08:34:34     Monday  \n",
      "5  Shelbyville  13:09:41     Friday  \n",
      "6  Springfield  13:00:07  Wednesday  \n",
      "7  Springfield  20:47:49  Wednesday  \n",
      "8  Springfield  09:17:40     Friday  \n",
      "9  Shelbyville  21:20:49  Wednesday  \n"
     ]
    }
   ],
   "source": [
    "# obtaining the first 10 rows from the df table\n",
    "df.head(10)"
   ]
  },
  {
   "cell_type": "markdown",
   "metadata": {
    "id": "EO73Kwic_Zct"
   },
   "source": [
    "Obtaining the general information about the table with one command:"
   ]
  },
  {
   "cell_type": "code",
   "execution_count": 4,
   "metadata": {
    "id": "DSf2kIb-_Zct"
   },
   "outputs": [
    {
     "name": "stdout",
     "output_type": "stream",
     "text": [
      "<class 'pandas.core.frame.DataFrame'>\n",
      "RangeIndex: 65079 entries, 0 to 65078\n",
      "Data columns (total 7 columns):\n",
      "  userID    65079 non-null object\n",
      "Track       63736 non-null object\n",
      "artist      57512 non-null object\n",
      "genre       63881 non-null object\n",
      "  City      65079 non-null object\n",
      "time        65079 non-null object\n",
      "Day         65079 non-null object\n",
      "dtypes: object(7)\n",
      "memory usage: 3.5+ MB\n"
     ]
    }
   ],
   "source": [
    "# obtaining general information about the data in df\n",
    "df.info()"
   ]
  },
  {
   "cell_type": "markdown",
   "metadata": {
    "id": "TaQ2Iwbr_Zct"
   },
   "source": [
    "The table contains seven columns. They all store the same data type: `object`.\n",
    "\n",
    "According to the documentation:\n",
    "- `'userID'` — user identifier\n",
    "- `'Track'` — track title\n",
    "- `'artist'` — artist's name\n",
    "- `'genre'`\n",
    "- `'City'` — user's city\n",
    "- `'time'` — the exact time the track was played\n",
    "- `'Day'` — day of the week\n",
    "\n",
    "We can see few issues with style in the column names:\n",
    "1. Some names are uppercase, some are lowercase.\n",
    "2. There are spaces in some names.\n",
    "3. The number of column values is different. This means the data contains missing values.\n"
   ]
  },
  {
   "cell_type": "markdown",
   "metadata": {
    "id": "MCB6-dXG_Zct"
   },
   "source": [
    "### Conclusions <a id='data_review_conclusions'></a> \n",
    "\n",
    "Each row in the table stores data on a track that was played. Some columns describe the track itself: its title, artist and genre. The rest convey information about the user: the city they come from, the time they played the track. \n",
    "\n",
    "It's clear that the data is sufficient to test the hypotheses. However, there are missing values.\n",
    "\n",
    "To move forward, we need to preprocess the data."
   ]
  },
  {
   "cell_type": "markdown",
   "metadata": {
    "id": "3eL__vcwViOi"
   },
   "source": [
    "[Back to Contents](#back)"
   ]
  },
  {
   "cell_type": "markdown",
   "metadata": {
    "id": "SjYF6Ub9_Zct"
   },
   "source": [
    "## Stage 2. Data preprocessing <a id='data_preprocessing'></a>\n",
    "Correct the formatting in the column headers and deal with the missing values. Then, check whether there are duplicates in the data."
   ]
  },
  {
   "cell_type": "markdown",
   "metadata": {
    "id": "dIaKXr29_Zct"
   },
   "source": [
    "### Header style <a id='header_style'></a>\n",
    "Print the column header:"
   ]
  },
  {
   "cell_type": "code",
   "execution_count": 5,
   "metadata": {
    "id": "oKOTdF_Q_Zct"
   },
   "outputs": [
    {
     "data": {
      "text/plain": [
       "Index(['  userID', 'Track', 'artist', 'genre', '  City  ', 'time', 'Day'], dtype='object')"
      ]
     },
     "execution_count": 5,
     "metadata": {},
     "output_type": "execute_result"
    }
   ],
   "source": [
    "# the list of column names in the df table\n",
    "df.columns"
   ]
  },
  {
   "cell_type": "markdown",
   "metadata": {
    "id": "zj5534cv_Zct"
   },
   "source": [
    "Change column names according to the rules of good style:\n",
    "* If the name has several words, use snake_case\n",
    "* All characters must be lowercase\n",
    "* Delete spaces"
   ]
  },
  {
   "cell_type": "code",
   "execution_count": 6,
   "metadata": {
    "id": "ISlFqs5y_Zct"
   },
   "outputs": [],
   "source": [
    "df = df.rename(columns={\n",
    "    '  userID': 'user_id', \n",
    "    'Track': 'track_title',\n",
    "    'artist': 'artist_name',\n",
    "    'genre' : 'genre_name',\n",
    "    '  City  ': 'user_city',\n",
    "    'time': 'track_play_time',\n",
    "    'Day': 'day_of_week'\n",
    "})"
   ]
  },
  {
   "cell_type": "markdown",
   "metadata": {
    "id": "1dqbh00J_Zct"
   },
   "source": [
    "Check the result. Print the names of the columns once more:"
   ]
  },
  {
   "cell_type": "code",
   "execution_count": 7,
   "metadata": {
    "id": "d4NOAmTW_Zct"
   },
   "outputs": [
    {
     "data": {
      "text/plain": [
       "Index(['user_id', 'track_title', 'artist_name', 'genre_name', 'user_city',\n",
       "       'track_play_time', 'day_of_week'],\n",
       "      dtype='object')"
      ]
     },
     "execution_count": 7,
     "metadata": {},
     "output_type": "execute_result"
    }
   ],
   "source": [
    "# checking result: the list of column names\n",
    "df.columns"
   ]
  },
  {
   "cell_type": "markdown",
   "metadata": {
    "id": "xYJk6ksJVpOl"
   },
   "source": [
    "[Back to Contents](#back)"
   ]
  },
  {
   "cell_type": "markdown",
   "metadata": {
    "id": "5ISfbcfY_Zct"
   },
   "source": [
    "### Missing values <a id='missing_values'></a>\n",
    "First, find the number of missing values in the table."
   ]
  },
  {
   "cell_type": "code",
   "execution_count": 8,
   "metadata": {
    "id": "RskX29qr_Zct"
   },
   "outputs": [
    {
     "data": {
      "text/plain": [
       "user_id               0\n",
       "track_title        1343\n",
       "artist_name        7567\n",
       "genre_name         1198\n",
       "user_city             0\n",
       "track_play_time       0\n",
       "day_of_week           0\n",
       "dtype: int64"
      ]
     },
     "execution_count": 8,
     "metadata": {},
     "output_type": "execute_result"
    }
   ],
   "source": [
    "# calculating missing values\n",
    "df.isna().sum()"
   ]
  },
  {
   "cell_type": "markdown",
   "metadata": {
    "id": "qubhgnlO_Zct"
   },
   "source": [
    "Not all missing values affect the research. For instance, the missing values in `track` and `artist` are not critical. You can simply replace them with clear markers.\n",
    "\n",
    "But missing values in `'genre'` can affect the comparison of music preferences in Springfield and Shelbyville. In real life, it would be useful to learn the reasons why the data is missing and try to make up for them. But we do not have that opportunity in this project. So you will have to:\n",
    "* Fill in these missing values with markers\n",
    "* Evaluate how much the missing values may affect your computations"
   ]
  },
  {
   "cell_type": "markdown",
   "metadata": {
    "id": "fSv2laPA_Zct"
   },
   "source": [
    "Replace the missing values in `'track'`, `'artist'`, and `'genre'` with the string `'unknown'`. To do this, create the `columns_to_replace` list, loop over it with `for`, and replace the missing values in each of the columns:"
   ]
  },
  {
   "cell_type": "code",
   "execution_count": 9,
   "metadata": {
    "id": "KplB5qWs_Zct"
   },
   "outputs": [],
   "source": [
    "# looping over column names and replacing missing values with 'unknown'\n",
    "columns_to_replace=['track_title','artist_name','genre_name']\n",
    "for col in columns_to_replace:\n",
    "    df[col]=df[col].fillna('unknown')\n",
    "    \n"
   ]
  },
  {
   "cell_type": "markdown",
   "metadata": {
    "id": "Ilsm-MZo_Zct"
   },
   "source": [
    "Make sure the table contains no more missing values. Count the missing values again."
   ]
  },
  {
   "cell_type": "code",
   "execution_count": 10,
   "metadata": {
    "id": "Tq4nYRX4_Zct"
   },
   "outputs": [
    {
     "data": {
      "text/plain": [
       "user_id            0\n",
       "track_title        0\n",
       "artist_name        0\n",
       "genre_name         0\n",
       "user_city          0\n",
       "track_play_time    0\n",
       "day_of_week        0\n",
       "dtype: int64"
      ]
     },
     "execution_count": 10,
     "metadata": {},
     "output_type": "execute_result"
    }
   ],
   "source": [
    "# counting missing values\n",
    "df.isna().sum()"
   ]
  },
  {
   "cell_type": "markdown",
   "metadata": {
    "id": "74ZIBmq9VrsK"
   },
   "source": [
    "[Back to Contents](#back)"
   ]
  },
  {
   "cell_type": "markdown",
   "metadata": {
    "id": "BWKRtBJ3_Zct"
   },
   "source": [
    "### Duplicates <a id='duplicates'></a>\n",
    "Find the number of obvious duplicates in the table :"
   ]
  },
  {
   "cell_type": "code",
   "execution_count": 11,
   "metadata": {
    "id": "36eES_S0_Zct"
   },
   "outputs": [
    {
     "data": {
      "text/plain": [
       "3826"
      ]
     },
     "execution_count": 11,
     "metadata": {},
     "output_type": "execute_result"
    }
   ],
   "source": [
    "# counting clear duplicates\n",
    "df.duplicated().sum()"
   ]
  },
  {
   "cell_type": "markdown",
   "metadata": {
    "id": "Ot25h6XR_Zct"
   },
   "source": [
    "Call the `pandas` method for getting rid of obvious duplicates:"
   ]
  },
  {
   "cell_type": "code",
   "execution_count": 12,
   "metadata": {
    "id": "exFHq6tt_Zct"
   },
   "outputs": [],
   "source": [
    "# removing obvious duplicates\n",
    "df = df.drop_duplicates()"
   ]
  },
  {
   "cell_type": "markdown",
   "metadata": {
    "id": "Im2YwBEG_Zct"
   },
   "source": [
    "Count obvious duplicates once more to make sure you have removed all of them:"
   ]
  },
  {
   "cell_type": "code",
   "execution_count": 13,
   "metadata": {
    "id": "-8PuNWQ0_Zct"
   },
   "outputs": [
    {
     "data": {
      "text/plain": [
       "0"
      ]
     },
     "execution_count": 13,
     "metadata": {},
     "output_type": "execute_result"
    }
   ],
   "source": [
    "# checking for duplicates\n",
    "df.duplicated().sum()"
   ]
  },
  {
   "cell_type": "markdown",
   "metadata": {
    "id": "eSjWwsOh_Zct"
   },
   "source": [
    "Print a list of unique genre names, sorted in alphabetical order. \n",
    "* Retrieve the intended DataFrame column \n",
    "* Apply a sorting method to it\n",
    "* For the sorted column, call the method that will return all unique column values"
   ]
  },
  {
   "cell_type": "code",
   "execution_count": 14,
   "metadata": {
    "id": "JIUcqzZN_Zct"
   },
   "outputs": [
    {
     "data": {
      "text/plain": [
       "array(['acid', 'acoustic', 'action', 'adult', 'africa', 'afrikaans',\n",
       "       'alternative', 'ambient', 'americana', 'animated', 'anime',\n",
       "       'arabesk', 'arabic', 'arena', 'argentinetango', 'art', 'audiobook',\n",
       "       'avantgarde', 'axé', 'baile', 'balkan', 'beats', 'bigroom',\n",
       "       'black', 'bluegrass', 'blues', 'bollywood', 'bossa', 'brazilian',\n",
       "       'breakbeat', 'breaks', 'broadway', 'cantautori', 'cantopop',\n",
       "       'canzone', 'caribbean', 'caucasian', 'celtic', 'chamber',\n",
       "       'children', 'chill', 'chinese', 'choral', 'christian', 'christmas',\n",
       "       'classical', 'classicmetal', 'club', 'colombian', 'comedy',\n",
       "       'conjazz', 'contemporary', 'country', 'cuban', 'dance',\n",
       "       'dancehall', 'dancepop', 'dark', 'death', 'deep', 'deutschrock',\n",
       "       'deutschspr', 'dirty', 'disco', 'dnb', 'documentary', 'downbeat',\n",
       "       'downtempo', 'drum', 'dub', 'dubstep', 'eastern', 'easy',\n",
       "       'electronic', 'electropop', 'emo', 'entehno', 'epicmetal',\n",
       "       'estrada', 'ethnic', 'eurofolk', 'european', 'experimental',\n",
       "       'extrememetal', 'fado', 'film', 'fitness', 'flamenco', 'folk',\n",
       "       'folklore', 'folkmetal', 'folkrock', 'folktronica', 'forró',\n",
       "       'frankreich', 'französisch', 'french', 'funk', 'future', 'gangsta',\n",
       "       'garage', 'german', 'ghazal', 'gitarre', 'glitch', 'gospel',\n",
       "       'gothic', 'grime', 'grunge', 'gypsy', 'handsup', \"hard'n'heavy\",\n",
       "       'hardcore', 'hardstyle', 'hardtechno', 'hip', 'hip-hop', 'hiphop',\n",
       "       'historisch', 'holiday', 'hop', 'horror', 'house', 'idm',\n",
       "       'independent', 'indian', 'indie', 'indipop', 'industrial',\n",
       "       'inspirational', 'instrumental', 'international', 'irish', 'jam',\n",
       "       'japanese', 'jazz', 'jewish', 'jpop', 'jungle', 'k-pop',\n",
       "       'karadeniz', 'karaoke', 'kayokyoku', 'korean', 'laiko', 'latin',\n",
       "       'latino', 'leftfield', 'local', 'lounge', 'loungeelectronic',\n",
       "       'lovers', 'malaysian', 'mandopop', 'marschmusik', 'meditative',\n",
       "       'mediterranean', 'melodic', 'metal', 'metalcore', 'mexican',\n",
       "       'middle', 'minimal', 'miscellaneous', 'modern', 'mood', 'mpb',\n",
       "       'muslim', 'native', 'neoklassik', 'neue', 'new', 'newage',\n",
       "       'newwave', 'nu', 'nujazz', 'numetal', 'oceania', 'old', 'opera',\n",
       "       'orchestral', 'other', 'piano', 'pop', 'popelectronic',\n",
       "       'popeurodance', 'post', 'posthardcore', 'postrock', 'power',\n",
       "       'progmetal', 'progressive', 'psychedelic', 'punjabi', 'punk',\n",
       "       'quebecois', 'ragga', 'ram', 'rancheras', 'rap', 'rave', 'reggae',\n",
       "       'reggaeton', 'regional', 'relax', 'religious', 'retro', 'rhythm',\n",
       "       'rnb', 'rnr', 'rock', 'rockabilly', 'romance', 'roots', 'ruspop',\n",
       "       'rusrap', 'rusrock', 'salsa', 'samba', 'schlager', 'self',\n",
       "       'sertanejo', 'shoegazing', 'showtunes', 'singer', 'ska', 'slow',\n",
       "       'smooth', 'soul', 'soulful', 'sound', 'soundtrack', 'southern',\n",
       "       'specialty', 'speech', 'spiritual', 'sport', 'stonerrock', 'surf',\n",
       "       'swing', 'synthpop', 'sängerportrait', 'tango', 'tanzorchester',\n",
       "       'taraftar', 'tech', 'techno', 'thrash', 'top', 'traditional',\n",
       "       'tradjazz', 'trance', 'tribal', 'trip', 'triphop', 'tropical',\n",
       "       'türk', 'türkçe', 'unknown', 'urban', 'uzbek', 'variété', 'vi',\n",
       "       'videogame', 'vocal', 'western', 'world', 'worldbeat', 'ïîï'],\n",
       "      dtype=object)"
      ]
     },
     "execution_count": 14,
     "metadata": {},
     "output_type": "execute_result"
    }
   ],
   "source": [
    "# viewing unique genre names\n",
    "df['genre_name'].sort_values().unique()"
   ]
  },
  {
   "cell_type": "markdown",
   "metadata": {
    "id": "qej-Qmuo_Zct"
   },
   "source": [
    "Look through the list to find implicit duplicates of the genre `hiphop`. These could be names written incorrectly or alternative names of the same genre.\n",
    "\n",
    "You will see the following implicit duplicates:\n",
    "* `hip`\n",
    "* `hop`\n",
    "* `hip-hop`\n",
    "\n",
    "To get rid of them, declare the function `replace_wrong_genres()` with two parameters: \n",
    "* `wrong_genres=` — the list of duplicates\n",
    "* `correct_genre=` — the string with the correct value\n",
    "\n",
    "The function should correct the names in the `'genre'` column from the `df` table, i.e. replace each value from the `wrong_genres` list with the value in `correct_genre`."
   ]
  },
  {
   "cell_type": "code",
   "execution_count": 15,
   "metadata": {
    "id": "ErNDkmns_Zct"
   },
   "outputs": [],
   "source": [
    "# function for replacing implicit duplicates\n",
    "def replace_wrong_genres(wrong_genres,correct_genre):\n",
    "    for item in wrong_genres:\n",
    "        df['genre_name']=df['genre_name'].replace(item,correct_genre)\n",
    "        "
   ]
  },
  {
   "cell_type": "markdown",
   "metadata": {
    "id": "aDoBJxbA_Zct"
   },
   "source": [
    "Call `replace_wrong_genres()` and pass it arguments so that it clears implicit duplcates (`hip`, `hop`, and `hip-hop`) and replaces them with `hiphop`:"
   ]
  },
  {
   "cell_type": "code",
   "execution_count": 16,
   "metadata": {
    "id": "YN5i2hpmSo09"
   },
   "outputs": [],
   "source": [
    "# removing implicit duplicates\n",
    "correct_genre = 'hiphop'\n",
    "wrong_genres=['hip','hop','hip-hop']\n",
    "replace_wrong_genres(wrong_genres,correct_genre)"
   ]
  },
  {
   "cell_type": "markdown",
   "metadata": {
    "id": "zQKF16_RG15m"
   },
   "source": [
    "Make sure the duplicate names were removed. Print the list of unique values from the `'genre'` column:"
   ]
  },
  {
   "cell_type": "code",
   "execution_count": 17,
   "metadata": {
    "id": "wvixALnFG15m",
    "scrolled": true
   },
   "outputs": [
    {
     "data": {
      "text/plain": [
       "array(['acid', 'acoustic', 'action', 'adult', 'africa', 'afrikaans',\n",
       "       'alternative', 'ambient', 'americana', 'animated', 'anime',\n",
       "       'arabesk', 'arabic', 'arena', 'argentinetango', 'art', 'audiobook',\n",
       "       'avantgarde', 'axé', 'baile', 'balkan', 'beats', 'bigroom',\n",
       "       'black', 'bluegrass', 'blues', 'bollywood', 'bossa', 'brazilian',\n",
       "       'breakbeat', 'breaks', 'broadway', 'cantautori', 'cantopop',\n",
       "       'canzone', 'caribbean', 'caucasian', 'celtic', 'chamber',\n",
       "       'children', 'chill', 'chinese', 'choral', 'christian', 'christmas',\n",
       "       'classical', 'classicmetal', 'club', 'colombian', 'comedy',\n",
       "       'conjazz', 'contemporary', 'country', 'cuban', 'dance',\n",
       "       'dancehall', 'dancepop', 'dark', 'death', 'deep', 'deutschrock',\n",
       "       'deutschspr', 'dirty', 'disco', 'dnb', 'documentary', 'downbeat',\n",
       "       'downtempo', 'drum', 'dub', 'dubstep', 'eastern', 'easy',\n",
       "       'electronic', 'electropop', 'emo', 'entehno', 'epicmetal',\n",
       "       'estrada', 'ethnic', 'eurofolk', 'european', 'experimental',\n",
       "       'extrememetal', 'fado', 'film', 'fitness', 'flamenco', 'folk',\n",
       "       'folklore', 'folkmetal', 'folkrock', 'folktronica', 'forró',\n",
       "       'frankreich', 'französisch', 'french', 'funk', 'future', 'gangsta',\n",
       "       'garage', 'german', 'ghazal', 'gitarre', 'glitch', 'gospel',\n",
       "       'gothic', 'grime', 'grunge', 'gypsy', 'handsup', \"hard'n'heavy\",\n",
       "       'hardcore', 'hardstyle', 'hardtechno', 'hiphop', 'historisch',\n",
       "       'holiday', 'horror', 'house', 'idm', 'independent', 'indian',\n",
       "       'indie', 'indipop', 'industrial', 'inspirational', 'instrumental',\n",
       "       'international', 'irish', 'jam', 'japanese', 'jazz', 'jewish',\n",
       "       'jpop', 'jungle', 'k-pop', 'karadeniz', 'karaoke', 'kayokyoku',\n",
       "       'korean', 'laiko', 'latin', 'latino', 'leftfield', 'local',\n",
       "       'lounge', 'loungeelectronic', 'lovers', 'malaysian', 'mandopop',\n",
       "       'marschmusik', 'meditative', 'mediterranean', 'melodic', 'metal',\n",
       "       'metalcore', 'mexican', 'middle', 'minimal', 'miscellaneous',\n",
       "       'modern', 'mood', 'mpb', 'muslim', 'native', 'neoklassik', 'neue',\n",
       "       'new', 'newage', 'newwave', 'nu', 'nujazz', 'numetal', 'oceania',\n",
       "       'old', 'opera', 'orchestral', 'other', 'piano', 'pop',\n",
       "       'popelectronic', 'popeurodance', 'post', 'posthardcore',\n",
       "       'postrock', 'power', 'progmetal', 'progressive', 'psychedelic',\n",
       "       'punjabi', 'punk', 'quebecois', 'ragga', 'ram', 'rancheras', 'rap',\n",
       "       'rave', 'reggae', 'reggaeton', 'regional', 'relax', 'religious',\n",
       "       'retro', 'rhythm', 'rnb', 'rnr', 'rock', 'rockabilly', 'romance',\n",
       "       'roots', 'ruspop', 'rusrap', 'rusrock', 'salsa', 'samba',\n",
       "       'schlager', 'self', 'sertanejo', 'shoegazing', 'showtunes',\n",
       "       'singer', 'ska', 'slow', 'smooth', 'soul', 'soulful', 'sound',\n",
       "       'soundtrack', 'southern', 'specialty', 'speech', 'spiritual',\n",
       "       'sport', 'stonerrock', 'surf', 'swing', 'synthpop',\n",
       "       'sängerportrait', 'tango', 'tanzorchester', 'taraftar', 'tech',\n",
       "       'techno', 'thrash', 'top', 'traditional', 'tradjazz', 'trance',\n",
       "       'tribal', 'trip', 'triphop', 'tropical', 'türk', 'türkçe',\n",
       "       'unknown', 'urban', 'uzbek', 'variété', 'vi', 'videogame', 'vocal',\n",
       "       'western', 'world', 'worldbeat', 'ïîï'], dtype=object)"
      ]
     },
     "execution_count": 17,
     "metadata": {},
     "output_type": "execute_result"
    }
   ],
   "source": [
    "# checking for implicit duplicates\n",
    "df['genre_name'].sort_values().unique()"
   ]
  },
  {
   "cell_type": "markdown",
   "metadata": {
    "id": "ALgNbvF3VtPA"
   },
   "source": [
    "[Back to Contents](#back)"
   ]
  },
  {
   "cell_type": "markdown",
   "metadata": {
    "id": "jz6a9-7HQUDd"
   },
   "source": [
    "### Conclusions <a id='data_preprocessing_conclusions'></a>\n",
    "We detected three issues with the data:\n",
    "\n",
    "- Incorrect header styles\n",
    "- Missing values\n",
    "- Obvious and implicit duplicates\n",
    "\n",
    "The headers have been cleaned up to make processing the table simpler.\n",
    "\n",
    "All missing values have been replaced with `'unknown'`. But we still have to see whether the missing values in `'genre'` will affect our calculations.\n",
    "\n",
    "The absence of duplicates will make the results more precise and easier to understand.\n",
    "\n",
    "Now we can move on to testing hypotheses. "
   ]
  },
  {
   "cell_type": "markdown",
   "metadata": {
    "id": "eK1es74rVujj"
   },
   "source": [
    "[Back to Contents](#back)"
   ]
  },
  {
   "cell_type": "markdown",
   "metadata": {
    "id": "WttZHXH0SqKk"
   },
   "source": [
    "## Stage 3. Testing hypotheses <a id='hypotheses'></a>"
   ]
  },
  {
   "cell_type": "markdown",
   "metadata": {
    "id": "Im936VVi_Zcu"
   },
   "source": [
    "### Hypothesis 1: comparing user behavior in two cities <a id='activity'></a>"
   ]
  },
  {
   "cell_type": "markdown",
   "metadata": {
    "id": "nwt_MuaL_Zcu"
   },
   "source": [
    "According to the first hypothesis, users from Springfield and Shelbyville listen to music differently. Test this using the data on three days of the week: Monday, Wednesday, and Friday.\n",
    "\n",
    "* Divide the users into groups by city.\n",
    "* Compare how many tracks each group played on Monday, Wednesday, and Friday.\n"
   ]
  },
  {
   "cell_type": "markdown",
   "metadata": {
    "id": "8Dw_YMmT_Zcu"
   },
   "source": [
    "Perform each computation separately. \n",
    "Evaluate user activity in each city. Group the data by city and find the number of songs played in each group.\n"
   ]
  },
  {
   "cell_type": "code",
   "execution_count": 18,
   "metadata": {
    "id": "0_Qs96oh_Zcu"
   },
   "outputs": [
    {
     "data": {
      "text/plain": [
       "user_city\n",
       "Shelbyville    18512\n",
       "Springfield    42741\n",
       "Name: track_title, dtype: int64"
      ]
     },
     "execution_count": 18,
     "metadata": {},
     "output_type": "execute_result"
    }
   ],
   "source": [
    "# Counting up the tracks played in each city\n",
    "df.groupby('user_city')['track_title'].count()"
   ]
  },
  {
   "cell_type": "markdown",
   "metadata": {
    "id": "dzli3w8o_Zcu"
   },
   "source": [
    "Springfield has more tracks played than Shelbyville. But that does not imply that citizens of Springfield listen to music more often. This city is simply bigger, and there are more users.\n",
    "\n",
    "Now group the data by day of the week and find the number of tracks played on Monday, Wednesday, and Friday.\n"
   ]
  },
  {
   "cell_type": "code",
   "execution_count": 19,
   "metadata": {
    "id": "uZMKjiJz_Zcu"
   },
   "outputs": [
    {
     "data": {
      "text/plain": [
       "day_of_week\n",
       "Friday       21840\n",
       "Monday       21354\n",
       "Wednesday    18059\n",
       "Name: track_title, dtype: int64"
      ]
     },
     "execution_count": 19,
     "metadata": {},
     "output_type": "execute_result"
    }
   ],
   "source": [
    "# Calculating tracks played on each of the three days\n",
    "df.groupby('day_of_week')['track_title'].count()"
   ]
  },
  {
   "cell_type": "markdown",
   "metadata": {
    "id": "cC2tNrlL_Zcu"
   },
   "source": [
    "Wednesday is the quietest day overall. But if we consider the two cities separately, we might come to a different conclusion."
   ]
  },
  {
   "cell_type": "markdown",
   "metadata": {
    "id": "POzs8bGa_Zcu"
   },
   "source": [
    "You have seen how grouping by city or day works. Now write a function that will group by both.\n",
    "\n",
    "Create the `number_tracks()` function to calculate the number of songs played for a given day and city. It will require two parameters:\n",
    "* day of the week\n",
    "* name of the city\n",
    "\n",
    "In the function, use a variable to store the rows from the original table, where:\n",
    "  * `'day'` column value is equal to the `day` parameter\n",
    "  * `'city'` column value is equal to the `city` parameter\n",
    "\n",
    "Apply consecutive filtering with logical indexing.\n",
    "\n",
    "Then calculate the `'user_id'` column values in the resulting table. Store the result to a new variable. Return this variable from the function."
   ]
  },
  {
   "cell_type": "code",
   "execution_count": 20,
   "metadata": {
    "id": "Nz3GdQB1_Zcu"
   },
   "outputs": [],
   "source": [
    "# <creating the function number_tracks()>\n",
    "# We'll declare a function with two parameters: day=, city=.\n",
    "# Let the track_list variable store the df rows where\n",
    "# the value in the 'day' column is equal to the day= parameter and, at the same time, \n",
    "# the value in the 'city' column is equal to the city= parameter (apply consecutive filtering \n",
    "# with logical indexing).\n",
    "# Let the track_list_count variable store the number of 'user_id' column values in track_list\n",
    "# (found with the count() method).\n",
    "# Let the function return a number: the value of track_list_count.\n",
    "\n",
    "# The function counts tracked played for a certain city and day.\n",
    "# It first retrieves the rows with the intended day from the table,\n",
    "# then filters out the rows with the intended city from the result,\n",
    "# then finds the number of 'user_id' values in the filtered table,\n",
    "# then returns that number.\n",
    "# To see what it returns, wrap the function call in print().\n",
    "def number_tracks(day,city):\n",
    "    df_day = df[df['day_of_week']==day]\n",
    "    track_list=df_day[df_day['user_city']==city]\n",
    "    track_list_count = track_list['user_id'].count()\n",
    "    return track_list_count"
   ]
  },
  {
   "cell_type": "markdown",
   "metadata": {
    "id": "ytf7xFrFJQ2r"
   },
   "source": [
    "Call `number_tracks()` six times, changing the parameter values, so that you retrieve the data on both cities for each of the three days."
   ]
  },
  {
   "cell_type": "code",
   "execution_count": 21,
   "metadata": {
    "id": "rJcRATNQ_Zcu"
   },
   "outputs": [
    {
     "data": {
      "text/plain": [
       "15740"
      ]
     },
     "execution_count": 21,
     "metadata": {},
     "output_type": "execute_result"
    }
   ],
   "source": [
    "# the number of songs played in Springfield on Monday\n",
    "number_tracks('Monday','Springfield')"
   ]
  },
  {
   "cell_type": "code",
   "execution_count": 22,
   "metadata": {
    "id": "hq_ncZ5T_Zcu"
   },
   "outputs": [
    {
     "data": {
      "text/plain": [
       "5614"
      ]
     },
     "execution_count": 22,
     "metadata": {},
     "output_type": "execute_result"
    }
   ],
   "source": [
    "# the number of songs played in Shelbyville on Monday\n",
    "number_tracks('Monday','Shelbyville')"
   ]
  },
  {
   "cell_type": "code",
   "execution_count": 23,
   "metadata": {
    "id": "_NTy2VPU_Zcu"
   },
   "outputs": [
    {
     "data": {
      "text/plain": [
       "11056"
      ]
     },
     "execution_count": 23,
     "metadata": {},
     "output_type": "execute_result"
    }
   ],
   "source": [
    "# the number of songs played in Springfield on Wednesday\n",
    "number_tracks('Wednesday','Springfield')"
   ]
  },
  {
   "cell_type": "code",
   "execution_count": 24,
   "metadata": {
    "id": "j2y3TAwo_Zcu"
   },
   "outputs": [
    {
     "data": {
      "text/plain": [
       "7003"
      ]
     },
     "execution_count": 24,
     "metadata": {},
     "output_type": "execute_result"
    }
   ],
   "source": [
    "# the number of songs played in Shelbyville on Wednesday\n",
    "number_tracks('Wednesday','Shelbyville')"
   ]
  },
  {
   "cell_type": "code",
   "execution_count": 25,
   "metadata": {
    "id": "vYDw5u_K_Zcu",
    "scrolled": true
   },
   "outputs": [
    {
     "data": {
      "text/plain": [
       "15945"
      ]
     },
     "execution_count": 25,
     "metadata": {},
     "output_type": "execute_result"
    }
   ],
   "source": [
    "# the number of songs played in Springfield on Friday\n",
    "number_tracks('Friday','Springfield')"
   ]
  },
  {
   "cell_type": "code",
   "execution_count": 26,
   "metadata": {
    "id": "8_yzFtW3_Zcu"
   },
   "outputs": [
    {
     "data": {
      "text/plain": [
       "5895"
      ]
     },
     "execution_count": 26,
     "metadata": {},
     "output_type": "execute_result"
    }
   ],
   "source": [
    "# the number of songs played in Shelbyville on Friday\n",
    "number_tracks('Friday','Shelbyville')"
   ]
  },
  {
   "cell_type": "markdown",
   "metadata": {
    "id": "7QXffbO-_Zcu"
   },
   "source": [
    "Use `pd.DataFrame` to create a table, where\n",
    "* Column names are: `['city', 'monday', 'wednesday', 'friday']`\n",
    "* The data is the results you got from `number_tracks()`"
   ]
  },
  {
   "cell_type": "code",
   "execution_count": 27,
   "metadata": {
    "id": "APAcLpOr_Zcu"
   },
   "outputs": [
    {
     "name": "stdout",
     "output_type": "stream",
     "text": [
      "          city  monday  wednesday  friday\n",
      "0  Springfield   15740      11056   15945\n",
      "1  Shelbyville    5614       7003    5895\n"
     ]
    }
   ],
   "source": [
    "# table with results\n",
    "column_name=['city', 'monday', 'wednesday', 'friday']\n",
    "updated_data=[\n",
    "    ['Springfield',15740,11056,15945],\n",
    "    ['Shelbyville',5614,7003,5895]\n",
    "]\n",
    "updated_table = pd.DataFrame(data=updated_data,columns=column_name)\n",
    "print(updated_table)"
   ]
  },
  {
   "cell_type": "markdown",
   "metadata": {
    "id": "-EgPIHYu_Zcu"
   },
   "source": [
    "**Conclusions**\n",
    "\n",
    "The data reveals differences in user behavior:\n",
    "\n",
    "- In Springfield, the number of songs played peaks on Mondays and Fridays, while on Wednesday there is a decrease in activity.\n",
    "- In Shelbyville, on the contrary, users listen to music more on Wednesday. User activity on Monday and Friday is smaller.\n",
    "\n",
    "So the first hypothesis seems to be correct."
   ]
  },
  {
   "cell_type": "markdown",
   "metadata": {
    "id": "p7nFQajCVw5B"
   },
   "source": [
    "[Back to Contents](#back)"
   ]
  },
  {
   "cell_type": "markdown",
   "metadata": {
    "id": "atZAxtq4_Zcu"
   },
   "source": [
    "### Hypothesis 2: music at the beginning and end of the week <a id='week'></a>"
   ]
  },
  {
   "cell_type": "markdown",
   "metadata": {
    "id": "eXrQqXFH_Zcu"
   },
   "source": [
    "According to the second hypothesis, on Monday morning and Friday night, citizens of Springfield listen to genres that differ from ones users from Shelbyville enjoy."
   ]
  },
  {
   "cell_type": "markdown",
   "metadata": {
    "id": "S8UcW6Hw_Zcu"
   },
   "source": [
    "Get tables (make sure that the name of your combined table matches the DataFrame given in the two code blocks below):\n",
    "* For Springfield — `spr_general`\n",
    "* For Shelbyville — `shel_general`"
   ]
  },
  {
   "cell_type": "code",
   "execution_count": 28,
   "metadata": {
    "id": "qeaFfM_P_Zcu"
   },
   "outputs": [],
   "source": [
    "# obtaining the spr_general table from the df rows, \n",
    "# where the value in the 'city' column is 'Springfield'\n",
    "\n",
    "spr_general = df[df['user_city'] == 'Springfield']"
   ]
  },
  {
   "cell_type": "code",
   "execution_count": 29,
   "metadata": {
    "id": "ORaVRKto_Zcu"
   },
   "outputs": [],
   "source": [
    "# obtaining the shel_general from the df rows,\n",
    "# where the value in the 'city' column is 'Shelbyville'\n",
    "\n",
    "shel_general = df[df['user_city'] == 'Shelbyville']"
   ]
  },
  {
   "cell_type": "markdown",
   "metadata": {
    "id": "MEJV-CX2_Zcu"
   },
   "source": [
    "Write the `genre_weekday()` function with four parameters:\n",
    "* A table for data\n",
    "* The day of the week\n",
    "* The first timestamp, in 'hh:mm' format\n",
    "* The last timestamp, in 'hh:mm' format\n",
    "\n",
    "The function should return info on the 15 most popular genres on a given day within the period between the two timestamps."
   ]
  },
  {
   "cell_type": "code",
   "execution_count": 30,
   "metadata": {
    "id": "laJT9BYl_Zcu"
   },
   "outputs": [],
   "source": [
    "# Declaring the genre_weekday() function with the parameters day=, time1=, and time2=. It should\n",
    "# return information about the most popular genres on a given day at a given time:\n",
    "\n",
    "# 1) Let the genre_df variable store the rows that meet several conditions:\n",
    "#    - the value in the 'day' column is equal to the value of the day= argument\n",
    "#    - the value in the 'time' column is greater than the value of the time1= argument\n",
    "#    - the value in the 'time' column is smaller than the value of the time2= argument\n",
    "#    Use consecutive filtering with logical indexing.\n",
    "\n",
    "# 2) Group genre_df by the 'genre' column, take one of its columns, \n",
    "#    and use the count() method to find the number of entries for each of \n",
    "#    the represented genres; store the resulting Series to the\n",
    "#    genre_df_count variable\n",
    "\n",
    "# 3) Sort genre_df_count in descending order of frequency and store the result\n",
    "#    to the genre_df_sorted variable\n",
    "\n",
    "# 4) Return a Series object with the first 15 genre_df_sorted value - the 15 most\n",
    "#    popular genres (on a given day, within a certain timeframe)\n",
    "\n",
    "def genre_weekday(df, day, time1, time2):\n",
    "    # consecutive filtering\n",
    "    # genre_df will store only those df rows where the day is equal to day=\n",
    "    genre_df = df[df['day_of_week'] == day]\n",
    "    # genre_df will store only those df rows where the time is smaller than time2=\n",
    "    genre_df = genre_df[genre_df['track_play_time'] < time2]\n",
    "    # genre_df will store only those df rows where the time is greater than time1=\n",
    "    genre_df = genre_df[genre_df['track_play_time'] > time1]\n",
    "    # group the filtered DataFrame by the column with the names of genres, take the genre column, and find the number of rows for each genre with the count() method\n",
    "    genre_df_count = genre_df.groupby('genre_name')['genre_name'].count()\n",
    "    # we will sort the result in descending order (so that the most popular genres come first in the Series object)\n",
    "    genre_df_sorted = genre_df_count.sort_values(ascending=False)\n",
    "    # we will return the Series object storing the 15 most popular genres on a given day in a given timeframe\n",
    "    return genre_df_sorted[:15]"
   ]
  },
  {
   "cell_type": "markdown",
   "metadata": {
    "id": "la2s2_PF_Zcu"
   },
   "source": [
    "Compare the results of the `genre_weekday()` function for Springfield and Shelbyville on Monday morning (from 7AM to 11AM) and on Friday evening (from 17:00 to 23:00):"
   ]
  },
  {
   "cell_type": "code",
   "execution_count": 31,
   "metadata": {
    "id": "yz7itPUQ_Zcu"
   },
   "outputs": [
    {
     "data": {
      "text/plain": [
       "genre_name\n",
       "pop            781\n",
       "dance          549\n",
       "electronic     480\n",
       "rock           474\n",
       "hiphop         286\n",
       "ruspop         186\n",
       "world          181\n",
       "rusrap         175\n",
       "alternative    164\n",
       "unknown        161\n",
       "classical      157\n",
       "metal          120\n",
       "jazz           100\n",
       "folk            97\n",
       "soundtrack      95\n",
       "Name: genre_name, dtype: int64"
      ]
     },
     "execution_count": 31,
     "metadata": {},
     "output_type": "execute_result"
    }
   ],
   "source": [
    "# calling the function for Monday morning in Springfield (use spr_general instead of the df table)\n",
    "\n",
    "genre_weekday(spr_general, 'Monday', '07:00', '11:00')"
   ]
  },
  {
   "cell_type": "code",
   "execution_count": 32,
   "metadata": {
    "id": "kwUcHPdy_Zcu"
   },
   "outputs": [
    {
     "data": {
      "text/plain": [
       "genre_name\n",
       "pop            218\n",
       "dance          182\n",
       "rock           162\n",
       "electronic     147\n",
       "hiphop          80\n",
       "ruspop          64\n",
       "alternative     58\n",
       "rusrap          55\n",
       "jazz            44\n",
       "classical       40\n",
       "world           36\n",
       "rap             32\n",
       "soundtrack      31\n",
       "metal           27\n",
       "rnb             27\n",
       "Name: genre_name, dtype: int64"
      ]
     },
     "execution_count": 32,
     "metadata": {},
     "output_type": "execute_result"
    }
   ],
   "source": [
    "# calling the function for Monday morning in Shelbyville (use shel_general instead of the df table)\n",
    "\n",
    "genre_weekday(shel_general, 'Monday', '07:00', '11:00')"
   ]
  },
  {
   "cell_type": "code",
   "execution_count": 33,
   "metadata": {
    "id": "EzXVRE1o_Zcu"
   },
   "outputs": [
    {
     "data": {
      "text/plain": [
       "genre_name\n",
       "pop            713\n",
       "rock           517\n",
       "dance          495\n",
       "electronic     482\n",
       "hiphop         273\n",
       "world          208\n",
       "ruspop         170\n",
       "classical      163\n",
       "alternative    163\n",
       "rusrap         142\n",
       "jazz           111\n",
       "unknown        110\n",
       "soundtrack     105\n",
       "rnb             90\n",
       "metal           88\n",
       "Name: genre_name, dtype: int64"
      ]
     },
     "execution_count": 33,
     "metadata": {},
     "output_type": "execute_result"
    }
   ],
   "source": [
    "# calling the function for Friday evening in Springfield\n",
    "\n",
    "genre_weekday(spr_general, 'Friday', '17:00', '23:00')"
   ]
  },
  {
   "cell_type": "code",
   "execution_count": 34,
   "metadata": {
    "id": "JZaEKu5v_Zcu"
   },
   "outputs": [
    {
     "data": {
      "text/plain": [
       "genre_name\n",
       "pop            256\n",
       "rock           216\n",
       "electronic     216\n",
       "dance          210\n",
       "hiphop          97\n",
       "alternative     63\n",
       "jazz            61\n",
       "classical       60\n",
       "rusrap          59\n",
       "world           54\n",
       "ruspop          47\n",
       "unknown         47\n",
       "soundtrack      40\n",
       "metal           39\n",
       "rap             36\n",
       "Name: genre_name, dtype: int64"
      ]
     },
     "execution_count": 34,
     "metadata": {},
     "output_type": "execute_result"
    }
   ],
   "source": [
    "# calling the function for Friday evening in Shelbyville\n",
    "\n",
    "genre_weekday(shel_general, 'Friday', '17:00', '23:00')"
   ]
  },
  {
   "cell_type": "markdown",
   "metadata": {
    "id": "wrCe4MNX_Zcu"
   },
   "source": [
    "**Conclusion**\n",
    "\n",
    "Having compared the top 15 genres on Monday morning, we can draw the following conclusions:\n",
    "\n",
    "1. Users from Springfield and Shelbyville listen to similar music. The only difference is seen for the most popular genres: in Springfield it's pop, while in Shelbyville it's jazz.\n",
    "\n",
    "2. In Springfield, the number of missing values turned out to be so big that the value `'unknown'` came in 11th. This means that missing values make up a considerable portion of the data, which may be a basis for questioning the reliability of our conclusions.\n",
    "\n",
    "For Friday evening, the situation is similar. Individual genres vary somewhat, but on the whole, the top 15 is similar for the two cities.\n",
    "\n",
    "Thus, the second hypothesis has been partially proven true:\n",
    "* Users listen to similar music at the beginning and end of the week.\n",
    "* There is no major difference between Springfield and Shelbyville. In Springfield, pop is the most popular genre, while in Shelbyville it's jazz.\n",
    "\n",
    "However, the number of missing values makes this result questionable. In Springfield, there are so many that they affect our top 15. Were we not missing these values, things might look different."
   ]
  },
  {
   "cell_type": "markdown",
   "metadata": {
    "id": "jLmXgdanVyhP"
   },
   "source": [
    "[Back to Contents](#back)"
   ]
  },
  {
   "cell_type": "markdown",
   "metadata": {
    "id": "JolODAqr_Zcu"
   },
   "source": [
    "### Hypothesis 3: genre preferences in Springfield and Shelbyville <a id='genre'></a>\n",
    "\n",
    "Hypothesis: Shelbyville loves rap music. Springfield's citizens are more into pop."
   ]
  },
  {
   "cell_type": "markdown",
   "metadata": {
    "id": "DlegSvaT_Zcu"
   },
   "source": [
    "Group the `spr_general` table by genre and find the number of songs played for each genre with the `count()` method. Then sort the result in descending order and store it to `spr_genres`."
   ]
  },
  {
   "cell_type": "code",
   "execution_count": 35,
   "metadata": {
    "id": "r19lIPke_Zcu"
   },
   "outputs": [],
   "source": [
    "# on one line: group the spr_general table by the 'genre' column, \n",
    "# count the 'genre' values with count() in the grouping, \n",
    "# sort the resulting Series in descending order, and store it to spr_genres\n",
    "spr_genres=spr_general.groupby('genre_name')['genre_name'].count()\n",
    "spr_genres=spr_genres.sort_values(ascending=False)"
   ]
  },
  {
   "cell_type": "markdown",
   "metadata": {
    "id": "6kMuomxTiIr8"
   },
   "source": [
    "Print the first 10 rows from `spr_genres`:"
   ]
  },
  {
   "cell_type": "code",
   "execution_count": 36,
   "metadata": {
    "id": "WhCSooF8_Zcv"
   },
   "outputs": [
    {
     "data": {
      "text/plain": [
       "genre_name\n",
       "pop            5892\n",
       "dance          4435\n",
       "rock           3965\n",
       "electronic     3786\n",
       "hiphop         2096\n",
       "classical      1616\n",
       "world          1432\n",
       "alternative    1379\n",
       "ruspop         1372\n",
       "rusrap         1161\n",
       "Name: genre_name, dtype: int64"
      ]
     },
     "execution_count": 36,
     "metadata": {},
     "output_type": "execute_result"
    }
   ],
   "source": [
    "# printing the first 10 rows of spr_genres\n",
    "spr_genres.head(10)"
   ]
  },
  {
   "cell_type": "markdown",
   "metadata": {
    "id": "cnPG2vnN_Zcv"
   },
   "source": [
    "Now do the same with the data on Shelbyville.\n",
    "\n",
    "Group the `shel_general` table by genre and find the number of songs played for each genre. Then sort the result in descending order and store it to the `shel_genres` table:\n"
   ]
  },
  {
   "cell_type": "code",
   "execution_count": 37,
   "metadata": {
    "id": "gluLIpE7_Zcv"
   },
   "outputs": [],
   "source": [
    "# on one line: group the shel_general table by the 'genre' column, \n",
    "# count the 'genre' values in the grouping with count(), \n",
    "# sort the resulting Series in descending order and store it to shel_genres\n",
    "shel_genres=shel_general.groupby('genre_name')['genre_name'].count()\n",
    "shel_genres=shel_genres.sort_values(ascending=False)"
   ]
  },
  {
   "cell_type": "markdown",
   "metadata": {
    "id": "5Doha_ODgyQ8"
   },
   "source": [
    "Print the first 10 rows of `shel_genres`:"
   ]
  },
  {
   "cell_type": "code",
   "execution_count": 38,
   "metadata": {
    "id": "uaGJHjVU_Zcv"
   },
   "outputs": [
    {
     "data": {
      "text/plain": [
       "genre_name\n",
       "pop            2431\n",
       "dance          1932\n",
       "rock           1879\n",
       "electronic     1736\n",
       "hiphop          960\n",
       "alternative     649\n",
       "classical       646\n",
       "rusrap          564\n",
       "ruspop          538\n",
       "world           515\n",
       "Name: genre_name, dtype: int64"
      ]
     },
     "execution_count": 38,
     "metadata": {},
     "output_type": "execute_result"
    }
   ],
   "source": [
    "# printing the first 10 rows from shel_genres\n",
    "shel_genres.head(10)"
   ]
  },
  {
   "cell_type": "markdown",
   "metadata": {
    "id": "RY51YJYu_Zcv"
   },
   "source": [
    "**Conclusion**"
   ]
  },
  {
   "cell_type": "markdown",
   "metadata": {
    "id": "nVhnJEm__Zcv"
   },
   "source": [
    "The hypothesis has been partially proven true:\n",
    "* Pop music is the most popular genre in Springfield, as expected.\n",
    "* However, rap music turned out to be equally popular in Springfield and Shelbyville.\n"
   ]
  },
  {
   "cell_type": "markdown",
   "metadata": {
    "id": "Byr0RfpPVz14"
   },
   "source": [
    "[Back to Contents](#back)"
   ]
  },
  {
   "cell_type": "markdown",
   "metadata": {
    "id": "ykKQ0N65_Zcv"
   },
   "source": [
    "# Findings <a id='end'></a>"
   ]
  },
  {
   "cell_type": "markdown",
   "metadata": {
    "id": "tjUwbHb3_Zcv"
   },
   "source": [
    "We have tested the following three hypotheses:\n",
    "\n",
    "1. User activity differs depending on the day of the week and from city to city. \n",
    "2. On Monday mornings, Springfield and Shelbyville residents listen to different genres. This is also true for Friday evenings. \n",
    "3. Springfield and Shelbyville listeners have different preferences. In Springfield, they prefer pop, while Shelbyville has more rap fans.\n",
    "\n",
    "After analyzing the data, we concluded:\n",
    "\n",
    "1. User activity in Springfield and Shelbyville depends on the day of the week, though the cities vary in different ways. \n",
    "\n",
    "The first hypothesis is fully accepted.\n",
    "\n",
    "2. Musical preferences do not vary significantly over the course of the week in both Springfield and Shelbyville. We can see small differences on Mondays:\n",
    "* Springfielders listen to more pop music.\n",
    "* In Shelbyville, people listen more to jazz.\n",
    "\n",
    "So we can only partially accept this hypothesi. We must also keep in mind that the result could have been different if not for the missing values.\n",
    "\n",
    "3. It turns out that the musical preferences of users from Springfield and Shelbyville are quite similar.\n",
    "\n",
    "The third hypothesis is rejected. If there is any difference in preferences, it cannot be seen from this data.\n",
    "\n"
   ]
  },
  {
   "cell_type": "markdown",
   "metadata": {
    "id": "Ju4AHDSgV1FE"
   },
   "source": [
    "[Back to Contents](#back)"
   ]
  }
 ],
 "metadata": {
  "ExecuteTimeLog": [
   {
    "duration": 83,
    "start_time": "2021-10-19T17:25:26.906Z"
   },
   {
    "duration": 339,
    "start_time": "2021-10-19T17:25:47.870Z"
   },
   {
    "duration": 635,
    "start_time": "2021-10-19T17:26:09.934Z"
   },
   {
    "duration": 2,
    "start_time": "2021-10-19T17:26:19.405Z"
   },
   {
    "duration": 485,
    "start_time": "2021-10-19T17:26:44.706Z"
   },
   {
    "duration": 318,
    "start_time": "2021-10-19T17:28:38.802Z"
   },
   {
    "duration": 26,
    "start_time": "2021-10-19T17:29:15.721Z"
   },
   {
    "duration": 25,
    "start_time": "2021-10-19T17:29:30.611Z"
   },
   {
    "duration": 7,
    "start_time": "2021-10-19T17:29:33.660Z"
   },
   {
    "duration": 4,
    "start_time": "2021-10-19T18:03:25.280Z"
   },
   {
    "duration": 10,
    "start_time": "2021-10-19T18:10:40.241Z"
   },
   {
    "duration": 2,
    "start_time": "2021-10-19T18:10:51.201Z"
   },
   {
    "duration": 268,
    "start_time": "2021-10-19T18:10:51.211Z"
   },
   {
    "duration": 5,
    "start_time": "2021-10-19T18:10:51.481Z"
   },
   {
    "duration": 26,
    "start_time": "2021-10-19T18:10:51.488Z"
   },
   {
    "duration": 4,
    "start_time": "2021-10-19T18:10:51.516Z"
   },
   {
    "duration": 46,
    "start_time": "2021-10-19T18:10:51.522Z"
   },
   {
    "duration": 10,
    "start_time": "2021-10-19T18:10:51.570Z"
   },
   {
    "duration": 274,
    "start_time": "2021-10-19T18:11:13.687Z"
   },
   {
    "duration": 3,
    "start_time": "2021-10-19T18:11:33.114Z"
   },
   {
    "duration": 270,
    "start_time": "2021-10-19T18:11:33.124Z"
   },
   {
    "duration": 7,
    "start_time": "2021-10-19T18:11:33.396Z"
   },
   {
    "duration": 32,
    "start_time": "2021-10-19T18:11:33.405Z"
   },
   {
    "duration": 5,
    "start_time": "2021-10-19T18:11:33.438Z"
   },
   {
    "duration": 24,
    "start_time": "2021-10-19T18:11:33.464Z"
   },
   {
    "duration": 11,
    "start_time": "2021-10-19T18:11:33.490Z"
   },
   {
    "duration": 241,
    "start_time": "2021-10-19T18:13:31.769Z"
   },
   {
    "duration": 257,
    "start_time": "2021-10-19T18:18:19.898Z"
   },
   {
    "duration": 13,
    "start_time": "2021-10-19T18:22:14.562Z"
   },
   {
    "duration": 16,
    "start_time": "2021-10-19T18:22:44.961Z"
   },
   {
    "duration": 13,
    "start_time": "2021-10-19T18:23:01.506Z"
   },
   {
    "duration": 244,
    "start_time": "2021-10-19T18:24:22.203Z"
   },
   {
    "duration": 14,
    "start_time": "2021-10-19T18:25:16.072Z"
   },
   {
    "duration": 38,
    "start_time": "2021-10-19T18:26:49.551Z"
   },
   {
    "duration": 24,
    "start_time": "2021-10-19T18:27:21.548Z"
   },
   {
    "duration": 26,
    "start_time": "2021-10-19T19:05:34.036Z"
   },
   {
    "duration": 25,
    "start_time": "2021-10-19T19:08:00.598Z"
   },
   {
    "duration": 13,
    "start_time": "2021-10-19T19:11:19.789Z"
   },
   {
    "duration": 19,
    "start_time": "2021-10-19T19:11:22.611Z"
   },
   {
    "duration": 4,
    "start_time": "2021-10-19T19:11:27.202Z"
   },
   {
    "duration": 16,
    "start_time": "2021-10-19T19:13:35.883Z"
   },
   {
    "duration": 18,
    "start_time": "2021-10-19T19:13:42.066Z"
   },
   {
    "duration": 28,
    "start_time": "2021-10-19T19:14:00.547Z"
   },
   {
    "duration": 58,
    "start_time": "2021-10-19T19:15:38.300Z"
   },
   {
    "duration": 3,
    "start_time": "2021-10-19T19:15:44.530Z"
   },
   {
    "duration": 309,
    "start_time": "2021-10-19T19:15:44.539Z"
   },
   {
    "duration": 14,
    "start_time": "2021-10-19T19:15:44.849Z"
   },
   {
    "duration": 25,
    "start_time": "2021-10-19T19:15:44.865Z"
   },
   {
    "duration": 21,
    "start_time": "2021-10-19T19:15:44.892Z"
   },
   {
    "duration": 37,
    "start_time": "2021-10-19T19:15:44.915Z"
   },
   {
    "duration": 4,
    "start_time": "2021-10-19T19:15:44.954Z"
   },
   {
    "duration": 53,
    "start_time": "2021-10-19T19:15:44.959Z"
   },
   {
    "duration": 22,
    "start_time": "2021-10-19T19:15:48.688Z"
   },
   {
    "duration": 3,
    "start_time": "2021-10-19T19:15:53.289Z"
   },
   {
    "duration": 299,
    "start_time": "2021-10-19T19:15:53.296Z"
   },
   {
    "duration": 6,
    "start_time": "2021-10-19T19:15:53.597Z"
   },
   {
    "duration": 35,
    "start_time": "2021-10-19T19:15:53.606Z"
   },
   {
    "duration": 8,
    "start_time": "2021-10-19T19:15:53.644Z"
   },
   {
    "duration": 17,
    "start_time": "2021-10-19T19:15:53.664Z"
   },
   {
    "duration": 11,
    "start_time": "2021-10-19T19:15:53.683Z"
   },
   {
    "duration": 29,
    "start_time": "2021-10-19T19:15:53.696Z"
   },
   {
    "duration": 78,
    "start_time": "2021-10-19T19:15:53.728Z"
   },
   {
    "duration": 28,
    "start_time": "2021-10-19T19:15:53.808Z"
   },
   {
    "duration": 65,
    "start_time": "2021-10-19T19:16:49.512Z"
   },
   {
    "duration": 25,
    "start_time": "2021-10-19T19:16:54.154Z"
   },
   {
    "duration": 82,
    "start_time": "2021-10-19T19:18:22.027Z"
   },
   {
    "duration": 263,
    "start_time": "2021-10-19T19:18:29.523Z"
   },
   {
    "duration": 85,
    "start_time": "2021-10-19T19:20:11.233Z"
   },
   {
    "duration": 251,
    "start_time": "2021-10-19T19:21:40.217Z"
   },
   {
    "duration": 263,
    "start_time": "2021-10-19T19:21:53.751Z"
   },
   {
    "duration": 19,
    "start_time": "2021-10-19T19:23:26.247Z"
   },
   {
    "duration": 24,
    "start_time": "2021-10-19T19:23:31.465Z"
   },
   {
    "duration": 57,
    "start_time": "2021-10-19T19:24:02.158Z"
   },
   {
    "duration": 52,
    "start_time": "2021-10-19T19:25:16.690Z"
   },
   {
    "duration": 80,
    "start_time": "2021-10-19T19:26:19.549Z"
   },
   {
    "duration": 79,
    "start_time": "2021-10-19T19:26:51.336Z"
   },
   {
    "duration": 3,
    "start_time": "2021-10-19T19:26:58.346Z"
   },
   {
    "duration": 298,
    "start_time": "2021-10-19T19:26:58.354Z"
   },
   {
    "duration": 9,
    "start_time": "2021-10-19T19:26:58.654Z"
   },
   {
    "duration": 28,
    "start_time": "2021-10-19T19:26:58.666Z"
   },
   {
    "duration": 4,
    "start_time": "2021-10-19T19:26:58.697Z"
   },
   {
    "duration": 17,
    "start_time": "2021-10-19T19:26:58.703Z"
   },
   {
    "duration": 4,
    "start_time": "2021-10-19T19:26:58.722Z"
   },
   {
    "duration": 26,
    "start_time": "2021-10-19T19:26:58.764Z"
   },
   {
    "duration": 18,
    "start_time": "2021-10-19T19:26:58.794Z"
   },
   {
    "duration": 49,
    "start_time": "2021-10-19T19:26:58.814Z"
   },
   {
    "duration": 54,
    "start_time": "2021-10-19T19:26:58.865Z"
   },
   {
    "duration": 78,
    "start_time": "2021-10-19T19:26:58.920Z"
   },
   {
    "duration": 92,
    "start_time": "2021-10-19T19:27:29.092Z"
   },
   {
    "duration": 78,
    "start_time": "2021-10-19T19:28:17.656Z"
   },
   {
    "duration": 72,
    "start_time": "2021-10-19T19:28:53.232Z"
   },
   {
    "duration": 52,
    "start_time": "2021-10-19T19:29:13.710Z"
   },
   {
    "duration": 7,
    "start_time": "2021-10-19T20:04:02.395Z"
   },
   {
    "duration": 3,
    "start_time": "2021-10-19T20:10:57.830Z"
   },
   {
    "duration": 11,
    "start_time": "2021-10-19T20:12:44.543Z"
   },
   {
    "duration": 3,
    "start_time": "2021-10-19T20:12:48.847Z"
   },
   {
    "duration": 338,
    "start_time": "2021-10-19T20:12:48.853Z"
   },
   {
    "duration": 6,
    "start_time": "2021-10-19T20:12:49.194Z"
   },
   {
    "duration": 35,
    "start_time": "2021-10-19T20:12:49.202Z"
   },
   {
    "duration": 5,
    "start_time": "2021-10-19T20:12:49.239Z"
   },
   {
    "duration": 37,
    "start_time": "2021-10-19T20:12:49.245Z"
   },
   {
    "duration": 4,
    "start_time": "2021-10-19T20:12:49.284Z"
   },
   {
    "duration": 25,
    "start_time": "2021-10-19T20:12:49.289Z"
   },
   {
    "duration": 20,
    "start_time": "2021-10-19T20:12:49.316Z"
   },
   {
    "duration": 42,
    "start_time": "2021-10-19T20:12:49.338Z"
   },
   {
    "duration": 62,
    "start_time": "2021-10-19T20:12:49.382Z"
   },
   {
    "duration": 66,
    "start_time": "2021-10-19T20:12:49.446Z"
   },
   {
    "duration": 64,
    "start_time": "2021-10-19T20:12:49.514Z"
   },
   {
    "duration": 7,
    "start_time": "2021-10-19T20:12:49.580Z"
   },
   {
    "duration": 11,
    "start_time": "2021-10-19T20:12:49.588Z"
   },
   {
    "duration": 21,
    "start_time": "2021-10-19T20:12:49.600Z"
   },
   {
    "duration": 7,
    "start_time": "2021-10-19T20:13:37.822Z"
   },
   {
    "duration": 1705,
    "start_time": "2021-10-19T20:17:29.295Z"
   },
   {
    "duration": 12,
    "start_time": "2021-10-19T20:17:54.423Z"
   },
   {
    "duration": 12,
    "start_time": "2021-10-19T20:19:16.894Z"
   },
   {
    "duration": 3,
    "start_time": "2021-10-19T20:26:38.308Z"
   },
   {
    "duration": 6219,
    "start_time": "2021-10-19T20:27:33.900Z"
   },
   {
    "duration": 4,
    "start_time": "2021-10-19T20:28:17.492Z"
   },
   {
    "duration": 18,
    "start_time": "2021-10-19T20:28:25.116Z"
   },
   {
    "duration": 14,
    "start_time": "2021-10-19T20:29:04.347Z"
   },
   {
    "duration": 16,
    "start_time": "2021-10-19T20:29:19.360Z"
   },
   {
    "duration": 16,
    "start_time": "2021-10-19T20:29:41.690Z"
   },
   {
    "duration": 19,
    "start_time": "2021-10-19T20:29:51.659Z"
   },
   {
    "duration": 17,
    "start_time": "2021-10-19T20:30:11.241Z"
   },
   {
    "duration": 300,
    "start_time": "2021-10-19T20:38:22.949Z"
   },
   {
    "duration": 249,
    "start_time": "2021-10-19T20:40:24.075Z"
   },
   {
    "duration": 5,
    "start_time": "2021-10-19T20:41:31.890Z"
   },
   {
    "duration": 6,
    "start_time": "2021-10-19T20:41:51.599Z"
   },
   {
    "duration": 5786,
    "start_time": "2021-10-19T20:43:41.910Z"
   },
   {
    "duration": 13,
    "start_time": "2021-10-19T20:44:07.476Z"
   },
   {
    "duration": 15,
    "start_time": "2021-10-19T20:44:12.919Z"
   },
   {
    "duration": 11,
    "start_time": "2021-10-19T20:44:20.374Z"
   },
   {
    "duration": 4,
    "start_time": "2021-10-19T21:13:20.506Z"
   },
   {
    "duration": 19,
    "start_time": "2021-10-19T21:13:35.218Z"
   },
   {
    "duration": 13,
    "start_time": "2021-10-19T21:13:46.714Z"
   },
   {
    "duration": 24,
    "start_time": "2021-10-19T21:13:53.004Z"
   },
   {
    "duration": 16,
    "start_time": "2021-10-19T21:13:57.227Z"
   },
   {
    "duration": 8,
    "start_time": "2021-10-19T21:16:55.040Z"
   },
   {
    "duration": 5,
    "start_time": "2021-10-19T21:17:19.042Z"
   },
   {
    "duration": 254,
    "start_time": "2021-10-19T21:19:47.307Z"
   },
   {
    "duration": 240,
    "start_time": "2021-10-19T21:20:09.488Z"
   },
   {
    "duration": 18,
    "start_time": "2021-10-19T21:20:19.968Z"
   },
   {
    "duration": 8,
    "start_time": "2021-10-19T21:20:29.101Z"
   },
   {
    "duration": 14,
    "start_time": "2021-10-19T21:20:50.178Z"
   },
   {
    "duration": 7,
    "start_time": "2021-10-19T21:20:55.779Z"
   },
   {
    "duration": 231,
    "start_time": "2021-10-19T21:22:10.088Z"
   },
   {
    "duration": 7,
    "start_time": "2021-10-19T21:22:18.028Z"
   },
   {
    "duration": 5,
    "start_time": "2021-10-19T21:22:22.283Z"
   },
   {
    "duration": 834,
    "start_time": "2021-10-20T15:09:29.197Z"
   },
   {
    "duration": 398,
    "start_time": "2021-10-20T15:09:34.511Z"
   },
   {
    "duration": 11,
    "start_time": "2021-10-20T15:09:34.911Z"
   },
   {
    "duration": 51,
    "start_time": "2021-10-20T15:09:34.924Z"
   },
   {
    "duration": 5,
    "start_time": "2021-10-20T15:09:34.978Z"
   },
   {
    "duration": 29,
    "start_time": "2021-10-20T15:09:34.985Z"
   },
   {
    "duration": 5,
    "start_time": "2021-10-20T15:09:35.016Z"
   },
   {
    "duration": 67,
    "start_time": "2021-10-20T15:09:35.023Z"
   },
   {
    "duration": 21,
    "start_time": "2021-10-20T15:09:35.094Z"
   },
   {
    "duration": 51,
    "start_time": "2021-10-20T15:09:35.118Z"
   },
   {
    "duration": 101,
    "start_time": "2021-10-20T15:09:35.172Z"
   },
   {
    "duration": 103,
    "start_time": "2021-10-20T15:09:35.276Z"
   },
   {
    "duration": 94,
    "start_time": "2021-10-20T15:09:35.382Z"
   },
   {
    "duration": 10,
    "start_time": "2021-10-20T15:09:35.479Z"
   },
   {
    "duration": 4,
    "start_time": "2021-10-20T15:09:35.491Z"
   },
   {
    "duration": 35,
    "start_time": "2021-10-20T15:09:35.497Z"
   },
   {
    "duration": 13,
    "start_time": "2021-10-20T15:09:35.535Z"
   },
   {
    "duration": 31,
    "start_time": "2021-10-20T15:09:35.550Z"
   },
   {
    "duration": 15,
    "start_time": "2021-10-20T15:09:35.584Z"
   },
   {
    "duration": 5,
    "start_time": "2021-10-20T15:09:35.601Z"
   },
   {
    "duration": 58,
    "start_time": "2021-10-20T15:09:35.609Z"
   },
   {
    "duration": 26,
    "start_time": "2021-10-20T15:09:35.670Z"
   },
   {
    "duration": 18,
    "start_time": "2021-10-20T15:09:35.698Z"
   },
   {
    "duration": 49,
    "start_time": "2021-10-20T15:09:35.720Z"
   },
   {
    "duration": 20,
    "start_time": "2021-10-20T15:09:35.771Z"
   },
   {
    "duration": 19,
    "start_time": "2021-10-20T15:09:35.793Z"
   },
   {
    "duration": 9,
    "start_time": "2021-10-20T15:09:35.814Z"
   },
   {
    "duration": 50,
    "start_time": "2021-10-20T15:09:35.826Z"
   },
   {
    "duration": 14,
    "start_time": "2021-10-20T15:09:35.879Z"
   },
   {
    "duration": 5,
    "start_time": "2021-10-20T15:09:35.896Z"
   },
   {
    "duration": 27,
    "start_time": "2021-10-20T15:09:35.904Z"
   },
   {
    "duration": 49,
    "start_time": "2021-10-20T15:09:35.933Z"
   },
   {
    "duration": 24,
    "start_time": "2021-10-20T15:09:35.984Z"
   },
   {
    "duration": 18,
    "start_time": "2021-10-20T15:09:36.010Z"
   },
   {
    "duration": 44,
    "start_time": "2021-10-20T15:09:36.030Z"
   },
   {
    "duration": 6,
    "start_time": "2021-10-20T15:09:36.077Z"
   },
   {
    "duration": 11,
    "start_time": "2021-10-20T15:09:36.086Z"
   },
   {
    "duration": 6,
    "start_time": "2021-10-20T15:09:36.100Z"
   },
   {
    "duration": 355,
    "start_time": "2021-10-21T03:51:09.061Z"
   },
   {
    "duration": 739,
    "start_time": "2021-10-21T03:51:16.989Z"
   },
   {
    "duration": 372,
    "start_time": "2021-10-21T03:51:17.731Z"
   },
   {
    "duration": 10,
    "start_time": "2021-10-21T03:51:18.108Z"
   },
   {
    "duration": 54,
    "start_time": "2021-10-21T03:51:18.122Z"
   },
   {
    "duration": 7,
    "start_time": "2021-10-21T03:51:18.179Z"
   },
   {
    "duration": 35,
    "start_time": "2021-10-21T03:51:18.188Z"
   },
   {
    "duration": 7,
    "start_time": "2021-10-21T03:51:18.226Z"
   },
   {
    "duration": 31,
    "start_time": "2021-10-21T03:51:18.269Z"
   },
   {
    "duration": 21,
    "start_time": "2021-10-21T03:51:18.303Z"
   },
   {
    "duration": 52,
    "start_time": "2021-10-21T03:51:18.327Z"
   },
   {
    "duration": 122,
    "start_time": "2021-10-21T03:51:18.382Z"
   },
   {
    "duration": 95,
    "start_time": "2021-10-21T03:51:18.506Z"
   },
   {
    "duration": 92,
    "start_time": "2021-10-21T03:51:18.604Z"
   },
   {
    "duration": 71,
    "start_time": "2021-10-21T03:51:18.699Z"
   },
   {
    "duration": 3,
    "start_time": "2021-10-21T03:54:58.228Z"
   },
   {
    "duration": 374,
    "start_time": "2021-10-21T03:54:58.237Z"
   },
   {
    "duration": 9,
    "start_time": "2021-10-21T03:54:58.614Z"
   },
   {
    "duration": 50,
    "start_time": "2021-10-21T03:54:58.627Z"
   },
   {
    "duration": 5,
    "start_time": "2021-10-21T03:54:58.680Z"
   },
   {
    "duration": 23,
    "start_time": "2021-10-21T03:54:58.688Z"
   },
   {
    "duration": 6,
    "start_time": "2021-10-21T03:54:58.714Z"
   },
   {
    "duration": 72,
    "start_time": "2021-10-21T03:54:58.722Z"
   },
   {
    "duration": 22,
    "start_time": "2021-10-21T03:54:58.798Z"
   },
   {
    "duration": 50,
    "start_time": "2021-10-21T03:54:58.823Z"
   },
   {
    "duration": 94,
    "start_time": "2021-10-21T03:54:58.875Z"
   },
   {
    "duration": 100,
    "start_time": "2021-10-21T03:54:58.971Z"
   },
   {
    "duration": 73,
    "start_time": "2021-10-21T03:54:59.074Z"
   },
   {
    "duration": 58,
    "start_time": "2021-10-21T03:54:59.166Z"
   },
   {
    "duration": 4,
    "start_time": "2021-10-21T03:54:59.227Z"
   },
   {
    "duration": 41,
    "start_time": "2021-10-21T03:54:59.233Z"
   },
   {
    "duration": 4,
    "start_time": "2021-10-21T03:55:11.710Z"
   },
   {
    "duration": 373,
    "start_time": "2021-10-21T03:55:11.720Z"
   },
   {
    "duration": 10,
    "start_time": "2021-10-21T03:55:12.096Z"
   },
   {
    "duration": 33,
    "start_time": "2021-10-21T03:55:12.109Z"
   },
   {
    "duration": 5,
    "start_time": "2021-10-21T03:55:12.169Z"
   },
   {
    "duration": 27,
    "start_time": "2021-10-21T03:55:12.177Z"
   },
   {
    "duration": 6,
    "start_time": "2021-10-21T03:55:12.206Z"
   },
   {
    "duration": 60,
    "start_time": "2021-10-21T03:55:12.214Z"
   },
   {
    "duration": 22,
    "start_time": "2021-10-21T03:55:12.278Z"
   },
   {
    "duration": 31,
    "start_time": "2021-10-21T03:55:12.303Z"
   },
   {
    "duration": 107,
    "start_time": "2021-10-21T03:55:12.336Z"
   },
   {
    "duration": 99,
    "start_time": "2021-10-21T03:55:12.445Z"
   },
   {
    "duration": 99,
    "start_time": "2021-10-21T03:55:12.546Z"
   },
   {
    "duration": 66,
    "start_time": "2021-10-21T03:55:12.648Z"
   },
   {
    "duration": 4,
    "start_time": "2021-10-21T03:55:12.716Z"
   },
   {
    "duration": 23,
    "start_time": "2021-10-21T03:55:12.722Z"
   },
   {
    "duration": 3,
    "start_time": "2021-10-21T03:55:18.509Z"
   },
   {
    "duration": 396,
    "start_time": "2021-10-21T03:55:18.519Z"
   },
   {
    "duration": 11,
    "start_time": "2021-10-21T03:55:18.918Z"
   },
   {
    "duration": 59,
    "start_time": "2021-10-21T03:55:18.933Z"
   },
   {
    "duration": 7,
    "start_time": "2021-10-21T03:55:18.996Z"
   },
   {
    "duration": 25,
    "start_time": "2021-10-21T03:55:19.006Z"
   },
   {
    "duration": 35,
    "start_time": "2021-10-21T03:55:19.034Z"
   },
   {
    "duration": 36,
    "start_time": "2021-10-21T03:55:19.071Z"
   },
   {
    "duration": 23,
    "start_time": "2021-10-21T03:55:19.112Z"
   },
   {
    "duration": 56,
    "start_time": "2021-10-21T03:55:19.137Z"
   },
   {
    "duration": 99,
    "start_time": "2021-10-21T03:55:19.196Z"
   },
   {
    "duration": 92,
    "start_time": "2021-10-21T03:55:19.298Z"
   },
   {
    "duration": 84,
    "start_time": "2021-10-21T03:55:19.392Z"
   },
   {
    "duration": 59,
    "start_time": "2021-10-21T03:55:19.479Z"
   },
   {
    "duration": 4,
    "start_time": "2021-10-21T03:55:19.540Z"
   },
   {
    "duration": 34,
    "start_time": "2021-10-21T03:55:19.546Z"
   },
   {
    "duration": 60,
    "start_time": "2021-10-21T03:56:05.208Z"
   },
   {
    "duration": 5,
    "start_time": "2021-10-21T04:06:54.108Z"
   },
   {
    "duration": 24,
    "start_time": "2021-10-21T04:07:07.534Z"
   },
   {
    "duration": 20,
    "start_time": "2021-10-21T04:07:14.118Z"
   },
   {
    "duration": 22,
    "start_time": "2021-10-21T04:07:19.112Z"
   },
   {
    "duration": 20,
    "start_time": "2021-10-21T04:07:26.459Z"
   },
   {
    "duration": 22,
    "start_time": "2021-10-21T04:07:32.932Z"
   },
   {
    "duration": 21,
    "start_time": "2021-10-21T04:07:37.524Z"
   },
   {
    "duration": 9,
    "start_time": "2021-10-21T04:09:34.371Z"
   },
   {
    "duration": 6,
    "start_time": "2021-10-21T04:11:07.627Z"
   },
   {
    "duration": 6,
    "start_time": "2021-10-21T04:15:47.454Z"
   },
   {
    "duration": 6,
    "start_time": "2021-10-21T04:15:52.857Z"
   },
   {
    "duration": 294,
    "start_time": "2021-10-21T04:16:12.921Z"
   },
   {
    "duration": 3,
    "start_time": "2021-10-21T04:16:19.747Z"
   },
   {
    "duration": 400,
    "start_time": "2021-10-21T04:16:19.758Z"
   },
   {
    "duration": 10,
    "start_time": "2021-10-21T04:16:20.168Z"
   },
   {
    "duration": 35,
    "start_time": "2021-10-21T04:16:20.181Z"
   },
   {
    "duration": 6,
    "start_time": "2021-10-21T04:16:20.219Z"
   },
   {
    "duration": 55,
    "start_time": "2021-10-21T04:16:20.228Z"
   },
   {
    "duration": 5,
    "start_time": "2021-10-21T04:16:20.286Z"
   },
   {
    "duration": 33,
    "start_time": "2021-10-21T04:16:20.293Z"
   },
   {
    "duration": 52,
    "start_time": "2021-10-21T04:16:20.330Z"
   },
   {
    "duration": 31,
    "start_time": "2021-10-21T04:16:20.385Z"
   },
   {
    "duration": 102,
    "start_time": "2021-10-21T04:16:20.419Z"
   },
   {
    "duration": 103,
    "start_time": "2021-10-21T04:16:20.523Z"
   },
   {
    "duration": 103,
    "start_time": "2021-10-21T04:16:20.628Z"
   },
   {
    "duration": 64,
    "start_time": "2021-10-21T04:16:20.733Z"
   },
   {
    "duration": 5,
    "start_time": "2021-10-21T04:16:20.799Z"
   },
   {
    "duration": 19,
    "start_time": "2021-10-21T04:16:20.806Z"
   },
   {
    "duration": 82,
    "start_time": "2021-10-21T04:16:20.828Z"
   },
   {
    "duration": 17,
    "start_time": "2021-10-21T04:16:20.913Z"
   },
   {
    "duration": 37,
    "start_time": "2021-10-21T04:16:20.932Z"
   },
   {
    "duration": 4,
    "start_time": "2021-10-21T04:16:20.971Z"
   },
   {
    "duration": 38,
    "start_time": "2021-10-21T04:16:20.977Z"
   },
   {
    "duration": 21,
    "start_time": "2021-10-21T04:16:21.017Z"
   },
   {
    "duration": 44,
    "start_time": "2021-10-21T04:16:21.040Z"
   },
   {
    "duration": 18,
    "start_time": "2021-10-21T04:16:21.089Z"
   },
   {
    "duration": 22,
    "start_time": "2021-10-21T04:16:21.110Z"
   },
   {
    "duration": 21,
    "start_time": "2021-10-21T04:16:21.167Z"
   },
   {
    "duration": 9,
    "start_time": "2021-10-21T04:16:21.190Z"
   },
   {
    "duration": 18,
    "start_time": "2021-10-21T04:16:21.201Z"
   },
   {
    "duration": 51,
    "start_time": "2021-10-21T04:16:21.221Z"
   },
   {
    "duration": 8,
    "start_time": "2021-10-21T04:16:21.275Z"
   },
   {
    "duration": 27,
    "start_time": "2021-10-21T04:16:21.286Z"
   },
   {
    "duration": 17,
    "start_time": "2021-10-21T04:16:30.427Z"
   },
   {
    "duration": 26,
    "start_time": "2021-10-21T04:16:40.298Z"
   },
   {
    "duration": 18,
    "start_time": "2021-10-21T04:16:45.891Z"
   },
   {
    "duration": 15,
    "start_time": "2021-10-21T04:20:11.259Z"
   },
   {
    "duration": 4,
    "start_time": "2021-10-21T04:20:15.731Z"
   },
   {
    "duration": 403,
    "start_time": "2021-10-21T04:20:15.747Z"
   },
   {
    "duration": 17,
    "start_time": "2021-10-21T04:20:16.152Z"
   },
   {
    "duration": 35,
    "start_time": "2021-10-21T04:20:16.172Z"
   },
   {
    "duration": 5,
    "start_time": "2021-10-21T04:20:16.210Z"
   },
   {
    "duration": 64,
    "start_time": "2021-10-21T04:20:16.217Z"
   },
   {
    "duration": 6,
    "start_time": "2021-10-21T04:20:16.283Z"
   },
   {
    "duration": 34,
    "start_time": "2021-10-21T04:20:16.291Z"
   },
   {
    "duration": 48,
    "start_time": "2021-10-21T04:20:16.328Z"
   },
   {
    "duration": 30,
    "start_time": "2021-10-21T04:20:16.380Z"
   },
   {
    "duration": 103,
    "start_time": "2021-10-21T04:20:16.413Z"
   },
   {
    "duration": 131,
    "start_time": "2021-10-21T04:20:16.518Z"
   },
   {
    "duration": 83,
    "start_time": "2021-10-21T04:20:16.651Z"
   },
   {
    "duration": 67,
    "start_time": "2021-10-21T04:20:16.736Z"
   },
   {
    "duration": 4,
    "start_time": "2021-10-21T04:20:16.806Z"
   },
   {
    "duration": 15,
    "start_time": "2021-10-21T04:20:16.812Z"
   },
   {
    "duration": 84,
    "start_time": "2021-10-21T04:20:16.830Z"
   },
   {
    "duration": 16,
    "start_time": "2021-10-21T04:20:16.917Z"
   },
   {
    "duration": 36,
    "start_time": "2021-10-21T04:20:16.935Z"
   },
   {
    "duration": 5,
    "start_time": "2021-10-21T04:20:16.973Z"
   },
   {
    "duration": 32,
    "start_time": "2021-10-21T04:20:16.980Z"
   },
   {
    "duration": 20,
    "start_time": "2021-10-21T04:20:17.014Z"
   },
   {
    "duration": 48,
    "start_time": "2021-10-21T04:20:17.037Z"
   },
   {
    "duration": 20,
    "start_time": "2021-10-21T04:20:17.088Z"
   },
   {
    "duration": 23,
    "start_time": "2021-10-21T04:20:17.110Z"
   },
   {
    "duration": 22,
    "start_time": "2021-10-21T04:20:17.167Z"
   },
   {
    "duration": 10,
    "start_time": "2021-10-21T04:20:17.191Z"
   },
   {
    "duration": 20,
    "start_time": "2021-10-21T04:20:17.205Z"
   },
   {
    "duration": 52,
    "start_time": "2021-10-21T04:20:17.228Z"
   },
   {
    "duration": 6,
    "start_time": "2021-10-21T04:20:17.282Z"
   },
   {
    "duration": 34,
    "start_time": "2021-10-21T04:20:17.290Z"
   },
   {
    "duration": 40,
    "start_time": "2021-10-21T04:20:17.327Z"
   },
   {
    "duration": 252,
    "start_time": "2021-10-21T04:21:09.579Z"
   },
   {
    "duration": 3,
    "start_time": "2021-10-21T04:21:13.394Z"
   },
   {
    "duration": 407,
    "start_time": "2021-10-21T04:21:13.403Z"
   },
   {
    "duration": 10,
    "start_time": "2021-10-21T04:21:13.814Z"
   },
   {
    "duration": 61,
    "start_time": "2021-10-21T04:21:13.828Z"
   },
   {
    "duration": 7,
    "start_time": "2021-10-21T04:21:13.892Z"
   },
   {
    "duration": 30,
    "start_time": "2021-10-21T04:21:13.902Z"
   },
   {
    "duration": 7,
    "start_time": "2021-10-21T04:21:13.968Z"
   },
   {
    "duration": 34,
    "start_time": "2021-10-21T04:21:13.977Z"
   },
   {
    "duration": 23,
    "start_time": "2021-10-21T04:21:14.015Z"
   },
   {
    "duration": 31,
    "start_time": "2021-10-21T04:21:14.068Z"
   },
   {
    "duration": 98,
    "start_time": "2021-10-21T04:21:14.102Z"
   },
   {
    "duration": 101,
    "start_time": "2021-10-21T04:21:14.202Z"
   },
   {
    "duration": 88,
    "start_time": "2021-10-21T04:21:14.305Z"
   },
   {
    "duration": 72,
    "start_time": "2021-10-21T04:21:14.396Z"
   },
   {
    "duration": 4,
    "start_time": "2021-10-21T04:21:14.470Z"
   },
   {
    "duration": 18,
    "start_time": "2021-10-21T04:21:14.476Z"
   },
   {
    "duration": 84,
    "start_time": "2021-10-21T04:21:14.496Z"
   },
   {
    "duration": 16,
    "start_time": "2021-10-21T04:21:14.582Z"
   },
   {
    "duration": 16,
    "start_time": "2021-10-21T04:21:14.600Z"
   },
   {
    "duration": 4,
    "start_time": "2021-10-21T04:21:14.618Z"
   },
   {
    "duration": 58,
    "start_time": "2021-10-21T04:21:14.624Z"
   },
   {
    "duration": 20,
    "start_time": "2021-10-21T04:21:14.684Z"
   },
   {
    "duration": 22,
    "start_time": "2021-10-21T04:21:14.706Z"
   },
   {
    "duration": 48,
    "start_time": "2021-10-21T04:21:14.732Z"
   },
   {
    "duration": 23,
    "start_time": "2021-10-21T04:21:14.783Z"
   },
   {
    "duration": 20,
    "start_time": "2021-10-21T04:21:14.808Z"
   },
   {
    "duration": 42,
    "start_time": "2021-10-21T04:21:14.830Z"
   },
   {
    "duration": 21,
    "start_time": "2021-10-21T04:21:14.875Z"
   },
   {
    "duration": 15,
    "start_time": "2021-10-21T04:21:14.899Z"
   },
   {
    "duration": 5,
    "start_time": "2021-10-21T04:21:14.916Z"
   },
   {
    "duration": 60,
    "start_time": "2021-10-21T04:21:14.924Z"
   },
   {
    "duration": 17,
    "start_time": "2021-10-21T04:21:14.986Z"
   },
   {
    "duration": 27,
    "start_time": "2021-10-21T04:21:15.006Z"
   },
   {
    "duration": 47,
    "start_time": "2021-10-21T04:21:15.035Z"
   },
   {
    "duration": 11,
    "start_time": "2021-10-21T04:21:15.084Z"
   },
   {
    "duration": 11,
    "start_time": "2021-10-21T04:21:15.098Z"
   },
   {
    "duration": 12,
    "start_time": "2021-10-21T04:21:27.890Z"
   },
   {
    "duration": 7,
    "start_time": "2021-10-21T04:21:31.912Z"
   },
   {
    "duration": 9,
    "start_time": "2021-10-21T04:21:38.794Z"
   },
   {
    "duration": 7,
    "start_time": "2021-10-21T04:21:41.729Z"
   },
   {
    "duration": 3,
    "start_time": "2021-10-21T04:25:59.008Z"
   },
   {
    "duration": 361,
    "start_time": "2021-10-21T04:26:02.154Z"
   },
   {
    "duration": 10,
    "start_time": "2021-10-21T04:26:07.616Z"
   },
   {
    "duration": 33,
    "start_time": "2021-10-21T04:26:07.833Z"
   },
   {
    "duration": 7,
    "start_time": "2021-10-21T04:26:07.869Z"
   },
   {
    "duration": 20,
    "start_time": "2021-10-21T04:26:07.879Z"
   },
   {
    "duration": 5,
    "start_time": "2021-10-21T04:26:07.903Z"
   },
   {
    "duration": 65,
    "start_time": "2021-10-21T04:26:07.911Z"
   },
   {
    "duration": 24,
    "start_time": "2021-10-21T04:26:07.978Z"
   },
   {
    "duration": 33,
    "start_time": "2021-10-21T04:26:08.004Z"
   },
   {
    "duration": 80,
    "start_time": "2021-10-21T04:26:08.068Z"
   },
   {
    "duration": 102,
    "start_time": "2021-10-21T04:26:08.151Z"
   },
   {
    "duration": 89,
    "start_time": "2021-10-21T04:26:08.256Z"
   },
   {
    "duration": 73,
    "start_time": "2021-10-21T04:26:08.347Z"
   },
   {
    "duration": 3,
    "start_time": "2021-10-21T04:26:08.423Z"
   },
   {
    "duration": 16,
    "start_time": "2021-10-21T04:26:08.428Z"
   },
   {
    "duration": 79,
    "start_time": "2021-10-21T04:26:08.446Z"
   },
   {
    "duration": 17,
    "start_time": "2021-10-21T04:26:08.527Z"
   },
   {
    "duration": 17,
    "start_time": "2021-10-21T04:26:08.568Z"
   },
   {
    "duration": 5,
    "start_time": "2021-10-21T04:26:08.588Z"
   },
   {
    "duration": 32,
    "start_time": "2021-10-21T04:26:08.595Z"
   },
   {
    "duration": 49,
    "start_time": "2021-10-21T04:26:08.630Z"
   },
   {
    "duration": 19,
    "start_time": "2021-10-21T04:26:08.682Z"
   },
   {
    "duration": 18,
    "start_time": "2021-10-21T04:26:08.704Z"
   },
   {
    "duration": 56,
    "start_time": "2021-10-21T04:26:08.724Z"
   },
   {
    "duration": 19,
    "start_time": "2021-10-21T04:26:08.783Z"
   },
   {
    "duration": 9,
    "start_time": "2021-10-21T04:26:08.805Z"
   },
   {
    "duration": 66,
    "start_time": "2021-10-21T04:26:08.816Z"
   },
   {
    "duration": 16,
    "start_time": "2021-10-21T04:26:08.885Z"
   },
   {
    "duration": 5,
    "start_time": "2021-10-21T04:26:08.907Z"
   },
   {
    "duration": 33,
    "start_time": "2021-10-21T04:26:08.915Z"
   },
   {
    "duration": 16,
    "start_time": "2021-10-21T04:26:08.968Z"
   },
   {
    "duration": 28,
    "start_time": "2021-10-21T04:26:08.986Z"
   },
   {
    "duration": 52,
    "start_time": "2021-10-21T04:26:09.017Z"
   },
   {
    "duration": 11,
    "start_time": "2021-10-21T04:26:09.071Z"
   },
   {
    "duration": 6,
    "start_time": "2021-10-21T04:26:09.085Z"
   },
   {
    "duration": 8,
    "start_time": "2021-10-21T04:26:09.094Z"
   },
   {
    "duration": 6,
    "start_time": "2021-10-21T04:26:09.105Z"
   },
   {
    "duration": 6,
    "start_time": "2021-10-21T04:26:17.464Z"
   },
   {
    "duration": 27,
    "start_time": "2021-10-21T04:26:17.474Z"
   },
   {
    "duration": 18,
    "start_time": "2021-10-21T04:26:17.505Z"
   },
   {
    "duration": 63,
    "start_time": "2021-10-21T04:26:17.526Z"
   },
   {
    "duration": 20,
    "start_time": "2021-10-21T04:26:17.592Z"
   },
   {
    "duration": 52,
    "start_time": "2021-10-21T04:26:17.615Z"
   },
   {
    "duration": 7,
    "start_time": "2021-10-21T04:26:17.671Z"
   },
   {
    "duration": 10,
    "start_time": "2021-10-21T04:26:17.682Z"
   },
   {
    "duration": 8,
    "start_time": "2021-10-21T04:26:17.695Z"
   },
   {
    "duration": 13,
    "start_time": "2021-10-21T04:26:21.366Z"
   },
   {
    "duration": 7,
    "start_time": "2021-10-21T04:26:25.496Z"
   },
   {
    "duration": 10,
    "start_time": "2021-10-21T04:26:25.512Z"
   },
   {
    "duration": 7,
    "start_time": "2021-10-21T04:26:25.525Z"
   },
   {
    "duration": 31,
    "start_time": "2021-10-21T15:42:13.153Z"
   },
   {
    "duration": 365,
    "start_time": "2021-10-21T15:42:13.186Z"
   },
   {
    "duration": 9,
    "start_time": "2021-10-21T15:42:13.553Z"
   },
   {
    "duration": 57,
    "start_time": "2021-10-21T15:42:13.564Z"
   },
   {
    "duration": 15,
    "start_time": "2021-10-21T15:42:13.630Z"
   },
   {
    "duration": 43,
    "start_time": "2021-10-21T15:42:13.649Z"
   },
   {
    "duration": 5,
    "start_time": "2021-10-21T15:42:13.695Z"
   },
   {
    "duration": 40,
    "start_time": "2021-10-21T15:42:13.703Z"
   },
   {
    "duration": 40,
    "start_time": "2021-10-21T15:42:13.746Z"
   },
   {
    "duration": 30,
    "start_time": "2021-10-21T15:42:13.788Z"
   },
   {
    "duration": 95,
    "start_time": "2021-10-21T15:42:13.820Z"
   },
   {
    "duration": 88,
    "start_time": "2021-10-21T15:42:13.918Z"
   },
   {
    "duration": 90,
    "start_time": "2021-10-21T15:42:14.010Z"
   },
   {
    "duration": 81,
    "start_time": "2021-10-21T15:42:14.103Z"
   },
   {
    "duration": 4,
    "start_time": "2021-10-21T15:42:14.186Z"
   },
   {
    "duration": 22,
    "start_time": "2021-10-21T15:42:14.192Z"
   },
   {
    "duration": 67,
    "start_time": "2021-10-21T15:42:14.217Z"
   },
   {
    "duration": 19,
    "start_time": "2021-10-21T15:42:14.286Z"
   },
   {
    "duration": 14,
    "start_time": "2021-10-21T15:42:14.307Z"
   },
   {
    "duration": 13,
    "start_time": "2021-10-21T15:42:14.323Z"
   },
   {
    "duration": 53,
    "start_time": "2021-10-21T15:42:14.338Z"
   },
   {
    "duration": 19,
    "start_time": "2021-10-21T15:42:14.393Z"
   },
   {
    "duration": 20,
    "start_time": "2021-10-21T15:42:14.414Z"
   },
   {
    "duration": 17,
    "start_time": "2021-10-21T15:42:14.437Z"
   },
   {
    "duration": 31,
    "start_time": "2021-10-21T15:42:14.482Z"
   },
   {
    "duration": 19,
    "start_time": "2021-10-21T15:42:14.515Z"
   },
   {
    "duration": 9,
    "start_time": "2021-10-21T15:42:14.536Z"
   },
   {
    "duration": 45,
    "start_time": "2021-10-21T15:42:14.547Z"
   },
   {
    "duration": 17,
    "start_time": "2021-10-21T15:42:14.595Z"
   },
   {
    "duration": 5,
    "start_time": "2021-10-21T15:42:14.615Z"
   },
   {
    "duration": 35,
    "start_time": "2021-10-21T15:42:14.623Z"
   },
   {
    "duration": 34,
    "start_time": "2021-10-21T15:42:14.661Z"
   },
   {
    "duration": 49,
    "start_time": "2021-10-21T15:42:14.698Z"
   },
   {
    "duration": 16,
    "start_time": "2021-10-21T15:42:14.750Z"
   },
   {
    "duration": 23,
    "start_time": "2021-10-21T15:42:14.769Z"
   },
   {
    "duration": 34,
    "start_time": "2021-10-21T15:42:14.794Z"
   },
   {
    "duration": 29,
    "start_time": "2021-10-21T15:42:14.831Z"
   },
   {
    "duration": 9,
    "start_time": "2021-10-21T15:42:14.862Z"
   },
   {
    "duration": 714,
    "start_time": "2021-10-21T15:42:41.392Z"
   },
   {
    "duration": 344,
    "start_time": "2021-10-21T15:42:42.109Z"
   },
   {
    "duration": 10,
    "start_time": "2021-10-21T15:42:42.456Z"
   },
   {
    "duration": 30,
    "start_time": "2021-10-21T15:42:42.484Z"
   },
   {
    "duration": 5,
    "start_time": "2021-10-21T15:42:42.517Z"
   },
   {
    "duration": 28,
    "start_time": "2021-10-21T15:42:42.525Z"
   },
   {
    "duration": 5,
    "start_time": "2021-10-21T15:42:42.583Z"
   },
   {
    "duration": 32,
    "start_time": "2021-10-21T15:42:42.592Z"
   },
   {
    "duration": 23,
    "start_time": "2021-10-21T15:42:42.627Z"
   },
   {
    "duration": 58,
    "start_time": "2021-10-21T15:42:42.653Z"
   },
   {
    "duration": 104,
    "start_time": "2021-10-21T15:42:42.714Z"
   },
   {
    "duration": 97,
    "start_time": "2021-10-21T15:42:42.820Z"
   },
   {
    "duration": 80,
    "start_time": "2021-10-21T15:42:42.919Z"
   },
   {
    "duration": 56,
    "start_time": "2021-10-21T15:42:43.002Z"
   },
   {
    "duration": 4,
    "start_time": "2021-10-21T15:42:43.060Z"
   },
   {
    "duration": 18,
    "start_time": "2021-10-21T15:42:43.084Z"
   },
   {
    "duration": 83,
    "start_time": "2021-10-21T15:42:43.105Z"
   },
   {
    "duration": 17,
    "start_time": "2021-10-21T15:42:43.191Z"
   },
   {
    "duration": 13,
    "start_time": "2021-10-21T15:42:43.211Z"
   },
   {
    "duration": 5,
    "start_time": "2021-10-21T15:42:43.226Z"
   },
   {
    "duration": 61,
    "start_time": "2021-10-21T15:42:43.233Z"
   },
   {
    "duration": 18,
    "start_time": "2021-10-21T15:42:43.296Z"
   },
   {
    "duration": 17,
    "start_time": "2021-10-21T15:42:43.318Z"
   },
   {
    "duration": 44,
    "start_time": "2021-10-21T15:42:43.338Z"
   },
   {
    "duration": 21,
    "start_time": "2021-10-21T15:42:43.384Z"
   },
   {
    "duration": 17,
    "start_time": "2021-10-21T15:42:43.407Z"
   },
   {
    "duration": 8,
    "start_time": "2021-10-21T15:42:43.427Z"
   },
   {
    "duration": 50,
    "start_time": "2021-10-21T15:42:43.437Z"
   },
   {
    "duration": 12,
    "start_time": "2021-10-21T15:42:43.489Z"
   },
   {
    "duration": 8,
    "start_time": "2021-10-21T15:42:43.504Z"
   },
   {
    "duration": 32,
    "start_time": "2021-10-21T15:42:43.514Z"
   },
   {
    "duration": 42,
    "start_time": "2021-10-21T15:42:43.549Z"
   },
   {
    "duration": 26,
    "start_time": "2021-10-21T15:42:43.593Z"
   },
   {
    "duration": 17,
    "start_time": "2021-10-21T15:42:43.622Z"
   },
   {
    "duration": 45,
    "start_time": "2021-10-21T15:42:43.642Z"
   },
   {
    "duration": 9,
    "start_time": "2021-10-21T15:42:43.689Z"
   },
   {
    "duration": 15,
    "start_time": "2021-10-21T15:42:43.700Z"
   },
   {
    "duration": 7,
    "start_time": "2021-10-21T15:42:43.717Z"
   }
  ],
  "colab": {
   "collapsed_sections": [
    "E0vqbgi9ay0H",
    "VUC88oWjTJw2",
    "atZAxtq4_Zcu"
   ],
   "name": "EmptyFinalProject.ipynb\"",
   "provenance": []
  },
  "kernelspec": {
   "display_name": "Python 3 (ipykernel)",
   "language": "python",
   "name": "python3"
  },
  "language_info": {
   "codemirror_mode": {
    "name": "ipython",
    "version": 3
   },
   "file_extension": ".py",
   "mimetype": "text/x-python",
   "name": "python",
   "nbconvert_exporter": "python",
   "pygments_lexer": "ipython3",
   "version": "3.9.5"
  },
  "toc": {
   "base_numbering": 1,
   "nav_menu": {},
   "number_sections": true,
   "sideBar": true,
   "skip_h1_title": true,
   "title_cell": "Table of Contents",
   "title_sidebar": "Contents",
   "toc_cell": false,
   "toc_position": {},
   "toc_section_display": true,
   "toc_window_display": false
  }
 },
 "nbformat": 4,
 "nbformat_minor": 4
}
