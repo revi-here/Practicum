{
 "cells": [
  {
   "cell_type": "markdown",
   "metadata": {},
   "source": [
    "# Zuber - Ride Sharing Company"
   ]
  },
  {
   "cell_type": "markdown",
   "metadata": {},
   "source": [
    "# Table of contents   <a id='back'></a>\n",
    "1.[Introduction](#intro)  \n",
    "2.[Steps](#steps)  \n",
    "2.[Data Preprocessing](#data_prep)    \n",
    "3.[Top 10 neighborhood- dropoff](#dropoff)  \n",
    "4.[Graphs](#graphs)  \n",
    "5.[Test Hypothesis](#hypothesis)  \n",
    "6.[Conclusion](#end)  "
   ]
  },
  {
   "cell_type": "markdown",
   "metadata": {},
   "source": [
    "<a id='intro'></a>"
   ]
  },
  {
   "cell_type": "markdown",
   "metadata": {},
   "source": [
    "# Introduction"
   ]
  },
  {
   "cell_type": "markdown",
   "metadata": {},
   "source": [
    "***Zuber, a new ride-sharing company is launching in Chicago. Our task is to find patterns in the available information  and understand passenger preferences and the impact of external factors on rides.\n",
    "After working with a database, we will analyze data from competitors and test a hypothesis about the impact of weather on ride frequency.***"
   ]
  },
  {
   "cell_type": "markdown",
   "metadata": {},
   "source": [
    "<a id='steps'></a>"
   ]
  },
  {
   "cell_type": "markdown",
   "metadata": {},
   "source": [
    "# Steps:  \n",
    "***1.Analyze taxi companies and number of rides in the given time period.  \n",
    "2.Identify the top 10 neighborhoods in terms of drop-offs.  \n",
    "3.Draw conclusions based on the analysis.  \n",
    "4.Test the hypothesis:  \n",
    "\"The average duration of rides from the Loop to O'Hare International Airport changes on rainy Saturdays.\"***"
   ]
  },
  {
   "cell_type": "markdown",
   "metadata": {},
   "source": [
    "***Importing all the necessary packages***"
   ]
  },
  {
   "cell_type": "code",
   "execution_count": 29,
   "metadata": {},
   "outputs": [],
   "source": [
    "import pandas as pd\n",
    "import matplotlib.pyplot as plt\n",
    "from scipy import stats as st\n",
    "import seaborn as sns\n"
   ]
  },
  {
   "cell_type": "code",
   "execution_count": 30,
   "metadata": {},
   "outputs": [],
   "source": [
    "# contains taxi company name and number of rides for each taxi company on November 15-16, 2017\n",
    "taxi_trip = pd.read_csv('taxi_trip.csv')"
   ]
  },
  {
   "cell_type": "markdown",
   "metadata": {},
   "source": [
    "***Viewing the dataset***"
   ]
  },
  {
   "cell_type": "code",
   "execution_count": 31,
   "metadata": {},
   "outputs": [
    {
     "data": {
      "text/html": [
       "<div>\n",
       "<style scoped>\n",
       "    .dataframe tbody tr th:only-of-type {\n",
       "        vertical-align: middle;\n",
       "    }\n",
       "\n",
       "    .dataframe tbody tr th {\n",
       "        vertical-align: top;\n",
       "    }\n",
       "\n",
       "    .dataframe thead th {\n",
       "        text-align: right;\n",
       "    }\n",
       "</style>\n",
       "<table border=\"1\" class=\"dataframe\">\n",
       "  <thead>\n",
       "    <tr style=\"text-align: right;\">\n",
       "      <th></th>\n",
       "      <th>Unnamed: 0</th>\n",
       "      <th>company_name</th>\n",
       "      <th>trips_amount</th>\n",
       "    </tr>\n",
       "  </thead>\n",
       "  <tbody>\n",
       "    <tr>\n",
       "      <th>0</th>\n",
       "      <td>0</td>\n",
       "      <td>Flash Cab</td>\n",
       "      <td>19558</td>\n",
       "    </tr>\n",
       "    <tr>\n",
       "      <th>1</th>\n",
       "      <td>1</td>\n",
       "      <td>Taxi Affiliation Services</td>\n",
       "      <td>11422</td>\n",
       "    </tr>\n",
       "    <tr>\n",
       "      <th>2</th>\n",
       "      <td>2</td>\n",
       "      <td>Medallion Leasing</td>\n",
       "      <td>10367</td>\n",
       "    </tr>\n",
       "    <tr>\n",
       "      <th>3</th>\n",
       "      <td>3</td>\n",
       "      <td>Yellow Cab</td>\n",
       "      <td>9888</td>\n",
       "    </tr>\n",
       "    <tr>\n",
       "      <th>4</th>\n",
       "      <td>4</td>\n",
       "      <td>Taxi Affiliation Service Yellow</td>\n",
       "      <td>9299</td>\n",
       "    </tr>\n",
       "    <tr>\n",
       "      <th>5</th>\n",
       "      <td>5</td>\n",
       "      <td>Chicago Carriage Cab Corp</td>\n",
       "      <td>9181</td>\n",
       "    </tr>\n",
       "    <tr>\n",
       "      <th>6</th>\n",
       "      <td>6</td>\n",
       "      <td>City Service</td>\n",
       "      <td>8448</td>\n",
       "    </tr>\n",
       "    <tr>\n",
       "      <th>7</th>\n",
       "      <td>7</td>\n",
       "      <td>Sun Taxi</td>\n",
       "      <td>7701</td>\n",
       "    </tr>\n",
       "    <tr>\n",
       "      <th>8</th>\n",
       "      <td>8</td>\n",
       "      <td>Star North Management LLC</td>\n",
       "      <td>7455</td>\n",
       "    </tr>\n",
       "    <tr>\n",
       "      <th>9</th>\n",
       "      <td>9</td>\n",
       "      <td>Blue Ribbon Taxi Association Inc.</td>\n",
       "      <td>5953</td>\n",
       "    </tr>\n",
       "  </tbody>\n",
       "</table>\n",
       "</div>"
      ],
      "text/plain": [
       "   Unnamed: 0                       company_name  trips_amount\n",
       "0           0                          Flash Cab         19558\n",
       "1           1          Taxi Affiliation Services         11422\n",
       "2           2                  Medallion Leasing         10367\n",
       "3           3                         Yellow Cab          9888\n",
       "4           4    Taxi Affiliation Service Yellow          9299\n",
       "5           5          Chicago Carriage Cab Corp          9181\n",
       "6           6                       City Service          8448\n",
       "7           7                           Sun Taxi          7701\n",
       "8           8          Star North Management LLC          7455\n",
       "9           9  Blue Ribbon Taxi Association Inc.          5953"
      ]
     },
     "execution_count": 31,
     "metadata": {},
     "output_type": "execute_result"
    }
   ],
   "source": [
    "taxi_trip.head(10)"
   ]
  },
  {
   "cell_type": "markdown",
   "metadata": {},
   "source": [
    "[Back to Contents](#back)"
   ]
  },
  {
   "cell_type": "markdown",
   "metadata": {},
   "source": [
    "<a id='data_prep'></a>"
   ]
  },
  {
   "cell_type": "markdown",
   "metadata": {},
   "source": [
    "# Data Preprocessing"
   ]
  },
  {
   "cell_type": "markdown",
   "metadata": {},
   "source": [
    "***Checking for inappropriate values and missing values in 'taxi_trip'***"
   ]
  },
  {
   "cell_type": "code",
   "execution_count": 32,
   "metadata": {},
   "outputs": [
    {
     "data": {
      "text/plain": [
       "array([19558, 11422, 10367,  9888,  9299,  9181,  8448,  7701,  7455,\n",
       "        5953,  5015,  4383,  3355,  3175,  2235,  2216,  2070,  1955,\n",
       "        1775,  1607,  1486,  1404,  1296,  1259,  1014,   978,   428,\n",
       "         402,   310,   250,   230,   210,   147,   146,   127,    39,\n",
       "          37,    36,    33,    31,    29,    27,    25,    21,    20,\n",
       "          16,    15,    14,    13,    12,    11,     8,     7,     5,\n",
       "           3,     2], dtype=int64)"
      ]
     },
     "execution_count": 32,
     "metadata": {},
     "output_type": "execute_result"
    }
   ],
   "source": [
    "taxi_trip['trips_amount'].unique()"
   ]
  },
  {
   "cell_type": "code",
   "execution_count": 33,
   "metadata": {},
   "outputs": [
    {
     "data": {
      "text/plain": [
       "American United                1\n",
       "Chicago Independents           1\n",
       "KOAM Taxi Association          1\n",
       "Chicago Taxicab                1\n",
       "Top Cab Affiliation            1\n",
       "Gold Coast Taxi                1\n",
       "Service Taxi Association       1\n",
       "5 Star Taxi                    1\n",
       "303 Taxi                       1\n",
       "3556 - 36214 RC Andrews Cab    1\n",
       "Name: company_name, dtype: int64"
      ]
     },
     "execution_count": 33,
     "metadata": {},
     "output_type": "execute_result"
    }
   ],
   "source": [
    "taxi_trip['company_name'].value_counts().tail(10)"
   ]
  },
  {
   "cell_type": "code",
   "execution_count": 34,
   "metadata": {},
   "outputs": [
    {
     "data": {
      "text/plain": [
       "array(['Flash Cab', 'Taxi Affiliation Services', 'Medallion Leasing',\n",
       "       'Yellow Cab', 'Taxi Affiliation Service Yellow',\n",
       "       'Chicago Carriage Cab Corp', 'City Service', 'Sun Taxi',\n",
       "       'Star North Management LLC', 'Blue Ribbon Taxi Association Inc.',\n",
       "       'Choice Taxi Association', 'Globe Taxi',\n",
       "       'Dispatch Taxi Affiliation', 'Nova Taxi Affiliation Llc',\n",
       "       'Patriot Taxi Dba Peace Taxi Association',\n",
       "       'Checker Taxi Affiliation', 'Blue Diamond',\n",
       "       'Chicago Medallion Management', '24 Seven Taxi',\n",
       "       'Chicago Medallion Leasing INC', 'Checker Taxi', 'American United',\n",
       "       'Chicago Independents', 'KOAM Taxi Association', 'Chicago Taxicab',\n",
       "       'Top Cab Affiliation', 'Gold Coast Taxi',\n",
       "       'Service Taxi Association', '5 Star Taxi', '303 Taxi',\n",
       "       'Setare Inc', 'American United Taxi Affiliation', 'Leonard Cab Co',\n",
       "       'Metro Jet Taxi A', 'Norshore Cab', '6742 - 83735 Tasha Ride Inc',\n",
       "       '3591 - 63480 Chuks Cab', '1469 - 64126 Omar Jada',\n",
       "       '6743 - 78771 Luhak Corp', '0118 - 42111 Godfrey S. Awir',\n",
       "       '6574 - Babylon Express Inc.', 'Chicago Star Taxicab',\n",
       "       '1085 - 72312 N and W Cab Co', '2809 - 95474 C & D Cab Co Inc.',\n",
       "       '2092 - 61288 Sbeih Company', '3011 - 66308 JBL Cab Inc.',\n",
       "       '3620 - 52292 David K. Cab Corp.', '4615 - 83503 Tyrone Henderson',\n",
       "       '3623 - 72222 Arrington Enterprises', '5074 - 54002 Ahzmi Inc',\n",
       "       '2823 - 73307 Lee Express Inc', '4623 - 27290 Jay Kim',\n",
       "       '3721 - Santamaria Express', '5006 - 39261 Salifu Bawa',\n",
       "       '2192 - 73487 Zeymane Corp', '6057 - 24657 Richard Addo',\n",
       "       '5997 - 65283 AW Services Inc.', 'Metro Group',\n",
       "       '5062 - 34841 Sam Mestas', '4053 - 40193 Adwar H. Nikola',\n",
       "       '2733 - 74600 Benny Jona', '5874 - 73628 Sergey Cab Corp.',\n",
       "       '2241 - 44667 - Felman Corp', '3556 - 36214 RC Andrews Cab'],\n",
       "      dtype=object)"
      ]
     },
     "execution_count": 34,
     "metadata": {},
     "output_type": "execute_result"
    }
   ],
   "source": [
    "taxi_trip['company_name'].unique()"
   ]
  },
  {
   "cell_type": "markdown",
   "metadata": {},
   "source": [
    "***Getting the information of the taxi_trip dataset***"
   ]
  },
  {
   "cell_type": "code",
   "execution_count": 35,
   "metadata": {},
   "outputs": [
    {
     "name": "stdout",
     "output_type": "stream",
     "text": [
      "<class 'pandas.core.frame.DataFrame'>\n",
      "RangeIndex: 64 entries, 0 to 63\n",
      "Data columns (total 3 columns):\n",
      " #   Column        Non-Null Count  Dtype \n",
      "---  ------        --------------  ----- \n",
      " 0   Unnamed: 0    64 non-null     int64 \n",
      " 1   company_name  64 non-null     object\n",
      " 2   trips_amount  64 non-null     int64 \n",
      "dtypes: int64(2), object(1)\n",
      "memory usage: 1.6+ KB\n"
     ]
    }
   ],
   "source": [
    "taxi_trip.info()"
   ]
  },
  {
   "cell_type": "markdown",
   "metadata": {},
   "source": [
    "***From the above information and our analysis of the columns , we see that there is no missing values and all   \n",
    "the data types are appropriate to the corresponding fields.No possible pattern were detected.***"
   ]
  },
  {
   "cell_type": "code",
   "execution_count": 36,
   "metadata": {},
   "outputs": [],
   "source": [
    "#contains the average number of rides that ended in each neighborhood in November 2017 and chicago neighborhood \n",
    "#where rides ended.\n",
    "dropoff_trip = pd.read_csv('dropoff_trip.csv')"
   ]
  },
  {
   "cell_type": "markdown",
   "metadata": {},
   "source": [
    "***Viewing the dropoff_trip dataset***"
   ]
  },
  {
   "cell_type": "code",
   "execution_count": 37,
   "metadata": {},
   "outputs": [
    {
     "data": {
      "text/html": [
       "<div>\n",
       "<style scoped>\n",
       "    .dataframe tbody tr th:only-of-type {\n",
       "        vertical-align: middle;\n",
       "    }\n",
       "\n",
       "    .dataframe tbody tr th {\n",
       "        vertical-align: top;\n",
       "    }\n",
       "\n",
       "    .dataframe thead th {\n",
       "        text-align: right;\n",
       "    }\n",
       "</style>\n",
       "<table border=\"1\" class=\"dataframe\">\n",
       "  <thead>\n",
       "    <tr style=\"text-align: right;\">\n",
       "      <th></th>\n",
       "      <th>Unnamed: 0</th>\n",
       "      <th>dropoff_location_name</th>\n",
       "      <th>average_trips</th>\n",
       "    </tr>\n",
       "  </thead>\n",
       "  <tbody>\n",
       "    <tr>\n",
       "      <th>0</th>\n",
       "      <td>0</td>\n",
       "      <td>Loop</td>\n",
       "      <td>10727.466667</td>\n",
       "    </tr>\n",
       "    <tr>\n",
       "      <th>1</th>\n",
       "      <td>1</td>\n",
       "      <td>River North</td>\n",
       "      <td>9523.666667</td>\n",
       "    </tr>\n",
       "    <tr>\n",
       "      <th>2</th>\n",
       "      <td>2</td>\n",
       "      <td>Streeterville</td>\n",
       "      <td>6664.666667</td>\n",
       "    </tr>\n",
       "    <tr>\n",
       "      <th>3</th>\n",
       "      <td>3</td>\n",
       "      <td>West Loop</td>\n",
       "      <td>5163.666667</td>\n",
       "    </tr>\n",
       "    <tr>\n",
       "      <th>4</th>\n",
       "      <td>4</td>\n",
       "      <td>O'Hare</td>\n",
       "      <td>2546.900000</td>\n",
       "    </tr>\n",
       "    <tr>\n",
       "      <th>5</th>\n",
       "      <td>5</td>\n",
       "      <td>Lake View</td>\n",
       "      <td>2420.966667</td>\n",
       "    </tr>\n",
       "    <tr>\n",
       "      <th>6</th>\n",
       "      <td>6</td>\n",
       "      <td>Grant Park</td>\n",
       "      <td>2068.533333</td>\n",
       "    </tr>\n",
       "    <tr>\n",
       "      <th>7</th>\n",
       "      <td>7</td>\n",
       "      <td>Museum Campus</td>\n",
       "      <td>1510.000000</td>\n",
       "    </tr>\n",
       "    <tr>\n",
       "      <th>8</th>\n",
       "      <td>8</td>\n",
       "      <td>Gold Coast</td>\n",
       "      <td>1364.233333</td>\n",
       "    </tr>\n",
       "    <tr>\n",
       "      <th>9</th>\n",
       "      <td>9</td>\n",
       "      <td>Sheffield &amp; DePaul</td>\n",
       "      <td>1259.766667</td>\n",
       "    </tr>\n",
       "  </tbody>\n",
       "</table>\n",
       "</div>"
      ],
      "text/plain": [
       "   Unnamed: 0 dropoff_location_name  average_trips\n",
       "0           0                  Loop   10727.466667\n",
       "1           1           River North    9523.666667\n",
       "2           2         Streeterville    6664.666667\n",
       "3           3             West Loop    5163.666667\n",
       "4           4                O'Hare    2546.900000\n",
       "5           5             Lake View    2420.966667\n",
       "6           6            Grant Park    2068.533333\n",
       "7           7         Museum Campus    1510.000000\n",
       "8           8            Gold Coast    1364.233333\n",
       "9           9    Sheffield & DePaul    1259.766667"
      ]
     },
     "execution_count": 37,
     "metadata": {},
     "output_type": "execute_result"
    }
   ],
   "source": [
    "dropoff_trip.head(10)"
   ]
  },
  {
   "cell_type": "markdown",
   "metadata": {},
   "source": [
    "***Checking for inappropriate values and missing values in 'dropoff_trip'***"
   ]
  },
  {
   "cell_type": "code",
   "execution_count": 38,
   "metadata": {},
   "outputs": [
    {
     "data": {
      "text/plain": [
       "array(['Loop', 'River North', 'Streeterville', 'West Loop', \"O'Hare\",\n",
       "       'Lake View', 'Grant Park', 'Museum Campus', 'Gold Coast',\n",
       "       'Sheffield & DePaul', 'Lincoln Park', 'East Village',\n",
       "       'Little Italy, UIC', 'Uptown', 'Near South Side', 'Garfield Ridge',\n",
       "       'Logan Square', 'Edgewater', 'West Town', 'Old Town',\n",
       "       'Rush & Division', 'North Center', 'Lincoln Square', 'Rogers Park',\n",
       "       'West Ridge', 'Irving Park', 'Hyde Park', 'Avondale',\n",
       "       'Wicker Park', 'Albany Park', 'United Center', 'Lower West Side',\n",
       "       'Douglas', 'Portage Park', 'Humboldt Park', 'Norwood Park',\n",
       "       'Kenwood', 'Bridgeport', 'Armour Square', 'Jefferson Park',\n",
       "       'Bucktown', 'North Park', 'Garfield Park', 'Mckinley Park',\n",
       "       'Belmont Cragin', 'Boystown', 'Chinatown', 'Grand Boulevard',\n",
       "       'Austin', 'Sauganash,Forest Glen', 'South Shore', 'Woodlawn',\n",
       "       'Little Village', 'Jackson Park', 'North Lawndale', 'Dunning',\n",
       "       'Ukrainian Village', 'Hermosa', 'Englewood', 'Chatham', 'New City',\n",
       "       'Grand Crossing', 'Brighton Park', 'Andersonville', 'Oakland',\n",
       "       'Ashburn', 'Washington Park', 'Auburn Gresham', 'Clearing',\n",
       "       'Roseland', 'Wrigleyville', 'Edison Park', 'South Chicago',\n",
       "       'Chicago Lawn', 'Beverly', 'Calumet Heights', 'Washington Heights',\n",
       "       'Archer Heights', 'Gage Park', 'Fuller Park', 'West Lawn',\n",
       "       'Morgan Park', 'South Deering', 'Avalon Park', 'West Pullman',\n",
       "       'Montclare', 'West Elsdon', 'Pullman', 'Undef', 'Mount Greenwood',\n",
       "       'Hegewisch', 'Burnside', 'East Side', 'Riverdale'], dtype=object)"
      ]
     },
     "execution_count": 38,
     "metadata": {},
     "output_type": "execute_result"
    }
   ],
   "source": [
    "dropoff_trip['dropoff_location_name'].unique()"
   ]
  },
  {
   "cell_type": "code",
   "execution_count": 39,
   "metadata": {},
   "outputs": [
    {
     "data": {
      "text/plain": [
       "array([1.07274667e+04, 9.52366667e+03, 6.66466667e+03, 5.16366667e+03,\n",
       "       2.54690000e+03, 2.42096667e+03, 2.06853333e+03, 1.51000000e+03,\n",
       "       1.36423333e+03, 1.25976667e+03, 1.24653333e+03, 1.21206667e+03,\n",
       "       8.63700000e+02, 8.49666667e+02, 8.39833333e+02, 7.45400000e+02,\n",
       "       6.20333333e+02, 5.83300000e+02, 5.16400000e+02, 4.69566667e+02,\n",
       "       3.95533333e+02, 3.93266667e+02, 3.56733333e+02, 2.99033333e+02,\n",
       "       2.98333333e+02, 2.96566667e+02, 2.55133333e+02, 2.08233333e+02,\n",
       "       1.82600000e+02, 1.80900000e+02, 1.78900000e+02, 1.43300000e+02,\n",
       "       1.42900000e+02, 1.19733333e+02, 9.78666667e+01, 9.52333333e+01,\n",
       "       8.93666667e+01, 7.71000000e+01, 7.70333333e+01, 7.43333333e+01,\n",
       "       7.43000000e+01, 6.78333333e+01, 6.57666667e+01, 6.40333333e+01,\n",
       "       5.90333333e+01, 5.39666667e+01, 5.24333333e+01, 5.16000000e+01,\n",
       "       4.44333333e+01, 4.35666667e+01, 4.05333333e+01, 3.61666667e+01,\n",
       "       3.38000000e+01, 3.31034483e+01, 3.21666667e+01, 3.01666667e+01,\n",
       "       2.76000000e+01, 2.75666667e+01, 2.54333333e+01, 2.32000000e+01,\n",
       "       2.29333333e+01, 2.26000000e+01, 1.94666667e+01, 1.68666667e+01,\n",
       "       1.66333333e+01, 1.61333333e+01, 1.60333333e+01, 1.51666667e+01,\n",
       "       1.45000000e+01, 1.43666667e+01, 1.42333333e+01, 1.41666667e+01,\n",
       "       1.30000000e+01, 1.22666667e+01, 1.05000000e+01, 9.56666667e+00,\n",
       "       9.13333333e+00, 8.36666667e+00, 8.23333333e+00, 8.16666667e+00,\n",
       "       7.73333333e+00, 7.70000000e+00, 7.50000000e+00, 6.96666667e+00,\n",
       "       6.46666667e+00, 5.76666667e+00, 5.66666667e+00, 3.89655172e+00,\n",
       "       3.80000000e+00, 3.13793103e+00, 3.11764706e+00, 2.33333333e+00,\n",
       "       1.96153846e+00, 1.80000000e+00])"
      ]
     },
     "execution_count": 39,
     "metadata": {},
     "output_type": "execute_result"
    }
   ],
   "source": [
    "dropoff_trip['average_trips'].unique()"
   ]
  },
  {
   "cell_type": "markdown",
   "metadata": {},
   "source": [
    "***Getting the information of dropoff_trip dataset***"
   ]
  },
  {
   "cell_type": "code",
   "execution_count": 40,
   "metadata": {},
   "outputs": [
    {
     "name": "stdout",
     "output_type": "stream",
     "text": [
      "<class 'pandas.core.frame.DataFrame'>\n",
      "RangeIndex: 94 entries, 0 to 93\n",
      "Data columns (total 3 columns):\n",
      " #   Column                 Non-Null Count  Dtype  \n",
      "---  ------                 --------------  -----  \n",
      " 0   Unnamed: 0             94 non-null     int64  \n",
      " 1   dropoff_location_name  94 non-null     object \n",
      " 2   average_trips          94 non-null     float64\n",
      "dtypes: float64(1), int64(1), object(1)\n",
      "memory usage: 2.3+ KB\n"
     ]
    }
   ],
   "source": [
    "dropoff_trip.info()"
   ]
  },
  {
   "cell_type": "markdown",
   "metadata": {},
   "source": [
    "***There are no missing values and also the data types are appropriate for the respective feilds.***"
   ]
  },
  {
   "cell_type": "markdown",
   "metadata": {},
   "source": [
    "[Back to Contents](#back)"
   ]
  },
  {
   "cell_type": "markdown",
   "metadata": {},
   "source": [
    "<a id='dropoff'></a>"
   ]
  },
  {
   "cell_type": "markdown",
   "metadata": {},
   "source": [
    "# Identify the top 10 neighborhoods in terms of drop-off"
   ]
  },
  {
   "cell_type": "code",
   "execution_count": 41,
   "metadata": {},
   "outputs": [],
   "source": [
    "#Sort dropoff_trip table based on average number of rides in descending order and slicing off the top 10 records\n",
    "dropoff_trip_top10 = dropoff_trip.sort_values(by='average_trips',ascending = False).head(10)"
   ]
  },
  {
   "cell_type": "code",
   "execution_count": 42,
   "metadata": {},
   "outputs": [
    {
     "data": {
      "text/html": [
       "<div>\n",
       "<style scoped>\n",
       "    .dataframe tbody tr th:only-of-type {\n",
       "        vertical-align: middle;\n",
       "    }\n",
       "\n",
       "    .dataframe tbody tr th {\n",
       "        vertical-align: top;\n",
       "    }\n",
       "\n",
       "    .dataframe thead th {\n",
       "        text-align: right;\n",
       "    }\n",
       "</style>\n",
       "<table border=\"1\" class=\"dataframe\">\n",
       "  <thead>\n",
       "    <tr style=\"text-align: right;\">\n",
       "      <th></th>\n",
       "      <th>Unnamed: 0</th>\n",
       "      <th>dropoff_location_name</th>\n",
       "      <th>average_trips</th>\n",
       "    </tr>\n",
       "  </thead>\n",
       "  <tbody>\n",
       "    <tr>\n",
       "      <th>0</th>\n",
       "      <td>0</td>\n",
       "      <td>Loop</td>\n",
       "      <td>10727.466667</td>\n",
       "    </tr>\n",
       "    <tr>\n",
       "      <th>1</th>\n",
       "      <td>1</td>\n",
       "      <td>River North</td>\n",
       "      <td>9523.666667</td>\n",
       "    </tr>\n",
       "    <tr>\n",
       "      <th>2</th>\n",
       "      <td>2</td>\n",
       "      <td>Streeterville</td>\n",
       "      <td>6664.666667</td>\n",
       "    </tr>\n",
       "    <tr>\n",
       "      <th>3</th>\n",
       "      <td>3</td>\n",
       "      <td>West Loop</td>\n",
       "      <td>5163.666667</td>\n",
       "    </tr>\n",
       "    <tr>\n",
       "      <th>4</th>\n",
       "      <td>4</td>\n",
       "      <td>O'Hare</td>\n",
       "      <td>2546.900000</td>\n",
       "    </tr>\n",
       "    <tr>\n",
       "      <th>5</th>\n",
       "      <td>5</td>\n",
       "      <td>Lake View</td>\n",
       "      <td>2420.966667</td>\n",
       "    </tr>\n",
       "    <tr>\n",
       "      <th>6</th>\n",
       "      <td>6</td>\n",
       "      <td>Grant Park</td>\n",
       "      <td>2068.533333</td>\n",
       "    </tr>\n",
       "    <tr>\n",
       "      <th>7</th>\n",
       "      <td>7</td>\n",
       "      <td>Museum Campus</td>\n",
       "      <td>1510.000000</td>\n",
       "    </tr>\n",
       "    <tr>\n",
       "      <th>8</th>\n",
       "      <td>8</td>\n",
       "      <td>Gold Coast</td>\n",
       "      <td>1364.233333</td>\n",
       "    </tr>\n",
       "    <tr>\n",
       "      <th>9</th>\n",
       "      <td>9</td>\n",
       "      <td>Sheffield &amp; DePaul</td>\n",
       "      <td>1259.766667</td>\n",
       "    </tr>\n",
       "  </tbody>\n",
       "</table>\n",
       "</div>"
      ],
      "text/plain": [
       "   Unnamed: 0 dropoff_location_name  average_trips\n",
       "0           0                  Loop   10727.466667\n",
       "1           1           River North    9523.666667\n",
       "2           2         Streeterville    6664.666667\n",
       "3           3             West Loop    5163.666667\n",
       "4           4                O'Hare    2546.900000\n",
       "5           5             Lake View    2420.966667\n",
       "6           6            Grant Park    2068.533333\n",
       "7           7         Museum Campus    1510.000000\n",
       "8           8            Gold Coast    1364.233333\n",
       "9           9    Sheffield & DePaul    1259.766667"
      ]
     },
     "execution_count": 42,
     "metadata": {},
     "output_type": "execute_result"
    }
   ],
   "source": [
    "dropoff_trip_top10"
   ]
  },
  {
   "cell_type": "markdown",
   "metadata": {},
   "source": [
    "***Analysis for top 10 neighborhood in terms of drop-off shows Loop being the most often used dropoff location  \n",
    "with River North , Streeterville,West Loop and O'Hare following it in the next 4 positions .The last 5 locations  \n",
    "have average trips less than half of the top 5 locations.***"
   ]
  },
  {
   "cell_type": "markdown",
   "metadata": {},
   "source": [
    "<a id='graphs'></a>"
   ]
  },
  {
   "cell_type": "markdown",
   "metadata": {},
   "source": [
    "[Back to Contents](#back)"
   ]
  },
  {
   "cell_type": "markdown",
   "metadata": {},
   "source": [
    "# Graphs"
   ]
  },
  {
   "cell_type": "markdown",
   "metadata": {},
   "source": [
    "***With both our datasets having a numerical variable and a categorical variable to compare, we go with simple  \n",
    "bar chart  to plot the datasets.***"
   ]
  },
  {
   "cell_type": "markdown",
   "metadata": {},
   "source": [
    "***Taxi companies and Number of rides***"
   ]
  },
  {
   "cell_type": "code",
   "execution_count": 43,
   "metadata": {},
   "outputs": [
    {
     "data": {
      "text/plain": [
       "(array([ 0,  1,  2,  3,  4,  5,  6,  7,  8,  9, 10, 11, 12, 13, 14, 15, 16,\n",
       "        17, 18, 19, 20, 21, 22, 23, 24, 25, 26, 27, 28, 29, 30, 31, 32, 33,\n",
       "        34, 35, 36, 37, 38, 39, 40, 41, 42, 43, 44, 45, 46, 47, 48, 49, 50,\n",
       "        51, 52, 53, 54, 55, 56, 57, 58, 59, 60, 61, 62, 63]),\n",
       " [Text(0, 0, 'Flash Cab'),\n",
       "  Text(1, 0, 'Taxi Affiliation Services'),\n",
       "  Text(2, 0, 'Medallion Leasing'),\n",
       "  Text(3, 0, 'Yellow Cab'),\n",
       "  Text(4, 0, 'Taxi Affiliation Service Yellow'),\n",
       "  Text(5, 0, 'Chicago Carriage Cab Corp'),\n",
       "  Text(6, 0, 'City Service'),\n",
       "  Text(7, 0, 'Sun Taxi'),\n",
       "  Text(8, 0, 'Star North Management LLC'),\n",
       "  Text(9, 0, 'Blue Ribbon Taxi Association Inc.'),\n",
       "  Text(10, 0, 'Choice Taxi Association'),\n",
       "  Text(11, 0, 'Globe Taxi'),\n",
       "  Text(12, 0, 'Dispatch Taxi Affiliation'),\n",
       "  Text(13, 0, 'Nova Taxi Affiliation Llc'),\n",
       "  Text(14, 0, 'Patriot Taxi Dba Peace Taxi Association'),\n",
       "  Text(15, 0, 'Checker Taxi Affiliation'),\n",
       "  Text(16, 0, 'Blue Diamond'),\n",
       "  Text(17, 0, 'Chicago Medallion Management'),\n",
       "  Text(18, 0, '24 Seven Taxi'),\n",
       "  Text(19, 0, 'Chicago Medallion Leasing INC'),\n",
       "  Text(20, 0, 'Checker Taxi'),\n",
       "  Text(21, 0, 'American United'),\n",
       "  Text(22, 0, 'Chicago Independents'),\n",
       "  Text(23, 0, 'KOAM Taxi Association'),\n",
       "  Text(24, 0, 'Chicago Taxicab'),\n",
       "  Text(25, 0, 'Top Cab Affiliation'),\n",
       "  Text(26, 0, 'Gold Coast Taxi'),\n",
       "  Text(27, 0, 'Service Taxi Association'),\n",
       "  Text(28, 0, '5 Star Taxi'),\n",
       "  Text(29, 0, '303 Taxi'),\n",
       "  Text(30, 0, 'Setare Inc'),\n",
       "  Text(31, 0, 'American United Taxi Affiliation'),\n",
       "  Text(32, 0, 'Leonard Cab Co'),\n",
       "  Text(33, 0, 'Metro Jet Taxi A'),\n",
       "  Text(34, 0, 'Norshore Cab'),\n",
       "  Text(35, 0, '6742 - 83735 Tasha Ride Inc'),\n",
       "  Text(36, 0, '3591 - 63480 Chuks Cab'),\n",
       "  Text(37, 0, '1469 - 64126 Omar Jada'),\n",
       "  Text(38, 0, '6743 - 78771 Luhak Corp'),\n",
       "  Text(39, 0, '0118 - 42111 Godfrey S. Awir'),\n",
       "  Text(40, 0, '6574 - Babylon Express Inc.'),\n",
       "  Text(41, 0, 'Chicago Star Taxicab'),\n",
       "  Text(42, 0, '1085 - 72312 N and W Cab Co'),\n",
       "  Text(43, 0, '2809 - 95474 C & D Cab Co Inc.'),\n",
       "  Text(44, 0, '2092 - 61288 Sbeih Company'),\n",
       "  Text(45, 0, '3011 - 66308 JBL Cab Inc.'),\n",
       "  Text(46, 0, '3620 - 52292 David K. Cab Corp.'),\n",
       "  Text(47, 0, '4615 - 83503 Tyrone Henderson'),\n",
       "  Text(48, 0, '3623 - 72222 Arrington Enterprises'),\n",
       "  Text(49, 0, '5074 - 54002 Ahzmi Inc'),\n",
       "  Text(50, 0, '2823 - 73307 Lee Express Inc'),\n",
       "  Text(51, 0, '4623 - 27290 Jay Kim'),\n",
       "  Text(52, 0, '3721 - Santamaria Express'),\n",
       "  Text(53, 0, '5006 - 39261 Salifu Bawa'),\n",
       "  Text(54, 0, '2192 - 73487 Zeymane Corp'),\n",
       "  Text(55, 0, '6057 - 24657 Richard Addo'),\n",
       "  Text(56, 0, '5997 - 65283 AW Services Inc.'),\n",
       "  Text(57, 0, 'Metro Group'),\n",
       "  Text(58, 0, '5062 - 34841 Sam Mestas'),\n",
       "  Text(59, 0, '4053 - 40193 Adwar H. Nikola'),\n",
       "  Text(60, 0, '2733 - 74600 Benny Jona'),\n",
       "  Text(61, 0, '5874 - 73628 Sergey Cab Corp.'),\n",
       "  Text(62, 0, '2241 - 44667 - Felman Corp'),\n",
       "  Text(63, 0, '3556 - 36214 RC Andrews Cab')])"
      ]
     },
     "execution_count": 43,
     "metadata": {},
     "output_type": "execute_result"
    },
    {
     "data": {
      "image/png": "[encoded data removed]",
      "text/plain": [
       "<Figure size 1080x864 with 1 Axes>"
      ]
     },
     "metadata": {
      "needs_background": "light"
     },
     "output_type": "display_data"
    }
   ],
   "source": [
    "plt.subplots(figsize=(15,12))\n",
    "sns.barplot(x=taxi_trip['company_name'], y=taxi_trip['trips_amount'])\n",
    "plt.xticks(rotation=90)"
   ]
  },
  {
   "cell_type": "markdown",
   "metadata": {},
   "source": [
    "***The above graph shows that 'Flash cab' company had close to 20,000 rides on Nov15-16 2017 whereas the company   \n",
    "with more rides after it , is way less than half of its ride(11000).Out of total 64 companies in that area , more than half of them didnt have any rides during the given time period.Median Leasing,Yellow Cab,Tai Affiliatoin Service Yellow and Chicago carrier cab corp seem to perform in the same pace .Gold coast Taxi , Service taxi association , 5Star Taxi and few more has the fewest number of rides during the time frame though not wiped out totally..***"
   ]
  },
  {
   "cell_type": "markdown",
   "metadata": {},
   "source": [
    "***Top 10 neighborhoods by number of dropoffs***"
   ]
  },
  {
   "cell_type": "code",
   "execution_count": 44,
   "metadata": {},
   "outputs": [
    {
     "data": {
      "text/plain": [
       "(array([0, 1, 2, 3, 4, 5, 6, 7, 8, 9]),\n",
       " [Text(0, 0, 'Loop'),\n",
       "  Text(1, 0, 'River North'),\n",
       "  Text(2, 0, 'Streeterville'),\n",
       "  Text(3, 0, 'West Loop'),\n",
       "  Text(4, 0, \"O'Hare\"),\n",
       "  Text(5, 0, 'Lake View'),\n",
       "  Text(6, 0, 'Grant Park'),\n",
       "  Text(7, 0, 'Museum Campus'),\n",
       "  Text(8, 0, 'Gold Coast'),\n",
       "  Text(9, 0, 'Sheffield & DePaul')])"
      ]
     },
     "execution_count": 44,
     "metadata": {},
     "output_type": "execute_result"
    },
    {
     "data": {
      "image/png": "[encoded data removed]",
      "text/plain": [
       "<Figure size 1080x864 with 1 Axes>"
      ]
     },
     "metadata": {
      "needs_background": "light"
     },
     "output_type": "display_data"
    }
   ],
   "source": [
    "plt.subplots(figsize=(15,12))\n",
    "sns.barplot(x=dropoff_trip_top10['dropoff_location_name'], y=dropoff_trip_top10['average_trips'])\n",
    "plt.xticks(rotation=90)"
   ]
  },
  {
   "cell_type": "markdown",
   "metadata": {},
   "source": [
    "***dropoff_trip graph shows that Loop is the frequently dropped off area with around 10600 rides in November.  \n",
    "River North comes next with around 9600 rides..Streeterville and West Loop follows them in the list . O'Hare and  \n",
    "all other locations following it (Lake View,Grant Park..) are in the lower range with way less than half the  \n",
    "rides  of top ones ..(2000 rides)***\n"
   ]
  },
  {
   "cell_type": "markdown",
   "metadata": {},
   "source": [
    "[Back to Contents](#back)"
   ]
  },
  {
   "cell_type": "markdown",
   "metadata": {},
   "source": [
    "### Conclusions:  \n",
    "***Based on our analysis , Flash Cab is the company which was running busy on the dates Nov15-16 with  \n",
    "'Taxi Affiliation Services ' and 'Medallion Leasing' following it .  \n",
    "'Loop' and 'River North' are the frequent dropoff spot with Streeterville and West Loop also showing significant  \n",
    "dropoff during the month of November.These spots should have some pickup drives too though we are not sure how  \n",
    "much do they contibute.  \n",
    "Based on the above 2 analysis , 'Flash Cab' is the major competitor and 'Loop' and 'River North'being the  \n",
    "location that has potential for more rides..***\n"
   ]
  },
  {
   "cell_type": "markdown",
   "metadata": {},
   "source": [
    "<a id='hypothesis'></a>"
   ]
  },
  {
   "cell_type": "markdown",
   "metadata": {},
   "source": [
    "# Testing hypotheses"
   ]
  },
  {
   "cell_type": "code",
   "execution_count": 45,
   "metadata": {},
   "outputs": [],
   "source": [
    "#contains data on rides from the Loop to O'Hare International Airport.\n",
    "Loop_Ohare_trip=pd.read_csv('loop_ohare_trip.csv')"
   ]
  },
  {
   "cell_type": "code",
   "execution_count": 46,
   "metadata": {},
   "outputs": [
    {
     "data": {
      "text/html": [
       "<div>\n",
       "<style scoped>\n",
       "    .dataframe tbody tr th:only-of-type {\n",
       "        vertical-align: middle;\n",
       "    }\n",
       "\n",
       "    .dataframe tbody tr th {\n",
       "        vertical-align: top;\n",
       "    }\n",
       "\n",
       "    .dataframe thead th {\n",
       "        text-align: right;\n",
       "    }\n",
       "</style>\n",
       "<table border=\"1\" class=\"dataframe\">\n",
       "  <thead>\n",
       "    <tr style=\"text-align: right;\">\n",
       "      <th></th>\n",
       "      <th>Unnamed: 0</th>\n",
       "      <th>start_ts</th>\n",
       "      <th>weather_conditions</th>\n",
       "      <th>duration_seconds</th>\n",
       "    </tr>\n",
       "  </thead>\n",
       "  <tbody>\n",
       "    <tr>\n",
       "      <th>0</th>\n",
       "      <td>0</td>\n",
       "      <td>2017-11-25 16:00:00</td>\n",
       "      <td>Good</td>\n",
       "      <td>2410.0</td>\n",
       "    </tr>\n",
       "    <tr>\n",
       "      <th>1</th>\n",
       "      <td>1</td>\n",
       "      <td>2017-11-25 14:00:00</td>\n",
       "      <td>Good</td>\n",
       "      <td>1920.0</td>\n",
       "    </tr>\n",
       "    <tr>\n",
       "      <th>2</th>\n",
       "      <td>2</td>\n",
       "      <td>2017-11-25 12:00:00</td>\n",
       "      <td>Good</td>\n",
       "      <td>1543.0</td>\n",
       "    </tr>\n",
       "    <tr>\n",
       "      <th>3</th>\n",
       "      <td>3</td>\n",
       "      <td>2017-11-04 10:00:00</td>\n",
       "      <td>Good</td>\n",
       "      <td>2512.0</td>\n",
       "    </tr>\n",
       "    <tr>\n",
       "      <th>4</th>\n",
       "      <td>4</td>\n",
       "      <td>2017-11-11 07:00:00</td>\n",
       "      <td>Good</td>\n",
       "      <td>1440.0</td>\n",
       "    </tr>\n",
       "    <tr>\n",
       "      <th>5</th>\n",
       "      <td>5</td>\n",
       "      <td>2017-11-11 04:00:00</td>\n",
       "      <td>Good</td>\n",
       "      <td>1320.0</td>\n",
       "    </tr>\n",
       "    <tr>\n",
       "      <th>6</th>\n",
       "      <td>6</td>\n",
       "      <td>2017-11-04 16:00:00</td>\n",
       "      <td>Bad</td>\n",
       "      <td>2969.0</td>\n",
       "    </tr>\n",
       "    <tr>\n",
       "      <th>7</th>\n",
       "      <td>7</td>\n",
       "      <td>2017-11-18 11:00:00</td>\n",
       "      <td>Good</td>\n",
       "      <td>2280.0</td>\n",
       "    </tr>\n",
       "    <tr>\n",
       "      <th>8</th>\n",
       "      <td>8</td>\n",
       "      <td>2017-11-11 14:00:00</td>\n",
       "      <td>Good</td>\n",
       "      <td>2460.0</td>\n",
       "    </tr>\n",
       "    <tr>\n",
       "      <th>9</th>\n",
       "      <td>9</td>\n",
       "      <td>2017-11-11 12:00:00</td>\n",
       "      <td>Good</td>\n",
       "      <td>2040.0</td>\n",
       "    </tr>\n",
       "  </tbody>\n",
       "</table>\n",
       "</div>"
      ],
      "text/plain": [
       "   Unnamed: 0             start_ts weather_conditions  duration_seconds\n",
       "0           0  2017-11-25 16:00:00               Good            2410.0\n",
       "1           1  2017-11-25 14:00:00               Good            1920.0\n",
       "2           2  2017-11-25 12:00:00               Good            1543.0\n",
       "3           3  2017-11-04 10:00:00               Good            2512.0\n",
       "4           4  2017-11-11 07:00:00               Good            1440.0\n",
       "5           5  2017-11-11 04:00:00               Good            1320.0\n",
       "6           6  2017-11-04 16:00:00                Bad            2969.0\n",
       "7           7  2017-11-18 11:00:00               Good            2280.0\n",
       "8           8  2017-11-11 14:00:00               Good            2460.0\n",
       "9           9  2017-11-11 12:00:00               Good            2040.0"
      ]
     },
     "execution_count": 46,
     "metadata": {},
     "output_type": "execute_result"
    }
   ],
   "source": [
    "Loop_Ohare_trip.head(10)"
   ]
  },
  {
   "cell_type": "markdown",
   "metadata": {},
   "source": [
    "***Checking for inapproppriate values and missing values.***"
   ]
  },
  {
   "cell_type": "code",
   "execution_count": 47,
   "metadata": {},
   "outputs": [
    {
     "name": "stdout",
     "output_type": "stream",
     "text": [
      "<class 'pandas.core.frame.DataFrame'>\n",
      "RangeIndex: 1068 entries, 0 to 1067\n",
      "Data columns (total 4 columns):\n",
      " #   Column              Non-Null Count  Dtype  \n",
      "---  ------              --------------  -----  \n",
      " 0   Unnamed: 0          1068 non-null   int64  \n",
      " 1   start_ts            1068 non-null   object \n",
      " 2   weather_conditions  1068 non-null   object \n",
      " 3   duration_seconds    1068 non-null   float64\n",
      "dtypes: float64(1), int64(1), object(2)\n",
      "memory usage: 33.5+ KB\n"
     ]
    }
   ],
   "source": [
    "Loop_Ohare_trip.info()"
   ]
  },
  {
   "cell_type": "code",
   "execution_count": 48,
   "metadata": {},
   "outputs": [
    {
     "data": {
      "text/plain": [
       "Good    888\n",
       "Bad     180\n",
       "Name: weather_conditions, dtype: int64"
      ]
     },
     "execution_count": 48,
     "metadata": {},
     "output_type": "execute_result"
    }
   ],
   "source": [
    "Loop_Ohare_trip['weather_conditions'].value_counts()"
   ]
  },
  {
   "cell_type": "code",
   "execution_count": 49,
   "metadata": {},
   "outputs": [
    {
     "data": {
      "text/plain": [
       "array([2410., 1920., 1543., 2512., 1440., 1320., 2969., 2280., 2460.,\n",
       "       2040., 1500., 1470., 1546., 2100.,   60., 2640., 1502., 1915.,\n",
       "       2769., 2250., 1260., 2826., 3360., 3180., 1800., 2289., 1494.,\n",
       "       1560., 1980., 2115., 1506., 2580., 1620., 1163., 1533., 1477.,\n",
       "       1984., 2940., 1683., 1343., 1742., 1358., 2760., 1380., 1415.,\n",
       "       1325., 1200., 2363., 1140., 2520., 3000., 3084., 2213., 3120.,\n",
       "       4800., 1346., 2843., 1435., 2426., 1740., 2340., 2075., 1333.,\n",
       "       2574., 2441., 3300., 1511., 2220., 2551., 2062., 2999., 1677.,\n",
       "       1177., 1475., 3201., 1277., 1213., 4044., 1680., 2074., 2782.,\n",
       "       2591., 3240., 1869., 1218., 2123., 1384., 3060., 3480., 2071.,\n",
       "       3024., 1667., 2056., 1473., 3540., 2778., 1420., 2055., 2240.,\n",
       "       2380., 2160., 1539., 1591., 2588., 1162.,    0., 1239., 2820.,\n",
       "       3130., 2877., 2934., 3270., 1860., 2054., 2293., 2880., 2525.,\n",
       "       1323., 1487., 1020., 1883., 2225., 2415., 3411., 2571.,  480.,\n",
       "       1414., 1981., 2400., 3660., 3600., 1366., 1717., 2479., 1439.,\n",
       "       1207., 2112., 2328., 1217., 1237., 1074., 2120., 1404., 1243.,\n",
       "       1226., 1123., 1504., 2811., 2094., 1430., 1421., 3026., 2006.,\n",
       "       3390., 2994., 1476., 1332., 2956., 1304., 1676., 2700., 2928.,\n",
       "       3332., 3008., 4980., 1737., 1365., 2842., 1872., 2255., 2620.,\n",
       "       2740., 1498., 1443., 2981., 1363., 1839., 2412., 3780., 3900.,\n",
       "       2897., 1201., 2444., 2995., 1643., 1530., 1441., 2425., 1386.,\n",
       "       3317., 1758., 1496., 3057., 2611., 3887., 1623., 1554., 1391.,\n",
       "       1672., 2141., 2271., 2606., 1547., 4140., 7440., 2618., 2274.,\n",
       "       1709., 2761., 1354., 1596., 2037., 1686., 1261., 1610., 1708.,\n",
       "       1422., 2982., 1322., 2894., 3427., 2418., 2458., 1961., 2885.,\n",
       "       1293., 3615., 3420., 1270., 1335., 1219., 1336., 1331., 1571.,\n",
       "       2286., 1563., 1541., 1338.,  420., 1372., 3203., 1419., 1553.,\n",
       "       2204., 3528., 2262., 2091., 1205., 1259., 1134., 2694., 3394.,\n",
       "       1968., 1602., 1409., 1310., 1594., 2193., 1874., 2983., 2285.,\n",
       "       1301., 1736., 2351., 2733., 3510., 2560., 3286., 2800., 1362.,\n",
       "       2577., 3261., 1878., 2697., 3351., 1513., 1395., 1977., 2133.,\n",
       "       2895., 2122., 1432., 2427., 3059., 1832., 1757., 3396., 3461.,\n",
       "       2333., 2103., 2330., 2563., 1203., 2029., 1351., 1975., 1296.,\n",
       "       2889., 2531., 3614., 2722., 2825., 1622., 2015., 1417., 1282.,\n",
       "       3094., 1374., 2757., 1344., 1794., 3460., 6420., 2345., 1472.,\n",
       "       1280., 1412., 2196., 1608., 2332., 2203., 4380., 2675., 3172.,\n",
       "       1516., 3840., 1355., 1465., 1933., 2010., 2256., 3022., 2765.,\n",
       "       2540., 3058., 1267., 2151., 2550., 2172., 2963., 2178., 2475.,\n",
       "       2575., 1063., 1747., 2175., 2356., 1934., 2155., 1211., 3214.,\n",
       "       2693., 3335., 1466., 1828., 2522., 2948., 1080., 2493., 1595.,\n",
       "       1182., 1566., 1843., 1586., 1532., 2195., 1095., 2929., 2310.,\n",
       "       1364., 1299., 2032., 1316., 1454., 1909., 1529., 2548., 1748.,\n",
       "       1993., 2089., 1646., 1406., 3779., 3366., 3982., 2657., 2454.,\n",
       "       1427., 1436., 2205., 1359., 2083., 2312., 2472., 2287., 2467.,\n",
       "       2464., 2903., 2233., 1348., 3292., 1462., 1916., 2456., 1405.,\n",
       "       3482., 1313., 1265., 1311., 2465., 2294., 2804., 2239., 1018.,\n",
       "       1416., 1456., 1520., 3448., 1690., 1978., 1497., 2263., 2632.,\n",
       "       2964., 1656., 1491., 2148., 3720., 1484., 2767., 2488., 2325.,\n",
       "       1568., 1519., 2518., 1495., 3831., 1538., 1673., 3539., 1341.,\n",
       "       1425., 1340., 1997., 3699., 3684., 1715., 3526., 1638., 1775.,\n",
       "       1861., 1486., 2491., 1565., 1392., 2132., 1379., 1584., 2134.,\n",
       "       1731., 3291., 3262., 1670., 2110., 1990., 2114., 2744., 1601.,\n",
       "       1483., 2704., 2898., 1923., 2200., 2926., 2449., 1254., 1330.,\n",
       "       1339., 2634., 3604., 1174., 1385., 1908., 1168., 3207., 2554.,\n",
       "       1782., 3144., 2099., 3275., 2492., 1303., 2186., 1318., 2834.])"
      ]
     },
     "execution_count": 49,
     "metadata": {},
     "output_type": "execute_result"
    }
   ],
   "source": [
    "Loop_Ohare_trip['duration_seconds'].unique()"
   ]
  },
  {
   "cell_type": "code",
   "execution_count": 50,
   "metadata": {},
   "outputs": [
    {
     "data": {
      "text/plain": [
       "array(['2017-11-25 16:00:00', '2017-11-25 14:00:00',\n",
       "       '2017-11-25 12:00:00', '2017-11-04 10:00:00',\n",
       "       '2017-11-11 07:00:00', '2017-11-11 04:00:00',\n",
       "       '2017-11-04 16:00:00', '2017-11-18 11:00:00',\n",
       "       '2017-11-11 14:00:00', '2017-11-11 12:00:00',\n",
       "       '2017-11-18 06:00:00', '2017-11-04 11:00:00',\n",
       "       '2017-11-11 08:00:00', '2017-11-04 08:00:00',\n",
       "       '2017-11-11 16:00:00', '2017-11-25 13:00:00',\n",
       "       '2017-11-04 12:00:00', '2017-11-25 10:00:00',\n",
       "       '2017-11-11 13:00:00', '2017-11-18 14:00:00',\n",
       "       '2017-11-04 14:00:00', '2017-11-25 20:00:00',\n",
       "       '2017-11-11 11:00:00', '2017-11-18 12:00:00',\n",
       "       '2017-11-11 10:00:00', '2017-11-04 17:00:00',\n",
       "       '2017-11-11 09:00:00', '2017-11-04 06:00:00',\n",
       "       '2017-11-04 05:00:00', '2017-11-11 19:00:00',\n",
       "       '2017-11-04 13:00:00', '2017-11-04 07:00:00',\n",
       "       '2017-11-11 06:00:00', '2017-11-04 09:00:00',\n",
       "       '2017-11-11 05:00:00', '2017-11-18 10:00:00',\n",
       "       '2017-11-25 05:00:00', '2017-11-25 08:00:00',\n",
       "       '2017-11-04 18:00:00', '2017-11-11 18:00:00',\n",
       "       '2017-11-18 16:00:00', '2017-11-11 15:00:00',\n",
       "       '2017-11-11 17:00:00', '2017-11-25 07:00:00',\n",
       "       '2017-11-18 05:00:00', '2017-11-04 04:00:00',\n",
       "       '2017-11-18 07:00:00', '2017-11-04 15:00:00',\n",
       "       '2017-11-25 18:00:00', '2017-11-18 08:00:00',\n",
       "       '2017-11-18 13:00:00', '2017-11-04 21:00:00',\n",
       "       '2017-11-04 19:00:00', '2017-11-18 15:00:00',\n",
       "       '2017-11-25 06:00:00', '2017-11-18 18:00:00',\n",
       "       '2017-11-11 21:00:00', '2017-11-11 03:00:00',\n",
       "       '2017-11-18 09:00:00', '2017-11-04 22:00:00',\n",
       "       '2017-11-25 11:00:00', '2017-11-18 19:00:00',\n",
       "       '2017-11-25 09:00:00', '2017-11-25 04:00:00',\n",
       "       '2017-11-18 00:00:00', '2017-11-11 20:00:00',\n",
       "       '2017-11-18 17:00:00', '2017-11-04 02:00:00',\n",
       "       '2017-11-18 04:00:00', '2017-11-25 15:00:00',\n",
       "       '2017-11-18 03:00:00', '2017-11-25 17:00:00',\n",
       "       '2017-11-25 19:00:00', '2017-11-04 20:00:00',\n",
       "       '2017-11-04 01:00:00', '2017-11-25 03:00:00',\n",
       "       '2017-11-25 23:00:00', '2017-11-18 21:00:00',\n",
       "       '2017-11-11 23:00:00', '2017-11-04 00:00:00',\n",
       "       '2017-11-18 20:00:00'], dtype=object)"
      ]
     },
     "execution_count": 50,
     "metadata": {},
     "output_type": "execute_result"
    }
   ],
   "source": [
    "Loop_Ohare_trip['start_ts'].unique()"
   ]
  },
  {
   "cell_type": "markdown",
   "metadata": {},
   "source": [
    "***We don't see any missing or inappropriate values in the 'Loop_Ohare_trip' dataset.***"
   ]
  },
  {
   "cell_type": "markdown",
   "metadata": {},
   "source": [
    "#### Null Hypothesis:  \n",
    "***The average duration of rides from the Loop to O'Hare International Airport is same on rainy Saturdays.***  \n",
    "#### Alternate Hypothesis:    \n",
    "***The average duration of rides from the Loop to O'Hare International Airport changes on rainy Saturdays.***"
   ]
  },
  {
   "cell_type": "code",
   "execution_count": 51,
   "metadata": {},
   "outputs": [],
   "source": [
    "#Loop_ohare_trip datas during bad weather(rain/storm)\n",
    "Loop_Ohare_trip_bad=Loop_Ohare_trip[Loop_Ohare_trip['weather_conditions']=='Bad']"
   ]
  },
  {
   "cell_type": "code",
   "execution_count": 52,
   "metadata": {},
   "outputs": [
    {
     "data": {
      "text/html": [
       "<div>\n",
       "<style scoped>\n",
       "    .dataframe tbody tr th:only-of-type {\n",
       "        vertical-align: middle;\n",
       "    }\n",
       "\n",
       "    .dataframe tbody tr th {\n",
       "        vertical-align: top;\n",
       "    }\n",
       "\n",
       "    .dataframe thead th {\n",
       "        text-align: right;\n",
       "    }\n",
       "</style>\n",
       "<table border=\"1\" class=\"dataframe\">\n",
       "  <thead>\n",
       "    <tr style=\"text-align: right;\">\n",
       "      <th></th>\n",
       "      <th>Unnamed: 0</th>\n",
       "      <th>start_ts</th>\n",
       "      <th>weather_conditions</th>\n",
       "      <th>duration_seconds</th>\n",
       "    </tr>\n",
       "  </thead>\n",
       "  <tbody>\n",
       "    <tr>\n",
       "      <th>6</th>\n",
       "      <td>6</td>\n",
       "      <td>2017-11-04 16:00:00</td>\n",
       "      <td>Bad</td>\n",
       "      <td>2969.0</td>\n",
       "    </tr>\n",
       "    <tr>\n",
       "      <th>30</th>\n",
       "      <td>30</td>\n",
       "      <td>2017-11-18 12:00:00</td>\n",
       "      <td>Bad</td>\n",
       "      <td>1980.0</td>\n",
       "    </tr>\n",
       "    <tr>\n",
       "      <th>34</th>\n",
       "      <td>34</td>\n",
       "      <td>2017-11-04 17:00:00</td>\n",
       "      <td>Bad</td>\n",
       "      <td>2460.0</td>\n",
       "    </tr>\n",
       "    <tr>\n",
       "      <th>51</th>\n",
       "      <td>51</td>\n",
       "      <td>2017-11-04 16:00:00</td>\n",
       "      <td>Bad</td>\n",
       "      <td>2760.0</td>\n",
       "    </tr>\n",
       "    <tr>\n",
       "      <th>52</th>\n",
       "      <td>52</td>\n",
       "      <td>2017-11-18 12:00:00</td>\n",
       "      <td>Bad</td>\n",
       "      <td>2460.0</td>\n",
       "    </tr>\n",
       "    <tr>\n",
       "      <th>...</th>\n",
       "      <td>...</td>\n",
       "      <td>...</td>\n",
       "      <td>...</td>\n",
       "      <td>...</td>\n",
       "    </tr>\n",
       "    <tr>\n",
       "      <th>1031</th>\n",
       "      <td>1031</td>\n",
       "      <td>2017-11-18 12:00:00</td>\n",
       "      <td>Bad</td>\n",
       "      <td>2560.0</td>\n",
       "    </tr>\n",
       "    <tr>\n",
       "      <th>1032</th>\n",
       "      <td>1032</td>\n",
       "      <td>2017-11-18 10:00:00</td>\n",
       "      <td>Bad</td>\n",
       "      <td>1908.0</td>\n",
       "    </tr>\n",
       "    <tr>\n",
       "      <th>1053</th>\n",
       "      <td>1053</td>\n",
       "      <td>2017-11-18 12:00:00</td>\n",
       "      <td>Bad</td>\n",
       "      <td>2400.0</td>\n",
       "    </tr>\n",
       "    <tr>\n",
       "      <th>1061</th>\n",
       "      <td>1061</td>\n",
       "      <td>2017-11-18 16:00:00</td>\n",
       "      <td>Bad</td>\n",
       "      <td>2186.0</td>\n",
       "    </tr>\n",
       "    <tr>\n",
       "      <th>1067</th>\n",
       "      <td>1067</td>\n",
       "      <td>2017-11-04 16:00:00</td>\n",
       "      <td>Bad</td>\n",
       "      <td>2834.0</td>\n",
       "    </tr>\n",
       "  </tbody>\n",
       "</table>\n",
       "<p>180 rows × 4 columns</p>\n",
       "</div>"
      ],
      "text/plain": [
       "      Unnamed: 0             start_ts weather_conditions  duration_seconds\n",
       "6              6  2017-11-04 16:00:00                Bad            2969.0\n",
       "30            30  2017-11-18 12:00:00                Bad            1980.0\n",
       "34            34  2017-11-04 17:00:00                Bad            2460.0\n",
       "51            51  2017-11-04 16:00:00                Bad            2760.0\n",
       "52            52  2017-11-18 12:00:00                Bad            2460.0\n",
       "...          ...                  ...                ...               ...\n",
       "1031        1031  2017-11-18 12:00:00                Bad            2560.0\n",
       "1032        1032  2017-11-18 10:00:00                Bad            1908.0\n",
       "1053        1053  2017-11-18 12:00:00                Bad            2400.0\n",
       "1061        1061  2017-11-18 16:00:00                Bad            2186.0\n",
       "1067        1067  2017-11-04 16:00:00                Bad            2834.0\n",
       "\n",
       "[180 rows x 4 columns]"
      ]
     },
     "execution_count": 52,
     "metadata": {},
     "output_type": "execute_result"
    }
   ],
   "source": [
    "Loop_Ohare_trip_bad"
   ]
  },
  {
   "cell_type": "code",
   "execution_count": 53,
   "metadata": {},
   "outputs": [],
   "source": [
    "#Loop_ohare_trip datas during good weather\n",
    "Loop_Ohare_trip_good=Loop_Ohare_trip[Loop_Ohare_trip['weather_conditions']=='Good']"
   ]
  },
  {
   "cell_type": "code",
   "execution_count": 54,
   "metadata": {},
   "outputs": [
    {
     "data": {
      "text/html": [
       "<div>\n",
       "<style scoped>\n",
       "    .dataframe tbody tr th:only-of-type {\n",
       "        vertical-align: middle;\n",
       "    }\n",
       "\n",
       "    .dataframe tbody tr th {\n",
       "        vertical-align: top;\n",
       "    }\n",
       "\n",
       "    .dataframe thead th {\n",
       "        text-align: right;\n",
       "    }\n",
       "</style>\n",
       "<table border=\"1\" class=\"dataframe\">\n",
       "  <thead>\n",
       "    <tr style=\"text-align: right;\">\n",
       "      <th></th>\n",
       "      <th>Unnamed: 0</th>\n",
       "      <th>start_ts</th>\n",
       "      <th>weather_conditions</th>\n",
       "      <th>duration_seconds</th>\n",
       "    </tr>\n",
       "  </thead>\n",
       "  <tbody>\n",
       "    <tr>\n",
       "      <th>0</th>\n",
       "      <td>0</td>\n",
       "      <td>2017-11-25 16:00:00</td>\n",
       "      <td>Good</td>\n",
       "      <td>2410.0</td>\n",
       "    </tr>\n",
       "    <tr>\n",
       "      <th>1</th>\n",
       "      <td>1</td>\n",
       "      <td>2017-11-25 14:00:00</td>\n",
       "      <td>Good</td>\n",
       "      <td>1920.0</td>\n",
       "    </tr>\n",
       "    <tr>\n",
       "      <th>2</th>\n",
       "      <td>2</td>\n",
       "      <td>2017-11-25 12:00:00</td>\n",
       "      <td>Good</td>\n",
       "      <td>1543.0</td>\n",
       "    </tr>\n",
       "    <tr>\n",
       "      <th>3</th>\n",
       "      <td>3</td>\n",
       "      <td>2017-11-04 10:00:00</td>\n",
       "      <td>Good</td>\n",
       "      <td>2512.0</td>\n",
       "    </tr>\n",
       "    <tr>\n",
       "      <th>4</th>\n",
       "      <td>4</td>\n",
       "      <td>2017-11-11 07:00:00</td>\n",
       "      <td>Good</td>\n",
       "      <td>1440.0</td>\n",
       "    </tr>\n",
       "    <tr>\n",
       "      <th>...</th>\n",
       "      <td>...</td>\n",
       "      <td>...</td>\n",
       "      <td>...</td>\n",
       "      <td>...</td>\n",
       "    </tr>\n",
       "    <tr>\n",
       "      <th>1062</th>\n",
       "      <td>1062</td>\n",
       "      <td>2017-11-11 06:00:00</td>\n",
       "      <td>Good</td>\n",
       "      <td>1500.0</td>\n",
       "    </tr>\n",
       "    <tr>\n",
       "      <th>1063</th>\n",
       "      <td>1063</td>\n",
       "      <td>2017-11-25 11:00:00</td>\n",
       "      <td>Good</td>\n",
       "      <td>0.0</td>\n",
       "    </tr>\n",
       "    <tr>\n",
       "      <th>1064</th>\n",
       "      <td>1064</td>\n",
       "      <td>2017-11-11 10:00:00</td>\n",
       "      <td>Good</td>\n",
       "      <td>1318.0</td>\n",
       "    </tr>\n",
       "    <tr>\n",
       "      <th>1065</th>\n",
       "      <td>1065</td>\n",
       "      <td>2017-11-11 13:00:00</td>\n",
       "      <td>Good</td>\n",
       "      <td>2100.0</td>\n",
       "    </tr>\n",
       "    <tr>\n",
       "      <th>1066</th>\n",
       "      <td>1066</td>\n",
       "      <td>2017-11-11 08:00:00</td>\n",
       "      <td>Good</td>\n",
       "      <td>1380.0</td>\n",
       "    </tr>\n",
       "  </tbody>\n",
       "</table>\n",
       "<p>888 rows × 4 columns</p>\n",
       "</div>"
      ],
      "text/plain": [
       "      Unnamed: 0             start_ts weather_conditions  duration_seconds\n",
       "0              0  2017-11-25 16:00:00               Good            2410.0\n",
       "1              1  2017-11-25 14:00:00               Good            1920.0\n",
       "2              2  2017-11-25 12:00:00               Good            1543.0\n",
       "3              3  2017-11-04 10:00:00               Good            2512.0\n",
       "4              4  2017-11-11 07:00:00               Good            1440.0\n",
       "...          ...                  ...                ...               ...\n",
       "1062        1062  2017-11-11 06:00:00               Good            1500.0\n",
       "1063        1063  2017-11-25 11:00:00               Good               0.0\n",
       "1064        1064  2017-11-11 10:00:00               Good            1318.0\n",
       "1065        1065  2017-11-11 13:00:00               Good            2100.0\n",
       "1066        1066  2017-11-11 08:00:00               Good            1380.0\n",
       "\n",
       "[888 rows x 4 columns]"
      ]
     },
     "execution_count": 54,
     "metadata": {},
     "output_type": "execute_result"
    }
   ],
   "source": [
    "Loop_Ohare_trip_good"
   ]
  },
  {
   "cell_type": "markdown",
   "metadata": {},
   "source": [
    "***Perform Levene’s Test in Python to determine whether or not the two datasets have equal variances.***"
   ]
  },
  {
   "cell_type": "code",
   "execution_count": 55,
   "metadata": {},
   "outputs": [
    {
     "data": {
      "text/plain": [
       "LeveneResult(statistic=0.38853489683656073, pvalue=0.5332038671974493)"
      ]
     },
     "execution_count": 55,
     "metadata": {},
     "output_type": "execute_result"
    }
   ],
   "source": [
    "alpha = 0.05  # critical statistical significance level\n",
    "\n",
    "st.levene(Loop_Ohare_trip_good['duration_seconds'],Loop_Ohare_trip_bad['duration_seconds'], center='median')"
   ]
  },
  {
   "cell_type": "markdown",
   "metadata": {},
   "source": [
    "***pvalue not being less than 0.05 means our null hypothesis(the two datasets have equal variances) would not be rejected.***"
   ]
  },
  {
   "cell_type": "markdown",
   "metadata": {},
   "source": [
    "***In order to test our hypothesis that the means of the two statistical populations are equal based on samples taken from them, apply the method scipy.stats.ttest_ind(array1, array2, equal_var)***"
   ]
  },
  {
   "cell_type": "code",
   "execution_count": 56,
   "metadata": {},
   "outputs": [
    {
     "name": "stdout",
     "output_type": "stream",
     "text": [
      "p-value:  6.517970327099473e-12\n",
      "We reject the null hypothesis\n"
     ]
    }
   ],
   "source": [
    "results = st.ttest_ind(Loop_Ohare_trip_good['duration_seconds'],Loop_Ohare_trip_bad['duration_seconds'])\n",
    "\n",
    "print('p-value: ', results.pvalue)\n",
    "\n",
    "if results.pvalue < alpha:\n",
    "    print(\"We reject the null hypothesis\")\n",
    "else:\n",
    "    print(\"We can't reject the null hypothesis\") "
   ]
  },
  {
   "cell_type": "markdown",
   "metadata": {},
   "source": [
    "***p-value > alpha(0.05) means our null hypothesis is rejected i.e  \n",
    "'The average duration of rides from the Loop to O'Hare International Airport is same on rainy Saturdays' is rejected which in turn accepts our alternate hypothesis 'The average duration of rides from the Loop to O'Hare International Airport changes on rainy Saturdays.'***"
   ]
  },
  {
   "cell_type": "markdown",
   "metadata": {},
   "source": [
    "<a id='end'></a>"
   ]
  },
  {
   "cell_type": "markdown",
   "metadata": {},
   "source": [
    "# Final Conclusion:  \n",
    "Based on our analysis ,  \n",
    "***1.'Loop' and 'River North' are the potential locations to start our business from.  \n",
    "2.Fresh Cab looks to be the strongest competitor .Since its based on just 2 days , we need more data to  \n",
    "make a decision upon it.  \n",
    "3.Based on our hypothesis testing ,rainy saturdays do impact the duration of the ride in Loop-O'hare  \n",
    "neighborhood for dropoff.More datas like start/pic up neighborhood , datas on weekdays ,sundays.. will  \n",
    "help to make a strong decision with respect to weather conditions affecting the duration .***"
   ]
  },
  {
   "cell_type": "markdown",
   "metadata": {},
   "source": [
    "[Back to contents](#back)"
   ]
  }
 ],
 "metadata": {
  "ExecuteTimeLog": [
   {
    "duration": 580,
    "start_time": "2022-01-26T03:01:58.289Z"
   },
   {
    "duration": 26,
    "start_time": "2022-01-26T03:01:58.984Z"
   },
   {
    "duration": 15,
    "start_time": "2022-01-26T03:02:00.095Z"
   },
   {
    "duration": 6,
    "start_time": "2022-01-26T03:02:19.441Z"
   },
   {
    "duration": 356,
    "start_time": "2022-01-26T03:05:36.436Z"
   },
   {
    "duration": 37,
    "start_time": "2022-01-26T03:05:50.451Z"
   },
   {
    "duration": 8,
    "start_time": "2022-01-26T03:05:51.349Z"
   },
   {
    "duration": 6,
    "start_time": "2022-01-26T03:06:13.492Z"
   },
   {
    "duration": 8,
    "start_time": "2022-01-26T03:13:04.479Z"
   },
   {
    "duration": 544,
    "start_time": "2022-01-26T03:23:09.621Z"
   },
   {
    "duration": 1445,
    "start_time": "2022-01-26T03:24:33.652Z"
   },
   {
    "duration": 1698,
    "start_time": "2022-01-26T03:26:18.937Z"
   },
   {
    "duration": 1602,
    "start_time": "2022-01-26T03:31:14.946Z"
   },
   {
    "duration": 4,
    "start_time": "2022-01-26T03:32:03.614Z"
   },
   {
    "duration": 7,
    "start_time": "2022-01-26T03:32:15.376Z"
   },
   {
    "duration": 1576,
    "start_time": "2022-01-26T03:32:43.931Z"
   },
   {
    "duration": 4,
    "start_time": "2022-01-26T03:32:56.322Z"
   },
   {
    "duration": 7,
    "start_time": "2022-01-26T03:32:57.690Z"
   },
   {
    "duration": 1560,
    "start_time": "2022-01-26T03:33:03.179Z"
   },
   {
    "duration": 1626,
    "start_time": "2022-01-26T03:33:04.741Z"
   },
   {
    "duration": 364,
    "start_time": "2022-01-26T03:33:39.957Z"
   },
   {
    "duration": 260,
    "start_time": "2022-01-26T04:06:28.280Z"
   },
   {
    "duration": 1752,
    "start_time": "2022-01-26T04:06:34.617Z"
   },
   {
    "duration": 1764,
    "start_time": "2022-01-26T04:07:34.036Z"
   },
   {
    "duration": 47,
    "start_time": "2022-01-26T04:07:50.379Z"
   },
   {
    "duration": 9,
    "start_time": "2022-01-26T04:07:54.472Z"
   },
   {
    "duration": 6,
    "start_time": "2022-01-26T04:09:11.240Z"
   },
   {
    "duration": 6,
    "start_time": "2022-01-26T04:09:59.533Z"
   },
   {
    "duration": 6206,
    "start_time": "2022-01-26T04:15:18.002Z"
   },
   {
    "duration": 6,
    "start_time": "2022-01-26T04:15:45.142Z"
   },
   {
    "duration": 6138,
    "start_time": "2022-01-26T04:15:51.212Z"
   },
   {
    "duration": 6,
    "start_time": "2022-01-26T04:17:37.271Z"
   },
   {
    "duration": 18,
    "start_time": "2022-01-26T04:17:38.562Z"
   },
   {
    "duration": 5,
    "start_time": "2022-01-26T04:18:06.721Z"
   },
   {
    "duration": 16,
    "start_time": "2022-01-26T04:18:18.360Z"
   },
   {
    "duration": 8,
    "start_time": "2022-01-26T04:20:09.163Z"
   },
   {
    "duration": 266,
    "start_time": "2022-01-26T04:23:59.244Z"
   },
   {
    "duration": 8085,
    "start_time": "2022-01-26T04:24:46.872Z"
   },
   {
    "duration": 6,
    "start_time": "2022-01-26T04:25:09.151Z"
   },
   {
    "duration": 5,
    "start_time": "2022-01-26T04:30:56.471Z"
   },
   {
    "duration": 2144,
    "start_time": "2022-01-26T05:15:08.416Z"
   },
   {
    "duration": 2161,
    "start_time": "2022-01-26T05:15:34.429Z"
   },
   {
    "duration": 6,
    "start_time": "2022-01-26T05:21:08.899Z"
   },
   {
    "duration": 11,
    "start_time": "2022-01-26T05:22:16.066Z"
   },
   {
    "duration": 6,
    "start_time": "2022-01-26T05:22:34.104Z"
   },
   {
    "duration": 6,
    "start_time": "2022-01-26T05:23:14.059Z"
   },
   {
    "duration": 5,
    "start_time": "2022-01-26T05:24:17.076Z"
   },
   {
    "duration": 5,
    "start_time": "2022-01-26T05:25:56.415Z"
   },
   {
    "duration": 5,
    "start_time": "2022-01-26T05:26:38.910Z"
   },
   {
    "duration": 4,
    "start_time": "2022-01-26T05:41:11.505Z"
   },
   {
    "duration": 6,
    "start_time": "2022-01-26T05:52:14.505Z"
   },
   {
    "duration": 8,
    "start_time": "2022-01-26T05:52:28.631Z"
   },
   {
    "duration": 5,
    "start_time": "2022-01-26T05:52:59.246Z"
   },
   {
    "duration": 3,
    "start_time": "2022-01-26T06:14:10.116Z"
   },
   {
    "duration": 17,
    "start_time": "2022-01-26T06:14:10.965Z"
   },
   {
    "duration": 9,
    "start_time": "2022-01-26T06:14:15.940Z"
   },
   {
    "duration": 4,
    "start_time": "2022-01-26T06:14:20.715Z"
   },
   {
    "duration": 6,
    "start_time": "2022-01-26T06:14:21.913Z"
   },
   {
    "duration": 5,
    "start_time": "2022-01-26T06:14:22.827Z"
   },
   {
    "duration": 7,
    "start_time": "2022-01-26T06:14:27.629Z"
   },
   {
    "duration": 17,
    "start_time": "2022-01-26T06:14:33.105Z"
   },
   {
    "duration": 8,
    "start_time": "2022-01-26T06:14:36.324Z"
   },
   {
    "duration": 5,
    "start_time": "2022-01-26T06:14:38.249Z"
   },
   {
    "duration": 6,
    "start_time": "2022-01-26T06:14:39.329Z"
   },
   {
    "duration": 7,
    "start_time": "2022-01-26T06:14:40.773Z"
   },
   {
    "duration": 11,
    "start_time": "2022-01-26T06:14:46.064Z"
   },
   {
    "duration": 7,
    "start_time": "2022-01-26T06:14:50.586Z"
   },
   {
    "duration": 1521,
    "start_time": "2022-01-26T06:15:12.866Z"
   },
   {
    "duration": 407,
    "start_time": "2022-01-26T06:16:06.915Z"
   },
   {
    "duration": 30,
    "start_time": "2022-01-26T06:18:42.946Z"
   },
   {
    "duration": 9,
    "start_time": "2022-01-26T06:18:44.520Z"
   },
   {
    "duration": 7,
    "start_time": "2022-01-26T06:18:46.729Z"
   },
   {
    "duration": 6,
    "start_time": "2022-01-26T06:18:47.392Z"
   },
   {
    "duration": 10,
    "start_time": "2022-01-26T06:18:48.172Z"
   },
   {
    "duration": 6,
    "start_time": "2022-01-26T06:18:48.937Z"
   },
   {
    "duration": 4,
    "start_time": "2022-01-26T06:18:51.545Z"
   },
   {
    "duration": 29,
    "start_time": "2022-01-26T06:18:53.228Z"
   },
   {
    "duration": 7,
    "start_time": "2022-01-26T06:18:54.482Z"
   },
   {
    "duration": 10,
    "start_time": "2022-01-26T06:18:55.130Z"
   },
   {
    "duration": 6,
    "start_time": "2022-01-26T06:18:56.938Z"
   },
   {
    "duration": 6,
    "start_time": "2022-01-26T06:19:00.485Z"
   },
   {
    "duration": 3,
    "start_time": "2022-01-26T06:25:59.926Z"
   },
   {
    "duration": 17,
    "start_time": "2022-01-26T06:26:01.118Z"
   },
   {
    "duration": 7,
    "start_time": "2022-01-26T06:26:07.803Z"
   },
   {
    "duration": 5,
    "start_time": "2022-01-26T06:26:12.276Z"
   },
   {
    "duration": 7,
    "start_time": "2022-01-26T06:26:13.111Z"
   },
   {
    "duration": 5,
    "start_time": "2022-01-26T06:26:14.060Z"
   },
   {
    "duration": 7,
    "start_time": "2022-01-26T06:26:16.590Z"
   },
   {
    "duration": 17,
    "start_time": "2022-01-26T06:26:23.046Z"
   },
   {
    "duration": 10,
    "start_time": "2022-01-26T06:26:28.416Z"
   },
   {
    "duration": 5,
    "start_time": "2022-01-26T06:26:29.965Z"
   },
   {
    "duration": 6,
    "start_time": "2022-01-26T06:26:30.679Z"
   },
   {
    "duration": 6,
    "start_time": "2022-01-26T06:26:32.221Z"
   },
   {
    "duration": 4,
    "start_time": "2022-01-26T06:26:36.812Z"
   },
   {
    "duration": 8,
    "start_time": "2022-01-26T06:26:40.308Z"
   }
  ],
  "kernelspec": {
   "display_name": "Python 3 (ipykernel)",
   "language": "python",
   "name": "python3"
  },
  "language_info": {
   "codemirror_mode": {
    "name": "ipython",
    "version": 3
   },
   "file_extension": ".py",
   "mimetype": "text/x-python",
   "name": "python",
   "nbconvert_exporter": "python",
   "pygments_lexer": "ipython3",
   "version": "3.9.7"
  },
  "toc": {
   "base_numbering": 1,
   "nav_menu": {},
   "number_sections": true,
   "sideBar": true,
   "skip_h1_title": true,
   "title_cell": "Table of Contents",
   "title_sidebar": "Contents",
   "toc_cell": false,
   "toc_position": {},
   "toc_section_display": true,
   "toc_window_display": false
  }
 },
 "nbformat": 4,
 "nbformat_minor": 2
}
